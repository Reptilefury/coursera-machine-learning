{
  "nbformat": 4,
  "nbformat_minor": 0,
  "metadata": {
    "colab": {
      "name": "Brisk Introduction to Python.ipynb",
      "provenance": [],
      "authorship_tag": "ABX9TyNHkz35KZ4blp3q5QqU+mZg",
      "include_colab_link": true
    },
    "kernelspec": {
      "name": "python3",
      "display_name": "Python 3"
    },
    "language_info": {
      "name": "python"
    }
  },
  "cells": [
    {
      "cell_type": "markdown",
      "metadata": {
        "id": "view-in-github",
        "colab_type": "text"
      },
      "source": [
        "<a href=\"https://colab.research.google.com/github/Reptilefury/coursera-machine-learning/blob/main/Brisk_Introduction_to_Python.ipynb\" target=\"_parent\"><img src=\"https://colab.research.google.com/assets/colab-badge.svg\" alt=\"Open In Colab\"/></a>"
      ]
    },
    {
      "cell_type": "code",
      "execution_count": 1,
      "metadata": {
        "id": "hl5zd3YcFo8F"
      },
      "outputs": [],
      "source": [
        "a = 99"
      ]
    },
    {
      "cell_type": "code",
      "source": [
        "type(a)\n"
      ],
      "metadata": {
        "colab": {
          "base_uri": "https://localhost:8080/"
        },
        "id": "DF7uOVaRHNtm",
        "outputId": "661cc287-88df-4921-fdb5-4bee672fd79d"
      },
      "execution_count": 3,
      "outputs": [
        {
          "output_type": "execute_result",
          "data": {
            "text/plain": [
              "int"
            ]
          },
          "metadata": {},
          "execution_count": 3
        }
      ]
    },
    {
      "cell_type": "code",
      "source": [
        "b =99.0"
      ],
      "metadata": {
        "id": "7CSR8dOMHUMS"
      },
      "execution_count": 4,
      "outputs": []
    },
    {
      "cell_type": "code",
      "source": [
        "type(b)"
      ],
      "metadata": {
        "colab": {
          "base_uri": "https://localhost:8080/"
        },
        "id": "_hx8isBgHXX5",
        "outputId": "3406eb34-afdd-4bb9-e99f-21b6fb3a8f2d"
      },
      "execution_count": 5,
      "outputs": [
        {
          "output_type": "execute_result",
          "data": {
            "text/plain": [
              "float"
            ]
          },
          "metadata": {},
          "execution_count": 5
        }
      ]
    },
    {
      "cell_type": "code",
      "source": [
        "float('1')"
      ],
      "metadata": {
        "colab": {
          "base_uri": "https://localhost:8080/"
        },
        "id": "Gj-zIY_bHZVc",
        "outputId": "8aa14c7d-1f9f-453e-fa0d-3c861b07176a"
      },
      "execution_count": 6,
      "outputs": [
        {
          "output_type": "execute_result",
          "data": {
            "text/plain": [
              "1.0"
            ]
          },
          "metadata": {},
          "execution_count": 6
        }
      ]
    },
    {
      "cell_type": "code",
      "source": [
        "int('1')"
      ],
      "metadata": {
        "colab": {
          "base_uri": "https://localhost:8080/"
        },
        "id": "LC5Olie6HhoL",
        "outputId": "45011105-d04c-462e-fb21-17f29c2181ce"
      },
      "execution_count": 9,
      "outputs": [
        {
          "output_type": "execute_result",
          "data": {
            "text/plain": [
              "1"
            ]
          },
          "metadata": {},
          "execution_count": 9
        }
      ]
    },
    {
      "cell_type": "code",
      "source": [
        "a + b\n",
        "a * b"
      ],
      "metadata": {
        "colab": {
          "base_uri": "https://localhost:8080/"
        },
        "id": "30bNsaYRHolR",
        "outputId": "7ddbec80-2d33-44b8-8e32-004c948718f4"
      },
      "execution_count": 11,
      "outputs": [
        {
          "output_type": "execute_result",
          "data": {
            "text/plain": [
              "9801.0"
            ]
          },
          "metadata": {},
          "execution_count": 11
        }
      ]
    },
    {
      "cell_type": "code",
      "source": [
        "#Dividing an int by an int also gives a float\n",
        "1 /2"
      ],
      "metadata": {
        "colab": {
          "base_uri": "https://localhost:8080/"
        },
        "id": "gVfo4uF1H1Dc",
        "outputId": "5a399ac9-d5a0-46ce-dd12-dd8cbce2c46a"
      },
      "execution_count": 12,
      "outputs": [
        {
          "output_type": "execute_result",
          "data": {
            "text/plain": [
              "0.5"
            ]
          },
          "metadata": {},
          "execution_count": 12
        }
      ]
    },
    {
      "cell_type": "markdown",
      "source": [
        "If you only want the integer part of the division use //floor division"
      ],
      "metadata": {
        "id": "M_A0-vxNIM19"
      }
    },
    {
      "cell_type": "code",
      "source": [
        "1//2"
      ],
      "metadata": {
        "colab": {
          "base_uri": "https://localhost:8080/"
        },
        "id": "xn-nc2YDII_P",
        "outputId": "f06cde4c-b949-4229-9e12-fbd830549754"
      },
      "execution_count": 13,
      "outputs": [
        {
          "output_type": "execute_result",
          "data": {
            "text/plain": [
              "0"
            ]
          },
          "metadata": {},
          "execution_count": 13
        }
      ]
    },
    {
      "cell_type": "markdown",
      "source": [
        "Function to round off floatin point numbers "
      ],
      "metadata": {
        "id": "8rIIiNPqIZSq"
      }
    },
    {
      "cell_type": "code",
      "source": [
        "5 /2\n",
        "round(5 /2,0)"
      ],
      "metadata": {
        "colab": {
          "base_uri": "https://localhost:8080/"
        },
        "id": "IN41xYgNIUty",
        "outputId": "3fd8b7b6-032e-476d-8d8f-1a47200b5cad"
      },
      "execution_count": 16,
      "outputs": [
        {
          "output_type": "execute_result",
          "data": {
            "text/plain": [
              "2.0"
            ]
          },
          "metadata": {},
          "execution_count": 16
        }
      ]
    },
    {
      "cell_type": "markdown",
      "source": [
        "% operator gives you the remainder of an integer operator. This is also called modulus"
      ],
      "metadata": {
        "id": "Y1QXMGlyI1ab"
      }
    },
    {
      "cell_type": "code",
      "source": [
        "5 % 2"
      ],
      "metadata": {
        "colab": {
          "base_uri": "https://localhost:8080/"
        },
        "id": "NTkWpOOZIhoL",
        "outputId": "a87d83e1-08e5-429d-a8d2-cf1e3a64a631"
      },
      "execution_count": 17,
      "outputs": [
        {
          "output_type": "execute_result",
          "data": {
            "text/plain": [
              "1"
            ]
          },
          "metadata": {},
          "execution_count": 17
        }
      ]
    },
    {
      "cell_type": "code",
      "source": [
        "5 % 2.0"
      ],
      "metadata": {
        "colab": {
          "base_uri": "https://localhost:8080/"
        },
        "id": "X1jtlkCUJA9i",
        "outputId": "44e83e82-1566-4a81-ca1b-c503b37c4cae"
      },
      "execution_count": 18,
      "outputs": [
        {
          "output_type": "execute_result",
          "data": {
            "text/plain": [
              "1.0"
            ]
          },
          "metadata": {},
          "execution_count": 18
        }
      ]
    },
    {
      "cell_type": "markdown",
      "source": [
        "True and False are objects in python that are of type bool"
      ],
      "metadata": {
        "id": "32evvjvVJMF-"
      }
    },
    {
      "cell_type": "code",
      "source": [
        "type(True) #Boolean data type in Python "
      ],
      "metadata": {
        "colab": {
          "base_uri": "https://localhost:8080/"
        },
        "id": "j1cvrD35JE6z",
        "outputId": "91925899-e0d5-4d11-8b2e-c81dd9355b49"
      },
      "execution_count": 20,
      "outputs": [
        {
          "output_type": "execute_result",
          "data": {
            "text/plain": [
              "bool"
            ]
          },
          "metadata": {},
          "execution_count": 20
        }
      ]
    },
    {
      "cell_type": "code",
      "source": [
        "type(False)"
      ],
      "metadata": {
        "colab": {
          "base_uri": "https://localhost:8080/"
        },
        "id": "XD06cVjAHLjd",
        "outputId": "9c44b507-bb54-411c-a03d-91b46405d5b4"
      },
      "execution_count": 21,
      "outputs": [
        {
          "output_type": "execute_result",
          "data": {
            "text/plain": [
              "bool"
            ]
          },
          "metadata": {},
          "execution_count": 21
        }
      ]
    },
    {
      "cell_type": "code",
      "source": [
        "print(True == False)\n",
        "print(True == True)\n",
        "print(False  == False)"
      ],
      "metadata": {
        "colab": {
          "base_uri": "https://localhost:8080/"
        },
        "id": "wD4yJmivJcgp",
        "outputId": "32687bd4-7f9a-4a34-821c-5ebf060c8e5a"
      },
      "execution_count": 24,
      "outputs": [
        {
          "output_type": "stream",
          "name": "stdout",
          "text": [
            "False\n",
            "True\n",
            "True\n"
          ]
        }
      ]
    },
    {
      "cell_type": "markdown",
      "source": [
        ""
      ],
      "metadata": {
        "id": "vbRWpHlnKZcr"
      }
    },
    {
      "cell_type": "markdown",
      "source": [
        "None is a special object in python to mean that no value resulted from an operation or to mean that we do not have a value for a parameter"
      ],
      "metadata": {
        "id": "jYX3MoQwKJQA"
      }
    },
    {
      "cell_type": "code",
      "source": [
        "type(None)"
      ],
      "metadata": {
        "colab": {
          "base_uri": "https://localhost:8080/"
        },
        "id": "VSYO8RThKdM4",
        "outputId": "425e7840-1ad4-4305-b130-e0a7ea41b1ba"
      },
      "execution_count": 25,
      "outputs": [
        {
          "output_type": "execute_result",
          "data": {
            "text/plain": [
              "NoneType"
            ]
          },
          "metadata": {},
          "execution_count": 25
        }
      ]
    },
    {
      "cell_type": "code",
      "source": [
        "a  = 1 \n",
        "a "
      ],
      "metadata": {
        "colab": {
          "base_uri": "https://localhost:8080/"
        },
        "id": "-h4TOrdKKnrd",
        "outputId": "8d1e903f-7528-4c2d-c62d-c8317c488a35"
      },
      "execution_count": 26,
      "outputs": [
        {
          "output_type": "execute_result",
          "data": {
            "text/plain": [
              "1"
            ]
          },
          "metadata": {},
          "execution_count": 26
        }
      ]
    },
    {
      "cell_type": "code",
      "source": [
        "#Double == equal sign is used for testing equality \n",
        "a == 1"
      ],
      "metadata": {
        "colab": {
          "base_uri": "https://localhost:8080/"
        },
        "id": "IYVHGUmqJzGD",
        "outputId": "7972af7d-7dc6-48e4-a277-c3e14ab131b7"
      },
      "execution_count": 27,
      "outputs": [
        {
          "output_type": "execute_result",
          "data": {
            "text/plain": [
              "True"
            ]
          },
          "metadata": {},
          "execution_count": 27
        }
      ]
    },
    {
      "cell_type": "code",
      "source": [
        "a == b"
      ],
      "metadata": {
        "colab": {
          "base_uri": "https://localhost:8080/"
        },
        "id": "9MlWo57MLD1R",
        "outputId": "64e885db-0ed5-485c-e305-059619474e06"
      },
      "execution_count": 28,
      "outputs": [
        {
          "output_type": "execute_result",
          "data": {
            "text/plain": [
              "False"
            ]
          },
          "metadata": {},
          "execution_count": 28
        }
      ]
    },
    {
      "cell_type": "code",
      "source": [
        "a != 1 "
      ],
      "metadata": {
        "colab": {
          "base_uri": "https://localhost:8080/"
        },
        "id": "CC4ED7O5LH8D",
        "outputId": "95facb8f-a16f-465e-f105-27e90d8b6c41"
      },
      "execution_count": 29,
      "outputs": [
        {
          "output_type": "execute_result",
          "data": {
            "text/plain": [
              "False"
            ]
          },
          "metadata": {},
          "execution_count": 29
        }
      ]
    },
    {
      "cell_type": "code",
      "source": [
        "7 + 7"
      ],
      "metadata": {
        "colab": {
          "base_uri": "https://localhost:8080/"
        },
        "id": "FaYQz-ckLUKi",
        "outputId": "f2cbc572-bd16-4def-af7f-425eeb4ae3f3"
      },
      "execution_count": 30,
      "outputs": [
        {
          "output_type": "execute_result",
          "data": {
            "text/plain": [
              "14"
            ]
          },
          "metadata": {},
          "execution_count": 30
        }
      ]
    },
    {
      "cell_type": "code",
      "source": [
        "print(\"3 == 2 gives:\", 3 == 2)\n",
        "print(\"3 != 2 gives:\",3 != 2)\n",
        "print('2 < 3 gives:', 2<3)\n",
        "print('2>3 gives:',2>3)\n",
        "print('2<=2',2<=2)\n",
        "print('2>=2',2>=2)"
      ],
      "metadata": {
        "colab": {
          "base_uri": "https://localhost:8080/"
        },
        "id": "MamaGSJbMarE",
        "outputId": "e3666a99-1d26-4912-dead-c6cebadeb4a1"
      },
      "execution_count": 36,
      "outputs": [
        {
          "output_type": "stream",
          "name": "stdout",
          "text": [
            "3 == 2 gives: False\n",
            "3 != 2 gives: True\n",
            "2 < 3 gives: True\n",
            "2>3 gives: False\n",
            "2<=2 True\n",
            "2>=2 True\n"
          ]
        }
      ]
    },
    {
      "cell_type": "markdown",
      "source": [
        "Logical operators are like comparison operators but they ask logical questions "
      ],
      "metadata": {
        "id": "72reJh6vNiwY"
      }
    },
    {
      "cell_type": "code",
      "source": [
        "print('True and True', True and True)\n",
        "print('True and False', True and False)\n",
        "print('False and True', False and True)\n",
        "print('False and false', False and False)"
      ],
      "metadata": {
        "colab": {
          "base_uri": "https://localhost:8080/"
        },
        "id": "148fHBpQNOMB",
        "outputId": "3aa0989e-3b80-4835-8577-2af7accf482d"
      },
      "execution_count": 41,
      "outputs": [
        {
          "output_type": "stream",
          "name": "stdout",
          "text": [
            "True and True True\n",
            "True and False False\n",
            "False and True False\n",
            "False and false False\n"
          ]
        }
      ]
    },
    {
      "cell_type": "markdown",
      "source": [
        "The operator only works on a value to its left and Flips a True value to false and a false value to true"
      ],
      "metadata": {
        "id": "tvzsp3A4OnEk"
      }
    },
    {
      "cell_type": "code",
      "source": [
        "print('not True',not True)\n",
        "print('not False', not False)"
      ],
      "metadata": {
        "colab": {
          "base_uri": "https://localhost:8080/"
        },
        "id": "BpS9xEhJOXwl",
        "outputId": "9ab4c801-9e36-4a4b-d32c-033d3c46b62b"
      },
      "execution_count": 43,
      "outputs": [
        {
          "output_type": "stream",
          "name": "stdout",
          "text": [
            "not True False\n",
            "not False True\n"
          ]
        }
      ]
    },
    {
      "cell_type": "code",
      "source": [
        "my_var = 10 \n",
        "if my_var == 10:\n",
        "  print(\"This conditional statements is true\")\n",
        "  print(\"My_var does equal to 10\")"
      ],
      "metadata": {
        "colab": {
          "base_uri": "https://localhost:8080/"
        },
        "id": "rJMt5lQ1PAlL",
        "outputId": "559fa16c-8322-45ec-8654-946a29f8ea9c"
      },
      "execution_count": 45,
      "outputs": [
        {
          "output_type": "stream",
          "name": "stdout",
          "text": [
            "This conditional statements is true\n",
            "My_var does equal to 10\n"
          ]
        }
      ]
    },
    {
      "cell_type": "code",
      "source": [
        "my_var = 8 \n",
        "if my_var == 10:\n",
        "  print('This conditional statement is true!')\n",
        "  print(\"My_var does equal to true\")"
      ],
      "metadata": {
        "id": "jBncLiVMP9lA"
      },
      "execution_count": 46,
      "outputs": []
    },
    {
      "cell_type": "code",
      "source": [
        "my_var = 1 \n",
        "if my_var == 10:\n",
        "  print(\"This statement is true\")\n",
        "  print('my_var does equal to 10')\n",
        "else:\n",
        "  print('My var does not equal to 10')\n",
        "  print('This statement is not equal True')"
      ],
      "metadata": {
        "colab": {
          "base_uri": "https://localhost:8080/"
        },
        "id": "_v-1VzBQQnPA",
        "outputId": "df0ceb0f-cf84-4c4a-9541-fbbe905d4e02"
      },
      "execution_count": 48,
      "outputs": [
        {
          "output_type": "stream",
          "name": "stdout",
          "text": [
            "My var does not equal to 10\n",
            "This statement is not equal True\n"
          ]
        }
      ]
    },
    {
      "cell_type": "code",
      "source": [
        "my_var  = 12\n",
        "if my_var == 10:\n",
        "  print(\"This statement is true\")\n",
        "  print('My var does equal to 10')\n",
        "elif my_var == 12:\n",
        "    print('This statement is true')\n",
        "    print('My var does equal to 12')\n",
        "elif my_var == 11:\n",
        "    print('This statement is equal 11')\n",
        "    print('This statement is true my var does equal to 11')\n",
        "else:\n",
        "    print('All these statements are false')"
      ],
      "metadata": {
        "colab": {
          "base_uri": "https://localhost:8080/"
        },
        "id": "kpeWbs-ERNnN",
        "outputId": "2a53ff70-d896-4784-a8f1-2d4cebe7df67"
      },
      "execution_count": 51,
      "outputs": [
        {
          "output_type": "stream",
          "name": "stdout",
          "text": [
            "This statement is true\n",
            "My var does equal to 12\n"
          ]
        }
      ]
    },
    {
      "cell_type": "code",
      "source": [
        "last_but_one = 0 \n",
        "fibonnaci = 1\n",
        "while fibonnaci<1000:\n",
        "  last_but_two = last_but_one \n",
        "  last_but_one = fibonnaci\n",
        "  fibonnaci = last_but_two + last_but_one\n",
        "  print(\"largest fibonacci is < 1000\",last_but_one)"
      ],
      "metadata": {
        "colab": {
          "base_uri": "https://localhost:8080/"
        },
        "id": "HmJWrjcCSP-B",
        "outputId": "e9b4be47-5532-4c8d-d7b0-bc296fac2cd8"
      },
      "execution_count": 52,
      "outputs": [
        {
          "output_type": "stream",
          "name": "stdout",
          "text": [
            "largest fibonacci is < 1000 1\n",
            "largest fibonacci is < 1000 1\n",
            "largest fibonacci is < 1000 2\n",
            "largest fibonacci is < 1000 3\n",
            "largest fibonacci is < 1000 5\n",
            "largest fibonacci is < 1000 8\n",
            "largest fibonacci is < 1000 13\n",
            "largest fibonacci is < 1000 21\n",
            "largest fibonacci is < 1000 34\n",
            "largest fibonacci is < 1000 55\n",
            "largest fibonacci is < 1000 89\n",
            "largest fibonacci is < 1000 144\n",
            "largest fibonacci is < 1000 233\n",
            "largest fibonacci is < 1000 377\n",
            "largest fibonacci is < 1000 610\n",
            "largest fibonacci is < 1000 987\n"
          ]
        }
      ]
    },
    {
      "cell_type": "code",
      "source": [
        "my_list = [9, 4, 7, 0, 8]\n",
        "type(my_list)"
      ],
      "metadata": {
        "colab": {
          "base_uri": "https://localhost:8080/"
        },
        "id": "lylNKRgATk_z",
        "outputId": "6c667230-d41b-410e-f27e-1ef432687e06"
      },
      "execution_count": 54,
      "outputs": [
        {
          "output_type": "execute_result",
          "data": {
            "text/plain": [
              "list"
            ]
          },
          "metadata": {},
          "execution_count": 54
        }
      ]
    },
    {
      "cell_type": "markdown",
      "source": [
        "Elements in a list object can be of any type: including another list"
      ],
      "metadata": {
        "id": "VqSTWutwT265"
      }
    },
    {
      "cell_type": "code",
      "source": [
        "mixed_list = [9, 4, 7, 0, 8, True, my_list] #Creates a copy of the previous list otherwise it changes the values of the previous lists\n",
        "type(my_list)\n",
        "mixed_list"
      ],
      "metadata": {
        "colab": {
          "base_uri": "https://localhost:8080/"
        },
        "id": "cyqws9SbTugk",
        "outputId": "5a9a2a52-bfae-4fc6-b004-66d96096e9e8"
      },
      "execution_count": 60,
      "outputs": [
        {
          "output_type": "execute_result",
          "data": {
            "text/plain": [
              "[9,\n",
              " 4,\n",
              " 7,\n",
              " 0,\n",
              " 8,\n",
              " True,\n",
              " [9,\n",
              "  4,\n",
              "  7,\n",
              "  0,\n",
              "  8,\n",
              "  True,\n",
              "  [9, 4, 7, 0, 8, True, [9, 4, 7, 0, 8, True, [9, 4, 7, 0, 8]]]]]"
            ]
          },
          "metadata": {},
          "execution_count": 60
        }
      ]
    },
    {
      "cell_type": "code",
      "source": [
        "#We can use a for loop to iterate over a list\n",
        "for e in my_list:\n",
        "  print(e) \n",
        "\n",
        "for e in mixed_list:\n",
        "  print(e)"
      ],
      "metadata": {
        "colab": {
          "base_uri": "https://localhost:8080/"
        },
        "id": "9gjF_4oiUXnA",
        "outputId": "2c936703-5082-45ea-accf-c6ecc19167f0"
      },
      "execution_count": 62,
      "outputs": [
        {
          "output_type": "stream",
          "name": "stdout",
          "text": [
            "9\n",
            "4\n",
            "7\n",
            "0\n",
            "8\n",
            "True\n",
            "[9, 4, 7, 0, 8, True, [9, 4, 7, 0, 8, True, [9, 4, 7, 0, 8]]]\n",
            "9\n",
            "4\n",
            "7\n",
            "0\n",
            "8\n",
            "True\n",
            "[9, 4, 7, 0, 8, True, [9, 4, 7, 0, 8, True, [9, 4, 7, 0, 8, True, [9, 4, 7, 0, 8]]]]\n"
          ]
        }
      ]
    },
    {
      "cell_type": "code",
      "source": [
        ""
      ],
      "metadata": {
        "id": "mJQU2a7nUwBA"
      },
      "execution_count": null,
      "outputs": []
    },
    {
      "cell_type": "code",
      "source": [
        ""
      ],
      "metadata": {
        "id": "pScLSlkOUpHJ"
      },
      "execution_count": null,
      "outputs": []
    },
    {
      "cell_type": "code",
      "source": [
        ""
      ],
      "metadata": {
        "id": "aUj9Pbv-UMcD"
      },
      "execution_count": null,
      "outputs": []
    },
    {
      "cell_type": "code",
      "source": [
        ""
      ],
      "metadata": {
        "id": "tC3Cbc8uUJWM"
      },
      "execution_count": null,
      "outputs": []
    },
    {
      "cell_type": "code",
      "source": [
        ""
      ],
      "metadata": {
        "id": "G6ot-dc4UD9O"
      },
      "execution_count": null,
      "outputs": []
    },
    {
      "cell_type": "code",
      "source": [
        ""
      ],
      "metadata": {
        "id": "C5jWiNrZUC3M"
      },
      "execution_count": null,
      "outputs": []
    },
    {
      "cell_type": "code",
      "source": [
        ""
      ],
      "metadata": {
        "id": "Ow9_aasgUBEv"
      },
      "execution_count": null,
      "outputs": []
    },
    {
      "cell_type": "code",
      "source": [
        ""
      ],
      "metadata": {
        "id": "RD1O90C4TrJn"
      },
      "execution_count": null,
      "outputs": []
    },
    {
      "cell_type": "code",
      "source": [
        ""
      ],
      "metadata": {
        "id": "_C-_eR1-SKnZ"
      },
      "execution_count": null,
      "outputs": []
    },
    {
      "cell_type": "code",
      "source": [
        ""
      ],
      "metadata": {
        "id": "Ovt880rbRWkq"
      },
      "execution_count": null,
      "outputs": []
    },
    {
      "cell_type": "code",
      "source": [
        ""
      ],
      "metadata": {
        "id": "FIO66VIvRK1z"
      },
      "execution_count": null,
      "outputs": []
    },
    {
      "cell_type": "code",
      "source": [
        ""
      ],
      "metadata": {
        "id": "gFkUjw5GPsLg"
      },
      "execution_count": null,
      "outputs": []
    },
    {
      "cell_type": "code",
      "source": [
        ""
      ],
      "metadata": {
        "id": "EEiSef5fO9tb"
      },
      "execution_count": null,
      "outputs": []
    },
    {
      "cell_type": "code",
      "source": [
        ""
      ],
      "metadata": {
        "id": "c8zw9cLXOVhp"
      },
      "execution_count": null,
      "outputs": []
    },
    {
      "cell_type": "code",
      "source": [
        ""
      ],
      "metadata": {
        "id": "sVBQaI45OPTn"
      },
      "execution_count": null,
      "outputs": []
    },
    {
      "cell_type": "code",
      "source": [
        ""
      ],
      "metadata": {
        "id": "KTZ_w5JHOJxd"
      },
      "execution_count": null,
      "outputs": []
    },
    {
      "cell_type": "code",
      "source": [
        ""
      ],
      "metadata": {
        "id": "CvmMX23HNwNr"
      },
      "execution_count": null,
      "outputs": []
    },
    {
      "cell_type": "code",
      "source": [
        ""
      ],
      "metadata": {
        "id": "g5vK4WSDNH23"
      },
      "execution_count": null,
      "outputs": []
    },
    {
      "cell_type": "code",
      "source": [
        ""
      ],
      "metadata": {
        "id": "Ae6AOn7kM-7z"
      },
      "execution_count": null,
      "outputs": []
    },
    {
      "cell_type": "code",
      "source": [
        ""
      ],
      "metadata": {
        "id": "esByZVfAMz3V"
      },
      "execution_count": null,
      "outputs": []
    },
    {
      "cell_type": "code",
      "source": [
        ""
      ],
      "metadata": {
        "id": "2PENcK0FMqpn"
      },
      "execution_count": null,
      "outputs": []
    },
    {
      "cell_type": "code",
      "source": [
        ""
      ],
      "metadata": {
        "id": "bu0fSvYFMmb6"
      },
      "execution_count": null,
      "outputs": []
    }
  ]
}