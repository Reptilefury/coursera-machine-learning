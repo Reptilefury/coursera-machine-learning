{
  "nbformat": 4,
  "nbformat_minor": 0,
  "metadata": {
    "colab": {
      "name": "Nature of Nifti Images.ipynb",
      "provenance": [],
      "authorship_tag": "ABX9TyPAxtIj6c2LKsXrb88F6zPG",
      "include_colab_link": true
    },
    "kernelspec": {
      "name": "python3",
      "display_name": "Python 3"
    },
    "language_info": {
      "name": "python"
    }
  },
  "cells": [
    {
      "cell_type": "markdown",
      "metadata": {
        "id": "view-in-github",
        "colab_type": "text"
      },
      "source": [
        "<a href=\"https://colab.research.google.com/github/Reptilefury/coursera-machine-learning/blob/main/Nature_of_Nifti_Images.ipynb\" target=\"_parent\"><img src=\"https://colab.research.google.com/assets/colab-badge.svg\" alt=\"Open In Colab\"/></a>"
      ]
    },
    {
      "cell_type": "code",
      "execution_count": 1,
      "metadata": {
        "colab": {
          "base_uri": "https://localhost:8080/",
          "height": 35
        },
        "id": "XLTnwtajGzpK",
        "outputId": "69fed50e-47cd-4180-f6ec-ffe7d47c5f89"
      },
      "outputs": [
        {
          "output_type": "execute_result",
          "data": {
            "text/plain": [
              "'Neuro-Imaging is hard but a flair'"
            ],
            "application/vnd.google.colaboratory.intrinsic+json": {
              "type": "string"
            }
          },
          "metadata": {},
          "execution_count": 1
        }
      ],
      "source": [
        "my_string= \"Neuro-Imaging is hard but a flair\"\n",
        "my_string"
      ]
    },
    {
      "cell_type": "code",
      "source": [
        "type(my_string)"
      ],
      "metadata": {
        "colab": {
          "base_uri": "https://localhost:8080/"
        },
        "id": "vqmPvzhOVJsj",
        "outputId": "45ad3653-59dd-42a4-b39b-9c25833c24c7"
      },
      "execution_count": 2,
      "outputs": [
        {
          "output_type": "execute_result",
          "data": {
            "text/plain": [
              "str"
            ]
          },
          "metadata": {},
          "execution_count": 2
        }
      ]
    },
    {
      "cell_type": "code",
      "source": [
        "n = len(my_string)#The string has about 33 characters "
      ],
      "metadata": {
        "id": "hiKz1_tBVPpK"
      },
      "execution_count": 3,
      "outputs": []
    },
    {
      "cell_type": "code",
      "source": [
        "#We can print the first character of the string\n",
        "my_string[0]"
      ],
      "metadata": {
        "colab": {
          "base_uri": "https://localhost:8080/",
          "height": 35
        },
        "id": "hONWniAQVeoj",
        "outputId": "f12ff7bd-557c-4c2c-edc4-bd3eac56dd23"
      },
      "execution_count": 4,
      "outputs": [
        {
          "output_type": "execute_result",
          "data": {
            "text/plain": [
              "'N'"
            ],
            "application/vnd.google.colaboratory.intrinsic+json": {
              "type": "string"
            }
          },
          "metadata": {},
          "execution_count": 4
        }
      ]
    },
    {
      "cell_type": "code",
      "source": [
        "#Last character of the string \n",
        "last = my_string[n-1]"
      ],
      "metadata": {
        "id": "QW6w4gRtVmdx"
      },
      "execution_count": 5,
      "outputs": []
    },
    {
      "cell_type": "code",
      "source": [
        "last"
      ],
      "metadata": {
        "colab": {
          "base_uri": "https://localhost:8080/",
          "height": 35
        },
        "id": "_aWfBagPV3Nr",
        "outputId": "b6dbddb0-7f05-43a2-f1f5-92bf08904767"
      },
      "execution_count": 6,
      "outputs": [
        {
          "output_type": "execute_result",
          "data": {
            "text/plain": [
              "'r'"
            ],
            "application/vnd.google.colaboratory.intrinsic+json": {
              "type": "string"
            }
          },
          "metadata": {},
          "execution_count": 6
        }
      ]
    },
    {
      "cell_type": "code",
      "source": [
        "#Let's get the first two characters of the string\n",
        "first_two = my_string[0:2]\n",
        "first_two"
      ],
      "metadata": {
        "colab": {
          "base_uri": "https://localhost:8080/",
          "height": 35
        },
        "id": "448F1oNIV4M5",
        "outputId": "73cfbf1c-a2b3-42a4-be54-8cb3d643d630"
      },
      "execution_count": 7,
      "outputs": [
        {
          "output_type": "execute_result",
          "data": {
            "text/plain": [
              "'Ne'"
            ],
            "application/vnd.google.colaboratory.intrinsic+json": {
              "type": "string"
            }
          },
          "metadata": {},
          "execution_count": 7
        }
      ]
    },
    {
      "cell_type": "code",
      "source": [
        "#The first five characters of the string \n",
        "five = my_string[0:5]"
      ],
      "metadata": {
        "id": "TFcrfQvuWcgF"
      },
      "execution_count": 8,
      "outputs": []
    },
    {
      "cell_type": "code",
      "source": [
        "five"
      ],
      "metadata": {
        "colab": {
          "base_uri": "https://localhost:8080/",
          "height": 35
        },
        "id": "sw1I8rXzWjcf",
        "outputId": "028a035e-271c-473c-c9d8-5eb7e1ee546a"
      },
      "execution_count": 9,
      "outputs": [
        {
          "output_type": "execute_result",
          "data": {
            "text/plain": [
              "'Neuro'"
            ],
            "application/vnd.google.colaboratory.intrinsic+json": {
              "type": "string"
            }
          },
          "metadata": {},
          "execution_count": 9
        }
      ]
    },
    {
      "cell_type": "code",
      "source": [
        "#Import module for interacting with the operating system\n",
        "import os\n",
        "#Get the CWD\n",
        "cwd = os.getcwd()"
      ],
      "metadata": {
        "id": "_VoIWZ7UWj_I"
      },
      "execution_count": 10,
      "outputs": []
    },
    {
      "cell_type": "code",
      "source": [
        "print(cwd)\n",
        "loc = cwd"
      ],
      "metadata": {
        "colab": {
          "base_uri": "https://localhost:8080/"
        },
        "id": "1G3CQRRrXDux",
        "outputId": "0d141233-36d3-47f4-b7e8-570c82886064"
      },
      "execution_count": 11,
      "outputs": [
        {
          "output_type": "stream",
          "name": "stdout",
          "text": [
            "/content\n"
          ]
        }
      ]
    },
    {
      "cell_type": "code",
      "source": [
        "#with open(os.path.join(str(loc),))\n",
        "with open(\"textbook.txt\",'w') as f:\n",
        "  f.write(\"scripts', 'voxel_time_course.txt', 'model_one_voxel.Rmd', 'map_coordinates.Rmd', 'image_header_and_affine.Rmd', 'bib', 'on_modules.Rmd', 'participate.md', 'git_walk_through.Rmd', 'numpy_squeeze.Rmd', 'images_3d.Rmd', 'bonferroni_correction.Rmd', 'rotation_2d_3d.md', 'array_reductions.Rmd', 'multi_multiply.Rmd', 'validate_against_scipy.Rmd', 'keyword_arguments.Rmd', 'length_one_tuples.Rmd', 'numpy_random.Rmd', 'on_regression.Rmd', 'more_on_jupyter.Rmd', 'numpy_diag.Rmd', 'full_scripting.md', 'whole_image_statistics.Rmd', 'arrays_and_images.Rmd', 'optimizing_space.Rmd', 'the_problem.md', 'brisk_python.Rmd', 'boolean_indexing_nd.Rmd', 'printing_floating.Rmd', 'exercises.md', 'to_code.md', 'participate_grading.md', 'arrays_3d.Rmd', '.pytest_cache', 'sys_path.Rmd', 'convolution_matrices.Rmd', 'the_software.md', 'classes_and_labs.md', 'tr_and_headers.Rmd', 'dot_outer.Rmd', 'packages_namespaces.Rmd', 'data', 'why_mse_correlation.Rmd', 'resampling_with_ndimage.Rmd', 'mymodule.py', '.gitignore', 'nibabel_affines.Rmd', 'module_directories.Rmd', 'anterior_cingulate.md', 'on_loops.Rmd', 'installation_on_mac.md', 'example_module.py', 'github_dummies_homework.md', 'nibabel_apply_affine.Rmd', 'images', 'numpy_logical.Rmd', 'topics.md', 'intro.md', '_config.yml', 'installation_on_linux.md', 'github_pca_homework.md', 'glm_intro.Rmd', 'otsu_threshold.Rmd', 'reading_text.Rmd', 'using_jupyter.Rmd', 'installation.md', 'non_tr_onsets.Rmd', 'what_is_an_image.Rmd', 'comparing_arrays.Rmd', 'rotations.py', 'truthiness.Rmd', 'string_formatting.Rmd', 'pearson_functions.md', 'introducing_python.Rmd', 'diag_inverse.md', 'newaxis.Rmd', 'subplots.Rmd', '_scripts', 'introducing_nipype.Rmd', 'dipy_registration.Rmd', 'numpy_transpose.Rmd', '__pycache__', 'images_and_affines.Rmd', 'mentors.md', 'check_install.py', 'hypothesis_tests.Rmd', 'voxels_by_time.Rmd', 'docstrings.Rmd', 'tuple_unpacking.Rmd', 'subtract_means.Rmd', 'logistics.md', 'path_manipulation.Rmd', 'reshape_and_4d.Rmd', 'bibliography.md', 'slice_timing.Rmd', 'project_grading.md', '.github', 'volmeans.py', 'surviving_computers.md', 'plot_lines.Rmd', 'some_numbers.txt', 'coding_style.md', '_toc.yml', 'code', 'numpy_intro.Rmd', 'multi_model_homework.md', 'build_requirements.txt', 'mydirmod', 'arange.Rmd', '_build', 'matrix_rank.Rmd', 'validating_data.Rmd', 'using_module.Rmd', 'my_script.py', 'floating_in_text.md', 'intro_to_4d.Rmd', 'another_dir', 'test_rdmodule.py', 'list_comprehensions.Rmd', 'dot_and_outer.md', 'projects.md', 'subtract_mean_math.md', 'rdmodule.py', 'simplemod.py', 'reshape_and_3d.Rmd', '_todo.md', 'dunders.Rmd', 'numpy_meshgrid.Rmd', 'string_literals.Rmd', 'assert.Rmd', 'classes.md', 'git_workflow_exercises.md', 'slicing_with_booleans.Rmd', 'glossary.md', 'mean_test_example.Rmd', 'Makefile', 'methods_vs_functions.Rmd', 'on_convolution.Rmd', 'ds114_sub009_t2r1_conv.txt', 'on_correlation.Rmd', 'slope_with_deviations.Rmd', 'another_example.py', 'regress_one_voxel.Rmd', 'choosing_editor.md', 'index_reshape.Rmd', 'installation_on_windows.md', 'syllabus.md', 'voxel_time_courses.Rmd', 'git_videos.md', 'CNAME', 'example_data.md', 'saving_images.Rmd', 'github_glm_homework.md', '.git', 'nans.md', 'convolution_background.Rmd', 'comparing_floats.md', 'test_one_voxel.Rmd', 'boolean_indexing.Rmd', 'requirements.txt', 'diagonal_zooms.Rmd', 'on_testing.Rmd', 'allclose.Rmd', 'dipy_registration.py\")"
      ],
      "metadata": {
        "id": "_e8MrQSVXJqk"
      },
      "execution_count": 12,
      "outputs": []
    },
    {
      "cell_type": "code",
      "source": [
        "print(os.listdir(cwd))"
      ],
      "metadata": {
        "colab": {
          "base_uri": "https://localhost:8080/"
        },
        "id": "yQQzpjaRYPCq",
        "outputId": "0a2ce7be-6ff3-4d40-c93c-4203602e8465"
      },
      "execution_count": 13,
      "outputs": [
        {
          "output_type": "stream",
          "name": "stdout",
          "text": [
            "['.config', 'textbook.txt', 'sample_data']\n"
          ]
        }
      ]
    },
    {
      "cell_type": "code",
      "source": [
        "!pip install nipraxis\n",
        "import nipraxis"
      ],
      "metadata": {
        "colab": {
          "base_uri": "https://localhost:8080/"
        },
        "id": "QZXQhgqLYX17",
        "outputId": "7b5b87c5-7f02-45df-e891-c9e7566f368a"
      },
      "execution_count": 14,
      "outputs": [
        {
          "output_type": "stream",
          "name": "stdout",
          "text": [
            "Looking in indexes: https://pypi.org/simple, https://us-python.pkg.dev/colab-wheels/public/simple/\n",
            "Collecting nipraxis\n",
            "  Downloading nipraxis-0.3.5-py2.py3-none-any.whl (7.4 kB)\n",
            "Requirement already satisfied: pooch in /usr/local/lib/python3.7/dist-packages (from nipraxis) (1.6.0)\n",
            "Requirement already satisfied: numpy in /usr/local/lib/python3.7/dist-packages (from nipraxis) (1.21.6)\n",
            "Requirement already satisfied: appdirs>=1.3.0 in /usr/local/lib/python3.7/dist-packages (from pooch->nipraxis) (1.4.4)\n",
            "Requirement already satisfied: packaging>=20.0 in /usr/local/lib/python3.7/dist-packages (from pooch->nipraxis) (21.3)\n",
            "Requirement already satisfied: requests>=2.19.0 in /usr/local/lib/python3.7/dist-packages (from pooch->nipraxis) (2.23.0)\n",
            "Requirement already satisfied: pyparsing!=3.0.5,>=2.0.2 in /usr/local/lib/python3.7/dist-packages (from packaging>=20.0->pooch->nipraxis) (3.0.9)\n",
            "Requirement already satisfied: certifi>=2017.4.17 in /usr/local/lib/python3.7/dist-packages (from requests>=2.19.0->pooch->nipraxis) (2022.5.18.1)\n",
            "Requirement already satisfied: idna<3,>=2.5 in /usr/local/lib/python3.7/dist-packages (from requests>=2.19.0->pooch->nipraxis) (2.10)\n",
            "Requirement already satisfied: urllib3!=1.25.0,!=1.25.1,<1.26,>=1.21.1 in /usr/local/lib/python3.7/dist-packages (from requests>=2.19.0->pooch->nipraxis) (1.24.3)\n",
            "Requirement already satisfied: chardet<4,>=3.0.2 in /usr/local/lib/python3.7/dist-packages (from requests>=2.19.0->pooch->nipraxis) (3.0.4)\n",
            "Installing collected packages: nipraxis\n",
            "Successfully installed nipraxis-0.3.5\n"
          ]
        }
      ]
    },
    {
      "cell_type": "code",
      "source": [
        "structral_file = nipraxis.fetch_file('ds114_sub009_highres.nii')"
      ],
      "metadata": {
        "colab": {
          "base_uri": "https://localhost:8080/"
        },
        "id": "u1uBvjyUYyVx",
        "outputId": "0f4f4db6-a9a0-4dc5-9777-a4be14ced9e1"
      },
      "execution_count": 15,
      "outputs": [
        {
          "output_type": "stream",
          "name": "stderr",
          "text": [
            "Downloading file 'ds114_sub009_highres.nii' from 'https://raw.githubusercontent.com/nipraxis/nipraxis-data/0.4/ds114_sub009_highres.nii' to '/root/.cache/nipraxis/0.4'.\n"
          ]
        }
      ]
    },
    {
      "cell_type": "code",
      "source": [
        "structral_file"
      ],
      "metadata": {
        "colab": {
          "base_uri": "https://localhost:8080/",
          "height": 35
        },
        "id": "FZmKLtTIbFEY",
        "outputId": "edd43e92-962e-4fea-baba-83189e6407c1"
      },
      "execution_count": 16,
      "outputs": [
        {
          "output_type": "execute_result",
          "data": {
            "text/plain": [
              "'/root/.cache/nipraxis/0.4/ds114_sub009_highres.nii'"
            ],
            "application/vnd.google.colaboratory.intrinsic+json": {
              "type": "string"
            }
          },
          "metadata": {},
          "execution_count": 16
        }
      ]
    },
    {
      "cell_type": "code",
      "source": [
        ""
      ],
      "metadata": {
        "id": "fxW5LJBKbGmG"
      },
      "execution_count": 16,
      "outputs": []
    },
    {
      "cell_type": "code",
      "source": [
        "fobj = open(structral_file,'rb') #Python object to read data from the file into memory\n",
        "print(fobj)"
      ],
      "metadata": {
        "colab": {
          "base_uri": "https://localhost:8080/"
        },
        "id": "Nl7Q4X4YZIwr",
        "outputId": "c0c78a1e-fae1-4f99-f9a1-10b02c3045df"
      },
      "execution_count": 17,
      "outputs": [
        {
          "output_type": "stream",
          "name": "stdout",
          "text": [
            "<_io.BufferedReader name='/root/.cache/nipraxis/0.4/ds114_sub009_highres.nii'>\n"
          ]
        }
      ]
    },
    {
      "cell_type": "code",
      "source": [
        "contents= fobj.read()"
      ],
      "metadata": {
        "id": "Vh6gH-ZBZ2q_"
      },
      "execution_count": 18,
      "outputs": []
    },
    {
      "cell_type": "code",
      "source": [
        "type(contents)"
      ],
      "metadata": {
        "colab": {
          "base_uri": "https://localhost:8080/"
        },
        "id": "iCg7U0xwaJBU",
        "outputId": "d7efbf51-2cd9-4d2d-bd6b-94016b7c0da6"
      },
      "execution_count": 19,
      "outputs": [
        {
          "output_type": "execute_result",
          "data": {
            "text/plain": [
              "bytes"
            ]
          },
          "metadata": {},
          "execution_count": 19
        }
      ]
    },
    {
      "cell_type": "code",
      "source": [
        "len(contents)"
      ],
      "metadata": {
        "colab": {
          "base_uri": "https://localhost:8080/"
        },
        "id": "gADmZ7QOaSKa",
        "outputId": "6fda4e46-d191-4ee0-8f81-757c176a8ef4"
      },
      "execution_count": 20,
      "outputs": [
        {
          "output_type": "execute_result",
          "data": {
            "text/plain": [
              "40894816"
            ]
          },
          "metadata": {},
          "execution_count": 20
        }
      ]
    },
    {
      "cell_type": "code",
      "source": [
        "contents[70:70]"
      ],
      "metadata": {
        "colab": {
          "base_uri": "https://localhost:8080/"
        },
        "id": "5Su951UOdhoG",
        "outputId": "207a81b8-81a7-41a7-9365-9c247164f925"
      },
      "execution_count": 21,
      "outputs": [
        {
          "output_type": "execute_result",
          "data": {
            "text/plain": [
              "b''"
            ]
          },
          "metadata": {},
          "execution_count": 21
        }
      ]
    },
    {
      "cell_type": "code",
      "source": [
        ""
      ],
      "metadata": {
        "id": "tMTMLngRdh_Z"
      },
      "execution_count": 21,
      "outputs": []
    },
    {
      "cell_type": "code",
      "source": [
        "contents[:352]"
      ],
      "metadata": {
        "colab": {
          "base_uri": "https://localhost:8080/"
        },
        "id": "TmonDLY6achz",
        "outputId": "87c7788a-5324-4bb5-8508-e586ef8751d1"
      },
      "execution_count": 22,
      "outputs": [
        {
          "output_type": "execute_result",
          "data": {
            "text/plain": [
              "b'\\\\\\x01\\x00\\x00\\x00\\x00\\x00\\x00\\x00\\x00\\x00\\x00\\x00\\x00\\x00\\x00\\x00\\x00\\x00\\x00\\x00\\x00\\x00\\x00\\x00\\x00\\x00\\x00\\x00\\x00\\x00\\x00\\x00\\x00\\x00\\x00\\x00\\x00r\\x00\\x03\\x00\\x00\\x01\\x9c\\x00\\x00\\x01\\x01\\x00\\x01\\x00\\x01\\x00\\x01\\x00\\x00\\x00\\x00\\x00\\x00\\x00\\x00\\x00\\x00\\x00\\x00\\x00\\x00\\x00\\x10\\x00 \\x00\\x00\\x00\\x00\\x00\\x80?\\x00\\x00\\x80?\\xafm\\xa6?\\x00\\x00\\x80?\\xa3@\\x1f<\\x00\\x00\\x00\\x00\\x00\\x00\\x00\\x00\\x00\\x00\\x00\\x00\\x00\\x00\\xb0C\\x00\\x00\\x80?\\x00\\x00\\x00\\x00\\x00\\x00\\x00\\n\\x00\\x00\\x00\\x00\\x00\\x00\\x00\\x00\\x00\\x00\\x00\\x00\\x00\\x00\\x00\\x00\\x00\\x00\\x00\\x00\\x00\\x00\\x00\\x00FSL5.0\\x00\\x00\\x00\\x00\\x00\\x00\\x00\\x00\\x00\\x00\\x00\\x00\\x00\\x00\\x00\\x00\\x00\\x00\\x00\\x00\\x00\\x00\\x00\\x00\\x00\\x00\\x00\\x00\\x00\\x00\\x00\\x00\\x00\\x00\\x00\\x00\\x00\\x00\\x00\\x00\\x00\\x00\\x00\\x00\\x00\\x00\\x00\\x00\\x00\\x00\\x00\\x00\\x00\\x00\\x00\\x00\\x00\\x00\\x00\\x00\\x00\\x00\\x00\\x00\\x00\\x00\\x00\\x00\\x00\\x00\\x00\\x00\\x00\\x00\\x00\\x00\\x00\\x00\\x00\\x00\\x00\\x00\\x00\\x00\\x00\\x00\\x00\\x00\\x00\\x00\\x00\\x00\\x00\\x00\\x00\\x00\\x00\\x00\\x01\\x00\\x01\\x00}\\x96\\xf0\\xbd:w\\x05<X+\\xb8<c\\xd3\\x01\\xc3_.\\xee\\xc2\\xf3j\\x0f\\xc3\\x0f\\xb5\\x7f?\\xe8\\xecw\\xbd\\xc5\\x812<c\\xd3\\x01\\xc3\\xbe\\x00/=\\xad\\xaa\\xa1?T:o>_.\\xee\\xc2\\xbd\\xc0\\xaf\\xbcu\\t\\x9b\\xbey\\xe6x?\\xf3j\\x0f\\xc3\\x00\\x00\\x00\\x00\\x00\\x00\\x00\\x00\\x00\\x00\\x00\\x00\\x00\\x00\\x00\\x00n+1\\x00\\x00\\x00\\x00\\x00'"
            ]
          },
          "metadata": {},
          "execution_count": 22
        }
      ]
    },
    {
      "cell_type": "code",
      "source": [
        ""
      ],
      "metadata": {
        "id": "wWwkM0q7de5m"
      },
      "execution_count": 22,
      "outputs": []
    },
    {
      "cell_type": "code",
      "source": [
        ""
      ],
      "metadata": {
        "id": "niNNyDQScZGe"
      },
      "execution_count": 22,
      "outputs": []
    },
    {
      "cell_type": "code",
      "source": [
        "fmt_specifier = \"h\""
      ],
      "metadata": {
        "id": "T5EWUS8CbWFC"
      },
      "execution_count": 23,
      "outputs": []
    },
    {
      "cell_type": "code",
      "source": [
        "data_type_chars = contents[70:70]"
      ],
      "metadata": {
        "id": "rsFtNxwdcBly"
      },
      "execution_count": 24,
      "outputs": []
    },
    {
      "cell_type": "code",
      "source": [
        ""
      ],
      "metadata": {
        "id": "uS3Tm_MMcU_S"
      },
      "execution_count": 24,
      "outputs": []
    },
    {
      "cell_type": "code",
      "source": [
        "import struct\n",
        "#datatype = struct.unpack(fmt_specifier, data_type_chars)"
      ],
      "metadata": {
        "id": "gC4aIj8dcWb3"
      },
      "execution_count": 25,
      "outputs": []
    },
    {
      "cell_type": "code",
      "source": [
        "import nibabel"
      ],
      "metadata": {
        "id": "kv38DwN9dvHL"
      },
      "execution_count": 26,
      "outputs": []
    },
    {
      "cell_type": "code",
      "source": [
        "print(nibabel.__version__)"
      ],
      "metadata": {
        "colab": {
          "base_uri": "https://localhost:8080/"
        },
        "id": "ns1H2hjXd0RJ",
        "outputId": "3da0f903-837e-466a-cd0e-33fc70d88e12"
      },
      "execution_count": 27,
      "outputs": [
        {
          "output_type": "stream",
          "name": "stdout",
          "text": [
            "3.0.2\n"
          ]
        }
      ]
    },
    {
      "cell_type": "code",
      "source": [
        "#Load the medical image with nibabel and check the type\n",
        "image = nibabel.load(structral_file)\n",
        "type(image) #Type is nibabel.nifti1.Nifti1Image"
      ],
      "metadata": {
        "colab": {
          "base_uri": "https://localhost:8080/"
        },
        "id": "J1TEojafd9-q",
        "outputId": "9bcd07ae-f2af-4e1f-e4d3-cfe0d5646863"
      },
      "execution_count": 28,
      "outputs": [
        {
          "output_type": "execute_result",
          "data": {
            "text/plain": [
              "nibabel.nifti1.Nifti1Image"
            ]
          },
          "metadata": {},
          "execution_count": 28
        }
      ]
    },
    {
      "cell_type": "code",
      "source": [
        "print(image.header) #Contains metadata"
      ],
      "metadata": {
        "colab": {
          "base_uri": "https://localhost:8080/"
        },
        "id": "q9ioNw3ad92z",
        "outputId": "a93af4b4-4c21-44bb-af65-cd190eeb4a03"
      },
      "execution_count": 29,
      "outputs": [
        {
          "output_type": "stream",
          "name": "stdout",
          "text": [
            "<class 'nibabel.nifti1.Nifti1Header'> object, endian='<'\n",
            "sizeof_hdr      : 348\n",
            "data_type       : b''\n",
            "db_name         : b''\n",
            "extents         : 0\n",
            "session_error   : 0\n",
            "regular         : b'r'\n",
            "dim_info        : 0\n",
            "dim             : [  3 256 156 256   1   1   1   1]\n",
            "intent_p1       : 0.0\n",
            "intent_p2       : 0.0\n",
            "intent_p3       : 0.0\n",
            "intent_code     : none\n",
            "datatype        : float32\n",
            "bitpix          : 32\n",
            "slice_start     : 0\n",
            "pixdim          : [1.        1.        1.3002223 1.        0.00972   0.        0.\n",
            " 0.       ]\n",
            "vox_offset      : 0.0\n",
            "scl_slope       : nan\n",
            "scl_inter       : nan\n",
            "slice_end       : 0\n",
            "slice_code      : unknown\n",
            "xyzt_units      : 10\n",
            "cal_max         : 0.0\n",
            "cal_min         : 0.0\n",
            "slice_duration  : 0.0\n",
            "toffset         : 0.0\n",
            "glmax           : 0\n",
            "glmin           : 0\n",
            "descrip         : b'FSL5.0'\n",
            "aux_file        : b''\n",
            "qform_code      : scanner\n",
            "sform_code      : scanner\n",
            "quatern_b       : -0.11747453\n",
            "quatern_c       : 0.008146102\n",
            "quatern_d       : 0.022481605\n",
            "qoffset_x       : -129.82573\n",
            "qoffset_y       : -119.09057\n",
            "qoffset_z       : -143.41777\n",
            "srow_x          : [ 9.9885648e-01 -6.0528666e-02  1.0895197e-02 -1.2982573e+02]\n",
            "srow_y          : [ 4.2725317e-02  1.2630211e+00  2.3362094e-01 -1.1909057e+02]\n",
            "srow_z          : [-2.1454209e-02 -3.0280653e-01  9.7226673e-01 -1.4341777e+02]\n",
            "intent_name     : b''\n",
            "magic           : b'n+1'\n"
          ]
        }
      ]
    },
    {
      "cell_type": "code",
      "source": [
        "#Import numpy \n",
        "import numpy \n",
        "numpy #Numpy library."
      ],
      "metadata": {
        "colab": {
          "base_uri": "https://localhost:8080/"
        },
        "id": "Ay8WHCfuenJp",
        "outputId": "cfb19757-5cd7-4777-a9f0-2cb4d0e92242"
      },
      "execution_count": 30,
      "outputs": [
        {
          "output_type": "execute_result",
          "data": {
            "text/plain": [
              "<module 'numpy' from '/usr/local/lib/python3.7/dist-packages/numpy/__init__.py'>"
            ]
          },
          "metadata": {},
          "execution_count": 30
        }
      ]
    },
    {
      "cell_type": "code",
      "source": [
        "numpy.pi # \n",
        "import numpy as np\n",
        "np.pi"
      ],
      "metadata": {
        "colab": {
          "base_uri": "https://localhost:8080/"
        },
        "id": "Nu7JbpKBfKUN",
        "outputId": "d679c71b-a78c-4f60-8aa1-8a130fe1ae06"
      },
      "execution_count": 31,
      "outputs": [
        {
          "output_type": "execute_result",
          "data": {
            "text/plain": [
              "3.141592653589793"
            ]
          },
          "metadata": {},
          "execution_count": 31
        }
      ]
    },
    {
      "cell_type": "code",
      "source": [
        "import nipraxis\n",
        "#Fetch the file stem \n",
        "stim_fname = nipraxis.fetch_file('24719.f3_beh_CHYM.csv')\n",
        "stim_fname"
      ],
      "metadata": {
        "colab": {
          "base_uri": "https://localhost:8080/",
          "height": 73
        },
        "id": "7TjJ1_2wfaA2",
        "outputId": "26d49d62-c020-4cd6-b597-663a7a716455"
      },
      "execution_count": 32,
      "outputs": [
        {
          "output_type": "stream",
          "name": "stderr",
          "text": [
            "Downloading file '24719.f3_beh_CHYM.csv' from 'https://raw.githubusercontent.com/nipraxis/nipraxis-data/0.4/24719.f3_beh_CHYM.csv' to '/root/.cache/nipraxis/0.4'.\n"
          ]
        },
        {
          "output_type": "execute_result",
          "data": {
            "text/plain": [
              "'/root/.cache/nipraxis/0.4/24719.f3_beh_CHYM.csv'"
            ],
            "application/vnd.google.colaboratory.intrinsic+json": {
              "type": "string"
            }
          },
          "metadata": {},
          "execution_count": 32
        }
      ]
    },
    {
      "cell_type": "code",
      "source": [
        "lines = open(stim_fname, 'rt').readlines()\n",
        "lines[:5]"
      ],
      "metadata": {
        "colab": {
          "base_uri": "https://localhost:8080/"
        },
        "id": "Y8WMp7speiyZ",
        "outputId": "8ed81ce3-ca61-4259-9c4d-1fdb150daa80"
      },
      "execution_count": 33,
      "outputs": [
        {
          "output_type": "execute_result",
          "data": {
            "text/plain": [
              "['response,response_time,trial_ISI,trial_shape\\n',\n",
              " 'None,0,2000,red_star\\n',\n",
              " 'None,0,1000,red_circle\\n',\n",
              " 'None,0,2500,green_triangle\\n',\n",
              " 'None,0,1500,yellow_square\\n']"
            ]
          },
          "metadata": {},
          "execution_count": 33
        }
      ]
    },
    {
      "cell_type": "code",
      "source": [
        "lines = open(stim_fname,'rt').readlines()\n",
        "lines[:5]"
      ],
      "metadata": {
        "colab": {
          "base_uri": "https://localhost:8080/"
        },
        "id": "vqkxRcuOhFEM",
        "outputId": "f6ca0049-d95a-4f3e-8b8f-42feb86ed63b"
      },
      "execution_count": 34,
      "outputs": [
        {
          "output_type": "execute_result",
          "data": {
            "text/plain": [
              "['response,response_time,trial_ISI,trial_shape\\n',\n",
              " 'None,0,2000,red_star\\n',\n",
              " 'None,0,1000,red_circle\\n',\n",
              " 'None,0,2500,green_triangle\\n',\n",
              " 'None,0,1500,yellow_square\\n']"
            ]
          },
          "metadata": {},
          "execution_count": 34
        }
      ]
    },
    {
      "cell_type": "code",
      "source": [
        "lines[:5]\n"
      ],
      "metadata": {
        "colab": {
          "base_uri": "https://localhost:8080/"
        },
        "id": "DpRJS2AYi1Rs",
        "outputId": "740f627b-88ff-459f-e4bc-d7680931f8be"
      },
      "execution_count": 35,
      "outputs": [
        {
          "output_type": "execute_result",
          "data": {
            "text/plain": [
              "['response,response_time,trial_ISI,trial_shape\\n',\n",
              " 'None,0,2000,red_star\\n',\n",
              " 'None,0,1000,red_circle\\n',\n",
              " 'None,0,2500,green_triangle\\n',\n",
              " 'None,0,1500,yellow_square\\n']"
            ]
          },
          "metadata": {},
          "execution_count": 35
        }
      ]
    },
    {
      "cell_type": "code",
      "source": [
        "#del lines[0]"
      ],
      "metadata": {
        "id": "g4V6XuRrjRgQ"
      },
      "execution_count": 36,
      "outputs": []
    },
    {
      "cell_type": "code",
      "source": [
        "lines[:5]"
      ],
      "metadata": {
        "colab": {
          "base_uri": "https://localhost:8080/"
        },
        "id": "Aw_4cH7wjUDc",
        "outputId": "4d6c4f41-0825-43a8-c58c-38148068cdb5"
      },
      "execution_count": 37,
      "outputs": [
        {
          "output_type": "execute_result",
          "data": {
            "text/plain": [
              "['response,response_time,trial_ISI,trial_shape\\n',\n",
              " 'None,0,2000,red_star\\n',\n",
              " 'None,0,1000,red_circle\\n',\n",
              " 'None,0,2500,green_triangle\\n',\n",
              " 'None,0,1500,yellow_square\\n']"
            ]
          },
          "metadata": {},
          "execution_count": 37
        }
      ]
    },
    {
      "cell_type": "code",
      "source": [
        "n_trials = len(lines)"
      ],
      "metadata": {
        "id": "Nfze3BcFjWQm"
      },
      "execution_count": 38,
      "outputs": []
    },
    {
      "cell_type": "code",
      "source": [
        "n_trials"
      ],
      "metadata": {
        "colab": {
          "base_uri": "https://localhost:8080/"
        },
        "id": "ngw2O7PWkR-d",
        "outputId": "42e785be-f853-4f6d-be36-f17d2cb37bf6"
      },
      "execution_count": 39,
      "outputs": [
        {
          "output_type": "execute_result",
          "data": {
            "text/plain": [
              "321"
            ]
          },
          "metadata": {},
          "execution_count": 39
        }
      ]
    },
    {
      "cell_type": "code",
      "source": [
        "#Use the split method to split the string at commas to give us a list of strings\n",
        "parts = lines[0].split(',')\n",
        "parts"
      ],
      "metadata": {
        "colab": {
          "base_uri": "https://localhost:8080/"
        },
        "id": "vek8vs0WhTPR",
        "outputId": "f54aab5c-6171-46c9-a56f-23502a376ada"
      },
      "execution_count": 40,
      "outputs": [
        {
          "output_type": "execute_result",
          "data": {
            "text/plain": [
              "['response', 'response_time', 'trial_ISI', 'trial_shape\\n']"
            ]
          },
          "metadata": {},
          "execution_count": 40
        }
      ]
    },
    {
      "cell_type": "code",
      "source": [
        "rt_list = [] #Respsonse time list \n",
        "isi_list = []#time between intervals list \n",
        "#for i in range(n_trials):\n",
        " # line = lines[i]\n",
        " # parts = line.split(',')\n",
        "  #rt_list.append(float(parts[1]))\n",
        "  #isi_list.append(float(parts[2]))\n",
        "\n",
        "#Show the first trial ISIs\n",
        "isi_list[:5]"
      ],
      "metadata": {
        "colab": {
          "base_uri": "https://localhost:8080/"
        },
        "id": "ZPKHDB0clAB8",
        "outputId": "34556b91-44ee-4b0c-afcf-9ba031c5c624"
      },
      "execution_count": 41,
      "outputs": [
        {
          "output_type": "execute_result",
          "data": {
            "text/plain": [
              "[]"
            ]
          },
          "metadata": {},
          "execution_count": 41
        }
      ]
    },
    {
      "cell_type": "code",
      "source": [
        ""
      ],
      "metadata": {
        "id": "cDLz_-ZqrnmR"
      },
      "execution_count": 41,
      "outputs": []
    },
    {
      "cell_type": "code",
      "source": [
        "#We need arrays to help us process data\n",
        "isi_array = np.array(isi_list)\n",
        "isi_array"
      ],
      "metadata": {
        "colab": {
          "base_uri": "https://localhost:8080/"
        },
        "id": "97Nu6ENonG1g",
        "outputId": "e821f3e0-adf3-4b5e-a178-72de5094bc74"
      },
      "execution_count": 42,
      "outputs": [
        {
          "output_type": "execute_result",
          "data": {
            "text/plain": [
              "array([], dtype=float64)"
            ]
          },
          "metadata": {},
          "execution_count": 42
        }
      ]
    },
    {
      "cell_type": "code",
      "source": [
        "rt_array = np.array(rt_list)\n",
        "rt_array"
      ],
      "metadata": {
        "colab": {
          "base_uri": "https://localhost:8080/"
        },
        "id": "PRbqwzR3npQm",
        "outputId": "31fb5c48-1f37-4db5-959c-0482d07297dc"
      },
      "execution_count": 43,
      "outputs": [
        {
          "output_type": "execute_result",
          "data": {
            "text/plain": [
              "array([], dtype=float64)"
            ]
          },
          "metadata": {},
          "execution_count": 43
        }
      ]
    },
    {
      "cell_type": "code",
      "source": [
        "rt_array.shape  #Shape of the repsonse time array"
      ],
      "metadata": {
        "colab": {
          "base_uri": "https://localhost:8080/"
        },
        "id": "hWvroGZPn8C9",
        "outputId": "172fffa5-1604-4656-c328-d44d04cc2642"
      },
      "execution_count": 44,
      "outputs": [
        {
          "output_type": "execute_result",
          "data": {
            "text/plain": [
              "(0,)"
            ]
          },
          "metadata": {},
          "execution_count": 44
        }
      ]
    },
    {
      "cell_type": "code",
      "source": [
        "isi_array"
      ],
      "metadata": {
        "colab": {
          "base_uri": "https://localhost:8080/"
        },
        "id": "3qLOU6DtoF0l",
        "outputId": "86738537-97d5-42ad-d94b-b125b70a4913"
      },
      "execution_count": 45,
      "outputs": [
        {
          "output_type": "execute_result",
          "data": {
            "text/plain": [
              "array([], dtype=float64)"
            ]
          },
          "metadata": {},
          "execution_count": 45
        }
      ]
    },
    {
      "cell_type": "code",
      "source": [
        "isi_array.dtype #We cannot add a value that is not a floating point number "
      ],
      "metadata": {
        "colab": {
          "base_uri": "https://localhost:8080/"
        },
        "id": "cUWtE_ihod28",
        "outputId": "af42ccbf-b3cd-4ea1-c2d9-3f59f0cd7ad9"
      },
      "execution_count": 46,
      "outputs": [
        {
          "output_type": "execute_result",
          "data": {
            "text/plain": [
              "dtype('float64')"
            ]
          },
          "metadata": {},
          "execution_count": 46
        }
      ]
    },
    {
      "cell_type": "code",
      "source": [
        "#isi_array[0] = \"some text\"  #Raises a value  error"
      ],
      "metadata": {
        "id": "iJ3RLkMgo8rF"
      },
      "execution_count": 47,
      "outputs": []
    },
    {
      "cell_type": "code",
      "source": [
        "#Arrays are different from python lists which allow use of different data types \n",
        "py_list = [5,5,'Hi there Pi', 32]\n",
        "py_list"
      ],
      "metadata": {
        "colab": {
          "base_uri": "https://localhost:8080/"
        },
        "id": "a_8sULxZpRXN",
        "outputId": "3e996500-15ff-4758-8043-7de8e25609e7"
      },
      "execution_count": 48,
      "outputs": [
        {
          "output_type": "execute_result",
          "data": {
            "text/plain": [
              "[5, 5, 'Hi there Pi', 32]"
            ]
          },
          "metadata": {},
          "execution_count": 48
        }
      ]
    },
    {
      "cell_type": "code",
      "source": [
        "#rt_array = np.zeros(n_trials)\n",
        "#rt_array"
      ],
      "metadata": {
        "id": "KPp3KuTapuYV"
      },
      "execution_count": 49,
      "outputs": []
    },
    {
      "cell_type": "code",
      "source": [
        "#rt_array = np.zeros(n_trials)"
      ],
      "metadata": {
        "id": "930CmtpuqG9o"
      },
      "execution_count": 50,
      "outputs": []
    },
    {
      "cell_type": "code",
      "source": [
        "#rt_array"
      ],
      "metadata": {
        "id": "zRq2JteqqRDb"
      },
      "execution_count": 51,
      "outputs": []
    },
    {
      "cell_type": "code",
      "source": [
        "rt_array = np.zeros(n_trials)\n",
        "isi_array = np.zeros(n_trials)\n",
        "for i in range(1,n_trials-1):\n",
        "  line = lines[i]\n",
        "  part = line.split(',')\n",
        "  #rt_arry[i] = float(part[1])\n",
        "  isi_array[i] = float(part[2])"
      ],
      "metadata": {
        "id": "h0fwOmC-s_uk"
      },
      "execution_count": 56,
      "outputs": []
    },
    {
      "cell_type": "code",
      "source": [
        "isi_array[:5]"
      ],
      "metadata": {
        "colab": {
          "base_uri": "https://localhost:8080/"
        },
        "id": "5sK_g_rvuxdq",
        "outputId": "aa834cfa-3a85-4fc2-ff49-827af7e8d778"
      },
      "execution_count": 57,
      "outputs": [
        {
          "output_type": "execute_result",
          "data": {
            "text/plain": [
              "array([   0., 2000., 1000., 2500., 1500.])"
            ]
          },
          "metadata": {},
          "execution_count": 57
        }
      ]
    },
    {
      "cell_type": "code",
      "source": [
        "exp_onset_times = np.zeros(n_trials)\n",
        "start_time = 0 \n",
        "for i in range(0,n_trials-1):\n",
        "  start_time = start_time + isi_array[i]\n",
        "  exp_onset_times[i] = start_time"
      ],
      "metadata": {
        "id": "UWON02jGu3yx"
      },
      "execution_count": 64,
      "outputs": []
    },
    {
      "cell_type": "code",
      "source": [
        "#Show the first ten values\n",
        "exp_onset_times[:10]"
      ],
      "metadata": {
        "colab": {
          "base_uri": "https://localhost:8080/"
        },
        "id": "XjgbVH6owKYu",
        "outputId": "2f3fcd4c-4b63-4439-954f-0ed41acb7968"
      },
      "execution_count": 65,
      "outputs": [
        {
          "output_type": "execute_result",
          "data": {
            "text/plain": [
              "array([    0.,  2000.,  3000.,  5500.,  7000.,  8500., 10500., 13000.,\n",
              "       14500., 16500.])"
            ]
          },
          "metadata": {},
          "execution_count": 65
        }
      ]
    },
    {
      "cell_type": "code",
      "source": [
        "#Show the cumulative sum \n",
        "#Exponential  onset times\n",
        "exp_onset_times = np.cumsum(isi_array)\n",
        "exp_onset_times[:10]"
      ],
      "metadata": {
        "colab": {
          "base_uri": "https://localhost:8080/"
        },
        "id": "F9EYO1tFwVV8",
        "outputId": "d45b0e8d-f0ec-49a4-fad2-e04e258434fb"
      },
      "execution_count": 69,
      "outputs": [
        {
          "output_type": "execute_result",
          "data": {
            "text/plain": [
              "array([    0.,  2000.,  3000.,  5500.,  7000.,  8500., 10500., 13000.,\n",
              "       14500., 16500.])"
            ]
          },
          "metadata": {},
          "execution_count": 69
        }
      ]
    },
    {
      "cell_type": "code",
      "source": [
        "scan_onset_times = np.zeros(n_trials)\n",
        "for i in range(n_trials):\n",
        "  scan_onset_times[i] =exp_onset_times[i] + 4000\n",
        "scan_onset_times[:10]"
      ],
      "metadata": {
        "colab": {
          "base_uri": "https://localhost:8080/"
        },
        "id": "YqI2d9T8zI-1",
        "outputId": "4b4cfe15-c5cd-47e9-fe4e-cf23e95863ce"
      },
      "execution_count": 72,
      "outputs": [
        {
          "output_type": "execute_result",
          "data": {
            "text/plain": [
              "array([ 4000.,  6000.,  7000.,  9500., 11000., 12500., 14500., 17000.,\n",
              "       18500., 20500.])"
            ]
          },
          "metadata": {},
          "execution_count": 72
        }
      ]
    },
    {
      "cell_type": "code",
      "source": [
        "#Numpy can easily add a number to every element in an array \n",
        "scan_onset_times = exp_onset_times + 4000"
      ],
      "metadata": {
        "id": "jhL4VCeHz4zt"
      },
      "execution_count": 74,
      "outputs": []
    },
    {
      "cell_type": "code",
      "source": [
        "scan_onset_times[:10]"
      ],
      "metadata": {
        "colab": {
          "base_uri": "https://localhost:8080/"
        },
        "id": "UnazNVlS0K1o",
        "outputId": "dcf7285b-409a-498e-a8a9-68fe85324ea4"
      },
      "execution_count": 77,
      "outputs": [
        {
          "output_type": "execute_result",
          "data": {
            "text/plain": [
              "array([ 4000.,  6000.,  7000.,  9500., 11000., 12500., 14500., 17000.,\n",
              "       18500., 20500.])"
            ]
          },
          "metadata": {},
          "execution_count": 77
        }
      ]
    },
    {
      "cell_type": "code",
      "source": [
        "scan_length_ms = 2000\n",
        "6000 / scan_length_ms"
      ],
      "metadata": {
        "colab": {
          "base_uri": "https://localhost:8080/"
        },
        "id": "uTHbM3JU0RuO",
        "outputId": "e92efbf4-2a89-427f-cf67-14f1f02336af"
      },
      "execution_count": 80,
      "outputs": [
        {
          "output_type": "execute_result",
          "data": {
            "text/plain": [
              "3.0"
            ]
          },
          "metadata": {},
          "execution_count": 80
        }
      ]
    },
    {
      "cell_type": "code",
      "source": [
        "#With a single number numpy can divide every element by the number provides \n",
        "scan_onset_times = exp_onset_times / 6000\n",
        "scan_onset_times[:10]"
      ],
      "metadata": {
        "colab": {
          "base_uri": "https://localhost:8080/"
        },
        "id": "94LzwQa307Tq",
        "outputId": "b7e8736a-9b68-40a2-9530-29fae010273b"
      },
      "execution_count": 82,
      "outputs": [
        {
          "output_type": "execute_result",
          "data": {
            "text/plain": [
              "array([0.        , 0.33333333, 0.5       , 0.91666667, 1.16666667,\n",
              "       1.41666667, 1.75      , 2.16666667, 2.41666667, 2.75      ])"
            ]
          },
          "metadata": {},
          "execution_count": 82
        }
      ]
    },
    {
      "cell_type": "markdown",
      "source": [
        "Processing reaction times"
      ],
      "metadata": {
        "id": "GgPM82FI1VKM"
      }
    },
    {
      "cell_type": "code",
      "source": [
        "rt_array[:15]"
      ],
      "metadata": {
        "colab": {
          "base_uri": "https://localhost:8080/"
        },
        "id": "p9z-biFR1QNF",
        "outputId": "6145cf86-2c7a-4620-d99e-6bb7ed38131d"
      },
      "execution_count": 83,
      "outputs": [
        {
          "output_type": "execute_result",
          "data": {
            "text/plain": [
              "array([0., 0., 0., 0., 0., 0., 0., 0., 0., 0., 0., 0., 0., 0., 0.])"
            ]
          },
          "metadata": {},
          "execution_count": 83
        }
      ]
    },
    {
      "cell_type": "code",
      "source": [
        "scan_onset_times[:15]"
      ],
      "metadata": {
        "colab": {
          "base_uri": "https://localhost:8080/"
        },
        "id": "glo2-pAa14eH",
        "outputId": "1280f41b-fab9-46de-8fd2-c46dc08d3e32"
      },
      "execution_count": 84,
      "outputs": [
        {
          "output_type": "execute_result",
          "data": {
            "text/plain": [
              "array([0.        , 0.33333333, 0.5       , 0.91666667, 1.16666667,\n",
              "       1.41666667, 1.75      , 2.16666667, 2.41666667, 2.75      ,\n",
              "       2.91666667, 3.08333333, 3.33333333, 3.58333333, 3.91666667])"
            ]
          },
          "metadata": {},
          "execution_count": 84
        }
      ]
    },
    {
      "cell_type": "code",
      "source": [
        "scan_response_times = np.zeros(n_trials)\n",
        "for i in range(n_trials):\n",
        "  trial_onset = scan_onset_times[i]\n",
        "  this_rt = rt_array[i] \n",
        "  scan_response_times[i] = trial_onset + this_rt\n",
        "scan_response_times[i] = trial_onset + this_rt\n",
        "scan_response_times[:15]"
      ],
      "metadata": {
        "colab": {
          "base_uri": "https://localhost:8080/"
        },
        "id": "xpyTZx6s2I5t",
        "outputId": "61724169-fd1c-4d1d-b967-9d05e6e0f6b2"
      },
      "execution_count": 91,
      "outputs": [
        {
          "output_type": "execute_result",
          "data": {
            "text/plain": [
              "array([0.        , 0.33333333, 0.5       , 0.91666667, 1.16666667,\n",
              "       1.41666667, 1.75      , 2.16666667, 2.41666667, 2.75      ,\n",
              "       2.91666667, 3.08333333, 3.33333333, 3.58333333, 3.91666667])"
            ]
          },
          "metadata": {},
          "execution_count": 91
        }
      ]
    },
    {
      "cell_type": "code",
      "source": [
        "#Numpy can do element wise addition\n",
        "scan_response_times = scan_onset_times + rt_array\n",
        "scan_response_times[:15]"
      ],
      "metadata": {
        "colab": {
          "base_uri": "https://localhost:8080/"
        },
        "id": "qs8ByfCR3qIA",
        "outputId": "d3974e36-0b11-416a-d05f-4b78b5bfa6fb"
      },
      "execution_count": 94,
      "outputs": [
        {
          "output_type": "execute_result",
          "data": {
            "text/plain": [
              "array([0.        , 0.33333333, 0.5       , 0.91666667, 1.16666667,\n",
              "       1.41666667, 1.75      , 2.16666667, 2.41666667, 2.75      ,\n",
              "       2.91666667, 3.08333333, 3.33333333, 3.58333333, 3.91666667])"
            ]
          },
          "metadata": {},
          "execution_count": 94
        }
      ]
    },
    {
      "cell_type": "markdown",
      "source": [
        "Boolean arrays "
      ],
      "metadata": {
        "id": "1B9fRuQa44Dz"
      }
    },
    {
      "cell_type": "code",
      "source": [
        "#We still have a problem of 0 values indicating no response time \n",
        "#We could use boolean arrays to select values that were not equal to zero \n",
        "first_rts = rt_array[:15]\n",
        "first_rts "
      ],
      "metadata": {
        "colab": {
          "base_uri": "https://localhost:8080/"
        },
        "id": "eMhJm72R3qAx",
        "outputId": "890b795f-7033-4945-e870-09bb33ab581e"
      },
      "execution_count": 96,
      "outputs": [
        {
          "output_type": "execute_result",
          "data": {
            "text/plain": [
              "array([0., 0., 0., 0., 0., 0., 0., 0., 0., 0., 0., 0., 0., 0., 0.])"
            ]
          },
          "metadata": {},
          "execution_count": 96
        }
      ]
    },
    {
      "cell_type": "code",
      "source": [
        "#Comparisons are operators that give answers to a boolean operation \n",
        "first_rts[0] > 0 "
      ],
      "metadata": {
        "colab": {
          "base_uri": "https://localhost:8080/"
        },
        "id": "bp7G3ahf5zUJ",
        "outputId": "0fc6f305-f71a-4ed6-ffc7-b71e6029cdf2"
      },
      "execution_count": 97,
      "outputs": [
        {
          "output_type": "execute_result",
          "data": {
            "text/plain": [
              "False"
            ]
          },
          "metadata": {},
          "execution_count": 97
        }
      ]
    },
    {
      "cell_type": "code",
      "source": [
        "first_rts > 0 #Here we can see the values where the was no response "
      ],
      "metadata": {
        "colab": {
          "base_uri": "https://localhost:8080/"
        },
        "id": "7ophkjWM6eZl",
        "outputId": "21f8c15c-d383-4163-b040-0bc16969a037"
      },
      "execution_count": 99,
      "outputs": [
        {
          "output_type": "execute_result",
          "data": {
            "text/plain": [
              "array([False, False, False, False, False, False, False, False, False,\n",
              "       False, False, False, False, False, False])"
            ]
          },
          "metadata": {},
          "execution_count": 99
        }
      ]
    },
    {
      "cell_type": "code",
      "source": [
        "#The above code is the same as \n",
        "print(f\"Postion 0 :{first_rts[0]>0}\")\n",
        "print(f\"Postion 1 :{first_rts[1]>0}\")\n",
        "print(f\"Postion 2 :{first_rts[2]>0}\")\n",
        "print(f\"Postion 3 :{first_rts[3]>0}\")\n",
        "print(f\"Postion 4 :{first_rts[4]>0}\")"
      ],
      "metadata": {
        "colab": {
          "base_uri": "https://localhost:8080/"
        },
        "id": "DLRQjygm7dTZ",
        "outputId": "18748ed8-8ef2-4232-b5b1-6f7c090f4138"
      },
      "execution_count": 101,
      "outputs": [
        {
          "output_type": "stream",
          "name": "stdout",
          "text": [
            "Postion 0 :False\n",
            "Postion 1 :False\n",
            "Postion 2 :False\n",
            "Postion 3 :False\n",
            "Postion 4 :False\n"
          ]
        }
      ]
    },
    {
      "cell_type": "code",
      "source": [
        "#We can get the response time array for all reaction times by: \n",
        "rts_arry_not_zero = rt_array\n",
        "rts_arry_not_zero[:50] > 0 "
      ],
      "metadata": {
        "colab": {
          "base_uri": "https://localhost:8080/"
        },
        "id": "luEg02BG79rN",
        "outputId": "7ab5b65e-cb84-4c70-8931-3b4862679e5e"
      },
      "execution_count": 107,
      "outputs": [
        {
          "output_type": "execute_result",
          "data": {
            "text/plain": [
              "array([False, False, False, False, False, False, False, False, False,\n",
              "       False, False, False, False, False, False, False, False, False,\n",
              "       False, False, False, False, False, False, False, False, False,\n",
              "       False, False, False, False, False, False, False, False, False,\n",
              "       False, False, False, False, False, False, False, False, False,\n",
              "       False, False, False, False, False])"
            ]
          },
          "metadata": {},
          "execution_count": 107
        }
      ]
    },
    {
      "cell_type": "code",
      "source": [
        "#rt_array[rts_arry_not_zero]"
      ],
      "metadata": {
        "id": "wfHjo-J29Iov"
      },
      "execution_count": 111,
      "outputs": []
    },
    {
      "cell_type": "code",
      "source": [
        "all_times = np.zeros((n_trials,2))\n",
        "all_times.shape"
      ],
      "metadata": {
        "colab": {
          "base_uri": "https://localhost:8080/"
        },
        "id": "f_eJo71p9fNa",
        "outputId": "0fda111b-661f-4465-9a5c-6afe9b66bf58"
      },
      "execution_count": 141,
      "outputs": [
        {
          "output_type": "execute_result",
          "data": {
            "text/plain": [
              "(321, 2)"
            ]
          },
          "metadata": {},
          "execution_count": 141
        }
      ]
    },
    {
      "cell_type": "code",
      "source": [
        "all_times[:,0] = isi_array"
      ],
      "metadata": {
        "id": "UGgJQmDK7TDT"
      },
      "execution_count": 144,
      "outputs": []
    },
    {
      "cell_type": "code",
      "source": [
        "all_times[:,1] = rt_array"
      ],
      "metadata": {
        "id": "OM5G72XY_eME"
      },
      "execution_count": 145,
      "outputs": []
    },
    {
      "cell_type": "code",
      "source": [
        "all_times[:5,:] #SHow all the five rows and first five colums"
      ],
      "metadata": {
        "colab": {
          "base_uri": "https://localhost:8080/"
        },
        "id": "UIG5Dn8-_ubf",
        "outputId": "5eb50119-6cc0-4fa3-fd00-16b00eed61e6"
      },
      "execution_count": 146,
      "outputs": [
        {
          "output_type": "execute_result",
          "data": {
            "text/plain": [
              "array([[   0.,    0.],\n",
              "       [2000.,    0.],\n",
              "       [1000.,    0.],\n",
              "       [2500.,    0.],\n",
              "       [1500.,    0.]])"
            ]
          },
          "metadata": {},
          "execution_count": 146
        }
      ]
    },
    {
      "cell_type": "code",
      "source": [
        "all_times.shape"
      ],
      "metadata": {
        "colab": {
          "base_uri": "https://localhost:8080/"
        },
        "id": "glwoC55o_6ZB",
        "outputId": "5736c0a2-82e1-486e-cb5e-52aa07add5b4"
      },
      "execution_count": 147,
      "outputs": [
        {
          "output_type": "execute_result",
          "data": {
            "text/plain": [
              "(321, 2)"
            ]
          },
          "metadata": {},
          "execution_count": 147
        }
      ]
    },
    {
      "cell_type": "code",
      "source": [
        "new_shape = [n_trials * 2]"
      ],
      "metadata": {
        "id": "TN-1R7_sAO0Q"
      },
      "execution_count": 148,
      "outputs": []
    },
    {
      "cell_type": "code",
      "source": [
        "new_shape"
      ],
      "metadata": {
        "colab": {
          "base_uri": "https://localhost:8080/"
        },
        "id": "qH38oRmgAX_5",
        "outputId": "04b60be0-8f12-4791-f4d5-9d5b1efd91c4"
      },
      "execution_count": 149,
      "outputs": [
        {
          "output_type": "execute_result",
          "data": {
            "text/plain": [
              "[642]"
            ]
          },
          "metadata": {},
          "execution_count": 149
        }
      ]
    },
    {
      "cell_type": "code",
      "source": [
        "#Reshaping the array \n",
        "new_array = np.reshape(all_times,n_trials * 2)\n",
        "#new_array"
      ],
      "metadata": {
        "id": "NR3HjchAAZEC"
      },
      "execution_count": 152,
      "outputs": []
    },
    {
      "cell_type": "code",
      "source": [
        "flatten = np.reshape(all_times,[n_trials * 2])\n",
        "flatten.shape"
      ],
      "metadata": {
        "colab": {
          "base_uri": "https://localhost:8080/"
        },
        "id": "FFj2KBEGBJYZ",
        "outputId": "6ac3a15e-090b-4574-d0c9-ec38248cd804"
      },
      "execution_count": 157,
      "outputs": [
        {
          "output_type": "execute_result",
          "data": {
            "text/plain": [
              "(642,)"
            ]
          },
          "metadata": {},
          "execution_count": 157
        }
      ]
    },
    {
      "cell_type": "code",
      "source": [
        "#The first 10 values \n",
        "flatten[:10]"
      ],
      "metadata": {
        "colab": {
          "base_uri": "https://localhost:8080/"
        },
        "id": "SD91LuGTBJVb",
        "outputId": "914c39ef-efbf-419c-bded-0b071e6568c8"
      },
      "execution_count": 155,
      "outputs": [
        {
          "output_type": "execute_result",
          "data": {
            "text/plain": [
              "array([   0.,    0., 2000.,    0., 1000.,    0., 2500.,    0., 1500.,\n",
              "          0.])"
            ]
          },
          "metadata": {},
          "execution_count": 155
        }
      ]
    },
    {
      "cell_type": "code",
      "source": [
        "unflattened = np.reshape(flatten,[n_trials*2])"
      ],
      "metadata": {
        "id": "nTvSV1E0BJSW"
      },
      "execution_count": 167,
      "outputs": []
    },
    {
      "cell_type": "code",
      "source": [
        "unflattened.shape"
      ],
      "metadata": {
        "colab": {
          "base_uri": "https://localhost:8080/"
        },
        "id": "HcZmNgAJC2B9",
        "outputId": "ab909b2f-47af-4bc5-8ec9-d17529d7401d"
      },
      "execution_count": 168,
      "outputs": [
        {
          "output_type": "execute_result",
          "data": {
            "text/plain": [
              "(642,)"
            ]
          },
          "metadata": {},
          "execution_count": 168
        }
      ]
    },
    {
      "cell_type": "code",
      "source": [
        "#Show the first five rows\n",
        "#unflattened[:5,:]"
      ],
      "metadata": {
        "id": "pr4ML_73C47O"
      },
      "execution_count": 171,
      "outputs": []
    },
    {
      "cell_type": "markdown",
      "source": [
        "Arrays as images and images as arrays"
      ],
      "metadata": {
        "id": "_FxtUEidEIw5"
      }
    },
    {
      "cell_type": "code",
      "source": [
        ""
      ],
      "metadata": {
        "id": "VjzlhvotDxo4"
      },
      "execution_count": null,
      "outputs": []
    },
    {
      "cell_type": "code",
      "source": [
        ""
      ],
      "metadata": {
        "id": "CRteSHSfDy-2"
      },
      "execution_count": null,
      "outputs": []
    },
    {
      "cell_type": "code",
      "source": [
        ""
      ],
      "metadata": {
        "id": "3IDh8leFDy7r"
      },
      "execution_count": null,
      "outputs": []
    }
  ]
}