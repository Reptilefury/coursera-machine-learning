{
  "nbformat": 4,
  "nbformat_minor": 0,
  "metadata": {
    "colab": {
      "name": "Nature of Nifti Images.ipynb",
      "provenance": [],
      "authorship_tag": "ABX9TyOq2G08ssCnoeQnRTilZmom",
      "include_colab_link": true
    },
    "kernelspec": {
      "name": "python3",
      "display_name": "Python 3"
    },
    "language_info": {
      "name": "python"
    }
  },
  "cells": [
    {
      "cell_type": "markdown",
      "metadata": {
        "id": "view-in-github",
        "colab_type": "text"
      },
      "source": [
        "<a href=\"https://colab.research.google.com/github/Reptilefury/coursera-machine-learning/blob/main/Nature_of_Nifti_Images.ipynb\" target=\"_parent\"><img src=\"https://colab.research.google.com/assets/colab-badge.svg\" alt=\"Open In Colab\"/></a>"
      ]
    },
    {
      "cell_type": "code",
      "execution_count": 1,
      "metadata": {
        "colab": {
          "base_uri": "https://localhost:8080/",
          "height": 35
        },
        "id": "XLTnwtajGzpK",
        "outputId": "cbfc634c-f4df-44f4-a99c-80ccca6de001"
      },
      "outputs": [
        {
          "output_type": "execute_result",
          "data": {
            "text/plain": [
              "'Neuro-Imaging is hard but a flair'"
            ],
            "application/vnd.google.colaboratory.intrinsic+json": {
              "type": "string"
            }
          },
          "metadata": {},
          "execution_count": 1
        }
      ],
      "source": [
        "my_string= \"Neuro-Imaging is hard but a flair\"\n",
        "my_string"
      ]
    },
    {
      "cell_type": "code",
      "source": [
        "type(my_string)"
      ],
      "metadata": {
        "colab": {
          "base_uri": "https://localhost:8080/"
        },
        "id": "vqmPvzhOVJsj",
        "outputId": "8c23894e-5726-4b30-b010-923e86201c09"
      },
      "execution_count": 2,
      "outputs": [
        {
          "output_type": "execute_result",
          "data": {
            "text/plain": [
              "str"
            ]
          },
          "metadata": {},
          "execution_count": 2
        }
      ]
    },
    {
      "cell_type": "code",
      "source": [
        "n = len(my_string)#The string has about 33 characters "
      ],
      "metadata": {
        "id": "hiKz1_tBVPpK"
      },
      "execution_count": 3,
      "outputs": []
    },
    {
      "cell_type": "code",
      "source": [
        "#We can print the first character of the string\n",
        "my_string[0]"
      ],
      "metadata": {
        "colab": {
          "base_uri": "https://localhost:8080/",
          "height": 35
        },
        "id": "hONWniAQVeoj",
        "outputId": "ee490f98-b0e5-4e00-ac1f-c8908f409a1a"
      },
      "execution_count": 4,
      "outputs": [
        {
          "output_type": "execute_result",
          "data": {
            "text/plain": [
              "'N'"
            ],
            "application/vnd.google.colaboratory.intrinsic+json": {
              "type": "string"
            }
          },
          "metadata": {},
          "execution_count": 4
        }
      ]
    },
    {
      "cell_type": "code",
      "source": [
        "#Last character of the string \n",
        "last = my_string[n-1]"
      ],
      "metadata": {
        "id": "QW6w4gRtVmdx"
      },
      "execution_count": 5,
      "outputs": []
    },
    {
      "cell_type": "code",
      "source": [
        "last"
      ],
      "metadata": {
        "colab": {
          "base_uri": "https://localhost:8080/",
          "height": 35
        },
        "id": "_aWfBagPV3Nr",
        "outputId": "651fd22e-41e9-48e3-d87d-336a2c304e4d"
      },
      "execution_count": 6,
      "outputs": [
        {
          "output_type": "execute_result",
          "data": {
            "text/plain": [
              "'r'"
            ],
            "application/vnd.google.colaboratory.intrinsic+json": {
              "type": "string"
            }
          },
          "metadata": {},
          "execution_count": 6
        }
      ]
    },
    {
      "cell_type": "code",
      "source": [
        "#Let's get the first two characters of the string\n",
        "first_two = my_string[0:2]\n",
        "first_two"
      ],
      "metadata": {
        "colab": {
          "base_uri": "https://localhost:8080/",
          "height": 35
        },
        "id": "448F1oNIV4M5",
        "outputId": "eccabb34-427c-4a72-de1f-4a1fdfa72ac5"
      },
      "execution_count": 7,
      "outputs": [
        {
          "output_type": "execute_result",
          "data": {
            "text/plain": [
              "'Ne'"
            ],
            "application/vnd.google.colaboratory.intrinsic+json": {
              "type": "string"
            }
          },
          "metadata": {},
          "execution_count": 7
        }
      ]
    },
    {
      "cell_type": "code",
      "source": [
        "#The first five characters of the string \n",
        "five = my_string[0:5]"
      ],
      "metadata": {
        "id": "TFcrfQvuWcgF"
      },
      "execution_count": 8,
      "outputs": []
    },
    {
      "cell_type": "code",
      "source": [
        "five"
      ],
      "metadata": {
        "colab": {
          "base_uri": "https://localhost:8080/",
          "height": 35
        },
        "id": "sw1I8rXzWjcf",
        "outputId": "44566898-e18d-4147-cce0-0756e60c4bae"
      },
      "execution_count": 9,
      "outputs": [
        {
          "output_type": "execute_result",
          "data": {
            "text/plain": [
              "'Neuro'"
            ],
            "application/vnd.google.colaboratory.intrinsic+json": {
              "type": "string"
            }
          },
          "metadata": {},
          "execution_count": 9
        }
      ]
    },
    {
      "cell_type": "code",
      "source": [
        "#Import module for interacting with the operating system\n",
        "import os\n",
        "#Get the CWD\n",
        "cwd = os.getcwd()"
      ],
      "metadata": {
        "id": "_VoIWZ7UWj_I"
      },
      "execution_count": 10,
      "outputs": []
    },
    {
      "cell_type": "code",
      "source": [
        "print(cwd)\n",
        "loc = cwd"
      ],
      "metadata": {
        "colab": {
          "base_uri": "https://localhost:8080/"
        },
        "id": "1G3CQRRrXDux",
        "outputId": "b51f237e-81c2-43ad-a7c7-3ca46158e0aa"
      },
      "execution_count": 11,
      "outputs": [
        {
          "output_type": "stream",
          "name": "stdout",
          "text": [
            "/content\n"
          ]
        }
      ]
    },
    {
      "cell_type": "code",
      "source": [
        "#with open(os.path.join(str(loc),))\n",
        "with open(\"textbook.txt\",'w') as f:\n",
        "  f.write(\"scripts', 'voxel_time_course.txt', 'model_one_voxel.Rmd', 'map_coordinates.Rmd', 'image_header_and_affine.Rmd', 'bib', 'on_modules.Rmd', 'participate.md', 'git_walk_through.Rmd', 'numpy_squeeze.Rmd', 'images_3d.Rmd', 'bonferroni_correction.Rmd', 'rotation_2d_3d.md', 'array_reductions.Rmd', 'multi_multiply.Rmd', 'validate_against_scipy.Rmd', 'keyword_arguments.Rmd', 'length_one_tuples.Rmd', 'numpy_random.Rmd', 'on_regression.Rmd', 'more_on_jupyter.Rmd', 'numpy_diag.Rmd', 'full_scripting.md', 'whole_image_statistics.Rmd', 'arrays_and_images.Rmd', 'optimizing_space.Rmd', 'the_problem.md', 'brisk_python.Rmd', 'boolean_indexing_nd.Rmd', 'printing_floating.Rmd', 'exercises.md', 'to_code.md', 'participate_grading.md', 'arrays_3d.Rmd', '.pytest_cache', 'sys_path.Rmd', 'convolution_matrices.Rmd', 'the_software.md', 'classes_and_labs.md', 'tr_and_headers.Rmd', 'dot_outer.Rmd', 'packages_namespaces.Rmd', 'data', 'why_mse_correlation.Rmd', 'resampling_with_ndimage.Rmd', 'mymodule.py', '.gitignore', 'nibabel_affines.Rmd', 'module_directories.Rmd', 'anterior_cingulate.md', 'on_loops.Rmd', 'installation_on_mac.md', 'example_module.py', 'github_dummies_homework.md', 'nibabel_apply_affine.Rmd', 'images', 'numpy_logical.Rmd', 'topics.md', 'intro.md', '_config.yml', 'installation_on_linux.md', 'github_pca_homework.md', 'glm_intro.Rmd', 'otsu_threshold.Rmd', 'reading_text.Rmd', 'using_jupyter.Rmd', 'installation.md', 'non_tr_onsets.Rmd', 'what_is_an_image.Rmd', 'comparing_arrays.Rmd', 'rotations.py', 'truthiness.Rmd', 'string_formatting.Rmd', 'pearson_functions.md', 'introducing_python.Rmd', 'diag_inverse.md', 'newaxis.Rmd', 'subplots.Rmd', '_scripts', 'introducing_nipype.Rmd', 'dipy_registration.Rmd', 'numpy_transpose.Rmd', '__pycache__', 'images_and_affines.Rmd', 'mentors.md', 'check_install.py', 'hypothesis_tests.Rmd', 'voxels_by_time.Rmd', 'docstrings.Rmd', 'tuple_unpacking.Rmd', 'subtract_means.Rmd', 'logistics.md', 'path_manipulation.Rmd', 'reshape_and_4d.Rmd', 'bibliography.md', 'slice_timing.Rmd', 'project_grading.md', '.github', 'volmeans.py', 'surviving_computers.md', 'plot_lines.Rmd', 'some_numbers.txt', 'coding_style.md', '_toc.yml', 'code', 'numpy_intro.Rmd', 'multi_model_homework.md', 'build_requirements.txt', 'mydirmod', 'arange.Rmd', '_build', 'matrix_rank.Rmd', 'validating_data.Rmd', 'using_module.Rmd', 'my_script.py', 'floating_in_text.md', 'intro_to_4d.Rmd', 'another_dir', 'test_rdmodule.py', 'list_comprehensions.Rmd', 'dot_and_outer.md', 'projects.md', 'subtract_mean_math.md', 'rdmodule.py', 'simplemod.py', 'reshape_and_3d.Rmd', '_todo.md', 'dunders.Rmd', 'numpy_meshgrid.Rmd', 'string_literals.Rmd', 'assert.Rmd', 'classes.md', 'git_workflow_exercises.md', 'slicing_with_booleans.Rmd', 'glossary.md', 'mean_test_example.Rmd', 'Makefile', 'methods_vs_functions.Rmd', 'on_convolution.Rmd', 'ds114_sub009_t2r1_conv.txt', 'on_correlation.Rmd', 'slope_with_deviations.Rmd', 'another_example.py', 'regress_one_voxel.Rmd', 'choosing_editor.md', 'index_reshape.Rmd', 'installation_on_windows.md', 'syllabus.md', 'voxel_time_courses.Rmd', 'git_videos.md', 'CNAME', 'example_data.md', 'saving_images.Rmd', 'github_glm_homework.md', '.git', 'nans.md', 'convolution_background.Rmd', 'comparing_floats.md', 'test_one_voxel.Rmd', 'boolean_indexing.Rmd', 'requirements.txt', 'diagonal_zooms.Rmd', 'on_testing.Rmd', 'allclose.Rmd', 'dipy_registration.py\")"
      ],
      "metadata": {
        "id": "_e8MrQSVXJqk"
      },
      "execution_count": 12,
      "outputs": []
    },
    {
      "cell_type": "code",
      "source": [
        "print(os.listdir(cwd))"
      ],
      "metadata": {
        "colab": {
          "base_uri": "https://localhost:8080/"
        },
        "id": "yQQzpjaRYPCq",
        "outputId": "fdab8cc3-07c1-40a3-a0a1-123b45d7e3a7"
      },
      "execution_count": 13,
      "outputs": [
        {
          "output_type": "stream",
          "name": "stdout",
          "text": [
            "['.config', 'textbook.txt', 'sample_data']\n"
          ]
        }
      ]
    },
    {
      "cell_type": "code",
      "source": [
        "!pip install nipraxis\n",
        "import nipraxis"
      ],
      "metadata": {
        "colab": {
          "base_uri": "https://localhost:8080/"
        },
        "id": "QZXQhgqLYX17",
        "outputId": "69b6581a-ee98-4237-8c1e-b6fcc1df2e14"
      },
      "execution_count": 14,
      "outputs": [
        {
          "output_type": "stream",
          "name": "stdout",
          "text": [
            "Looking in indexes: https://pypi.org/simple, https://us-python.pkg.dev/colab-wheels/public/simple/\n",
            "Collecting nipraxis\n",
            "  Downloading nipraxis-0.3.5-py2.py3-none-any.whl (7.4 kB)\n",
            "Requirement already satisfied: numpy in /usr/local/lib/python3.7/dist-packages (from nipraxis) (1.21.6)\n",
            "Requirement already satisfied: pooch in /usr/local/lib/python3.7/dist-packages (from nipraxis) (1.6.0)\n",
            "Requirement already satisfied: requests>=2.19.0 in /usr/local/lib/python3.7/dist-packages (from pooch->nipraxis) (2.23.0)\n",
            "Requirement already satisfied: packaging>=20.0 in /usr/local/lib/python3.7/dist-packages (from pooch->nipraxis) (21.3)\n",
            "Requirement already satisfied: appdirs>=1.3.0 in /usr/local/lib/python3.7/dist-packages (from pooch->nipraxis) (1.4.4)\n",
            "Requirement already satisfied: pyparsing!=3.0.5,>=2.0.2 in /usr/local/lib/python3.7/dist-packages (from packaging>=20.0->pooch->nipraxis) (3.0.9)\n",
            "Requirement already satisfied: certifi>=2017.4.17 in /usr/local/lib/python3.7/dist-packages (from requests>=2.19.0->pooch->nipraxis) (2022.5.18.1)\n",
            "Requirement already satisfied: chardet<4,>=3.0.2 in /usr/local/lib/python3.7/dist-packages (from requests>=2.19.0->pooch->nipraxis) (3.0.4)\n",
            "Requirement already satisfied: idna<3,>=2.5 in /usr/local/lib/python3.7/dist-packages (from requests>=2.19.0->pooch->nipraxis) (2.10)\n",
            "Requirement already satisfied: urllib3!=1.25.0,!=1.25.1,<1.26,>=1.21.1 in /usr/local/lib/python3.7/dist-packages (from requests>=2.19.0->pooch->nipraxis) (1.24.3)\n",
            "Installing collected packages: nipraxis\n",
            "Successfully installed nipraxis-0.3.5\n"
          ]
        }
      ]
    },
    {
      "cell_type": "code",
      "source": [
        "structral_file = nipraxis.fetch_file('ds114_sub009_highres.nii')"
      ],
      "metadata": {
        "colab": {
          "base_uri": "https://localhost:8080/"
        },
        "id": "u1uBvjyUYyVx",
        "outputId": "7f1b61e4-8fbf-4c03-c4cf-e2d9fdf1d786"
      },
      "execution_count": 15,
      "outputs": [
        {
          "output_type": "stream",
          "name": "stderr",
          "text": [
            "Downloading file 'ds114_sub009_highres.nii' from 'https://raw.githubusercontent.com/nipraxis/nipraxis-data/0.4/ds114_sub009_highres.nii' to '/root/.cache/nipraxis/0.4'.\n"
          ]
        }
      ]
    },
    {
      "cell_type": "code",
      "source": [
        "structral_file"
      ],
      "metadata": {
        "colab": {
          "base_uri": "https://localhost:8080/",
          "height": 35
        },
        "id": "FZmKLtTIbFEY",
        "outputId": "8b82e3cd-c47e-4fbc-eee2-7c11f3b0f66e"
      },
      "execution_count": 16,
      "outputs": [
        {
          "output_type": "execute_result",
          "data": {
            "text/plain": [
              "'/root/.cache/nipraxis/0.4/ds114_sub009_highres.nii'"
            ],
            "application/vnd.google.colaboratory.intrinsic+json": {
              "type": "string"
            }
          },
          "metadata": {},
          "execution_count": 16
        }
      ]
    },
    {
      "cell_type": "code",
      "source": [
        ""
      ],
      "metadata": {
        "id": "fxW5LJBKbGmG"
      },
      "execution_count": 16,
      "outputs": []
    },
    {
      "cell_type": "code",
      "source": [
        "fobj = open(structral_file,'rb') #Python object to read data from the file into memory\n",
        "print(fobj)"
      ],
      "metadata": {
        "colab": {
          "base_uri": "https://localhost:8080/"
        },
        "id": "Nl7Q4X4YZIwr",
        "outputId": "bb3fe36b-018a-49d4-cc93-8ed0ee32e5f0"
      },
      "execution_count": 17,
      "outputs": [
        {
          "output_type": "stream",
          "name": "stdout",
          "text": [
            "<_io.BufferedReader name='/root/.cache/nipraxis/0.4/ds114_sub009_highres.nii'>\n"
          ]
        }
      ]
    },
    {
      "cell_type": "code",
      "source": [
        "contents= fobj.read()"
      ],
      "metadata": {
        "id": "Vh6gH-ZBZ2q_"
      },
      "execution_count": 18,
      "outputs": []
    },
    {
      "cell_type": "code",
      "source": [
        "type(contents)"
      ],
      "metadata": {
        "colab": {
          "base_uri": "https://localhost:8080/"
        },
        "id": "iCg7U0xwaJBU",
        "outputId": "172aba27-5018-40a1-be23-e7a07b1f2e03"
      },
      "execution_count": 19,
      "outputs": [
        {
          "output_type": "execute_result",
          "data": {
            "text/plain": [
              "bytes"
            ]
          },
          "metadata": {},
          "execution_count": 19
        }
      ]
    },
    {
      "cell_type": "code",
      "source": [
        "len(contents)"
      ],
      "metadata": {
        "colab": {
          "base_uri": "https://localhost:8080/"
        },
        "id": "gADmZ7QOaSKa",
        "outputId": "f78c5016-a0a7-4039-a82d-7f37fe71c9ad"
      },
      "execution_count": 20,
      "outputs": [
        {
          "output_type": "execute_result",
          "data": {
            "text/plain": [
              "40894816"
            ]
          },
          "metadata": {},
          "execution_count": 20
        }
      ]
    },
    {
      "cell_type": "code",
      "source": [
        "contents[70:70]"
      ],
      "metadata": {
        "colab": {
          "base_uri": "https://localhost:8080/"
        },
        "id": "5Su951UOdhoG",
        "outputId": "dbd63b11-47af-4d9f-e781-55832918e3c8"
      },
      "execution_count": 21,
      "outputs": [
        {
          "output_type": "execute_result",
          "data": {
            "text/plain": [
              "b''"
            ]
          },
          "metadata": {},
          "execution_count": 21
        }
      ]
    },
    {
      "cell_type": "code",
      "source": [
        ""
      ],
      "metadata": {
        "id": "tMTMLngRdh_Z"
      },
      "execution_count": 21,
      "outputs": []
    },
    {
      "cell_type": "code",
      "source": [
        "contents[:352]"
      ],
      "metadata": {
        "colab": {
          "base_uri": "https://localhost:8080/"
        },
        "id": "TmonDLY6achz",
        "outputId": "fa8893f1-4ae0-47d2-cc37-b9c109118230"
      },
      "execution_count": 22,
      "outputs": [
        {
          "output_type": "execute_result",
          "data": {
            "text/plain": [
              "b'\\\\\\x01\\x00\\x00\\x00\\x00\\x00\\x00\\x00\\x00\\x00\\x00\\x00\\x00\\x00\\x00\\x00\\x00\\x00\\x00\\x00\\x00\\x00\\x00\\x00\\x00\\x00\\x00\\x00\\x00\\x00\\x00\\x00\\x00\\x00\\x00\\x00\\x00r\\x00\\x03\\x00\\x00\\x01\\x9c\\x00\\x00\\x01\\x01\\x00\\x01\\x00\\x01\\x00\\x01\\x00\\x00\\x00\\x00\\x00\\x00\\x00\\x00\\x00\\x00\\x00\\x00\\x00\\x00\\x00\\x10\\x00 \\x00\\x00\\x00\\x00\\x00\\x80?\\x00\\x00\\x80?\\xafm\\xa6?\\x00\\x00\\x80?\\xa3@\\x1f<\\x00\\x00\\x00\\x00\\x00\\x00\\x00\\x00\\x00\\x00\\x00\\x00\\x00\\x00\\xb0C\\x00\\x00\\x80?\\x00\\x00\\x00\\x00\\x00\\x00\\x00\\n\\x00\\x00\\x00\\x00\\x00\\x00\\x00\\x00\\x00\\x00\\x00\\x00\\x00\\x00\\x00\\x00\\x00\\x00\\x00\\x00\\x00\\x00\\x00\\x00FSL5.0\\x00\\x00\\x00\\x00\\x00\\x00\\x00\\x00\\x00\\x00\\x00\\x00\\x00\\x00\\x00\\x00\\x00\\x00\\x00\\x00\\x00\\x00\\x00\\x00\\x00\\x00\\x00\\x00\\x00\\x00\\x00\\x00\\x00\\x00\\x00\\x00\\x00\\x00\\x00\\x00\\x00\\x00\\x00\\x00\\x00\\x00\\x00\\x00\\x00\\x00\\x00\\x00\\x00\\x00\\x00\\x00\\x00\\x00\\x00\\x00\\x00\\x00\\x00\\x00\\x00\\x00\\x00\\x00\\x00\\x00\\x00\\x00\\x00\\x00\\x00\\x00\\x00\\x00\\x00\\x00\\x00\\x00\\x00\\x00\\x00\\x00\\x00\\x00\\x00\\x00\\x00\\x00\\x00\\x00\\x00\\x00\\x00\\x00\\x01\\x00\\x01\\x00}\\x96\\xf0\\xbd:w\\x05<X+\\xb8<c\\xd3\\x01\\xc3_.\\xee\\xc2\\xf3j\\x0f\\xc3\\x0f\\xb5\\x7f?\\xe8\\xecw\\xbd\\xc5\\x812<c\\xd3\\x01\\xc3\\xbe\\x00/=\\xad\\xaa\\xa1?T:o>_.\\xee\\xc2\\xbd\\xc0\\xaf\\xbcu\\t\\x9b\\xbey\\xe6x?\\xf3j\\x0f\\xc3\\x00\\x00\\x00\\x00\\x00\\x00\\x00\\x00\\x00\\x00\\x00\\x00\\x00\\x00\\x00\\x00n+1\\x00\\x00\\x00\\x00\\x00'"
            ]
          },
          "metadata": {},
          "execution_count": 22
        }
      ]
    },
    {
      "cell_type": "code",
      "source": [
        ""
      ],
      "metadata": {
        "id": "wWwkM0q7de5m"
      },
      "execution_count": 22,
      "outputs": []
    },
    {
      "cell_type": "code",
      "source": [
        ""
      ],
      "metadata": {
        "id": "niNNyDQScZGe"
      },
      "execution_count": 22,
      "outputs": []
    },
    {
      "cell_type": "code",
      "source": [
        "fmt_specifier = \"h\""
      ],
      "metadata": {
        "id": "T5EWUS8CbWFC"
      },
      "execution_count": 23,
      "outputs": []
    },
    {
      "cell_type": "code",
      "source": [
        "data_type_chars = contents[70:70]"
      ],
      "metadata": {
        "id": "rsFtNxwdcBly"
      },
      "execution_count": 24,
      "outputs": []
    },
    {
      "cell_type": "code",
      "source": [
        ""
      ],
      "metadata": {
        "id": "uS3Tm_MMcU_S"
      },
      "execution_count": 24,
      "outputs": []
    },
    {
      "cell_type": "code",
      "source": [
        "import struct\n",
        "#datatype = struct.unpack(fmt_specifier, data_type_chars)"
      ],
      "metadata": {
        "id": "gC4aIj8dcWb3"
      },
      "execution_count": 25,
      "outputs": []
    },
    {
      "cell_type": "code",
      "source": [
        "import nibabel"
      ],
      "metadata": {
        "id": "kv38DwN9dvHL"
      },
      "execution_count": 26,
      "outputs": []
    },
    {
      "cell_type": "code",
      "source": [
        "print(nibabel.__version__)"
      ],
      "metadata": {
        "colab": {
          "base_uri": "https://localhost:8080/"
        },
        "id": "ns1H2hjXd0RJ",
        "outputId": "90506f1f-8127-4cb8-9390-0201cd9f8256"
      },
      "execution_count": 27,
      "outputs": [
        {
          "output_type": "stream",
          "name": "stdout",
          "text": [
            "3.0.2\n"
          ]
        }
      ]
    },
    {
      "cell_type": "code",
      "source": [
        "#Load the medical image with nibabel and check the type\n",
        "image = nibabel.load(structral_file)\n",
        "type(image) #Type is nibabel.nifti1.Nifti1Image"
      ],
      "metadata": {
        "colab": {
          "base_uri": "https://localhost:8080/"
        },
        "id": "J1TEojafd9-q",
        "outputId": "b2043114-2bb3-48bc-ca1c-6c7e55ec6b5d"
      },
      "execution_count": 28,
      "outputs": [
        {
          "output_type": "execute_result",
          "data": {
            "text/plain": [
              "nibabel.nifti1.Nifti1Image"
            ]
          },
          "metadata": {},
          "execution_count": 28
        }
      ]
    },
    {
      "cell_type": "code",
      "source": [
        "print(image.header) #Contains metadata"
      ],
      "metadata": {
        "colab": {
          "base_uri": "https://localhost:8080/"
        },
        "id": "q9ioNw3ad92z",
        "outputId": "a52284c4-d76f-49e9-edbf-0fb1e2838ba9"
      },
      "execution_count": 29,
      "outputs": [
        {
          "output_type": "stream",
          "name": "stdout",
          "text": [
            "<class 'nibabel.nifti1.Nifti1Header'> object, endian='<'\n",
            "sizeof_hdr      : 348\n",
            "data_type       : b''\n",
            "db_name         : b''\n",
            "extents         : 0\n",
            "session_error   : 0\n",
            "regular         : b'r'\n",
            "dim_info        : 0\n",
            "dim             : [  3 256 156 256   1   1   1   1]\n",
            "intent_p1       : 0.0\n",
            "intent_p2       : 0.0\n",
            "intent_p3       : 0.0\n",
            "intent_code     : none\n",
            "datatype        : float32\n",
            "bitpix          : 32\n",
            "slice_start     : 0\n",
            "pixdim          : [1.        1.        1.3002223 1.        0.00972   0.        0.\n",
            " 0.       ]\n",
            "vox_offset      : 0.0\n",
            "scl_slope       : nan\n",
            "scl_inter       : nan\n",
            "slice_end       : 0\n",
            "slice_code      : unknown\n",
            "xyzt_units      : 10\n",
            "cal_max         : 0.0\n",
            "cal_min         : 0.0\n",
            "slice_duration  : 0.0\n",
            "toffset         : 0.0\n",
            "glmax           : 0\n",
            "glmin           : 0\n",
            "descrip         : b'FSL5.0'\n",
            "aux_file        : b''\n",
            "qform_code      : scanner\n",
            "sform_code      : scanner\n",
            "quatern_b       : -0.11747453\n",
            "quatern_c       : 0.008146102\n",
            "quatern_d       : 0.022481605\n",
            "qoffset_x       : -129.82573\n",
            "qoffset_y       : -119.09057\n",
            "qoffset_z       : -143.41777\n",
            "srow_x          : [ 9.9885648e-01 -6.0528666e-02  1.0895197e-02 -1.2982573e+02]\n",
            "srow_y          : [ 4.2725317e-02  1.2630211e+00  2.3362094e-01 -1.1909057e+02]\n",
            "srow_z          : [-2.1454209e-02 -3.0280653e-01  9.7226673e-01 -1.4341777e+02]\n",
            "intent_name     : b''\n",
            "magic           : b'n+1'\n"
          ]
        }
      ]
    },
    {
      "cell_type": "code",
      "source": [
        "#Import numpy \n",
        "import numpy \n",
        "numpy #Numpy library."
      ],
      "metadata": {
        "colab": {
          "base_uri": "https://localhost:8080/"
        },
        "id": "Ay8WHCfuenJp",
        "outputId": "5d0b4f30-7765-4298-b9a9-930b2148c9b7"
      },
      "execution_count": 30,
      "outputs": [
        {
          "output_type": "execute_result",
          "data": {
            "text/plain": [
              "<module 'numpy' from '/usr/local/lib/python3.7/dist-packages/numpy/__init__.py'>"
            ]
          },
          "metadata": {},
          "execution_count": 30
        }
      ]
    },
    {
      "cell_type": "code",
      "source": [
        "numpy.pi # \n",
        "import numpy as np\n",
        "np.pi"
      ],
      "metadata": {
        "colab": {
          "base_uri": "https://localhost:8080/"
        },
        "id": "Nu7JbpKBfKUN",
        "outputId": "cd1f0eb4-dbfb-4e39-b3ea-d88ad487a907"
      },
      "execution_count": 31,
      "outputs": [
        {
          "output_type": "execute_result",
          "data": {
            "text/plain": [
              "3.141592653589793"
            ]
          },
          "metadata": {},
          "execution_count": 31
        }
      ]
    },
    {
      "cell_type": "code",
      "source": [
        "import nipraxis\n",
        "#Fetch the file stem \n",
        "stim_fname = nipraxis.fetch_file('24719.f3_beh_CHYM.csv')\n",
        "stim_fname"
      ],
      "metadata": {
        "colab": {
          "base_uri": "https://localhost:8080/",
          "height": 73
        },
        "id": "7TjJ1_2wfaA2",
        "outputId": "7965d4c2-e019-4311-a843-db93c39f41af"
      },
      "execution_count": 32,
      "outputs": [
        {
          "output_type": "stream",
          "name": "stderr",
          "text": [
            "Downloading file '24719.f3_beh_CHYM.csv' from 'https://raw.githubusercontent.com/nipraxis/nipraxis-data/0.4/24719.f3_beh_CHYM.csv' to '/root/.cache/nipraxis/0.4'.\n"
          ]
        },
        {
          "output_type": "execute_result",
          "data": {
            "text/plain": [
              "'/root/.cache/nipraxis/0.4/24719.f3_beh_CHYM.csv'"
            ],
            "application/vnd.google.colaboratory.intrinsic+json": {
              "type": "string"
            }
          },
          "metadata": {},
          "execution_count": 32
        }
      ]
    },
    {
      "cell_type": "code",
      "source": [
        "lines = open(stim_fname, 'rt').readlines()\n",
        "lines[:5]"
      ],
      "metadata": {
        "colab": {
          "base_uri": "https://localhost:8080/"
        },
        "id": "Y8WMp7speiyZ",
        "outputId": "e2a87698-f149-46e3-eff4-9216ec254bda"
      },
      "execution_count": 33,
      "outputs": [
        {
          "output_type": "execute_result",
          "data": {
            "text/plain": [
              "['response,response_time,trial_ISI,trial_shape\\n',\n",
              " 'None,0,2000,red_star\\n',\n",
              " 'None,0,1000,red_circle\\n',\n",
              " 'None,0,2500,green_triangle\\n',\n",
              " 'None,0,1500,yellow_square\\n']"
            ]
          },
          "metadata": {},
          "execution_count": 33
        }
      ]
    },
    {
      "cell_type": "code",
      "source": [
        "lines = open(stim_fname,'rt').readlines()\n",
        "lines[:5]"
      ],
      "metadata": {
        "colab": {
          "base_uri": "https://localhost:8080/"
        },
        "id": "vqkxRcuOhFEM",
        "outputId": "c729a5cc-ff80-425e-925b-197b1d24723b"
      },
      "execution_count": 34,
      "outputs": [
        {
          "output_type": "execute_result",
          "data": {
            "text/plain": [
              "['response,response_time,trial_ISI,trial_shape\\n',\n",
              " 'None,0,2000,red_star\\n',\n",
              " 'None,0,1000,red_circle\\n',\n",
              " 'None,0,2500,green_triangle\\n',\n",
              " 'None,0,1500,yellow_square\\n']"
            ]
          },
          "metadata": {},
          "execution_count": 34
        }
      ]
    },
    {
      "cell_type": "code",
      "source": [
        "lines[:5]\n"
      ],
      "metadata": {
        "colab": {
          "base_uri": "https://localhost:8080/"
        },
        "id": "DpRJS2AYi1Rs",
        "outputId": "4543cb9e-712c-49c5-b3e7-b8f710ac9d0d"
      },
      "execution_count": 35,
      "outputs": [
        {
          "output_type": "execute_result",
          "data": {
            "text/plain": [
              "['response,response_time,trial_ISI,trial_shape\\n',\n",
              " 'None,0,2000,red_star\\n',\n",
              " 'None,0,1000,red_circle\\n',\n",
              " 'None,0,2500,green_triangle\\n',\n",
              " 'None,0,1500,yellow_square\\n']"
            ]
          },
          "metadata": {},
          "execution_count": 35
        }
      ]
    },
    {
      "cell_type": "code",
      "source": [
        "#del lines[0]"
      ],
      "metadata": {
        "id": "g4V6XuRrjRgQ"
      },
      "execution_count": 36,
      "outputs": []
    },
    {
      "cell_type": "code",
      "source": [
        "lines[:5]"
      ],
      "metadata": {
        "colab": {
          "base_uri": "https://localhost:8080/"
        },
        "id": "Aw_4cH7wjUDc",
        "outputId": "fcf544e4-81a2-452c-f492-4a39fe83510d"
      },
      "execution_count": 37,
      "outputs": [
        {
          "output_type": "execute_result",
          "data": {
            "text/plain": [
              "['response,response_time,trial_ISI,trial_shape\\n',\n",
              " 'None,0,2000,red_star\\n',\n",
              " 'None,0,1000,red_circle\\n',\n",
              " 'None,0,2500,green_triangle\\n',\n",
              " 'None,0,1500,yellow_square\\n']"
            ]
          },
          "metadata": {},
          "execution_count": 37
        }
      ]
    },
    {
      "cell_type": "code",
      "source": [
        "n_trials = len(lines)"
      ],
      "metadata": {
        "id": "Nfze3BcFjWQm"
      },
      "execution_count": 38,
      "outputs": []
    },
    {
      "cell_type": "code",
      "source": [
        "n_trials"
      ],
      "metadata": {
        "colab": {
          "base_uri": "https://localhost:8080/"
        },
        "id": "ngw2O7PWkR-d",
        "outputId": "178a0af1-90e2-4c39-b1fc-55090ceb3cd6"
      },
      "execution_count": 39,
      "outputs": [
        {
          "output_type": "execute_result",
          "data": {
            "text/plain": [
              "321"
            ]
          },
          "metadata": {},
          "execution_count": 39
        }
      ]
    },
    {
      "cell_type": "code",
      "source": [
        "#Use the split method to split the string at commas to give us a list of strings\n",
        "parts = lines[0].split(',')\n",
        "parts"
      ],
      "metadata": {
        "colab": {
          "base_uri": "https://localhost:8080/"
        },
        "id": "vek8vs0WhTPR",
        "outputId": "0ff61554-471d-4a70-b7e8-2968f3c5039e"
      },
      "execution_count": 40,
      "outputs": [
        {
          "output_type": "execute_result",
          "data": {
            "text/plain": [
              "['response', 'response_time', 'trial_ISI', 'trial_shape\\n']"
            ]
          },
          "metadata": {},
          "execution_count": 40
        }
      ]
    },
    {
      "cell_type": "code",
      "source": [
        "rt_list = [] #Respsonse time list \n",
        "isi_list = []#time between intervals list \n",
        "#for i in range(n_trials):\n",
        " # line = lines[i]\n",
        " # parts = line.split(',')\n",
        "  #rt_list.append(float(parts[1]))\n",
        "  #isi_list.append(float(parts[2]))\n",
        "\n",
        "#Show the first trial ISIs\n",
        "isi_list[:5]"
      ],
      "metadata": {
        "colab": {
          "base_uri": "https://localhost:8080/"
        },
        "id": "ZPKHDB0clAB8",
        "outputId": "446596b6-ec2c-4374-8d6a-767b2507c687"
      },
      "execution_count": 41,
      "outputs": [
        {
          "output_type": "execute_result",
          "data": {
            "text/plain": [
              "[]"
            ]
          },
          "metadata": {},
          "execution_count": 41
        }
      ]
    },
    {
      "cell_type": "code",
      "source": [
        ""
      ],
      "metadata": {
        "id": "cDLz_-ZqrnmR"
      },
      "execution_count": 41,
      "outputs": []
    },
    {
      "cell_type": "code",
      "source": [
        "#We need arrays to help us process data\n",
        "isi_array = np.array(isi_list)\n",
        "isi_array"
      ],
      "metadata": {
        "colab": {
          "base_uri": "https://localhost:8080/"
        },
        "id": "97Nu6ENonG1g",
        "outputId": "e0ed2d23-048a-487e-d74c-fffa27772359"
      },
      "execution_count": 42,
      "outputs": [
        {
          "output_type": "execute_result",
          "data": {
            "text/plain": [
              "array([], dtype=float64)"
            ]
          },
          "metadata": {},
          "execution_count": 42
        }
      ]
    },
    {
      "cell_type": "code",
      "source": [
        "rt_array = np.array(rt_list)\n",
        "rt_array"
      ],
      "metadata": {
        "colab": {
          "base_uri": "https://localhost:8080/"
        },
        "id": "PRbqwzR3npQm",
        "outputId": "fc1e9e36-0964-4a99-cecf-b950b7790c21"
      },
      "execution_count": 43,
      "outputs": [
        {
          "output_type": "execute_result",
          "data": {
            "text/plain": [
              "array([], dtype=float64)"
            ]
          },
          "metadata": {},
          "execution_count": 43
        }
      ]
    },
    {
      "cell_type": "code",
      "source": [
        "rt_array.shape  #Shape of the repsonse time array"
      ],
      "metadata": {
        "colab": {
          "base_uri": "https://localhost:8080/"
        },
        "id": "hWvroGZPn8C9",
        "outputId": "5c855fb7-4012-4e23-f84a-2a62160c1597"
      },
      "execution_count": 44,
      "outputs": [
        {
          "output_type": "execute_result",
          "data": {
            "text/plain": [
              "(0,)"
            ]
          },
          "metadata": {},
          "execution_count": 44
        }
      ]
    },
    {
      "cell_type": "code",
      "source": [
        "isi_array"
      ],
      "metadata": {
        "colab": {
          "base_uri": "https://localhost:8080/"
        },
        "id": "3qLOU6DtoF0l",
        "outputId": "94a0907b-fd26-4c54-e947-54ee47980504"
      },
      "execution_count": 45,
      "outputs": [
        {
          "output_type": "execute_result",
          "data": {
            "text/plain": [
              "array([], dtype=float64)"
            ]
          },
          "metadata": {},
          "execution_count": 45
        }
      ]
    },
    {
      "cell_type": "code",
      "source": [
        "isi_array.dtype #We cannot add a value that is not a floating point number "
      ],
      "metadata": {
        "colab": {
          "base_uri": "https://localhost:8080/"
        },
        "id": "cUWtE_ihod28",
        "outputId": "ea9157da-095a-4de7-f989-912e1a5c2864"
      },
      "execution_count": 46,
      "outputs": [
        {
          "output_type": "execute_result",
          "data": {
            "text/plain": [
              "dtype('float64')"
            ]
          },
          "metadata": {},
          "execution_count": 46
        }
      ]
    },
    {
      "cell_type": "code",
      "source": [
        "#isi_array[0] = \"some text\"  #Raises a value  error"
      ],
      "metadata": {
        "id": "iJ3RLkMgo8rF"
      },
      "execution_count": 47,
      "outputs": []
    },
    {
      "cell_type": "code",
      "source": [
        "#Arrays are different from python lists which allow use of different data types \n",
        "py_list = [5,5,'Hi there Pi', 32]\n",
        "py_list"
      ],
      "metadata": {
        "colab": {
          "base_uri": "https://localhost:8080/"
        },
        "id": "a_8sULxZpRXN",
        "outputId": "6d25f2de-5297-406f-9064-5c2283437ac4"
      },
      "execution_count": 48,
      "outputs": [
        {
          "output_type": "execute_result",
          "data": {
            "text/plain": [
              "[5, 5, 'Hi there Pi', 32]"
            ]
          },
          "metadata": {},
          "execution_count": 48
        }
      ]
    },
    {
      "cell_type": "code",
      "source": [
        "#rt_array = np.zeros(n_trials)\n",
        "#rt_array"
      ],
      "metadata": {
        "id": "KPp3KuTapuYV"
      },
      "execution_count": 49,
      "outputs": []
    },
    {
      "cell_type": "code",
      "source": [
        "#rt_array = np.zeros(n_trials)"
      ],
      "metadata": {
        "id": "930CmtpuqG9o"
      },
      "execution_count": 50,
      "outputs": []
    },
    {
      "cell_type": "code",
      "source": [
        "#rt_array"
      ],
      "metadata": {
        "id": "zRq2JteqqRDb"
      },
      "execution_count": 51,
      "outputs": []
    },
    {
      "cell_type": "code",
      "source": [
        "rt_array = np.zeros(n_trials)\n",
        "isi_array = np.zeros(n_trials)\n",
        "for i in range(1,n_trials-1):\n",
        "  line = lines[i]\n",
        "  part = line.split(',')\n",
        "  #rt_arry[i] = float(part[1])\n",
        "  isi_array[i] = float(part[2])"
      ],
      "metadata": {
        "id": "h0fwOmC-s_uk"
      },
      "execution_count": 52,
      "outputs": []
    },
    {
      "cell_type": "code",
      "source": [
        "isi_array[:5]"
      ],
      "metadata": {
        "colab": {
          "base_uri": "https://localhost:8080/"
        },
        "id": "5sK_g_rvuxdq",
        "outputId": "6de513f8-3b7a-44f1-e308-8fd84f5418f8"
      },
      "execution_count": 53,
      "outputs": [
        {
          "output_type": "execute_result",
          "data": {
            "text/plain": [
              "array([   0., 2000., 1000., 2500., 1500.])"
            ]
          },
          "metadata": {},
          "execution_count": 53
        }
      ]
    },
    {
      "cell_type": "code",
      "source": [
        "exp_onset_times = np.zeros(n_trials)\n",
        "start_time = 0 \n",
        "for i in range(0,n_trials-1):\n",
        "  start_time = start_time + isi_array[i]\n",
        "  exp_onset_times[i] = start_time"
      ],
      "metadata": {
        "id": "UWON02jGu3yx"
      },
      "execution_count": 54,
      "outputs": []
    },
    {
      "cell_type": "code",
      "source": [
        "#Show the first ten values\n",
        "exp_onset_times[:10]"
      ],
      "metadata": {
        "colab": {
          "base_uri": "https://localhost:8080/"
        },
        "id": "XjgbVH6owKYu",
        "outputId": "401060b5-f423-4780-9cd9-94edac7b65e5"
      },
      "execution_count": 55,
      "outputs": [
        {
          "output_type": "execute_result",
          "data": {
            "text/plain": [
              "array([    0.,  2000.,  3000.,  5500.,  7000.,  8500., 10500., 13000.,\n",
              "       14500., 16500.])"
            ]
          },
          "metadata": {},
          "execution_count": 55
        }
      ]
    },
    {
      "cell_type": "code",
      "source": [
        "#Show the cumulative sum \n",
        "#Exponential  onset times\n",
        "exp_onset_times = np.cumsum(isi_array)\n",
        "exp_onset_times[:10]"
      ],
      "metadata": {
        "colab": {
          "base_uri": "https://localhost:8080/"
        },
        "id": "F9EYO1tFwVV8",
        "outputId": "46c37aeb-0714-4672-82dd-e136144db396"
      },
      "execution_count": 56,
      "outputs": [
        {
          "output_type": "execute_result",
          "data": {
            "text/plain": [
              "array([    0.,  2000.,  3000.,  5500.,  7000.,  8500., 10500., 13000.,\n",
              "       14500., 16500.])"
            ]
          },
          "metadata": {},
          "execution_count": 56
        }
      ]
    },
    {
      "cell_type": "code",
      "source": [
        "scan_onset_times = np.zeros(n_trials)\n",
        "for i in range(n_trials):\n",
        "  scan_onset_times[i] =exp_onset_times[i] + 4000\n",
        "scan_onset_times[:10]"
      ],
      "metadata": {
        "colab": {
          "base_uri": "https://localhost:8080/"
        },
        "id": "YqI2d9T8zI-1",
        "outputId": "60b7184b-55ac-429d-f00b-aa9820613c95"
      },
      "execution_count": 57,
      "outputs": [
        {
          "output_type": "execute_result",
          "data": {
            "text/plain": [
              "array([ 4000.,  6000.,  7000.,  9500., 11000., 12500., 14500., 17000.,\n",
              "       18500., 20500.])"
            ]
          },
          "metadata": {},
          "execution_count": 57
        }
      ]
    },
    {
      "cell_type": "code",
      "source": [
        "#Numpy can easily add a number to every element in an array \n",
        "scan_onset_times = exp_onset_times + 4000"
      ],
      "metadata": {
        "id": "jhL4VCeHz4zt"
      },
      "execution_count": 58,
      "outputs": []
    },
    {
      "cell_type": "code",
      "source": [
        "scan_onset_times[:10]"
      ],
      "metadata": {
        "colab": {
          "base_uri": "https://localhost:8080/"
        },
        "id": "UnazNVlS0K1o",
        "outputId": "0bdc8d46-4dcb-417b-93a3-aa90768af719"
      },
      "execution_count": 59,
      "outputs": [
        {
          "output_type": "execute_result",
          "data": {
            "text/plain": [
              "array([ 4000.,  6000.,  7000.,  9500., 11000., 12500., 14500., 17000.,\n",
              "       18500., 20500.])"
            ]
          },
          "metadata": {},
          "execution_count": 59
        }
      ]
    },
    {
      "cell_type": "code",
      "source": [
        "scan_length_ms = 2000\n",
        "6000 / scan_length_ms"
      ],
      "metadata": {
        "colab": {
          "base_uri": "https://localhost:8080/"
        },
        "id": "uTHbM3JU0RuO",
        "outputId": "64ba16d0-8905-4567-c303-2da9c63074b2"
      },
      "execution_count": 60,
      "outputs": [
        {
          "output_type": "execute_result",
          "data": {
            "text/plain": [
              "3.0"
            ]
          },
          "metadata": {},
          "execution_count": 60
        }
      ]
    },
    {
      "cell_type": "code",
      "source": [
        "#With a single number numpy can divide every element by the number provides \n",
        "scan_onset_times = exp_onset_times / 6000\n",
        "scan_onset_times[:10]"
      ],
      "metadata": {
        "colab": {
          "base_uri": "https://localhost:8080/"
        },
        "id": "94LzwQa307Tq",
        "outputId": "49660754-d567-4050-e5cc-cca9c3306b17"
      },
      "execution_count": 61,
      "outputs": [
        {
          "output_type": "execute_result",
          "data": {
            "text/plain": [
              "array([0.        , 0.33333333, 0.5       , 0.91666667, 1.16666667,\n",
              "       1.41666667, 1.75      , 2.16666667, 2.41666667, 2.75      ])"
            ]
          },
          "metadata": {},
          "execution_count": 61
        }
      ]
    },
    {
      "cell_type": "markdown",
      "source": [
        "Processing reaction times"
      ],
      "metadata": {
        "id": "GgPM82FI1VKM"
      }
    },
    {
      "cell_type": "code",
      "source": [
        "rt_array[:15]"
      ],
      "metadata": {
        "colab": {
          "base_uri": "https://localhost:8080/"
        },
        "id": "p9z-biFR1QNF",
        "outputId": "7dd71a04-2842-4fd3-f3e3-1ad4a38fa96f"
      },
      "execution_count": 62,
      "outputs": [
        {
          "output_type": "execute_result",
          "data": {
            "text/plain": [
              "array([0., 0., 0., 0., 0., 0., 0., 0., 0., 0., 0., 0., 0., 0., 0.])"
            ]
          },
          "metadata": {},
          "execution_count": 62
        }
      ]
    },
    {
      "cell_type": "code",
      "source": [
        "scan_onset_times[:15]"
      ],
      "metadata": {
        "colab": {
          "base_uri": "https://localhost:8080/"
        },
        "id": "glo2-pAa14eH",
        "outputId": "c8a91266-b136-443f-d233-7ce3a2ed412b"
      },
      "execution_count": 63,
      "outputs": [
        {
          "output_type": "execute_result",
          "data": {
            "text/plain": [
              "array([0.        , 0.33333333, 0.5       , 0.91666667, 1.16666667,\n",
              "       1.41666667, 1.75      , 2.16666667, 2.41666667, 2.75      ,\n",
              "       2.91666667, 3.08333333, 3.33333333, 3.58333333, 3.91666667])"
            ]
          },
          "metadata": {},
          "execution_count": 63
        }
      ]
    },
    {
      "cell_type": "code",
      "source": [
        "scan_response_times = np.zeros(n_trials)\n",
        "for i in range(n_trials):\n",
        "  trial_onset = scan_onset_times[i]\n",
        "  this_rt = rt_array[i] \n",
        "  scan_response_times[i] = trial_onset + this_rt\n",
        "scan_response_times[i] = trial_onset + this_rt\n",
        "scan_response_times[:15]"
      ],
      "metadata": {
        "colab": {
          "base_uri": "https://localhost:8080/"
        },
        "id": "xpyTZx6s2I5t",
        "outputId": "de21b9a7-7d83-42c4-f9ec-66770711f68b"
      },
      "execution_count": 64,
      "outputs": [
        {
          "output_type": "execute_result",
          "data": {
            "text/plain": [
              "array([0.        , 0.33333333, 0.5       , 0.91666667, 1.16666667,\n",
              "       1.41666667, 1.75      , 2.16666667, 2.41666667, 2.75      ,\n",
              "       2.91666667, 3.08333333, 3.33333333, 3.58333333, 3.91666667])"
            ]
          },
          "metadata": {},
          "execution_count": 64
        }
      ]
    },
    {
      "cell_type": "code",
      "source": [
        "#Numpy can do element wise addition\n",
        "scan_response_times = scan_onset_times + rt_array\n",
        "scan_response_times[:15]"
      ],
      "metadata": {
        "colab": {
          "base_uri": "https://localhost:8080/"
        },
        "id": "qs8ByfCR3qIA",
        "outputId": "800f8d13-8ba9-41f1-e97c-cfde79018252"
      },
      "execution_count": 65,
      "outputs": [
        {
          "output_type": "execute_result",
          "data": {
            "text/plain": [
              "array([0.        , 0.33333333, 0.5       , 0.91666667, 1.16666667,\n",
              "       1.41666667, 1.75      , 2.16666667, 2.41666667, 2.75      ,\n",
              "       2.91666667, 3.08333333, 3.33333333, 3.58333333, 3.91666667])"
            ]
          },
          "metadata": {},
          "execution_count": 65
        }
      ]
    },
    {
      "cell_type": "markdown",
      "source": [
        "Boolean arrays "
      ],
      "metadata": {
        "id": "1B9fRuQa44Dz"
      }
    },
    {
      "cell_type": "code",
      "source": [
        "#We still have a problem of 0 values indicating no response time \n",
        "#We could use boolean arrays to select values that were not equal to zero \n",
        "first_rts = rt_array[:15]\n",
        "first_rts "
      ],
      "metadata": {
        "colab": {
          "base_uri": "https://localhost:8080/"
        },
        "id": "eMhJm72R3qAx",
        "outputId": "183c0446-c8f9-4b3c-eebe-97a31064d928"
      },
      "execution_count": 66,
      "outputs": [
        {
          "output_type": "execute_result",
          "data": {
            "text/plain": [
              "array([0., 0., 0., 0., 0., 0., 0., 0., 0., 0., 0., 0., 0., 0., 0.])"
            ]
          },
          "metadata": {},
          "execution_count": 66
        }
      ]
    },
    {
      "cell_type": "code",
      "source": [
        "#Comparisons are operators that give answers to a boolean operation \n",
        "first_rts[0] > 0 "
      ],
      "metadata": {
        "colab": {
          "base_uri": "https://localhost:8080/"
        },
        "id": "bp7G3ahf5zUJ",
        "outputId": "781e4c8c-b56f-4d1c-eb7a-3b45cecff441"
      },
      "execution_count": 67,
      "outputs": [
        {
          "output_type": "execute_result",
          "data": {
            "text/plain": [
              "False"
            ]
          },
          "metadata": {},
          "execution_count": 67
        }
      ]
    },
    {
      "cell_type": "code",
      "source": [
        "first_rts > 0 #Here we can see the values where the was no response "
      ],
      "metadata": {
        "colab": {
          "base_uri": "https://localhost:8080/"
        },
        "id": "7ophkjWM6eZl",
        "outputId": "686fa3a5-5bdc-4b02-ff11-ef358752bc0d"
      },
      "execution_count": 68,
      "outputs": [
        {
          "output_type": "execute_result",
          "data": {
            "text/plain": [
              "array([False, False, False, False, False, False, False, False, False,\n",
              "       False, False, False, False, False, False])"
            ]
          },
          "metadata": {},
          "execution_count": 68
        }
      ]
    },
    {
      "cell_type": "code",
      "source": [
        "#The above code is the same as \n",
        "print(f\"Postion 0 :{first_rts[0]>0}\")\n",
        "print(f\"Postion 1 :{first_rts[1]>0}\")\n",
        "print(f\"Postion 2 :{first_rts[2]>0}\")\n",
        "print(f\"Postion 3 :{first_rts[3]>0}\")\n",
        "print(f\"Postion 4 :{first_rts[4]>0}\")"
      ],
      "metadata": {
        "colab": {
          "base_uri": "https://localhost:8080/"
        },
        "id": "DLRQjygm7dTZ",
        "outputId": "37d550e9-abdb-4dac-8910-5cc45d20123c"
      },
      "execution_count": 69,
      "outputs": [
        {
          "output_type": "stream",
          "name": "stdout",
          "text": [
            "Postion 0 :False\n",
            "Postion 1 :False\n",
            "Postion 2 :False\n",
            "Postion 3 :False\n",
            "Postion 4 :False\n"
          ]
        }
      ]
    },
    {
      "cell_type": "code",
      "source": [
        "#We can get the response time array for all reaction times by: \n",
        "rts_arry_not_zero = rt_array\n",
        "rts_arry_not_zero[:50] > 0 "
      ],
      "metadata": {
        "colab": {
          "base_uri": "https://localhost:8080/"
        },
        "id": "luEg02BG79rN",
        "outputId": "1b09ce0f-b47d-4955-877f-33454eb6f238"
      },
      "execution_count": 70,
      "outputs": [
        {
          "output_type": "execute_result",
          "data": {
            "text/plain": [
              "array([False, False, False, False, False, False, False, False, False,\n",
              "       False, False, False, False, False, False, False, False, False,\n",
              "       False, False, False, False, False, False, False, False, False,\n",
              "       False, False, False, False, False, False, False, False, False,\n",
              "       False, False, False, False, False, False, False, False, False,\n",
              "       False, False, False, False, False])"
            ]
          },
          "metadata": {},
          "execution_count": 70
        }
      ]
    },
    {
      "cell_type": "code",
      "source": [
        "#rt_array[rts_arry_not_zero]"
      ],
      "metadata": {
        "id": "wfHjo-J29Iov"
      },
      "execution_count": 71,
      "outputs": []
    },
    {
      "cell_type": "code",
      "source": [
        "all_times = np.zeros((n_trials,2))\n",
        "all_times.shape"
      ],
      "metadata": {
        "colab": {
          "base_uri": "https://localhost:8080/"
        },
        "id": "f_eJo71p9fNa",
        "outputId": "02afb629-e881-4667-ee90-6f1dff671091"
      },
      "execution_count": 72,
      "outputs": [
        {
          "output_type": "execute_result",
          "data": {
            "text/plain": [
              "(321, 2)"
            ]
          },
          "metadata": {},
          "execution_count": 72
        }
      ]
    },
    {
      "cell_type": "code",
      "source": [
        "all_times[:,0] = isi_array"
      ],
      "metadata": {
        "id": "UGgJQmDK7TDT"
      },
      "execution_count": 73,
      "outputs": []
    },
    {
      "cell_type": "code",
      "source": [
        "all_times[:,1] = rt_array"
      ],
      "metadata": {
        "id": "OM5G72XY_eME"
      },
      "execution_count": 74,
      "outputs": []
    },
    {
      "cell_type": "code",
      "source": [
        "all_times[:5,:] #SHow all the five rows and first five colums"
      ],
      "metadata": {
        "colab": {
          "base_uri": "https://localhost:8080/"
        },
        "id": "UIG5Dn8-_ubf",
        "outputId": "c029dcc2-94eb-4d2d-e8c9-d7aea59185be"
      },
      "execution_count": 75,
      "outputs": [
        {
          "output_type": "execute_result",
          "data": {
            "text/plain": [
              "array([[   0.,    0.],\n",
              "       [2000.,    0.],\n",
              "       [1000.,    0.],\n",
              "       [2500.,    0.],\n",
              "       [1500.,    0.]])"
            ]
          },
          "metadata": {},
          "execution_count": 75
        }
      ]
    },
    {
      "cell_type": "code",
      "source": [
        "all_times.shape"
      ],
      "metadata": {
        "colab": {
          "base_uri": "https://localhost:8080/"
        },
        "id": "glwoC55o_6ZB",
        "outputId": "d57a678e-91be-4774-92d9-16b455cf2630"
      },
      "execution_count": 76,
      "outputs": [
        {
          "output_type": "execute_result",
          "data": {
            "text/plain": [
              "(321, 2)"
            ]
          },
          "metadata": {},
          "execution_count": 76
        }
      ]
    },
    {
      "cell_type": "code",
      "source": [
        "new_shape = [n_trials * 2]"
      ],
      "metadata": {
        "id": "TN-1R7_sAO0Q"
      },
      "execution_count": 77,
      "outputs": []
    },
    {
      "cell_type": "code",
      "source": [
        "new_shape"
      ],
      "metadata": {
        "colab": {
          "base_uri": "https://localhost:8080/"
        },
        "id": "qH38oRmgAX_5",
        "outputId": "3e7434c3-51d0-4644-f61d-e60fd2806326"
      },
      "execution_count": 78,
      "outputs": [
        {
          "output_type": "execute_result",
          "data": {
            "text/plain": [
              "[642]"
            ]
          },
          "metadata": {},
          "execution_count": 78
        }
      ]
    },
    {
      "cell_type": "code",
      "source": [
        "#Reshaping the array \n",
        "new_array = np.reshape(all_times,n_trials * 2)\n",
        "#new_array"
      ],
      "metadata": {
        "id": "NR3HjchAAZEC"
      },
      "execution_count": 79,
      "outputs": []
    },
    {
      "cell_type": "code",
      "source": [
        "flatten = np.reshape(all_times,[n_trials * 2])\n",
        "flatten.shape"
      ],
      "metadata": {
        "colab": {
          "base_uri": "https://localhost:8080/"
        },
        "id": "FFj2KBEGBJYZ",
        "outputId": "a29db384-027e-424c-9d13-68ffbf5390db"
      },
      "execution_count": 80,
      "outputs": [
        {
          "output_type": "execute_result",
          "data": {
            "text/plain": [
              "(642,)"
            ]
          },
          "metadata": {},
          "execution_count": 80
        }
      ]
    },
    {
      "cell_type": "code",
      "source": [
        "#The first 10 values \n",
        "flatten[:10]"
      ],
      "metadata": {
        "colab": {
          "base_uri": "https://localhost:8080/"
        },
        "id": "SD91LuGTBJVb",
        "outputId": "c2aa4aab-1e70-445b-b087-3284673b05cf"
      },
      "execution_count": 81,
      "outputs": [
        {
          "output_type": "execute_result",
          "data": {
            "text/plain": [
              "array([   0.,    0., 2000.,    0., 1000.,    0., 2500.,    0., 1500.,\n",
              "          0.])"
            ]
          },
          "metadata": {},
          "execution_count": 81
        }
      ]
    },
    {
      "cell_type": "code",
      "source": [
        "unflattened = np.reshape(flatten,[n_trials*2])"
      ],
      "metadata": {
        "id": "nTvSV1E0BJSW"
      },
      "execution_count": 82,
      "outputs": []
    },
    {
      "cell_type": "code",
      "source": [
        "unflattened.shape"
      ],
      "metadata": {
        "colab": {
          "base_uri": "https://localhost:8080/"
        },
        "id": "HcZmNgAJC2B9",
        "outputId": "861d663a-0177-4d00-9dec-01c5f2067987"
      },
      "execution_count": 83,
      "outputs": [
        {
          "output_type": "execute_result",
          "data": {
            "text/plain": [
              "(642,)"
            ]
          },
          "metadata": {},
          "execution_count": 83
        }
      ]
    },
    {
      "cell_type": "code",
      "source": [
        "#Show the first five rows\n",
        "#unflattened[:5,:]"
      ],
      "metadata": {
        "id": "pr4ML_73C47O"
      },
      "execution_count": 84,
      "outputs": []
    },
    {
      "cell_type": "markdown",
      "source": [
        "Arrays as images and images as arrays"
      ],
      "metadata": {
        "id": "_FxtUEidEIw5"
      }
    },
    {
      "cell_type": "code",
      "source": [
        "import numpy as np \n",
        "import matplotlib.pyplot as plt"
      ],
      "metadata": {
        "id": "VjzlhvotDxo4"
      },
      "execution_count": 86,
      "outputs": []
    },
    {
      "cell_type": "code",
      "source": [
        "an_array = np.array([[ 0,  0,  0,  0,  0,  0,  0,  0],\n",
        "                     [ 0,  0,  0,  9, 99, 99, 94,  0],\n",
        "                     [ 0,  0,  0, 25, 99, 99, 79,  0],\n",
        "                     [ 0,  0,  0,  0,  0,  0,  0,  0],\n",
        "                     [ 0,  0,  0, 56, 99, 99, 49,  0],\n",
        "                     [ 0,  0,  0, 73, 99, 99, 31,  0],\n",
        "                     [ 0,  0,  0, 91, 99, 99, 13,  0],\n",
        "                     [ 0,  0,  9, 99, 99, 94,  0,  0],\n",
        "                     [ 0,  0, 27, 99, 99, 77,  0,  0],\n",
        "                     [ 0,  0, 45, 99, 99, 59,  0,  0],\n",
        "                     [ 0,  0, 63, 99, 99, 42,  0,  0],\n",
        "                     [ 0,  0, 80, 99, 99, 24,  0,  0],\n",
        "                     [ 0,  1, 96, 99, 99,  6,  0,  0],\n",
        "                     [ 0, 16, 99, 99, 88,  0,  0,  0],\n",
        "                     [ 0,  0,  0,  0,  0,  0,  0,  0]])"
      ],
      "metadata": {
        "id": "7NJTSVbZ7tii"
      },
      "execution_count": 87,
      "outputs": []
    },
    {
      "cell_type": "code",
      "source": [
        "an_array.shape"
      ],
      "metadata": {
        "id": "3IDh8leFDy7r",
        "colab": {
          "base_uri": "https://localhost:8080/"
        },
        "outputId": "87a547f6-010c-4635-ab19-fe0cbe31484e"
      },
      "execution_count": 88,
      "outputs": [
        {
          "output_type": "execute_result",
          "data": {
            "text/plain": [
              "(15, 8)"
            ]
          },
          "metadata": {},
          "execution_count": 88
        }
      ]
    },
    {
      "cell_type": "code",
      "source": [
        "plt.imshow(an_array, cmap=\"gray\")\n",
        "plt.colorbar()"
      ],
      "metadata": {
        "colab": {
          "base_uri": "https://localhost:8080/",
          "height": 282
        },
        "id": "soOulg_K8gU2",
        "outputId": "0831568a-c8ea-4188-eac2-953ae6c5cb1d"
      },
      "execution_count": 91,
      "outputs": [
        {
          "output_type": "execute_result",
          "data": {
            "text/plain": [
              "<matplotlib.colorbar.Colorbar at 0x7f4ccf395c50>"
            ]
          },
          "metadata": {},
          "execution_count": 91
        },
        {
          "output_type": "display_data",
          "data": {
            "text/plain": [
              "<Figure size 432x288 with 2 Axes>"
            ],
            "image/png": "[encoded data removed]"
          },
          "metadata": {
            "needs_background": "light"
          }
        }
      ]
    },
    {
      "cell_type": "code",
      "source": [
        "#Set gray to the default values for the rest of our plot \n",
        "plt.rcParams['image.cmap'] = 'gray'"
      ],
      "metadata": {
        "id": "ZVePQncf9Lr8"
      },
      "execution_count": 96,
      "outputs": []
    },
    {
      "cell_type": "code",
      "source": [
        "#plt.rcParams.keys()\n",
        "an_array[8,:]"
      ],
      "metadata": {
        "colab": {
          "base_uri": "https://localhost:8080/"
        },
        "id": "KrcAjaMH92WQ",
        "outputId": "51377ece-ae31-4622-bd2f-0890d743224e"
      },
      "execution_count": 98,
      "outputs": [
        {
          "output_type": "execute_result",
          "data": {
            "text/plain": [
              "array([ 0,  0, 27, 99, 99, 77,  0,  0])"
            ]
          },
          "metadata": {},
          "execution_count": 98
        }
      ]
    },
    {
      "cell_type": "markdown",
      "source": [
        "Plot row  8"
      ],
      "metadata": {
        "id": "8hHY-c2x_Fi_"
      }
    },
    {
      "cell_type": "code",
      "source": [
        "an_array[8]"
      ],
      "metadata": {
        "colab": {
          "base_uri": "https://localhost:8080/"
        },
        "id": "54tlqvMr-ujz",
        "outputId": "5debb4b8-ab2a-4ab6-ab66-1ab9d95bbd1b"
      },
      "execution_count": 99,
      "outputs": [
        {
          "output_type": "execute_result",
          "data": {
            "text/plain": [
              "array([ 0,  0, 27, 99, 99, 77,  0,  0])"
            ]
          },
          "metadata": {},
          "execution_count": 99
        }
      ]
    },
    {
      "cell_type": "markdown",
      "source": [
        "Tea leaves warehouse Barac"
      ],
      "metadata": {
        "id": "p3DC-5v6-lor"
      }
    },
    {
      "cell_type": "code",
      "source": [
        "col_positions = np.arange(8)\n",
        "col_positions"
      ],
      "metadata": {
        "colab": {
          "base_uri": "https://localhost:8080/"
        },
        "id": "8z0KUfPy97qH",
        "outputId": "1d615138-05dc-4d0f-d7a1-787803780e34"
      },
      "execution_count": 101,
      "outputs": [
        {
          "output_type": "execute_result",
          "data": {
            "text/plain": [
              "array([0, 1, 2, 3, 4, 5, 6, 7])"
            ]
          },
          "metadata": {},
          "execution_count": 101
        }
      ]
    },
    {
      "cell_type": "code",
      "source": [
        "plt.plot(col_positions,an_array[8])"
      ],
      "metadata": {
        "colab": {
          "base_uri": "https://localhost:8080/",
          "height": 282
        },
        "id": "w1EGWXRo8bQa",
        "outputId": "477de750-ef96-4e28-9d7a-5af1ed188cad"
      },
      "execution_count": 102,
      "outputs": [
        {
          "output_type": "execute_result",
          "data": {
            "text/plain": [
              "[<matplotlib.lines.Line2D at 0x7f4cc6f2ac50>]"
            ]
          },
          "metadata": {},
          "execution_count": 102
        },
        {
          "output_type": "display_data",
          "data": {
            "text/plain": [
              "<Figure size 432x288 with 1 Axes>"
            ],
            "image/png": "[encoded data removed]"
          },
          "metadata": {
            "needs_background": "light"
          }
        }
      ]
    },
    {
      "cell_type": "code",
      "source": [
        "plt.plot(an_array[8])"
      ],
      "metadata": {
        "colab": {
          "base_uri": "https://localhost:8080/",
          "height": 282
        },
        "id": "7_Q8GyQk_wBV",
        "outputId": "ef205a15-7976-480a-9926-627ea392e03b"
      },
      "execution_count": 103,
      "outputs": [
        {
          "output_type": "execute_result",
          "data": {
            "text/plain": [
              "[<matplotlib.lines.Line2D at 0x7f4cc6e9b150>]"
            ]
          },
          "metadata": {},
          "execution_count": 103
        },
        {
          "output_type": "display_data",
          "data": {
            "text/plain": [
              "<Figure size 432x288 with 1 Axes>"
            ],
            "image/png": "[encoded data removed]"
          },
          "metadata": {
            "needs_background": "light"
          }
        }
      ]
    },
    {
      "cell_type": "markdown",
      "source": [
        "A transpose uses the .T method in the array. It has the same effect as flipping the rows and columns in 2D."
      ],
      "metadata": {
        "id": "VxMj5uPmAbGK"
      }
    },
    {
      "cell_type": "code",
      "source": [
        "plt.imshow(an_array.T)"
      ],
      "metadata": {
        "colab": {
          "base_uri": "https://localhost:8080/",
          "height": 243
        },
        "id": "DOwAcNAbAD7O",
        "outputId": "f6e53a3f-0b45-425e-c842-88128898dc10"
      },
      "execution_count": 104,
      "outputs": [
        {
          "output_type": "execute_result",
          "data": {
            "text/plain": [
              "<matplotlib.image.AxesImage at 0x7f4cc6e0fe10>"
            ]
          },
          "metadata": {},
          "execution_count": 104
        },
        {
          "output_type": "display_data",
          "data": {
            "text/plain": [
              "<Figure size 432x288 with 1 Axes>"
            ],
            "image/png": "[encoded data removed]"
          },
          "metadata": {
            "needs_background": "light"
          }
        }
      ]
    },
    {
      "cell_type": "code",
      "source": [
        "an_array"
      ],
      "metadata": {
        "colab": {
          "base_uri": "https://localhost:8080/"
        },
        "id": "JDurDlnvA0DK",
        "outputId": "032a4e74-f142-419c-dbc0-8002d4794fef"
      },
      "execution_count": 105,
      "outputs": [
        {
          "output_type": "execute_result",
          "data": {
            "text/plain": [
              "array([[ 0,  0,  0,  0,  0,  0,  0,  0],\n",
              "       [ 0,  0,  0,  9, 99, 99, 94,  0],\n",
              "       [ 0,  0,  0, 25, 99, 99, 79,  0],\n",
              "       [ 0,  0,  0,  0,  0,  0,  0,  0],\n",
              "       [ 0,  0,  0, 56, 99, 99, 49,  0],\n",
              "       [ 0,  0,  0, 73, 99, 99, 31,  0],\n",
              "       [ 0,  0,  0, 91, 99, 99, 13,  0],\n",
              "       [ 0,  0,  9, 99, 99, 94,  0,  0],\n",
              "       [ 0,  0, 27, 99, 99, 77,  0,  0],\n",
              "       [ 0,  0, 45, 99, 99, 59,  0,  0],\n",
              "       [ 0,  0, 63, 99, 99, 42,  0,  0],\n",
              "       [ 0,  0, 80, 99, 99, 24,  0,  0],\n",
              "       [ 0,  1, 96, 99, 99,  6,  0,  0],\n",
              "       [ 0, 16, 99, 99, 88,  0,  0,  0],\n",
              "       [ 0,  0,  0,  0,  0,  0,  0,  0]])"
            ]
          },
          "metadata": {},
          "execution_count": 105
        }
      ]
    },
    {
      "cell_type": "code",
      "source": [
        "a_1d_array = np.reshape(an_array,15 * 8)\n",
        "a_1d_array"
      ],
      "metadata": {
        "colab": {
          "base_uri": "https://localhost:8080/"
        },
        "id": "vTG-q5BZBAjf",
        "outputId": "f97d98f1-ed82-49c8-8a4d-58b89f918a96"
      },
      "execution_count": 107,
      "outputs": [
        {
          "output_type": "execute_result",
          "data": {
            "text/plain": [
              "array([ 0,  0,  0,  0,  0,  0,  0,  0,  0,  0,  0,  9, 99, 99, 94,  0,  0,\n",
              "        0,  0, 25, 99, 99, 79,  0,  0,  0,  0,  0,  0,  0,  0,  0,  0,  0,\n",
              "        0, 56, 99, 99, 49,  0,  0,  0,  0, 73, 99, 99, 31,  0,  0,  0,  0,\n",
              "       91, 99, 99, 13,  0,  0,  0,  9, 99, 99, 94,  0,  0,  0,  0, 27, 99,\n",
              "       99, 77,  0,  0,  0,  0, 45, 99, 99, 59,  0,  0,  0,  0, 63, 99, 99,\n",
              "       42,  0,  0,  0,  0, 80, 99, 99, 24,  0,  0,  0,  1, 96, 99, 99,  6,\n",
              "        0,  0,  0, 16, 99, 99, 88,  0,  0,  0,  0,  0,  0,  0,  0,  0,  0,\n",
              "        0])"
            ]
          },
          "metadata": {},
          "execution_count": 107
        }
      ]
    },
    {
      "cell_type": "code",
      "source": [
        "a_1d_array.shape"
      ],
      "metadata": {
        "colab": {
          "base_uri": "https://localhost:8080/"
        },
        "id": "ecWDGuNKBskt",
        "outputId": "ac43b98d-9e97-4683-9550-6584da2b0185"
      },
      "execution_count": 108,
      "outputs": [
        {
          "output_type": "execute_result",
          "data": {
            "text/plain": [
              "(120,)"
            ]
          },
          "metadata": {},
          "execution_count": 108
        }
      ]
    },
    {
      "cell_type": "markdown",
      "source": [
        "Numpy function to reshape the array to 1D. Since reshaping an array to 1D is a common operation."
      ],
      "metadata": {
        "id": "EcqQbQP2B5EN"
      }
    },
    {
      "cell_type": "code",
      "source": [
        "reshaped = np.ravel(an_array)\n",
        "reshaped"
      ],
      "metadata": {
        "colab": {
          "base_uri": "https://localhost:8080/"
        },
        "id": "iV5jWpPfBxGu",
        "outputId": "1d87c647-b098-4ea9-dbb5-a114f025292a"
      },
      "execution_count": 111,
      "outputs": [
        {
          "output_type": "execute_result",
          "data": {
            "text/plain": [
              "array([ 0,  0,  0,  0,  0,  0,  0,  0,  0,  0,  0,  9, 99, 99, 94,  0,  0,\n",
              "        0,  0, 25, 99, 99, 79,  0,  0,  0,  0,  0,  0,  0,  0,  0,  0,  0,\n",
              "        0, 56, 99, 99, 49,  0,  0,  0,  0, 73, 99, 99, 31,  0,  0,  0,  0,\n",
              "       91, 99, 99, 13,  0,  0,  0,  9, 99, 99, 94,  0,  0,  0,  0, 27, 99,\n",
              "       99, 77,  0,  0,  0,  0, 45, 99, 99, 59,  0,  0,  0,  0, 63, 99, 99,\n",
              "       42,  0,  0,  0,  0, 80, 99, 99, 24,  0,  0,  0,  1, 96, 99, 99,  6,\n",
              "        0,  0,  0, 16, 99, 99, 88,  0,  0,  0,  0,  0,  0,  0,  0,  0,  0,\n",
              "        0])"
            ]
          },
          "metadata": {},
          "execution_count": 111
        }
      ]
    },
    {
      "cell_type": "code",
      "source": [
        "plt.hist(reshaped)"
      ],
      "metadata": {
        "colab": {
          "base_uri": "https://localhost:8080/",
          "height": 317
        },
        "id": "tVMDl-YnCNSA",
        "outputId": "c55759d8-1da8-40ec-f4f6-045e32fcf779"
      },
      "execution_count": 112,
      "outputs": [
        {
          "output_type": "execute_result",
          "data": {
            "text/plain": [
              "(array([75.,  2.,  3.,  1.,  3.,  2.,  1.,  3.,  2., 28.]),\n",
              " array([ 0. ,  9.9, 19.8, 29.7, 39.6, 49.5, 59.4, 69.3, 79.2, 89.1, 99. ]),\n",
              " <a list of 10 Patch objects>)"
            ]
          },
          "metadata": {},
          "execution_count": 112
        },
        {
          "output_type": "display_data",
          "data": {
            "text/plain": [
              "<Figure size 432x288 with 1 Axes>"
            ],
            "image/png": "[encoded data removed]"
          },
          "metadata": {
            "needs_background": "light"
          }
        }
      ]
    },
    {
      "cell_type": "code",
      "source": [
        "plt.hist(reshaped,bins=20)"
      ],
      "metadata": {
        "colab": {
          "base_uri": "https://localhost:8080/",
          "height": 369
        },
        "id": "DojUObONCotE",
        "outputId": "31816b58-0f0c-4db1-a1e7-b4db2d31bca9"
      },
      "execution_count": 115,
      "outputs": [
        {
          "output_type": "execute_result",
          "data": {
            "text/plain": [
              "(array([72.,  3.,  1.,  1.,  1.,  2.,  1.,  0.,  1.,  2.,  0.,  2.,  1.,\n",
              "         0.,  1.,  2.,  1.,  1.,  3., 25.]),\n",
              " array([ 0.  ,  4.95,  9.9 , 14.85, 19.8 , 24.75, 29.7 , 34.65, 39.6 ,\n",
              "        44.55, 49.5 , 54.45, 59.4 , 64.35, 69.3 , 74.25, 79.2 , 84.15,\n",
              "        89.1 , 94.05, 99.  ]),\n",
              " <a list of 20 Patch objects>)"
            ]
          },
          "metadata": {},
          "execution_count": 115
        },
        {
          "output_type": "display_data",
          "data": {
            "text/plain": [
              "<Figure size 432x288 with 1 Axes>"
            ],
            "image/png": "[encoded data removed]"
          },
          "metadata": {
            "needs_background": "light"
          }
        }
      ]
    },
    {
      "cell_type": "markdown",
      "source": [
        "Converting the 1D array back to 2d"
      ],
      "metadata": {
        "id": "6jpvuHPMDvGh"
      }
    },
    {
      "cell_type": "code",
      "source": [
        "back_toD = np.reshape(reshaped, (15,8))\n",
        "plt.imshow(back_toD)"
      ],
      "metadata": {
        "colab": {
          "base_uri": "https://localhost:8080/",
          "height": 282
        },
        "id": "Kxuqyn1VDpDf",
        "outputId": "9d8a9a84-c34f-4d74-9052-5fc4c6cd1c8d"
      },
      "execution_count": 119,
      "outputs": [
        {
          "output_type": "execute_result",
          "data": {
            "text/plain": [
              "<matplotlib.image.AxesImage at 0x7f4cc64ca2d0>"
            ]
          },
          "metadata": {},
          "execution_count": 119
        },
        {
          "output_type": "display_data",
          "data": {
            "text/plain": [
              "<Figure size 432x288 with 1 Axes>"
            ],
            "image/png": "[encoded data removed]"
          },
          "metadata": {
            "needs_background": "light"
          }
        }
      ]
    },
    {
      "cell_type": "markdown",
      "source": [
        "Basic operations in numpy are always elementwise, such as multiplication, addition and division."
      ],
      "metadata": {
        "id": "6NUNcIzGEThR"
      }
    },
    {
      "cell_type": "code",
      "source": [
        "an_array * 10 #Multiplies every element in the array by ten"
      ],
      "metadata": {
        "colab": {
          "base_uri": "https://localhost:8080/"
        },
        "id": "kOi3zErgCJsT",
        "outputId": "f210adfd-f04f-4f2b-fd76-9e91f015a4ca"
      },
      "execution_count": 121,
      "outputs": [
        {
          "output_type": "execute_result",
          "data": {
            "text/plain": [
              "array([[  0,   0,   0,   0,   0,   0,   0,   0],\n",
              "       [  0,   0,   0,  90, 990, 990, 940,   0],\n",
              "       [  0,   0,   0, 250, 990, 990, 790,   0],\n",
              "       [  0,   0,   0,   0,   0,   0,   0,   0],\n",
              "       [  0,   0,   0, 560, 990, 990, 490,   0],\n",
              "       [  0,   0,   0, 730, 990, 990, 310,   0],\n",
              "       [  0,   0,   0, 910, 990, 990, 130,   0],\n",
              "       [  0,   0,  90, 990, 990, 940,   0,   0],\n",
              "       [  0,   0, 270, 990, 990, 770,   0,   0],\n",
              "       [  0,   0, 450, 990, 990, 590,   0,   0],\n",
              "       [  0,   0, 630, 990, 990, 420,   0,   0],\n",
              "       [  0,   0, 800, 990, 990, 240,   0,   0],\n",
              "       [  0,  10, 960, 990, 990,  60,   0,   0],\n",
              "       [  0, 160, 990, 990, 880,   0,   0,   0],\n",
              "       [  0,   0,   0,   0,   0,   0,   0,   0]])"
            ]
          },
          "metadata": {},
          "execution_count": 121
        }
      ]
    },
    {
      "cell_type": "markdown",
      "source": [
        "Comparison is also element-wise.For example:"
      ],
      "metadata": {
        "id": "XQr3w4TOFDXm"
      }
    },
    {
      "cell_type": "code",
      "source": [
        "an_array > 50"
      ],
      "metadata": {
        "colab": {
          "base_uri": "https://localhost:8080/"
        },
        "id": "sOo7gKLeE7Rv",
        "outputId": "e780c7eb-ce17-4892-fb40-89527efcad44"
      },
      "execution_count": 122,
      "outputs": [
        {
          "output_type": "execute_result",
          "data": {
            "text/plain": [
              "array([[False, False, False, False, False, False, False, False],\n",
              "       [False, False, False, False,  True,  True,  True, False],\n",
              "       [False, False, False, False,  True,  True,  True, False],\n",
              "       [False, False, False, False, False, False, False, False],\n",
              "       [False, False, False,  True,  True,  True, False, False],\n",
              "       [False, False, False,  True,  True,  True, False, False],\n",
              "       [False, False, False,  True,  True,  True, False, False],\n",
              "       [False, False, False,  True,  True,  True, False, False],\n",
              "       [False, False, False,  True,  True,  True, False, False],\n",
              "       [False, False, False,  True,  True,  True, False, False],\n",
              "       [False, False,  True,  True,  True, False, False, False],\n",
              "       [False, False,  True,  True,  True, False, False, False],\n",
              "       [False, False,  True,  True,  True, False, False, False],\n",
              "       [False, False,  True,  True,  True, False, False, False],\n",
              "       [False, False, False, False, False, False, False, False]])"
            ]
          },
          "metadata": {},
          "execution_count": 122
        }
      ]
    },
    {
      "cell_type": "code",
      "source": [
        "plt.imshow(an_array > 50)"
      ],
      "metadata": {
        "colab": {
          "base_uri": "https://localhost:8080/",
          "height": 282
        },
        "id": "IVdI97HIBpDf",
        "outputId": "e818a821-65f0-47a3-dd8d-6e19ec23222b"
      },
      "execution_count": 123,
      "outputs": [
        {
          "output_type": "execute_result",
          "data": {
            "text/plain": [
              "<matplotlib.image.AxesImage at 0x7f4cc6ae4bd0>"
            ]
          },
          "metadata": {},
          "execution_count": 123
        },
        {
          "output_type": "display_data",
          "data": {
            "text/plain": [
              "<Figure size 432x288 with 1 Axes>"
            ],
            "image/png": "[encoded data removed]"
          },
          "metadata": {
            "needs_background": "light"
          }
        }
      ]
    },
    {
      "cell_type": "code",
      "source": [
        "#Sclicing and array \n",
        "an_array[0:4,3:]\n",
        "plt.imshow(an_array[0:4,3:])"
      ],
      "metadata": {
        "colab": {
          "base_uri": "https://localhost:8080/",
          "height": 286
        },
        "id": "XsyBJsA1FPph",
        "outputId": "ee9a2ec4-98b8-4638-cd64-c6d12161e28a"
      },
      "execution_count": 125,
      "outputs": [
        {
          "output_type": "execute_result",
          "data": {
            "text/plain": [
              "<matplotlib.image.AxesImage at 0x7f4cc68920d0>"
            ]
          },
          "metadata": {},
          "execution_count": 125
        },
        {
          "output_type": "display_data",
          "data": {
            "text/plain": [
              "<Figure size 432x288 with 1 Axes>"
            ],
            "image/png": "[encoded data removed]"
          },
          "metadata": {
            "needs_background": "light"
          }
        }
      ]
    },
    {
      "cell_type": "markdown",
      "source": [
        "Three Dimensional Arrays"
      ],
      "metadata": {
        "id": "Kc1XHgjcHFAk"
      }
    },
    {
      "cell_type": "code",
      "source": [
        ""
      ],
      "metadata": {
        "id": "9P4HrBmKGo2C"
      },
      "execution_count": null,
      "outputs": []
    },
    {
      "cell_type": "code",
      "source": [
        ""
      ],
      "metadata": {
        "id": "LHQQFhsOGViQ"
      },
      "execution_count": null,
      "outputs": []
    }
  ]
}