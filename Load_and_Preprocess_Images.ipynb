{
  "nbformat": 4,
  "nbformat_minor": 0,
  "metadata": {
    "colab": {
      "name": "Load and Preprocess Images.ipynb",
      "provenance": [],
      "authorship_tag": "ABX9TyNKULPAlhRff9rdNqu6ePAD",
      "include_colab_link": true
    },
    "kernelspec": {
      "name": "python3",
      "display_name": "Python 3"
    },
    "language_info": {
      "name": "python"
    },
    "accelerator": "GPU",
    "gpuClass": "standard"
  },
  "cells": [
    {
      "cell_type": "markdown",
      "metadata": {
        "id": "view-in-github",
        "colab_type": "text"
      },
      "source": [
        "<a href=\"https://colab.research.google.com/github/Reptilefury/coursera-machine-learning/blob/main/Load_and_Preprocess_Images.ipynb\" target=\"_parent\"><img src=\"https://colab.research.google.com/assets/colab-badge.svg\" alt=\"Open In Colab\"/></a>"
      ]
    },
    {
      "cell_type": "code",
      "execution_count": 10,
      "metadata": {
        "id": "nrBit0dzmHFL"
      },
      "outputs": [],
      "source": [
        "import numpy as np \n",
        "import os\n",
        "import PIL\n",
        "import PIL.Image\n",
        "import tensorflow as tf \n",
        "import tensorflow_datasets as tfds\n",
        "import matplotlib.pyplot as plt\n"
      ]
    },
    {
      "cell_type": "code",
      "source": [
        ""
      ],
      "metadata": {
        "id": "CfpkR-L0psZ2"
      },
      "execution_count": 10,
      "outputs": []
    },
    {
      "cell_type": "code",
      "source": [
        "import pathlib\n",
        "from pathlib import Path\n",
        "\n",
        "flowers_url = \"https://storage.googleapis.com/download.tensorflow.org/example_images/flower_photos.tgz\"\n",
        "data_dir = tf.keras.utils.get_file(origin=flowers_url,fname=\"flower_photos\",untar = True)\n",
        "data_dir = Path(data_dir)"
      ],
      "metadata": {
        "id": "2dba1OAlo-bB"
      },
      "execution_count": 11,
      "outputs": []
    },
    {
      "cell_type": "code",
      "source": [
        "image_count = len(list(data_dir.glob('*/*.jpg')))\n",
        "print(image_count) \n",
        "#Total of 3 thousand six hundred and seventy images downloaded"
      ],
      "metadata": {
        "colab": {
          "base_uri": "https://localhost:8080/"
        },
        "id": "0TZ_KmTTqtbc",
        "outputId": "4e6ddd70-87d5-42e6-f34d-df04786f62be"
      },
      "execution_count": 12,
      "outputs": [
        {
          "output_type": "stream",
          "name": "stdout",
          "text": [
            "3670\n"
          ]
        }
      ]
    },
    {
      "cell_type": "code",
      "source": [
        "roses = list(data_dir.glob('roses/*'))\n",
        "\n",
        "\n",
        "len(roses)\n",
        "#PIL.Image.open(str(roses[0]))"
      ],
      "metadata": {
        "colab": {
          "base_uri": "https://localhost:8080/"
        },
        "id": "dfbrgpIYrQZw",
        "outputId": "de634d62-7aab-4f07-b7e6-dad54a7c1257"
      },
      "execution_count": 13,
      "outputs": [
        {
          "output_type": "execute_result",
          "data": {
            "text/plain": [
              "641"
            ]
          },
          "metadata": {},
          "execution_count": 13
        }
      ]
    },
    {
      "cell_type": "code",
      "source": [
        ""
      ],
      "metadata": {
        "id": "VbfRZENjo-ri"
      },
      "execution_count": 13,
      "outputs": []
    },
    {
      "cell_type": "code",
      "source": [
        "#Define the dataset parameters\n",
        "image_height =180\n",
        "image_width = 180\n",
        "image_batch = 32"
      ],
      "metadata": {
        "id": "-WPFcMrtrwr4"
      },
      "execution_count": 14,
      "outputs": []
    },
    {
      "cell_type": "code",
      "source": [
        "#Load the image off disk using keras utility\n",
        "train_ds = tf.keras.utils.image_dataset_from_directory(\n",
        "    data_dir,\n",
        "    subset=\"training\",\n",
        "    seed = 123,\n",
        "    validation_split = 0.2,\n",
        "    image_size = (image_width,image_height),\n",
        "    batch_size =image_batch\n",
        "    )\n",
        "\n",
        "#Load the validation data\n",
        "validation_ds = tf.keras.utils.image_dataset_from_directory(\n",
        "    data_dir,\n",
        "    subset = \"validation\",\n",
        "    seed = 123,\n",
        "    validation_split=0.2,\n",
        "    image_size = (image_width,image_height),\n",
        "    batch_size = image_batch\n",
        ")"
      ],
      "metadata": {
        "colab": {
          "base_uri": "https://localhost:8080/"
        },
        "id": "CRLiO4KesY8Y",
        "outputId": "e92f3eac-9629-49b8-a35d-087964f28ac0"
      },
      "execution_count": 15,
      "outputs": [
        {
          "output_type": "stream",
          "name": "stdout",
          "text": [
            "Found 3670 files belonging to 5 classes.\n",
            "Using 2936 files for training.\n",
            "Found 3670 files belonging to 5 classes.\n",
            "Using 734 files for validation.\n"
          ]
        }
      ]
    },
    {
      "cell_type": "code",
      "source": [
        "class_names = train_ds.class_names\n",
        "print(class_names)"
      ],
      "metadata": {
        "colab": {
          "base_uri": "https://localhost:8080/"
        },
        "id": "p0rDsSqiua0I",
        "outputId": "43bd6a17-5906-42ca-f91e-e0cba5a4e05d"
      },
      "execution_count": 16,
      "outputs": [
        {
          "output_type": "stream",
          "name": "stdout",
          "text": [
            "['daisy', 'dandelion', 'roses', 'sunflowers', 'tulips']\n"
          ]
        }
      ]
    },
    {
      "cell_type": "code",
      "source": [
        "#Visualize the data to check whether the data is labeled correctly\n",
        "for images,labels in train_ds.take(1):\n",
        "  for i in range(9):\n",
        "    ax = plt.subplot(3,3, i + 1)\n",
        "    plt.imshow(images[i].numpy().astype(\"uint8\"))\n",
        "    plt.title(class_names[labels[i]])\n",
        "    plt.axis('off')"
      ],
      "metadata": {
        "colab": {
          "base_uri": "https://localhost:8080/",
          "height": 264
        },
        "id": "Hjz2otu0vRCU",
        "outputId": "d2d863ae-b24e-4ea7-ed9d-69eaae0e8d52"
      },
      "execution_count": 18,
      "outputs": [
        {
          "output_type": "display_data",
          "data": {
            "text/plain": [
              "<Figure size 432x288 with 9 Axes>"
            ],
            "image/png": "[encoded data removed]"
          },
          "metadata": {
            "needs_background": "light"
          }
        }
      ]
    },
    {
      "cell_type": "code",
      "source": [
        ""
      ],
      "metadata": {
        "id": "BlCvQQzCpyLU"
      },
      "execution_count": null,
      "outputs": []
    },
    {
      "cell_type": "code",
      "source": [
        "#Lets manually iterate over the dataset and retrieve the batch images\n",
        "for image_batch,labels_batch in train_ds:\n",
        "  print(image_batch.shape)\n",
        "  print(labels_batch.shape)\n",
        "  break"
      ],
      "metadata": {
        "colab": {
          "base_uri": "https://localhost:8080/"
        },
        "id": "wJHhNvsNx1cV",
        "outputId": "e36b31b5-850e-4d71-8e61-581b4c0b72e8"
      },
      "execution_count": 19,
      "outputs": [
        {
          "output_type": "stream",
          "name": "stdout",
          "text": [
            "(32, 180, 180, 3)\n",
            "(32,)\n"
          ]
        }
      ]
    },
    {
      "cell_type": "markdown",
      "source": [
        "RGB channel(3) this means that the image has 3 channels, so we have to standardize or normalize the data before we pass them to our neural network. Normalization means turning the values to be floating point numbers in between zero and one [0,1] "
      ],
      "metadata": {
        "id": "rg6TKtemzj-h"
      }
    },
    {
      "cell_type": "code",
      "source": [
        "normalization_layer = tf.keras.layers.Rescaling(1./255)\n",
        "\n",
        "normalized_ds = train_ds.map(lambda x,y:(normalization_layer(x),y))"
      ],
      "metadata": {
        "id": "VO0B8fE1yd8N"
      },
      "execution_count": 20,
      "outputs": []
    },
    {
      "cell_type": "code",
      "source": [
        "for image,label in normalized_ds.take(1):\n",
        "  print(np.max(image))\n",
        "  print(np.min(image))\n",
        "  #print(image)"
      ],
      "metadata": {
        "id": "8WfpB2z9042o",
        "colab": {
          "base_uri": "https://localhost:8080/"
        },
        "outputId": "f772a7f3-9f75-4180-c621-f995ec31ec2c"
      },
      "execution_count": 21,
      "outputs": [
        {
          "output_type": "stream",
          "name": "stdout",
          "text": [
            "1.0\n",
            "0.0\n"
          ]
        }
      ]
    },
    {
      "cell_type": "markdown",
      "source": [
        "Load and preprocess images"
      ],
      "metadata": {
        "id": "PPaenc1NOEOW"
      }
    },
    {
      "cell_type": "code",
      "source": [
        "import numpy as np\n",
        "import matplotlib.pyplot as plt\n",
        "import tensorflow as tf\n",
        "import pathlib\n",
        "from pathlib import Path \n",
        "import PIL.Image "
      ],
      "metadata": {
        "id": "xifKKYSo1S6y"
      },
      "execution_count": 22,
      "outputs": []
    },
    {
      "cell_type": "code",
      "source": [
        "flower_url = \"https://storage.googleapis.com/download.tensorflow.org/example_images/flower_photos.tgz\"\n",
        "data_dir = tf.keras.utils.get_file(fname=\"flower_photos\",origin=flower_url,untar=True)\n",
        "data_dir = Path(data_dir)\n",
        "roses = list(data_dir.glob(\"roses/*\"))\n",
        "PIL.Image.open(str(roses[7]))"
      ],
      "metadata": {
        "colab": {
          "base_uri": "https://localhost:8080/",
          "height": 257
        },
        "id": "YJIP_tmDOVAQ",
        "outputId": "468e9d45-1389-4ec5-cf68-48160afdaa25"
      },
      "execution_count": 23,
      "outputs": [
        {
          "output_type": "execute_result",
          "data": {
            "text/plain": [
              "<PIL.JpegImagePlugin.JpegImageFile image mode=RGB size=180x240 at 0x7F137069D590>"
            ],
            "image/png": "[encoded data removed]"
          },
          "metadata": {},
          "execution_count": 23
        }
      ]
    },
    {
      "cell_type": "code",
      "source": [
        "image_width = 180\n",
        "image_height = 180\n",
        "image_size = (image_width,image_height)\n",
        "batch = 32 \n",
        "#Load the data from disk\n",
        "train_dataset = tf.keras.utils.image_dataset_from_directory(\n",
        "    data_dir,\n",
        "    subset = \"training\",\n",
        "    seed = 123,\n",
        "    validation_split = 0.2,\n",
        "    image_size = image_size,\n",
        "    batch_size = batch\n",
        "    )\n",
        "\n",
        "test_dataset = tf.keras.utils.image_dataset_from_directory(\n",
        "    data_dir,\n",
        "    subset = \"validation\",\n",
        "    seed = 123,\n",
        "    validation_split = 0.2,\n",
        "    image_size = image_size,\n",
        "    batch_size = batch\n",
        ")"
      ],
      "metadata": {
        "id": "m9FaxmZ90pss",
        "colab": {
          "base_uri": "https://localhost:8080/"
        },
        "outputId": "337138a1-fce5-4dc9-9da2-df4d1e1a3076"
      },
      "execution_count": 24,
      "outputs": [
        {
          "output_type": "stream",
          "name": "stdout",
          "text": [
            "Found 3670 files belonging to 5 classes.\n",
            "Using 2936 files for training.\n",
            "Found 3670 files belonging to 5 classes.\n",
            "Using 734 files for validation.\n"
          ]
        }
      ]
    },
    {
      "cell_type": "code",
      "source": [
        "class_names = train_dataset.class_names\n",
        "#Visualize the data before building the computational graph\n",
        "for images,labels in train_dataset.take(1):\n",
        "  for i in range(12):\n",
        "    ax = plt.subplot(4,3, i + 1)\n",
        "    plt.imshow(images[i].numpy().astype(\"uint8\"))\n",
        "    plt.title(class_names[labels[i]])\n",
        "    plt.axis(\"off\")"
      ],
      "metadata": {
        "colab": {
          "base_uri": "https://localhost:8080/",
          "height": 264
        },
        "id": "GwbbVu13RQ-F",
        "outputId": "a64d262e-d288-44cc-a508-462da37ff0fd"
      },
      "execution_count": 25,
      "outputs": [
        {
          "output_type": "display_data",
          "data": {
            "text/plain": [
              "<Figure size 432x288 with 12 Axes>"
            ],
            "image/png": "[encoded data removed]"
          },
          "metadata": {
            "needs_background": "light"
          }
        }
      ]
    },
    {
      "cell_type": "code",
      "source": [
        "#Normalize the data before training \n",
        "#normalized_layer = tf.keras.layers.Rescaling(1./255.0)\n",
        "#train_dataset = train_dataset.map(lambda x,y: (normalized_layer(x),y))"
      ],
      "metadata": {
        "id": "r3QgzojkSI3E"
      },
      "execution_count": 26,
      "outputs": []
    },
    {
      "cell_type": "code",
      "source": [
        "#Check whether the data has been normalized\n",
        "\n",
        "for batch,(x,y) in enumerate(train_dataset):\n",
        "  print(x.shape)\n",
        "  print(np.min(x))\n",
        "  break"
      ],
      "metadata": {
        "colab": {
          "base_uri": "https://localhost:8080/"
        },
        "id": "B4-6cnvrSu_D",
        "outputId": "fdceff54-2e56-48a3-98bc-32d8016fb43c"
      },
      "execution_count": 27,
      "outputs": [
        {
          "output_type": "stream",
          "name": "stdout",
          "text": [
            "(32, 180, 180, 3)\n",
            "0.0\n"
          ]
        }
      ]
    },
    {
      "cell_type": "code",
      "source": [
        "\n",
        "\n",
        "\n",
        "#Configure the dataset for performance \n",
        "AUTOTUNE = tf.data.AUTOTUNE\n",
        "\n",
        "train_dataset = train_dataset.cache().prefetch(buffer_size=AUTOTUNE)\n",
        "test_dataset = test_dataset.cache().prefetch(buffer_size=AUTOTUNE)\n",
        "\n",
        "\n",
        "#train_dataset = train_dataset[...,tf.newaxis].astype(\"float32\")\n",
        "#test_dataset = test_dataset[...,tf.newaxis].astype(\"float32\")\n",
        "\n",
        "#Define a model and train \n",
        "\n",
        "reg = 0.1\n",
        "\n",
        "class NeuralNetwork(tf.keras.Model):\n",
        "  def __init__(self):\n",
        "    super(NeuralNetwork,self).__init__()\n",
        "    #Conv Block 1\n",
        "    self.rescale = tf.keras.layers.Rescaling(1./255)\n",
        "    self.conv1 = tf.keras.layers.Conv2D(16,(2,2),activation=\"relu\",kernel_regularizer=tf.keras.regularizers.L2(l2=reg),padding=\"same\")\n",
        "    self.maxp1 = tf.keras.layers.MaxPool2D((2,2))\n",
        "\n",
        "    #Conv Block 2\n",
        "    self.conv2 = tf.keras.layers.Conv2D(32,(2,2),activation=\"relu\",kernel_regularizer=tf.keras.regularizers.L2(l2=reg),padding=\"same\")\n",
        "    self.maxp2 = tf.keras.layers.MaxPool2D((2,2))\n",
        "    \n",
        "\n",
        "    #Conv Block 3\n",
        "    self.conv3 = tf.keras.layers.Conv2D(64,(2,2),activation=\"relu\",kernel_regularizer=tf.keras.regularizers.L2(l2=reg),padding=\"same\")\n",
        "    self.maxp3 = tf.keras.layers.MaxPool2D((2,2))\n",
        "    \n",
        "    #Conv Block 4\n",
        "    self.conv4 = tf.keras.layers.Conv2D(128,(2,2),activation=\"elu\",kernel_regularizer = tf.keras.regularizers.L2(l2=reg),kernel_initializer=\"he_normal\",padding=\"same\")\n",
        "    self.maxp4 = tf.keras.layers.MaxPool2D((2,2))\n",
        "    \n",
        "    #Conv Block 5\n",
        "    self.conv5 = tf.keras.layers.Conv2D(256,(2,2),kernel_regularizer=tf.keras.regularizers.L2(l2= reg),activation=\"elu\",kernel_initializer=\"he_normal\",padding=\"same\")\n",
        "    self.maxp5 = tf.keras.layers.MaxPool2D((2,2))\n",
        "    \n",
        "    \n",
        "    #self.GlobalP=tf.keras.layers.GlobalAveragePooling2D()\n",
        "    self.flatten = tf.keras.layers.Flatten()\n",
        "    self.batchnorm = tf.keras.layers.BatchNormalization()\n",
        "    self.dense1 = tf.keras.layers.Dense(300,kernel_initializer=\"he_normal\")\n",
        "    self.activ1 = tf.keras.layers.Activation(\"elu\")\n",
        "    self.drop1 = tf.keras.layers.Dropout(0.3)\n",
        "    self.dense2 = tf.keras.layers.Dense(200,kernel_initializer=\"he_normal\")\n",
        "    self.activ2 = tf.keras.layers.Activation(\"elu\")\n",
        "    self.dense3 = tf.keras.layers.Dense(200,kernel_initializer=\"he_normal\")\n",
        "    self.activ3 = tf.keras.layers.Activation(\"elu\")\n",
        "    self.dense4 = tf.keras.layers.Dense(200,kernel_initializer=\"he_normal\")\n",
        "    self.activ4 = tf.keras.layers.Activation(\"elu\")\n",
        "    self.dense5 = tf.keras.layers.Dense(200,kernel_initializer=\"he_normal\")\n",
        "    self.activ5 = tf.keras.layers.Activation(\"elu\")\n",
        "    self.dense6 = tf.keras.layers.Dense(200,kernel_initializer=\"he_normal\")\n",
        "    self.activ6 = tf.keras.layers.Activation(\"elu\")\n",
        "    self.dense7 = tf.keras.layers.Dense(200,kernel_initializer=\"he_normal\")\n",
        "    self.activ7 = tf.keras.layers.Activation(\"elu\")\n",
        "    self.dense8 = tf.keras.layers.Dense(200,kernel_initializer=\"he_normal\")\n",
        "    self.activ8 = tf.keras.layers.Activation(\"elu\")\n",
        "    self.dense9 = tf.keras.layers.Dense(200,kernel_initializer=\"he_normal\")\n",
        "    self.activ9 = tf.keras.layers.Activation(\"elu\")\n",
        "    self.dense10 = tf.keras.layers.Dense(200,kernel_initializer=\"he_normal\")\n",
        "    self.activ10 = tf.keras.layers.Activation(\"elu\")\n",
        "    self.dense11 = tf.keras.layers.Dense(200,kernel_initializer=\"he_normal\")\n",
        "    self.activ11 = tf.keras.layers.Activation(\"elu\")\n",
        "    self.dense12 = tf.keras.layers.Dense(200,kernel_initializer=\"he_normal\")\n",
        "    self.activ12 = tf.keras.layers.Activation(\"elu\")\n",
        "    self.dense13 = tf.keras.layers.Dense(200,kernel_initializer=\"he_normal\")\n",
        "    self.activ13 = tf.keras.layers.Activation(\"elu\")\n",
        "    self.dense14 = tf.keras.layers.Dense(200,kernel_initializer=\"he_normal\")\n",
        "    self.activ14 = tf.keras.layers.Activation(\"elu\")\n",
        "    self.dense15  = tf.keras.layers.Dense(200,kernel_initializer=\"he_normal\")\n",
        "    self.activ15 = tf.keras.layers.Activation(\"elu\")\n",
        "    self.dense16 = tf.keras.layers.Dense(200,kernel_initializer=\"he_normal\")\n",
        "    self.activ16 = tf.keras.layers.Activation(\"elu\")\n",
        "    self.dense17 = tf.keras.layers.Dense(200,kernel_initializer=\"he_normal\")\n",
        "    self.activ17 = tf.keras.layers.Activation(\"elu\")\n",
        "    self.dense18 = tf.keras.layers.Dense(200,kernel_initializer=\"he_normal\")\n",
        "    self.activ18 = tf.keras.layers.Activation(\"elu\")\n",
        "    self.dense19 = tf.keras.layers.Dense(200,kernel_initializer=\"he_normal\")\n",
        "    self.activ19 = tf.keras.layers.Activation(\"elu\")\n",
        "    self.dense20 = tf.keras.layers.Dense(200,kernel_initializer=\"he_normal\")\n",
        "    self.activ20 = tf.keras.layers.Activation(\"elu\")\n",
        "    self.batchnorm1 = tf.keras.layers.BatchNormalization()\n",
        "    self.output1 = tf.keras.layers.Dense(5)  \n",
        "\n",
        "  def call(self,x):\n",
        "    x = self.rescale(x)\n",
        "    x = self.conv1(x)\n",
        "    x = self.maxp1(x)\n",
        "    \n",
        "    x = self.conv2(x)\n",
        "    x = self.maxp2(x)\n",
        "\n",
        "    x = self.conv3(x)\n",
        "    x = self.maxp3(x)\n",
        "\n",
        "    x = self.conv4(x)\n",
        "    x = self.maxp4(x)\n",
        "\n",
        "    x = self.conv5(x)\n",
        "    x = self.maxp5(x)\n",
        "\n",
        "    #x = self.GlobalP(x)\n",
        "    x = self.flatten(x)\n",
        "    x = self.batchnorm(x)\n",
        "    x = self.dense1(x)\n",
        "    x = self.activ1(x)\n",
        "    x = self.drop1(x)\n",
        "    x = self.dense2(x)\n",
        "    x = self.activ2(x)\n",
        "    x = self.dense3(x)\n",
        "    x = self.activ3(x)\n",
        "    x = self.dense4(x)\n",
        "    x = self.activ4(x)\n",
        "    x = self.dense5(x)\n",
        "    x = self.activ5(x)\n",
        "    x = self.dense6(x)\n",
        "    x = self.activ6(x)\n",
        "    x = self.dense7(x)\n",
        "    x = self.activ7(x)\n",
        "    x = self.dense8(x)\n",
        "    x = self.activ8(x)\n",
        "    x = self.dense9(x)\n",
        "    x = self.activ9(x)\n",
        "    x = self.dense10(x)\n",
        "    x = self.activ10(x)\n",
        "    x = self.dense11(x)\n",
        "    x = self.activ11(x)\n",
        "    x = self.dense12(x)\n",
        "    x = self.activ12(x)\n",
        "    x = self.dense13(x)\n",
        "    x = self.activ13(x)\n",
        "    x = self.dense14(x)\n",
        "    x = self.activ14(x)\n",
        "    x = self.dense15(x)\n",
        "    x = self.activ15(x)\n",
        "    x = self.dense16(x)\n",
        "    x = self.activ16(x)\n",
        "    x = self.dense17(x)\n",
        "    x = self.activ17(x)\n",
        "    x = self.dense18(x)\n",
        "    x = self.activ18(x)\n",
        "    x = self.dense19(x)\n",
        "    x = self.activ19(x)\n",
        "    x = self.dense20(x)\n",
        "    x = self.activ20(x)\n",
        "    x = self.batchnorm1(x)\n",
        "    x = self.output1(x)\n",
        "    return x\n",
        "\n",
        "\n",
        "model = NeuralNetwork()\n"
      ],
      "metadata": {
        "id": "owyWpdAcTFxQ"
      },
      "execution_count": 56,
      "outputs": []
    },
    {
      "cell_type": "code",
      "source": [
        ""
      ],
      "metadata": {
        "id": "Vux0K1u1vl5t"
      },
      "execution_count": null,
      "outputs": []
    },
    {
      "cell_type": "code",
      "source": [
        "#Define the hyperparameters\n",
        "loss_fn = tf.keras.losses.SparseCategoricalCrossentropy(from_logits=True)\n",
        "optimizer = tf.keras.optimizers.Adam()\n",
        "\n",
        "train_accuracy = tf.keras.metrics.SparseCategoricalAccuracy(name=\"training Accuracy\")\n",
        "train_loss = tf.keras.metrics.Mean(name=\"training loss\")\n",
        "\n",
        "\n",
        "test_accuracy = tf.keras.metrics.SparseCategoricalAccuracy(name = \"test Accuracy\")\n",
        "test_loss = tf.keras.metrics.Mean(name = \"testing Loss\")\n",
        "\n",
        "\n",
        "#Define the training loop \n",
        "@tf.function\n",
        "def train_step(images,labels):\n",
        "  with tf.GradientTape() as tape:\n",
        "    predictions = model(images,training=True)\n",
        "    loss = loss_fn(labels,predictions)\n",
        "    gradients = tape.gradient(loss,model.trainable_variables)\n",
        "    optimizer.apply_gradients(zip(gradients,model.trainable_variables))\n",
        "\n",
        "  train_loss(loss) \n",
        "  train_accuracy(labels,predictions)\n",
        "\n",
        "#Testing loop\n",
        "@tf.function \n",
        "def test_step(images,labels):\n",
        "  predictions = model(images,training =False)\n",
        "  loss = loss_fn(labels,predictions)\n",
        "\n",
        "  test_loss(loss)\n",
        "  test_accuracy(labels,predictions)"
      ],
      "metadata": {
        "id": "MfVO9zabXies"
      },
      "execution_count": 57,
      "outputs": []
    },
    {
      "cell_type": "code",
      "source": [
        "#Train the mode\n",
        "EPOCHS = 200\n",
        "for epoch in range(EPOCHS):\n",
        "  #Reset the metrics\n",
        "  train_accuracy.reset_states()\n",
        "  train_loss.reset_states()\n",
        "\n",
        "  test_accuracy.reset_states()\n",
        "  test_loss.reset_states()\n",
        "\n",
        "  for images,labels in train_dataset:\n",
        "    train_step(images,labels)\n",
        "\n",
        "  for images,labels in test_dataset:\n",
        "    test_step(images,labels)\n",
        "\n",
        "  print(f\"Train Accuracy:{train_accuracy.result()}, Train Loss:{train_loss.result()}\\n\")\n",
        "  print(f\"Test Accuracy:{test_accuracy.result()}, Test Loss:{test_loss.result()}\\n\")"
      ],
      "metadata": {
        "colab": {
          "base_uri": "https://localhost:8080/"
        },
        "id": "ZRigW-CBZ9gR",
        "outputId": "e1a5c67c-1f0a-49ae-819c-3bade9c01b0d"
      },
      "execution_count": 58,
      "outputs": [
        {
          "output_type": "stream",
          "name": "stdout",
          "text": [
            "Train Accuracy:0.42336511611938477, Train Loss:1.3885619640350342\n",
            "\n",
            "Test Accuracy:0.36784741282463074, Test Loss:1.4499584436416626\n",
            "\n",
            "Train Accuracy:0.5354223251342773, Train Loss:1.1523828506469727\n",
            "\n",
            "Test Accuracy:0.31062671542167664, Test Loss:1.7086448669433594\n",
            "\n",
            "Train Accuracy:0.5841280817985535, Train Loss:1.0427300930023193\n",
            "\n",
            "Test Accuracy:0.3937329649925232, Test Loss:1.4575072526931763\n",
            "\n",
            "Train Accuracy:0.6175068020820618, Train Loss:0.9654176235198975\n",
            "\n",
            "Test Accuracy:0.5667575001716614, Test Loss:1.0756596326828003\n",
            "\n",
            "Train Accuracy:0.6379427909851074, Train Loss:0.9113283753395081\n",
            "\n",
            "Test Accuracy:0.4945504069328308, Test Loss:1.4684735536575317\n",
            "\n",
            "Train Accuracy:0.6559945344924927, Train Loss:0.8884081840515137\n",
            "\n",
            "Test Accuracy:0.30245232582092285, Test Loss:40.68672180175781\n",
            "\n",
            "Train Accuracy:0.6600817441940308, Train Loss:0.8992818593978882\n",
            "\n",
            "Test Accuracy:0.24659401178359985, Test Loss:4.340338230133057\n",
            "\n",
            "Train Accuracy:0.708106279373169, Train Loss:0.7829042673110962\n",
            "\n",
            "Test Accuracy:0.5108991861343384, Test Loss:1.5698953866958618\n",
            "\n",
            "Train Accuracy:0.7391008138656616, Train Loss:0.698203980922699\n",
            "\n",
            "Test Accuracy:0.5613079071044922, Test Loss:1.1339915990829468\n",
            "\n",
            "Train Accuracy:0.7721389532089233, Train Loss:0.6152619123458862\n",
            "\n",
            "Test Accuracy:0.23569482564926147, Test Loss:4.214146614074707\n",
            "\n",
            "Train Accuracy:0.7816757559776306, Train Loss:0.6263691186904907\n",
            "\n",
            "Test Accuracy:0.5722070932388306, Test Loss:1.6184836626052856\n",
            "\n",
            "Train Accuracy:0.8273161053657532, Train Loss:0.4793088436126709\n",
            "\n",
            "Test Accuracy:0.4891008138656616, Test Loss:1.8497073650360107\n",
            "\n",
            "Train Accuracy:0.8089237213134766, Train Loss:0.5543551445007324\n",
            "\n",
            "Test Accuracy:0.5940054655075073, Test Loss:1.372235894203186\n",
            "\n",
            "Train Accuracy:0.8293596506118774, Train Loss:0.4821755290031433\n",
            "\n",
            "Test Accuracy:0.5299727320671082, Test Loss:1.9409120082855225\n",
            "\n",
            "Train Accuracy:0.8695504069328308, Train Loss:0.40503329038619995\n",
            "\n",
            "Test Accuracy:0.41553133726119995, Test Loss:2.1070213317871094\n",
            "\n",
            "Train Accuracy:0.9019073843955994, Train Loss:0.31957730650901794\n",
            "\n",
            "Test Accuracy:0.5122615694999695, Test Loss:1.8894379138946533\n",
            "\n",
            "Train Accuracy:0.917574942111969, Train Loss:0.2724910080432892\n",
            "\n",
            "Test Accuracy:0.6103542447090149, Test Loss:1.4826034307479858\n",
            "\n",
            "Train Accuracy:0.9311988949775696, Train Loss:0.24440446496009827\n",
            "\n",
            "Test Accuracy:0.6457765698432922, Test Loss:1.2122128009796143\n",
            "\n",
            "Train Accuracy:0.9444822669029236, Train Loss:0.18697062134742737\n",
            "\n",
            "Test Accuracy:0.640326976776123, Test Loss:1.5151417255401611\n",
            "\n",
            "Train Accuracy:0.9465258717536926, Train Loss:0.1869954913854599\n",
            "\n",
            "Test Accuracy:0.5694822669029236, Test Loss:2.1946938037872314\n",
            "\n",
            "Train Accuracy:0.944141685962677, Train Loss:0.18583667278289795\n",
            "\n",
            "Test Accuracy:0.6144413948059082, Test Loss:1.7990823984146118\n",
            "\n",
            "Train Accuracy:0.9478882551193237, Train Loss:0.1726137399673462\n",
            "\n",
            "Test Accuracy:0.583106279373169, Test Loss:1.945084810256958\n",
            "\n",
            "Train Accuracy:0.9431198835372925, Train Loss:0.18029537796974182\n",
            "\n",
            "Test Accuracy:0.640326976776123, Test Loss:1.4542570114135742\n",
            "\n",
            "Train Accuracy:0.9638964533805847, Train Loss:0.12759459018707275\n",
            "\n",
            "Test Accuracy:0.6294277906417847, Test Loss:1.6024062633514404\n",
            "\n",
            "Train Accuracy:0.9632152318954468, Train Loss:0.12200365960597992\n",
            "\n",
            "Test Accuracy:0.4495912790298462, Test Loss:4.005597114562988\n",
            "\n",
            "Train Accuracy:0.9615122675895691, Train Loss:0.1417907476425171\n",
            "\n",
            "Test Accuracy:0.5762943029403687, Test Loss:2.6990625858306885\n",
            "\n",
            "Train Accuracy:0.9703678488731384, Train Loss:0.11120371520519257\n",
            "\n",
            "Test Accuracy:0.6376021504402161, Test Loss:1.8203281164169312\n",
            "\n",
            "Train Accuracy:0.9649182558059692, Train Loss:0.12245588004589081\n",
            "\n",
            "Test Accuracy:0.46321526169776917, Test Loss:2.1846582889556885\n",
            "\n",
            "Train Accuracy:0.9604904651641846, Train Loss:0.17013047635555267\n",
            "\n",
            "Test Accuracy:0.5899182558059692, Test Loss:23.31938362121582\n",
            "\n",
            "Train Accuracy:0.9679836630821228, Train Loss:0.12977612018585205\n",
            "\n",
            "Test Accuracy:0.5667575001716614, Test Loss:2.8156239986419678\n",
            "\n",
            "Train Accuracy:0.9604904651641846, Train Loss:0.14692188799381256\n",
            "\n",
            "Test Accuracy:0.531335175037384, Test Loss:308.10186767578125\n",
            "\n",
            "Train Accuracy:0.9717302322387695, Train Loss:0.10401234775781631\n",
            "\n",
            "Test Accuracy:0.43051770329475403, Test Loss:5.037906646728516\n",
            "\n",
            "Train Accuracy:0.958106279373169, Train Loss:0.15285758674144745\n",
            "\n",
            "Test Accuracy:0.6021798253059387, Test Loss:2.466127395629883\n",
            "\n",
            "Train Accuracy:0.9737738370895386, Train Loss:0.09884171187877655\n",
            "\n",
            "Test Accuracy:0.6307901740074158, Test Loss:2.0254921913146973\n",
            "\n",
            "Train Accuracy:0.9679836630821228, Train Loss:0.10369321703910828\n",
            "\n",
            "Test Accuracy:0.608991801738739, Test Loss:2.1704397201538086\n",
            "\n",
            "Train Accuracy:0.9761580228805542, Train Loss:0.08579441905021667\n",
            "\n",
            "Test Accuracy:0.6784741282463074, Test Loss:1.50749933719635\n",
            "\n",
            "Train Accuracy:0.9816076159477234, Train Loss:0.07021327316761017\n",
            "\n",
            "Test Accuracy:0.6348773837089539, Test Loss:1.9965264797210693\n",
            "\n",
            "Train Accuracy:0.9792234301567078, Train Loss:0.08031752705574036\n",
            "\n",
            "Test Accuracy:0.5735694766044617, Test Loss:1.9976272583007812\n",
            "\n",
            "Train Accuracy:0.9352861046791077, Train Loss:0.21663248538970947\n",
            "\n",
            "Test Accuracy:0.21525885164737701, Test Loss:33111.12109375\n",
            "\n",
            "Train Accuracy:0.5364441275596619, Train Loss:1.3196152448654175\n",
            "\n",
            "Test Accuracy:0.36648499965667725, Test Loss:2.0927786827087402\n",
            "\n",
            "Train Accuracy:0.6358991861343384, Train Loss:0.9954780340194702\n",
            "\n",
            "Test Accuracy:0.4564032554626465, Test Loss:1.4801576137542725\n",
            "\n",
            "Train Accuracy:0.765326976776123, Train Loss:0.6952077746391296\n",
            "\n",
            "Test Accuracy:0.388283371925354, Test Loss:1.6392987966537476\n",
            "\n",
            "Train Accuracy:0.7595368027687073, Train Loss:0.7164497375488281\n",
            "\n",
            "Test Accuracy:0.36648499965667725, Test Loss:1.8032331466674805\n",
            "\n",
            "Train Accuracy:0.7867847681045532, Train Loss:0.6694881319999695\n",
            "\n",
            "Test Accuracy:0.4591280519962311, Test Loss:3.2218449115753174\n",
            "\n",
            "Train Accuracy:0.8470708727836609, Train Loss:0.49606797099113464\n",
            "\n",
            "Test Accuracy:0.6553133726119995, Test Loss:1.2891712188720703\n",
            "\n",
            "Train Accuracy:0.8487738370895386, Train Loss:0.5421028137207031\n",
            "\n",
            "Test Accuracy:0.6253405809402466, Test Loss:1.3289093971252441\n",
            "\n",
            "Train Accuracy:0.9049727320671082, Train Loss:0.3399779498577118\n",
            "\n",
            "Test Accuracy:0.636239767074585, Test Loss:1.2625787258148193\n",
            "\n",
            "Train Accuracy:0.9448229074478149, Train Loss:0.20758900046348572\n",
            "\n",
            "Test Accuracy:0.6907356977462769, Test Loss:1.4071141481399536\n",
            "\n",
            "Train Accuracy:0.9638964533805847, Train Loss:0.13959981501102448\n",
            "\n",
            "Test Accuracy:0.6907356977462769, Test Loss:1.602881908416748\n",
            "\n",
            "Train Accuracy:0.9690054655075073, Train Loss:0.10465966165065765\n",
            "\n",
            "Test Accuracy:0.6771117448806763, Test Loss:1.546005368232727\n",
            "\n",
            "Train Accuracy:0.9788828492164612, Train Loss:0.08207361400127411\n",
            "\n",
            "Test Accuracy:0.6811988949775696, Test Loss:1.5202802419662476\n",
            "\n",
            "Train Accuracy:0.9884195923805237, Train Loss:0.06196823716163635\n",
            "\n",
            "Test Accuracy:0.692098081111908, Test Loss:1.4654160737991333\n",
            "\n",
            "Train Accuracy:0.9884195923805237, Train Loss:0.05024426802992821\n",
            "\n",
            "Test Accuracy:0.6948229074478149, Test Loss:1.5490751266479492\n",
            "\n",
            "Train Accuracy:0.9891008138656616, Train Loss:0.04497060552239418\n",
            "\n",
            "Test Accuracy:0.2929155230522156, Test Loss:3735372.5\n",
            "\n",
            "Train Accuracy:0.8293596506118774, Train Loss:0.6078412532806396\n",
            "\n",
            "Test Accuracy:0.23160763084888458, Test Loss:5.0304741859436035\n",
            "\n",
            "Train Accuracy:0.42472752928733826, Train Loss:1.5806562900543213\n",
            "\n",
            "Test Accuracy:0.2275204360485077, Test Loss:5.983974933624268\n",
            "\n",
            "Train Accuracy:0.5105586051940918, Train Loss:1.0858490467071533\n",
            "\n",
            "Test Accuracy:0.3487738370895386, Test Loss:1.941856026649475\n",
            "\n",
            "Train Accuracy:0.6175068020820618, Train Loss:0.9038153290748596\n",
            "\n",
            "Test Accuracy:0.524523138999939, Test Loss:1.2861299514770508\n",
            "\n",
            "Train Accuracy:0.6733651161193848, Train Loss:0.7967963814735413\n",
            "\n",
            "Test Accuracy:0.555858314037323, Test Loss:1.216240644454956\n",
            "\n",
            "Train Accuracy:0.7230926156044006, Train Loss:0.6962323188781738\n",
            "\n",
            "Test Accuracy:0.5190735459327698, Test Loss:1.3576775789260864\n",
            "\n",
            "Train Accuracy:0.7431880235671997, Train Loss:0.6276033520698547\n",
            "\n",
            "Test Accuracy:0.5504087209701538, Test Loss:1.4786945581436157\n",
            "\n",
            "Train Accuracy:0.7758855819702148, Train Loss:0.5847691297531128\n",
            "\n",
            "Test Accuracy:0.5572206974029541, Test Loss:1.4784826040267944\n",
            "\n",
            "Train Accuracy:0.7966621518135071, Train Loss:0.5322989821434021\n",
            "\n",
            "Test Accuracy:0.5544959306716919, Test Loss:1.4985907077789307\n",
            "\n",
            "Train Accuracy:0.817098081111908, Train Loss:0.5384621620178223\n",
            "\n",
            "Test Accuracy:0.553133487701416, Test Loss:1.712278127670288\n",
            "\n",
            "Train Accuracy:0.8293596506118774, Train Loss:0.5143152475357056\n",
            "\n",
            "Test Accuracy:0.5817438960075378, Test Loss:1.6181471347808838\n",
            "\n",
            "Train Accuracy:0.8276566863059998, Train Loss:0.5020061731338501\n",
            "\n",
            "Test Accuracy:0.5422343611717224, Test Loss:2.1191601753234863\n",
            "\n",
            "Train Accuracy:0.8208447098731995, Train Loss:0.4846952259540558\n",
            "\n",
            "Test Accuracy:0.5504087209701538, Test Loss:2.0562686920166016\n",
            "\n",
            "Train Accuracy:0.8487738370895386, Train Loss:0.4483572840690613\n",
            "\n",
            "Test Accuracy:0.555858314037323, Test Loss:2.110799789428711\n",
            "\n",
            "Train Accuracy:0.8661444187164307, Train Loss:0.3915742039680481\n",
            "\n",
            "Test Accuracy:0.524523138999939, Test Loss:2.244025945663452\n",
            "\n",
            "Train Accuracy:0.8773841857910156, Train Loss:0.3869093656539917\n",
            "\n",
            "Test Accuracy:0.583106279373169, Test Loss:1.8800407648086548\n",
            "\n",
            "Train Accuracy:0.8937329649925232, Train Loss:0.3605602979660034\n",
            "\n",
            "Test Accuracy:0.640326976776123, Test Loss:1.8972781896591187\n",
            "\n",
            "Train Accuracy:0.8831743597984314, Train Loss:0.36782458424568176\n",
            "\n",
            "Test Accuracy:0.580381453037262, Test Loss:2.0541160106658936\n",
            "\n",
            "Train Accuracy:0.9053133726119995, Train Loss:0.3339892625808716\n",
            "\n",
            "Test Accuracy:0.6294277906417847, Test Loss:1.9184492826461792\n",
            "\n",
            "Train Accuracy:0.9158719182014465, Train Loss:0.2793814539909363\n",
            "\n",
            "Test Accuracy:0.6144413948059082, Test Loss:1.8118726015090942\n",
            "\n",
            "Train Accuracy:0.9237056970596313, Train Loss:0.2703704237937927\n",
            "\n",
            "Test Accuracy:0.6348773837089539, Test Loss:1.9711073637008667\n",
            "\n",
            "Train Accuracy:0.9182561039924622, Train Loss:0.2946048378944397\n",
            "\n",
            "Test Accuracy:0.587193489074707, Test Loss:3.2517716884613037\n",
            "\n",
            "Train Accuracy:0.928133487701416, Train Loss:0.26535308361053467\n",
            "\n",
            "Test Accuracy:0.6580381393432617, Test Loss:2.2255806922912598\n",
            "\n",
            "Train Accuracy:0.9444822669029236, Train Loss:0.2467883974313736\n",
            "\n",
            "Test Accuracy:0.5217983722686768, Test Loss:3.213632345199585\n",
            "\n",
            "Train Accuracy:0.8668256402015686, Train Loss:0.5173171758651733\n",
            "\n",
            "Test Accuracy:0.6607629656791687, Test Loss:2.153402328491211\n",
            "\n",
            "Train Accuracy:0.9383515119552612, Train Loss:0.3073004186153412\n",
            "\n",
            "Test Accuracy:0.6866484880447388, Test Loss:2.355768918991089\n",
            "\n",
            "Train Accuracy:0.9322206974029541, Train Loss:0.2761565148830414\n",
            "\n",
            "Test Accuracy:0.5490463376045227, Test Loss:3.990356206893921\n",
            "\n",
            "Train Accuracy:0.928814709186554, Train Loss:0.30798086524009705\n",
            "\n",
            "Test Accuracy:0.5640326738357544, Test Loss:5.487358570098877\n",
            "\n",
            "Train Accuracy:0.928133487701416, Train Loss:0.2684415280818939\n",
            "\n",
            "Test Accuracy:0.6389645934104919, Test Loss:2.403139591217041\n",
            "\n",
            "Train Accuracy:0.955381453037262, Train Loss:0.20348405838012695\n",
            "\n",
            "Test Accuracy:0.667574942111969, Test Loss:2.4775149822235107\n",
            "\n",
            "Train Accuracy:0.9625340700149536, Train Loss:0.1763625144958496\n",
            "\n",
            "Test Accuracy:0.664850115776062, Test Loss:2.335855722427368\n",
            "\n",
            "Train Accuracy:0.962193489074707, Train Loss:0.1654316484928131\n",
            "\n",
            "Test Accuracy:0.6784741282463074, Test Loss:2.5931906700134277\n",
            "\n",
            "Train Accuracy:0.9666212797164917, Train Loss:0.1464807689189911\n",
            "\n",
            "Test Accuracy:0.6784741282463074, Test Loss:3.8659300804138184\n",
            "\n",
            "Train Accuracy:0.9761580228805542, Train Loss:0.14453306794166565\n",
            "\n",
            "Test Accuracy:0.6553133726119995, Test Loss:2.6403517723083496\n",
            "\n",
            "Train Accuracy:0.9730926156044006, Train Loss:0.140330508351326\n",
            "\n",
            "Test Accuracy:0.6348773837089539, Test Loss:3.5337109565734863\n",
            "\n",
            "Train Accuracy:0.9523161053657532, Train Loss:0.2336881458759308\n",
            "\n",
            "Test Accuracy:0.5463215112686157, Test Loss:3.534968852996826\n",
            "\n",
            "Train Accuracy:0.8695504069328308, Train Loss:0.5645045042037964\n",
            "\n",
            "Test Accuracy:0.47138965129852295, Test Loss:4.058958530426025\n",
            "\n",
            "Train Accuracy:0.8957765698432922, Train Loss:0.4464048743247986\n",
            "\n",
            "Test Accuracy:0.4386920928955078, Test Loss:5.051025867462158\n",
            "\n",
            "Train Accuracy:0.8920300006866455, Train Loss:0.4350223243236542\n",
            "\n",
            "Test Accuracy:0.6389645934104919, Test Loss:4.227177619934082\n",
            "\n",
            "Train Accuracy:0.9264305233955383, Train Loss:0.28930628299713135\n",
            "\n",
            "Test Accuracy:0.6348773837089539, Test Loss:3.0857882499694824\n",
            "\n",
            "Train Accuracy:0.9502725005149841, Train Loss:0.19391164183616638\n",
            "\n",
            "Test Accuracy:0.6689373254776001, Test Loss:2.9317922592163086\n",
            "\n",
            "Train Accuracy:0.9642370343208313, Train Loss:0.19365952908992767\n",
            "\n",
            "Test Accuracy:0.4618528485298157, Test Loss:6.163965702056885\n",
            "\n",
            "Train Accuracy:0.9564032554626465, Train Loss:0.20621925592422485\n",
            "\n",
            "Test Accuracy:0.6171662211418152, Test Loss:4.1068830490112305\n",
            "\n",
            "Train Accuracy:0.9788828492164612, Train Loss:0.12125850468873978\n",
            "\n",
            "Test Accuracy:0.6621253490447998, Test Loss:3.1019845008850098\n",
            "\n",
            "Train Accuracy:0.9836512207984924, Train Loss:0.08662237972021103\n",
            "\n",
            "Test Accuracy:0.664850115776062, Test Loss:3.2220051288604736\n",
            "\n",
            "Train Accuracy:0.9897820353507996, Train Loss:0.06699495017528534\n",
            "\n",
            "Test Accuracy:0.6893733143806458, Test Loss:3.164705276489258\n",
            "\n",
            "Train Accuracy:0.9921662211418152, Train Loss:0.059913307428359985\n",
            "\n",
            "Test Accuracy:0.6893733143806458, Test Loss:3.128868341445923\n",
            "\n",
            "Train Accuracy:0.9914849996566772, Train Loss:0.04791586473584175\n",
            "\n",
            "Test Accuracy:0.40871936082839966, Test Loss:5.031952381134033\n",
            "\n",
            "Train Accuracy:0.9942098259925842, Train Loss:0.038504790514707565\n",
            "\n",
            "Test Accuracy:0.5817438960075378, Test Loss:3.4851150512695312\n",
            "\n",
            "Train Accuracy:0.9942098259925842, Train Loss:0.03513146936893463\n",
            "\n",
            "Test Accuracy:0.6852861046791077, Test Loss:3.3770828247070312\n",
            "\n",
            "Train Accuracy:0.9962534308433533, Train Loss:0.0322888046503067\n",
            "\n",
            "Test Accuracy:0.6852861046791077, Test Loss:3.125035047531128\n",
            "\n",
            "Train Accuracy:0.9959127902984619, Train Loss:0.027427831664681435\n",
            "\n",
            "Test Accuracy:0.4904632270336151, Test Loss:4.778219223022461\n",
            "\n",
            "Train Accuracy:0.9908038377761841, Train Loss:0.043945904821157455\n",
            "\n",
            "Test Accuracy:0.6907356977462769, Test Loss:3.7192320823669434\n",
            "\n",
            "Train Accuracy:0.9901226162910461, Train Loss:0.06190137937664986\n",
            "\n",
            "Test Accuracy:0.486376017332077, Test Loss:16.117582321166992\n",
            "\n",
            "Train Accuracy:0.9870572090148926, Train Loss:0.05111429840326309\n",
            "\n",
            "Test Accuracy:0.6580381393432617, Test Loss:3.9416396617889404\n",
            "\n",
            "Train Accuracy:0.9938691854476929, Train Loss:0.033261846750974655\n",
            "\n",
            "Test Accuracy:0.6839237213134766, Test Loss:3.435997724533081\n",
            "\n",
            "Train Accuracy:0.9914849996566772, Train Loss:0.031343888491392136\n",
            "\n",
            "Test Accuracy:0.6784741282463074, Test Loss:3.5188257694244385\n",
            "\n",
            "Train Accuracy:0.9962534308433533, Train Loss:0.027932532131671906\n",
            "\n",
            "Test Accuracy:0.692098081111908, Test Loss:3.748749017715454\n",
            "\n",
            "Train Accuracy:0.9914849996566772, Train Loss:0.03710111603140831\n",
            "\n",
            "Test Accuracy:0.6852861046791077, Test Loss:3.7950148582458496\n",
            "\n",
            "Train Accuracy:0.9087193608283997, Train Loss:0.5560036301612854\n",
            "\n",
            "Test Accuracy:0.21389645338058472, Test Loss:29.155981063842773\n",
            "\n",
            "Train Accuracy:0.8736376166343689, Train Loss:0.5794434547424316\n",
            "\n",
            "Test Accuracy:0.3937329649925232, Test Loss:4.127849578857422\n",
            "\n",
            "Train Accuracy:0.9499318599700928, Train Loss:0.23383411765098572\n",
            "\n",
            "Test Accuracy:0.5667575001716614, Test Loss:5.365882396697998\n",
            "\n",
            "Train Accuracy:0.958106279373169, Train Loss:0.24425512552261353\n",
            "\n",
            "Test Accuracy:0.35149863362312317, Test Loss:5.396390438079834\n",
            "\n",
            "Train Accuracy:0.9499318599700928, Train Loss:0.2989315092563629\n",
            "\n",
            "Test Accuracy:0.4359672963619232, Test Loss:4.157385349273682\n",
            "\n",
            "Train Accuracy:0.9342643022537231, Train Loss:0.2740843892097473\n",
            "\n",
            "Test Accuracy:0.667574942111969, Test Loss:2.823633909225464\n",
            "\n",
            "Train Accuracy:0.9632152318954468, Train Loss:0.20357075333595276\n",
            "\n",
            "Test Accuracy:0.6784741282463074, Test Loss:2.769408702850342\n",
            "\n",
            "Train Accuracy:0.9547002911567688, Train Loss:0.2351982742547989\n",
            "\n",
            "Test Accuracy:0.6062670350074768, Test Loss:3.661752223968506\n",
            "\n",
            "Train Accuracy:0.968664824962616, Train Loss:0.15225525200366974\n",
            "\n",
            "Test Accuracy:0.664850115776062, Test Loss:2.603919267654419\n",
            "\n",
            "Train Accuracy:0.9853542447090149, Train Loss:0.07897781580686569\n",
            "\n",
            "Test Accuracy:0.6634877324104309, Test Loss:2.786573886871338\n",
            "\n",
            "Train Accuracy:0.9761580228805542, Train Loss:0.13861586153507233\n",
            "\n",
            "Test Accuracy:0.5735694766044617, Test Loss:2.918008327484131\n",
            "\n",
            "Train Accuracy:0.9403951168060303, Train Loss:0.25632229447364807\n",
            "\n",
            "Test Accuracy:0.46730244159698486, Test Loss:4.458529472351074\n",
            "\n",
            "Train Accuracy:0.9604904651641846, Train Loss:0.17528671026229858\n",
            "\n",
            "Test Accuracy:0.6893733143806458, Test Loss:3.0397908687591553\n",
            "\n",
            "Train Accuracy:0.8259536623954773, Train Loss:0.873841404914856\n",
            "\n",
            "Test Accuracy:0.265667587518692, Test Loss:4.550881862640381\n",
            "\n",
            "Train Accuracy:0.8668256402015686, Train Loss:0.47546449303627014\n",
            "\n",
            "Test Accuracy:0.5899182558059692, Test Loss:2.5969746112823486\n",
            "\n",
            "Train Accuracy:0.9002043604850769, Train Loss:0.3990996479988098\n",
            "\n",
            "Test Accuracy:0.332425057888031, Test Loss:5.058210372924805\n",
            "\n",
            "Train Accuracy:0.7922343611717224, Train Loss:0.8356221318244934\n",
            "\n",
            "Test Accuracy:0.5517711043357849, Test Loss:2.3346900939941406\n",
            "\n",
            "Train Accuracy:0.7687329649925232, Train Loss:0.8987030982971191\n",
            "\n",
            "Test Accuracy:0.5613079071044922, Test Loss:2.0146048069000244\n",
            "\n",
            "Train Accuracy:0.8027929067611694, Train Loss:0.6896468997001648\n",
            "\n",
            "Test Accuracy:0.42370572686195374, Test Loss:3.489485263824463\n",
            "\n",
            "Train Accuracy:0.5228201746940613, Train Loss:1.6148008108139038\n",
            "\n",
            "Test Accuracy:0.2207084447145462, Test Loss:15.482549667358398\n",
            "\n",
            "Train Accuracy:0.4070163369178772, Train Loss:1.4286516904830933\n",
            "\n",
            "Test Accuracy:0.23705722391605377, Test Loss:1.8668065071105957\n",
            "\n",
            "Train Accuracy:0.4339236915111542, Train Loss:1.301034688949585\n",
            "\n",
            "Test Accuracy:0.42506811022758484, Test Loss:1.2976008653640747\n",
            "\n",
            "Train Accuracy:0.4679836630821228, Train Loss:1.2481935024261475\n",
            "\n",
            "Test Accuracy:0.42370572686195374, Test Loss:1.3568389415740967\n",
            "\n",
            "Train Accuracy:0.4945504069328308, Train Loss:1.1937788724899292\n",
            "\n",
            "Test Accuracy:0.4318801164627075, Test Loss:1.3502107858657837\n",
            "\n",
            "Train Accuracy:0.4945504069328308, Train Loss:1.1879953145980835\n",
            "\n",
            "Test Accuracy:0.4455040991306305, Test Loss:1.3502854108810425\n",
            "\n",
            "Train Accuracy:0.5190735459327698, Train Loss:1.1534910202026367\n",
            "\n",
            "Test Accuracy:0.46730244159698486, Test Loss:1.2916308641433716\n",
            "\n",
            "Train Accuracy:0.515326976776123, Train Loss:1.1125859022140503\n",
            "\n",
            "Test Accuracy:0.41280654072761536, Test Loss:1.313369631767273\n",
            "\n",
            "Train Accuracy:0.5395095348358154, Train Loss:1.065754771232605\n",
            "\n",
            "Test Accuracy:0.46049046516418457, Test Loss:1.2718390226364136\n",
            "\n",
            "Train Accuracy:0.5408719182014465, Train Loss:1.0433447360992432\n",
            "\n",
            "Test Accuracy:0.46730244159698486, Test Loss:1.2963358163833618\n",
            "\n",
            "Train Accuracy:0.5677793025970459, Train Loss:0.9741554856300354\n",
            "\n",
            "Test Accuracy:0.5027247667312622, Test Loss:1.301872730255127\n",
            "\n",
            "Train Accuracy:0.5974114537239075, Train Loss:0.9152302742004395\n",
            "\n",
            "Test Accuracy:0.47820162773132324, Test Loss:1.4269963502883911\n",
            "\n",
            "Train Accuracy:0.6069482564926147, Train Loss:0.8792998194694519\n",
            "\n",
            "Test Accuracy:0.5081743597984314, Test Loss:1.4963438510894775\n",
            "\n",
            "Train Accuracy:0.6314713954925537, Train Loss:0.833070695400238\n",
            "\n",
            "Test Accuracy:0.47275203466415405, Test Loss:1.4138004779815674\n",
            "\n",
            "Train Accuracy:0.667574942111969, Train Loss:0.7471938729286194\n",
            "\n",
            "Test Accuracy:0.5231607556343079, Test Loss:1.3816555738449097\n",
            "\n",
            "Train Accuracy:0.6955040693283081, Train Loss:0.6841742992401123\n",
            "\n",
            "Test Accuracy:0.4386920928955078, Test Loss:1.6439048051834106\n",
            "\n",
            "Train Accuracy:0.6726838946342468, Train Loss:0.7528733015060425\n",
            "\n",
            "Test Accuracy:0.5190735459327698, Test Loss:1.649776577949524\n",
            "\n",
            "Train Accuracy:0.7333106398582458, Train Loss:0.5980337858200073\n",
            "\n",
            "Test Accuracy:0.5326975584030151, Test Loss:1.5898411273956299\n",
            "\n",
            "Train Accuracy:0.7472752332687378, Train Loss:0.5497444868087769\n",
            "\n",
            "Test Accuracy:0.5258855819702148, Test Loss:1.6941723823547363\n",
            "\n",
            "Train Accuracy:0.7465940117835999, Train Loss:0.5673879384994507\n",
            "\n",
            "Test Accuracy:0.5149863958358765, Test Loss:2.0299129486083984\n",
            "\n",
            "Train Accuracy:0.7864441275596619, Train Loss:0.4782491624355316\n",
            "\n",
            "Test Accuracy:0.5504087209701538, Test Loss:1.719261646270752\n",
            "\n",
            "Train Accuracy:0.8368528485298157, Train Loss:0.41555333137512207\n",
            "\n",
            "Test Accuracy:0.29700273275375366, Test Loss:4.525001525878906\n",
            "\n",
            "Train Accuracy:0.8695504069328308, Train Loss:0.3868418037891388\n",
            "\n",
            "Test Accuracy:0.48092642426490784, Test Loss:1.9516067504882812\n",
            "\n",
            "Train Accuracy:0.9025885462760925, Train Loss:0.3212711811065674\n",
            "\n",
            "Test Accuracy:0.6062670350074768, Test Loss:1.860252857208252\n",
            "\n",
            "Train Accuracy:0.916893720626831, Train Loss:0.2996324896812439\n",
            "\n",
            "Test Accuracy:0.6021798253059387, Test Loss:1.8735953569412231\n",
            "\n",
            "Train Accuracy:0.9346048831939697, Train Loss:0.2597965896129608\n",
            "\n",
            "Test Accuracy:0.6171662211418152, Test Loss:2.0196521282196045\n",
            "\n",
            "Train Accuracy:0.9407356977462769, Train Loss:0.2250552624464035\n",
            "\n",
            "Test Accuracy:0.6307901740074158, Test Loss:2.2279419898986816\n",
            "\n",
            "Train Accuracy:0.459809273481369, Train Loss:1.8650195598602295\n",
            "\n",
            "Test Accuracy:0.2602179944515228, Test Loss:4.6901350021362305\n",
            "\n",
            "Train Accuracy:0.5081743597984314, Train Loss:1.1505600214004517\n",
            "\n",
            "Test Accuracy:0.265667587518692, Test Loss:3.2377939224243164\n",
            "\n",
            "Train Accuracy:0.5759536623954773, Train Loss:1.0001404285430908\n",
            "\n",
            "Test Accuracy:0.29427793622016907, Test Loss:2.384532928466797\n",
            "\n",
            "Train Accuracy:0.6348773837089539, Train Loss:0.8895388841629028\n",
            "\n",
            "Test Accuracy:0.3201634883880615, Test Loss:1.91703200340271\n",
            "\n",
            "Train Accuracy:0.6777929067611694, Train Loss:0.7954518795013428\n",
            "\n",
            "Test Accuracy:0.35967302322387695, Test Loss:1.6972317695617676\n",
            "\n",
            "Train Accuracy:0.7179836630821228, Train Loss:0.7123506665229797\n",
            "\n",
            "Test Accuracy:0.42779290676116943, Test Loss:1.631300687789917\n",
            "\n",
            "Train Accuracy:0.747956395149231, Train Loss:0.6568968296051025\n",
            "\n",
            "Test Accuracy:0.4346049129962921, Test Loss:1.71342933177948\n",
            "\n",
            "Train Accuracy:0.7888283133506775, Train Loss:0.5850402116775513\n",
            "\n",
            "Test Accuracy:0.20708446204662323, Test Loss:1347573.75\n",
            "\n",
            "Train Accuracy:0.7952997088432312, Train Loss:0.5676407814025879\n",
            "\n",
            "Test Accuracy:0.5762943029403687, Test Loss:1.894903540611267\n",
            "\n",
            "Train Accuracy:0.7244550585746765, Train Loss:0.9366827607154846\n",
            "\n",
            "Test Accuracy:0.17711171507835388, Test Loss:6.537354946136475\n",
            "\n",
            "Train Accuracy:0.8082424998283386, Train Loss:0.6418498158454895\n",
            "\n",
            "Test Accuracy:0.3337874710559845, Test Loss:3.8704283237457275\n",
            "\n",
            "Train Accuracy:0.8828337788581848, Train Loss:0.4132038652896881\n",
            "\n",
            "Test Accuracy:0.5, Test Loss:2.165229082107544\n",
            "\n",
            "Train Accuracy:0.9172343611717224, Train Loss:0.32470864057540894\n",
            "\n",
            "Test Accuracy:0.5408719182014465, Test Loss:2.1075360774993896\n",
            "\n",
            "Train Accuracy:0.9318801164627075, Train Loss:0.27767953276634216\n",
            "\n",
            "Test Accuracy:0.5994550585746765, Test Loss:2.1284592151641846\n",
            "\n",
            "Train Accuracy:0.9598092436790466, Train Loss:0.1895793378353119\n",
            "\n",
            "Test Accuracy:0.6267030239105225, Test Loss:2.061055898666382\n",
            "\n",
            "Train Accuracy:0.9696866273880005, Train Loss:0.17069710791110992\n",
            "\n",
            "Test Accuracy:0.6239781975746155, Test Loss:2.1107828617095947\n",
            "\n",
            "Train Accuracy:0.9673024415969849, Train Loss:0.16391544044017792\n",
            "\n",
            "Test Accuracy:0.6212534308433533, Test Loss:2.412888288497925\n",
            "\n",
            "Train Accuracy:0.919618546962738, Train Loss:0.3682761490345001\n",
            "\n",
            "Test Accuracy:0.46730244159698486, Test Loss:2.9736838340759277\n",
            "\n",
            "Train Accuracy:0.8957765698432922, Train Loss:0.4203038811683655\n",
            "\n",
            "Test Accuracy:0.611716628074646, Test Loss:2.378044843673706\n",
            "\n",
            "Train Accuracy:0.9489100575447083, Train Loss:0.22153601050376892\n",
            "\n",
            "Test Accuracy:0.6594005227088928, Test Loss:2.052706718444824\n",
            "\n",
            "Train Accuracy:0.9645776748657227, Train Loss:0.17129401862621307\n",
            "\n",
            "Test Accuracy:0.6348773837089539, Test Loss:2.240722179412842\n",
            "\n",
            "Train Accuracy:0.9768392443656921, Train Loss:0.15788304805755615\n",
            "\n",
            "Test Accuracy:0.6716621518135071, Test Loss:2.166461944580078\n",
            "\n",
            "Train Accuracy:0.9775204062461853, Train Loss:0.12166475504636765\n",
            "\n",
            "Test Accuracy:0.6485013365745544, Test Loss:2.3244216442108154\n",
            "\n",
            "Train Accuracy:0.9761580228805542, Train Loss:0.13613906502723694\n",
            "\n",
            "Test Accuracy:0.640326976776123, Test Loss:2.378643751144409\n",
            "\n",
            "Train Accuracy:0.9710490703582764, Train Loss:0.16965490579605103\n",
            "\n",
            "Test Accuracy:0.5681198835372925, Test Loss:3.33261775970459\n",
            "\n",
            "Train Accuracy:0.904291570186615, Train Loss:0.34013915061950684\n",
            "\n",
            "Test Accuracy:0.5640326738357544, Test Loss:2.577420234680176\n",
            "\n",
            "Train Accuracy:0.9220027327537537, Train Loss:0.2843291759490967\n",
            "\n",
            "Test Accuracy:0.35286104679107666, Test Loss:5.755191802978516\n",
            "\n",
            "Train Accuracy:0.9683242440223694, Train Loss:0.2151205986738205\n",
            "\n",
            "Test Accuracy:0.6021798253059387, Test Loss:2.7733819484710693\n",
            "\n",
            "Train Accuracy:0.9652588367462158, Train Loss:0.19000741839408875\n",
            "\n",
            "Test Accuracy:0.6130790114402771, Test Loss:2.875011682510376\n",
            "\n",
            "Train Accuracy:0.9659400582313538, Train Loss:0.18683704733848572\n",
            "\n",
            "Test Accuracy:0.6553133726119995, Test Loss:2.932861328125\n",
            "\n",
            "Train Accuracy:0.9662806391716003, Train Loss:0.1908969283103943\n",
            "\n",
            "Test Accuracy:0.6430517435073853, Test Loss:3.1795313358306885\n",
            "\n",
            "Train Accuracy:0.9724114537239075, Train Loss:0.16461969912052155\n",
            "\n",
            "Test Accuracy:0.6457765698432922, Test Loss:3.1707732677459717\n",
            "\n",
            "Train Accuracy:0.9764986634254456, Train Loss:0.1602613776922226\n",
            "\n",
            "Test Accuracy:0.6158038377761841, Test Loss:3.9101014137268066\n",
            "\n",
            "Train Accuracy:0.973433256149292, Train Loss:0.1662122905254364\n",
            "\n",
            "Test Accuracy:0.6634877324104309, Test Loss:3.2994139194488525\n",
            "\n",
            "Train Accuracy:0.9744550585746765, Train Loss:0.15156741440296173\n",
            "\n",
            "Test Accuracy:0.636239767074585, Test Loss:3.90909743309021\n",
            "\n",
            "Train Accuracy:0.9669618606567383, Train Loss:0.1623997837305069\n",
            "\n",
            "Test Accuracy:0.6008174419403076, Test Loss:4.34604024887085\n",
            "\n",
            "Train Accuracy:0.9816076159477234, Train Loss:0.1191648468375206\n",
            "\n",
            "Test Accuracy:0.6580381393432617, Test Loss:3.7538704872131348\n",
            "\n",
            "Train Accuracy:0.9843324422836304, Train Loss:0.11526154726743698\n",
            "\n",
            "Test Accuracy:0.6607629656791687, Test Loss:4.270526885986328\n",
            "\n",
            "Train Accuracy:0.9724114537239075, Train Loss:0.1782371550798416\n",
            "\n",
            "Test Accuracy:0.6103542447090149, Test Loss:3.7910537719726562\n",
            "\n",
            "Train Accuracy:0.9659400582313538, Train Loss:0.2122834175825119\n",
            "\n",
            "Test Accuracy:0.6580381393432617, Test Loss:4.118772029876709\n",
            "\n",
            "Train Accuracy:0.9751362204551697, Train Loss:0.14457808434963226\n",
            "\n",
            "Test Accuracy:0.6743869185447693, Test Loss:3.7984228134155273\n",
            "\n"
          ]
        }
      ]
    },
    {
      "cell_type": "markdown",
      "source": [
        "Using tf.data for finer control"
      ],
      "metadata": {
        "id": "vLwRc0lVzoF5"
      }
    },
    {
      "cell_type": "code",
      "source": [
        "list_dataset = tf.data.Dataset.list_files(str(data_dir/\"*/*\"),shuffle =False)\n",
        "list_dataset = list_dataset.shuffle(image_count,reshuffle_each_iteration=False)\n",
        "\n",
        "for f in list_dataset.take(5):\n",
        "  print(f.numpy())"
      ],
      "metadata": {
        "colab": {
          "base_uri": "https://localhost:8080/"
        },
        "id": "SqKfO_48ipm5",
        "outputId": "f1ff5287-a0b2-4c58-db43-42d87d2e74f3"
      },
      "execution_count": 63,
      "outputs": [
        {
          "output_type": "stream",
          "name": "stdout",
          "text": [
            "b'/root/.keras/datasets/flower_photos/daisy/11124324295_503f3a0804.jpg'\n",
            "b'/root/.keras/datasets/flower_photos/dandelion/9293460423_7fbb1e3c32_n.jpg'\n",
            "b'/root/.keras/datasets/flower_photos/tulips/3210019014_1bbd8bff20_n.jpg'\n",
            "b'/root/.keras/datasets/flower_photos/roses/15697872479_ed48e9dd73_n.jpg'\n",
            "b'/root/.keras/datasets/flower_photos/sunflowers/58636535_bc53ef0a21_m.jpg'\n"
          ]
        }
      ]
    },
    {
      "cell_type": "markdown",
      "source": [
        "Using TF.Data for finer control"
      ],
      "metadata": {
        "id": "2aumy3fJ1qBi"
      }
    },
    {
      "cell_type": "code",
      "source": [
        "\n"
      ],
      "metadata": {
        "id": "gqiqSpAB1aje"
      },
      "execution_count": null,
      "outputs": []
    },
    {
      "cell_type": "code",
      "source": [
        ""
      ],
      "metadata": {
        "id": "hB_6YUTH1UCQ"
      },
      "execution_count": null,
      "outputs": []
    },
    {
      "cell_type": "code",
      "source": [
        ""
      ],
      "metadata": {
        "id": "ajNDygYb1RMW"
      },
      "execution_count": null,
      "outputs": []
    },
    {
      "cell_type": "code",
      "source": [
        ""
      ],
      "metadata": {
        "id": "GdBA-bLe1CxT"
      },
      "execution_count": null,
      "outputs": []
    },
    {
      "cell_type": "code",
      "source": [
        "\n"
      ],
      "metadata": {
        "id": "2jkX581mimu4"
      },
      "execution_count": 30,
      "outputs": []
    },
    {
      "cell_type": "code",
      "source": [
        ""
      ],
      "metadata": {
        "id": "YmrxedgEijt8"
      },
      "execution_count": 30,
      "outputs": []
    },
    {
      "cell_type": "code",
      "source": [
        ""
      ],
      "metadata": {
        "id": "ixEUISEFe4mE"
      },
      "execution_count": 30,
      "outputs": []
    },
    {
      "cell_type": "code",
      "source": [
        ""
      ],
      "metadata": {
        "id": "ZWRfmgfncZDR"
      },
      "execution_count": 30,
      "outputs": []
    },
    {
      "cell_type": "code",
      "source": [
        ""
      ],
      "metadata": {
        "id": "B1ZWMavJZVRD"
      },
      "execution_count": 30,
      "outputs": []
    },
    {
      "cell_type": "code",
      "source": [
        ""
      ],
      "metadata": {
        "id": "6CvKiA4FZIKK"
      },
      "execution_count": 30,
      "outputs": []
    },
    {
      "cell_type": "code",
      "source": [
        ""
      ],
      "metadata": {
        "id": "0H79ayqZXeP5"
      },
      "execution_count": 30,
      "outputs": []
    },
    {
      "cell_type": "code",
      "source": [
        ""
      ],
      "metadata": {
        "id": "O_EKX9jNXbbM"
      },
      "execution_count": 30,
      "outputs": []
    },
    {
      "cell_type": "code",
      "source": [
        ""
      ],
      "metadata": {
        "id": "_6BHP-maXUIU"
      },
      "execution_count": 30,
      "outputs": []
    },
    {
      "cell_type": "code",
      "source": [
        ""
      ],
      "metadata": {
        "id": "zBSlp0gTXPsd"
      },
      "execution_count": 30,
      "outputs": []
    },
    {
      "cell_type": "code",
      "source": [
        ""
      ],
      "metadata": {
        "id": "BElbvUpOXLAr"
      },
      "execution_count": 30,
      "outputs": []
    },
    {
      "cell_type": "code",
      "source": [
        ""
      ],
      "metadata": {
        "id": "E-oN4lUsTrmk"
      },
      "execution_count": 30,
      "outputs": []
    },
    {
      "cell_type": "code",
      "source": [
        ""
      ],
      "metadata": {
        "id": "qPW5swDXWgWx"
      },
      "execution_count": 30,
      "outputs": []
    },
    {
      "cell_type": "code",
      "source": [
        ""
      ],
      "metadata": {
        "id": "8KWRYsv1Wddx"
      },
      "execution_count": 30,
      "outputs": []
    },
    {
      "cell_type": "code",
      "source": [
        ""
      ],
      "metadata": {
        "id": "Bf-TwdPAWS1F"
      },
      "execution_count": 30,
      "outputs": []
    },
    {
      "cell_type": "code",
      "source": [
        ""
      ],
      "metadata": {
        "id": "2XWcWkOxWQRk"
      },
      "execution_count": 30,
      "outputs": []
    },
    {
      "cell_type": "code",
      "source": [
        ""
      ],
      "metadata": {
        "id": "clt6azA-WIbZ"
      },
      "execution_count": 30,
      "outputs": []
    },
    {
      "cell_type": "code",
      "source": [
        ""
      ],
      "metadata": {
        "id": "wW_bqJdSWGGF"
      },
      "execution_count": 30,
      "outputs": []
    },
    {
      "cell_type": "code",
      "source": [
        ""
      ],
      "metadata": {
        "id": "CDJ6sxNyTlMO"
      },
      "execution_count": 30,
      "outputs": []
    },
    {
      "cell_type": "code",
      "source": [
        ""
      ],
      "metadata": {
        "id": "tfPy4pqnTXyG"
      },
      "execution_count": 30,
      "outputs": []
    },
    {
      "cell_type": "code",
      "source": [
        ""
      ],
      "metadata": {
        "id": "jY4_43hyTB68"
      },
      "execution_count": 30,
      "outputs": []
    },
    {
      "cell_type": "code",
      "source": [
        ""
      ],
      "metadata": {
        "id": "48u6RDc-Sh3s"
      },
      "execution_count": 30,
      "outputs": []
    },
    {
      "cell_type": "code",
      "source": [
        ""
      ],
      "metadata": {
        "id": "awreUq-TSEPn"
      },
      "execution_count": 30,
      "outputs": []
    },
    {
      "cell_type": "code",
      "source": [
        ""
      ],
      "metadata": {
        "id": "xWiE2ofBSCMS"
      },
      "execution_count": 30,
      "outputs": []
    },
    {
      "cell_type": "code",
      "source": [
        ""
      ],
      "metadata": {
        "id": "L5tyj2UjSAh5"
      },
      "execution_count": 30,
      "outputs": []
    },
    {
      "cell_type": "code",
      "source": [
        ""
      ],
      "metadata": {
        "id": "Vo0RjQGjR9q9"
      },
      "execution_count": 30,
      "outputs": []
    },
    {
      "cell_type": "code",
      "source": [
        ""
      ],
      "metadata": {
        "id": "FvumNz80R3lH"
      },
      "execution_count": 30,
      "outputs": []
    },
    {
      "cell_type": "code",
      "source": [
        ""
      ],
      "metadata": {
        "id": "WgAKrB3fRqmU"
      },
      "execution_count": 30,
      "outputs": []
    },
    {
      "cell_type": "code",
      "source": [
        ""
      ],
      "metadata": {
        "id": "ES2IKwu1RpZw"
      },
      "execution_count": 30,
      "outputs": []
    },
    {
      "cell_type": "code",
      "source": [
        ""
      ],
      "metadata": {
        "id": "aAZr_nhyQ-Pu"
      },
      "execution_count": 30,
      "outputs": []
    },
    {
      "cell_type": "code",
      "source": [
        ""
      ],
      "metadata": {
        "id": "Am0q4Xx4Q7oZ"
      },
      "execution_count": 30,
      "outputs": []
    },
    {
      "cell_type": "code",
      "source": [
        ""
      ],
      "metadata": {
        "id": "5M3ZJZ5KQ5WH"
      },
      "execution_count": 30,
      "outputs": []
    },
    {
      "cell_type": "code",
      "source": [
        ""
      ],
      "metadata": {
        "id": "QegUU-bVQ1ll"
      },
      "execution_count": 30,
      "outputs": []
    },
    {
      "cell_type": "code",
      "source": [
        ""
      ],
      "metadata": {
        "id": "1u9shQzxQwaR"
      },
      "execution_count": 30,
      "outputs": []
    },
    {
      "cell_type": "code",
      "source": [
        ""
      ],
      "metadata": {
        "id": "yUoVmJpbQwsP"
      },
      "execution_count": 30,
      "outputs": []
    }
  ]
}