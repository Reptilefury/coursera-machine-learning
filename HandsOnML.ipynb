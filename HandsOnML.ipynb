{
  "cells": [
    {
      "cell_type": "markdown",
      "metadata": {
        "id": "view-in-github",
        "colab_type": "text"
      },
      "source": [
        "<a href=\"https://colab.research.google.com/github/Reptilefury/coursera-machine-learning/blob/main/HandsOnML.ipynb\" target=\"_parent\"><img src=\"https://colab.research.google.com/assets/colab-badge.svg\" alt=\"Open In Colab\"/></a>"
      ]
    },
    {
      "cell_type": "code",
      "execution_count": null,
      "metadata": {
        "id": "Kzw9ciZa5Gd6"
      },
      "outputs": [],
      "source": [
        "!pip install hypothesis"
      ]
    },
    {
      "cell_type": "code",
      "execution_count": null,
      "metadata": {
        "id": "T3UqF6b8sCDu"
      },
      "outputs": [],
      "source": [
        "import keras"
      ]
    },
    {
      "cell_type": "code",
      "execution_count": null,
      "metadata": {
        "id": "uSSG2s6RsFdP"
      },
      "outputs": [],
      "source": [
        "import numpy as np"
      ]
    },
    {
      "cell_type": "code",
      "execution_count": null,
      "metadata": {
        "id": "Dc5A2nTusHtj"
      },
      "outputs": [],
      "source": [
        "import matplotlib.pyplot as plt"
      ]
    },
    {
      "cell_type": "code",
      "execution_count": null,
      "metadata": {
        "id": "iWfhI10WsLnW"
      },
      "outputs": [],
      "source": [
        "from keras.datasets import mnist"
      ]
    },
    {
      "cell_type": "code",
      "execution_count": null,
      "metadata": {
        "id": "rDwDtuM5sYXf"
      },
      "outputs": [],
      "source": [
        "digits = mnist.load_data()\n",
        "(train_images, train_labels), (test_images, test_labels) = mnist.load_data()\n"
      ]
    },
    {
      "cell_type": "code",
      "execution_count": null,
      "metadata": {
        "colab": {
          "base_uri": "https://localhost:8080/"
        },
        "id": "CrgOV-UZs4Bx",
        "outputId": "e105ccdb-3e04-4dc9-be53-0b31587453df"
      },
      "outputs": [
        {
          "name": "stdout",
          "output_type": "stream",
          "text": [
            "[0 0 0 0 0 0 0 0 0 0 0 0 0 0 0 0 0 0 0 0 0 0 0 0 0 0 0 0]\n",
            "[0 0 0 0 0 0 0 0 0 0 0 0 0 0 0 0 0 0 0 0 0 0 0 0 0 0 0 0]\n",
            "[0 0 0 0 0 0 0 0 0 0 0 0 0 0 0 0 0 0 0 0 0 0 0 0 0 0 0 0]\n",
            "[0 0 0 0 0 0 0 0 0 0 0 0 0 0 0 0 0 0 0 0 0 0 0 0 0 0 0 0]\n",
            "[0 0 0 0 0 0 0 0 0 0 0 0 0 0 0 0 0 0 0 0 0 0 0 0 0 0 0 0]\n",
            "[0 0 0 0 0 0 0 0 0 0 0 0 3 18 18 18 126 136 175 26 166 255 247 127 0 0 0 0]\n",
            "[0 0 0 0 0 0 0 0 30 36 94 154 170 253 253 253 253 253 225 172 253 242 195 64 0 0 0 0]\n",
            "[0 0 0 0 0 0 0 49 238 253 253 253 253 253 253 253 253 251 93 82 82 56 39 0 0 0 0 0]\n",
            "[0 0 0 0 0 0 0 18 219 253 253 253 253 253 198 182 247 241 0 0 0 0 0 0 0 0 0 0]\n",
            "[0 0 0 0 0 0 0 0 80 156 107 253 253 205 11 0 43 154 0 0 0 0 0 0 0 0 0 0]\n",
            "[0 0 0 0 0 0 0 0 0 14 1 154 253 90 0 0 0 0 0 0 0 0 0 0 0 0 0 0]\n",
            "[0 0 0 0 0 0 0 0 0 0 0 139 253 190 2 0 0 0 0 0 0 0 0 0 0 0 0 0]\n",
            "[0 0 0 0 0 0 0 0 0 0 0 11 190 253 70 0 0 0 0 0 0 0 0 0 0 0 0 0]\n",
            "[0 0 0 0 0 0 0 0 0 0 0 0 35 241 225 160 108 1 0 0 0 0 0 0 0 0 0 0]\n",
            "[0 0 0 0 0 0 0 0 0 0 0 0 0 81 240 253 253 119 25 0 0 0 0 0 0 0 0 0]\n",
            "[0 0 0 0 0 0 0 0 0 0 0 0 0 0 45 186 253 253 150 27 0 0 0 0 0 0 0 0]\n",
            "[0 0 0 0 0 0 0 0 0 0 0 0 0 0 0 16 93 252 253 187 0 0 0 0 0 0 0 0]\n",
            "[0 0 0 0 0 0 0 0 0 0 0 0 0 0 0 0 0 249 253 249 64 0 0 0 0 0 0 0]\n",
            "[0 0 0 0 0 0 0 0 0 0 0 0 0 0 46 130 183 253 253 207 2 0 0 0 0 0 0 0]\n",
            "[0 0 0 0 0 0 0 0 0 0 0 0 39 148 229 253 253 253 250 182 0 0 0 0 0 0 0 0]\n",
            "[0 0 0 0 0 0 0 0 0 0 24 114 221 253 253 253 253 201 78 0 0 0 0 0 0 0 0 0]\n",
            "[0 0 0 0 0 0 0 0 23 66 213 253 253 253 253 198 81 2 0 0 0 0 0 0 0 0 0 0]\n",
            "[0 0 0 0 0 0 18 171 219 253 253 253 253 195 80 9 0 0 0 0 0 0 0 0 0 0 0 0]\n",
            "[0 0 0 0 55 172 226 253 253 253 253 244 133 11 0 0 0 0 0 0 0 0 0 0 0 0 0 0]\n",
            "[0 0 0 0 136 253 253 253 212 135 132 16 0 0 0 0 0 0 0 0 0 0 0 0 0 0 0 0]\n",
            "[0 0 0 0 0 0 0 0 0 0 0 0 0 0 0 0 0 0 0 0 0 0 0 0 0 0 0 0]\n",
            "[0 0 0 0 0 0 0 0 0 0 0 0 0 0 0 0 0 0 0 0 0 0 0 0 0 0 0 0]\n",
            "[0 0 0 0 0 0 0 0 0 0 0 0 0 0 0 0 0 0 0 0 0 0 0 0 0 0 0 0]\n"
          ]
        }
      ],
      "source": [
        "np.set_printoptions(linewidth=90, formatter={\"all\": lambda x: '{0}'.format(x)})\n",
        "for row in train_images[0]:\n",
        "  print(row)"
      ]
    },
    {
      "cell_type": "code",
      "execution_count": null,
      "metadata": {
        "colab": {
          "base_uri": "https://localhost:8080/",
          "height": 282
        },
        "id": "Z0_SpLDluWdt",
        "outputId": "e754c967-3705-4b56-fd8c-ecdc6e6e54d5"
      },
      "outputs": [
        {
          "data": {
            "text/plain": [
              "<matplotlib.image.AxesImage at 0x7fdcd0d31e50>"
            ]
          },
          "execution_count": 9,
          "metadata": {},
          "output_type": "execute_result"
        },
        {
          "data": {
            "image/png": "[encoded data removed]",
            "text/plain": [
              "<Figure size 432x288 with 1 Axes>"
            ]
          },
          "metadata": {},
          "output_type": "display_data"
        }
      ],
      "source": [
        "plt.imshow(train_images[1], cmap='binary')"
      ]
    },
    {
      "cell_type": "code",
      "execution_count": null,
      "metadata": {
        "colab": {
          "base_uri": "https://localhost:8080/",
          "height": 282
        },
        "id": "vmvgDWhwv8cN",
        "outputId": "ca79115c-b30d-454c-9726-03928e5509ba"
      },
      "outputs": [
        {
          "data": {
            "text/plain": [
              "<matplotlib.image.AxesImage at 0x7fdccff07190>"
            ]
          },
          "execution_count": 13,
          "metadata": {},
          "output_type": "execute_result"
        },
        {
          "data": {
            "image/png": "[encoded data removed]",
            "text/plain": [
              "<Figure size 432x288 with 1 Axes>"
            ]
          },
          "metadata": {},
          "output_type": "display_data"
        }
      ],
      "source": [
        "import tensorflow as tf\n",
        "from tensorflow.keras.utils import to_categorical\n",
        "\n",
        "plt.imshow(tf.keras.utils.to_categorical(train_labels, 10)[:10], cmap='binary')\n"
      ]
    },
    {
      "cell_type": "markdown",
      "metadata": {
        "id": "8nDmpkD30QMg"
      },
      "source": [
        "# New section"
      ]
    },
    {
      "cell_type": "code",
      "execution_count": null,
      "metadata": {
        "colab": {
          "base_uri": "https://localhost:8080/"
        },
        "id": "ICnYTHGJzhJu",
        "outputId": "fadab4ef-37c1-4c4c-d169-4a956cd0bd2a"
      },
      "outputs": [
        {
          "data": {
            "text/plain": [
              "((60000, 28, 28), dtype('uint8'))"
            ]
          },
          "execution_count": 14,
          "metadata": {},
          "output_type": "execute_result"
        }
      ],
      "source": [
        "train_images.shape, train_images.dtype"
      ]
    },
    {
      "cell_type": "code",
      "execution_count": null,
      "metadata": {
        "colab": {
          "base_uri": "https://localhost:8080/"
        },
        "id": "Bs3oaq6p70iO",
        "outputId": "cb3d6543-64e2-4c39-8cc9-64d916ba0853"
      },
      "outputs": [
        {
          "data": {
            "text/plain": [
              "array([[0.    , 0.    , 0.    , 0.    , 0.    , 0.    , 0.    , 0.    , 0.    , 0.    ,\n",
              "        0.    , 0.    , 0.0118, 0.0706, 0.0706, 0.0706, 0.4941, 0.5333, 0.6863, 0.102 ,\n",
              "        0.651 , 1.    , 0.9686, 0.498 , 0.    , 0.    , 0.    , 0.    ],\n",
              "       [0.    , 0.    , 0.    , 0.    , 0.    , 0.    , 0.    , 0.    , 0.1176, 0.1412,\n",
              "        0.3686, 0.6039, 0.6667, 0.9922, 0.9922, 0.9922, 0.9922, 0.9922, 0.8824, 0.6745,\n",
              "        0.9922, 0.949 , 0.7647, 0.251 , 0.    , 0.    , 0.    , 0.    ],\n",
              "       [0.    , 0.    , 0.    , 0.    , 0.    , 0.    , 0.    , 0.1922, 0.9333, 0.9922,\n",
              "        0.9922, 0.9922, 0.9922, 0.9922, 0.9922, 0.9922, 0.9922, 0.9843, 0.3647, 0.3216,\n",
              "        0.3216, 0.2196, 0.1529, 0.    , 0.    , 0.    , 0.    , 0.    ],\n",
              "       [0.    , 0.    , 0.    , 0.    , 0.    , 0.    , 0.    , 0.0706, 0.8588, 0.9922,\n",
              "        0.9922, 0.9922, 0.9922, 0.9922, 0.7765, 0.7137, 0.9686, 0.9451, 0.    , 0.    ,\n",
              "        0.    , 0.    , 0.    , 0.    , 0.    , 0.    , 0.    , 0.    ],\n",
              "       [0.    , 0.    , 0.    , 0.    , 0.    , 0.    , 0.    , 0.    , 0.3137, 0.6118,\n",
              "        0.4196, 0.9922, 0.9922, 0.8039, 0.0431, 0.    , 0.1686, 0.6039, 0.    , 0.    ,\n",
              "        0.    , 0.    , 0.    , 0.    , 0.    , 0.    , 0.    , 0.    ],\n",
              "       [0.    , 0.    , 0.    , 0.    , 0.    , 0.    , 0.    , 0.    , 0.    , 0.0549,\n",
              "        0.0039, 0.6039, 0.9922, 0.3529, 0.    , 0.    , 0.    , 0.    , 0.    , 0.    ,\n",
              "        0.    , 0.    , 0.    , 0.    , 0.    , 0.    , 0.    , 0.    ],\n",
              "       [0.    , 0.    , 0.    , 0.    , 0.    , 0.    , 0.    , 0.    , 0.    , 0.    ,\n",
              "        0.    , 0.5451, 0.9922, 0.7451, 0.0078, 0.    , 0.    , 0.    , 0.    , 0.    ,\n",
              "        0.    , 0.    , 0.    , 0.    , 0.    , 0.    , 0.    , 0.    ],\n",
              "       [0.    , 0.    , 0.    , 0.    , 0.    , 0.    , 0.    , 0.    , 0.    , 0.    ,\n",
              "        0.    , 0.0431, 0.7451, 0.9922, 0.2745, 0.    , 0.    , 0.    , 0.    , 0.    ,\n",
              "        0.    , 0.    , 0.    , 0.    , 0.    , 0.    , 0.    , 0.    ],\n",
              "       [0.    , 0.    , 0.    , 0.    , 0.    , 0.    , 0.    , 0.    , 0.    , 0.    ,\n",
              "        0.    , 0.    , 0.1373, 0.9451, 0.8824, 0.6275, 0.4235, 0.0039, 0.    , 0.    ,\n",
              "        0.    , 0.    , 0.    , 0.    , 0.    , 0.    , 0.    , 0.    ],\n",
              "       [0.    , 0.    , 0.    , 0.    , 0.    , 0.    , 0.    , 0.    , 0.    , 0.    ,\n",
              "        0.    , 0.    , 0.    , 0.3176, 0.9412, 0.9922, 0.9922, 0.4667, 0.098 , 0.    ,\n",
              "        0.    , 0.    , 0.    , 0.    , 0.    , 0.    , 0.    , 0.    ]])"
            ]
          },
          "execution_count": 15,
          "metadata": {},
          "output_type": "execute_result"
        }
      ],
      "source": [
        "np.set_printoptions(precision=4)\n",
        "\n",
        "(train_images[0]/ train_images.max())[5:15]\n"
      ]
    },
    {
      "cell_type": "code",
      "execution_count": null,
      "metadata": {
        "colab": {
          "base_uri": "https://localhost:8080/"
        },
        "id": "4AFJqgqL-a2W",
        "outputId": "b1e5a1f2-2ecd-441d-9fad-cf9d96859f54"
      },
      "outputs": [
        {
          "data": {
            "text/plain": [
              "array([5, 0, 4, 1, 9, 2, 1, 3, 1, 4], dtype=uint8)"
            ]
          },
          "execution_count": 17,
          "metadata": {},
          "output_type": "execute_result"
        }
      ],
      "source": [
        "train_labels[:10]"
      ]
    },
    {
      "cell_type": "code",
      "execution_count": null,
      "metadata": {
        "colab": {
          "base_uri": "https://localhost:8080/"
        },
        "id": "sidYl2p_A81H",
        "outputId": "ff8fce9e-6c87-44c2-d52c-d15ec608658a"
      },
      "outputs": [
        {
          "data": {
            "text/plain": [
              "array([[0., 0., 0., 0., 0., 1., 0., 0., 0., 0.],\n",
              "       [1., 0., 0., 0., 0., 0., 0., 0., 0., 0.],\n",
              "       [0., 0., 0., 0., 1., 0., 0., 0., 0., 0.],\n",
              "       [0., 1., 0., 0., 0., 0., 0., 0., 0., 0.],\n",
              "       [0., 0., 0., 0., 0., 0., 0., 0., 0., 1.],\n",
              "       [0., 0., 1., 0., 0., 0., 0., 0., 0., 0.],\n",
              "       [0., 1., 0., 0., 0., 0., 0., 0., 0., 0.],\n",
              "       [0., 0., 0., 1., 0., 0., 0., 0., 0., 0.],\n",
              "       [0., 1., 0., 0., 0., 0., 0., 0., 0., 0.],\n",
              "       [0., 0., 0., 0., 1., 0., 0., 0., 0., 0.]], dtype=float32)"
            ]
          },
          "execution_count": 18,
          "metadata": {},
          "output_type": "execute_result"
        }
      ],
      "source": [
        "tf.keras.utils.to_categorical(train_labels, 10)[:10]"
      ]
    },
    {
      "cell_type": "code",
      "execution_count": null,
      "metadata": {
        "colab": {
          "base_uri": "https://localhost:8080/",
          "height": 248
        },
        "id": "EFFZmdKPBZQw",
        "outputId": "79c43419-4baa-4795-c592-9aacfb4ad557"
      },
      "outputs": [
        {
          "data": {
            "image/png": "[encoded data removed]",
            "text/plain": [
              "<Figure size 432x288 with 1 Axes>"
            ]
          },
          "metadata": {},
          "output_type": "display_data"
        }
      ],
      "source": [
        "import networkx as nx \n",
        "import matplotlib.pyplot as plt\n",
        "dense = nx.Graph()\n",
        "inputs = {i:(0,i) for i in range(0,10)}\n",
        "activations = {i + 100: (1,i) for i in range (0,10) }\n",
        "outputs = {i + 1000: (2,i) for i in range(0,2)}\n",
        "\n",
        "all = {**inputs, **activations, **outputs}\n",
        "for input in inputs:\n",
        "  for activation in activations:\n",
        "    dense.add_edge(input, activation)\n",
        "  for activation in activations:\n",
        "    for output in outputs:\n",
        "      dense.add_edge(activation, output)\n",
        "      nx.draw_networkx_nodes(dense, all , nodelist= all.keys(), node_color='b')\n",
        "      nx.draw_networkx_edges(dense, all)\n",
        "  \n",
        "  plt.axis('off')\n",
        "  pass\n",
        "\n"
      ]
    },
    {
      "cell_type": "code",
      "execution_count": null,
      "metadata": {
        "id": "jLKRuH3jZlzz"
      },
      "outputs": [],
      "source": [
        "import itertools\n",
        "import networkx as nx\n",
        "mnist = nx.Graph()\n",
        "pixels = { i:(x,y) for i,(x, y) in enumerate(itertools.product(range(0,28), range(0,28)) )}\n",
        "activations = {i + 1000: (x + 30, y) for i,(x, y) in enumerate(itertools.product(range(0,28), range(0,28)) )}\n",
        "\n",
        "digits = {i + 2000: (70,i) for i in range (0,10)}\n",
        "all = {**pixels, **activations, **digits}\n",
        "for pixel in pixels:\n",
        "  for activation in activations:\n",
        "    mnist.add_edge(pixel, activation)\n",
        "    for activation in activations:\n",
        "      for digit in digits:\n",
        "        mnist.add_edge(activation, digit)\n",
        "nx.draw_networkx_nodes(mnist, pixels,nodelist=pixels.keys(), node_color='sienna', node_size=8 )\n",
        "nx.draw_networkx_nodes(mnist, activations, nodelist=activations.keys(), node_color='sky blue', node_size=8)\n",
        "nx.draw_networkx_nodes(mnist,digits,nodelist=digits.keys(), node_color='tan', node_size=8)\n",
        "nx.draw_networkx_edges(mnist, all, width=0.1, alpha=0.5)\n",
        "plt.axis('off')\n",
        "pass\n",
        "\n"
      ]
    },
    {
      "cell_type": "code",
      "execution_count": null,
      "metadata": {
        "colab": {
          "base_uri": "https://localhost:8080/",
          "height": 281
        },
        "id": "LAe8ulW5U9zS",
        "outputId": "fe57a91b-451c-4c7a-9743-1bba466c0dea"
      },
      "outputs": [
        {
          "data": {
            "image/png": "[encoded data removed]",
            "text/plain": [
              "<Figure size 432x288 with 2 Axes>"
            ]
          },
          "metadata": {},
          "output_type": "display_data"
        }
      ],
      "source": [
        "import numpy as np \n",
        "\n",
        "def sigmoid(x):\n",
        " return 1 / (1+ np.exp(-x))\n",
        "\n",
        "def relu(x):\n",
        " return np.maximum(x,0)\n",
        "\n",
        "\n",
        "x =np.arange(-5.,5., 0.2)\n",
        "plt.subplot(121)\n",
        "plt.title('sigmoid')\n",
        "plt.plot(x, sigmoid(x))\n",
        "plt.subplot(122)\n",
        "plt.title('relu')\n",
        "plt.plot(x, relu(x))\n",
        "\n",
        "pass\n",
        "\n",
        "\n",
        "\n",
        "\n"
      ]
    },
    {
      "cell_type": "code",
      "execution_count": null,
      "metadata": {
        "id": "acEdUCKLWoE5"
      },
      "outputs": [],
      "source": [
        "from array import  array\n",
        "\n",
        "def softmax(x):\n",
        "    return np.exp(x) / np.sum(np.exp(x), axis = 0)\n",
        "    sample_outputs = [1,2,5]\n",
        "    softmax(sample_outputs)\n",
        "    softmax(sample_outputs).sum()\n",
        "\n",
        "\n",
        "  \n",
        "\n"
      ]
    },
    {
      "cell_type": "markdown",
      "metadata": {
        "id": "PVqZwc1T9ruq"
      },
      "source": [
        ""
      ]
    },
    {
      "cell_type": "code",
      "execution_count": null,
      "metadata": {
        "colab": {
          "base_uri": "https://localhost:8080/"
        },
        "id": "5SpbO92zdnv3",
        "outputId": "66e2d839-27bb-456d-ca53-0adedb61a946"
      },
      "outputs": [
        {
          "name": "stdout",
          "output_type": "stream",
          "text": [
            "Downloading data from https://storage.googleapis.com/tensorflow/tf-keras-datasets/mnist.npz\n",
            "11493376/11490434 [==============================] - 0s 0us/step\n",
            "11501568/11490434 [==============================] - 0s 0us/step\n"
          ]
        },
        {
          "data": {
            "text/plain": [
              "((10000, 28, 28), (10000, 10))"
            ]
          },
          "execution_count": 9,
          "metadata": {},
          "output_type": "execute_result"
        }
      ],
      "source": [
        "import keras\n",
        "from keras.datasets import mnist\n",
        "from keras.layers import Input, Dense , Dropout, Flatten\n",
        "from keras.models import Model\n",
        "import numpy as np \n",
        "import tensorflow as tf \n",
        "\n",
        "\n",
        "(x_train, y_train), (x_test, y_test) = mnist.load_data()\n",
        "x_train = x_train / np.max(x_train)\n",
        "x_test = x_test /np.max(x_test)\n",
        "y_train = tf.keras.utils.to_categorical(y_train,10)\n",
        "y_test = tf.keras.utils.to_categorical(y_test,10)\n",
        "x_train.shape, y_train.shape\n",
        "x_test.shape, y_test.shape\n",
        "\n"
      ]
    },
    {
      "cell_type": "code",
      "execution_count": null,
      "metadata": {
        "id": "UrBXDQPAvofs"
      },
      "outputs": [],
      "source": [
        "def sofmax(x):\n",
        "  return np.exp(x) / np.sum(np.exp(x), axis=0)\n",
        "  sample_outputs = [1,2,5]\n",
        "  softmax(sample_outputs).sum()\n"
      ]
    },
    {
      "cell_type": "code",
      "execution_count": null,
      "metadata": {
        "id": "qmnJEQJw1c4n"
      },
      "outputs": [],
      "source": [
        "import keras\n",
        "from keras.datasets import mnist \n",
        "from keras.layers import Input, Dense, Dropout, Flatten\n",
        "from keras.models import Model\n",
        "import tensorflow as tf\n",
        "import numpy as np\n",
        "\n",
        "\n",
        "\n",
        "(x_train, y_train), (x_test, y_test) = mnist.load_data()\n",
        "x_train = x_train / np.max(x_train)\n",
        "x_test = x_test / np.test(x_test)\n",
        "y_train = tf.keras.utils.to_categorical(y_train, 10)\n",
        "y_test = tf.keras.utils.to_categorical(y_test, 10)\n",
        "\n",
        "\n",
        "\n",
        "\n",
        "\n",
        "\n",
        "\n",
        "\n"
      ]
    },
    {
      "cell_type": "code",
      "execution_count": null,
      "metadata": {
        "colab": {
          "base_uri": "https://localhost:8080/"
        },
        "id": "pBEXn_RV5eS5",
        "outputId": "eff95c69-152b-45dc-c0d7-e8812f2c9a19"
      },
      "outputs": [
        {
          "data": {
            "text/plain": [
              "((60000, 28, 28), (60000, 10))"
            ]
          },
          "execution_count": 14,
          "metadata": {},
          "output_type": "execute_result"
        }
      ],
      "source": [
        "x_train.shape, y_train.shape"
      ]
    },
    {
      "cell_type": "code",
      "execution_count": null,
      "metadata": {
        "colab": {
          "base_uri": "https://localhost:8080/"
        },
        "id": "9L6mNLoI6okK",
        "outputId": "f6c61865-8872-4973-c4f4-1e4c62b8d849"
      },
      "outputs": [
        {
          "data": {
            "text/plain": [
              "((10000, 28, 28), (10000, 10))"
            ]
          },
          "execution_count": 15,
          "metadata": {},
          "output_type": "execute_result"
        }
      ],
      "source": [
        "x_test.shape , y_test.shape"
      ]
    },
    {
      "cell_type": "code",
      "execution_count": null,
      "metadata": {
        "id": "9MACtwsS84JW"
      },
      "outputs": [],
      "source": [
        "input_layer= Input(shape=x_train[0].shape)\n",
        "dense_1 = Dense(32, activation='relu')(input_layer)\n",
        "dropout_1 = Dropout(0.1)(dense_1)\n",
        "dense_2 = Dense(32, activation='relu')(dropout_1)\n",
        "dropout_2 = Dropout(0.1)(dense_2)\n",
        "flat = Flatten()(dropout_2)\n",
        "output_layer = Dense(10, activation='softmax')(flat)\n",
        "\n",
        "model = Model(inputs=(input_layer), outputs=(output_layer))\n",
        "model.summary()\n",
        "model.compile(loss ='categorical_crossentrophy',optimizer='adam', metrics=['accuracy'])\n",
        "\n",
        "history = Model.fit(x_train, y_train, batch_size=64, epochs=8, verbose=1, validation_data=(x_test,y_test))\n",
        "\n",
        "\n",
        "\n",
        "\n",
        "\n",
        "\n",
        "\n",
        "\n",
        "\n",
        "\n"
      ]
    },
    {
      "cell_type": "code",
      "execution_count": null,
      "metadata": {
        "colab": {
          "background_save": true
        },
        "id": "mYKhHsNG9Icv"
      },
      "outputs": [],
      "source": [
        "from sklearn.model_selection import GridSearchCV\n",
        "import keras\n",
        "from keras.backend import dropout\n",
        "import time\n",
        "import numpy as np\n",
        "import matplotlib.pyplot as plt\n",
        "import pandas as pd\n",
        "from sklearn import datasets\n",
        "from sklearn import preprocessing\n",
        "from keras.utils import np_utils\n",
        "from keras.wrappers.scikit_learn import KerasClassifier\n",
        "\n",
        "\n",
        "\n",
        "def dense_model(units, droput):\n",
        "  model = Sequential()\n",
        "  model.add(Dense(units,activation = 'relu', input_shape=(28,28)))\n",
        "  model.add(Dropout(dropout))\n",
        "  model.add(Dense(units,activation = 'relu'))\n",
        "  model.add(Dropout(dropout))\n",
        "  model.add(Flatten())\n",
        "  model.add(Dense(10, activation='softmax'))\n",
        "  model.compile(loss='categorical_crossentrophy',optimizer='adam', metrics=['accuracy'])\n",
        "\n",
        "\n",
        "  return model \n",
        "hyperparameters= {\n",
        "    'epochs':[1],\n",
        "    'batch_size': [64],\n",
        "    'units': [32,64,128],\n",
        "    'dropout':[0.1,0.2, 0.4],}\n",
        "model = KerasClassifier(build_fn=dense_model, verbose =0)\n",
        "start = time.clock()\n",
        "grid = GridSearchCV(estimator=model, param_grid=hyperparameters, cv=6, verbose=0)\n",
        "grid_result = grid.fit(x_train, y_train)\n",
        "\n",
        "print(\"Best:%f using %s\" % (grid_result.best_score_, grid_result.best_params_))\n",
        "\n",
        "y_true, y_pred = np.argmax(y_test, axis=1), grid.predict(x_test)\n",
        "print()\n",
        "print(classification_report(y_true, y_pred))\n",
        "print()\n",
        "print(time.clock() - start)\n"
      ]
    },
    {
      "cell_type": "code",
      "execution_count": null,
      "metadata": {
        "id": "fLO6o2PRgr1a"
      },
      "outputs": [],
      "source": [
        "import numpy as np \n",
        "import matplotlib.pyplot as plt\n",
        "import networkx as nx\n",
        "import math \n",
        "\n",
        "%matplotlib inline\n"
      ]
    },
    {
      "cell_type": "code",
      "execution_count": null,
      "metadata": {
        "colab": {
          "base_uri": "https://localhost:8080/",
          "height": 248
        },
        "id": "xJsmOTTQghMn",
        "outputId": "f4562005-05e2-4466-f822-719a20351aa7"
      },
      "outputs": [
        {
          "data": {
            "image/png": "[encoded data removed]",
            "text/plain": [
              "<Figure size 432x288 with 1 Axes>"
            ]
          },
          "metadata": {},
          "output_type": "display_data"
        }
      ],
      "source": [
        "convolve = nx.Graph()\n",
        "inputs = {i:(0,i) for i in range(0,10)}\n",
        "\n",
        "activations = {i+100:(1,i) for i in range(0,10)}\n",
        "\n",
        "outputs = {i + 1000:(2,i) for i in range(0,2)}\n",
        "\n",
        "all  = {**inputs, **activations, **outputs}\n",
        "\n",
        "def windows(items, kernel):\n",
        "    windows = []\n",
        "    at = 0\n",
        "    while at < len(items) + kernel:\n",
        "          windows.append(items[at:at + kernel])\n",
        "          at = at + 1 \n",
        "\n",
        "    return windows \n",
        "for i,w in enumerate(windows(list(inputs.keys()), 3)):\n",
        "    for input in w:\n",
        "      convolve.add_edge(input, i + 100)\n",
        "for activation in activations:\n",
        "    for output in outputs:\n",
        "      convolve.add_edge(activation, output)\n",
        "nx.draw_networkx_nodes(convolve, all , nodelist=all.keys(), node_color='b')\n",
        "nx.draw_networkx_edges(convolve, all)\n",
        "plt.axis('off')\n",
        "pass \n",
        "\n",
        "\n",
        "\n",
        "\n",
        "\n"
      ]
    },
    {
      "cell_type": "code",
      "execution_count": null,
      "metadata": {
        "id": "udT_K_YaqLCe"
      },
      "outputs": [],
      "source": [
        "import itertools \n",
        "import matplotlib.pyplot as plt\n",
        "\n",
        "size = 6\n",
        "mnist = nx.Graph()\n",
        "\n",
        "\n",
        "pixels = {i:(x,y) for i , (x,y) in enumerate(itertools.product(range(0,size), range(0,size)))}\n",
        "all ={**pixels, **activations}\n",
        "for x in range(0,3):\n",
        "    pixel \n",
        "\n",
        "\n"
      ]
    },
    {
      "cell_type": "code",
      "execution_count": null,
      "metadata": {
        "id": "zr4X8IMYqIip"
      },
      "outputs": [],
      "source": [
        "def model_dense(units, dropout):\n",
        "    model = Sequential()\n",
        "    model.add(Dense(units, activation = 'relu', input_shape=(28, 28)))\n",
        "    model.add(Dropout(dropout))\n",
        "    model.add(Dense(units, activations='relu'))\n",
        "    model.add(Dropout(dropout))\n",
        "    model.add(Flatten())\n",
        "    model.add(Dense(10, activation='sofmax'))\n",
        "    model.compile(loss = 'categorical_crossentropy',\n",
        "                  optimizer='adam',\n",
        "                  metrics=['accuracy']),\n",
        "    return model\n",
        "    hyperparameters  = {\n",
        "        'epochs' : [1],\n",
        "        'batch_size':[64],\n",
        "        'units' : [32,64,128],\n",
        "        'dropout': [0.1, 0.2,0.4],\n",
        "    }\n",
        "    model = KerasClassifier(build_fn=dense_model, verbose=0)\n",
        "    start = time.clock()\n",
        "    grid = GridSearchCV(estimator=model, param_grid=hyperparameters, cv=6, verbose=4)\n",
        "    grid_result = grid.fit(x_train, y_train)\n",
        "    print(\"Best: %f using %s \" % (grid_result.best_score_, grid_result.best_params_) )\n",
        "\n",
        "    y_true, y_pred = np.argmax(y_test, axis=1), grid.predict(x_test)\n",
        "    print()\n",
        "    print(classification_report(y_true, y_pred))\n",
        "    print()\n",
        "    print(time.clock - start)\n",
        "    \n",
        "\n",
        "\n",
        "\n"
      ]
    },
    {
      "cell_type": "code",
      "execution_count": null,
      "metadata": {
        "colab": {
          "base_uri": "https://localhost:8080/",
          "height": 248
        },
        "id": "xS7GDInL-qjy",
        "outputId": "d784897c-7147-4a18-bfae-13b12402bb8b"
      },
      "outputs": [
        {
          "data": {
            "image/png": "[encoded data removed]",
            "text/plain": [
              "<Figure size 432x288 with 1 Axes>"
            ]
          },
          "metadata": {},
          "output_type": "display_data"
        }
      ],
      "source": [
        "import numpy as np \n",
        "import matplotlib.pyplot as plt\n",
        "import math \n",
        "import networkx as nx \n",
        "%matplotlib inline\n",
        "\n",
        "\n",
        "convolve = nx.Graph()\n",
        "inputs = {i:(0,i)  for i in range(0,10)}\n",
        "activations = {i +100: (1,i) for i in range(0,10)}\n",
        "outputs = {i + 1000: (2,i) for i in range(0,2)}\n",
        "all = {**inputs, **activations, **outputs}\n",
        "\n",
        "\n",
        "def window(items, kernel):\n",
        "    windows = []\n",
        "    at = 0 \n",
        "    while at <  len(items) + kernel:\n",
        "      windows.append(items[at:at+kernel])\n",
        "      at  = at + 1\n",
        "    return windows \n",
        "for i, w in enumerate(window(list(inputs.keys()), 3)):\n",
        "    for input in w:\n",
        "      convolve.add_edge(input, i + 100)\n",
        "for activation in activations:\n",
        "    for output in outputs:\n",
        "        convolve.add_edge(activation, output)\n",
        "nx.draw_networkx_nodes(convolve, all, nodelist=all.keys(), node_color='b')\n",
        "nx.draw_networkx_edges(convolve, all)\n",
        "plt.axis('off')\n",
        "pass\n",
        "\n",
        "\n",
        "\n",
        "\n",
        "\n"
      ]
    },
    {
      "cell_type": "code",
      "execution_count": null,
      "metadata": {
        "id": "DpYqAMyoDcSz"
      },
      "outputs": [],
      "source": [
        "import itertools \n",
        "import matplotlib.pyplot as plt\n",
        "size = 6 \n",
        "mnist = nx.Graph()\n",
        "\n",
        "pixels = {i: (x,y)  for i , (x,y) in enumerate(itertools.product(range(0,size), range(0,size)))}\n",
        "pixel_lookup = {position:i for i, position in pixels.items()}\n",
        "activations = {i + 1000:(x+30,y)  for i, (x,y) in enumerate(itertools.product(range(0, size), range(0, size)))}\n",
        "\n",
        "all = {**pixels, **activations}\n",
        "for x in range(0,3):\n",
        "   for y in range(0,3):\n",
        "       pixel = pixel_lookup[(x,y)]\n",
        "       mnist.add_edge(pixel, 1000)\n",
        "\n",
        "nx.draw_networkx_nodes(mnist, pixels,  nodelist=pixels.keys(), node_color='sienna', node_size='8')\n",
        "nx.draw_networkx_nodes(mnist, activations , nodelist= activations.keys(), node_color='skyblue', node_size=8)\n",
        "nx.draw_networkx_edges(mnist, all, alpha=0.8)\n",
        "plt.axis('off')\n",
        "pass\n",
        "\n",
        "\n",
        "\n",
        "\n",
        "\n"
      ]
    },
    {
      "cell_type": "code",
      "execution_count": null,
      "metadata": {
        "id": "h_Xe72FjHstS"
      },
      "outputs": [],
      "source": [
        "import keras \n",
        "from keras.datasets import mnist \n",
        "from keras.layers import Input, Dense, Dropout, Flatten , MaxPooling2D, MaxPooling1D, Conv2D\n",
        "from keras.models import Model, Sequential \n",
        "import numpy as np \n"
      ]
    },
    {
      "cell_type": "code",
      "execution_count": null,
      "metadata": {
        "colab": {
          "base_uri": "https://localhost:8080/"
        },
        "id": "PK5bQIq0Lta1",
        "outputId": "611884c2-da20-4f29-9222-70e8a0d7a954"
      },
      "outputs": [
        {
          "output_type": "stream",
          "name": "stdout",
          "text": [
            "[2. 3. 4. 5.]\n"
          ]
        }
      ],
      "source": [
        "sample = np.array([\n",
        "                   [1,1,4,1],\n",
        "                   [1,1,1,1],\n",
        "                   [2,1,1,5],\n",
        "                   [1,3,1,1]\n",
        "])\n",
        "\n",
        "pool = Sequential()\n",
        "pool.add(MaxPooling1D(pool_size=(4), input_shape=(4,4)))\n",
        "pooled = np.squeeze(pool.predict_on_batch(np.array([sample])))\n",
        "print(pooled)\n",
        "\n",
        "\n",
        "\n"
      ]
    },
    {
      "cell_type": "code",
      "execution_count": null,
      "metadata": {
        "id": "_uuwFtT0QUZD"
      },
      "outputs": [],
      "source": [
        ""
      ]
    },
    {
      "cell_type": "code",
      "execution_count": null,
      "metadata": {
        "colab": {
          "base_uri": "https://localhost:8080/"
        },
        "id": "UpglPvG0M5Ue",
        "outputId": "5f5ba3c5-40a8-4137-afe5-b0feb189a601"
      },
      "outputs": [
        {
          "output_type": "stream",
          "name": "stdout",
          "text": [
            "[1. 4.]\n",
            "[3. 5.]\n"
          ]
        }
      ],
      "source": [
        "pool2 = Sequential()\n",
        "pool2.add(MaxPooling2D(pool_size=(2), input_shape=(4,4,1)))\n",
        "pooled2 = np.squeeze(pool2.predict_on_batch(np.array([np.expand_dims(sample, -1)])))\n",
        "for row in pooled2:\n",
        "  print(row) "
      ]
    },
    {
      "cell_type": "code",
      "execution_count": null,
      "metadata": {
        "colab": {
          "base_uri": "https://localhost:8080/"
        },
        "id": "IQK3HqUmQHvS",
        "outputId": "e404fdd3-5ebe-4a88-a2b1-baa5b0f2d2d0"
      },
      "outputs": [
        {
          "output_type": "stream",
          "name": "stdout",
          "text": [
            "Downloading data from https://storage.googleapis.com/tensorflow/tf-keras-datasets/mnist.npz\n",
            "11493376/11490434 [==============================] - 0s 0us/step\n",
            "11501568/11490434 [==============================] - 0s 0us/step\n"
          ]
        }
      ],
      "source": [
        "(x_train, y_train), (x_test, y_test) = mnist.load_data()\n"
      ]
    },
    {
      "cell_type": "code",
      "execution_count": null,
      "metadata": {
        "id": "pIKP5aqdP4Vh"
      },
      "outputs": [],
      "source": [
        "import tensorflow as tf\n",
        "\n",
        "x_train = np.expand_dims(x_train / np.max(x_train), -1)\n",
        "x_test = np.expand_dims(x_test / np.max(x_test), -1)\n",
        "y_train = tf.keras.utils.to_categorical(y_train, 10)\n",
        "y_test = tf.keras.utils.to_categorical(y_test, 10)\n",
        "\n",
        "\n",
        "input_shape = x_train[0].shape\n",
        "num_classes = 10 \n",
        "model = Sequential()\n",
        "model.add(Conv2D(32, kernel_size=(3,3), activation='relu', input_shape = input_shape))\n",
        "model.add(Conv2D(64, (3,3),  activation='relu'))\n",
        "model.add(MaxPooling2D(pool_size=(2,2)))\n",
        "model.add(Dropout(0.25))\n",
        "model.add(Flatten())\n",
        "model.add(Dense(128, activation='relu'))\n",
        "model.add(Dropout(0.25))\n",
        "model.add(Flatten())\n",
        "model.add(Dense(128, activation='relu'))\n",
        "model.add(Dropout(0.5))\n",
        "model.add(Dense(num_classes, activation='softmax'))\n",
        "model.summary()\n",
        "\n",
        "\n"
      ]
    },
    {
      "cell_type": "code",
      "execution_count": null,
      "metadata": {
        "id": "deEPx7mXToHC"
      },
      "outputs": [],
      "source": [
        "model.compile(loss='categorical_crossentropy',\n",
        "              optimizer='adam',\n",
        "              metrics =['accuracy'])\n",
        "history = model.fit(x_train, y_train, batch_size=64,  \n",
        "                     epochs=8, \n",
        "                    verbose=1,\n",
        "                     validation_data=(x_test,y_test))"
      ]
    },
    {
      "cell_type": "code",
      "source": [
        "import keras\n",
        "from keras.datasets import mnist\n",
        "from keras.layers import Input, Dense, Flatten, MaxPooling2D, Conv2D, AlphaDropout \n",
        "from keras.models import Model, Sequential \n",
        "\n",
        "import numpy as np\n"
      ],
      "metadata": {
        "id": "-iiCMNE_9jDh"
      },
      "execution_count": 92,
      "outputs": []
    },
    {
      "cell_type": "code",
      "source": [
        "from tensorflow.python.client import device_lib \n"
      ],
      "metadata": {
        "id": "MBPkqeL7Bk_S"
      },
      "execution_count": 93,
      "outputs": []
    },
    {
      "cell_type": "code",
      "source": [
        "model = Sequential()"
      ],
      "metadata": {
        "id": "9qDvrSiVUsUr"
      },
      "execution_count": 94,
      "outputs": []
    },
    {
      "cell_type": "code",
      "source": [
        ""
      ],
      "metadata": {
        "id": "FgMb-WtXUqI0"
      },
      "execution_count": null,
      "outputs": []
    },
    {
      "cell_type": "code",
      "source": [
        ""
      ],
      "metadata": {
        "id": "NT0DWxJIUn4R"
      },
      "execution_count": null,
      "outputs": []
    },
    {
      "cell_type": "code",
      "source": [
        "print(device_lib.list_local_devices())"
      ],
      "metadata": {
        "id": "x2CQMA4RCSe_"
      },
      "execution_count": null,
      "outputs": []
    },
    {
      "cell_type": "code",
      "source": [
        "#start by splitting the data into two i.e the training set and the validation set\n",
        "\n",
        "(x_train, y_train), (x_test, y_test) = mnist.load_data()"
      ],
      "metadata": {
        "id": "XmiedRIoCdcu"
      },
      "execution_count": 95,
      "outputs": []
    },
    {
      "cell_type": "code",
      "source": [
        "#normalization of the data i.e reducing the pixel values into values between zero and one\n",
        "x_train = np.expand_dims(x_train / np.max(x_train), -1) "
      ],
      "metadata": {
        "id": "xP12OZ1SEx9M"
      },
      "execution_count": 111,
      "outputs": []
    },
    {
      "cell_type": "code",
      "source": [
        "#normalization\n",
        "x_test = np.expand_dims(x_test / np.max(x_test),  -1)"
      ],
      "metadata": {
        "id": "cq5ADvzgFBXT"
      },
      "execution_count": 112,
      "outputs": []
    },
    {
      "cell_type": "code",
      "source": [
        "\n",
        "import tensorflow as tf\n",
        "from keras.models import Model, Sequential \n",
        "\n",
        "\n",
        "y_test = tf.keras.utils.to_categorical(y_test, 10)\n",
        "y_train = tf.keras.utils.to_categorical(y_train,10)"
      ],
      "metadata": {
        "id": "c2BpcfM8FYpu"
      },
      "execution_count": 113,
      "outputs": []
    },
    {
      "cell_type": "code",
      "source": [
        "input_shape = x_train[0].shape"
      ],
      "metadata": {
        "id": "2jPEikLpHGT6"
      },
      "execution_count": 99,
      "outputs": []
    },
    {
      "cell_type": "code",
      "source": [
        "classes = 10"
      ],
      "metadata": {
        "id": "n1nMh9NoHZcr"
      },
      "execution_count": 100,
      "outputs": []
    },
    {
      "cell_type": "code",
      "source": [
        "input = Input(shape=input_shape)"
      ],
      "metadata": {
        "id": "rzWsjI2THO02"
      },
      "execution_count": 101,
      "outputs": []
    },
    {
      "cell_type": "code",
      "source": [
        "x = Conv2D(64, (3,3) , activation='relu', padding='same',  name='block1_conv1') (inputs)"
      ],
      "metadata": {
        "id": "IgLt5_kyEwY0"
      },
      "execution_count": 102,
      "outputs": []
    },
    {
      "cell_type": "code",
      "source": [
        "x = Conv2D(64, (3,3), activation ='relu', padding='same', name='block1_conv2')(x)\n"
      ],
      "metadata": {
        "id": "jf_V18zxH4B3"
      },
      "execution_count": 103,
      "outputs": []
    },
    {
      "cell_type": "code",
      "source": [
        "x = MaxPooling2D((2,2), strides = (2,2) , name='block1_pool')(x)\n"
      ],
      "metadata": {
        "id": "jv8Yynn8IQTP"
      },
      "execution_count": 104,
      "outputs": []
    },
    {
      "cell_type": "code",
      "source": [
        "x = Conv2D(128, (3,3),  activation='relu',  padding='same', name='block2_conv1')(x)\n",
        "x = Conv2D(128, (3,3), activation='relu', padding='same', name='block2_conv2')(x)\n",
        "   "
      ],
      "metadata": {
        "id": "Sv1-K0-jIl4_"
      },
      "execution_count": 105,
      "outputs": []
    },
    {
      "cell_type": "code",
      "source": [
        "x = MaxPooling2D((2,2), strides = (2,2), name='block2_pool')(x)\n"
      ],
      "metadata": {
        "id": "BCAXL0fWKx3R"
      },
      "execution_count": 106,
      "outputs": []
    },
    {
      "cell_type": "code",
      "source": [
        "from keras.layers.pooling import MaxPooling3D\n",
        "from keras.layers.convolutional import Conv3D\n",
        "x = Conv2D(256, (3,3), activation='relu', padding='same', name='block3_conv1')(x)\n",
        "x = Conv2D(256, (3,3), activation='relu', padding='same', name='block3_conv2')(x)\n",
        "x= Conv2D(256, (3,3), activation='relu', padding='same', name='block2_conv3')(x)\n",
        "x = MaxPooling2D((3,3), strides=(3,3), name='block3_pool')(x)"
      ],
      "metadata": {
        "id": "NHpRfBHpLYTm"
      },
      "execution_count": 107,
      "outputs": []
    },
    {
      "cell_type": "code",
      "source": [
        "from keras.models import Model\n",
        "model.compile(loss = 'categorical_crossentropy',\n",
        "              optimizer='adam',\n",
        "              metrics=['accuracy'])\n",
        "history = model.fit(x_train, y_train,\n",
        "                    batch_size = 64,\n",
        "                     epochs = 8,\n",
        "                     verbose = 1 ,\n",
        "                    validation_data=(x_test, y_test)\n",
        "                    ) \n"
      ],
      "metadata": {
        "id": "Ppe0uvjjObOx"
      },
      "execution_count": null,
      "outputs": []
    },
    {
      "cell_type": "code",
      "source": [
        ""
      ],
      "metadata": {
        "id": "JmKl6SMqUUht"
      },
      "execution_count": null,
      "outputs": []
    },
    {
      "cell_type": "code",
      "source": [
        ""
      ],
      "metadata": {
        "id": "riei5XbaTiU4"
      },
      "execution_count": null,
      "outputs": []
    },
    {
      "cell_type": "code",
      "source": [
        ""
      ],
      "metadata": {
        "id": "Fci7dYaMScKZ"
      },
      "execution_count": null,
      "outputs": []
    },
    {
      "cell_type": "code",
      "source": [
        ""
      ],
      "metadata": {
        "id": "4IC-wvTWSYxO"
      },
      "execution_count": null,
      "outputs": []
    },
    {
      "cell_type": "code",
      "source": [
        ""
      ],
      "metadata": {
        "id": "Jgjf5_LAR1RK"
      },
      "execution_count": null,
      "outputs": []
    },
    {
      "cell_type": "code",
      "source": [
        ""
      ],
      "metadata": {
        "id": "MZHBeAP_RlHH"
      },
      "execution_count": null,
      "outputs": []
    },
    {
      "cell_type": "code",
      "source": [
        ""
      ],
      "metadata": {
        "id": "M7Dz6h8TP5_y"
      },
      "execution_count": null,
      "outputs": []
    },
    {
      "cell_type": "code",
      "source": [
        ""
      ],
      "metadata": {
        "id": "3L4Y7D1ROQIK"
      },
      "execution_count": null,
      "outputs": []
    },
    {
      "cell_type": "code",
      "source": [
        ""
      ],
      "metadata": {
        "id": "FVQpoJwyLF1E"
      },
      "execution_count": null,
      "outputs": []
    },
    {
      "cell_type": "code",
      "source": [
        ""
      ],
      "metadata": {
        "id": "L6wa9GK1LCWq"
      },
      "execution_count": null,
      "outputs": []
    }
  ],
  "metadata": {
    "accelerator": "GPU",
    "colab": {
      "collapsed_sections": [],
      "name": "HandsOnML.ipynb",
      "provenance": [],
      "include_colab_link": true
    },
    "kernelspec": {
      "display_name": "Python 3",
      "name": "python3"
    },
    "language_info": {
      "name": "python"
    }
  },
  "nbformat": 4,
  "nbformat_minor": 0
}