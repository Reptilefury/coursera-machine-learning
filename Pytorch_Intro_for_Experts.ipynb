{
  "nbformat": 4,
  "nbformat_minor": 0,
  "metadata": {
    "colab": {
      "name": "Pytorch Intro for Experts.ipynb",
      "provenance": [],
      "authorship_tag": "ABX9TyPdz6D1tPim8l2D3JPsEglc",
      "include_colab_link": true
    },
    "kernelspec": {
      "name": "python3",
      "display_name": "Python 3"
    },
    "language_info": {
      "name": "python"
    }
  },
  "cells": [
    {
      "cell_type": "markdown",
      "metadata": {
        "id": "view-in-github",
        "colab_type": "text"
      },
      "source": [
        "<a href=\"https://colab.research.google.com/github/Reptilefury/coursera-machine-learning/blob/main/Pytorch_Intro_for_Experts.ipynb\" target=\"_parent\"><img src=\"https://colab.research.google.com/assets/colab-badge.svg\" alt=\"Open In Colab\"/></a>"
      ]
    },
    {
      "cell_type": "code",
      "execution_count": 6,
      "metadata": {
        "id": "qeUx0xXxTdNU"
      },
      "outputs": [],
      "source": [
        "import torch \n",
        "from torch import nn \n",
        "from torch.utils.data import Dataset,DataLoader\n",
        "from torchvision import datasets\n",
        "from torchvision.transforms import ToTensor,Lambda\n",
        "import matplotlib.pyplot as plt"
      ]
    },
    {
      "cell_type": "code",
      "source": [
        "device = \"cuda\" if torch.cuda.is_available() else 'cpu'"
      ],
      "metadata": {
        "id": "gOlP_soQV_a6"
      },
      "execution_count": 7,
      "outputs": []
    },
    {
      "cell_type": "code",
      "source": [
        "train_dataset = datasets.FashionMNIST(\n",
        "    root = \"data\",\n",
        "    download = True,\n",
        "    train = True,\n",
        "    transform = ToTensor(), \n",
        "    #target_transform = Lambda(lambda y: torch.zeros(10,dtype=torch.float).scatter_(0,torch.tensor(y),value = 1))\n",
        ")"
      ],
      "metadata": {
        "id": "tTRj_OXHVimG"
      },
      "execution_count": 61,
      "outputs": []
    },
    {
      "cell_type": "code",
      "source": [
        "test_dataset = datasets.FashionMNIST(\n",
        "    root = \"data\",\n",
        "    download = True,\n",
        "    train = False,\n",
        "    transform = ToTensor(),\n",
        "  #  target_transform = Lambda(lambda y:torch.zeros(10,dtype=torch.float).scatter_(0, torch.tensor(y), value =1))\n",
        ")"
      ],
      "metadata": {
        "id": "lcdfQAiGXOy2"
      },
      "execution_count": 63,
      "outputs": []
    },
    {
      "cell_type": "code",
      "source": [
        "#Visualize the data before building the computational graph \n",
        "figure = plt.figure(figsize =(10,10))\n",
        "rows,cols = 3,3\n",
        "for i  in range(1,rows * cols + 1):\n",
        "  simple_idx = torch.randint(len(train_dataset),size =(1,)).item()\n",
        "  images,labels = train_dataset[simple_idx]\n",
        "  figure.add_subplot(rows,cols,i)\n",
        "  plt.imshow(images.squeeze(),cmap=\"gray\")"
      ],
      "metadata": {
        "colab": {
          "base_uri": "https://localhost:8080/",
          "height": 593
        },
        "id": "1QdTx9z7ZZ-D",
        "outputId": "668d211b-a747-4adb-a913-d18cb0d740cb"
      },
      "execution_count": 64,
      "outputs": [
        {
          "output_type": "display_data",
          "data": {
            "text/plain": [
              "<Figure size 720x720 with 9 Axes>"
            ],
            "image/png": "[encoded data removed]"
          },
          "metadata": {
            "needs_background": "light"
          }
        }
      ]
    },
    {
      "cell_type": "code",
      "source": [
        "#Build the computational graph \n",
        "class NeuralNetwork(nn.Module):\n",
        "  def __init__(self):\n",
        "    super(NeuralNetwork,self).__init__()\n",
        "    self.flatten = nn.Flatten()\n",
        "    self.layers__relu__stack = nn.Sequential(\n",
        "        nn.Linear(28 * 28,512),\n",
        "        nn.ReLU(),\n",
        "        nn.Linear(512,512),\n",
        "        nn.ReLU(),\n",
        "        nn.Linear(512,10) \n",
        "    )\n",
        "\n",
        "  def forward(self,x):\n",
        "    x = self.flatten(x)\n",
        "    logits =  self.layers__relu__stack(x)\n",
        "    return logits"
      ],
      "metadata": {
        "id": "bwu68hQOajbT"
      },
      "execution_count": 65,
      "outputs": []
    },
    {
      "cell_type": "code",
      "source": [
        "#Create an instance of our model and pass it to the computational graph \n",
        "model = NeuralNetwork().to(device)"
      ],
      "metadata": {
        "id": "rQLIklUtbwVP"
      },
      "execution_count": 66,
      "outputs": []
    },
    {
      "cell_type": "code",
      "source": [
        "#Define the hyper parameters of our model\n",
        "loss_fn = nn.CrossEntropyLoss()\n",
        "batch_size = 64\n",
        "epochs = 10 \n",
        "learning_rate = 1e-3 #Equivalent to 1 * 10 - 3\n",
        "optimizer = torch.optim.Adam(model.parameters(),lr = learning_rate)"
      ],
      "metadata": {
        "id": "QaQq4bPXb6tZ"
      },
      "execution_count": 67,
      "outputs": []
    },
    {
      "cell_type": "code",
      "source": [
        "#Define the training loop\n",
        "def train_loop(dataloader,models,loss_fn,optimizer):\n",
        "  size = len(dataloader.dataset)\n",
        "\n",
        "  for batch,(X,y) in enumerate(dataloader):\n",
        "    #Predictions \n",
        "    pred  = model(X)\n",
        "    loss = loss_fn(pred,y)\n",
        "    #Backprop \n",
        "    optimizer.zero_grad()#Reset the model's parameters \n",
        "    loss.backward() #Calculate the gradient of the loss\n",
        "    #Update the weights based on the gradient of the loss\n",
        "    optimizer.step()\n",
        "\n",
        "    if batch % 100 == 0:\n",
        "      loss, current = loss.item(),batch * len(dataloader)\n",
        "      print(f\"loss:{loss:>7f} [{current:>5d}/{size:>5d}]\")\n",
        "\n",
        "\n",
        "#Define the training loop \n",
        "def test_loop(dataloader,model, loss_fn):\n",
        "  size = len(dataloader.dataset)\n",
        "  num_batch = len(dataloader)\n",
        "  test_loss,correct = 0,0\n",
        "\n",
        "  with torch.no_grad():\n",
        "    for X,y in dataloader:\n",
        "      pred = model(X)\n",
        "      test_loss += loss_fn(pred,y).item()      \n",
        "      correct += (pred.argmax(1) == y).type(torch.float32).sum().item()\n",
        "  \n",
        "  test_loss /= num_batch \n",
        "  correct /= size\n",
        "\n",
        "  print(f\"Test Error: \\n Accuracy:{(100 * correct):>0.1f}%, Avg loss {test_loss:>8f}\\n\")"
      ],
      "metadata": {
        "id": "Qdqs7V67cn-H"
      },
      "execution_count": 68,
      "outputs": []
    },
    {
      "cell_type": "code",
      "source": [
        "train_loader = DataLoader(train_dataset,batch_size=batch_size)\n",
        "test_loader = DataLoader(test_dataset, batch_size = batch_size)\n",
        "for t in range(epochs):\n",
        "  print(f\"Epoch {t + 1} ------------------>\")\n",
        "  train_loop(train_loader, model, loss_fn,optimizer)\n",
        "  test_loop(test_loader,model, loss_fn)\n",
        "  print(\"Done\")"
      ],
      "metadata": {
        "colab": {
          "base_uri": "https://localhost:8080/"
        },
        "id": "o2xHP1SMWb9W",
        "outputId": "ecb60401-6da7-479e-af58-ee82b7b363e9"
      },
      "execution_count": null,
      "outputs": [
        {
          "output_type": "stream",
          "name": "stdout",
          "text": [
            "Epoch 1 ------------------>\n",
            "loss:2.310855 [    0/60000]\n",
            "loss:0.589827 [93800/60000]\n",
            "loss:0.408637 [187600/60000]\n",
            "loss:0.520015 [281400/60000]\n",
            "loss:0.461019 [375200/60000]\n",
            "loss:0.442216 [469000/60000]\n",
            "loss:0.379929 [562800/60000]\n",
            "loss:0.512392 [656600/60000]\n",
            "loss:0.469035 [750400/60000]\n",
            "loss:0.499831 [844200/60000]\n",
            "Test Error: \n",
            " Accuracy:84.3%, Avg loss 0.427624\n",
            "\n",
            "Done\n",
            "Epoch 2 ------------------>\n",
            "loss:0.256608 [    0/60000]\n",
            "loss:0.369092 [93800/60000]\n",
            "loss:0.292233 [187600/60000]\n",
            "loss:0.386658 [281400/60000]\n",
            "loss:0.397896 [375200/60000]\n",
            "loss:0.388339 [469000/60000]\n",
            "loss:0.318972 [562800/60000]\n",
            "loss:0.472133 [656600/60000]\n",
            "loss:0.385889 [750400/60000]\n",
            "loss:0.479815 [844200/60000]\n",
            "Test Error: \n",
            " Accuracy:85.9%, Avg loss 0.386323\n",
            "\n",
            "Done\n",
            "Epoch 3 ------------------>\n",
            "loss:0.182290 [    0/60000]\n",
            "loss:0.350277 [93800/60000]\n",
            "loss:0.240642 [187600/60000]\n",
            "loss:0.330980 [281400/60000]\n",
            "loss:0.324363 [375200/60000]\n",
            "loss:0.360440 [469000/60000]\n",
            "loss:0.283170 [562800/60000]\n",
            "loss:0.422262 [656600/60000]\n",
            "loss:0.333674 [750400/60000]\n",
            "loss:0.404658 [844200/60000]\n",
            "Test Error: \n",
            " Accuracy:86.4%, Avg loss 0.375833\n",
            "\n",
            "Done\n",
            "Epoch 4 ------------------>\n",
            "loss:0.177137 [    0/60000]\n",
            "loss:0.291462 [93800/60000]\n",
            "loss:0.205379 [187600/60000]\n",
            "loss:0.290121 [281400/60000]\n",
            "loss:0.352500 [375200/60000]\n",
            "loss:0.318358 [469000/60000]\n",
            "loss:0.269162 [562800/60000]\n",
            "loss:0.374195 [656600/60000]\n",
            "loss:0.302660 [750400/60000]\n",
            "loss:0.376119 [844200/60000]\n",
            "Test Error: \n",
            " Accuracy:87.2%, Avg loss 0.354069\n",
            "\n",
            "Done\n",
            "Epoch 5 ------------------>\n",
            "loss:0.187291 [    0/60000]\n",
            "loss:0.277974 [93800/60000]\n",
            "loss:0.192683 [187600/60000]\n",
            "loss:0.300912 [281400/60000]\n",
            "loss:0.304801 [375200/60000]\n",
            "loss:0.288765 [469000/60000]\n",
            "loss:0.249678 [562800/60000]\n",
            "loss:0.337490 [656600/60000]\n",
            "loss:0.284500 [750400/60000]\n",
            "loss:0.325595 [844200/60000]\n",
            "Test Error: \n",
            " Accuracy:87.0%, Avg loss 0.361584\n",
            "\n",
            "Done\n",
            "Epoch 6 ------------------>\n",
            "loss:0.181736 [    0/60000]\n",
            "loss:0.248359 [93800/60000]\n",
            "loss:0.181642 [187600/60000]\n",
            "loss:0.216548 [281400/60000]\n",
            "loss:0.313061 [375200/60000]\n",
            "loss:0.263918 [469000/60000]\n",
            "loss:0.234780 [562800/60000]\n",
            "loss:0.328001 [656600/60000]\n",
            "loss:0.258072 [750400/60000]\n",
            "loss:0.300796 [844200/60000]\n"
          ]
        }
      ]
    },
    {
      "cell_type": "code",
      "source": [
        ""
      ],
      "metadata": {
        "id": "GrqDCOdokqNH"
      },
      "execution_count": null,
      "outputs": []
    },
    {
      "cell_type": "code",
      "source": [
        ""
      ],
      "metadata": {
        "id": "l6t07LGRkUu7"
      },
      "execution_count": null,
      "outputs": []
    },
    {
      "cell_type": "code",
      "source": [
        ""
      ],
      "metadata": {
        "id": "gGsccCm6jgi3"
      },
      "execution_count": null,
      "outputs": []
    },
    {
      "cell_type": "code",
      "source": [
        ""
      ],
      "metadata": {
        "id": "yd1TJYUVjgga"
      },
      "execution_count": null,
      "outputs": []
    },
    {
      "cell_type": "code",
      "source": [
        ""
      ],
      "metadata": {
        "id": "7718njO_jgdX"
      },
      "execution_count": null,
      "outputs": []
    }
  ]
}