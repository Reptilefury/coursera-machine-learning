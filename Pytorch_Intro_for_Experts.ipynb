{
  "nbformat": 4,
  "nbformat_minor": 0,
  "metadata": {
    "colab": {
      "name": "Pytorch Intro for Experts.ipynb",
      "provenance": [],
      "authorship_tag": "ABX9TyOR5uEhNAd3HbENUHJ+SDrX",
      "include_colab_link": true
    },
    "kernelspec": {
      "name": "python3",
      "display_name": "Python 3"
    },
    "language_info": {
      "name": "python"
    }
  },
  "cells": [
    {
      "cell_type": "markdown",
      "metadata": {
        "id": "view-in-github",
        "colab_type": "text"
      },
      "source": [
        "<a href=\"https://colab.research.google.com/github/Reptilefury/coursera-machine-learning/blob/main/Pytorch_Intro_for_Experts.ipynb\" target=\"_parent\"><img src=\"https://colab.research.google.com/assets/colab-badge.svg\" alt=\"Open In Colab\"/></a>"
      ]
    },
    {
      "cell_type": "code",
      "execution_count": null,
      "metadata": {
        "id": "qeUx0xXxTdNU"
      },
      "outputs": [],
      "source": [
        "import torch \n",
        "from torch import nn \n",
        "from torch.utils.data import Dataset,DataLoader\n",
        "from torchvision import datasets\n",
        "from torchvision.transforms import ToTensor,Lambda\n",
        "import matplotlib.pyplot as plt"
      ]
    },
    {
      "cell_type": "code",
      "source": [
        "device = \"cuda\" if torch.cuda.is_available() else 'cpu'"
      ],
      "metadata": {
        "id": "gOlP_soQV_a6"
      },
      "execution_count": null,
      "outputs": []
    },
    {
      "cell_type": "code",
      "source": [
        "train_dataset = datasets.FashionMNIST(\n",
        "    root = \"data\",\n",
        "    download = True,\n",
        "    train = True,\n",
        "    transform = ToTensor(), \n",
        "    #target_transform = Lambda(lambda y: torch.zeros(10,dtype=torch.float).scatter_(0,torch.tensor(y),value = 1))\n",
        ")"
      ],
      "metadata": {
        "id": "tTRj_OXHVimG"
      },
      "execution_count": null,
      "outputs": []
    },
    {
      "cell_type": "code",
      "source": [
        "test_dataset = datasets.FashionMNIST(\n",
        "    root = \"data\",\n",
        "    download = True,\n",
        "    train = False,\n",
        "    transform = ToTensor(),\n",
        "  #  target_transform = Lambda(lambda y:torch.zeros(10,dtype=torch.float).scatter_(0, torch.tensor(y), value =1))\n",
        ")"
      ],
      "metadata": {
        "id": "lcdfQAiGXOy2"
      },
      "execution_count": null,
      "outputs": []
    },
    {
      "cell_type": "code",
      "source": [
        "#Visualize the data before building the computational graph \n",
        "figure = plt.figure(figsize =(10,10))\n",
        "rows,cols = 3,3\n",
        "for i  in range(1,rows * cols + 1):\n",
        "  simple_idx = torch.randint(len(train_dataset),size =(1,)).item()\n",
        "  images,labels = train_dataset[simple_idx]\n",
        "  figure.add_subplot(rows,cols,i)\n",
        "  plt.imshow(images.squeeze(),cmap=\"gray\")"
      ],
      "metadata": {
        "colab": {
          "base_uri": "https://localhost:8080/",
          "height": 593
        },
        "id": "1QdTx9z7ZZ-D",
        "outputId": "668d211b-a747-4adb-a913-d18cb0d740cb"
      },
      "execution_count": null,
      "outputs": [
        {
          "output_type": "display_data",
          "data": {
            "text/plain": [
              "<Figure size 720x720 with 9 Axes>"
            ],
            "image/png": "[encoded data removed]"
          },
          "metadata": {
            "needs_background": "light"
          }
        }
      ]
    },
    {
      "cell_type": "code",
      "source": [
        "#Build the computational graph \n",
        "class NeuralNetwork(nn.Module):\n",
        "  def __init__(self):\n",
        "    super(NeuralNetwork,self).__init__()\n",
        "    self.flatten = nn.Flatten()\n",
        "    self.layers__relu__stack = nn.Sequential(\n",
        "        nn.Linear(28 * 28,512),\n",
        "        nn.ReLU(),\n",
        "        nn.Linear(512,512),\n",
        "        nn.ReLU(),\n",
        "        nn.Linear(512,10) \n",
        "    )\n",
        "\n",
        "  def forward(self,x):\n",
        "    x = self.flatten(x)\n",
        "    logits =  self.layers__relu__stack(x)\n",
        "    return logits"
      ],
      "metadata": {
        "id": "bwu68hQOajbT"
      },
      "execution_count": null,
      "outputs": []
    },
    {
      "cell_type": "code",
      "source": [
        "#Create an instance of our model and pass it to the computational graph \n",
        "model = NeuralNetwork().to(device)"
      ],
      "metadata": {
        "id": "rQLIklUtbwVP"
      },
      "execution_count": null,
      "outputs": []
    },
    {
      "cell_type": "code",
      "source": [
        "#Define the hyper parameters of our model\n",
        "loss_fn = nn.CrossEntropyLoss()\n",
        "batch_size = 64\n",
        "epochs = 10 \n",
        "learning_rate = 1e-3 #Equivalent to 1 * 10 - 3\n",
        "optimizer = torch.optim.Adam(model.parameters(),lr = learning_rate)"
      ],
      "metadata": {
        "id": "QaQq4bPXb6tZ"
      },
      "execution_count": null,
      "outputs": []
    },
    {
      "cell_type": "code",
      "source": [
        "#Define the training loop\n",
        "def train_loop(dataloader,models,loss_fn,optimizer):\n",
        "  size = len(dataloader.dataset)\n",
        "\n",
        "  for batch,(X,y) in enumerate(dataloader):\n",
        "    #Predictions \n",
        "    pred  = model(X)\n",
        "    loss = loss_fn(pred,y)\n",
        "    #Backprop \n",
        "    optimizer.zero_grad()#Reset the model's parameters \n",
        "    loss.backward() #Calculate the gradient of the loss\n",
        "    #Update the weights based on the gradient of the loss\n",
        "    optimizer.step()\n",
        "\n",
        "    if batch % 100 == 0:\n",
        "      loss, current = loss.item(),batch * len(dataloader)\n",
        "      print(f\"loss:{loss:>7f} [{current:>5d}/{size:>5d}]\")\n",
        "\n",
        "\n",
        "#Define the training loop \n",
        "def test_loop(dataloader,model, loss_fn):\n",
        "  size = len(dataloader.dataset)\n",
        "  num_batch = len(dataloader)\n",
        "  test_loss,correct = 0,0\n",
        "\n",
        "  with torch.no_grad():\n",
        "    for X,y in dataloader:\n",
        "      pred = model(X)\n",
        "      test_loss += loss_fn(pred,y).item()      \n",
        "      correct += (pred.argmax(1) == y).type(torch.float32).sum().item()\n",
        "  \n",
        "  test_loss /= num_batch \n",
        "  correct /= size\n",
        "\n",
        "  print(f\"Test Error: \\n Accuracy:{(100 * correct):>0.1f}%, Avg loss {test_loss:>8f}\\n\")"
      ],
      "metadata": {
        "id": "Qdqs7V67cn-H"
      },
      "execution_count": 13,
      "outputs": []
    },
    {
      "cell_type": "code",
      "source": [
        "train_loader = DataLoader(train_dataset,batch_size=batch_size)\n",
        "test_loader = DataLoader(test_dataset, batch_size = batch_size)\n",
        "for t in range(epochs):\n",
        "  print(f\"Epoch {t + 1} ------------------>\")\n",
        "  train_loop(train_loader, model, loss_fn,optimizer)\n",
        "  test_loop(test_loader,model, loss_fn)\n",
        "  print(\"Done\")"
      ],
      "metadata": {
        "colab": {
          "base_uri": "https://localhost:8080/",
          "height": 252
        },
        "id": "o2xHP1SMWb9W",
        "outputId": "11ad7f6d-e2cb-4ac8-9415-d5c76cbfc147"
      },
      "execution_count": 12,
      "outputs": [
        {
          "output_type": "stream",
          "name": "stdout",
          "text": [
            "Epoch 1 ------------------>\n"
          ]
        },
        {
          "output_type": "error",
          "ename": "NameError",
          "evalue": "ignored",
          "traceback": [
            "\u001b[0;31m---------------------------------------------------------------------------\u001b[0m",
            "\u001b[0;31mNameError\u001b[0m                                 Traceback (most recent call last)",
            "\u001b[0;32m<ipython-input-12-3875d3a41c3e>\u001b[0m in \u001b[0;36m<module>\u001b[0;34m()\u001b[0m\n\u001b[1;32m      3\u001b[0m \u001b[0;32mfor\u001b[0m \u001b[0mt\u001b[0m \u001b[0;32min\u001b[0m \u001b[0mrange\u001b[0m\u001b[0;34m(\u001b[0m\u001b[0mepochs\u001b[0m\u001b[0;34m)\u001b[0m\u001b[0;34m:\u001b[0m\u001b[0;34m\u001b[0m\u001b[0;34m\u001b[0m\u001b[0m\n\u001b[1;32m      4\u001b[0m   \u001b[0mprint\u001b[0m\u001b[0;34m(\u001b[0m\u001b[0;34mf\"Epoch {t + 1} ------------------>\"\u001b[0m\u001b[0;34m)\u001b[0m\u001b[0;34m\u001b[0m\u001b[0;34m\u001b[0m\u001b[0m\n\u001b[0;32m----> 5\u001b[0;31m   \u001b[0mtrain_loop\u001b[0m\u001b[0;34m(\u001b[0m\u001b[0mtrain_loader\u001b[0m\u001b[0;34m,\u001b[0m \u001b[0mmodel\u001b[0m\u001b[0;34m,\u001b[0m \u001b[0mloss_fn\u001b[0m\u001b[0;34m,\u001b[0m\u001b[0moptimizer\u001b[0m\u001b[0;34m)\u001b[0m\u001b[0;34m\u001b[0m\u001b[0;34m\u001b[0m\u001b[0m\n\u001b[0m\u001b[1;32m      6\u001b[0m   \u001b[0mtest_loop\u001b[0m\u001b[0;34m(\u001b[0m\u001b[0mtest_loader\u001b[0m\u001b[0;34m,\u001b[0m\u001b[0mmodel\u001b[0m\u001b[0;34m,\u001b[0m \u001b[0mloss_fn\u001b[0m\u001b[0;34m)\u001b[0m\u001b[0;34m\u001b[0m\u001b[0;34m\u001b[0m\u001b[0m\n\u001b[1;32m      7\u001b[0m   \u001b[0mprint\u001b[0m\u001b[0;34m(\u001b[0m\u001b[0;34m\"Done\"\u001b[0m\u001b[0;34m)\u001b[0m\u001b[0;34m\u001b[0m\u001b[0;34m\u001b[0m\u001b[0m\n",
            "\u001b[0;31mNameError\u001b[0m: name 'train_loop' is not defined"
          ]
        }
      ]
    },
    {
      "cell_type": "code",
      "source": [
        "import torch\n",
        "from torch import nn\n",
        "from torch.utils.data import Dataset,DataLoader\n",
        "from torchvision import datasets\n",
        "from torchvision.transforms import ToTensor,Lambda\n",
        "import matplotlib.pyplot as plt"
      ],
      "metadata": {
        "id": "kDLn6n1u4y86"
      },
      "execution_count": 2,
      "outputs": []
    },
    {
      "cell_type": "code",
      "source": [
        "device = \"cuda\" if torch.cuda.is_available() else 'cpu'"
      ],
      "metadata": {
        "id": "YiFn9eWH5gZ9"
      },
      "execution_count": 3,
      "outputs": []
    },
    {
      "cell_type": "code",
      "source": [
        "train_dataset = datasets.FashionMNIST(\n",
        "    root = \"data\",\n",
        "    download = True,\n",
        "    train = True,\n",
        "    transform = ToTensor(),\n",
        "    )\n",
        "    #target_transform = Lambda(lambda y: torch.zeros(10,dtype=torch.float).scatter_(0,torch.tensor(y),value = 1)))"
      ],
      "metadata": {
        "id": "UyCHFBLh42fj"
      },
      "execution_count": 28,
      "outputs": []
    },
    {
      "cell_type": "code",
      "source": [
        ""
      ],
      "metadata": {
        "id": "t_Z4lzMFMGoB"
      },
      "execution_count": null,
      "outputs": []
    },
    {
      "cell_type": "code",
      "source": [
        "test_dataset = datasets.FashionMNIST(\n",
        "    root = \"data\",\n",
        "    download = True,\n",
        "    train = False,\n",
        "    transform = ToTensor(),\n",
        "    #target_transform = Lambda(lambda y:torch.zeros(10,dtype=torch.float).scatter_(0,torch.tensor(y),value = 1))  \n",
        ")"
      ],
      "metadata": {
        "id": "jL8DTnU47Q71"
      },
      "execution_count": 29,
      "outputs": []
    },
    {
      "cell_type": "code",
      "source": [
        "#Visualize the data before building the network\n",
        "figure = plt.figure(figsize=(10,10))\n",
        "cols,rows = 3,3\n",
        "for i in range(1,cols * rows + 1):\n",
        "  simple_idx = torch.randint(len(train_dataset),size=(1,)).item()\n",
        "  image,labels = train_dataset[simple_idx]\n",
        "  figure.add_subplot(rows,cols,i)  \n",
        "  plt.axis(\"off\")\n",
        "  plt.imshow(image.squeeze(),cmap='gray')\n",
        "  "
      ],
      "metadata": {
        "colab": {
          "base_uri": "https://localhost:8080/",
          "height": 575
        },
        "id": "tJKatjl65-Z8",
        "outputId": "50769eb4-c99a-4012-d632-8f197e8c4103"
      },
      "execution_count": 30,
      "outputs": [
        {
          "output_type": "display_data",
          "data": {
            "text/plain": [
              "<Figure size 720x720 with 9 Axes>"
            ],
            "image/png": "[encoded data removed]"
          },
          "metadata": {
            "needs_background": "light"
          }
        }
      ]
    },
    {
      "cell_type": "code",
      "source": [
        "#Build the network \n",
        "class NeuralNetwork(nn.Module):\n",
        "  def __init__(self):\n",
        "    super(NeuralNetwork,self).__init__()\n",
        "    self.flatten =  nn.Flatten()\n",
        "    self.layers_stack = nn.Sequential(\n",
        "        nn.Linear(28 * 28,512),\n",
        "        nn.ReLU(),\n",
        "        nn.Linear(512,512),\n",
        "        nn.ReLU(),\n",
        "        nn.Linear(512,10))\n",
        "  def forward(self,x):\n",
        "    x = self.flatten(x)\n",
        "    logits = self.layers_stack(x)\n",
        "    return logits"
      ],
      "metadata": {
        "id": "QFy41b8v9oIH"
      },
      "execution_count": 31,
      "outputs": []
    },
    {
      "cell_type": "code",
      "source": [
        "#Create an instance of the model \n",
        "model = NeuralNetwork().to(device)"
      ],
      "metadata": {
        "id": "jOPB5wUgAf6u"
      },
      "execution_count": 32,
      "outputs": []
    },
    {
      "cell_type": "code",
      "source": [
        "#Define the hyperparameters \n",
        "learning_rate = 1e-3\n",
        "epochs = 50\n",
        "loss_fn = nn.CrossEntropyLoss()\n",
        "optimizer = torch.optim.SGD(params = model.parameters(),lr=learning_rate)\n",
        "batch_size =32"
      ],
      "metadata": {
        "id": "bOHejKNzAsli"
      },
      "execution_count": 40,
      "outputs": []
    },
    {
      "cell_type": "code",
      "source": [
        "def train_step(dataloader,model,loss_fn,optimizer):\n",
        "  size = len(dataloader.dataset)\n",
        "  for batch,(X,y) in enumerate(dataloader):\n",
        "    #Make the predictions and get the loss\n",
        "    predictions = model(X) #Forward pass \n",
        "    loss = loss_fn(predictions,y)\n",
        "    #Backward pass\n",
        "    optimizer.zero_grad()#Reset the parameters\n",
        "    loss.backward()#Get the gradient\n",
        "    optimizer.step()#Update the weights\n",
        "\n",
        "    if batch % 100 == 0:\n",
        "      loss,current = loss.item(), batch * len(X)\n",
        "      print(f\"Loss: {loss:>7f} [{current:>5d}/{size:5d}]\")"
      ],
      "metadata": {
        "id": "hpkyR0t6BX97"
      },
      "execution_count": 38,
      "outputs": []
    },
    {
      "cell_type": "code",
      "source": [
        ""
      ],
      "metadata": {
        "id": "1CoAkzUpNIIB"
      },
      "execution_count": null,
      "outputs": []
    },
    {
      "cell_type": "code",
      "source": [
        "#test step \n",
        "def test_step(dataloader,model,loss_fn):\n",
        "  size = len(dataloader.dataset)\n",
        "  num_batches = len(dataloader)\n",
        "  test_loss,correct = 0,0\n",
        "  #Disable gradient tracking and make the forwad pass\n",
        "  with torch.no_grad():\n",
        "    for X,y in dataloader:\n",
        "      preds = model(X)\n",
        "      test_loss += loss_fn(preds,y).item()\n",
        "      correct += (preds.argmax(1) == y ).type(torch.float).sum().item()\n",
        "  \n",
        "  test_loss /= num_batches\n",
        "  correct /= size\n",
        "  print(f\"Test Error: \\n Accuracy:{(correct) * 100:>0.1f}% Avg loss: {test_loss:>8f}\\n\")"
      ],
      "metadata": {
        "id": "qhFK2wfMDTDo"
      },
      "execution_count": 47,
      "outputs": []
    },
    {
      "cell_type": "code",
      "source": [
        "#Loaders\n",
        "train_loader = DataLoader(train_dataset,batch_size=batch_size)\n",
        "test_loader = DataLoader(test_dataset, batch_size = batch_size)\n",
        "\n",
        "#Training loop\n",
        "for epoch in range(epochs):\n",
        "  print(f\"Epoch {epoch + 1}\\n---------------\")\n",
        "  train_step(train_loader,model,loss_fn, optimizer)\n",
        "  test_step(test_loader,model,loss_fn)\n",
        "  print(\"Done!!\")"
      ],
      "metadata": {
        "colab": {
          "base_uri": "https://localhost:8080/"
        },
        "id": "6MPdE0YaBYOM",
        "outputId": "f182d5e2-9ac1-401a-d889-177bdcb23b95"
      },
      "execution_count": null,
      "outputs": [
        {
          "output_type": "stream",
          "name": "stdout",
          "text": [
            "Epoch 1\n",
            "---------------\n",
            "Loss: 0.798750 [    0/60000]\n",
            "Loss: 0.877549 [ 3200/60000]\n",
            "Loss: 0.852304 [ 6400/60000]\n",
            "Loss: 1.009861 [ 9600/60000]\n",
            "Loss: 0.767973 [12800/60000]\n",
            "Loss: 0.991294 [16000/60000]\n",
            "Loss: 0.686827 [19200/60000]\n",
            "Loss: 0.670869 [22400/60000]\n",
            "Loss: 0.796227 [25600/60000]\n",
            "Loss: 1.010471 [28800/60000]\n",
            "Loss: 0.736523 [32000/60000]\n",
            "Loss: 0.678381 [35200/60000]\n",
            "Loss: 1.052640 [38400/60000]\n",
            "Loss: 0.905709 [41600/60000]\n",
            "Loss: 0.815422 [44800/60000]\n",
            "Loss: 0.669105 [48000/60000]\n",
            "Loss: 0.796369 [51200/60000]\n",
            "Loss: 0.963435 [54400/60000]\n",
            "Loss: 0.727252 [57600/60000]\n",
            "Test Error: \n",
            " Accuracy:71.2% Avg loss: 0.790781\n",
            "\n",
            "Done!!\n",
            "Epoch 2\n",
            "---------------\n",
            "Loss: 0.703780 [    0/60000]\n",
            "Loss: 0.833434 [ 3200/60000]\n",
            "Loss: 0.764403 [ 6400/60000]\n",
            "Loss: 0.914956 [ 9600/60000]\n",
            "Loss: 0.691610 [12800/60000]\n",
            "Loss: 0.930973 [16000/60000]\n",
            "Loss: 0.619988 [19200/60000]\n",
            "Loss: 0.584081 [22400/60000]\n",
            "Loss: 0.725775 [25600/60000]\n",
            "Loss: 0.963823 [28800/60000]\n",
            "Loss: 0.688113 [32000/60000]\n",
            "Loss: 0.622968 [35200/60000]\n",
            "Loss: 0.998006 [38400/60000]\n",
            "Loss: 0.878843 [41600/60000]\n",
            "Loss: 0.786271 [44800/60000]\n",
            "Loss: 0.615661 [48000/60000]\n",
            "Loss: 0.733210 [51200/60000]\n",
            "Loss: 0.904829 [54400/60000]\n",
            "Loss: 0.692474 [57600/60000]\n",
            "Test Error: \n",
            " Accuracy:73.5% Avg loss: 0.740747\n",
            "\n",
            "Done!!\n",
            "Epoch 3\n",
            "---------------\n",
            "Loss: 0.637977 [    0/60000]\n",
            "Loss: 0.808279 [ 3200/60000]\n",
            "Loss: 0.697068 [ 6400/60000]\n",
            "Loss: 0.835879 [ 9600/60000]\n",
            "Loss: 0.637139 [12800/60000]\n",
            "Loss: 0.889953 [16000/60000]\n",
            "Loss: 0.578584 [19200/60000]\n",
            "Loss: 0.519899 [22400/60000]\n",
            "Loss: 0.674129 [25600/60000]\n",
            "Loss: 0.923212 [28800/60000]\n",
            "Loss: 0.662133 [32000/60000]\n",
            "Loss: 0.585460 [35200/60000]\n",
            "Loss: 0.947059 [38400/60000]\n",
            "Loss: 0.862045 [41600/60000]\n",
            "Loss: 0.764027 [44800/60000]\n",
            "Loss: 0.578238 [48000/60000]\n",
            "Loss: 0.684317 [51200/60000]\n",
            "Loss: 0.855634 [54400/60000]\n",
            "Loss: 0.670590 [57600/60000]\n",
            "Test Error: \n",
            " Accuracy:75.2% Avg loss: 0.701995\n",
            "\n",
            "Done!!\n",
            "Epoch 4\n",
            "---------------\n",
            "Loss: 0.589139 [    0/60000]\n",
            "Loss: 0.787836 [ 3200/60000]\n",
            "Loss: 0.642382 [ 6400/60000]\n",
            "Loss: 0.771831 [ 9600/60000]\n",
            "Loss: 0.594300 [12800/60000]\n",
            "Loss: 0.858301 [16000/60000]\n",
            "Loss: 0.549920 [19200/60000]\n",
            "Loss: 0.468133 [22400/60000]\n",
            "Loss: 0.633798 [25600/60000]\n",
            "Loss: 0.886101 [28800/60000]\n",
            "Loss: 0.647018 [32000/60000]\n",
            "Loss: 0.556690 [35200/60000]\n",
            "Loss: 0.898809 [38400/60000]\n",
            "Loss: 0.848867 [41600/60000]\n",
            "Loss: 0.745292 [44800/60000]\n",
            "Loss: 0.550286 [48000/60000]\n",
            "Loss: 0.644815 [51200/60000]\n",
            "Loss: 0.814233 [54400/60000]\n",
            "Loss: 0.654903 [57600/60000]\n",
            "Test Error: \n",
            " Accuracy:76.8% Avg loss: 0.670277\n",
            "\n",
            "Done!!\n",
            "Epoch 5\n",
            "---------------\n",
            "Loss: 0.552194 [    0/60000]\n",
            "Loss: 0.768947 [ 3200/60000]\n",
            "Loss: 0.596909 [ 6400/60000]\n",
            "Loss: 0.721192 [ 9600/60000]\n",
            "Loss: 0.558805 [12800/60000]\n",
            "Loss: 0.832566 [16000/60000]\n",
            "Loss: 0.528666 [19200/60000]\n",
            "Loss: 0.424493 [22400/60000]\n",
            "Loss: 0.602096 [25600/60000]\n",
            "Loss: 0.851883 [28800/60000]\n",
            "Loss: 0.636879 [32000/60000]\n",
            "Loss: 0.533893 [35200/60000]\n",
            "Loss: 0.854387 [38400/60000]\n",
            "Loss: 0.837151 [41600/60000]\n",
            "Loss: 0.730363 [44800/60000]\n",
            "Loss: 0.528146 [48000/60000]\n",
            "Loss: 0.613339 [51200/60000]\n",
            "Loss: 0.778700 [54400/60000]\n",
            "Loss: 0.642101 [57600/60000]\n",
            "Test Error: \n",
            " Accuracy:77.8% Avg loss: 0.643779\n",
            "\n",
            "Done!!\n",
            "Epoch 6\n",
            "---------------\n",
            "Loss: 0.523901 [    0/60000]\n",
            "Loss: 0.751343 [ 3200/60000]\n",
            "Loss: 0.558894 [ 6400/60000]\n",
            "Loss: 0.681279 [ 9600/60000]\n",
            "Loss: 0.529107 [12800/60000]\n",
            "Loss: 0.811245 [16000/60000]\n",
            "Loss: 0.512016 [19200/60000]\n",
            "Loss: 0.387614 [22400/60000]\n",
            "Loss: 0.576827 [25600/60000]\n",
            "Loss: 0.819966 [28800/60000]\n",
            "Loss: 0.629218 [32000/60000]\n",
            "Loss: 0.515152 [35200/60000]\n",
            "Loss: 0.814762 [38400/60000]\n",
            "Loss: 0.826259 [41600/60000]\n",
            "Loss: 0.719532 [44800/60000]\n",
            "Loss: 0.510716 [48000/60000]\n",
            "Loss: 0.589760 [51200/60000]\n",
            "Loss: 0.747674 [54400/60000]\n",
            "Loss: 0.630696 [57600/60000]\n",
            "Test Error: \n",
            " Accuracy:78.6% Avg loss: 0.621528\n",
            "\n",
            "Done!!\n",
            "Epoch 7\n",
            "---------------\n",
            "Loss: 0.502199 [    0/60000]\n",
            "Loss: 0.735346 [ 3200/60000]\n",
            "Loss: 0.526538 [ 6400/60000]\n",
            "Loss: 0.649395 [ 9600/60000]\n",
            "Loss: 0.504165 [12800/60000]\n",
            "Loss: 0.793302 [16000/60000]\n",
            "Loss: 0.498377 [19200/60000]\n",
            "Loss: 0.356786 [22400/60000]\n",
            "Loss: 0.556440 [25600/60000]\n",
            "Loss: 0.790136 [28800/60000]\n",
            "Loss: 0.621988 [32000/60000]\n",
            "Loss: 0.500210 [35200/60000]\n",
            "Loss: 0.779866 [38400/60000]\n",
            "Loss: 0.816846 [41600/60000]\n",
            "Loss: 0.712433 [44800/60000]\n",
            "Loss: 0.497284 [48000/60000]\n",
            "Loss: 0.572734 [51200/60000]\n",
            "Loss: 0.720518 [54400/60000]\n",
            "Loss: 0.620113 [57600/60000]\n",
            "Test Error: \n",
            " Accuracy:79.0% Avg loss: 0.602736\n",
            "\n",
            "Done!!\n",
            "Epoch 8\n",
            "---------------\n",
            "Loss: 0.485231 [    0/60000]\n",
            "Loss: 0.720853 [ 3200/60000]\n",
            "Loss: 0.498977 [ 6400/60000]\n",
            "Loss: 0.623923 [ 9600/60000]\n",
            "Loss: 0.483194 [12800/60000]\n",
            "Loss: 0.778645 [16000/60000]\n",
            "Loss: 0.486716 [19200/60000]\n",
            "Loss: 0.331207 [22400/60000]\n",
            "Loss: 0.539779 [25600/60000]\n",
            "Loss: 0.762190 [28800/60000]\n",
            "Loss: 0.614733 [32000/60000]\n",
            "Loss: 0.488221 [35200/60000]\n",
            "Loss: 0.749225 [38400/60000]\n",
            "Loss: 0.808254 [41600/60000]\n",
            "Loss: 0.709239 [44800/60000]\n",
            "Loss: 0.486866 [48000/60000]\n",
            "Loss: 0.560394 [51200/60000]\n",
            "Loss: 0.696678 [54400/60000]\n",
            "Loss: 0.609695 [57600/60000]\n",
            "Test Error: \n",
            " Accuracy:79.6% Avg loss: 0.586724\n",
            "\n",
            "Done!!\n",
            "Epoch 9\n",
            "---------------\n",
            "Loss: 0.471358 [    0/60000]\n",
            "Loss: 0.708127 [ 3200/60000]\n",
            "Loss: 0.475221 [ 6400/60000]\n",
            "Loss: 0.603295 [ 9600/60000]\n",
            "Loss: 0.465592 [12800/60000]\n",
            "Loss: 0.766726 [16000/60000]\n",
            "Loss: 0.476469 [19200/60000]\n",
            "Loss: 0.309950 [22400/60000]\n",
            "Loss: 0.525523 [25600/60000]\n",
            "Loss: 0.736069 [28800/60000]\n",
            "Loss: 0.607154 [32000/60000]\n",
            "Loss: 0.478724 [35200/60000]\n",
            "Loss: 0.722174 [38400/60000]\n",
            "Loss: 0.800221 [41600/60000]\n",
            "Loss: 0.709307 [44800/60000]\n",
            "Loss: 0.478988 [48000/60000]\n",
            "Loss: 0.551097 [51200/60000]\n"
          ]
        }
      ]
    }
  ]
}