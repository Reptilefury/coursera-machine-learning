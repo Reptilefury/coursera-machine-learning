{
  "nbformat": 4,
  "nbformat_minor": 0,
  "metadata": {
    "colab": {
      "name": "Normalization.ipynb",
      "provenance": [],
      "collapsed_sections": [],
      "authorship_tag": "ABX9TyNPrK9xZckfVIqiYARN9lJm",
      "include_colab_link": true
    },
    "kernelspec": {
      "name": "python3",
      "display_name": "Python 3"
    },
    "language_info": {
      "name": "python"
    }
  },
  "cells": [
    {
      "cell_type": "markdown",
      "metadata": {
        "id": "view-in-github",
        "colab_type": "text"
      },
      "source": [
        "<a href=\"https://colab.research.google.com/github/Reptilefury/coursera-machine-learning/blob/main/Normalization.ipynb\" target=\"_parent\"><img src=\"https://colab.research.google.com/assets/colab-badge.svg\" alt=\"Open In Colab\"/></a>"
      ]
    },
    {
      "cell_type": "markdown",
      "source": [
        "Normalization is a data preprocessin tecnique that is applied to data to scale to make sure that each feature is making an equal learning contribution. For instance in the mnist grayscale images contain values ranging from 0 to 255, some pixels have values of 17 and other 197 this will lead to an uneaven contribution of value importance. The higher pixel values will deviate the learning. Normalization reduces this range without distorting the distinction among the features. We do normalisation preprocessing to avoid:\n",
        "- A reduction in prediction accuracy.\n",
        "- Difficulty for the model to learn.\n",
        "- Unfavourable distribution of dataset. \n"
      ],
      "metadata": {
        "id": "_RmR5_ynE0zg"
      }
    },
    {
      "cell_type": "markdown",
      "source": [
        "we do normalization to avoid:\n",
        "- A reduction in training accuracy\n",
        "- Difficulty in training the model\n",
        "- Unfavourable distribution of feature data ranges \n",
        "\n",
        "We use the Transform class to manipulate data to make is suitable for training machine learning algorithms.\n",
        "We us Transform to modify the features and target_transorm to modify the labels. To train our model we need the features as normalized tensors and the tensors as one-hot encoded vectors.\n",
        "These transformations are made entirely possible by the ToTensor method and the Lambda methods"
      ],
      "metadata": {
        "id": "w60v53nCL72N"
      }
    },
    {
      "cell_type": "code",
      "execution_count": 3,
      "metadata": {
        "id": "WFCR3NouC_1n"
      },
      "outputs": [],
      "source": [
        "import torch\n",
        "from torch.utils.data import Dataset\n",
        "from torchvision import datasets\n",
        "from torchvision.transforms import ToTensor, Lambda"
      ]
    },
    {
      "cell_type": "code",
      "source": [
        "from torchvision import transforms\n",
        "ds = datasets.FashionMNIST(\n",
        "    root=\"data\",\n",
        "    train = True,\n",
        "    download=True,\n",
        "    transform=ToTensor(),\n",
        "    target_transform = Lambda(lambda y: torch.zeros(10, dtype=torch.float).scatter_(0, torch.tensor(y), value = 1))\n",
        ")"
      ],
      "metadata": {
        "id": "0qVbOhF4OO-J"
      },
      "execution_count": 7,
      "outputs": []
    },
    {
      "cell_type": "code",
      "source": [
        "#Start From Here"
      ],
      "metadata": {
        "id": "Bl5ExOjwPzMI"
      },
      "execution_count": null,
      "outputs": []
    },
    {
      "cell_type": "code",
      "source": [
        ""
      ],
      "metadata": {
        "id": "oVFmJ3anPHp4"
      },
      "execution_count": null,
      "outputs": []
    },
    {
      "cell_type": "code",
      "source": [
        ""
      ],
      "metadata": {
        "id": "qjltbwWDPFLM"
      },
      "execution_count": null,
      "outputs": []
    },
    {
      "cell_type": "code",
      "source": [
        ""
      ],
      "metadata": {
        "id": "ajmD205LOnNw"
      },
      "execution_count": null,
      "outputs": []
    },
    {
      "cell_type": "code",
      "source": [
        ""
      ],
      "metadata": {
        "id": "6ltca1ciOKDc"
      },
      "execution_count": null,
      "outputs": []
    },
    {
      "cell_type": "code",
      "source": [
        ""
      ],
      "metadata": {
        "id": "-YvyZzMGOEn0"
      },
      "execution_count": null,
      "outputs": []
    },
    {
      "cell_type": "code",
      "source": [
        ""
      ],
      "metadata": {
        "id": "U96aK5hnOBUT"
      },
      "execution_count": null,
      "outputs": []
    }
  ]
}