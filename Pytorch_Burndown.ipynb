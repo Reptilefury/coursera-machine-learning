{
  "nbformat": 4,
  "nbformat_minor": 0,
  "metadata": {
    "colab": {
      "name": "Pytorch Burndown.ipynb",
      "provenance": [],
      "collapsed_sections": [],
      "authorship_tag": "ABX9TyM6T/7woeay+gdYA5h8WvL5",
      "include_colab_link": true
    },
    "kernelspec": {
      "name": "python3",
      "display_name": "Python 3"
    },
    "language_info": {
      "name": "python"
    },
    "accelerator": "GPU"
  },
  "cells": [
    {
      "cell_type": "markdown",
      "metadata": {
        "id": "view-in-github",
        "colab_type": "text"
      },
      "source": [
        "<a href=\"https://colab.research.google.com/github/Reptilefury/coursera-machine-learning/blob/main/Pytorch_Burndown.ipynb\" target=\"_parent\"><img src=\"https://colab.research.google.com/assets/colab-badge.svg\" alt=\"Open In Colab\"/></a>"
      ]
    },
    {
      "cell_type": "code",
      "execution_count": null,
      "metadata": {
        "id": "nLShBugCrRqj"
      },
      "outputs": [],
      "source": [
        "import torch\n",
        "from torch import nn \n",
        "from torch.utils.data import DataLoader, Dataset\n",
        "from torchvision import datasets\n",
        "from torchvision.transforms import ToTensor,Lambda\n",
        "import matplotlib.pyplot as plt"
      ]
    },
    {
      "cell_type": "code",
      "source": [
        "device = 'cuda' if torch.cuda.is_available() else 'cpu'"
      ],
      "metadata": {
        "id": "PkMrWCPVrtUT"
      },
      "execution_count": null,
      "outputs": []
    },
    {
      "cell_type": "code",
      "source": [
        "#load and split the data into training and testing  \n",
        "train_data = datasets.FashionMNIST(\n",
        "    root = \"data\",\n",
        "    train = True, \n",
        "    download = True,\n",
        "    transform = ToTensor(),\n",
        "    target_transform = Lambda(lambda y:torch.zeros(10,dtype=torch.float).scatter_(0,torch.tensor(y),value=1))    \n",
        ")\n",
        "\n",
        "test_data = datasets.FashionMNIST(\n",
        "    root = \"data\",\n",
        "    train = False,\n",
        "    download = True, \n",
        "    transform = ToTensor(),\n",
        "    target_transform = Lambda(lambda y:torch.zeros(10,dtype=torch.float).scatter_(0,torch.tensor(0, torch.tensor(y),value= 1)))\n",
        ")"
      ],
      "metadata": {
        "id": "e-KB2wpVrzNw"
      },
      "execution_count": null,
      "outputs": []
    },
    {
      "cell_type": "code",
      "source": [
        "#Visualize the data before proceeding to build the network \n",
        "figure = plt.figure(figsize =(10,10))\n",
        "rows,cols = 3,3\n",
        "for i in range(1,rows * cols + 1):\n",
        "  simple_idx = torch.randint(len(train_data), size=(1,)).item()\n",
        "  image, labels = train_data[simple_idx]\n",
        "  figure.add_subplot(rows,cols,i)\n",
        "  plt.axis('off')\n",
        "  plt.imshow(image.squeeze(),cmap=\"gray\")"
      ],
      "metadata": {
        "colab": {
          "base_uri": "https://localhost:8080/",
          "height": 575
        },
        "id": "uqbcOCOCrZiZ",
        "outputId": "e294abe9-1dcb-4d86-d917-fd57608c556d"
      },
      "execution_count": null,
      "outputs": [
        {
          "output_type": "display_data",
          "data": {
            "text/plain": [
              "<Figure size 720x720 with 9 Axes>"
            ],
            "image/png": "[encoded data removed]"
          },
          "metadata": {
            "needs_background": "light"
          }
        }
      ]
    },
    {
      "cell_type": "code",
      "source": [
        "#Build the graph \n",
        "class NeuralNetwork(nn.Module):\n",
        "  def __init__(self):\n",
        "    super(NeuralNetwork,self).__init__()\n",
        "    self.flatten = nn.Flatten()\n",
        "    self.layers_stack_relu = nn.Sequential(\n",
        "        nn.Linear(28 * 28, 512), #Input layer that will flatten our feauture map(matrix:2D array of learned features)\n",
        "        nn.ReLU(),\n",
        "        nn.Linear(512,512),\n",
        "        nn.ReLU(),\n",
        "        nn.Linear(512,10))\n",
        "  def forward(self,x):\n",
        "    x = self.flatten(x)\n",
        "    logits = self.layers_stack_relu(x)  \n",
        "    return logits "
      ],
      "metadata": {
        "id": "Np37aXgeuteP"
      },
      "execution_count": null,
      "outputs": []
    },
    {
      "cell_type": "code",
      "source": [
        "#Create an instance of our computational graph  and pass it to device \n",
        "model = NeuralNetwork().to(device)"
      ],
      "metadata": {
        "id": "5k9p-aUawe33"
      },
      "execution_count": null,
      "outputs": []
    },
    {
      "cell_type": "code",
      "source": [
        "#Declare the hyper parameters\n",
        "epochs = 20 \n",
        "learning_rate = 1e-3\n",
        "batch_size = 64\n",
        "loss_fn = nn.CrossEntropyLoss()#Combination of softmax and negative loss likelihood\n",
        "optimizer = torch.optim.SGD(model.parameters(), lr = learning_rate)"
      ],
      "metadata": {
        "id": "qiQ5acwowtfP"
      },
      "execution_count": null,
      "outputs": []
    },
    {
      "cell_type": "code",
      "source": [
        "#Pass the data into the dataloader \n",
        "train_loader = DataLoader(train_data,batch_size=batch_size)"
      ],
      "metadata": {
        "id": "sCy7AXMZy6c3"
      },
      "execution_count": null,
      "outputs": []
    },
    {
      "cell_type": "code",
      "source": [
        "test_loader = DataLoader(test_data,batch_size=batch_size)"
      ],
      "metadata": {
        "id": "HXWiqV8BzLeN"
      },
      "execution_count": null,
      "outputs": []
    },
    {
      "cell_type": "code",
      "source": [
        "#Create the training loop \n",
        "def train_loop(dataloader, model,loss_fn,optimizer):\n",
        "  size  = len(dataloader.dataset)\n",
        "  #Iterate through the dataset and make the predictions \n",
        "  for batch, (X,y) in enumerate(dataloader):\n",
        "    pred = model(X) #make the prediction \n",
        "    loss = loss_fn(pred,y) #Calculate the distance of your model's prediction from actual value\n",
        "\n",
        "    #Backward pass \n",
        "    optimizer.zero_grad() #Reset the model's parameters\n",
        "    loss.Backward()#Calculate the gradient of the loss with respect to each weight parameter \n",
        "    optimizer.step()#Update the parameters of the model based  on gradient of the loss \n",
        "\n",
        "    #if the remainder of the batch is equal to zero\n",
        "    if batch % 100 == 0:\n",
        "      loss, current = loss.item(),batch * len(size)\n",
        "      print(f\"loss: {loss:>7f} [{current:5d}/{size:>5d}]\")"
      ],
      "metadata": {
        "id": "IsK7I-tgtOKO"
      },
      "execution_count": null,
      "outputs": []
    },
    {
      "cell_type": "code",
      "source": [
        "import torch\n",
        "from torch import nn\n",
        "from torch.utils.data import Dataset, DataLoader\n",
        "from torchvision import datasets \n",
        "from torchvision.transforms import ToTensor,Lambda\n",
        "import matplotlib.pyplot as plt"
      ],
      "metadata": {
        "id": "GxwvgGZqEqcn"
      },
      "execution_count": null,
      "outputs": []
    },
    {
      "cell_type": "code",
      "source": [
        "device = 'cuda' if torch.cuda.is_available() else 'cpu'"
      ],
      "metadata": {
        "id": "LtVaPtyjEQpT"
      },
      "execution_count": null,
      "outputs": []
    },
    {
      "cell_type": "code",
      "source": [
        "train_data = datasets.FashionMNIST(\n",
        "    root = \"data\",\n",
        "    download = True,\n",
        "    train = True,\n",
        "    transform = ToTensor(),\n",
        "    target_transform = Lambda(lambda y:torch.zeros(10,dtype = torch.float).scatter_(0,torch.tensor(y), value=1)))"
      ],
      "metadata": {
        "id": "Uz7hSaavJX04"
      },
      "execution_count": null,
      "outputs": []
    },
    {
      "cell_type": "code",
      "source": [
        "test_data = datasets.FashionMNIST(\n",
        "    root = \"data\",\n",
        "    download = True,\n",
        "    train = False,\n",
        "    transform = ToTensor(),\n",
        "    target_transform = Lambda(lambda y:torch.zeros(10,dtype=torch.float).scatter_(0,torch.tensor(y), value = 1))\n",
        ")"
      ],
      "metadata": {
        "id": "fETGUaAfKMtm"
      },
      "execution_count": null,
      "outputs": []
    },
    {
      "cell_type": "code",
      "source": [
        "#Visualize the dataset before building the computational graph \n",
        "figure = plt.figure(figsize = (10,10))\n",
        "cols,rows = 3,3\n",
        "for i in range(1,rows * cols + 1):\n",
        "  simple_idx = torch.randint(len(train_data), size=(1,)).item()\n",
        "  image,labels = train_data[simple_idx]\n",
        "  figure.add_subplot(rows,cols,i)\n",
        "  plt.imshow(image.squeeze(),cmap=\"gray\")"
      ],
      "metadata": {
        "id": "RC_4upp0JHpR"
      },
      "execution_count": null,
      "outputs": []
    },
    {
      "cell_type": "code",
      "source": [
        "#Build the neural network \n",
        "class NeuralNetwork(nn.Module):\n",
        "  def __init__(self):\n",
        "    super(NeuralNetwork,self).__init__()\n",
        "    self.flatten = nn.Flatten()\n",
        "    self.layers_relu_stack = nn.Sequential(\n",
        "        nn.Linear(28 * 28,512),\n",
        "        nn.ReLU(),\n",
        "        nn.Linear(512,512),\n",
        "        nn.ReLU(),\n",
        "        nn.Linear(512,10))\n",
        "  def forward(self,x):\n",
        "    x = self.flatten(x)\n",
        "    logits = self.layers_relu_stack(x)\n",
        "    return logits"
      ],
      "metadata": {
        "id": "_imy92xNMxve"
      },
      "execution_count": null,
      "outputs": []
    },
    {
      "cell_type": "code",
      "source": [
        "model = NeuralNetwork().to(device)"
      ],
      "metadata": {
        "id": "TwqqGizQNlvj"
      },
      "execution_count": null,
      "outputs": []
    },
    {
      "cell_type": "code",
      "source": [
        "#Declare the hyperparameters \n",
        "epochs = 20\n",
        "learning_rate = 1e-3 \n",
        "batch_size = 64\n",
        "loss_fn = nn.CrossEntropyLoss()\n",
        "#learning algorithm/optimizer \n",
        "optimizer = torch.optim.SGD(model.parameters(),lr= learning_rate)"
      ],
      "metadata": {
        "id": "8Y7OuB67Og3m"
      },
      "execution_count": null,
      "outputs": []
    },
    {
      "cell_type": "code",
      "source": [
        "#Define the training loop \n",
        "def train_loop(dataloader,model,loss_fn,optimizer):\n",
        "  size =  len(dataloader.dataset)\n",
        "  for batch,(X,y) in enumerate(dataloader):\n",
        "    #Make the predictions and calculate the loss\n",
        "    pred = model(X)\n",
        "    loss = loss_fn(pred,y)\n",
        "    #Backpropagation \n",
        "    optimizer.zero_grad() #Reset the model's parameters\n",
        "    loss.Backward() #Calculate the gradient of the loss with respect to the specific model parameters\n",
        "    optimizer.step() #Update the model's parameters based on the gradient of the loss \n",
        "\n",
        "    if batch % 100 == 0:\n",
        "      loss,current = loss.item(), batch * len(size)\n",
        "      print(f\"Loss: {loss:>7f} [{current:>5d}/{size:>5d}]\")"
      ],
      "metadata": {
        "id": "gsTrJ_jUO4Up"
      },
      "execution_count": null,
      "outputs": []
    },
    {
      "cell_type": "code",
      "source": [
        "def test_loop(dataloader, model,loss_fn):\n",
        "  size = len(dataloader.dataset)\n",
        "  num_batches = len(dataloader)\n",
        "  test_loss,correct = 0,0\n",
        "  with torch.no_grad():\n",
        "    for X,y in dataloader:\n",
        "      pred = model(X)\n",
        "      test_loss += loss_fn(pred,y).item()\n",
        "      correct += (pred.argmax(1) == y).type(torch.float).sum().item()\n",
        "\n",
        "  test_loss /= num_batches\n",
        "  correct /= size \n",
        "  print(f\"Test Error: \\n  Accuracy:{(100 * correct):>0.1f}% ,Avg loss: {test_loss:>8f}\\n\")"
      ],
      "metadata": {
        "id": "SSuN0Q1_ShUy"
      },
      "execution_count": null,
      "outputs": []
    },
    {
      "cell_type": "code",
      "source": [
        "#Load the training data \n",
        "train_loader = DataLoader(train_data, batch_size=64)\n",
        "test_loader = DataLoader(test_data,batch_size=64)\n",
        "for t in range(epochs):\n",
        "  print(f\"Epoch {t + 1}\\n--------------------------\")\n",
        "  train_loop(train_loader,model,loss_fn, optimizer)\n",
        "  test_loop(test_loader,model,loss_fn,optimizer)\n",
        "  print('Done')"
      ],
      "metadata": {
        "id": "lreoryF7anOc"
      },
      "execution_count": null,
      "outputs": []
    },
    {
      "cell_type": "code",
      "source": [
        ""
      ],
      "metadata": {
        "id": "-eXwYnqVdkw_"
      },
      "execution_count": null,
      "outputs": []
    },
    {
      "cell_type": "code",
      "source": [
        ""
      ],
      "metadata": {
        "id": "IsrS3yCQdaJz"
      },
      "execution_count": null,
      "outputs": []
    },
    {
      "cell_type": "code",
      "source": [
        ""
      ],
      "metadata": {
        "id": "0815p6MNdPhA"
      },
      "execution_count": null,
      "outputs": []
    },
    {
      "cell_type": "code",
      "source": [
        ""
      ],
      "metadata": {
        "id": "TnR-Kg4tdE4L"
      },
      "execution_count": null,
      "outputs": []
    },
    {
      "cell_type": "code",
      "source": [
        ""
      ],
      "metadata": {
        "id": "oURD0eLHc5R8"
      },
      "execution_count": null,
      "outputs": []
    },
    {
      "cell_type": "code",
      "source": [
        ""
      ],
      "metadata": {
        "id": "mlcHewFAajQl"
      },
      "execution_count": null,
      "outputs": []
    },
    {
      "cell_type": "code",
      "source": [
        ""
      ],
      "metadata": {
        "id": "ZYTYrxShahOB"
      },
      "execution_count": null,
      "outputs": []
    },
    {
      "cell_type": "code",
      "source": [
        ""
      ],
      "metadata": {
        "id": "kYhSUpxPace0"
      },
      "execution_count": null,
      "outputs": []
    },
    {
      "cell_type": "code",
      "source": [
        ""
      ],
      "metadata": {
        "id": "L5QQVTWpaLca"
      },
      "execution_count": null,
      "outputs": []
    },
    {
      "cell_type": "code",
      "source": [
        ""
      ],
      "metadata": {
        "id": "QlTKEvVUZ-Vk"
      },
      "execution_count": null,
      "outputs": []
    },
    {
      "cell_type": "code",
      "source": [
        ""
      ],
      "metadata": {
        "id": "hz_YLC8sZP3Q"
      },
      "execution_count": null,
      "outputs": []
    },
    {
      "cell_type": "code",
      "source": [
        ""
      ],
      "metadata": {
        "id": "GwPtAunBZJBc"
      },
      "execution_count": null,
      "outputs": []
    },
    {
      "cell_type": "code",
      "source": [
        "\n"
      ],
      "metadata": {
        "id": "iDhmuJxzZAG1"
      },
      "execution_count": null,
      "outputs": []
    },
    {
      "cell_type": "code",
      "source": [
        ""
      ],
      "metadata": {
        "id": "F7vyRl6lY313"
      },
      "execution_count": null,
      "outputs": []
    },
    {
      "cell_type": "code",
      "source": [
        ""
      ],
      "metadata": {
        "id": "H_Z894L4Y0aX"
      },
      "execution_count": null,
      "outputs": []
    },
    {
      "cell_type": "code",
      "source": [
        ""
      ],
      "metadata": {
        "id": "IYigo2BrX12u"
      },
      "execution_count": null,
      "outputs": []
    },
    {
      "cell_type": "code",
      "source": [
        ""
      ],
      "metadata": {
        "id": "ANludMsIXwV5"
      },
      "execution_count": null,
      "outputs": []
    },
    {
      "cell_type": "code",
      "source": [
        ""
      ],
      "metadata": {
        "id": "qL7h0M2SXJpE"
      },
      "execution_count": null,
      "outputs": []
    },
    {
      "cell_type": "code",
      "source": [
        ""
      ],
      "metadata": {
        "id": "pisika81WmBY"
      },
      "execution_count": null,
      "outputs": []
    },
    {
      "cell_type": "code",
      "source": [
        ""
      ],
      "metadata": {
        "id": "IMKZPJkRWIKf"
      },
      "execution_count": null,
      "outputs": []
    },
    {
      "cell_type": "code",
      "source": [
        ""
      ],
      "metadata": {
        "id": "TddY_GzDWCwE"
      },
      "execution_count": null,
      "outputs": []
    },
    {
      "cell_type": "code",
      "source": [
        ""
      ],
      "metadata": {
        "id": "ulKNYsbRVoS9"
      },
      "execution_count": null,
      "outputs": []
    },
    {
      "cell_type": "code",
      "source": [
        ""
      ],
      "metadata": {
        "id": "tNH_epeFVYvB"
      },
      "execution_count": null,
      "outputs": []
    },
    {
      "cell_type": "code",
      "source": [
        ""
      ],
      "metadata": {
        "id": "XNlaJJ82VNaT"
      },
      "execution_count": null,
      "outputs": []
    },
    {
      "cell_type": "code",
      "source": [
        ""
      ],
      "metadata": {
        "id": "r4RCEKxoUTBC"
      },
      "execution_count": null,
      "outputs": []
    },
    {
      "cell_type": "code",
      "source": [
        ""
      ],
      "metadata": {
        "id": "qDNqIYJfS6oN"
      },
      "execution_count": null,
      "outputs": []
    },
    {
      "cell_type": "code",
      "source": [
        ""
      ],
      "metadata": {
        "id": "zw0hs4SMS0dC"
      },
      "execution_count": null,
      "outputs": []
    },
    {
      "cell_type": "code",
      "source": [
        ""
      ],
      "metadata": {
        "id": "40feMKLwSrpK"
      },
      "execution_count": null,
      "outputs": []
    },
    {
      "cell_type": "code",
      "source": [
        ""
      ],
      "metadata": {
        "id": "0X-QqupTRjK5"
      },
      "execution_count": null,
      "outputs": []
    },
    {
      "cell_type": "code",
      "source": [
        ""
      ],
      "metadata": {
        "id": "IAjb_JYjRSbh"
      },
      "execution_count": null,
      "outputs": []
    },
    {
      "cell_type": "code",
      "source": [
        ""
      ],
      "metadata": {
        "id": "QReKXJaDQV2B"
      },
      "execution_count": null,
      "outputs": []
    },
    {
      "cell_type": "code",
      "source": [
        ""
      ],
      "metadata": {
        "id": "Fhxa5rAuP4EN"
      },
      "execution_count": null,
      "outputs": []
    },
    {
      "cell_type": "code",
      "source": [
        ""
      ],
      "metadata": {
        "id": "wPUjbpL4P1v2"
      },
      "execution_count": null,
      "outputs": []
    },
    {
      "cell_type": "code",
      "source": [
        ""
      ],
      "metadata": {
        "id": "U6azCflSPl6N"
      },
      "execution_count": null,
      "outputs": []
    },
    {
      "cell_type": "code",
      "source": [
        ""
      ],
      "metadata": {
        "id": "wzUVEt5PPhpR"
      },
      "execution_count": null,
      "outputs": []
    },
    {
      "cell_type": "code",
      "source": [
        ""
      ],
      "metadata": {
        "id": "pD9s2VLIPIVE"
      },
      "execution_count": null,
      "outputs": []
    },
    {
      "cell_type": "code",
      "source": [
        ""
      ],
      "metadata": {
        "id": "xR0A3NiQO3K7"
      },
      "execution_count": null,
      "outputs": []
    },
    {
      "cell_type": "code",
      "source": [
        ""
      ],
      "metadata": {
        "id": "j649Rx9IOzRz"
      },
      "execution_count": null,
      "outputs": []
    },
    {
      "cell_type": "code",
      "source": [
        ""
      ],
      "metadata": {
        "id": "eSr_euyxOufv"
      },
      "execution_count": null,
      "outputs": []
    },
    {
      "cell_type": "code",
      "source": [
        ""
      ],
      "metadata": {
        "id": "FNOBwda3OnNQ"
      },
      "execution_count": null,
      "outputs": []
    },
    {
      "cell_type": "code",
      "source": [
        ""
      ],
      "metadata": {
        "id": "ovh03FyiOliK"
      },
      "execution_count": null,
      "outputs": []
    },
    {
      "cell_type": "code",
      "source": [
        ""
      ],
      "metadata": {
        "id": "xZdRiczSOg0K"
      },
      "execution_count": null,
      "outputs": []
    }
  ]
}