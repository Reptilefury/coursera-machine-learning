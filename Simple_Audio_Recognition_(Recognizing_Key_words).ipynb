{
  "nbformat": 4,
  "nbformat_minor": 0,
  "metadata": {
    "colab": {
      "name": "Simple Audio Recognition (Recognizing Key words).ipynb",
      "provenance": [],
      "authorship_tag": "ABX9TyM9w/5Wikm6Toxf+bnB8A/S",
      "include_colab_link": true
    },
    "kernelspec": {
      "name": "python3",
      "display_name": "Python 3"
    },
    "language_info": {
      "name": "python"
    }
  },
  "cells": [
    {
      "cell_type": "markdown",
      "metadata": {
        "id": "view-in-github",
        "colab_type": "text"
      },
      "source": [
        "<a href=\"https://colab.research.google.com/github/Reptilefury/coursera-machine-learning/blob/main/Simple_Audio_Recognition_(Recognizing_Key_words).ipynb\" target=\"_parent\"><img src=\"https://colab.research.google.com/assets/colab-badge.svg\" alt=\"Open In Colab\"/></a>"
      ]
    },
    {
      "cell_type": "code",
      "execution_count": 9,
      "metadata": {
        "id": "qNqBUobVYve-"
      },
      "outputs": [],
      "source": [
        "import os\n",
        "import pathlib\n",
        "import numpy as np\n",
        "import seaborn as sns\n",
        "import tensorflow as tf\n",
        "from tensorflow.keras import layers\n",
        "from tensorflow.keras import models \n",
        "from IPython import display"
      ]
    },
    {
      "cell_type": "code",
      "source": [
        "#Set the seed value for experiment reproducibility \n",
        "seed = 42 \n",
        "tf.random.set_seed(seed)\n",
        "np.random.seed(seed)"
      ],
      "metadata": {
        "id": "WyUgD2rZaBct"
      },
      "execution_count": 11,
      "outputs": []
    },
    {
      "cell_type": "code",
      "source": [
        "dataset_path = 'data/mini_speech_commands'\n",
        "url = \"http://storage.googleapis.com/download.tensorflow.org/data/mini_speech_commands.zip\"\n",
        "\n",
        "data_dir = pathlib.Path(dataset_path)\n",
        "#Check if the file exists and download the file\n",
        "if not data_dir.exists():\n",
        "  tf.keras.utils.get_file(\n",
        "      'mini_speech_commands.zip',\n",
        "      origin = url,\n",
        "      extract = True,cache_dir ='.',cache_subdir='data')\n",
        "\n"
      ],
      "metadata": {
        "colab": {
          "base_uri": "https://localhost:8080/"
        },
        "id": "V0LufA8bbjHn",
        "outputId": "520930cd-7d43-425c-ff13-845409f7fe48"
      },
      "execution_count": 16,
      "outputs": [
        {
          "output_type": "stream",
          "name": "stdout",
          "text": [
            "Downloading data from http://storage.googleapis.com/download.tensorflow.org/data/mini_speech_commands.zip\n",
            "182083584/182082353 [==============================] - 1s 0us/step\n",
            "182091776/182082353 [==============================] - 1s 0us/step\n"
          ]
        }
      ]
    },
    {
      "cell_type": "markdown",
      "source": [
        "The dataset audio clips are stored in eight folders corresponding to each command: no, yes, down, go, left, up, right, stop "
      ],
      "metadata": {
        "id": "BE0lImnZddJh"
      }
    },
    {
      "cell_type": "code",
      "source": [
        "commands = np.array(tf.io.gfile.listdir(str(data_dir)))\n",
        "commands = commands[commands != 'README.md']\n",
        "print('Commands:',commands)"
      ],
      "metadata": {
        "colab": {
          "base_uri": "https://localhost:8080/"
        },
        "id": "P_2kjdDndFiS",
        "outputId": "4f8cdaff-f000-49bb-9591-bffecc049e6d"
      },
      "execution_count": 20,
      "outputs": [
        {
          "output_type": "stream",
          "name": "stdout",
          "text": [
            "Commands: ['go' 'right' 'down' 'left' 'no' 'yes' 'up' 'stop']\n"
          ]
        }
      ]
    },
    {
      "cell_type": "markdown",
      "source": [
        "Extract audio clips into a list called filenames and shuffle them:"
      ],
      "metadata": {
        "id": "HHq6MXV4eyzf"
      }
    },
    {
      "cell_type": "code",
      "source": [
        "filenames = tf.io.gfile.glob(str(data_dir) + '/*/*')\n",
        "filenames = tf.random.shuffle(filenames)\n",
        "\n",
        "num_samples = len(filenames)\n",
        "\n",
        "print('Number of total examples:',num_samples)\n",
        "print('Number of examples per label:',len(tf.io.gfile.listdir(str(data_dir/commands[0]))))\n",
        "print('Example file tensor:',filenames[0])\n"
      ],
      "metadata": {
        "colab": {
          "base_uri": "https://localhost:8080/"
        },
        "id": "6vfagvjGeh69",
        "outputId": "fd91f38d-e7cb-46fd-dc73-b14ef39039fd"
      },
      "execution_count": 24,
      "outputs": [
        {
          "output_type": "stream",
          "name": "stdout",
          "text": [
            "Number of total examples: 8000\n",
            "Number of examples per label: 1000\n",
            "Example file tensor: tf.Tensor(b'data/mini_speech_commands/no/e0315cf6_nohash_2.wav', shape=(), dtype=string)\n"
          ]
        }
      ]
    },
    {
      "cell_type": "markdown",
      "source": [
        "Split the file names into training validation and test sets repsectively : 80:10:10"
      ],
      "metadata": {
        "id": "zxVMqUlpgebK"
      }
    },
    {
      "cell_type": "code",
      "source": [
        "train_files = filenames[:6400]\n",
        "val_files = filenames[6400: 6400 + 800]\n",
        "test_files = filenames[-800:]\n",
        "\n",
        "print(\"Training set files:\", len(train_files)) \n",
        "print('Validation set files:',len(val_files))\n",
        "print('Testing set files:', len(test_files))"
      ],
      "metadata": {
        "colab": {
          "base_uri": "https://localhost:8080/"
        },
        "id": "zU8FiokogTtM",
        "outputId": "5d80b362-f4f6-4cb8-b454-a1845df2d2f1"
      },
      "execution_count": 31,
      "outputs": [
        {
          "output_type": "stream",
          "name": "stdout",
          "text": [
            "Training set files: 6400\n",
            "Validation set files: 800\n",
            "Testing set files: 800\n"
          ]
        }
      ]
    },
    {
      "cell_type": "code",
      "source": [
        "test_file = tf.io.read_file(dataset_path+'/down/0a9f9af7_nohash_0.wav')\n",
        "test_audio,_ = tf.audio.decode_wav(contents=test_file)\n",
        "test_audio.shape"
      ],
      "metadata": {
        "colab": {
          "base_uri": "https://localhost:8080/"
        },
        "id": "6ZMTxPNshil-",
        "outputId": "4bc50820-2a09-4fde-8cf5-7fe16b0fe114"
      },
      "execution_count": 36,
      "outputs": [
        {
          "output_type": "execute_result",
          "data": {
            "text/plain": [
              "TensorShape([13654, 1])"
            ]
          },
          "metadata": {},
          "execution_count": 36
        }
      ]
    },
    {
      "cell_type": "markdown",
      "source": [
        "Function that preprocesses the dataset's raw wav audio"
      ],
      "metadata": {
        "id": "Vuzd-apSjULD"
      }
    },
    {
      "cell_type": "code",
      "source": [
        "def decode_audio(audio_binary):\n",
        "  audio,_ = tf.audio.decode_wav(contents=audio_binary)#Returns the audio and sample rate \n",
        "  return tf.squeeze(audio,axis=-1)"
      ],
      "metadata": {
        "id": "nxGKTESBi4s7"
      },
      "execution_count": 39,
      "outputs": []
    },
    {
      "cell_type": "code",
      "source": [
        "def get_label(file_path):\n",
        "  parts = tf.strings.split(\n",
        "      input= file_path,\n",
        "      sep = os.path.sep,\n",
        "  )\n",
        "  return parts[-2]"
      ],
      "metadata": {
        "id": "pDqkkJvEkeqX"
      },
      "execution_count": 49,
      "outputs": []
    },
    {
      "cell_type": "code",
      "source": [
        ""
      ],
      "metadata": {
        "id": "g7PcLSJ9pUJg"
      },
      "execution_count": 49,
      "outputs": []
    },
    {
      "cell_type": "code",
      "source": [
        "from tensorflow.python.ops.gen_audio_ops import decode_wav\n",
        "def get_waveform_and_label(file_path):\n",
        "  label = get_label(file_path)\n",
        "  audio_binary = tf.io.read_file(file_path)\n",
        "  wavform = decode_audio(audio_binary)\n",
        "  return  wavform,label\n",
        "\n",
        "AUTOTUNE = tf.data.AUTOTUNE\n",
        "\n",
        "file_ds = tf.data.Dataset.from_tensor_slices(train_files)\n",
        "\n",
        "\n",
        "waveform_ds = file_ds.map(\n",
        "    map_func = get_waveform_and_label,\n",
        "    num_parallel_calls=AUTOTUNE\n",
        ")"
      ],
      "metadata": {
        "id": "QzY4KAgZbeCh"
      },
      "execution_count": 50,
      "outputs": []
    },
    {
      "cell_type": "code",
      "source": [
        "rows = 3\n",
        "cols = 3\n",
        "n = rows * cols\n",
        "fig, axes = plt.subplots(rows, cols, figsize=(10, 12))\n",
        "\n",
        "for i, (audio, label) in enumerate(waveform_ds.take(n)):\n",
        "  r = i // cols\n",
        "  c = i % cols\n",
        "  ax = axes[r][c]\n",
        "  ax.plot(audio.numpy())\n",
        "  ax.set_yticks(np.arange(-1.2, 1.2, 0.2))\n",
        "  label = label.numpy().decode('utf-8')\n",
        "  ax.set_title(label)\n",
        "\n",
        "plt.show()"
      ],
      "metadata": {
        "id": "KEpUJ9wwt3HQ"
      },
      "execution_count": null,
      "outputs": []
    },
    {
      "cell_type": "code",
      "source": [
        "import matplotlib.pyplot as plt\n",
        "\n",
        "rows = 3\n",
        "cols = 3\n",
        "n = rows * cols \n",
        "fig, axes = plt.subplots(rows,cols , figsize=(10,12))\n",
        "for i, (audio,label) in enumerate(waveform_ds.take(n)):\n",
        "  r = i //cols\n",
        "  c = i % cols\n",
        "  ax = axes[r][c]\n",
        "  ax.plot(audio.numpy())\n",
        "  ax.set_yticks(np.arange(-1.2,1.2,0.2))\n",
        "  label = label.numpy().decode('utf-8')\n",
        "  ax.set_title(label)\n",
        "\n",
        "plt.show()"
      ],
      "metadata": {
        "colab": {
          "base_uri": "https://localhost:8080/",
          "height": 716
        },
        "id": "zG7HfRYyo4Ad",
        "outputId": "ebee8dc5-dfba-4ce2-eac6-34dedf1b4b04"
      },
      "execution_count": 68,
      "outputs": [
        {
          "output_type": "display_data",
          "data": {
            "text/plain": [
              "<Figure size 720x864 with 9 Axes>"
            ],
            "image/png": "[encoded data removed]"
          },
          "metadata": {
            "needs_background": "light"
          }
        }
      ]
    },
    {
      "cell_type": "code",
      "source": [
        "def get_spectrogram(waveform):\n",
        "  #Zero padding for an audio form with less than 16,000 samples \n",
        "  input_len = 16000\n",
        "  waveform = waveform[:input_len]\n",
        "  zero_padding = tf.zeros(\n",
        "      [16000] - tf.shape(waveform),\n",
        "      dtype = tf.float32\n",
        "  )\n",
        "  waveform = tf.cast(waveform, dtype=tf.float32)  \n",
        "  equal_length = tf.concat([waveform, zero_padding],0)\n",
        "  #Convert the waveform to a spectrogram via the short time fourier transform\n",
        "  spectrogram = tf.signal.stft(equal_length,frame_length=255,frame_step = 128)\n",
        "  #Get the magnitude of the stft \n",
        "  spectrogram = tf.abs(spectrogram)\n",
        "  #Add a channel like dimension so that the spectrogram can be used as image like input data with convolution layers\n",
        "  spectrogram = spectrogram[...,tf.newaxis]\n",
        "  return spectrogram"
      ],
      "metadata": {
        "id": "r-ENcJj1ukCl"
      },
      "execution_count": 82,
      "outputs": []
    },
    {
      "cell_type": "code",
      "source": [
        "for waveform, label in waveform_ds.take(1):\n",
        "  label = label.numpy().decode('utf-8')\n",
        "  spectrogram = get_spectrogram(waveform)\n",
        "\n",
        "print('Label',label)\n",
        "print('Wave form shape:', waveform.shape)\n",
        "print('spectrogram shape:',spectrogram.shape)\n",
        "print('Audio playback:')\n",
        "display.display(display.Audio(waveform,rate=16000))"
      ],
      "metadata": {
        "colab": {
          "base_uri": "https://localhost:8080/",
          "height": 145
        },
        "id": "y-ybshY04G5W",
        "outputId": "c4a25d34-83df-4a51-af81-1314615fc9f2"
      },
      "execution_count": 86,
      "outputs": [
        {
          "output_type": "stream",
          "name": "stdout",
          "text": [
            "Label no\n",
            "Wave form shape: (16000,)\n",
            "spectrogram shape: (124, 129, 1)\n",
            "Audio playback:\n"
          ]
        },
        {
          "output_type": "display_data",
          "data": {
            "text/plain": [
              "<IPython.lib.display.Audio object>"
            ],
            "text/html": [
              "\n",
              "                <audio controls=\"controls\" >\n",
              "                    <source src=\"data:audio/wav;base64,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\" type=\"audio/wav\" />\n",
              "                    Your browser does not support the audio element.\n",
              "                </audio>\n",
              "              "
            ]
          },
          "metadata": {}
        }
      ]
    },
    {
      "cell_type": "markdown",
      "source": [
        "Function for displaying a spectrogram"
      ],
      "metadata": {
        "id": "7WfMv2l68mB8"
      }
    },
    {
      "cell_type": "code",
      "source": [
        "def plot_spectrogram(spectrogram,ax):\n",
        "  if len(spectrogram.shape) > 2:\n",
        "    assert len(spectrogram.shape) == 3\n",
        "    spectrogram = np.squeeze(spectrogram,axis=-1)\n",
        "\n",
        "\n",
        "log_spec = np.log(spectrogram.T +  np.finfo(float).eps)\n",
        "height = log_spec.shape[0]\n",
        "width = log_spec.shape[1]\n",
        "X = np.linspace(0, np.size(spectrogram),num=width,dtype=input)\n",
        "Y = range(height)\n",
        "ax.pcolormesh( ) "
      ],
      "metadata": {
        "id": "_dvGdOjn8aau"
      },
      "execution_count": 90,
      "outputs": []
    },
    {
      "cell_type": "code",
      "source": [
        ""
      ],
      "metadata": {
        "id": "4PGrCQJiDg6i"
      },
      "execution_count": null,
      "outputs": []
    },
    {
      "cell_type": "code",
      "source": [
        ""
      ],
      "metadata": {
        "id": "VNm3kbUSDQpe"
      },
      "execution_count": null,
      "outputs": []
    },
    {
      "cell_type": "code",
      "source": [
        ""
      ],
      "metadata": {
        "id": "3Yh7cqKlC4Fq"
      },
      "execution_count": null,
      "outputs": []
    },
    {
      "cell_type": "code",
      "source": [
        ""
      ],
      "metadata": {
        "id": "hHc73Qj671Ep"
      },
      "execution_count": null,
      "outputs": []
    },
    {
      "cell_type": "code",
      "source": [
        ""
      ],
      "metadata": {
        "id": "OXoVqxGr7hnQ"
      },
      "execution_count": null,
      "outputs": []
    },
    {
      "cell_type": "code",
      "source": [
        ""
      ],
      "metadata": {
        "id": "JNRvPELn4jj7"
      },
      "execution_count": null,
      "outputs": []
    }
  ]
}