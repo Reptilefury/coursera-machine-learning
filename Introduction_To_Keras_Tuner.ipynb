{
  "nbformat": 4,
  "nbformat_minor": 0,
  "metadata": {
    "colab": {
      "name": "Introduction To Keras Tuner.ipynb",
      "provenance": [],
      "authorship_tag": "ABX9TyOWM5tphrvhwhZ7c8lqMqle",
      "include_colab_link": true
    },
    "kernelspec": {
      "name": "python3",
      "display_name": "Python 3"
    },
    "language_info": {
      "name": "python"
    }
  },
  "cells": [
    {
      "cell_type": "markdown",
      "metadata": {
        "id": "view-in-github",
        "colab_type": "text"
      },
      "source": [
        "<a href=\"https://colab.research.google.com/github/Reptilefury/coursera-machine-learning/blob/main/Introduction_To_Keras_Tuner.ipynb\" target=\"_parent\"><img src=\"https://colab.research.google.com/assets/colab-badge.svg\" alt=\"Open In Colab\"/></a>"
      ]
    },
    {
      "cell_type": "code",
      "execution_count": null,
      "metadata": {
        "id": "FnoqH0Pf1jvP"
      },
      "outputs": [],
      "source": [
        "import tensorflow as tf\n",
        "from tensorflow import keras\n",
        "import matplotlib.pyplot as plt"
      ]
    },
    {
      "cell_type": "code",
      "source": [
        "!pip install -q -U keras-tuner"
      ],
      "metadata": {
        "colab": {
          "base_uri": "https://localhost:8080/"
        },
        "id": "m5cRyAMN3IxE",
        "outputId": "82be507a-c2be-4a84-e2bf-06fa33c1572d"
      },
      "execution_count": null,
      "outputs": [
        {
          "output_type": "stream",
          "name": "stdout",
          "text": [
            "\u001b[?25l\r\u001b[K     |██▌                             | 10 kB 18.8 MB/s eta 0:00:01\r\u001b[K     |█████                           | 20 kB 22.7 MB/s eta 0:00:01\r\u001b[K     |███████▍                        | 30 kB 26.3 MB/s eta 0:00:01\r\u001b[K     |█████████▉                      | 40 kB 29.6 MB/s eta 0:00:01\r\u001b[K     |████████████▎                   | 51 kB 32.9 MB/s eta 0:00:01\r\u001b[K     |██████████████▊                 | 61 kB 36.2 MB/s eta 0:00:01\r\u001b[K     |█████████████████▏              | 71 kB 37.7 MB/s eta 0:00:01\r\u001b[K     |███████████████████▋            | 81 kB 29.2 MB/s eta 0:00:01\r\u001b[K     |██████████████████████          | 92 kB 30.5 MB/s eta 0:00:01\r\u001b[K     |████████████████████████▌       | 102 kB 22.6 MB/s eta 0:00:01\r\u001b[K     |███████████████████████████     | 112 kB 22.6 MB/s eta 0:00:01\r\u001b[K     |█████████████████████████████▍  | 122 kB 22.6 MB/s eta 0:00:01\r\u001b[K     |███████████████████████████████▉| 133 kB 22.6 MB/s eta 0:00:01\r\u001b[K     |████████████████████████████████| 133 kB 22.6 MB/s \n",
            "\u001b[?25h"
          ]
        }
      ]
    },
    {
      "cell_type": "code",
      "source": [
        "import keras_tuner as kt "
      ],
      "metadata": {
        "id": "Q_U3Cwi93vog"
      },
      "execution_count": null,
      "outputs": []
    },
    {
      "cell_type": "markdown",
      "source": [
        "Here we are going to use the keras tuner library to find the best hyperparameters that classifies images of clothing from the FashionMNIST dataset."
      ],
      "metadata": {
        "id": "TWhOj0mG4Ihe"
      }
    },
    {
      "cell_type": "code",
      "source": [
        "#We load the data and normalize the pixel values to be in between zero and one\n",
        "(train_images, train_labels),(test_images, test_labels) = tf.keras.datasets.fashion_mnist.load_data() "
      ],
      "metadata": {
        "colab": {
          "base_uri": "https://localhost:8080/"
        },
        "id": "_nClyUpa4x7o",
        "outputId": "4d6e159b-1932-4bac-b098-28a344839020"
      },
      "execution_count": null,
      "outputs": [
        {
          "output_type": "stream",
          "name": "stdout",
          "text": [
            "Downloading data from https://storage.googleapis.com/tensorflow/tf-keras-datasets/train-labels-idx1-ubyte.gz\n",
            "32768/29515 [=================================] - 0s 0us/step\n",
            "40960/29515 [=========================================] - 0s 0us/step\n",
            "Downloading data from https://storage.googleapis.com/tensorflow/tf-keras-datasets/train-images-idx3-ubyte.gz\n",
            "26427392/26421880 [==============================] - 0s 0us/step\n",
            "26435584/26421880 [==============================] - 0s 0us/step\n",
            "Downloading data from https://storage.googleapis.com/tensorflow/tf-keras-datasets/t10k-labels-idx1-ubyte.gz\n",
            "16384/5148 [===============================================================================================] - 0s 0us/step\n",
            "Downloading data from https://storage.googleapis.com/tensorflow/tf-keras-datasets/t10k-images-idx3-ubyte.gz\n",
            "4423680/4422102 [==============================] - 0s 0us/step\n",
            "4431872/4422102 [==============================] - 0s 0us/step\n"
          ]
        }
      ]
    },
    {
      "cell_type": "code",
      "source": [
        "#We normalize the dataset: standardize the dataset to be floating point numbers in between zero and one \n",
        "train_images = train_images.astype('float32')/255.0\n",
        "test_images = test_images.astype('float32')/255.0"
      ],
      "metadata": {
        "id": "vyYBeKxH5J-Y"
      },
      "execution_count": null,
      "outputs": []
    },
    {
      "cell_type": "code",
      "source": [
        "#Check the first images and see whether it has been normalized\n",
        "first_image = train_images[0]"
      ],
      "metadata": {
        "id": "595IkLLT5911"
      },
      "execution_count": null,
      "outputs": []
    },
    {
      "cell_type": "code",
      "source": [
        "import numpy as np \n",
        "#check the maximum value\n",
        "np.max(first_image)"
      ],
      "metadata": {
        "colab": {
          "base_uri": "https://localhost:8080/"
        },
        "id": "3AQq9ALO6QBJ",
        "outputId": "0922a523-e134-428c-9ab4-77af2118a761"
      },
      "execution_count": null,
      "outputs": [
        {
          "output_type": "execute_result",
          "data": {
            "text/plain": [
              "3.637131e-15"
            ]
          },
          "metadata": {},
          "execution_count": 19
        }
      ]
    },
    {
      "cell_type": "code",
      "source": [
        "#This value is equivalent to \n",
        "3.63713 * 10-15 #one times ten to the power of 15 "
      ],
      "metadata": {
        "colab": {
          "base_uri": "https://localhost:8080/"
        },
        "id": "frQ2kQla60cV",
        "outputId": "f417db48-150d-434c-8745-4a6dda3a11d1"
      },
      "execution_count": null,
      "outputs": [
        {
          "output_type": "execute_result",
          "data": {
            "text/plain": [
              "21.371299999999998"
            ]
          },
          "metadata": {},
          "execution_count": 22
        }
      ]
    },
    {
      "cell_type": "code",
      "source": [
        "#check the minimum value\n",
        "np.min(first_image)"
      ],
      "metadata": {
        "colab": {
          "base_uri": "https://localhost:8080/"
        },
        "id": "p6M910JR6nUw",
        "outputId": "3a2c7e10-9603-438c-ec9b-943898c395eb"
      },
      "execution_count": null,
      "outputs": [
        {
          "output_type": "execute_result",
          "data": {
            "text/plain": [
              "0.0"
            ]
          },
          "metadata": {},
          "execution_count": 23
        }
      ]
    },
    {
      "cell_type": "markdown",
      "source": [
        "When you build the model for hyper tuning we also define the hyperparameter search space in addition to the model architecture. The model you set up for hyper tuning is called a hyper model. \n",
        "We can define the hypermodel through two approaches:\n",
        "- By using a model builder function.\n",
        "- By subclassing the HyPerModel class of the Keras Tuner API.\n",
        "\n",
        "We can also use two predefined model classes HyperXception and HyperResNet for computer vision applications."
      ],
      "metadata": {
        "id": "VnxV5joz75J6"
      }
    },
    {
      "cell_type": "code",
      "source": [
        "#Build the model \n",
        "def build_model(hp):\n",
        "  model = tf.keras.Sequential()\n",
        "  model.add(tf.keras.layers.Flatten(input_shape=train_images[0].shape))\n",
        "  hp_units = hp.Int('units',min_value=32, max_value=512, step=32)\n",
        "  model.add(tf.keras.layers.Dense(hp_units,activation='relu'))\n",
        "  model.add(tf.keras.layers.Dense(10))\n",
        "\n",
        "\n",
        "  #Tune the learning rate for the optimizer \n",
        "  hp_learning_rate = hp.Choice('learning_rate',values=[1e-2,1e-3,1e-4])\n",
        "  model.compile(loss = tf.keras.losses.SparseCategoricalCrossentropy(from_logits=True), optimizer=tf.keras.optimizers.Adam(learning_rate=hp_learning_rate),\n",
        "                metrics = ['Accuracy']                \n",
        "                )\n",
        "  return model"
      ],
      "metadata": {
        "id": "lvZtt3oT7X-9"
      },
      "execution_count": null,
      "outputs": []
    },
    {
      "cell_type": "code",
      "source": [
        "#create an instance of the model \n",
        "tuner = kt.Hyperband(build_model, objective = 'val_Accuracy', max_epochs=10, factor=3,directory='my_dir', project_name=\"intro_to_hypertuning\")"
      ],
      "metadata": {
        "colab": {
          "base_uri": "https://localhost:8080/"
        },
        "id": "InniNLXiBRHI",
        "outputId": "043e50cc-5fee-4594-ed7b-0bdb5e8f7ee8"
      },
      "execution_count": null,
      "outputs": [
        {
          "output_type": "stream",
          "name": "stdout",
          "text": [
            "INFO:tensorflow:Reloading Oracle from existing project my_dir/intro_to_hypertuning/oracle.json\n"
          ]
        }
      ]
    },
    {
      "cell_type": "code",
      "source": [
        "#Lets create a callback to stop training early when the validataion loss has reached a certain value\n",
        "stop_early = tf.keras.callbacks.EarlyStopping(monitor=\"val_loss\", patience=5)"
      ],
      "metadata": {
        "id": "vt4cRD_rCJVu"
      },
      "execution_count": null,
      "outputs": []
    },
    {
      "cell_type": "code",
      "source": [
        "#The arguments for the search method are similar to that of the fit method \n",
        "tuner.search(train_images, train_labels, epochs = 50, validation_split = 0.2,callbacks=[stop_early])"
      ],
      "metadata": {
        "colab": {
          "base_uri": "https://localhost:8080/"
        },
        "id": "p7wdOKSHDSjf",
        "outputId": "8dacca5d-81ce-4712-efb3-90439e70dc75"
      },
      "execution_count": null,
      "outputs": [
        {
          "output_type": "stream",
          "name": "stdout",
          "text": [
            "Trial 30 Complete [00h 01m 31s]\n",
            "val_Accuracy: 0.10300000011920929\n",
            "\n",
            "Best val_Accuracy So Far: 0.10300000011920929\n",
            "Total elapsed time: 00h 14m 01s\n",
            "INFO:tensorflow:Oracle triggered exit\n"
          ]
        }
      ]
    },
    {
      "cell_type": "markdown",
      "source": [
        "Hyperparameter tuning is the process of selecting the right set of hyperparameters for your model. Hyperparameters are parameters of the learning algorithm. "
      ],
      "metadata": {
        "id": "ELIGuTGT0NG1"
      }
    },
    {
      "cell_type": "code",
      "source": [
        "!pip install -q -U keras-tuner"
      ],
      "metadata": {
        "id": "P4IwgGJUz9ZI"
      },
      "execution_count": 2,
      "outputs": []
    },
    {
      "cell_type": "code",
      "source": [
        "import keras_tuner as kt "
      ],
      "metadata": {
        "id": "nBa5xRSn49ip"
      },
      "execution_count": 3,
      "outputs": []
    },
    {
      "cell_type": "code",
      "source": [
        "import tensorflow as tf\n",
        "from tensorflow import keras"
      ],
      "metadata": {
        "id": "MJE4jNIT5AVK"
      },
      "execution_count": 5,
      "outputs": []
    },
    {
      "cell_type": "code",
      "source": [
        "#In this tutorial we'll use keras tuner to find the best hyperparameters for a machine learning model that finds the best hyperparameters for a machine learning model \n",
        "#That classifiers images for clothing \n",
        "#We load the fashion mnist dataset \n",
        "(train_images,train_labels),(test_images,test_labels) = tf.keras.datasets.fashion_mnist.load_data()"
      ],
      "metadata": {
        "colab": {
          "base_uri": "https://localhost:8080/"
        },
        "id": "CXL38pGx5D4b",
        "outputId": "02547e67-b0bc-4702-fe04-e74e75a35c21"
      },
      "execution_count": 8,
      "outputs": [
        {
          "output_type": "stream",
          "name": "stdout",
          "text": [
            "Downloading data from https://storage.googleapis.com/tensorflow/tf-keras-datasets/train-labels-idx1-ubyte.gz\n",
            "32768/29515 [=================================] - 0s 0us/step\n",
            "40960/29515 [=========================================] - 0s 0us/step\n",
            "Downloading data from https://storage.googleapis.com/tensorflow/tf-keras-datasets/train-images-idx3-ubyte.gz\n",
            "26427392/26421880 [==============================] - 0s 0us/step\n",
            "26435584/26421880 [==============================] - 0s 0us/step\n",
            "Downloading data from https://storage.googleapis.com/tensorflow/tf-keras-datasets/t10k-labels-idx1-ubyte.gz\n",
            "16384/5148 [===============================================================================================] - 0s 0us/step\n",
            "Downloading data from https://storage.googleapis.com/tensorflow/tf-keras-datasets/t10k-images-idx3-ubyte.gz\n",
            "4423680/4422102 [==============================] - 0s 0us/step\n",
            "4431872/4422102 [==============================] - 0s 0us/step\n"
          ]
        }
      ]
    },
    {
      "cell_type": "code",
      "source": [
        "#We standardize/normalize the data before passing it into our model to avoid biasness in our dataset, this increases the accuracy of training \n",
        "#The computations will be faster as our values will be floating point numbers in between zero and one\n",
        "train_images = train_images.astype('float32')/255.0\n",
        "test_images = test_images.astype('float32')/255.0"
      ],
      "metadata": {
        "id": "M56r_kIS6Ilk"
      },
      "execution_count": 11,
      "outputs": []
    },
    {
      "cell_type": "code",
      "source": [
        "#Check whether the data has been normalized \n",
        "train_images_first = train_images[0]"
      ],
      "metadata": {
        "id": "lZRSIrA_64Nb"
      },
      "execution_count": 13,
      "outputs": []
    },
    {
      "cell_type": "code",
      "source": [
        "import numpy as np \n",
        "np.max(train_images_first) #Maximum number in our array  \n",
        "#This gives us 1.5 * 10 -5  This is a floating point number in between zero and one "
      ],
      "metadata": {
        "colab": {
          "base_uri": "https://localhost:8080/"
        },
        "id": "Iv8R2ras7FEo",
        "outputId": "6c984aa0-66a2-4583-9f03-c8027a5c7289"
      },
      "execution_count": 16,
      "outputs": [
        {
          "output_type": "execute_result",
          "data": {
            "text/plain": [
              "1.5378702e-05"
            ]
          },
          "metadata": {},
          "execution_count": 16
        }
      ]
    },
    {
      "cell_type": "code",
      "source": [
        "input_shape = train_images_first.shape #Get the shape attribute of our input and pass it as a value to the input shape argument"
      ],
      "metadata": {
        "id": "Ct51JrgD-VUX"
      },
      "execution_count": 20,
      "outputs": []
    },
    {
      "cell_type": "code",
      "source": [
        "def model_builder(hp):\n",
        "  model = tf.keras.models.Sequential()\n",
        "  model.add(tf.keras.layers.Flatten(input_shape=input_shape))\n",
        "  hp_units = hp.Int('Units', min_value=32, max_value = 512, step = 32)\n",
        "  model.add(tf.keras.layers.Dense(hp_units,activation='relu'))\n",
        "  model.add(tf.keras.layers.Dense(10))\n",
        "\n",
        "  #Tune the learning rate for the optimizer \n",
        "  #Choose the optimal value from between 0.01 , 0.001 and 0.0001\n",
        "  hp_learning_rate = hp.Choice('learning_rate', values=[1e-2, 1e-3, 1e-4])\n",
        "  model.compile(loss = tf.keras.losses.BinaryCrossentropy(from_logits = True), optimizer = tf.keras.optimizers.Adam(learning_rate=hp_learning_rate), metrics =['Accuracy'])\n",
        "  return model "
      ],
      "metadata": {
        "id": "T4Ej6GeS7Wn4"
      },
      "execution_count": 37,
      "outputs": []
    },
    {
      "cell_type": "code",
      "source": [
        ""
      ],
      "metadata": {
        "id": "tS0X-YnNEL9C"
      },
      "execution_count": null,
      "outputs": []
    },
    {
      "cell_type": "code",
      "source": [
        ""
      ],
      "metadata": {
        "id": "zFunxtmCFRQe"
      },
      "execution_count": null,
      "outputs": []
    },
    {
      "cell_type": "code",
      "source": [
        ""
      ],
      "metadata": {
        "id": "BnyF5qVDFRK-"
      },
      "execution_count": null,
      "outputs": []
    }
  ]
}