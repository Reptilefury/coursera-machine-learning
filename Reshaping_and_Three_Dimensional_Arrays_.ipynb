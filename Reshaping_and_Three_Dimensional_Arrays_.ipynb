{
  "nbformat": 4,
  "nbformat_minor": 0,
  "metadata": {
    "colab": {
      "name": "Reshaping and Three Dimensional Arrays .ipynb",
      "provenance": [],
      "authorship_tag": "ABX9TyP346dFAbEsY+ZFBvomPAhm",
      "include_colab_link": true
    },
    "kernelspec": {
      "name": "python3",
      "display_name": "Python 3"
    },
    "language_info": {
      "name": "python"
    }
  },
  "cells": [
    {
      "cell_type": "markdown",
      "metadata": {
        "id": "view-in-github",
        "colab_type": "text"
      },
      "source": [
        "<a href=\"https://colab.research.google.com/github/Reptilefury/coursera-machine-learning/blob/main/Reshaping_and_Three_Dimensional_Arrays_.ipynb\" target=\"_parent\"><img src=\"https://colab.research.google.com/assets/colab-badge.svg\" alt=\"Open In Colab\"/></a>"
      ]
    },
    {
      "cell_type": "code",
      "execution_count": 1,
      "metadata": {
        "id": "D1IERpzTRudv"
      },
      "outputs": [],
      "source": [
        "import numpy as np "
      ]
    },
    {
      "cell_type": "code",
      "source": [
        "array_1d =  np.arange(6)\n",
        "array_1d \n",
        "type(array_1d.dtype)"
      ],
      "metadata": {
        "colab": {
          "base_uri": "https://localhost:8080/"
        },
        "id": "5i_qRc71SRR4",
        "outputId": "1db262ae-c451-4cc4-c54c-8c5189ad322b"
      },
      "execution_count": 2,
      "outputs": [
        {
          "output_type": "execute_result",
          "data": {
            "text/plain": [
              "numpy.dtype[int64]"
            ]
          },
          "metadata": {},
          "execution_count": 2
        }
      ]
    },
    {
      "cell_type": "code",
      "source": [
        "array_1d.shape \n",
        "\n",
        "#Type \n",
        "type(array_1d.shape) #Tuple"
      ],
      "metadata": {
        "colab": {
          "base_uri": "https://localhost:8080/"
        },
        "id": "RmV8dEkWS8fG",
        "outputId": "361a3fe5-6029-46a7-ceb8-139c0035a30e"
      },
      "execution_count": 3,
      "outputs": [
        {
          "output_type": "execute_result",
          "data": {
            "text/plain": [
              "tuple"
            ]
          },
          "metadata": {},
          "execution_count": 3
        }
      ]
    },
    {
      "cell_type": "code",
      "source": [
        "#Lists and tuples \n",
        "python_list = [1,2,3]\n",
        "python_tuple = (1,2,3)"
      ],
      "metadata": {
        "id": "ZBoz_0F6TQ99"
      },
      "execution_count": 4,
      "outputs": []
    },
    {
      "cell_type": "code",
      "source": [
        "#We can get the length and index the tuple just like we can do with the list \n",
        "len(python_tuple)\n",
        "len(python_list)\n",
        "#Indexing \n",
        "print(f\"The length of the python list is: {len(python_list)}\")\n",
        "print(f\"The length of the python tuple is: {len(python_tuple)}\")\n",
        "\n",
        "#Indexing\n",
        "print(f\"Fetch the first element from the list{python_list[0]}\")\n",
        "print(f\"Fetch the first element from the tuple {python_tuple[0]}\")"
      ],
      "metadata": {
        "colab": {
          "base_uri": "https://localhost:8080/"
        },
        "id": "yCDUXYH3UX40",
        "outputId": "bf63a79d-2f9f-406e-b9c8-9a4c4a54aad7"
      },
      "execution_count": 5,
      "outputs": [
        {
          "output_type": "stream",
          "name": "stdout",
          "text": [
            "The length of the python list is: 3\n",
            "The length of the python tuple is: 3\n",
            "Fetch the first element from the list1\n",
            "Fetch the first element from the tuple 1\n"
          ]
        }
      ]
    },
    {
      "cell_type": "code",
      "source": [
        "#Python interprets these parenthesis  in arithmetic\n",
        "just_number = (1)\n",
        "just_number "
      ],
      "metadata": {
        "colab": {
          "base_uri": "https://localhost:8080/"
        },
        "id": "djWuwqBvVeqh",
        "outputId": "6fe081ea-067d-4041-a413-ff1df3c472bf"
      },
      "execution_count": 6,
      "outputs": [
        {
          "output_type": "execute_result",
          "data": {
            "text/plain": [
              "1"
            ]
          },
          "metadata": {},
          "execution_count": 6
        }
      ]
    },
    {
      "cell_type": "code",
      "source": [
        "#A length one tuple is formed by appending a trailing comma \n",
        "length_one = (1,)\n",
        "length_one"
      ],
      "metadata": {
        "colab": {
          "base_uri": "https://localhost:8080/"
        },
        "id": "2I1pTUUDV-G5",
        "outputId": "37105967-3873-47ba-d468-f652cc372e18"
      },
      "execution_count": 7,
      "outputs": [
        {
          "output_type": "execute_result",
          "data": {
            "text/plain": [
              "(1,)"
            ]
          },
          "metadata": {},
          "execution_count": 7
        }
      ]
    },
    {
      "cell_type": "code",
      "source": [
        "#Lets create a 2d Array using tuples \n",
        "#Start by creating a 1d array \n",
        "array_1d = np.arange(6)\n",
        "array_1d\n",
        "\n",
        "#We reshape this 1d array, through a tuple \n",
        "new_shape = (2,3)\n",
        "array_2d =  np.reshape(array_1d, new_shape)\n",
        "array_2d"
      ],
      "metadata": {
        "colab": {
          "base_uri": "https://localhost:8080/"
        },
        "id": "UFi3PQXrWnPF",
        "outputId": "50a8c9e3-9031-48a7-c418-49668628517e"
      },
      "execution_count": 8,
      "outputs": [
        {
          "output_type": "execute_result",
          "data": {
            "text/plain": [
              "array([[0, 1, 2],\n",
              "       [3, 4, 5]])"
            ]
          },
          "metadata": {},
          "execution_count": 8
        }
      ]
    },
    {
      "cell_type": "code",
      "source": [
        "#Another one dimensional array using single character strings \n",
        "another_1d_array = np.array(['a','b','c','d','e','f','g','h','i'])\n",
        "\n",
        "#Reshape this 1d array into a 3 by 3 2d array\n",
        "new_shape_another = (3,3)\n",
        "another_2d = np.reshape(another_1d_array, new_shape_another)\n",
        "another_2d.shape  #We have reshaped a  vector(1D array) into a Matrix(2D array)"
      ],
      "metadata": {
        "colab": {
          "base_uri": "https://localhost:8080/"
        },
        "id": "RIomfihqYQoJ",
        "outputId": "21a70e0f-b48d-475f-d739-624663e23c70"
      },
      "execution_count": 9,
      "outputs": [
        {
          "output_type": "execute_result",
          "data": {
            "text/plain": [
              "(3, 3)"
            ]
          },
          "metadata": {},
          "execution_count": 9
        }
      ]
    },
    {
      "cell_type": "code",
      "source": [
        "#We can reshape back the 2d arrays to  1d\n",
        "print(np.prod(another_2d.shape))#Get the total number of elements\n",
        "new_vector = (9,)\n",
        "#Reshape  the 2d array back into a vector\n",
        "np.reshape(another_2d, new_vector) #We have reshaped our 2d array into a vector"
      ],
      "metadata": {
        "colab": {
          "base_uri": "https://localhost:8080/"
        },
        "id": "5WZMP_geYKtS",
        "outputId": "6294fe7a-200e-4716-cb95-7465eb85c9ee"
      },
      "execution_count": 10,
      "outputs": [
        {
          "output_type": "stream",
          "name": "stdout",
          "text": [
            "9\n"
          ]
        },
        {
          "output_type": "execute_result",
          "data": {
            "text/plain": [
              "array(['a', 'b', 'c', 'd', 'e', 'f', 'g', 'h', 'i'], dtype='<U1')"
            ]
          },
          "metadata": {},
          "execution_count": 10
        }
      ]
    },
    {
      "cell_type": "code",
      "source": [
        "np.reshape(array_2d,(-1,))"
      ],
      "metadata": {
        "colab": {
          "base_uri": "https://localhost:8080/"
        },
        "id": "eAu8peQ3bbNQ",
        "outputId": "4f6a31b1-8c4e-4156-a5c7-a02f9fcab34a"
      },
      "execution_count": 11,
      "outputs": [
        {
          "output_type": "execute_result",
          "data": {
            "text/plain": [
              "array([0, 1, 2, 3, 4, 5])"
            ]
          },
          "metadata": {},
          "execution_count": 11
        }
      ]
    },
    {
      "cell_type": "code",
      "source": [
        "np.reshape(another_2d,(-1,))"
      ],
      "metadata": {
        "colab": {
          "base_uri": "https://localhost:8080/"
        },
        "id": "2nuU8lzUdusy",
        "outputId": "8cfc8217-191b-4a03-bde5-9444482714e8"
      },
      "execution_count": 12,
      "outputs": [
        {
          "output_type": "execute_result",
          "data": {
            "text/plain": [
              "array(['a', 'b', 'c', 'd', 'e', 'f', 'g', 'h', 'i'], dtype='<U1')"
            ]
          },
          "metadata": {},
          "execution_count": 12
        }
      ]
    },
    {
      "cell_type": "code",
      "source": [
        "#The shortcut method for flattening/ converting a 2d or a 3d array to a 1d array(Vector)\n",
        "array_new = np.arange(6)\n",
        "new_shape = (2,3)\n",
        "\n",
        "#Two Dimensional array\n",
        "new_2d = np.reshape(array_new,new_shape)\n",
        "new_2d"
      ],
      "metadata": {
        "colab": {
          "base_uri": "https://localhost:8080/"
        },
        "id": "qHnMvgKDd2mj",
        "outputId": "28bc20ac-a3e4-45d9-9b3a-4ecc70c449b4"
      },
      "execution_count": 13,
      "outputs": [
        {
          "output_type": "execute_result",
          "data": {
            "text/plain": [
              "array([[0, 1, 2],\n",
              "       [3, 4, 5]])"
            ]
          },
          "metadata": {},
          "execution_count": 13
        }
      ]
    },
    {
      "cell_type": "code",
      "source": [
        "#Converting back the 2d array into a vector(1d array)\n",
        "shape_oneD = (6,)\n",
        "\n",
        "vector_new = np.reshape(new_2d,shape_oneD)\n",
        "vector_new\n",
        "\n",
        "#Shortcut to reshape  a 2d or a 3d array into  a one dimensional array, a vector\n",
        "np.ravel(new_2d)"
      ],
      "metadata": {
        "colab": {
          "base_uri": "https://localhost:8080/"
        },
        "id": "ICBx8BpFe283",
        "outputId": "0ddd2721-c23f-4e1f-d8a6-7f3594004f7f"
      },
      "execution_count": 14,
      "outputs": [
        {
          "output_type": "execute_result",
          "data": {
            "text/plain": [
              "array([0, 1, 2, 3, 4, 5])"
            ]
          },
          "metadata": {},
          "execution_count": 14
        }
      ]
    },
    {
      "cell_type": "code",
      "source": [
        "#We can reshape an array to any shape as long as the number of elements stays the same.,"
      ],
      "metadata": {
        "id": "9HAb2EtEgNBA"
      },
      "execution_count": 15,
      "outputs": []
    },
    {
      "cell_type": "code",
      "source": [
        "#print(array_2d.shape) #This is a 2,3 array we reshape to 3 by 2\n",
        "\n",
        "new_shape = (3,2)\n",
        "\n",
        "reshaped  = np.reshape(new_2d,new_shape)\n",
        "\n",
        "reshaped.shape\n",
        "print(f\"Size of array before reshaping {new_2d.size}\")\n",
        "print(f\"Size of array after reshaping {reshaped.size}\")"
      ],
      "metadata": {
        "colab": {
          "base_uri": "https://localhost:8080/"
        },
        "id": "tv03Bf-RfkNR",
        "outputId": "2ea0c8e9-a03c-44ea-dd15-8924b7bbe015"
      },
      "execution_count": 16,
      "outputs": [
        {
          "output_type": "stream",
          "name": "stdout",
          "text": [
            "Size of array before reshaping 6\n",
            "Size of array after reshaping 6\n"
          ]
        }
      ]
    },
    {
      "cell_type": "code",
      "source": [
        "#Show the 1d array\n",
        "array_1d"
      ],
      "metadata": {
        "colab": {
          "base_uri": "https://localhost:8080/"
        },
        "id": "DhfDyzlvi_Sw",
        "outputId": "ac93538c-a08f-4c98-888a-1ff31a70e918"
      },
      "execution_count": 17,
      "outputs": [
        {
          "output_type": "execute_result",
          "data": {
            "text/plain": [
              "array([0, 1, 2, 3, 4, 5])"
            ]
          },
          "metadata": {},
          "execution_count": 17
        }
      ]
    },
    {
      "cell_type": "code",
      "source": [
        "np.reshape(array_2d,(3,-1)) #Reshape to an array with 3 columns and whatever number the columns fit in"
      ],
      "metadata": {
        "colab": {
          "base_uri": "https://localhost:8080/"
        },
        "id": "uZX_DQBYlYIZ",
        "outputId": "503d3496-1c43-437c-c3b6-9e1029375347"
      },
      "execution_count": 18,
      "outputs": [
        {
          "output_type": "execute_result",
          "data": {
            "text/plain": [
              "array([[0, 1],\n",
              "       [2, 3],\n",
              "       [4, 5]])"
            ]
          },
          "metadata": {},
          "execution_count": 18
        }
      ]
    },
    {
      "cell_type": "code",
      "source": [
        "#Reshape to an array  with 2 columns and whatever number the rows in\n",
        "np.reshape(array_2d,(3,-1))"
      ],
      "metadata": {
        "colab": {
          "base_uri": "https://localhost:8080/"
        },
        "id": "vaJya5aXlwyt",
        "outputId": "ade6a446-7ec8-4c57-dfed-66959e3a0f7f"
      },
      "execution_count": 19,
      "outputs": [
        {
          "output_type": "execute_result",
          "data": {
            "text/plain": [
              "array([[0, 1],\n",
              "       [2, 3],\n",
              "       [4, 5]])"
            ]
          },
          "metadata": {},
          "execution_count": 19
        }
      ]
    },
    {
      "cell_type": "code",
      "source": [
        "#Creating 3D arrays \n",
        "#Numpy starts by creating a one dimensional array \n",
        "array_bigger = np.arange(24)\n",
        "array_bigger\n",
        "#Check the shape \n",
        "array_bigger.shape \n",
        "\n",
        "#Reshape to 3D\n",
        "new_shape  = (2,4,3)\n",
        "three_dimension = np.reshape(array_bigger,new_shape)\n",
        "three_dimension.shape #We have reshaped the 1 array  into a 3d array "
      ],
      "metadata": {
        "colab": {
          "base_uri": "https://localhost:8080/"
        },
        "id": "jRcvtAL1nhdp",
        "outputId": "525fb8d4-6537-43f2-f248-a3ba11aaf7c0"
      },
      "execution_count": 20,
      "outputs": [
        {
          "output_type": "execute_result",
          "data": {
            "text/plain": [
              "(2, 4, 3)"
            ]
          },
          "metadata": {},
          "execution_count": 20
        }
      ]
    },
    {
      "cell_type": "markdown",
      "source": [
        "Reshaping a three dimensional array"
      ],
      "metadata": {
        "id": "odScU3pID8QQ"
      }
    },
    {
      "cell_type": "code",
      "source": [
        "#Creating a 3D array \n",
        "#We start with a 1d array: Vector\n",
        "array_1d = np.arange(24)\n",
        "array_1d\n",
        "\n",
        "#We reshape into a 3d  array \n",
        "new_shape  = (2,3,4) #This can be read as two rows, 3 columns and  4 planes\n",
        "\n",
        "reshaped = np.reshape(array_1d,new_shape)\n",
        "reshaped"
      ],
      "metadata": {
        "colab": {
          "base_uri": "https://localhost:8080/"
        },
        "id": "2wKgJiNsrAMp",
        "outputId": "6f2c7f63-f8b7-4faa-f4bc-3f484cf8df32"
      },
      "execution_count": 29,
      "outputs": [
        {
          "output_type": "execute_result",
          "data": {
            "text/plain": [
              "array([[[ 0,  1,  2,  3],\n",
              "        [ 4,  5,  6,  7],\n",
              "        [ 8,  9, 10, 11]],\n",
              "\n",
              "       [[12, 13, 14, 15],\n",
              "        [16, 17, 18, 19],\n",
              "        [20, 21, 22, 23]]])"
            ]
          },
          "metadata": {},
          "execution_count": 29
        }
      ]
    },
    {
      "cell_type": "code",
      "source": [
        "#Lets get the first plane\n",
        "reshaped[:,:,0]"
      ],
      "metadata": {
        "colab": {
          "base_uri": "https://localhost:8080/"
        },
        "id": "sToIc3MEFg9p",
        "outputId": "4d12351b-c707-4883-bc70-c43415948ad5"
      },
      "execution_count": 30,
      "outputs": [
        {
          "output_type": "execute_result",
          "data": {
            "text/plain": [
              "array([[ 0,  4,  8],\n",
              "       [12, 16, 20]])"
            ]
          },
          "metadata": {},
          "execution_count": 30
        }
      ]
    },
    {
      "cell_type": "code",
      "source": [
        "reshaped #Each row has 3 rows and 4 columns "
      ],
      "metadata": {
        "colab": {
          "base_uri": "https://localhost:8080/"
        },
        "id": "dX4NLOuWGBt8",
        "outputId": "fce85a74-ea3b-4e7b-b461-eb9b5bfb94bc"
      },
      "execution_count": 32,
      "outputs": [
        {
          "output_type": "execute_result",
          "data": {
            "text/plain": [
              "array([[[ 0,  1,  2,  3],\n",
              "        [ 4,  5,  6,  7],\n",
              "        [ 8,  9, 10, 11]],\n",
              "\n",
              "       [[12, 13, 14, 15],\n",
              "        [16, 17, 18, 19],\n",
              "        [20, 21, 22, 23]]])"
            ]
          },
          "metadata": {},
          "execution_count": 32
        }
      ]
    },
    {
      "cell_type": "code",
      "source": [
        "print(f\"The first row of data from the 3D array:{reshaped[0,:,:]}\")"
      ],
      "metadata": {
        "colab": {
          "base_uri": "https://localhost:8080/"
        },
        "id": "k_6UNvhSGqSi",
        "outputId": "d8307a2a-554c-4afc-865f-5d6764a910f5"
      },
      "execution_count": 33,
      "outputs": [
        {
          "output_type": "stream",
          "name": "stdout",
          "text": [
            "The first row of data from the 3D array:[[ 0  1  2  3]\n",
            " [ 4  5  6  7]\n",
            " [ 8  9 10 11]]\n"
          ]
        }
      ]
    },
    {
      "cell_type": "code",
      "source": [
        "print(f\"The second row of data from the 3D array:{reshaped[1,:,:]}\")"
      ],
      "metadata": {
        "colab": {
          "base_uri": "https://localhost:8080/"
        },
        "id": "bAtpSMzeG8gW",
        "outputId": "5e0b099e-d51b-4a1c-ce3e-be8c4cdaaca0"
      },
      "execution_count": 34,
      "outputs": [
        {
          "output_type": "stream",
          "name": "stdout",
          "text": [
            "The second row of data from the 3D array:[[12 13 14 15]\n",
            " [16 17 18 19]\n",
            " [20 21 22 23]]\n"
          ]
        }
      ]
    },
    {
      "cell_type": "code",
      "source": [
        "#We reshape the array back to 1d \n",
        "new_shape = (24,)\n",
        "array_1d = np.reshape(reshaped,new_shape)\n",
        "array_1d.shape"
      ],
      "metadata": {
        "colab": {
          "base_uri": "https://localhost:8080/"
        },
        "id": "BPfuevkUHPbX",
        "outputId": "f5194b2a-805b-4325-8f4e-dcae766c3363"
      },
      "execution_count": 39,
      "outputs": [
        {
          "output_type": "execute_result",
          "data": {
            "text/plain": [
              "(24,)"
            ]
          },
          "metadata": {},
          "execution_count": 39
        }
      ]
    },
    {
      "cell_type": "code",
      "source": [
        "reshaped\n",
        "#Reshaping the array back to 1d using the dedicated numpy function \n",
        "array_1d = np.ravel(reshaped)\n",
        "array_1d"
      ],
      "metadata": {
        "colab": {
          "base_uri": "https://localhost:8080/"
        },
        "id": "RWhXDeX4I8cW",
        "outputId": "e054b6b8-c2ac-4c80-e512-8702e747879c"
      },
      "execution_count": 42,
      "outputs": [
        {
          "output_type": "execute_result",
          "data": {
            "text/plain": [
              "array([ 0,  1,  2,  3,  4,  5,  6,  7,  8,  9, 10, 11, 12, 13, 14, 15, 16,\n",
              "       17, 18, 19, 20, 21, 22, 23])"
            ]
          },
          "metadata": {},
          "execution_count": 42
        }
      ]
    },
    {
      "cell_type": "code",
      "source": [
        "#When reshaping to three dimensions numpy fills out the last then the second then the first\n",
        "array_reshaped = np.reshape(array_1d,(2,3,4))\n",
        "array_reshaped"
      ],
      "metadata": {
        "colab": {
          "base_uri": "https://localhost:8080/"
        },
        "id": "SWE0Nbe2Je_3",
        "outputId": "f719dee6-f2bb-426c-d759-c9d0c596284d"
      },
      "execution_count": 45,
      "outputs": [
        {
          "output_type": "execute_result",
          "data": {
            "text/plain": [
              "array([[[ 0,  1,  2,  3],\n",
              "        [ 4,  5,  6,  7],\n",
              "        [ 8,  9, 10, 11]],\n",
              "\n",
              "       [[12, 13, 14, 15],\n",
              "        [16, 17, 18, 19],\n",
              "        [20, 21, 22, 23]]])"
            ]
          },
          "metadata": {},
          "execution_count": 45
        }
      ]
    },
    {
      "cell_type": "code",
      "source": [
        ""
      ],
      "metadata": {
        "id": "CgAFrl5rKBqb"
      },
      "execution_count": null,
      "outputs": []
    },
    {
      "cell_type": "code",
      "source": [
        "\n"
      ],
      "metadata": {
        "id": "a9T7cHBxJ_JE"
      },
      "execution_count": null,
      "outputs": []
    },
    {
      "cell_type": "code",
      "source": [
        ""
      ],
      "metadata": {
        "id": "IUqGk4YJJ9dn"
      },
      "execution_count": null,
      "outputs": []
    },
    {
      "cell_type": "code",
      "source": [
        ""
      ],
      "metadata": {
        "id": "T2I_zsV2Jc-M"
      },
      "execution_count": null,
      "outputs": []
    },
    {
      "cell_type": "code",
      "source": [
        ""
      ],
      "metadata": {
        "id": "Cp6rve0wJSUu"
      },
      "execution_count": null,
      "outputs": []
    },
    {
      "cell_type": "code",
      "source": [
        ""
      ],
      "metadata": {
        "id": "P72t5lBYI51_"
      },
      "execution_count": null,
      "outputs": []
    },
    {
      "cell_type": "code",
      "source": [
        ""
      ],
      "metadata": {
        "id": "aR3-mXtPIk0j"
      },
      "execution_count": null,
      "outputs": []
    },
    {
      "cell_type": "code",
      "source": [
        ""
      ],
      "metadata": {
        "id": "wrFA5yDwIhO_"
      },
      "execution_count": null,
      "outputs": []
    },
    {
      "cell_type": "code",
      "source": [
        ""
      ],
      "metadata": {
        "id": "q1zf_x_eIdLP"
      },
      "execution_count": null,
      "outputs": []
    },
    {
      "cell_type": "code",
      "source": [
        ""
      ],
      "metadata": {
        "id": "5JAap1LhGkCD"
      },
      "execution_count": null,
      "outputs": []
    },
    {
      "cell_type": "code",
      "source": [
        ""
      ],
      "metadata": {
        "id": "P-Od9yzQFF3s"
      },
      "execution_count": null,
      "outputs": []
    },
    {
      "cell_type": "code",
      "source": [
        ""
      ],
      "metadata": {
        "id": "jjL7zOvzFDqi"
      },
      "execution_count": null,
      "outputs": []
    },
    {
      "cell_type": "code",
      "source": [
        ""
      ],
      "metadata": {
        "id": "AH2ZJaGGE99s"
      },
      "execution_count": null,
      "outputs": []
    },
    {
      "cell_type": "code",
      "source": [
        ""
      ],
      "metadata": {
        "id": "P33ugcjZE00H"
      },
      "execution_count": null,
      "outputs": []
    },
    {
      "cell_type": "code",
      "source": [
        ""
      ],
      "metadata": {
        "id": "akN4olfwEzrK"
      },
      "execution_count": null,
      "outputs": []
    },
    {
      "cell_type": "code",
      "source": [
        ""
      ],
      "metadata": {
        "id": "GnwaHl00ExSj"
      },
      "execution_count": null,
      "outputs": []
    },
    {
      "cell_type": "code",
      "source": [
        ""
      ],
      "metadata": {
        "id": "J5CyrnQtEuFi"
      },
      "execution_count": null,
      "outputs": []
    },
    {
      "cell_type": "code",
      "source": [
        ""
      ],
      "metadata": {
        "id": "cEUYHFs4Esqw"
      },
      "execution_count": null,
      "outputs": []
    },
    {
      "cell_type": "code",
      "source": [
        ""
      ],
      "metadata": {
        "id": "J4aikcnbq3Oi"
      },
      "execution_count": 20,
      "outputs": []
    },
    {
      "cell_type": "code",
      "source": [
        ""
      ],
      "metadata": {
        "id": "pTD6yT9cq1wf"
      },
      "execution_count": 20,
      "outputs": []
    },
    {
      "cell_type": "code",
      "source": [
        ""
      ],
      "metadata": {
        "id": "q84_U4DVqzkq"
      },
      "execution_count": 20,
      "outputs": []
    },
    {
      "cell_type": "code",
      "source": [
        ""
      ],
      "metadata": {
        "id": "euzTJ1piqyiD"
      },
      "execution_count": 20,
      "outputs": []
    },
    {
      "cell_type": "code",
      "source": [
        ""
      ],
      "metadata": {
        "id": "kOj5LQvrp17f"
      },
      "execution_count": 20,
      "outputs": []
    },
    {
      "cell_type": "code",
      "source": [
        ""
      ],
      "metadata": {
        "id": "rOIiXFZcpzwr"
      },
      "execution_count": 20,
      "outputs": []
    },
    {
      "cell_type": "code",
      "source": [
        ""
      ],
      "metadata": {
        "id": "S9SNoEFPpFXs"
      },
      "execution_count": 20,
      "outputs": []
    },
    {
      "cell_type": "code",
      "source": [
        ""
      ],
      "metadata": {
        "id": "RIyAXzcLpDAI"
      },
      "execution_count": 20,
      "outputs": []
    },
    {
      "cell_type": "code",
      "source": [
        ""
      ],
      "metadata": {
        "id": "58JQlZmfnhZ4"
      },
      "execution_count": 20,
      "outputs": []
    }
  ]
}