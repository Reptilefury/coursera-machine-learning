{
  "nbformat": 4,
  "nbformat_minor": 0,
  "metadata": {
    "colab": {
      "name": "Reshaping and Three Dimensional Arrays .ipynb",
      "provenance": [],
      "authorship_tag": "ABX9TyP4DKL4fqPlI6G+5AX6CgTJ",
      "include_colab_link": true
    },
    "kernelspec": {
      "name": "python3",
      "display_name": "Python 3"
    },
    "language_info": {
      "name": "python"
    }
  },
  "cells": [
    {
      "cell_type": "markdown",
      "metadata": {
        "id": "view-in-github",
        "colab_type": "text"
      },
      "source": [
        "<a href=\"https://colab.research.google.com/github/Reptilefury/coursera-machine-learning/blob/main/Reshaping_and_Three_Dimensional_Arrays_.ipynb\" target=\"_parent\"><img src=\"https://colab.research.google.com/assets/colab-badge.svg\" alt=\"Open In Colab\"/></a>"
      ]
    },
    {
      "cell_type": "code",
      "execution_count": 2,
      "metadata": {
        "id": "D1IERpzTRudv"
      },
      "outputs": [],
      "source": [
        "import numpy as np "
      ]
    },
    {
      "cell_type": "code",
      "source": [
        "array_1d =  np.arange(6)\n",
        "array_1d \n",
        "type(array_1d.dtype)"
      ],
      "metadata": {
        "colab": {
          "base_uri": "https://localhost:8080/"
        },
        "id": "5i_qRc71SRR4",
        "outputId": "4bb945f6-ac9d-4341-957e-2bb1f31d5c67"
      },
      "execution_count": 6,
      "outputs": [
        {
          "output_type": "execute_result",
          "data": {
            "text/plain": [
              "numpy.dtype[int64]"
            ]
          },
          "metadata": {},
          "execution_count": 6
        }
      ]
    },
    {
      "cell_type": "code",
      "source": [
        "array_1d.shape \n",
        "\n",
        "#Type \n",
        "type(array_1d.shape) #Tuple"
      ],
      "metadata": {
        "colab": {
          "base_uri": "https://localhost:8080/"
        },
        "id": "RmV8dEkWS8fG",
        "outputId": "96cf9979-a4dc-4279-ef3d-296d3e871b89"
      },
      "execution_count": 9,
      "outputs": [
        {
          "output_type": "execute_result",
          "data": {
            "text/plain": [
              "tuple"
            ]
          },
          "metadata": {},
          "execution_count": 9
        }
      ]
    },
    {
      "cell_type": "code",
      "source": [
        "#Lists and tuples \n",
        "python_list = [1,2,3]\n",
        "python_tuple = (1,2,3)"
      ],
      "metadata": {
        "id": "ZBoz_0F6TQ99"
      },
      "execution_count": 22,
      "outputs": []
    },
    {
      "cell_type": "code",
      "source": [
        "#We can get the length and index the tuple just like we can do with the list \n",
        "len(python_tuple)\n",
        "len(python_list)\n",
        "#Indexing \n",
        "print(f\"The length of the python list is: {len(python_list)}\")\n",
        "print(f\"The length of the python tuple is: {len(python_tuple)}\")\n",
        "\n",
        "#Indexing\n",
        "print(f\"Fetch the first element from the list{python_list[0]}\")\n",
        "print(f\"Fetch the first element from the tuple {python_tuple[0]}\")"
      ],
      "metadata": {
        "colab": {
          "base_uri": "https://localhost:8080/"
        },
        "id": "yCDUXYH3UX40",
        "outputId": "c0e3076f-125e-491d-b32d-a28b05c6f9e1"
      },
      "execution_count": 21,
      "outputs": [
        {
          "output_type": "stream",
          "name": "stdout",
          "text": [
            "The length of the python list is: 3\n",
            "The length of the python tuple is: 3\n",
            "Fetch the first element from the list1\n",
            "Fetch the first element from the tuple 1\n"
          ]
        }
      ]
    },
    {
      "cell_type": "code",
      "source": [
        "#Python interprets these parenthesis  in arithmetic\n",
        "just_number = (1)\n",
        "just_number "
      ],
      "metadata": {
        "colab": {
          "base_uri": "https://localhost:8080/"
        },
        "id": "djWuwqBvVeqh",
        "outputId": "fc2f52c7-cc32-4143-bb68-07052c132ab2"
      },
      "execution_count": 25,
      "outputs": [
        {
          "output_type": "execute_result",
          "data": {
            "text/plain": [
              "1"
            ]
          },
          "metadata": {},
          "execution_count": 25
        }
      ]
    },
    {
      "cell_type": "code",
      "source": [
        "#A length one tuple is formed by appending a trailing comma \n",
        "length_one = (1,)\n",
        "length_one"
      ],
      "metadata": {
        "colab": {
          "base_uri": "https://localhost:8080/"
        },
        "id": "2I1pTUUDV-G5",
        "outputId": "168327ea-a593-4ad9-bc43-050aa2e1510f"
      },
      "execution_count": 27,
      "outputs": [
        {
          "output_type": "execute_result",
          "data": {
            "text/plain": [
              "(1,)"
            ]
          },
          "metadata": {},
          "execution_count": 27
        }
      ]
    },
    {
      "cell_type": "code",
      "source": [
        "#Lets create a 2d Array using tuples \n",
        "#Start by creating a 1d array \n",
        "array_1d = np.arange(6)\n",
        "array_1d\n",
        "\n",
        "#We reshape this 1d array, through a tuple \n",
        "new_shape = (2,3)\n",
        "array_2d =  np.reshape(array_1d, new_shape)\n",
        "array_2d"
      ],
      "metadata": {
        "colab": {
          "base_uri": "https://localhost:8080/"
        },
        "id": "UFi3PQXrWnPF",
        "outputId": "38cc6d05-397e-4ca2-9ff4-5549fd1e2642"
      },
      "execution_count": 32,
      "outputs": [
        {
          "output_type": "execute_result",
          "data": {
            "text/plain": [
              "array([[0, 1, 2],\n",
              "       [3, 4, 5]])"
            ]
          },
          "metadata": {},
          "execution_count": 32
        }
      ]
    },
    {
      "cell_type": "code",
      "source": [
        "#Another one dimensional array using single character strings \n",
        "another_1d_array = np.array(['a','b','c','d','e','f','g','h','i'])\n",
        "\n",
        "#Reshape this 1d array into a 3 by 3 2d array\n",
        "new_shape_another = (3,3)\n",
        "another_2d = np.reshape(another_1d_array, new_shape_another)\n",
        "another_2d.shape  #We have reshaped a  vector(1D array) into a Matrix(2D array)"
      ],
      "metadata": {
        "colab": {
          "base_uri": "https://localhost:8080/"
        },
        "id": "RIomfihqYQoJ",
        "outputId": "a2ec8890-6739-4720-c3c7-f465f9ca87c9"
      },
      "execution_count": 38,
      "outputs": [
        {
          "output_type": "execute_result",
          "data": {
            "text/plain": [
              "(3, 3)"
            ]
          },
          "metadata": {},
          "execution_count": 38
        }
      ]
    },
    {
      "cell_type": "code",
      "source": [
        "#We can reshape back the 2d arrays to  1d\n",
        "print(np.prod(another_2d.shape))#Get the total number of elements\n",
        "new_vector = (9,)\n",
        "#Reshape  the 2d array back into a vector\n",
        "np.reshape(another_2d, new_vector) #We have reshaped our 2d array into a vector"
      ],
      "metadata": {
        "colab": {
          "base_uri": "https://localhost:8080/"
        },
        "id": "5WZMP_geYKtS",
        "outputId": "d54401b9-20c9-43a1-d68a-c5e6790e8146"
      },
      "execution_count": 48,
      "outputs": [
        {
          "output_type": "stream",
          "name": "stdout",
          "text": [
            "9\n"
          ]
        },
        {
          "output_type": "execute_result",
          "data": {
            "text/plain": [
              "array(['a', 'b', 'c', 'd', 'e', 'f', 'g', 'h', 'i'], dtype='<U1')"
            ]
          },
          "metadata": {},
          "execution_count": 48
        }
      ]
    },
    {
      "cell_type": "code",
      "source": [
        "np.reshape(array_2d,(-1,))"
      ],
      "metadata": {
        "colab": {
          "base_uri": "https://localhost:8080/"
        },
        "id": "eAu8peQ3bbNQ",
        "outputId": "445afd62-5ac9-47f3-aa5b-7c395f3eed0b"
      },
      "execution_count": 51,
      "outputs": [
        {
          "output_type": "execute_result",
          "data": {
            "text/plain": [
              "array([0, 1, 2, 3, 4, 5])"
            ]
          },
          "metadata": {},
          "execution_count": 51
        }
      ]
    },
    {
      "cell_type": "code",
      "source": [
        "np.reshape(another_2d,(-1,))"
      ],
      "metadata": {
        "colab": {
          "base_uri": "https://localhost:8080/"
        },
        "id": "2nuU8lzUdusy",
        "outputId": "fc0ebb1a-9eaa-486b-bf5d-6fe770e393df"
      },
      "execution_count": 52,
      "outputs": [
        {
          "output_type": "execute_result",
          "data": {
            "text/plain": [
              "array(['a', 'b', 'c', 'd', 'e', 'f', 'g', 'h', 'i'], dtype='<U1')"
            ]
          },
          "metadata": {},
          "execution_count": 52
        }
      ]
    },
    {
      "cell_type": "code",
      "source": [
        "#The shortcut method for flattening/ converting a 2d or a 3d array to a 1d array(Vector)\n",
        "array_new = np.arange(6)\n",
        "new_shape = (2,3)\n",
        "\n",
        "#Two Dimensional array\n",
        "new_2d = np.reshape(array_new,new_shape)\n",
        "new_2d"
      ],
      "metadata": {
        "colab": {
          "base_uri": "https://localhost:8080/"
        },
        "id": "qHnMvgKDd2mj",
        "outputId": "0c9fa745-0435-48ae-abf0-1bc3b61abf0e"
      },
      "execution_count": 57,
      "outputs": [
        {
          "output_type": "execute_result",
          "data": {
            "text/plain": [
              "array([[0, 1, 2],\n",
              "       [3, 4, 5]])"
            ]
          },
          "metadata": {},
          "execution_count": 57
        }
      ]
    },
    {
      "cell_type": "code",
      "source": [
        "#Converting back the 2d array into a vector(1d array)\n",
        "shape_oneD = (6,)\n",
        "\n",
        "vector_new = np.reshape(new_2d,shape_oneD)\n",
        "vector_new\n",
        "\n",
        "#Shortcut to reshape  a 2d or a 3d array into  a one dimensional array, a vector\n",
        "np.ravel(new_2d)"
      ],
      "metadata": {
        "colab": {
          "base_uri": "https://localhost:8080/"
        },
        "id": "ICBx8BpFe283",
        "outputId": "791ca583-1c9b-443a-d319-274f3a3a74de"
      },
      "execution_count": 63,
      "outputs": [
        {
          "output_type": "execute_result",
          "data": {
            "text/plain": [
              "array([0, 1, 2, 3, 4, 5])"
            ]
          },
          "metadata": {},
          "execution_count": 63
        }
      ]
    },
    {
      "cell_type": "code",
      "source": [
        "#We can reshape an array to any shape as long as the number of elements stays the same.,"
      ],
      "metadata": {
        "id": "9HAb2EtEgNBA"
      },
      "execution_count": 64,
      "outputs": []
    },
    {
      "cell_type": "code",
      "source": [
        "#print(array_2d.shape) #This is a 2,3 array we reshape to 3 by 2\n",
        "\n",
        "new_shape = (3,2)\n",
        "\n",
        "reshaped  = np.reshape(new_2d,new_shape)\n",
        "\n",
        "reshaped.shape\n",
        "print(f\"Size of array before reshaping {new_2d.size}\")\n",
        "print(f\"Size of array after reshaping {reshaped.size}\")"
      ],
      "metadata": {
        "colab": {
          "base_uri": "https://localhost:8080/"
        },
        "id": "tv03Bf-RfkNR",
        "outputId": "6a3765b1-a444-4e85-9e1a-bca3f3fccc6b"
      },
      "execution_count": 74,
      "outputs": [
        {
          "output_type": "stream",
          "name": "stdout",
          "text": [
            "Size of array before reshaping 6\n",
            "Size of array after reshaping 6\n"
          ]
        }
      ]
    },
    {
      "cell_type": "code",
      "source": [
        "#Show the 1d array\n",
        "array_1d"
      ],
      "metadata": {
        "colab": {
          "base_uri": "https://localhost:8080/"
        },
        "id": "DhfDyzlvi_Sw",
        "outputId": "49fa41c3-d468-4ceb-a896-f2df9e7dadd8"
      },
      "execution_count": 77,
      "outputs": [
        {
          "output_type": "execute_result",
          "data": {
            "text/plain": [
              "array([0, 1, 2, 3, 4, 5])"
            ]
          },
          "metadata": {},
          "execution_count": 77
        }
      ]
    },
    {
      "cell_type": "code",
      "source": [
        "np.reshape(array_2d,(3,-1)) #Reshape to an array with 3 columns and whatever number the columns fit in"
      ],
      "metadata": {
        "colab": {
          "base_uri": "https://localhost:8080/"
        },
        "id": "uZX_DQBYlYIZ",
        "outputId": "61636631-d6f8-47a1-f54c-f5c9e2fd10de"
      },
      "execution_count": 79,
      "outputs": [
        {
          "output_type": "execute_result",
          "data": {
            "text/plain": [
              "array([[0, 1],\n",
              "       [2, 3],\n",
              "       [4, 5]])"
            ]
          },
          "metadata": {},
          "execution_count": 79
        }
      ]
    },
    {
      "cell_type": "code",
      "source": [
        "#Reshape to an array  with 2 columns and whatever number the rows in\n",
        "np.reshape(array_2d,(3,-1))"
      ],
      "metadata": {
        "colab": {
          "base_uri": "https://localhost:8080/"
        },
        "id": "vaJya5aXlwyt",
        "outputId": "1f0aa472-bc1e-4695-df2b-a132f2ae168a"
      },
      "execution_count": 81,
      "outputs": [
        {
          "output_type": "execute_result",
          "data": {
            "text/plain": [
              "array([[0, 1],\n",
              "       [2, 3],\n",
              "       [4, 5]])"
            ]
          },
          "metadata": {},
          "execution_count": 81
        }
      ]
    },
    {
      "cell_type": "code",
      "source": [
        ""
      ],
      "metadata": {
        "id": "Obhd2cTMnTxn"
      },
      "execution_count": null,
      "outputs": []
    },
    {
      "cell_type": "code",
      "source": [
        ""
      ],
      "metadata": {
        "id": "2dZ5FopZm9_j"
      },
      "execution_count": null,
      "outputs": []
    },
    {
      "cell_type": "code",
      "source": [
        ""
      ],
      "metadata": {
        "id": "bLIfmmVclvsW"
      },
      "execution_count": null,
      "outputs": []
    },
    {
      "cell_type": "code",
      "source": [
        ""
      ],
      "metadata": {
        "id": "o3sk1IcklW18"
      },
      "execution_count": null,
      "outputs": []
    },
    {
      "cell_type": "code",
      "source": [
        ""
      ],
      "metadata": {
        "id": "_3fJ7XwulDFM"
      },
      "execution_count": null,
      "outputs": []
    }
  ]
}