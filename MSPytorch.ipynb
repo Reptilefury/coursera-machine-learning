{
  "nbformat": 4,
  "nbformat_minor": 0,
  "metadata": {
    "colab": {
      "name": "MSPytorch.ipynb",
      "provenance": [],
      "collapsed_sections": [],
      "authorship_tag": "ABX9TyN2TUC4rfCuLR0/M/YFEH3S",
      "include_colab_link": true
    },
    "kernelspec": {
      "name": "python3",
      "display_name": "Python 3"
    },
    "language_info": {
      "name": "python"
    }
  },
  "cells": [
    {
      "cell_type": "markdown",
      "metadata": {
        "id": "view-in-github",
        "colab_type": "text"
      },
      "source": [
        "<a href=\"https://colab.research.google.com/github/Reptilefury/coursera-machine-learning/blob/main/MSPytorch.ipynb\" target=\"_parent\"><img src=\"https://colab.research.google.com/assets/colab-badge.svg\" alt=\"Open In Colab\"/></a>"
      ]
    },
    {
      "cell_type": "markdown",
      "source": [
        "Tensors are specialised data structures that are very similar to Arrays and matrices. Tensors are optimized to run on GPUs and other hardware accelerates and also automatic differentiation can be done on tensors"
      ],
      "metadata": {
        "id": "mIb6qHemj2gX"
      }
    },
    {
      "cell_type": "code",
      "source": [
        "import torch\n",
        "import numpy as np"
      ],
      "metadata": {
        "id": "dpxaEs_xkczg"
      },
      "execution_count": null,
      "outputs": []
    },
    {
      "cell_type": "code",
      "source": [
        ""
      ],
      "metadata": {
        "id": "clb184vhmguI"
      },
      "execution_count": null,
      "outputs": []
    },
    {
      "cell_type": "markdown",
      "source": [
        "Tensors can be initialized in various ways, even through data and the data type is automatically inferred"
      ],
      "metadata": {
        "id": "CCja715lkvVu"
      }
    },
    {
      "cell_type": "code",
      "source": [
        "data = [[1,2,3,4],[5,6,7,8]] #Lets create a nested list\n",
        "data_tensor = torch.tensor(data)"
      ],
      "metadata": {
        "id": "lgxrafNik9fg"
      },
      "execution_count": null,
      "outputs": []
    },
    {
      "cell_type": "code",
      "source": [
        "data_tensor.shape #This is a rank 2 tensor of 4 elements in each tensor"
      ],
      "metadata": {
        "colab": {
          "base_uri": "https://localhost:8080/"
        },
        "id": "9m9Epr2SlKjo",
        "outputId": "a0d10583-3c7d-48b8-81e1-c2d84f95fd53"
      },
      "execution_count": null,
      "outputs": [
        {
          "output_type": "execute_result",
          "data": {
            "text/plain": [
              "torch.Size([2, 4])"
            ]
          },
          "metadata": {},
          "execution_count": 3
        }
      ]
    },
    {
      "cell_type": "code",
      "source": [
        "data_tensor[0].shape #We have accessed the first element in our tensor  and checked the size  it has 4 elements "
      ],
      "metadata": {
        "colab": {
          "base_uri": "https://localhost:8080/"
        },
        "id": "X4umOBlCle8s",
        "outputId": "2cdc3143-e89d-45c7-bd9f-85a802de8a4c"
      },
      "execution_count": null,
      "outputs": [
        {
          "output_type": "execute_result",
          "data": {
            "text/plain": [
              "torch.Size([4])"
            ]
          },
          "metadata": {},
          "execution_count": 4
        }
      ]
    },
    {
      "cell_type": "code",
      "source": [
        "#We can initliaze tensors from numpy arrays \n",
        "numpy_array = np.array(data)\n",
        "tensor_numpy = torch.from_numpy(numpy_array)"
      ],
      "metadata": {
        "id": "MYsCGtO0ljU2"
      },
      "execution_count": null,
      "outputs": []
    },
    {
      "cell_type": "code",
      "source": [
        "tensor_numpy"
      ],
      "metadata": {
        "colab": {
          "base_uri": "https://localhost:8080/"
        },
        "id": "yRN-PMC6mpoR",
        "outputId": "290c2157-d7e8-406d-a677-a92153cd9573"
      },
      "execution_count": null,
      "outputs": [
        {
          "output_type": "execute_result",
          "data": {
            "text/plain": [
              "tensor([[1, 2, 3, 4],\n",
              "        [5, 6, 7, 8]])"
            ]
          },
          "metadata": {},
          "execution_count": 6
        }
      ]
    },
    {
      "cell_type": "code",
      "source": [
        "data_tensor_ones = torch.ones_like(data_tensor) #This tensor retains the properties of the tensor i.e the shape = rank and n.o of elements and the , data type i.e float"
      ],
      "metadata": {
        "id": "2HkTHJ1ZmsRw"
      },
      "execution_count": null,
      "outputs": []
    },
    {
      "cell_type": "code",
      "source": [
        "data_tensor_ones"
      ],
      "metadata": {
        "colab": {
          "base_uri": "https://localhost:8080/"
        },
        "id": "uE3aw8-encwS",
        "outputId": "7180d03d-57af-41a2-e2f0-ae38d37415cb"
      },
      "execution_count": null,
      "outputs": [
        {
          "output_type": "execute_result",
          "data": {
            "text/plain": [
              "tensor([[1, 1, 1, 1],\n",
              "        [1, 1, 1, 1]])"
            ]
          },
          "metadata": {},
          "execution_count": 8
        }
      ]
    },
    {
      "cell_type": "code",
      "source": [
        "#Random tensor\n",
        "data_rand = torch.rand_like(data_tensor,dtype=torch.float)"
      ],
      "metadata": {
        "id": "0WOhuv0vmiQ3"
      },
      "execution_count": null,
      "outputs": []
    },
    {
      "cell_type": "code",
      "source": [
        "data_rand"
      ],
      "metadata": {
        "colab": {
          "base_uri": "https://localhost:8080/"
        },
        "id": "hAn2Chw1oy3U",
        "outputId": "839d791d-6054-48d4-e26f-59b2a5a2d2fa"
      },
      "execution_count": null,
      "outputs": [
        {
          "output_type": "execute_result",
          "data": {
            "text/plain": [
              "tensor([[0.1110, 0.8282, 0.0371, 0.0832],\n",
              "        [0.1303, 0.6182, 0.7145, 0.4051]])"
            ]
          },
          "metadata": {},
          "execution_count": 10
        }
      ]
    },
    {
      "cell_type": "code",
      "source": [
        "shape = (2,3,) #This is tuple that defines the shape of the tensor we want to create randomly \n",
        "rand_tensor = torch.rand(shape) #The shape we defined is 2,3 which means we want to create a rank 2 tensor of 3 elements each"
      ],
      "metadata": {
        "id": "xUSnMxvHpPAX"
      },
      "execution_count": null,
      "outputs": []
    },
    {
      "cell_type": "code",
      "source": [
        "rand_tensor"
      ],
      "metadata": {
        "colab": {
          "base_uri": "https://localhost:8080/"
        },
        "id": "wqK9Etldpx_0",
        "outputId": "0deec5a7-8256-4922-9e1f-ec5cdb16455f"
      },
      "execution_count": null,
      "outputs": [
        {
          "output_type": "execute_result",
          "data": {
            "text/plain": [
              "tensor([[0.6455, 0.4153, 0.9425],\n",
              "        [0.6195, 0.9566, 0.7318]])"
            ]
          },
          "metadata": {},
          "execution_count": 12
        }
      ]
    },
    {
      "cell_type": "markdown",
      "source": [
        "The attributes of a tensor describe their shape, dtype and device on which they are stored in "
      ],
      "metadata": {
        "id": "-G8Ug-GSq-ae"
      }
    },
    {
      "cell_type": "code",
      "source": [
        "data = torch.rand(2,3)"
      ],
      "metadata": {
        "id": "hBkWVVhAp05l"
      },
      "execution_count": null,
      "outputs": []
    },
    {
      "cell_type": "code",
      "source": [
        "data.shape"
      ],
      "metadata": {
        "colab": {
          "base_uri": "https://localhost:8080/"
        },
        "id": "5IrENxvhrPKS",
        "outputId": "d0ab9146-3b53-4ff6-8f3b-86b436b015a9"
      },
      "execution_count": null,
      "outputs": [
        {
          "output_type": "execute_result",
          "data": {
            "text/plain": [
              "torch.Size([2, 3])"
            ]
          },
          "metadata": {},
          "execution_count": 14
        }
      ]
    },
    {
      "cell_type": "code",
      "source": [
        "data.dtype"
      ],
      "metadata": {
        "colab": {
          "base_uri": "https://localhost:8080/"
        },
        "id": "4YJgvXwKrTzd",
        "outputId": "0df5f190-8da1-4f44-dcc1-220024351c72"
      },
      "execution_count": null,
      "outputs": [
        {
          "output_type": "execute_result",
          "data": {
            "text/plain": [
              "torch.float32"
            ]
          },
          "metadata": {},
          "execution_count": 15
        }
      ]
    },
    {
      "cell_type": "code",
      "source": [
        "data.device"
      ],
      "metadata": {
        "colab": {
          "base_uri": "https://localhost:8080/"
        },
        "id": "VcC5Wb0prVp2",
        "outputId": "d0b81245-5761-4bba-abd4-787890ea23ff"
      },
      "execution_count": null,
      "outputs": [
        {
          "output_type": "execute_result",
          "data": {
            "text/plain": [
              "device(type='cpu')"
            ]
          },
          "metadata": {},
          "execution_count": 16
        }
      ]
    },
    {
      "cell_type": "markdown",
      "source": [
        "Operations on Tensors :Manipulation, transposing, indexing and slicing"
      ],
      "metadata": {
        "id": "zqJJbdU2riJJ"
      }
    },
    {
      "cell_type": "markdown",
      "source": [
        "Copying Tensors to cuda"
      ],
      "metadata": {
        "id": "wvxIqZ9aDaze"
      }
    },
    {
      "cell_type": "code",
      "source": [
        "#Copying a tensor to cuda\n",
        "if torch.cuda.is_available():\n",
        "  data.to(\"cuda\")"
      ],
      "metadata": {
        "id": "ae36gzXorXtf"
      },
      "execution_count": null,
      "outputs": []
    },
    {
      "cell_type": "markdown",
      "source": [
        "Standard numpy indexing and slicing "
      ],
      "metadata": {
        "id": "LsfOgQKPEcAr"
      }
    },
    {
      "cell_type": "code",
      "source": [
        "#Random tensor of ones\n",
        "tensor = torch.ones(2,4) #Rank 2 tensor of 4 elements "
      ],
      "metadata": {
        "id": "vwGAhP7jD7YW"
      },
      "execution_count": null,
      "outputs": []
    },
    {
      "cell_type": "code",
      "source": [
        "tensor"
      ],
      "metadata": {
        "colab": {
          "base_uri": "https://localhost:8080/"
        },
        "id": "a5hGwAlzDS5f",
        "outputId": "728ca24e-8524-449e-ec6c-73f4c5e83809"
      },
      "execution_count": null,
      "outputs": [
        {
          "output_type": "execute_result",
          "data": {
            "text/plain": [
              "tensor([[1., 1., 1., 1.],\n",
              "        [1., 1., 1., 1.]])"
            ]
          },
          "metadata": {},
          "execution_count": 19
        }
      ]
    },
    {
      "cell_type": "code",
      "source": [
        "tensor[0][:2] #Slicing  and indexing "
      ],
      "metadata": {
        "colab": {
          "base_uri": "https://localhost:8080/"
        },
        "id": "RXq1a1UFE-g3",
        "outputId": "ce2b3cc8-b85c-47f2-ec40-26110fe76536"
      },
      "execution_count": null,
      "outputs": [
        {
          "output_type": "execute_result",
          "data": {
            "text/plain": [
              "tensor([1., 1.])"
            ]
          },
          "metadata": {},
          "execution_count": 20
        }
      ]
    },
    {
      "cell_type": "code",
      "source": [
        "tensor_rand = torch.ones(4,4)"
      ],
      "metadata": {
        "id": "nN9K-V2hFonp"
      },
      "execution_count": null,
      "outputs": []
    },
    {
      "cell_type": "code",
      "source": [
        "tensor_rand[:,0]"
      ],
      "metadata": {
        "colab": {
          "base_uri": "https://localhost:8080/"
        },
        "id": "92dWq45-F3qo",
        "outputId": "52907f04-2407-4d28-ce9e-31f8e52f0737"
      },
      "execution_count": null,
      "outputs": [
        {
          "output_type": "execute_result",
          "data": {
            "text/plain": [
              "tensor([1., 1., 1., 1.])"
            ]
          },
          "metadata": {},
          "execution_count": 22
        }
      ]
    },
    {
      "cell_type": "code",
      "source": [
        "two_four = torch.ones(2,4)"
      ],
      "metadata": {
        "id": "u_K2QHwVGEjs"
      },
      "execution_count": null,
      "outputs": []
    },
    {
      "cell_type": "code",
      "source": [
        "two_four"
      ],
      "metadata": {
        "colab": {
          "base_uri": "https://localhost:8080/"
        },
        "id": "6jXioeSkGbXz",
        "outputId": "cb4fdccd-c38a-436c-d662-3dd3d7c4be83"
      },
      "execution_count": null,
      "outputs": [
        {
          "output_type": "execute_result",
          "data": {
            "text/plain": [
              "tensor([[1., 1., 1., 1.],\n",
              "        [1., 1., 1., 1.]])"
            ]
          },
          "metadata": {},
          "execution_count": 24
        }
      ]
    },
    {
      "cell_type": "code",
      "source": [
        "two_four[:,0]"
      ],
      "metadata": {
        "colab": {
          "base_uri": "https://localhost:8080/"
        },
        "id": "GoanqNMbGMdi",
        "outputId": "d097770b-f2c9-4b68-8278-6cd011996366"
      },
      "execution_count": null,
      "outputs": [
        {
          "output_type": "execute_result",
          "data": {
            "text/plain": [
              "tensor([1., 1.])"
            ]
          },
          "metadata": {},
          "execution_count": 25
        }
      ]
    },
    {
      "cell_type": "code",
      "source": [
        "two_four[:,-1]"
      ],
      "metadata": {
        "colab": {
          "base_uri": "https://localhost:8080/"
        },
        "id": "zuyo_LHtGZwZ",
        "outputId": "9d6d750f-f48c-4c4a-c8b2-41551e4705f9"
      },
      "execution_count": null,
      "outputs": [
        {
          "output_type": "execute_result",
          "data": {
            "text/plain": [
              "tensor([1., 1.])"
            ]
          },
          "metadata": {},
          "execution_count": 26
        }
      ]
    },
    {
      "cell_type": "markdown",
      "source": [
        "Joining tensors"
      ],
      "metadata": {
        "id": "YNEnBWkuG5ke"
      }
    },
    {
      "cell_type": "code",
      "source": [
        "two_four = torch.ones(4,4)"
      ],
      "metadata": {
        "id": "NDq9aujPHRsI"
      },
      "execution_count": null,
      "outputs": []
    },
    {
      "cell_type": "code",
      "source": [
        "tensor_rand = torch.ones(4,4)"
      ],
      "metadata": {
        "id": "He5DNLmlHXbd"
      },
      "execution_count": null,
      "outputs": []
    },
    {
      "cell_type": "code",
      "source": [
        "torch.cat([two_four, tensor_rand], dim =1) #Concatenating tensors in the same dimension such 4,4 dimensions can be joined  together\n",
        "x =torch.stack((two_four, tensor_rand))"
      ],
      "metadata": {
        "id": "jeoW9Gn2GujF"
      },
      "execution_count": null,
      "outputs": []
    },
    {
      "cell_type": "markdown",
      "source": [
        "Arithmetic operations "
      ],
      "metadata": {
        "id": "WIOLdicGJuHj"
      }
    },
    {
      "cell_type": "code",
      "source": [
        "tensor = torch.rand(2,4)"
      ],
      "metadata": {
        "id": "zV5fPRQgJbTB"
      },
      "execution_count": null,
      "outputs": []
    },
    {
      "cell_type": "code",
      "source": [
        "tensor.T"
      ],
      "metadata": {
        "colab": {
          "base_uri": "https://localhost:8080/"
        },
        "id": "ZEFVtnAeTCKt",
        "outputId": "579953e4-f764-4161-98dc-53d60f6667da"
      },
      "execution_count": null,
      "outputs": [
        {
          "output_type": "execute_result",
          "data": {
            "text/plain": [
              "tensor([[0.3046, 0.1900],\n",
              "        [0.6411, 0.4928],\n",
              "        [0.5276, 0.0154],\n",
              "        [0.9121, 0.9188]])"
            ]
          },
          "metadata": {},
          "execution_count": 32
        }
      ]
    },
    {
      "cell_type": "code",
      "source": [
        "tensor"
      ],
      "metadata": {
        "colab": {
          "base_uri": "https://localhost:8080/"
        },
        "id": "6J-HjOonTD1s",
        "outputId": "ddfaea9e-d9ea-4854-9b05-50093a8ad25f"
      },
      "execution_count": null,
      "outputs": [
        {
          "output_type": "execute_result",
          "data": {
            "text/plain": [
              "tensor([[0.3046, 0.6411, 0.5276, 0.9121],\n",
              "        [0.1900, 0.4928, 0.0154, 0.9188]])"
            ]
          },
          "metadata": {},
          "execution_count": 33
        }
      ]
    },
    {
      "cell_type": "code",
      "source": [
        "#We do a matrix multiplication \n",
        "y1 = tensor @ tensor.T"
      ],
      "metadata": {
        "id": "RiWA6HUwTRNa"
      },
      "execution_count": null,
      "outputs": []
    },
    {
      "cell_type": "code",
      "source": [
        "y1"
      ],
      "metadata": {
        "colab": {
          "base_uri": "https://localhost:8080/"
        },
        "id": "z-dhBYsRTfqd",
        "outputId": "c969f493-2d01-4b0c-92a0-a0632d1bd40e"
      },
      "execution_count": null,
      "outputs": [
        {
          "output_type": "execute_result",
          "data": {
            "text/plain": [
              "tensor([[1.6140, 1.2199],\n",
              "        [1.2199, 1.1234]])"
            ]
          },
          "metadata": {},
          "execution_count": 35
        }
      ]
    },
    {
      "cell_type": "code",
      "source": [
        "y2 = tensor.matmul(tensor.T)"
      ],
      "metadata": {
        "id": "JUOjZyhUTgJh"
      },
      "execution_count": null,
      "outputs": []
    },
    {
      "cell_type": "code",
      "source": [
        "y2"
      ],
      "metadata": {
        "id": "evZIorg6TpAQ",
        "outputId": "f006dda8-4154-4e73-8737-96da67ddeae7",
        "colab": {
          "base_uri": "https://localhost:8080/"
        }
      },
      "execution_count": null,
      "outputs": [
        {
          "output_type": "execute_result",
          "data": {
            "text/plain": [
              "tensor([[1.6140, 1.2199],\n",
              "        [1.2199, 1.1234]])"
            ]
          },
          "metadata": {},
          "execution_count": 37
        }
      ]
    },
    {
      "cell_type": "code",
      "source": [
        "import torch\n",
        "import numpy as np\n"
      ],
      "metadata": {
        "id": "tuzbq1KmTp5P"
      },
      "execution_count": 2,
      "outputs": []
    },
    {
      "cell_type": "code",
      "execution_count": 6,
      "metadata": {
        "id": "fcuP8rfzjthV"
      },
      "outputs": [],
      "source": [
        "#Creating a tensor automatically from data the data type is automatically inferred in Pytorch\n",
        "data = list([[1,2],[3,4]])"
      ]
    },
    {
      "cell_type": "code",
      "source": [
        "tensor_data = torch.tensor(data)"
      ],
      "metadata": {
        "id": "5BnS_UJjX3M5"
      },
      "execution_count": 7,
      "outputs": []
    },
    {
      "cell_type": "code",
      "source": [
        "tensor_data"
      ],
      "metadata": {
        "colab": {
          "base_uri": "https://localhost:8080/"
        },
        "id": "Yyolxg4CXwD8",
        "outputId": "e20e4ab3-e170-4f7d-dad8-c107e0e4a134"
      },
      "execution_count": 8,
      "outputs": [
        {
          "output_type": "execute_result",
          "data": {
            "text/plain": [
              "tensor([[1, 2],\n",
              "        [3, 4]])"
            ]
          },
          "metadata": {},
          "execution_count": 8
        }
      ]
    },
    {
      "cell_type": "code",
      "source": [
        "#Creating tensors from a numpy array \n",
        "np_array = np.array(data)\n",
        "#Torch.from_numpy\n",
        "numpy_tensor = torch.from_numpy(np_array)"
      ],
      "metadata": {
        "id": "BRKHGEE1X-RG"
      },
      "execution_count": 11,
      "outputs": []
    },
    {
      "cell_type": "code",
      "source": [
        "#Pass in the nested list data into a numpy array \n",
        "np_array = np.array(data)\n",
        "np_tensor = torch.from_numpy(np_array)"
      ],
      "metadata": {
        "id": "XEUTQ7DbZhlW"
      },
      "execution_count": 14,
      "outputs": []
    },
    {
      "cell_type": "code",
      "source": [
        "numpy_tensor"
      ],
      "metadata": {
        "colab": {
          "base_uri": "https://localhost:8080/"
        },
        "id": "BKKGsz3nZRi0",
        "outputId": "14d4dcde-8273-4ffc-9a30-8643d00e836e"
      },
      "execution_count": 12,
      "outputs": [
        {
          "output_type": "execute_result",
          "data": {
            "text/plain": [
              "tensor([[1, 2],\n",
              "        [3, 4]])"
            ]
          },
          "metadata": {},
          "execution_count": 12
        }
      ]
    },
    {
      "cell_type": "code",
      "source": [
        "np.multiply(np_array,2,out=np_array)"
      ],
      "metadata": {
        "colab": {
          "base_uri": "https://localhost:8080/"
        },
        "id": "UlroiQVvZTQG",
        "outputId": "5310bfcb-cfa3-4592-b0f6-1542902c7b99"
      },
      "execution_count": 15,
      "outputs": [
        {
          "output_type": "execute_result",
          "data": {
            "text/plain": [
              "array([[2, 4],\n",
              "       [6, 8]])"
            ]
          },
          "metadata": {},
          "execution_count": 15
        }
      ]
    },
    {
      "cell_type": "code",
      "source": [
        "#Creating a tensor from another tensor \n",
        "x_one = torch.ones_like(tensor_data)"
      ],
      "metadata": {
        "id": "qYxjo_A6ajTx"
      },
      "execution_count": 16,
      "outputs": []
    },
    {
      "cell_type": "code",
      "source": [
        "tensor_data.shape"
      ],
      "metadata": {
        "colab": {
          "base_uri": "https://localhost:8080/"
        },
        "id": "vC7_wpmlbacU",
        "outputId": "8533b7fd-6986-42ba-c372-5aa4eeb27fd7"
      },
      "execution_count": 19,
      "outputs": [
        {
          "output_type": "execute_result",
          "data": {
            "text/plain": [
              "torch.Size([2, 2])"
            ]
          },
          "metadata": {},
          "execution_count": 19
        }
      ]
    },
    {
      "cell_type": "code",
      "source": [
        "x_one.shape  #This is a rank two tensor of two elements in each tensor "
      ],
      "metadata": {
        "colab": {
          "base_uri": "https://localhost:8080/"
        },
        "id": "cmNMeRaJbWdO",
        "outputId": "e288226a-eead-4460-c81a-d74a89b3779f"
      },
      "execution_count": 21,
      "outputs": [
        {
          "output_type": "execute_result",
          "data": {
            "text/plain": [
              "torch.Size([2, 2])"
            ]
          },
          "metadata": {},
          "execution_count": 21
        }
      ]
    },
    {
      "cell_type": "code",
      "source": [
        "#Creating a random tensor\n",
        "rand_tens = torch.rand(2,4)"
      ],
      "metadata": {
        "id": "5Qu9fa5hbrPO"
      },
      "execution_count": 22,
      "outputs": []
    },
    {
      "cell_type": "code",
      "source": [
        "rand_tens"
      ],
      "metadata": {
        "colab": {
          "base_uri": "https://localhost:8080/"
        },
        "id": "o46krFHsb8aq",
        "outputId": "50048c0d-ab3d-4577-99e1-7206a794ceb1"
      },
      "execution_count": 23,
      "outputs": [
        {
          "output_type": "execute_result",
          "data": {
            "text/plain": [
              "tensor([[0.2445, 0.8288, 0.8323, 0.0331],\n",
              "        [0.8054, 0.6415, 0.9139, 0.1344]])"
            ]
          },
          "metadata": {},
          "execution_count": 23
        }
      ]
    },
    {
      "cell_type": "code",
      "source": [
        "tensor_data"
      ],
      "metadata": {
        "colab": {
          "base_uri": "https://localhost:8080/"
        },
        "id": "qCGjDQeNb9c5",
        "outputId": "644490e3-f15c-420a-9c0a-55428e5f769d"
      },
      "execution_count": 24,
      "outputs": [
        {
          "output_type": "execute_result",
          "data": {
            "text/plain": [
              "tensor([[1, 2],\n",
              "        [3, 4]])"
            ]
          },
          "metadata": {},
          "execution_count": 24
        }
      ]
    },
    {
      "cell_type": "code",
      "source": [
        "#Lets create a random tensor based on the dimensions of a previous tensor\n",
        "torch.rand_like(tensor_data, dtype=torch.float) #Here we created a tensor of random values with a different data type"
      ],
      "metadata": {
        "colab": {
          "base_uri": "https://localhost:8080/"
        },
        "id": "BbIoGM-EcYB1",
        "outputId": "05956ee0-bdf4-430b-ae68-50138a704312"
      },
      "execution_count": 26,
      "outputs": [
        {
          "output_type": "execute_result",
          "data": {
            "text/plain": [
              "tensor([[0.0199, 0.6999],\n",
              "        [0.4332, 0.7387]])"
            ]
          },
          "metadata": {},
          "execution_count": 26
        }
      ]
    },
    {
      "cell_type": "code",
      "source": [
        "#Shape shows the number of rows and columns in a tensor\n",
        "#We can create tensors of ones zeros and random values\n",
        "shape = (2,4) #Tuple of 2 and 4 this would be the rows and columns in our tensors \n",
        "ones = torch.ones(shape)\n",
        "zeros = torch.zeros(shape)\n",
        "rand = torch.rand(shape)"
      ],
      "metadata": {
        "id": "8pivl7X7cxRA"
      },
      "execution_count": 30,
      "outputs": []
    },
    {
      "cell_type": "code",
      "source": [
        "ones#Tensor with ones as elements"
      ],
      "metadata": {
        "colab": {
          "base_uri": "https://localhost:8080/"
        },
        "id": "7WxnZAiod2M1",
        "outputId": "4dd5d10c-f570-4eff-dfcb-653600d5ee07"
      },
      "execution_count": 34,
      "outputs": [
        {
          "output_type": "execute_result",
          "data": {
            "text/plain": [
              "tensor([[1., 1., 1., 1.],\n",
              "        [1., 1., 1., 1.]])"
            ]
          },
          "metadata": {},
          "execution_count": 34
        }
      ]
    },
    {
      "cell_type": "code",
      "source": [
        "zeros #Tensor with zeros as elements"
      ],
      "metadata": {
        "colab": {
          "base_uri": "https://localhost:8080/"
        },
        "id": "DVQw1V4Sd33K",
        "outputId": "7f7324ce-ba0e-4386-f35a-5f646a23af00"
      },
      "execution_count": 32,
      "outputs": [
        {
          "output_type": "execute_result",
          "data": {
            "text/plain": [
              "tensor([[0., 0., 0., 0.],\n",
              "        [0., 0., 0., 0.]])"
            ]
          },
          "metadata": {},
          "execution_count": 32
        }
      ]
    },
    {
      "cell_type": "code",
      "source": [
        "rand #Random elements in the tensor"
      ],
      "metadata": {
        "colab": {
          "base_uri": "https://localhost:8080/"
        },
        "id": "TSbiyB5Pd5QU",
        "outputId": "873b5c4e-df9f-4557-9002-ca295bdd9678"
      },
      "execution_count": 33,
      "outputs": [
        {
          "output_type": "execute_result",
          "data": {
            "text/plain": [
              "tensor([[0.6097, 0.9103, 0.9038, 0.5740],\n",
              "        [0.3606, 0.2090, 0.1051, 0.1375]])"
            ]
          },
          "metadata": {},
          "execution_count": 33
        }
      ]
    },
    {
      "cell_type": "code",
      "source": [
        "#Attributes of a tensor describe the shape, dataType and device on which they are stored in\n",
        "shape = (4,4)\n",
        "rand_tens = torch.rand(shape, dtype=torch.float64)"
      ],
      "metadata": {
        "id": "oof1JwBmd61J"
      },
      "execution_count": 38,
      "outputs": []
    },
    {
      "cell_type": "code",
      "source": [
        "rand_tens"
      ],
      "metadata": {
        "colab": {
          "base_uri": "https://localhost:8080/"
        },
        "id": "jZ1z4YrceupW",
        "outputId": "7ae29fe5-b494-4b24-b1e9-742ecf8ba579"
      },
      "execution_count": 39,
      "outputs": [
        {
          "output_type": "execute_result",
          "data": {
            "text/plain": [
              "tensor([[0.3804, 0.8398, 0.0549, 0.0200],\n",
              "        [0.9941, 0.3644, 0.2217, 0.9242],\n",
              "        [0.9877, 0.3287, 0.5147, 0.3859],\n",
              "        [0.7140, 0.6558, 0.0457, 0.4861]], dtype=torch.float64)"
            ]
          },
          "metadata": {},
          "execution_count": 39
        }
      ]
    },
    {
      "cell_type": "code",
      "source": [
        "#Lets check the shape of our tensor\n",
        "rand_tens.shape #Clearly this is a tensor of rank 4 which means is has 4 rows and 4 columns"
      ],
      "metadata": {
        "colab": {
          "base_uri": "https://localhost:8080/"
        },
        "id": "RrpFLn0pexFS",
        "outputId": "e797363a-a6e9-44ff-a140-ec43823d6896"
      },
      "execution_count": 42,
      "outputs": [
        {
          "output_type": "execute_result",
          "data": {
            "text/plain": [
              "torch.Size([4, 4])"
            ]
          },
          "metadata": {},
          "execution_count": 42
        }
      ]
    },
    {
      "cell_type": "code",
      "source": [
        "#Lets check the data type of our tensor\n",
        "rand_tens.dtype"
      ],
      "metadata": {
        "colab": {
          "base_uri": "https://localhost:8080/"
        },
        "id": "d5MXPklAfFGg",
        "outputId": "5d27c78e-27c4-4856-e0da-8ee804c92c62"
      },
      "execution_count": 43,
      "outputs": [
        {
          "output_type": "execute_result",
          "data": {
            "text/plain": [
              "torch.float64"
            ]
          },
          "metadata": {},
          "execution_count": 43
        }
      ]
    },
    {
      "cell_type": "code",
      "source": [
        "#Lets check the device on which they are stored\n",
        "rand_tens.device"
      ],
      "metadata": {
        "colab": {
          "base_uri": "https://localhost:8080/"
        },
        "id": "uoILE1WDfQwq",
        "outputId": "50887ee6-3b59-4f32-9353-b2a3283638b1"
      },
      "execution_count": 44,
      "outputs": [
        {
          "output_type": "execute_result",
          "data": {
            "text/plain": [
              "device(type='cpu')"
            ]
          },
          "metadata": {},
          "execution_count": 44
        }
      ]
    },
    {
      "cell_type": "code",
      "source": [
        "#Arithmetic operations on tensors \n",
        "#There are over 100 tensor manipulations , linear algebra and matrix manipulations transposing, inversing and indexing a slicing"
      ],
      "metadata": {
        "id": "6FJnYScSfbS0"
      },
      "execution_count": null,
      "outputs": []
    },
    {
      "cell_type": "code",
      "source": [
        "#Computing the tensor arithmetic operations on GPUs is much faster compared to computing on CPUs \n",
        "#GPUs have up to 1000 cores and do computations in paralles processing while CPUs have 16 cores \n",
        "#Computations take place in these cores"
      ],
      "metadata": {
        "id": "sKTQq4Fwe6zu"
      },
      "execution_count": 45,
      "outputs": []
    },
    {
      "cell_type": "code",
      "source": [
        "randShape = (2,4)\n",
        "rand = torch.rand(randShape)\n",
        "rand"
      ],
      "metadata": {
        "colab": {
          "base_uri": "https://localhost:8080/"
        },
        "id": "hl09Xw1KhXSb",
        "outputId": "9c25523a-8df4-4200-9fa5-1d81e04a523a"
      },
      "execution_count": 48,
      "outputs": [
        {
          "output_type": "execute_result",
          "data": {
            "text/plain": [
              "tensor([[0.9139, 0.4989, 0.2795, 0.3601],\n",
              "        [0.7563, 0.3411, 0.3512, 0.4247]])"
            ]
          },
          "metadata": {},
          "execution_count": 48
        }
      ]
    },
    {
      "cell_type": "code",
      "source": [
        "#To do tensor operations on the GPUs we first have to check for GPU availability \n",
        "if torch.cuda.is_available():\n",
        "   rand = rand.to(\"cuda\") #We copy the tensor to the GPU"
      ],
      "metadata": {
        "id": "KZ3Sm7W5hhgE"
      },
      "execution_count": 51,
      "outputs": []
    },
    {
      "cell_type": "code",
      "source": [
        "#Numpy API slicing and Indexing  \n",
        "randOnes = torch.ones(4,4)"
      ],
      "metadata": {
        "id": "aamqj4OjimYH"
      },
      "execution_count": 52,
      "outputs": []
    },
    {
      "cell_type": "code",
      "source": [
        "randOnes #Random tensor of ones as elements"
      ],
      "metadata": {
        "colab": {
          "base_uri": "https://localhost:8080/"
        },
        "id": "9i0VOZI2i6Rp",
        "outputId": "abe88205-90af-423f-cbf2-ab5f0b29c3e6"
      },
      "execution_count": 54,
      "outputs": [
        {
          "output_type": "execute_result",
          "data": {
            "text/plain": [
              "tensor([[1., 1., 1., 1.],\n",
              "        [1., 1., 1., 1.],\n",
              "        [1., 1., 1., 1.],\n",
              "        [1., 1., 1., 1.]])"
            ]
          },
          "metadata": {},
          "execution_count": 54
        }
      ]
    },
    {
      "cell_type": "code",
      "source": [
        "randOnes[0]"
      ],
      "metadata": {
        "colab": {
          "base_uri": "https://localhost:8080/"
        },
        "id": "Q8L416fhjABZ",
        "outputId": "b6cf2578-e671-4b79-9b94-b5dbc2069cca"
      },
      "execution_count": 55,
      "outputs": [
        {
          "output_type": "execute_result",
          "data": {
            "text/plain": [
              "tensor([1., 1., 1., 1.])"
            ]
          },
          "metadata": {},
          "execution_count": 55
        }
      ]
    },
    {
      "cell_type": "code",
      "source": [
        "randOnes[0][:2] "
      ],
      "metadata": {
        "colab": {
          "base_uri": "https://localhost:8080/"
        },
        "id": "gkVyHDbyjCy6",
        "outputId": "a95450f6-941c-4619-f0dc-ff4090ad95e0"
      },
      "execution_count": 56,
      "outputs": [
        {
          "output_type": "execute_result",
          "data": {
            "text/plain": [
              "tensor([1., 1.])"
            ]
          },
          "metadata": {},
          "execution_count": 56
        }
      ]
    },
    {
      "cell_type": "code",
      "source": [
        "randOnes[0][:-1] #Removed one element from the first row in our tensor"
      ],
      "metadata": {
        "colab": {
          "base_uri": "https://localhost:8080/"
        },
        "id": "H9ECmz4GjOok",
        "outputId": "86d4baac-5638-450b-a621-e163f3d22083"
      },
      "execution_count": 58,
      "outputs": [
        {
          "output_type": "execute_result",
          "data": {
            "text/plain": [
              "tensor([1., 1., 1.])"
            ]
          },
          "metadata": {},
          "execution_count": 58
        }
      ]
    },
    {
      "cell_type": "code",
      "source": [
        "#Joining two tensors\n",
        "t1 = torch.ones(2,4)\n",
        "t2 = torch.cat([t1,t1,t1,t1], dim=1)\n",
        "t2"
      ],
      "metadata": {
        "colab": {
          "base_uri": "https://localhost:8080/"
        },
        "id": "fSZjg3Ygjce2",
        "outputId": "d455cf27-cd11-41d8-80be-5aac573a4668"
      },
      "execution_count": 67,
      "outputs": [
        {
          "output_type": "execute_result",
          "data": {
            "text/plain": [
              "tensor([[1., 1., 1., 1., 1., 1., 1., 1., 1., 1., 1., 1., 1., 1., 1., 1.],\n",
              "        [1., 1., 1., 1., 1., 1., 1., 1., 1., 1., 1., 1., 1., 1., 1., 1.]])"
            ]
          },
          "metadata": {},
          "execution_count": 67
        }
      ]
    },
    {
      "cell_type": "code",
      "source": [
        "t2"
      ],
      "metadata": {
        "colab": {
          "base_uri": "https://localhost:8080/"
        },
        "id": "05Mt6uMakmNe",
        "outputId": "59ef42f7-4063-497c-fa36-1fa4f7a0b331"
      },
      "execution_count": 68,
      "outputs": [
        {
          "output_type": "execute_result",
          "data": {
            "text/plain": [
              "tensor([[1., 1., 1., 1., 1., 1., 1., 1., 1., 1., 1., 1., 1., 1., 1., 1.],\n",
              "        [1., 1., 1., 1., 1., 1., 1., 1., 1., 1., 1., 1., 1., 1., 1., 1.]])"
            ]
          },
          "metadata": {},
          "execution_count": 68
        }
      ]
    },
    {
      "cell_type": "code",
      "source": [
        "#Matrix multiplications between tensors\n",
        "t1\n",
        "t3 = t1 @ t1.T #Matrix multiplication of tensors"
      ],
      "metadata": {
        "id": "ZaIMMZQikpFW"
      },
      "execution_count": 73,
      "outputs": []
    },
    {
      "cell_type": "code",
      "source": [
        "t3"
      ],
      "metadata": {
        "colab": {
          "base_uri": "https://localhost:8080/"
        },
        "id": "U7OZ154olbsR",
        "outputId": "0aba8b3b-12c2-4854-a9a2-15cad6e1a300"
      },
      "execution_count": 72,
      "outputs": [
        {
          "output_type": "execute_result",
          "data": {
            "text/plain": [
              "tensor([[4., 4.],\n",
              "        [4., 4.]])"
            ]
          },
          "metadata": {},
          "execution_count": 72
        }
      ]
    },
    {
      "cell_type": "code",
      "source": [
        "t1.shape"
      ],
      "metadata": {
        "colab": {
          "base_uri": "https://localhost:8080/"
        },
        "id": "vAOebzDqlgvG",
        "outputId": "33c4654b-97c4-4b5c-f5a0-dcc6a0194169"
      },
      "execution_count": 75,
      "outputs": [
        {
          "output_type": "execute_result",
          "data": {
            "text/plain": [
              "torch.Size([2, 4])"
            ]
          },
          "metadata": {},
          "execution_count": 75
        }
      ]
    },
    {
      "cell_type": "code",
      "source": [
        "t3.shape"
      ],
      "metadata": {
        "colab": {
          "base_uri": "https://localhost:8080/"
        },
        "id": "SsSed-rTmAKl",
        "outputId": "bdf3b06c-9bdf-4d08-e6dd-7c9102e94341"
      },
      "execution_count": 76,
      "outputs": [
        {
          "output_type": "execute_result",
          "data": {
            "text/plain": [
              "torch.Size([2, 2])"
            ]
          },
          "metadata": {},
          "execution_count": 76
        }
      ]
    },
    {
      "cell_type": "code",
      "source": [
        "t4 = t1.matmul(t1.T)"
      ],
      "metadata": {
        "id": "_czt-JA6mEyZ"
      },
      "execution_count": 78,
      "outputs": []
    },
    {
      "cell_type": "code",
      "source": [
        "t4"
      ],
      "metadata": {
        "colab": {
          "base_uri": "https://localhost:8080/"
        },
        "id": "kd86KRAInqR1",
        "outputId": "26be787f-dd34-4ddb-cdd6-aaddc28a6263"
      },
      "execution_count": 79,
      "outputs": [
        {
          "output_type": "execute_result",
          "data": {
            "text/plain": [
              "tensor([[4., 4.],\n",
              "        [4., 4.]])"
            ]
          },
          "metadata": {},
          "execution_count": 79
        }
      ]
    },
    {
      "cell_type": "code",
      "source": [
        "t3"
      ],
      "metadata": {
        "colab": {
          "base_uri": "https://localhost:8080/"
        },
        "id": "4Xz2JdnRnsio",
        "outputId": "72dd3318-ecd8-49dc-eca3-82a05795fbc2"
      },
      "execution_count": 80,
      "outputs": [
        {
          "output_type": "execute_result",
          "data": {
            "text/plain": [
              "tensor([[4., 4.],\n",
              "        [4., 4.]])"
            ]
          },
          "metadata": {},
          "execution_count": 80
        }
      ]
    },
    {
      "cell_type": "code",
      "source": [
        "y3 = torch.rand_like(t3) #Creates a new tensor of random values  with the same dimensions as the previous tensor"
      ],
      "metadata": {
        "id": "YdFPciY7ntIX"
      },
      "execution_count": 85,
      "outputs": []
    },
    {
      "cell_type": "code",
      "source": [
        "y4  = torch.cat([y3,y3,y3],dim=1)"
      ],
      "metadata": {
        "id": "-Rh5p5Ysol98"
      },
      "execution_count": 83,
      "outputs": []
    },
    {
      "cell_type": "code",
      "source": [
        "y4"
      ],
      "metadata": {
        "colab": {
          "base_uri": "https://localhost:8080/"
        },
        "id": "ObcV04UHov7s",
        "outputId": "540075fc-d8b9-4604-a919-65a838b555ff"
      },
      "execution_count": 84,
      "outputs": [
        {
          "output_type": "execute_result",
          "data": {
            "text/plain": [
              "tensor([[0.5125, 0.7976, 0.5125, 0.7976, 0.5125, 0.7976],\n",
              "        [0.4712, 0.5146, 0.4712, 0.5146, 0.4712, 0.5146]])"
            ]
          },
          "metadata": {},
          "execution_count": 84
        }
      ]
    },
    {
      "cell_type": "code",
      "source": [
        "y5 = torch.matmul(y4,y4.T, out=y4)"
      ],
      "metadata": {
        "colab": {
          "base_uri": "https://localhost:8080/"
        },
        "id": "os4DXxwCoxOj",
        "outputId": "96165d35-d286-4eb2-843a-483776ca4a4c"
      },
      "execution_count": 92,
      "outputs": [
        {
          "output_type": "stream",
          "name": "stderr",
          "text": [
            "/usr/local/lib/python3.7/dist-packages/ipykernel_launcher.py:1: UserWarning: An output with one or more elements was resized since it had shape [2, 6], which does not match the required output shape [2, 2].This behavior is deprecated, and in a future PyTorch release outputs will not be resized unless they have zero elements. You can explicitly reuse an out tensor t by resizing it, inplace, to zero elements with t.resize_(0). (Triggered internally at  ../aten/src/ATen/native/Resize.cpp:23.)\n",
            "  \"\"\"Entry point for launching an IPython kernel.\n"
          ]
        }
      ]
    },
    {
      "cell_type": "code",
      "source": [
        "y5"
      ],
      "metadata": {
        "colab": {
          "base_uri": "https://localhost:8080/"
        },
        "id": "2fkcDkIkqxoL",
        "outputId": "ca0d2c73-1cd9-42db-e5e7-16dc2ceec8c8"
      },
      "execution_count": 93,
      "outputs": [
        {
          "output_type": "execute_result",
          "data": {
            "text/plain": [
              "tensor([[1.7975, 1.3039],\n",
              "        [1.5573, 0.6519]])"
            ]
          },
          "metadata": {},
          "execution_count": 93
        }
      ]
    },
    {
      "cell_type": "code",
      "source": [
        "#Single element tensors\n",
        "#Let us aggregate elements in our tensor and convert them into a Python numerical value \n",
        "agg = y5.sum()\n",
        "#Let us convert the one element tensor into a Python numerical value\n",
        "agg_like = agg.item()\n",
        "agg_like, type(agg_like)"
      ],
      "metadata": {
        "colab": {
          "base_uri": "https://localhost:8080/"
        },
        "id": "8ynkIeLiqyic",
        "outputId": "a5f9e9a9-9357-4622-fae3-4b7509bee529"
      },
      "execution_count": 97,
      "outputs": [
        {
          "output_type": "execute_result",
          "data": {
            "text/plain": [
              "(5.3105292320251465, float)"
            ]
          },
          "metadata": {},
          "execution_count": 97
        }
      ]
    },
    {
      "cell_type": "code",
      "source": [
        "#In Place operations \n",
        "\n",
        "y5.add_(5)"
      ],
      "metadata": {
        "colab": {
          "base_uri": "https://localhost:8080/"
        },
        "id": "QKToYqB0svJV",
        "outputId": "f92d1c26-420e-4954-d5e4-b84f1104a8ce"
      },
      "execution_count": 98,
      "outputs": [
        {
          "output_type": "execute_result",
          "data": {
            "text/plain": [
              "tensor([[6.7975, 6.3039],\n",
              "        [6.5573, 5.6519]])"
            ]
          },
          "metadata": {},
          "execution_count": 98
        }
      ]
    },
    {
      "cell_type": "code",
      "source": [
        "y5"
      ],
      "metadata": {
        "colab": {
          "base_uri": "https://localhost:8080/"
        },
        "id": "lX6js-kluTRg",
        "outputId": "3622cae8-e349-4f91-fce3-58606a6e35d5"
      },
      "execution_count": 99,
      "outputs": [
        {
          "output_type": "execute_result",
          "data": {
            "text/plain": [
              "tensor([[6.7975, 6.3039],\n",
              "        [6.5573, 5.6519]])"
            ]
          },
          "metadata": {},
          "execution_count": 99
        }
      ]
    },
    {
      "cell_type": "code",
      "source": [
        "#Tensors on cpu and numpy arrays can share their underlying memory locations\n",
        "t = torch.ones(5)"
      ],
      "metadata": {
        "id": "SCZ7jfvKuWAd"
      },
      "execution_count": 100,
      "outputs": []
    },
    {
      "cell_type": "code",
      "source": [
        "t"
      ],
      "metadata": {
        "colab": {
          "base_uri": "https://localhost:8080/"
        },
        "id": "82R8gONrvR86",
        "outputId": "eb45616b-c568-4770-c6e9-628eb91e7261"
      },
      "execution_count": 101,
      "outputs": [
        {
          "output_type": "execute_result",
          "data": {
            "text/plain": [
              "tensor([1., 1., 1., 1., 1.])"
            ]
          },
          "metadata": {},
          "execution_count": 101
        }
      ]
    },
    {
      "cell_type": "code",
      "source": [
        "t.add_(1)"
      ],
      "metadata": {
        "colab": {
          "base_uri": "https://localhost:8080/"
        },
        "id": "xWwbNdnjvSZr",
        "outputId": "f719e433-43db-4ec4-ee5a-9cfe8a233b44"
      },
      "execution_count": 102,
      "outputs": [
        {
          "output_type": "execute_result",
          "data": {
            "text/plain": [
              "tensor([2., 2., 2., 2., 2.])"
            ]
          },
          "metadata": {},
          "execution_count": 102
        }
      ]
    },
    {
      "cell_type": "code",
      "source": [
        "#Converting numpy array to tensor\n",
        "n = np.ones(5)\n",
        "n_tensor = torch.from_numpy(n)"
      ],
      "metadata": {
        "id": "t1Va0osCvrrf"
      },
      "execution_count": 104,
      "outputs": []
    },
    {
      "cell_type": "code",
      "source": [
        "n_tensor"
      ],
      "metadata": {
        "colab": {
          "base_uri": "https://localhost:8080/"
        },
        "id": "HmOFlJMIwX_l",
        "outputId": "60b4330b-8baa-4ac4-f38c-105f4a617ff8"
      },
      "execution_count": 105,
      "outputs": [
        {
          "output_type": "execute_result",
          "data": {
            "text/plain": [
              "tensor([1., 1., 1., 1., 1.], dtype=torch.float64)"
            ]
          },
          "metadata": {},
          "execution_count": 105
        }
      ]
    },
    {
      "cell_type": "code",
      "source": [
        "n_tensor.add_(1)"
      ],
      "metadata": {
        "colab": {
          "base_uri": "https://localhost:8080/"
        },
        "id": "eByhhSc5wY6E",
        "outputId": "344a9962-a775-4126-8648-227d7bcbdfcb"
      },
      "execution_count": 106,
      "outputs": [
        {
          "output_type": "execute_result",
          "data": {
            "text/plain": [
              "tensor([2., 2., 2., 2., 2.], dtype=torch.float64)"
            ]
          },
          "metadata": {},
          "execution_count": 106
        }
      ]
    },
    {
      "cell_type": "code",
      "source": [
        "n #Changes in the tensor reflect changes in the numpy array"
      ],
      "metadata": {
        "colab": {
          "base_uri": "https://localhost:8080/"
        },
        "id": "V3-IhLMFwbj3",
        "outputId": "4bc6a39e-4641-4365-9d37-0af4f69ee1cc"
      },
      "execution_count": 108,
      "outputs": [
        {
          "output_type": "execute_result",
          "data": {
            "text/plain": [
              "array([2., 2., 2., 2., 2.])"
            ]
          },
          "metadata": {},
          "execution_count": 108
        }
      ]
    },
    {
      "cell_type": "code",
      "source": [
        ""
      ],
      "metadata": {
        "id": "R2AONljawnPh"
      },
      "execution_count": null,
      "outputs": []
    },
    {
      "cell_type": "code",
      "source": [
        ""
      ],
      "metadata": {
        "id": "r378LVS9whlW"
      },
      "execution_count": null,
      "outputs": []
    },
    {
      "cell_type": "code",
      "source": [
        ""
      ],
      "metadata": {
        "id": "HjAz_lWewOpq"
      },
      "execution_count": null,
      "outputs": []
    },
    {
      "cell_type": "code",
      "source": [
        ""
      ],
      "metadata": {
        "id": "-shK-ZU2slMf"
      },
      "execution_count": null,
      "outputs": []
    },
    {
      "cell_type": "code",
      "source": [
        ""
      ],
      "metadata": {
        "id": "oxWMQCP4sVpw"
      },
      "execution_count": null,
      "outputs": []
    },
    {
      "cell_type": "code",
      "source": [
        ""
      ],
      "metadata": {
        "id": "nj5fSZuIrWpL"
      },
      "execution_count": null,
      "outputs": []
    },
    {
      "cell_type": "code",
      "source": [
        ""
      ],
      "metadata": {
        "id": "Iyzzq5Gtqdtf"
      },
      "execution_count": null,
      "outputs": []
    },
    {
      "cell_type": "code",
      "source": [
        ""
      ],
      "metadata": {
        "id": "FZdtmPHNqaXf"
      },
      "execution_count": null,
      "outputs": []
    },
    {
      "cell_type": "code",
      "source": [
        ""
      ],
      "metadata": {
        "id": "MQhZuC6NqXEs"
      },
      "execution_count": null,
      "outputs": []
    },
    {
      "cell_type": "code",
      "source": [
        ""
      ],
      "metadata": {
        "id": "vIRAMfs6qAfR"
      },
      "execution_count": null,
      "outputs": []
    },
    {
      "cell_type": "code",
      "source": [
        ""
      ],
      "metadata": {
        "id": "8lKFpGS_mKKO"
      },
      "execution_count": null,
      "outputs": []
    },
    {
      "cell_type": "code",
      "source": [
        ""
      ],
      "metadata": {
        "id": "giLhgCDllchu"
      },
      "execution_count": null,
      "outputs": []
    },
    {
      "cell_type": "code",
      "source": [
        ""
      ],
      "metadata": {
        "id": "WzvD0DXclXQm"
      },
      "execution_count": null,
      "outputs": []
    },
    {
      "cell_type": "code",
      "source": [
        ""
      ],
      "metadata": {
        "id": "C_rFK0a7khIJ"
      },
      "execution_count": null,
      "outputs": []
    },
    {
      "cell_type": "code",
      "source": [
        ""
      ],
      "metadata": {
        "id": "EeJWc4iSkd3v"
      },
      "execution_count": null,
      "outputs": []
    },
    {
      "cell_type": "code",
      "source": [
        ""
      ],
      "metadata": {
        "id": "jA7khB-Zkc84"
      },
      "execution_count": null,
      "outputs": []
    },
    {
      "cell_type": "code",
      "source": [
        ""
      ],
      "metadata": {
        "id": "KCn-x4K9kPfW"
      },
      "execution_count": null,
      "outputs": []
    },
    {
      "cell_type": "code",
      "source": [
        ""
      ],
      "metadata": {
        "id": "foSkoZrZkECT"
      },
      "execution_count": null,
      "outputs": []
    },
    {
      "cell_type": "code",
      "source": [
        ""
      ],
      "metadata": {
        "id": "l5dsZUNujlDH"
      },
      "execution_count": null,
      "outputs": []
    },
    {
      "cell_type": "code",
      "source": [
        ""
      ],
      "metadata": {
        "id": "MalQlZHdjlAG"
      },
      "execution_count": null,
      "outputs": []
    }
  ]
}