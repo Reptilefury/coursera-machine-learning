{
  "cells": [
    {
      "cell_type": "markdown",
      "metadata": {
        "id": "view-in-github",
        "colab_type": "text"
      },
      "source": [
        "<a href=\"https://colab.research.google.com/github/Reptilefury/coursera-machine-learning/blob/main/MNISTLOSS.ipynb\" target=\"_parent\"><img src=\"https://colab.research.google.com/assets/colab-badge.svg\" alt=\"Open In Colab\"/></a>"
      ]
    },
    {
      "cell_type": "code",
      "execution_count": null,
      "metadata": {
        "id": "MSWZDSApxURs",
        "colab": {
          "base_uri": "https://localhost:8080/"
        },
        "outputId": "1acb5b00-0352-473d-ea87-30b038883ce3"
      },
      "outputs": [
        {
          "output_type": "stream",
          "name": "stdout",
          "text": [
            "\u001b[K     |████████████████████████████████| 720 kB 8.5 MB/s \n",
            "\u001b[K     |████████████████████████████████| 189 kB 52.2 MB/s \n",
            "\u001b[K     |████████████████████████████████| 1.2 MB 45.1 MB/s \n",
            "\u001b[K     |████████████████████████████████| 48 kB 5.1 MB/s \n",
            "\u001b[K     |████████████████████████████████| 56 kB 4.6 MB/s \n",
            "\u001b[K     |████████████████████████████████| 51 kB 318 kB/s \n",
            "\u001b[K     |████████████████████████████████| 558 kB 54.4 MB/s \n",
            "\u001b[K     |████████████████████████████████| 130 kB 45.0 MB/s \n",
            "\u001b[?25h"
          ]
        }
      ],
      "source": [
        "!pip install -Uqq fastbook"
      ]
    },
    {
      "cell_type": "code",
      "execution_count": null,
      "metadata": {
        "id": "ICEKDz0Mwu-0"
      },
      "outputs": [],
      "source": [
        "import fastbook\n"
      ]
    },
    {
      "cell_type": "code",
      "source": [
        "fastbook.setup_book()"
      ],
      "metadata": {
        "colab": {
          "base_uri": "https://localhost:8080/"
        },
        "id": "QpZtubkpeqFw",
        "outputId": "837755eb-67ad-4242-cf06-997c6bd49966"
      },
      "execution_count": null,
      "outputs": [
        {
          "output_type": "stream",
          "name": "stdout",
          "text": [
            "Mounted at /content/gdrive\n"
          ]
        }
      ]
    },
    {
      "cell_type": "code",
      "source": [
        "from fastbook import *"
      ],
      "metadata": {
        "id": "Rn011dfye48Q"
      },
      "execution_count": null,
      "outputs": []
    },
    {
      "cell_type": "code",
      "source": [
        "from fastai.vision.all import *"
      ],
      "metadata": {
        "id": "uUDMuJxXfDdM"
      },
      "execution_count": null,
      "outputs": []
    },
    {
      "cell_type": "code",
      "source": [
        "import pandas as pd"
      ],
      "metadata": {
        "id": "-SPkEcYFfJWd"
      },
      "execution_count": null,
      "outputs": []
    },
    {
      "cell_type": "code",
      "source": [
        "import matplotlib.pyplot as plt"
      ],
      "metadata": {
        "id": "F9qXl0jSfK-J"
      },
      "execution_count": null,
      "outputs": []
    },
    {
      "cell_type": "code",
      "source": [
        "path = untar_data(URLs.MNIST_SAMPLE)"
      ],
      "metadata": {
        "colab": {
          "base_uri": "https://localhost:8080/",
          "height": 37
        },
        "id": "mqvW74jhfOck",
        "outputId": "90108cd7-96c6-4911-ff36-8b7dd9d9c577"
      },
      "execution_count": null,
      "outputs": [
        {
          "output_type": "display_data",
          "data": {
            "text/html": [
              "\n",
              "    <div>\n",
              "        <style>\n",
              "            /* Turns off some styling */\n",
              "            progress {\n",
              "                /* gets rid of default border in Firefox and Opera. */\n",
              "                border: none;\n",
              "                /* Needs to be in here for Safari polyfill so background images work as expected. */\n",
              "                background-size: auto;\n",
              "            }\n",
              "            .progress-bar-interrupted, .progress-bar-interrupted::-webkit-progress-bar {\n",
              "                background: #F44336;\n",
              "            }\n",
              "        </style>\n",
              "      <progress value='3219456' class='' max='3214948' style='width:300px; height:20px; vertical-align: middle;'></progress>\n",
              "      100.14% [3219456/3214948 00:00<00:00]\n",
              "    </div>\n",
              "    "
            ],
            "text/plain": [
              "<IPython.core.display.HTML object>"
            ]
          },
          "metadata": {}
        }
      ]
    },
    {
      "cell_type": "code",
      "source": [
        "threes = (path/'train'/'3').ls()"
      ],
      "metadata": {
        "id": "qBy_7n08fS30"
      },
      "execution_count": null,
      "outputs": []
    },
    {
      "cell_type": "code",
      "source": [
        "sevens = (path/'train'/'7').ls()"
      ],
      "metadata": {
        "id": "pMmBTDRufY0l"
      },
      "execution_count": null,
      "outputs": []
    },
    {
      "cell_type": "code",
      "source": [
        "Image_threes = Image.open(threes[0])"
      ],
      "metadata": {
        "id": "qWtmFBQefb_8"
      },
      "execution_count": null,
      "outputs": []
    },
    {
      "cell_type": "code",
      "source": [
        "Image_threes"
      ],
      "metadata": {
        "colab": {
          "base_uri": "https://localhost:8080/",
          "height": 45
        },
        "id": "ERbkpiSRgAtO",
        "outputId": "42990562-e71b-4f87-cd74-6c4c870ffe45"
      },
      "execution_count": null,
      "outputs": [
        {
          "output_type": "execute_result",
          "data": {
            "image/png": "[encoded data removed]",
            "text/plain": [
              "<PIL.PngImagePlugin.PngImageFile image mode=L size=28x28 at 0x7FC0520E8910>"
            ]
          },
          "metadata": {},
          "execution_count": 12
        }
      ]
    },
    {
      "cell_type": "code",
      "source": [
        "Image_sevens = Image.open(sevens[0])"
      ],
      "metadata": {
        "id": "z0-d0eRigEVp"
      },
      "execution_count": null,
      "outputs": []
    },
    {
      "cell_type": "code",
      "source": [
        "Image_sevens"
      ],
      "metadata": {
        "colab": {
          "base_uri": "https://localhost:8080/",
          "height": 45
        },
        "id": "NSeGO-3YgKjc",
        "outputId": "d8a0a892-4d92-44dc-c89a-3609c6127bc2"
      },
      "execution_count": null,
      "outputs": [
        {
          "output_type": "execute_result",
          "data": {
            "image/png": "[encoded data removed]",
            "text/plain": [
              "<PIL.PngImagePlugin.PngImageFile image mode=L size=28x28 at 0x7FC0520E8890>"
            ]
          },
          "metadata": {},
          "execution_count": 14
        }
      ]
    },
    {
      "cell_type": "code",
      "source": [
        "threes_tensors = [tensor(Image.open(o))for o in(threes)]\n",
        "\n",
        "\n"
      ],
      "metadata": {
        "id": "iHJJod8lgMke"
      },
      "execution_count": null,
      "outputs": []
    },
    {
      "cell_type": "code",
      "source": [
        "im3_t = threes_tensors[0]"
      ],
      "metadata": {
        "id": "LhX9MdMVhNLd"
      },
      "execution_count": null,
      "outputs": []
    },
    {
      "cell_type": "code",
      "source": [
        "im3_t"
      ],
      "metadata": {
        "id": "RAxr5nbihrPf",
        "colab": {
          "base_uri": "https://localhost:8080/"
        },
        "outputId": "68d2a669-370f-4fa7-b371-eef9e9949753"
      },
      "execution_count": null,
      "outputs": [
        {
          "output_type": "execute_result",
          "data": {
            "text/plain": [
              "tensor([[  0,   0,   0,   0,   0,   0,   0,   0,   0,   0,   0,   0,   0,   0,   0,   0,   0,   0,   0,   0,   0,   0,   0,   0,   0,   0,   0,   0],\n",
              "        [  0,   0,   0,   0,   0,   0,   0,   0,   0,   0,   0,   0,   0,   0,   0,   0,   0,   0,   0,   0,   0,   0,   0,   0,   0,   0,   0,   0],\n",
              "        [  0,   0,   0,   0,   0,   0,   0,   0,   0,   0,   0,   0,   0,   0,   0,   0,   0,   0,   0,   0,   0,   0,   0,   0,   0,   0,   0,   0],\n",
              "        [  0,   0,   0,   0,   0,   0,   0,   0,   0,   0,   0,   0,   0,   0,   0,   0,   0,   0,   0,   0,   0,   0,   0,   0,   0,   0,   0,   0],\n",
              "        [  0,   0,   0,   0,   0,   0, 151, 255, 254, 254, 198, 158, 128,  63,  36,   0,   0,   0,   0,   0,   0,   0,   0,   0,   0,   0,   0,   0],\n",
              "        [  0,   0,   0,   0,   0,   0,  94, 242, 254, 254, 254, 254, 254, 254, 239, 155,  20,   0,   0,   0,   0,   0,   0,   0,   0,   0,   0,   0],\n",
              "        [  0,   0,   0,   0,   0,   0,   0,  41,  67,  67,  67,  67, 133, 179, 254, 254, 201,  19,   0,   0,   0,   0,   0,   0,   0,   0,   0,   0],\n",
              "        [  0,   0,   0,   0,   0,   0,   0,   0,   0,   0,   0,   0,   0,   1,  55, 254, 254,  52,   0,   0,   0,   0,   0,   0,   0,   0,   0,   0],\n",
              "        [  0,   0,   0,   0,   0,   0,   0,   0,   0,   0,   0,   0,   0,   0,  15, 254, 254,  52,   0,   0,   0,   0,   0,   0,   0,   0,   0,   0],\n",
              "        [  0,   0,   0,   0,   0,   0,   0,   0,   0,   0,   0,   0,   0,   0,  84, 254, 254,  52,   0,   0,   0,   0,   0,   0,   0,   0,   0,   0],\n",
              "        [  0,   0,   0,   0,   0,   0,   0,   0,   0,   0,   0,   0,   0,  69, 231, 254, 208,  22,   0,   0,   0,   0,   0,   0,   0,   0,   0,   0],\n",
              "        [  0,   0,   0,   0,   0,   0,   0,   0,   0,   0,  12,  63, 146, 251, 252, 205,  27,   0,   0,   0,   0,   0,   0,   0,   0,   0,   0,   0],\n",
              "        [  0,   0,   0,   0,   0,   0,   0,   0,  48, 178, 222, 254, 254, 254, 244,  58,   0,   0,   0,   0,   0,   0,   0,   0,   0,   0,   0,   0],\n",
              "        [  0,   0,   0,   0,   0,   0,   0,   0,  66, 254, 225, 246, 254, 254, 254, 249, 224, 105,  17,   0,   0,   0,   0,   0,   0,   0,   0,   0],\n",
              "        [  0,   0,   0,   0,   0,   0,   0,   0,   5,  48,  20,  40,  48,  66, 143, 172, 247, 254, 195,  52,   0,   0,   0,   0,   0,   0,   0,   0],\n",
              "        [  0,   0,   0,   0,   0,   0,   0,   0,   0,   0,   0,   0,   0,   0,   0,   0,  45, 189, 254, 196,  18,   0,   0,   0,   0,   0,   0,   0],\n",
              "        [  0,   0,   0,   0,   0,   0,   0,   0,   0,   0,   0,   0,   0,   0,   0,   0,   0,  12, 206, 254, 110,   0,   0,   0,   0,   0,   0,   0],\n",
              "        [  0,   0,   0,   0,   0,   0,   0,   0,   0,   0,   0,   0,   0,   0,   0,   0,   0,   0,  92, 254, 229,   0,   0,   0,   0,   0,   0,   0],\n",
              "        [  0,   0,   0,   0,   0,   0,   0,   0,   0,   0,   0,   0,   0,   0,   0,   0,   0,   0,  25, 238, 250,  26,   0,   0,   0,   0,   0,   0],\n",
              "        [  0,   0,   0,   0,   0,   0,   0, 190, 230, 161,  42,  39,  27,   0,   0,   0,   0,   0,  66, 251, 249,   9,   0,   0,   0,   0,   0,   0],\n",
              "        [  0,   0,   0,   0,   0,   0,   0, 248, 254, 254, 254, 254, 204,  47,   5,   0,   0,   0, 111, 254, 210,   0,   0,   0,   0,   0,   0,   0],\n",
              "        [  0,   0,   0,   0,   0,   0,   0,  77, 218, 254, 254, 254, 254, 254, 248, 163, 163, 163, 223, 254, 152,   0,   0,   0,   0,   0,   0,   0],\n",
              "        [  0,   0,   0,   0,   0,   0,   0,   0,  14,  28,  28, 116, 220, 252, 254, 254, 254, 254, 254, 248,  60,   0,   0,   0,   0,   0,   0,   0],\n",
              "        [  0,   0,   0,   0,   0,   0,   0,   0,   0,   0,   0,   0,   0,  77, 199, 254, 254, 254, 190,  62,   0,   0,   0,   0,   0,   0,   0,   0],\n",
              "        [  0,   0,   0,   0,   0,   0,   0,   0,   0,   0,   0,   0,   0,   0,   0,   0,   0,   0,   0,   0,   0,   0,   0,   0,   0,   0,   0,   0],\n",
              "        [  0,   0,   0,   0,   0,   0,   0,   0,   0,   0,   0,   0,   0,   0,   0,   0,   0,   0,   0,   0,   0,   0,   0,   0,   0,   0,   0,   0],\n",
              "        [  0,   0,   0,   0,   0,   0,   0,   0,   0,   0,   0,   0,   0,   0,   0,   0,   0,   0,   0,   0,   0,   0,   0,   0,   0,   0,   0,   0],\n",
              "        [  0,   0,   0,   0,   0,   0,   0,   0,   0,   0,   0,   0,   0,   0,   0,   0,   0,   0,   0,   0,   0,   0,   0,   0,   0,   0,   0,   0]], dtype=torch.uint8)"
            ]
          },
          "metadata": {},
          "execution_count": 17
        }
      ]
    },
    {
      "cell_type": "code",
      "source": [
        "df = pd.DataFrame(im3_t[4:10, 4:22])"
      ],
      "metadata": {
        "id": "Ud78qOJnht7P"
      },
      "execution_count": null,
      "outputs": []
    },
    {
      "cell_type": "code",
      "source": [
        "sevens_tensors = [tensor(Image.open(o)) for o in sevens]"
      ],
      "metadata": {
        "id": "Q3H0yEAhh3Ot"
      },
      "execution_count": null,
      "outputs": []
    },
    {
      "cell_type": "code",
      "source": [
        "im7_t = sevens_tensors[0]"
      ],
      "metadata": {
        "id": "ebQy5OHTiGq-"
      },
      "execution_count": null,
      "outputs": []
    },
    {
      "cell_type": "code",
      "source": [
        "im7_t"
      ],
      "metadata": {
        "id": "ESKGp0UdiLH6",
        "colab": {
          "base_uri": "https://localhost:8080/"
        },
        "outputId": "19c627fa-f365-4937-9613-e882ef0b87f8"
      },
      "execution_count": null,
      "outputs": [
        {
          "output_type": "execute_result",
          "data": {
            "text/plain": [
              "tensor([[  0,   0,   0,   0,   0,   0,   0,   0,   0,   0,   0,   0,   0,   0,   0,   0,   0,   0,   0,   0,   0,   0,   0,   0,   0,   0,   0,   0],\n",
              "        [  0,   0,   0,   0,   0,   0,   0,   0,   0,   0,   0,   0,   0,   0,   0,   0,   0,   0,   0,   0,   0,   0,   0,   0,   0,   0,   0,   0],\n",
              "        [  0,   0,   0,   0,   0,   0,   0,   0,   0,   0,   0,   0,   0,   0,   0,   0,   0,   0,   0,   0,   0,   0,   0,   0,   0,   0,   0,   0],\n",
              "        [  0,   0,   0,   0,   0,   0,   0,   0,   0,   0,   0,   0,   0,   0,   0,   0,   0,   0,   0,   0,   0,   0,   0,   0,   0,   0,   0,   0],\n",
              "        [  0,   0,   0,   0,   0,   0,   0,   0,   0,   0,   0,   0,   0,   0,   0,   0,   0,   0,   0,   0,   0,   0,   0,   0,   0,   0,   0,   0],\n",
              "        [  0,   0,   0,   0,   0,   0,   0,   0,   0,   0,   0,   0,   0,   0,   0,   0,   0,   0,   0,   0,   0,   0,   0,   0,   0,   0,   0,   0],\n",
              "        [  0,   0,   0,   0,   0,   0,   0,   0,   0,   0,   0,   0,   0,   0,   0,   0,   0,   0,   0,   0,   0,   0,   0,   0,   0,   0,   0,   0],\n",
              "        [  0,   0,   0,   0,   0,   0,   0,   0,   0,   0,   0,   0,   0,   0,   0,   0,   0,   0,   0,   0,   0,   0,   0,   0,   0,   0,   0,   0],\n",
              "        [  0,   0, 188, 255, 254, 201, 174, 254, 254, 214, 125, 125, 125, 125, 191, 144, 254, 241, 125, 125, 125,  61,   0,   0,   0,   0,   0,   0],\n",
              "        [  0,   0, 255, 253, 253, 253, 253, 253, 253, 253, 253, 253, 253, 253, 253, 253, 253, 253, 253, 253, 253, 190,   0,   0,   0,   0,   0,   0],\n",
              "        [  0,   0, 254, 253, 253, 253, 253, 253, 253, 253, 253, 253, 253, 253, 253, 253, 253, 253, 253, 253, 253, 247,   0,   0,   0,   0,   0,   0],\n",
              "        [  0,   0,  83, 149, 149, 149, 149, 149, 149, 149, 149, 203, 149, 149, 149, 149,  65,  19, 157, 253, 253, 253,   0,   0,   0,   0,   0,   0],\n",
              "        [  0,   0,   0,   0,   0,   0,   0,   0,   0,   0,   0,  13,   0,   0,   0,   0,   0,  11, 190, 253, 253, 253,   0,   0,   0,   0,   0,   0],\n",
              "        [  0,   0,   0,   0,   0,   0,   0,   0,   0,   0,   0,   0,   0,   0,   0,   0,   0,  74, 253, 253, 253, 139,   0,   0,   0,   0,   0,   0],\n",
              "        [  0,   0,   0,   0,   0,   0,   0,   0,   0,   0,   0,   0,   0,   0,   0,   0,   0, 156, 253, 253, 251,  82,   0,   0,   0,   0,   0,   0],\n",
              "        [  0,   0,   0,   0,   0,   0,   0,   0,   0,   0,   0,   0,   0,   0,   0,   0,  11, 186, 253, 253, 139,   0,   0,   0,   0,   0,   0,   0],\n",
              "        [  0,   0,   0,   0,   0,   0,   0,   0,   0,   0,   0,   0,   0,   0,   0,   0,  70, 253, 253, 253, 117,   0,   0,   0,   0,   0,   0,   0],\n",
              "        [  0,   0,   0,   0,   0,   0,   0,   0,   0,   0,   0,   0,   0,   0,   0,  31, 233, 253, 253, 209,  27,   0,   0,   0,   0,   0,   0,   0],\n",
              "        [  0,   0,   0,   0,   0,   0,   0,   0,   0,   0,   0,   0,   0,   0,   0,  70, 253, 253, 249,  85,   0,   0,   0,   0,   0,   0,   0,   0],\n",
              "        [  0,   0,   0,   0,   0,   0,   0,   0,   0,   0,   0,   0,   0,   0,  60, 230, 253, 253, 234,   0,   0,   0,   0,   0,   0,   0,   0,   0],\n",
              "        [  0,   0,   0,   0,   0,   0,   0,   0,   0,   0,   0,   0,   0,   0, 176, 253, 253, 248, 125,   0,   0,   0,   0,   0,   0,   0,   0,   0],\n",
              "        [  0,   0,   0,   0,   0,   0,   0,   0,   0,   0,   0,   0,   0,  36, 228, 253, 253, 139,   0,   0,   0,   0,   0,   0,   0,   0,   0,   0],\n",
              "        [  0,   0,   0,   0,   0,   0,   0,   0,   0,   0,   0,   0,   8, 145, 253, 253, 232,  35,   0,   0,   0,   0,   0,   0,   0,   0,   0,   0],\n",
              "        [  0,   0,   0,   0,   0,   0,   0,   0,   0,   0,   0,   0,  59, 253, 253, 253, 207,   0,   0,   0,   0,   0,   0,   0,   0,   0,   0,   0],\n",
              "        [  0,   0,   0,   0,   0,   0,   0,   0,   0,   0,   0,   0,  69, 253, 253, 230,  37,   0,   0,   0,   0,   0,   0,   0,   0,   0,   0,   0],\n",
              "        [  0,   0,   0,   0,   0,   0,   0,   0,   0,   0,   0,   0, 189, 253, 253, 207,   0,   0,   0,   0,   0,   0,   0,   0,   0,   0,   0,   0],\n",
              "        [  0,   0,   0,   0,   0,   0,   0,   0,   0,   0,   0,   0, 119, 253, 225,  39,   0,   0,   0,   0,   0,   0,   0,   0,   0,   0,   0,   0],\n",
              "        [  0,   0,   0,   0,   0,   0,   0,   0,   0,   0,   0,   0,  29, 123,  38,   0,   0,   0,   0,   0,   0,   0,   0,   0,   0,   0,   0,   0]], dtype=torch.uint8)"
            ]
          },
          "metadata": {},
          "execution_count": 21
        }
      ]
    },
    {
      "cell_type": "code",
      "source": [
        "df = pd.DataFrame(im7_t[10:20,7:27])"
      ],
      "metadata": {
        "id": "YRnsRXC9iMvg"
      },
      "execution_count": null,
      "outputs": []
    },
    {
      "cell_type": "code",
      "source": [
        "#We color code our tensor images\n",
        "df.style.set_properties(**{'font - size':'6pt'}).background_gradient('Greys')"
      ],
      "metadata": {
        "colab": {
          "base_uri": "https://localhost:8080/",
          "height": 363
        },
        "id": "bRPIj-rjiTpc",
        "outputId": "fc3317d6-4f34-412e-d607-b1195bf9f9ef"
      },
      "execution_count": null,
      "outputs": [
        {
          "output_type": "execute_result",
          "data": {
            "text/html": [
              "<style type=\"text/css\">\n",
              "#T_93df6_row0_col0, #T_93df6_row0_col1, #T_93df6_row0_col2, #T_93df6_row0_col3, #T_93df6_row0_col4, #T_93df6_row0_col5, #T_93df6_row0_col6, #T_93df6_row0_col7, #T_93df6_row0_col8, #T_93df6_row0_col9, #T_93df6_row0_col10, #T_93df6_row0_col11, #T_93df6_row0_col12, #T_93df6_row0_col13, #T_93df6_row1_col12, #T_93df6_row1_col13, #T_93df6_row1_col14, #T_93df6_row2_col12, #T_93df6_row2_col13, #T_93df6_row2_col14, #T_93df6_row3_col11, #T_93df6_row3_col12, #T_93df6_row3_col13, #T_93df6_row4_col11, #T_93df6_row4_col12, #T_93df6_row5_col11, #T_93df6_row5_col12, #T_93df6_row6_col10, #T_93df6_row6_col11, #T_93df6_row6_col12, #T_93df6_row7_col10, #T_93df6_row7_col11, #T_93df6_row8_col9, #T_93df6_row8_col10, #T_93df6_row9_col9, #T_93df6_row9_col10 {\n",
              "  font - size: 6pt;\n",
              "  background-color: #000000;\n",
              "  color: #f1f1f1;\n",
              "}\n",
              "#T_93df6_row0_col14 {\n",
              "  font - size: 6pt;\n",
              "  background-color: #070707;\n",
              "  color: #f1f1f1;\n",
              "}\n",
              "#T_93df6_row0_col15, #T_93df6_row0_col16, #T_93df6_row0_col17, #T_93df6_row0_col18, #T_93df6_row0_col19, #T_93df6_row1_col11, #T_93df6_row1_col15, #T_93df6_row1_col16, #T_93df6_row1_col17, #T_93df6_row1_col18, #T_93df6_row1_col19, #T_93df6_row2_col0, #T_93df6_row2_col1, #T_93df6_row2_col2, #T_93df6_row2_col3, #T_93df6_row2_col5, #T_93df6_row2_col6, #T_93df6_row2_col7, #T_93df6_row2_col8, #T_93df6_row2_col9, #T_93df6_row2_col10, #T_93df6_row2_col15, #T_93df6_row2_col16, #T_93df6_row2_col17, #T_93df6_row2_col18, #T_93df6_row2_col19, #T_93df6_row3_col0, #T_93df6_row3_col1, #T_93df6_row3_col2, #T_93df6_row3_col3, #T_93df6_row3_col4, #T_93df6_row3_col5, #T_93df6_row3_col6, #T_93df6_row3_col7, #T_93df6_row3_col8, #T_93df6_row3_col9, #T_93df6_row3_col15, #T_93df6_row3_col16, #T_93df6_row3_col17, #T_93df6_row3_col18, #T_93df6_row3_col19, #T_93df6_row4_col0, #T_93df6_row4_col1, #T_93df6_row4_col2, #T_93df6_row4_col3, #T_93df6_row4_col4, #T_93df6_row4_col5, #T_93df6_row4_col6, #T_93df6_row4_col7, #T_93df6_row4_col8, #T_93df6_row4_col9, #T_93df6_row4_col15, #T_93df6_row4_col16, #T_93df6_row4_col17, #T_93df6_row4_col18, #T_93df6_row4_col19, #T_93df6_row5_col0, #T_93df6_row5_col1, #T_93df6_row5_col2, #T_93df6_row5_col3, #T_93df6_row5_col4, #T_93df6_row5_col5, #T_93df6_row5_col6, #T_93df6_row5_col7, #T_93df6_row5_col8, #T_93df6_row5_col14, #T_93df6_row5_col15, #T_93df6_row5_col16, #T_93df6_row5_col17, #T_93df6_row5_col18, #T_93df6_row5_col19, #T_93df6_row6_col0, #T_93df6_row6_col1, #T_93df6_row6_col2, #T_93df6_row6_col3, #T_93df6_row6_col4, #T_93df6_row6_col5, #T_93df6_row6_col6, #T_93df6_row6_col7, #T_93df6_row6_col8, #T_93df6_row6_col14, #T_93df6_row6_col15, #T_93df6_row6_col16, #T_93df6_row6_col17, #T_93df6_row6_col18, #T_93df6_row6_col19, #T_93df6_row7_col0, #T_93df6_row7_col1, #T_93df6_row7_col2, #T_93df6_row7_col3, #T_93df6_row7_col4, #T_93df6_row7_col5, #T_93df6_row7_col6, #T_93df6_row7_col7, #T_93df6_row7_col14, #T_93df6_row7_col15, #T_93df6_row7_col16, #T_93df6_row7_col17, #T_93df6_row7_col18, #T_93df6_row7_col19, #T_93df6_row8_col0, #T_93df6_row8_col1, #T_93df6_row8_col2, #T_93df6_row8_col3, #T_93df6_row8_col4, #T_93df6_row8_col5, #T_93df6_row8_col6, #T_93df6_row8_col7, #T_93df6_row8_col13, #T_93df6_row8_col14, #T_93df6_row8_col15, #T_93df6_row8_col16, #T_93df6_row8_col17, #T_93df6_row8_col18, #T_93df6_row8_col19, #T_93df6_row9_col0, #T_93df6_row9_col1, #T_93df6_row9_col2, #T_93df6_row9_col3, #T_93df6_row9_col4, #T_93df6_row9_col5, #T_93df6_row9_col6, #T_93df6_row9_col12, #T_93df6_row9_col13, #T_93df6_row9_col14, #T_93df6_row9_col15, #T_93df6_row9_col16, #T_93df6_row9_col17, #T_93df6_row9_col18, #T_93df6_row9_col19 {\n",
              "  font - size: 6pt;\n",
              "  background-color: #ffffff;\n",
              "  color: #000000;\n",
              "}\n",
              "#T_93df6_row1_col0, #T_93df6_row1_col1, #T_93df6_row1_col2, #T_93df6_row1_col3, #T_93df6_row1_col5, #T_93df6_row1_col6, #T_93df6_row1_col7, #T_93df6_row1_col8 {\n",
              "  font - size: 6pt;\n",
              "  background-color: #7d7d7d;\n",
              "  color: #f1f1f1;\n",
              "}\n",
              "#T_93df6_row1_col4, #T_93df6_row9_col11 {\n",
              "  font - size: 6pt;\n",
              "  background-color: #3f3f3f;\n",
              "  color: #f1f1f1;\n",
              "}\n",
              "#T_93df6_row1_col9 {\n",
              "  font - size: 6pt;\n",
              "  background-color: #d8d8d8;\n",
              "  color: #000000;\n",
              "}\n",
              "#T_93df6_row1_col10 {\n",
              "  font - size: 6pt;\n",
              "  background-color: #fbfbfb;\n",
              "  color: #000000;\n",
              "}\n",
              "#T_93df6_row2_col4 {\n",
              "  font - size: 6pt;\n",
              "  background-color: #f9f9f9;\n",
              "  color: #000000;\n",
              "}\n",
              "#T_93df6_row2_col11 {\n",
              "  font - size: 6pt;\n",
              "  background-color: #c4c4c4;\n",
              "  color: #000000;\n",
              "}\n",
              "#T_93df6_row3_col10 {\n",
              "  font - size: 6pt;\n",
              "  background-color: #d7d7d7;\n",
              "  color: #000000;\n",
              "}\n",
              "#T_93df6_row3_col14, #T_93df6_row5_col13 {\n",
              "  font - size: 6pt;\n",
              "  background-color: #888888;\n",
              "  color: #f1f1f1;\n",
              "}\n",
              "#T_93df6_row4_col10 {\n",
              "  font - size: 6pt;\n",
              "  background-color: #7a7a7a;\n",
              "  color: #f1f1f1;\n",
              "}\n",
              "#T_93df6_row4_col13 {\n",
              "  font - size: 6pt;\n",
              "  background-color: #020202;\n",
              "  color: #f1f1f1;\n",
              "}\n",
              "#T_93df6_row4_col14 {\n",
              "  font - size: 6pt;\n",
              "  background-color: #c9c9c9;\n",
              "  color: #000000;\n",
              "}\n",
              "#T_93df6_row5_col9 {\n",
              "  font - size: 6pt;\n",
              "  background-color: #fafafa;\n",
              "  color: #000000;\n",
              "}\n",
              "#T_93df6_row5_col10 {\n",
              "  font - size: 6pt;\n",
              "  background-color: #585858;\n",
              "  color: #f1f1f1;\n",
              "}\n",
              "#T_93df6_row6_col9, #T_93df6_row8_col8 {\n",
              "  font - size: 6pt;\n",
              "  background-color: #d4d4d4;\n",
              "  color: #000000;\n",
              "}\n",
              "#T_93df6_row6_col13 {\n",
              "  font - size: 6pt;\n",
              "  background-color: #a2a2a2;\n",
              "  color: #f1f1f1;\n",
              "}\n",
              "#T_93df6_row7_col8 {\n",
              "  font - size: 6pt;\n",
              "  background-color: #f0f0f0;\n",
              "  color: #000000;\n",
              "}\n",
              "#T_93df6_row7_col9 {\n",
              "  font - size: 6pt;\n",
              "  background-color: #171717;\n",
              "  color: #f1f1f1;\n",
              "}\n",
              "#T_93df6_row7_col12 {\n",
              "  font - size: 6pt;\n",
              "  background-color: #363636;\n",
              "  color: #f1f1f1;\n",
              "}\n",
              "#T_93df6_row7_col13 {\n",
              "  font - size: 6pt;\n",
              "  background-color: #f2f2f2;\n",
              "  color: #000000;\n",
              "}\n",
              "#T_93df6_row8_col11 {\n",
              "  font - size: 6pt;\n",
              "  background-color: #0c0c0c;\n",
              "  color: #f1f1f1;\n",
              "}\n",
              "#T_93df6_row8_col12 {\n",
              "  font - size: 6pt;\n",
              "  background-color: #c5c5c5;\n",
              "  color: #000000;\n",
              "}\n",
              "#T_93df6_row9_col7 {\n",
              "  font - size: 6pt;\n",
              "  background-color: #dcdcdc;\n",
              "  color: #000000;\n",
              "}\n",
              "#T_93df6_row9_col8 {\n",
              "  font - size: 6pt;\n",
              "  background-color: #1b1b1b;\n",
              "  color: #f1f1f1;\n",
              "}\n",
              "</style>\n",
              "<table id=\"T_93df6_\" class=\"dataframe\">\n",
              "  <thead>\n",
              "    <tr>\n",
              "      <th class=\"blank level0\" >&nbsp;</th>\n",
              "      <th class=\"col_heading level0 col0\" >0</th>\n",
              "      <th class=\"col_heading level0 col1\" >1</th>\n",
              "      <th class=\"col_heading level0 col2\" >2</th>\n",
              "      <th class=\"col_heading level0 col3\" >3</th>\n",
              "      <th class=\"col_heading level0 col4\" >4</th>\n",
              "      <th class=\"col_heading level0 col5\" >5</th>\n",
              "      <th class=\"col_heading level0 col6\" >6</th>\n",
              "      <th class=\"col_heading level0 col7\" >7</th>\n",
              "      <th class=\"col_heading level0 col8\" >8</th>\n",
              "      <th class=\"col_heading level0 col9\" >9</th>\n",
              "      <th class=\"col_heading level0 col10\" >10</th>\n",
              "      <th class=\"col_heading level0 col11\" >11</th>\n",
              "      <th class=\"col_heading level0 col12\" >12</th>\n",
              "      <th class=\"col_heading level0 col13\" >13</th>\n",
              "      <th class=\"col_heading level0 col14\" >14</th>\n",
              "      <th class=\"col_heading level0 col15\" >15</th>\n",
              "      <th class=\"col_heading level0 col16\" >16</th>\n",
              "      <th class=\"col_heading level0 col17\" >17</th>\n",
              "      <th class=\"col_heading level0 col18\" >18</th>\n",
              "      <th class=\"col_heading level0 col19\" >19</th>\n",
              "    </tr>\n",
              "  </thead>\n",
              "  <tbody>\n",
              "    <tr>\n",
              "      <th id=\"T_93df6_level0_row0\" class=\"row_heading level0 row0\" >0</th>\n",
              "      <td id=\"T_93df6_row0_col0\" class=\"data row0 col0\" >253</td>\n",
              "      <td id=\"T_93df6_row0_col1\" class=\"data row0 col1\" >253</td>\n",
              "      <td id=\"T_93df6_row0_col2\" class=\"data row0 col2\" >253</td>\n",
              "      <td id=\"T_93df6_row0_col3\" class=\"data row0 col3\" >253</td>\n",
              "      <td id=\"T_93df6_row0_col4\" class=\"data row0 col4\" >253</td>\n",
              "      <td id=\"T_93df6_row0_col5\" class=\"data row0 col5\" >253</td>\n",
              "      <td id=\"T_93df6_row0_col6\" class=\"data row0 col6\" >253</td>\n",
              "      <td id=\"T_93df6_row0_col7\" class=\"data row0 col7\" >253</td>\n",
              "      <td id=\"T_93df6_row0_col8\" class=\"data row0 col8\" >253</td>\n",
              "      <td id=\"T_93df6_row0_col9\" class=\"data row0 col9\" >253</td>\n",
              "      <td id=\"T_93df6_row0_col10\" class=\"data row0 col10\" >253</td>\n",
              "      <td id=\"T_93df6_row0_col11\" class=\"data row0 col11\" >253</td>\n",
              "      <td id=\"T_93df6_row0_col12\" class=\"data row0 col12\" >253</td>\n",
              "      <td id=\"T_93df6_row0_col13\" class=\"data row0 col13\" >253</td>\n",
              "      <td id=\"T_93df6_row0_col14\" class=\"data row0 col14\" >247</td>\n",
              "      <td id=\"T_93df6_row0_col15\" class=\"data row0 col15\" >0</td>\n",
              "      <td id=\"T_93df6_row0_col16\" class=\"data row0 col16\" >0</td>\n",
              "      <td id=\"T_93df6_row0_col17\" class=\"data row0 col17\" >0</td>\n",
              "      <td id=\"T_93df6_row0_col18\" class=\"data row0 col18\" >0</td>\n",
              "      <td id=\"T_93df6_row0_col19\" class=\"data row0 col19\" >0</td>\n",
              "    </tr>\n",
              "    <tr>\n",
              "      <th id=\"T_93df6_level0_row1\" class=\"row_heading level0 row1\" >1</th>\n",
              "      <td id=\"T_93df6_row1_col0\" class=\"data row1 col0\" >149</td>\n",
              "      <td id=\"T_93df6_row1_col1\" class=\"data row1 col1\" >149</td>\n",
              "      <td id=\"T_93df6_row1_col2\" class=\"data row1 col2\" >149</td>\n",
              "      <td id=\"T_93df6_row1_col3\" class=\"data row1 col3\" >149</td>\n",
              "      <td id=\"T_93df6_row1_col4\" class=\"data row1 col4\" >203</td>\n",
              "      <td id=\"T_93df6_row1_col5\" class=\"data row1 col5\" >149</td>\n",
              "      <td id=\"T_93df6_row1_col6\" class=\"data row1 col6\" >149</td>\n",
              "      <td id=\"T_93df6_row1_col7\" class=\"data row1 col7\" >149</td>\n",
              "      <td id=\"T_93df6_row1_col8\" class=\"data row1 col8\" >149</td>\n",
              "      <td id=\"T_93df6_row1_col9\" class=\"data row1 col9\" >65</td>\n",
              "      <td id=\"T_93df6_row1_col10\" class=\"data row1 col10\" >19</td>\n",
              "      <td id=\"T_93df6_row1_col11\" class=\"data row1 col11\" >157</td>\n",
              "      <td id=\"T_93df6_row1_col12\" class=\"data row1 col12\" >253</td>\n",
              "      <td id=\"T_93df6_row1_col13\" class=\"data row1 col13\" >253</td>\n",
              "      <td id=\"T_93df6_row1_col14\" class=\"data row1 col14\" >253</td>\n",
              "      <td id=\"T_93df6_row1_col15\" class=\"data row1 col15\" >0</td>\n",
              "      <td id=\"T_93df6_row1_col16\" class=\"data row1 col16\" >0</td>\n",
              "      <td id=\"T_93df6_row1_col17\" class=\"data row1 col17\" >0</td>\n",
              "      <td id=\"T_93df6_row1_col18\" class=\"data row1 col18\" >0</td>\n",
              "      <td id=\"T_93df6_row1_col19\" class=\"data row1 col19\" >0</td>\n",
              "    </tr>\n",
              "    <tr>\n",
              "      <th id=\"T_93df6_level0_row2\" class=\"row_heading level0 row2\" >2</th>\n",
              "      <td id=\"T_93df6_row2_col0\" class=\"data row2 col0\" >0</td>\n",
              "      <td id=\"T_93df6_row2_col1\" class=\"data row2 col1\" >0</td>\n",
              "      <td id=\"T_93df6_row2_col2\" class=\"data row2 col2\" >0</td>\n",
              "      <td id=\"T_93df6_row2_col3\" class=\"data row2 col3\" >0</td>\n",
              "      <td id=\"T_93df6_row2_col4\" class=\"data row2 col4\" >13</td>\n",
              "      <td id=\"T_93df6_row2_col5\" class=\"data row2 col5\" >0</td>\n",
              "      <td id=\"T_93df6_row2_col6\" class=\"data row2 col6\" >0</td>\n",
              "      <td id=\"T_93df6_row2_col7\" class=\"data row2 col7\" >0</td>\n",
              "      <td id=\"T_93df6_row2_col8\" class=\"data row2 col8\" >0</td>\n",
              "      <td id=\"T_93df6_row2_col9\" class=\"data row2 col9\" >0</td>\n",
              "      <td id=\"T_93df6_row2_col10\" class=\"data row2 col10\" >11</td>\n",
              "      <td id=\"T_93df6_row2_col11\" class=\"data row2 col11\" >190</td>\n",
              "      <td id=\"T_93df6_row2_col12\" class=\"data row2 col12\" >253</td>\n",
              "      <td id=\"T_93df6_row2_col13\" class=\"data row2 col13\" >253</td>\n",
              "      <td id=\"T_93df6_row2_col14\" class=\"data row2 col14\" >253</td>\n",
              "      <td id=\"T_93df6_row2_col15\" class=\"data row2 col15\" >0</td>\n",
              "      <td id=\"T_93df6_row2_col16\" class=\"data row2 col16\" >0</td>\n",
              "      <td id=\"T_93df6_row2_col17\" class=\"data row2 col17\" >0</td>\n",
              "      <td id=\"T_93df6_row2_col18\" class=\"data row2 col18\" >0</td>\n",
              "      <td id=\"T_93df6_row2_col19\" class=\"data row2 col19\" >0</td>\n",
              "    </tr>\n",
              "    <tr>\n",
              "      <th id=\"T_93df6_level0_row3\" class=\"row_heading level0 row3\" >3</th>\n",
              "      <td id=\"T_93df6_row3_col0\" class=\"data row3 col0\" >0</td>\n",
              "      <td id=\"T_93df6_row3_col1\" class=\"data row3 col1\" >0</td>\n",
              "      <td id=\"T_93df6_row3_col2\" class=\"data row3 col2\" >0</td>\n",
              "      <td id=\"T_93df6_row3_col3\" class=\"data row3 col3\" >0</td>\n",
              "      <td id=\"T_93df6_row3_col4\" class=\"data row3 col4\" >0</td>\n",
              "      <td id=\"T_93df6_row3_col5\" class=\"data row3 col5\" >0</td>\n",
              "      <td id=\"T_93df6_row3_col6\" class=\"data row3 col6\" >0</td>\n",
              "      <td id=\"T_93df6_row3_col7\" class=\"data row3 col7\" >0</td>\n",
              "      <td id=\"T_93df6_row3_col8\" class=\"data row3 col8\" >0</td>\n",
              "      <td id=\"T_93df6_row3_col9\" class=\"data row3 col9\" >0</td>\n",
              "      <td id=\"T_93df6_row3_col10\" class=\"data row3 col10\" >74</td>\n",
              "      <td id=\"T_93df6_row3_col11\" class=\"data row3 col11\" >253</td>\n",
              "      <td id=\"T_93df6_row3_col12\" class=\"data row3 col12\" >253</td>\n",
              "      <td id=\"T_93df6_row3_col13\" class=\"data row3 col13\" >253</td>\n",
              "      <td id=\"T_93df6_row3_col14\" class=\"data row3 col14\" >139</td>\n",
              "      <td id=\"T_93df6_row3_col15\" class=\"data row3 col15\" >0</td>\n",
              "      <td id=\"T_93df6_row3_col16\" class=\"data row3 col16\" >0</td>\n",
              "      <td id=\"T_93df6_row3_col17\" class=\"data row3 col17\" >0</td>\n",
              "      <td id=\"T_93df6_row3_col18\" class=\"data row3 col18\" >0</td>\n",
              "      <td id=\"T_93df6_row3_col19\" class=\"data row3 col19\" >0</td>\n",
              "    </tr>\n",
              "    <tr>\n",
              "      <th id=\"T_93df6_level0_row4\" class=\"row_heading level0 row4\" >4</th>\n",
              "      <td id=\"T_93df6_row4_col0\" class=\"data row4 col0\" >0</td>\n",
              "      <td id=\"T_93df6_row4_col1\" class=\"data row4 col1\" >0</td>\n",
              "      <td id=\"T_93df6_row4_col2\" class=\"data row4 col2\" >0</td>\n",
              "      <td id=\"T_93df6_row4_col3\" class=\"data row4 col3\" >0</td>\n",
              "      <td id=\"T_93df6_row4_col4\" class=\"data row4 col4\" >0</td>\n",
              "      <td id=\"T_93df6_row4_col5\" class=\"data row4 col5\" >0</td>\n",
              "      <td id=\"T_93df6_row4_col6\" class=\"data row4 col6\" >0</td>\n",
              "      <td id=\"T_93df6_row4_col7\" class=\"data row4 col7\" >0</td>\n",
              "      <td id=\"T_93df6_row4_col8\" class=\"data row4 col8\" >0</td>\n",
              "      <td id=\"T_93df6_row4_col9\" class=\"data row4 col9\" >0</td>\n",
              "      <td id=\"T_93df6_row4_col10\" class=\"data row4 col10\" >156</td>\n",
              "      <td id=\"T_93df6_row4_col11\" class=\"data row4 col11\" >253</td>\n",
              "      <td id=\"T_93df6_row4_col12\" class=\"data row4 col12\" >253</td>\n",
              "      <td id=\"T_93df6_row4_col13\" class=\"data row4 col13\" >251</td>\n",
              "      <td id=\"T_93df6_row4_col14\" class=\"data row4 col14\" >82</td>\n",
              "      <td id=\"T_93df6_row4_col15\" class=\"data row4 col15\" >0</td>\n",
              "      <td id=\"T_93df6_row4_col16\" class=\"data row4 col16\" >0</td>\n",
              "      <td id=\"T_93df6_row4_col17\" class=\"data row4 col17\" >0</td>\n",
              "      <td id=\"T_93df6_row4_col18\" class=\"data row4 col18\" >0</td>\n",
              "      <td id=\"T_93df6_row4_col19\" class=\"data row4 col19\" >0</td>\n",
              "    </tr>\n",
              "    <tr>\n",
              "      <th id=\"T_93df6_level0_row5\" class=\"row_heading level0 row5\" >5</th>\n",
              "      <td id=\"T_93df6_row5_col0\" class=\"data row5 col0\" >0</td>\n",
              "      <td id=\"T_93df6_row5_col1\" class=\"data row5 col1\" >0</td>\n",
              "      <td id=\"T_93df6_row5_col2\" class=\"data row5 col2\" >0</td>\n",
              "      <td id=\"T_93df6_row5_col3\" class=\"data row5 col3\" >0</td>\n",
              "      <td id=\"T_93df6_row5_col4\" class=\"data row5 col4\" >0</td>\n",
              "      <td id=\"T_93df6_row5_col5\" class=\"data row5 col5\" >0</td>\n",
              "      <td id=\"T_93df6_row5_col6\" class=\"data row5 col6\" >0</td>\n",
              "      <td id=\"T_93df6_row5_col7\" class=\"data row5 col7\" >0</td>\n",
              "      <td id=\"T_93df6_row5_col8\" class=\"data row5 col8\" >0</td>\n",
              "      <td id=\"T_93df6_row5_col9\" class=\"data row5 col9\" >11</td>\n",
              "      <td id=\"T_93df6_row5_col10\" class=\"data row5 col10\" >186</td>\n",
              "      <td id=\"T_93df6_row5_col11\" class=\"data row5 col11\" >253</td>\n",
              "      <td id=\"T_93df6_row5_col12\" class=\"data row5 col12\" >253</td>\n",
              "      <td id=\"T_93df6_row5_col13\" class=\"data row5 col13\" >139</td>\n",
              "      <td id=\"T_93df6_row5_col14\" class=\"data row5 col14\" >0</td>\n",
              "      <td id=\"T_93df6_row5_col15\" class=\"data row5 col15\" >0</td>\n",
              "      <td id=\"T_93df6_row5_col16\" class=\"data row5 col16\" >0</td>\n",
              "      <td id=\"T_93df6_row5_col17\" class=\"data row5 col17\" >0</td>\n",
              "      <td id=\"T_93df6_row5_col18\" class=\"data row5 col18\" >0</td>\n",
              "      <td id=\"T_93df6_row5_col19\" class=\"data row5 col19\" >0</td>\n",
              "    </tr>\n",
              "    <tr>\n",
              "      <th id=\"T_93df6_level0_row6\" class=\"row_heading level0 row6\" >6</th>\n",
              "      <td id=\"T_93df6_row6_col0\" class=\"data row6 col0\" >0</td>\n",
              "      <td id=\"T_93df6_row6_col1\" class=\"data row6 col1\" >0</td>\n",
              "      <td id=\"T_93df6_row6_col2\" class=\"data row6 col2\" >0</td>\n",
              "      <td id=\"T_93df6_row6_col3\" class=\"data row6 col3\" >0</td>\n",
              "      <td id=\"T_93df6_row6_col4\" class=\"data row6 col4\" >0</td>\n",
              "      <td id=\"T_93df6_row6_col5\" class=\"data row6 col5\" >0</td>\n",
              "      <td id=\"T_93df6_row6_col6\" class=\"data row6 col6\" >0</td>\n",
              "      <td id=\"T_93df6_row6_col7\" class=\"data row6 col7\" >0</td>\n",
              "      <td id=\"T_93df6_row6_col8\" class=\"data row6 col8\" >0</td>\n",
              "      <td id=\"T_93df6_row6_col9\" class=\"data row6 col9\" >70</td>\n",
              "      <td id=\"T_93df6_row6_col10\" class=\"data row6 col10\" >253</td>\n",
              "      <td id=\"T_93df6_row6_col11\" class=\"data row6 col11\" >253</td>\n",
              "      <td id=\"T_93df6_row6_col12\" class=\"data row6 col12\" >253</td>\n",
              "      <td id=\"T_93df6_row6_col13\" class=\"data row6 col13\" >117</td>\n",
              "      <td id=\"T_93df6_row6_col14\" class=\"data row6 col14\" >0</td>\n",
              "      <td id=\"T_93df6_row6_col15\" class=\"data row6 col15\" >0</td>\n",
              "      <td id=\"T_93df6_row6_col16\" class=\"data row6 col16\" >0</td>\n",
              "      <td id=\"T_93df6_row6_col17\" class=\"data row6 col17\" >0</td>\n",
              "      <td id=\"T_93df6_row6_col18\" class=\"data row6 col18\" >0</td>\n",
              "      <td id=\"T_93df6_row6_col19\" class=\"data row6 col19\" >0</td>\n",
              "    </tr>\n",
              "    <tr>\n",
              "      <th id=\"T_93df6_level0_row7\" class=\"row_heading level0 row7\" >7</th>\n",
              "      <td id=\"T_93df6_row7_col0\" class=\"data row7 col0\" >0</td>\n",
              "      <td id=\"T_93df6_row7_col1\" class=\"data row7 col1\" >0</td>\n",
              "      <td id=\"T_93df6_row7_col2\" class=\"data row7 col2\" >0</td>\n",
              "      <td id=\"T_93df6_row7_col3\" class=\"data row7 col3\" >0</td>\n",
              "      <td id=\"T_93df6_row7_col4\" class=\"data row7 col4\" >0</td>\n",
              "      <td id=\"T_93df6_row7_col5\" class=\"data row7 col5\" >0</td>\n",
              "      <td id=\"T_93df6_row7_col6\" class=\"data row7 col6\" >0</td>\n",
              "      <td id=\"T_93df6_row7_col7\" class=\"data row7 col7\" >0</td>\n",
              "      <td id=\"T_93df6_row7_col8\" class=\"data row7 col8\" >31</td>\n",
              "      <td id=\"T_93df6_row7_col9\" class=\"data row7 col9\" >233</td>\n",
              "      <td id=\"T_93df6_row7_col10\" class=\"data row7 col10\" >253</td>\n",
              "      <td id=\"T_93df6_row7_col11\" class=\"data row7 col11\" >253</td>\n",
              "      <td id=\"T_93df6_row7_col12\" class=\"data row7 col12\" >209</td>\n",
              "      <td id=\"T_93df6_row7_col13\" class=\"data row7 col13\" >27</td>\n",
              "      <td id=\"T_93df6_row7_col14\" class=\"data row7 col14\" >0</td>\n",
              "      <td id=\"T_93df6_row7_col15\" class=\"data row7 col15\" >0</td>\n",
              "      <td id=\"T_93df6_row7_col16\" class=\"data row7 col16\" >0</td>\n",
              "      <td id=\"T_93df6_row7_col17\" class=\"data row7 col17\" >0</td>\n",
              "      <td id=\"T_93df6_row7_col18\" class=\"data row7 col18\" >0</td>\n",
              "      <td id=\"T_93df6_row7_col19\" class=\"data row7 col19\" >0</td>\n",
              "    </tr>\n",
              "    <tr>\n",
              "      <th id=\"T_93df6_level0_row8\" class=\"row_heading level0 row8\" >8</th>\n",
              "      <td id=\"T_93df6_row8_col0\" class=\"data row8 col0\" >0</td>\n",
              "      <td id=\"T_93df6_row8_col1\" class=\"data row8 col1\" >0</td>\n",
              "      <td id=\"T_93df6_row8_col2\" class=\"data row8 col2\" >0</td>\n",
              "      <td id=\"T_93df6_row8_col3\" class=\"data row8 col3\" >0</td>\n",
              "      <td id=\"T_93df6_row8_col4\" class=\"data row8 col4\" >0</td>\n",
              "      <td id=\"T_93df6_row8_col5\" class=\"data row8 col5\" >0</td>\n",
              "      <td id=\"T_93df6_row8_col6\" class=\"data row8 col6\" >0</td>\n",
              "      <td id=\"T_93df6_row8_col7\" class=\"data row8 col7\" >0</td>\n",
              "      <td id=\"T_93df6_row8_col8\" class=\"data row8 col8\" >70</td>\n",
              "      <td id=\"T_93df6_row8_col9\" class=\"data row8 col9\" >253</td>\n",
              "      <td id=\"T_93df6_row8_col10\" class=\"data row8 col10\" >253</td>\n",
              "      <td id=\"T_93df6_row8_col11\" class=\"data row8 col11\" >249</td>\n",
              "      <td id=\"T_93df6_row8_col12\" class=\"data row8 col12\" >85</td>\n",
              "      <td id=\"T_93df6_row8_col13\" class=\"data row8 col13\" >0</td>\n",
              "      <td id=\"T_93df6_row8_col14\" class=\"data row8 col14\" >0</td>\n",
              "      <td id=\"T_93df6_row8_col15\" class=\"data row8 col15\" >0</td>\n",
              "      <td id=\"T_93df6_row8_col16\" class=\"data row8 col16\" >0</td>\n",
              "      <td id=\"T_93df6_row8_col17\" class=\"data row8 col17\" >0</td>\n",
              "      <td id=\"T_93df6_row8_col18\" class=\"data row8 col18\" >0</td>\n",
              "      <td id=\"T_93df6_row8_col19\" class=\"data row8 col19\" >0</td>\n",
              "    </tr>\n",
              "    <tr>\n",
              "      <th id=\"T_93df6_level0_row9\" class=\"row_heading level0 row9\" >9</th>\n",
              "      <td id=\"T_93df6_row9_col0\" class=\"data row9 col0\" >0</td>\n",
              "      <td id=\"T_93df6_row9_col1\" class=\"data row9 col1\" >0</td>\n",
              "      <td id=\"T_93df6_row9_col2\" class=\"data row9 col2\" >0</td>\n",
              "      <td id=\"T_93df6_row9_col3\" class=\"data row9 col3\" >0</td>\n",
              "      <td id=\"T_93df6_row9_col4\" class=\"data row9 col4\" >0</td>\n",
              "      <td id=\"T_93df6_row9_col5\" class=\"data row9 col5\" >0</td>\n",
              "      <td id=\"T_93df6_row9_col6\" class=\"data row9 col6\" >0</td>\n",
              "      <td id=\"T_93df6_row9_col7\" class=\"data row9 col7\" >60</td>\n",
              "      <td id=\"T_93df6_row9_col8\" class=\"data row9 col8\" >230</td>\n",
              "      <td id=\"T_93df6_row9_col9\" class=\"data row9 col9\" >253</td>\n",
              "      <td id=\"T_93df6_row9_col10\" class=\"data row9 col10\" >253</td>\n",
              "      <td id=\"T_93df6_row9_col11\" class=\"data row9 col11\" >234</td>\n",
              "      <td id=\"T_93df6_row9_col12\" class=\"data row9 col12\" >0</td>\n",
              "      <td id=\"T_93df6_row9_col13\" class=\"data row9 col13\" >0</td>\n",
              "      <td id=\"T_93df6_row9_col14\" class=\"data row9 col14\" >0</td>\n",
              "      <td id=\"T_93df6_row9_col15\" class=\"data row9 col15\" >0</td>\n",
              "      <td id=\"T_93df6_row9_col16\" class=\"data row9 col16\" >0</td>\n",
              "      <td id=\"T_93df6_row9_col17\" class=\"data row9 col17\" >0</td>\n",
              "      <td id=\"T_93df6_row9_col18\" class=\"data row9 col18\" >0</td>\n",
              "      <td id=\"T_93df6_row9_col19\" class=\"data row9 col19\" >0</td>\n",
              "    </tr>\n",
              "  </tbody>\n",
              "</table>\n"
            ],
            "text/plain": [
              "<pandas.io.formats.style.Styler at 0x7fc051e53050>"
            ]
          },
          "metadata": {},
          "execution_count": 23
        }
      ]
    },
    {
      "cell_type": "code",
      "source": [
        "import torchvision"
      ],
      "metadata": {
        "id": "f0ndUn-4injH"
      },
      "execution_count": null,
      "outputs": []
    },
    {
      "cell_type": "code",
      "source": [
        "#Here we turn the tensors into a stack and turn them into floating point numbers between 0  and 1  through calling the .float()method and dividing by 255\n",
        "sevens_stack = torch.stack(sevens_tensors).float() /255"
      ],
      "metadata": {
        "id": "U2chjkhckCi6"
      },
      "execution_count": null,
      "outputs": []
    },
    {
      "cell_type": "code",
      "source": [
        "threes_stack = torch.stack(threes_tensors).float() /255"
      ],
      "metadata": {
        "id": "gD_vHwIQkv6W"
      },
      "execution_count": null,
      "outputs": []
    },
    {
      "cell_type": "code",
      "source": [
        "sevens_stack[0]"
      ],
      "metadata": {
        "id": "WDuQraCOlJg4",
        "colab": {
          "base_uri": "https://localhost:8080/"
        },
        "outputId": "d9539dd3-16f5-47c3-f055-81ac26fdec6c"
      },
      "execution_count": null,
      "outputs": [
        {
          "output_type": "execute_result",
          "data": {
            "text/plain": [
              "tensor([[0.0000, 0.0000, 0.0000, 0.0000, 0.0000, 0.0000, 0.0000, 0.0000, 0.0000, 0.0000, 0.0000, 0.0000, 0.0000, 0.0000, 0.0000, 0.0000, 0.0000, 0.0000, 0.0000, 0.0000, 0.0000, 0.0000, 0.0000, 0.0000,\n",
              "         0.0000, 0.0000, 0.0000, 0.0000],\n",
              "        [0.0000, 0.0000, 0.0000, 0.0000, 0.0000, 0.0000, 0.0000, 0.0000, 0.0000, 0.0000, 0.0000, 0.0000, 0.0000, 0.0000, 0.0000, 0.0000, 0.0000, 0.0000, 0.0000, 0.0000, 0.0000, 0.0000, 0.0000, 0.0000,\n",
              "         0.0000, 0.0000, 0.0000, 0.0000],\n",
              "        [0.0000, 0.0000, 0.0000, 0.0000, 0.0000, 0.0000, 0.0000, 0.0000, 0.0000, 0.0000, 0.0000, 0.0000, 0.0000, 0.0000, 0.0000, 0.0000, 0.0000, 0.0000, 0.0000, 0.0000, 0.0000, 0.0000, 0.0000, 0.0000,\n",
              "         0.0000, 0.0000, 0.0000, 0.0000],\n",
              "        [0.0000, 0.0000, 0.0000, 0.0000, 0.0000, 0.0000, 0.0000, 0.0000, 0.0000, 0.0000, 0.0000, 0.0000, 0.0000, 0.0000, 0.0000, 0.0000, 0.0000, 0.0000, 0.0000, 0.0000, 0.0000, 0.0000, 0.0000, 0.0000,\n",
              "         0.0000, 0.0000, 0.0000, 0.0000],\n",
              "        [0.0000, 0.0000, 0.0000, 0.0000, 0.0000, 0.0000, 0.0000, 0.0000, 0.0000, 0.0000, 0.0000, 0.0000, 0.0000, 0.0000, 0.0000, 0.0000, 0.0000, 0.0000, 0.0000, 0.0000, 0.0000, 0.0000, 0.0000, 0.0000,\n",
              "         0.0000, 0.0000, 0.0000, 0.0000],\n",
              "        [0.0000, 0.0000, 0.0000, 0.0000, 0.0000, 0.0000, 0.0000, 0.0000, 0.0000, 0.0000, 0.0000, 0.0000, 0.0000, 0.0000, 0.0000, 0.0000, 0.0000, 0.0000, 0.0000, 0.0000, 0.0000, 0.0000, 0.0000, 0.0000,\n",
              "         0.0000, 0.0000, 0.0000, 0.0000],\n",
              "        [0.0000, 0.0000, 0.0000, 0.0000, 0.0000, 0.0000, 0.0000, 0.0000, 0.0000, 0.0000, 0.0000, 0.0000, 0.0000, 0.0000, 0.0000, 0.0000, 0.0000, 0.0000, 0.0000, 0.0000, 0.0000, 0.0000, 0.0000, 0.0000,\n",
              "         0.0000, 0.0000, 0.0000, 0.0000],\n",
              "        [0.0000, 0.0000, 0.0000, 0.0000, 0.0000, 0.0000, 0.0000, 0.0000, 0.0000, 0.0000, 0.0000, 0.0000, 0.0000, 0.0000, 0.0000, 0.0000, 0.0000, 0.0000, 0.0000, 0.0000, 0.0000, 0.0000, 0.0000, 0.0000,\n",
              "         0.0000, 0.0000, 0.0000, 0.0000],\n",
              "        [0.0000, 0.0000, 0.7373, 1.0000, 0.9961, 0.7882, 0.6824, 0.9961, 0.9961, 0.8392, 0.4902, 0.4902, 0.4902, 0.4902, 0.7490, 0.5647, 0.9961, 0.9451, 0.4902, 0.4902, 0.4902, 0.2392, 0.0000, 0.0000,\n",
              "         0.0000, 0.0000, 0.0000, 0.0000],\n",
              "        [0.0000, 0.0000, 1.0000, 0.9922, 0.9922, 0.9922, 0.9922, 0.9922, 0.9922, 0.9922, 0.9922, 0.9922, 0.9922, 0.9922, 0.9922, 0.9922, 0.9922, 0.9922, 0.9922, 0.9922, 0.9922, 0.7451, 0.0000, 0.0000,\n",
              "         0.0000, 0.0000, 0.0000, 0.0000],\n",
              "        [0.0000, 0.0000, 0.9961, 0.9922, 0.9922, 0.9922, 0.9922, 0.9922, 0.9922, 0.9922, 0.9922, 0.9922, 0.9922, 0.9922, 0.9922, 0.9922, 0.9922, 0.9922, 0.9922, 0.9922, 0.9922, 0.9686, 0.0000, 0.0000,\n",
              "         0.0000, 0.0000, 0.0000, 0.0000],\n",
              "        [0.0000, 0.0000, 0.3255, 0.5843, 0.5843, 0.5843, 0.5843, 0.5843, 0.5843, 0.5843, 0.5843, 0.7961, 0.5843, 0.5843, 0.5843, 0.5843, 0.2549, 0.0745, 0.6157, 0.9922, 0.9922, 0.9922, 0.0000, 0.0000,\n",
              "         0.0000, 0.0000, 0.0000, 0.0000],\n",
              "        [0.0000, 0.0000, 0.0000, 0.0000, 0.0000, 0.0000, 0.0000, 0.0000, 0.0000, 0.0000, 0.0000, 0.0510, 0.0000, 0.0000, 0.0000, 0.0000, 0.0000, 0.0431, 0.7451, 0.9922, 0.9922, 0.9922, 0.0000, 0.0000,\n",
              "         0.0000, 0.0000, 0.0000, 0.0000],\n",
              "        [0.0000, 0.0000, 0.0000, 0.0000, 0.0000, 0.0000, 0.0000, 0.0000, 0.0000, 0.0000, 0.0000, 0.0000, 0.0000, 0.0000, 0.0000, 0.0000, 0.0000, 0.2902, 0.9922, 0.9922, 0.9922, 0.5451, 0.0000, 0.0000,\n",
              "         0.0000, 0.0000, 0.0000, 0.0000],\n",
              "        [0.0000, 0.0000, 0.0000, 0.0000, 0.0000, 0.0000, 0.0000, 0.0000, 0.0000, 0.0000, 0.0000, 0.0000, 0.0000, 0.0000, 0.0000, 0.0000, 0.0000, 0.6118, 0.9922, 0.9922, 0.9843, 0.3216, 0.0000, 0.0000,\n",
              "         0.0000, 0.0000, 0.0000, 0.0000],\n",
              "        [0.0000, 0.0000, 0.0000, 0.0000, 0.0000, 0.0000, 0.0000, 0.0000, 0.0000, 0.0000, 0.0000, 0.0000, 0.0000, 0.0000, 0.0000, 0.0000, 0.0431, 0.7294, 0.9922, 0.9922, 0.5451, 0.0000, 0.0000, 0.0000,\n",
              "         0.0000, 0.0000, 0.0000, 0.0000],\n",
              "        [0.0000, 0.0000, 0.0000, 0.0000, 0.0000, 0.0000, 0.0000, 0.0000, 0.0000, 0.0000, 0.0000, 0.0000, 0.0000, 0.0000, 0.0000, 0.0000, 0.2745, 0.9922, 0.9922, 0.9922, 0.4588, 0.0000, 0.0000, 0.0000,\n",
              "         0.0000, 0.0000, 0.0000, 0.0000],\n",
              "        [0.0000, 0.0000, 0.0000, 0.0000, 0.0000, 0.0000, 0.0000, 0.0000, 0.0000, 0.0000, 0.0000, 0.0000, 0.0000, 0.0000, 0.0000, 0.1216, 0.9137, 0.9922, 0.9922, 0.8196, 0.1059, 0.0000, 0.0000, 0.0000,\n",
              "         0.0000, 0.0000, 0.0000, 0.0000],\n",
              "        [0.0000, 0.0000, 0.0000, 0.0000, 0.0000, 0.0000, 0.0000, 0.0000, 0.0000, 0.0000, 0.0000, 0.0000, 0.0000, 0.0000, 0.0000, 0.2745, 0.9922, 0.9922, 0.9765, 0.3333, 0.0000, 0.0000, 0.0000, 0.0000,\n",
              "         0.0000, 0.0000, 0.0000, 0.0000],\n",
              "        [0.0000, 0.0000, 0.0000, 0.0000, 0.0000, 0.0000, 0.0000, 0.0000, 0.0000, 0.0000, 0.0000, 0.0000, 0.0000, 0.0000, 0.2353, 0.9020, 0.9922, 0.9922, 0.9176, 0.0000, 0.0000, 0.0000, 0.0000, 0.0000,\n",
              "         0.0000, 0.0000, 0.0000, 0.0000],\n",
              "        [0.0000, 0.0000, 0.0000, 0.0000, 0.0000, 0.0000, 0.0000, 0.0000, 0.0000, 0.0000, 0.0000, 0.0000, 0.0000, 0.0000, 0.6902, 0.9922, 0.9922, 0.9725, 0.4902, 0.0000, 0.0000, 0.0000, 0.0000, 0.0000,\n",
              "         0.0000, 0.0000, 0.0000, 0.0000],\n",
              "        [0.0000, 0.0000, 0.0000, 0.0000, 0.0000, 0.0000, 0.0000, 0.0000, 0.0000, 0.0000, 0.0000, 0.0000, 0.0000, 0.1412, 0.8941, 0.9922, 0.9922, 0.5451, 0.0000, 0.0000, 0.0000, 0.0000, 0.0000, 0.0000,\n",
              "         0.0000, 0.0000, 0.0000, 0.0000],\n",
              "        [0.0000, 0.0000, 0.0000, 0.0000, 0.0000, 0.0000, 0.0000, 0.0000, 0.0000, 0.0000, 0.0000, 0.0000, 0.0314, 0.5686, 0.9922, 0.9922, 0.9098, 0.1373, 0.0000, 0.0000, 0.0000, 0.0000, 0.0000, 0.0000,\n",
              "         0.0000, 0.0000, 0.0000, 0.0000],\n",
              "        [0.0000, 0.0000, 0.0000, 0.0000, 0.0000, 0.0000, 0.0000, 0.0000, 0.0000, 0.0000, 0.0000, 0.0000, 0.2314, 0.9922, 0.9922, 0.9922, 0.8118, 0.0000, 0.0000, 0.0000, 0.0000, 0.0000, 0.0000, 0.0000,\n",
              "         0.0000, 0.0000, 0.0000, 0.0000],\n",
              "        [0.0000, 0.0000, 0.0000, 0.0000, 0.0000, 0.0000, 0.0000, 0.0000, 0.0000, 0.0000, 0.0000, 0.0000, 0.2706, 0.9922, 0.9922, 0.9020, 0.1451, 0.0000, 0.0000, 0.0000, 0.0000, 0.0000, 0.0000, 0.0000,\n",
              "         0.0000, 0.0000, 0.0000, 0.0000],\n",
              "        [0.0000, 0.0000, 0.0000, 0.0000, 0.0000, 0.0000, 0.0000, 0.0000, 0.0000, 0.0000, 0.0000, 0.0000, 0.7412, 0.9922, 0.9922, 0.8118, 0.0000, 0.0000, 0.0000, 0.0000, 0.0000, 0.0000, 0.0000, 0.0000,\n",
              "         0.0000, 0.0000, 0.0000, 0.0000],\n",
              "        [0.0000, 0.0000, 0.0000, 0.0000, 0.0000, 0.0000, 0.0000, 0.0000, 0.0000, 0.0000, 0.0000, 0.0000, 0.4667, 0.9922, 0.8824, 0.1529, 0.0000, 0.0000, 0.0000, 0.0000, 0.0000, 0.0000, 0.0000, 0.0000,\n",
              "         0.0000, 0.0000, 0.0000, 0.0000],\n",
              "        [0.0000, 0.0000, 0.0000, 0.0000, 0.0000, 0.0000, 0.0000, 0.0000, 0.0000, 0.0000, 0.0000, 0.0000, 0.1137, 0.4824, 0.1490, 0.0000, 0.0000, 0.0000, 0.0000, 0.0000, 0.0000, 0.0000, 0.0000, 0.0000,\n",
              "         0.0000, 0.0000, 0.0000, 0.0000]])"
            ]
          },
          "metadata": {},
          "execution_count": 27
        }
      ]
    },
    {
      "cell_type": "code",
      "source": [
        "valid_3_tens = torch.stack(threes_tensors).float() /255"
      ],
      "metadata": {
        "id": "KaHFz7cclfVa"
      },
      "execution_count": null,
      "outputs": []
    },
    {
      "cell_type": "code",
      "source": [
        "valid_7_tens = torch.stack(sevens_tensors).float() /255"
      ],
      "metadata": {
        "id": "8xyrlakSmBtO"
      },
      "execution_count": null,
      "outputs": []
    },
    {
      "cell_type": "code",
      "source": [
        "#Data processing with pytorch we take the data and turn the shape without changing the contents of the data\n",
        "train_x = torch.cat([threes_stack, sevens_stack]).view(-1,28*28) "
      ],
      "metadata": {
        "id": "qyPIEKkdmVs5"
      },
      "execution_count": null,
      "outputs": []
    },
    {
      "cell_type": "code",
      "source": [
        "#We label each image\n",
        "train_y = tensor([1] * len(threes) + [0] * len(sevens)).unsqueeze(1)"
      ],
      "metadata": {
        "id": "IloGvMN5nbzT"
      },
      "execution_count": null,
      "outputs": []
    },
    {
      "cell_type": "code",
      "source": [
        "dset = list(zip(train_x, train_y))"
      ],
      "metadata": {
        "id": "Jmq7DxQqotoH"
      },
      "execution_count": null,
      "outputs": []
    },
    {
      "cell_type": "code",
      "source": [
        "#Processing the validation data\n",
        "valid_x = torch.cat([valid_3_tens, valid_7_tens]).view(-1, 28 * 28 )"
      ],
      "metadata": {
        "id": "vBNm9_xCpQlX"
      },
      "execution_count": null,
      "outputs": []
    },
    {
      "cell_type": "code",
      "source": [
        "valid_y = tensor([1] * len(valid_3_tens) + [0] * len(valid_7_tens)).unsqueeze(1)"
      ],
      "metadata": {
        "id": "uut0agE5qJ8c"
      },
      "execution_count": null,
      "outputs": []
    },
    {
      "cell_type": "code",
      "source": [
        "validDset = list(zip(valid_x,valid_y))"
      ],
      "metadata": {
        "id": "VUg2FYYgqmeg"
      },
      "execution_count": null,
      "outputs": []
    },
    {
      "cell_type": "code",
      "source": [
        "dset[0]\n"
      ],
      "metadata": {
        "id": "ri4keFchqrci",
        "colab": {
          "base_uri": "https://localhost:8080/"
        },
        "outputId": "ca67f07b-3027-4d1e-8452-0a395292d020"
      },
      "execution_count": null,
      "outputs": [
        {
          "output_type": "execute_result",
          "data": {
            "text/plain": [
              "(tensor([0.0000, 0.0000, 0.0000, 0.0000, 0.0000, 0.0000, 0.0000, 0.0000, 0.0000, 0.0000, 0.0000, 0.0000, 0.0000, 0.0000, 0.0000, 0.0000, 0.0000, 0.0000, 0.0000, 0.0000, 0.0000, 0.0000, 0.0000, 0.0000,\n",
              "         0.0000, 0.0000, 0.0000, 0.0000, 0.0000, 0.0000, 0.0000, 0.0000, 0.0000, 0.0000, 0.0000, 0.0000, 0.0000, 0.0000, 0.0000, 0.0000, 0.0000, 0.0000, 0.0000, 0.0000, 0.0000, 0.0000, 0.0000, 0.0000,\n",
              "         0.0000, 0.0000, 0.0000, 0.0000, 0.0000, 0.0000, 0.0000, 0.0000, 0.0000, 0.0000, 0.0000, 0.0000, 0.0000, 0.0000, 0.0000, 0.0000, 0.0000, 0.0000, 0.0000, 0.0000, 0.0000, 0.0000, 0.0000, 0.0000,\n",
              "         0.0000, 0.0000, 0.0000, 0.0000, 0.0000, 0.0000, 0.0000, 0.0000, 0.0000, 0.0000, 0.0000, 0.0000, 0.0000, 0.0000, 0.0000, 0.0000, 0.0000, 0.0000, 0.0000, 0.0000, 0.0000, 0.0000, 0.0000, 0.0000,\n",
              "         0.0000, 0.0000, 0.0000, 0.0000, 0.0000, 0.0000, 0.0000, 0.0000, 0.0000, 0.0000, 0.0000, 0.0000, 0.0000, 0.0000, 0.0000, 0.0000, 0.0000, 0.0000, 0.0000, 0.0000, 0.0000, 0.0000, 0.5922, 1.0000,\n",
              "         0.9961, 0.9961, 0.7765, 0.6196, 0.5020, 0.2471, 0.1412, 0.0000, 0.0000, 0.0000, 0.0000, 0.0000, 0.0000, 0.0000, 0.0000, 0.0000, 0.0000, 0.0000, 0.0000, 0.0000, 0.0000, 0.0000, 0.0000, 0.0000,\n",
              "         0.0000, 0.0000, 0.3686, 0.9490, 0.9961, 0.9961, 0.9961, 0.9961, 0.9961, 0.9961, 0.9373, 0.6078, 0.0784, 0.0000, 0.0000, 0.0000, 0.0000, 0.0000, 0.0000, 0.0000, 0.0000, 0.0000, 0.0000, 0.0000,\n",
              "         0.0000, 0.0000, 0.0000, 0.0000, 0.0000, 0.0000, 0.0000, 0.1608, 0.2627, 0.2627, 0.2627, 0.2627, 0.5216, 0.7020, 0.9961, 0.9961, 0.7882, 0.0745, 0.0000, 0.0000, 0.0000, 0.0000, 0.0000, 0.0000,\n",
              "         0.0000, 0.0000, 0.0000, 0.0000, 0.0000, 0.0000, 0.0000, 0.0000, 0.0000, 0.0000, 0.0000, 0.0000, 0.0000, 0.0000, 0.0000, 0.0000, 0.0000, 0.0039, 0.2157, 0.9961, 0.9961, 0.2039, 0.0000, 0.0000,\n",
              "         0.0000, 0.0000, 0.0000, 0.0000, 0.0000, 0.0000, 0.0000, 0.0000, 0.0000, 0.0000, 0.0000, 0.0000, 0.0000, 0.0000, 0.0000, 0.0000, 0.0000, 0.0000, 0.0000, 0.0000, 0.0000, 0.0000, 0.0588, 0.9961,\n",
              "         0.9961, 0.2039, 0.0000, 0.0000, 0.0000, 0.0000, 0.0000, 0.0000, 0.0000, 0.0000, 0.0000, 0.0000, 0.0000, 0.0000, 0.0000, 0.0000, 0.0000, 0.0000, 0.0000, 0.0000, 0.0000, 0.0000, 0.0000, 0.0000,\n",
              "         0.0000, 0.0000, 0.3294, 0.9961, 0.9961, 0.2039, 0.0000, 0.0000, 0.0000, 0.0000, 0.0000, 0.0000, 0.0000, 0.0000, 0.0000, 0.0000, 0.0000, 0.0000, 0.0000, 0.0000, 0.0000, 0.0000, 0.0000, 0.0000,\n",
              "         0.0000, 0.0000, 0.0000, 0.0000, 0.0000, 0.2706, 0.9059, 0.9961, 0.8157, 0.0863, 0.0000, 0.0000, 0.0000, 0.0000, 0.0000, 0.0000, 0.0000, 0.0000, 0.0000, 0.0000, 0.0000, 0.0000, 0.0000, 0.0000,\n",
              "         0.0000, 0.0000, 0.0000, 0.0000, 0.0000, 0.0000, 0.0471, 0.2471, 0.5725, 0.9843, 0.9882, 0.8039, 0.1059, 0.0000, 0.0000, 0.0000, 0.0000, 0.0000, 0.0000, 0.0000, 0.0000, 0.0000, 0.0000, 0.0000,\n",
              "         0.0000, 0.0000, 0.0000, 0.0000, 0.0000, 0.0000, 0.0000, 0.0000, 0.1882, 0.6980, 0.8706, 0.9961, 0.9961, 0.9961, 0.9569, 0.2275, 0.0000, 0.0000, 0.0000, 0.0000, 0.0000, 0.0000, 0.0000, 0.0000,\n",
              "         0.0000, 0.0000, 0.0000, 0.0000, 0.0000, 0.0000, 0.0000, 0.0000, 0.0000, 0.0000, 0.0000, 0.0000, 0.2588, 0.9961, 0.8824, 0.9647, 0.9961, 0.9961, 0.9961, 0.9765, 0.8784, 0.4118, 0.0667, 0.0000,\n",
              "         0.0000, 0.0000, 0.0000, 0.0000, 0.0000, 0.0000, 0.0000, 0.0000, 0.0000, 0.0000, 0.0000, 0.0000, 0.0000, 0.0000, 0.0000, 0.0000, 0.0196, 0.1882, 0.0784, 0.1569, 0.1882, 0.2588, 0.5608, 0.6745,\n",
              "         0.9686, 0.9961, 0.7647, 0.2039, 0.0000, 0.0000, 0.0000, 0.0000, 0.0000, 0.0000, 0.0000, 0.0000, 0.0000, 0.0000, 0.0000, 0.0000, 0.0000, 0.0000, 0.0000, 0.0000, 0.0000, 0.0000, 0.0000, 0.0000,\n",
              "         0.0000, 0.0000, 0.0000, 0.0000, 0.1765, 0.7412, 0.9961, 0.7686, 0.0706, 0.0000, 0.0000, 0.0000, 0.0000, 0.0000, 0.0000, 0.0000, 0.0000, 0.0000, 0.0000, 0.0000, 0.0000, 0.0000, 0.0000, 0.0000,\n",
              "         0.0000, 0.0000, 0.0000, 0.0000, 0.0000, 0.0000, 0.0000, 0.0000, 0.0000, 0.0471, 0.8078, 0.9961, 0.4314, 0.0000, 0.0000, 0.0000, 0.0000, 0.0000, 0.0000, 0.0000, 0.0000, 0.0000, 0.0000, 0.0000,\n",
              "         0.0000, 0.0000, 0.0000, 0.0000, 0.0000, 0.0000, 0.0000, 0.0000, 0.0000, 0.0000, 0.0000, 0.0000, 0.0000, 0.0000, 0.3608, 0.9961, 0.8980, 0.0000, 0.0000, 0.0000, 0.0000, 0.0000, 0.0000, 0.0000,\n",
              "         0.0000, 0.0000, 0.0000, 0.0000, 0.0000, 0.0000, 0.0000, 0.0000, 0.0000, 0.0000, 0.0000, 0.0000, 0.0000, 0.0000, 0.0000, 0.0000, 0.0000, 0.0000, 0.0980, 0.9333, 0.9804, 0.1020, 0.0000, 0.0000,\n",
              "         0.0000, 0.0000, 0.0000, 0.0000, 0.0000, 0.0000, 0.0000, 0.0000, 0.0000, 0.0000, 0.0000, 0.7451, 0.9020, 0.6314, 0.1647, 0.1529, 0.1059, 0.0000, 0.0000, 0.0000, 0.0000, 0.0000, 0.2588, 0.9843,\n",
              "         0.9765, 0.0353, 0.0000, 0.0000, 0.0000, 0.0000, 0.0000, 0.0000, 0.0000, 0.0000, 0.0000, 0.0000, 0.0000, 0.0000, 0.0000, 0.9725, 0.9961, 0.9961, 0.9961, 0.9961, 0.8000, 0.1843, 0.0196, 0.0000,\n",
              "         0.0000, 0.0000, 0.4353, 0.9961, 0.8235, 0.0000, 0.0000, 0.0000, 0.0000, 0.0000, 0.0000, 0.0000, 0.0000, 0.0000, 0.0000, 0.0000, 0.0000, 0.0000, 0.0000, 0.3020, 0.8549, 0.9961, 0.9961, 0.9961,\n",
              "         0.9961, 0.9961, 0.9725, 0.6392, 0.6392, 0.6392, 0.8745, 0.9961, 0.5961, 0.0000, 0.0000, 0.0000, 0.0000, 0.0000, 0.0000, 0.0000, 0.0000, 0.0000, 0.0000, 0.0000, 0.0000, 0.0000, 0.0000, 0.0000,\n",
              "         0.0549, 0.1098, 0.1098, 0.4549, 0.8627, 0.9882, 0.9961, 0.9961, 0.9961, 0.9961, 0.9961, 0.9725, 0.2353, 0.0000, 0.0000, 0.0000, 0.0000, 0.0000, 0.0000, 0.0000, 0.0000, 0.0000, 0.0000, 0.0000,\n",
              "         0.0000, 0.0000, 0.0000, 0.0000, 0.0000, 0.0000, 0.0000, 0.0000, 0.0000, 0.3020, 0.7804, 0.9961, 0.9961, 0.9961, 0.7451, 0.2431, 0.0000, 0.0000, 0.0000, 0.0000, 0.0000, 0.0000, 0.0000, 0.0000,\n",
              "         0.0000, 0.0000, 0.0000, 0.0000, 0.0000, 0.0000, 0.0000, 0.0000, 0.0000, 0.0000, 0.0000, 0.0000, 0.0000, 0.0000, 0.0000, 0.0000, 0.0000, 0.0000, 0.0000, 0.0000, 0.0000, 0.0000, 0.0000, 0.0000,\n",
              "         0.0000, 0.0000, 0.0000, 0.0000, 0.0000, 0.0000, 0.0000, 0.0000, 0.0000, 0.0000, 0.0000, 0.0000, 0.0000, 0.0000, 0.0000, 0.0000, 0.0000, 0.0000, 0.0000, 0.0000, 0.0000, 0.0000, 0.0000, 0.0000,\n",
              "         0.0000, 0.0000, 0.0000, 0.0000, 0.0000, 0.0000, 0.0000, 0.0000, 0.0000, 0.0000, 0.0000, 0.0000, 0.0000, 0.0000, 0.0000, 0.0000, 0.0000, 0.0000, 0.0000, 0.0000, 0.0000, 0.0000, 0.0000, 0.0000,\n",
              "         0.0000, 0.0000, 0.0000, 0.0000, 0.0000, 0.0000, 0.0000, 0.0000, 0.0000, 0.0000, 0.0000, 0.0000, 0.0000, 0.0000, 0.0000, 0.0000, 0.0000, 0.0000, 0.0000, 0.0000, 0.0000, 0.0000, 0.0000, 0.0000,\n",
              "         0.0000, 0.0000, 0.0000, 0.0000, 0.0000, 0.0000, 0.0000, 0.0000, 0.0000, 0.0000, 0.0000, 0.0000, 0.0000, 0.0000, 0.0000, 0.0000]),\n",
              " tensor([1]))"
            ]
          },
          "metadata": {},
          "execution_count": 36
        }
      ]
    },
    {
      "cell_type": "code",
      "source": [
        "#We then randomly initialize our weights from random numbers to start training at a point\n",
        "#Otherwise if we don't our model will give us constant values which won't affect backpropagation hence the model won't learn\n",
        "def init_params(size,std=1.0):\n",
        "  return (torch.randn(size)*std).requires_grad_()\n"
      ],
      "metadata": {
        "id": "OJFdQ25fq7SJ"
      },
      "execution_count": null,
      "outputs": []
    },
    {
      "cell_type": "code",
      "source": [
        "weights = init_params((28*28,1))"
      ],
      "metadata": {
        "id": "1oaUivwasL5w"
      },
      "execution_count": null,
      "outputs": []
    },
    {
      "cell_type": "code",
      "source": [
        "weights"
      ],
      "metadata": {
        "id": "0QJZZMz7saw3"
      },
      "execution_count": null,
      "outputs": []
    },
    {
      "cell_type": "code",
      "source": [
        "bias = init_params(1)"
      ],
      "metadata": {
        "id": "HzNdZNs8slAB"
      },
      "execution_count": null,
      "outputs": []
    },
    {
      "cell_type": "code",
      "source": [
        "#In neural networks the equation y =wx + b the y is the predicted value the w are weights and the b are the parameters\n",
        "#while the x are the input values\n",
        "#Both the weights are bias make up the parameters"
      ],
      "metadata": {
        "id": "cj6ylXlVs-k_"
      },
      "execution_count": null,
      "outputs": []
    },
    {
      "cell_type": "code",
      "source": [
        "#Prediction for one image with the following calculation:\n",
        "(train_x[0] * weights.T).sum() + bias"
      ],
      "metadata": {
        "colab": {
          "base_uri": "https://localhost:8080/"
        },
        "id": "HZDkT586sbg8",
        "outputId": "5e67ed4b-419e-4ddc-9dd9-1358ce5da9f8"
      },
      "execution_count": null,
      "outputs": [
        {
          "output_type": "execute_result",
          "data": {
            "text/plain": [
              "tensor([8.3216], grad_fn=<AddBackward0>)"
            ]
          },
          "metadata": {},
          "execution_count": 42
        }
      ]
    },
    {
      "cell_type": "markdown",
      "source": [
        "We could use Python for loops to calculate the prediction for each image but that turns out to be very slow as python does not use GPU  and Python is very slow when it comes to loops in general. For convinience there is a mathematical operation that enables us to calculate the dot product of the weights and input/pixel values from images. This mathematical operation is called matrix multiplication which does this through multiplying the row of the weight matrix by the column of the input images."
      ],
      "metadata": {
        "id": "T_qLekNnt-07"
      }
    },
    {
      "cell_type": "code",
      "source": [
        "#Function to calculate the matrix multiplication in python using the @ operator\n",
        "def linear1(xb):return xb@weights + bias"
      ],
      "metadata": {
        "id": "umfBCsi5tzWk"
      },
      "execution_count": null,
      "outputs": []
    },
    {
      "cell_type": "markdown",
      "source": [
        "In this function we take the input features which are the pixel values from our image and turn it into a 1 dimensional array which is called a vector and then do a batch matrix multiplication by the weights of the layer. The equation\n",
        "is batch@weights + bias"
      ],
      "metadata": {
        "id": "X0JULxry1MIZ"
      }
    },
    {
      "cell_type": "code",
      "source": [
        "#We calculate a \n",
        "prediction1 = linear1(train_x)"
      ],
      "metadata": {
        "id": "zBY4iI2LzHC4"
      },
      "execution_count": null,
      "outputs": []
    },
    {
      "cell_type": "code",
      "source": [
        "prediction1"
      ],
      "metadata": {
        "colab": {
          "base_uri": "https://localhost:8080/"
        },
        "id": "7xcjpiB0zM3i",
        "outputId": "3c7d4db6-29e9-46fd-9016-d9aff5067f92"
      },
      "execution_count": null,
      "outputs": [
        {
          "output_type": "execute_result",
          "data": {
            "text/plain": [
              "tensor([[  8.3216],\n",
              "        [  6.2036],\n",
              "        [ -5.4697],\n",
              "        ...,\n",
              "        [-14.5204],\n",
              "        [ -2.6863],\n",
              "        [ -4.7628]], grad_fn=<AddBackward0>)"
            ]
          },
          "metadata": {},
          "execution_count": 45
        }
      ]
    },
    {
      "cell_type": "code",
      "source": [
        "#1 was labeled as a  3 \n",
        "correct_three = (prediction1>0.0).float() == train_y "
      ],
      "metadata": {
        "id": "TAvrV_m0zOAl"
      },
      "execution_count": null,
      "outputs": []
    },
    {
      "cell_type": "code",
      "source": [
        "correct_three_accuracy = (prediction1>0.0).float().mean()"
      ],
      "metadata": {
        "id": "Wlo3-g6o2koU"
      },
      "execution_count": null,
      "outputs": []
    },
    {
      "cell_type": "code",
      "source": [
        "correct_three_accuracy"
      ],
      "metadata": {
        "colab": {
          "base_uri": "https://localhost:8080/"
        },
        "id": "fAAYz26T3SH2",
        "outputId": "1e91ed38-5926-4b40-afde-ab0f96f346d7"
      },
      "execution_count": null,
      "outputs": [
        {
          "output_type": "execute_result",
          "data": {
            "text/plain": [
              "tensor(0.1297)"
            ]
          },
          "metadata": {},
          "execution_count": 48
        }
      ]
    },
    {
      "cell_type": "markdown",
      "source": [
        "We need gradients in order to improve our model using SGD stochastic gradient descent to get the gradients we need a loss functions. \n",
        "\n",
        "\n",
        "Gradients are a measure of how the loss function changes with small tweaks to the weights \n",
        "\n",
        "\n",
        "The purpose of a loss function is to measure the difference between the predicted values and the true values to see how much the function: y=wx+b changed when the input changed i.e the gradient in this case our weights"
      ],
      "metadata": {
        "id": "WbZmvPgN4R34"
      }
    },
    {
      "cell_type": "code",
      "source": [
        "targets = tensor([1,0,1])"
      ],
      "metadata": {
        "id": "91NTC2AE3VdX"
      },
      "execution_count": null,
      "outputs": []
    },
    {
      "cell_type": "code",
      "source": [
        "predictions = tensor([0.2, 0.4, 0.9])"
      ],
      "metadata": {
        "id": "peKBNrOs-VEL"
      },
      "execution_count": null,
      "outputs": []
    },
    {
      "cell_type": "code",
      "source": [
        "def mnist_loss(targets, predictions):\n",
        "  return torch.where(targets == 1, 1-predictions, predictions).mean()"
      ],
      "metadata": {
        "id": "rr_KQI2G-bvs"
      },
      "execution_count": null,
      "outputs": []
    },
    {
      "cell_type": "code",
      "source": [
        "loss_fn = mnist_loss(targets,predictions)"
      ],
      "metadata": {
        "id": "By_FLRLG-qhX"
      },
      "execution_count": null,
      "outputs": []
    },
    {
      "cell_type": "code",
      "source": [
        "loss_fn"
      ],
      "metadata": {
        "colab": {
          "base_uri": "https://localhost:8080/"
        },
        "id": "SJwtxL1O-yS3",
        "outputId": "c1ef10b9-359d-47f0-dc91-a4b353ab8683"
      },
      "execution_count": null,
      "outputs": [
        {
          "output_type": "execute_result",
          "data": {
            "text/plain": [
              "tensor(0.4333)"
            ]
          },
          "metadata": {},
          "execution_count": 53
        }
      ]
    },
    {
      "cell_type": "markdown",
      "source": [
        "A scalar is one number a vector is a one dimensional matrix that has only one row and one column a matrix is a two dimensional array of numbers that contains n rows and n columns. In pytorch a lower number is associated with a better loss since we need only one value for from our loss function and we obtain this through adding the mean() method."
      ],
      "metadata": {
        "id": "rHH71iga_RBz"
      }
    },
    {
      "cell_type": "markdown",
      "source": [
        "A sigmoid function is a mathematical operation or a function that takes in an input value and outputs a value in between a zero and a one"
      ],
      "metadata": {
        "id": "1dPQV3MBwu-b"
      }
    },
    {
      "cell_type": "code",
      "execution_count": null,
      "metadata": {
        "id": "PM3tpN_IwfbH"
      },
      "outputs": [],
      "source": [
        "#This is how we define a sigmoid function:\n",
        "def sigmoid(x): return (1/1+torch.exp(-x))"
      ]
    },
    {
      "cell_type": "code",
      "source": [
        "import numpy as np\n"
      ],
      "metadata": {
        "id": "mK4y--q_xRCZ"
      },
      "execution_count": null,
      "outputs": []
    },
    {
      "cell_type": "code",
      "source": [
        "#Here we plot the function on a graph to visualize it\n",
        "\n",
        "plot_function(torch.sigmoid, title=\"Sigmoid\", min =-10, max =10 )"
      ],
      "metadata": {
        "colab": {
          "base_uri": "https://localhost:8080/",
          "height": 285
        },
        "id": "huNGmupMxva9",
        "outputId": "863a8faf-8cec-4e96-986b-a4875807f390"
      },
      "execution_count": null,
      "outputs": [
        {
          "output_type": "display_data",
          "data": {
            "image/png": "[encoded data removed]",
            "text/plain": [
              "<Figure size 432x288 with 1 Axes>"
            ]
          },
          "metadata": {
            "needs_background": "light"
          }
        }
      ]
    },
    {
      "cell_type": "code",
      "source": [
        "#We redefine our loss function to apply sigmoid function to our predicted values,this ensures that our loss function takes in values that\n",
        "#are in between zero and one \n",
        "def mnist_loss(targets, predictions):\n",
        "  predictions = predictions.sigmoid()\n",
        "  return (torch.where(targets == 1, 1 - predictions, predictions)).mean()"
      ],
      "metadata": {
        "id": "ee9oXfWDy-Ux"
      },
      "execution_count": null,
      "outputs": []
    },
    {
      "cell_type": "markdown",
      "source": [
        "We defined a loss function to ensure that gradient descent/ automated learning can be smoothly applied to our model.\n",
        "The loss enables us to see how far our machine learning model is from the desired goal. You can think of the loss a perfomance evaluation technique during training. The metric is used to drive human understanding while the loss function is used to enable our model to learn effectively through application of gradient descent and so on."
      ],
      "metadata": {
        "id": "nNRJglWc1Ikm"
      }
    },
    {
      "cell_type": "code",
      "source": [
        ""
      ],
      "metadata": {
        "id": "KxJerD_-0uZi"
      },
      "execution_count": null,
      "outputs": []
    },
    {
      "cell_type": "code",
      "source": [
        ""
      ],
      "metadata": {
        "id": "jMduSRDw0dtb"
      },
      "execution_count": null,
      "outputs": []
    },
    {
      "cell_type": "code",
      "source": [
        ""
      ],
      "metadata": {
        "id": "BumQciU40cqo"
      },
      "execution_count": null,
      "outputs": []
    },
    {
      "cell_type": "code",
      "source": [
        ""
      ],
      "metadata": {
        "id": "CaXPzIVry67Y"
      },
      "execution_count": null,
      "outputs": []
    },
    {
      "cell_type": "code",
      "source": [
        ""
      ],
      "metadata": {
        "id": "Uo7a-zMMyswv"
      },
      "execution_count": null,
      "outputs": []
    },
    {
      "cell_type": "code",
      "source": [
        ""
      ],
      "metadata": {
        "id": "6pjaQV1xynqe"
      },
      "execution_count": null,
      "outputs": []
    },
    {
      "cell_type": "code",
      "source": [
        ""
      ],
      "metadata": {
        "id": "PCEeFIzrxO38"
      },
      "execution_count": null,
      "outputs": []
    },
    {
      "cell_type": "code",
      "source": [
        "\n",
        "\n",
        "\n",
        "\n",
        "plot_function\n",
        "\n",
        "\n"
      ],
      "metadata": {
        "id": "H0i8aTo-uuJ3"
      },
      "execution_count": null,
      "outputs": []
    }
  ],
  "metadata": {
    "colab": {
      "name": "MNISTLOSS.ipynb",
      "provenance": [],
      "collapsed_sections": [],
      "authorship_tag": "ABX9TyN5MGCREqjdtEj4rvETIZce",
      "include_colab_link": true
    },
    "kernelspec": {
      "display_name": "Python 3",
      "name": "python3"
    },
    "language_info": {
      "name": "python"
    }
  },
  "nbformat": 4,
  "nbformat_minor": 0
}