{
  "cells": [
    {
      "cell_type": "markdown",
      "metadata": {
        "id": "view-in-github",
        "colab_type": "text"
      },
      "source": [
        "<a href=\"https://colab.research.google.com/github/Reptilefury/coursera-machine-learning/blob/main/MNISTLOSS.ipynb\" target=\"_parent\"><img src=\"https://colab.research.google.com/assets/colab-badge.svg\" alt=\"Open In Colab\"/></a>"
      ]
    },
    {
      "cell_type": "code",
      "execution_count": 108,
      "metadata": {
        "id": "MSWZDSApxURs"
      },
      "outputs": [],
      "source": [
        "!pip install -Uqq fastbook"
      ]
    },
    {
      "cell_type": "code",
      "execution_count": 109,
      "metadata": {
        "id": "ICEKDz0Mwu-0"
      },
      "outputs": [],
      "source": [
        "import fastbook\n"
      ]
    },
    {
      "cell_type": "code",
      "source": [
        "fastbook.setup_book()"
      ],
      "metadata": {
        "id": "QpZtubkpeqFw"
      },
      "execution_count": 110,
      "outputs": []
    },
    {
      "cell_type": "code",
      "source": [
        "from fastbook import *"
      ],
      "metadata": {
        "id": "Rn011dfye48Q"
      },
      "execution_count": 111,
      "outputs": []
    },
    {
      "cell_type": "code",
      "source": [
        "from fastai.vision.all import *"
      ],
      "metadata": {
        "id": "uUDMuJxXfDdM"
      },
      "execution_count": 112,
      "outputs": []
    },
    {
      "cell_type": "code",
      "source": [
        "import pandas as pd"
      ],
      "metadata": {
        "id": "-SPkEcYFfJWd"
      },
      "execution_count": 113,
      "outputs": []
    },
    {
      "cell_type": "code",
      "source": [
        "import matplotlib.pyplot as plt"
      ],
      "metadata": {
        "id": "F9qXl0jSfK-J"
      },
      "execution_count": 114,
      "outputs": []
    },
    {
      "cell_type": "code",
      "source": [
        "path = untar_data(URLs.MNIST_SAMPLE)"
      ],
      "metadata": {
        "colab": {
          "base_uri": "https://localhost:8080/",
          "height": 37
        },
        "id": "mqvW74jhfOck",
        "outputId": "e831d37c-ada8-479a-da75-421694e91135"
      },
      "execution_count": 13,
      "outputs": [
        {
          "output_type": "display_data",
          "data": {
            "text/html": [
              "\n",
              "<style>\n",
              "    /* Turns off some styling */\n",
              "    progress {\n",
              "        /* gets rid of default border in Firefox and Opera. */\n",
              "        border: none;\n",
              "        /* Needs to be in here for Safari polyfill so background images work as expected. */\n",
              "        background-size: auto;\n",
              "    }\n",
              "    .progress-bar-interrupted, .progress-bar-interrupted::-webkit-progress-bar {\n",
              "        background: #F44336;\n",
              "    }\n",
              "</style>\n"
            ],
            "text/plain": [
              "<IPython.core.display.HTML object>"
            ]
          },
          "metadata": {}
        },
        {
          "output_type": "display_data",
          "data": {
            "text/html": [
              "\n",
              "    <div>\n",
              "      <progress value='3219456' class='' max='3214948' style='width:300px; height:20px; vertical-align: middle;'></progress>\n",
              "      100.14% [3219456/3214948 00:00<00:00]\n",
              "    </div>\n",
              "    "
            ],
            "text/plain": [
              "<IPython.core.display.HTML object>"
            ]
          },
          "metadata": {}
        }
      ]
    },
    {
      "cell_type": "code",
      "source": [
        "threes = (path/'train'/'3').ls()"
      ],
      "metadata": {
        "id": "qBy_7n08fS30"
      },
      "execution_count": 14,
      "outputs": []
    },
    {
      "cell_type": "code",
      "source": [
        "sevens = (path/'train'/'7').ls()"
      ],
      "metadata": {
        "id": "pMmBTDRufY0l"
      },
      "execution_count": 15,
      "outputs": []
    },
    {
      "cell_type": "code",
      "source": [
        "Image_threes = Image.open(threes[0])"
      ],
      "metadata": {
        "id": "qWtmFBQefb_8"
      },
      "execution_count": 16,
      "outputs": []
    },
    {
      "cell_type": "code",
      "source": [
        "Image_threes"
      ],
      "metadata": {
        "colab": {
          "base_uri": "https://localhost:8080/",
          "height": 45
        },
        "id": "ERbkpiSRgAtO",
        "outputId": "750cd12a-0868-4901-e741-5879cea3b800"
      },
      "execution_count": 17,
      "outputs": [
        {
          "output_type": "execute_result",
          "data": {
            "image/png": "[encoded data removed]",
            "text/plain": [
              "<PIL.PngImagePlugin.PngImageFile image mode=L size=28x28 at 0x7FEF3D6CC090>"
            ]
          },
          "metadata": {},
          "execution_count": 17
        }
      ]
    },
    {
      "cell_type": "code",
      "source": [
        "Image_sevens = Image.open(sevens[0])"
      ],
      "metadata": {
        "id": "z0-d0eRigEVp"
      },
      "execution_count": 18,
      "outputs": []
    },
    {
      "cell_type": "code",
      "source": [
        "Image_sevens"
      ],
      "metadata": {
        "colab": {
          "base_uri": "https://localhost:8080/",
          "height": 45
        },
        "id": "NSeGO-3YgKjc",
        "outputId": "ea9a91c3-f127-441a-bf25-a079fa4fa3af"
      },
      "execution_count": 19,
      "outputs": [
        {
          "output_type": "execute_result",
          "data": {
            "image/png": "[encoded data removed]",
            "text/plain": [
              "<PIL.PngImagePlugin.PngImageFile image mode=L size=28x28 at 0x7FEF3D63E590>"
            ]
          },
          "metadata": {},
          "execution_count": 19
        }
      ]
    },
    {
      "cell_type": "code",
      "source": [
        "threes_tensors = [tensor(Image.open(o))for o in(threes)]\n",
        "\n",
        "\n"
      ],
      "metadata": {
        "id": "iHJJod8lgMke"
      },
      "execution_count": 20,
      "outputs": []
    },
    {
      "cell_type": "code",
      "source": [
        "im3_t = threes_tensors[0]"
      ],
      "metadata": {
        "id": "LhX9MdMVhNLd"
      },
      "execution_count": 21,
      "outputs": []
    },
    {
      "cell_type": "code",
      "source": [
        "im3_t"
      ],
      "metadata": {
        "id": "RAxr5nbihrPf",
        "colab": {
          "base_uri": "https://localhost:8080/"
        },
        "outputId": "f21a09b6-2ae6-4bad-f8d2-940cd77ca4cf"
      },
      "execution_count": 22,
      "outputs": [
        {
          "output_type": "execute_result",
          "data": {
            "text/plain": [
              "tensor([[  0,   0,   0,   0,   0,   0,   0,   0,   0,   0,   0,   0,   0,   0,   0,   0,   0,   0,   0,   0,   0,   0,   0,   0,   0,   0,   0,   0],\n",
              "        [  0,   0,   0,   0,   0,   0,   0,   0,   0,   0,   0,   0,   0,   0,   0,   0,   0,   0,   0,   0,   0,   0,   0,   0,   0,   0,   0,   0],\n",
              "        [  0,   0,   0,   0,   0,   0,   0,   0,   0,   0,   0,   0,   0,   0,   0,   0,   0,   0,   0,   0,   0,   0,   0,   0,   0,   0,   0,   0],\n",
              "        [  0,   0,   0,   0,   0,   0,   0,   0,   0,   0,   0,   0,   0,   0,   0,   0,   0,   0,   0,   0,   0,   0,   0,   0,   0,   0,   0,   0],\n",
              "        [  0,   0,   0,   0,   0,   0,   0,   0,   0,   0,   0,   0,   0,   0,   0,   0,   0,   0,   0,   0,   0,   0,   0,   0,   0,   0,   0,   0],\n",
              "        [  0,   0,   0,   0,   0,   0,   0,   5,  85, 154, 154, 154, 192, 254, 254, 254, 249,  73,   0,   0,   0,   0,   0,   0,   0,   0,   0,   0],\n",
              "        [  0,   0,   0,   0,   0,   0,   0, 145, 253, 253, 253, 253, 253, 253, 253, 253, 253, 241,  24,   0,   0,   0,   0,   0,   0,   0,   0,   0],\n",
              "        [  0,   0,   0,   0,   0,   0,  68, 242, 253, 253, 253, 192, 188, 188, 215, 253, 253, 208,  11,   0,   0,   0,   0,   0,   0,   0,   0,   0],\n",
              "        [  0,   0,   0,   0,   0,   0, 164, 253, 224, 125,  34,  89,   0,   0, 152, 253, 253, 183,   0,   0,   0,   0,   0,   0,   0,   0,   0,   0],\n",
              "        [  0,   0,   0,   0,   0,   0, 164, 218, 149,   8,   0,  32,   0,  64, 238, 253, 249,  91,   0,   0,   0,   0,   0,   0,   0,   0,   0,   0],\n",
              "        [  0,   0,   0,   0,   0,   0,  16,  13,   0,   0,   0,   5,  68, 242, 253, 253, 227,   0,   0,   0,   0,   0,   0,   0,   0,   0,   0,   0],\n",
              "        [  0,   0,   0,   0,   0,   0,   0,   0,   0,   0,  29, 190, 253, 253, 253, 210,  38,   0,   0,   0,   0,   0,   0,   0,   0,   0,   0,   0],\n",
              "        [  0,   0,   0,   0,   0,   0,   0,   0,  12, 103, 244, 253, 253, 253, 252, 150, 139, 206, 239, 239, 239, 154,   0,   0,   0,   0,   0,   0],\n",
              "        [  0,   0,   0,   0,   0,   0,   0,  53, 212, 253, 253, 253, 253, 253, 253, 253, 253, 253, 254, 253, 253, 233, 122,   0,   0,   0,   0,   0],\n",
              "        [  0,   0,   0,   0,   0,   0,   0, 218, 253, 253, 253, 253, 253, 253, 233, 203, 198, 104, 104, 143, 223, 253, 235,  52,   0,   0,   0,   0],\n",
              "        [  0,   0,   0,   0,   0,   0,   0, 176, 248, 209, 215, 188, 148,  90,  29,   0,   0,   0,   0,   0, 134, 253, 253, 234,   0,   0,   0,   0],\n",
              "        [  0,   0,   0,   0,   0,   0,   0,   0,   0,   0,   0,   0,   0,   0,   0,   0,   0,   0,   0,   0, 134, 253, 253, 191,   0,   0,   0,   0],\n",
              "        [  0,   0,   0,   0,   0,   0,   0,   0,   0,   0,   0,   0,   0,   0,   0,   0,   0,   0,   0,  11, 181, 253, 251,  67,   0,   0,   0,   0],\n",
              "        [  0,   0,   0,   0,   0,   0,   0,   0,   0,   0,   0,   0,   0,   0,   0,   0,   0,   0,   7, 200, 253, 253, 208,   0,   0,   0,   0,   0],\n",
              "        [  0,   0,   0,   0,   0,   0,   0,   0,   0,   0,   0,   0,   0,   0,   0,   0,   0,   7, 165, 253, 254, 209,  28,   0,   0,   0,   0,   0],\n",
              "        [  0,   0,   0,   0,   0,   0,   0,   0,   0,   0,   0,   0,   0,   0,   0,   0,  74, 200, 253, 253, 211,  73,   0,   0,   0,   0,   0,   0],\n",
              "        [  0,   0,   0,   0, 196, 234, 234, 187, 106,  31,   0,   0,   0,  35,  77, 197, 251, 253, 254, 197,  56,   0,   0,   0,   0,   0,   0,   0],\n",
              "        [  0,   0,   0,   0, 254, 253, 253, 253, 253, 246, 189, 189, 189, 252, 253, 253, 253, 253, 164,  19,   0,   0,   0,   0,   0,   0,   0,   0],\n",
              "        [  0,   0,   0,   0,  71, 191, 208, 230, 253, 253, 253, 253, 254, 253, 253, 243, 203,  82,   2,   0,   0,   0,   0,   0,   0,   0,   0,   0],\n",
              "        [  0,   0,   0,   0,   0,   0,   0,  81, 253, 163, 153, 248, 177, 153, 113,  42,   0,   0,   0,   0,   0,   0,   0,   0,   0,   0,   0,   0],\n",
              "        [  0,   0,   0,   0,   0,   0,   0,   0,   0,   0,   0,   0,   0,   0,   0,   0,   0,   0,   0,   0,   0,   0,   0,   0,   0,   0,   0,   0],\n",
              "        [  0,   0,   0,   0,   0,   0,   0,   0,   0,   0,   0,   0,   0,   0,   0,   0,   0,   0,   0,   0,   0,   0,   0,   0,   0,   0,   0,   0],\n",
              "        [  0,   0,   0,   0,   0,   0,   0,   0,   0,   0,   0,   0,   0,   0,   0,   0,   0,   0,   0,   0,   0,   0,   0,   0,   0,   0,   0,   0]], dtype=torch.uint8)"
            ]
          },
          "metadata": {},
          "execution_count": 22
        }
      ]
    },
    {
      "cell_type": "code",
      "source": [
        "df = pd.DataFrame(im3_t[4:10, 4:22])"
      ],
      "metadata": {
        "id": "Ud78qOJnht7P"
      },
      "execution_count": 23,
      "outputs": []
    },
    {
      "cell_type": "code",
      "source": [
        "sevens_tensors = [tensor(Image.open(o)) for o in sevens]"
      ],
      "metadata": {
        "id": "Q3H0yEAhh3Ot"
      },
      "execution_count": 24,
      "outputs": []
    },
    {
      "cell_type": "code",
      "source": [
        "im7_t = sevens_tensors[0]"
      ],
      "metadata": {
        "id": "ebQy5OHTiGq-"
      },
      "execution_count": 25,
      "outputs": []
    },
    {
      "cell_type": "code",
      "source": [
        "im7_t"
      ],
      "metadata": {
        "id": "ESKGp0UdiLH6",
        "colab": {
          "base_uri": "https://localhost:8080/"
        },
        "outputId": "84f77329-1373-4081-a97e-6f2e2c3ab370"
      },
      "execution_count": 26,
      "outputs": [
        {
          "output_type": "execute_result",
          "data": {
            "text/plain": [
              "tensor([[  0,   0,   0,   0,   0,   0,   0,   0,   0,   0,   0,   0,   0,   0,   0,   0,   0,   0,   0,   0,   0,   0,   0,   0,   0,   0,   0,   0],\n",
              "        [  0,   0,   0,   0,   0,   0,   0,   0,   0,   0,   0,   0,   0,   0,   0,   0,   0,   0,   0,   0,   0,   0,   0,   0,   0,   0,   0,   0],\n",
              "        [  0,   0,   0,   0,   0,   0,   0,   0,   0,   0,   0,   0,   0,   0,   0,   0,   0,   0,   0,   0,   0,   0,   0,   0,   0,   0,   0,   0],\n",
              "        [  0,   0,   0,   0,   0,   0,   0,   0,   0,   0,   0,   0,   0,   0,   0,   0,   0,   0,   0,   0,   0,   0,   0,   0,   0,   0,   0,   0],\n",
              "        [  0,   0,   0,   0,   0,   0,   0,   0,   0,   0,   0,   0,   0,   0,   0,   0,   0,   0,   0,   0,   0,   0,   0,   0,   0,   0,   0,   0],\n",
              "        [  0,   0,   0,   0,   0,   0,   0,   0,   0,   0,   0,   0,   0,   0,   0,   0,   0,   0,   0,   0,   0,   0,   0,   0,   0,   0,   0,   0],\n",
              "        [  0,   0,   0,   0,   0,   0,   0,   0,   0,   0,   0,   0,   0,   0,   0,   0,   0,   0,   0,   0,   0,   0,   0,   0,   0,   0,   0,   0],\n",
              "        [  0,   0,   0,   0,   0,   0,   0,   0,   0,   0, 106, 164, 254, 254, 254, 254, 255, 234, 109,   0,   0,   0,   0,   0,   0,   0,   0,   0],\n",
              "        [  0,   0,   0,   0,   0,   0,   0,   0,  46, 164, 252, 253, 253, 253, 253, 253, 253, 253, 236,  45,   0,   0,   0,   0,   0,   0,   0,   0],\n",
              "        [  0,   0,   0,   0,   0,   0,   0,   0, 222, 253, 253, 253, 253, 253, 253, 253, 253, 253, 253,  97,   0,   0,   0,   0,   0,   0,   0,   0],\n",
              "        [  0,   0,   0,   0,   0,   0,   0,   0,  68, 203, 149,  42,  19,  19,  19,  19, 182, 253, 253,  97,   0,   0,   0,   0,   0,   0,   0,   0],\n",
              "        [  0,   0,   0,   0,   0,   0,   0,   0,   0,  13,   0,   0,   0,   0,   0,  48, 246, 253, 224,  10,   0,   0,   0,   0,   0,   0,   0,   0],\n",
              "        [  0,   0,   0,   0,   0,   0,   0,   0,   0,   0,   0,   0,   0,   0,   0, 166, 253, 253, 173,   0,   0,   0,   0,   0,   0,   0,   0,   0],\n",
              "        [  0,   0,   0,   0,   0,   0,   0,   0,   0,   0,   0,   0,   0,   0,  51, 243, 253, 253,  91,   0,   0,   0,   0,   0,   0,   0,   0,   0],\n",
              "        [  0,   0,   0,   0,   0,   0,   0,   0,   0,   0,   0,   0,   0,   0,  59, 253, 253, 221,  16,   0,   0,   0,   0,   0,   0,   0,   0,   0],\n",
              "        [  0,   0,   0,   0,   0,   0,   0,   0,   0,   0,   0,   0,   0,   0, 163, 253, 253, 177,   0,   0,   0,   0,   0,   0,   0,   0,   0,   0],\n",
              "        [  0,   0,   0,   0,   0,   0,   0,   0,   0,   0,   0,   0,   0,  85, 239, 253, 218,  19,   0,   0,   0,   0,   0,   0,   0,   0,   0,   0],\n",
              "        [  0,   0,   0,   0,   0,   0,   0,   0,   0,   0,   0,   0,   0, 196, 253, 253, 111,   0,   0,   0,   0,   0,   0,   0,   0,   0,   0,   0],\n",
              "        [  0,   0,   0,   0,   0,   0,   0,   0,   0,   0,   0,   0,  52, 237, 253, 215,  22,   0,   0,   0,   0,   0,   0,   0,   0,   0,   0,   0],\n",
              "        [  0,   0,   0,   0,   0,   0,   0,   0,   0,   0,   0,   0,  96, 253, 243,  98,   0,   0,   0,   0,   0,   0,   0,   0,   0,   0,   0,   0],\n",
              "        [  0,   0,   0,   0,   0,   0,   0,   0,   0,   0,   0,  13, 210, 253, 194,   0,   0,   0,   0,   0,   0,   0,   0,   0,   0,   0,   0,   0],\n",
              "        [  0,   0,   0,   0,   0,   0,   0,   0,   0,   0,   0,  96, 253, 253, 194,   0,   0,   0,   0,   0,   0,   0,   0,   0,   0,   0,   0,   0],\n",
              "        [  0,   0,   0,   0,   0,   0,   0,   0,   0,   0,   9, 213, 253, 253, 114,   0,   0,   0,   0,   0,   0,   0,   0,   0,   0,   0,   0,   0],\n",
              "        [  0,   0,   0,   0,   0,   0,   0,   0,   0,   0,  96, 253, 253, 214,  27,   0,   0,   0,   0,   0,   0,   0,   0,   0,   0,   0,   0,   0],\n",
              "        [  0,   0,   0,   0,   0,   0,   0,   0,   0,   0, 215, 253, 253, 115,   0,   0,   0,   0,   0,   0,   0,   0,   0,   0,   0,   0,   0,   0],\n",
              "        [  0,   0,   0,   0,   0,   0,   0,   0,   0,   0, 215, 253, 251,  57,   0,   0,   0,   0,   0,   0,   0,   0,   0,   0,   0,   0,   0,   0],\n",
              "        [  0,   0,   0,   0,   0,   0,   0,   0,   0,   0, 148, 253, 115,   0,   0,   0,   0,   0,   0,   0,   0,   0,   0,   0,   0,   0,   0,   0],\n",
              "        [  0,   0,   0,   0,   0,   0,   0,   0,   0,   0,   0,   0,   0,   0,   0,   0,   0,   0,   0,   0,   0,   0,   0,   0,   0,   0,   0,   0]], dtype=torch.uint8)"
            ]
          },
          "metadata": {},
          "execution_count": 26
        }
      ]
    },
    {
      "cell_type": "code",
      "source": [
        "df = pd.DataFrame(im7_t[10:20,7:27])"
      ],
      "metadata": {
        "id": "YRnsRXC9iMvg"
      },
      "execution_count": 27,
      "outputs": []
    },
    {
      "cell_type": "code",
      "source": [
        "#We color code our tensor images\n",
        "df.style.set_properties(**{'font - size':'6pt'}).background_gradient('Greys')"
      ],
      "metadata": {
        "colab": {
          "base_uri": "https://localhost:8080/",
          "height": 363
        },
        "id": "bRPIj-rjiTpc",
        "outputId": "379df2f5-5525-4da7-bfe7-1fcd0e6c1797"
      },
      "execution_count": 28,
      "outputs": [
        {
          "output_type": "execute_result",
          "data": {
            "text/html": [
              "<style type=\"text/css\">\n",
              "#T_4ca07_row0_col0, #T_4ca07_row0_col8, #T_4ca07_row0_col13, #T_4ca07_row0_col14, #T_4ca07_row0_col15, #T_4ca07_row0_col16, #T_4ca07_row0_col17, #T_4ca07_row0_col18, #T_4ca07_row0_col19, #T_4ca07_row1_col0, #T_4ca07_row1_col1, #T_4ca07_row1_col3, #T_4ca07_row1_col4, #T_4ca07_row1_col5, #T_4ca07_row1_col6, #T_4ca07_row1_col7, #T_4ca07_row1_col13, #T_4ca07_row1_col14, #T_4ca07_row1_col15, #T_4ca07_row1_col16, #T_4ca07_row1_col17, #T_4ca07_row1_col18, #T_4ca07_row1_col19, #T_4ca07_row2_col0, #T_4ca07_row2_col1, #T_4ca07_row2_col2, #T_4ca07_row2_col3, #T_4ca07_row2_col4, #T_4ca07_row2_col5, #T_4ca07_row2_col6, #T_4ca07_row2_col7, #T_4ca07_row2_col12, #T_4ca07_row2_col13, #T_4ca07_row2_col14, #T_4ca07_row2_col15, #T_4ca07_row2_col16, #T_4ca07_row2_col17, #T_4ca07_row2_col18, #T_4ca07_row2_col19, #T_4ca07_row3_col0, #T_4ca07_row3_col1, #T_4ca07_row3_col2, #T_4ca07_row3_col3, #T_4ca07_row3_col4, #T_4ca07_row3_col5, #T_4ca07_row3_col6, #T_4ca07_row3_col12, #T_4ca07_row3_col13, #T_4ca07_row3_col14, #T_4ca07_row3_col15, #T_4ca07_row3_col16, #T_4ca07_row3_col17, #T_4ca07_row3_col18, #T_4ca07_row3_col19, #T_4ca07_row4_col0, #T_4ca07_row4_col1, #T_4ca07_row4_col2, #T_4ca07_row4_col3, #T_4ca07_row4_col4, #T_4ca07_row4_col5, #T_4ca07_row4_col6, #T_4ca07_row4_col12, #T_4ca07_row4_col13, #T_4ca07_row4_col14, #T_4ca07_row4_col15, #T_4ca07_row4_col16, #T_4ca07_row4_col17, #T_4ca07_row4_col18, #T_4ca07_row4_col19, #T_4ca07_row5_col0, #T_4ca07_row5_col1, #T_4ca07_row5_col2, #T_4ca07_row5_col3, #T_4ca07_row5_col4, #T_4ca07_row5_col5, #T_4ca07_row5_col6, #T_4ca07_row5_col11, #T_4ca07_row5_col12, #T_4ca07_row5_col13, #T_4ca07_row5_col14, #T_4ca07_row5_col15, #T_4ca07_row5_col16, #T_4ca07_row5_col17, #T_4ca07_row5_col18, #T_4ca07_row5_col19, #T_4ca07_row6_col0, #T_4ca07_row6_col1, #T_4ca07_row6_col2, #T_4ca07_row6_col3, #T_4ca07_row6_col4, #T_4ca07_row6_col5, #T_4ca07_row6_col11, #T_4ca07_row6_col12, #T_4ca07_row6_col13, #T_4ca07_row6_col14, #T_4ca07_row6_col15, #T_4ca07_row6_col16, #T_4ca07_row6_col17, #T_4ca07_row6_col18, #T_4ca07_row6_col19, #T_4ca07_row7_col0, #T_4ca07_row7_col1, #T_4ca07_row7_col2, #T_4ca07_row7_col3, #T_4ca07_row7_col4, #T_4ca07_row7_col5, #T_4ca07_row7_col10, #T_4ca07_row7_col11, #T_4ca07_row7_col12, #T_4ca07_row7_col13, #T_4ca07_row7_col14, #T_4ca07_row7_col15, #T_4ca07_row7_col16, #T_4ca07_row7_col17, #T_4ca07_row7_col18, #T_4ca07_row7_col19, #T_4ca07_row8_col0, #T_4ca07_row8_col1, #T_4ca07_row8_col2, #T_4ca07_row8_col3, #T_4ca07_row8_col4, #T_4ca07_row8_col10, #T_4ca07_row8_col11, #T_4ca07_row8_col12, #T_4ca07_row8_col13, #T_4ca07_row8_col14, #T_4ca07_row8_col15, #T_4ca07_row8_col16, #T_4ca07_row8_col17, #T_4ca07_row8_col18, #T_4ca07_row8_col19, #T_4ca07_row9_col0, #T_4ca07_row9_col1, #T_4ca07_row9_col2, #T_4ca07_row9_col3, #T_4ca07_row9_col4, #T_4ca07_row9_col9, #T_4ca07_row9_col10, #T_4ca07_row9_col11, #T_4ca07_row9_col12, #T_4ca07_row9_col13, #T_4ca07_row9_col14, #T_4ca07_row9_col15, #T_4ca07_row9_col16, #T_4ca07_row9_col17, #T_4ca07_row9_col18, #T_4ca07_row9_col19 {\n",
              "  font - size: 6pt;\n",
              "  background-color: #ffffff;\n",
              "  color: #000000;\n",
              "}\n",
              "#T_4ca07_row0_col1, #T_4ca07_row0_col2, #T_4ca07_row0_col3, #T_4ca07_row0_col4, #T_4ca07_row0_col10, #T_4ca07_row0_col11, #T_4ca07_row0_col12, #T_4ca07_row1_col10, #T_4ca07_row2_col9, #T_4ca07_row2_col10, #T_4ca07_row3_col9, #T_4ca07_row3_col10, #T_4ca07_row4_col8, #T_4ca07_row4_col9, #T_4ca07_row5_col8, #T_4ca07_row5_col9, #T_4ca07_row6_col8, #T_4ca07_row7_col7, #T_4ca07_row7_col8, #T_4ca07_row8_col7, #T_4ca07_row9_col5, #T_4ca07_row9_col6 {\n",
              "  font - size: 6pt;\n",
              "  background-color: #000000;\n",
              "  color: #f1f1f1;\n",
              "}\n",
              "#T_4ca07_row0_col5 {\n",
              "  font - size: 6pt;\n",
              "  background-color: #e3e3e3;\n",
              "  color: #000000;\n",
              "}\n",
              "#T_4ca07_row0_col6, #T_4ca07_row0_col7, #T_4ca07_row6_col10 {\n",
              "  font - size: 6pt;\n",
              "  background-color: #f6f6f6;\n",
              "  color: #000000;\n",
              "}\n",
              "#T_4ca07_row0_col9 {\n",
              "  font - size: 6pt;\n",
              "  background-color: #5a5a5a;\n",
              "  color: #f1f1f1;\n",
              "}\n",
              "#T_4ca07_row1_col2, #T_4ca07_row4_col11 {\n",
              "  font - size: 6pt;\n",
              "  background-color: #f7f7f7;\n",
              "  color: #000000;\n",
              "}\n",
              "#T_4ca07_row1_col8 {\n",
              "  font - size: 6pt;\n",
              "  background-color: #f0f0f0;\n",
              "  color: #000000;\n",
              "}\n",
              "#T_4ca07_row1_col9 {\n",
              "  font - size: 6pt;\n",
              "  background-color: #080808;\n",
              "  color: #f1f1f1;\n",
              "}\n",
              "#T_4ca07_row1_col11 {\n",
              "  font - size: 6pt;\n",
              "  background-color: #222222;\n",
              "  color: #f1f1f1;\n",
              "}\n",
              "#T_4ca07_row1_col12 {\n",
              "  font - size: 6pt;\n",
              "  background-color: #f3f3f3;\n",
              "  color: #000000;\n",
              "}\n",
              "#T_4ca07_row2_col8 {\n",
              "  font - size: 6pt;\n",
              "  background-color: #727272;\n",
              "  color: #f1f1f1;\n",
              "}\n",
              "#T_4ca07_row2_col11 {\n",
              "  font - size: 6pt;\n",
              "  background-color: #636363;\n",
              "  color: #f1f1f1;\n",
              "}\n",
              "#T_4ca07_row3_col7 {\n",
              "  font - size: 6pt;\n",
              "  background-color: #e2e2e2;\n",
              "  color: #000000;\n",
              "}\n",
              "#T_4ca07_row3_col8, #T_4ca07_row9_col7 {\n",
              "  font - size: 6pt;\n",
              "  background-color: #0c0c0c;\n",
              "  color: #f1f1f1;\n",
              "}\n",
              "#T_4ca07_row3_col11 {\n",
              "  font - size: 6pt;\n",
              "  background-color: #c0c0c0;\n",
              "  color: #000000;\n",
              "}\n",
              "#T_4ca07_row4_col7 {\n",
              "  font - size: 6pt;\n",
              "  background-color: #dcdcdc;\n",
              "  color: #000000;\n",
              "}\n",
              "#T_4ca07_row4_col10 {\n",
              "  font - size: 6pt;\n",
              "  background-color: #252525;\n",
              "  color: #f1f1f1;\n",
              "}\n",
              "#T_4ca07_row5_col7 {\n",
              "  font - size: 6pt;\n",
              "  background-color: #6e6e6e;\n",
              "  color: #f1f1f1;\n",
              "}\n",
              "#T_4ca07_row5_col10 {\n",
              "  font - size: 6pt;\n",
              "  background-color: #5f5f5f;\n",
              "  color: #f1f1f1;\n",
              "}\n",
              "#T_4ca07_row6_col6, #T_4ca07_row9_col8 {\n",
              "  font - size: 6pt;\n",
              "  background-color: #c5c5c5;\n",
              "  color: #000000;\n",
              "}\n",
              "#T_4ca07_row6_col7 {\n",
              "  font - size: 6pt;\n",
              "  background-color: #101010;\n",
              "  color: #f1f1f1;\n",
              "}\n",
              "#T_4ca07_row6_col9 {\n",
              "  font - size: 6pt;\n",
              "  background-color: #292929;\n",
              "  color: #f1f1f1;\n",
              "}\n",
              "#T_4ca07_row7_col6 {\n",
              "  font - size: 6pt;\n",
              "  background-color: #484848;\n",
              "  color: #f1f1f1;\n",
              "}\n",
              "#T_4ca07_row7_col9 {\n",
              "  font - size: 6pt;\n",
              "  background-color: #a9a9a9;\n",
              "  color: #f1f1f1;\n",
              "}\n",
              "#T_4ca07_row8_col5 {\n",
              "  font - size: 6pt;\n",
              "  background-color: #8a8a8a;\n",
              "  color: #f1f1f1;\n",
              "}\n",
              "#T_4ca07_row8_col6 {\n",
              "  font - size: 6pt;\n",
              "  background-color: #131313;\n",
              "  color: #f1f1f1;\n",
              "}\n",
              "#T_4ca07_row8_col8 {\n",
              "  font - size: 6pt;\n",
              "  background-color: #323232;\n",
              "  color: #f1f1f1;\n",
              "}\n",
              "#T_4ca07_row8_col9 {\n",
              "  font - size: 6pt;\n",
              "  background-color: #f5f5f5;\n",
              "  color: #000000;\n",
              "}\n",
              "</style>\n",
              "<table id=\"T_4ca07_\" class=\"dataframe\">\n",
              "  <thead>\n",
              "    <tr>\n",
              "      <th class=\"blank level0\" >&nbsp;</th>\n",
              "      <th class=\"col_heading level0 col0\" >0</th>\n",
              "      <th class=\"col_heading level0 col1\" >1</th>\n",
              "      <th class=\"col_heading level0 col2\" >2</th>\n",
              "      <th class=\"col_heading level0 col3\" >3</th>\n",
              "      <th class=\"col_heading level0 col4\" >4</th>\n",
              "      <th class=\"col_heading level0 col5\" >5</th>\n",
              "      <th class=\"col_heading level0 col6\" >6</th>\n",
              "      <th class=\"col_heading level0 col7\" >7</th>\n",
              "      <th class=\"col_heading level0 col8\" >8</th>\n",
              "      <th class=\"col_heading level0 col9\" >9</th>\n",
              "      <th class=\"col_heading level0 col10\" >10</th>\n",
              "      <th class=\"col_heading level0 col11\" >11</th>\n",
              "      <th class=\"col_heading level0 col12\" >12</th>\n",
              "      <th class=\"col_heading level0 col13\" >13</th>\n",
              "      <th class=\"col_heading level0 col14\" >14</th>\n",
              "      <th class=\"col_heading level0 col15\" >15</th>\n",
              "      <th class=\"col_heading level0 col16\" >16</th>\n",
              "      <th class=\"col_heading level0 col17\" >17</th>\n",
              "      <th class=\"col_heading level0 col18\" >18</th>\n",
              "      <th class=\"col_heading level0 col19\" >19</th>\n",
              "    </tr>\n",
              "  </thead>\n",
              "  <tbody>\n",
              "    <tr>\n",
              "      <th id=\"T_4ca07_level0_row0\" class=\"row_heading level0 row0\" >0</th>\n",
              "      <td id=\"T_4ca07_row0_col0\" class=\"data row0 col0\" >0</td>\n",
              "      <td id=\"T_4ca07_row0_col1\" class=\"data row0 col1\" >68</td>\n",
              "      <td id=\"T_4ca07_row0_col2\" class=\"data row0 col2\" >203</td>\n",
              "      <td id=\"T_4ca07_row0_col3\" class=\"data row0 col3\" >149</td>\n",
              "      <td id=\"T_4ca07_row0_col4\" class=\"data row0 col4\" >42</td>\n",
              "      <td id=\"T_4ca07_row0_col5\" class=\"data row0 col5\" >19</td>\n",
              "      <td id=\"T_4ca07_row0_col6\" class=\"data row0 col6\" >19</td>\n",
              "      <td id=\"T_4ca07_row0_col7\" class=\"data row0 col7\" >19</td>\n",
              "      <td id=\"T_4ca07_row0_col8\" class=\"data row0 col8\" >19</td>\n",
              "      <td id=\"T_4ca07_row0_col9\" class=\"data row0 col9\" >182</td>\n",
              "      <td id=\"T_4ca07_row0_col10\" class=\"data row0 col10\" >253</td>\n",
              "      <td id=\"T_4ca07_row0_col11\" class=\"data row0 col11\" >253</td>\n",
              "      <td id=\"T_4ca07_row0_col12\" class=\"data row0 col12\" >97</td>\n",
              "      <td id=\"T_4ca07_row0_col13\" class=\"data row0 col13\" >0</td>\n",
              "      <td id=\"T_4ca07_row0_col14\" class=\"data row0 col14\" >0</td>\n",
              "      <td id=\"T_4ca07_row0_col15\" class=\"data row0 col15\" >0</td>\n",
              "      <td id=\"T_4ca07_row0_col16\" class=\"data row0 col16\" >0</td>\n",
              "      <td id=\"T_4ca07_row0_col17\" class=\"data row0 col17\" >0</td>\n",
              "      <td id=\"T_4ca07_row0_col18\" class=\"data row0 col18\" >0</td>\n",
              "      <td id=\"T_4ca07_row0_col19\" class=\"data row0 col19\" >0</td>\n",
              "    </tr>\n",
              "    <tr>\n",
              "      <th id=\"T_4ca07_level0_row1\" class=\"row_heading level0 row1\" >1</th>\n",
              "      <td id=\"T_4ca07_row1_col0\" class=\"data row1 col0\" >0</td>\n",
              "      <td id=\"T_4ca07_row1_col1\" class=\"data row1 col1\" >0</td>\n",
              "      <td id=\"T_4ca07_row1_col2\" class=\"data row1 col2\" >13</td>\n",
              "      <td id=\"T_4ca07_row1_col3\" class=\"data row1 col3\" >0</td>\n",
              "      <td id=\"T_4ca07_row1_col4\" class=\"data row1 col4\" >0</td>\n",
              "      <td id=\"T_4ca07_row1_col5\" class=\"data row1 col5\" >0</td>\n",
              "      <td id=\"T_4ca07_row1_col6\" class=\"data row1 col6\" >0</td>\n",
              "      <td id=\"T_4ca07_row1_col7\" class=\"data row1 col7\" >0</td>\n",
              "      <td id=\"T_4ca07_row1_col8\" class=\"data row1 col8\" >48</td>\n",
              "      <td id=\"T_4ca07_row1_col9\" class=\"data row1 col9\" >246</td>\n",
              "      <td id=\"T_4ca07_row1_col10\" class=\"data row1 col10\" >253</td>\n",
              "      <td id=\"T_4ca07_row1_col11\" class=\"data row1 col11\" >224</td>\n",
              "      <td id=\"T_4ca07_row1_col12\" class=\"data row1 col12\" >10</td>\n",
              "      <td id=\"T_4ca07_row1_col13\" class=\"data row1 col13\" >0</td>\n",
              "      <td id=\"T_4ca07_row1_col14\" class=\"data row1 col14\" >0</td>\n",
              "      <td id=\"T_4ca07_row1_col15\" class=\"data row1 col15\" >0</td>\n",
              "      <td id=\"T_4ca07_row1_col16\" class=\"data row1 col16\" >0</td>\n",
              "      <td id=\"T_4ca07_row1_col17\" class=\"data row1 col17\" >0</td>\n",
              "      <td id=\"T_4ca07_row1_col18\" class=\"data row1 col18\" >0</td>\n",
              "      <td id=\"T_4ca07_row1_col19\" class=\"data row1 col19\" >0</td>\n",
              "    </tr>\n",
              "    <tr>\n",
              "      <th id=\"T_4ca07_level0_row2\" class=\"row_heading level0 row2\" >2</th>\n",
              "      <td id=\"T_4ca07_row2_col0\" class=\"data row2 col0\" >0</td>\n",
              "      <td id=\"T_4ca07_row2_col1\" class=\"data row2 col1\" >0</td>\n",
              "      <td id=\"T_4ca07_row2_col2\" class=\"data row2 col2\" >0</td>\n",
              "      <td id=\"T_4ca07_row2_col3\" class=\"data row2 col3\" >0</td>\n",
              "      <td id=\"T_4ca07_row2_col4\" class=\"data row2 col4\" >0</td>\n",
              "      <td id=\"T_4ca07_row2_col5\" class=\"data row2 col5\" >0</td>\n",
              "      <td id=\"T_4ca07_row2_col6\" class=\"data row2 col6\" >0</td>\n",
              "      <td id=\"T_4ca07_row2_col7\" class=\"data row2 col7\" >0</td>\n",
              "      <td id=\"T_4ca07_row2_col8\" class=\"data row2 col8\" >166</td>\n",
              "      <td id=\"T_4ca07_row2_col9\" class=\"data row2 col9\" >253</td>\n",
              "      <td id=\"T_4ca07_row2_col10\" class=\"data row2 col10\" >253</td>\n",
              "      <td id=\"T_4ca07_row2_col11\" class=\"data row2 col11\" >173</td>\n",
              "      <td id=\"T_4ca07_row2_col12\" class=\"data row2 col12\" >0</td>\n",
              "      <td id=\"T_4ca07_row2_col13\" class=\"data row2 col13\" >0</td>\n",
              "      <td id=\"T_4ca07_row2_col14\" class=\"data row2 col14\" >0</td>\n",
              "      <td id=\"T_4ca07_row2_col15\" class=\"data row2 col15\" >0</td>\n",
              "      <td id=\"T_4ca07_row2_col16\" class=\"data row2 col16\" >0</td>\n",
              "      <td id=\"T_4ca07_row2_col17\" class=\"data row2 col17\" >0</td>\n",
              "      <td id=\"T_4ca07_row2_col18\" class=\"data row2 col18\" >0</td>\n",
              "      <td id=\"T_4ca07_row2_col19\" class=\"data row2 col19\" >0</td>\n",
              "    </tr>\n",
              "    <tr>\n",
              "      <th id=\"T_4ca07_level0_row3\" class=\"row_heading level0 row3\" >3</th>\n",
              "      <td id=\"T_4ca07_row3_col0\" class=\"data row3 col0\" >0</td>\n",
              "      <td id=\"T_4ca07_row3_col1\" class=\"data row3 col1\" >0</td>\n",
              "      <td id=\"T_4ca07_row3_col2\" class=\"data row3 col2\" >0</td>\n",
              "      <td id=\"T_4ca07_row3_col3\" class=\"data row3 col3\" >0</td>\n",
              "      <td id=\"T_4ca07_row3_col4\" class=\"data row3 col4\" >0</td>\n",
              "      <td id=\"T_4ca07_row3_col5\" class=\"data row3 col5\" >0</td>\n",
              "      <td id=\"T_4ca07_row3_col6\" class=\"data row3 col6\" >0</td>\n",
              "      <td id=\"T_4ca07_row3_col7\" class=\"data row3 col7\" >51</td>\n",
              "      <td id=\"T_4ca07_row3_col8\" class=\"data row3 col8\" >243</td>\n",
              "      <td id=\"T_4ca07_row3_col9\" class=\"data row3 col9\" >253</td>\n",
              "      <td id=\"T_4ca07_row3_col10\" class=\"data row3 col10\" >253</td>\n",
              "      <td id=\"T_4ca07_row3_col11\" class=\"data row3 col11\" >91</td>\n",
              "      <td id=\"T_4ca07_row3_col12\" class=\"data row3 col12\" >0</td>\n",
              "      <td id=\"T_4ca07_row3_col13\" class=\"data row3 col13\" >0</td>\n",
              "      <td id=\"T_4ca07_row3_col14\" class=\"data row3 col14\" >0</td>\n",
              "      <td id=\"T_4ca07_row3_col15\" class=\"data row3 col15\" >0</td>\n",
              "      <td id=\"T_4ca07_row3_col16\" class=\"data row3 col16\" >0</td>\n",
              "      <td id=\"T_4ca07_row3_col17\" class=\"data row3 col17\" >0</td>\n",
              "      <td id=\"T_4ca07_row3_col18\" class=\"data row3 col18\" >0</td>\n",
              "      <td id=\"T_4ca07_row3_col19\" class=\"data row3 col19\" >0</td>\n",
              "    </tr>\n",
              "    <tr>\n",
              "      <th id=\"T_4ca07_level0_row4\" class=\"row_heading level0 row4\" >4</th>\n",
              "      <td id=\"T_4ca07_row4_col0\" class=\"data row4 col0\" >0</td>\n",
              "      <td id=\"T_4ca07_row4_col1\" class=\"data row4 col1\" >0</td>\n",
              "      <td id=\"T_4ca07_row4_col2\" class=\"data row4 col2\" >0</td>\n",
              "      <td id=\"T_4ca07_row4_col3\" class=\"data row4 col3\" >0</td>\n",
              "      <td id=\"T_4ca07_row4_col4\" class=\"data row4 col4\" >0</td>\n",
              "      <td id=\"T_4ca07_row4_col5\" class=\"data row4 col5\" >0</td>\n",
              "      <td id=\"T_4ca07_row4_col6\" class=\"data row4 col6\" >0</td>\n",
              "      <td id=\"T_4ca07_row4_col7\" class=\"data row4 col7\" >59</td>\n",
              "      <td id=\"T_4ca07_row4_col8\" class=\"data row4 col8\" >253</td>\n",
              "      <td id=\"T_4ca07_row4_col9\" class=\"data row4 col9\" >253</td>\n",
              "      <td id=\"T_4ca07_row4_col10\" class=\"data row4 col10\" >221</td>\n",
              "      <td id=\"T_4ca07_row4_col11\" class=\"data row4 col11\" >16</td>\n",
              "      <td id=\"T_4ca07_row4_col12\" class=\"data row4 col12\" >0</td>\n",
              "      <td id=\"T_4ca07_row4_col13\" class=\"data row4 col13\" >0</td>\n",
              "      <td id=\"T_4ca07_row4_col14\" class=\"data row4 col14\" >0</td>\n",
              "      <td id=\"T_4ca07_row4_col15\" class=\"data row4 col15\" >0</td>\n",
              "      <td id=\"T_4ca07_row4_col16\" class=\"data row4 col16\" >0</td>\n",
              "      <td id=\"T_4ca07_row4_col17\" class=\"data row4 col17\" >0</td>\n",
              "      <td id=\"T_4ca07_row4_col18\" class=\"data row4 col18\" >0</td>\n",
              "      <td id=\"T_4ca07_row4_col19\" class=\"data row4 col19\" >0</td>\n",
              "    </tr>\n",
              "    <tr>\n",
              "      <th id=\"T_4ca07_level0_row5\" class=\"row_heading level0 row5\" >5</th>\n",
              "      <td id=\"T_4ca07_row5_col0\" class=\"data row5 col0\" >0</td>\n",
              "      <td id=\"T_4ca07_row5_col1\" class=\"data row5 col1\" >0</td>\n",
              "      <td id=\"T_4ca07_row5_col2\" class=\"data row5 col2\" >0</td>\n",
              "      <td id=\"T_4ca07_row5_col3\" class=\"data row5 col3\" >0</td>\n",
              "      <td id=\"T_4ca07_row5_col4\" class=\"data row5 col4\" >0</td>\n",
              "      <td id=\"T_4ca07_row5_col5\" class=\"data row5 col5\" >0</td>\n",
              "      <td id=\"T_4ca07_row5_col6\" class=\"data row5 col6\" >0</td>\n",
              "      <td id=\"T_4ca07_row5_col7\" class=\"data row5 col7\" >163</td>\n",
              "      <td id=\"T_4ca07_row5_col8\" class=\"data row5 col8\" >253</td>\n",
              "      <td id=\"T_4ca07_row5_col9\" class=\"data row5 col9\" >253</td>\n",
              "      <td id=\"T_4ca07_row5_col10\" class=\"data row5 col10\" >177</td>\n",
              "      <td id=\"T_4ca07_row5_col11\" class=\"data row5 col11\" >0</td>\n",
              "      <td id=\"T_4ca07_row5_col12\" class=\"data row5 col12\" >0</td>\n",
              "      <td id=\"T_4ca07_row5_col13\" class=\"data row5 col13\" >0</td>\n",
              "      <td id=\"T_4ca07_row5_col14\" class=\"data row5 col14\" >0</td>\n",
              "      <td id=\"T_4ca07_row5_col15\" class=\"data row5 col15\" >0</td>\n",
              "      <td id=\"T_4ca07_row5_col16\" class=\"data row5 col16\" >0</td>\n",
              "      <td id=\"T_4ca07_row5_col17\" class=\"data row5 col17\" >0</td>\n",
              "      <td id=\"T_4ca07_row5_col18\" class=\"data row5 col18\" >0</td>\n",
              "      <td id=\"T_4ca07_row5_col19\" class=\"data row5 col19\" >0</td>\n",
              "    </tr>\n",
              "    <tr>\n",
              "      <th id=\"T_4ca07_level0_row6\" class=\"row_heading level0 row6\" >6</th>\n",
              "      <td id=\"T_4ca07_row6_col0\" class=\"data row6 col0\" >0</td>\n",
              "      <td id=\"T_4ca07_row6_col1\" class=\"data row6 col1\" >0</td>\n",
              "      <td id=\"T_4ca07_row6_col2\" class=\"data row6 col2\" >0</td>\n",
              "      <td id=\"T_4ca07_row6_col3\" class=\"data row6 col3\" >0</td>\n",
              "      <td id=\"T_4ca07_row6_col4\" class=\"data row6 col4\" >0</td>\n",
              "      <td id=\"T_4ca07_row6_col5\" class=\"data row6 col5\" >0</td>\n",
              "      <td id=\"T_4ca07_row6_col6\" class=\"data row6 col6\" >85</td>\n",
              "      <td id=\"T_4ca07_row6_col7\" class=\"data row6 col7\" >239</td>\n",
              "      <td id=\"T_4ca07_row6_col8\" class=\"data row6 col8\" >253</td>\n",
              "      <td id=\"T_4ca07_row6_col9\" class=\"data row6 col9\" >218</td>\n",
              "      <td id=\"T_4ca07_row6_col10\" class=\"data row6 col10\" >19</td>\n",
              "      <td id=\"T_4ca07_row6_col11\" class=\"data row6 col11\" >0</td>\n",
              "      <td id=\"T_4ca07_row6_col12\" class=\"data row6 col12\" >0</td>\n",
              "      <td id=\"T_4ca07_row6_col13\" class=\"data row6 col13\" >0</td>\n",
              "      <td id=\"T_4ca07_row6_col14\" class=\"data row6 col14\" >0</td>\n",
              "      <td id=\"T_4ca07_row6_col15\" class=\"data row6 col15\" >0</td>\n",
              "      <td id=\"T_4ca07_row6_col16\" class=\"data row6 col16\" >0</td>\n",
              "      <td id=\"T_4ca07_row6_col17\" class=\"data row6 col17\" >0</td>\n",
              "      <td id=\"T_4ca07_row6_col18\" class=\"data row6 col18\" >0</td>\n",
              "      <td id=\"T_4ca07_row6_col19\" class=\"data row6 col19\" >0</td>\n",
              "    </tr>\n",
              "    <tr>\n",
              "      <th id=\"T_4ca07_level0_row7\" class=\"row_heading level0 row7\" >7</th>\n",
              "      <td id=\"T_4ca07_row7_col0\" class=\"data row7 col0\" >0</td>\n",
              "      <td id=\"T_4ca07_row7_col1\" class=\"data row7 col1\" >0</td>\n",
              "      <td id=\"T_4ca07_row7_col2\" class=\"data row7 col2\" >0</td>\n",
              "      <td id=\"T_4ca07_row7_col3\" class=\"data row7 col3\" >0</td>\n",
              "      <td id=\"T_4ca07_row7_col4\" class=\"data row7 col4\" >0</td>\n",
              "      <td id=\"T_4ca07_row7_col5\" class=\"data row7 col5\" >0</td>\n",
              "      <td id=\"T_4ca07_row7_col6\" class=\"data row7 col6\" >196</td>\n",
              "      <td id=\"T_4ca07_row7_col7\" class=\"data row7 col7\" >253</td>\n",
              "      <td id=\"T_4ca07_row7_col8\" class=\"data row7 col8\" >253</td>\n",
              "      <td id=\"T_4ca07_row7_col9\" class=\"data row7 col9\" >111</td>\n",
              "      <td id=\"T_4ca07_row7_col10\" class=\"data row7 col10\" >0</td>\n",
              "      <td id=\"T_4ca07_row7_col11\" class=\"data row7 col11\" >0</td>\n",
              "      <td id=\"T_4ca07_row7_col12\" class=\"data row7 col12\" >0</td>\n",
              "      <td id=\"T_4ca07_row7_col13\" class=\"data row7 col13\" >0</td>\n",
              "      <td id=\"T_4ca07_row7_col14\" class=\"data row7 col14\" >0</td>\n",
              "      <td id=\"T_4ca07_row7_col15\" class=\"data row7 col15\" >0</td>\n",
              "      <td id=\"T_4ca07_row7_col16\" class=\"data row7 col16\" >0</td>\n",
              "      <td id=\"T_4ca07_row7_col17\" class=\"data row7 col17\" >0</td>\n",
              "      <td id=\"T_4ca07_row7_col18\" class=\"data row7 col18\" >0</td>\n",
              "      <td id=\"T_4ca07_row7_col19\" class=\"data row7 col19\" >0</td>\n",
              "    </tr>\n",
              "    <tr>\n",
              "      <th id=\"T_4ca07_level0_row8\" class=\"row_heading level0 row8\" >8</th>\n",
              "      <td id=\"T_4ca07_row8_col0\" class=\"data row8 col0\" >0</td>\n",
              "      <td id=\"T_4ca07_row8_col1\" class=\"data row8 col1\" >0</td>\n",
              "      <td id=\"T_4ca07_row8_col2\" class=\"data row8 col2\" >0</td>\n",
              "      <td id=\"T_4ca07_row8_col3\" class=\"data row8 col3\" >0</td>\n",
              "      <td id=\"T_4ca07_row8_col4\" class=\"data row8 col4\" >0</td>\n",
              "      <td id=\"T_4ca07_row8_col5\" class=\"data row8 col5\" >52</td>\n",
              "      <td id=\"T_4ca07_row8_col6\" class=\"data row8 col6\" >237</td>\n",
              "      <td id=\"T_4ca07_row8_col7\" class=\"data row8 col7\" >253</td>\n",
              "      <td id=\"T_4ca07_row8_col8\" class=\"data row8 col8\" >215</td>\n",
              "      <td id=\"T_4ca07_row8_col9\" class=\"data row8 col9\" >22</td>\n",
              "      <td id=\"T_4ca07_row8_col10\" class=\"data row8 col10\" >0</td>\n",
              "      <td id=\"T_4ca07_row8_col11\" class=\"data row8 col11\" >0</td>\n",
              "      <td id=\"T_4ca07_row8_col12\" class=\"data row8 col12\" >0</td>\n",
              "      <td id=\"T_4ca07_row8_col13\" class=\"data row8 col13\" >0</td>\n",
              "      <td id=\"T_4ca07_row8_col14\" class=\"data row8 col14\" >0</td>\n",
              "      <td id=\"T_4ca07_row8_col15\" class=\"data row8 col15\" >0</td>\n",
              "      <td id=\"T_4ca07_row8_col16\" class=\"data row8 col16\" >0</td>\n",
              "      <td id=\"T_4ca07_row8_col17\" class=\"data row8 col17\" >0</td>\n",
              "      <td id=\"T_4ca07_row8_col18\" class=\"data row8 col18\" >0</td>\n",
              "      <td id=\"T_4ca07_row8_col19\" class=\"data row8 col19\" >0</td>\n",
              "    </tr>\n",
              "    <tr>\n",
              "      <th id=\"T_4ca07_level0_row9\" class=\"row_heading level0 row9\" >9</th>\n",
              "      <td id=\"T_4ca07_row9_col0\" class=\"data row9 col0\" >0</td>\n",
              "      <td id=\"T_4ca07_row9_col1\" class=\"data row9 col1\" >0</td>\n",
              "      <td id=\"T_4ca07_row9_col2\" class=\"data row9 col2\" >0</td>\n",
              "      <td id=\"T_4ca07_row9_col3\" class=\"data row9 col3\" >0</td>\n",
              "      <td id=\"T_4ca07_row9_col4\" class=\"data row9 col4\" >0</td>\n",
              "      <td id=\"T_4ca07_row9_col5\" class=\"data row9 col5\" >96</td>\n",
              "      <td id=\"T_4ca07_row9_col6\" class=\"data row9 col6\" >253</td>\n",
              "      <td id=\"T_4ca07_row9_col7\" class=\"data row9 col7\" >243</td>\n",
              "      <td id=\"T_4ca07_row9_col8\" class=\"data row9 col8\" >98</td>\n",
              "      <td id=\"T_4ca07_row9_col9\" class=\"data row9 col9\" >0</td>\n",
              "      <td id=\"T_4ca07_row9_col10\" class=\"data row9 col10\" >0</td>\n",
              "      <td id=\"T_4ca07_row9_col11\" class=\"data row9 col11\" >0</td>\n",
              "      <td id=\"T_4ca07_row9_col12\" class=\"data row9 col12\" >0</td>\n",
              "      <td id=\"T_4ca07_row9_col13\" class=\"data row9 col13\" >0</td>\n",
              "      <td id=\"T_4ca07_row9_col14\" class=\"data row9 col14\" >0</td>\n",
              "      <td id=\"T_4ca07_row9_col15\" class=\"data row9 col15\" >0</td>\n",
              "      <td id=\"T_4ca07_row9_col16\" class=\"data row9 col16\" >0</td>\n",
              "      <td id=\"T_4ca07_row9_col17\" class=\"data row9 col17\" >0</td>\n",
              "      <td id=\"T_4ca07_row9_col18\" class=\"data row9 col18\" >0</td>\n",
              "      <td id=\"T_4ca07_row9_col19\" class=\"data row9 col19\" >0</td>\n",
              "    </tr>\n",
              "  </tbody>\n",
              "</table>\n"
            ],
            "text/plain": [
              "<pandas.io.formats.style.Styler at 0x7fef3d645910>"
            ]
          },
          "metadata": {},
          "execution_count": 28
        }
      ]
    },
    {
      "cell_type": "code",
      "source": [
        "import torchvision"
      ],
      "metadata": {
        "id": "f0ndUn-4injH"
      },
      "execution_count": 119,
      "outputs": []
    },
    {
      "cell_type": "code",
      "source": [
        "#Here we turn the tensors into a stack and turn them into floating point numbers between 0  and 1  through calling the .float()method and dividing by 255\n",
        "sevens_stack = torch.stack(sevens_tensors).float() /255"
      ],
      "metadata": {
        "id": "U2chjkhckCi6"
      },
      "execution_count": 30,
      "outputs": []
    },
    {
      "cell_type": "code",
      "source": [
        "threes_stack = torch.stack(threes_tensors).float() /255"
      ],
      "metadata": {
        "id": "gD_vHwIQkv6W"
      },
      "execution_count": 31,
      "outputs": []
    },
    {
      "cell_type": "code",
      "source": [
        "sevens_stack[0]"
      ],
      "metadata": {
        "id": "WDuQraCOlJg4",
        "colab": {
          "base_uri": "https://localhost:8080/"
        },
        "outputId": "d558badf-3085-4646-98b2-9bccd9f5babf"
      },
      "execution_count": 32,
      "outputs": [
        {
          "output_type": "execute_result",
          "data": {
            "text/plain": [
              "tensor([[0.0000, 0.0000, 0.0000, 0.0000, 0.0000, 0.0000, 0.0000, 0.0000, 0.0000, 0.0000, 0.0000, 0.0000, 0.0000, 0.0000, 0.0000, 0.0000, 0.0000, 0.0000, 0.0000, 0.0000, 0.0000, 0.0000, 0.0000, 0.0000,\n",
              "         0.0000, 0.0000, 0.0000, 0.0000],\n",
              "        [0.0000, 0.0000, 0.0000, 0.0000, 0.0000, 0.0000, 0.0000, 0.0000, 0.0000, 0.0000, 0.0000, 0.0000, 0.0000, 0.0000, 0.0000, 0.0000, 0.0000, 0.0000, 0.0000, 0.0000, 0.0000, 0.0000, 0.0000, 0.0000,\n",
              "         0.0000, 0.0000, 0.0000, 0.0000],\n",
              "        [0.0000, 0.0000, 0.0000, 0.0000, 0.0000, 0.0000, 0.0000, 0.0000, 0.0000, 0.0000, 0.0000, 0.0000, 0.0000, 0.0000, 0.0000, 0.0000, 0.0000, 0.0000, 0.0000, 0.0000, 0.0000, 0.0000, 0.0000, 0.0000,\n",
              "         0.0000, 0.0000, 0.0000, 0.0000],\n",
              "        [0.0000, 0.0000, 0.0000, 0.0000, 0.0000, 0.0000, 0.0000, 0.0000, 0.0000, 0.0000, 0.0000, 0.0000, 0.0000, 0.0000, 0.0000, 0.0000, 0.0000, 0.0000, 0.0000, 0.0000, 0.0000, 0.0000, 0.0000, 0.0000,\n",
              "         0.0000, 0.0000, 0.0000, 0.0000],\n",
              "        [0.0000, 0.0000, 0.0000, 0.0000, 0.0000, 0.0000, 0.0000, 0.0000, 0.0000, 0.0000, 0.0000, 0.0000, 0.0000, 0.0000, 0.0000, 0.0000, 0.0000, 0.0000, 0.0000, 0.0000, 0.0000, 0.0000, 0.0000, 0.0000,\n",
              "         0.0000, 0.0000, 0.0000, 0.0000],\n",
              "        [0.0000, 0.0000, 0.0000, 0.0000, 0.0000, 0.0000, 0.0000, 0.0000, 0.0000, 0.0000, 0.0000, 0.0000, 0.0000, 0.0000, 0.0000, 0.0000, 0.0000, 0.0000, 0.0000, 0.0000, 0.0000, 0.0000, 0.0000, 0.0000,\n",
              "         0.0000, 0.0000, 0.0000, 0.0000],\n",
              "        [0.0000, 0.0000, 0.0000, 0.0000, 0.0000, 0.0000, 0.0000, 0.0000, 0.0000, 0.0000, 0.0000, 0.0000, 0.0000, 0.0000, 0.0000, 0.0000, 0.0000, 0.0000, 0.0000, 0.0000, 0.0000, 0.0000, 0.0000, 0.0000,\n",
              "         0.0000, 0.0000, 0.0000, 0.0000],\n",
              "        [0.0000, 0.0000, 0.0000, 0.0000, 0.0000, 0.0000, 0.0000, 0.0000, 0.0000, 0.0000, 0.4157, 0.6431, 0.9961, 0.9961, 0.9961, 0.9961, 1.0000, 0.9176, 0.4275, 0.0000, 0.0000, 0.0000, 0.0000, 0.0000,\n",
              "         0.0000, 0.0000, 0.0000, 0.0000],\n",
              "        [0.0000, 0.0000, 0.0000, 0.0000, 0.0000, 0.0000, 0.0000, 0.0000, 0.1804, 0.6431, 0.9882, 0.9922, 0.9922, 0.9922, 0.9922, 0.9922, 0.9922, 0.9922, 0.9255, 0.1765, 0.0000, 0.0000, 0.0000, 0.0000,\n",
              "         0.0000, 0.0000, 0.0000, 0.0000],\n",
              "        [0.0000, 0.0000, 0.0000, 0.0000, 0.0000, 0.0000, 0.0000, 0.0000, 0.8706, 0.9922, 0.9922, 0.9922, 0.9922, 0.9922, 0.9922, 0.9922, 0.9922, 0.9922, 0.9922, 0.3804, 0.0000, 0.0000, 0.0000, 0.0000,\n",
              "         0.0000, 0.0000, 0.0000, 0.0000],\n",
              "        [0.0000, 0.0000, 0.0000, 0.0000, 0.0000, 0.0000, 0.0000, 0.0000, 0.2667, 0.7961, 0.5843, 0.1647, 0.0745, 0.0745, 0.0745, 0.0745, 0.7137, 0.9922, 0.9922, 0.3804, 0.0000, 0.0000, 0.0000, 0.0000,\n",
              "         0.0000, 0.0000, 0.0000, 0.0000],\n",
              "        [0.0000, 0.0000, 0.0000, 0.0000, 0.0000, 0.0000, 0.0000, 0.0000, 0.0000, 0.0510, 0.0000, 0.0000, 0.0000, 0.0000, 0.0000, 0.1882, 0.9647, 0.9922, 0.8784, 0.0392, 0.0000, 0.0000, 0.0000, 0.0000,\n",
              "         0.0000, 0.0000, 0.0000, 0.0000],\n",
              "        [0.0000, 0.0000, 0.0000, 0.0000, 0.0000, 0.0000, 0.0000, 0.0000, 0.0000, 0.0000, 0.0000, 0.0000, 0.0000, 0.0000, 0.0000, 0.6510, 0.9922, 0.9922, 0.6784, 0.0000, 0.0000, 0.0000, 0.0000, 0.0000,\n",
              "         0.0000, 0.0000, 0.0000, 0.0000],\n",
              "        [0.0000, 0.0000, 0.0000, 0.0000, 0.0000, 0.0000, 0.0000, 0.0000, 0.0000, 0.0000, 0.0000, 0.0000, 0.0000, 0.0000, 0.2000, 0.9529, 0.9922, 0.9922, 0.3569, 0.0000, 0.0000, 0.0000, 0.0000, 0.0000,\n",
              "         0.0000, 0.0000, 0.0000, 0.0000],\n",
              "        [0.0000, 0.0000, 0.0000, 0.0000, 0.0000, 0.0000, 0.0000, 0.0000, 0.0000, 0.0000, 0.0000, 0.0000, 0.0000, 0.0000, 0.2314, 0.9922, 0.9922, 0.8667, 0.0627, 0.0000, 0.0000, 0.0000, 0.0000, 0.0000,\n",
              "         0.0000, 0.0000, 0.0000, 0.0000],\n",
              "        [0.0000, 0.0000, 0.0000, 0.0000, 0.0000, 0.0000, 0.0000, 0.0000, 0.0000, 0.0000, 0.0000, 0.0000, 0.0000, 0.0000, 0.6392, 0.9922, 0.9922, 0.6941, 0.0000, 0.0000, 0.0000, 0.0000, 0.0000, 0.0000,\n",
              "         0.0000, 0.0000, 0.0000, 0.0000],\n",
              "        [0.0000, 0.0000, 0.0000, 0.0000, 0.0000, 0.0000, 0.0000, 0.0000, 0.0000, 0.0000, 0.0000, 0.0000, 0.0000, 0.3333, 0.9373, 0.9922, 0.8549, 0.0745, 0.0000, 0.0000, 0.0000, 0.0000, 0.0000, 0.0000,\n",
              "         0.0000, 0.0000, 0.0000, 0.0000],\n",
              "        [0.0000, 0.0000, 0.0000, 0.0000, 0.0000, 0.0000, 0.0000, 0.0000, 0.0000, 0.0000, 0.0000, 0.0000, 0.0000, 0.7686, 0.9922, 0.9922, 0.4353, 0.0000, 0.0000, 0.0000, 0.0000, 0.0000, 0.0000, 0.0000,\n",
              "         0.0000, 0.0000, 0.0000, 0.0000],\n",
              "        [0.0000, 0.0000, 0.0000, 0.0000, 0.0000, 0.0000, 0.0000, 0.0000, 0.0000, 0.0000, 0.0000, 0.0000, 0.2039, 0.9294, 0.9922, 0.8431, 0.0863, 0.0000, 0.0000, 0.0000, 0.0000, 0.0000, 0.0000, 0.0000,\n",
              "         0.0000, 0.0000, 0.0000, 0.0000],\n",
              "        [0.0000, 0.0000, 0.0000, 0.0000, 0.0000, 0.0000, 0.0000, 0.0000, 0.0000, 0.0000, 0.0000, 0.0000, 0.3765, 0.9922, 0.9529, 0.3843, 0.0000, 0.0000, 0.0000, 0.0000, 0.0000, 0.0000, 0.0000, 0.0000,\n",
              "         0.0000, 0.0000, 0.0000, 0.0000],\n",
              "        [0.0000, 0.0000, 0.0000, 0.0000, 0.0000, 0.0000, 0.0000, 0.0000, 0.0000, 0.0000, 0.0000, 0.0510, 0.8235, 0.9922, 0.7608, 0.0000, 0.0000, 0.0000, 0.0000, 0.0000, 0.0000, 0.0000, 0.0000, 0.0000,\n",
              "         0.0000, 0.0000, 0.0000, 0.0000],\n",
              "        [0.0000, 0.0000, 0.0000, 0.0000, 0.0000, 0.0000, 0.0000, 0.0000, 0.0000, 0.0000, 0.0000, 0.3765, 0.9922, 0.9922, 0.7608, 0.0000, 0.0000, 0.0000, 0.0000, 0.0000, 0.0000, 0.0000, 0.0000, 0.0000,\n",
              "         0.0000, 0.0000, 0.0000, 0.0000],\n",
              "        [0.0000, 0.0000, 0.0000, 0.0000, 0.0000, 0.0000, 0.0000, 0.0000, 0.0000, 0.0000, 0.0353, 0.8353, 0.9922, 0.9922, 0.4471, 0.0000, 0.0000, 0.0000, 0.0000, 0.0000, 0.0000, 0.0000, 0.0000, 0.0000,\n",
              "         0.0000, 0.0000, 0.0000, 0.0000],\n",
              "        [0.0000, 0.0000, 0.0000, 0.0000, 0.0000, 0.0000, 0.0000, 0.0000, 0.0000, 0.0000, 0.3765, 0.9922, 0.9922, 0.8392, 0.1059, 0.0000, 0.0000, 0.0000, 0.0000, 0.0000, 0.0000, 0.0000, 0.0000, 0.0000,\n",
              "         0.0000, 0.0000, 0.0000, 0.0000],\n",
              "        [0.0000, 0.0000, 0.0000, 0.0000, 0.0000, 0.0000, 0.0000, 0.0000, 0.0000, 0.0000, 0.8431, 0.9922, 0.9922, 0.4510, 0.0000, 0.0000, 0.0000, 0.0000, 0.0000, 0.0000, 0.0000, 0.0000, 0.0000, 0.0000,\n",
              "         0.0000, 0.0000, 0.0000, 0.0000],\n",
              "        [0.0000, 0.0000, 0.0000, 0.0000, 0.0000, 0.0000, 0.0000, 0.0000, 0.0000, 0.0000, 0.8431, 0.9922, 0.9843, 0.2235, 0.0000, 0.0000, 0.0000, 0.0000, 0.0000, 0.0000, 0.0000, 0.0000, 0.0000, 0.0000,\n",
              "         0.0000, 0.0000, 0.0000, 0.0000],\n",
              "        [0.0000, 0.0000, 0.0000, 0.0000, 0.0000, 0.0000, 0.0000, 0.0000, 0.0000, 0.0000, 0.5804, 0.9922, 0.4510, 0.0000, 0.0000, 0.0000, 0.0000, 0.0000, 0.0000, 0.0000, 0.0000, 0.0000, 0.0000, 0.0000,\n",
              "         0.0000, 0.0000, 0.0000, 0.0000],\n",
              "        [0.0000, 0.0000, 0.0000, 0.0000, 0.0000, 0.0000, 0.0000, 0.0000, 0.0000, 0.0000, 0.0000, 0.0000, 0.0000, 0.0000, 0.0000, 0.0000, 0.0000, 0.0000, 0.0000, 0.0000, 0.0000, 0.0000, 0.0000, 0.0000,\n",
              "         0.0000, 0.0000, 0.0000, 0.0000]])"
            ]
          },
          "metadata": {},
          "execution_count": 32
        }
      ]
    },
    {
      "cell_type": "code",
      "source": [
        "valid_3_tens = torch.stack(threes_tensors).float() /255"
      ],
      "metadata": {
        "id": "KaHFz7cclfVa"
      },
      "execution_count": 33,
      "outputs": []
    },
    {
      "cell_type": "code",
      "source": [
        "valid_7_tens = torch.stack(sevens_tensors).float() /255"
      ],
      "metadata": {
        "id": "8xyrlakSmBtO"
      },
      "execution_count": 34,
      "outputs": []
    },
    {
      "cell_type": "code",
      "source": [
        "#Data processing with pytorch we take the data and turn the shape without changing the contents of the data\n",
        "train_x = torch.cat([threes_stack, sevens_stack]).view(-1,28*28) "
      ],
      "metadata": {
        "id": "qyPIEKkdmVs5"
      },
      "execution_count": 35,
      "outputs": []
    },
    {
      "cell_type": "code",
      "source": [
        "#We label each image\n",
        "train_y = tensor([1] * len(threes) + [0] * len(sevens)).unsqueeze(1)"
      ],
      "metadata": {
        "id": "IloGvMN5nbzT"
      },
      "execution_count": 36,
      "outputs": []
    },
    {
      "cell_type": "code",
      "source": [
        "dset = list(zip(train_x, train_y))"
      ],
      "metadata": {
        "id": "Jmq7DxQqotoH"
      },
      "execution_count": 37,
      "outputs": []
    },
    {
      "cell_type": "code",
      "source": [
        "#Processing the validation data\n",
        "valid_x = torch.cat([valid_3_tens, valid_7_tens]).view(-1, 28 * 28 )"
      ],
      "metadata": {
        "id": "vBNm9_xCpQlX"
      },
      "execution_count": 38,
      "outputs": []
    },
    {
      "cell_type": "code",
      "source": [
        "valid_y = tensor([1] * len(valid_3_tens) + [0] * len(valid_7_tens)).unsqueeze(1)"
      ],
      "metadata": {
        "id": "uut0agE5qJ8c"
      },
      "execution_count": 39,
      "outputs": []
    },
    {
      "cell_type": "code",
      "source": [
        "validDset = list(zip(valid_x,valid_y))"
      ],
      "metadata": {
        "id": "VUg2FYYgqmeg"
      },
      "execution_count": 40,
      "outputs": []
    },
    {
      "cell_type": "code",
      "source": [
        "dset[0]\n"
      ],
      "metadata": {
        "id": "ri4keFchqrci",
        "colab": {
          "base_uri": "https://localhost:8080/"
        },
        "outputId": "98f937b7-d3bc-4209-f3ce-9ad26c1dbab3"
      },
      "execution_count": 41,
      "outputs": [
        {
          "output_type": "execute_result",
          "data": {
            "text/plain": [
              "(tensor([0.0000, 0.0000, 0.0000, 0.0000, 0.0000, 0.0000, 0.0000, 0.0000, 0.0000, 0.0000, 0.0000, 0.0000, 0.0000, 0.0000, 0.0000, 0.0000, 0.0000, 0.0000, 0.0000, 0.0000, 0.0000, 0.0000, 0.0000, 0.0000,\n",
              "         0.0000, 0.0000, 0.0000, 0.0000, 0.0000, 0.0000, 0.0000, 0.0000, 0.0000, 0.0000, 0.0000, 0.0000, 0.0000, 0.0000, 0.0000, 0.0000, 0.0000, 0.0000, 0.0000, 0.0000, 0.0000, 0.0000, 0.0000, 0.0000,\n",
              "         0.0000, 0.0000, 0.0000, 0.0000, 0.0000, 0.0000, 0.0000, 0.0000, 0.0000, 0.0000, 0.0000, 0.0000, 0.0000, 0.0000, 0.0000, 0.0000, 0.0000, 0.0000, 0.0000, 0.0000, 0.0000, 0.0000, 0.0000, 0.0000,\n",
              "         0.0000, 0.0000, 0.0000, 0.0000, 0.0000, 0.0000, 0.0000, 0.0000, 0.0000, 0.0000, 0.0000, 0.0000, 0.0000, 0.0000, 0.0000, 0.0000, 0.0000, 0.0000, 0.0000, 0.0000, 0.0000, 0.0000, 0.0000, 0.0000,\n",
              "         0.0000, 0.0000, 0.0000, 0.0000, 0.0000, 0.0000, 0.0000, 0.0000, 0.0000, 0.0000, 0.0000, 0.0000, 0.0000, 0.0000, 0.0000, 0.0000, 0.0000, 0.0000, 0.0000, 0.0000, 0.0000, 0.0000, 0.0000, 0.0000,\n",
              "         0.0000, 0.0000, 0.0000, 0.0000, 0.0000, 0.0000, 0.0000, 0.0000, 0.0000, 0.0000, 0.0000, 0.0000, 0.0000, 0.0000, 0.0000, 0.0000, 0.0000, 0.0000, 0.0000, 0.0000, 0.0000, 0.0000, 0.0000, 0.0000,\n",
              "         0.0000, 0.0000, 0.0000, 0.0196, 0.3333, 0.6039, 0.6039, 0.6039, 0.7529, 0.9961, 0.9961, 0.9961, 0.9765, 0.2863, 0.0000, 0.0000, 0.0000, 0.0000, 0.0000, 0.0000, 0.0000, 0.0000, 0.0000, 0.0000,\n",
              "         0.0000, 0.0000, 0.0000, 0.0000, 0.0000, 0.0000, 0.0000, 0.5686, 0.9922, 0.9922, 0.9922, 0.9922, 0.9922, 0.9922, 0.9922, 0.9922, 0.9922, 0.9451, 0.0941, 0.0000, 0.0000, 0.0000, 0.0000, 0.0000,\n",
              "         0.0000, 0.0000, 0.0000, 0.0000, 0.0000, 0.0000, 0.0000, 0.0000, 0.0000, 0.0000, 0.2667, 0.9490, 0.9922, 0.9922, 0.9922, 0.7529, 0.7373, 0.7373, 0.8431, 0.9922, 0.9922, 0.8157, 0.0431, 0.0000,\n",
              "         0.0000, 0.0000, 0.0000, 0.0000, 0.0000, 0.0000, 0.0000, 0.0000, 0.0000, 0.0000, 0.0000, 0.0000, 0.0000, 0.0000, 0.6431, 0.9922, 0.8784, 0.4902, 0.1333, 0.3490, 0.0000, 0.0000, 0.5961, 0.9922,\n",
              "         0.9922, 0.7176, 0.0000, 0.0000, 0.0000, 0.0000, 0.0000, 0.0000, 0.0000, 0.0000, 0.0000, 0.0000, 0.0000, 0.0000, 0.0000, 0.0000, 0.0000, 0.0000, 0.6431, 0.8549, 0.5843, 0.0314, 0.0000, 0.1255,\n",
              "         0.0000, 0.2510, 0.9333, 0.9922, 0.9765, 0.3569, 0.0000, 0.0000, 0.0000, 0.0000, 0.0000, 0.0000, 0.0000, 0.0000, 0.0000, 0.0000, 0.0000, 0.0000, 0.0000, 0.0000, 0.0000, 0.0000, 0.0627, 0.0510,\n",
              "         0.0000, 0.0000, 0.0000, 0.0196, 0.2667, 0.9490, 0.9922, 0.9922, 0.8902, 0.0000, 0.0000, 0.0000, 0.0000, 0.0000, 0.0000, 0.0000, 0.0000, 0.0000, 0.0000, 0.0000, 0.0000, 0.0000, 0.0000, 0.0000,\n",
              "         0.0000, 0.0000, 0.0000, 0.0000, 0.0000, 0.0000, 0.1137, 0.7451, 0.9922, 0.9922, 0.9922, 0.8235, 0.1490, 0.0000, 0.0000, 0.0000, 0.0000, 0.0000, 0.0000, 0.0000, 0.0000, 0.0000, 0.0000, 0.0000,\n",
              "         0.0000, 0.0000, 0.0000, 0.0000, 0.0000, 0.0000, 0.0000, 0.0000, 0.0471, 0.4039, 0.9569, 0.9922, 0.9922, 0.9922, 0.9882, 0.5882, 0.5451, 0.8078, 0.9373, 0.9373, 0.9373, 0.6039, 0.0000, 0.0000,\n",
              "         0.0000, 0.0000, 0.0000, 0.0000, 0.0000, 0.0000, 0.0000, 0.0000, 0.0000, 0.0000, 0.0000, 0.2078, 0.8314, 0.9922, 0.9922, 0.9922, 0.9922, 0.9922, 0.9922, 0.9922, 0.9922, 0.9922, 0.9961, 0.9922,\n",
              "         0.9922, 0.9137, 0.4784, 0.0000, 0.0000, 0.0000, 0.0000, 0.0000, 0.0000, 0.0000, 0.0000, 0.0000, 0.0000, 0.0000, 0.0000, 0.8549, 0.9922, 0.9922, 0.9922, 0.9922, 0.9922, 0.9922, 0.9137, 0.7961,\n",
              "         0.7765, 0.4078, 0.4078, 0.5608, 0.8745, 0.9922, 0.9216, 0.2039, 0.0000, 0.0000, 0.0000, 0.0000, 0.0000, 0.0000, 0.0000, 0.0000, 0.0000, 0.0000, 0.0000, 0.6902, 0.9725, 0.8196, 0.8431, 0.7373,\n",
              "         0.5804, 0.3529, 0.1137, 0.0000, 0.0000, 0.0000, 0.0000, 0.0000, 0.5255, 0.9922, 0.9922, 0.9176, 0.0000, 0.0000, 0.0000, 0.0000, 0.0000, 0.0000, 0.0000, 0.0000, 0.0000, 0.0000, 0.0000, 0.0000,\n",
              "         0.0000, 0.0000, 0.0000, 0.0000, 0.0000, 0.0000, 0.0000, 0.0000, 0.0000, 0.0000, 0.0000, 0.0000, 0.5255, 0.9922, 0.9922, 0.7490, 0.0000, 0.0000, 0.0000, 0.0000, 0.0000, 0.0000, 0.0000, 0.0000,\n",
              "         0.0000, 0.0000, 0.0000, 0.0000, 0.0000, 0.0000, 0.0000, 0.0000, 0.0000, 0.0000, 0.0000, 0.0000, 0.0000, 0.0000, 0.0000, 0.0431, 0.7098, 0.9922, 0.9843, 0.2627, 0.0000, 0.0000, 0.0000, 0.0000,\n",
              "         0.0000, 0.0000, 0.0000, 0.0000, 0.0000, 0.0000, 0.0000, 0.0000, 0.0000, 0.0000, 0.0000, 0.0000, 0.0000, 0.0000, 0.0000, 0.0000, 0.0000, 0.0000, 0.0275, 0.7843, 0.9922, 0.9922, 0.8157, 0.0000,\n",
              "         0.0000, 0.0000, 0.0000, 0.0000, 0.0000, 0.0000, 0.0000, 0.0000, 0.0000, 0.0000, 0.0000, 0.0000, 0.0000, 0.0000, 0.0000, 0.0000, 0.0000, 0.0000, 0.0000, 0.0000, 0.0000, 0.0275, 0.6471, 0.9922,\n",
              "         0.9961, 0.8196, 0.1098, 0.0000, 0.0000, 0.0000, 0.0000, 0.0000, 0.0000, 0.0000, 0.0000, 0.0000, 0.0000, 0.0000, 0.0000, 0.0000, 0.0000, 0.0000, 0.0000, 0.0000, 0.0000, 0.0000, 0.0000, 0.0000,\n",
              "         0.2902, 0.7843, 0.9922, 0.9922, 0.8275, 0.2863, 0.0000, 0.0000, 0.0000, 0.0000, 0.0000, 0.0000, 0.0000, 0.0000, 0.0000, 0.0000, 0.7686, 0.9176, 0.9176, 0.7333, 0.4157, 0.1216, 0.0000, 0.0000,\n",
              "         0.0000, 0.1373, 0.3020, 0.7725, 0.9843, 0.9922, 0.9961, 0.7725, 0.2196, 0.0000, 0.0000, 0.0000, 0.0000, 0.0000, 0.0000, 0.0000, 0.0000, 0.0000, 0.0000, 0.0000, 0.9961, 0.9922, 0.9922, 0.9922,\n",
              "         0.9922, 0.9647, 0.7412, 0.7412, 0.7412, 0.9882, 0.9922, 0.9922, 0.9922, 0.9922, 0.6431, 0.0745, 0.0000, 0.0000, 0.0000, 0.0000, 0.0000, 0.0000, 0.0000, 0.0000, 0.0000, 0.0000, 0.0000, 0.0000,\n",
              "         0.2784, 0.7490, 0.8157, 0.9020, 0.9922, 0.9922, 0.9922, 0.9922, 0.9961, 0.9922, 0.9922, 0.9529, 0.7961, 0.3216, 0.0078, 0.0000, 0.0000, 0.0000, 0.0000, 0.0000, 0.0000, 0.0000, 0.0000, 0.0000,\n",
              "         0.0000, 0.0000, 0.0000, 0.0000, 0.0000, 0.0000, 0.0000, 0.3176, 0.9922, 0.6392, 0.6000, 0.9725, 0.6941, 0.6000, 0.4431, 0.1647, 0.0000, 0.0000, 0.0000, 0.0000, 0.0000, 0.0000, 0.0000, 0.0000,\n",
              "         0.0000, 0.0000, 0.0000, 0.0000, 0.0000, 0.0000, 0.0000, 0.0000, 0.0000, 0.0000, 0.0000, 0.0000, 0.0000, 0.0000, 0.0000, 0.0000, 0.0000, 0.0000, 0.0000, 0.0000, 0.0000, 0.0000, 0.0000, 0.0000,\n",
              "         0.0000, 0.0000, 0.0000, 0.0000, 0.0000, 0.0000, 0.0000, 0.0000, 0.0000, 0.0000, 0.0000, 0.0000, 0.0000, 0.0000, 0.0000, 0.0000, 0.0000, 0.0000, 0.0000, 0.0000, 0.0000, 0.0000, 0.0000, 0.0000,\n",
              "         0.0000, 0.0000, 0.0000, 0.0000, 0.0000, 0.0000, 0.0000, 0.0000, 0.0000, 0.0000, 0.0000, 0.0000, 0.0000, 0.0000, 0.0000, 0.0000, 0.0000, 0.0000, 0.0000, 0.0000, 0.0000, 0.0000, 0.0000, 0.0000,\n",
              "         0.0000, 0.0000, 0.0000, 0.0000, 0.0000, 0.0000, 0.0000, 0.0000, 0.0000, 0.0000, 0.0000, 0.0000, 0.0000, 0.0000, 0.0000, 0.0000]),\n",
              " tensor([1]))"
            ]
          },
          "metadata": {},
          "execution_count": 41
        }
      ]
    },
    {
      "cell_type": "code",
      "source": [
        "#We then randomly initialize our weights from random numbers to start training at a point\n",
        "#Otherwise if we don't our model will give us constant values which won't affect backpropagation hence the model won't learn\n",
        "def init_params(size,std=1.0):\n",
        "  return (torch.randn(size)*std).requires_grad_()\n"
      ],
      "metadata": {
        "id": "OJFdQ25fq7SJ"
      },
      "execution_count": 42,
      "outputs": []
    },
    {
      "cell_type": "code",
      "source": [
        "weights = init_params((28*28,1))"
      ],
      "metadata": {
        "id": "1oaUivwasL5w"
      },
      "execution_count": 43,
      "outputs": []
    },
    {
      "cell_type": "code",
      "source": [
        "weights"
      ],
      "metadata": {
        "id": "0QJZZMz7saw3",
        "colab": {
          "base_uri": "https://localhost:8080/"
        },
        "outputId": "9dfc2770-cf3e-4d3b-ed03-a1e480687a2e"
      },
      "execution_count": 44,
      "outputs": [
        {
          "output_type": "execute_result",
          "data": {
            "text/plain": [
              "tensor([[ 1.9269e+00],\n",
              "        [ 1.4873e+00],\n",
              "        [ 9.0072e-01],\n",
              "        [-2.1055e+00],\n",
              "        [ 6.7842e-01],\n",
              "        [-1.2345e+00],\n",
              "        [-4.3067e-02],\n",
              "        [-1.6047e+00],\n",
              "        [-7.5214e-01],\n",
              "        [ 1.6487e+00],\n",
              "        [-3.9248e-01],\n",
              "        [-1.4036e+00],\n",
              "        [-7.2788e-01],\n",
              "        [-5.5943e-01],\n",
              "        [-7.6884e-01],\n",
              "        [ 7.6245e-01],\n",
              "        [ 1.6423e+00],\n",
              "        [-1.5960e-01],\n",
              "        [-4.9740e-01],\n",
              "        [ 4.3959e-01],\n",
              "        [-7.5813e-01],\n",
              "        [ 1.0783e+00],\n",
              "        [ 8.0080e-01],\n",
              "        [ 1.6806e+00],\n",
              "        [ 1.2791e+00],\n",
              "        [ 1.2964e+00],\n",
              "        [ 6.1047e-01],\n",
              "        [ 1.3347e+00],\n",
              "        [-2.3162e-01],\n",
              "        [ 4.1759e-02],\n",
              "        [-2.5158e-01],\n",
              "        [ 8.5986e-01],\n",
              "        [-1.3847e+00],\n",
              "        [-8.7124e-01],\n",
              "        [-2.2337e-01],\n",
              "        [ 1.7174e+00],\n",
              "        [ 3.1888e-01],\n",
              "        [-4.2452e-01],\n",
              "        [ 3.0572e-01],\n",
              "        [-7.7459e-01],\n",
              "        [-1.5576e+00],\n",
              "        [ 9.9564e-01],\n",
              "        [-8.7979e-01],\n",
              "        [-6.0114e-01],\n",
              "        [-1.2742e+00],\n",
              "        [ 2.1228e+00],\n",
              "        [-1.2347e+00],\n",
              "        [-4.8791e-01],\n",
              "        [-9.1382e-01],\n",
              "        [-6.5814e-01],\n",
              "        [ 7.8024e-02],\n",
              "        [ 5.2581e-01],\n",
              "        [-4.8799e-01],\n",
              "        [ 1.1914e+00],\n",
              "        [-8.1401e-01],\n",
              "        [-7.3599e-01],\n",
              "        [-1.4032e+00],\n",
              "        [ 3.6004e-02],\n",
              "        [-6.3477e-02],\n",
              "        [ 6.7561e-01],\n",
              "        [-9.7807e-02],\n",
              "        [ 1.8446e+00],\n",
              "        [-1.1845e+00],\n",
              "        [ 1.3835e+00],\n",
              "        [ 1.4451e+00],\n",
              "        [ 8.5641e-01],\n",
              "        [ 2.2181e+00],\n",
              "        [ 5.2317e-01],\n",
              "        [ 3.4665e-01],\n",
              "        [-1.9733e-01],\n",
              "        [-1.0546e+00],\n",
              "        [ 1.2780e+00],\n",
              "        [-1.7219e-01],\n",
              "        [ 5.2379e-01],\n",
              "        [ 5.6622e-02],\n",
              "        [ 4.2630e-01],\n",
              "        [ 5.7501e-01],\n",
              "        [-6.4172e-01],\n",
              "        [-2.2064e+00],\n",
              "        [-7.5080e-01],\n",
              "        [ 1.0868e-02],\n",
              "        [-3.3874e-01],\n",
              "        [-1.3407e+00],\n",
              "        [-5.8537e-01],\n",
              "        [ 5.3619e-01],\n",
              "        [ 5.2462e-01],\n",
              "        [ 1.1412e+00],\n",
              "        [ 5.1644e-02],\n",
              "        [ 7.4395e-01],\n",
              "        [-4.8158e-01],\n",
              "        [-1.0495e+00],\n",
              "        [ 6.0390e-01],\n",
              "        [-1.7223e+00],\n",
              "        [-8.2777e-01],\n",
              "        [ 1.3347e+00],\n",
              "        [ 4.8354e-01],\n",
              "        [-2.5095e+00],\n",
              "        [ 4.8800e-01],\n",
              "        [ 7.8459e-01],\n",
              "        [ 2.8647e-02],\n",
              "        [ 6.4076e-01],\n",
              "        [ 5.8325e-01],\n",
              "        [ 1.0669e+00],\n",
              "        [-4.5015e-01],\n",
              "        [-1.8527e-01],\n",
              "        [ 7.5276e-01],\n",
              "        [ 4.0476e-01],\n",
              "        [ 1.7847e-01],\n",
              "        [ 2.6491e-01],\n",
              "        [ 1.2732e+00],\n",
              "        [-1.3109e-03],\n",
              "        [-3.0360e-01],\n",
              "        [-1.4570e+00],\n",
              "        [-1.0234e-01],\n",
              "        [-5.9915e-01],\n",
              "        [ 4.7706e-01],\n",
              "        [ 7.2618e-01],\n",
              "        [ 9.1152e-02],\n",
              "        [-3.8907e-01],\n",
              "        [ 5.2792e-01],\n",
              "        [-1.2685e-02],\n",
              "        [ 2.4084e-01],\n",
              "        [ 1.3254e-01],\n",
              "        [ 7.6424e-01],\n",
              "        [ 1.0950e+00],\n",
              "        [ 3.3989e-01],\n",
              "        [ 7.1997e-01],\n",
              "        [ 4.1141e-01],\n",
              "        [ 1.9312e+00],\n",
              "        [ 1.0119e+00],\n",
              "        [-1.4364e+00],\n",
              "        [-1.1299e+00],\n",
              "        [-1.3603e-01],\n",
              "        [ 1.6354e+00],\n",
              "        [ 6.5474e-01],\n",
              "        [ 5.7600e-01],\n",
              "        [ 1.1415e+00],\n",
              "        [ 1.8565e-02],\n",
              "        [-1.8058e+00],\n",
              "        [ 9.2543e-01],\n",
              "        [-3.7534e-01],\n",
              "        [ 1.0331e+00],\n",
              "        [-6.8665e-01],\n",
              "        [ 6.3681e-01],\n",
              "        [-9.7267e-01],\n",
              "        [ 9.5846e-01],\n",
              "        [ 1.6192e+00],\n",
              "        [ 1.4506e+00],\n",
              "        [ 2.6948e-01],\n",
              "        [-2.1038e-01],\n",
              "        [-7.3280e-01],\n",
              "        [ 1.0430e-01],\n",
              "        [ 3.4875e-01],\n",
              "        [ 9.6759e-01],\n",
              "        [-4.6569e-01],\n",
              "        [ 1.6048e+00],\n",
              "        [-2.4801e+00],\n",
              "        [-4.1754e-01],\n",
              "        [-1.1955e+00],\n",
              "        [ 8.1234e-01],\n",
              "        [-1.9006e+00],\n",
              "        [ 2.2858e-01],\n",
              "        [ 2.4859e-02],\n",
              "        [-3.4595e-01],\n",
              "        [ 2.8683e-01],\n",
              "        [-7.3084e-01],\n",
              "        [ 1.7482e-01],\n",
              "        [-1.0939e+00],\n",
              "        [-1.6022e+00],\n",
              "        [ 1.3529e+00],\n",
              "        [ 1.2888e+00],\n",
              "        [ 5.2295e-02],\n",
              "        [-1.5469e+00],\n",
              "        [ 7.5671e-01],\n",
              "        [ 7.7552e-01],\n",
              "        [ 2.0265e+00],\n",
              "        [ 3.5818e-02],\n",
              "        [ 1.2059e-01],\n",
              "        [-8.0566e-01],\n",
              "        [-2.0758e-01],\n",
              "        [-9.3195e-01],\n",
              "        [-1.5910e+00],\n",
              "        [-1.1360e+00],\n",
              "        [-5.2260e-01],\n",
              "        [-5.1877e-01],\n",
              "        [-1.5013e+00],\n",
              "        [-1.9267e+00],\n",
              "        [ 1.2785e-01],\n",
              "        [ 1.0229e+00],\n",
              "        [-5.5580e-01],\n",
              "        [ 7.0427e-01],\n",
              "        [ 7.0988e-01],\n",
              "        [ 1.7744e+00],\n",
              "        [-9.2155e-01],\n",
              "        [ 9.6245e-01],\n",
              "        [-3.3702e-01],\n",
              "        [-1.1753e+00],\n",
              "        [ 3.5806e-01],\n",
              "        [ 4.7877e-01],\n",
              "        [ 1.3537e+00],\n",
              "        [ 5.2606e-01],\n",
              "        [ 2.1120e+00],\n",
              "        [-5.2076e-01],\n",
              "        [-9.3201e-01],\n",
              "        [ 1.8516e-01],\n",
              "        [ 1.0687e+00],\n",
              "        [ 1.3065e+00],\n",
              "        [ 4.5983e-01],\n",
              "        [-8.1463e-01],\n",
              "        [-1.0212e+00],\n",
              "        [-4.9492e-01],\n",
              "        [-5.9225e-01],\n",
              "        [ 1.5432e-01],\n",
              "        [ 4.4077e-01],\n",
              "        [-1.4829e-01],\n",
              "        [-2.3184e+00],\n",
              "        [-3.9800e-01],\n",
              "        [ 1.0805e+00],\n",
              "        [-1.7809e+00],\n",
              "        [ 1.5080e+00],\n",
              "        [ 3.0943e-01],\n",
              "        [-5.0031e-01],\n",
              "        [ 1.0350e+00],\n",
              "        [ 1.6896e+00],\n",
              "        [-4.5051e-03],\n",
              "        [ 1.6668e+00],\n",
              "        [ 1.5392e-01],\n",
              "        [-1.0603e+00],\n",
              "        [-5.7266e-01],\n",
              "        [ 8.3568e-02],\n",
              "        [ 3.9991e-01],\n",
              "        [ 1.9892e+00],\n",
              "        [-7.1988e-02],\n",
              "        [-9.0609e-01],\n",
              "        [-2.0487e+00],\n",
              "        [-1.0811e+00],\n",
              "        [ 1.7623e-02],\n",
              "        [ 7.8226e-02],\n",
              "        [ 1.9316e-01],\n",
              "        [ 4.0967e-01],\n",
              "        [-9.2913e-01],\n",
              "        [ 2.7619e-01],\n",
              "        [-5.3888e-01],\n",
              "        [ 4.6258e-01],\n",
              "        [-8.7189e-01],\n",
              "        [-2.7118e-02],\n",
              "        [-3.5325e-01],\n",
              "        [ 1.4639e+00],\n",
              "        [ 1.2554e+00],\n",
              "        [-7.1496e-01],\n",
              "        [ 8.5392e-01],\n",
              "        [ 5.1299e-01],\n",
              "        [ 5.3973e-01],\n",
              "        [ 5.6551e-01],\n",
              "        [ 5.0579e-01],\n",
              "        [ 2.2245e-01],\n",
              "        [-6.8548e-01],\n",
              "        [ 5.6356e-01],\n",
              "        [-1.5072e+00],\n",
              "        [-1.6107e+00],\n",
              "        [-1.4790e+00],\n",
              "        [ 4.3227e-01],\n",
              "        [-1.2503e-01],\n",
              "        [ 7.8212e-01],\n",
              "        [-1.5988e+00],\n",
              "        [-1.0913e-01],\n",
              "        [ 7.1520e-01],\n",
              "        [ 3.9139e-02],\n",
              "        [ 1.3059e+00],\n",
              "        [ 2.4659e-01],\n",
              "        [-1.9776e+00],\n",
              "        [ 1.7896e-02],\n",
              "        [-1.3793e+00],\n",
              "        [ 6.2580e-01],\n",
              "        [-2.5850e+00],\n",
              "        [-2.4000e-02],\n",
              "        [-1.2219e-01],\n",
              "        [-7.4700e-01],\n",
              "        [ 1.7093e+00],\n",
              "        [ 5.7923e-02],\n",
              "        [ 1.1930e+00],\n",
              "        [ 1.9373e+00],\n",
              "        [ 7.2871e-01],\n",
              "        [ 9.8089e-01],\n",
              "        [ 4.1459e-01],\n",
              "        [ 1.1566e+00],\n",
              "        [ 2.6905e-01],\n",
              "        [-3.6629e-02],\n",
              "        [ 9.7329e-01],\n",
              "        [-1.0151e+00],\n",
              "        [-5.4192e-01],\n",
              "        [-4.4102e-01],\n",
              "        [-3.1362e-01],\n",
              "        [-1.2925e-01],\n",
              "        [-7.1496e-01],\n",
              "        [-4.7562e-02],\n",
              "        [ 2.0207e+00],\n",
              "        [ 2.5392e-01],\n",
              "        [ 9.3644e-01],\n",
              "        [ 7.1224e-01],\n",
              "        [-3.1766e-02],\n",
              "        [ 1.0164e-01],\n",
              "        [ 1.3433e+00],\n",
              "        [ 7.1327e-01],\n",
              "        [ 4.0380e-01],\n",
              "        [-7.1398e-01],\n",
              "        [ 8.3373e-01],\n",
              "        [-9.5855e-01],\n",
              "        [ 4.5363e-01],\n",
              "        [ 1.2461e+00],\n",
              "        [-2.3065e+00],\n",
              "        [-1.2869e+00],\n",
              "        [ 1.7989e-01],\n",
              "        [-2.1268e+00],\n",
              "        [-1.3408e-01],\n",
              "        [-1.0408e+00],\n",
              "        [-7.6472e-01],\n",
              "        [-5.5283e-02],\n",
              "        [ 1.2049e+00],\n",
              "        [-9.8247e-01],\n",
              "        [ 4.3344e-01],\n",
              "        [-7.1719e-01],\n",
              "        [ 1.0554e+00],\n",
              "        [-1.4534e+00],\n",
              "        [ 4.6515e-01],\n",
              "        [ 3.7139e-01],\n",
              "        [-4.6568e-03],\n",
              "        [ 7.9549e-02],\n",
              "        [ 3.7818e-01],\n",
              "        [ 7.0511e-01],\n",
              "        [-1.7237e+00],\n",
              "        [-8.4348e-01],\n",
              "        [ 4.3514e-01],\n",
              "        [ 2.6589e-01],\n",
              "        [-5.8710e-01],\n",
              "        [ 8.2689e-02],\n",
              "        [ 8.8538e-01],\n",
              "        [ 1.8244e-01],\n",
              "        [ 7.8638e-01],\n",
              "        [-5.7920e-02],\n",
              "        [ 5.6667e-01],\n",
              "        [-7.0976e-01],\n",
              "        [-4.8751e-01],\n",
              "        [ 5.0096e-02],\n",
              "        [ 6.0841e-01],\n",
              "        [ 1.6309e+00],\n",
              "        [-8.4723e-02],\n",
              "        [ 1.0844e+00],\n",
              "        [ 9.4777e-01],\n",
              "        [-6.7663e-01],\n",
              "        [-5.7302e-01],\n",
              "        [-3.3032e-01],\n",
              "        [-7.9394e-01],\n",
              "        [ 3.7523e-01],\n",
              "        [ 8.7910e-02],\n",
              "        [-1.2415e+00],\n",
              "        [-3.2025e-01],\n",
              "        [-8.4438e-01],\n",
              "        [-5.5135e-01],\n",
              "        [ 1.9890e+00],\n",
              "        [ 1.9003e+00],\n",
              "        [ 1.6951e+00],\n",
              "        [ 2.8090e-02],\n",
              "        [-1.7537e-01],\n",
              "        [-1.7735e+00],\n",
              "        [-7.0464e-01],\n",
              "        [-3.9465e-01],\n",
              "        [ 1.8868e+00],\n",
              "        [-2.1844e-01],\n",
              "        [ 1.6630e-01],\n",
              "        [ 2.1442e+00],\n",
              "        [ 1.7046e+00],\n",
              "        [ 3.4590e-01],\n",
              "        [ 6.4248e-01],\n",
              "        [-2.0395e-01],\n",
              "        [ 6.8537e-01],\n",
              "        [-1.3969e-01],\n",
              "        [-1.1808e+00],\n",
              "        [-1.2829e+00],\n",
              "        [ 4.4849e-01],\n",
              "        [-5.9074e-01],\n",
              "        [ 8.5406e-01],\n",
              "        [-4.9007e-01],\n",
              "        [-3.5946e-01],\n",
              "        [ 6.6637e-01],\n",
              "        [-7.4265e-02],\n",
              "        [-2.0960e-01],\n",
              "        [ 1.6632e-01],\n",
              "        [ 1.4703e+00],\n",
              "        [-9.3909e-01],\n",
              "        [-6.0132e-01],\n",
              "        [-9.9640e-02],\n",
              "        [-9.8515e-01],\n",
              "        [-2.4885e+00],\n",
              "        [-3.3132e-01],\n",
              "        [ 8.4358e-01],\n",
              "        [ 9.8745e-01],\n",
              "        [-3.3197e-01],\n",
              "        [-8.0762e-01],\n",
              "        [ 8.2436e-01],\n",
              "        [ 2.4700e-02],\n",
              "        [-1.0641e+00],\n",
              "        [-7.6019e-01],\n",
              "        [-4.0751e-01],\n",
              "        [ 9.6236e-01],\n",
              "        [-1.4264e-01],\n",
              "        [ 1.5271e-01],\n",
              "        [-3.8802e-02],\n",
              "        [ 9.4461e-01],\n",
              "        [-1.5824e+00],\n",
              "        [ 9.8713e-01],\n",
              "        [ 1.1457e+00],\n",
              "        [-1.4181e-01],\n",
              "        [-2.7634e-01],\n",
              "        [-1.9321e-01],\n",
              "        [ 7.7678e-01],\n",
              "        [ 6.8388e-01],\n",
              "        [-1.3246e+00],\n",
              "        [-5.1608e-01],\n",
              "        [ 6.0018e-01],\n",
              "        [-4.7022e-01],\n",
              "        [-6.0864e-01],\n",
              "        [-4.6192e-02],\n",
              "        [-1.6457e+00],\n",
              "        [-4.8333e-01],\n",
              "        [-7.4029e-01],\n",
              "        [ 3.1428e-01],\n",
              "        [ 1.4156e-01],\n",
              "        [ 1.0348e+00],\n",
              "        [-6.2644e-01],\n",
              "        [-5.1509e-01],\n",
              "        [ 6.9029e-01],\n",
              "        [-4.9400e-01],\n",
              "        [ 1.1366e+00],\n",
              "        [-4.6184e-01],\n",
              "        [ 1.4200e+00],\n",
              "        [ 8.4852e-01],\n",
              "        [-4.7891e-02],\n",
              "        [ 6.6856e-01],\n",
              "        [ 1.0430e+00],\n",
              "        [ 6.8990e-01],\n",
              "        [-1.3129e+00],\n",
              "        [ 3.7804e-02],\n",
              "        [-1.1702e+00],\n",
              "        [-1.0319e-01],\n",
              "        [ 1.1895e+00],\n",
              "        [ 7.6069e-01],\n",
              "        [-7.4630e-01],\n",
              "        [-1.3839e+00],\n",
              "        [ 4.8687e-01],\n",
              "        [-1.0020e+00],\n",
              "        [ 3.2949e-02],\n",
              "        [-4.2920e-01],\n",
              "        [-9.8180e-01],\n",
              "        [-6.4206e-01],\n",
              "        [ 8.2659e-01],\n",
              "        [ 1.5914e+00],\n",
              "        [-1.2081e-01],\n",
              "        [-4.8302e-01],\n",
              "        [ 1.1330e-01],\n",
              "        [ 7.7151e-02],\n",
              "        [-9.2281e-01],\n",
              "        [-1.2620e+00],\n",
              "        [ 1.0861e+00],\n",
              "        [ 1.0966e+00],\n",
              "        [-6.8369e-01],\n",
              "        [ 6.6043e-02],\n",
              "        [-7.7380e-04],\n",
              "        [ 1.6206e-01],\n",
              "        [ 1.1960e+00],\n",
              "        [-1.3062e+00],\n",
              "        [-1.4040e+00],\n",
              "        [-1.0597e+00],\n",
              "        [ 3.0573e-01],\n",
              "        [ 4.1506e-01],\n",
              "        [-7.1741e-01],\n",
              "        [ 2.8340e+00],\n",
              "        [ 1.9535e+00],\n",
              "        [ 2.0487e+00],\n",
              "        [-1.0880e+00],\n",
              "        [ 1.6217e+00],\n",
              "        [ 8.5127e-01],\n",
              "        [-4.0047e-01],\n",
              "        [-6.0883e-01],\n",
              "        [-5.0810e-01],\n",
              "        [-6.1849e-01],\n",
              "        [-1.6470e+00],\n",
              "        [-1.0362e+00],\n",
              "        [-4.5031e-01],\n",
              "        [-7.2966e-02],\n",
              "        [-5.4795e-01],\n",
              "        [-1.1426e+00],\n",
              "        [-4.4875e-01],\n",
              "        [-3.0454e-02],\n",
              "        [ 3.8303e-01],\n",
              "        [-4.4770e-02],\n",
              "        [ 1.1799e+00],\n",
              "        [-3.3143e-01],\n",
              "        [ 6.4950e-01],\n",
              "        [ 9.4959e-02],\n",
              "        [-7.5259e-01],\n",
              "        [-6.4723e-01],\n",
              "        [-1.2823e+00],\n",
              "        [ 1.9653e+00],\n",
              "        [-9.6385e-01],\n",
              "        [-2.5668e+00],\n",
              "        [ 7.0961e-01],\n",
              "        [ 8.1984e-01],\n",
              "        [ 6.2145e-01],\n",
              "        [ 4.2319e-01],\n",
              "        [-3.3890e-01],\n",
              "        [ 5.1797e-01],\n",
              "        [-1.3638e+00],\n",
              "        [ 1.9296e-01],\n",
              "        [-6.1033e-01],\n",
              "        [ 1.6323e-01],\n",
              "        [ 1.5102e+00],\n",
              "        [ 2.1230e-01],\n",
              "        [-7.2520e-01],\n",
              "        [-9.5277e-01],\n",
              "        [ 5.2169e-01],\n",
              "        [-4.6387e-01],\n",
              "        [ 1.8238e-01],\n",
              "        [-3.8666e-01],\n",
              "        [-1.7907e+00],\n",
              "        [ 9.3293e-02],\n",
              "        [-1.9153e+00],\n",
              "        [-6.4218e-01],\n",
              "        [ 1.3439e+00],\n",
              "        [-1.2922e+00],\n",
              "        [ 7.6624e-01],\n",
              "        [ 6.4540e-01],\n",
              "        [ 3.5332e-01],\n",
              "        [-2.6475e+00],\n",
              "        [-1.4575e+00],\n",
              "        [-9.7124e-01],\n",
              "        [ 2.5403e-01],\n",
              "        [-1.7906e-01],\n",
              "        [ 1.1993e+00],\n",
              "        [-4.2922e-01],\n",
              "        [ 1.0103e+00],\n",
              "        [ 6.1104e-01],\n",
              "        [ 1.2208e+00],\n",
              "        [-6.0764e-01],\n",
              "        [-1.7376e+00],\n",
              "        [-1.2535e-01],\n",
              "        [-1.3658e+00],\n",
              "        [ 1.1117e+00],\n",
              "        [-6.2280e-01],\n",
              "        [-7.8918e-01],\n",
              "        [-1.6782e-01],\n",
              "        [ 1.6433e+00],\n",
              "        [ 2.0071e+00],\n",
              "        [-1.2531e+00],\n",
              "        [ 1.1189e+00],\n",
              "        [ 1.7733e+00],\n",
              "        [-2.0717e+00],\n",
              "        [-4.1253e-01],\n",
              "        [-9.7696e-01],\n",
              "        [-3.3634e-02],\n",
              "        [ 1.8595e+00],\n",
              "        [ 2.6221e+00],\n",
              "        [ 3.6905e-01],\n",
              "        [ 3.8030e-01],\n",
              "        [ 1.9898e-01],\n",
              "        [-2.3609e-01],\n",
              "        [ 3.0341e-01],\n",
              "        [-4.5008e-01],\n",
              "        [ 4.7390e-01],\n",
              "        [ 6.5034e-01],\n",
              "        [ 1.1662e+00],\n",
              "        [ 1.6936e-02],\n",
              "        [ 5.3259e-01],\n",
              "        [-6.0354e-01],\n",
              "        [-1.7426e-01],\n",
              "        [ 6.0921e-01],\n",
              "        [-8.0322e-01],\n",
              "        [-1.1209e+00],\n",
              "        [ 1.9564e-01],\n",
              "        [-7.8152e-01],\n",
              "        [-1.7899e+00],\n",
              "        [-2.6157e-01],\n",
              "        [-4.4025e-01],\n",
              "        [ 2.1848e+00],\n",
              "        [-4.8010e-01],\n",
              "        [-1.2872e+00],\n",
              "        [ 7.3888e-01],\n",
              "        [ 3.3895e-02],\n",
              "        [-3.1229e-01],\n",
              "        [-2.5418e-01],\n",
              "        [-1.2055e+00],\n",
              "        [-9.5421e-01],\n",
              "        [ 6.1277e-02],\n",
              "        [ 8.5261e-02],\n",
              "        [ 7.4813e-01],\n",
              "        [-1.6356e-01],\n",
              "        [-9.0856e-01],\n",
              "        [ 3.1300e-01],\n",
              "        [ 8.0505e-01],\n",
              "        [-1.1134e+00],\n",
              "        [ 4.9816e-01],\n",
              "        [-1.2000e+00],\n",
              "        [ 1.2711e-01],\n",
              "        [ 4.4037e-01],\n",
              "        [ 6.3777e-01],\n",
              "        [ 1.5979e-01],\n",
              "        [ 1.7698e+00],\n",
              "        [ 6.2682e-01],\n",
              "        [-1.8737e+00],\n",
              "        [ 2.3259e+00],\n",
              "        [-9.2039e-01],\n",
              "        [ 6.6611e-01],\n",
              "        [-4.4026e-01],\n",
              "        [-2.3180e+00],\n",
              "        [ 1.2946e+00],\n",
              "        [ 2.2267e-01],\n",
              "        [-8.4834e-01],\n",
              "        [ 1.6489e+00],\n",
              "        [ 1.6006e+00],\n",
              "        [-7.8589e-02],\n",
              "        [ 4.3105e-01],\n",
              "        [ 3.6835e-01],\n",
              "        [ 7.6380e-01],\n",
              "        [ 1.1792e+00],\n",
              "        [-4.1379e-01],\n",
              "        [ 5.1841e-01],\n",
              "        [-7.0154e-01],\n",
              "        [-4.3234e-01],\n",
              "        [ 1.4148e-01],\n",
              "        [ 7.1104e-02],\n",
              "        [ 5.6335e-01],\n",
              "        [-5.7864e-01],\n",
              "        [-1.0838e+00],\n",
              "        [-3.8893e-01],\n",
              "        [ 8.1261e-01],\n",
              "        [ 1.4981e+00],\n",
              "        [ 4.3896e-02],\n",
              "        [ 1.4443e+00],\n",
              "        [ 2.3203e-01],\n",
              "        [ 5.0650e-01],\n",
              "        [-1.2787e+00],\n",
              "        [-3.8427e-02],\n",
              "        [ 1.9138e+00],\n",
              "        [ 3.3784e-01],\n",
              "        [ 1.2506e-01],\n",
              "        [-7.6215e-01],\n",
              "        [-1.1906e+00],\n",
              "        [ 7.7561e-01],\n",
              "        [ 4.5572e-01],\n",
              "        [ 2.5033e-01],\n",
              "        [-1.3611e+00],\n",
              "        [ 1.8018e+00],\n",
              "        [-7.4342e-02],\n",
              "        [-1.5664e-01],\n",
              "        [-8.7085e-01],\n",
              "        [-6.4110e-01],\n",
              "        [-4.1456e-01],\n",
              "        [-6.9024e-01],\n",
              "        [-2.2996e-01],\n",
              "        [-2.1723e+00],\n",
              "        [ 8.7683e-02],\n",
              "        [ 1.0938e+00],\n",
              "        [-1.1772e-01],\n",
              "        [-2.9864e-01],\n",
              "        [-9.5362e-01],\n",
              "        [-9.2473e-02],\n",
              "        [-1.0167e+00],\n",
              "        [-7.6757e-03],\n",
              "        [-5.1822e-01],\n",
              "        [ 8.3954e-01],\n",
              "        [ 5.8523e-02],\n",
              "        [-1.6682e+00],\n",
              "        [ 2.1296e+00],\n",
              "        [-1.5181e+00],\n",
              "        [ 1.3873e-01],\n",
              "        [-1.1798e+00],\n",
              "        [-5.2974e-01],\n",
              "        [ 9.6252e-01],\n",
              "        [ 2.7944e-01],\n",
              "        [-5.7182e-01],\n",
              "        [-2.7936e+00],\n",
              "        [-7.1115e-01],\n",
              "        [ 5.2352e-01],\n",
              "        [-1.7106e+00],\n",
              "        [ 8.3849e-01],\n",
              "        [-2.6985e-01],\n",
              "        [ 1.2306e-01],\n",
              "        [ 8.7575e-01],\n",
              "        [ 1.5133e-01],\n",
              "        [ 7.3939e-01],\n",
              "        [ 2.7310e-01],\n",
              "        [ 2.7312e+00],\n",
              "        [ 4.3201e-01],\n",
              "        [-3.0918e-01],\n",
              "        [-9.6581e-02],\n",
              "        [ 1.5419e+00],\n",
              "        [-1.0874e-01],\n",
              "        [-4.1890e-01],\n",
              "        [ 1.4384e+00],\n",
              "        [-7.0684e-01],\n",
              "        [-1.2520e+00],\n",
              "        [ 3.0250e+00],\n",
              "        [ 1.3463e+00],\n",
              "        [ 8.5561e-01],\n",
              "        [ 3.2203e-01],\n",
              "        [ 4.4606e-01],\n",
              "        [ 1.5230e+00],\n",
              "        [ 1.2805e+00],\n",
              "        [-1.1616e-01],\n",
              "        [ 1.3705e+00],\n",
              "        [-4.8094e-01],\n",
              "        [-9.9036e-01],\n",
              "        [-1.3642e+00],\n",
              "        [ 8.2057e-03],\n",
              "        [-4.0586e-01],\n",
              "        [-7.1109e-01],\n",
              "        [-3.4958e-01],\n",
              "        [ 3.7975e-01],\n",
              "        [ 9.9930e-01],\n",
              "        [ 1.2752e+00],\n",
              "        [ 9.5949e-01],\n",
              "        [ 1.0351e-01],\n",
              "        [ 8.2903e-01],\n",
              "        [ 2.0921e+00],\n",
              "        [ 7.9531e-01],\n",
              "        [ 2.7928e-01],\n",
              "        [ 1.8645e-01],\n",
              "        [ 3.5471e-01],\n",
              "        [ 9.0639e-02],\n",
              "        [ 1.7423e+00],\n",
              "        [-1.2660e+00],\n",
              "        [ 3.8916e-01],\n",
              "        [ 3.4288e-01],\n",
              "        [-1.4591e+00],\n",
              "        [-1.4937e+00],\n",
              "        [-2.2139e-01],\n",
              "        [ 2.2524e-01],\n",
              "        [-7.7245e-02],\n",
              "        [ 9.8569e-01],\n",
              "        [ 1.2783e+00],\n",
              "        [ 2.8815e-01],\n",
              "        [ 8.6905e-01],\n",
              "        [-8.0971e-01],\n",
              "        [-1.4299e+00],\n",
              "        [ 4.5902e-01],\n",
              "        [ 5.3093e-01],\n",
              "        [-1.3615e+00],\n",
              "        [ 1.9562e+00],\n",
              "        [ 1.7685e+00],\n",
              "        [-9.8580e-01],\n",
              "        [-1.2371e+00],\n",
              "        [-2.3019e+00],\n",
              "        [-1.0087e-03],\n",
              "        [-8.4943e-01],\n",
              "        [-1.6594e+00],\n",
              "        [ 3.0629e-01],\n",
              "        [ 1.1820e+00],\n",
              "        [ 3.2603e-01],\n",
              "        [-3.8945e-01],\n",
              "        [ 2.8544e+00],\n",
              "        [ 8.2437e-01],\n",
              "        [ 7.9835e-01],\n",
              "        [ 1.8890e+00],\n",
              "        [ 5.9346e-01],\n",
              "        [ 6.9654e-02],\n",
              "        [-1.6034e+00],\n",
              "        [-4.2982e-01],\n",
              "        [ 5.7616e-01],\n",
              "        [ 3.4436e-01],\n",
              "        [-3.1016e+00],\n",
              "        [-1.4587e+00],\n",
              "        [-1.4318e+00],\n",
              "        [-6.0713e-01],\n",
              "        [-2.5974e-01],\n",
              "        [-7.1902e-01],\n",
              "        [-3.8583e-01],\n",
              "        [ 5.2335e-01],\n",
              "        [-8.2118e-01],\n",
              "        [-4.7087e-01],\n",
              "        [ 6.0164e-01],\n",
              "        [-2.8251e-01],\n",
              "        [ 7.6927e-01],\n",
              "        [-7.6689e-01],\n",
              "        [-9.4949e-01]], requires_grad=True)"
            ]
          },
          "metadata": {},
          "execution_count": 44
        }
      ]
    },
    {
      "cell_type": "code",
      "source": [
        "bias = init_params(1)"
      ],
      "metadata": {
        "id": "HzNdZNs8slAB"
      },
      "execution_count": 45,
      "outputs": []
    },
    {
      "cell_type": "code",
      "source": [
        "#In neural networks the equation y =wx + b the y is the predicted value the w are weights and the b are the parameters\n",
        "#while the x are the input values\n",
        "#Both the weights are bias make up the parameters"
      ],
      "metadata": {
        "id": "cj6ylXlVs-k_"
      },
      "execution_count": 46,
      "outputs": []
    },
    {
      "cell_type": "code",
      "source": [
        "#Prediction for one image with the following calculation:\n",
        "(train_x[0] * weights.T).sum() + bias"
      ],
      "metadata": {
        "colab": {
          "base_uri": "https://localhost:8080/"
        },
        "id": "HZDkT586sbg8",
        "outputId": "d013cfb0-cfe9-4de7-8162-53df14205f98"
      },
      "execution_count": 47,
      "outputs": [
        {
          "output_type": "execute_result",
          "data": {
            "text/plain": [
              "tensor([-16.4956], grad_fn=<AddBackward0>)"
            ]
          },
          "metadata": {},
          "execution_count": 47
        }
      ]
    },
    {
      "cell_type": "markdown",
      "source": [
        "We could use Python for loops to calculate the prediction for each image but that turns out to be very slow as python does not use GPU  and Python is very slow when it comes to loops in general. For convinience there is a mathematical operation that enables us to calculate the dot product of the weights and input/pixel values from images. This mathematical operation is called matrix multiplication which does this through multiplying the row of the weight matrix by the column of the input images."
      ],
      "metadata": {
        "id": "T_qLekNnt-07"
      }
    },
    {
      "cell_type": "code",
      "source": [
        "#Function to calculate the matrix multiplication in python using the @ operator\n",
        "def linear1(xb):return xb@weights + bias"
      ],
      "metadata": {
        "id": "umfBCsi5tzWk"
      },
      "execution_count": 48,
      "outputs": []
    },
    {
      "cell_type": "markdown",
      "source": [
        "In this function we take the input features which are the pixel values from our image and turn it into a 1 dimensional array which is called a vector and then do a batch matrix multiplication by the weights of the layer. The equation\n",
        "is batch@weights + bias"
      ],
      "metadata": {
        "id": "X0JULxry1MIZ"
      }
    },
    {
      "cell_type": "code",
      "source": [
        "#We calculate a \n",
        "prediction1 = linear1(train_x)"
      ],
      "metadata": {
        "id": "zBY4iI2LzHC4"
      },
      "execution_count": 49,
      "outputs": []
    },
    {
      "cell_type": "code",
      "source": [
        "prediction1"
      ],
      "metadata": {
        "colab": {
          "base_uri": "https://localhost:8080/"
        },
        "id": "7xcjpiB0zM3i",
        "outputId": "61810c16-2372-4dc5-913e-80e8cff7ea39"
      },
      "execution_count": 50,
      "outputs": [
        {
          "output_type": "execute_result",
          "data": {
            "text/plain": [
              "tensor([[-16.4956],\n",
              "        [ -2.5754],\n",
              "        [ -8.9959],\n",
              "        ...,\n",
              "        [-13.9118],\n",
              "        [-11.2499],\n",
              "        [ -4.6028]], grad_fn=<AddBackward0>)"
            ]
          },
          "metadata": {},
          "execution_count": 50
        }
      ]
    },
    {
      "cell_type": "code",
      "source": [
        "#1 was labeled as a  3 \n",
        "correct_three = (prediction1>0.0).float() == train_y "
      ],
      "metadata": {
        "id": "TAvrV_m0zOAl"
      },
      "execution_count": 51,
      "outputs": []
    },
    {
      "cell_type": "code",
      "source": [
        "correct_three_accuracy = (prediction1>0.0).float().mean()"
      ],
      "metadata": {
        "id": "Wlo3-g6o2koU"
      },
      "execution_count": 52,
      "outputs": []
    },
    {
      "cell_type": "code",
      "source": [
        "correct_three_accuracy"
      ],
      "metadata": {
        "colab": {
          "base_uri": "https://localhost:8080/"
        },
        "id": "fAAYz26T3SH2",
        "outputId": "b2a07c52-ccab-4ee2-a704-d19d5c96620e"
      },
      "execution_count": 53,
      "outputs": [
        {
          "output_type": "execute_result",
          "data": {
            "text/plain": [
              "tensor(0.1297)"
            ]
          },
          "metadata": {},
          "execution_count": 53
        }
      ]
    },
    {
      "cell_type": "markdown",
      "source": [
        "We need gradients in order to improve our model using SGD stochastic gradient descent to get the gradients we need a loss functions. \n",
        "\n",
        "\n",
        "Gradients are a measure of how the loss function changes with small tweaks to the weights \n",
        "\n",
        "\n",
        "The purpose of a loss function is to measure the difference between the predicted values and the true values to see how much the function: y=wx+b changed when the input changed i.e the gradient in this case our weights"
      ],
      "metadata": {
        "id": "WbZmvPgN4R34"
      }
    },
    {
      "cell_type": "code",
      "source": [
        "targets = tensor([1,0,1])"
      ],
      "metadata": {
        "id": "91NTC2AE3VdX"
      },
      "execution_count": 54,
      "outputs": []
    },
    {
      "cell_type": "code",
      "source": [
        "predictions = tensor([0.2, 0.4, 0.9])"
      ],
      "metadata": {
        "id": "peKBNrOs-VEL"
      },
      "execution_count": 55,
      "outputs": []
    },
    {
      "cell_type": "code",
      "source": [
        "def mnist_loss(targets, predictions):\n",
        "  return torch.where(targets == 1, 1-predictions, predictions).mean()"
      ],
      "metadata": {
        "id": "rr_KQI2G-bvs"
      },
      "execution_count": 56,
      "outputs": []
    },
    {
      "cell_type": "code",
      "source": [
        "loss_fn = mnist_loss(targets,predictions)"
      ],
      "metadata": {
        "id": "By_FLRLG-qhX"
      },
      "execution_count": 57,
      "outputs": []
    },
    {
      "cell_type": "code",
      "source": [
        "loss_fn"
      ],
      "metadata": {
        "colab": {
          "base_uri": "https://localhost:8080/"
        },
        "id": "SJwtxL1O-yS3",
        "outputId": "41f83a66-57dc-4ad9-8683-7e6e2b34857e"
      },
      "execution_count": 58,
      "outputs": [
        {
          "output_type": "execute_result",
          "data": {
            "text/plain": [
              "tensor(0.4333)"
            ]
          },
          "metadata": {},
          "execution_count": 58
        }
      ]
    },
    {
      "cell_type": "markdown",
      "source": [
        "A scalar is one number a vector is a one dimensional matrix that has only one row and one column a matrix is a two dimensional array of numbers that contains n rows and n columns. In pytorch a lower number is associated with a better loss since we need only one value for from our loss function and we obtain this through adding the mean() method."
      ],
      "metadata": {
        "id": "rHH71iga_RBz"
      }
    },
    {
      "cell_type": "markdown",
      "source": [
        "A sigmoid function is a mathematical operation or a function that takes in an input value and outputs a value in between a zero and a one"
      ],
      "metadata": {
        "id": "1dPQV3MBwu-b"
      }
    },
    {
      "cell_type": "code",
      "execution_count": 59,
      "metadata": {
        "id": "PM3tpN_IwfbH"
      },
      "outputs": [],
      "source": [
        "#This is how we define a sigmoid function:\n",
        "def sigmoid(x): return (1/1+torch.exp(-x))"
      ]
    },
    {
      "cell_type": "code",
      "source": [
        "import numpy as np\n"
      ],
      "metadata": {
        "id": "mK4y--q_xRCZ"
      },
      "execution_count": 60,
      "outputs": []
    },
    {
      "cell_type": "code",
      "source": [
        "#Here we plot the function on a graph to visualize it\n",
        "\n",
        "plot_function(torch.sigmoid, title=\"Sigmoid\", min =-10, max =10 )"
      ],
      "metadata": {
        "colab": {
          "base_uri": "https://localhost:8080/",
          "height": 340
        },
        "id": "huNGmupMxva9",
        "outputId": "f3f2ccd7-585c-4069-c033-ee2be86409bd"
      },
      "execution_count": 61,
      "outputs": [
        {
          "output_type": "stream",
          "name": "stderr",
          "text": [
            "/usr/local/lib/python3.7/dist-packages/fastbook/__init__.py:74: UserWarning: Not providing a value for linspace's steps is deprecated and will throw a runtime error in a future release. This warning will appear only once per process. (Triggered internally at  ../aten/src/ATen/native/RangeFactories.cpp:23.)\n",
            "  x = torch.linspace(min,max)\n"
          ]
        },
        {
          "output_type": "display_data",
          "data": {
            "image/png": "[encoded data removed]",
            "text/plain": [
              "<Figure size 432x288 with 1 Axes>"
            ]
          },
          "metadata": {
            "needs_background": "light"
          }
        }
      ]
    },
    {
      "cell_type": "code",
      "source": [
        "#We redefine our loss function to apply sigmoid function to our predicted values,this ensures that our loss function takes in values that\n",
        "#are in between zero and one \n",
        "def mnist_loss(targets, predictions):\n",
        "  predictions = predictions.sigmoid()\n",
        "  return (torch.where(targets == 1, 1 - predictions, predictions)).mean()"
      ],
      "metadata": {
        "id": "ee9oXfWDy-Ux"
      },
      "execution_count": 62,
      "outputs": []
    },
    {
      "cell_type": "markdown",
      "source": [
        "We defined a loss function to ensure that gradient descent/ automated learning can be smoothly applied to our model.\n",
        "The loss enables us to see how far our machine learning model is from the desired goal. You can think of the loss a perfomance evaluation technique during training. The metric is used to drive human understanding while the loss function is used to enable our model to learn effectively through application of gradient descent and so on."
      ],
      "metadata": {
        "id": "nNRJglWc1Ikm"
      }
    },
    {
      "cell_type": "markdown",
      "source": [
        "The next step after obtaining the loss is to change and update the weights based on the loss, this is known as taking an optimization step:(i.e , taking an optimization step is changing and updating the weights based on the loss). To take an optimization step we have to calculate the loss of a single or more data items. Calculating the loss for the whole dataset would relatively take a long time and calculating the loss for a single data item wouldn't give much and precise information thus will lead to unstable gradients. The walk around for this is to calculate the average loss for a few data items at a time,this is called a mini-batch. The batch size is the number of data items in a mini batch.\n",
        "\n"
      ],
      "metadata": {
        "id": "eIbu3zg4A5jV"
      }
    },
    {
      "cell_type": "code",
      "source": [
        ""
      ],
      "metadata": {
        "id": "77TS4y7vLLD2"
      },
      "execution_count": 62,
      "outputs": []
    },
    {
      "cell_type": "code",
      "source": [
        "coll = range(15)\n",
        "dl = DataLoader(coll, batch_size =5, shuffle = True)"
      ],
      "metadata": {
        "id": "KxJerD_-0uZi"
      },
      "execution_count": 63,
      "outputs": []
    },
    {
      "cell_type": "code",
      "source": [
        ""
      ],
      "metadata": {
        "id": "-a8HR6LDGUgO"
      },
      "execution_count": 63,
      "outputs": []
    },
    {
      "cell_type": "code",
      "source": [
        "dl = list(dl)"
      ],
      "metadata": {
        "id": "hC0b3nq9GXOH"
      },
      "execution_count": 64,
      "outputs": []
    },
    {
      "cell_type": "code",
      "source": [
        "dl"
      ],
      "metadata": {
        "colab": {
          "base_uri": "https://localhost:8080/"
        },
        "id": "H_wp_uMyGt3p",
        "outputId": "ff6b57c7-cc4f-4638-9f88-29df9a075efc"
      },
      "execution_count": 65,
      "outputs": [
        {
          "output_type": "execute_result",
          "data": {
            "text/plain": [
              "[tensor([ 3, 12,  8, 10,  2]),\n",
              " tensor([ 9,  4,  7, 14,  5]),\n",
              " tensor([ 1, 13,  0,  6, 11])]"
            ]
          },
          "metadata": {},
          "execution_count": 65
        }
      ]
    },
    {
      "cell_type": "code",
      "source": [
        "doc(list)"
      ],
      "metadata": {
        "id": "Rvbto0nOGu-P",
        "colab": {
          "base_uri": "https://localhost:8080/",
          "height": 153
        },
        "outputId": "1d0b7a46-b2df-43a6-f48a-ca681ce7687f"
      },
      "execution_count": 66,
      "outputs": [
        {
          "output_type": "display_data",
          "data": {
            "text/html": [
              "<h2 id=\"list\" class=\"doc_header\"><code>class</code> <code>list</code><a href=\"\" class=\"source_link\" style=\"float:right\">[source]</a></h2><blockquote><p><code>list</code>(<strong><code>iterable</code></strong>=<em><code>()</code></em>)</p>\n",
              "</blockquote>\n",
              "<p>Built-in mutable sequence.</p>\n",
              "<p>If no argument is given, the constructor creates a new empty list.\n",
              "The argument must be an iterable if specified.</p>\n",
              "<style>\n",
              "    table { border-collapse: collapse; border:thin solid #dddddd; margin: 25px 0px; ; }\n",
              "    table tr:first-child { background-color: #FFF}\n",
              "    table thead th { background-color: #eee; color: #000; text-align: center;}\n",
              "    tr, th, td { border: 1px solid #ccc; border-width: 1px 0 0 1px; border-collapse: collapse;\n",
              "    padding: 5px; }\n",
              "    tr:nth-child(even) {background: #eee;}</style>"
            ],
            "text/plain": [
              "<IPython.core.display.HTML object>"
            ]
          },
          "metadata": {}
        }
      ]
    },
    {
      "cell_type": "markdown",
      "source": [
        "The independent variables are the inputs while the dependent variables are the targets.\n",
        "\n",
        "In pytorch a dataset is a collection that contains independent and dependent variables. (x,y) x is the training inputs y is the labeled data."
      ],
      "metadata": {
        "id": "zzxvfiK6G-QW"
      }
    },
    {
      "cell_type": "code",
      "source": [
        "ds = L(enumerate(string.ascii_lowercase))"
      ],
      "metadata": {
        "id": "XKzubyttG0Bg"
      },
      "execution_count": 67,
      "outputs": []
    },
    {
      "cell_type": "code",
      "source": [
        "ds"
      ],
      "metadata": {
        "colab": {
          "base_uri": "https://localhost:8080/"
        },
        "id": "ELm9hdzbIfMe",
        "outputId": "aa93df0c-2d9d-4dc6-edd6-5edb1df4d941"
      },
      "execution_count": 68,
      "outputs": [
        {
          "output_type": "execute_result",
          "data": {
            "text/plain": [
              "(#26) [(0, 'a'),(1, 'b'),(2, 'c'),(3, 'd'),(4, 'e'),(5, 'f'),(6, 'g'),(7, 'h'),(8, 'i'),(9, 'j')...]"
            ]
          },
          "metadata": {},
          "execution_count": 68
        }
      ]
    },
    {
      "cell_type": "code",
      "source": [
        "dl = DataLoader(ds, batch_size=5, shuffle = True)"
      ],
      "metadata": {
        "id": "JTcKhNRWIf-r"
      },
      "execution_count": 69,
      "outputs": []
    },
    {
      "cell_type": "code",
      "source": [
        "dl"
      ],
      "metadata": {
        "colab": {
          "base_uri": "https://localhost:8080/"
        },
        "id": "WclvoFt7JJW-",
        "outputId": "68438e51-c852-44e1-e328-9436d69795e8"
      },
      "execution_count": 70,
      "outputs": [
        {
          "output_type": "execute_result",
          "data": {
            "text/plain": [
              "<fastai.data.load.DataLoader at 0x7fef3c891510>"
            ]
          },
          "metadata": {},
          "execution_count": 70
        }
      ]
    },
    {
      "cell_type": "code",
      "source": [
        "list(dl)"
      ],
      "metadata": {
        "colab": {
          "base_uri": "https://localhost:8080/"
        },
        "id": "MJ676VkkJKSa",
        "outputId": "d932f642-5a10-4f07-c8dc-06f0811f54bf"
      },
      "execution_count": 71,
      "outputs": [
        {
          "output_type": "execute_result",
          "data": {
            "text/plain": [
              "[(tensor([17, 18, 10, 22,  8]), ('r', 's', 'k', 'w', 'i')),\n",
              " (tensor([14, 20, 15,  9, 13]), ('o', 'u', 'p', 'j', 'n')),\n",
              " (tensor([21, 12,  7, 25,  6]), ('v', 'm', 'h', 'z', 'g')),\n",
              " (tensor([ 5, 11, 23,  1,  3]), ('f', 'l', 'x', 'b', 'd')),\n",
              " (tensor([ 0, 24, 19, 16,  2]), ('a', 'y', 't', 'q', 'c')),\n",
              " (tensor([4]), ('e',))]"
            ]
          },
          "metadata": {},
          "execution_count": 71
        }
      ]
    },
    {
      "cell_type": "code",
      "source": [
        "dataloader_list  = list(dl)"
      ],
      "metadata": {
        "id": "sANJhjc3JOLl"
      },
      "execution_count": 72,
      "outputs": []
    },
    {
      "cell_type": "code",
      "source": [
        "dataloader_list"
      ],
      "metadata": {
        "colab": {
          "base_uri": "https://localhost:8080/"
        },
        "id": "-NvuRa7gJRYP",
        "outputId": "8f9e8d5f-b668-4897-e4ef-b78c85b26cd1"
      },
      "execution_count": 73,
      "outputs": [
        {
          "output_type": "execute_result",
          "data": {
            "text/plain": [
              "[(tensor([14, 19, 24,  3,  8]), ('o', 't', 'y', 'd', 'i')),\n",
              " (tensor([ 2, 12, 16, 13,  5]), ('c', 'm', 'q', 'n', 'f')),\n",
              " (tensor([ 9, 15, 22, 17, 21]), ('j', 'p', 'w', 'r', 'v')),\n",
              " (tensor([ 0,  1, 23, 25, 18]), ('a', 'b', 'x', 'z', 's')),\n",
              " (tensor([ 7, 10,  4, 11,  6]), ('h', 'k', 'e', 'l', 'g')),\n",
              " (tensor([20]), ('u',))]"
            ]
          },
          "metadata": {},
          "execution_count": 73
        }
      ]
    },
    {
      "cell_type": "code",
      "source": [
        "for x,y in dl:\n",
        "  pred = model(x) #We pass in our input data into the models \n",
        "  loss = loss_fn(pred,y) #We calculate the loss based on the predictions and the target variables loss = (y - ^Y )2 pred = ^y, y target variable\n",
        "  loss.backward() #We do backpropagation after calculating the loss\n",
        "  parameters -= parameters.grad * lr #We update the parameters by taking the difference of the stepsize( i.e learning rate * the gradient descent) a\n",
        "  \n"
      ],
      "metadata": {
        "id": "pp2L-UEJJTj_"
      },
      "execution_count": null,
      "outputs": []
    },
    {
      "cell_type": "markdown",
      "source": [
        "Usually we start by initializing the parameters to random values to allow gradient descent to take place effectively. We do random initialization because if we don't our layers will give constant/same outputs and hence hindering gradient descent from taking place effectively."
      ],
      "metadata": {
        "id": "cHsvAAZJPNyi"
      }
    },
    {
      "cell_type": "code",
      "source": [
        "weights = init_params((28 * 28 , 1))#We initialise the weights randomly through the init_params method"
      ],
      "metadata": {
        "id": "z98nOyaWK9my"
      },
      "execution_count": 75,
      "outputs": []
    },
    {
      "cell_type": "code",
      "source": [
        "dl = DataLoader(dset, batch_size=256) #We load the dataset to a batch size of 256"
      ],
      "metadata": {
        "id": "8AxRfqbmP74Q"
      },
      "execution_count": 76,
      "outputs": []
    },
    {
      "cell_type": "code",
      "source": [
        "xb ,yb = first(dl) #We then split the dataset into training and labeled data"
      ],
      "metadata": {
        "id": "h87i8EcDQkVj"
      },
      "execution_count": 77,
      "outputs": []
    },
    {
      "cell_type": "code",
      "source": [
        "xb.shape"
      ],
      "metadata": {
        "colab": {
          "base_uri": "https://localhost:8080/"
        },
        "id": "Z_BP0sKZRj7D",
        "outputId": "2ced3140-f510-4cd4-e9fc-32d3b3504734"
      },
      "execution_count": 78,
      "outputs": [
        {
          "output_type": "execute_result",
          "data": {
            "text/plain": [
              "torch.Size([256, 784])"
            ]
          },
          "metadata": {},
          "execution_count": 78
        }
      ]
    },
    {
      "cell_type": "markdown",
      "source": [
        "Optimization is changing and updating the weights based on the gradient. To take an optimization step, we need to calculate the loss of the whole dataset or single data item.Calculating for the whole dataset will take a much longer time and calculating for a single data item means changing and updating the weights of a single item which will result in imprecise calculations which will lead to unstable gradients. The ideal way to go about this is to calculate the average loss of a few data items at time this is called mini-batch."
      ],
      "metadata": {
        "id": "2lrFAvfY_-VS"
      }
    },
    {
      "cell_type": "code",
      "source": [
        "ds = L(enumerate(string.ascii_lowercase))"
      ],
      "metadata": {
        "id": "nbrLLVs7RoEz"
      },
      "execution_count": 84,
      "outputs": []
    },
    {
      "cell_type": "code",
      "source": [
        "ds"
      ],
      "metadata": {
        "colab": {
          "base_uri": "https://localhost:8080/"
        },
        "id": "xEiKWpfeDxc8",
        "outputId": "85855f4e-9b83-44c1-c8d9-7b79acee0f97"
      },
      "execution_count": 85,
      "outputs": [
        {
          "output_type": "execute_result",
          "data": {
            "text/plain": [
              "(#26) [(0, 'a'),(1, 'b'),(2, 'c'),(3, 'd'),(4, 'e'),(5, 'f'),(6, 'g'),(7, 'h'),(8, 'i'),(9, 'j')...]"
            ]
          },
          "metadata": {},
          "execution_count": 85
        }
      ]
    },
    {
      "cell_type": "code",
      "source": [
        "dl = DataLoader(ds,batch_size=5,shuffle = True)"
      ],
      "metadata": {
        "id": "o6OoDFP7Dy3Q"
      },
      "execution_count": 86,
      "outputs": []
    },
    {
      "cell_type": "code",
      "source": [
        "list(dl)"
      ],
      "metadata": {
        "colab": {
          "base_uri": "https://localhost:8080/"
        },
        "id": "Cwjai73OEEEs",
        "outputId": "91384561-25a6-4440-ea42-c6ff5d83e6e2"
      },
      "execution_count": 87,
      "outputs": [
        {
          "output_type": "execute_result",
          "data": {
            "text/plain": [
              "[(tensor([20,  8,  2,  5, 12]), ('u', 'i', 'c', 'f', 'm')),\n",
              " (tensor([17, 19, 14, 15, 16]), ('r', 't', 'o', 'p', 'q')),\n",
              " (tensor([11,  1, 23, 25,  0]), ('l', 'b', 'x', 'z', 'a')),\n",
              " (tensor([22,  6,  4,  3, 21]), ('w', 'g', 'e', 'd', 'v')),\n",
              " (tensor([24, 18,  9,  7, 10]), ('y', 's', 'j', 'h', 'k')),\n",
              " (tensor([13]), ('n',))]"
            ]
          },
          "metadata": {},
          "execution_count": 87
        }
      ]
    },
    {
      "cell_type": "code",
      "source": [
        "#Lets create a dataset \n",
        "ds  = L(enumerate(string.ascii_lowercase)) "
      ],
      "metadata": {
        "id": "Mk05bkjREKLc"
      },
      "execution_count": 90,
      "outputs": []
    },
    {
      "cell_type": "code",
      "source": [
        "#We pass the dataset into a list \n",
        "list(ds)"
      ],
      "metadata": {
        "id": "afqebDo3E2r6"
      },
      "execution_count": null,
      "outputs": []
    },
    {
      "cell_type": "code",
      "source": [
        "#We the create a dataloader\n",
        "dl = DataLoader(ds, batch_size=5, shuffle=True)"
      ],
      "metadata": {
        "id": "V6_2JdInE8Kk"
      },
      "execution_count": 93,
      "outputs": []
    },
    {
      "cell_type": "code",
      "source": [
        "list(dl)"
      ],
      "metadata": {
        "colab": {
          "base_uri": "https://localhost:8080/"
        },
        "id": "1xcwO2GAFMkX",
        "outputId": "ab268bd7-082f-4f9c-b0f4-2dd6d1f1476a"
      },
      "execution_count": 95,
      "outputs": [
        {
          "output_type": "execute_result",
          "data": {
            "text/plain": [
              "[(tensor([ 3, 16, 17,  8,  7]), ('d', 'q', 'r', 'i', 'h')),\n",
              " (tensor([ 2, 10, 22,  4, 14]), ('c', 'k', 'w', 'e', 'o')),\n",
              " (tensor([25, 15,  1, 12, 19]), ('z', 'p', 'b', 'm', 't')),\n",
              " (tensor([ 5,  9, 11,  0, 23]), ('f', 'j', 'l', 'a', 'x')),\n",
              " (tensor([21, 13, 18, 20,  6]), ('v', 'n', 's', 'u', 'g')),\n",
              " (tensor([24]), ('y',))]"
            ]
          },
          "metadata": {},
          "execution_count": 95
        }
      ]
    },
    {
      "cell_type": "code",
      "source": [
        "for x, y in dl:\n",
        "  pred = model(x) #We get the predictions from our model \n",
        "  loss = loss_fn(pred, y) #We caluculate the loss using the loss function loss_fn which takes in the predictions and the target labels\n",
        "  loss.backward() #We do a backpropagation of the loss using the backward method from pytorch \n",
        "  parameters -= parameters.grad * lr #We apply gradient descent i.e changing the parameters which is updating the weights and bias based on the loss\n",
        "  "
      ],
      "metadata": {
        "id": "vVMznB8oHPTI"
      },
      "execution_count": null,
      "outputs": []
    },
    {
      "cell_type": "code",
      "source": [
        "#Start training by initializing random weights\n",
        "weights = init_params((28*28,1))"
      ],
      "metadata": {
        "id": "5-AvU1a6G65u"
      },
      "execution_count": 100,
      "outputs": []
    },
    {
      "cell_type": "code",
      "source": [
        "bias = init_params(1)"
      ],
      "metadata": {
        "id": "7QLrAfq0FShj"
      },
      "execution_count": 101,
      "outputs": []
    },
    {
      "cell_type": "code",
      "source": [
        "#We create a dataLoader from the dataset\n",
        "dl = DataLoader(dset, batch_size=256)"
      ],
      "metadata": {
        "id": "bcw8yFqiEwqQ"
      },
      "execution_count": 102,
      "outputs": []
    },
    {
      "cell_type": "code",
      "source": [
        "xb, yb = first(dl)"
      ],
      "metadata": {
        "id": "s0zZcbNxJhRh"
      },
      "execution_count": 103,
      "outputs": []
    },
    {
      "cell_type": "code",
      "source": [
        "xb.shape"
      ],
      "metadata": {
        "colab": {
          "base_uri": "https://localhost:8080/"
        },
        "id": "gMSIT-H7JkEo",
        "outputId": "5979dc00-9647-4103-da46-b60c80ee877a"
      },
      "execution_count": 104,
      "outputs": [
        {
          "output_type": "execute_result",
          "data": {
            "text/plain": [
              "torch.Size([256, 784])"
            ]
          },
          "metadata": {},
          "execution_count": 104
        }
      ]
    },
    {
      "cell_type": "code",
      "source": [
        "def cross_entropy_loss(predictions, targets):\n",
        "  sm_acts = torch.softmax(predictions, dim = 1)\n",
        "  idx = len(predictions)\n"
      ],
      "metadata": {
        "id": "KAkxLROVV59A"
      },
      "execution_count": 151,
      "outputs": []
    },
    {
      "cell_type": "code",
      "source": [
        ""
      ],
      "metadata": {
        "id": "QJVa31CFWYVm"
      },
      "execution_count": null,
      "outputs": []
    },
    {
      "cell_type": "code",
      "source": [
        "def calc_grad(xb,yb, model):\n",
        "  pred = model(xb)\n",
        "  loss = cross_entropy_loss(preds,yb)\n",
        "  loss.backward()"
      ],
      "metadata": {
        "id": "eClajRXxRlhU"
      },
      "execution_count": 145,
      "outputs": []
    },
    {
      "cell_type": "code",
      "source": [
        "doc(calc_grad)"
      ],
      "metadata": {
        "colab": {
          "base_uri": "https://localhost:8080/"
        },
        "id": "y5O-qO4bTnsJ",
        "outputId": "661f31e8-ad97-4c1f-ff78-d0a69b03de92"
      },
      "execution_count": 137,
      "outputs": [
        {
          "output_type": "stream",
          "name": "stdout",
          "text": [
            "calc_grad(xb, yb, model)\n",
            "None\n",
            "\n",
            "To get a prettier result with hyperlinks to source code and documentation, install nbdev: pip install nbdev\n"
          ]
        }
      ]
    },
    {
      "cell_type": "code",
      "source": [
        "!pip install nbdev"
      ],
      "metadata": {
        "id": "2Jy8zjEMTrbF"
      },
      "execution_count": null,
      "outputs": []
    },
    {
      "cell_type": "code",
      "source": [
        "weights.grad"
      ],
      "metadata": {
        "id": "IgLXpJ7eT763"
      },
      "execution_count": 143,
      "outputs": []
    },
    {
      "cell_type": "code",
      "source": [
        "for x, y in dl:\n",
        "  pred = model(x)\n",
        "  loss = loss_fn(pred,y)\n",
        "  loss.backward()\n",
        "  parameters -= parameter.grad * lr  "
      ],
      "metadata": {
        "id": "DvSfyoYXSJ9r"
      },
      "execution_count": null,
      "outputs": []
    },
    {
      "cell_type": "code",
      "source": [
        ""
      ],
      "metadata": {
        "id": "u32Z8FOLV2K3"
      },
      "execution_count": null,
      "outputs": []
    },
    {
      "cell_type": "code",
      "source": [
        "batch = (xb,yb)\n",
        "\n",
        "calc_grad(xb,yb[:4], linear1)\n"
      ],
      "metadata": {
        "id": "C4Y1RLI4Jlzk"
      },
      "execution_count": null,
      "outputs": []
    },
    {
      "cell_type": "code",
      "source": [
        ""
      ],
      "metadata": {
        "id": "SCSJICKIVqwy"
      },
      "execution_count": null,
      "outputs": []
    },
    {
      "cell_type": "code",
      "source": [
        ""
      ],
      "metadata": {
        "id": "Ozmnjfk3Viy0"
      },
      "execution_count": null,
      "outputs": []
    },
    {
      "cell_type": "code",
      "source": [
        ""
      ],
      "metadata": {
        "id": "TY4DFMkCVdwj"
      },
      "execution_count": null,
      "outputs": []
    },
    {
      "cell_type": "code",
      "source": [
        ""
      ],
      "metadata": {
        "id": "SjynjpeXVbkf"
      },
      "execution_count": null,
      "outputs": []
    },
    {
      "cell_type": "code",
      "source": [
        ""
      ],
      "metadata": {
        "id": "8an5J8EBSQQ1"
      },
      "execution_count": null,
      "outputs": []
    },
    {
      "cell_type": "code",
      "source": [
        ""
      ],
      "metadata": {
        "id": "DuSoKC8FSOyr"
      },
      "execution_count": null,
      "outputs": []
    },
    {
      "cell_type": "code",
      "source": [
        ""
      ],
      "metadata": {
        "id": "si-4vMBdSLzc"
      },
      "execution_count": null,
      "outputs": []
    },
    {
      "cell_type": "code",
      "source": [
        ""
      ],
      "metadata": {
        "id": "jeE5axuMRjkq"
      },
      "execution_count": null,
      "outputs": []
    },
    {
      "cell_type": "code",
      "source": [
        ""
      ],
      "metadata": {
        "id": "wKp_0VEoPzi6"
      },
      "execution_count": null,
      "outputs": []
    },
    {
      "cell_type": "code",
      "source": [
        ""
      ],
      "metadata": {
        "id": "7viFGS2QPxkD"
      },
      "execution_count": null,
      "outputs": []
    },
    {
      "cell_type": "code",
      "source": [
        ""
      ],
      "metadata": {
        "id": "6-SnWbS9Psf4"
      },
      "execution_count": null,
      "outputs": []
    },
    {
      "cell_type": "code",
      "source": [
        ""
      ],
      "metadata": {
        "id": "KrJ1I832PpzD"
      },
      "execution_count": null,
      "outputs": []
    },
    {
      "cell_type": "code",
      "source": [
        ""
      ],
      "metadata": {
        "id": "msfEWdMUPoFh"
      },
      "execution_count": null,
      "outputs": []
    },
    {
      "cell_type": "code",
      "source": [
        ""
      ],
      "metadata": {
        "id": "6PNmlCzTOZ7z"
      },
      "execution_count": null,
      "outputs": []
    },
    {
      "cell_type": "code",
      "source": [
        ""
      ],
      "metadata": {
        "id": "FHwssnjfNG_E"
      },
      "execution_count": null,
      "outputs": []
    },
    {
      "cell_type": "code",
      "source": [
        ""
      ],
      "metadata": {
        "id": "a7IpOo1pLZ5P"
      },
      "execution_count": null,
      "outputs": []
    },
    {
      "cell_type": "code",
      "source": [
        ""
      ],
      "metadata": {
        "id": "S_nxQnEKLWXF"
      },
      "execution_count": null,
      "outputs": []
    },
    {
      "cell_type": "code",
      "source": [
        ""
      ],
      "metadata": {
        "id": "dSAYaC5DErnm"
      },
      "execution_count": null,
      "outputs": []
    },
    {
      "cell_type": "code",
      "source": [
        ""
      ],
      "metadata": {
        "id": "ZRwJW9pJDn3j"
      },
      "execution_count": null,
      "outputs": []
    },
    {
      "cell_type": "code",
      "source": [
        ""
      ],
      "metadata": {
        "id": "PvuWXZlRDlfP"
      },
      "execution_count": null,
      "outputs": []
    },
    {
      "cell_type": "code",
      "source": [
        ""
      ],
      "metadata": {
        "id": "sSthw3f7Dgs2"
      },
      "execution_count": null,
      "outputs": []
    },
    {
      "cell_type": "code",
      "source": [
        ""
      ],
      "metadata": {
        "id": "9LfQRwoyQ8Va"
      },
      "execution_count": 78,
      "outputs": []
    },
    {
      "cell_type": "code",
      "source": [
        ""
      ],
      "metadata": {
        "id": "kIiqaoMBQby4"
      },
      "execution_count": 78,
      "outputs": []
    },
    {
      "cell_type": "code",
      "source": [
        ""
      ],
      "metadata": {
        "id": "Nf448uxIKaQU"
      },
      "execution_count": 78,
      "outputs": []
    },
    {
      "cell_type": "code",
      "source": [
        ""
      ],
      "metadata": {
        "id": "EPdRtn6bIRId"
      },
      "execution_count": 78,
      "outputs": []
    },
    {
      "cell_type": "code",
      "source": [
        ""
      ],
      "metadata": {
        "id": "JxOyVCx2IGVv"
      },
      "execution_count": 78,
      "outputs": []
    },
    {
      "cell_type": "code",
      "source": [
        ""
      ],
      "metadata": {
        "id": "74xipgybGdDY"
      },
      "execution_count": 78,
      "outputs": []
    },
    {
      "cell_type": "code",
      "source": [
        ""
      ],
      "metadata": {
        "id": "Fbj0Rg1rGIsH"
      },
      "execution_count": 78,
      "outputs": []
    },
    {
      "cell_type": "code",
      "source": [
        ""
      ],
      "metadata": {
        "id": "jMduSRDw0dtb"
      },
      "execution_count": 78,
      "outputs": []
    },
    {
      "cell_type": "code",
      "source": [
        ""
      ],
      "metadata": {
        "id": "BumQciU40cqo"
      },
      "execution_count": 78,
      "outputs": []
    },
    {
      "cell_type": "code",
      "source": [
        ""
      ],
      "metadata": {
        "id": "CaXPzIVry67Y"
      },
      "execution_count": 78,
      "outputs": []
    },
    {
      "cell_type": "code",
      "source": [
        ""
      ],
      "metadata": {
        "id": "Uo7a-zMMyswv"
      },
      "execution_count": 78,
      "outputs": []
    },
    {
      "cell_type": "code",
      "source": [
        ""
      ],
      "metadata": {
        "id": "6pjaQV1xynqe"
      },
      "execution_count": 78,
      "outputs": []
    },
    {
      "cell_type": "code",
      "source": [
        ""
      ],
      "metadata": {
        "id": "PCEeFIzrxO38"
      },
      "execution_count": 78,
      "outputs": []
    },
    {
      "cell_type": "code",
      "source": [
        "\n",
        "\n",
        "\n",
        "\n",
        "plot_function\n",
        "\n",
        "\n"
      ],
      "metadata": {
        "id": "H0i8aTo-uuJ3",
        "colab": {
          "base_uri": "https://localhost:8080/"
        },
        "outputId": "458668ec-d58b-4b2c-fc60-2b5a41141c4b"
      },
      "execution_count": 79,
      "outputs": [
        {
          "output_type": "execute_result",
          "data": {
            "text/plain": [
              "<function fastbook.plot_function>"
            ]
          },
          "metadata": {},
          "execution_count": 79
        }
      ]
    }
  ],
  "metadata": {
    "colab": {
      "name": "MNISTLOSS.ipynb",
      "provenance": [],
      "collapsed_sections": [],
      "authorship_tag": "ABX9TyOeHZQdWvVXz16UDbb67mdU",
      "include_colab_link": true
    },
    "kernelspec": {
      "display_name": "Python 3",
      "name": "python3"
    },
    "language_info": {
      "name": "python"
    }
  },
  "nbformat": 4,
  "nbformat_minor": 0
}