{
  "cells": [
    {
      "cell_type": "markdown",
      "metadata": {
        "id": "view-in-github",
        "colab_type": "text"
      },
      "source": [
        "<a href=\"https://colab.research.google.com/github/Reptilefury/coursera-machine-learning/blob/main/MNISTLOSS.ipynb\" target=\"_parent\"><img src=\"https://colab.research.google.com/assets/colab-badge.svg\" alt=\"Open In Colab\"/></a>"
      ]
    },
    {
      "cell_type": "code",
      "execution_count": 1,
      "metadata": {
        "id": "MSWZDSApxURs",
        "colab": {
          "base_uri": "https://localhost:8080/"
        },
        "outputId": "e3f8c7da-47a5-4fee-9b6c-880df5c55a0a"
      },
      "outputs": [
        {
          "output_type": "stream",
          "name": "stdout",
          "text": [
            "\u001b[K     |████████████████████████████████| 720 kB 5.3 MB/s \n",
            "\u001b[K     |████████████████████████████████| 48 kB 4.9 MB/s \n",
            "\u001b[K     |████████████████████████████████| 189 kB 44.0 MB/s \n",
            "\u001b[K     |████████████████████████████████| 1.2 MB 44.2 MB/s \n",
            "\u001b[K     |████████████████████████████████| 56 kB 4.8 MB/s \n",
            "\u001b[K     |████████████████████████████████| 51 kB 210 kB/s \n",
            "\u001b[K     |████████████████████████████████| 558 kB 35.0 MB/s \n",
            "\u001b[K     |████████████████████████████████| 130 kB 49.2 MB/s \n",
            "\u001b[?25h"
          ]
        }
      ],
      "source": [
        "!pip install -Uqq fastbook"
      ]
    },
    {
      "cell_type": "code",
      "execution_count": 2,
      "metadata": {
        "id": "ICEKDz0Mwu-0"
      },
      "outputs": [],
      "source": [
        "import fastbook\n"
      ]
    },
    {
      "cell_type": "code",
      "source": [
        "fastbook.setup_book()"
      ],
      "metadata": {
        "colab": {
          "base_uri": "https://localhost:8080/"
        },
        "id": "QpZtubkpeqFw",
        "outputId": "1f1864be-685c-4749-a91a-e2176c97c621"
      },
      "execution_count": 3,
      "outputs": [
        {
          "output_type": "stream",
          "name": "stdout",
          "text": [
            "Mounted at /content/gdrive\n"
          ]
        }
      ]
    },
    {
      "cell_type": "code",
      "source": [
        "from fastbook import *"
      ],
      "metadata": {
        "id": "Rn011dfye48Q"
      },
      "execution_count": 4,
      "outputs": []
    },
    {
      "cell_type": "code",
      "source": [
        "from fastai.vision.all import *"
      ],
      "metadata": {
        "id": "uUDMuJxXfDdM"
      },
      "execution_count": 5,
      "outputs": []
    },
    {
      "cell_type": "code",
      "source": [
        "import pandas as pd"
      ],
      "metadata": {
        "id": "-SPkEcYFfJWd"
      },
      "execution_count": 6,
      "outputs": []
    },
    {
      "cell_type": "code",
      "source": [
        "import matplotlib.pyplot as plt"
      ],
      "metadata": {
        "id": "F9qXl0jSfK-J"
      },
      "execution_count": 7,
      "outputs": []
    },
    {
      "cell_type": "code",
      "source": [
        "path = untar_data(URLs.MNIST_SAMPLE)"
      ],
      "metadata": {
        "colab": {
          "base_uri": "https://localhost:8080/",
          "height": 37
        },
        "id": "mqvW74jhfOck",
        "outputId": "89ae5440-908a-4b1f-dd06-2c46907274a1"
      },
      "execution_count": 8,
      "outputs": [
        {
          "output_type": "display_data",
          "data": {
            "text/html": [
              "\n",
              "<style>\n",
              "    /* Turns off some styling */\n",
              "    progress {\n",
              "        /* gets rid of default border in Firefox and Opera. */\n",
              "        border: none;\n",
              "        /* Needs to be in here for Safari polyfill so background images work as expected. */\n",
              "        background-size: auto;\n",
              "    }\n",
              "    .progress-bar-interrupted, .progress-bar-interrupted::-webkit-progress-bar {\n",
              "        background: #F44336;\n",
              "    }\n",
              "</style>\n"
            ],
            "text/plain": [
              "<IPython.core.display.HTML object>"
            ]
          },
          "metadata": {}
        },
        {
          "output_type": "display_data",
          "data": {
            "text/html": [
              "\n",
              "    <div>\n",
              "      <progress value='3219456' class='' max='3214948' style='width:300px; height:20px; vertical-align: middle;'></progress>\n",
              "      100.14% [3219456/3214948 00:00<00:00]\n",
              "    </div>\n",
              "    "
            ],
            "text/plain": [
              "<IPython.core.display.HTML object>"
            ]
          },
          "metadata": {}
        }
      ]
    },
    {
      "cell_type": "code",
      "source": [
        "threes = (path/'train'/'3').ls()"
      ],
      "metadata": {
        "id": "qBy_7n08fS30"
      },
      "execution_count": 9,
      "outputs": []
    },
    {
      "cell_type": "code",
      "source": [
        "sevens = (path/'train'/'7').ls()"
      ],
      "metadata": {
        "id": "pMmBTDRufY0l"
      },
      "execution_count": 10,
      "outputs": []
    },
    {
      "cell_type": "code",
      "source": [
        "Image_threes = Image.open(threes[0])"
      ],
      "metadata": {
        "id": "qWtmFBQefb_8"
      },
      "execution_count": 11,
      "outputs": []
    },
    {
      "cell_type": "code",
      "source": [
        "Image_threes"
      ],
      "metadata": {
        "colab": {
          "base_uri": "https://localhost:8080/",
          "height": 45
        },
        "id": "ERbkpiSRgAtO",
        "outputId": "09adc825-614e-42b6-f03c-bc4bf6788e2f"
      },
      "execution_count": 12,
      "outputs": [
        {
          "output_type": "execute_result",
          "data": {
            "image/png": "[encoded data removed]",
            "text/plain": [
              "<PIL.PngImagePlugin.PngImageFile image mode=L size=28x28 at 0x7FEA670215D0>"
            ]
          },
          "metadata": {},
          "execution_count": 12
        }
      ]
    },
    {
      "cell_type": "code",
      "source": [
        "Image_sevens = Image.open(sevens[0])"
      ],
      "metadata": {
        "id": "z0-d0eRigEVp"
      },
      "execution_count": 13,
      "outputs": []
    },
    {
      "cell_type": "code",
      "source": [
        "Image_sevens"
      ],
      "metadata": {
        "colab": {
          "base_uri": "https://localhost:8080/",
          "height": 45
        },
        "id": "NSeGO-3YgKjc",
        "outputId": "819fe9f0-2f3b-4c38-b394-3691305f7f05"
      },
      "execution_count": 14,
      "outputs": [
        {
          "output_type": "execute_result",
          "data": {
            "image/png": "[encoded data removed]",
            "text/plain": [
              "<PIL.PngImagePlugin.PngImageFile image mode=L size=28x28 at 0x7FEA67B31250>"
            ]
          },
          "metadata": {},
          "execution_count": 14
        }
      ]
    },
    {
      "cell_type": "code",
      "source": [
        "threes_tensors = [tensor(Image.open(o))for o in(threes)]\n",
        "\n",
        "\n"
      ],
      "metadata": {
        "id": "iHJJod8lgMke"
      },
      "execution_count": 15,
      "outputs": []
    },
    {
      "cell_type": "code",
      "source": [
        "im3_t = threes_tensors[0]"
      ],
      "metadata": {
        "id": "LhX9MdMVhNLd"
      },
      "execution_count": 16,
      "outputs": []
    },
    {
      "cell_type": "code",
      "source": [
        "im3_t"
      ],
      "metadata": {
        "id": "RAxr5nbihrPf",
        "colab": {
          "base_uri": "https://localhost:8080/"
        },
        "outputId": "6b3df9ae-4cdc-4a7d-d0ae-7c9952c6a6b8"
      },
      "execution_count": 17,
      "outputs": [
        {
          "output_type": "execute_result",
          "data": {
            "text/plain": [
              "tensor([[  0,   0,   0,   0,   0,   0,   0,   0,   0,   0,   0,   0,   0,   0,   0,   0,   0,   0,   0,   0,   0,   0,   0,   0,   0,   0,   0,   0],\n",
              "        [  0,   0,   0,   0,   0,   0,   0,   0,   0,   0,   0,   0,   0,   0,   0,   0,   0,   0,   0,   0,   0,   0,   0,   0,   0,   0,   0,   0],\n",
              "        [  0,   0,   0,   0,   0,   0,   0,   0,   0,   0,   0,   0,   0,   0,   0,   0,   0,   0,   0,   0,   0,   0,   0,   0,   0,   0,   0,   0],\n",
              "        [  0,   0,   0,   0,   0,   0,   0,   0,   0,   0,   0,   0,   0,   0,   0,   0,   0,   0,   0,   0,   0,   0,   0,   0,   0,   0,   0,   0],\n",
              "        [  0,   0,   0,   0,   0,   0,   0,   0,   0,   0,   0,   0,   0,   0,   0,   0,   0,   0,   0,   0,   0,   0,   0,   0,   0,   0,   0,   0],\n",
              "        [  0,   0,   0,   0,   0,   0,   0,   0,   0,   0,   2,  34, 116, 143, 255, 253, 210, 133,  12,   0,   0,   0,   0,   0,   0,   0,   0,   0],\n",
              "        [  0,   0,   0,   0,   0,   0,   0,   0,  15,  67, 170, 252, 252, 252, 253, 252, 252, 252, 164,   0,   0,   0,   0,   0,   0,   0,   0,   0],\n",
              "        [  0,   0,   0,   0,   0,   0,   0, 106, 219, 252, 252, 252, 222, 153, 154,  77, 173, 252, 197,   0,   0,   0,   0,   0,   0,   0,   0,   0],\n",
              "        [  0,   0,   0,   0,   0,   0, 110, 246, 206, 121, 121,  53,   7,   0,   0,   6, 160, 252, 221,  24,   0,   0,   0,   0,   0,   0,   0,   0],\n",
              "        [  0,   0,   0,   0,   0,   0, 188, 132,   0,   0,   0,   0,   0,   0,   0, 138, 252, 247, 154,   0,   0,   0,   0,   0,   0,   0,   0,   0],\n",
              "        [  0,   0,   0,   0,   0,   0,  24,   0,   0,   0,   0,   0,   0,   0, 104, 236, 252, 192,   0,   0,   0,   0,   0,   0,   0,   0,   0,   0],\n",
              "        [  0,   0,   0,   0,   0,   0,   0,   0,   0,   0,   0,   0,  42, 169, 253, 252, 252,  78,  12,   3,   0,   0,   0,   0,   0,   0,   0,   0],\n",
              "        [  0,   0,   0,   0,   0,   0,   0,   0,   0,   0,   0,  95, 227, 252, 253, 252, 252, 252, 252, 175,  33,   0,   0,   0,   0,   0,   0,   0],\n",
              "        [  0,   0,   0,   0,   0,   0,   0,   0,   0,   0,  91, 227, 252, 252, 253, 252, 252, 252, 252, 252, 165,   0,   0,   0,   0,   0,   0,   0],\n",
              "        [  0,   0,   0,   0,   0,   0,   0,   0,   0,   0,  74, 252, 219, 142,  33,  33,  33,  42, 166, 252, 251, 182,   0,   0,   0,   0,   0,   0],\n",
              "        [  0,   0,   0,   0,   0,   0,   0,   0,   0,   0,   0,  49,   0,   0,   0,   0,   0,   0,   0, 126, 251, 209,   0,   0,   0,   0,   0,   0],\n",
              "        [  0,   0,   0,   0,   0,   0,   0,   0,   0,   0,   0,   0,   0,   0,   0,   0,   0,   0,   0,  24, 237, 208,   0,   0,   0,   0,   0,   0],\n",
              "        [  0,   0,   0,   0,   0,   0,   0,   0,   0,   0,   0,   0,   0,   0,   0,   0,   0,   0,   0, 179, 252, 208,   0,   0,   0,   0,   0,   0],\n",
              "        [  0,   0,   0,   0,   0,   0,   0,   0,   0,   0,   0,   0,   0,   0,   0,   0,   0,   0,  29, 227, 252, 150,   0,   0,   0,   0,   0,   0],\n",
              "        [  0,   0,   0,   0,   0,   0,   0,   0,   0,   0,   0,   0,   0,   0,   0,   0,   0,   5, 146, 252, 250,  77,   0,   0,   0,   0,   0,   0],\n",
              "        [  0,   0,   0,   0,   0,   0,  35,  89,  70,   0,   0,   0,   0,   0,   0,   0,   0,  23, 252, 252, 154,   0,   0,   0,   0,   0,   0,   0],\n",
              "        [  0,   0,   0,   0,   0,   0, 200, 251, 140,   0,   0,   0,   0,   0,   0,   0,  53, 181, 252, 205,  21,   0,   0,   0,   0,   0,   0,   0],\n",
              "        [  0,   0,   0,   0,   0,  29, 228, 234,  35,   0,   0,   0,  33,  45,  59, 154, 236, 252, 243,  45,   0,   0,   0,   0,   0,   0,   0,   0],\n",
              "        [  0,   0,   0,   0,   0,   0, 145, 249, 238, 187, 187, 187, 236, 252, 253, 252, 222, 165,  51,   0,   0,   0,   0,   0,   0,   0,   0,   0],\n",
              "        [  0,   0,   0,   0,   0,   0,   0, 136, 166, 252, 252, 252, 252, 252, 128,  33,  20,   0,   0,   0,   0,   0,   0,   0,   0,   0,   0,   0],\n",
              "        [  0,   0,   0,   0,   0,   0,   0,   0,   0,   0,   0,   0,   0,   0,   0,   0,   0,   0,   0,   0,   0,   0,   0,   0,   0,   0,   0,   0],\n",
              "        [  0,   0,   0,   0,   0,   0,   0,   0,   0,   0,   0,   0,   0,   0,   0,   0,   0,   0,   0,   0,   0,   0,   0,   0,   0,   0,   0,   0],\n",
              "        [  0,   0,   0,   0,   0,   0,   0,   0,   0,   0,   0,   0,   0,   0,   0,   0,   0,   0,   0,   0,   0,   0,   0,   0,   0,   0,   0,   0]], dtype=torch.uint8)"
            ]
          },
          "metadata": {},
          "execution_count": 17
        }
      ]
    },
    {
      "cell_type": "code",
      "source": [
        "df = pd.DataFrame(im3_t[4:10, 4:22])"
      ],
      "metadata": {
        "id": "Ud78qOJnht7P"
      },
      "execution_count": 18,
      "outputs": []
    },
    {
      "cell_type": "code",
      "source": [
        "sevens_tensors = [tensor(Image.open(o)) for o in sevens]"
      ],
      "metadata": {
        "id": "Q3H0yEAhh3Ot"
      },
      "execution_count": 19,
      "outputs": []
    },
    {
      "cell_type": "code",
      "source": [
        "im7_t = sevens_tensors[0]"
      ],
      "metadata": {
        "id": "ebQy5OHTiGq-"
      },
      "execution_count": 20,
      "outputs": []
    },
    {
      "cell_type": "code",
      "source": [
        "im7_t"
      ],
      "metadata": {
        "id": "ESKGp0UdiLH6",
        "colab": {
          "base_uri": "https://localhost:8080/"
        },
        "outputId": "95840a5e-8d65-49a4-8fd7-de0168083e78"
      },
      "execution_count": 21,
      "outputs": [
        {
          "output_type": "execute_result",
          "data": {
            "text/plain": [
              "tensor([[  0,   0,   0,   0,   0,   0,   0,   0,   0,   0,   0,   0,   0,   0,   0,   0,   0,   0,   0,   0,   0,   0,   0,   0,   0,   0,   0,   0],\n",
              "        [  0,   0,   0,   0,   0,   0,   0,   0,   0,   0,   0,   0,   0,   0,   0,   0,   0,   0,   0,   0,   0,   0,   0,   0,   0,   0,   0,   0],\n",
              "        [  0,   0,   0,   0,   0,   0,   0,   0,   0,   0,   0,   0,   0,   0,   0,   0,   0,   0,   0,   0,   0,   0,   0,   0,   0,   0,   0,   0],\n",
              "        [  0,   0,   0,   0,   0,   0,   0,   0,   0,   0,   0,   0,   0,   0,   0,   0,   0,   0,   0,   0,   0,   0,   0,   0,   0,   0,   0,   0],\n",
              "        [  0,   0,   0,   0,   0,   0,   0,   0,   0,   0,   0,   0,   0,   0,   0,   0,   0,   0,   0,   0,   0,   0,   0,   0,   0,   0,   0,   0],\n",
              "        [  0,   0,   0,   0,   0,   0,   0,   0,   0,   0,   0,   0,   0,   0,   0,   0,   0,   0,   0,   0,   0,   0,   0,   0,   0,   0,   0,   0],\n",
              "        [  0,   0,   0,   0,   0,   0,   0,   0,   0,   0,   0,   0,   0,   0,   0,   0,   0,   0,   0,   0,   0,   0,   0,   0,   0,   0,   0,   0],\n",
              "        [  0,   0,   0,   0,   0,   0,   0,   0,   0,   0,   0,   0,   0,   0,   0,   0,   0,   0,   0,   0,   0,   0,   0,   0,   0,   0,   0,   0],\n",
              "        [  0,   0,   0,   0,   0,   0,   0,   0,   0,   0,  38, 113, 113, 113, 114, 238, 253, 253, 253, 255, 206,  88,   0,   0,   0,   0,   0,   0],\n",
              "        [  0,   0,   0,   0,   0,   0,   0,  57,  85, 147, 234, 252, 252, 252, 253, 252, 252, 252, 252, 253, 252, 246,  75,   0,   0,   0,   0,   0],\n",
              "        [  0,   0,   0,   0,   0,  67, 197, 234, 252, 253, 252, 252, 252, 252, 196, 195, 195, 195, 195, 253, 252, 252,  84,   0,   0,   0,   0,   0],\n",
              "        [  0,   0,   0,   0,   0,  85, 252, 252, 252, 225, 223, 114,  84,  84,   0,   0,   0,   0,  16, 253, 252, 214,  28,   0,   0,   0,   0,   0],\n",
              "        [  0,   0,   0,   0,   0,  38, 221, 157, 112,   0,   0,   0,   0,   0,   0,   0,   0,  16, 203, 253, 252, 118,   0,   0,   0,   0,   0,   0],\n",
              "        [  0,   0,   0,   0,   0,   0,   0,   0,   0,   0,   0,   0,   0,   0,   0,   0,  26, 207, 253, 255, 168,   0,   0,   0,   0,   0,   0,   0],\n",
              "        [  0,   0,   0,   0,   0,   0,   0,   0,   0,   0,   0,   0,   0,   0,   0,   0, 104, 252, 252, 215,  33,   0,   0,   0,   0,   0,   0,   0],\n",
              "        [  0,   0,   0,   0,   0,   0,   0,   0,   0,   0,   0,   0,   0,   0,   0,  67, 240, 252, 220,  31,   0,   0,   0,   0,   0,   0,   0,   0],\n",
              "        [  0,   0,   0,   0,   0,   0,   0,   0,   0,   0,   0,   0,   0,   0,  29, 181, 252, 217,  37,   0,   0,   0,   0,   0,   0,   0,   0,   0],\n",
              "        [  0,   0,   0,   0,   0,   0,   0,   0,   0,   0,   0,   0,   0,   0, 253, 252, 252,  84,   0,   0,   0,   0,   0,   0,   0,   0,   0,   0],\n",
              "        [  0,   0,   0,   0,   0,   0,   0,   0,   0,   0,   0,   0,  76, 191, 255, 215, 110,   0,   0,   0,   0,   0,   0,   0,   0,   0,   0,   0],\n",
              "        [  0,   0,   0,   0,   0,   0,   0,   0,   0,   0,   0,  19, 196, 252, 253, 121,   0,   0,   0,   0,   0,   0,   0,   0,   0,   0,   0,   0],\n",
              "        [  0,   0,   0,   0,   0,   0,   0,   0,   0,   0,  67, 209, 252, 252,  56,   6,   0,   0,   0,   0,   0,   0,   0,   0,   0,   0,   0,   0],\n",
              "        [  0,   0,   0,   0,   0,   0,   0,   0,   0,  29, 181, 252, 217,  84,   0,   0,   0,   0,   0,   0,   0,   0,   0,   0,   0,   0,   0,   0],\n",
              "        [  0,   0,   0,   0,   0,   0,   0,   0,   0, 253, 252, 252,  84,   0,   0,   0,   0,   0,   0,   0,   0,   0,   0,   0,   0,   0,   0,   0],\n",
              "        [  0,   0,   0,   0,   0,   0,   0,  13, 191, 255, 215,  31,   0,   0,   0,   0,   0,   0,   0,   0,   0,   0,   0,   0,   0,   0,   0,   0],\n",
              "        [  0,   0,   0,   0,   0,   0,   0, 154, 252, 253, 121,   0,   0,   0,   0,   0,   0,   0,   0,   0,   0,   0,   0,   0,   0,   0,   0,   0],\n",
              "        [  0,   0,   0,   0,   0,   0,  13, 187, 252, 133,   6,   0,   0,   0,   0,   0,   0,   0,   0,   0,   0,   0,   0,   0,   0,   0,   0,   0],\n",
              "        [  0,   0,   0,   0,   0,   0,  57, 252, 252,   0,   0,   0,   0,   0,   0,   0,   0,   0,   0,   0,   0,   0,   0,   0,   0,   0,   0,   0],\n",
              "        [  0,   0,   0,   0,   0,   0,  57, 252, 252,   0,   0,   0,   0,   0,   0,   0,   0,   0,   0,   0,   0,   0,   0,   0,   0,   0,   0,   0]], dtype=torch.uint8)"
            ]
          },
          "metadata": {},
          "execution_count": 21
        }
      ]
    },
    {
      "cell_type": "code",
      "source": [
        "df = pd.DataFrame(im7_t[10:20,7:27])"
      ],
      "metadata": {
        "id": "YRnsRXC9iMvg"
      },
      "execution_count": 22,
      "outputs": []
    },
    {
      "cell_type": "code",
      "source": [
        "#We color code our tensor images\n",
        "df.style.set_properties(**{'font - size':'6pt'}).background_gradient('Greys')"
      ],
      "metadata": {
        "colab": {
          "base_uri": "https://localhost:8080/",
          "height": 363
        },
        "id": "bRPIj-rjiTpc",
        "outputId": "61da5206-65a1-4d31-d58e-dbac22a841ef"
      },
      "execution_count": 23,
      "outputs": [
        {
          "output_type": "execute_result",
          "data": {
            "text/html": [
              "<style type=\"text/css\">\n",
              "#T_18d42_row0_col0 {\n",
              "  font - size: 6pt;\n",
              "  background-color: #151515;\n",
              "  color: #f1f1f1;\n",
              "}\n",
              "#T_18d42_row0_col1, #T_18d42_row0_col2, #T_18d42_row0_col3, #T_18d42_row0_col4, #T_18d42_row0_col5, #T_18d42_row0_col6, #T_18d42_row0_col13, #T_18d42_row0_col14, #T_18d42_row0_col15, #T_18d42_row1_col0, #T_18d42_row1_col1, #T_18d42_row1_col13, #T_18d42_row2_col13, #T_18d42_row3_col11, #T_18d42_row3_col12, #T_18d42_row4_col10, #T_18d42_row5_col10, #T_18d42_row6_col9, #T_18d42_row7_col8, #T_18d42_row7_col9, #T_18d42_row8_col7, #T_18d42_row9_col6 {\n",
              "  font - size: 6pt;\n",
              "  background-color: #000000;\n",
              "  color: #f1f1f1;\n",
              "}\n",
              "#T_18d42_row0_col7 {\n",
              "  font - size: 6pt;\n",
              "  background-color: #4b4b4b;\n",
              "  color: #f1f1f1;\n",
              "}\n",
              "#T_18d42_row0_col8, #T_18d42_row0_col9, #T_18d42_row0_col10 {\n",
              "  font - size: 6pt;\n",
              "  background-color: #484848;\n",
              "  color: #f1f1f1;\n",
              "}\n",
              "#T_18d42_row0_col11 {\n",
              "  font - size: 6pt;\n",
              "  background-color: #4a4a4a;\n",
              "  color: #f1f1f1;\n",
              "}\n",
              "#T_18d42_row0_col12, #T_18d42_row1_col12, #T_18d42_row2_col12, #T_18d42_row7_col7, #T_18d42_row9_col7 {\n",
              "  font - size: 6pt;\n",
              "  background-color: #020202;\n",
              "  color: #f1f1f1;\n",
              "}\n",
              "#T_18d42_row0_col16, #T_18d42_row0_col17, #T_18d42_row0_col18, #T_18d42_row0_col19, #T_18d42_row1_col7, #T_18d42_row1_col8, #T_18d42_row1_col9, #T_18d42_row1_col10, #T_18d42_row1_col16, #T_18d42_row1_col17, #T_18d42_row1_col18, #T_18d42_row1_col19, #T_18d42_row2_col2, #T_18d42_row2_col3, #T_18d42_row2_col4, #T_18d42_row2_col5, #T_18d42_row2_col6, #T_18d42_row2_col7, #T_18d42_row2_col8, #T_18d42_row2_col9, #T_18d42_row2_col15, #T_18d42_row2_col16, #T_18d42_row2_col17, #T_18d42_row2_col18, #T_18d42_row2_col19, #T_18d42_row3_col0, #T_18d42_row3_col1, #T_18d42_row3_col2, #T_18d42_row3_col3, #T_18d42_row3_col4, #T_18d42_row3_col5, #T_18d42_row3_col6, #T_18d42_row3_col7, #T_18d42_row3_col8, #T_18d42_row3_col14, #T_18d42_row3_col15, #T_18d42_row3_col16, #T_18d42_row3_col17, #T_18d42_row3_col18, #T_18d42_row3_col19, #T_18d42_row4_col0, #T_18d42_row4_col1, #T_18d42_row4_col2, #T_18d42_row4_col3, #T_18d42_row4_col4, #T_18d42_row4_col5, #T_18d42_row4_col6, #T_18d42_row4_col7, #T_18d42_row4_col8, #T_18d42_row4_col14, #T_18d42_row4_col15, #T_18d42_row4_col16, #T_18d42_row4_col17, #T_18d42_row4_col18, #T_18d42_row4_col19, #T_18d42_row5_col0, #T_18d42_row5_col1, #T_18d42_row5_col2, #T_18d42_row5_col3, #T_18d42_row5_col4, #T_18d42_row5_col5, #T_18d42_row5_col6, #T_18d42_row5_col7, #T_18d42_row5_col13, #T_18d42_row5_col14, #T_18d42_row5_col15, #T_18d42_row5_col16, #T_18d42_row5_col17, #T_18d42_row5_col18, #T_18d42_row5_col19, #T_18d42_row6_col0, #T_18d42_row6_col1, #T_18d42_row6_col2, #T_18d42_row6_col3, #T_18d42_row6_col4, #T_18d42_row6_col5, #T_18d42_row6_col6, #T_18d42_row6_col12, #T_18d42_row6_col13, #T_18d42_row6_col14, #T_18d42_row6_col15, #T_18d42_row6_col16, #T_18d42_row6_col17, #T_18d42_row6_col18, #T_18d42_row6_col19, #T_18d42_row7_col0, #T_18d42_row7_col1, #T_18d42_row7_col2, #T_18d42_row7_col3, #T_18d42_row7_col4, #T_18d42_row7_col5, #T_18d42_row7_col6, #T_18d42_row7_col11, #T_18d42_row7_col12, #T_18d42_row7_col13, #T_18d42_row7_col14, #T_18d42_row7_col15, #T_18d42_row7_col16, #T_18d42_row7_col17, #T_18d42_row7_col18, #T_18d42_row7_col19, #T_18d42_row8_col0, #T_18d42_row8_col1, #T_18d42_row8_col2, #T_18d42_row8_col3, #T_18d42_row8_col4, #T_18d42_row8_col10, #T_18d42_row8_col11, #T_18d42_row8_col12, #T_18d42_row8_col13, #T_18d42_row8_col14, #T_18d42_row8_col15, #T_18d42_row8_col16, #T_18d42_row8_col17, #T_18d42_row8_col18, #T_18d42_row8_col19, #T_18d42_row9_col0, #T_18d42_row9_col1, #T_18d42_row9_col2, #T_18d42_row9_col3, #T_18d42_row9_col9, #T_18d42_row9_col10, #T_18d42_row9_col11, #T_18d42_row9_col12, #T_18d42_row9_col13, #T_18d42_row9_col14, #T_18d42_row9_col15, #T_18d42_row9_col16, #T_18d42_row9_col17, #T_18d42_row9_col18, #T_18d42_row9_col19 {\n",
              "  font - size: 6pt;\n",
              "  background-color: #ffffff;\n",
              "  color: #000000;\n",
              "}\n",
              "#T_18d42_row1_col2 {\n",
              "  font - size: 6pt;\n",
              "  background-color: #212121;\n",
              "  color: #f1f1f1;\n",
              "}\n",
              "#T_18d42_row1_col3 {\n",
              "  font - size: 6pt;\n",
              "  background-color: #222222;\n",
              "  color: #f1f1f1;\n",
              "}\n",
              "#T_18d42_row1_col4 {\n",
              "  font - size: 6pt;\n",
              "  background-color: #a5a5a5;\n",
              "  color: #f1f1f1;\n",
              "}\n",
              "#T_18d42_row1_col5, #T_18d42_row1_col6, #T_18d42_row1_col15, #T_18d42_row7_col10 {\n",
              "  font - size: 6pt;\n",
              "  background-color: #c6c6c6;\n",
              "  color: #000000;\n",
              "}\n",
              "#T_18d42_row1_col11, #T_18d42_row2_col10 {\n",
              "  font - size: 6pt;\n",
              "  background-color: #f7f7f7;\n",
              "  color: #000000;\n",
              "}\n",
              "#T_18d42_row1_col14 {\n",
              "  font - size: 6pt;\n",
              "  background-color: #2e2e2e;\n",
              "  color: #f1f1f1;\n",
              "}\n",
              "#T_18d42_row2_col0 {\n",
              "  font - size: 6pt;\n",
              "  background-color: #737373;\n",
              "  color: #f1f1f1;\n",
              "}\n",
              "#T_18d42_row2_col1 {\n",
              "  font - size: 6pt;\n",
              "  background-color: #a8a8a8;\n",
              "  color: #f1f1f1;\n",
              "}\n",
              "#T_18d42_row2_col11 {\n",
              "  font - size: 6pt;\n",
              "  background-color: #3f3f3f;\n",
              "  color: #f1f1f1;\n",
              "}\n",
              "#T_18d42_row2_col14 {\n",
              "  font - size: 6pt;\n",
              "  background-color: #a0a0a0;\n",
              "  color: #f1f1f1;\n",
              "}\n",
              "#T_18d42_row3_col9 {\n",
              "  font - size: 6pt;\n",
              "  background-color: #f3f3f3;\n",
              "  color: #000000;\n",
              "}\n",
              "#T_18d42_row3_col10 {\n",
              "  font - size: 6pt;\n",
              "  background-color: #383838;\n",
              "  color: #f1f1f1;\n",
              "}\n",
              "#T_18d42_row3_col13 {\n",
              "  font - size: 6pt;\n",
              "  background-color: #686868;\n",
              "  color: #f1f1f1;\n",
              "}\n",
              "#T_18d42_row4_col9 {\n",
              "  font - size: 6pt;\n",
              "  background-color: #b2b2b2;\n",
              "  color: #000000;\n",
              "}\n",
              "#T_18d42_row4_col11 {\n",
              "  font - size: 6pt;\n",
              "  background-color: #010101;\n",
              "  color: #f1f1f1;\n",
              "}\n",
              "#T_18d42_row4_col12 {\n",
              "  font - size: 6pt;\n",
              "  background-color: #303030;\n",
              "  color: #f1f1f1;\n",
              "}\n",
              "#T_18d42_row4_col13 {\n",
              "  font - size: 6pt;\n",
              "  background-color: #efefef;\n",
              "  color: #000000;\n",
              "}\n",
              "#T_18d42_row5_col8 {\n",
              "  font - size: 6pt;\n",
              "  background-color: #d5d5d5;\n",
              "  color: #000000;\n",
              "}\n",
              "#T_18d42_row5_col9 {\n",
              "  font - size: 6pt;\n",
              "  background-color: #0e0e0e;\n",
              "  color: #f1f1f1;\n",
              "}\n",
              "#T_18d42_row5_col11 {\n",
              "  font - size: 6pt;\n",
              "  background-color: #272727;\n",
              "  color: #f1f1f1;\n",
              "}\n",
              "#T_18d42_row5_col12 {\n",
              "  font - size: 6pt;\n",
              "  background-color: #f0f0f0;\n",
              "  color: #000000;\n",
              "}\n",
              "#T_18d42_row6_col7 {\n",
              "  font - size: 6pt;\n",
              "  background-color: #f1f1f1;\n",
              "  color: #000000;\n",
              "}\n",
              "#T_18d42_row6_col8 {\n",
              "  font - size: 6pt;\n",
              "  background-color: #5b5b5b;\n",
              "  color: #f1f1f1;\n",
              "}\n",
              "#T_18d42_row6_col10 {\n",
              "  font - size: 6pt;\n",
              "  background-color: #292929;\n",
              "  color: #f1f1f1;\n",
              "}\n",
              "#T_18d42_row6_col11 {\n",
              "  font - size: 6pt;\n",
              "  background-color: #ececec;\n",
              "  color: #000000;\n",
              "}\n",
              "#T_18d42_row8_col5 {\n",
              "  font - size: 6pt;\n",
              "  background-color: #cdcdcd;\n",
              "  color: #000000;\n",
              "}\n",
              "#T_18d42_row8_col6 {\n",
              "  font - size: 6pt;\n",
              "  background-color: #4e4e4e;\n",
              "  color: #f1f1f1;\n",
              "}\n",
              "#T_18d42_row8_col8 {\n",
              "  font - size: 6pt;\n",
              "  background-color: #2c2c2c;\n",
              "  color: #f1f1f1;\n",
              "}\n",
              "#T_18d42_row8_col9 {\n",
              "  font - size: 6pt;\n",
              "  background-color: #aaaaaa;\n",
              "  color: #f1f1f1;\n",
              "}\n",
              "#T_18d42_row9_col4 {\n",
              "  font - size: 6pt;\n",
              "  background-color: #f6f6f6;\n",
              "  color: #000000;\n",
              "}\n",
              "#T_18d42_row9_col5 {\n",
              "  font - size: 6pt;\n",
              "  background-color: #474747;\n",
              "  color: #f1f1f1;\n",
              "}\n",
              "#T_18d42_row9_col8 {\n",
              "  font - size: 6pt;\n",
              "  background-color: #9d9d9d;\n",
              "  color: #f1f1f1;\n",
              "}\n",
              "</style>\n",
              "<table id=\"T_18d42_\" class=\"dataframe\">\n",
              "  <thead>\n",
              "    <tr>\n",
              "      <th class=\"blank level0\" >&nbsp;</th>\n",
              "      <th class=\"col_heading level0 col0\" >0</th>\n",
              "      <th class=\"col_heading level0 col1\" >1</th>\n",
              "      <th class=\"col_heading level0 col2\" >2</th>\n",
              "      <th class=\"col_heading level0 col3\" >3</th>\n",
              "      <th class=\"col_heading level0 col4\" >4</th>\n",
              "      <th class=\"col_heading level0 col5\" >5</th>\n",
              "      <th class=\"col_heading level0 col6\" >6</th>\n",
              "      <th class=\"col_heading level0 col7\" >7</th>\n",
              "      <th class=\"col_heading level0 col8\" >8</th>\n",
              "      <th class=\"col_heading level0 col9\" >9</th>\n",
              "      <th class=\"col_heading level0 col10\" >10</th>\n",
              "      <th class=\"col_heading level0 col11\" >11</th>\n",
              "      <th class=\"col_heading level0 col12\" >12</th>\n",
              "      <th class=\"col_heading level0 col13\" >13</th>\n",
              "      <th class=\"col_heading level0 col14\" >14</th>\n",
              "      <th class=\"col_heading level0 col15\" >15</th>\n",
              "      <th class=\"col_heading level0 col16\" >16</th>\n",
              "      <th class=\"col_heading level0 col17\" >17</th>\n",
              "      <th class=\"col_heading level0 col18\" >18</th>\n",
              "      <th class=\"col_heading level0 col19\" >19</th>\n",
              "    </tr>\n",
              "  </thead>\n",
              "  <tbody>\n",
              "    <tr>\n",
              "      <th id=\"T_18d42_level0_row0\" class=\"row_heading level0 row0\" >0</th>\n",
              "      <td id=\"T_18d42_row0_col0\" class=\"data row0 col0\" >234</td>\n",
              "      <td id=\"T_18d42_row0_col1\" class=\"data row0 col1\" >252</td>\n",
              "      <td id=\"T_18d42_row0_col2\" class=\"data row0 col2\" >253</td>\n",
              "      <td id=\"T_18d42_row0_col3\" class=\"data row0 col3\" >252</td>\n",
              "      <td id=\"T_18d42_row0_col4\" class=\"data row0 col4\" >252</td>\n",
              "      <td id=\"T_18d42_row0_col5\" class=\"data row0 col5\" >252</td>\n",
              "      <td id=\"T_18d42_row0_col6\" class=\"data row0 col6\" >252</td>\n",
              "      <td id=\"T_18d42_row0_col7\" class=\"data row0 col7\" >196</td>\n",
              "      <td id=\"T_18d42_row0_col8\" class=\"data row0 col8\" >195</td>\n",
              "      <td id=\"T_18d42_row0_col9\" class=\"data row0 col9\" >195</td>\n",
              "      <td id=\"T_18d42_row0_col10\" class=\"data row0 col10\" >195</td>\n",
              "      <td id=\"T_18d42_row0_col11\" class=\"data row0 col11\" >195</td>\n",
              "      <td id=\"T_18d42_row0_col12\" class=\"data row0 col12\" >253</td>\n",
              "      <td id=\"T_18d42_row0_col13\" class=\"data row0 col13\" >252</td>\n",
              "      <td id=\"T_18d42_row0_col14\" class=\"data row0 col14\" >252</td>\n",
              "      <td id=\"T_18d42_row0_col15\" class=\"data row0 col15\" >84</td>\n",
              "      <td id=\"T_18d42_row0_col16\" class=\"data row0 col16\" >0</td>\n",
              "      <td id=\"T_18d42_row0_col17\" class=\"data row0 col17\" >0</td>\n",
              "      <td id=\"T_18d42_row0_col18\" class=\"data row0 col18\" >0</td>\n",
              "      <td id=\"T_18d42_row0_col19\" class=\"data row0 col19\" >0</td>\n",
              "    </tr>\n",
              "    <tr>\n",
              "      <th id=\"T_18d42_level0_row1\" class=\"row_heading level0 row1\" >1</th>\n",
              "      <td id=\"T_18d42_row1_col0\" class=\"data row1 col0\" >252</td>\n",
              "      <td id=\"T_18d42_row1_col1\" class=\"data row1 col1\" >252</td>\n",
              "      <td id=\"T_18d42_row1_col2\" class=\"data row1 col2\" >225</td>\n",
              "      <td id=\"T_18d42_row1_col3\" class=\"data row1 col3\" >223</td>\n",
              "      <td id=\"T_18d42_row1_col4\" class=\"data row1 col4\" >114</td>\n",
              "      <td id=\"T_18d42_row1_col5\" class=\"data row1 col5\" >84</td>\n",
              "      <td id=\"T_18d42_row1_col6\" class=\"data row1 col6\" >84</td>\n",
              "      <td id=\"T_18d42_row1_col7\" class=\"data row1 col7\" >0</td>\n",
              "      <td id=\"T_18d42_row1_col8\" class=\"data row1 col8\" >0</td>\n",
              "      <td id=\"T_18d42_row1_col9\" class=\"data row1 col9\" >0</td>\n",
              "      <td id=\"T_18d42_row1_col10\" class=\"data row1 col10\" >0</td>\n",
              "      <td id=\"T_18d42_row1_col11\" class=\"data row1 col11\" >16</td>\n",
              "      <td id=\"T_18d42_row1_col12\" class=\"data row1 col12\" >253</td>\n",
              "      <td id=\"T_18d42_row1_col13\" class=\"data row1 col13\" >252</td>\n",
              "      <td id=\"T_18d42_row1_col14\" class=\"data row1 col14\" >214</td>\n",
              "      <td id=\"T_18d42_row1_col15\" class=\"data row1 col15\" >28</td>\n",
              "      <td id=\"T_18d42_row1_col16\" class=\"data row1 col16\" >0</td>\n",
              "      <td id=\"T_18d42_row1_col17\" class=\"data row1 col17\" >0</td>\n",
              "      <td id=\"T_18d42_row1_col18\" class=\"data row1 col18\" >0</td>\n",
              "      <td id=\"T_18d42_row1_col19\" class=\"data row1 col19\" >0</td>\n",
              "    </tr>\n",
              "    <tr>\n",
              "      <th id=\"T_18d42_level0_row2\" class=\"row_heading level0 row2\" >2</th>\n",
              "      <td id=\"T_18d42_row2_col0\" class=\"data row2 col0\" >157</td>\n",
              "      <td id=\"T_18d42_row2_col1\" class=\"data row2 col1\" >112</td>\n",
              "      <td id=\"T_18d42_row2_col2\" class=\"data row2 col2\" >0</td>\n",
              "      <td id=\"T_18d42_row2_col3\" class=\"data row2 col3\" >0</td>\n",
              "      <td id=\"T_18d42_row2_col4\" class=\"data row2 col4\" >0</td>\n",
              "      <td id=\"T_18d42_row2_col5\" class=\"data row2 col5\" >0</td>\n",
              "      <td id=\"T_18d42_row2_col6\" class=\"data row2 col6\" >0</td>\n",
              "      <td id=\"T_18d42_row2_col7\" class=\"data row2 col7\" >0</td>\n",
              "      <td id=\"T_18d42_row2_col8\" class=\"data row2 col8\" >0</td>\n",
              "      <td id=\"T_18d42_row2_col9\" class=\"data row2 col9\" >0</td>\n",
              "      <td id=\"T_18d42_row2_col10\" class=\"data row2 col10\" >16</td>\n",
              "      <td id=\"T_18d42_row2_col11\" class=\"data row2 col11\" >203</td>\n",
              "      <td id=\"T_18d42_row2_col12\" class=\"data row2 col12\" >253</td>\n",
              "      <td id=\"T_18d42_row2_col13\" class=\"data row2 col13\" >252</td>\n",
              "      <td id=\"T_18d42_row2_col14\" class=\"data row2 col14\" >118</td>\n",
              "      <td id=\"T_18d42_row2_col15\" class=\"data row2 col15\" >0</td>\n",
              "      <td id=\"T_18d42_row2_col16\" class=\"data row2 col16\" >0</td>\n",
              "      <td id=\"T_18d42_row2_col17\" class=\"data row2 col17\" >0</td>\n",
              "      <td id=\"T_18d42_row2_col18\" class=\"data row2 col18\" >0</td>\n",
              "      <td id=\"T_18d42_row2_col19\" class=\"data row2 col19\" >0</td>\n",
              "    </tr>\n",
              "    <tr>\n",
              "      <th id=\"T_18d42_level0_row3\" class=\"row_heading level0 row3\" >3</th>\n",
              "      <td id=\"T_18d42_row3_col0\" class=\"data row3 col0\" >0</td>\n",
              "      <td id=\"T_18d42_row3_col1\" class=\"data row3 col1\" >0</td>\n",
              "      <td id=\"T_18d42_row3_col2\" class=\"data row3 col2\" >0</td>\n",
              "      <td id=\"T_18d42_row3_col3\" class=\"data row3 col3\" >0</td>\n",
              "      <td id=\"T_18d42_row3_col4\" class=\"data row3 col4\" >0</td>\n",
              "      <td id=\"T_18d42_row3_col5\" class=\"data row3 col5\" >0</td>\n",
              "      <td id=\"T_18d42_row3_col6\" class=\"data row3 col6\" >0</td>\n",
              "      <td id=\"T_18d42_row3_col7\" class=\"data row3 col7\" >0</td>\n",
              "      <td id=\"T_18d42_row3_col8\" class=\"data row3 col8\" >0</td>\n",
              "      <td id=\"T_18d42_row3_col9\" class=\"data row3 col9\" >26</td>\n",
              "      <td id=\"T_18d42_row3_col10\" class=\"data row3 col10\" >207</td>\n",
              "      <td id=\"T_18d42_row3_col11\" class=\"data row3 col11\" >253</td>\n",
              "      <td id=\"T_18d42_row3_col12\" class=\"data row3 col12\" >255</td>\n",
              "      <td id=\"T_18d42_row3_col13\" class=\"data row3 col13\" >168</td>\n",
              "      <td id=\"T_18d42_row3_col14\" class=\"data row3 col14\" >0</td>\n",
              "      <td id=\"T_18d42_row3_col15\" class=\"data row3 col15\" >0</td>\n",
              "      <td id=\"T_18d42_row3_col16\" class=\"data row3 col16\" >0</td>\n",
              "      <td id=\"T_18d42_row3_col17\" class=\"data row3 col17\" >0</td>\n",
              "      <td id=\"T_18d42_row3_col18\" class=\"data row3 col18\" >0</td>\n",
              "      <td id=\"T_18d42_row3_col19\" class=\"data row3 col19\" >0</td>\n",
              "    </tr>\n",
              "    <tr>\n",
              "      <th id=\"T_18d42_level0_row4\" class=\"row_heading level0 row4\" >4</th>\n",
              "      <td id=\"T_18d42_row4_col0\" class=\"data row4 col0\" >0</td>\n",
              "      <td id=\"T_18d42_row4_col1\" class=\"data row4 col1\" >0</td>\n",
              "      <td id=\"T_18d42_row4_col2\" class=\"data row4 col2\" >0</td>\n",
              "      <td id=\"T_18d42_row4_col3\" class=\"data row4 col3\" >0</td>\n",
              "      <td id=\"T_18d42_row4_col4\" class=\"data row4 col4\" >0</td>\n",
              "      <td id=\"T_18d42_row4_col5\" class=\"data row4 col5\" >0</td>\n",
              "      <td id=\"T_18d42_row4_col6\" class=\"data row4 col6\" >0</td>\n",
              "      <td id=\"T_18d42_row4_col7\" class=\"data row4 col7\" >0</td>\n",
              "      <td id=\"T_18d42_row4_col8\" class=\"data row4 col8\" >0</td>\n",
              "      <td id=\"T_18d42_row4_col9\" class=\"data row4 col9\" >104</td>\n",
              "      <td id=\"T_18d42_row4_col10\" class=\"data row4 col10\" >252</td>\n",
              "      <td id=\"T_18d42_row4_col11\" class=\"data row4 col11\" >252</td>\n",
              "      <td id=\"T_18d42_row4_col12\" class=\"data row4 col12\" >215</td>\n",
              "      <td id=\"T_18d42_row4_col13\" class=\"data row4 col13\" >33</td>\n",
              "      <td id=\"T_18d42_row4_col14\" class=\"data row4 col14\" >0</td>\n",
              "      <td id=\"T_18d42_row4_col15\" class=\"data row4 col15\" >0</td>\n",
              "      <td id=\"T_18d42_row4_col16\" class=\"data row4 col16\" >0</td>\n",
              "      <td id=\"T_18d42_row4_col17\" class=\"data row4 col17\" >0</td>\n",
              "      <td id=\"T_18d42_row4_col18\" class=\"data row4 col18\" >0</td>\n",
              "      <td id=\"T_18d42_row4_col19\" class=\"data row4 col19\" >0</td>\n",
              "    </tr>\n",
              "    <tr>\n",
              "      <th id=\"T_18d42_level0_row5\" class=\"row_heading level0 row5\" >5</th>\n",
              "      <td id=\"T_18d42_row5_col0\" class=\"data row5 col0\" >0</td>\n",
              "      <td id=\"T_18d42_row5_col1\" class=\"data row5 col1\" >0</td>\n",
              "      <td id=\"T_18d42_row5_col2\" class=\"data row5 col2\" >0</td>\n",
              "      <td id=\"T_18d42_row5_col3\" class=\"data row5 col3\" >0</td>\n",
              "      <td id=\"T_18d42_row5_col4\" class=\"data row5 col4\" >0</td>\n",
              "      <td id=\"T_18d42_row5_col5\" class=\"data row5 col5\" >0</td>\n",
              "      <td id=\"T_18d42_row5_col6\" class=\"data row5 col6\" >0</td>\n",
              "      <td id=\"T_18d42_row5_col7\" class=\"data row5 col7\" >0</td>\n",
              "      <td id=\"T_18d42_row5_col8\" class=\"data row5 col8\" >67</td>\n",
              "      <td id=\"T_18d42_row5_col9\" class=\"data row5 col9\" >240</td>\n",
              "      <td id=\"T_18d42_row5_col10\" class=\"data row5 col10\" >252</td>\n",
              "      <td id=\"T_18d42_row5_col11\" class=\"data row5 col11\" >220</td>\n",
              "      <td id=\"T_18d42_row5_col12\" class=\"data row5 col12\" >31</td>\n",
              "      <td id=\"T_18d42_row5_col13\" class=\"data row5 col13\" >0</td>\n",
              "      <td id=\"T_18d42_row5_col14\" class=\"data row5 col14\" >0</td>\n",
              "      <td id=\"T_18d42_row5_col15\" class=\"data row5 col15\" >0</td>\n",
              "      <td id=\"T_18d42_row5_col16\" class=\"data row5 col16\" >0</td>\n",
              "      <td id=\"T_18d42_row5_col17\" class=\"data row5 col17\" >0</td>\n",
              "      <td id=\"T_18d42_row5_col18\" class=\"data row5 col18\" >0</td>\n",
              "      <td id=\"T_18d42_row5_col19\" class=\"data row5 col19\" >0</td>\n",
              "    </tr>\n",
              "    <tr>\n",
              "      <th id=\"T_18d42_level0_row6\" class=\"row_heading level0 row6\" >6</th>\n",
              "      <td id=\"T_18d42_row6_col0\" class=\"data row6 col0\" >0</td>\n",
              "      <td id=\"T_18d42_row6_col1\" class=\"data row6 col1\" >0</td>\n",
              "      <td id=\"T_18d42_row6_col2\" class=\"data row6 col2\" >0</td>\n",
              "      <td id=\"T_18d42_row6_col3\" class=\"data row6 col3\" >0</td>\n",
              "      <td id=\"T_18d42_row6_col4\" class=\"data row6 col4\" >0</td>\n",
              "      <td id=\"T_18d42_row6_col5\" class=\"data row6 col5\" >0</td>\n",
              "      <td id=\"T_18d42_row6_col6\" class=\"data row6 col6\" >0</td>\n",
              "      <td id=\"T_18d42_row6_col7\" class=\"data row6 col7\" >29</td>\n",
              "      <td id=\"T_18d42_row6_col8\" class=\"data row6 col8\" >181</td>\n",
              "      <td id=\"T_18d42_row6_col9\" class=\"data row6 col9\" >252</td>\n",
              "      <td id=\"T_18d42_row6_col10\" class=\"data row6 col10\" >217</td>\n",
              "      <td id=\"T_18d42_row6_col11\" class=\"data row6 col11\" >37</td>\n",
              "      <td id=\"T_18d42_row6_col12\" class=\"data row6 col12\" >0</td>\n",
              "      <td id=\"T_18d42_row6_col13\" class=\"data row6 col13\" >0</td>\n",
              "      <td id=\"T_18d42_row6_col14\" class=\"data row6 col14\" >0</td>\n",
              "      <td id=\"T_18d42_row6_col15\" class=\"data row6 col15\" >0</td>\n",
              "      <td id=\"T_18d42_row6_col16\" class=\"data row6 col16\" >0</td>\n",
              "      <td id=\"T_18d42_row6_col17\" class=\"data row6 col17\" >0</td>\n",
              "      <td id=\"T_18d42_row6_col18\" class=\"data row6 col18\" >0</td>\n",
              "      <td id=\"T_18d42_row6_col19\" class=\"data row6 col19\" >0</td>\n",
              "    </tr>\n",
              "    <tr>\n",
              "      <th id=\"T_18d42_level0_row7\" class=\"row_heading level0 row7\" >7</th>\n",
              "      <td id=\"T_18d42_row7_col0\" class=\"data row7 col0\" >0</td>\n",
              "      <td id=\"T_18d42_row7_col1\" class=\"data row7 col1\" >0</td>\n",
              "      <td id=\"T_18d42_row7_col2\" class=\"data row7 col2\" >0</td>\n",
              "      <td id=\"T_18d42_row7_col3\" class=\"data row7 col3\" >0</td>\n",
              "      <td id=\"T_18d42_row7_col4\" class=\"data row7 col4\" >0</td>\n",
              "      <td id=\"T_18d42_row7_col5\" class=\"data row7 col5\" >0</td>\n",
              "      <td id=\"T_18d42_row7_col6\" class=\"data row7 col6\" >0</td>\n",
              "      <td id=\"T_18d42_row7_col7\" class=\"data row7 col7\" >253</td>\n",
              "      <td id=\"T_18d42_row7_col8\" class=\"data row7 col8\" >252</td>\n",
              "      <td id=\"T_18d42_row7_col9\" class=\"data row7 col9\" >252</td>\n",
              "      <td id=\"T_18d42_row7_col10\" class=\"data row7 col10\" >84</td>\n",
              "      <td id=\"T_18d42_row7_col11\" class=\"data row7 col11\" >0</td>\n",
              "      <td id=\"T_18d42_row7_col12\" class=\"data row7 col12\" >0</td>\n",
              "      <td id=\"T_18d42_row7_col13\" class=\"data row7 col13\" >0</td>\n",
              "      <td id=\"T_18d42_row7_col14\" class=\"data row7 col14\" >0</td>\n",
              "      <td id=\"T_18d42_row7_col15\" class=\"data row7 col15\" >0</td>\n",
              "      <td id=\"T_18d42_row7_col16\" class=\"data row7 col16\" >0</td>\n",
              "      <td id=\"T_18d42_row7_col17\" class=\"data row7 col17\" >0</td>\n",
              "      <td id=\"T_18d42_row7_col18\" class=\"data row7 col18\" >0</td>\n",
              "      <td id=\"T_18d42_row7_col19\" class=\"data row7 col19\" >0</td>\n",
              "    </tr>\n",
              "    <tr>\n",
              "      <th id=\"T_18d42_level0_row8\" class=\"row_heading level0 row8\" >8</th>\n",
              "      <td id=\"T_18d42_row8_col0\" class=\"data row8 col0\" >0</td>\n",
              "      <td id=\"T_18d42_row8_col1\" class=\"data row8 col1\" >0</td>\n",
              "      <td id=\"T_18d42_row8_col2\" class=\"data row8 col2\" >0</td>\n",
              "      <td id=\"T_18d42_row8_col3\" class=\"data row8 col3\" >0</td>\n",
              "      <td id=\"T_18d42_row8_col4\" class=\"data row8 col4\" >0</td>\n",
              "      <td id=\"T_18d42_row8_col5\" class=\"data row8 col5\" >76</td>\n",
              "      <td id=\"T_18d42_row8_col6\" class=\"data row8 col6\" >191</td>\n",
              "      <td id=\"T_18d42_row8_col7\" class=\"data row8 col7\" >255</td>\n",
              "      <td id=\"T_18d42_row8_col8\" class=\"data row8 col8\" >215</td>\n",
              "      <td id=\"T_18d42_row8_col9\" class=\"data row8 col9\" >110</td>\n",
              "      <td id=\"T_18d42_row8_col10\" class=\"data row8 col10\" >0</td>\n",
              "      <td id=\"T_18d42_row8_col11\" class=\"data row8 col11\" >0</td>\n",
              "      <td id=\"T_18d42_row8_col12\" class=\"data row8 col12\" >0</td>\n",
              "      <td id=\"T_18d42_row8_col13\" class=\"data row8 col13\" >0</td>\n",
              "      <td id=\"T_18d42_row8_col14\" class=\"data row8 col14\" >0</td>\n",
              "      <td id=\"T_18d42_row8_col15\" class=\"data row8 col15\" >0</td>\n",
              "      <td id=\"T_18d42_row8_col16\" class=\"data row8 col16\" >0</td>\n",
              "      <td id=\"T_18d42_row8_col17\" class=\"data row8 col17\" >0</td>\n",
              "      <td id=\"T_18d42_row8_col18\" class=\"data row8 col18\" >0</td>\n",
              "      <td id=\"T_18d42_row8_col19\" class=\"data row8 col19\" >0</td>\n",
              "    </tr>\n",
              "    <tr>\n",
              "      <th id=\"T_18d42_level0_row9\" class=\"row_heading level0 row9\" >9</th>\n",
              "      <td id=\"T_18d42_row9_col0\" class=\"data row9 col0\" >0</td>\n",
              "      <td id=\"T_18d42_row9_col1\" class=\"data row9 col1\" >0</td>\n",
              "      <td id=\"T_18d42_row9_col2\" class=\"data row9 col2\" >0</td>\n",
              "      <td id=\"T_18d42_row9_col3\" class=\"data row9 col3\" >0</td>\n",
              "      <td id=\"T_18d42_row9_col4\" class=\"data row9 col4\" >19</td>\n",
              "      <td id=\"T_18d42_row9_col5\" class=\"data row9 col5\" >196</td>\n",
              "      <td id=\"T_18d42_row9_col6\" class=\"data row9 col6\" >252</td>\n",
              "      <td id=\"T_18d42_row9_col7\" class=\"data row9 col7\" >253</td>\n",
              "      <td id=\"T_18d42_row9_col8\" class=\"data row9 col8\" >121</td>\n",
              "      <td id=\"T_18d42_row9_col9\" class=\"data row9 col9\" >0</td>\n",
              "      <td id=\"T_18d42_row9_col10\" class=\"data row9 col10\" >0</td>\n",
              "      <td id=\"T_18d42_row9_col11\" class=\"data row9 col11\" >0</td>\n",
              "      <td id=\"T_18d42_row9_col12\" class=\"data row9 col12\" >0</td>\n",
              "      <td id=\"T_18d42_row9_col13\" class=\"data row9 col13\" >0</td>\n",
              "      <td id=\"T_18d42_row9_col14\" class=\"data row9 col14\" >0</td>\n",
              "      <td id=\"T_18d42_row9_col15\" class=\"data row9 col15\" >0</td>\n",
              "      <td id=\"T_18d42_row9_col16\" class=\"data row9 col16\" >0</td>\n",
              "      <td id=\"T_18d42_row9_col17\" class=\"data row9 col17\" >0</td>\n",
              "      <td id=\"T_18d42_row9_col18\" class=\"data row9 col18\" >0</td>\n",
              "      <td id=\"T_18d42_row9_col19\" class=\"data row9 col19\" >0</td>\n",
              "    </tr>\n",
              "  </tbody>\n",
              "</table>\n"
            ],
            "text/plain": [
              "<pandas.io.formats.style.Styler at 0x7fea6783fe10>"
            ]
          },
          "metadata": {},
          "execution_count": 23
        }
      ]
    },
    {
      "cell_type": "code",
      "source": [
        "import torchvision"
      ],
      "metadata": {
        "id": "f0ndUn-4injH"
      },
      "execution_count": 24,
      "outputs": []
    },
    {
      "cell_type": "code",
      "source": [
        "#Here we turn the tensors into a stack and turn them into floating point numbers between 0  and 1  through calling the .float()method and dividing by 255\n",
        "sevens_stack = torch.stack(sevens_tensors).float() /255"
      ],
      "metadata": {
        "id": "U2chjkhckCi6"
      },
      "execution_count": 25,
      "outputs": []
    },
    {
      "cell_type": "code",
      "source": [
        "threes_stack = torch.stack(threes_tensors).float() /255"
      ],
      "metadata": {
        "id": "gD_vHwIQkv6W"
      },
      "execution_count": 26,
      "outputs": []
    },
    {
      "cell_type": "code",
      "source": [
        "sevens_stack[0]"
      ],
      "metadata": {
        "id": "WDuQraCOlJg4",
        "colab": {
          "base_uri": "https://localhost:8080/"
        },
        "outputId": "e4386d14-95a8-4405-a9d8-b50819b86662"
      },
      "execution_count": 27,
      "outputs": [
        {
          "output_type": "execute_result",
          "data": {
            "text/plain": [
              "tensor([[0.0000, 0.0000, 0.0000, 0.0000, 0.0000, 0.0000, 0.0000, 0.0000, 0.0000, 0.0000, 0.0000, 0.0000, 0.0000, 0.0000, 0.0000, 0.0000, 0.0000, 0.0000, 0.0000, 0.0000, 0.0000, 0.0000, 0.0000, 0.0000,\n",
              "         0.0000, 0.0000, 0.0000, 0.0000],\n",
              "        [0.0000, 0.0000, 0.0000, 0.0000, 0.0000, 0.0000, 0.0000, 0.0000, 0.0000, 0.0000, 0.0000, 0.0000, 0.0000, 0.0000, 0.0000, 0.0000, 0.0000, 0.0000, 0.0000, 0.0000, 0.0000, 0.0000, 0.0000, 0.0000,\n",
              "         0.0000, 0.0000, 0.0000, 0.0000],\n",
              "        [0.0000, 0.0000, 0.0000, 0.0000, 0.0000, 0.0000, 0.0000, 0.0000, 0.0000, 0.0000, 0.0000, 0.0000, 0.0000, 0.0000, 0.0000, 0.0000, 0.0000, 0.0000, 0.0000, 0.0000, 0.0000, 0.0000, 0.0000, 0.0000,\n",
              "         0.0000, 0.0000, 0.0000, 0.0000],\n",
              "        [0.0000, 0.0000, 0.0000, 0.0000, 0.0000, 0.0000, 0.0000, 0.0000, 0.0000, 0.0000, 0.0000, 0.0000, 0.0000, 0.0000, 0.0000, 0.0000, 0.0000, 0.0000, 0.0000, 0.0000, 0.0000, 0.0000, 0.0000, 0.0000,\n",
              "         0.0000, 0.0000, 0.0000, 0.0000],\n",
              "        [0.0000, 0.0000, 0.0000, 0.0000, 0.0000, 0.0000, 0.0000, 0.0000, 0.0000, 0.0000, 0.0000, 0.0000, 0.0000, 0.0000, 0.0000, 0.0000, 0.0000, 0.0000, 0.0000, 0.0000, 0.0000, 0.0000, 0.0000, 0.0000,\n",
              "         0.0000, 0.0000, 0.0000, 0.0000],\n",
              "        [0.0000, 0.0000, 0.0000, 0.0000, 0.0000, 0.0000, 0.0000, 0.0000, 0.0000, 0.0000, 0.0000, 0.0000, 0.0000, 0.0000, 0.0000, 0.0000, 0.0000, 0.0000, 0.0000, 0.0000, 0.0000, 0.0000, 0.0000, 0.0000,\n",
              "         0.0000, 0.0000, 0.0000, 0.0000],\n",
              "        [0.0000, 0.0000, 0.0000, 0.0000, 0.0000, 0.0000, 0.0000, 0.0000, 0.0000, 0.0000, 0.0000, 0.0000, 0.0000, 0.0000, 0.0000, 0.0000, 0.0000, 0.0000, 0.0000, 0.0000, 0.0000, 0.0000, 0.0000, 0.0000,\n",
              "         0.0000, 0.0000, 0.0000, 0.0000],\n",
              "        [0.0000, 0.0000, 0.0000, 0.0000, 0.0000, 0.0000, 0.0000, 0.0000, 0.0000, 0.0000, 0.0000, 0.0000, 0.0000, 0.0000, 0.0000, 0.0000, 0.0000, 0.0000, 0.0000, 0.0000, 0.0000, 0.0000, 0.0000, 0.0000,\n",
              "         0.0000, 0.0000, 0.0000, 0.0000],\n",
              "        [0.0000, 0.0000, 0.0000, 0.0000, 0.0000, 0.0000, 0.0000, 0.0000, 0.0000, 0.0000, 0.1490, 0.4431, 0.4431, 0.4431, 0.4471, 0.9333, 0.9922, 0.9922, 0.9922, 1.0000, 0.8078, 0.3451, 0.0000, 0.0000,\n",
              "         0.0000, 0.0000, 0.0000, 0.0000],\n",
              "        [0.0000, 0.0000, 0.0000, 0.0000, 0.0000, 0.0000, 0.0000, 0.2235, 0.3333, 0.5765, 0.9176, 0.9882, 0.9882, 0.9882, 0.9922, 0.9882, 0.9882, 0.9882, 0.9882, 0.9922, 0.9882, 0.9647, 0.2941, 0.0000,\n",
              "         0.0000, 0.0000, 0.0000, 0.0000],\n",
              "        [0.0000, 0.0000, 0.0000, 0.0000, 0.0000, 0.2627, 0.7725, 0.9176, 0.9882, 0.9922, 0.9882, 0.9882, 0.9882, 0.9882, 0.7686, 0.7647, 0.7647, 0.7647, 0.7647, 0.9922, 0.9882, 0.9882, 0.3294, 0.0000,\n",
              "         0.0000, 0.0000, 0.0000, 0.0000],\n",
              "        [0.0000, 0.0000, 0.0000, 0.0000, 0.0000, 0.3333, 0.9882, 0.9882, 0.9882, 0.8824, 0.8745, 0.4471, 0.3294, 0.3294, 0.0000, 0.0000, 0.0000, 0.0000, 0.0627, 0.9922, 0.9882, 0.8392, 0.1098, 0.0000,\n",
              "         0.0000, 0.0000, 0.0000, 0.0000],\n",
              "        [0.0000, 0.0000, 0.0000, 0.0000, 0.0000, 0.1490, 0.8667, 0.6157, 0.4392, 0.0000, 0.0000, 0.0000, 0.0000, 0.0000, 0.0000, 0.0000, 0.0000, 0.0627, 0.7961, 0.9922, 0.9882, 0.4627, 0.0000, 0.0000,\n",
              "         0.0000, 0.0000, 0.0000, 0.0000],\n",
              "        [0.0000, 0.0000, 0.0000, 0.0000, 0.0000, 0.0000, 0.0000, 0.0000, 0.0000, 0.0000, 0.0000, 0.0000, 0.0000, 0.0000, 0.0000, 0.0000, 0.1020, 0.8118, 0.9922, 1.0000, 0.6588, 0.0000, 0.0000, 0.0000,\n",
              "         0.0000, 0.0000, 0.0000, 0.0000],\n",
              "        [0.0000, 0.0000, 0.0000, 0.0000, 0.0000, 0.0000, 0.0000, 0.0000, 0.0000, 0.0000, 0.0000, 0.0000, 0.0000, 0.0000, 0.0000, 0.0000, 0.4078, 0.9882, 0.9882, 0.8431, 0.1294, 0.0000, 0.0000, 0.0000,\n",
              "         0.0000, 0.0000, 0.0000, 0.0000],\n",
              "        [0.0000, 0.0000, 0.0000, 0.0000, 0.0000, 0.0000, 0.0000, 0.0000, 0.0000, 0.0000, 0.0000, 0.0000, 0.0000, 0.0000, 0.0000, 0.2627, 0.9412, 0.9882, 0.8627, 0.1216, 0.0000, 0.0000, 0.0000, 0.0000,\n",
              "         0.0000, 0.0000, 0.0000, 0.0000],\n",
              "        [0.0000, 0.0000, 0.0000, 0.0000, 0.0000, 0.0000, 0.0000, 0.0000, 0.0000, 0.0000, 0.0000, 0.0000, 0.0000, 0.0000, 0.1137, 0.7098, 0.9882, 0.8510, 0.1451, 0.0000, 0.0000, 0.0000, 0.0000, 0.0000,\n",
              "         0.0000, 0.0000, 0.0000, 0.0000],\n",
              "        [0.0000, 0.0000, 0.0000, 0.0000, 0.0000, 0.0000, 0.0000, 0.0000, 0.0000, 0.0000, 0.0000, 0.0000, 0.0000, 0.0000, 0.9922, 0.9882, 0.9882, 0.3294, 0.0000, 0.0000, 0.0000, 0.0000, 0.0000, 0.0000,\n",
              "         0.0000, 0.0000, 0.0000, 0.0000],\n",
              "        [0.0000, 0.0000, 0.0000, 0.0000, 0.0000, 0.0000, 0.0000, 0.0000, 0.0000, 0.0000, 0.0000, 0.0000, 0.2980, 0.7490, 1.0000, 0.8431, 0.4314, 0.0000, 0.0000, 0.0000, 0.0000, 0.0000, 0.0000, 0.0000,\n",
              "         0.0000, 0.0000, 0.0000, 0.0000],\n",
              "        [0.0000, 0.0000, 0.0000, 0.0000, 0.0000, 0.0000, 0.0000, 0.0000, 0.0000, 0.0000, 0.0000, 0.0745, 0.7686, 0.9882, 0.9922, 0.4745, 0.0000, 0.0000, 0.0000, 0.0000, 0.0000, 0.0000, 0.0000, 0.0000,\n",
              "         0.0000, 0.0000, 0.0000, 0.0000],\n",
              "        [0.0000, 0.0000, 0.0000, 0.0000, 0.0000, 0.0000, 0.0000, 0.0000, 0.0000, 0.0000, 0.2627, 0.8196, 0.9882, 0.9882, 0.2196, 0.0235, 0.0000, 0.0000, 0.0000, 0.0000, 0.0000, 0.0000, 0.0000, 0.0000,\n",
              "         0.0000, 0.0000, 0.0000, 0.0000],\n",
              "        [0.0000, 0.0000, 0.0000, 0.0000, 0.0000, 0.0000, 0.0000, 0.0000, 0.0000, 0.1137, 0.7098, 0.9882, 0.8510, 0.3294, 0.0000, 0.0000, 0.0000, 0.0000, 0.0000, 0.0000, 0.0000, 0.0000, 0.0000, 0.0000,\n",
              "         0.0000, 0.0000, 0.0000, 0.0000],\n",
              "        [0.0000, 0.0000, 0.0000, 0.0000, 0.0000, 0.0000, 0.0000, 0.0000, 0.0000, 0.9922, 0.9882, 0.9882, 0.3294, 0.0000, 0.0000, 0.0000, 0.0000, 0.0000, 0.0000, 0.0000, 0.0000, 0.0000, 0.0000, 0.0000,\n",
              "         0.0000, 0.0000, 0.0000, 0.0000],\n",
              "        [0.0000, 0.0000, 0.0000, 0.0000, 0.0000, 0.0000, 0.0000, 0.0510, 0.7490, 1.0000, 0.8431, 0.1216, 0.0000, 0.0000, 0.0000, 0.0000, 0.0000, 0.0000, 0.0000, 0.0000, 0.0000, 0.0000, 0.0000, 0.0000,\n",
              "         0.0000, 0.0000, 0.0000, 0.0000],\n",
              "        [0.0000, 0.0000, 0.0000, 0.0000, 0.0000, 0.0000, 0.0000, 0.6039, 0.9882, 0.9922, 0.4745, 0.0000, 0.0000, 0.0000, 0.0000, 0.0000, 0.0000, 0.0000, 0.0000, 0.0000, 0.0000, 0.0000, 0.0000, 0.0000,\n",
              "         0.0000, 0.0000, 0.0000, 0.0000],\n",
              "        [0.0000, 0.0000, 0.0000, 0.0000, 0.0000, 0.0000, 0.0510, 0.7333, 0.9882, 0.5216, 0.0235, 0.0000, 0.0000, 0.0000, 0.0000, 0.0000, 0.0000, 0.0000, 0.0000, 0.0000, 0.0000, 0.0000, 0.0000, 0.0000,\n",
              "         0.0000, 0.0000, 0.0000, 0.0000],\n",
              "        [0.0000, 0.0000, 0.0000, 0.0000, 0.0000, 0.0000, 0.2235, 0.9882, 0.9882, 0.0000, 0.0000, 0.0000, 0.0000, 0.0000, 0.0000, 0.0000, 0.0000, 0.0000, 0.0000, 0.0000, 0.0000, 0.0000, 0.0000, 0.0000,\n",
              "         0.0000, 0.0000, 0.0000, 0.0000],\n",
              "        [0.0000, 0.0000, 0.0000, 0.0000, 0.0000, 0.0000, 0.2235, 0.9882, 0.9882, 0.0000, 0.0000, 0.0000, 0.0000, 0.0000, 0.0000, 0.0000, 0.0000, 0.0000, 0.0000, 0.0000, 0.0000, 0.0000, 0.0000, 0.0000,\n",
              "         0.0000, 0.0000, 0.0000, 0.0000]])"
            ]
          },
          "metadata": {},
          "execution_count": 27
        }
      ]
    },
    {
      "cell_type": "code",
      "source": [
        "valid_3_tens = torch.stack(threes_tensors).float() /255"
      ],
      "metadata": {
        "id": "KaHFz7cclfVa"
      },
      "execution_count": 28,
      "outputs": []
    },
    {
      "cell_type": "code",
      "source": [
        "valid_7_tens = torch.stack(sevens_tensors).float() /255"
      ],
      "metadata": {
        "id": "8xyrlakSmBtO"
      },
      "execution_count": 29,
      "outputs": []
    },
    {
      "cell_type": "code",
      "source": [
        "#Data processing with pytorch we take the data and turn the shape without changing the contents of the data\n",
        "train_x = torch.cat([threes_stack, sevens_stack]).view(-1,28*28) "
      ],
      "metadata": {
        "id": "qyPIEKkdmVs5"
      },
      "execution_count": 30,
      "outputs": []
    },
    {
      "cell_type": "code",
      "source": [
        "#We label each image\n",
        "train_y = tensor([1] * len(threes) + [0] * len(sevens)).unsqueeze(1)"
      ],
      "metadata": {
        "id": "IloGvMN5nbzT"
      },
      "execution_count": 31,
      "outputs": []
    },
    {
      "cell_type": "code",
      "source": [
        "dset = list(zip(train_x, train_y))"
      ],
      "metadata": {
        "id": "Jmq7DxQqotoH"
      },
      "execution_count": 32,
      "outputs": []
    },
    {
      "cell_type": "code",
      "source": [
        "#Processing the validation data\n",
        "valid_x = torch.cat([valid_3_tens, valid_7_tens]).view(-1, 28 * 28 )"
      ],
      "metadata": {
        "id": "vBNm9_xCpQlX"
      },
      "execution_count": 33,
      "outputs": []
    },
    {
      "cell_type": "code",
      "source": [
        "valid_y = tensor([1] * len(valid_3_tens) + [0] * len(valid_7_tens)).unsqueeze(1)"
      ],
      "metadata": {
        "id": "uut0agE5qJ8c"
      },
      "execution_count": 34,
      "outputs": []
    },
    {
      "cell_type": "code",
      "source": [
        "validDset = list(zip(valid_x,valid_y))"
      ],
      "metadata": {
        "id": "VUg2FYYgqmeg"
      },
      "execution_count": 35,
      "outputs": []
    },
    {
      "cell_type": "code",
      "source": [
        "dset[0]\n"
      ],
      "metadata": {
        "id": "ri4keFchqrci"
      },
      "execution_count": null,
      "outputs": []
    },
    {
      "cell_type": "code",
      "source": [
        "#We then randomly initialize our weights from random numbers to start training at a point\n",
        "#Otherwise if we don't our model will give us constant values which won't affect backpropagation hence the model won't learn\n",
        "def init_params(size,std=1.0):\n",
        "  return (torch.randn(size)*std).requires_grad_()\n"
      ],
      "metadata": {
        "id": "OJFdQ25fq7SJ"
      },
      "execution_count": 37,
      "outputs": []
    },
    {
      "cell_type": "code",
      "source": [
        "weights = init_params((28*28,1))"
      ],
      "metadata": {
        "id": "1oaUivwasL5w"
      },
      "execution_count": 38,
      "outputs": []
    },
    {
      "cell_type": "code",
      "source": [
        "weights"
      ],
      "metadata": {
        "id": "0QJZZMz7saw3"
      },
      "execution_count": null,
      "outputs": []
    },
    {
      "cell_type": "code",
      "source": [
        "bias = init_params(1)"
      ],
      "metadata": {
        "id": "HzNdZNs8slAB"
      },
      "execution_count": 40,
      "outputs": []
    },
    {
      "cell_type": "code",
      "source": [
        "#In neural networks the equation y =wx + b the y is the predicted value the w are weights and the b are the parameters\n",
        "#while the x are the input values\n",
        "#Both the weights are bias make up the parameters"
      ],
      "metadata": {
        "id": "cj6ylXlVs-k_"
      },
      "execution_count": 41,
      "outputs": []
    },
    {
      "cell_type": "code",
      "source": [
        "#Prediction for one image with the following calculation:\n",
        "(train_x[0] * weights.T).sum() + bias"
      ],
      "metadata": {
        "colab": {
          "base_uri": "https://localhost:8080/"
        },
        "id": "HZDkT586sbg8",
        "outputId": "eaad2919-3f53-456a-a184-7601df40ef4a"
      },
      "execution_count": 42,
      "outputs": [
        {
          "output_type": "execute_result",
          "data": {
            "text/plain": [
              "tensor([-10.2998], grad_fn=<AddBackward0>)"
            ]
          },
          "metadata": {},
          "execution_count": 42
        }
      ]
    },
    {
      "cell_type": "markdown",
      "source": [
        "We could use Python for loops to calculate the prediction for each image but that turns out to be very slow as python does not use GPU  and Python is very slow when it comes to loops in general. For convinience there is a mathematical operation that enables us to calculate the dot product of the weights and input/pixel values from images. This mathematical operation is called matrix multiplication which does this through multiplying the row of the weight matrix by the column of the input images."
      ],
      "metadata": {
        "id": "T_qLekNnt-07"
      }
    },
    {
      "cell_type": "code",
      "source": [
        "#Function to calculate the matrix multiplication in python using the @ operator\n",
        "def linear1(xb):return xb@weights + bias"
      ],
      "metadata": {
        "id": "umfBCsi5tzWk"
      },
      "execution_count": 43,
      "outputs": []
    },
    {
      "cell_type": "markdown",
      "source": [
        "In this function we take the input features which are the pixel values from our image and turn it into a 1 dimensional array which is called a vector and then do a batch matrix multiplication by the weights of the layer. The equation\n",
        "is batch@weights + bias"
      ],
      "metadata": {
        "id": "X0JULxry1MIZ"
      }
    },
    {
      "cell_type": "code",
      "source": [
        "#We calculate a \n",
        "prediction1 = linear1(train_x)"
      ],
      "metadata": {
        "id": "zBY4iI2LzHC4"
      },
      "execution_count": 44,
      "outputs": []
    },
    {
      "cell_type": "code",
      "source": [
        "prediction1"
      ],
      "metadata": {
        "colab": {
          "base_uri": "https://localhost:8080/"
        },
        "id": "7xcjpiB0zM3i",
        "outputId": "ce6bc26e-c22f-4d70-b697-56f437bef18d"
      },
      "execution_count": 45,
      "outputs": [
        {
          "output_type": "execute_result",
          "data": {
            "text/plain": [
              "tensor([[-10.2998],\n",
              "        [  2.7059],\n",
              "        [ -8.8174],\n",
              "        ...,\n",
              "        [-10.8699],\n",
              "        [-15.2660],\n",
              "        [-13.3496]], grad_fn=<AddBackward0>)"
            ]
          },
          "metadata": {},
          "execution_count": 45
        }
      ]
    },
    {
      "cell_type": "code",
      "source": [
        "#1 was labeled as a  3 \n",
        "correct_three = (prediction1>0.0).float() == train_y "
      ],
      "metadata": {
        "id": "TAvrV_m0zOAl"
      },
      "execution_count": 46,
      "outputs": []
    },
    {
      "cell_type": "code",
      "source": [
        "correct_three_accuracy = (prediction1>0.0).float().mean()"
      ],
      "metadata": {
        "id": "Wlo3-g6o2koU"
      },
      "execution_count": 47,
      "outputs": []
    },
    {
      "cell_type": "code",
      "source": [
        "correct_three_accuracy"
      ],
      "metadata": {
        "colab": {
          "base_uri": "https://localhost:8080/"
        },
        "id": "fAAYz26T3SH2",
        "outputId": "7a8eae8f-1dd7-46b5-be18-468c7370a95f"
      },
      "execution_count": 48,
      "outputs": [
        {
          "output_type": "execute_result",
          "data": {
            "text/plain": [
              "tensor(0.1297)"
            ]
          },
          "metadata": {},
          "execution_count": 48
        }
      ]
    },
    {
      "cell_type": "markdown",
      "source": [
        "We need gradients in order to improve our model using SGD stochastic gradient descent to get the gradients we need a loss functions. \n",
        "\n",
        "\n",
        "Gradients are a measure of how the loss function changes with small tweaks to the weights \n",
        "\n",
        "\n",
        "The purpose of a loss function is to measure the difference between the predicted values and the true values to see how much the function: y=wx+b changed when the input changed i.e the gradient in this case our weights"
      ],
      "metadata": {
        "id": "WbZmvPgN4R34"
      }
    },
    {
      "cell_type": "code",
      "source": [
        "targets = tensor([1,0,1])"
      ],
      "metadata": {
        "id": "91NTC2AE3VdX"
      },
      "execution_count": 49,
      "outputs": []
    },
    {
      "cell_type": "code",
      "source": [
        "predictions = tensor([0.2, 0.4, 0.9])"
      ],
      "metadata": {
        "id": "peKBNrOs-VEL"
      },
      "execution_count": 50,
      "outputs": []
    },
    {
      "cell_type": "code",
      "source": [
        "def mnist_loss(targets, predictions):\n",
        "  return torch.where(targets == 1, 1-predictions, predictions).mean()"
      ],
      "metadata": {
        "id": "rr_KQI2G-bvs"
      },
      "execution_count": 51,
      "outputs": []
    },
    {
      "cell_type": "code",
      "source": [
        "loss_fn = mnist_loss(targets,predictions)"
      ],
      "metadata": {
        "id": "By_FLRLG-qhX"
      },
      "execution_count": 52,
      "outputs": []
    },
    {
      "cell_type": "code",
      "source": [
        "loss_fn"
      ],
      "metadata": {
        "colab": {
          "base_uri": "https://localhost:8080/"
        },
        "id": "SJwtxL1O-yS3",
        "outputId": "1b823230-1063-466d-8620-80db1614f586"
      },
      "execution_count": 53,
      "outputs": [
        {
          "output_type": "execute_result",
          "data": {
            "text/plain": [
              "tensor(0.4333)"
            ]
          },
          "metadata": {},
          "execution_count": 53
        }
      ]
    },
    {
      "cell_type": "markdown",
      "source": [
        "A scalar is one number a vector is a one dimensional matrix that has only one row and one column a matrix is a two dimensional array of numbers that contains n rows and n columns. In pytorch a lower number is associated with a better loss since we need only one value for from our loss function and we obtain this through adding the mean() method."
      ],
      "metadata": {
        "id": "rHH71iga_RBz"
      }
    },
    {
      "cell_type": "markdown",
      "source": [
        "A sigmoid function is a mathematical operation or a function that takes in an input value and outputs a value in between a zero and a one"
      ],
      "metadata": {
        "id": "1dPQV3MBwu-b"
      }
    },
    {
      "cell_type": "code",
      "execution_count": 54,
      "metadata": {
        "id": "PM3tpN_IwfbH"
      },
      "outputs": [],
      "source": [
        "#This is how we define a sigmoid function:\n",
        "def sigmoid(x): return (1/1+torch.exp(-x))"
      ]
    },
    {
      "cell_type": "code",
      "source": [
        "import numpy as np\n"
      ],
      "metadata": {
        "id": "mK4y--q_xRCZ"
      },
      "execution_count": 55,
      "outputs": []
    },
    {
      "cell_type": "code",
      "source": [
        "#Here we plot the function on a graph to visualize it\n",
        "\n",
        "plot_function(torch.sigmoid, title=\"Sigmoid\", min =-10, max =10 )"
      ],
      "metadata": {
        "colab": {
          "base_uri": "https://localhost:8080/",
          "height": 340
        },
        "id": "huNGmupMxva9",
        "outputId": "c9b772af-9534-4595-9b53-b9dceee53352"
      },
      "execution_count": 56,
      "outputs": [
        {
          "output_type": "stream",
          "name": "stderr",
          "text": [
            "/usr/local/lib/python3.7/dist-packages/fastbook/__init__.py:74: UserWarning: Not providing a value for linspace's steps is deprecated and will throw a runtime error in a future release. This warning will appear only once per process. (Triggered internally at  ../aten/src/ATen/native/RangeFactories.cpp:23.)\n",
            "  x = torch.linspace(min,max)\n"
          ]
        },
        {
          "output_type": "display_data",
          "data": {
            "image/png": "[encoded data removed]",
            "text/plain": [
              "<Figure size 432x288 with 1 Axes>"
            ]
          },
          "metadata": {
            "needs_background": "light"
          }
        }
      ]
    },
    {
      "cell_type": "code",
      "source": [
        "#We redefine our loss function to apply sigmoid function to our predicted values,this ensures that our loss function takes in values that\n",
        "#are in between zero and one \n",
        "def mnist_loss(targets, predictions):\n",
        "  predictions = predictions.sigmoid()\n",
        "  return (torch.where(targets == 1, 1 - predictions, predictions)).mean()"
      ],
      "metadata": {
        "id": "ee9oXfWDy-Ux"
      },
      "execution_count": 57,
      "outputs": []
    },
    {
      "cell_type": "markdown",
      "source": [
        "We defined a loss function to ensure that gradient descent/ automated learning can be smoothly applied to our model.\n",
        "The loss enables us to see how far our machine learning model is from the desired goal. You can think of the loss a perfomance evaluation technique during training. The metric is used to drive human understanding while the loss function is used to enable our model to learn effectively through application of gradient descent and so on."
      ],
      "metadata": {
        "id": "nNRJglWc1Ikm"
      }
    },
    {
      "cell_type": "markdown",
      "source": [
        "The next step after obtaining the loss is to change and update the weights based on the loss, this is known as taking an optimization step:(i.e , taking an optimization step is changing and updating the weights based on the loss). To take an optimization step we have to calculate the loss of a single or more data items. Calculating the loss for the whole dataset would relatively take a long time and calculating the loss for a single data item wouldn't give much and precise information thus will lead to unstable gradients. The walk around for this is to calculate the average loss for a few data items at a time,this is called a mini-batch. The batch size is the number of data items in a mini batch.\n",
        "\n"
      ],
      "metadata": {
        "id": "eIbu3zg4A5jV"
      }
    },
    {
      "cell_type": "code",
      "source": [
        ""
      ],
      "metadata": {
        "id": "77TS4y7vLLD2"
      },
      "execution_count": null,
      "outputs": []
    },
    {
      "cell_type": "code",
      "source": [
        "coll = range(15)\n",
        "dl = DataLoader(coll, batch_size =5, shuffle = True)"
      ],
      "metadata": {
        "id": "KxJerD_-0uZi"
      },
      "execution_count": 60,
      "outputs": []
    },
    {
      "cell_type": "code",
      "source": [
        ""
      ],
      "metadata": {
        "id": "-a8HR6LDGUgO"
      },
      "execution_count": 66,
      "outputs": []
    },
    {
      "cell_type": "code",
      "source": [
        "dl = list(dl)"
      ],
      "metadata": {
        "id": "hC0b3nq9GXOH"
      },
      "execution_count": 67,
      "outputs": []
    },
    {
      "cell_type": "code",
      "source": [
        "dl"
      ],
      "metadata": {
        "colab": {
          "base_uri": "https://localhost:8080/"
        },
        "id": "H_wp_uMyGt3p",
        "outputId": "7703554d-7861-4063-897c-8822cb896a00"
      },
      "execution_count": 68,
      "outputs": [
        {
          "output_type": "execute_result",
          "data": {
            "text/plain": [
              "[tensor([ 3, 12,  8, 10,  2]),\n",
              " tensor([ 9,  4,  7, 14,  5]),\n",
              " tensor([ 1, 13,  0,  6, 11])]"
            ]
          },
          "metadata": {},
          "execution_count": 68
        }
      ]
    },
    {
      "cell_type": "code",
      "source": [
        "doc(list)"
      ],
      "metadata": {
        "id": "Rvbto0nOGu-P"
      },
      "execution_count": null,
      "outputs": []
    },
    {
      "cell_type": "markdown",
      "source": [
        "The independent variables are the inputs while the dependent variables are the targets.\n",
        "\n",
        "In pytorch a dataset is a collection that contains independent and dependent variables. (x,y) x is the training inputs y is the labeled data."
      ],
      "metadata": {
        "id": "zzxvfiK6G-QW"
      }
    },
    {
      "cell_type": "code",
      "source": [
        "ds = L(enumerate(string.ascii_lowercase))"
      ],
      "metadata": {
        "id": "XKzubyttG0Bg"
      },
      "execution_count": 73,
      "outputs": []
    },
    {
      "cell_type": "code",
      "source": [
        "ds"
      ],
      "metadata": {
        "colab": {
          "base_uri": "https://localhost:8080/"
        },
        "id": "ELm9hdzbIfMe",
        "outputId": "e8f22792-7f31-4995-af83-ddb5655fcd0e"
      },
      "execution_count": 74,
      "outputs": [
        {
          "output_type": "execute_result",
          "data": {
            "text/plain": [
              "(#26) [(0, 'a'),(1, 'b'),(2, 'c'),(3, 'd'),(4, 'e'),(5, 'f'),(6, 'g'),(7, 'h'),(8, 'i'),(9, 'j')...]"
            ]
          },
          "metadata": {},
          "execution_count": 74
        }
      ]
    },
    {
      "cell_type": "code",
      "source": [
        "dl = DataLoader(ds, batch_size=5, shuffle = True)"
      ],
      "metadata": {
        "id": "JTcKhNRWIf-r"
      },
      "execution_count": 75,
      "outputs": []
    },
    {
      "cell_type": "code",
      "source": [
        "dl"
      ],
      "metadata": {
        "colab": {
          "base_uri": "https://localhost:8080/"
        },
        "id": "WclvoFt7JJW-",
        "outputId": "fc599fbb-c951-4ae2-ef82-3dee28043d7d"
      },
      "execution_count": 76,
      "outputs": [
        {
          "output_type": "execute_result",
          "data": {
            "text/plain": [
              "<fastai.data.load.DataLoader at 0x7fea6490fb50>"
            ]
          },
          "metadata": {},
          "execution_count": 76
        }
      ]
    },
    {
      "cell_type": "code",
      "source": [
        "list(dl)"
      ],
      "metadata": {
        "colab": {
          "base_uri": "https://localhost:8080/"
        },
        "id": "MJ676VkkJKSa",
        "outputId": "4e9b8cf2-32f9-41a2-c930-cb6031c5c381"
      },
      "execution_count": 77,
      "outputs": [
        {
          "output_type": "execute_result",
          "data": {
            "text/plain": [
              "[(tensor([17, 18, 10, 22,  8]), ('r', 's', 'k', 'w', 'i')),\n",
              " (tensor([14, 20, 15,  9, 13]), ('o', 'u', 'p', 'j', 'n')),\n",
              " (tensor([21, 12,  7, 25,  6]), ('v', 'm', 'h', 'z', 'g')),\n",
              " (tensor([ 5, 11, 23,  1,  3]), ('f', 'l', 'x', 'b', 'd')),\n",
              " (tensor([ 0, 24, 19, 16,  2]), ('a', 'y', 't', 'q', 'c')),\n",
              " (tensor([4]), ('e',))]"
            ]
          },
          "metadata": {},
          "execution_count": 77
        }
      ]
    },
    {
      "cell_type": "code",
      "source": [
        "dataloader_list  = list(dl)"
      ],
      "metadata": {
        "id": "sANJhjc3JOLl"
      },
      "execution_count": 78,
      "outputs": []
    },
    {
      "cell_type": "code",
      "source": [
        "dataloader_list"
      ],
      "metadata": {
        "colab": {
          "base_uri": "https://localhost:8080/"
        },
        "id": "-NvuRa7gJRYP",
        "outputId": "4a8e3094-5d93-4a8c-8e91-db96bc32c1d4"
      },
      "execution_count": 79,
      "outputs": [
        {
          "output_type": "execute_result",
          "data": {
            "text/plain": [
              "[(tensor([14, 19, 24,  3,  8]), ('o', 't', 'y', 'd', 'i')),\n",
              " (tensor([ 2, 12, 16, 13,  5]), ('c', 'm', 'q', 'n', 'f')),\n",
              " (tensor([ 9, 15, 22, 17, 21]), ('j', 'p', 'w', 'r', 'v')),\n",
              " (tensor([ 0,  1, 23, 25, 18]), ('a', 'b', 'x', 'z', 's')),\n",
              " (tensor([ 7, 10,  4, 11,  6]), ('h', 'k', 'e', 'l', 'g')),\n",
              " (tensor([20]), ('u',))]"
            ]
          },
          "metadata": {},
          "execution_count": 79
        }
      ]
    },
    {
      "cell_type": "code",
      "source": [
        "for x,y in dl:\n",
        "  pred = model(x) #We pass in our input data into the models \n",
        "  loss = loss_fn(pred,y) #We calculate the loss based on the predictions and the target variables loss = (y - ^Y )2 pred = ^y, y target variable\n",
        "  loss.backward() #We do backpropagation after calculating the loss\n",
        "  parameters -= parameters.grad * lr #We update the parameters by taking the difference of the stepsize( i.e learning rate * the gradient descent) a\n",
        "  \n"
      ],
      "metadata": {
        "id": "pp2L-UEJJTj_"
      },
      "execution_count": null,
      "outputs": []
    },
    {
      "cell_type": "markdown",
      "source": [
        "Usually we start by initializing the parameters to random values to allow gradient descent to take place effectively. We do random initialization because if we don't our layers will give constant/same outputs and hence hindering gradient descent from taking place effectively."
      ],
      "metadata": {
        "id": "cHsvAAZJPNyi"
      }
    },
    {
      "cell_type": "code",
      "source": [
        "weights = init_params((28 * 28 , 1))#We initialise the weights randomly through the init_params method"
      ],
      "metadata": {
        "id": "z98nOyaWK9my"
      },
      "execution_count": 82,
      "outputs": []
    },
    {
      "cell_type": "code",
      "source": [
        "dl = DataLoader(dset, batch_size=256) #We load the dataset to a batch size of 256"
      ],
      "metadata": {
        "id": "8AxRfqbmP74Q"
      },
      "execution_count": 87,
      "outputs": []
    },
    {
      "cell_type": "code",
      "source": [
        "xb ,yb = first(dl) #We then split the dataset into training and labeled data"
      ],
      "metadata": {
        "id": "h87i8EcDQkVj"
      },
      "execution_count": 91,
      "outputs": []
    },
    {
      "cell_type": "code",
      "source": [
        "xb.shape"
      ],
      "metadata": {
        "colab": {
          "base_uri": "https://localhost:8080/"
        },
        "id": "Z_BP0sKZRj7D",
        "outputId": "5b1cbfde-f9dd-40c5-cd9d-dd8b58820b64"
      },
      "execution_count": 92,
      "outputs": [
        {
          "output_type": "execute_result",
          "data": {
            "text/plain": [
              "torch.Size([256, 784])"
            ]
          },
          "metadata": {},
          "execution_count": 92
        }
      ]
    },
    {
      "cell_type": "code",
      "source": [
        ""
      ],
      "metadata": {
        "id": "nbrLLVs7RoEz"
      },
      "execution_count": null,
      "outputs": []
    },
    {
      "cell_type": "code",
      "source": [
        ""
      ],
      "metadata": {
        "id": "9LfQRwoyQ8Va"
      },
      "execution_count": null,
      "outputs": []
    },
    {
      "cell_type": "code",
      "source": [
        ""
      ],
      "metadata": {
        "id": "kIiqaoMBQby4"
      },
      "execution_count": null,
      "outputs": []
    },
    {
      "cell_type": "code",
      "source": [
        ""
      ],
      "metadata": {
        "id": "Nf448uxIKaQU"
      },
      "execution_count": null,
      "outputs": []
    },
    {
      "cell_type": "code",
      "source": [
        ""
      ],
      "metadata": {
        "id": "EPdRtn6bIRId"
      },
      "execution_count": null,
      "outputs": []
    },
    {
      "cell_type": "code",
      "source": [
        ""
      ],
      "metadata": {
        "id": "JxOyVCx2IGVv"
      },
      "execution_count": null,
      "outputs": []
    },
    {
      "cell_type": "code",
      "source": [
        ""
      ],
      "metadata": {
        "id": "74xipgybGdDY"
      },
      "execution_count": null,
      "outputs": []
    },
    {
      "cell_type": "code",
      "source": [
        ""
      ],
      "metadata": {
        "id": "Fbj0Rg1rGIsH"
      },
      "execution_count": null,
      "outputs": []
    },
    {
      "cell_type": "code",
      "source": [
        ""
      ],
      "metadata": {
        "id": "jMduSRDw0dtb"
      },
      "execution_count": 57,
      "outputs": []
    },
    {
      "cell_type": "code",
      "source": [
        ""
      ],
      "metadata": {
        "id": "BumQciU40cqo"
      },
      "execution_count": 57,
      "outputs": []
    },
    {
      "cell_type": "code",
      "source": [
        ""
      ],
      "metadata": {
        "id": "CaXPzIVry67Y"
      },
      "execution_count": 57,
      "outputs": []
    },
    {
      "cell_type": "code",
      "source": [
        ""
      ],
      "metadata": {
        "id": "Uo7a-zMMyswv"
      },
      "execution_count": 57,
      "outputs": []
    },
    {
      "cell_type": "code",
      "source": [
        ""
      ],
      "metadata": {
        "id": "6pjaQV1xynqe"
      },
      "execution_count": 57,
      "outputs": []
    },
    {
      "cell_type": "code",
      "source": [
        ""
      ],
      "metadata": {
        "id": "PCEeFIzrxO38"
      },
      "execution_count": 57,
      "outputs": []
    },
    {
      "cell_type": "code",
      "source": [
        "\n",
        "\n",
        "\n",
        "\n",
        "plot_function\n",
        "\n",
        "\n"
      ],
      "metadata": {
        "id": "H0i8aTo-uuJ3",
        "colab": {
          "base_uri": "https://localhost:8080/"
        },
        "outputId": "5f9f1f13-0e93-4e0a-ad65-925f0314dc1f"
      },
      "execution_count": 58,
      "outputs": [
        {
          "output_type": "execute_result",
          "data": {
            "text/plain": [
              "<function fastbook.plot_function>"
            ]
          },
          "metadata": {},
          "execution_count": 58
        }
      ]
    }
  ],
  "metadata": {
    "colab": {
      "name": "MNISTLOSS.ipynb",
      "provenance": [],
      "collapsed_sections": [],
      "authorship_tag": "ABX9TyMX8hqxgNQJ5EKvTrDwE88r",
      "include_colab_link": true
    },
    "kernelspec": {
      "display_name": "Python 3",
      "name": "python3"
    },
    "language_info": {
      "name": "python"
    }
  },
  "nbformat": 4,
  "nbformat_minor": 0
}