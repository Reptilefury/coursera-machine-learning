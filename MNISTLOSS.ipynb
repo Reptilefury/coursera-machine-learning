{
  "nbformat": 4,
  "nbformat_minor": 0,
  "metadata": {
    "colab": {
      "name": "MNISTLOSS.ipynb",
      "provenance": [],
      "authorship_tag": "ABX9TyPgNujdbv0qY8mJVUr78xjn",
      "include_colab_link": true
    },
    "kernelspec": {
      "name": "python3",
      "display_name": "Python 3"
    },
    "language_info": {
      "name": "python"
    }
  },
  "cells": [
    {
      "cell_type": "markdown",
      "metadata": {
        "id": "view-in-github",
        "colab_type": "text"
      },
      "source": [
        "<a href=\"https://colab.research.google.com/github/Reptilefury/coursera-machine-learning/blob/main/MNISTLOSS.ipynb\" target=\"_parent\"><img src=\"https://colab.research.google.com/assets/colab-badge.svg\" alt=\"Open In Colab\"/></a>"
      ]
    },
    {
      "cell_type": "code",
      "execution_count": 155,
      "metadata": {
        "id": "k-kXB6mmu4Ly"
      },
      "outputs": [],
      "source": [
        "!pip install -Uqq fastbook"
      ]
    },
    {
      "cell_type": "code",
      "source": [
        "import fastbook"
      ],
      "metadata": {
        "id": "aYSqnlS8vXls"
      },
      "execution_count": 156,
      "outputs": []
    },
    {
      "cell_type": "code",
      "source": [
        "fastbook.setup_book()"
      ],
      "metadata": {
        "id": "6rTFPwCEvb4p"
      },
      "execution_count": 157,
      "outputs": []
    },
    {
      "cell_type": "code",
      "source": [
        "from fastbook import *"
      ],
      "metadata": {
        "id": "yQCiNW-5vjeC"
      },
      "execution_count": 158,
      "outputs": []
    },
    {
      "cell_type": "code",
      "source": [
        "from fastai.vision.all import *"
      ],
      "metadata": {
        "id": "uNjocvxpvxO3"
      },
      "execution_count": 159,
      "outputs": []
    },
    {
      "cell_type": "code",
      "source": [
        "path = untar_data(URLs.MNIST_SAMPLE)"
      ],
      "metadata": {
        "id": "6jNkhHlcv2sR"
      },
      "execution_count": 160,
      "outputs": []
    },
    {
      "cell_type": "code",
      "source": [
        "path.ls()"
      ],
      "metadata": {
        "colab": {
          "base_uri": "https://localhost:8080/"
        },
        "id": "YVeHbRd5wHJK",
        "outputId": "f1377ef7-64bb-488c-89a4-6501fc44a04e"
      },
      "execution_count": 161,
      "outputs": [
        {
          "output_type": "execute_result",
          "data": {
            "text/plain": [
              "(#3) [Path('/root/.fastai/data/mnist_sample/valid'),Path('/root/.fastai/data/mnist_sample/labels.csv'),Path('/root/.fastai/data/mnist_sample/train')]"
            ]
          },
          "metadata": {},
          "execution_count": 161
        }
      ]
    },
    {
      "cell_type": "code",
      "source": [
        "threes = (path/'train'/'3').ls().sorted()"
      ],
      "metadata": {
        "id": "UDq1pMbpwI_z"
      },
      "execution_count": 162,
      "outputs": []
    },
    {
      "cell_type": "code",
      "source": [
        ""
      ],
      "metadata": {
        "id": "If7S3qRS03DV"
      },
      "execution_count": 162,
      "outputs": []
    },
    {
      "cell_type": "code",
      "source": [
        "sevens = (path/'train'/'7').ls().sorted()"
      ],
      "metadata": {
        "id": "RqlDSYCOwVoH"
      },
      "execution_count": 163,
      "outputs": []
    },
    {
      "cell_type": "code",
      "source": [
        ""
      ],
      "metadata": {
        "id": "45uT0DoM06iN"
      },
      "execution_count": 163,
      "outputs": []
    },
    {
      "cell_type": "code",
      "source": [
        "len(threes)"
      ],
      "metadata": {
        "colab": {
          "base_uri": "https://localhost:8080/"
        },
        "id": "6fpYdj8pwoUC",
        "outputId": "5326306a-ad0e-4c93-a02c-5ee6da4aeffb"
      },
      "execution_count": 164,
      "outputs": [
        {
          "output_type": "execute_result",
          "data": {
            "text/plain": [
              "6131"
            ]
          },
          "metadata": {},
          "execution_count": 164
        }
      ]
    },
    {
      "cell_type": "code",
      "source": [
        "threes[0]"
      ],
      "metadata": {
        "colab": {
          "base_uri": "https://localhost:8080/"
        },
        "id": "zbcgiFgfwyym",
        "outputId": "dde96d0a-4b39-4ab0-ae1d-7f8b9735b491"
      },
      "execution_count": 165,
      "outputs": [
        {
          "output_type": "execute_result",
          "data": {
            "text/plain": [
              "Path('/root/.fastai/data/mnist_sample/train/3/10.png')"
            ]
          },
          "metadata": {},
          "execution_count": 165
        }
      ]
    },
    {
      "cell_type": "code",
      "source": [
        "Image_three = Image.open(threes[0])"
      ],
      "metadata": {
        "id": "sla3R_ixw0uU"
      },
      "execution_count": 166,
      "outputs": []
    },
    {
      "cell_type": "code",
      "source": [
        "Image_three"
      ],
      "metadata": {
        "colab": {
          "base_uri": "https://localhost:8080/",
          "height": 45
        },
        "id": "-UbQ-aBGw74H",
        "outputId": "a4eb4f5b-f745-4ccf-aec4-38489a737f93"
      },
      "execution_count": 167,
      "outputs": [
        {
          "output_type": "execute_result",
          "data": {
            "image/png": "[encoded data removed]",
            "text/plain": [
              "<PIL.PngImagePlugin.PngImageFile image mode=L size=28x28 at 0x7F9A4F68D750>"
            ]
          },
          "metadata": {},
          "execution_count": 167
        }
      ]
    },
    {
      "cell_type": "code",
      "source": [
        "Image_seven = Image.open(sevens[0])"
      ],
      "metadata": {
        "id": "GpQfzYTiw-mt"
      },
      "execution_count": 168,
      "outputs": []
    },
    {
      "cell_type": "code",
      "source": [
        "Image_seven"
      ],
      "metadata": {
        "colab": {
          "base_uri": "https://localhost:8080/",
          "height": 45
        },
        "id": "sPCNeDtqxE2x",
        "outputId": "d768fb28-3137-4749-afd7-8f564f282c93"
      },
      "execution_count": 169,
      "outputs": [
        {
          "output_type": "execute_result",
          "data": {
            "image/png": "[encoded data removed]",
            "text/plain": [
              "<PIL.PngImagePlugin.PngImageFile image mode=L size=28x28 at 0x7F9A4F6907D0>"
            ]
          },
          "metadata": {},
          "execution_count": 169
        }
      ]
    },
    {
      "cell_type": "code",
      "source": [
        "import torch"
      ],
      "metadata": {
        "id": "-mvtUAilxHKp"
      },
      "execution_count": 170,
      "outputs": []
    },
    {
      "cell_type": "code",
      "source": [
        "tensor_three = tensor(Image.open(threes[0]))[4:10,4:22]"
      ],
      "metadata": {
        "id": "mbPihOdRxPE3"
      },
      "execution_count": 171,
      "outputs": []
    },
    {
      "cell_type": "code",
      "source": [
        "tensor_three"
      ],
      "metadata": {
        "colab": {
          "base_uri": "https://localhost:8080/"
        },
        "id": "6Zs7GPNMxoLt",
        "outputId": "1db196f8-71e4-470a-fa72-12fe528632f5"
      },
      "execution_count": 172,
      "outputs": [
        {
          "output_type": "execute_result",
          "data": {
            "text/plain": [
              "tensor([[  0,   0,   0,   0,   0,   0,   0,  42, 118, 219, 166, 118, 118,   6,   0,   0,   0,   0],\n",
              "        [  0,   0,   0,   0,   0,   0, 103, 242, 254, 254, 254, 254, 254,  66,   0,   0,   0,   0],\n",
              "        [  0,   0,   0,   0,   0,   0,  18, 232, 254, 254, 254, 254, 254, 238,  70,   0,   0,   0],\n",
              "        [  0,   0,   0,   0,   0,   0,   0, 104, 244, 254, 224, 254, 254, 254, 141,   0,   0,   0],\n",
              "        [  0,   0,   0,   0,   0,   0,   0,   0, 207, 254, 210, 254, 254, 254,  34,   0,   0,   0],\n",
              "        [  0,   0,   0,   0,   0,   0,   0,   0,  84, 206, 254, 254, 254, 254,  41,   0,   0,   0]], dtype=torch.uint8)"
            ]
          },
          "metadata": {},
          "execution_count": 172
        }
      ]
    },
    {
      "cell_type": "code",
      "source": [
        "import numpy as np\n",
        "import pandas as pd\n",
        "\n",
        "df = pd.DataFrame(tensor_three)"
      ],
      "metadata": {
        "id": "v2owT4AMxqZP"
      },
      "execution_count": 173,
      "outputs": []
    },
    {
      "cell_type": "code",
      "source": [
        "df.style.set_properties(**{'font - size': '6pt'}).background_gradient('Greys')"
      ],
      "metadata": {
        "colab": {
          "base_uri": "https://localhost:8080/",
          "height": 237
        },
        "id": "yQCU-wTxx22x",
        "outputId": "27e234e2-aefa-499e-e279-9a15ad90754f"
      },
      "execution_count": 174,
      "outputs": [
        {
          "output_type": "execute_result",
          "data": {
            "text/html": [
              "<style type=\"text/css\">\n",
              "#T_dbff2_row0_col0, #T_dbff2_row0_col1, #T_dbff2_row0_col2, #T_dbff2_row0_col3, #T_dbff2_row0_col4, #T_dbff2_row0_col5, #T_dbff2_row0_col6, #T_dbff2_row0_col10, #T_dbff2_row0_col11, #T_dbff2_row0_col12, #T_dbff2_row0_col13, #T_dbff2_row0_col14, #T_dbff2_row0_col15, #T_dbff2_row0_col16, #T_dbff2_row0_col17, #T_dbff2_row1_col0, #T_dbff2_row1_col1, #T_dbff2_row1_col2, #T_dbff2_row1_col3, #T_dbff2_row1_col4, #T_dbff2_row1_col5, #T_dbff2_row1_col14, #T_dbff2_row1_col15, #T_dbff2_row1_col16, #T_dbff2_row1_col17, #T_dbff2_row2_col0, #T_dbff2_row2_col1, #T_dbff2_row2_col2, #T_dbff2_row2_col3, #T_dbff2_row2_col4, #T_dbff2_row2_col5, #T_dbff2_row2_col15, #T_dbff2_row2_col16, #T_dbff2_row2_col17, #T_dbff2_row3_col0, #T_dbff2_row3_col1, #T_dbff2_row3_col2, #T_dbff2_row3_col3, #T_dbff2_row3_col4, #T_dbff2_row3_col5, #T_dbff2_row3_col6, #T_dbff2_row3_col15, #T_dbff2_row3_col16, #T_dbff2_row3_col17, #T_dbff2_row4_col0, #T_dbff2_row4_col1, #T_dbff2_row4_col2, #T_dbff2_row4_col3, #T_dbff2_row4_col4, #T_dbff2_row4_col5, #T_dbff2_row4_col6, #T_dbff2_row4_col7, #T_dbff2_row4_col15, #T_dbff2_row4_col16, #T_dbff2_row4_col17, #T_dbff2_row5_col0, #T_dbff2_row5_col1, #T_dbff2_row5_col2, #T_dbff2_row5_col3, #T_dbff2_row5_col4, #T_dbff2_row5_col5, #T_dbff2_row5_col6, #T_dbff2_row5_col7, #T_dbff2_row5_col8, #T_dbff2_row5_col9, #T_dbff2_row5_col15, #T_dbff2_row5_col16, #T_dbff2_row5_col17 {\n",
              "  font - size: 6pt;\n",
              "  background-color: #ffffff;\n",
              "  color: #000000;\n",
              "}\n",
              "#T_dbff2_row0_col7, #T_dbff2_row2_col6 {\n",
              "  font - size: 6pt;\n",
              "  background-color: #e7e7e7;\n",
              "  color: #000000;\n",
              "}\n",
              "#T_dbff2_row0_col8 {\n",
              "  font - size: 6pt;\n",
              "  background-color: #e2e2e2;\n",
              "  color: #000000;\n",
              "}\n",
              "#T_dbff2_row0_col9 {\n",
              "  font - size: 6pt;\n",
              "  background-color: #d4d4d4;\n",
              "  color: #000000;\n",
              "}\n",
              "#T_dbff2_row1_col6, #T_dbff2_row1_col7, #T_dbff2_row1_col8, #T_dbff2_row1_col9, #T_dbff2_row1_col10, #T_dbff2_row1_col11, #T_dbff2_row1_col12, #T_dbff2_row2_col8, #T_dbff2_row2_col9, #T_dbff2_row2_col10, #T_dbff2_row2_col11, #T_dbff2_row2_col12, #T_dbff2_row3_col9, #T_dbff2_row3_col11, #T_dbff2_row3_col12, #T_dbff2_row3_col13, #T_dbff2_row3_col14, #T_dbff2_row4_col9, #T_dbff2_row4_col11, #T_dbff2_row4_col12, #T_dbff2_row4_col13, #T_dbff2_row5_col10, #T_dbff2_row5_col11, #T_dbff2_row5_col12, #T_dbff2_row5_col13 {\n",
              "  font - size: 6pt;\n",
              "  background-color: #000000;\n",
              "  color: #f1f1f1;\n",
              "}\n",
              "#T_dbff2_row1_col13, #T_dbff2_row4_col14 {\n",
              "  font - size: 6pt;\n",
              "  background-color: #dbdbdb;\n",
              "  color: #000000;\n",
              "}\n",
              "#T_dbff2_row2_col7 {\n",
              "  font - size: 6pt;\n",
              "  background-color: #0c0c0c;\n",
              "  color: #f1f1f1;\n",
              "}\n",
              "#T_dbff2_row2_col13 {\n",
              "  font - size: 6pt;\n",
              "  background-color: #131313;\n",
              "  color: #f1f1f1;\n",
              "}\n",
              "#T_dbff2_row2_col14 {\n",
              "  font - size: 6pt;\n",
              "  background-color: #979797;\n",
              "  color: #f1f1f1;\n",
              "}\n",
              "#T_dbff2_row3_col7 {\n",
              "  font - size: 6pt;\n",
              "  background-color: #ababab;\n",
              "  color: #000000;\n",
              "}\n",
              "#T_dbff2_row3_col8 {\n",
              "  font - size: 6pt;\n",
              "  background-color: #111111;\n",
              "  color: #f1f1f1;\n",
              "}\n",
              "#T_dbff2_row3_col10 {\n",
              "  font - size: 6pt;\n",
              "  background-color: #6a6a6a;\n",
              "  color: #f1f1f1;\n",
              "}\n",
              "#T_dbff2_row4_col8 {\n",
              "  font - size: 6pt;\n",
              "  background-color: #585858;\n",
              "  color: #f1f1f1;\n",
              "}\n",
              "#T_dbff2_row4_col10 {\n",
              "  font - size: 6pt;\n",
              "  background-color: #959595;\n",
              "  color: #f1f1f1;\n",
              "}\n",
              "#T_dbff2_row5_col14 {\n",
              "  font - size: 6pt;\n",
              "  background-color: #d0d0d0;\n",
              "  color: #000000;\n",
              "}\n",
              "</style>\n",
              "<table id=\"T_dbff2_\" class=\"dataframe\">\n",
              "  <thead>\n",
              "    <tr>\n",
              "      <th class=\"blank level0\" >&nbsp;</th>\n",
              "      <th class=\"col_heading level0 col0\" >0</th>\n",
              "      <th class=\"col_heading level0 col1\" >1</th>\n",
              "      <th class=\"col_heading level0 col2\" >2</th>\n",
              "      <th class=\"col_heading level0 col3\" >3</th>\n",
              "      <th class=\"col_heading level0 col4\" >4</th>\n",
              "      <th class=\"col_heading level0 col5\" >5</th>\n",
              "      <th class=\"col_heading level0 col6\" >6</th>\n",
              "      <th class=\"col_heading level0 col7\" >7</th>\n",
              "      <th class=\"col_heading level0 col8\" >8</th>\n",
              "      <th class=\"col_heading level0 col9\" >9</th>\n",
              "      <th class=\"col_heading level0 col10\" >10</th>\n",
              "      <th class=\"col_heading level0 col11\" >11</th>\n",
              "      <th class=\"col_heading level0 col12\" >12</th>\n",
              "      <th class=\"col_heading level0 col13\" >13</th>\n",
              "      <th class=\"col_heading level0 col14\" >14</th>\n",
              "      <th class=\"col_heading level0 col15\" >15</th>\n",
              "      <th class=\"col_heading level0 col16\" >16</th>\n",
              "      <th class=\"col_heading level0 col17\" >17</th>\n",
              "    </tr>\n",
              "  </thead>\n",
              "  <tbody>\n",
              "    <tr>\n",
              "      <th id=\"T_dbff2_level0_row0\" class=\"row_heading level0 row0\" >0</th>\n",
              "      <td id=\"T_dbff2_row0_col0\" class=\"data row0 col0\" >0</td>\n",
              "      <td id=\"T_dbff2_row0_col1\" class=\"data row0 col1\" >0</td>\n",
              "      <td id=\"T_dbff2_row0_col2\" class=\"data row0 col2\" >0</td>\n",
              "      <td id=\"T_dbff2_row0_col3\" class=\"data row0 col3\" >0</td>\n",
              "      <td id=\"T_dbff2_row0_col4\" class=\"data row0 col4\" >0</td>\n",
              "      <td id=\"T_dbff2_row0_col5\" class=\"data row0 col5\" >0</td>\n",
              "      <td id=\"T_dbff2_row0_col6\" class=\"data row0 col6\" >0</td>\n",
              "      <td id=\"T_dbff2_row0_col7\" class=\"data row0 col7\" >42</td>\n",
              "      <td id=\"T_dbff2_row0_col8\" class=\"data row0 col8\" >118</td>\n",
              "      <td id=\"T_dbff2_row0_col9\" class=\"data row0 col9\" >219</td>\n",
              "      <td id=\"T_dbff2_row0_col10\" class=\"data row0 col10\" >166</td>\n",
              "      <td id=\"T_dbff2_row0_col11\" class=\"data row0 col11\" >118</td>\n",
              "      <td id=\"T_dbff2_row0_col12\" class=\"data row0 col12\" >118</td>\n",
              "      <td id=\"T_dbff2_row0_col13\" class=\"data row0 col13\" >6</td>\n",
              "      <td id=\"T_dbff2_row0_col14\" class=\"data row0 col14\" >0</td>\n",
              "      <td id=\"T_dbff2_row0_col15\" class=\"data row0 col15\" >0</td>\n",
              "      <td id=\"T_dbff2_row0_col16\" class=\"data row0 col16\" >0</td>\n",
              "      <td id=\"T_dbff2_row0_col17\" class=\"data row0 col17\" >0</td>\n",
              "    </tr>\n",
              "    <tr>\n",
              "      <th id=\"T_dbff2_level0_row1\" class=\"row_heading level0 row1\" >1</th>\n",
              "      <td id=\"T_dbff2_row1_col0\" class=\"data row1 col0\" >0</td>\n",
              "      <td id=\"T_dbff2_row1_col1\" class=\"data row1 col1\" >0</td>\n",
              "      <td id=\"T_dbff2_row1_col2\" class=\"data row1 col2\" >0</td>\n",
              "      <td id=\"T_dbff2_row1_col3\" class=\"data row1 col3\" >0</td>\n",
              "      <td id=\"T_dbff2_row1_col4\" class=\"data row1 col4\" >0</td>\n",
              "      <td id=\"T_dbff2_row1_col5\" class=\"data row1 col5\" >0</td>\n",
              "      <td id=\"T_dbff2_row1_col6\" class=\"data row1 col6\" >103</td>\n",
              "      <td id=\"T_dbff2_row1_col7\" class=\"data row1 col7\" >242</td>\n",
              "      <td id=\"T_dbff2_row1_col8\" class=\"data row1 col8\" >254</td>\n",
              "      <td id=\"T_dbff2_row1_col9\" class=\"data row1 col9\" >254</td>\n",
              "      <td id=\"T_dbff2_row1_col10\" class=\"data row1 col10\" >254</td>\n",
              "      <td id=\"T_dbff2_row1_col11\" class=\"data row1 col11\" >254</td>\n",
              "      <td id=\"T_dbff2_row1_col12\" class=\"data row1 col12\" >254</td>\n",
              "      <td id=\"T_dbff2_row1_col13\" class=\"data row1 col13\" >66</td>\n",
              "      <td id=\"T_dbff2_row1_col14\" class=\"data row1 col14\" >0</td>\n",
              "      <td id=\"T_dbff2_row1_col15\" class=\"data row1 col15\" >0</td>\n",
              "      <td id=\"T_dbff2_row1_col16\" class=\"data row1 col16\" >0</td>\n",
              "      <td id=\"T_dbff2_row1_col17\" class=\"data row1 col17\" >0</td>\n",
              "    </tr>\n",
              "    <tr>\n",
              "      <th id=\"T_dbff2_level0_row2\" class=\"row_heading level0 row2\" >2</th>\n",
              "      <td id=\"T_dbff2_row2_col0\" class=\"data row2 col0\" >0</td>\n",
              "      <td id=\"T_dbff2_row2_col1\" class=\"data row2 col1\" >0</td>\n",
              "      <td id=\"T_dbff2_row2_col2\" class=\"data row2 col2\" >0</td>\n",
              "      <td id=\"T_dbff2_row2_col3\" class=\"data row2 col3\" >0</td>\n",
              "      <td id=\"T_dbff2_row2_col4\" class=\"data row2 col4\" >0</td>\n",
              "      <td id=\"T_dbff2_row2_col5\" class=\"data row2 col5\" >0</td>\n",
              "      <td id=\"T_dbff2_row2_col6\" class=\"data row2 col6\" >18</td>\n",
              "      <td id=\"T_dbff2_row2_col7\" class=\"data row2 col7\" >232</td>\n",
              "      <td id=\"T_dbff2_row2_col8\" class=\"data row2 col8\" >254</td>\n",
              "      <td id=\"T_dbff2_row2_col9\" class=\"data row2 col9\" >254</td>\n",
              "      <td id=\"T_dbff2_row2_col10\" class=\"data row2 col10\" >254</td>\n",
              "      <td id=\"T_dbff2_row2_col11\" class=\"data row2 col11\" >254</td>\n",
              "      <td id=\"T_dbff2_row2_col12\" class=\"data row2 col12\" >254</td>\n",
              "      <td id=\"T_dbff2_row2_col13\" class=\"data row2 col13\" >238</td>\n",
              "      <td id=\"T_dbff2_row2_col14\" class=\"data row2 col14\" >70</td>\n",
              "      <td id=\"T_dbff2_row2_col15\" class=\"data row2 col15\" >0</td>\n",
              "      <td id=\"T_dbff2_row2_col16\" class=\"data row2 col16\" >0</td>\n",
              "      <td id=\"T_dbff2_row2_col17\" class=\"data row2 col17\" >0</td>\n",
              "    </tr>\n",
              "    <tr>\n",
              "      <th id=\"T_dbff2_level0_row3\" class=\"row_heading level0 row3\" >3</th>\n",
              "      <td id=\"T_dbff2_row3_col0\" class=\"data row3 col0\" >0</td>\n",
              "      <td id=\"T_dbff2_row3_col1\" class=\"data row3 col1\" >0</td>\n",
              "      <td id=\"T_dbff2_row3_col2\" class=\"data row3 col2\" >0</td>\n",
              "      <td id=\"T_dbff2_row3_col3\" class=\"data row3 col3\" >0</td>\n",
              "      <td id=\"T_dbff2_row3_col4\" class=\"data row3 col4\" >0</td>\n",
              "      <td id=\"T_dbff2_row3_col5\" class=\"data row3 col5\" >0</td>\n",
              "      <td id=\"T_dbff2_row3_col6\" class=\"data row3 col6\" >0</td>\n",
              "      <td id=\"T_dbff2_row3_col7\" class=\"data row3 col7\" >104</td>\n",
              "      <td id=\"T_dbff2_row3_col8\" class=\"data row3 col8\" >244</td>\n",
              "      <td id=\"T_dbff2_row3_col9\" class=\"data row3 col9\" >254</td>\n",
              "      <td id=\"T_dbff2_row3_col10\" class=\"data row3 col10\" >224</td>\n",
              "      <td id=\"T_dbff2_row3_col11\" class=\"data row3 col11\" >254</td>\n",
              "      <td id=\"T_dbff2_row3_col12\" class=\"data row3 col12\" >254</td>\n",
              "      <td id=\"T_dbff2_row3_col13\" class=\"data row3 col13\" >254</td>\n",
              "      <td id=\"T_dbff2_row3_col14\" class=\"data row3 col14\" >141</td>\n",
              "      <td id=\"T_dbff2_row3_col15\" class=\"data row3 col15\" >0</td>\n",
              "      <td id=\"T_dbff2_row3_col16\" class=\"data row3 col16\" >0</td>\n",
              "      <td id=\"T_dbff2_row3_col17\" class=\"data row3 col17\" >0</td>\n",
              "    </tr>\n",
              "    <tr>\n",
              "      <th id=\"T_dbff2_level0_row4\" class=\"row_heading level0 row4\" >4</th>\n",
              "      <td id=\"T_dbff2_row4_col0\" class=\"data row4 col0\" >0</td>\n",
              "      <td id=\"T_dbff2_row4_col1\" class=\"data row4 col1\" >0</td>\n",
              "      <td id=\"T_dbff2_row4_col2\" class=\"data row4 col2\" >0</td>\n",
              "      <td id=\"T_dbff2_row4_col3\" class=\"data row4 col3\" >0</td>\n",
              "      <td id=\"T_dbff2_row4_col4\" class=\"data row4 col4\" >0</td>\n",
              "      <td id=\"T_dbff2_row4_col5\" class=\"data row4 col5\" >0</td>\n",
              "      <td id=\"T_dbff2_row4_col6\" class=\"data row4 col6\" >0</td>\n",
              "      <td id=\"T_dbff2_row4_col7\" class=\"data row4 col7\" >0</td>\n",
              "      <td id=\"T_dbff2_row4_col8\" class=\"data row4 col8\" >207</td>\n",
              "      <td id=\"T_dbff2_row4_col9\" class=\"data row4 col9\" >254</td>\n",
              "      <td id=\"T_dbff2_row4_col10\" class=\"data row4 col10\" >210</td>\n",
              "      <td id=\"T_dbff2_row4_col11\" class=\"data row4 col11\" >254</td>\n",
              "      <td id=\"T_dbff2_row4_col12\" class=\"data row4 col12\" >254</td>\n",
              "      <td id=\"T_dbff2_row4_col13\" class=\"data row4 col13\" >254</td>\n",
              "      <td id=\"T_dbff2_row4_col14\" class=\"data row4 col14\" >34</td>\n",
              "      <td id=\"T_dbff2_row4_col15\" class=\"data row4 col15\" >0</td>\n",
              "      <td id=\"T_dbff2_row4_col16\" class=\"data row4 col16\" >0</td>\n",
              "      <td id=\"T_dbff2_row4_col17\" class=\"data row4 col17\" >0</td>\n",
              "    </tr>\n",
              "    <tr>\n",
              "      <th id=\"T_dbff2_level0_row5\" class=\"row_heading level0 row5\" >5</th>\n",
              "      <td id=\"T_dbff2_row5_col0\" class=\"data row5 col0\" >0</td>\n",
              "      <td id=\"T_dbff2_row5_col1\" class=\"data row5 col1\" >0</td>\n",
              "      <td id=\"T_dbff2_row5_col2\" class=\"data row5 col2\" >0</td>\n",
              "      <td id=\"T_dbff2_row5_col3\" class=\"data row5 col3\" >0</td>\n",
              "      <td id=\"T_dbff2_row5_col4\" class=\"data row5 col4\" >0</td>\n",
              "      <td id=\"T_dbff2_row5_col5\" class=\"data row5 col5\" >0</td>\n",
              "      <td id=\"T_dbff2_row5_col6\" class=\"data row5 col6\" >0</td>\n",
              "      <td id=\"T_dbff2_row5_col7\" class=\"data row5 col7\" >0</td>\n",
              "      <td id=\"T_dbff2_row5_col8\" class=\"data row5 col8\" >84</td>\n",
              "      <td id=\"T_dbff2_row5_col9\" class=\"data row5 col9\" >206</td>\n",
              "      <td id=\"T_dbff2_row5_col10\" class=\"data row5 col10\" >254</td>\n",
              "      <td id=\"T_dbff2_row5_col11\" class=\"data row5 col11\" >254</td>\n",
              "      <td id=\"T_dbff2_row5_col12\" class=\"data row5 col12\" >254</td>\n",
              "      <td id=\"T_dbff2_row5_col13\" class=\"data row5 col13\" >254</td>\n",
              "      <td id=\"T_dbff2_row5_col14\" class=\"data row5 col14\" >41</td>\n",
              "      <td id=\"T_dbff2_row5_col15\" class=\"data row5 col15\" >0</td>\n",
              "      <td id=\"T_dbff2_row5_col16\" class=\"data row5 col16\" >0</td>\n",
              "      <td id=\"T_dbff2_row5_col17\" class=\"data row5 col17\" >0</td>\n",
              "    </tr>\n",
              "  </tbody>\n",
              "</table>\n"
            ],
            "text/plain": [
              "<pandas.io.formats.style.Styler at 0x7f9a507e29d0>"
            ]
          },
          "metadata": {},
          "execution_count": 174
        }
      ]
    },
    {
      "cell_type": "code",
      "source": [
        "tensor_seven= tensor(Image.open(sevens[0]))[8:16, 8:16]"
      ],
      "metadata": {
        "id": "kI_MlTsvyCf-"
      },
      "execution_count": 175,
      "outputs": []
    },
    {
      "cell_type": "code",
      "source": [
        "df_seven = pd.DataFrame(tensor_seven)"
      ],
      "metadata": {
        "id": "ze8s5MH8yibS"
      },
      "execution_count": 176,
      "outputs": []
    },
    {
      "cell_type": "code",
      "source": [
        "df_seven"
      ],
      "metadata": {
        "id": "f6sx0t35yrac",
        "outputId": "bd2e38ea-151a-4c84-ee68-36991ca426e6",
        "colab": {
          "base_uri": "https://localhost:8080/",
          "height": 300
        }
      },
      "execution_count": 177,
      "outputs": [
        {
          "output_type": "execute_result",
          "data": {
            "text/html": [
              "\n",
              "  <div id=\"df-9e4c1930-fc67-4ba6-9bb5-8a2dc670c5b4\">\n",
              "    <div class=\"colab-df-container\">\n",
              "      <div>\n",
              "<style scoped>\n",
              "    .dataframe tbody tr th:only-of-type {\n",
              "        vertical-align: middle;\n",
              "    }\n",
              "\n",
              "    .dataframe tbody tr th {\n",
              "        vertical-align: top;\n",
              "    }\n",
              "\n",
              "    .dataframe thead th {\n",
              "        text-align: right;\n",
              "    }\n",
              "</style>\n",
              "<table border=\"1\" class=\"dataframe\">\n",
              "  <thead>\n",
              "    <tr style=\"text-align: right;\">\n",
              "      <th></th>\n",
              "      <th>0</th>\n",
              "      <th>1</th>\n",
              "      <th>2</th>\n",
              "      <th>3</th>\n",
              "      <th>4</th>\n",
              "      <th>5</th>\n",
              "      <th>6</th>\n",
              "      <th>7</th>\n",
              "    </tr>\n",
              "  </thead>\n",
              "  <tbody>\n",
              "    <tr>\n",
              "      <th>0</th>\n",
              "      <td>250</td>\n",
              "      <td>250</td>\n",
              "      <td>250</td>\n",
              "      <td>252</td>\n",
              "      <td>250</td>\n",
              "      <td>250</td>\n",
              "      <td>250</td>\n",
              "      <td>252</td>\n",
              "    </tr>\n",
              "    <tr>\n",
              "      <th>1</th>\n",
              "      <td>189</td>\n",
              "      <td>190</td>\n",
              "      <td>250</td>\n",
              "      <td>252</td>\n",
              "      <td>250</td>\n",
              "      <td>250</td>\n",
              "      <td>250</td>\n",
              "      <td>252</td>\n",
              "    </tr>\n",
              "    <tr>\n",
              "      <th>2</th>\n",
              "      <td>29</td>\n",
              "      <td>30</td>\n",
              "      <td>49</td>\n",
              "      <td>49</td>\n",
              "      <td>49</td>\n",
              "      <td>49</td>\n",
              "      <td>49</td>\n",
              "      <td>49</td>\n",
              "    </tr>\n",
              "    <tr>\n",
              "      <th>3</th>\n",
              "      <td>0</td>\n",
              "      <td>0</td>\n",
              "      <td>0</td>\n",
              "      <td>0</td>\n",
              "      <td>0</td>\n",
              "      <td>0</td>\n",
              "      <td>0</td>\n",
              "      <td>11</td>\n",
              "    </tr>\n",
              "    <tr>\n",
              "      <th>4</th>\n",
              "      <td>0</td>\n",
              "      <td>0</td>\n",
              "      <td>0</td>\n",
              "      <td>0</td>\n",
              "      <td>0</td>\n",
              "      <td>0</td>\n",
              "      <td>0</td>\n",
              "      <td>51</td>\n",
              "    </tr>\n",
              "    <tr>\n",
              "      <th>5</th>\n",
              "      <td>0</td>\n",
              "      <td>0</td>\n",
              "      <td>0</td>\n",
              "      <td>0</td>\n",
              "      <td>0</td>\n",
              "      <td>0</td>\n",
              "      <td>0</td>\n",
              "      <td>172</td>\n",
              "    </tr>\n",
              "    <tr>\n",
              "      <th>6</th>\n",
              "      <td>0</td>\n",
              "      <td>0</td>\n",
              "      <td>0</td>\n",
              "      <td>0</td>\n",
              "      <td>0</td>\n",
              "      <td>0</td>\n",
              "      <td>0</td>\n",
              "      <td>252</td>\n",
              "    </tr>\n",
              "    <tr>\n",
              "      <th>7</th>\n",
              "      <td>0</td>\n",
              "      <td>0</td>\n",
              "      <td>0</td>\n",
              "      <td>0</td>\n",
              "      <td>0</td>\n",
              "      <td>31</td>\n",
              "      <td>213</td>\n",
              "      <td>254</td>\n",
              "    </tr>\n",
              "  </tbody>\n",
              "</table>\n",
              "</div>\n",
              "      <button class=\"colab-df-convert\" onclick=\"convertToInteractive('df-9e4c1930-fc67-4ba6-9bb5-8a2dc670c5b4')\"\n",
              "              title=\"Convert this dataframe to an interactive table.\"\n",
              "              style=\"display:none;\">\n",
              "        \n",
              "  <svg xmlns=\"http://www.w3.org/2000/svg\" height=\"24px\"viewBox=\"0 0 24 24\"\n",
              "       width=\"24px\">\n",
              "    <path d=\"M0 0h24v24H0V0z\" fill=\"none\"/>\n",
              "    <path d=\"M18.56 5.44l.94 2.06.94-2.06 2.06-.94-2.06-.94-.94-2.06-.94 2.06-2.06.94zm-11 1L8.5 8.5l.94-2.06 2.06-.94-2.06-.94L8.5 2.5l-.94 2.06-2.06.94zm10 10l.94 2.06.94-2.06 2.06-.94-2.06-.94-.94-2.06-.94 2.06-2.06.94z\"/><path d=\"M17.41 7.96l-1.37-1.37c-.4-.4-.92-.59-1.43-.59-.52 0-1.04.2-1.43.59L10.3 9.45l-7.72 7.72c-.78.78-.78 2.05 0 2.83L4 21.41c.39.39.9.59 1.41.59.51 0 1.02-.2 1.41-.59l7.78-7.78 2.81-2.81c.8-.78.8-2.07 0-2.86zM5.41 20L4 18.59l7.72-7.72 1.47 1.35L5.41 20z\"/>\n",
              "  </svg>\n",
              "      </button>\n",
              "      \n",
              "  <style>\n",
              "    .colab-df-container {\n",
              "      display:flex;\n",
              "      flex-wrap:wrap;\n",
              "      gap: 12px;\n",
              "    }\n",
              "\n",
              "    .colab-df-convert {\n",
              "      background-color: #E8F0FE;\n",
              "      border: none;\n",
              "      border-radius: 50%;\n",
              "      cursor: pointer;\n",
              "      display: none;\n",
              "      fill: #1967D2;\n",
              "      height: 32px;\n",
              "      padding: 0 0 0 0;\n",
              "      width: 32px;\n",
              "    }\n",
              "\n",
              "    .colab-df-convert:hover {\n",
              "      background-color: #E2EBFA;\n",
              "      box-shadow: 0px 1px 2px rgba(60, 64, 67, 0.3), 0px 1px 3px 1px rgba(60, 64, 67, 0.15);\n",
              "      fill: #174EA6;\n",
              "    }\n",
              "\n",
              "    [theme=dark] .colab-df-convert {\n",
              "      background-color: #3B4455;\n",
              "      fill: #D2E3FC;\n",
              "    }\n",
              "\n",
              "    [theme=dark] .colab-df-convert:hover {\n",
              "      background-color: #434B5C;\n",
              "      box-shadow: 0px 1px 3px 1px rgba(0, 0, 0, 0.15);\n",
              "      filter: drop-shadow(0px 1px 2px rgba(0, 0, 0, 0.3));\n",
              "      fill: #FFFFFF;\n",
              "    }\n",
              "  </style>\n",
              "\n",
              "      <script>\n",
              "        const buttonEl =\n",
              "          document.querySelector('#df-9e4c1930-fc67-4ba6-9bb5-8a2dc670c5b4 button.colab-df-convert');\n",
              "        buttonEl.style.display =\n",
              "          google.colab.kernel.accessAllowed ? 'block' : 'none';\n",
              "\n",
              "        async function convertToInteractive(key) {\n",
              "          const element = document.querySelector('#df-9e4c1930-fc67-4ba6-9bb5-8a2dc670c5b4');\n",
              "          const dataTable =\n",
              "            await google.colab.kernel.invokeFunction('convertToInteractive',\n",
              "                                                     [key], {});\n",
              "          if (!dataTable) return;\n",
              "\n",
              "          const docLinkHtml = 'Like what you see? Visit the ' +\n",
              "            '<a target=\"_blank\" href=https://colab.research.google.com/notebooks/data_table.ipynb>data table notebook</a>'\n",
              "            + ' to learn more about interactive tables.';\n",
              "          element.innerHTML = '';\n",
              "          dataTable['output_type'] = 'display_data';\n",
              "          await google.colab.output.renderOutput(dataTable, element);\n",
              "          const docLink = document.createElement('div');\n",
              "          docLink.innerHTML = docLinkHtml;\n",
              "          element.appendChild(docLink);\n",
              "        }\n",
              "      </script>\n",
              "    </div>\n",
              "  </div>\n",
              "  "
            ],
            "text/plain": [
              "     0    1    2    3    4    5    6    7\n",
              "0  250  250  250  252  250  250  250  252\n",
              "1  189  190  250  252  250  250  250  252\n",
              "2   29   30   49   49   49   49   49   49\n",
              "3    0    0    0    0    0    0    0   11\n",
              "4    0    0    0    0    0    0    0   51\n",
              "5    0    0    0    0    0    0    0  172\n",
              "6    0    0    0    0    0    0    0  252\n",
              "7    0    0    0    0    0   31  213  254"
            ]
          },
          "metadata": {},
          "execution_count": 177
        }
      ]
    },
    {
      "cell_type": "code",
      "source": [
        "#We want to color code our tensor array \n",
        "df_seven.style.set_properties(**{'font - size': '6pt'}).background_gradient('Greys')"
      ],
      "metadata": {
        "id": "fN-gf-XxytaL",
        "outputId": "bd4ee88b-2168-4e84-cb7e-0a61f168bc3c",
        "colab": {
          "base_uri": "https://localhost:8080/",
          "height": 300
        }
      },
      "execution_count": 178,
      "outputs": [
        {
          "output_type": "execute_result",
          "data": {
            "text/html": [
              "<style type=\"text/css\">\n",
              "#T_d5d46_row0_col0, #T_d5d46_row0_col1, #T_d5d46_row0_col2, #T_d5d46_row0_col3, #T_d5d46_row0_col4, #T_d5d46_row0_col5, #T_d5d46_row0_col6, #T_d5d46_row1_col2, #T_d5d46_row1_col3, #T_d5d46_row1_col4, #T_d5d46_row1_col5, #T_d5d46_row1_col6, #T_d5d46_row7_col7 {\n",
              "  font - size: 6pt;\n",
              "  background-color: #000000;\n",
              "  color: #f1f1f1;\n",
              "}\n",
              "#T_d5d46_row0_col7, #T_d5d46_row1_col7, #T_d5d46_row6_col7 {\n",
              "  font - size: 6pt;\n",
              "  background-color: #020202;\n",
              "  color: #f1f1f1;\n",
              "}\n",
              "#T_d5d46_row1_col0 {\n",
              "  font - size: 6pt;\n",
              "  background-color: #505050;\n",
              "  color: #f1f1f1;\n",
              "}\n",
              "#T_d5d46_row1_col1 {\n",
              "  font - size: 6pt;\n",
              "  background-color: #4e4e4e;\n",
              "  color: #f1f1f1;\n",
              "}\n",
              "#T_d5d46_row2_col0, #T_d5d46_row2_col1 {\n",
              "  font - size: 6pt;\n",
              "  background-color: #f1f1f1;\n",
              "  color: #000000;\n",
              "}\n",
              "#T_d5d46_row2_col2, #T_d5d46_row2_col4, #T_d5d46_row2_col5, #T_d5d46_row2_col6 {\n",
              "  font - size: 6pt;\n",
              "  background-color: #e3e3e3;\n",
              "  color: #000000;\n",
              "}\n",
              "#T_d5d46_row2_col3 {\n",
              "  font - size: 6pt;\n",
              "  background-color: #e4e4e4;\n",
              "  color: #000000;\n",
              "}\n",
              "#T_d5d46_row2_col7 {\n",
              "  font - size: 6pt;\n",
              "  background-color: #eaeaea;\n",
              "  color: #000000;\n",
              "}\n",
              "#T_d5d46_row3_col0, #T_d5d46_row3_col1, #T_d5d46_row3_col2, #T_d5d46_row3_col3, #T_d5d46_row3_col4, #T_d5d46_row3_col5, #T_d5d46_row3_col6, #T_d5d46_row3_col7, #T_d5d46_row4_col0, #T_d5d46_row4_col1, #T_d5d46_row4_col2, #T_d5d46_row4_col3, #T_d5d46_row4_col4, #T_d5d46_row4_col5, #T_d5d46_row4_col6, #T_d5d46_row5_col0, #T_d5d46_row5_col1, #T_d5d46_row5_col2, #T_d5d46_row5_col3, #T_d5d46_row5_col4, #T_d5d46_row5_col5, #T_d5d46_row5_col6, #T_d5d46_row6_col0, #T_d5d46_row6_col1, #T_d5d46_row6_col2, #T_d5d46_row6_col3, #T_d5d46_row6_col4, #T_d5d46_row6_col5, #T_d5d46_row6_col6, #T_d5d46_row7_col0, #T_d5d46_row7_col1, #T_d5d46_row7_col2, #T_d5d46_row7_col3, #T_d5d46_row7_col4 {\n",
              "  font - size: 6pt;\n",
              "  background-color: #ffffff;\n",
              "  color: #000000;\n",
              "}\n",
              "#T_d5d46_row4_col7 {\n",
              "  font - size: 6pt;\n",
              "  background-color: #e9e9e9;\n",
              "  color: #000000;\n",
              "}\n",
              "#T_d5d46_row5_col7 {\n",
              "  font - size: 6pt;\n",
              "  background-color: #696969;\n",
              "  color: #f1f1f1;\n",
              "}\n",
              "#T_d5d46_row7_col5 {\n",
              "  font - size: 6pt;\n",
              "  background-color: #f0f0f0;\n",
              "  color: #000000;\n",
              "}\n",
              "#T_d5d46_row7_col6 {\n",
              "  font - size: 6pt;\n",
              "  background-color: #2c2c2c;\n",
              "  color: #f1f1f1;\n",
              "}\n",
              "</style>\n",
              "<table id=\"T_d5d46_\" class=\"dataframe\">\n",
              "  <thead>\n",
              "    <tr>\n",
              "      <th class=\"blank level0\" >&nbsp;</th>\n",
              "      <th class=\"col_heading level0 col0\" >0</th>\n",
              "      <th class=\"col_heading level0 col1\" >1</th>\n",
              "      <th class=\"col_heading level0 col2\" >2</th>\n",
              "      <th class=\"col_heading level0 col3\" >3</th>\n",
              "      <th class=\"col_heading level0 col4\" >4</th>\n",
              "      <th class=\"col_heading level0 col5\" >5</th>\n",
              "      <th class=\"col_heading level0 col6\" >6</th>\n",
              "      <th class=\"col_heading level0 col7\" >7</th>\n",
              "    </tr>\n",
              "  </thead>\n",
              "  <tbody>\n",
              "    <tr>\n",
              "      <th id=\"T_d5d46_level0_row0\" class=\"row_heading level0 row0\" >0</th>\n",
              "      <td id=\"T_d5d46_row0_col0\" class=\"data row0 col0\" >250</td>\n",
              "      <td id=\"T_d5d46_row0_col1\" class=\"data row0 col1\" >250</td>\n",
              "      <td id=\"T_d5d46_row0_col2\" class=\"data row0 col2\" >250</td>\n",
              "      <td id=\"T_d5d46_row0_col3\" class=\"data row0 col3\" >252</td>\n",
              "      <td id=\"T_d5d46_row0_col4\" class=\"data row0 col4\" >250</td>\n",
              "      <td id=\"T_d5d46_row0_col5\" class=\"data row0 col5\" >250</td>\n",
              "      <td id=\"T_d5d46_row0_col6\" class=\"data row0 col6\" >250</td>\n",
              "      <td id=\"T_d5d46_row0_col7\" class=\"data row0 col7\" >252</td>\n",
              "    </tr>\n",
              "    <tr>\n",
              "      <th id=\"T_d5d46_level0_row1\" class=\"row_heading level0 row1\" >1</th>\n",
              "      <td id=\"T_d5d46_row1_col0\" class=\"data row1 col0\" >189</td>\n",
              "      <td id=\"T_d5d46_row1_col1\" class=\"data row1 col1\" >190</td>\n",
              "      <td id=\"T_d5d46_row1_col2\" class=\"data row1 col2\" >250</td>\n",
              "      <td id=\"T_d5d46_row1_col3\" class=\"data row1 col3\" >252</td>\n",
              "      <td id=\"T_d5d46_row1_col4\" class=\"data row1 col4\" >250</td>\n",
              "      <td id=\"T_d5d46_row1_col5\" class=\"data row1 col5\" >250</td>\n",
              "      <td id=\"T_d5d46_row1_col6\" class=\"data row1 col6\" >250</td>\n",
              "      <td id=\"T_d5d46_row1_col7\" class=\"data row1 col7\" >252</td>\n",
              "    </tr>\n",
              "    <tr>\n",
              "      <th id=\"T_d5d46_level0_row2\" class=\"row_heading level0 row2\" >2</th>\n",
              "      <td id=\"T_d5d46_row2_col0\" class=\"data row2 col0\" >29</td>\n",
              "      <td id=\"T_d5d46_row2_col1\" class=\"data row2 col1\" >30</td>\n",
              "      <td id=\"T_d5d46_row2_col2\" class=\"data row2 col2\" >49</td>\n",
              "      <td id=\"T_d5d46_row2_col3\" class=\"data row2 col3\" >49</td>\n",
              "      <td id=\"T_d5d46_row2_col4\" class=\"data row2 col4\" >49</td>\n",
              "      <td id=\"T_d5d46_row2_col5\" class=\"data row2 col5\" >49</td>\n",
              "      <td id=\"T_d5d46_row2_col6\" class=\"data row2 col6\" >49</td>\n",
              "      <td id=\"T_d5d46_row2_col7\" class=\"data row2 col7\" >49</td>\n",
              "    </tr>\n",
              "    <tr>\n",
              "      <th id=\"T_d5d46_level0_row3\" class=\"row_heading level0 row3\" >3</th>\n",
              "      <td id=\"T_d5d46_row3_col0\" class=\"data row3 col0\" >0</td>\n",
              "      <td id=\"T_d5d46_row3_col1\" class=\"data row3 col1\" >0</td>\n",
              "      <td id=\"T_d5d46_row3_col2\" class=\"data row3 col2\" >0</td>\n",
              "      <td id=\"T_d5d46_row3_col3\" class=\"data row3 col3\" >0</td>\n",
              "      <td id=\"T_d5d46_row3_col4\" class=\"data row3 col4\" >0</td>\n",
              "      <td id=\"T_d5d46_row3_col5\" class=\"data row3 col5\" >0</td>\n",
              "      <td id=\"T_d5d46_row3_col6\" class=\"data row3 col6\" >0</td>\n",
              "      <td id=\"T_d5d46_row3_col7\" class=\"data row3 col7\" >11</td>\n",
              "    </tr>\n",
              "    <tr>\n",
              "      <th id=\"T_d5d46_level0_row4\" class=\"row_heading level0 row4\" >4</th>\n",
              "      <td id=\"T_d5d46_row4_col0\" class=\"data row4 col0\" >0</td>\n",
              "      <td id=\"T_d5d46_row4_col1\" class=\"data row4 col1\" >0</td>\n",
              "      <td id=\"T_d5d46_row4_col2\" class=\"data row4 col2\" >0</td>\n",
              "      <td id=\"T_d5d46_row4_col3\" class=\"data row4 col3\" >0</td>\n",
              "      <td id=\"T_d5d46_row4_col4\" class=\"data row4 col4\" >0</td>\n",
              "      <td id=\"T_d5d46_row4_col5\" class=\"data row4 col5\" >0</td>\n",
              "      <td id=\"T_d5d46_row4_col6\" class=\"data row4 col6\" >0</td>\n",
              "      <td id=\"T_d5d46_row4_col7\" class=\"data row4 col7\" >51</td>\n",
              "    </tr>\n",
              "    <tr>\n",
              "      <th id=\"T_d5d46_level0_row5\" class=\"row_heading level0 row5\" >5</th>\n",
              "      <td id=\"T_d5d46_row5_col0\" class=\"data row5 col0\" >0</td>\n",
              "      <td id=\"T_d5d46_row5_col1\" class=\"data row5 col1\" >0</td>\n",
              "      <td id=\"T_d5d46_row5_col2\" class=\"data row5 col2\" >0</td>\n",
              "      <td id=\"T_d5d46_row5_col3\" class=\"data row5 col3\" >0</td>\n",
              "      <td id=\"T_d5d46_row5_col4\" class=\"data row5 col4\" >0</td>\n",
              "      <td id=\"T_d5d46_row5_col5\" class=\"data row5 col5\" >0</td>\n",
              "      <td id=\"T_d5d46_row5_col6\" class=\"data row5 col6\" >0</td>\n",
              "      <td id=\"T_d5d46_row5_col7\" class=\"data row5 col7\" >172</td>\n",
              "    </tr>\n",
              "    <tr>\n",
              "      <th id=\"T_d5d46_level0_row6\" class=\"row_heading level0 row6\" >6</th>\n",
              "      <td id=\"T_d5d46_row6_col0\" class=\"data row6 col0\" >0</td>\n",
              "      <td id=\"T_d5d46_row6_col1\" class=\"data row6 col1\" >0</td>\n",
              "      <td id=\"T_d5d46_row6_col2\" class=\"data row6 col2\" >0</td>\n",
              "      <td id=\"T_d5d46_row6_col3\" class=\"data row6 col3\" >0</td>\n",
              "      <td id=\"T_d5d46_row6_col4\" class=\"data row6 col4\" >0</td>\n",
              "      <td id=\"T_d5d46_row6_col5\" class=\"data row6 col5\" >0</td>\n",
              "      <td id=\"T_d5d46_row6_col6\" class=\"data row6 col6\" >0</td>\n",
              "      <td id=\"T_d5d46_row6_col7\" class=\"data row6 col7\" >252</td>\n",
              "    </tr>\n",
              "    <tr>\n",
              "      <th id=\"T_d5d46_level0_row7\" class=\"row_heading level0 row7\" >7</th>\n",
              "      <td id=\"T_d5d46_row7_col0\" class=\"data row7 col0\" >0</td>\n",
              "      <td id=\"T_d5d46_row7_col1\" class=\"data row7 col1\" >0</td>\n",
              "      <td id=\"T_d5d46_row7_col2\" class=\"data row7 col2\" >0</td>\n",
              "      <td id=\"T_d5d46_row7_col3\" class=\"data row7 col3\" >0</td>\n",
              "      <td id=\"T_d5d46_row7_col4\" class=\"data row7 col4\" >0</td>\n",
              "      <td id=\"T_d5d46_row7_col5\" class=\"data row7 col5\" >31</td>\n",
              "      <td id=\"T_d5d46_row7_col6\" class=\"data row7 col6\" >213</td>\n",
              "      <td id=\"T_d5d46_row7_col7\" class=\"data row7 col7\" >254</td>\n",
              "    </tr>\n",
              "  </tbody>\n",
              "</table>\n"
            ],
            "text/plain": [
              "<pandas.io.formats.style.Styler at 0x7f9a50815a90>"
            ]
          },
          "metadata": {},
          "execution_count": 178
        }
      ]
    },
    {
      "cell_type": "code",
      "source": [
        "threes_tensor =  [tensor(Image.open(o)) for o in(threes) ]  "
      ],
      "metadata": {
        "id": "CXMXy2G30nNK"
      },
      "execution_count": 179,
      "outputs": []
    },
    {
      "cell_type": "code",
      "source": [
        "seven_tensor = [tensor(Image.open(o)) for o in(sevens)]"
      ],
      "metadata": {
        "id": "efK0xa7-2aLz"
      },
      "execution_count": 180,
      "outputs": []
    },
    {
      "cell_type": "code",
      "source": [
        "!pip install torchvision"
      ],
      "metadata": {
        "id": "3xi0oi3h2h4E",
        "outputId": "b964df7e-3f63-4b37-cde8-9d03acb7ee03",
        "colab": {
          "base_uri": "https://localhost:8080/"
        }
      },
      "execution_count": 181,
      "outputs": [
        {
          "output_type": "stream",
          "name": "stdout",
          "text": [
            "Requirement already satisfied: torchvision in /usr/local/lib/python3.7/dist-packages (0.11.1+cu111)\n",
            "Requirement already satisfied: pillow!=8.3.0,>=5.3.0 in /usr/local/lib/python3.7/dist-packages (from torchvision) (7.1.2)\n",
            "Requirement already satisfied: torch==1.10.0 in /usr/local/lib/python3.7/dist-packages (from torchvision) (1.10.0+cu111)\n",
            "Requirement already satisfied: numpy in /usr/local/lib/python3.7/dist-packages (from torchvision) (1.21.5)\n",
            "Requirement already satisfied: typing-extensions in /usr/local/lib/python3.7/dist-packages (from torch==1.10.0->torchvision) (3.10.0.2)\n"
          ]
        }
      ]
    },
    {
      "cell_type": "code",
      "source": [
        "stack_threes = torch.stack( threes_tensor).float() /255"
      ],
      "metadata": {
        "id": "ZkDvIId72zVi"
      },
      "execution_count": 214,
      "outputs": []
    },
    {
      "cell_type": "code",
      "source": [
        ""
      ],
      "metadata": {
        "id": "a7RnhIqjG2nP"
      },
      "execution_count": null,
      "outputs": []
    },
    {
      "cell_type": "code",
      "source": [
        "stack_sevens = torch.stack(seven_tensor) .float() /255"
      ],
      "metadata": {
        "id": "U3XJY_ap28FH"
      },
      "execution_count": 215,
      "outputs": []
    },
    {
      "cell_type": "code",
      "source": [
        ""
      ],
      "metadata": {
        "id": "c53-YhxRG4Wm"
      },
      "execution_count": null,
      "outputs": []
    },
    {
      "cell_type": "code",
      "source": [
        "valid_3_tens = torch.stack(threes_tensor)\n"
      ],
      "metadata": {
        "id": "lU7LENBB3As7"
      },
      "execution_count": 216,
      "outputs": []
    },
    {
      "cell_type": "code",
      "source": [
        "valid_3_tens = valid_3_tens"
      ],
      "metadata": {
        "id": "9B0BOs3Y9gs2"
      },
      "execution_count": 185,
      "outputs": []
    },
    {
      "cell_type": "code",
      "source": [
        ""
      ],
      "metadata": {
        "id": "HdIrwOEI9jgp"
      },
      "execution_count": 185,
      "outputs": []
    },
    {
      "cell_type": "code",
      "source": [
        "valid_7_tens = torch.stack(seven_tensor)"
      ],
      "metadata": {
        "id": "L_lrCKPG3onU"
      },
      "execution_count": 217,
      "outputs": []
    },
    {
      "cell_type": "code",
      "source": [
        "valid_7_tens = valid_7_tens"
      ],
      "metadata": {
        "id": "wZbg-HcV9kD2"
      },
      "execution_count": 218,
      "outputs": []
    },
    {
      "cell_type": "code",
      "source": [
        ""
      ],
      "metadata": {
        "id": "K8qdAmXT9nIO"
      },
      "execution_count": 187,
      "outputs": []
    },
    {
      "cell_type": "code",
      "source": [
        "train_x = torch.cat([stack_threes, stack_sevens]).view(-1, 28 * 28) \n"
      ],
      "metadata": {
        "id": "MpXNX01c3u2k"
      },
      "execution_count": 219,
      "outputs": []
    },
    {
      "cell_type": "code",
      "source": [
        "train_x[0]"
      ],
      "metadata": {
        "id": "cyahvpj1F4eJ",
        "outputId": "b0c9eb57-09c2-4cd4-8258-7724d2dc1022",
        "colab": {
          "base_uri": "https://localhost:8080/"
        }
      },
      "execution_count": 220,
      "outputs": [
        {
          "output_type": "execute_result",
          "data": {
            "text/plain": [
              "tensor([0.0000, 0.0000, 0.0000, 0.0000, 0.0000, 0.0000, 0.0000, 0.0000, 0.0000, 0.0000, 0.0000, 0.0000, 0.0000, 0.0000, 0.0000, 0.0000, 0.0000, 0.0000, 0.0000, 0.0000, 0.0000, 0.0000, 0.0000, 0.0000,\n",
              "        0.0000, 0.0000, 0.0000, 0.0000, 0.0000, 0.0000, 0.0000, 0.0000, 0.0000, 0.0000, 0.0000, 0.0000, 0.0000, 0.0000, 0.0000, 0.0000, 0.0000, 0.0000, 0.0000, 0.0000, 0.0000, 0.0000, 0.0000, 0.0000,\n",
              "        0.0000, 0.0000, 0.0000, 0.0000, 0.0000, 0.0000, 0.0000, 0.0000, 0.0000, 0.0000, 0.0000, 0.0000, 0.0000, 0.0000, 0.0000, 0.0000, 0.0000, 0.0000, 0.0000, 0.0000, 0.0000, 0.0000, 0.0000, 0.0000,\n",
              "        0.0000, 0.0000, 0.0000, 0.0000, 0.0000, 0.0000, 0.0000, 0.0000, 0.0000, 0.0000, 0.0000, 0.0000, 0.0000, 0.0000, 0.0000, 0.0000, 0.0000, 0.0000, 0.0000, 0.0000, 0.0000, 0.0000, 0.0000, 0.0000,\n",
              "        0.0000, 0.0000, 0.0000, 0.0000, 0.0000, 0.0000, 0.0000, 0.0000, 0.0000, 0.0000, 0.0000, 0.0000, 0.0000, 0.0000, 0.0000, 0.0000, 0.0000, 0.0000, 0.0000, 0.0000, 0.0000, 0.0000, 0.0000, 0.0000,\n",
              "        0.0000, 0.0000, 0.0000, 0.1647, 0.4627, 0.8588, 0.6510, 0.4627, 0.4627, 0.0235, 0.0000, 0.0000, 0.0000, 0.0000, 0.0000, 0.0000, 0.0000, 0.0000, 0.0000, 0.0000, 0.0000, 0.0000, 0.0000, 0.0000,\n",
              "        0.0000, 0.0000, 0.0000, 0.0000, 0.0000, 0.0000, 0.4039, 0.9490, 0.9961, 0.9961, 0.9961, 0.9961, 0.9961, 0.2588, 0.0000, 0.0000, 0.0000, 0.0000, 0.0000, 0.0000, 0.0000, 0.0000, 0.0000, 0.0000,\n",
              "        0.0000, 0.0000, 0.0000, 0.0000, 0.0000, 0.0000, 0.0000, 0.0000, 0.0000, 0.0000, 0.0706, 0.9098, 0.9961, 0.9961, 0.9961, 0.9961, 0.9961, 0.9333, 0.2745, 0.0000, 0.0000, 0.0000, 0.0000, 0.0000,\n",
              "        0.0000, 0.0000, 0.0000, 0.0000, 0.0000, 0.0000, 0.0000, 0.0000, 0.0000, 0.0000, 0.0000, 0.0000, 0.0000, 0.0000, 0.0000, 0.4078, 0.9569, 0.9961, 0.8784, 0.9961, 0.9961, 0.9961, 0.5529, 0.0000,\n",
              "        0.0000, 0.0000, 0.0000, 0.0000, 0.0000, 0.0000, 0.0000, 0.0000, 0.0000, 0.0000, 0.0000, 0.0000, 0.0000, 0.0000, 0.0000, 0.0000, 0.0000, 0.0000, 0.0000, 0.0000, 0.8118, 0.9961, 0.8235, 0.9961,\n",
              "        0.9961, 0.9961, 0.1333, 0.0000, 0.0000, 0.0000, 0.0000, 0.0000, 0.0000, 0.0000, 0.0000, 0.0000, 0.0000, 0.0000, 0.0000, 0.0000, 0.0000, 0.0000, 0.0000, 0.0000, 0.0000, 0.0000, 0.0000, 0.0000,\n",
              "        0.3294, 0.8078, 0.9961, 0.9961, 0.9961, 0.9961, 0.1608, 0.0000, 0.0000, 0.0000, 0.0000, 0.0000, 0.0000, 0.0000, 0.0000, 0.0000, 0.0000, 0.0000, 0.0000, 0.0000, 0.0000, 0.0000, 0.0000, 0.0000,\n",
              "        0.0000, 0.0000, 0.0000, 0.0000, 0.0000, 0.0941, 0.8196, 0.9961, 0.9961, 0.9961, 0.6706, 0.0000, 0.0000, 0.0000, 0.0000, 0.0000, 0.0000, 0.0000, 0.0000, 0.0000, 0.0000, 0.0000, 0.0000, 0.0000,\n",
              "        0.0000, 0.0000, 0.0000, 0.0000, 0.0000, 0.0000, 0.0000, 0.0000, 0.3569, 0.5373, 0.9922, 0.9961, 0.9961, 0.9961, 0.4392, 0.0000, 0.0000, 0.0000, 0.0000, 0.0000, 0.0000, 0.0000, 0.0000, 0.0000,\n",
              "        0.0000, 0.0000, 0.0000, 0.0000, 0.0000, 0.0000, 0.0000, 0.0000, 0.0000, 0.0000, 0.1569, 0.8392, 0.9804, 0.9961, 0.9961, 0.9961, 0.9961, 0.9961, 0.1333, 0.0000, 0.0000, 0.0000, 0.0000, 0.0000,\n",
              "        0.0000, 0.0000, 0.0000, 0.0000, 0.0000, 0.0000, 0.0000, 0.0000, 0.0000, 0.0000, 0.0000, 0.0000, 0.0000, 0.0000, 0.3176, 0.9686, 0.9961, 0.9961, 0.9961, 0.9961, 0.9961, 0.9961, 0.5725, 0.0000,\n",
              "        0.0000, 0.0000, 0.0000, 0.0000, 0.0000, 0.0000, 0.0000, 0.0000, 0.0000, 0.0000, 0.0000, 0.0000, 0.0000, 0.0000, 0.0000, 0.0000, 0.0000, 0.0000, 0.0000, 0.4314, 0.9647, 0.9961, 0.9961, 0.9961,\n",
              "        0.9961, 0.9961, 0.6706, 0.0000, 0.0000, 0.0000, 0.0000, 0.0000, 0.0000, 0.0000, 0.0000, 0.0000, 0.0000, 0.0000, 0.0000, 0.0000, 0.0000, 0.0000, 0.0000, 0.0000, 0.0000, 0.0000, 0.0000, 0.0000,\n",
              "        0.2863, 0.3490, 0.3490, 0.3647, 0.9412, 0.9961, 0.6706, 0.0000, 0.0000, 0.0000, 0.0000, 0.0000, 0.0000, 0.0000, 0.0000, 0.0000, 0.0000, 0.0000, 0.0000, 0.0000, 0.0000, 0.0000, 0.0000, 0.0000,\n",
              "        0.0000, 0.0000, 0.0000, 0.0000, 0.0000, 0.0000, 0.0000, 0.0039, 0.5020, 0.9961, 0.8588, 0.1216, 0.0000, 0.0000, 0.0000, 0.0000, 0.0000, 0.0000, 0.0000, 0.0000, 0.0000, 0.0000, 0.0000, 0.0000,\n",
              "        0.0000, 0.0000, 0.0000, 0.0000, 0.0000, 0.0000, 0.0000, 0.0000, 0.0000, 0.0000, 0.0000, 0.0275, 0.9961, 0.9961, 0.8392, 0.1098, 0.0000, 0.0000, 0.0000, 0.0000, 0.0000, 0.0000, 0.0000, 0.0000,\n",
              "        0.0000, 0.0000, 0.0000, 0.0000, 0.0000, 0.0000, 0.0000, 0.0000, 0.0000, 0.0000, 0.0000, 0.0000, 0.0000, 0.0000, 0.0000, 0.5412, 0.9961, 0.9961, 0.4549, 0.0000, 0.0000, 0.0000, 0.0000, 0.0000,\n",
              "        0.0000, 0.0000, 0.0000, 0.0000, 0.0000, 0.0000, 0.0000, 0.0000, 0.0000, 0.0000, 0.0745, 0.6941, 0.3529, 0.0000, 0.0000, 0.0000, 0.0000, 0.0000, 0.0980, 0.9412, 0.9961, 0.9961, 0.1333, 0.0000,\n",
              "        0.0000, 0.0000, 0.0000, 0.0000, 0.0000, 0.0000, 0.0000, 0.0000, 0.0000, 0.0000, 0.0000, 0.0000, 0.0000, 0.0000, 0.6431, 0.9961, 0.8431, 0.2471, 0.1412, 0.0000, 0.2000, 0.3490, 0.8078, 0.9961,\n",
              "        0.9961, 0.5451, 0.0314, 0.0000, 0.0000, 0.0000, 0.0000, 0.0000, 0.0000, 0.0000, 0.0000, 0.0000, 0.0000, 0.0000, 0.0000, 0.0000, 0.0000, 0.0000, 0.2235, 0.7725, 0.9961, 0.9961, 0.8706, 0.7059,\n",
              "        0.9451, 0.9961, 0.9961, 0.9922, 0.8353, 0.0431, 0.0000, 0.0000, 0.0000, 0.0000, 0.0000, 0.0000, 0.0000, 0.0000, 0.0000, 0.0000, 0.0000, 0.0000, 0.0000, 0.0000, 0.0000, 0.0000, 0.0000, 0.5490,\n",
              "        0.4118, 0.9961, 0.9961, 0.9961, 0.9961, 0.9961, 0.9961, 0.9255, 0.0000, 0.0000, 0.0000, 0.0000, 0.0000, 0.0000, 0.0000, 0.0000, 0.0000, 0.0000, 0.0000, 0.0000, 0.0000, 0.0000, 0.0000, 0.0000,\n",
              "        0.0000, 0.0000, 0.0000, 0.0000, 0.0275, 0.4588, 0.4588, 0.6471, 0.9961, 0.9961, 0.9373, 0.1961, 0.0000, 0.0000, 0.0000, 0.0000, 0.0000, 0.0000, 0.0000, 0.0000, 0.0000, 0.0000, 0.0000, 0.0000,\n",
              "        0.0000, 0.0000, 0.0000, 0.0000, 0.0000, 0.0000, 0.0000, 0.0000, 0.0000, 0.0000, 0.0000, 0.0000, 0.0000, 0.0000, 0.0000, 0.0000, 0.0000, 0.0000, 0.0000, 0.0000, 0.0000, 0.0000, 0.0000, 0.0000,\n",
              "        0.0000, 0.0000, 0.0000, 0.0000, 0.0000, 0.0000, 0.0000, 0.0000, 0.0000, 0.0000, 0.0000, 0.0000, 0.0000, 0.0000, 0.0000, 0.0000, 0.0000, 0.0000, 0.0000, 0.0000, 0.0000, 0.0000, 0.0000, 0.0000,\n",
              "        0.0000, 0.0000, 0.0000, 0.0000, 0.0000, 0.0000, 0.0000, 0.0000, 0.0000, 0.0000, 0.0000, 0.0000, 0.0000, 0.0000, 0.0000, 0.0000, 0.0000, 0.0000, 0.0000, 0.0000, 0.0000, 0.0000, 0.0000, 0.0000,\n",
              "        0.0000, 0.0000, 0.0000, 0.0000, 0.0000, 0.0000, 0.0000, 0.0000, 0.0000, 0.0000, 0.0000, 0.0000, 0.0000, 0.0000, 0.0000, 0.0000, 0.0000, 0.0000, 0.0000, 0.0000, 0.0000, 0.0000, 0.0000, 0.0000,\n",
              "        0.0000, 0.0000, 0.0000, 0.0000, 0.0000, 0.0000, 0.0000, 0.0000, 0.0000, 0.0000, 0.0000, 0.0000, 0.0000, 0.0000, 0.0000, 0.0000])"
            ]
          },
          "metadata": {},
          "execution_count": 220
        }
      ]
    },
    {
      "cell_type": "code",
      "source": [
        ""
      ],
      "metadata": {
        "id": "IFxymCL8F9GX"
      },
      "execution_count": null,
      "outputs": []
    },
    {
      "cell_type": "code",
      "source": [
        ""
      ],
      "metadata": {
        "id": "m8iVM3gLF5z4"
      },
      "execution_count": null,
      "outputs": []
    },
    {
      "cell_type": "code",
      "source": [
        "train_y = tensor([1] * len(threes) + [0] * len(sevens)).unsqueeze(1)"
      ],
      "metadata": {
        "id": "fekagKci7K6M"
      },
      "execution_count": 221,
      "outputs": []
    },
    {
      "cell_type": "code",
      "source": [
        "dset = list(zip(train_x, train_y))"
      ],
      "metadata": {
        "id": "jQNK422S7feJ"
      },
      "execution_count": 222,
      "outputs": []
    },
    {
      "cell_type": "code",
      "source": [
        "x,y = dset[0]"
      ],
      "metadata": {
        "id": "BOm5ns6i7vOS"
      },
      "execution_count": 223,
      "outputs": []
    },
    {
      "cell_type": "code",
      "source": [
        "x.shape"
      ],
      "metadata": {
        "id": "fhO2gywM8PHC",
        "outputId": "9ef068ab-0d26-4a09-db0b-10b81a1f1291",
        "colab": {
          "base_uri": "https://localhost:8080/"
        }
      },
      "execution_count": 224,
      "outputs": [
        {
          "output_type": "execute_result",
          "data": {
            "text/plain": [
              "torch.Size([784])"
            ]
          },
          "metadata": {},
          "execution_count": 224
        }
      ]
    },
    {
      "cell_type": "code",
      "source": [
        "y.shape"
      ],
      "metadata": {
        "id": "wzOtdqaZ8RGu",
        "outputId": "8c65b410-1a55-4e63-8207-4c5e748bc739",
        "colab": {
          "base_uri": "https://localhost:8080/"
        }
      },
      "execution_count": 225,
      "outputs": [
        {
          "output_type": "execute_result",
          "data": {
            "text/plain": [
              "torch.Size([1])"
            ]
          },
          "metadata": {},
          "execution_count": 225
        }
      ]
    },
    {
      "cell_type": "code",
      "source": [
        "#The validation set\n",
        "valid_x = torch.cat([valid_3_tens, valid_7_tens]).view(-1,28 * 28 )"
      ],
      "metadata": {
        "id": "ZLcNPymp8Sql"
      },
      "execution_count": 226,
      "outputs": []
    },
    {
      "cell_type": "code",
      "source": [
        "valid_y = tensor([1] * len(valid_3_tens) + [0] * len(valid_7_tens))"
      ],
      "metadata": {
        "id": "b_lFUCSN8w5o"
      },
      "execution_count": 227,
      "outputs": []
    },
    {
      "cell_type": "code",
      "source": [
        "validDset = list(zip(valid_x, valid_y))"
      ],
      "metadata": {
        "id": "1jYq4YKz87ym"
      },
      "execution_count": 228,
      "outputs": []
    },
    {
      "cell_type": "code",
      "source": [
        "x,y = validDset[0] "
      ],
      "metadata": {
        "id": "K5AwcpU69PGv"
      },
      "execution_count": 229,
      "outputs": []
    },
    {
      "cell_type": "code",
      "source": [
        "x.shape"
      ],
      "metadata": {
        "id": "PNABVlJY9XoM",
        "outputId": "fb77b74f-61d1-406a-b517-b4fb0a564fb6",
        "colab": {
          "base_uri": "https://localhost:8080/"
        }
      },
      "execution_count": 230,
      "outputs": [
        {
          "output_type": "execute_result",
          "data": {
            "text/plain": [
              "torch.Size([784])"
            ]
          },
          "metadata": {},
          "execution_count": 230
        }
      ]
    },
    {
      "cell_type": "code",
      "source": [
        "def init_params(size, std=1.0):\n",
        "  return (torch.randn(size) * std).requires_grad_()"
      ],
      "metadata": {
        "id": "epVGKFC19Yu-"
      },
      "execution_count": 231,
      "outputs": []
    },
    {
      "cell_type": "code",
      "source": [
        "weights = init_params((28 * 28,1))"
      ],
      "metadata": {
        "id": "vR0bCw-b-Fcj"
      },
      "execution_count": 232,
      "outputs": []
    },
    {
      "cell_type": "code",
      "source": [
        "bias = init_params(1)"
      ],
      "metadata": {
        "id": "EO16NUpR-Qey"
      },
      "execution_count": 233,
      "outputs": []
    },
    {
      "cell_type": "code",
      "source": [
        "prediction = (train_x[0]*weights).sum() + bias\n",
        "#The equation y = wx +b  the w is the weights and the b is the bias the x are the input values or independent variable and y is the predicted value\n"
      ],
      "metadata": {
        "id": "7G6q_3Pk-d3L"
      },
      "execution_count": 234,
      "outputs": []
    },
    {
      "cell_type": "code",
      "source": [
        "prediction"
      ],
      "metadata": {
        "id": "E9NSmUEk_Iaa",
        "outputId": "b119703c-8eaf-472b-8ed1-b3a155e0ea89",
        "colab": {
          "base_uri": "https://localhost:8080/"
        }
      },
      "execution_count": 235,
      "outputs": [
        {
          "output_type": "execute_result",
          "data": {
            "text/plain": [
              "tensor([3754.4460], grad_fn=<AddBackward0>)"
            ]
          },
          "metadata": {},
          "execution_count": 235
        }
      ]
    },
    {
      "cell_type": "code",
      "source": [
        "#Matrix multiplication in python \n",
        "def linear1(xb):return xb@weights + bias\n",
        "#This function is equal to z = wx + bias  or  the sum of the weights w  with dot product of the inputs x plus the bias "
      ],
      "metadata": {
        "id": "Ho3wacXU_J9E"
      },
      "execution_count": 236,
      "outputs": []
    },
    {
      "cell_type": "code",
      "source": [
        "prediction = linear1(train_x)"
      ],
      "metadata": {
        "id": "aTFOmb0gEssE"
      },
      "execution_count": 239,
      "outputs": []
    },
    {
      "cell_type": "code",
      "source": [
        "prediction "
      ],
      "metadata": {
        "id": "qvEt2D6SHQB0",
        "outputId": "73c7c278-243f-48c2-8c5e-a1dbc1fd5ba4",
        "colab": {
          "base_uri": "https://localhost:8080/"
        }
      },
      "execution_count": 240,
      "outputs": [
        {
          "output_type": "execute_result",
          "data": {
            "text/plain": [
              "tensor([[ 7.2238],\n",
              "        [21.8974],\n",
              "        [ 9.3244],\n",
              "        ...,\n",
              "        [ 7.7794],\n",
              "        [ 8.8263],\n",
              "        [-1.1484]], grad_fn=<AddBackward0>)"
            ]
          },
          "metadata": {},
          "execution_count": 240
        }
      ]
    },
    {
      "cell_type": "code",
      "source": [
        "#The fundamental equation of any neural network us batch * the weight  plus the bias or weighted sum of weights w times the input x plus the bias\n"
      ],
      "metadata": {
        "id": "bLlJbUpnHtLZ"
      },
      "execution_count": null,
      "outputs": []
    },
    {
      "cell_type": "code",
      "source": [
        "#Checking the accuracy of our network \n",
        "correct = (prediction>0.0) == train_y"
      ],
      "metadata": {
        "id": "aLnpnmKFHqG0"
      },
      "execution_count": 241,
      "outputs": []
    },
    {
      "cell_type": "code",
      "source": [
        "correct"
      ],
      "metadata": {
        "id": "IxSgP2sSI54f",
        "outputId": "7b11dca7-b347-407d-933d-12b1b5925774",
        "colab": {
          "base_uri": "https://localhost:8080/"
        }
      },
      "execution_count": 242,
      "outputs": [
        {
          "output_type": "execute_result",
          "data": {
            "text/plain": [
              "tensor([[ True],\n",
              "        [ True],\n",
              "        [ True],\n",
              "        ...,\n",
              "        [False],\n",
              "        [False],\n",
              "        [ True]])"
            ]
          },
          "metadata": {},
          "execution_count": 242
        }
      ]
    },
    {
      "cell_type": "code",
      "source": [
        "correct.float().mean().item()"
      ],
      "metadata": {
        "id": "BZYVtUU9I7mh",
        "outputId": "04a72bfe-c45f-4453-98c4-4786db66ff2a",
        "colab": {
          "base_uri": "https://localhost:8080/"
        }
      },
      "execution_count": 244,
      "outputs": [
        {
          "output_type": "execute_result",
          "data": {
            "text/plain": [
              "0.514924168586731"
            ]
          },
          "metadata": {},
          "execution_count": 244
        }
      ]
    },
    {
      "cell_type": "code",
      "source": [
        "targets = tensor([1,0,1])"
      ],
      "metadata": {
        "id": "SC75kZjDJH_p"
      },
      "execution_count": 245,
      "outputs": []
    },
    {
      "cell_type": "code",
      "source": [
        "predictions = tensor([0.9, 0.4, 0.2])"
      ],
      "metadata": {
        "id": "9y0A66lXOlfq"
      },
      "execution_count": 246,
      "outputs": []
    },
    {
      "cell_type": "code",
      "source": [
        "def mnist_loss(targets,predictions):\n",
        "  return torch.where(targets==1, 1-predictions, predictions).mean()"
      ],
      "metadata": {
        "id": "ihrY8JsEOsWX"
      },
      "execution_count": 249,
      "outputs": []
    },
    {
      "cell_type": "code",
      "source": [
        "mnist_loss(targets, predictions)"
      ],
      "metadata": {
        "id": "UXnx86COO8_U",
        "outputId": "cba9c80e-2584-4874-e72b-bd5327aeb902",
        "colab": {
          "base_uri": "https://localhost:8080/"
        }
      },
      "execution_count": 250,
      "outputs": [
        {
          "output_type": "execute_result",
          "data": {
            "text/plain": [
              "tensor(0.4333)"
            ]
          },
          "metadata": {},
          "execution_count": 250
        }
      ]
    },
    {
      "cell_type": "code",
      "source": [
        "help(torch.where)"
      ],
      "metadata": {
        "id": "zjm7Pq0cPDk_"
      },
      "execution_count": null,
      "outputs": []
    },
    {
      "cell_type": "code",
      "source": [
        "#Sigmoid function always ouputs a number between zero and one \n",
        "\n",
        "plot_function(torch.sigmoid, min=-4, max=4)"
      ],
      "metadata": {
        "id": "u8FsQSxUPebb",
        "outputId": "1b691029-4516-4d20-d9de-5214219ff99f",
        "colab": {
          "base_uri": "https://localhost:8080/",
          "height": 323
        }
      },
      "execution_count": 252,
      "outputs": [
        {
          "output_type": "stream",
          "name": "stderr",
          "text": [
            "/usr/local/lib/python3.7/dist-packages/fastbook/__init__.py:74: UserWarning: Not providing a value for linspace's steps is deprecated and will throw a runtime error in a future release. This warning will appear only once per process. (Triggered internally at  ../aten/src/ATen/native/RangeFactories.cpp:23.)\n",
            "  x = torch.linspace(min,max)\n"
          ]
        },
        {
          "output_type": "display_data",
          "data": {
            "image/png": "[encoded data removed]",
            "text/plain": [
              "<Figure size 432x288 with 1 Axes>"
            ]
          },
          "metadata": {
            "needs_background": "light"
          }
        }
      ]
    },
    {
      "cell_type": "code",
      "source": [
        "#Sigmoid function\n",
        "def sigmoid(x): return (1/ (1+ torch.exp(-x)))"
      ],
      "metadata": {
        "id": "O72SoDkpRZdu"
      },
      "execution_count": 254,
      "outputs": []
    },
    {
      "cell_type": "code",
      "source": [
        "def mnist_loss(targets, predictions):\n",
        "  predictions = predictions.sigmoid()\n",
        "  return torch.where(targets ==1, 1 - predictions, predictions).mean()"
      ],
      "metadata": {
        "id": "Ey9xdYoDSbRd"
      },
      "execution_count": 257,
      "outputs": []
    },
    {
      "cell_type": "code",
      "source": [
        ""
      ],
      "metadata": {
        "id": "a5_764LWS81V"
      },
      "execution_count": null,
      "outputs": []
    },
    {
      "cell_type": "code",
      "source": [
        ""
      ],
      "metadata": {
        "id": "7pw2kC_qS5d4"
      },
      "execution_count": null,
      "outputs": []
    },
    {
      "cell_type": "code",
      "source": [
        ""
      ],
      "metadata": {
        "id": "rCHquHwdS3gf"
      },
      "execution_count": null,
      "outputs": []
    },
    {
      "cell_type": "code",
      "source": [
        ""
      ],
      "metadata": {
        "id": "RifySs-KSEw4"
      },
      "execution_count": null,
      "outputs": []
    },
    {
      "cell_type": "code",
      "source": [
        ""
      ],
      "metadata": {
        "id": "RoX4mTg2HTeg"
      },
      "execution_count": null,
      "outputs": []
    }
  ]
}