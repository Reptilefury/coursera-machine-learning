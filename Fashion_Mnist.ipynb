{
  "nbformat": 4,
  "nbformat_minor": 0,
  "metadata": {
    "colab": {
      "name": "Fashion_Mnist.ipynb",
      "provenance": [],
      "collapsed_sections": [],
      "authorship_tag": "ABX9TyPf6KTDHTU35xdWxHemkzxB",
      "include_colab_link": true
    },
    "kernelspec": {
      "name": "python3",
      "display_name": "Python 3"
    },
    "language_info": {
      "name": "python"
    },
    "accelerator": "GPU"
  },
  "cells": [
    {
      "cell_type": "markdown",
      "metadata": {
        "id": "view-in-github",
        "colab_type": "text"
      },
      "source": [
        "<a href=\"https://colab.research.google.com/github/Reptilefury/coursera-machine-learning/blob/main/Fashion_Mnist.ipynb\" target=\"_parent\"><img src=\"https://colab.research.google.com/assets/colab-badge.svg\" alt=\"Open In Colab\"/></a>"
      ]
    },
    {
      "cell_type": "code",
      "source": [
        "import tensorflow as tf "
      ],
      "metadata": {
        "id": "lFqUdrFxQ-t-"
      },
      "execution_count": 1,
      "outputs": []
    },
    {
      "cell_type": "code",
      "source": [
        "from tensorflow import keras"
      ],
      "metadata": {
        "id": "GQN0HZbJRCb6"
      },
      "execution_count": 2,
      "outputs": []
    },
    {
      "cell_type": "code",
      "source": [
        "#Load fashion mnist dataset into a variable \n",
        "fashion_mnist = tf.keras.datasets.fashion_mnist\n"
      ],
      "metadata": {
        "id": "XGgmFIGsRIwH"
      },
      "execution_count": 3,
      "outputs": []
    },
    {
      "cell_type": "code",
      "source": [
        "#Split the dataset into training and testing \n",
        "(x_train_full,y_train_full) , (x_test, y_test) = fashion_mnist.load_data()"
      ],
      "metadata": {
        "id": "Dxup64NuRUlt",
        "colab": {
          "base_uri": "https://localhost:8080/"
        },
        "outputId": "45a828fb-fde2-4d50-cfa3-160939caace9"
      },
      "execution_count": 4,
      "outputs": [
        {
          "output_type": "stream",
          "name": "stdout",
          "text": [
            "Downloading data from https://storage.googleapis.com/tensorflow/tf-keras-datasets/train-labels-idx1-ubyte.gz\n",
            "32768/29515 [=================================] - 0s 0us/step\n",
            "40960/29515 [=========================================] - 0s 0us/step\n",
            "Downloading data from https://storage.googleapis.com/tensorflow/tf-keras-datasets/train-images-idx3-ubyte.gz\n",
            "26427392/26421880 [==============================] - 0s 0us/step\n",
            "26435584/26421880 [==============================] - 0s 0us/step\n",
            "Downloading data from https://storage.googleapis.com/tensorflow/tf-keras-datasets/t10k-labels-idx1-ubyte.gz\n",
            "16384/5148 [===============================================================================================] - 0s 0us/step\n",
            "Downloading data from https://storage.googleapis.com/tensorflow/tf-keras-datasets/t10k-images-idx3-ubyte.gz\n",
            "4423680/4422102 [==============================] - 0s 0us/step\n",
            "4431872/4422102 [==============================] - 0s 0us/step\n"
          ]
        }
      ]
    },
    {
      "cell_type": "code",
      "source": [
        "#We further split the  training data into validation set\n",
        "x_valid,x_train = x_train_full[:5000]/255.0, x_train_full[:5000]/255.0\n"
      ],
      "metadata": {
        "id": "N-559t6FSBsW"
      },
      "execution_count": 5,
      "outputs": []
    },
    {
      "cell_type": "code",
      "source": [
        "#Split the labeled training data into validation labeled data\n",
        "y_valid , y_train = y_train_full[:5000], y_train_full[:5000]"
      ],
      "metadata": {
        "id": "XT6ADuKcShSg"
      },
      "execution_count": 6,
      "outputs": []
    },
    {
      "cell_type": "code",
      "source": [
        "#We load our model \n",
        "model = tf.keras.models.Sequential([\n",
        "      tf.keras.layers.Flatten(input_shape =(28,28)),\n",
        "      tf.keras.layers.Dense(300, activation='relu'),\n",
        "      tf.keras.layers.Dense(100, activation='relu'),\n",
        "      tf.keras.layers.Dense(10, activation='softmax')\n",
        "      ])"
      ],
      "metadata": {
        "id": "d7AtRGdVS2m-"
      },
      "execution_count": 7,
      "outputs": []
    },
    {
      "cell_type": "code",
      "source": [
        "#get the name of the first layer in our model\n",
        "model.layers[0].name"
      ],
      "metadata": {
        "colab": {
          "base_uri": "https://localhost:8080/",
          "height": 37
        },
        "id": "igqHsQ7sTda6",
        "outputId": "b10f2214-facc-4049-9039-941f40fc5f28"
      },
      "execution_count": 8,
      "outputs": [
        {
          "output_type": "execute_result",
          "data": {
            "application/vnd.google.colaboratory.intrinsic+json": {
              "type": "string"
            },
            "text/plain": [
              "'flatten'"
            ]
          },
          "metadata": {},
          "execution_count": 8
        }
      ]
    },
    {
      "cell_type": "code",
      "source": [
        "#This is where the inputs from the images come in each pixel value from the image is a node in our first/flattened layer\n",
        "flattened1 = model.layers[0]"
      ],
      "metadata": {
        "id": "ghnx8aa4Tjru"
      },
      "execution_count": 9,
      "outputs": []
    },
    {
      "cell_type": "code",
      "source": [
        "#This is a method to get the weights of a specific layer in our model\n",
        "flattened1.get_weights()"
      ],
      "metadata": {
        "colab": {
          "base_uri": "https://localhost:8080/"
        },
        "id": "ft5n9Ys7Tpm3",
        "outputId": "4c3d06d4-a402-4656-f72f-af1de61ccf45"
      },
      "execution_count": 10,
      "outputs": [
        {
          "output_type": "execute_result",
          "data": {
            "text/plain": [
              "[]"
            ]
          },
          "metadata": {},
          "execution_count": 10
        }
      ]
    },
    {
      "cell_type": "code",
      "source": [
        "#This is the first layer in our model it has 300 neurons\n",
        "Dense_300 = model.layers[1]"
      ],
      "metadata": {
        "id": "ScH9NJeATh1u"
      },
      "execution_count": 11,
      "outputs": []
    },
    {
      "cell_type": "code",
      "source": [
        "Dense_300.get_weights()"
      ],
      "metadata": {
        "id": "ouj2K0IgTyKx",
        "colab": {
          "base_uri": "https://localhost:8080/"
        },
        "outputId": "a0210a55-715a-4805-c639-3c375dad7073"
      },
      "execution_count": 12,
      "outputs": [
        {
          "output_type": "execute_result",
          "data": {
            "text/plain": [
              "[array([[ 0.01381595, -0.01031094, -0.00575535, ..., -0.01685364,\n",
              "         -0.03679015, -0.05894557],\n",
              "        [ 0.04775075,  0.04920074,  0.00626634, ..., -0.00116988,\n",
              "         -0.03222705, -0.06850815],\n",
              "        [ 0.00576202, -0.00256385, -0.05646005, ...,  0.02982808,\n",
              "          0.0288956 , -0.07195481],\n",
              "        ...,\n",
              "        [ 0.06942908,  0.01903337,  0.00327146, ...,  0.01115129,\n",
              "          0.00668038, -0.02862833],\n",
              "        [-0.00701457,  0.01651336,  0.01703976, ..., -0.01590362,\n",
              "          0.00196766, -0.02159523],\n",
              "        [ 0.06091604, -0.04524942,  0.04662023, ..., -0.06163381,\n",
              "         -0.03927571,  0.06905967]], dtype=float32),\n",
              " array([0., 0., 0., 0., 0., 0., 0., 0., 0., 0., 0., 0., 0., 0., 0., 0., 0.,\n",
              "        0., 0., 0., 0., 0., 0., 0., 0., 0., 0., 0., 0., 0., 0., 0., 0., 0.,\n",
              "        0., 0., 0., 0., 0., 0., 0., 0., 0., 0., 0., 0., 0., 0., 0., 0., 0.,\n",
              "        0., 0., 0., 0., 0., 0., 0., 0., 0., 0., 0., 0., 0., 0., 0., 0., 0.,\n",
              "        0., 0., 0., 0., 0., 0., 0., 0., 0., 0., 0., 0., 0., 0., 0., 0., 0.,\n",
              "        0., 0., 0., 0., 0., 0., 0., 0., 0., 0., 0., 0., 0., 0., 0., 0., 0.,\n",
              "        0., 0., 0., 0., 0., 0., 0., 0., 0., 0., 0., 0., 0., 0., 0., 0., 0.,\n",
              "        0., 0., 0., 0., 0., 0., 0., 0., 0., 0., 0., 0., 0., 0., 0., 0., 0.,\n",
              "        0., 0., 0., 0., 0., 0., 0., 0., 0., 0., 0., 0., 0., 0., 0., 0., 0.,\n",
              "        0., 0., 0., 0., 0., 0., 0., 0., 0., 0., 0., 0., 0., 0., 0., 0., 0.,\n",
              "        0., 0., 0., 0., 0., 0., 0., 0., 0., 0., 0., 0., 0., 0., 0., 0., 0.,\n",
              "        0., 0., 0., 0., 0., 0., 0., 0., 0., 0., 0., 0., 0., 0., 0., 0., 0.,\n",
              "        0., 0., 0., 0., 0., 0., 0., 0., 0., 0., 0., 0., 0., 0., 0., 0., 0.,\n",
              "        0., 0., 0., 0., 0., 0., 0., 0., 0., 0., 0., 0., 0., 0., 0., 0., 0.,\n",
              "        0., 0., 0., 0., 0., 0., 0., 0., 0., 0., 0., 0., 0., 0., 0., 0., 0.,\n",
              "        0., 0., 0., 0., 0., 0., 0., 0., 0., 0., 0., 0., 0., 0., 0., 0., 0.,\n",
              "        0., 0., 0., 0., 0., 0., 0., 0., 0., 0., 0., 0., 0., 0., 0., 0., 0.,\n",
              "        0., 0., 0., 0., 0., 0., 0., 0., 0., 0., 0.], dtype=float32)]"
            ]
          },
          "metadata": {},
          "execution_count": 12
        }
      ]
    },
    {
      "cell_type": "code",
      "source": [
        "#We can split the total parameters of a layer into weights and bias \n",
        "weights, bias = Dense_300.get_weights()"
      ],
      "metadata": {
        "id": "8yl3HN6yT2QW"
      },
      "execution_count": 13,
      "outputs": []
    },
    {
      "cell_type": "code",
      "source": [
        "bias"
      ],
      "metadata": {
        "id": "mPoGFsRUT_KS",
        "colab": {
          "base_uri": "https://localhost:8080/"
        },
        "outputId": "c8853d36-11ab-4191-b781-d72919b3bf3d"
      },
      "execution_count": 14,
      "outputs": [
        {
          "output_type": "execute_result",
          "data": {
            "text/plain": [
              "array([0., 0., 0., 0., 0., 0., 0., 0., 0., 0., 0., 0., 0., 0., 0., 0., 0.,\n",
              "       0., 0., 0., 0., 0., 0., 0., 0., 0., 0., 0., 0., 0., 0., 0., 0., 0.,\n",
              "       0., 0., 0., 0., 0., 0., 0., 0., 0., 0., 0., 0., 0., 0., 0., 0., 0.,\n",
              "       0., 0., 0., 0., 0., 0., 0., 0., 0., 0., 0., 0., 0., 0., 0., 0., 0.,\n",
              "       0., 0., 0., 0., 0., 0., 0., 0., 0., 0., 0., 0., 0., 0., 0., 0., 0.,\n",
              "       0., 0., 0., 0., 0., 0., 0., 0., 0., 0., 0., 0., 0., 0., 0., 0., 0.,\n",
              "       0., 0., 0., 0., 0., 0., 0., 0., 0., 0., 0., 0., 0., 0., 0., 0., 0.,\n",
              "       0., 0., 0., 0., 0., 0., 0., 0., 0., 0., 0., 0., 0., 0., 0., 0., 0.,\n",
              "       0., 0., 0., 0., 0., 0., 0., 0., 0., 0., 0., 0., 0., 0., 0., 0., 0.,\n",
              "       0., 0., 0., 0., 0., 0., 0., 0., 0., 0., 0., 0., 0., 0., 0., 0., 0.,\n",
              "       0., 0., 0., 0., 0., 0., 0., 0., 0., 0., 0., 0., 0., 0., 0., 0., 0.,\n",
              "       0., 0., 0., 0., 0., 0., 0., 0., 0., 0., 0., 0., 0., 0., 0., 0., 0.,\n",
              "       0., 0., 0., 0., 0., 0., 0., 0., 0., 0., 0., 0., 0., 0., 0., 0., 0.,\n",
              "       0., 0., 0., 0., 0., 0., 0., 0., 0., 0., 0., 0., 0., 0., 0., 0., 0.,\n",
              "       0., 0., 0., 0., 0., 0., 0., 0., 0., 0., 0., 0., 0., 0., 0., 0., 0.,\n",
              "       0., 0., 0., 0., 0., 0., 0., 0., 0., 0., 0., 0., 0., 0., 0., 0., 0.,\n",
              "       0., 0., 0., 0., 0., 0., 0., 0., 0., 0., 0., 0., 0., 0., 0., 0., 0.,\n",
              "       0., 0., 0., 0., 0., 0., 0., 0., 0., 0., 0.], dtype=float32)"
            ]
          },
          "metadata": {},
          "execution_count": 14
        }
      ]
    },
    {
      "cell_type": "code",
      "source": [
        "weights"
      ],
      "metadata": {
        "id": "YctHGErLT_53",
        "colab": {
          "base_uri": "https://localhost:8080/"
        },
        "outputId": "3533f280-b957-457b-978f-8b2f42406040"
      },
      "execution_count": 15,
      "outputs": [
        {
          "output_type": "execute_result",
          "data": {
            "text/plain": [
              "array([[ 0.01381595, -0.01031094, -0.00575535, ..., -0.01685364,\n",
              "        -0.03679015, -0.05894557],\n",
              "       [ 0.04775075,  0.04920074,  0.00626634, ..., -0.00116988,\n",
              "        -0.03222705, -0.06850815],\n",
              "       [ 0.00576202, -0.00256385, -0.05646005, ...,  0.02982808,\n",
              "         0.0288956 , -0.07195481],\n",
              "       ...,\n",
              "       [ 0.06942908,  0.01903337,  0.00327146, ...,  0.01115129,\n",
              "         0.00668038, -0.02862833],\n",
              "       [-0.00701457,  0.01651336,  0.01703976, ..., -0.01590362,\n",
              "         0.00196766, -0.02159523],\n",
              "       [ 0.06091604, -0.04524942,  0.04662023, ..., -0.06163381,\n",
              "        -0.03927571,  0.06905967]], dtype=float32)"
            ]
          },
          "metadata": {},
          "execution_count": 15
        }
      ]
    },
    {
      "cell_type": "code",
      "source": [
        "#This is the method to get the summary of a model \n",
        "model.summary()"
      ],
      "metadata": {
        "id": "6NrDu5gGUC2G",
        "colab": {
          "base_uri": "https://localhost:8080/"
        },
        "outputId": "c62f8f69-c97d-4955-9552-93b2411ed854"
      },
      "execution_count": 16,
      "outputs": [
        {
          "output_type": "stream",
          "name": "stdout",
          "text": [
            "Model: \"sequential\"\n",
            "_________________________________________________________________\n",
            " Layer (type)                Output Shape              Param #   \n",
            "=================================================================\n",
            " flatten (Flatten)           (None, 784)               0         \n",
            "                                                                 \n",
            " dense (Dense)               (None, 300)               235500    \n",
            "                                                                 \n",
            " dense_1 (Dense)             (None, 100)               30100     \n",
            "                                                                 \n",
            " dense_2 (Dense)             (None, 10)                1010      \n",
            "                                                                 \n",
            "=================================================================\n",
            "Total params: 266,610\n",
            "Trainable params: 266,610\n",
            "Non-trainable params: 0\n",
            "_________________________________________________________________\n"
          ]
        }
      ]
    },
    {
      "cell_type": "code",
      "source": [
        "#Compile the model by settinf the hyperparameters\n",
        "#The hyperparameters in a neural network include: Number of neurons, activation functions, optimizer, learning rate, epochs,batch size\n",
        "model.compile(optimizer = 'sgd',\n",
        "              loss = 'sparse_categorical_crossentropy',\n",
        "              metrics= ['accuracy']\n",
        "              )"
      ],
      "metadata": {
        "id": "iCowsObsVY1x"
      },
      "execution_count": 17,
      "outputs": []
    },
    {
      "cell_type": "code",
      "source": [
        "#Train the model\n",
        "history= model.fit(x_train, y_train, epochs=30,validation_data=(x_valid, y_valid))"
      ],
      "metadata": {
        "id": "LWrGrfb_XCQK",
        "colab": {
          "base_uri": "https://localhost:8080/"
        },
        "outputId": "40991bf4-593a-4e26-f1e7-ddd1af39e68a"
      },
      "execution_count": 18,
      "outputs": [
        {
          "output_type": "stream",
          "name": "stdout",
          "text": [
            "Epoch 1/30\n",
            "157/157 [==============================] - 3s 7ms/step - loss: 1.5245 - accuracy: 0.5320 - val_loss: 1.0335 - val_accuracy: 0.6840\n",
            "Epoch 2/30\n",
            "157/157 [==============================] - 1s 6ms/step - loss: 0.8795 - accuracy: 0.7256 - val_loss: 0.7930 - val_accuracy: 0.7312\n",
            "Epoch 3/30\n",
            "157/157 [==============================] - 1s 6ms/step - loss: 0.7305 - accuracy: 0.7648 - val_loss: 0.6710 - val_accuracy: 0.7832\n",
            "Epoch 4/30\n",
            "157/157 [==============================] - 1s 7ms/step - loss: 0.6523 - accuracy: 0.7880 - val_loss: 0.6227 - val_accuracy: 0.7944\n",
            "Epoch 5/30\n",
            "157/157 [==============================] - 1s 6ms/step - loss: 0.6021 - accuracy: 0.7996 - val_loss: 0.6770 - val_accuracy: 0.7530\n",
            "Epoch 6/30\n",
            "157/157 [==============================] - 1s 7ms/step - loss: 0.5669 - accuracy: 0.8150 - val_loss: 0.6344 - val_accuracy: 0.7750\n",
            "Epoch 7/30\n",
            "157/157 [==============================] - 1s 6ms/step - loss: 0.5400 - accuracy: 0.8208 - val_loss: 0.5135 - val_accuracy: 0.8344\n",
            "Epoch 8/30\n",
            "157/157 [==============================] - 1s 6ms/step - loss: 0.5161 - accuracy: 0.8326 - val_loss: 0.4986 - val_accuracy: 0.8400\n",
            "Epoch 9/30\n",
            "157/157 [==============================] - 1s 8ms/step - loss: 0.5000 - accuracy: 0.8346 - val_loss: 0.5479 - val_accuracy: 0.8038\n",
            "Epoch 10/30\n",
            "157/157 [==============================] - 1s 7ms/step - loss: 0.4823 - accuracy: 0.8400 - val_loss: 0.4958 - val_accuracy: 0.8318\n",
            "Epoch 11/30\n",
            "157/157 [==============================] - 1s 7ms/step - loss: 0.4693 - accuracy: 0.8474 - val_loss: 0.4743 - val_accuracy: 0.8376\n",
            "Epoch 12/30\n",
            "157/157 [==============================] - 1s 8ms/step - loss: 0.4560 - accuracy: 0.8492 - val_loss: 0.4971 - val_accuracy: 0.8294\n",
            "Epoch 13/30\n",
            "157/157 [==============================] - 1s 6ms/step - loss: 0.4472 - accuracy: 0.8490 - val_loss: 0.5368 - val_accuracy: 0.8000\n",
            "Epoch 14/30\n",
            "157/157 [==============================] - 1s 6ms/step - loss: 0.4349 - accuracy: 0.8578 - val_loss: 0.4224 - val_accuracy: 0.8606\n",
            "Epoch 15/30\n",
            "157/157 [==============================] - 1s 7ms/step - loss: 0.4281 - accuracy: 0.8620 - val_loss: 0.4045 - val_accuracy: 0.8684\n",
            "Epoch 16/30\n",
            "157/157 [==============================] - 1s 7ms/step - loss: 0.4203 - accuracy: 0.8630 - val_loss: 0.4008 - val_accuracy: 0.8660\n",
            "Epoch 17/30\n",
            "157/157 [==============================] - 2s 12ms/step - loss: 0.4086 - accuracy: 0.8668 - val_loss: 0.4451 - val_accuracy: 0.8524\n",
            "Epoch 18/30\n",
            "157/157 [==============================] - 1s 6ms/step - loss: 0.4022 - accuracy: 0.8640 - val_loss: 0.4324 - val_accuracy: 0.8592\n",
            "Epoch 19/30\n",
            "157/157 [==============================] - 1s 6ms/step - loss: 0.3964 - accuracy: 0.8714 - val_loss: 0.3706 - val_accuracy: 0.8776\n",
            "Epoch 20/30\n",
            "157/157 [==============================] - 1s 7ms/step - loss: 0.3899 - accuracy: 0.8702 - val_loss: 0.5355 - val_accuracy: 0.7940\n",
            "Epoch 21/30\n",
            "157/157 [==============================] - 1s 6ms/step - loss: 0.3841 - accuracy: 0.8720 - val_loss: 0.4665 - val_accuracy: 0.8256\n",
            "Epoch 22/30\n",
            "157/157 [==============================] - 1s 6ms/step - loss: 0.3776 - accuracy: 0.8764 - val_loss: 0.3613 - val_accuracy: 0.8790\n",
            "Epoch 23/30\n",
            "157/157 [==============================] - 1s 6ms/step - loss: 0.3709 - accuracy: 0.8796 - val_loss: 0.3971 - val_accuracy: 0.8590\n",
            "Epoch 24/30\n",
            "157/157 [==============================] - 1s 8ms/step - loss: 0.3651 - accuracy: 0.8758 - val_loss: 0.3577 - val_accuracy: 0.8774\n",
            "Epoch 25/30\n",
            "157/157 [==============================] - 1s 5ms/step - loss: 0.3592 - accuracy: 0.8796 - val_loss: 0.4530 - val_accuracy: 0.8430\n",
            "Epoch 26/30\n",
            "157/157 [==============================] - 1s 7ms/step - loss: 0.3556 - accuracy: 0.8818 - val_loss: 0.3329 - val_accuracy: 0.8898\n",
            "Epoch 27/30\n",
            "157/157 [==============================] - 1s 6ms/step - loss: 0.3491 - accuracy: 0.8852 - val_loss: 0.3573 - val_accuracy: 0.8752\n",
            "Epoch 28/30\n",
            "157/157 [==============================] - 1s 7ms/step - loss: 0.3467 - accuracy: 0.8820 - val_loss: 0.3497 - val_accuracy: 0.8812\n",
            "Epoch 29/30\n",
            "157/157 [==============================] - 1s 7ms/step - loss: 0.3381 - accuracy: 0.8864 - val_loss: 0.3227 - val_accuracy: 0.8900\n",
            "Epoch 30/30\n",
            "157/157 [==============================] - 1s 7ms/step - loss: 0.3360 - accuracy: 0.8846 - val_loss: 0.3413 - val_accuracy: 0.8822\n"
          ]
        }
      ]
    },
    {
      "cell_type": "code",
      "source": [
        "history.params"
      ],
      "metadata": {
        "colab": {
          "base_uri": "https://localhost:8080/"
        },
        "id": "FWf80KJQdG6h",
        "outputId": "acdb8416-f149-4f6a-97b1-bc4b43518e96"
      },
      "execution_count": 19,
      "outputs": [
        {
          "output_type": "execute_result",
          "data": {
            "text/plain": [
              "{'epochs': 30, 'steps': 157, 'verbose': 1}"
            ]
          },
          "metadata": {},
          "execution_count": 19
        }
      ]
    },
    {
      "cell_type": "code",
      "source": [
        "history.history"
      ],
      "metadata": {
        "id": "O0CNIlTydL6z",
        "colab": {
          "base_uri": "https://localhost:8080/"
        },
        "outputId": "4a0bb95d-5db7-4094-aaca-69cebd874f83"
      },
      "execution_count": 20,
      "outputs": [
        {
          "output_type": "execute_result",
          "data": {
            "text/plain": [
              "{'accuracy': [0.5320000052452087,\n",
              "  0.725600004196167,\n",
              "  0.7648000121116638,\n",
              "  0.7879999876022339,\n",
              "  0.7996000051498413,\n",
              "  0.8149999976158142,\n",
              "  0.8208000063896179,\n",
              "  0.8325999975204468,\n",
              "  0.8345999717712402,\n",
              "  0.8399999737739563,\n",
              "  0.8474000096321106,\n",
              "  0.8492000102996826,\n",
              "  0.8489999771118164,\n",
              "  0.8578000068664551,\n",
              "  0.8619999885559082,\n",
              "  0.8629999756813049,\n",
              "  0.8668000102043152,\n",
              "  0.8640000224113464,\n",
              "  0.871399998664856,\n",
              "  0.870199978351593,\n",
              "  0.871999979019165,\n",
              "  0.8763999938964844,\n",
              "  0.8795999884605408,\n",
              "  0.8758000135421753,\n",
              "  0.8795999884605408,\n",
              "  0.8817999958992004,\n",
              "  0.885200023651123,\n",
              "  0.8820000290870667,\n",
              "  0.8863999843597412,\n",
              "  0.8845999836921692],\n",
              " 'loss': [1.5244511365890503,\n",
              "  0.8794589042663574,\n",
              "  0.730483889579773,\n",
              "  0.6522608995437622,\n",
              "  0.6020911931991577,\n",
              "  0.5669054985046387,\n",
              "  0.5400218367576599,\n",
              "  0.5161045789718628,\n",
              "  0.5000044703483582,\n",
              "  0.48228394985198975,\n",
              "  0.46928369998931885,\n",
              "  0.45596927404403687,\n",
              "  0.44721952080726624,\n",
              "  0.4348594844341278,\n",
              "  0.42806270718574524,\n",
              "  0.4203270375728607,\n",
              "  0.4086306691169739,\n",
              "  0.40223586559295654,\n",
              "  0.39641448855400085,\n",
              "  0.38986989855766296,\n",
              "  0.3841131329536438,\n",
              "  0.37758737802505493,\n",
              "  0.3709069788455963,\n",
              "  0.365141361951828,\n",
              "  0.35922470688819885,\n",
              "  0.3555625379085541,\n",
              "  0.349092960357666,\n",
              "  0.34670573472976685,\n",
              "  0.3380759656429291,\n",
              "  0.3359626829624176],\n",
              " 'val_accuracy': [0.6840000152587891,\n",
              "  0.7311999797821045,\n",
              "  0.7832000255584717,\n",
              "  0.7943999767303467,\n",
              "  0.753000020980835,\n",
              "  0.7749999761581421,\n",
              "  0.8343999981880188,\n",
              "  0.8399999737739563,\n",
              "  0.8037999868392944,\n",
              "  0.8317999839782715,\n",
              "  0.8375999927520752,\n",
              "  0.8294000029563904,\n",
              "  0.800000011920929,\n",
              "  0.8605999946594238,\n",
              "  0.868399977684021,\n",
              "  0.8659999966621399,\n",
              "  0.852400004863739,\n",
              "  0.8592000007629395,\n",
              "  0.8776000142097473,\n",
              "  0.7940000295639038,\n",
              "  0.8256000280380249,\n",
              "  0.8790000081062317,\n",
              "  0.859000027179718,\n",
              "  0.8773999810218811,\n",
              "  0.8429999947547913,\n",
              "  0.8898000121116638,\n",
              "  0.8751999735832214,\n",
              "  0.8812000155448914,\n",
              "  0.8899999856948853,\n",
              "  0.8822000026702881],\n",
              " 'val_loss': [1.03347909450531,\n",
              "  0.7929702401161194,\n",
              "  0.6710442304611206,\n",
              "  0.6227151155471802,\n",
              "  0.6770458221435547,\n",
              "  0.6344426870346069,\n",
              "  0.5134586095809937,\n",
              "  0.49856099486351013,\n",
              "  0.5478983521461487,\n",
              "  0.49578070640563965,\n",
              "  0.474276602268219,\n",
              "  0.49708092212677,\n",
              "  0.5368159413337708,\n",
              "  0.4224034249782562,\n",
              "  0.4044506251811981,\n",
              "  0.4007524251937866,\n",
              "  0.4450939893722534,\n",
              "  0.4323750436306,\n",
              "  0.3706434965133667,\n",
              "  0.535477340221405,\n",
              "  0.4664902687072754,\n",
              "  0.3612842559814453,\n",
              "  0.3970780074596405,\n",
              "  0.35767921805381775,\n",
              "  0.4530482888221741,\n",
              "  0.3328721523284912,\n",
              "  0.35725125670433044,\n",
              "  0.3497091829776764,\n",
              "  0.32270967960357666,\n",
              "  0.3413379490375519]}"
            ]
          },
          "metadata": {},
          "execution_count": 20
        }
      ]
    },
    {
      "cell_type": "code",
      "source": [
        "import pandas as pd\n",
        "import matplotlib.pyplot as plt\n",
        "\n",
        "\n",
        "\n",
        "pd.DataFrame(history.history).plot(figsize=(8, 5))\n",
        "plt.grid(True)\n",
        "plt.gca().set_ylim(0,2.5)\n",
        "plt.show()"
      ],
      "metadata": {
        "colab": {
          "base_uri": "https://localhost:8080/",
          "height": 324
        },
        "id": "0IzrisCndiBW",
        "outputId": "1a77f454-91af-48e5-c04f-12470fb08065"
      },
      "execution_count": 21,
      "outputs": [
        {
          "output_type": "display_data",
          "data": {
            "image/png": "[encoded data removed]",
            "text/plain": [
              "<Figure size 576x360 with 1 Axes>"
            ]
          },
          "metadata": {
            "needs_background": "light"
          }
        }
      ]
    },
    {
      "cell_type": "code",
      "source": [
        "#Evaluate the model \n",
        "model.evaluate(x_test, y_test, verbose=1)   "
      ],
      "metadata": {
        "colab": {
          "base_uri": "https://localhost:8080/"
        },
        "id": "34EmhKkTh9pu",
        "outputId": "28cd528d-e0f7-4c8d-bf11-3b39062c8918"
      },
      "execution_count": 22,
      "outputs": [
        {
          "output_type": "stream",
          "name": "stdout",
          "text": [
            "313/313 [==============================] - 1s 3ms/step - loss: 108.9597 - accuracy: 0.7804\n"
          ]
        },
        {
          "output_type": "execute_result",
          "data": {
            "text/plain": [
              "[108.95970916748047, 0.7803999781608582]"
            ]
          },
          "metadata": {},
          "execution_count": 22
        }
      ]
    },
    {
      "cell_type": "code",
      "source": [
        "#Tweaking the hyperparameters on the test set will lead to a poor generalization of the model \n",
        "#Lets tests the model \n",
        "model_test = x_test[:3]\n",
        "model_probability = model.predict(model_test)\n",
        "model_probability.round(2)"
      ],
      "metadata": {
        "colab": {
          "base_uri": "https://localhost:8080/"
        },
        "id": "aw8WSKAgi88w",
        "outputId": "d00fa90b-2acb-4eec-9e75-6013d4c0beda"
      },
      "execution_count": 23,
      "outputs": [
        {
          "output_type": "execute_result",
          "data": {
            "text/plain": [
              "array([[0., 0., 0., 0., 0., 0., 0., 0., 0., 1.],\n",
              "       [0., 0., 1., 0., 0., 0., 0., 0., 0., 0.],\n",
              "       [0., 1., 0., 0., 0., 0., 0., 0., 0., 0.]], dtype=float32)"
            ]
          },
          "metadata": {},
          "execution_count": 23
        }
      ]
    },
    {
      "cell_type": "code",
      "source": [
        "class_names = ['T-shirt/top', 'Trouser', 'Pullover', 'Dress', 'Coat',\n",
        "               'Sandal', 'Shirt', 'Sneaker', 'Bag', 'Ankle boot' ]\n",
        "               "
      ],
      "metadata": {
        "id": "828GGAxuk2PW"
      },
      "execution_count": 24,
      "outputs": []
    },
    {
      "cell_type": "code",
      "source": [
        "x_model = x_test[:3]\n",
        "model_pred = model.predict(x_model)"
      ],
      "metadata": {
        "id": "iAwpGLnUlufZ"
      },
      "execution_count": 25,
      "outputs": []
    },
    {
      "cell_type": "code",
      "source": [
        "import numpy as np\n",
        "classes = np.argmax(x_model, axis=1)"
      ],
      "metadata": {
        "id": "KC0gxNF7m4Zt"
      },
      "execution_count": 26,
      "outputs": []
    },
    {
      "cell_type": "code",
      "source": [
        "classes "
      ],
      "metadata": {
        "colab": {
          "base_uri": "https://localhost:8080/"
        },
        "id": "g9je_vghnPFx",
        "outputId": "ef6867c9-b916-43a9-ba81-81f1cea9638c"
      },
      "execution_count": 27,
      "outputs": [
        {
          "output_type": "execute_result",
          "data": {
            "text/plain": [
              "array([[19, 19, 20, 20, 20, 20, 20, 21, 21, 21, 21, 21, 21, 21, 20, 20,\n",
              "        20, 20, 20, 19, 20, 20, 20, 20, 20, 20, 20, 17],\n",
              "       [ 0,  0,  0,  0, 18,  6,  3, 12,  5,  4,  4,  6,  7,  1,  1,  1,\n",
              "        11,  6,  5, 12,  6, 13, 21, 11, 24,  0,  0,  0],\n",
              "       [ 0,  0,  0,  0,  0,  0,  0,  0, 25, 11,  3,  1,  1,  1,  6,  8,\n",
              "         1, 26,  1,  5,  0,  0,  0,  0,  0,  0,  0,  0]])"
            ]
          },
          "metadata": {},
          "execution_count": 27
        }
      ]
    },
    {
      "cell_type": "code",
      "source": [
        "model_pred.round(2)\n"
      ],
      "metadata": {
        "colab": {
          "base_uri": "https://localhost:8080/"
        },
        "id": "Qi-V_G3JmA3G",
        "outputId": "83907fd2-1d19-4328-b087-e5ba63c7b8b3"
      },
      "execution_count": 28,
      "outputs": [
        {
          "output_type": "execute_result",
          "data": {
            "text/plain": [
              "array([[0., 0., 0., 0., 0., 0., 0., 0., 0., 1.],\n",
              "       [0., 0., 1., 0., 0., 0., 0., 0., 0., 0.],\n",
              "       [0., 1., 0., 0., 0., 0., 0., 0., 0., 0.]], dtype=float32)"
            ]
          },
          "metadata": {},
          "execution_count": 28
        }
      ]
    },
    {
      "cell_type": "code",
      "source": [
        "#Tensorflow tutorial on mnist \n",
        "#We start by loading the dataset\n",
        "fashion_mnist2 = tf.keras.datasets.fashion_mnist "
      ],
      "metadata": {
        "id": "9yTSIHQhmLeK"
      },
      "execution_count": 29,
      "outputs": []
    },
    {
      "cell_type": "code",
      "source": [
        "#Split the data set into training and testing  \n",
        "\n",
        "(x_train_images, y_train_images), (x_test_images, y_test_images) = fashion_mnist2.load_data()"
      ],
      "metadata": {
        "id": "K9LcHspasdsE"
      },
      "execution_count": 30,
      "outputs": []
    },
    {
      "cell_type": "code",
      "source": [
        "x_train_images.shape"
      ],
      "metadata": {
        "colab": {
          "base_uri": "https://localhost:8080/"
        },
        "id": "2mrxdYWps65s",
        "outputId": "cddb9f30-1f78-47ca-8b87-6c1dac11ff56"
      },
      "execution_count": 31,
      "outputs": [
        {
          "output_type": "execute_result",
          "data": {
            "text/plain": [
              "(60000, 28, 28)"
            ]
          },
          "metadata": {},
          "execution_count": 31
        }
      ]
    },
    {
      "cell_type": "code",
      "source": [
        "len(y_test_images)"
      ],
      "metadata": {
        "colab": {
          "base_uri": "https://localhost:8080/"
        },
        "id": "AUaewqKes-Wu",
        "outputId": "00f28162-4b5b-4d68-aa50-48f6c628dfdd"
      },
      "execution_count": 32,
      "outputs": [
        {
          "output_type": "execute_result",
          "data": {
            "text/plain": [
              "10000"
            ]
          },
          "metadata": {},
          "execution_count": 32
        }
      ]
    },
    {
      "cell_type": "code",
      "source": [
        "len(y_train_images)"
      ],
      "metadata": {
        "colab": {
          "base_uri": "https://localhost:8080/"
        },
        "id": "qtE4nlrktHXj",
        "outputId": "479f55f4-d930-46ba-a956-ae266ec22251"
      },
      "execution_count": 33,
      "outputs": [
        {
          "output_type": "execute_result",
          "data": {
            "text/plain": [
              "60000"
            ]
          },
          "metadata": {},
          "execution_count": 33
        }
      ]
    },
    {
      "cell_type": "code",
      "source": [
        "#Data preprocessing\n",
        "\n",
        "plt.figure()\n",
        "plt.imshow(x_train[0])\n",
        "plt.grid(False)\n",
        "plt.colorbar()\n",
        "plt.show()"
      ],
      "metadata": {
        "colab": {
          "base_uri": "https://localhost:8080/",
          "height": 269
        },
        "id": "H63XMnq0tKr5",
        "outputId": "b5fcd66a-82ca-4723-b163-e4d0af46a76c"
      },
      "execution_count": 34,
      "outputs": [
        {
          "output_type": "display_data",
          "data": {
            "image/png": "[encoded data removed]",
            "text/plain": [
              "<Figure size 432x288 with 2 Axes>"
            ]
          },
          "metadata": {
            "needs_background": "light"
          }
        }
      ]
    },
    {
      "cell_type": "code",
      "source": [
        "x_train = x_train_images/255.0"
      ],
      "metadata": {
        "id": "rbe8aw1FutMN"
      },
      "execution_count": 35,
      "outputs": []
    },
    {
      "cell_type": "code",
      "source": [
        "x_test = y_test_images / 255.0"
      ],
      "metadata": {
        "id": "7A3M6R6pvGGb"
      },
      "execution_count": 36,
      "outputs": []
    },
    {
      "cell_type": "code",
      "source": [
        "plt.figure(figsize=(10,10))\n",
        "for i in range(25):\n",
        "  plt.subplot(5,5, i +1)\n",
        "  plt.grid(False)\n",
        "  plt.xticks([])\n",
        "  plt.yticks([])\n",
        "  plt.imshow(x_train[i], cmap=plt.cm.binary)\n",
        "  plt.xlabel(class_names[y_train[i]])"
      ],
      "metadata": {
        "colab": {
          "base_uri": "https://localhost:8080/",
          "height": 589
        },
        "id": "RZk2xoRAvLBd",
        "outputId": "1eb44848-ad39-4cc4-a2f9-b3fe9df1aaa1"
      },
      "execution_count": 37,
      "outputs": [
        {
          "output_type": "display_data",
          "data": {
            "image/png": "[encoded data removed]",
            "text/plain": [
              "<Figure size 720x720 with 25 Axes>"
            ]
          },
          "metadata": {}
        }
      ]
    },
    {
      "cell_type": "code",
      "source": [
        "plt.show()"
      ],
      "metadata": {
        "id": "g9EwVUX5y2WK"
      },
      "execution_count": 38,
      "outputs": []
    },
    {
      "cell_type": "code",
      "source": [
        "model = tf.keras.models.Sequential([ \n",
        "     tf.keras.layers.Flatten(input_shape=(28,28)),\n",
        "     tf.keras.layers.Dense(300, activation='relu'),\n",
        "     tf.keras.layers.Dense(100, activation ='relu'),\n",
        "     tf.keras.layers.Dense(10, activation = 'softmax')\n",
        "])"
      ],
      "metadata": {
        "id": "7Ley2hJvy5hH"
      },
      "execution_count": 39,
      "outputs": []
    },
    {
      "cell_type": "code",
      "source": [
        "#The first layer of our model is a Flattened layer that transforms the our images from a 2D/two dimensional array(28,28) to a 1d array /vector (28 * 28=  784) input\n",
        "#The flattened layer has no parameters(weights + biases) to learn its work its to reformat the data"
      ],
      "metadata": {
        "id": "Y4ol603wzc_X"
      },
      "execution_count": 40,
      "outputs": []
    },
    {
      "cell_type": "code",
      "source": [
        "#The two hidden layers of 300  and 100 neurons are called Dense layers or fully connected layers which means that every node in these layers are connected to every every node in the previous layer\n",
        "#The last dense layer has 10  neurons, it is also called the output layer it has 10  neurons which represent the 10 classes or each class we are trying to predict, each node has a label from  0 9 for all the classes we are trying to predict\n"
      ],
      "metadata": {
        "id": "zxZbh6Giyx3X"
      },
      "execution_count": 41,
      "outputs": []
    },
    {
      "cell_type": "code",
      "source": [
        "#The hyperparameters of the model include the number of layers, the number neurons per layer, the learning rate, the optimizer, the loss functions \n",
        "#The parameters include the weights and the biases\n",
        "#The input data x is the independent variable while the parameters are the dependent varaibles "
      ],
      "metadata": {
        "id": "UTsrofSgykRb"
      },
      "execution_count": 42,
      "outputs": []
    },
    {
      "cell_type": "code",
      "source": [
        "#When compiling our model we choose a loss function that is used to show how well our model is doing during training\n",
        "#Often we try to minimize the function to steer our model towards the desired output or or target output\n",
        "#The optimizer is how the model parameters are updated based on the data it sees the loss it produces and one common loss function is the stochastic gradient descent\n",
        "#Metrics is usually used to monitor the training steps  a good example would be the \"accuracy\" metrics that is used to monitor the fraction of images that are correctly predicted.\n"
      ],
      "metadata": {
        "id": "G3orsLykyTKI"
      },
      "execution_count": 43,
      "outputs": []
    },
    {
      "cell_type": "code",
      "source": [
        "loss_fn = tf.keras.losses.SparseCategoricalCrossentropy(from_logits=True)\n",
        "model.compile(optimizer='sgd',\n",
        "              loss = loss_fn,\n",
        "              metrics= ['accuracy'])"
      ],
      "metadata": {
        "id": "aeJm-4R6yKxL"
      },
      "execution_count": 44,
      "outputs": []
    },
    {
      "cell_type": "code",
      "source": [
        ""
      ],
      "metadata": {
        "id": "WkbsvinJ6QGS"
      },
      "execution_count": 44,
      "outputs": []
    },
    {
      "cell_type": "code",
      "source": [
        "import tensorflow as tf "
      ],
      "metadata": {
        "id": "VX0TUcUMx_U_"
      },
      "execution_count": 45,
      "outputs": []
    },
    {
      "cell_type": "code",
      "source": [
        "from tensorflow import keras\n"
      ],
      "metadata": {
        "id": "LmNG4rTLk6Rf"
      },
      "execution_count": 46,
      "outputs": []
    },
    {
      "cell_type": "code",
      "source": [
        "print(\"Tensorflow version:\", tf.__version__)"
      ],
      "metadata": {
        "colab": {
          "base_uri": "https://localhost:8080/"
        },
        "id": "HyOTSm7al_3D",
        "outputId": "d4bba0fd-54fd-47fd-a787-1587b63db4eb"
      },
      "execution_count": 47,
      "outputs": [
        {
          "output_type": "stream",
          "name": "stdout",
          "text": [
            "Tensorflow version: 2.8.0\n"
          ]
        }
      ]
    },
    {
      "cell_type": "code",
      "source": [
        "fashion_mnist = tf.keras.datasets.fashion_mnist"
      ],
      "metadata": {
        "id": "WiV5bXAEmGBa"
      },
      "execution_count": 48,
      "outputs": []
    },
    {
      "cell_type": "code",
      "source": [
        "#Split the training data into two the test set and the training set \n",
        "(x_train, y_train), (x_test, y_test) = fashion_mnist.load_data()"
      ],
      "metadata": {
        "id": "rhV-m6NVmMUE"
      },
      "execution_count": 49,
      "outputs": []
    },
    {
      "cell_type": "code",
      "source": [
        "x_train.shape"
      ],
      "metadata": {
        "colab": {
          "base_uri": "https://localhost:8080/"
        },
        "id": "LKIYnr0tmkhG",
        "outputId": "db77e0b2-2f15-43ca-b691-388894f45097"
      },
      "execution_count": 50,
      "outputs": [
        {
          "output_type": "execute_result",
          "data": {
            "text/plain": [
              "(60000, 28, 28)"
            ]
          },
          "metadata": {},
          "execution_count": 50
        }
      ]
    },
    {
      "cell_type": "code",
      "source": [
        "y_train.shape"
      ],
      "metadata": {
        "colab": {
          "base_uri": "https://localhost:8080/"
        },
        "id": "nzCL1PW4mpUN",
        "outputId": "fa390c19-8a79-4581-b2f0-04115330cf6d"
      },
      "execution_count": 51,
      "outputs": [
        {
          "output_type": "execute_result",
          "data": {
            "text/plain": [
              "(60000,)"
            ]
          },
          "metadata": {},
          "execution_count": 51
        }
      ]
    },
    {
      "cell_type": "code",
      "source": [
        "import matplotlib.pyplot as plt\n",
        "\n"
      ],
      "metadata": {
        "id": "pPRMMa0KmrdG"
      },
      "execution_count": 52,
      "outputs": []
    },
    {
      "cell_type": "code",
      "source": [
        "#Build the model \n",
        "model = tf.keras.models.Sequential([\n",
        "      tf.keras.layers.Flatten(input_shape=(28,28)),\n",
        "      tf.keras.layers.Dense(300, activation='relu'),\n",
        "      tf.keras.layers.Dense(200, activation='relu'),\n",
        "      tf.keras.layers.Dense(10, activation = 'softmax')\n",
        "])"
      ],
      "metadata": {
        "id": "9G3gT0qKm71H"
      },
      "execution_count": 53,
      "outputs": []
    },
    {
      "cell_type": "code",
      "source": [
        "predictions = model(x_train[:1]) "
      ],
      "metadata": {
        "id": "NWcloVyrnc-Z"
      },
      "execution_count": 54,
      "outputs": []
    },
    {
      "cell_type": "code",
      "source": [
        "predictions"
      ],
      "metadata": {
        "colab": {
          "base_uri": "https://localhost:8080/"
        },
        "id": "r7hfEqoHnp_r",
        "outputId": "5b52037c-5431-45b2-ae6e-45fa7f784049"
      },
      "execution_count": 55,
      "outputs": [
        {
          "output_type": "execute_result",
          "data": {
            "text/plain": [
              "<tf.Tensor: shape=(1, 10), dtype=float32, numpy=\n",
              "array([[0.0000000e+00, 0.0000000e+00, 0.0000000e+00, 1.1820146e-09,\n",
              "        0.0000000e+00, 0.0000000e+00, 1.0000000e+00, 0.0000000e+00,\n",
              "        0.0000000e+00, 8.5083382e-26]], dtype=float32)>"
            ]
          },
          "metadata": {},
          "execution_count": 55
        }
      ]
    },
    {
      "cell_type": "code",
      "source": [
        "model.summary()"
      ],
      "metadata": {
        "id": "wacyhRWjnsNF",
        "colab": {
          "base_uri": "https://localhost:8080/"
        },
        "outputId": "335e1056-e601-4afd-84c0-41155ce75f60"
      },
      "execution_count": 56,
      "outputs": [
        {
          "output_type": "stream",
          "name": "stdout",
          "text": [
            "Model: \"sequential_2\"\n",
            "_________________________________________________________________\n",
            " Layer (type)                Output Shape              Param #   \n",
            "=================================================================\n",
            " flatten_2 (Flatten)         (None, 784)               0         \n",
            "                                                                 \n",
            " dense_6 (Dense)             (None, 300)               235500    \n",
            "                                                                 \n",
            " dense_7 (Dense)             (None, 200)               60200     \n",
            "                                                                 \n",
            " dense_8 (Dense)             (None, 10)                2010      \n",
            "                                                                 \n",
            "=================================================================\n",
            "Total params: 297,710\n",
            "Trainable params: 297,710\n",
            "Non-trainable params: 0\n",
            "_________________________________________________________________\n"
          ]
        }
      ]
    },
    {
      "cell_type": "code",
      "source": [
        "model.layers[0].name"
      ],
      "metadata": {
        "colab": {
          "base_uri": "https://localhost:8080/",
          "height": 37
        },
        "id": "xMh1TvqbnxZ8",
        "outputId": "ce46707b-677c-48c7-99a4-a2f543bee6d4"
      },
      "execution_count": 57,
      "outputs": [
        {
          "output_type": "execute_result",
          "data": {
            "application/vnd.google.colaboratory.intrinsic+json": {
              "type": "string"
            },
            "text/plain": [
              "'flatten_2'"
            ]
          },
          "metadata": {},
          "execution_count": 57
        }
      ]
    },
    {
      "cell_type": "code",
      "source": [
        "class_names = [\"T-shirt\", \"Trouser\", \"Pull-over\", \"Dress\", \"Coat\", \"Sandal\", \"Shirt\", \"Sneaker\", \"Bag\", \"Ankle boot\"]"
      ],
      "metadata": {
        "id": "1deawXMNomYq"
      },
      "execution_count": 58,
      "outputs": []
    },
    {
      "cell_type": "code",
      "source": [
        "class_names[y_train[3]]"
      ],
      "metadata": {
        "colab": {
          "base_uri": "https://localhost:8080/",
          "height": 37
        },
        "id": "dIK-UZPFo-c7",
        "outputId": "79dc79c4-4268-48e4-e33a-b64067825b54"
      },
      "execution_count": 59,
      "outputs": [
        {
          "output_type": "execute_result",
          "data": {
            "application/vnd.google.colaboratory.intrinsic+json": {
              "type": "string"
            },
            "text/plain": [
              "'Dress'"
            ]
          },
          "metadata": {},
          "execution_count": 59
        }
      ]
    },
    {
      "cell_type": "code",
      "source": [
        ""
      ],
      "metadata": {
        "id": "QCZF2u9lkiyr"
      },
      "execution_count": 59,
      "outputs": []
    },
    {
      "cell_type": "code",
      "source": [
        "plt.figure()\n",
        "plt.imshow(x_train[0])\n",
        "plt.colorbar()\n",
        "plt.grid(False)\n",
        "plt.xlabel(class_names[y_train[1]])"
      ],
      "metadata": {
        "colab": {
          "base_uri": "https://localhost:8080/",
          "height": 296
        },
        "id": "guBIxjdUn9np",
        "outputId": "d1452ad8-6528-4fbe-9d14-62862fed2d65"
      },
      "execution_count": 60,
      "outputs": [
        {
          "output_type": "execute_result",
          "data": {
            "text/plain": [
              "Text(0.5, 0, 'T-shirt')"
            ]
          },
          "metadata": {},
          "execution_count": 60
        },
        {
          "output_type": "display_data",
          "data": {
            "image/png": "[encoded data removed]",
            "text/plain": [
              "<Figure size 432x288 with 2 Axes>"
            ]
          },
          "metadata": {
            "needs_background": "light"
          }
        }
      ]
    },
    {
      "cell_type": "code",
      "source": [
        ""
      ],
      "metadata": {
        "id": "qcANZg2qkdMx"
      },
      "execution_count": 60,
      "outputs": []
    },
    {
      "cell_type": "code",
      "source": [
        "#Compile the model by passing the various hyperparameters such as the optimizer and the loss functions\n",
        "model.compile( \n",
        "    optimizer='sgd',\n",
        "    loss = tf.keras.losses.SparseCategoricalCrossentropy(from_logits=True),\n",
        "    metrics=['accuracy'] \n",
        ")"
      ],
      "metadata": {
        "id": "IBy6kF4uqlJ0"
      },
      "execution_count": 61,
      "outputs": []
    },
    {
      "cell_type": "code",
      "source": [
        "#Train the network\n",
        "model.fit(x_train, y_train, epochs=30)"
      ],
      "metadata": {
        "id": "0AOfJO1jrcrS",
        "colab": {
          "base_uri": "https://localhost:8080/"
        },
        "outputId": "ddcd50fe-69e9-42ef-a798-f22b20d94f41"
      },
      "execution_count": 62,
      "outputs": [
        {
          "output_type": "stream",
          "name": "stdout",
          "text": [
            "1875/1875 [==============================] - 5s 3ms/step - loss: nan - accuracy: 0.1000\n",
            "Epoch 20/30\n",
            "1875/1875 [==============================] - 5s 3ms/step - loss: nan - accuracy: 0.1000\n",
            "Epoch 21/30\n",
            "1875/1875 [==============================] - 5s 3ms/step - loss: nan - accuracy: 0.1000\n",
            "Epoch 22/30\n",
            "1875/1875 [==============================] - 5s 3ms/step - loss: nan - accuracy: 0.1000\n",
            "Epoch 23/30\n",
            "1875/1875 [==============================] - 5s 3ms/step - loss: nan - accuracy: 0.1000\n",
            "Epoch 24/30\n",
            "1875/1875 [==============================] - 5s 3ms/step - loss: nan - accuracy: 0.1000\n",
            "Epoch 25/30\n",
            "1875/1875 [==============================] - 5s 3ms/step - loss: nan - accuracy: 0.1000\n",
            "Epoch 26/30\n",
            "1875/1875 [==============================] - 6s 3ms/step - loss: nan - accuracy: 0.1000\n",
            "Epoch 27/30\n",
            "1875/1875 [==============================] - 5s 3ms/step - loss: nan - accuracy: 0.1000\n",
            "Epoch 28/30\n",
            "1875/1875 [==============================] - 5s 3ms/step - loss: nan - accuracy: 0.1000\n",
            "Epoch 29/30\n",
            "1875/1875 [==============================] - 5s 3ms/step - loss: nan - accuracy: 0.1000\n",
            "Epoch 30/30\n",
            "1875/1875 [==============================] - 5s 3ms/step - loss: nan - accuracy: 0.1000\n"
          ]
        },
        {
          "output_type": "execute_result",
          "data": {
            "text/plain": [
              "<keras.callbacks.History at 0x7f06fdb83e50>"
            ]
          },
          "metadata": {},
          "execution_count": 62
        }
      ]
    },
    {
      "cell_type": "code",
      "source": [
        "#We not evaluate the model  \n",
        "model.evaluate(x_test, y_test, verbose = 1)"
      ],
      "metadata": {
        "colab": {
          "base_uri": "https://localhost:8080/"
        },
        "id": "gNHc0NOZrw59",
        "outputId": "20a25b1c-14ca-44b7-eac5-9c8d3ee8616c"
      },
      "execution_count": 63,
      "outputs": [
        {
          "output_type": "stream",
          "name": "stdout",
          "text": [
            " 18/313 [>.............................] - ETA: 0s - loss: nan - accuracy: 0.1042 "
          ]
        },
        {
          "output_type": "stream",
          "name": "stderr",
          "text": [
            "/usr/local/lib/python3.7/dist-packages/tensorflow/python/util/dispatch.py:1082: UserWarning: \"`sparse_categorical_crossentropy` received `from_logits=True`, but the `output` argument was produced by a sigmoid or softmax activation and thus does not represent logits. Was this intended?\"\n",
            "  return dispatch_target(*args, **kwargs)\n"
          ]
        },
        {
          "output_type": "stream",
          "name": "stdout",
          "text": [
            "313/313 [==============================] - 1s 3ms/step - loss: nan - accuracy: 0.1000\n"
          ]
        },
        {
          "output_type": "execute_result",
          "data": {
            "text/plain": [
              "[nan, 0.10000000149011612]"
            ]
          },
          "metadata": {},
          "execution_count": 63
        }
      ]
    },
    {
      "cell_type": "code",
      "source": [
        "probability_model = tf.keras.Sequential([\n",
        "                model, tf.keras.layers.Softmax()                         \n",
        "])"
      ],
      "metadata": {
        "id": "xX_eEYAutEVw"
      },
      "execution_count": 64,
      "outputs": []
    },
    {
      "cell_type": "code",
      "source": [
        "probability_model"
      ],
      "metadata": {
        "colab": {
          "base_uri": "https://localhost:8080/"
        },
        "id": "EZE7xJSgtUtx",
        "outputId": "bac13559-e57b-4ba2-b098-6ae6811ec16a"
      },
      "execution_count": 65,
      "outputs": [
        {
          "output_type": "execute_result",
          "data": {
            "text/plain": [
              "<keras.engine.sequential.Sequential at 0x7f06fdb83bd0>"
            ]
          },
          "metadata": {},
          "execution_count": 65
        }
      ]
    },
    {
      "cell_type": "code",
      "source": [
        "import tensorflow as tf\n"
      ],
      "metadata": {
        "id": "KuNyC5m6m3qX"
      },
      "execution_count": 66,
      "outputs": []
    },
    {
      "cell_type": "code",
      "source": [
        "from tensorflow import keras"
      ],
      "metadata": {
        "id": "-NLHvSPOm6PF"
      },
      "execution_count": 67,
      "outputs": []
    },
    {
      "cell_type": "code",
      "source": [
        "#Lets check the tensorflow version \n",
        "print(\"Tensorflow version:\", tf.__version__) "
      ],
      "metadata": {
        "colab": {
          "base_uri": "https://localhost:8080/"
        },
        "id": "01AcfFQzm_wW",
        "outputId": "f835f8b6-93a0-4e17-d08e-183d0215c877"
      },
      "execution_count": 68,
      "outputs": [
        {
          "output_type": "stream",
          "name": "stdout",
          "text": [
            "Tensorflow version: 2.8.0\n"
          ]
        }
      ]
    },
    {
      "cell_type": "code",
      "source": [
        "#load the data \n",
        "fashion_mnist = tf.keras.datasets.fashion_mnist"
      ],
      "metadata": {
        "id": "vJF6BIcGnJqY"
      },
      "execution_count": 69,
      "outputs": []
    },
    {
      "cell_type": "code",
      "source": [
        "(x_train, y_train),(x_test, y_test) = fashion_mnist.load_data()"
      ],
      "metadata": {
        "id": "MYLyuSZspunQ"
      },
      "execution_count": 70,
      "outputs": []
    },
    {
      "cell_type": "code",
      "source": [
        ""
      ],
      "metadata": {
        "id": "68BA6cgLzLQj"
      },
      "execution_count": 70,
      "outputs": []
    },
    {
      "cell_type": "code",
      "source": [
        "#We do data preprocessing\n",
        "class_names = ['T-shirt/top', 'Trouser', 'Pullover', 'Dress', 'Coat', 'Sandal', 'Shirt', 'Sneaker', 'Bag', 'Ankle boot']"
      ],
      "metadata": {
        "id": "OFHpdkggquak"
      },
      "execution_count": 71,
      "outputs": []
    },
    {
      "cell_type": "code",
      "source": [
        "y_train[0]"
      ],
      "metadata": {
        "colab": {
          "base_uri": "https://localhost:8080/"
        },
        "id": "OguvFRvdzADK",
        "outputId": "4de5c066-752c-44da-97da-7018553bd252"
      },
      "execution_count": 72,
      "outputs": [
        {
          "output_type": "execute_result",
          "data": {
            "text/plain": [
              "9"
            ]
          },
          "metadata": {},
          "execution_count": 72
        }
      ]
    },
    {
      "cell_type": "code",
      "source": [
        "#Data preprocessing we divide the training data by 255 to turn it into  floating point numbers in between zero and one\n",
        "y_train = y_train/255.0\n",
        "x_test = x_test/255.0"
      ],
      "metadata": {
        "id": "GE2l4aN1unxh"
      },
      "execution_count": 75,
      "outputs": []
    },
    {
      "cell_type": "code",
      "source": [
        "x_train.shape"
      ],
      "metadata": {
        "colab": {
          "base_uri": "https://localhost:8080/"
        },
        "id": "JlfkQzg_3Wkl",
        "outputId": "5e9dd00d-bc3a-480c-cdc8-d2d6757b6d75"
      },
      "execution_count": 76,
      "outputs": [
        {
          "output_type": "execute_result",
          "data": {
            "text/plain": [
              "(60000, 28, 28)"
            ]
          },
          "metadata": {},
          "execution_count": 76
        }
      ]
    },
    {
      "cell_type": "code",
      "source": [
        "#Create our model \n",
        "model = tf.keras.models.Sequential([\n",
        "    tf.keras.layers.Flatten(input_shape=x_train[0].shape),\n",
        "    tf.keras.layers.Dense(300, activation= 'relu'), #Dense layer\n",
        "    tf.keras.layers.Dense(200, activation = 'relu'), #Dense layer that contains 200 neurons with  relu activation function , it takes negative values and turns them to zero\n",
        "    tf.keras.layers.Dropout(0.2),#We add a dropout layer to prevent overfitting since we have a lot of neurons in our hidden layers\n",
        "    tf.keras.layers.Dense(10)#10 output layers to represent the 10  classes we are trying to predict \n",
        "])"
      ],
      "metadata": {
        "id": "k6CZY4lOssjf"
      },
      "execution_count": 77,
      "outputs": []
    },
    {
      "cell_type": "code",
      "source": [
        "predictions = model(x_train[:1])"
      ],
      "metadata": {
        "id": "70Dv14gJu-1a"
      },
      "execution_count": 78,
      "outputs": []
    },
    {
      "cell_type": "code",
      "source": [
        "predictions"
      ],
      "metadata": {
        "colab": {
          "base_uri": "https://localhost:8080/"
        },
        "id": "XGx2zEWBvIHd",
        "outputId": "ff428242-bf7c-4e03-d1a2-9a8808ce76ad"
      },
      "execution_count": 79,
      "outputs": [
        {
          "output_type": "execute_result",
          "data": {
            "text/plain": [
              "<tf.Tensor: shape=(1, 10), dtype=float32, numpy=\n",
              "array([[  60.42474 , -105.897766,  -66.27007 ,   -7.672409,  107.29372 ,\n",
              "         -51.45548 ,  128.98802 ,   95.70293 , -124.33634 ,  -90.78827 ]],\n",
              "      dtype=float32)>"
            ]
          },
          "metadata": {},
          "execution_count": 79
        }
      ]
    },
    {
      "cell_type": "code",
      "source": [
        "#We assign a loss function to a variable \n",
        "loss_fn = tf.keras.losses.SparseCategoricalCrossentropy(from_logits=True)"
      ],
      "metadata": {
        "id": "EnhKFvXyvKCl"
      },
      "execution_count": 80,
      "outputs": []
    },
    {
      "cell_type": "code",
      "source": [
        "#Assign hyperparameters\n",
        "model.compile( loss = loss_fn, optimizer='sgd', metrics=['accuracy'])"
      ],
      "metadata": {
        "id": "ufw5-rNgv5al"
      },
      "execution_count": 81,
      "outputs": []
    },
    {
      "cell_type": "code",
      "source": [
        "model.fit(x_train,y_train , epochs = 20 )"
      ],
      "metadata": {
        "colab": {
          "base_uri": "https://localhost:8080/"
        },
        "id": "ZGIsxlJZw4lt",
        "outputId": "6e655f00-39a3-4c65-d708-71581acd9473"
      },
      "execution_count": 82,
      "outputs": [
        {
          "output_type": "execute_result",
          "data": {
            "text/plain": [
              "<keras.callbacks.History at 0x7f06fef31d90>"
            ]
          },
          "metadata": {},
          "execution_count": 82
        }
      ]
    },
    {
      "cell_type": "code",
      "source": [
        "#We evaluate the model\n",
        "model.evaluate(x_test,y_test, verbose =1)"
      ],
      "metadata": {
        "colab": {
          "base_uri": "https://localhost:8080/"
        },
        "id": "Z2so2POEz3mb",
        "outputId": "3639cac1-bf89-4beb-a931-a9659008acc7"
      },
      "execution_count": 83,
      "outputs": [
        {
          "output_type": "stream",
          "name": "stdout",
          "text": [
            "313/313 [==============================] - 1s 3ms/step - loss: 1162.1074 - accuracy: 0.1000\n"
          ]
        },
        {
          "output_type": "execute_result",
          "data": {
            "text/plain": [
              "[1162.107421875, 0.10000000149011612]"
            ]
          },
          "metadata": {},
          "execution_count": 83
        }
      ]
    },
    {
      "cell_type": "code",
      "source": [
        "#Probability of the modem\n",
        "model_probability = tf.keras.models.Sequential([\n",
        "          model,\n",
        "          tf.keras.layers.Softmax()\n",
        "])"
      ],
      "metadata": {
        "id": "HZM8ni1e0FsH"
      },
      "execution_count": 84,
      "outputs": []
    },
    {
      "cell_type": "code",
      "source": [
        "prediction = probability_model.predict(x_test)"
      ],
      "metadata": {
        "id": "jgphXEfb3uAn"
      },
      "execution_count": 88,
      "outputs": []
    },
    {
      "cell_type": "code",
      "source": [
        ""
      ],
      "metadata": {
        "id": "ng_QvhL54NN-"
      },
      "execution_count": null,
      "outputs": []
    },
    {
      "cell_type": "code",
      "source": [
        ""
      ],
      "metadata": {
        "id": "KOXuQZH44Kpv"
      },
      "execution_count": null,
      "outputs": []
    },
    {
      "cell_type": "code",
      "source": [
        "prediction "
      ],
      "metadata": {
        "id": "zEOVbzbRyvpd"
      },
      "execution_count": null,
      "outputs": []
    },
    {
      "cell_type": "code",
      "source": [
        ""
      ],
      "metadata": {
        "id": "ej1a6MSh4Gn2"
      },
      "execution_count": null,
      "outputs": []
    },
    {
      "cell_type": "code",
      "source": [
        ""
      ],
      "metadata": {
        "id": "OXZ5UrDQyojU"
      },
      "execution_count": null,
      "outputs": []
    },
    {
      "cell_type": "code",
      "source": [
        ""
      ],
      "metadata": {
        "id": "BSLJeCj0yaKo"
      },
      "execution_count": null,
      "outputs": []
    },
    {
      "cell_type": "code",
      "source": [
        ""
      ],
      "metadata": {
        "id": "uG6Do9BAyKtj"
      },
      "execution_count": null,
      "outputs": []
    },
    {
      "cell_type": "code",
      "source": [
        ""
      ],
      "metadata": {
        "id": "ixd9oIAix6wF"
      },
      "execution_count": null,
      "outputs": []
    },
    {
      "cell_type": "code",
      "source": [
        ""
      ],
      "metadata": {
        "id": "N8wSPfglxESE"
      },
      "execution_count": null,
      "outputs": []
    },
    {
      "cell_type": "code",
      "source": [
        ""
      ],
      "metadata": {
        "id": "SosbLqD9xCSO"
      },
      "execution_count": null,
      "outputs": []
    },
    {
      "cell_type": "code",
      "source": [
        ""
      ],
      "metadata": {
        "id": "UggSGpaZvY1W"
      },
      "execution_count": null,
      "outputs": []
    },
    {
      "cell_type": "code",
      "source": [
        ""
      ],
      "metadata": {
        "id": "pxkjrF4kvWeI"
      },
      "execution_count": null,
      "outputs": []
    },
    {
      "cell_type": "code",
      "source": [
        ""
      ],
      "metadata": {
        "id": "9LpfKxgLvQQw"
      },
      "execution_count": null,
      "outputs": []
    },
    {
      "cell_type": "code",
      "source": [
        ""
      ],
      "metadata": {
        "id": "qYH-n4eXuqQO"
      },
      "execution_count": null,
      "outputs": []
    },
    {
      "cell_type": "code",
      "source": [
        ""
      ],
      "metadata": {
        "id": "HN_kKgqUsVvU"
      },
      "execution_count": null,
      "outputs": []
    },
    {
      "cell_type": "code",
      "source": [
        ""
      ],
      "metadata": {
        "id": "Q0eGlP2EsRIw"
      },
      "execution_count": null,
      "outputs": []
    },
    {
      "cell_type": "code",
      "source": [
        ""
      ],
      "metadata": {
        "id": "YelKgidfsPSr"
      },
      "execution_count": null,
      "outputs": []
    },
    {
      "cell_type": "code",
      "source": [
        ""
      ],
      "metadata": {
        "id": "f6Fm70Dpp9aH"
      },
      "execution_count": null,
      "outputs": []
    },
    {
      "cell_type": "code",
      "source": [
        "\n",
        "\n",
        "\n"
      ],
      "metadata": {
        "id": "R8UXTGpBpmmD"
      },
      "execution_count": null,
      "outputs": []
    },
    {
      "cell_type": "code",
      "source": [
        "\n",
        "\n"
      ],
      "metadata": {
        "id": "FlYdNiLFoRqL"
      },
      "execution_count": null,
      "outputs": []
    }
  ]
}