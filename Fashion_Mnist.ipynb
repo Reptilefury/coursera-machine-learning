{
  "nbformat": 4,
  "nbformat_minor": 0,
  "metadata": {
    "colab": {
      "name": "Fashion_Mnist.ipynb",
      "provenance": [],
      "authorship_tag": "ABX9TyPyd6SSRDYDv6G5B3MW8gJD",
      "include_colab_link": true
    },
    "kernelspec": {
      "name": "python3",
      "display_name": "Python 3"
    },
    "language_info": {
      "name": "python"
    }
  },
  "cells": [
    {
      "cell_type": "markdown",
      "metadata": {
        "id": "view-in-github",
        "colab_type": "text"
      },
      "source": [
        "<a href=\"https://colab.research.google.com/github/Reptilefury/coursera-machine-learning/blob/main/Fashion_Mnist.ipynb\" target=\"_parent\"><img src=\"https://colab.research.google.com/assets/colab-badge.svg\" alt=\"Open In Colab\"/></a>"
      ]
    },
    {
      "cell_type": "code",
      "execution_count": 1,
      "metadata": {
        "id": "HwYbXhdoqs9R"
      },
      "outputs": [],
      "source": [
        "import tensorflow as tf\n"
      ]
    },
    {
      "cell_type": "code",
      "source": [
        "from tensorflow import keras"
      ],
      "metadata": {
        "id": "qeNL91CVqxeY"
      },
      "execution_count": 2,
      "outputs": []
    },
    {
      "cell_type": "code",
      "source": [
        "print(\"Tensorflow version:\" , tf.__version__)"
      ],
      "metadata": {
        "colab": {
          "base_uri": "https://localhost:8080/"
        },
        "id": "FVn-Udcpq1Gm",
        "outputId": "1e0e6900-b748-4418-9500-6c9e20036b7c"
      },
      "execution_count": 4,
      "outputs": [
        {
          "output_type": "stream",
          "name": "stdout",
          "text": [
            "Tensorflow version: 2.7.0\n"
          ]
        }
      ]
    },
    {
      "cell_type": "code",
      "source": [
        "#Load the fashion mnist dataset\n",
        "fashion_mnist = tf.keras.datasets.fashion_mnist\n"
      ],
      "metadata": {
        "id": "led1zNo3q7qu"
      },
      "execution_count": 5,
      "outputs": []
    },
    {
      "cell_type": "code",
      "source": [
        "#Split the dataset into two\n",
        "(x_train_full, y_train_full),(x_test_full, y_test_full) = fashion_mnist.load_data() "
      ],
      "metadata": {
        "id": "CrCMMnfxrEXM"
      },
      "execution_count": null,
      "outputs": []
    },
    {
      "cell_type": "code",
      "source": [
        "#Further split the training data and into training and validation sets\n",
        "x_valid, x_train =  x_train_full[:5000] /255.0 ,  x_train_full[:5000] /255.0 \n",
        "y_valid, y_train = y_train_full[:5000] , y_train_full[:5000]"
      ],
      "metadata": {
        "id": "vfxCPuiYrUjo"
      },
      "execution_count": 15,
      "outputs": []
    },
    {
      "cell_type": "code",
      "source": [
        ""
      ],
      "metadata": {
        "id": "Yrk60ecTvSyz"
      },
      "execution_count": null,
      "outputs": []
    },
    {
      "cell_type": "code",
      "source": [
        "x_valid.shape"
      ],
      "metadata": {
        "colab": {
          "base_uri": "https://localhost:8080/"
        },
        "id": "i62Va_VJr8ys",
        "outputId": "f3d4a861-3fbd-436c-a222-11be854a732f"
      },
      "execution_count": 9,
      "outputs": [
        {
          "output_type": "execute_result",
          "data": {
            "text/plain": [
              "(5000, 28, 28)"
            ]
          },
          "metadata": {},
          "execution_count": 9
        }
      ]
    },
    {
      "cell_type": "code",
      "source": [
        "y_valid.shape"
      ],
      "metadata": {
        "colab": {
          "base_uri": "https://localhost:8080/"
        },
        "id": "IoeSFgFqr-gz",
        "outputId": "693b1021-cd83-47dd-9ef8-07c5b6254f1a"
      },
      "execution_count": 10,
      "outputs": [
        {
          "output_type": "execute_result",
          "data": {
            "text/plain": [
              "(5000,)"
            ]
          },
          "metadata": {},
          "execution_count": 10
        }
      ]
    },
    {
      "cell_type": "code",
      "source": [
        "x_train.shape"
      ],
      "metadata": {
        "colab": {
          "base_uri": "https://localhost:8080/"
        },
        "id": "3QYj4TMpsAMY",
        "outputId": "b9f624fc-c7b1-482f-a87c-ade86b249f1b"
      },
      "execution_count": 11,
      "outputs": [
        {
          "output_type": "execute_result",
          "data": {
            "text/plain": [
              "(5000, 28, 28)"
            ]
          },
          "metadata": {},
          "execution_count": 11
        }
      ]
    },
    {
      "cell_type": "code",
      "source": [
        "#create the model \n",
        "model = tf.keras.models.Sequential([ \n",
        "        #Flattened layer which contain input data which are pixel values from our images  each pixel is fed into one neuron in the input or so called flattened layer\n",
        "        tf.keras.layers.Flatten(input_shape=(28,28)),\n",
        "        tf.keras.layers.Dense(300, activation='relu'),\n",
        "        tf.keras.layers.Dense(100, activation ='relu'),\n",
        "        tf.keras.layers.Dense(10, activation='softmax')                            \n",
        " ])"
      ],
      "metadata": {
        "id": "2WvLL8k0sD6b"
      },
      "execution_count": 12,
      "outputs": []
    },
    {
      "cell_type": "code",
      "source": [
        "#We compile our model by specifying the loss functions we will use to evaluate our model perfomance , and the optimizers which  will be used by our model to learn \n",
        "model.compile( optimizer='sgd',\n",
        "              loss = 'sparse_categorical_crossentropy', #categorical crossentropy is usually used for multiclassification i.e when our output has multiple classes\n",
        "              metrics = ['accuracy'])"
      ],
      "metadata": {
        "id": "qeX02Yk4tDu3"
      },
      "execution_count": 13,
      "outputs": []
    },
    {
      "cell_type": "code",
      "source": [
        "#Here we train the model through calling the fit method and then we pass in the relevant arguments i.e the training data, both x and y and the number of epochs which is the cycles our model passes through the training data\n",
        "model.fit(x_train, y_train, epochs=30 )"
      ],
      "metadata": {
        "colab": {
          "base_uri": "https://localhost:8080/"
        },
        "id": "7mhwapnQuAgf",
        "outputId": "79d620bb-fb2f-4f61-d405-5be620dd0dd0"
      },
      "execution_count": 16,
      "outputs": [
        {
          "output_type": "stream",
          "name": "stdout",
          "text": [
            "Epoch 1/30\n",
            "157/157 [==============================] - 1s 3ms/step - loss: 1.4711 - accuracy: 0.5770\n",
            "Epoch 2/30\n",
            "157/157 [==============================] - 1s 3ms/step - loss: 0.8790 - accuracy: 0.7212\n",
            "Epoch 3/30\n",
            "157/157 [==============================] - 1s 4ms/step - loss: 0.7366 - accuracy: 0.7546\n",
            "Epoch 4/30\n",
            "157/157 [==============================] - 1s 3ms/step - loss: 0.6655 - accuracy: 0.7814\n",
            "Epoch 5/30\n",
            "157/157 [==============================] - 1s 3ms/step - loss: 0.6143 - accuracy: 0.7960\n",
            "Epoch 6/30\n",
            "157/157 [==============================] - 1s 3ms/step - loss: 0.5800 - accuracy: 0.8100\n",
            "Epoch 7/30\n",
            "157/157 [==============================] - 1s 3ms/step - loss: 0.5474 - accuracy: 0.8222\n",
            "Epoch 8/30\n",
            "157/157 [==============================] - 1s 3ms/step - loss: 0.5232 - accuracy: 0.8276\n",
            "Epoch 9/30\n",
            "157/157 [==============================] - 0s 3ms/step - loss: 0.5041 - accuracy: 0.8326\n",
            "Epoch 10/30\n",
            "157/157 [==============================] - 0s 3ms/step - loss: 0.4870 - accuracy: 0.8372\n",
            "Epoch 11/30\n",
            "157/157 [==============================] - 1s 3ms/step - loss: 0.4750 - accuracy: 0.8472\n",
            "Epoch 12/30\n",
            "157/157 [==============================] - 1s 3ms/step - loss: 0.4650 - accuracy: 0.8454\n",
            "Epoch 13/30\n",
            "157/157 [==============================] - 1s 3ms/step - loss: 0.4548 - accuracy: 0.8510\n",
            "Epoch 14/30\n",
            "157/157 [==============================] - 1s 3ms/step - loss: 0.4347 - accuracy: 0.8522\n",
            "Epoch 15/30\n",
            "157/157 [==============================] - 1s 4ms/step - loss: 0.4312 - accuracy: 0.8532\n",
            "Epoch 16/30\n",
            "157/157 [==============================] - 1s 3ms/step - loss: 0.4234 - accuracy: 0.8594\n",
            "Epoch 17/30\n",
            "157/157 [==============================] - 1s 4ms/step - loss: 0.4129 - accuracy: 0.8624\n",
            "Epoch 18/30\n",
            "157/157 [==============================] - 1s 3ms/step - loss: 0.4065 - accuracy: 0.8656\n",
            "Epoch 19/30\n",
            "157/157 [==============================] - 1s 3ms/step - loss: 0.3971 - accuracy: 0.8700\n",
            "Epoch 20/30\n",
            "157/157 [==============================] - 0s 3ms/step - loss: 0.3924 - accuracy: 0.8642\n",
            "Epoch 21/30\n",
            "157/157 [==============================] - 0s 3ms/step - loss: 0.3862 - accuracy: 0.8730\n",
            "Epoch 22/30\n",
            "157/157 [==============================] - 1s 3ms/step - loss: 0.3801 - accuracy: 0.8734\n",
            "Epoch 23/30\n",
            "157/157 [==============================] - 1s 3ms/step - loss: 0.3783 - accuracy: 0.8714\n",
            "Epoch 24/30\n",
            "157/157 [==============================] - 0s 3ms/step - loss: 0.3694 - accuracy: 0.8768\n",
            "Epoch 25/30\n",
            "157/157 [==============================] - 1s 3ms/step - loss: 0.3630 - accuracy: 0.8748\n",
            "Epoch 26/30\n",
            "157/157 [==============================] - 0s 3ms/step - loss: 0.3578 - accuracy: 0.8818\n",
            "Epoch 27/30\n",
            "157/157 [==============================] - 1s 3ms/step - loss: 0.3539 - accuracy: 0.8792\n",
            "Epoch 28/30\n",
            "157/157 [==============================] - 1s 3ms/step - loss: 0.3451 - accuracy: 0.8844\n",
            "Epoch 29/30\n",
            "157/157 [==============================] - 1s 3ms/step - loss: 0.3437 - accuracy: 0.8834\n",
            "Epoch 30/30\n",
            "157/157 [==============================] - 1s 3ms/step - loss: 0.3389 - accuracy: 0.8878\n"
          ]
        },
        {
          "output_type": "execute_result",
          "data": {
            "text/plain": [
              "<keras.callbacks.History at 0x7f6a83789310>"
            ]
          },
          "metadata": {},
          "execution_count": 16
        }
      ]
    },
    {
      "cell_type": "markdown",
      "source": [
        ""
      ],
      "metadata": {
        "id": "cjlKrsONvb4T"
      }
    },
    {
      "cell_type": "code",
      "source": [
        ""
      ],
      "metadata": {
        "id": "exBWVZoBuqpF"
      },
      "execution_count": null,
      "outputs": []
    },
    {
      "cell_type": "code",
      "source": [
        ""
      ],
      "metadata": {
        "id": "BEYIuXGkrG4_"
      },
      "execution_count": null,
      "outputs": []
    },
    {
      "cell_type": "code",
      "source": [
        ""
      ],
      "metadata": {
        "id": "1RXl2Vcfq5C5"
      },
      "execution_count": null,
      "outputs": []
    }
  ]
}