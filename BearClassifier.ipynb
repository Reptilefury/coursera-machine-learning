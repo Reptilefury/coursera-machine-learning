{
  "cells": [
    {
      "cell_type": "markdown",
      "metadata": {
        "id": "view-in-github",
        "colab_type": "text"
      },
      "source": [
        "<a href=\"https://colab.research.google.com/github/Reptilefury/coursera-machine-learning/blob/main/BearClassifier.ipynb\" target=\"_parent\"><img src=\"https://colab.research.google.com/assets/colab-badge.svg\" alt=\"Open In Colab\"/></a>"
      ]
    },
    {
      "cell_type": "code",
      "execution_count": 1,
      "metadata": {
        "colab": {
          "base_uri": "https://localhost:8080/"
        },
        "id": "DjUo5X8NgFVA",
        "outputId": "ac05bd43-cf07-4ed6-9c32-42cfbb1e60b1"
      },
      "outputs": [
        {
          "output_type": "stream",
          "name": "stdout",
          "text": [
            "\u001b[K     |████████████████████████████████| 720 kB 4.3 MB/s \n",
            "\u001b[K     |████████████████████████████████| 1.2 MB 38.5 MB/s \n",
            "\u001b[K     |████████████████████████████████| 189 kB 37.4 MB/s \n",
            "\u001b[K     |████████████████████████████████| 46 kB 4.0 MB/s \n",
            "\u001b[K     |████████████████████████████████| 56 kB 3.9 MB/s \n",
            "\u001b[K     |████████████████████████████████| 51 kB 236 kB/s \n",
            "\u001b[?25h"
          ]
        }
      ],
      "source": [
        "!pip install -Uqq fastbook"
      ]
    },
    {
      "cell_type": "code",
      "execution_count": 2,
      "metadata": {
        "colab": {
          "base_uri": "https://localhost:8080/"
        },
        "id": "WYRjFFVQgQGI",
        "outputId": "0fbf4357-29ab-4a62-edce-ece7ed6d84f8"
      },
      "outputs": [
        {
          "output_type": "stream",
          "name": "stdout",
          "text": [
            "Mounted at /content/gdrive\n"
          ]
        }
      ],
      "source": [
        "import fastbook\n",
        "fastbook.setup_book()\n",
        "from fastai.vision.all import *"
      ]
    },
    {
      "cell_type": "code",
      "execution_count": 3,
      "metadata": {
        "id": "awhMtbR4hYdr"
      },
      "outputs": [],
      "source": [
        "path = Path('bears')\n",
        "# path variable has a method Path that has the value 'bears' director\n",
        "\n",
        "if not path.exists():\n",
        "  #this if statement checks whether the 'bears' directory exists if not it returns a method mkdir() that creates a directory in the drive\n",
        "\n",
        "  path.mkdir()"
      ]
    },
    {
      "cell_type": "code",
      "execution_count": null,
      "metadata": {
        "id": "rpJTe6abh72-"
      },
      "outputs": [],
      "source": [
        "!pip install jmd_imagescraper\n",
        "\n",
        "#this talks to the shell and installs a python >>> lib/ package that helps us fetch images from the web\n"
      ]
    },
    {
      "cell_type": "code",
      "execution_count": 5,
      "metadata": {
        "id": "L0qK6Fvciz94"
      },
      "outputs": [],
      "source": [
        "from jmd_imagescraper.core import *\n",
        "\n",
        "from pathlib import Path"
      ]
    },
    {
      "cell_type": "code",
      "execution_count": 6,
      "metadata": {
        "id": "k_84cqO2jVjI"
      },
      "outputs": [],
      "source": [
        "root = Path.cwd()/\"bears\""
      ]
    },
    {
      "cell_type": "code",
      "execution_count": null,
      "metadata": {
        "id": "njGw-t__jrA3"
      },
      "outputs": [],
      "source": [
        "duckduckgo_search(root, \"grizzly\", \"grizzly bears\", max_results=150)\n",
        "duckduckgo_search(root, \"teddy bear\", \"teddy bears\", max_results=150)\n",
        "duckduckgo_search(root, \"black bear\", \"black bears\", max_results=150)\n",
        "\n",
        "#teddy bear , teddy bears\n",
        "#black bear , black bears"
      ]
    },
    {
      "cell_type": "code",
      "execution_count": 25,
      "metadata": {
        "colab": {
          "base_uri": "https://localhost:8080/",
          "height": 141
        },
        "id": "6jQL3AyaocqT",
        "outputId": "eeb0e144-a172-4ca6-860e-dcc1b615e63a"
      },
      "outputs": [
        {
          "output_type": "execute_result",
          "data": {
            "application/vnd.google.colaboratory.intrinsic+json": {
              "type": "string"
            },
            "text/plain": [
              "'\\n This variable contains a method called DataBlock that is used to categorize our data into classes\\n get_items  variable has a method get_image_files that is used to fetch images from our files directory\\n splitter =(as with every machine learning model before we start training we have to split the data into 3 parts or two depending on the task \\n and the developer. Here I used a method called RandomSplitter to split my data into 2 sets, the validation set that is used to evaluate the perfomance \\n of my model and the training set that is used during training by the model to learn.)\\n The test test is the third set that is kept aside and is usually used after the training is done to see how well my machine learning model generalizes in\\n unseen data\\n The essence of splitting the dataset is to keep track of the perfomance of the model and also the measure the quality of our model\\n '"
            ]
          },
          "metadata": {},
          "execution_count": 25
        }
      ],
      "source": [
        "bears = DataBlock(\n",
        "    blocks =(ImageBlock, CategoryBlock),\n",
        "    get_items = get_image_files,\n",
        "    splitter = RandomSplitter(valid_pct=0.2, seed =42),\n",
        "    get_y = parent_label, \n",
        "    item_tfms = Resize(128))\n",
        "\"\"\"\n",
        " This variable contains a method called DataBlock that is used to categorize our data into classes\n",
        " get_items  variable has a method get_image_files that is used to fetch images from our files directory\n",
        " splitter =(as with every machine learning model before we start training we have to split the data into 3 parts or two depending on the task \n",
        " and the developer. Here I used a method called RandomSplitter to split my data into 2 sets, the validation set that is used to evaluate the perfomance \n",
        " of my model and the training set that is used during training by the model to learn.)\n",
        " The test test is the third set that is kept aside and is usually used after the training is done to see how well my machine learning model generalizes in\n",
        " unseen data\n",
        " The essence of splitting the dataset is to keep track of the perfomance of the model and also the measure the quality of our model\n",
        " \"\"\"\n",
        "\n",
        "#dls = bears.dataloaders(path)\n",
        "#dls.valid.show_batch(max_n=4, nrows=1)\n",
        "#learn = cnn_learner(dls, resnet50, metrics=error_rate)\n",
        "#learn.fine_tune(7)\n",
        "\n"
      ]
    },
    {
      "cell_type": "code",
      "execution_count": 27,
      "metadata": {
        "colab": {
          "base_uri": "https://localhost:8080/",
          "height": 333
        },
        "id": "1jg5hY4VlAWf",
        "outputId": "6c89a71f-78e1-4b73-8435-5dd144e0809e"
      },
      "outputs": [
        {
          "output_type": "display_data",
          "data": {
            "text/html": [
              "<table border=\"1\" class=\"dataframe\">\n",
              "  <thead>\n",
              "    <tr style=\"text-align: left;\">\n",
              "      <th>epoch</th>\n",
              "      <th>train_loss</th>\n",
              "      <th>valid_loss</th>\n",
              "      <th>error_rate</th>\n",
              "      <th>time</th>\n",
              "    </tr>\n",
              "  </thead>\n",
              "  <tbody>\n",
              "    <tr>\n",
              "      <td>0</td>\n",
              "      <td>0.864632</td>\n",
              "      <td>0.052660</td>\n",
              "      <td>0.011236</td>\n",
              "      <td>00:09</td>\n",
              "    </tr>\n",
              "  </tbody>\n",
              "</table>"
            ],
            "text/plain": [
              "<IPython.core.display.HTML object>"
            ]
          },
          "metadata": {}
        },
        {
          "output_type": "display_data",
          "data": {
            "text/html": [
              "<table border=\"1\" class=\"dataframe\">\n",
              "  <thead>\n",
              "    <tr style=\"text-align: left;\">\n",
              "      <th>epoch</th>\n",
              "      <th>train_loss</th>\n",
              "      <th>valid_loss</th>\n",
              "      <th>error_rate</th>\n",
              "      <th>time</th>\n",
              "    </tr>\n",
              "  </thead>\n",
              "  <tbody>\n",
              "    <tr>\n",
              "      <td>0</td>\n",
              "      <td>0.315123</td>\n",
              "      <td>0.028670</td>\n",
              "      <td>0.022472</td>\n",
              "      <td>00:12</td>\n",
              "    </tr>\n",
              "    <tr>\n",
              "      <td>1</td>\n",
              "      <td>0.196329</td>\n",
              "      <td>0.060622</td>\n",
              "      <td>0.033708</td>\n",
              "      <td>00:12</td>\n",
              "    </tr>\n",
              "    <tr>\n",
              "      <td>2</td>\n",
              "      <td>0.166756</td>\n",
              "      <td>0.092484</td>\n",
              "      <td>0.033708</td>\n",
              "      <td>00:12</td>\n",
              "    </tr>\n",
              "    <tr>\n",
              "      <td>3</td>\n",
              "      <td>0.144596</td>\n",
              "      <td>0.142520</td>\n",
              "      <td>0.033708</td>\n",
              "      <td>00:12</td>\n",
              "    </tr>\n",
              "    <tr>\n",
              "      <td>4</td>\n",
              "      <td>0.118112</td>\n",
              "      <td>0.070240</td>\n",
              "      <td>0.022472</td>\n",
              "      <td>00:12</td>\n",
              "    </tr>\n",
              "    <tr>\n",
              "      <td>5</td>\n",
              "      <td>0.094394</td>\n",
              "      <td>0.035121</td>\n",
              "      <td>0.011236</td>\n",
              "      <td>00:12</td>\n",
              "    </tr>\n",
              "    <tr>\n",
              "      <td>6</td>\n",
              "      <td>0.083659</td>\n",
              "      <td>0.019890</td>\n",
              "      <td>0.011236</td>\n",
              "      <td>00:12</td>\n",
              "    </tr>\n",
              "  </tbody>\n",
              "</table>"
            ],
            "text/plain": [
              "<IPython.core.display.HTML object>"
            ]
          },
          "metadata": {}
        }
      ],
      "source": [
        "bears = bears.new(item_tfms=RandomResizedCrop(224, min_scale=0.5), \n",
        "                  batch_tfms = aug_transforms()\n",
        "                  )\n",
        "dls = bears.dataloaders(path)\n",
        "#dls.train.show_batch(max_n= 8, nrows=2, unique=True)\n",
        "learn = cnn_learner(dls, resnet50, metrics=error_rate)\n",
        "learn.fine_tune(7)\n",
        "\n"
      ]
    },
    {
      "cell_type": "code",
      "execution_count": 28,
      "metadata": {
        "id": "SO7sbxhRoHy2",
        "colab": {
          "base_uri": "https://localhost:8080/",
          "height": 713
        },
        "outputId": "173c6e87-3136-4e8f-c5c9-c06744693e62"
      },
      "outputs": [
        {
          "output_type": "display_data",
          "data": {
            "text/html": [
              ""
            ],
            "text/plain": [
              "<IPython.core.display.HTML object>"
            ]
          },
          "metadata": {}
        },
        {
          "output_type": "display_data",
          "data": {
            "image/png": "[encoded data removed]",
            "text/plain": [
              "<Figure size 432x288 with 1 Axes>"
            ]
          },
          "metadata": {
            "needs_background": "light"
          }
        },
        {
          "output_type": "display_data",
          "data": {
            "image/png": "[encoded data removed]",
            "text/plain": [
              "<Figure size 648x432 with 6 Axes>"
            ]
          },
          "metadata": {
            "needs_background": "light"
          }
        }
      ],
      "source": [
        "#Visual statistics of our model's results\n",
        "\n",
        "interp = ClassificationInterpretation.from_learner(learn)\n",
        "interp.plot_confusion_matrix()\n",
        "interp.plot_top_losses(5, nrows=2)"
      ]
    },
    {
      "cell_type": "code",
      "source": [
        "from fastai.vision.widgets import * \n",
        "#We import a widget that is a tool used to clean our data by changing labels and deleting unwanted data that could affect our machine\n",
        "cleaner = ImageClassifierCleaner(learn)\n",
        "cleaner"
      ],
      "metadata": {
        "id": "TWQT-aK338WF"
      },
      "execution_count": null,
      "outputs": []
    },
    {
      "cell_type": "code",
      "source": [
        "for idx in cleaner.delete():cleaner.fns[idx].unlink()\n",
        "#this deletes images that have been selected to be deleted by the cleaner\n"
      ],
      "metadata": {
        "id": "BVvFuM3E4aE3"
      },
      "execution_count": 30,
      "outputs": []
    },
    {
      "cell_type": "code",
      "execution_count": 32,
      "metadata": {
        "id": "xLiYHU7Ms0g2"
      },
      "outputs": [],
      "source": [
        "for idx,cat in cleaner.change(): shutil.move(str(cleaner.fns[idx]),path/cat)"
      ]
    },
    {
      "cell_type": "code",
      "source": [
        "learn.export()"
      ],
      "metadata": {
        "id": "MvpsrhF-7VEh"
      },
      "execution_count": 34,
      "outputs": []
    },
    {
      "cell_type": "code",
      "source": [
        "path = Path()\n",
        "path.ls(file_exts='.pkl')\n"
      ],
      "metadata": {
        "colab": {
          "base_uri": "https://localhost:8080/"
        },
        "id": "KX3SD68A9J0G",
        "outputId": "360db415-8594-4d15-8083-82b1adf58a1e"
      },
      "execution_count": 36,
      "outputs": [
        {
          "output_type": "execute_result",
          "data": {
            "text/plain": [
              "(#1) [Path('export.pkl')]"
            ]
          },
          "metadata": {},
          "execution_count": 36
        }
      ]
    },
    {
      "cell_type": "code",
      "source": [
        "learn_inf = load_learner(path/'export.pkl')"
      ],
      "metadata": {
        "id": "oFnv0FyR9cFN"
      },
      "execution_count": 37,
      "outputs": []
    },
    {
      "cell_type": "code",
      "source": [
        "#uploader = widgets.FileUpload()\n",
        "#uploader"
      ],
      "metadata": {
        "id": "rU58ipoi9nR3"
      },
      "execution_count": 70,
      "outputs": []
    },
    {
      "cell_type": "code",
      "source": [
        "#img = PILImage.create(uploader.data[0])\n",
        "#img.to_thumb(192, 192)"
      ],
      "metadata": {
        "id": "8ChzWmNN9Nnt"
      },
      "execution_count": 71,
      "outputs": []
    },
    {
      "cell_type": "code",
      "source": [
        "#learn_inf.predict(img)"
      ],
      "metadata": {
        "colab": {
          "base_uri": "https://localhost:8080/",
          "height": 34
        },
        "id": "IGEWKtdk-Lpo",
        "outputId": "d2a7b0c4-0326-4aec-9ab6-0cded8af51bd"
      },
      "execution_count": 42,
      "outputs": [
        {
          "output_type": "display_data",
          "data": {
            "text/html": [
              ""
            ],
            "text/plain": [
              "<IPython.core.display.HTML object>"
            ]
          },
          "metadata": {}
        },
        {
          "output_type": "execute_result",
          "data": {
            "text/plain": [
              "('black bear', TensorBase(0), TensorBase([9.9945e-01, 5.5069e-04, 2.7280e-07]))"
            ]
          },
          "metadata": {},
          "execution_count": 42
        }
      ]
    },
    {
      "cell_type": "code",
      "source": [
        "learn_inf.dls.vocab"
      ],
      "metadata": {
        "colab": {
          "base_uri": "https://localhost:8080/"
        },
        "id": "Dhj_zCWi-WCX",
        "outputId": "a71f91fe-efb0-4448-e7b4-8990dfca0ad1"
      },
      "execution_count": 44,
      "outputs": [
        {
          "output_type": "execute_result",
          "data": {
            "text/plain": [
              "['black bear', 'grizzly', 'teddy bear']"
            ]
          },
          "metadata": {},
          "execution_count": 44
        }
      ]
    },
    {
      "cell_type": "code",
      "source": [
        "btn_upload = widgets.FileUpload()\n"
      ],
      "metadata": {
        "id": "moqagfHD-jGX"
      },
      "execution_count": 45,
      "outputs": []
    },
    {
      "cell_type": "code",
      "source": [
        "btn_upload"
      ],
      "metadata": {
        "colab": {
          "base_uri": "https://localhost:8080/",
          "height": 49,
          "referenced_widgets": [
            "a42e69d35633451580177686c68573cb",
            "3a04532c99fa44838bf0eba9f1b7d5aa",
            "f6785ca97eb5424dbbed4dfc764aa009"
          ]
        },
        "id": "ey_EAsSo_Eng",
        "outputId": "fe59da2a-d8d3-447f-f9f2-2e673aa57d8d"
      },
      "execution_count": 46,
      "outputs": [
        {
          "output_type": "display_data",
          "data": {
            "application/vnd.jupyter.widget-view+json": {
              "model_id": "a42e69d35633451580177686c68573cb",
              "version_minor": 0,
              "version_major": 2
            },
            "text/plain": [
              "FileUpload(value={}, description='Upload')"
            ]
          },
          "metadata": {}
        }
      ]
    },
    {
      "cell_type": "code",
      "source": [
        "img = PILImage.create(btn_upload.data[-1])\n",
        "img.to_thumb(192,192)"
      ],
      "metadata": {
        "colab": {
          "base_uri": "https://localhost:8080/",
          "height": 145
        },
        "id": "3TSLOXCO_G_A",
        "outputId": "8846efeb-f6ba-4ceb-ca97-27bc0912afe4"
      },
      "execution_count": 49,
      "outputs": [
        {
          "output_type": "execute_result",
          "data": {
            "image/png": "[encoded data removed]",
            "text/plain": [
              "<PIL.Image.Image image mode=RGB size=192x128 at 0x7F6B26717510>"
            ]
          },
          "metadata": {},
          "execution_count": 49
        }
      ]
    },
    {
      "cell_type": "code",
      "source": [
        "out_pl = widgets.Output()\n",
        "out_pl.clear_output()\n",
        "with out_pl: display(img.to_thumb(128,128))\n",
        "out_pl"
      ],
      "metadata": {
        "colab": {
          "base_uri": "https://localhost:8080/",
          "height": 145,
          "referenced_widgets": [
            "2296969947d242858996fa258cde6ee7",
            "db7a0f23b40343d2bd66d4182a568504"
          ]
        },
        "id": "CFHqM-nw_rbp",
        "outputId": "1a7a5ae3-dfd8-4b2d-ec42-40cbd7ee49e8"
      },
      "execution_count": 64,
      "outputs": [
        {
          "output_type": "display_data",
          "data": {
            "application/vnd.jupyter.widget-view+json": {
              "model_id": "2296969947d242858996fa258cde6ee7",
              "version_minor": 0,
              "version_major": 2
            },
            "text/plain": [
              "Output()"
            ]
          },
          "metadata": {}
        }
      ]
    },
    {
      "cell_type": "code",
      "source": [
        "pred, pred_idx, probs = learn_inf.predict(img)\n"
      ],
      "metadata": {
        "colab": {
          "base_uri": "https://localhost:8080/",
          "height": 17
        },
        "id": "glThywLsAhxq",
        "outputId": "c64755e0-0089-4a80-9451-d00d21133165"
      },
      "execution_count": 53,
      "outputs": [
        {
          "output_type": "display_data",
          "data": {
            "text/html": [
              ""
            ],
            "text/plain": [
              "<IPython.core.display.HTML object>"
            ]
          },
          "metadata": {}
        }
      ]
    },
    {
      "cell_type": "code",
      "source": [
        "lbl_pred = widgets.Label()"
      ],
      "metadata": {
        "id": "bLj0WsREBWEi"
      },
      "execution_count": 54,
      "outputs": []
    },
    {
      "cell_type": "code",
      "source": [
        "lbl_pred.value = f'Prediction: {pred}; Probability:{probs[pred_idx]:.04f}'\n",
        "lbl_pred"
      ],
      "metadata": {
        "colab": {
          "base_uri": "https://localhost:8080/",
          "height": 49,
          "referenced_widgets": [
            "d33b8efbc1814cc18dfc69b22f1155a8",
            "da9d700ba8104ba2ac653be56910db23",
            "2095d1a1fad04edcbc2c2a891d9c0005"
          ]
        },
        "id": "2kWhNGULAxT1",
        "outputId": "65d045f1-872a-467f-ab36-c97460cb4f8d"
      },
      "execution_count": 55,
      "outputs": [
        {
          "output_type": "display_data",
          "data": {
            "application/vnd.jupyter.widget-view+json": {
              "model_id": "d33b8efbc1814cc18dfc69b22f1155a8",
              "version_minor": 0,
              "version_major": 2
            },
            "text/plain": [
              "Label(value='Prediction: grizzly; Probability:1.0000')"
            ]
          },
          "metadata": {}
        }
      ]
    },
    {
      "cell_type": "code",
      "source": [
        "from fastai.vision.widgets import *\n",
        "\n",
        "btn_run = widgets.Button(description='Classify')\n",
        "btn_run"
      ],
      "metadata": {
        "colab": {
          "base_uri": "https://localhost:8080/",
          "height": 49,
          "referenced_widgets": [
            "0ce2545aaf474150a792621718e5eadd",
            "921d458a70a04df19131c0554edf1aa0",
            "6ad2ced66aa9483287ede22467b5de2e"
          ]
        },
        "id": "XTOA5iUhBtfQ",
        "outputId": "a54c78f1-1f87-4f62-a790-c228b92a63ea"
      },
      "execution_count": 58,
      "outputs": [
        {
          "output_type": "display_data",
          "data": {
            "application/vnd.jupyter.widget-view+json": {
              "model_id": "0ce2545aaf474150a792621718e5eadd",
              "version_minor": 0,
              "version_major": 2
            },
            "text/plain": [
              "Button(description='Classify', style=ButtonStyle())"
            ]
          },
          "metadata": {}
        }
      ]
    },
    {
      "cell_type": "code",
      "source": [
        "def on_click_classify(change):\n",
        "   img = PILImage.create(btn_upload.data[0])\n",
        "   out_pl= widgets.Output()\n",
        "   out_pl.clear_output()\n",
        "   with out_pl: display(img.to_thumb(128,128))\n",
        "   pred, pred_idx, probs = learn_inf.predict(img)\n",
        "   lbl_pred.value = f'Prediction: {pred}; Probability:{probs[pred_idx]:.04f}'\n",
        "\n",
        "\n",
        "\n",
        "btn_run.on_click(on_click_classify)\n",
        "\n"
      ],
      "metadata": {
        "id": "SY35T_2jCPh_"
      },
      "execution_count": 68,
      "outputs": []
    },
    {
      "cell_type": "code",
      "source": [
        "VBox([widgets.Label('Select your bear!'),btn_upload, btn_run, out_pl, lbl_pred])\n",
        "\n"
      ],
      "metadata": {
        "colab": {
          "base_uri": "https://localhost:8080/",
          "height": 273,
          "referenced_widgets": [
            "2fea643e37104ac4a6e5d589e62656fa",
            "1ed358dc86684e8297acdce469f5a370",
            "22c8f70bcad74b9fb7bf67844dbf6adf",
            "a42e69d35633451580177686c68573cb",
            "0ce2545aaf474150a792621718e5eadd",
            "2296969947d242858996fa258cde6ee7",
            "d33b8efbc1814cc18dfc69b22f1155a8",
            "9696f68a140045d999e916e3f557c903",
            "03e2a5c79cf344ab82e0b3762549952a",
            "3a04532c99fa44838bf0eba9f1b7d5aa",
            "f6785ca97eb5424dbbed4dfc764aa009",
            "921d458a70a04df19131c0554edf1aa0",
            "6ad2ced66aa9483287ede22467b5de2e",
            "da9d700ba8104ba2ac653be56910db23",
            "2095d1a1fad04edcbc2c2a891d9c0005",
            "db7a0f23b40343d2bd66d4182a568504"
          ]
        },
        "id": "0JLBctyiEV3x",
        "outputId": "a1bc61c6-9df0-42f5-fd0b-7f9b8236f3ca"
      },
      "execution_count": 72,
      "outputs": [
        {
          "output_type": "display_data",
          "data": {
            "application/vnd.jupyter.widget-view+json": {
              "model_id": "2fea643e37104ac4a6e5d589e62656fa",
              "version_minor": 0,
              "version_major": 2
            },
            "text/plain": [
              "VBox(children=(Label(value='Select your bear!'), FileUpload(value={'22-Bear-climbing-for-backpack-400x400.jpg'…"
            ]
          },
          "metadata": {}
        }
      ]
    },
    {
      "cell_type": "code",
      "source": [
        "!pip install viola"
      ],
      "metadata": {
        "colab": {
          "base_uri": "https://localhost:8080/"
        },
        "id": "6JE4GOu6HAAG",
        "outputId": "2d45f68f-0aa7-458a-d258-de0def5edb25"
      },
      "execution_count": 73,
      "outputs": [
        {
          "output_type": "stream",
          "name": "stdout",
          "text": [
            "Collecting viola\n",
            "  Downloading viola-0.3.8-py3-none-any.whl (14 kB)\n",
            "Installing collected packages: viola\n",
            "Successfully installed viola-0.3.8\n"
          ]
        }
      ]
    },
    {
      "cell_type": "code",
      "source": [
        "!jupyter serverextension enable viola --sys-prefix"
      ],
      "metadata": {
        "colab": {
          "base_uri": "https://localhost:8080/"
        },
        "id": "U-Kg6VNvHCkj",
        "outputId": "c11f2ce4-8ee4-45f9-acce-3a3ad7e1eaa5"
      },
      "execution_count": 74,
      "outputs": [
        {
          "output_type": "stream",
          "name": "stdout",
          "text": [
            "Enabling: viola\n",
            "- Writing config: /usr/etc/jupyter\n",
            "    - Validating...\n",
            "Error loading server extension viola\n",
            "     \u001b[31m X\u001b[0m is viola importable?\n"
          ]
        }
      ]
    },
    {
      "cell_type": "code",
      "source": [
        ""
      ],
      "metadata": {
        "id": "YzDXr-5NHSLT"
      },
      "execution_count": null,
      "outputs": []
    }
  ],
  "metadata": {
    "accelerator": "GPU",
    "colab": {
      "name": "BearClassifier.ipynb",
      "provenance": [],
      "collapsed_sections": [],
      "include_colab_link": true
    },
    "kernelspec": {
      "display_name": "Python 3",
      "name": "python3"
    },
    "language_info": {
      "name": "python"
    },
    "widgets": {
      "application/vnd.jupyter.widget-state+json": {
        "a42e69d35633451580177686c68573cb": {
          "model_module": "@jupyter-widgets/controls",
          "model_name": "FileUploadModel",
          "model_module_version": "1.5.0",
          "state": {
            "_view_name": "FileUploadView",
            "_counter": 5,
            "style": "IPY_MODEL_3a04532c99fa44838bf0eba9f1b7d5aa",
            "_dom_classes": [],
            "description": "Upload",
            "multiple": false,
            "_model_name": "FileUploadModel",
            "data": [
              null
            ],
            "button_style": "",
            "_view_module": "@jupyter-widgets/controls",
            "_model_module_version": "1.5.0",
            "accept": "",
            "_view_count": null,
            "disabled": false,
            "_view_module_version": "1.5.0",
            "error": "",
            "description_tooltip": null,
            "metadata": [
              {
                "name": "22-Bear-climbing-for-backpack-400x400.jpg",
                "type": "image/jpeg",
                "size": 50327,
                "lastModified": 1643191728191
              }
            ],
            "_model_module": "@jupyter-widgets/controls",
            "layout": "IPY_MODEL_f6785ca97eb5424dbbed4dfc764aa009",
            "icon": "upload"
          }
        },
        "3a04532c99fa44838bf0eba9f1b7d5aa": {
          "model_module": "@jupyter-widgets/controls",
          "model_name": "ButtonStyleModel",
          "model_module_version": "1.5.0",
          "state": {
            "_view_name": "StyleView",
            "_model_name": "ButtonStyleModel",
            "_view_module": "@jupyter-widgets/base",
            "_model_module_version": "1.5.0",
            "_view_count": null,
            "button_color": null,
            "font_weight": "",
            "_view_module_version": "1.2.0",
            "_model_module": "@jupyter-widgets/controls"
          }
        },
        "f6785ca97eb5424dbbed4dfc764aa009": {
          "model_module": "@jupyter-widgets/base",
          "model_name": "LayoutModel",
          "model_module_version": "1.2.0",
          "state": {
            "_view_name": "LayoutView",
            "grid_template_rows": null,
            "right": null,
            "justify_content": null,
            "_view_module": "@jupyter-widgets/base",
            "overflow": null,
            "_model_module_version": "1.2.0",
            "_view_count": null,
            "flex_flow": null,
            "width": null,
            "min_width": null,
            "border": null,
            "align_items": null,
            "bottom": null,
            "_model_module": "@jupyter-widgets/base",
            "top": null,
            "grid_column": null,
            "overflow_y": null,
            "overflow_x": null,
            "grid_auto_flow": null,
            "grid_area": null,
            "grid_template_columns": null,
            "flex": null,
            "_model_name": "LayoutModel",
            "justify_items": null,
            "grid_row": null,
            "max_height": null,
            "align_content": null,
            "visibility": null,
            "align_self": null,
            "height": null,
            "min_height": null,
            "padding": null,
            "grid_auto_rows": null,
            "grid_gap": null,
            "max_width": null,
            "order": null,
            "_view_module_version": "1.2.0",
            "grid_template_areas": null,
            "object_position": null,
            "object_fit": null,
            "grid_auto_columns": null,
            "margin": null,
            "display": null,
            "left": null
          }
        },
        "2296969947d242858996fa258cde6ee7": {
          "model_module": "@jupyter-widgets/output",
          "model_name": "OutputModel",
          "model_module_version": "1.0.0",
          "state": {
            "_view_name": "OutputView",
            "msg_id": "",
            "_dom_classes": [],
            "_model_name": "OutputModel",
            "outputs": [
              {
                "output_type": "display_data",
                "data": {
                  "image/png": "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\n",
                  "text/plain": "<PIL.Image.Image image mode=RGB size=128x128 at 0x7F6B17127250>"
                },
                "metadata": {}
              }
            ],
            "_view_module": "@jupyter-widgets/output",
            "_model_module_version": "1.0.0",
            "_view_count": null,
            "_view_module_version": "1.0.0",
            "layout": "IPY_MODEL_db7a0f23b40343d2bd66d4182a568504",
            "_model_module": "@jupyter-widgets/output"
          }
        },
        "db7a0f23b40343d2bd66d4182a568504": {
          "model_module": "@jupyter-widgets/base",
          "model_name": "LayoutModel",
          "model_module_version": "1.2.0",
          "state": {
            "_view_name": "LayoutView",
            "grid_template_rows": null,
            "right": null,
            "justify_content": null,
            "_view_module": "@jupyter-widgets/base",
            "overflow": null,
            "_model_module_version": "1.2.0",
            "_view_count": null,
            "flex_flow": null,
            "width": null,
            "min_width": null,
            "border": null,
            "align_items": null,
            "bottom": null,
            "_model_module": "@jupyter-widgets/base",
            "top": null,
            "grid_column": null,
            "overflow_y": null,
            "overflow_x": null,
            "grid_auto_flow": null,
            "grid_area": null,
            "grid_template_columns": null,
            "flex": null,
            "_model_name": "LayoutModel",
            "justify_items": null,
            "grid_row": null,
            "max_height": null,
            "align_content": null,
            "visibility": null,
            "align_self": null,
            "height": null,
            "min_height": null,
            "padding": null,
            "grid_auto_rows": null,
            "grid_gap": null,
            "max_width": null,
            "order": null,
            "_view_module_version": "1.2.0",
            "grid_template_areas": null,
            "object_position": null,
            "object_fit": null,
            "grid_auto_columns": null,
            "margin": null,
            "display": null,
            "left": null
          }
        },
        "d33b8efbc1814cc18dfc69b22f1155a8": {
          "model_module": "@jupyter-widgets/controls",
          "model_name": "LabelModel",
          "model_module_version": "1.5.0",
          "state": {
            "_view_name": "LabelView",
            "style": "IPY_MODEL_da9d700ba8104ba2ac653be56910db23",
            "_dom_classes": [],
            "description": "",
            "_model_name": "LabelModel",
            "placeholder": "​",
            "_view_module": "@jupyter-widgets/controls",
            "_model_module_version": "1.5.0",
            "value": "Prediction: black bear; Probability:0.9994",
            "_view_count": null,
            "_view_module_version": "1.5.0",
            "description_tooltip": null,
            "_model_module": "@jupyter-widgets/controls",
            "layout": "IPY_MODEL_2095d1a1fad04edcbc2c2a891d9c0005"
          }
        },
        "da9d700ba8104ba2ac653be56910db23": {
          "model_module": "@jupyter-widgets/controls",
          "model_name": "DescriptionStyleModel",
          "model_module_version": "1.5.0",
          "state": {
            "_view_name": "StyleView",
            "_model_name": "DescriptionStyleModel",
            "description_width": "",
            "_view_module": "@jupyter-widgets/base",
            "_model_module_version": "1.5.0",
            "_view_count": null,
            "_view_module_version": "1.2.0",
            "_model_module": "@jupyter-widgets/controls"
          }
        },
        "2095d1a1fad04edcbc2c2a891d9c0005": {
          "model_module": "@jupyter-widgets/base",
          "model_name": "LayoutModel",
          "model_module_version": "1.2.0",
          "state": {
            "_view_name": "LayoutView",
            "grid_template_rows": null,
            "right": null,
            "justify_content": null,
            "_view_module": "@jupyter-widgets/base",
            "overflow": null,
            "_model_module_version": "1.2.0",
            "_view_count": null,
            "flex_flow": null,
            "width": null,
            "min_width": null,
            "border": null,
            "align_items": null,
            "bottom": null,
            "_model_module": "@jupyter-widgets/base",
            "top": null,
            "grid_column": null,
            "overflow_y": null,
            "overflow_x": null,
            "grid_auto_flow": null,
            "grid_area": null,
            "grid_template_columns": null,
            "flex": null,
            "_model_name": "LayoutModel",
            "justify_items": null,
            "grid_row": null,
            "max_height": null,
            "align_content": null,
            "visibility": null,
            "align_self": null,
            "height": null,
            "min_height": null,
            "padding": null,
            "grid_auto_rows": null,
            "grid_gap": null,
            "max_width": null,
            "order": null,
            "_view_module_version": "1.2.0",
            "grid_template_areas": null,
            "object_position": null,
            "object_fit": null,
            "grid_auto_columns": null,
            "margin": null,
            "display": null,
            "left": null
          }
        },
        "0ce2545aaf474150a792621718e5eadd": {
          "model_module": "@jupyter-widgets/controls",
          "model_name": "ButtonModel",
          "model_module_version": "1.5.0",
          "state": {
            "_view_name": "ButtonView",
            "style": "IPY_MODEL_921d458a70a04df19131c0554edf1aa0",
            "_dom_classes": [],
            "description": "Classify",
            "_model_name": "ButtonModel",
            "button_style": "",
            "_view_module": "@jupyter-widgets/controls",
            "_model_module_version": "1.5.0",
            "tooltip": "",
            "_view_count": null,
            "disabled": false,
            "_view_module_version": "1.5.0",
            "layout": "IPY_MODEL_6ad2ced66aa9483287ede22467b5de2e",
            "_model_module": "@jupyter-widgets/controls",
            "icon": ""
          }
        },
        "921d458a70a04df19131c0554edf1aa0": {
          "model_module": "@jupyter-widgets/controls",
          "model_name": "ButtonStyleModel",
          "model_module_version": "1.5.0",
          "state": {
            "_view_name": "StyleView",
            "_model_name": "ButtonStyleModel",
            "_view_module": "@jupyter-widgets/base",
            "_model_module_version": "1.5.0",
            "_view_count": null,
            "button_color": null,
            "font_weight": "",
            "_view_module_version": "1.2.0",
            "_model_module": "@jupyter-widgets/controls"
          }
        },
        "6ad2ced66aa9483287ede22467b5de2e": {
          "model_module": "@jupyter-widgets/base",
          "model_name": "LayoutModel",
          "model_module_version": "1.2.0",
          "state": {
            "_view_name": "LayoutView",
            "grid_template_rows": null,
            "right": null,
            "justify_content": null,
            "_view_module": "@jupyter-widgets/base",
            "overflow": null,
            "_model_module_version": "1.2.0",
            "_view_count": null,
            "flex_flow": null,
            "width": null,
            "min_width": null,
            "border": null,
            "align_items": null,
            "bottom": null,
            "_model_module": "@jupyter-widgets/base",
            "top": null,
            "grid_column": null,
            "overflow_y": null,
            "overflow_x": null,
            "grid_auto_flow": null,
            "grid_area": null,
            "grid_template_columns": null,
            "flex": null,
            "_model_name": "LayoutModel",
            "justify_items": null,
            "grid_row": null,
            "max_height": null,
            "align_content": null,
            "visibility": null,
            "align_self": null,
            "height": null,
            "min_height": null,
            "padding": null,
            "grid_auto_rows": null,
            "grid_gap": null,
            "max_width": null,
            "order": null,
            "_view_module_version": "1.2.0",
            "grid_template_areas": null,
            "object_position": null,
            "object_fit": null,
            "grid_auto_columns": null,
            "margin": null,
            "display": null,
            "left": null
          }
        },
        "2fea643e37104ac4a6e5d589e62656fa": {
          "model_module": "@jupyter-widgets/controls",
          "model_name": "VBoxModel",
          "model_module_version": "1.5.0",
          "state": {
            "_view_name": "VBoxView",
            "_dom_classes": [],
            "_model_name": "VBoxModel",
            "_view_module": "@jupyter-widgets/controls",
            "_model_module_version": "1.5.0",
            "_view_count": null,
            "_view_module_version": "1.5.0",
            "box_style": "",
            "layout": "IPY_MODEL_1ed358dc86684e8297acdce469f5a370",
            "_model_module": "@jupyter-widgets/controls",
            "children": [
              "IPY_MODEL_22c8f70bcad74b9fb7bf67844dbf6adf",
              "IPY_MODEL_a42e69d35633451580177686c68573cb",
              "IPY_MODEL_0ce2545aaf474150a792621718e5eadd",
              "IPY_MODEL_2296969947d242858996fa258cde6ee7",
              "IPY_MODEL_d33b8efbc1814cc18dfc69b22f1155a8"
            ]
          }
        },
        "1ed358dc86684e8297acdce469f5a370": {
          "model_module": "@jupyter-widgets/base",
          "model_name": "LayoutModel",
          "model_module_version": "1.2.0",
          "state": {
            "_view_name": "LayoutView",
            "grid_template_rows": null,
            "right": null,
            "justify_content": null,
            "_view_module": "@jupyter-widgets/base",
            "overflow": null,
            "_model_module_version": "1.2.0",
            "_view_count": null,
            "flex_flow": null,
            "width": null,
            "min_width": null,
            "border": null,
            "align_items": null,
            "bottom": null,
            "_model_module": "@jupyter-widgets/base",
            "top": null,
            "grid_column": null,
            "overflow_y": null,
            "overflow_x": null,
            "grid_auto_flow": null,
            "grid_area": null,
            "grid_template_columns": null,
            "flex": null,
            "_model_name": "LayoutModel",
            "justify_items": null,
            "grid_row": null,
            "max_height": null,
            "align_content": null,
            "visibility": null,
            "align_self": null,
            "height": null,
            "min_height": null,
            "padding": null,
            "grid_auto_rows": null,
            "grid_gap": null,
            "max_width": null,
            "order": null,
            "_view_module_version": "1.2.0",
            "grid_template_areas": null,
            "object_position": null,
            "object_fit": null,
            "grid_auto_columns": null,
            "margin": null,
            "display": null,
            "left": null
          }
        },
        "22c8f70bcad74b9fb7bf67844dbf6adf": {
          "model_module": "@jupyter-widgets/controls",
          "model_name": "LabelModel",
          "model_module_version": "1.5.0",
          "state": {
            "_view_name": "LabelView",
            "style": "IPY_MODEL_9696f68a140045d999e916e3f557c903",
            "_dom_classes": [],
            "description": "",
            "_model_name": "LabelModel",
            "placeholder": "​",
            "_view_module": "@jupyter-widgets/controls",
            "_model_module_version": "1.5.0",
            "value": "Select your bear!",
            "_view_count": null,
            "_view_module_version": "1.5.0",
            "description_tooltip": null,
            "_model_module": "@jupyter-widgets/controls",
            "layout": "IPY_MODEL_03e2a5c79cf344ab82e0b3762549952a"
          }
        },
        "9696f68a140045d999e916e3f557c903": {
          "model_module": "@jupyter-widgets/controls",
          "model_name": "DescriptionStyleModel",
          "model_module_version": "1.5.0",
          "state": {
            "_view_name": "StyleView",
            "_model_name": "DescriptionStyleModel",
            "description_width": "",
            "_view_module": "@jupyter-widgets/base",
            "_model_module_version": "1.5.0",
            "_view_count": null,
            "_view_module_version": "1.2.0",
            "_model_module": "@jupyter-widgets/controls"
          }
        },
        "03e2a5c79cf344ab82e0b3762549952a": {
          "model_module": "@jupyter-widgets/base",
          "model_name": "LayoutModel",
          "model_module_version": "1.2.0",
          "state": {
            "_view_name": "LayoutView",
            "grid_template_rows": null,
            "right": null,
            "justify_content": null,
            "_view_module": "@jupyter-widgets/base",
            "overflow": null,
            "_model_module_version": "1.2.0",
            "_view_count": null,
            "flex_flow": null,
            "width": null,
            "min_width": null,
            "border": null,
            "align_items": null,
            "bottom": null,
            "_model_module": "@jupyter-widgets/base",
            "top": null,
            "grid_column": null,
            "overflow_y": null,
            "overflow_x": null,
            "grid_auto_flow": null,
            "grid_area": null,
            "grid_template_columns": null,
            "flex": null,
            "_model_name": "LayoutModel",
            "justify_items": null,
            "grid_row": null,
            "max_height": null,
            "align_content": null,
            "visibility": null,
            "align_self": null,
            "height": null,
            "min_height": null,
            "padding": null,
            "grid_auto_rows": null,
            "grid_gap": null,
            "max_width": null,
            "order": null,
            "_view_module_version": "1.2.0",
            "grid_template_areas": null,
            "object_position": null,
            "object_fit": null,
            "grid_auto_columns": null,
            "margin": null,
            "display": null,
            "left": null
          }
        }
      }
    }
  },
  "nbformat": 4,
  "nbformat_minor": 0
}