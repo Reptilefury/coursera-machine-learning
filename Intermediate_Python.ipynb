{
  "nbformat": 4,
  "nbformat_minor": 0,
  "metadata": {
    "colab": {
      "name": "Intermediate Python.ipynb",
      "provenance": [],
      "authorship_tag": "ABX9TyNgj6dt6QmDzdE1cfHftDud",
      "include_colab_link": true
    },
    "kernelspec": {
      "name": "python3",
      "display_name": "Python 3"
    },
    "language_info": {
      "name": "python"
    }
  },
  "cells": [
    {
      "cell_type": "markdown",
      "metadata": {
        "id": "view-in-github",
        "colab_type": "text"
      },
      "source": [
        "<a href=\"https://colab.research.google.com/github/Reptilefury/coursera-machine-learning/blob/main/Intermediate_Python.ipynb\" target=\"_parent\"><img src=\"https://colab.research.google.com/assets/colab-badge.svg\" alt=\"Open In Colab\"/></a>"
      ]
    },
    {
      "cell_type": "code",
      "execution_count": null,
      "metadata": {
        "colab": {
          "base_uri": "https://localhost:8080/"
        },
        "id": "k_LpTxkf6iWr",
        "outputId": "dbff0f0e-a939-4252-96ab-0f81ecbaa444"
      },
      "outputs": [
        {
          "output_type": "stream",
          "name": "stdout",
          "text": [
            "The Zen of Python, by Tim Peters\n",
            "\n",
            "Beautiful is better than ugly.\n",
            "Explicit is better than implicit.\n",
            "Simple is better than complex.\n",
            "Complex is better than complicated.\n",
            "Flat is better than nested.\n",
            "Sparse is better than dense.\n",
            "Readability counts.\n",
            "Special cases aren't special enough to break the rules.\n",
            "Although practicality beats purity.\n",
            "Errors should never pass silently.\n",
            "Unless explicitly silenced.\n",
            "In the face of ambiguity, refuse the temptation to guess.\n",
            "There should be one-- and preferably only one --obvious way to do it.\n",
            "Although that way may not be obvious at first unless you're Dutch.\n",
            "Now is better than never.\n",
            "Although never is often better than *right* now.\n",
            "If the implementation is hard to explain, it's a bad idea.\n",
            "If the implementation is easy to explain, it may be a good idea.\n",
            "Namespaces are one honking great idea -- let's do more of those!\n"
          ]
        }
      ],
      "source": [
        "import this"
      ]
    },
    {
      "cell_type": "markdown",
      "source": [
        "Following the OOP paradigm we should be able to write code that is\n",
        "modular\n",
        "efficient \n",
        "maintainable\n",
        "scalable"
      ],
      "metadata": {
        "id": "lU58kqjJ646t"
      }
    },
    {
      "cell_type": "markdown",
      "source": [
        "String concatenation"
      ],
      "metadata": {
        "id": "9F7eBVvR7HI_"
      }
    },
    {
      "cell_type": "code",
      "source": [
        "names = [\" Anna Seehaus\", \" Jenna Cotrell\"]\n",
        "start = \" Whoever is called:\"\n",
        "end = \" is a B*** \"\n",
        "for name in names:\n",
        "  print(start + name + end)"
      ],
      "metadata": {
        "colab": {
          "base_uri": "https://localhost:8080/"
        },
        "id": "6kbQLF-26zaI",
        "outputId": "daac0baf-c682-4601-b271-6cfe7c6f3e62"
      },
      "execution_count": null,
      "outputs": [
        {
          "output_type": "stream",
          "name": "stdout",
          "text": [
            " Whoever is called: Anna Seehaus is a B*** \n",
            " Whoever is called: Jenna Cotrell is a B*** \n"
          ]
        }
      ]
    },
    {
      "cell_type": "markdown",
      "source": [
        "Using the .join to add string together"
      ],
      "metadata": {
        "id": "eVYakvyJ8Ov2"
      }
    },
    {
      "cell_type": "code",
      "source": [
        "names = [\" Anna Seehaus \"]\n",
        "for name in names:\n",
        "  statement = ' '.join(['Hello there',name])\n",
        "  print(statement)"
      ],
      "metadata": {
        "colab": {
          "base_uri": "https://localhost:8080/"
        },
        "id": "IZ4D-vLK74YV",
        "outputId": "86e181fe-89ae-466d-f935-2a85fedb52ed"
      },
      "execution_count": null,
      "outputs": [
        {
          "output_type": "stream",
          "name": "stdout",
          "text": [
            "Hello there  Anna Seehaus \n"
          ]
        }
      ]
    },
    {
      "cell_type": "code",
      "source": [
        "names = [\"Anna\", \"Jenna\", \"Lena\"]\n",
        "print(' , '.join(names))\n",
        "\n",
        "cars = [\"Mercedes\",\"Tundra\",\"F150\",\"K-BLAZER\",\"Pre-Runner\"]\n",
        "print(' , '.join(cars))\n",
        "drive = \" Self driving\"\n",
        "for car in cars:\n",
        "  print(\"I will make a: \" + car +  drive)\n",
        "\n",
        "#Join paths in strings \n",
        "path = \"/content/\"\n",
        "file = \"readme.txt\"\n",
        "\n",
        "import os\n",
        "with open(os.path.join(path,file)) as f:\n",
        "  print(f.read())"
      ],
      "metadata": {
        "colab": {
          "base_uri": "https://localhost:8080/"
        },
        "id": "dyZ7nD5N8rTd",
        "outputId": "cd837675-0e89-468d-b788-c5e7089c76f1"
      },
      "execution_count": null,
      "outputs": [
        {
          "output_type": "stream",
          "name": "stdout",
          "text": [
            "Anna , Jenna , Lena\n",
            "Mercedes , Tundra , F150 , K-BLAZER , Pre-Runner\n",
            "I will make a: Mercedes Self driving\n",
            "I will make a: Tundra Self driving\n",
            "I will make a: F150 Self driving\n",
            "I will make a: K-BLAZER Self driving\n",
            "I will make a: Pre-Runner Self driving\n",
            "Read Me!!\n"
          ]
        }
      ]
    },
    {
      "cell_type": "code",
      "source": [
        "\n",
        "with open(\"Muhaha.txt\" , 'w') as f:\n",
        "  f.write(\"MUHAHAHHAHAHHAHAHHAHAHHAHA!!!!!\")\n",
        "\n",
        "\n",
        "\n",
        "\n",
        "\n",
        "muaha_path = \"/content/\"\n",
        "file = \"Muhaha.txt\"\n",
        "with  open(os.path.join(muaha_path,file)) as f:\n",
        "  print(f.read())"
      ],
      "metadata": {
        "colab": {
          "base_uri": "https://localhost:8080/"
        },
        "id": "BXKdjY40AUjt",
        "outputId": "f25b9cf7-3f00-4d4b-c2a3-55683303a5dd"
      },
      "execution_count": null,
      "outputs": [
        {
          "output_type": "stream",
          "name": "stdout",
          "text": [
            "MUHAHAHHAHAHHAHAHHAHAHHAHA!!!!!\n"
          ]
        }
      ]
    },
    {
      "cell_type": "markdown",
      "source": [
        "String concatenation using the .join method"
      ],
      "metadata": {
        "id": "UB2Z8pbw_Oxb"
      }
    },
    {
      "cell_type": "code",
      "source": [
        "with open('readme.txt' ,'w') as f:\n",
        "  f.write('Read Me!!')"
      ],
      "metadata": {
        "id": "Ph3tWkbZ-yuN"
      },
      "execution_count": null,
      "outputs": []
    },
    {
      "cell_type": "code",
      "source": [
        "with open(\"Mercedes.txt\", 'w') as f:\n",
        "  f.write(\"Mercedes Maybachs\")"
      ],
      "metadata": {
        "id": "t58V-rFz_0qF"
      },
      "execution_count": null,
      "outputs": []
    },
    {
      "cell_type": "code",
      "source": [
        "with open(\"customer.txt\",'w') as f:\n",
        "  f.write(\"Onyango\")\n",
        "\n",
        "car_path = \"/content/\"\n",
        "car_name = \"Mercedes.txt\"\n",
        "customer_path = \"/content/customer.txt/\"\n",
        "customer_name = \"customer.txt\"\n",
        "with open(os.path.join(car_path,car_name)) as f:\n",
        "  print(f.read())\n"
      ],
      "metadata": {
        "colab": {
          "base_uri": "https://localhost:8080/"
        },
        "id": "oAVX_7MoCAzT",
        "outputId": "aaa80ac7-841a-492e-f61f-991a33d36dd5"
      },
      "execution_count": null,
      "outputs": [
        {
          "output_type": "stream",
          "name": "stdout",
          "text": [
            "Mercedes Maybachs\n"
          ]
        }
      ]
    },
    {
      "cell_type": "code",
      "source": [
        "car = open(os.path.join(car_path,car_name))\n",
        "customer = open(os.path.join(\"/content/\",\"Mercedes.txt\")) \n",
        "customer = \"Onyango\"\n",
        "car = \" 12 Mercedes Maybachs\"\n",
        "\n",
        "print(\"{} bought {} today\".format(customer,car))"
      ],
      "metadata": {
        "colab": {
          "base_uri": "https://localhost:8080/"
        },
        "id": "nhyvQdY9DZ8q",
        "outputId": "13e0fa08-6dd9-4d62-8da9-49a2aaacf83f"
      },
      "execution_count": null,
      "outputs": [
        {
          "output_type": "stream",
          "name": "stdout",
          "text": [
            "Onyango bought  12 Mercedes Maybachs today\n"
          ]
        }
      ]
    },
    {
      "cell_type": "markdown",
      "source": [
        "ARGPARSE for CLI"
      ],
      "metadata": {
        "id": "WFyXnukKFFN4"
      }
    },
    {
      "cell_type": "code",
      "source": [
        "names = [\"Anna McCartney\"]\n",
        "for name in names:\n",
        "  statement = \"Hello There \" + name\n",
        "  print(statement)"
      ],
      "metadata": {
        "id": "IpOUvdEVErar",
        "colab": {
          "base_uri": "https://localhost:8080/"
        },
        "outputId": "f0ab3a3e-12ca-4efc-87a2-c77d0233415f"
      },
      "execution_count": 6,
      "outputs": [
        {
          "output_type": "stream",
          "name": "stdout",
          "text": [
            "Hello There Anna McCartney\n"
          ]
        }
      ]
    },
    {
      "cell_type": "code",
      "source": [
        "names = ['James',\"John\", \"Jonnah\",\"Judas\"]\n",
        "for name in names:\n",
        "  statement = ' '.join([\"Hello there\",name])\n",
        "  print(statement)"
      ],
      "metadata": {
        "colab": {
          "base_uri": "https://localhost:8080/"
        },
        "id": "imgJo1azlL1J",
        "outputId": "139ce07a-77be-4b8d-a289-d8cc5d09f854"
      },
      "execution_count": 9,
      "outputs": [
        {
          "output_type": "stream",
          "name": "stdout",
          "text": [
            "Hello there James\n",
            "Hello there John\n",
            "Hello there Jonnah\n",
            "Hello there Judas\n"
          ]
        }
      ]
    },
    {
      "cell_type": "code",
      "source": [
        "#Printing out a string of all names\n",
        "names = ['James', 'John', \"Judas\",\"Garry\",\"Jacob\"]\n",
        "print(' , '.join(names))"
      ],
      "metadata": {
        "colab": {
          "base_uri": "https://localhost:8080/"
        },
        "id": "KzguokkkmPnp",
        "outputId": "6e45a0cc-eecc-420a-b330-606ba5417c62"
      },
      "execution_count": 14,
      "outputs": [
        {
          "output_type": "stream",
          "name": "stdout",
          "text": [
            "James , John , Judas , Garry , Jacob\n"
          ]
        }
      ]
    },
    {
      "cell_type": "code",
      "source": [
        "with open(\"DeepLearning.txt\", 'w') as f:\n",
        "  f.write(\"Deep Learning, Deep Reinforcement Learning,  Deep Generative Modeling, Natural Languages Processing,\")"
      ],
      "metadata": {
        "id": "0Us2-wvTnJy9"
      },
      "execution_count": 15,
      "outputs": []
    },
    {
      "cell_type": "code",
      "source": [
        "#Lets write a program to write text into a file and save it\n",
        "with open(\"DeepLearning2.txt\", \"w\")  as f:\n",
        "   f.write(\"Computer Vision state of the art CNNs, RNNs used for sequence modelling \")"
      ],
      "metadata": {
        "id": "yDbVt5Knn-r-"
      },
      "execution_count": 22,
      "outputs": []
    },
    {
      "cell_type": "code",
      "source": [
        "#Lets print text stored in the file we just created\n",
        "location_deep2 =\"/content/\"\n",
        "file_name = \"DeepLearning2.txt\"\n",
        "with open(os.path.join(location_deep2, file_name)) as f:\n",
        "  print(f.read())"
      ],
      "metadata": {
        "colab": {
          "base_uri": "https://localhost:8080/"
        },
        "id": "KnRAc0YRpin2",
        "outputId": "aec0b30f-b396-4428-b7ef-461d216c1d77"
      },
      "execution_count": 25,
      "outputs": [
        {
          "output_type": "stream",
          "name": "stdout",
          "text": [
            "Computer Vision state of the art CNNs, RNNs used for sequence modelling \n"
          ]
        }
      ]
    },
    {
      "cell_type": "code",
      "source": [
        "who = \"Gary\"\n",
        "how_many = 12\n",
        "\n",
        "print(\"{} bought {} apples!! today\".format(who, how_many))"
      ],
      "metadata": {
        "colab": {
          "base_uri": "https://localhost:8080/"
        },
        "id": "5J0gmhvkqhhk",
        "outputId": "bafca727-b39c-404d-d195-665cdf324844"
      },
      "execution_count": 28,
      "outputs": [
        {
          "output_type": "stream",
          "name": "stdout",
          "text": [
            "Gary bought 12 apples!! today\n"
          ]
        }
      ]
    },
    {
      "cell_type": "markdown",
      "source": [
        "Calculator program to do the following operations:\n",
        "- Add\n",
        "- Subtract\n",
        "- divide\n",
        "- Multiply\n",
        "\n",
        "\n"
      ],
      "metadata": {
        "id": "u3pfiIBptlSs"
      }
    },
    {
      "cell_type": "code",
      "source": [
        "def calc(x,y, operation):\n",
        "  if operation == 'add':\n",
        "    return x + y\n",
        "  elif operation == 'subtract':\n",
        "    return x - y\n",
        "  elif operation == 'divide':\n",
        "    return x/y\n",
        "  elif operation == \"multi\":\n",
        "    return x * y\n",
        "add =  calc(7,2, 'add')\n",
        "multi = calc(10,5, 'multi')"
      ],
      "metadata": {
        "id": "RkHg6OaQrMOj"
      },
      "execution_count": 34,
      "outputs": []
    },
    {
      "cell_type": "code",
      "source": [
        "import argparse\n",
        "import sys\n",
        "\n",
        "parser = argparse.ArgumentParser()\n",
        "parser.add_argument('--x', type = float, default = 1.0, help = \"What is the first number?\")\n",
        "parser.add_argument('--y',type = float, default = 1.0, help = \"What is the second number?\")\n",
        "parser.add_argument('--operation',type = str, default = \"add\" , help= \"What operation type would you like to choose?, add,sub,mul,div\"                        )\n",
        "\n",
        "args = parser.parse_args()\n",
        "sys.stdout.write(str(calc(args)))"
      ],
      "metadata": {
        "colab": {
          "base_uri": "https://localhost:8080/",
          "height": 203
        },
        "id": "6A6bMdUsvCqT",
        "outputId": "206ed340-a742-43d0-882a-44dea843c819"
      },
      "execution_count": 42,
      "outputs": [
        {
          "output_type": "stream",
          "name": "stderr",
          "text": [
            "usage: ipykernel_launcher.py [-h] [--x X] [--y Y] [--operation OPERATION]\n",
            "ipykernel_launcher.py: error: unrecognized arguments: -f /root/.local/share/jupyter/runtime/kernel-479b9396-f537-4d51-9694-4ab20bbecff3.json\n"
          ]
        },
        {
          "output_type": "error",
          "ename": "SystemExit",
          "evalue": "ignored",
          "traceback": [
            "An exception has occurred, use %tb to see the full traceback.\n",
            "\u001b[0;31mSystemExit\u001b[0m\u001b[0;31m:\u001b[0m 2\n"
          ]
        },
        {
          "output_type": "stream",
          "name": "stderr",
          "text": [
            "/usr/local/lib/python3.7/dist-packages/IPython/core/interactiveshell.py:2890: UserWarning: To exit: use 'exit', 'quit', or Ctrl-D.\n",
            "  warn(\"To exit: use 'exit', 'quit', or Ctrl-D.\", stacklevel=1)\n"
          ]
        }
      ]
    },
    {
      "cell_type": "code",
      "source": [
        ""
      ],
      "metadata": {
        "id": "GsGPFnQNy1s5"
      },
      "execution_count": null,
      "outputs": []
    },
    {
      "cell_type": "code",
      "source": [
        ""
      ],
      "metadata": {
        "id": "j4bc9zRfx1k3"
      },
      "execution_count": null,
      "outputs": []
    },
    {
      "cell_type": "code",
      "source": [
        ""
      ],
      "metadata": {
        "id": "jlPM6Bflxe8L"
      },
      "execution_count": null,
      "outputs": []
    },
    {
      "cell_type": "code",
      "source": [
        ""
      ],
      "metadata": {
        "id": "UvYhUIO3xUxE"
      },
      "execution_count": null,
      "outputs": []
    },
    {
      "cell_type": "code",
      "source": [
        ""
      ],
      "metadata": {
        "id": "_jTSmRfIwzwv"
      },
      "execution_count": null,
      "outputs": []
    },
    {
      "cell_type": "code",
      "source": [
        ""
      ],
      "metadata": {
        "id": "ZpZtJKEmveD7"
      },
      "execution_count": null,
      "outputs": []
    },
    {
      "cell_type": "code",
      "source": [
        ""
      ],
      "metadata": {
        "id": "kERfsDBuvVk0"
      },
      "execution_count": null,
      "outputs": []
    },
    {
      "cell_type": "code",
      "source": [
        ""
      ],
      "metadata": {
        "id": "kdtt8MZ2vS5j"
      },
      "execution_count": null,
      "outputs": []
    },
    {
      "cell_type": "code",
      "source": [
        ""
      ],
      "metadata": {
        "id": "-JrIYHGPu-o1"
      },
      "execution_count": null,
      "outputs": []
    },
    {
      "cell_type": "code",
      "source": [
        ""
      ],
      "metadata": {
        "id": "I8EdH59hu2DI"
      },
      "execution_count": null,
      "outputs": []
    },
    {
      "cell_type": "code",
      "source": [
        ""
      ],
      "metadata": {
        "id": "J7e3kjpBu0Uo"
      },
      "execution_count": null,
      "outputs": []
    },
    {
      "cell_type": "code",
      "source": [
        ""
      ],
      "metadata": {
        "id": "BSWEWyzqusuE"
      },
      "execution_count": null,
      "outputs": []
    },
    {
      "cell_type": "code",
      "source": [
        ""
      ],
      "metadata": {
        "id": "Dn1f7aiTuniK"
      },
      "execution_count": null,
      "outputs": []
    },
    {
      "cell_type": "code",
      "source": [
        ""
      ],
      "metadata": {
        "id": "38LFs1THrKPw"
      },
      "execution_count": null,
      "outputs": []
    },
    {
      "cell_type": "code",
      "source": [
        ""
      ],
      "metadata": {
        "id": "wDgBBSXirHKc"
      },
      "execution_count": null,
      "outputs": []
    },
    {
      "cell_type": "code",
      "source": [
        ""
      ],
      "metadata": {
        "id": "VFxlizBTqheB"
      },
      "execution_count": null,
      "outputs": []
    }
  ]
}