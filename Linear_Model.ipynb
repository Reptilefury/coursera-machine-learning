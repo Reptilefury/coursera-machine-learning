{
  "nbformat": 4,
  "nbformat_minor": 0,
  "metadata": {
    "colab": {
      "name": "Linear Model.ipynb",
      "provenance": [],
      "authorship_tag": "ABX9TyPkZIm54kuz1K9Zy+Mw55kB",
      "include_colab_link": true
    },
    "kernelspec": {
      "name": "python3",
      "display_name": "Python 3"
    },
    "language_info": {
      "name": "python"
    }
  },
  "cells": [
    {
      "cell_type": "markdown",
      "metadata": {
        "id": "view-in-github",
        "colab_type": "text"
      },
      "source": [
        "<a href=\"https://colab.research.google.com/github/Reptilefury/coursera-machine-learning/blob/main/Linear_Model.ipynb\" target=\"_parent\"><img src=\"https://colab.research.google.com/assets/colab-badge.svg\" alt=\"Open In Colab\"/></a>"
      ]
    },
    {
      "cell_type": "code",
      "execution_count": 3,
      "metadata": {
        "id": "ntvP6ZQGby60"
      },
      "outputs": [],
      "source": [
        "#Import the necessary libraries\n",
        "import numpy as np\n",
        "import pandas as pd\n",
        "import matplotlib.pyplot as plt\n",
        "import sklearn.linear_model"
      ]
    },
    {
      "cell_type": "code",
      "source": [
        "import os\n",
        "datapath = os.path.join(\"datasets\", \"lifesat\", \"\")"
      ],
      "metadata": {
        "id": "_cwnQNEcb56x"
      },
      "execution_count": 20,
      "outputs": []
    },
    {
      "cell_type": "code",
      "source": [
        "#To plot pretty figures directly within jupyter\n",
        "import matplotlib as mpl\n",
        "mpl.rc('axes', labelsize='14')\n",
        "mpl.rc('xtick', labelsize=12)\n",
        "mpl.rc('ytick', labelsize=12)"
      ],
      "metadata": {
        "id": "0l2mvd41dG0r"
      },
      "execution_count": 16,
      "outputs": []
    },
    {
      "cell_type": "code",
      "source": [
        "import urllib.request\n",
        "DOWNLOAD_PATH = \"https://raw.githubusercontent.com/ageron/handson-ml2/master/\"\n",
        "os.makedirs(datapath, exist_ok=True)\n",
        "for filename in  (\"oecd_bli_2015.csv\", \"gdp_per_capita.csv\"):\n",
        "  print('Downloading',filename)\n",
        "  url = DOWNLOAD_PATH + \"datasets/lifesat/\" + filename\n",
        "  urllib.request.urlretrieve(url,datapath + filename)"
      ],
      "metadata": {
        "colab": {
          "base_uri": "https://localhost:8080/"
        },
        "id": "-HN-A7WOeh7M",
        "outputId": "dcfed59c-9c5f-401f-d3be-e3c8735ede15"
      },
      "execution_count": 27,
      "outputs": [
        {
          "output_type": "stream",
          "name": "stdout",
          "text": [
            "Downloading oecd_bli_2015.csv\n",
            "Downloading gdp_per_capita.csv\n"
          ]
        }
      ]
    },
    {
      "cell_type": "code",
      "source": [
        "oecd_bli = pd.read_csv(\"/content/datasets/lifesat/oecd_bli_2015.csv\", thousands=',')\n",
        "gdp_per_captica = pd.read_csv(\"/content/datasets/lifesat/gdp_per_capita.csv\", thousands=',',delimiter='\\t', encoding='latin1', na_values='n/a')\n"
      ],
      "metadata": {
        "id": "buQ4iuDbdaCk"
      },
      "execution_count": 39,
      "outputs": []
    },
    {
      "cell_type": "markdown",
      "source": [
        "The function below merges OECD life satisfaction data and  the IMF GDP per captica data."
      ],
      "metadata": {
        "id": "QFIacuEVi_X_"
      }
    },
    {
      "cell_type": "code",
      "source": [
        "\"\"\"\n",
        "def prepare_country_stats(oecd_bli,gdp_per_captica):\n",
        "  oecd_bli = oecd_bli[oecd_bli['INEQUALITY'] == 'TOT']\n",
        "  oecd_bli = oecd_bli.pivot(index=\"Country\", columns=\"Indicator\", values=\"Value\")\n",
        "  gdp_per_captica.rename({\"2015\":\"GDP per captica\"}, inplace = True)\n",
        "  gdp_per_captica.set_index(\"Country\", inplace= True)\n",
        "  full_country_stats = pd.merge(left=oecd_bli, right=gdp_per_captica, left_index=True, right_index=True)\n",
        "  full_country_stats.sort_values(by=\"GDP per captica\", inplace= True)\n",
        "  remove_indices = [0, 1, 6, 8, 33, 34, 35]\n",
        "  keep_indices = list(set(range(36)) - set(remove_indices))\n",
        "  return full_country_stats[[\"GDP per captica\", \"life satisfaction\"]].iloc[keep_indices]\n",
        "\"\"\""
      ],
      "metadata": {
        "id": "CxDQiVw2jTMA"
      },
      "execution_count": 54,
      "outputs": []
    },
    {
      "cell_type": "code",
      "source": [
        "def prepare_country_stats(oecd_bli, gdp_per_capita):\n",
        "    oecd_bli = oecd_bli[oecd_bli[\"INEQUALITY\"]==\"TOT\"]\n",
        "    oecd_bli = oecd_bli.pivot(index=\"Country\", columns=\"Indicator\", values=\"Value\")\n",
        "    gdp_per_capita.rename(columns={\"2015\": \"GDP per capita\"}, inplace=True)\n",
        "    gdp_per_capita.set_index(\"Country\", inplace=True)\n",
        "    full_country_stats = pd.merge(left=oecd_bli, right=gdp_per_capita,\n",
        "                                  left_index=True, right_index=True)\n",
        "    full_country_stats.sort_values(by=\"GDP per capita\", inplace=True)\n",
        "    remove_indices = [0, 1, 6, 8, 33, 34, 35]\n",
        "    keep_indices = list(set(range(36)) - set(remove_indices))\n",
        "    return full_country_stats[[\"GDP per capita\", 'Life satisfaction']].iloc[keep_indices]"
      ],
      "metadata": {
        "id": "mE6QHC1-oGSq"
      },
      "execution_count": 60,
      "outputs": []
    },
    {
      "cell_type": "code",
      "source": [
        "\n",
        "from types import prepare_class\n",
        "#Prepare the data\n",
        "country_stats =  prepare_country_stats(oecd_bli, gdp_per_captica)\n"
      ],
      "metadata": {
        "id": "O328ThfuhxPH"
      },
      "execution_count": null,
      "outputs": []
    },
    {
      "cell_type": "code",
      "source": [
        ""
      ],
      "metadata": {
        "id": "nR8u1BtNodgM"
      },
      "execution_count": null,
      "outputs": []
    },
    {
      "cell_type": "code",
      "source": [
        ""
      ],
      "metadata": {
        "id": "m1YxhB0hoXpJ"
      },
      "execution_count": null,
      "outputs": []
    },
    {
      "cell_type": "code",
      "source": [
        ""
      ],
      "metadata": {
        "id": "fCibLUFAnufc"
      },
      "execution_count": null,
      "outputs": []
    },
    {
      "cell_type": "code",
      "source": [
        ""
      ],
      "metadata": {
        "id": "dvZs-Oy6imFS"
      },
      "execution_count": null,
      "outputs": []
    },
    {
      "cell_type": "code",
      "source": [
        ""
      ],
      "metadata": {
        "id": "g-moTshoh8jb"
      },
      "execution_count": null,
      "outputs": []
    },
    {
      "cell_type": "code",
      "source": [
        ""
      ],
      "metadata": {
        "id": "REIqJ7Foh8Dv"
      },
      "execution_count": null,
      "outputs": []
    }
  ]
}