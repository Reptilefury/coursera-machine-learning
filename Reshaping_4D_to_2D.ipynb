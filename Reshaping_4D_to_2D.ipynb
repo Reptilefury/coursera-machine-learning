{
  "nbformat": 4,
  "nbformat_minor": 0,
  "metadata": {
    "colab": {
      "name": "Reshaping 4D to 2D.ipynb",
      "provenance": [],
      "collapsed_sections": [],
      "authorship_tag": "ABX9TyO/O2QGE4LaWhd/qzuHDG8w",
      "include_colab_link": true
    },
    "kernelspec": {
      "name": "python3",
      "display_name": "Python 3"
    },
    "language_info": {
      "name": "python"
    }
  },
  "cells": [
    {
      "cell_type": "markdown",
      "metadata": {
        "id": "view-in-github",
        "colab_type": "text"
      },
      "source": [
        "<a href=\"https://colab.research.google.com/github/Reptilefury/coursera-machine-learning/blob/main/Reshaping_4D_to_2D.ipynb\" target=\"_parent\"><img src=\"https://colab.research.google.com/assets/colab-badge.svg\" alt=\"Open In Colab\"/></a>"
      ]
    },
    {
      "cell_type": "code",
      "execution_count": 79,
      "metadata": {
        "id": "-qkbOfQM0ux5"
      },
      "outputs": [],
      "source": [
        "import numpy as np"
      ]
    },
    {
      "cell_type": "code",
      "source": [
        "#Lets create a 3D array\n",
        "array_3d = np.reshape(np.arange(24),(2,3,4))\n",
        "array_3d"
      ],
      "metadata": {
        "colab": {
          "base_uri": "https://localhost:8080/"
        },
        "id": "rNxLHQX31CkS",
        "outputId": "3705cb9a-0e40-427c-8bba-bd1b1ab6c469"
      },
      "execution_count": 80,
      "outputs": [
        {
          "output_type": "execute_result",
          "data": {
            "text/plain": [
              "array([[[ 0,  1,  2,  3],\n",
              "        [ 4,  5,  6,  7],\n",
              "        [ 8,  9, 10, 11]],\n",
              "\n",
              "       [[12, 13, 14, 15],\n",
              "        [16, 17, 18, 19],\n",
              "        [20, 21, 22, 23]]])"
            ]
          },
          "metadata": {},
          "execution_count": 80
        }
      ]
    },
    {
      "cell_type": "code",
      "source": [
        "array_2d = np.reshape(array_3d,(6,4)) #Reshape the 3D array into a 2D array\n",
        "array_2d \n",
        "#The new 2D array takes the shape and form  of the original np.arange(24) it takes all the contents from 0 to 24 and fills it in the array"
      ],
      "metadata": {
        "colab": {
          "base_uri": "https://localhost:8080/"
        },
        "id": "IxbjKLzc1gyk",
        "outputId": "fe8b5dc2-4e30-4eab-cc8b-b1324dc741cb"
      },
      "execution_count": 81,
      "outputs": [
        {
          "output_type": "execute_result",
          "data": {
            "text/plain": [
              "array([[ 0,  1,  2,  3],\n",
              "       [ 4,  5,  6,  7],\n",
              "       [ 8,  9, 10, 11],\n",
              "       [12, 13, 14, 15],\n",
              "       [16, 17, 18, 19],\n",
              "       [20, 21, 22, 23]])"
            ]
          },
          "metadata": {},
          "execution_count": 81
        }
      ]
    },
    {
      "cell_type": "code",
      "source": [
        "#This is similar to: reshaping a vector i.e when reshaping an array \n",
        "#into a certain dimension the size of the new shape must be equal to the size of the old shape \n",
        "array_2d.shape"
      ],
      "metadata": {
        "colab": {
          "base_uri": "https://localhost:8080/"
        },
        "id": "yhvMJFzy4E6t",
        "outputId": "bfbb67eb-492f-4141-c3a7-9e4c972a812f"
      },
      "execution_count": 82,
      "outputs": [
        {
          "output_type": "execute_result",
          "data": {
            "text/plain": [
              "(6, 4)"
            ]
          },
          "metadata": {},
          "execution_count": 82
        }
      ]
    },
    {
      "cell_type": "markdown",
      "source": [
        "Reshaping to 4D \n"
      ],
      "metadata": {
        "id": "qVGmP5W46Be6"
      }
    },
    {
      "cell_type": "code",
      "source": [
        "!pip install nipraxis\n",
        "import nipraxis\n",
        "#Fetch the 4D file\n",
        "bold_fname = nipraxis.fetch_file(\"ds114_sub009_t2r1.nii\")"
      ],
      "metadata": {
        "colab": {
          "base_uri": "https://localhost:8080/"
        },
        "id": "ZVlDveW75gax",
        "outputId": "991eedf9-a804-471a-c044-f721973c2d6e"
      },
      "execution_count": 83,
      "outputs": [
        {
          "output_type": "stream",
          "name": "stdout",
          "text": [
            "Looking in indexes: https://pypi.org/simple, https://us-python.pkg.dev/colab-wheels/public/simple/\n",
            "Requirement already satisfied: nipraxis in /usr/local/lib/python3.7/dist-packages (0.3.5)\n",
            "Requirement already satisfied: numpy in /usr/local/lib/python3.7/dist-packages (from nipraxis) (1.21.6)\n",
            "Requirement already satisfied: pooch in /usr/local/lib/python3.7/dist-packages (from nipraxis) (1.6.0)\n",
            "Requirement already satisfied: appdirs>=1.3.0 in /usr/local/lib/python3.7/dist-packages (from pooch->nipraxis) (1.4.4)\n",
            "Requirement already satisfied: requests>=2.19.0 in /usr/local/lib/python3.7/dist-packages (from pooch->nipraxis) (2.23.0)\n",
            "Requirement already satisfied: packaging>=20.0 in /usr/local/lib/python3.7/dist-packages (from pooch->nipraxis) (21.3)\n",
            "Requirement already satisfied: pyparsing!=3.0.5,>=2.0.2 in /usr/local/lib/python3.7/dist-packages (from packaging>=20.0->pooch->nipraxis) (3.0.9)\n",
            "Requirement already satisfied: certifi>=2017.4.17 in /usr/local/lib/python3.7/dist-packages (from requests>=2.19.0->pooch->nipraxis) (2022.6.15)\n",
            "Requirement already satisfied: urllib3!=1.25.0,!=1.25.1,<1.26,>=1.21.1 in /usr/local/lib/python3.7/dist-packages (from requests>=2.19.0->pooch->nipraxis) (1.24.3)\n",
            "Requirement already satisfied: idna<3,>=2.5 in /usr/local/lib/python3.7/dist-packages (from requests>=2.19.0->pooch->nipraxis) (2.10)\n",
            "Requirement already satisfied: chardet<4,>=3.0.2 in /usr/local/lib/python3.7/dist-packages (from requests>=2.19.0->pooch->nipraxis) (3.0.4)\n"
          ]
        }
      ]
    },
    {
      "cell_type": "code",
      "source": [
        "bold_fname\n",
        "\n",
        "#import nibabel \n",
        "import nibabel as nib\n",
        "\n",
        "data = nib.load(bold_fname)\n",
        "\n",
        "#load the image data into memory \n",
        "image = data.get_fdata()\n",
        "image.shape #We can see that this is a 4D array because it has 4 dimensions \n",
        "#64 rows 64 columns 30  planes \n",
        "#We can view one slice of the brain\n",
        "slice_brain = image[:,:,:,0]\n",
        "slice_brain.shape\n",
        "#Lets get a 2d slice from one of the thirty planes \n",
        "slice_one = slice_brain[:,:,15] #Middle slice of the brain \n",
        "slice_one.shape\n",
        "import matplotlib.pyplot as plt\n",
        "plt.imshow(slice_one)"
      ],
      "metadata": {
        "colab": {
          "base_uri": "https://localhost:8080/",
          "height": 285
        },
        "id": "ed_U2LF46ieS",
        "outputId": "96e9bc67-dc96-445c-c3fd-6d52e1f88770"
      },
      "execution_count": 84,
      "outputs": [
        {
          "output_type": "execute_result",
          "data": {
            "text/plain": [
              "<matplotlib.image.AxesImage at 0x7f5f353ceb10>"
            ]
          },
          "metadata": {},
          "execution_count": 84
        },
        {
          "output_type": "display_data",
          "data": {
            "text/plain": [
              "<Figure size 432x288 with 1 Axes>"
            ],
            "image/png": "[encoded data removed]"
          },
          "metadata": {
            "needs_background": "light"
          }
        }
      ]
    },
    {
      "cell_type": "code",
      "source": [
        "image.shape \n",
        "image.shape[:-1] #We can think of the 4D array  as a sequence of 3D volumes stacked up "
      ],
      "metadata": {
        "colab": {
          "base_uri": "https://localhost:8080/"
        },
        "id": "V0hT0Qzy8ife",
        "outputId": "49863679-e541-4fa9-ed68-f168c5ec474c"
      },
      "execution_count": 85,
      "outputs": [
        {
          "output_type": "execute_result",
          "data": {
            "text/plain": [
              "(64, 64, 30)"
            ]
          },
          "metadata": {},
          "execution_count": 85
        }
      ]
    },
    {
      "cell_type": "code",
      "source": [
        "#To get the number of voxels in a volume we use the np.prod function \n",
        "vol_shape_3d = image.shape[:-1]\n",
        "np.prod(vol_shape_3d) #Total number of voxels in this 3d array is 122,880 voxels \n",
        "#A voxel is a cubic volume that spans the 3d location of the brain "
      ],
      "metadata": {
        "colab": {
          "base_uri": "https://localhost:8080/"
        },
        "id": "Jmz2hgJu8iXB",
        "outputId": "0996f1ea-5e54-4ea3-9f62-cfdb1889f114"
      },
      "execution_count": 86,
      "outputs": [
        {
          "output_type": "execute_result",
          "data": {
            "text/plain": [
              "122880"
            ]
          },
          "metadata": {},
          "execution_count": 86
        }
      ]
    },
    {
      "cell_type": "code",
      "source": [
        "#Get the total number of images in an array \n",
        "image_fourD= nipraxis.fetch_file(\"ds114_sub009_t2r1.nii\")\n",
        "\n",
        "#Load the data with nibabel \n",
        "image_data = nib.load(image_fourD)\n",
        "\n",
        "#Lets load the image to memory using nibabel's get method \n",
        "image = image_data.get_fdata()\n",
        "image.shape #We can see that it is a 4D array"
      ],
      "metadata": {
        "colab": {
          "base_uri": "https://localhost:8080/"
        },
        "id": "IqY1SphC-I6z",
        "outputId": "32f6c9c3-02eb-4e35-e12c-09a5ab3b3af6"
      },
      "execution_count": 87,
      "outputs": [
        {
          "output_type": "execute_result",
          "data": {
            "text/plain": [
              "(64, 64, 30, 173)"
            ]
          },
          "metadata": {},
          "execution_count": 87
        }
      ]
    },
    {
      "cell_type": "code",
      "source": [
        "#Visualize a 2d array from the 4D array \n",
        "image_3d_first = image[:,:,:,0]\n",
        "\n",
        "image_4d_first.shape\n",
        "image_2d_first_plane = image_4d_first[:,:,14]\n",
        "#image_2d_first_plane\n",
        "plt.imshow(image_2d_first_plane, cmap='gray')"
      ],
      "metadata": {
        "colab": {
          "base_uri": "https://localhost:8080/",
          "height": 285
        },
        "id": "wObhrEP4_-k8",
        "outputId": "9134353c-78b4-4fbc-94eb-71205ffd58f7"
      },
      "execution_count": 88,
      "outputs": [
        {
          "output_type": "execute_result",
          "data": {
            "text/plain": [
              "<matplotlib.image.AxesImage at 0x7f5f3537a290>"
            ]
          },
          "metadata": {},
          "execution_count": 88
        },
        {
          "output_type": "display_data",
          "data": {
            "text/plain": [
              "<Figure size 432x288 with 1 Axes>"
            ],
            "image/png": "[encoded data removed]"
          },
          "metadata": {
            "needs_background": "light"
          }
        }
      ]
    },
    {
      "cell_type": "code",
      "source": [
        "#Lets get the total number of voxels in this scan\n",
        "image_3d = image[:,:,:,0]\n",
        "image_3d.size #One way to get the total number of voxels\n",
        "image_3d.shape\n",
        "#Get the total number of voxels using numpy's prod function \n",
        "num_voxels = np.prod(image_3d.shape)\n",
        "num_voxels"
      ],
      "metadata": {
        "colab": {
          "base_uri": "https://localhost:8080/"
        },
        "id": "pk37lsMu_-iO",
        "outputId": "03e9e09d-2000-41c0-b96f-7c56d9757a15"
      },
      "execution_count": 89,
      "outputs": [
        {
          "output_type": "execute_result",
          "data": {
            "text/plain": [
              "122880"
            ]
          },
          "metadata": {},
          "execution_count": 89
        }
      ]
    },
    {
      "cell_type": "code",
      "source": [
        "#We can reshape the array to 2D with voxels on the first axis and time volume on the second axis\n",
        "image_2d = np.reshape(image,(num_voxels,image.shape[-1]))\n",
        "image_2d.shape"
      ],
      "metadata": {
        "colab": {
          "base_uri": "https://localhost:8080/"
        },
        "id": "DtrkdizdCTuc",
        "outputId": "7491751d-ea8a-4843-9997-228e3811428d"
      },
      "execution_count": 90,
      "outputs": [
        {
          "output_type": "execute_result",
          "data": {
            "text/plain": [
              "(122880, 173)"
            ]
          },
          "metadata": {},
          "execution_count": 90
        }
      ]
    },
    {
      "cell_type": "code",
      "source": [
        "#Lets calculate the mean across all voxels at each time stop \n",
        "image_fname = nipraxis.fetch_file(\"ds114_sub009_t2r1.nii\")\n",
        "image_fname\n",
        "#Load the file with nibabel \n",
        "image =  nib.load(image_fname) \n",
        "#Get the nibabel image data \n",
        "image_data = image.get_fdata()\n",
        "image_data.shape #4D size of the image"
      ],
      "metadata": {
        "colab": {
          "base_uri": "https://localhost:8080/"
        },
        "id": "2SLeyAB9Eio6",
        "outputId": "eb019746-463c-4177-fd87-517f270851e8"
      },
      "execution_count": 91,
      "outputs": [
        {
          "output_type": "execute_result",
          "data": {
            "text/plain": [
              "(64, 64, 30, 173)"
            ]
          },
          "metadata": {},
          "execution_count": 91
        }
      ]
    },
    {
      "cell_type": "code",
      "source": [
        "#Get the image \n",
        "num_voxels = np.prod(image_data.shape[:-1])\n",
        "num_voxels #Total number of voxels"
      ],
      "metadata": {
        "colab": {
          "base_uri": "https://localhost:8080/"
        },
        "id": "StDGzAuw_-eU",
        "outputId": "c8920bc6-df40-49ca-f24a-9c367bf569f8"
      },
      "execution_count": 94,
      "outputs": [
        {
          "output_type": "execute_result",
          "data": {
            "text/plain": [
              "122880"
            ]
          },
          "metadata": {},
          "execution_count": 94
        }
      ]
    },
    {
      "cell_type": "code",
      "source": [
        "image_data.shape\n",
        "#Calculate the mean across all voxels for a single volume \n",
        "np.mean(image_data[...,0]) "
      ],
      "metadata": {
        "colab": {
          "base_uri": "https://localhost:8080/"
        },
        "id": "XTBd4wE-IwEG",
        "outputId": "f44008f0-17aa-462b-e26e-960b13f9c7d5"
      },
      "execution_count": 110,
      "outputs": [
        {
          "output_type": "execute_result",
          "data": {
            "text/plain": [
              "414.40107421875"
            ]
          },
          "metadata": {},
          "execution_count": 110
        }
      ]
    },
    {
      "cell_type": "code",
      "source": [
        "n_trs = image_data.shape[-1] #Get the total number of timestops\n",
        "n_trs  #This in total is 173 \n",
        "means = []\n",
        "for vol_num in range(n_trs):\n",
        "  vol = image_data[...,vol_num]\n",
        "  means.append(np.mean(vol))\n",
        "\n",
        "plt.plot(means)"
      ],
      "metadata": {
        "colab": {
          "base_uri": "https://localhost:8080/",
          "height": 282
        },
        "id": "UlNGbqD8JuYM",
        "outputId": "348fe135-a22b-43b0-ca5a-f42ec2994038"
      },
      "execution_count": 108,
      "outputs": [
        {
          "output_type": "execute_result",
          "data": {
            "text/plain": [
              "[<matplotlib.lines.Line2D at 0x7f5f352fb710>]"
            ]
          },
          "metadata": {},
          "execution_count": 108
        },
        {
          "output_type": "display_data",
          "data": {
            "text/plain": [
              "<Figure size 432x288 with 1 Axes>"
            ],
            "image/png": "[encoded data removed]"
          },
          "metadata": {
            "needs_background": "light"
          }
        }
      ]
    },
    {
      "cell_type": "markdown",
      "source": [
        "Vectorizing is when  we take an operation that needed a loop  and  use array operations to do that operation instead"
      ],
      "metadata": {
        "id": "qUFr8RrpL-2L"
      }
    },
    {
      "cell_type": "code",
      "source": [
        "voxels_by_time = np.reshape(image_data,(num_voxels,n_trs))\n",
        "voxels_by_time.shape"
      ],
      "metadata": {
        "colab": {
          "base_uri": "https://localhost:8080/"
        },
        "id": "f27MYLKuKacd",
        "outputId": "d36b0eb3-8c15-43d6-ae35-6663faf7ac3b"
      },
      "execution_count": 115,
      "outputs": [
        {
          "output_type": "execute_result",
          "data": {
            "text/plain": [
              "(122880, 173)"
            ]
          },
          "metadata": {},
          "execution_count": 115
        }
      ]
    },
    {
      "cell_type": "code",
      "source": [
        "means_vectorized = np.mean(voxels_by_time,axis = 0)\n",
        "\n",
        "#means_vectorized.shape\n",
        "\n",
        "#The answer is the same allowing for tiny variations\n",
        "assert np.allclose(means_vectorized,means)\n"
      ],
      "metadata": {
        "id": "4O7pudD8MnBT"
      },
      "execution_count": 121,
      "outputs": []
    },
    {
      "cell_type": "code",
      "source": [
        ""
      ],
      "metadata": {
        "id": "yeNygXO2NzaQ"
      },
      "execution_count": null,
      "outputs": []
    },
    {
      "cell_type": "code",
      "source": [
        ""
      ],
      "metadata": {
        "id": "DH9NHUZONFZ3"
      },
      "execution_count": null,
      "outputs": []
    },
    {
      "cell_type": "code",
      "source": [
        ""
      ],
      "metadata": {
        "id": "bKWOJsFdNEaL"
      },
      "execution_count": null,
      "outputs": []
    },
    {
      "cell_type": "code",
      "source": [
        ""
      ],
      "metadata": {
        "id": "N63R1iDdNDm7"
      },
      "execution_count": null,
      "outputs": []
    },
    {
      "cell_type": "code",
      "source": [
        ""
      ],
      "metadata": {
        "id": "sKoG9qEkNBNF"
      },
      "execution_count": null,
      "outputs": []
    },
    {
      "cell_type": "code",
      "source": [
        ""
      ],
      "metadata": {
        "id": "W11H3xJ9M_pl"
      },
      "execution_count": null,
      "outputs": []
    },
    {
      "cell_type": "code",
      "source": [
        ""
      ],
      "metadata": {
        "id": "muceB7CnMlfr"
      },
      "execution_count": null,
      "outputs": []
    },
    {
      "cell_type": "code",
      "source": [
        ""
      ],
      "metadata": {
        "id": "9cHC2mygMjdF"
      },
      "execution_count": null,
      "outputs": []
    },
    {
      "cell_type": "code",
      "source": [
        ""
      ],
      "metadata": {
        "id": "52v0O9PTMgLL"
      },
      "execution_count": null,
      "outputs": []
    },
    {
      "cell_type": "code",
      "source": [
        ""
      ],
      "metadata": {
        "id": "yuOyRx1dMcLN"
      },
      "execution_count": null,
      "outputs": []
    }
  ]
}