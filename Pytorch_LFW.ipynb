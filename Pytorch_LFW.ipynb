{
  "nbformat": 4,
  "nbformat_minor": 0,
  "metadata": {
    "colab": {
      "provenance": [],
      "authorship_tag": "ABX9TyNeSEtb3xFisNyJHu23YTBK",
      "include_colab_link": true
    },
    "kernelspec": {
      "name": "python3",
      "display_name": "Python 3"
    },
    "language_info": {
      "name": "python"
    }
  },
  "cells": [
    {
      "cell_type": "markdown",
      "metadata": {
        "id": "view-in-github",
        "colab_type": "text"
      },
      "source": [
        "<a href=\"https://colab.research.google.com/github/Reptilefury/coursera-machine-learning/blob/main/Pytorch_LFW.ipynb\" target=\"_parent\"><img src=\"https://colab.research.google.com/assets/colab-badge.svg\" alt=\"Open In Colab\"/></a>"
      ]
    },
    {
      "cell_type": "code",
      "execution_count": 1,
      "metadata": {
        "id": "uYQqYmO6Th4_"
      },
      "outputs": [],
      "source": [
        "import torch\n",
        "import torchvision\n",
        "from torchvision.transforms import ToTensor,Resize \n",
        "from torchvision import transforms\n",
        "from torchvision.datasets import ImageFolder\n",
        "from torch.utils.data.dataloader import DataLoader\n",
        "import torch.nn as nn\n",
        "\n",
        "device = \"cuda\" if torch.cuda.is_available() else \"cpu\""
      ]
    },
    {
      "cell_type": "code",
      "source": [
        "\n",
        "#Load the data\n",
        "!wget http://vis-www.cs.umass.edu/lfw/lfw.tgz\n",
        "\n",
        "#Unzip the data \n",
        "!tar -xvf /content/lfw.tgz\n"
      ],
      "metadata": {
        "id": "rhsRE88faRo0"
      },
      "execution_count": null,
      "outputs": []
    },
    {
      "cell_type": "markdown",
      "source": [
        "Load the data from Image Folder"
      ],
      "metadata": {
        "id": "hVtXq2xGbYpN"
      }
    },
    {
      "cell_type": "code",
      "source": [
        "TRANSFORM_IMG = transforms.Compose([\n",
        "    transforms.Resize(224),\n",
        "    transforms.Normalize((0.485, 0.456, 0.406), (0.229, 0.224, 0.225)),\n",
        "    transforms.ToTensor()\n",
        "])\n",
        "\n",
        "DATA_DIR = \"/content/lfw\"\n",
        "train_ds = ImageFolder(root =DATA_DIR,transform= TRANSFORM_IMG)\n",
        "test_ds = ImageFolder(root=DATA_DIR,transform=TRANSFORM_IMG)\n",
        "\n",
        "#DataLoader \n",
        "train_loader = DataLoader(train_ds,batch_size=64,shuffle=True)\n",
        "test_loader = DataLoader(test_ds,batch_size=64,shuffle=True)\n"
      ],
      "metadata": {
        "id": "p0Wu60JnZhtv"
      },
      "execution_count": 3,
      "outputs": []
    },
    {
      "cell_type": "code",
      "source": [
        "num_classes = len(train_ds.classes)\n",
        "num_classes"
      ],
      "metadata": {
        "colab": {
          "base_uri": "https://localhost:8080/"
        },
        "id": "YkeClfolqNuw",
        "outputId": "1aa42590-d133-4aa2-e03a-6762296a726a"
      },
      "execution_count": 17,
      "outputs": [
        {
          "output_type": "execute_result",
          "data": {
            "text/plain": [
              "5749"
            ]
          },
          "metadata": {},
          "execution_count": 17
        }
      ]
    },
    {
      "cell_type": "markdown",
      "source": [
        "Use ray tune  a hyperparameter tuning library"
      ],
      "metadata": {
        "id": "YlkcxZilfbJ6"
      }
    },
    {
      "cell_type": "code",
      "source": [
        "!pip install -U \"ray[default]\""
      ],
      "metadata": {
        "id": "E76sm-SLgEaq"
      },
      "execution_count": null,
      "outputs": []
    },
    {
      "cell_type": "code",
      "source": [
        "from functools import partial \n",
        "import numpy as np\n",
        "import os \n",
        "import torch \n",
        "import torch.nn as nn \n",
        "import torch.nn.functional as F\n",
        "import torch.optim as optim\n",
        "from torch.utils.data import random_split\n",
        "import torchvision \n",
        "import torchvision.transforms as transforms\n",
        "from ray import tune\n",
        "from ray.tune import CLIReporter\n",
        "from ray.tune.schedulers import ASHAScheduler\n",
        "\n",
        "\n",
        "def load_data(data_dir=\"./\"):\n",
        "  transform = transforms.Compose([\n",
        "      transforms.Resize(224),\n",
        "      transforms.ToTensor(),\n",
        "      transforms.Normalize(( 0.5,0.5,0.5),(0.5,0.5,0.5))\n",
        "  ])\n",
        "  train_data = torchvision.datasets.CIFAR10(root=data_dir,train=True,transform=transform,download=True)\n",
        "  test_data = torchvision.datasets.CIFAR10(root=data_dir,train=True,transform=transform,download=True)\n",
        "  return train_data,test_data\n",
        "  "
      ],
      "metadata": {
        "id": "Fhc-Lk3Wchp_"
      },
      "execution_count": 11,
      "outputs": []
    },
    {
      "cell_type": "markdown",
      "source": [
        "Define the Neural Network"
      ],
      "metadata": {
        "id": "TXcwEslAi3wE"
      }
    },
    {
      "cell_type": "code",
      "source": [
        "class NeuralNet(nn.Module):\n",
        "  def __init__(self,l1=120,l2=84):\n",
        "    super(NeuralNet,self).__init__()\n",
        "    #First convolution block\n",
        "    self.conv1 = nn.Conv2d(in_channels=3,out_channels=64,kernel_size=3,padding=1)\n",
        "    self.conv2 = nn.Conv2d(in_channels=64,out_channels=64,kernel_size=3,padding=1)\n",
        "    self.conv3 = nn.Conv2d(in_channels=64,out_channels=128,kernel_size=3,padding=1)\n",
        "    \n",
        "    #Second convolution block\n",
        "    self.conv4 = nn.Conv2d(in_channels=128,out_channels=128,kernel_size=3,padding=1)\n",
        "    self.conv5 = nn.Conv2d(in_channels=128,out_channels=256,kernel_size=3,padding=1)    \n",
        "    \n",
        "    #Third convolution block\n",
        "    self.conv6 = nn.Conv2d(in_channels=256,out_channels=256,kernel_size=3,padding=1)\n",
        "    self.conv7 = nn.Conv2d(in_channels=256,out_channels=256,kernel_size=3,padding=1)\n",
        "    self.conv8 = nn.Conv2d(in_channels=256,out_channels=512,kernel_size=3,padding=1)\n",
        "    \n",
        "    #Fourth convolution block \n",
        "    self.conv9 = nn.Conv2d(in_channels=512,out_channels=512,kernel_size=3,padding=1)\n",
        "    self.conv10 = nn.Conv2d(in_channels=512,out_channels=512,kernel_size=3,padding=1)\n",
        "    self.conv11 = nn.Conv2d(in_channels=512,out_channels=512,kernel_size=3,padding=1)\n",
        "    self.conv12 = nn.Conv2d(in_channels=512,out_channels=512,kernel_size=3,padding=1)\n",
        "    self.maxpool = nn.MaxPool2d(kernel_size=2,stride=2)\n",
        "    self.conv13 = nn.Conv2d(in_channels=512,out_channels=512,kernel_size=3,padding=1)\n",
        "\n",
        "    #Dense layer\n",
        "    self.fc1 = nn.Linear(512 * 3 * 3,l1)\n",
        "    self.fc2 = nn.Linear(l1,l2)\n",
        "    self.fc3 = nn.Linear(l2,num_classes)\n",
        "  \n",
        "  def call(self,x):\n",
        "\n",
        "    #1st convolution block   \n",
        "    x = F.relu(self.conv1(x))\n",
        "    x = F.relu(self.conv2(x))\n",
        "    x = self.maxpool(x)\n",
        "    \n",
        "    #2nd convolution block\n",
        "    x = F.relu(self.conv3(x))\n",
        "    x = F.relu(self.conv4(x))\n",
        "    x = self.maxpool(x)\n",
        "   \n",
        "    #3rd convolution block\n",
        "    x = F.relu(self.conv5(x))\n",
        "    x = F.relu(self.conv6(x))\n",
        "    x = F.relu(self.conv7(x))\n",
        "    x = F.maxpool(x)\n",
        "    \n",
        "    #4th convolution block\n",
        "    x = F.relu(self.conv8(x))\n",
        "    x = F.relu(self.conv9(x))\n",
        "    x = F.relu(self.conv10(x))\n",
        "    x = self.maxpool(x)\n",
        "    \n",
        "    #5th  convolution block\n",
        "    x = F.relu(self.conv11(x))\n",
        "    x = F.relu(self.conv12(x))\n",
        "    x = F.relu(self.conv13(x))\n",
        "    x = self.maxpool(x)\n",
        "    \n",
        "    #6th convolution block \n",
        "    x = x.view(-1,512 * 3 * 3)\n",
        "    x = F.relu(self.fc1(x))\n",
        "    x = F.relu(self.fc2(x))\n",
        "    x = F.relu(self.fc3(x))\n",
        "    \n",
        "    return x \n"
      ],
      "metadata": {
        "id": "skD2ir_xilQ0"
      },
      "execution_count": 20,
      "outputs": []
    },
    {
      "cell_type": "code",
      "source": [],
      "metadata": {
        "id": "pRTwSYserHii"
      },
      "execution_count": null,
      "outputs": []
    }
  ]
}