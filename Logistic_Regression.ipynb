{
  "nbformat": 4,
  "nbformat_minor": 0,
  "metadata": {
    "colab": {
      "name": "Logistic Regression.ipynb",
      "provenance": [],
      "collapsed_sections": [],
      "authorship_tag": "ABX9TyPFDJGzI3zME+7WqgnZYlEr",
      "include_colab_link": true
    },
    "kernelspec": {
      "name": "python3",
      "display_name": "Python 3"
    },
    "language_info": {
      "name": "python"
    }
  },
  "cells": [
    {
      "cell_type": "markdown",
      "metadata": {
        "id": "view-in-github",
        "colab_type": "text"
      },
      "source": [
        "<a href=\"https://colab.research.google.com/github/Reptilefury/coursera-machine-learning/blob/main/Logistic_Regression.ipynb\" target=\"_parent\"><img src=\"https://colab.research.google.com/assets/colab-badge.svg\" alt=\"Open In Colab\"/></a>"
      ]
    },
    {
      "cell_type": "code",
      "source": [
        "!pip install -U scikit-learn"
      ],
      "metadata": {
        "id": "CaDfQQzV48Bb",
        "colab": {
          "base_uri": "https://localhost:8080/"
        },
        "outputId": "92463ad8-0239-44ad-880f-d60fc139aefe"
      },
      "execution_count": 42,
      "outputs": [
        {
          "output_type": "stream",
          "name": "stdout",
          "text": [
            "Requirement already satisfied: scikit-learn in /usr/local/lib/python3.7/dist-packages (1.0.2)\n",
            "Requirement already satisfied: joblib>=0.11 in /usr/local/lib/python3.7/dist-packages (from scikit-learn) (1.1.0)\n",
            "Requirement already satisfied: threadpoolctl>=2.0.0 in /usr/local/lib/python3.7/dist-packages (from scikit-learn) (3.1.0)\n",
            "Requirement already satisfied: scipy>=1.1.0 in /usr/local/lib/python3.7/dist-packages (from scikit-learn) (1.4.1)\n",
            "Requirement already satisfied: numpy>=1.14.6 in /usr/local/lib/python3.7/dist-packages (from scikit-learn) (1.21.5)\n"
          ]
        }
      ]
    },
    {
      "cell_type": "code",
      "source": [
        "from sklearn.datasets import fetch_california_housing"
      ],
      "metadata": {
        "id": "gcnlUanXNqcA"
      },
      "execution_count": 43,
      "outputs": []
    },
    {
      "cell_type": "code",
      "source": [
        "from sklearn.preprocessing import StandardScaler"
      ],
      "metadata": {
        "id": "DfArzOpKOHrc"
      },
      "execution_count": 45,
      "outputs": []
    },
    {
      "cell_type": "code",
      "source": [
        "from sklearn.model_selection import train_test_split"
      ],
      "metadata": {
        "id": "KJFIwKakOQPW"
      },
      "execution_count": 46,
      "outputs": []
    },
    {
      "cell_type": "code",
      "source": [
        "#We load the dataset and assign it a variable\n",
        "housing = fetch_california_housing()"
      ],
      "metadata": {
        "id": "yP93lf9hOo2K"
      },
      "execution_count": 47,
      "outputs": []
    },
    {
      "cell_type": "code",
      "source": [
        "#Split the dataset into training and testing\n",
        "x_train_full, x_test , y_train_full, y_test =  train_test_split(\n",
        "    housing.data, housing.target\n",
        ")"
      ],
      "metadata": {
        "id": "UrRAWSeFO3Ud"
      },
      "execution_count": 48,
      "outputs": []
    },
    {
      "cell_type": "code",
      "source": [
        "#Split the training data further into training and validation set \n",
        "x_train, x_valid, y_train, y_valid = train_test_split(\n",
        "    x_train_full, y_train_full\n",
        ")"
      ],
      "metadata": {
        "id": "EZqoCOsjPJIO"
      },
      "execution_count": 49,
      "outputs": []
    },
    {
      "cell_type": "code",
      "source": [
        "x_train.shape"
      ],
      "metadata": {
        "id": "qKioZriHvgeZ",
        "outputId": "0a34d0dd-a2b7-40bb-cd09-d178eeb7c2da",
        "colab": {
          "base_uri": "https://localhost:8080/"
        }
      },
      "execution_count": 50,
      "outputs": [
        {
          "output_type": "execute_result",
          "data": {
            "text/plain": [
              "(11610, 8)"
            ]
          },
          "metadata": {},
          "execution_count": 50
        }
      ]
    },
    {
      "cell_type": "code",
      "source": [
        "x_train[0].shape"
      ],
      "metadata": {
        "id": "Z2tSVa6hvh4C",
        "outputId": "4c1b52c3-fd8f-4fa9-ce03-c5350ab11aeb",
        "colab": {
          "base_uri": "https://localhost:8080/"
        }
      },
      "execution_count": 51,
      "outputs": [
        {
          "output_type": "execute_result",
          "data": {
            "text/plain": [
              "(8,)"
            ]
          },
          "metadata": {},
          "execution_count": 51
        }
      ]
    },
    {
      "cell_type": "code",
      "source": [
        ""
      ],
      "metadata": {
        "id": "akb0ibqfvrhI"
      },
      "execution_count": null,
      "outputs": []
    },
    {
      "cell_type": "code",
      "source": [
        "import tensorflow as tf\n",
        "from tensorflow import keras\n",
        "#create the model using the sequential api \n",
        "model = tf.keras.models.Sequential([\n",
        "    #Since this is regression task our model will have only one output neuron and one dense layer containing 30 neurons\n",
        "    tf.keras.layers.Dense(30, activation='sigmoid', input_shape=x_train.shape[1:]),\n",
        "    tf.keras.layers.Dense(1)\n",
        "])\n",
        "#We used one hidden layer with fewer neurons to avoid overfitting"
      ],
      "metadata": {
        "id": "iz-Ojf30PcVt"
      },
      "execution_count": 37,
      "outputs": []
    },
    {
      "cell_type": "code",
      "source": [
        "model.summary()"
      ],
      "metadata": {
        "id": "Vv2Bp7ycQWKH"
      },
      "execution_count": null,
      "outputs": []
    },
    {
      "cell_type": "code",
      "source": [
        "#Compile the model: ie we declare the hyperparameters\n",
        "model.compile(loss = \"mean_squared_error\", optimizer='sgd')"
      ],
      "metadata": {
        "id": "9B3OFndYQbZ1"
      },
      "execution_count": null,
      "outputs": []
    },
    {
      "cell_type": "code",
      "source": [
        "#We train our model using the model.fit() method\n",
        "model.fit(x_train, y_train, validation_data=(x_valid, y_valid), epochs=20)"
      ],
      "metadata": {
        "id": "_6NtGymFQ80d",
        "colab": {
          "base_uri": "https://localhost:8080/"
        },
        "outputId": "63a5a817-4329-48de-f874-75d2c1124f44"
      },
      "execution_count": null,
      "outputs": [
        {
          "output_type": "stream",
          "name": "stdout",
          "text": [
            "Epoch 1/20\n",
            "363/363 [==============================] - 1s 3ms/step - loss: 1.4283 - val_loss: 1.2567\n",
            "Epoch 2/20\n",
            "363/363 [==============================] - 1s 2ms/step - loss: 1.3679 - val_loss: 1.2529\n",
            "Epoch 3/20\n",
            "363/363 [==============================] - 1s 2ms/step - loss: 1.3673 - val_loss: 1.2533\n",
            "Epoch 4/20\n",
            "363/363 [==============================] - 1s 2ms/step - loss: 1.3655 - val_loss: 1.2513\n",
            "Epoch 5/20\n",
            "363/363 [==============================] - 1s 2ms/step - loss: 1.3651 - val_loss: 1.2558\n",
            "Epoch 6/20\n",
            "363/363 [==============================] - 1s 2ms/step - loss: 1.3622 - val_loss: 1.2570\n",
            "Epoch 7/20\n",
            "363/363 [==============================] - 1s 2ms/step - loss: 1.3646 - val_loss: 1.2499\n",
            "Epoch 8/20\n",
            "363/363 [==============================] - 1s 4ms/step - loss: 1.3648 - val_loss: 1.2496\n",
            "Epoch 9/20\n",
            "363/363 [==============================] - 1s 4ms/step - loss: 1.3658 - val_loss: 1.2654\n",
            "Epoch 10/20\n",
            "363/363 [==============================] - 2s 4ms/step - loss: 1.3648 - val_loss: 1.2588\n",
            "Epoch 11/20\n",
            "363/363 [==============================] - 1s 3ms/step - loss: 1.3623 - val_loss: 1.2575\n",
            "Epoch 12/20\n",
            "363/363 [==============================] - 2s 6ms/step - loss: 1.3675 - val_loss: 1.2560\n",
            "Epoch 13/20\n",
            "363/363 [==============================] - 1s 4ms/step - loss: 1.3631 - val_loss: 1.2692\n",
            "Epoch 14/20\n",
            "363/363 [==============================] - 2s 4ms/step - loss: 1.3635 - val_loss: 1.2869\n",
            "Epoch 15/20\n",
            "363/363 [==============================] - 2s 5ms/step - loss: 1.3679 - val_loss: 1.2502\n",
            "Epoch 16/20\n",
            "363/363 [==============================] - 3s 7ms/step - loss: 1.3655 - val_loss: 1.2693\n",
            "Epoch 17/20\n",
            "363/363 [==============================] - 2s 5ms/step - loss: 1.3653 - val_loss: 1.2690\n",
            "Epoch 18/20\n",
            "363/363 [==============================] - 2s 4ms/step - loss: 1.3639 - val_loss: 1.2531\n",
            "Epoch 19/20\n",
            "363/363 [==============================] - 2s 6ms/step - loss: 1.3610 - val_loss: 1.2502\n",
            "Epoch 20/20\n",
            "363/363 [==============================] - 1s 3ms/step - loss: 1.3601 - val_loss: 1.2497\n"
          ]
        },
        {
          "output_type": "execute_result",
          "data": {
            "text/plain": [
              "<keras.callbacks.History at 0x7f966f9d9250>"
            ]
          },
          "metadata": {},
          "execution_count": 51
        }
      ]
    },
    {
      "cell_type": "code",
      "source": [
        "test_data = x_test [:3]"
      ],
      "metadata": {
        "id": "ISGZ9-80RkzR"
      },
      "execution_count": null,
      "outputs": []
    },
    {
      "cell_type": "code",
      "source": [
        "model_predict = model.predict(test_data)"
      ],
      "metadata": {
        "id": "gbPJEVKpUNEQ"
      },
      "execution_count": null,
      "outputs": []
    },
    {
      "cell_type": "code",
      "source": [
        "model_predict"
      ],
      "metadata": {
        "colab": {
          "base_uri": "https://localhost:8080/"
        },
        "id": "Mqc4LH8WUQuF",
        "outputId": "58800894-db9d-45f2-87c9-e9c6abf7a307"
      },
      "execution_count": null,
      "outputs": [
        {
          "output_type": "execute_result",
          "data": {
            "text/plain": [
              "array([[2.0722508],\n",
              "       [2.0722508],\n",
              "       [1.7270213]], dtype=float32)"
            ]
          },
          "metadata": {},
          "execution_count": 54
        }
      ]
    },
    {
      "cell_type": "code",
      "source": [
        "#A wide and deep neural network connects all or part of the input to the output layer\n",
        "input = tf.keras.Input(shape = x_train.shape[1:])"
      ],
      "metadata": {
        "id": "qHmzNtLoUTZ6"
      },
      "execution_count": null,
      "outputs": []
    },
    {
      "cell_type": "code",
      "source": [
        "hidden1 = tf.keras.layers.Dense(30,activation='relu')(input)"
      ],
      "metadata": {
        "id": "PgoILI5eWMNK"
      },
      "execution_count": null,
      "outputs": []
    },
    {
      "cell_type": "code",
      "source": [
        "#We create another hidden layer of 30 neurons and pass in data from the input layer\n",
        "hidden2 = tf.keras.layers.Dense(30, activation='relu')(hidden1)"
      ],
      "metadata": {
        "id": "Ez_RtowOWmMi"
      },
      "execution_count": null,
      "outputs": []
    },
    {
      "cell_type": "code",
      "source": [
        "#We then create a layer to concatenate the hidden layer and the input\n",
        "con = tf.keras.layers.concatenate([hidden2, input])\n",
        "#Using the concatenate method from keras we create a layer that takes in data from both the input layer and the hidden layers\n"
      ],
      "metadata": {
        "id": "-qeWkeB9W5w5"
      },
      "execution_count": null,
      "outputs": []
    },
    {
      "cell_type": "code",
      "source": [
        "#We create an output layer of one neuron to make our prediction\n",
        "output = tf.keras.layers.Dense(1)(con)"
      ],
      "metadata": {
        "id": "rLbgpQv7X4_5"
      },
      "execution_count": null,
      "outputs": []
    },
    {
      "cell_type": "code",
      "source": [
        "#We the build a that takes in the input and the output\n",
        "model  = tf.keras.models.Model(inputs=[input],outputs=[output])"
      ],
      "metadata": {
        "id": "3ZeaY70vZejV"
      },
      "execution_count": null,
      "outputs": []
    },
    {
      "cell_type": "code",
      "source": [
        "#Wide and deep neural network\n",
        "input = tf.keras.Input(shape=x_train.shape[1:])\n",
        "#First hidden layer\n",
        "hidden1 = tf.keras.layers.Dense(30, activation='tanh')(input)\n",
        "#Second hidden layer\n",
        "hidden2 = tf.keras.layers.Dense(30, activation='tanh')(hidden1)\n",
        "#We create a concatenate layer to take in data from the deep stack layers  and the input layer\n",
        "con= tf.keras.layers.concatenate([hidden2, input]) #Takes in positional arguments in a list\n",
        "#We create an output layer that has one neuron since we are only trying to make one prediction\n",
        "output = tf.keras.layers.Dense(1)(con)\n",
        "\n",
        "#We then create our model \n",
        "modelOne = tf.keras.models.Model(inputs=[input], outputs=[output])"
      ],
      "metadata": {
        "id": "uL0oRs7FZ9mn"
      },
      "execution_count": null,
      "outputs": []
    },
    {
      "cell_type": "code",
      "source": [
        ""
      ],
      "metadata": {
        "id": "TfVO9dz9fWn-"
      },
      "execution_count": null,
      "outputs": []
    },
    {
      "cell_type": "code",
      "source": [
        "#We compile our model before training i.e = specify the hyperparameters\n",
        "modelOne.compile( loss = \"mean_squared_error\", optimizer='sgd')"
      ],
      "metadata": {
        "id": "KIY_k22AcoSL"
      },
      "execution_count": null,
      "outputs": []
    },
    {
      "cell_type": "code",
      "source": [
        "#We train our model using the model.fit method\n",
        "modelOne.fit(x_train, y_train, epochs = 20 ,validation_data=(x_valid, y_valid))"
      ],
      "metadata": {
        "id": "snZ146EIegNH"
      },
      "execution_count": null,
      "outputs": []
    },
    {
      "cell_type": "code",
      "source": [
        "#We create another deep and wide model with 2 inputs one going to the deep layer and another one going to the output layer\n",
        "inputA = tf.keras.Input(shape=[5])"
      ],
      "metadata": {
        "id": "NyvoA5gvfJ34"
      },
      "execution_count": null,
      "outputs": []
    },
    {
      "cell_type": "code",
      "source": [
        ""
      ],
      "metadata": {
        "id": "_8av7KCnjQSK"
      },
      "execution_count": null,
      "outputs": []
    },
    {
      "cell_type": "code",
      "source": [
        "#Second input\n",
        "inputB = tf.keras.Input(shape=[6])"
      ],
      "metadata": {
        "id": "0N_Hl-yoe9OH"
      },
      "execution_count": null,
      "outputs": []
    },
    {
      "cell_type": "code",
      "source": [
        "hidden1 = tf.keras.layers.Dense(30, activation='relu')(inputB)"
      ],
      "metadata": {
        "id": "xjD-svtHgRi8"
      },
      "execution_count": null,
      "outputs": []
    },
    {
      "cell_type": "code",
      "source": [
        "hidden2 = tf.keras.layers.Dense(30, activation='relu')(hidden1)"
      ],
      "metadata": {
        "id": "tqZvZeTDg0qw"
      },
      "execution_count": null,
      "outputs": []
    },
    {
      "cell_type": "code",
      "source": [
        "con = tf.keras.layers.concatenate([hidden2, inputA])"
      ],
      "metadata": {
        "id": "iGQ7qItie3kh"
      },
      "execution_count": null,
      "outputs": []
    },
    {
      "cell_type": "code",
      "source": [
        "output = tf.keras.layers.Dense(1)(con)"
      ],
      "metadata": {
        "id": "TWrgTlvFiP_P"
      },
      "execution_count": null,
      "outputs": []
    },
    {
      "cell_type": "code",
      "source": [
        "model = tf.keras.models.Model(inputs=[inputA, inputB], outputs = [output])"
      ],
      "metadata": {
        "id": "U5-CJwFKifQm"
      },
      "execution_count": null,
      "outputs": []
    },
    {
      "cell_type": "code",
      "source": [
        "model.compile(loss=\"mse\", optimizer='sgd')\n"
      ],
      "metadata": {
        "id": "ZOieqAyYi--y"
      },
      "execution_count": null,
      "outputs": []
    },
    {
      "cell_type": "code",
      "source": [
        "#Split the data into more training datasets \n",
        "x_train_A, x_train_B = x_train[:, :5] , x_train[:, 2:]"
      ],
      "metadata": {
        "id": "zz_J5XvLkppG"
      },
      "execution_count": null,
      "outputs": []
    },
    {
      "cell_type": "code",
      "source": [
        "x_test_A, x_test_B = x_test[:,:5],x_test[:,2:]"
      ],
      "metadata": {
        "id": "ypEultsPk-01"
      },
      "execution_count": null,
      "outputs": []
    },
    {
      "cell_type": "code",
      "source": [
        "x_valid_A, x_valid_B =  x_valid[:,:5],x_valid[:, 2:]"
      ],
      "metadata": {
        "id": "l_gHlzNWlKhe"
      },
      "execution_count": null,
      "outputs": []
    },
    {
      "cell_type": "code",
      "source": [
        "x_test_new_A, x_test_new_B =x_test_A[:3], x_test_B[:3]"
      ],
      "metadata": {
        "id": "ddL3NZjnlmBF"
      },
      "execution_count": null,
      "outputs": []
    },
    {
      "cell_type": "code",
      "source": [
        "model.fit((x_train_A,x_train_B),y_train,epochs=20,validation_data=((x_valid_A, x_valid_B),y_valid))"
      ],
      "metadata": {
        "id": "bawQ3m88l9wV"
      },
      "execution_count": null,
      "outputs": []
    },
    {
      "cell_type": "code",
      "source": [
        ""
      ],
      "metadata": {
        "id": "d5iP3zIdv0FQ"
      },
      "execution_count": null,
      "outputs": []
    },
    {
      "cell_type": "code",
      "source": [
        ""
      ],
      "metadata": {
        "id": "sPZrPJOZyucO"
      },
      "execution_count": null,
      "outputs": []
    },
    {
      "cell_type": "markdown",
      "source": [
        "Use cases where you might want multiple outputs are when you want to identify an object position in an image and then also classify the image."
      ],
      "metadata": {
        "id": "SCNFxzldwxXC"
      }
    },
    {
      "cell_type": "code",
      "source": [
        "ouput = tf.keras.layers.Dense(1)(con)"
      ],
      "metadata": {
        "id": "b3Vknkh5we1R"
      },
      "execution_count": null,
      "outputs": []
    },
    {
      "cell_type": "code",
      "source": [
        "aux_ouput = tf.keras.layers.Dense(1)(hidden2)"
      ],
      "metadata": {
        "id": "pCXb_5uJyhSO"
      },
      "execution_count": null,
      "outputs": []
    },
    {
      "cell_type": "code",
      "source": [
        "model = tf.keras.Model(inputs=[inputA,inputB],outputs=[output,aux_ouput]) #Thus model has two ouputs\n",
        "#There are many use cases of a two output model, for instance Identifying the location of an object in an image and then being able to classify the object \n",
        "#When compiling the model each output should get their own losses otherwise keras will compute one loss for both"
      ],
      "metadata": {
        "id": "3XO7dgh7zGV7"
      },
      "execution_count": null,
      "outputs": []
    },
    {
      "cell_type": "code",
      "source": [
        "#since we are  using two outputs in this model we should pass a loss function for each output , if we pass a single loss keras will use the same loss for both outputs\n",
        "#Keras computes both of these losses then add them up to get the final loss for training\n",
        "model.compile(loss =[\"mse\",\"mse\"], loss_weights=[0.9,0.1] ,optimizer=\"sgd\")\n"
      ],
      "metadata": {
        "id": "FpVLTUu0z62P"
      },
      "execution_count": null,
      "outputs": []
    },
    {
      "cell_type": "code",
      "source": [
        "model.fit([x_train_A,x_train_B], [y_train,y_train], epochs = 20 )"
      ],
      "metadata": {
        "id": "Cn1s8T1U9aAK"
      },
      "execution_count": null,
      "outputs": []
    },
    {
      "cell_type": "code",
      "source": [
        "#During evaluation of the model keras will output the total losses as well as the individual outputs\n",
        "model.evaluate([x_test_A, x_test_B],[y_test,y_test], verbose =1)"
      ],
      "metadata": {
        "id": "_rl43uHdAWM6"
      },
      "execution_count": null,
      "outputs": []
    },
    {
      "cell_type": "code",
      "source": [
        "#Do a prediction  \n",
        "prediction = model.predict((x_test_new_A, x_test_new_B))"
      ],
      "metadata": {
        "id": "G_pM6zqyBjeJ"
      },
      "execution_count": null,
      "outputs": []
    },
    {
      "cell_type": "code",
      "source": [
        "prediction "
      ],
      "metadata": {
        "colab": {
          "base_uri": "https://localhost:8080/"
        },
        "id": "xxFUTjwVCQCe",
        "outputId": "b8a32b15-c45c-488b-e37a-3767eb5e92dc"
      },
      "execution_count": null,
      "outputs": [
        {
          "output_type": "execute_result",
          "data": {
            "text/plain": [
              "array([[nan],\n",
              "       [nan],\n",
              "       [nan]], dtype=float32)"
            ]
          },
          "metadata": {},
          "execution_count": 102
        }
      ]
    },
    {
      "cell_type": "code",
      "source": [
        "tf.keras.utils.to_categorical(model)"
      ],
      "metadata": {
        "id": "3R7VQzS4CWXM"
      },
      "execution_count": null,
      "outputs": []
    },
    {
      "cell_type": "code",
      "source": [
        "#Subclassing API\n",
        "class WideAndDeepModel(keras.models.Model):\n",
        "  #we initialize this class\n",
        "  def __init__(self,units = 30 , activation='relu', **kwargs):\n",
        "    super.__init__(**kwargs)\n",
        "    self.hidden1 = tf.keras.layers.Dense(units,activation)\n",
        "    self.hidden2 = tf.keras.layers.Dense(units,activation)\n",
        "    self.main_output= tf.keras.layers.Dense(1)\n",
        "    self.aux_output= tf.keras.layers.Dense(1)\n",
        "    #Pick up from here\n",
        "\n",
        "    "
      ],
      "metadata": {
        "id": "Gp5-avZtDxEu"
      },
      "execution_count": null,
      "outputs": []
    },
    {
      "cell_type": "code",
      "source": [
        "class WideAndDeepModel(tf.keras.models.Model):\n",
        "  def __init__(self, units = 30 , activation=\"relu\", **kwargs):\n",
        "    super().__init__(**kwargs)\n",
        "    self.hidden1 = tf.keras.layers.Dense(units, activation =activation)\n",
        "    self.hidden2 = tf.keras.layers.Dense(units, activation = activation)\n",
        "    self.main_output = tf.keras.layers.Dense(1)\n",
        "    self.aux_output = tf.keras.layers.Dense(1)\n",
        "  \n",
        "\n",
        "  def call(self, inputs):\n",
        "    inputA, inputB = inputs\n",
        "    hidden1 = self.hidden1(inputB)\n",
        "    hidden2 = self.hidden2(hidden1)\n",
        "    con = tf.keras.layers.Concatenate([inputA,hidden2])\n",
        "    main_output = self.main_output(con)\n",
        "    aux_output = self.aux_output(hidden2)\n",
        "    return main_output, aux_output\n",
        "\n",
        "model = WideAndDeepModel()"
      ],
      "metadata": {
        "id": "Z2ir7qnYHDM4"
      },
      "execution_count": null,
      "outputs": []
    },
    {
      "cell_type": "code",
      "source": [
        "#Recreating the wide and deep model using the subclassing API \n",
        "\n",
        "#We create a class called WideAndDeepModel which takes in a base class tf.keras.models\n",
        "class WideAndDeepModel(tf.keras.models.Model):\n",
        "  #We the initialise this class by declaring the attributes and defining them \n",
        "  def __init__(self,units=30, activations = \"relu\", **kwargs):\n",
        "    super().__init__()\n",
        "    self.hidden1 = tf.keras.layers.Dense(units, activation= activations)\n",
        "    self.hidden2 = tf.keras.layers.Dense(units, activation= activations)\n",
        "    self.main_output = tf.keras.layers.Dense(1)\n",
        "    self.main_output = tf.keras.layers.Dense(1)\n",
        "\n",
        "  def call(self, inputs):\n",
        "    inputA, inputB  = inputs\n",
        "    hidden1 = self.hidden1(inputB)\n",
        "    hidden2 = self.hidden2(hidden1)\n",
        "    con = tf.keras.layers.Concatenate([hidden2, inputA])\n",
        "    main_output = self.main_output(con)\n",
        "    aux_output = self.aux_output(hidden2)\n",
        "    return main_output, aux_ouput\n",
        "  \n",
        "model =WideAndDeepModel()"
      ],
      "metadata": {
        "id": "mh7bj-Wfqsyd"
      },
      "execution_count": null,
      "outputs": []
    },
    {
      "cell_type": "code",
      "source": [
        "#Recreating the Wide and Deep model using  the subclassing API\n",
        "#The wide and deep model is a type of neural network that could possibly have two outputs and its input is split into two one part of \n",
        "#part of the data passes through deep stack of layers while the other part is connected directly to the output layer\n",
        "#A wide and deep neural network is a type of neural network where part if the input layer(flattenned)is connected to the output layer while the other passes through the deep fully connected layers."
      ],
      "metadata": {
        "id": "dQTV4qfUtIxM"
      },
      "execution_count": null,
      "outputs": []
    },
    {
      "cell_type": "code",
      "source": [
        "#To create the wide and Deep neural network we have to create a subclass class that inherits from a base class\n",
        "import tensorflow as tf\n",
        "#Self is used to access data attributes from a class\n",
        "class WideAndDeepModel(tf.keras.models.Model):\n",
        "  def __init__(self, units= 30, activation=\"relu\", **kwargs):\n",
        "     super().__init__(**kwargs)\n",
        "     \"\"\"Here we have defined the constructor by specifying \n",
        "     the number of neurons in each layer together with the activation we'll use\"\"\"\n",
        "     #We then define the data attributes of each layer\n",
        "     self.hidden1 = tf.keras.layers.Dense(units, activation = activation)\n",
        "     self.hidden2 = tf.keras.layers.Dense(units, activation = activation)\n",
        "     self.main_output = tf.keras.layers.Dense(1)\n",
        "     self.aux_output = tf.keras.layers.Dense(1)\n",
        "  \n",
        "\n",
        "  def call(self, inputs):\n",
        "    inputA, inputB = inputs\n",
        "    hidden1 = self.hidden1(inputB)\n",
        "    hidden2 = self.hidden2(hidden1)\n",
        "    con = tf.keras.layers.Concatenate([hidden2,inputA])\n",
        "    main_output = self.main_output(con)\n",
        "    aux_output = self.aux_output(hidden2)\n",
        "    return main_output, aux_output\n",
        "\n",
        "model = WideAndDeepModel()"
      ],
      "metadata": {
        "id": "wvJkd_j5so4H"
      },
      "execution_count": 2,
      "outputs": []
    },
    {
      "cell_type": "code",
      "source": [
        "#Recreating the wide and Deep model using the subclassing API\n",
        "#We start by creating the class\n",
        "class WideAndDeepModel(tf.keras.models.Model):\n",
        "  def __init__(self, units = 30 , activation = \"relu\", **kwargs):#Class constructor  which has the data attributes units, which represent number of neurons, and activations which we specified to relu\n",
        "    super().__init__(self,**kwargs) #super init method\n",
        "    self.hidden1 = tf.keras.layers.Dense(units, activation = activation)\n",
        "    self.hidden2 = tf.keras.layers.Dense(units, activation=activation)\n",
        "    self.main_output = tf.keras.layers.Dense(1)\n",
        "    self.aux_output = tf.keras.layers.Dense(1)\n",
        "  \n",
        "#We define a call method which initialises the attributes of the class(model)  \n",
        "  def call(self, inputs):\n",
        "    inputA, inputB = inputs\n",
        "    hidden1 = self.hidden1(inputB)\n",
        "    hidden2 = self.hidden2(hidden1)\n",
        "    con = tf.keras.layers.Concatenate([hidden2, inputA])#The concatenate method/layer always takes in 2 positional arguments inform of a list\n",
        "    main_output = self.main_output(con)\n",
        "    aux_output = self.aux_output(hidden2)\n",
        "    return aux_output, main_output\n",
        "\n",
        "model = WideAndDeepModel()"
      ],
      "metadata": {
        "id": "EqgWS-jNc5G1"
      },
      "execution_count": 3,
      "outputs": []
    },
    {
      "cell_type": "markdown",
      "source": [
        "The cost of using the subclassing API is that keras cannot inspect the model so it is easy to make mistakes.When you call the model.summary() method you just get a list of layers with no further information about the model parameters and shapes of inputs."
      ],
      "metadata": {
        "id": "9YUbOHCyhEfD"
      }
    },
    {
      "cell_type": "markdown",
      "source": [
        "Keras models can be used just like regular layers so we can stack them up to build complex architectures."
      ],
      "metadata": {
        "id": "4CyII4JFhzRV"
      }
    },
    {
      "cell_type": "code",
      "source": [
        "def my_model():\n",
        "  return WideAndDeepModel()"
      ],
      "metadata": {
        "id": "w6DJckozfUbL"
      },
      "execution_count": 4,
      "outputs": []
    },
    {
      "cell_type": "code",
      "source": [
        "model = my_model()"
      ],
      "metadata": {
        "id": "VWIxDkfmiWfQ"
      },
      "execution_count": 5,
      "outputs": []
    },
    {
      "cell_type": "code",
      "source": [
        ""
      ],
      "metadata": {
        "id": "yxCmGO92lxdd"
      },
      "execution_count": null,
      "outputs": []
    },
    {
      "cell_type": "markdown",
      "source": [
        "To save a model we use the model.save() method however, for the subclassing api we have to put our model in a method i.e \n",
        "class MySubclassModel:\n",
        "     .......\n",
        "     ....\n",
        "\n",
        "  #Method to save our model\n",
        "  def get_model():\n",
        "     ......\n",
        "     return MySubclassModel()\n",
        "\n",
        "we then save this method in a variable called model\n",
        "#Like so\n",
        "model = get_model()\n",
        "We then call the model.save() method which we'll pass in the \n",
        "path to save our model and the format to save our model. Some formats do not allow you to save the parameters so you have to specify the parameters yourself."
      ],
      "metadata": {
        "id": "F-lbClg_mAn3"
      }
    },
    {
      "cell_type": "code",
      "source": [
        "#model.save(\"sample_data\", save_format=tf)\n",
        "\n",
        "\n",
        "model = tf.keras.models.Sequential([\n",
        "    tf.keras.layers.Flatten(input_shape=(28*28,1)),\n",
        "    tf.keras.layers.Dense(100, activation=\"relu\"),\n",
        "    tf.keras.layers.Dense(1)\n",
        "])"
      ],
      "metadata": {
        "id": "vz_MScyAjk36"
      },
      "execution_count": 28,
      "outputs": []
    },
    {
      "cell_type": "code",
      "source": [
        "model.compile(loss = \"mse\", optimizer=\"sgd\" )"
      ],
      "metadata": {
        "id": "o_QgbJn1v-ia"
      },
      "execution_count": 55,
      "outputs": []
    },
    {
      "cell_type": "code",
      "source": [
        ""
      ],
      "metadata": {
        "id": "vL6yVq9iw9QF"
      },
      "execution_count": null,
      "outputs": []
    },
    {
      "cell_type": "code",
      "source": [
        "model.fit(x_train, y_train, epochs=20, validation_data=(x_valid, y_valid) )"
      ],
      "metadata": {
        "colab": {
          "base_uri": "https://localhost:8080/"
        },
        "id": "mz6e6F2YwXlf",
        "outputId": "30526b1d-c12d-450d-b479-eaa6584bd020"
      },
      "execution_count": 62,
      "outputs": [
        {
          "output_type": "stream",
          "name": "stdout",
          "text": [
            "Epoch 1/20\n",
            "363/363 [==============================] - 1s 3ms/step - loss: 1.3510 - val_loss: 1.2818\n",
            "Epoch 2/20\n",
            "363/363 [==============================] - 2s 4ms/step - loss: 1.3511 - val_loss: 1.2796\n",
            "Epoch 3/20\n",
            "363/363 [==============================] - 1s 3ms/step - loss: 1.3487 - val_loss: 1.2793\n",
            "Epoch 4/20\n",
            "363/363 [==============================] - 1s 2ms/step - loss: 1.3501 - val_loss: 1.2791\n",
            "Epoch 5/20\n",
            "363/363 [==============================] - 1s 2ms/step - loss: 1.3505 - val_loss: 1.2774\n",
            "Epoch 6/20\n",
            "363/363 [==============================] - 1s 2ms/step - loss: 1.3489 - val_loss: 1.2822\n",
            "Epoch 7/20\n",
            "363/363 [==============================] - 1s 2ms/step - loss: 1.3474 - val_loss: 1.2803\n",
            "Epoch 8/20\n",
            "363/363 [==============================] - 1s 2ms/step - loss: 1.3498 - val_loss: 1.2945\n",
            "Epoch 9/20\n",
            "363/363 [==============================] - 1s 2ms/step - loss: 1.3479 - val_loss: 1.2800\n",
            "Epoch 10/20\n",
            "363/363 [==============================] - 1s 2ms/step - loss: 1.3465 - val_loss: 1.2806\n",
            "Epoch 11/20\n",
            "363/363 [==============================] - 1s 3ms/step - loss: 1.3490 - val_loss: 1.2765\n",
            "Epoch 12/20\n",
            "363/363 [==============================] - 1s 2ms/step - loss: 1.3487 - val_loss: 1.2813\n",
            "Epoch 13/20\n",
            "363/363 [==============================] - 1s 2ms/step - loss: 1.3504 - val_loss: 1.2777\n",
            "Epoch 14/20\n",
            "363/363 [==============================] - 1s 2ms/step - loss: 1.3504 - val_loss: 1.2794\n",
            "Epoch 15/20\n",
            "363/363 [==============================] - 1s 2ms/step - loss: 1.3515 - val_loss: 1.2789\n",
            "Epoch 16/20\n",
            "363/363 [==============================] - 1s 3ms/step - loss: 1.3499 - val_loss: 1.2781\n",
            "Epoch 17/20\n",
            "363/363 [==============================] - 1s 2ms/step - loss: 1.3493 - val_loss: 1.2945\n",
            "Epoch 18/20\n",
            "363/363 [==============================] - 1s 2ms/step - loss: 1.3491 - val_loss: 1.3011\n",
            "Epoch 19/20\n",
            "363/363 [==============================] - 1s 2ms/step - loss: 1.3491 - val_loss: 1.2850\n",
            "Epoch 20/20\n",
            "363/363 [==============================] - 1s 2ms/step - loss: 1.3490 - val_loss: 1.3128\n"
          ]
        },
        {
          "output_type": "execute_result",
          "data": {
            "text/plain": [
              "<keras.callbacks.History at 0x7fe094da8910>"
            ]
          },
          "metadata": {},
          "execution_count": 62
        }
      ]
    },
    {
      "cell_type": "code",
      "source": [
        ""
      ],
      "metadata": {
        "id": "y2rrmzxIwtth"
      },
      "execution_count": null,
      "outputs": []
    },
    {
      "cell_type": "code",
      "source": [
        "model.save(\"MyModel.h5\")"
      ],
      "metadata": {
        "id": "yMMRFDpovtyi"
      },
      "execution_count": 63,
      "outputs": []
    },
    {
      "cell_type": "code",
      "source": [
        ""
      ],
      "metadata": {
        "id": "MCZ452M8vydK"
      },
      "execution_count": null,
      "outputs": []
    },
    {
      "cell_type": "code",
      "source": [
        ""
      ],
      "metadata": {
        "id": "jiBEthwHvYYk"
      },
      "execution_count": null,
      "outputs": []
    },
    {
      "cell_type": "code",
      "source": [
        ""
      ],
      "metadata": {
        "id": "9tTOVvo1vUwT"
      },
      "execution_count": null,
      "outputs": []
    },
    {
      "cell_type": "markdown",
      "source": [
        "When the training lasts several hours, you should save the model during training and after training. Using callbacks we can tell the fit method to save the model during certain checkpoints.The fit method accepts callbacks that let you specify a list of objects that keras will call during training, before and after training and before and after processing the batch."
      ],
      "metadata": {
        "id": "kukyxkAXqiqp"
      }
    },
    {
      "cell_type": "code",
      "source": [
        "checkPoint_cb = tf.keras.callbacks.ModelCheckpoint(\"MyModel.h5\", save_best_only=True)#The save best only when set to true it instructs the method to save the parameters that perfomed well during Training and\n",
        "#This way we do not have to worry about overfitting in our training set \n",
        "#When doing this we could restore the last model saved during training and this will be the best model that performed well on the validation set"
      ],
      "metadata": {
        "id": "i3bgYmSEkDew"
      },
      "execution_count": 64,
      "outputs": []
    },
    {
      "cell_type": "code",
      "source": [
        "history = model.fit(x_train,y_train, epochs =10,callbacks=[checkPoint_cb])"
      ],
      "metadata": {
        "colab": {
          "base_uri": "https://localhost:8080/"
        },
        "id": "6CAH81gKv5ot",
        "outputId": "a652c40e-8c57-489f-ad3c-596f52033338"
      },
      "execution_count": 65,
      "outputs": [
        {
          "output_type": "stream",
          "name": "stdout",
          "text": [
            "Epoch 1/10\n",
            "330/363 [==========================>...] - ETA: 0s - loss: 1.3562WARNING:tensorflow:Can save best model only with val_loss available, skipping.\n",
            "363/363 [==============================] - 1s 2ms/step - loss: 1.3496\n",
            "Epoch 2/10\n",
            "361/363 [============================>.] - ETA: 0s - loss: 1.3463WARNING:tensorflow:Can save best model only with val_loss available, skipping.\n",
            "363/363 [==============================] - 1s 2ms/step - loss: 1.3473\n",
            "Epoch 3/10\n",
            "343/363 [===========================>..] - ETA: 0s - loss: 1.3450WARNING:tensorflow:Can save best model only with val_loss available, skipping.\n",
            "363/363 [==============================] - 1s 2ms/step - loss: 1.3465\n",
            "Epoch 4/10\n",
            "347/363 [===========================>..] - ETA: 0s - loss: 1.3494WARNING:tensorflow:Can save best model only with val_loss available, skipping.\n",
            "363/363 [==============================] - 1s 2ms/step - loss: 1.3474\n",
            "Epoch 5/10\n",
            "334/363 [==========================>...] - ETA: 0s - loss: 1.3500WARNING:tensorflow:Can save best model only with val_loss available, skipping.\n",
            "363/363 [==============================] - 1s 2ms/step - loss: 1.3490\n",
            "Epoch 6/10\n",
            "334/363 [==========================>...] - ETA: 0s - loss: 1.3449WARNING:tensorflow:Can save best model only with val_loss available, skipping.\n",
            "363/363 [==============================] - 1s 2ms/step - loss: 1.3489\n",
            "Epoch 7/10\n",
            "348/363 [===========================>..] - ETA: 0s - loss: 1.3471WARNING:tensorflow:Can save best model only with val_loss available, skipping.\n",
            "363/363 [==============================] - 1s 2ms/step - loss: 1.3470\n",
            "Epoch 8/10\n",
            "363/363 [==============================] - ETA: 0s - loss: 1.3496WARNING:tensorflow:Can save best model only with val_loss available, skipping.\n",
            "363/363 [==============================] - 1s 2ms/step - loss: 1.3496\n",
            "Epoch 9/10\n",
            "344/363 [===========================>..] - ETA: 0s - loss: 1.3473WARNING:tensorflow:Can save best model only with val_loss available, skipping.\n",
            "363/363 [==============================] - 1s 2ms/step - loss: 1.3504\n",
            "Epoch 10/10\n",
            "340/363 [===========================>..] - ETA: 0s - loss: 1.3432WARNING:tensorflow:Can save best model only with val_loss available, skipping.\n",
            "363/363 [==============================] - 1s 2ms/step - loss: 1.3477\n"
          ]
        }
      ]
    },
    {
      "cell_type": "code",
      "source": [
        ""
      ],
      "metadata": {
        "id": "1jEyVnAOw0L6"
      },
      "execution_count": null,
      "outputs": []
    },
    {
      "cell_type": "code",
      "source": [
        ""
      ],
      "metadata": {
        "id": "TiUceaEhwybe"
      },
      "execution_count": null,
      "outputs": []
    },
    {
      "cell_type": "code",
      "source": [
        "#Rolling back to the best model and whether you will choose to continue training or not you roll back to the best model like this:\n",
        "model = tf.keras.models.load_model(\"MyModel.h5\")"
      ],
      "metadata": {
        "id": "FQiCQrEMxVR-"
      },
      "execution_count": 66,
      "outputs": []
    },
    {
      "cell_type": "markdown",
      "source": [
        "By implementing early stopping we are preventing the model from overfitting the training set. Apart from the save_best_only we could implement the early stopping method that stop training when the model does not show progress in the validation set performance. Interrupting training early also saves time and resources because the model is not showing any progress. We can set a large number of training cycles (epochs) since we the training will automatically stop when there is no progress. "
      ],
      "metadata": {
        "id": "nkironge0onA"
      }
    },
    {
      "cell_type": "code",
      "source": [
        "model.predict(x_train[:3]) "
      ],
      "metadata": {
        "colab": {
          "base_uri": "https://localhost:8080/"
        },
        "id": "gjIUMyT20YFl",
        "outputId": "d8b7b971-7640-47db-a3ff-c385b291de73"
      },
      "execution_count": null,
      "outputs": [
        {
          "output_type": "execute_result",
          "data": {
            "text/plain": [
              "array([[1.8604112],\n",
              "       [1.8604112],\n",
              "       [1.860411 ]], dtype=float32)"
            ]
          },
          "metadata": {},
          "execution_count": 56
        }
      ]
    },
    {
      "cell_type": "code",
      "source": [
        "#Custom callbacks\n",
        "early_stopping_cb = tf.keras.callbacks.EarlyStopping(patience = 10 , restore_best_weights=True)"
      ],
      "metadata": {
        "id": "Uo51GxLx0bGT"
      },
      "execution_count": 34,
      "outputs": []
    },
    {
      "cell_type": "code",
      "source": [
        "history = model.fit(x_train, y_train ,  epochs=100,validation_data=[x_valid,y_valid],callbacks=[early_stopping_cb, checkPoint_cb])"
      ],
      "metadata": {
        "id": "yBdpwCXrvWB0",
        "outputId": "20e61cb4-e0ef-4d49-b8bf-f191ea5e538a",
        "colab": {
          "base_uri": "https://localhost:8080/"
        }
      },
      "execution_count": 69,
      "outputs": [
        {
          "output_type": "stream",
          "name": "stdout",
          "text": [
            "Epoch 1/100\n",
            "363/363 [==============================] - 2s 4ms/step - loss: 1.3486 - val_loss: 1.2777\n",
            "Epoch 2/100\n",
            "363/363 [==============================] - 1s 4ms/step - loss: 1.3483 - val_loss: 1.2794\n",
            "Epoch 3/100\n",
            "363/363 [==============================] - 1s 4ms/step - loss: 1.3473 - val_loss: 1.2776\n",
            "Epoch 4/100\n",
            "363/363 [==============================] - 1s 4ms/step - loss: 1.3491 - val_loss: 1.2809\n",
            "Epoch 5/100\n",
            "363/363 [==============================] - 1s 4ms/step - loss: 1.3495 - val_loss: 1.2767\n",
            "Epoch 6/100\n",
            "363/363 [==============================] - 2s 4ms/step - loss: 1.3457 - val_loss: 1.3038\n",
            "Epoch 7/100\n",
            "363/363 [==============================] - 1s 4ms/step - loss: 1.3510 - val_loss: 1.2765\n",
            "Epoch 8/100\n",
            "363/363 [==============================] - 1s 4ms/step - loss: 1.3479 - val_loss: 1.2789\n",
            "Epoch 9/100\n",
            "363/363 [==============================] - 1s 4ms/step - loss: 1.3497 - val_loss: 1.2850\n",
            "Epoch 10/100\n",
            "363/363 [==============================] - 1s 4ms/step - loss: 1.3483 - val_loss: 1.3929\n",
            "Epoch 11/100\n",
            "363/363 [==============================] - 1s 4ms/step - loss: 1.3478 - val_loss: 1.2767\n",
            "Epoch 12/100\n",
            "363/363 [==============================] - 2s 4ms/step - loss: 1.3467 - val_loss: 1.2800\n",
            "Epoch 13/100\n",
            "363/363 [==============================] - 1s 4ms/step - loss: 1.3491 - val_loss: 1.2852\n",
            "Epoch 14/100\n",
            "363/363 [==============================] - 1s 4ms/step - loss: 1.3495 - val_loss: 1.2914\n",
            "Epoch 15/100\n",
            "363/363 [==============================] - 2s 4ms/step - loss: 1.3475 - val_loss: 1.2778\n",
            "Epoch 16/100\n",
            "363/363 [==============================] - 1s 4ms/step - loss: 1.3500 - val_loss: 1.2807\n",
            "Epoch 17/100\n",
            "363/363 [==============================] - 1s 4ms/step - loss: 1.3467 - val_loss: 1.2796\n"
          ]
        }
      ]
    },
    {
      "cell_type": "markdown",
      "source": [
        "After training we might wanna save our model and this will enable us to clone, transer and reuse our model. Keras allow us to save our trained model using the #model.save(\"MyModel\") method. Note that to save the subclassing API model we have to put our model in a function and then save the function in a variable called model we could do it like below:"
      ],
      "metadata": {
        "id": "2y3lZKpux4k2"
      }
    },
    {
      "cell_type": "code",
      "source": [
        "#In the subclassing API we pass the tf.keras.models.Model as the base class while the WideAndDeep class inherits from it\n",
        "class WideAndDeepModel(tf.keras.models.Model):\n",
        "  #Subclass of the tf.model.Model\n",
        "  #We then create a constructor of this class\n",
        "  def __init__(self, units=30, activations=\"relu\",**kwargs):\n",
        "    super().__init__(**kwargs)\n",
        "    self.hidden1 = tf.keras.layers.Dense(units, activation=activations)\n",
        "    self.hidden2 = tf.keras.layers.Dense(units, activation=activations)\n",
        "    self.main_output = tf.keras.layers.Dense(1)\n",
        "    self.aux_output = tf.keras.layers.Dense(1)\n",
        "\n",
        "  #We then define the call functions\n",
        "  def call(self, inputs):\n",
        "    inputA, inputb = inputs\n",
        "    hidden1 = self.hidden1(inputA)\n",
        "    hidden2 = self.hidden2(hidden1)\n",
        "    con = tf.keras.Concatenate(hidden2)\n",
        "    main_auxoutput = self.main_output(con)\n",
        "    aux_output = self.aux_output(hidden2)\n",
        "    return main_output, aux_output\n",
        "\n",
        "model = WideAndDeepModel() "
      ],
      "metadata": {
        "id": "7yqtnUyWxXUv"
      },
      "execution_count": 78,
      "outputs": []
    },
    {
      "cell_type": "code",
      "source": [
        ""
      ],
      "metadata": {
        "id": "v7s245cH3hpE"
      },
      "execution_count": null,
      "outputs": []
    },
    {
      "cell_type": "code",
      "source": [
        ""
      ],
      "metadata": {
        "id": "gB3rIK2L2vu-"
      },
      "execution_count": null,
      "outputs": []
    },
    {
      "cell_type": "code",
      "source": [
        ""
      ],
      "metadata": {
        "id": "l_Tlrjrx2Trr"
      },
      "execution_count": null,
      "outputs": []
    },
    {
      "cell_type": "code",
      "source": [
        ""
      ],
      "metadata": {
        "id": "pyw9A_el1fI3"
      },
      "execution_count": null,
      "outputs": []
    },
    {
      "cell_type": "code",
      "source": [
        ""
      ],
      "metadata": {
        "id": "UpRjFsP70BkV"
      },
      "execution_count": null,
      "outputs": []
    },
    {
      "cell_type": "code",
      "source": [
        ""
      ],
      "metadata": {
        "id": "vhlm17eFxPzY"
      },
      "execution_count": null,
      "outputs": []
    },
    {
      "cell_type": "code",
      "source": [
        ""
      ],
      "metadata": {
        "id": "XUNP-umMwoHW"
      },
      "execution_count": null,
      "outputs": []
    },
    {
      "cell_type": "code",
      "source": [
        ""
      ],
      "metadata": {
        "id": "dHgxcsGBtTLB"
      },
      "execution_count": null,
      "outputs": []
    },
    {
      "cell_type": "code",
      "source": [
        ""
      ],
      "metadata": {
        "id": "Unj_oNzXu3Nd"
      },
      "execution_count": null,
      "outputs": []
    },
    {
      "cell_type": "code",
      "source": [
        ""
      ],
      "metadata": {
        "id": "cbv7uVk4unMv"
      },
      "execution_count": null,
      "outputs": []
    },
    {
      "cell_type": "code",
      "source": [
        ""
      ],
      "metadata": {
        "id": "gr3er8Gbj_4G"
      },
      "execution_count": null,
      "outputs": []
    },
    {
      "cell_type": "code",
      "source": [
        ""
      ],
      "metadata": {
        "id": "Yq2mpaINj-s_"
      },
      "execution_count": null,
      "outputs": []
    },
    {
      "cell_type": "code",
      "source": [
        ""
      ],
      "metadata": {
        "id": "SWil1tpZj4cU"
      },
      "execution_count": null,
      "outputs": []
    },
    {
      "cell_type": "code",
      "source": [
        ""
      ],
      "metadata": {
        "id": "3Oj2-C23fR0x"
      },
      "execution_count": null,
      "outputs": []
    },
    {
      "cell_type": "code",
      "source": [
        ""
      ],
      "metadata": {
        "id": "cusVPU0jc0OG"
      },
      "execution_count": null,
      "outputs": []
    },
    {
      "cell_type": "code",
      "source": [
        ""
      ],
      "metadata": {
        "id": "PsxqCQgXcw9U"
      },
      "execution_count": null,
      "outputs": []
    },
    {
      "cell_type": "code",
      "source": [
        ""
      ],
      "metadata": {
        "id": "shuAlBcecstO"
      },
      "execution_count": null,
      "outputs": []
    },
    {
      "cell_type": "code",
      "source": [
        ""
      ],
      "metadata": {
        "id": "spUAA6k9ce5u"
      },
      "execution_count": null,
      "outputs": []
    },
    {
      "cell_type": "code",
      "source": [
        ""
      ],
      "metadata": {
        "id": "GpFAyhJ6cLH0"
      },
      "execution_count": null,
      "outputs": []
    },
    {
      "cell_type": "code",
      "source": [
        ""
      ],
      "metadata": {
        "id": "b1kQ6fJKcHHo"
      },
      "execution_count": null,
      "outputs": []
    },
    {
      "cell_type": "code",
      "source": [
        ""
      ],
      "metadata": {
        "id": "n6zMm-52sZad"
      },
      "execution_count": null,
      "outputs": []
    },
    {
      "cell_type": "code",
      "source": [
        ""
      ],
      "metadata": {
        "id": "dp2GlhPqsBYG"
      },
      "execution_count": null,
      "outputs": []
    },
    {
      "cell_type": "code",
      "source": [
        ""
      ],
      "metadata": {
        "id": "njjJ0Te1r7U2"
      },
      "execution_count": null,
      "outputs": []
    },
    {
      "cell_type": "code",
      "source": [
        ""
      ],
      "metadata": {
        "id": "dO-EYI-Vrys-"
      },
      "execution_count": null,
      "outputs": []
    },
    {
      "cell_type": "code",
      "source": [
        ""
      ],
      "metadata": {
        "id": "0nkX-feTrVyN"
      },
      "execution_count": null,
      "outputs": []
    },
    {
      "cell_type": "code",
      "source": [
        ""
      ],
      "metadata": {
        "id": "bYFlr8Hjqn_o"
      },
      "execution_count": null,
      "outputs": []
    },
    {
      "cell_type": "code",
      "source": [
        ""
      ],
      "metadata": {
        "id": "SDZdNDRbqiPE"
      },
      "execution_count": null,
      "outputs": []
    },
    {
      "cell_type": "code",
      "source": [
        ""
      ],
      "metadata": {
        "id": "hSM01cnbqWaM"
      },
      "execution_count": null,
      "outputs": []
    },
    {
      "cell_type": "code",
      "source": [
        ""
      ],
      "metadata": {
        "id": "KMT2P0L8pRas"
      },
      "execution_count": null,
      "outputs": []
    },
    {
      "cell_type": "code",
      "source": [
        ""
      ],
      "metadata": {
        "id": "3oJWXR_hpDt1"
      },
      "execution_count": null,
      "outputs": []
    },
    {
      "cell_type": "code",
      "source": [
        ""
      ],
      "metadata": {
        "id": "bEB7OfwHo_l3"
      },
      "execution_count": null,
      "outputs": []
    },
    {
      "cell_type": "code",
      "source": [
        ""
      ],
      "metadata": {
        "id": "g12IcI8to9g8"
      },
      "execution_count": null,
      "outputs": []
    },
    {
      "cell_type": "code",
      "source": [
        ""
      ],
      "metadata": {
        "id": "Z-Mf15Kdo8gU"
      },
      "execution_count": null,
      "outputs": []
    },
    {
      "cell_type": "code",
      "source": [
        ""
      ],
      "metadata": {
        "id": "Z4Vco7yAohRW"
      },
      "execution_count": null,
      "outputs": []
    },
    {
      "cell_type": "code",
      "source": [
        ""
      ],
      "metadata": {
        "id": "aU1eBpYBnOgf"
      },
      "execution_count": null,
      "outputs": []
    },
    {
      "cell_type": "code",
      "source": [
        ""
      ],
      "metadata": {
        "id": "7CywZ5KInJyu"
      },
      "execution_count": null,
      "outputs": []
    },
    {
      "cell_type": "code",
      "source": [
        ""
      ],
      "metadata": {
        "id": "SRdc5lY9nHbP"
      },
      "execution_count": null,
      "outputs": []
    },
    {
      "cell_type": "code",
      "source": [
        ""
      ],
      "metadata": {
        "id": "lt9QrnmvnCOY"
      },
      "execution_count": null,
      "outputs": []
    },
    {
      "cell_type": "code",
      "source": [
        ""
      ],
      "metadata": {
        "id": "OszxSw-3mjbD"
      },
      "execution_count": null,
      "outputs": []
    },
    {
      "cell_type": "code",
      "source": [
        ""
      ],
      "metadata": {
        "id": "0IB342lalsAu"
      },
      "execution_count": null,
      "outputs": []
    },
    {
      "cell_type": "code",
      "source": [
        ""
      ],
      "metadata": {
        "id": "ug6ohaYolqKN"
      },
      "execution_count": null,
      "outputs": []
    },
    {
      "cell_type": "code",
      "source": [
        ""
      ],
      "metadata": {
        "id": "C9XMn5Ywljf_"
      },
      "execution_count": null,
      "outputs": []
    },
    {
      "cell_type": "code",
      "source": [
        ""
      ],
      "metadata": {
        "id": "gLDLe9t6lYgR"
      },
      "execution_count": null,
      "outputs": []
    },
    {
      "cell_type": "code",
      "source": [
        ""
      ],
      "metadata": {
        "id": "XZVvHYCJlU2P"
      },
      "execution_count": null,
      "outputs": []
    },
    {
      "cell_type": "code",
      "source": [
        ""
      ],
      "metadata": {
        "id": "Fv-Yjqmrjrup"
      },
      "execution_count": null,
      "outputs": []
    },
    {
      "cell_type": "code",
      "source": [
        ""
      ],
      "metadata": {
        "id": "Uc7g14sCjLZ3"
      },
      "execution_count": null,
      "outputs": []
    },
    {
      "cell_type": "code",
      "source": [
        ""
      ],
      "metadata": {
        "id": "migcOUzviynN"
      },
      "execution_count": null,
      "outputs": []
    },
    {
      "cell_type": "code",
      "source": [
        ""
      ],
      "metadata": {
        "id": "Qu5YHAU6iuYd"
      },
      "execution_count": null,
      "outputs": []
    },
    {
      "cell_type": "code",
      "source": [
        ""
      ],
      "metadata": {
        "id": "Bv4d21OCin32"
      },
      "execution_count": null,
      "outputs": []
    },
    {
      "cell_type": "code",
      "source": [
        ""
      ],
      "metadata": {
        "id": "spbfc55eiii5"
      },
      "execution_count": null,
      "outputs": []
    },
    {
      "cell_type": "code",
      "source": [
        ""
      ],
      "metadata": {
        "id": "nRwf0kDQidZ7"
      },
      "execution_count": null,
      "outputs": []
    },
    {
      "cell_type": "code",
      "source": [
        ""
      ],
      "metadata": {
        "id": "I2vl81CviUcT"
      },
      "execution_count": null,
      "outputs": []
    },
    {
      "cell_type": "code",
      "source": [
        ""
      ],
      "metadata": {
        "id": "fIgy3Bbog3L-"
      },
      "execution_count": null,
      "outputs": []
    },
    {
      "cell_type": "code",
      "source": [
        ""
      ],
      "metadata": {
        "id": "H52Lfo8Fgw8c"
      },
      "execution_count": null,
      "outputs": []
    },
    {
      "cell_type": "code",
      "source": [
        ""
      ],
      "metadata": {
        "id": "I3BpqF1HgWA6"
      },
      "execution_count": null,
      "outputs": []
    },
    {
      "cell_type": "code",
      "source": [
        ""
      ],
      "metadata": {
        "id": "hw79Fl4ygRM3"
      },
      "execution_count": null,
      "outputs": []
    },
    {
      "cell_type": "code",
      "source": [
        ""
      ],
      "metadata": {
        "id": "ZvZudBKvgLY_"
      },
      "execution_count": null,
      "outputs": []
    },
    {
      "cell_type": "code",
      "source": [
        ""
      ],
      "metadata": {
        "id": "a0scvOHwf1bG"
      },
      "execution_count": null,
      "outputs": []
    },
    {
      "cell_type": "code",
      "source": [
        ""
      ],
      "metadata": {
        "id": "Fv8mAkfjHBxz"
      },
      "execution_count": null,
      "outputs": []
    },
    {
      "cell_type": "code",
      "source": [
        ""
      ],
      "metadata": {
        "id": "RacvJrzoCVcB"
      },
      "execution_count": null,
      "outputs": []
    },
    {
      "cell_type": "code",
      "source": [
        ""
      ],
      "metadata": {
        "id": "R6MK-dAh_F04"
      },
      "execution_count": null,
      "outputs": []
    },
    {
      "cell_type": "code",
      "source": [
        ""
      ],
      "metadata": {
        "id": "ZCbqAYIG_CcS"
      },
      "execution_count": null,
      "outputs": []
    },
    {
      "cell_type": "code",
      "source": [
        ""
      ],
      "metadata": {
        "id": "Hj79pJaZ-wW-"
      },
      "execution_count": null,
      "outputs": []
    },
    {
      "cell_type": "code",
      "source": [
        ""
      ],
      "metadata": {
        "id": "kWrFK17b87G1"
      },
      "execution_count": null,
      "outputs": []
    },
    {
      "cell_type": "code",
      "source": [
        ""
      ],
      "metadata": {
        "id": "a936LHKi84ns"
      },
      "execution_count": null,
      "outputs": []
    },
    {
      "cell_type": "code",
      "source": [
        ""
      ],
      "metadata": {
        "id": "UQdVdKox8z_Y"
      },
      "execution_count": null,
      "outputs": []
    },
    {
      "cell_type": "code",
      "source": [
        ""
      ],
      "metadata": {
        "id": "iSsFF-XazhJ3"
      },
      "execution_count": null,
      "outputs": []
    },
    {
      "cell_type": "code",
      "source": [
        ""
      ],
      "metadata": {
        "id": "OwZCS0NDzBf0"
      },
      "execution_count": null,
      "outputs": []
    },
    {
      "cell_type": "code",
      "source": [
        ""
      ],
      "metadata": {
        "id": "_dQ9SuyHwSIU"
      },
      "execution_count": null,
      "outputs": []
    },
    {
      "cell_type": "code",
      "source": [
        ""
      ],
      "metadata": {
        "id": "jGnJyyjDwGX_"
      },
      "execution_count": null,
      "outputs": []
    },
    {
      "cell_type": "code",
      "source": [
        ""
      ],
      "metadata": {
        "id": "GtG6Yd9gvpI3"
      },
      "execution_count": null,
      "outputs": []
    },
    {
      "cell_type": "code",
      "source": [
        ""
      ],
      "metadata": {
        "id": "xEM-lIiuo6p4"
      },
      "execution_count": null,
      "outputs": []
    },
    {
      "cell_type": "code",
      "source": [
        ""
      ],
      "metadata": {
        "id": "dE-GM6QFoySN"
      },
      "execution_count": null,
      "outputs": []
    },
    {
      "cell_type": "code",
      "source": [
        ""
      ],
      "metadata": {
        "id": "WnvyW4FEosn3"
      },
      "execution_count": null,
      "outputs": []
    },
    {
      "cell_type": "code",
      "source": [
        ""
      ],
      "metadata": {
        "id": "PTtmjYkloeqV"
      },
      "execution_count": null,
      "outputs": []
    },
    {
      "cell_type": "code",
      "source": [
        ""
      ],
      "metadata": {
        "id": "Q_B0RZ2zn4tb"
      },
      "execution_count": null,
      "outputs": []
    },
    {
      "cell_type": "code",
      "source": [
        ""
      ],
      "metadata": {
        "id": "nsN0ebMEnxQI"
      },
      "execution_count": null,
      "outputs": []
    },
    {
      "cell_type": "code",
      "source": [
        ""
      ],
      "metadata": {
        "id": "SvLAigG-nmA9"
      },
      "execution_count": null,
      "outputs": []
    },
    {
      "cell_type": "code",
      "source": [
        ""
      ],
      "metadata": {
        "id": "VS3Won7jnbXi"
      },
      "execution_count": null,
      "outputs": []
    },
    {
      "cell_type": "code",
      "source": [
        ""
      ],
      "metadata": {
        "id": "HLhrfRhmnMyk"
      },
      "execution_count": null,
      "outputs": []
    },
    {
      "cell_type": "code",
      "source": [
        ""
      ],
      "metadata": {
        "id": "kCZUCm0tnH0A"
      },
      "execution_count": null,
      "outputs": []
    },
    {
      "cell_type": "code",
      "source": [
        ""
      ],
      "metadata": {
        "id": "kcNLZcoRmmWC"
      },
      "execution_count": null,
      "outputs": []
    },
    {
      "cell_type": "code",
      "source": [
        ""
      ],
      "metadata": {
        "id": "V2qfPQg6lkbO"
      },
      "execution_count": null,
      "outputs": []
    },
    {
      "cell_type": "code",
      "source": [
        ""
      ],
      "metadata": {
        "id": "vJQh0c1QlhKz"
      },
      "execution_count": null,
      "outputs": []
    },
    {
      "cell_type": "code",
      "source": [
        ""
      ],
      "metadata": {
        "id": "UNHGqH_lezpq"
      },
      "execution_count": null,
      "outputs": []
    },
    {
      "cell_type": "code",
      "source": [
        ""
      ],
      "metadata": {
        "id": "YnOkrDHRcmRY"
      },
      "execution_count": null,
      "outputs": []
    },
    {
      "cell_type": "code",
      "source": [
        ""
      ],
      "metadata": {
        "id": "kNKeMhDvbWw7"
      },
      "execution_count": null,
      "outputs": []
    },
    {
      "cell_type": "code",
      "source": [
        ""
      ],
      "metadata": {
        "id": "IGesRxEcau6Y"
      },
      "execution_count": null,
      "outputs": []
    },
    {
      "cell_type": "code",
      "source": [
        ""
      ],
      "metadata": {
        "id": "76JsgWl3alIu"
      },
      "execution_count": null,
      "outputs": []
    },
    {
      "cell_type": "code",
      "source": [
        ""
      ],
      "metadata": {
        "id": "SdVscIpmaMnr"
      },
      "execution_count": null,
      "outputs": []
    },
    {
      "cell_type": "code",
      "source": [
        ""
      ],
      "metadata": {
        "id": "yNssRpn7aJ-5"
      },
      "execution_count": null,
      "outputs": []
    },
    {
      "cell_type": "code",
      "source": [
        ""
      ],
      "metadata": {
        "id": "QZ2Zu9qJZ8NY"
      },
      "execution_count": null,
      "outputs": []
    },
    {
      "cell_type": "code",
      "source": [
        ""
      ],
      "metadata": {
        "id": "xwzfrRlBZ59p"
      },
      "execution_count": null,
      "outputs": []
    },
    {
      "cell_type": "code",
      "source": [
        ""
      ],
      "metadata": {
        "id": "Mtc4LRgiZUNV"
      },
      "execution_count": null,
      "outputs": []
    },
    {
      "cell_type": "code",
      "source": [
        ""
      ],
      "metadata": {
        "id": "FDfIopU8ZMft"
      },
      "execution_count": null,
      "outputs": []
    },
    {
      "cell_type": "code",
      "source": [
        ""
      ],
      "metadata": {
        "id": "bCiIPwpuXwMB"
      },
      "execution_count": null,
      "outputs": []
    },
    {
      "cell_type": "code",
      "source": [
        ""
      ],
      "metadata": {
        "id": "nDmX8yc0XoNp"
      },
      "execution_count": null,
      "outputs": []
    },
    {
      "cell_type": "code",
      "source": [
        ""
      ],
      "metadata": {
        "id": "gHLPA2BMXlDu"
      },
      "execution_count": null,
      "outputs": []
    },
    {
      "cell_type": "code",
      "source": [
        ""
      ],
      "metadata": {
        "id": "jheXbZrwWwj5"
      },
      "execution_count": null,
      "outputs": []
    },
    {
      "cell_type": "code",
      "source": [
        ""
      ],
      "metadata": {
        "id": "vgCJrhPcWlfa"
      },
      "execution_count": null,
      "outputs": []
    },
    {
      "cell_type": "code",
      "source": [
        ""
      ],
      "metadata": {
        "id": "KACgbHzFWh8j"
      },
      "execution_count": null,
      "outputs": []
    },
    {
      "cell_type": "code",
      "source": [
        ""
      ],
      "metadata": {
        "id": "xXKaPzLBRjRV"
      },
      "execution_count": null,
      "outputs": []
    },
    {
      "cell_type": "code",
      "source": [
        ""
      ],
      "metadata": {
        "id": "8dBqFdk8Rg3Z"
      },
      "execution_count": null,
      "outputs": []
    },
    {
      "cell_type": "code",
      "source": [
        ""
      ],
      "metadata": {
        "id": "09F15KIcQZBo"
      },
      "execution_count": null,
      "outputs": []
    },
    {
      "cell_type": "code",
      "source": [
        ""
      ],
      "metadata": {
        "id": "BwCED1MvQSBf"
      },
      "execution_count": null,
      "outputs": []
    },
    {
      "cell_type": "code",
      "source": [
        ""
      ],
      "metadata": {
        "id": "_G3BG-zJP2KK"
      },
      "execution_count": null,
      "outputs": []
    },
    {
      "cell_type": "code",
      "source": [
        ""
      ],
      "metadata": {
        "id": "uTxOK9DeP1An"
      },
      "execution_count": null,
      "outputs": []
    },
    {
      "cell_type": "code",
      "source": [
        ""
      ],
      "metadata": {
        "id": "NKH5rvJSPxIT"
      },
      "execution_count": null,
      "outputs": []
    },
    {
      "cell_type": "code",
      "source": [
        ""
      ],
      "metadata": {
        "id": "585sHcPvPszK"
      },
      "execution_count": null,
      "outputs": []
    },
    {
      "cell_type": "code",
      "source": [
        ""
      ],
      "metadata": {
        "id": "3lCnfLwlN1PQ"
      },
      "execution_count": null,
      "outputs": []
    },
    {
      "cell_type": "code",
      "source": [
        ""
      ],
      "metadata": {
        "id": "Fqv37myoNnmo"
      },
      "execution_count": null,
      "outputs": []
    },
    {
      "cell_type": "code",
      "source": [
        ""
      ],
      "metadata": {
        "id": "Wv61ROWDNkXB"
      },
      "execution_count": null,
      "outputs": []
    },
    {
      "cell_type": "code",
      "source": [
        ""
      ],
      "metadata": {
        "id": "8DFYK6M63fOZ"
      },
      "execution_count": null,
      "outputs": []
    },
    {
      "cell_type": "code",
      "source": [
        ""
      ],
      "metadata": {
        "id": "ENnWNBiT2Ipj"
      },
      "execution_count": null,
      "outputs": []
    },
    {
      "cell_type": "code",
      "source": [
        ""
      ],
      "metadata": {
        "id": "TvblCeM-2Go2"
      },
      "execution_count": null,
      "outputs": []
    },
    {
      "cell_type": "code",
      "source": [
        ""
      ],
      "metadata": {
        "id": "R00YGqlk2DcE"
      },
      "execution_count": null,
      "outputs": []
    },
    {
      "cell_type": "code",
      "source": [
        ""
      ],
      "metadata": {
        "id": "FzDpNyOO1pdZ"
      },
      "execution_count": null,
      "outputs": []
    },
    {
      "cell_type": "code",
      "source": [
        ""
      ],
      "metadata": {
        "id": "hRkwZ3hf02iH"
      },
      "execution_count": null,
      "outputs": []
    },
    {
      "cell_type": "code",
      "source": [
        ""
      ],
      "metadata": {
        "id": "lXEaHJBQ0x_G"
      },
      "execution_count": null,
      "outputs": []
    },
    {
      "cell_type": "code",
      "source": [
        ""
      ],
      "metadata": {
        "id": "NZl1vIV00p8n"
      },
      "execution_count": null,
      "outputs": []
    },
    {
      "cell_type": "code",
      "source": [
        ""
      ],
      "metadata": {
        "id": "35TOY4kZzkp6"
      },
      "execution_count": null,
      "outputs": []
    },
    {
      "cell_type": "code",
      "source": [
        ""
      ],
      "metadata": {
        "id": "YVmZLksizhLh"
      },
      "execution_count": null,
      "outputs": []
    },
    {
      "cell_type": "code",
      "source": [
        ""
      ],
      "metadata": {
        "id": "zxe-C-CXzSKW"
      },
      "execution_count": null,
      "outputs": []
    },
    {
      "cell_type": "code",
      "source": [
        ""
      ],
      "metadata": {
        "id": "VBS68wdQy7Nw"
      },
      "execution_count": null,
      "outputs": []
    },
    {
      "cell_type": "code",
      "source": [
        ""
      ],
      "metadata": {
        "id": "1HD6o-Msy5ML"
      },
      "execution_count": null,
      "outputs": []
    },
    {
      "cell_type": "code",
      "source": [
        ""
      ],
      "metadata": {
        "id": "r65tTDnhyGgB"
      },
      "execution_count": null,
      "outputs": []
    },
    {
      "cell_type": "code",
      "source": [
        ""
      ],
      "metadata": {
        "id": "eda6bppdyD1c"
      },
      "execution_count": null,
      "outputs": []
    },
    {
      "cell_type": "code",
      "source": [
        ""
      ],
      "metadata": {
        "id": "40BXUt1TpkYo"
      },
      "execution_count": null,
      "outputs": []
    },
    {
      "cell_type": "code",
      "source": [
        ""
      ],
      "metadata": {
        "id": "KTuqVK7ape9M"
      },
      "execution_count": null,
      "outputs": []
    },
    {
      "cell_type": "code",
      "source": [
        ""
      ],
      "metadata": {
        "id": "YC1D2tggou4x"
      },
      "execution_count": null,
      "outputs": []
    },
    {
      "cell_type": "code",
      "source": [
        ""
      ],
      "metadata": {
        "id": "rXdbHl5UoqDH"
      },
      "execution_count": null,
      "outputs": []
    },
    {
      "cell_type": "code",
      "source": [
        ""
      ],
      "metadata": {
        "id": "D60gLjmwojpk"
      },
      "execution_count": null,
      "outputs": []
    },
    {
      "cell_type": "code",
      "source": [
        ""
      ],
      "metadata": {
        "id": "rTO7d_aVn0Sd"
      },
      "execution_count": null,
      "outputs": []
    },
    {
      "cell_type": "code",
      "source": [
        ""
      ],
      "metadata": {
        "id": "pTEgufPmnv3A"
      },
      "execution_count": null,
      "outputs": []
    },
    {
      "cell_type": "code",
      "source": [
        ""
      ],
      "metadata": {
        "id": "OkfMzrqtmbbu"
      },
      "execution_count": null,
      "outputs": []
    },
    {
      "cell_type": "code",
      "source": [
        ""
      ],
      "metadata": {
        "id": "Q0_j1sZhlvwT"
      },
      "execution_count": null,
      "outputs": []
    },
    {
      "cell_type": "code",
      "source": [
        ""
      ],
      "metadata": {
        "id": "s8N8P50sllwr"
      },
      "execution_count": null,
      "outputs": []
    },
    {
      "cell_type": "code",
      "source": [
        ""
      ],
      "metadata": {
        "id": "ta2ESqN2lB16"
      },
      "execution_count": null,
      "outputs": []
    }
  ]
}