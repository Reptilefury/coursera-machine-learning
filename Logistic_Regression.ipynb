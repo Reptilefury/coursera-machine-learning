{
  "nbformat": 4,
  "nbformat_minor": 0,
  "metadata": {
    "colab": {
      "name": "Logistic Regression.ipynb",
      "provenance": [],
      "collapsed_sections": [],
      "authorship_tag": "ABX9TyN1EnrQuVflWkq61NgJOSVR",
      "include_colab_link": true
    },
    "kernelspec": {
      "name": "python3",
      "display_name": "Python 3"
    },
    "language_info": {
      "name": "python"
    }
  },
  "cells": [
    {
      "cell_type": "markdown",
      "metadata": {
        "id": "view-in-github",
        "colab_type": "text"
      },
      "source": [
        "<a href=\"https://colab.research.google.com/github/Reptilefury/coursera-machine-learning/blob/main/Logistic_Regression.ipynb\" target=\"_parent\"><img src=\"https://colab.research.google.com/assets/colab-badge.svg\" alt=\"Open In Colab\"/></a>"
      ]
    },
    {
      "cell_type": "code",
      "source": [
        "!pip install -U scikit-learn"
      ],
      "metadata": {
        "id": "CaDfQQzV48Bb",
        "colab": {
          "base_uri": "https://localhost:8080/"
        },
        "outputId": "ec95644a-e827-4298-8513-a2a244a913cb"
      },
      "execution_count": 41,
      "outputs": [
        {
          "output_type": "stream",
          "name": "stdout",
          "text": [
            "Requirement already satisfied: scikit-learn in /usr/local/lib/python3.7/dist-packages (1.0.2)\n",
            "Requirement already satisfied: scipy>=1.1.0 in /usr/local/lib/python3.7/dist-packages (from scikit-learn) (1.4.1)\n",
            "Requirement already satisfied: joblib>=0.11 in /usr/local/lib/python3.7/dist-packages (from scikit-learn) (1.1.0)\n",
            "Requirement already satisfied: threadpoolctl>=2.0.0 in /usr/local/lib/python3.7/dist-packages (from scikit-learn) (3.1.0)\n",
            "Requirement already satisfied: numpy>=1.14.6 in /usr/local/lib/python3.7/dist-packages (from scikit-learn) (1.21.5)\n"
          ]
        }
      ]
    },
    {
      "cell_type": "code",
      "source": [
        "from sklearn.datasets import fetch_california_housing"
      ],
      "metadata": {
        "id": "gcnlUanXNqcA"
      },
      "execution_count": 42,
      "outputs": []
    },
    {
      "cell_type": "code",
      "source": [
        "from sklearn.preprocessing import StandardScaler"
      ],
      "metadata": {
        "id": "DfArzOpKOHrc"
      },
      "execution_count": 43,
      "outputs": []
    },
    {
      "cell_type": "code",
      "source": [
        "from sklearn.model_selection import train_test_split"
      ],
      "metadata": {
        "id": "KJFIwKakOQPW"
      },
      "execution_count": 44,
      "outputs": []
    },
    {
      "cell_type": "code",
      "source": [
        "#We load the dataset and assign it a variable\n",
        "housing = fetch_california_housing()"
      ],
      "metadata": {
        "id": "yP93lf9hOo2K"
      },
      "execution_count": 45,
      "outputs": []
    },
    {
      "cell_type": "code",
      "source": [
        "#Split the dataset into training and testing\n",
        "x_train_full, x_test , y_train_full, y_test =  train_test_split(\n",
        "    housing.data, housing.target\n",
        ")"
      ],
      "metadata": {
        "id": "UrRAWSeFO3Ud"
      },
      "execution_count": 46,
      "outputs": []
    },
    {
      "cell_type": "code",
      "source": [
        "#Split the training data further into training and validation set \n",
        "x_train, x_valid, y_train, y_valid = train_test_split(\n",
        "    x_train_full, y_train_full\n",
        ")"
      ],
      "metadata": {
        "id": "EZqoCOsjPJIO"
      },
      "execution_count": 47,
      "outputs": []
    },
    {
      "cell_type": "code",
      "source": [
        "import tensorflow as tf\n",
        "from tensorflow import keras\n",
        "#create the model using the sequential api \n",
        "model = tf.keras.models.Sequential([\n",
        "    #Since this is regression task our model will have only one output neuron and one dense layer containing 30 neurons\n",
        "    tf.keras.layers.Dense(30, activation='sigmoid', input_shape=x_train.shape[1:]),\n",
        "    tf.keras.layers.Dense(1)\n",
        "])\n",
        "#We used one hidden layer with fewer neurons to avoid overfitting"
      ],
      "metadata": {
        "id": "iz-Ojf30PcVt"
      },
      "execution_count": 48,
      "outputs": []
    },
    {
      "cell_type": "code",
      "source": [
        ""
      ],
      "metadata": {
        "id": "e6Cg0PZGTwba"
      },
      "execution_count": 48,
      "outputs": []
    },
    {
      "cell_type": "code",
      "source": [
        "model.summary()"
      ],
      "metadata": {
        "id": "Vv2Bp7ycQWKH",
        "colab": {
          "base_uri": "https://localhost:8080/"
        },
        "outputId": "628a57e2-2f49-409b-a1a7-707e39aadb89"
      },
      "execution_count": 49,
      "outputs": [
        {
          "output_type": "stream",
          "name": "stdout",
          "text": [
            "Model: \"sequential_1\"\n",
            "_________________________________________________________________\n",
            " Layer (type)                Output Shape              Param #   \n",
            "=================================================================\n",
            " dense_13 (Dense)            (None, 30)                270       \n",
            "                                                                 \n",
            " dense_14 (Dense)            (None, 1)                 31        \n",
            "                                                                 \n",
            "=================================================================\n",
            "Total params: 301\n",
            "Trainable params: 301\n",
            "Non-trainable params: 0\n",
            "_________________________________________________________________\n"
          ]
        }
      ]
    },
    {
      "cell_type": "code",
      "source": [
        "#Compile the model: ie we declare the hyperparameters\n",
        "model.compile(loss = \"mean_squared_error\", optimizer='sgd')"
      ],
      "metadata": {
        "id": "9B3OFndYQbZ1"
      },
      "execution_count": 50,
      "outputs": []
    },
    {
      "cell_type": "code",
      "source": [
        "#We train our model using the model.fit() method\n",
        "model.fit(x_train, y_train, validation_data=(x_valid, y_valid), epochs=20)"
      ],
      "metadata": {
        "id": "_6NtGymFQ80d",
        "colab": {
          "base_uri": "https://localhost:8080/"
        },
        "outputId": "63a5a817-4329-48de-f874-75d2c1124f44"
      },
      "execution_count": 51,
      "outputs": [
        {
          "output_type": "stream",
          "name": "stdout",
          "text": [
            "Epoch 1/20\n",
            "363/363 [==============================] - 1s 3ms/step - loss: 1.4283 - val_loss: 1.2567\n",
            "Epoch 2/20\n",
            "363/363 [==============================] - 1s 2ms/step - loss: 1.3679 - val_loss: 1.2529\n",
            "Epoch 3/20\n",
            "363/363 [==============================] - 1s 2ms/step - loss: 1.3673 - val_loss: 1.2533\n",
            "Epoch 4/20\n",
            "363/363 [==============================] - 1s 2ms/step - loss: 1.3655 - val_loss: 1.2513\n",
            "Epoch 5/20\n",
            "363/363 [==============================] - 1s 2ms/step - loss: 1.3651 - val_loss: 1.2558\n",
            "Epoch 6/20\n",
            "363/363 [==============================] - 1s 2ms/step - loss: 1.3622 - val_loss: 1.2570\n",
            "Epoch 7/20\n",
            "363/363 [==============================] - 1s 2ms/step - loss: 1.3646 - val_loss: 1.2499\n",
            "Epoch 8/20\n",
            "363/363 [==============================] - 1s 4ms/step - loss: 1.3648 - val_loss: 1.2496\n",
            "Epoch 9/20\n",
            "363/363 [==============================] - 1s 4ms/step - loss: 1.3658 - val_loss: 1.2654\n",
            "Epoch 10/20\n",
            "363/363 [==============================] - 2s 4ms/step - loss: 1.3648 - val_loss: 1.2588\n",
            "Epoch 11/20\n",
            "363/363 [==============================] - 1s 3ms/step - loss: 1.3623 - val_loss: 1.2575\n",
            "Epoch 12/20\n",
            "363/363 [==============================] - 2s 6ms/step - loss: 1.3675 - val_loss: 1.2560\n",
            "Epoch 13/20\n",
            "363/363 [==============================] - 1s 4ms/step - loss: 1.3631 - val_loss: 1.2692\n",
            "Epoch 14/20\n",
            "363/363 [==============================] - 2s 4ms/step - loss: 1.3635 - val_loss: 1.2869\n",
            "Epoch 15/20\n",
            "363/363 [==============================] - 2s 5ms/step - loss: 1.3679 - val_loss: 1.2502\n",
            "Epoch 16/20\n",
            "363/363 [==============================] - 3s 7ms/step - loss: 1.3655 - val_loss: 1.2693\n",
            "Epoch 17/20\n",
            "363/363 [==============================] - 2s 5ms/step - loss: 1.3653 - val_loss: 1.2690\n",
            "Epoch 18/20\n",
            "363/363 [==============================] - 2s 4ms/step - loss: 1.3639 - val_loss: 1.2531\n",
            "Epoch 19/20\n",
            "363/363 [==============================] - 2s 6ms/step - loss: 1.3610 - val_loss: 1.2502\n",
            "Epoch 20/20\n",
            "363/363 [==============================] - 1s 3ms/step - loss: 1.3601 - val_loss: 1.2497\n"
          ]
        },
        {
          "output_type": "execute_result",
          "data": {
            "text/plain": [
              "<keras.callbacks.History at 0x7f966f9d9250>"
            ]
          },
          "metadata": {},
          "execution_count": 51
        }
      ]
    },
    {
      "cell_type": "code",
      "source": [
        "test_data = x_test [:3]"
      ],
      "metadata": {
        "id": "ISGZ9-80RkzR"
      },
      "execution_count": 52,
      "outputs": []
    },
    {
      "cell_type": "code",
      "source": [
        "model_predict = model.predict(test_data)"
      ],
      "metadata": {
        "id": "gbPJEVKpUNEQ"
      },
      "execution_count": 53,
      "outputs": []
    },
    {
      "cell_type": "code",
      "source": [
        "model_predict"
      ],
      "metadata": {
        "colab": {
          "base_uri": "https://localhost:8080/"
        },
        "id": "Mqc4LH8WUQuF",
        "outputId": "58800894-db9d-45f2-87c9-e9c6abf7a307"
      },
      "execution_count": 54,
      "outputs": [
        {
          "output_type": "execute_result",
          "data": {
            "text/plain": [
              "array([[2.0722508],\n",
              "       [2.0722508],\n",
              "       [1.7270213]], dtype=float32)"
            ]
          },
          "metadata": {},
          "execution_count": 54
        }
      ]
    },
    {
      "cell_type": "code",
      "source": [
        "#A wide and deep neural network connects all or part of the input to the output layer\n",
        "input = tf.keras.Input(shape = x_train.shape[1:])"
      ],
      "metadata": {
        "id": "qHmzNtLoUTZ6"
      },
      "execution_count": 55,
      "outputs": []
    },
    {
      "cell_type": "code",
      "source": [
        "hidden1 = tf.keras.layers.Dense(30,activation='relu')(input)"
      ],
      "metadata": {
        "id": "PgoILI5eWMNK"
      },
      "execution_count": 56,
      "outputs": []
    },
    {
      "cell_type": "code",
      "source": [
        "#We create another hidden layer of 30 neurons and pass in data from the input layer\n",
        "hidden2 = tf.keras.layers.Dense(30, activation='relu')(hidden1)"
      ],
      "metadata": {
        "id": "Ez_RtowOWmMi"
      },
      "execution_count": 57,
      "outputs": []
    },
    {
      "cell_type": "code",
      "source": [
        "#We then create a layer to concatenate the hidden layer and the input\n",
        "con = tf.keras.layers.concatenate([hidden2, input])\n",
        "#Using the concatenate method from keras we create a layer that takes in data from both the input layer and the hidden layers\n"
      ],
      "metadata": {
        "id": "-qeWkeB9W5w5"
      },
      "execution_count": 58,
      "outputs": []
    },
    {
      "cell_type": "code",
      "source": [
        "#We create an output layer of one neuron to make our prediction\n",
        "output = tf.keras.layers.Dense(1)(con)"
      ],
      "metadata": {
        "id": "rLbgpQv7X4_5"
      },
      "execution_count": 59,
      "outputs": []
    },
    {
      "cell_type": "code",
      "source": [
        "#We the build a that takes in the input and the output\n",
        "model  = tf.keras.models.Model(inputs=[input],outputs=[output])"
      ],
      "metadata": {
        "id": "3ZeaY70vZejV"
      },
      "execution_count": 60,
      "outputs": []
    },
    {
      "cell_type": "code",
      "source": [
        "#Wide and deep neural network\n",
        "input = tf.keras.Input(shape=x_train.shape[1:])\n",
        "#First hidden layer\n",
        "hidden1 = tf.keras.layers.Dense(30, activation='tanh')(input)\n",
        "#Second hidden layer\n",
        "hidden2 = tf.keras.layers.Dense(30, activation='tanh')(hidden1)\n",
        "#We create a concatenate layer to take in data from the deep stack layers  and the input layer\n",
        "con= tf.keras.layers.concatenate([hidden2, input]) #Takes in positional arguments in a list\n",
        "#We create an output layer that has one neuron since we are only trying to make one prediction\n",
        "output = tf.keras.layers.Dense(1)(con)\n",
        "\n",
        "#We then create our model \n",
        "modelOne = tf.keras.models.Model(inputs=[input], outputs=[output])"
      ],
      "metadata": {
        "id": "uL0oRs7FZ9mn"
      },
      "execution_count": 61,
      "outputs": []
    },
    {
      "cell_type": "code",
      "source": [
        ""
      ],
      "metadata": {
        "id": "TfVO9dz9fWn-"
      },
      "execution_count": 61,
      "outputs": []
    },
    {
      "cell_type": "code",
      "source": [
        "#We compile our model before training i.e = specify the hyperparameters\n",
        "modelOne.compile( loss = \"mean_squared_error\", optimizer='sgd')"
      ],
      "metadata": {
        "id": "KIY_k22AcoSL"
      },
      "execution_count": 62,
      "outputs": []
    },
    {
      "cell_type": "code",
      "source": [
        "#We train our model using the model.fit method\n",
        "modelOne.fit(x_train, y_train, epochs = 20 ,validation_data=(x_valid, y_valid))"
      ],
      "metadata": {
        "id": "snZ146EIegNH"
      },
      "execution_count": null,
      "outputs": []
    },
    {
      "cell_type": "code",
      "source": [
        "#We create another deep and wide model with 2 inputs one going to the deep layer and another one going to the output layer\n",
        "inputA = tf.keras.Input(shape=[5])"
      ],
      "metadata": {
        "id": "NyvoA5gvfJ34"
      },
      "execution_count": 64,
      "outputs": []
    },
    {
      "cell_type": "code",
      "source": [
        ""
      ],
      "metadata": {
        "id": "_8av7KCnjQSK"
      },
      "execution_count": 64,
      "outputs": []
    },
    {
      "cell_type": "code",
      "source": [
        "#Second input\n",
        "inputB = tf.keras.Input(shape=[6])"
      ],
      "metadata": {
        "id": "0N_Hl-yoe9OH"
      },
      "execution_count": 65,
      "outputs": []
    },
    {
      "cell_type": "code",
      "source": [
        "hidden1 = tf.keras.layers.Dense(30, activation='relu')(inputB)"
      ],
      "metadata": {
        "id": "xjD-svtHgRi8"
      },
      "execution_count": 89,
      "outputs": []
    },
    {
      "cell_type": "code",
      "source": [
        "hidden2 = tf.keras.layers.Dense(30, activation='relu')(hidden1)"
      ],
      "metadata": {
        "id": "tqZvZeTDg0qw"
      },
      "execution_count": 90,
      "outputs": []
    },
    {
      "cell_type": "code",
      "source": [
        "con = tf.keras.layers.concatenate([hidden2, inputA])"
      ],
      "metadata": {
        "id": "iGQ7qItie3kh"
      },
      "execution_count": 91,
      "outputs": []
    },
    {
      "cell_type": "code",
      "source": [
        "output = tf.keras.layers.Dense(1)(con)"
      ],
      "metadata": {
        "id": "TWrgTlvFiP_P"
      },
      "execution_count": 92,
      "outputs": []
    },
    {
      "cell_type": "code",
      "source": [
        "model = tf.keras.models.Model(inputs=[inputA, inputB], outputs = [output])"
      ],
      "metadata": {
        "id": "U5-CJwFKifQm"
      },
      "execution_count": 93,
      "outputs": []
    },
    {
      "cell_type": "code",
      "source": [
        "model.compile(loss=\"mse\", optimizer='sgd')\n"
      ],
      "metadata": {
        "id": "ZOieqAyYi--y"
      },
      "execution_count": 71,
      "outputs": []
    },
    {
      "cell_type": "code",
      "source": [
        "#Split the data into more training datasets \n",
        "x_train_A, x_train_B = x_train[:, :5] , x_train[:, 2:]"
      ],
      "metadata": {
        "id": "zz_J5XvLkppG"
      },
      "execution_count": 72,
      "outputs": []
    },
    {
      "cell_type": "code",
      "source": [
        "x_test_A, x_test_B = x_test[:,:5],x_test[:,2:]"
      ],
      "metadata": {
        "id": "ypEultsPk-01"
      },
      "execution_count": 97,
      "outputs": []
    },
    {
      "cell_type": "code",
      "source": [
        "x_valid_A, x_valid_B =  x_valid[:,:5],x_valid[:, 2:]"
      ],
      "metadata": {
        "id": "l_gHlzNWlKhe"
      },
      "execution_count": 74,
      "outputs": []
    },
    {
      "cell_type": "code",
      "source": [
        "x_test_new_A, x_test_new_B =x_test_A[:3], x_test_B[:3]"
      ],
      "metadata": {
        "id": "ddL3NZjnlmBF"
      },
      "execution_count": 98,
      "outputs": []
    },
    {
      "cell_type": "code",
      "source": [
        "model.fit((x_train_A,x_train_B),y_train,epochs=20,validation_data=((x_valid_A, x_valid_B),y_valid))"
      ],
      "metadata": {
        "id": "bawQ3m88l9wV"
      },
      "execution_count": null,
      "outputs": []
    },
    {
      "cell_type": "code",
      "source": [
        ""
      ],
      "metadata": {
        "id": "d5iP3zIdv0FQ"
      },
      "execution_count": 76,
      "outputs": []
    },
    {
      "cell_type": "code",
      "source": [
        ""
      ],
      "metadata": {
        "id": "sPZrPJOZyucO"
      },
      "execution_count": 76,
      "outputs": []
    },
    {
      "cell_type": "markdown",
      "source": [
        "Use cases where you might want multiple outputs are when you want to identify an object position in an image and then also classify the image."
      ],
      "metadata": {
        "id": "SCNFxzldwxXC"
      }
    },
    {
      "cell_type": "code",
      "source": [
        "ouput = tf.keras.layers.Dense(1)(con)"
      ],
      "metadata": {
        "id": "b3Vknkh5we1R"
      },
      "execution_count": 77,
      "outputs": []
    },
    {
      "cell_type": "code",
      "source": [
        "aux_ouput = tf.keras.layers.Dense(1)(hidden2)"
      ],
      "metadata": {
        "id": "pCXb_5uJyhSO"
      },
      "execution_count": 78,
      "outputs": []
    },
    {
      "cell_type": "code",
      "source": [
        "model = tf.keras.Model(inputs=[inputA,inputB],outputs=[output,aux_ouput]) #Thus model has two ouputs\n",
        "#There are many use cases of a two output model, for instance Identifying the location of an object in an image and then being able to classify the object \n",
        "#When compiling the model each output should get their own losses otherwise keras will compute one loss for both"
      ],
      "metadata": {
        "id": "3XO7dgh7zGV7"
      },
      "execution_count": 79,
      "outputs": []
    },
    {
      "cell_type": "code",
      "source": [
        "#since we are  using two outputs in this model we should pass a loss function for each output , if we pass a single loss keras will use the same loss for both outputs\n",
        "#Keras computes both of these losses then add them up to get the final loss for training\n",
        "model.compile(loss =[\"mse\",\"mse\"], loss_weights=[0.9,0.1] ,optimizer=\"sgd\")\n"
      ],
      "metadata": {
        "id": "FpVLTUu0z62P"
      },
      "execution_count": 94,
      "outputs": []
    },
    {
      "cell_type": "code",
      "source": [
        "model.fit([x_train_A,x_train_B], [y_train,y_train], epochs = 20 )"
      ],
      "metadata": {
        "id": "Cn1s8T1U9aAK"
      },
      "execution_count": null,
      "outputs": []
    },
    {
      "cell_type": "code",
      "source": [
        "#During evaluation of the model keras will output the total losses as well as the individual outputs\n",
        "model.evaluate([x_test_A, x_test_B],[y_test,y_test], verbose =1)"
      ],
      "metadata": {
        "id": "_rl43uHdAWM6"
      },
      "execution_count": null,
      "outputs": []
    },
    {
      "cell_type": "code",
      "source": [
        "#Do a prediction  \n",
        "prediction = model.predict((x_test_new_A, x_test_new_B))"
      ],
      "metadata": {
        "id": "G_pM6zqyBjeJ"
      },
      "execution_count": 100,
      "outputs": []
    },
    {
      "cell_type": "code",
      "source": [
        "prediction "
      ],
      "metadata": {
        "colab": {
          "base_uri": "https://localhost:8080/"
        },
        "id": "xxFUTjwVCQCe",
        "outputId": "b8a32b15-c45c-488b-e37a-3767eb5e92dc"
      },
      "execution_count": 102,
      "outputs": [
        {
          "output_type": "execute_result",
          "data": {
            "text/plain": [
              "array([[nan],\n",
              "       [nan],\n",
              "       [nan]], dtype=float32)"
            ]
          },
          "metadata": {},
          "execution_count": 102
        }
      ]
    },
    {
      "cell_type": "code",
      "source": [
        "tf.keras.utils.to_categorical(model)"
      ],
      "metadata": {
        "id": "3R7VQzS4CWXM"
      },
      "execution_count": null,
      "outputs": []
    },
    {
      "cell_type": "code",
      "source": [
        "#Subclassing API\n",
        "class WideAndDeepModel(keras.models.Model):\n",
        "  #we initialize this class\n",
        "  def __init__(self,units = 30 , activation='relu', **kwargs):\n",
        "    super.__init__(**kwargs)\n",
        "    self.hidden1 = tf.keras.layers.Dense(units,activation)\n",
        "    self.hidden2 = tf.keras.layers.Dense(units,activation)\n",
        "    self.main_output= tf.keras.layers.Dense(1)\n",
        "    self.aux_output= tf.keras.layers.Dense(1)\n",
        "    #Pick up from here\n",
        "\n",
        "    "
      ],
      "metadata": {
        "id": "Gp5-avZtDxEu"
      },
      "execution_count": 112,
      "outputs": []
    },
    {
      "cell_type": "code",
      "source": [
        ""
      ],
      "metadata": {
        "id": "Z2ir7qnYHDM4"
      },
      "execution_count": null,
      "outputs": []
    },
    {
      "cell_type": "code",
      "source": [
        ""
      ],
      "metadata": {
        "id": "Fv8mAkfjHBxz"
      },
      "execution_count": null,
      "outputs": []
    },
    {
      "cell_type": "code",
      "source": [
        ""
      ],
      "metadata": {
        "id": "RacvJrzoCVcB"
      },
      "execution_count": null,
      "outputs": []
    },
    {
      "cell_type": "code",
      "source": [
        ""
      ],
      "metadata": {
        "id": "R6MK-dAh_F04"
      },
      "execution_count": null,
      "outputs": []
    },
    {
      "cell_type": "code",
      "source": [
        ""
      ],
      "metadata": {
        "id": "ZCbqAYIG_CcS"
      },
      "execution_count": null,
      "outputs": []
    },
    {
      "cell_type": "code",
      "source": [
        ""
      ],
      "metadata": {
        "id": "Hj79pJaZ-wW-"
      },
      "execution_count": null,
      "outputs": []
    },
    {
      "cell_type": "code",
      "source": [
        ""
      ],
      "metadata": {
        "id": "kWrFK17b87G1"
      },
      "execution_count": null,
      "outputs": []
    },
    {
      "cell_type": "code",
      "source": [
        ""
      ],
      "metadata": {
        "id": "a936LHKi84ns"
      },
      "execution_count": null,
      "outputs": []
    },
    {
      "cell_type": "code",
      "source": [
        ""
      ],
      "metadata": {
        "id": "UQdVdKox8z_Y"
      },
      "execution_count": null,
      "outputs": []
    },
    {
      "cell_type": "code",
      "source": [
        ""
      ],
      "metadata": {
        "id": "iSsFF-XazhJ3"
      },
      "execution_count": 80,
      "outputs": []
    },
    {
      "cell_type": "code",
      "source": [
        ""
      ],
      "metadata": {
        "id": "OwZCS0NDzBf0"
      },
      "execution_count": 80,
      "outputs": []
    },
    {
      "cell_type": "code",
      "source": [
        ""
      ],
      "metadata": {
        "id": "_dQ9SuyHwSIU"
      },
      "execution_count": 80,
      "outputs": []
    },
    {
      "cell_type": "code",
      "source": [
        ""
      ],
      "metadata": {
        "id": "jGnJyyjDwGX_"
      },
      "execution_count": 80,
      "outputs": []
    },
    {
      "cell_type": "code",
      "source": [
        ""
      ],
      "metadata": {
        "id": "GtG6Yd9gvpI3"
      },
      "execution_count": 80,
      "outputs": []
    },
    {
      "cell_type": "code",
      "source": [
        ""
      ],
      "metadata": {
        "id": "xEM-lIiuo6p4"
      },
      "execution_count": 80,
      "outputs": []
    },
    {
      "cell_type": "code",
      "source": [
        ""
      ],
      "metadata": {
        "id": "dE-GM6QFoySN"
      },
      "execution_count": 80,
      "outputs": []
    },
    {
      "cell_type": "code",
      "source": [
        ""
      ],
      "metadata": {
        "id": "WnvyW4FEosn3"
      },
      "execution_count": 80,
      "outputs": []
    },
    {
      "cell_type": "code",
      "source": [
        ""
      ],
      "metadata": {
        "id": "PTtmjYkloeqV"
      },
      "execution_count": 80,
      "outputs": []
    },
    {
      "cell_type": "code",
      "source": [
        ""
      ],
      "metadata": {
        "id": "Q_B0RZ2zn4tb"
      },
      "execution_count": 80,
      "outputs": []
    },
    {
      "cell_type": "code",
      "source": [
        ""
      ],
      "metadata": {
        "id": "nsN0ebMEnxQI"
      },
      "execution_count": 80,
      "outputs": []
    },
    {
      "cell_type": "code",
      "source": [
        ""
      ],
      "metadata": {
        "id": "SvLAigG-nmA9"
      },
      "execution_count": 80,
      "outputs": []
    },
    {
      "cell_type": "code",
      "source": [
        ""
      ],
      "metadata": {
        "id": "VS3Won7jnbXi"
      },
      "execution_count": 80,
      "outputs": []
    },
    {
      "cell_type": "code",
      "source": [
        ""
      ],
      "metadata": {
        "id": "HLhrfRhmnMyk"
      },
      "execution_count": 80,
      "outputs": []
    },
    {
      "cell_type": "code",
      "source": [
        ""
      ],
      "metadata": {
        "id": "kCZUCm0tnH0A"
      },
      "execution_count": 80,
      "outputs": []
    },
    {
      "cell_type": "code",
      "source": [
        ""
      ],
      "metadata": {
        "id": "kcNLZcoRmmWC"
      },
      "execution_count": 80,
      "outputs": []
    },
    {
      "cell_type": "code",
      "source": [
        ""
      ],
      "metadata": {
        "id": "V2qfPQg6lkbO"
      },
      "execution_count": 80,
      "outputs": []
    },
    {
      "cell_type": "code",
      "source": [
        ""
      ],
      "metadata": {
        "id": "vJQh0c1QlhKz"
      },
      "execution_count": 80,
      "outputs": []
    },
    {
      "cell_type": "code",
      "source": [
        ""
      ],
      "metadata": {
        "id": "UNHGqH_lezpq"
      },
      "execution_count": 80,
      "outputs": []
    },
    {
      "cell_type": "code",
      "source": [
        ""
      ],
      "metadata": {
        "id": "YnOkrDHRcmRY"
      },
      "execution_count": 80,
      "outputs": []
    },
    {
      "cell_type": "code",
      "source": [
        ""
      ],
      "metadata": {
        "id": "kNKeMhDvbWw7"
      },
      "execution_count": 80,
      "outputs": []
    },
    {
      "cell_type": "code",
      "source": [
        ""
      ],
      "metadata": {
        "id": "IGesRxEcau6Y"
      },
      "execution_count": 80,
      "outputs": []
    },
    {
      "cell_type": "code",
      "source": [
        ""
      ],
      "metadata": {
        "id": "76JsgWl3alIu"
      },
      "execution_count": 80,
      "outputs": []
    },
    {
      "cell_type": "code",
      "source": [
        ""
      ],
      "metadata": {
        "id": "SdVscIpmaMnr"
      },
      "execution_count": 80,
      "outputs": []
    },
    {
      "cell_type": "code",
      "source": [
        ""
      ],
      "metadata": {
        "id": "yNssRpn7aJ-5"
      },
      "execution_count": 80,
      "outputs": []
    },
    {
      "cell_type": "code",
      "source": [
        ""
      ],
      "metadata": {
        "id": "QZ2Zu9qJZ8NY"
      },
      "execution_count": 80,
      "outputs": []
    },
    {
      "cell_type": "code",
      "source": [
        ""
      ],
      "metadata": {
        "id": "xwzfrRlBZ59p"
      },
      "execution_count": 80,
      "outputs": []
    },
    {
      "cell_type": "code",
      "source": [
        ""
      ],
      "metadata": {
        "id": "Mtc4LRgiZUNV"
      },
      "execution_count": 80,
      "outputs": []
    },
    {
      "cell_type": "code",
      "source": [
        ""
      ],
      "metadata": {
        "id": "FDfIopU8ZMft"
      },
      "execution_count": 80,
      "outputs": []
    },
    {
      "cell_type": "code",
      "source": [
        ""
      ],
      "metadata": {
        "id": "bCiIPwpuXwMB"
      },
      "execution_count": 80,
      "outputs": []
    },
    {
      "cell_type": "code",
      "source": [
        ""
      ],
      "metadata": {
        "id": "nDmX8yc0XoNp"
      },
      "execution_count": 80,
      "outputs": []
    },
    {
      "cell_type": "code",
      "source": [
        ""
      ],
      "metadata": {
        "id": "gHLPA2BMXlDu"
      },
      "execution_count": 80,
      "outputs": []
    },
    {
      "cell_type": "code",
      "source": [
        ""
      ],
      "metadata": {
        "id": "jheXbZrwWwj5"
      },
      "execution_count": 80,
      "outputs": []
    },
    {
      "cell_type": "code",
      "source": [
        ""
      ],
      "metadata": {
        "id": "vgCJrhPcWlfa"
      },
      "execution_count": 80,
      "outputs": []
    },
    {
      "cell_type": "code",
      "source": [
        ""
      ],
      "metadata": {
        "id": "KACgbHzFWh8j"
      },
      "execution_count": 80,
      "outputs": []
    },
    {
      "cell_type": "code",
      "source": [
        ""
      ],
      "metadata": {
        "id": "xXKaPzLBRjRV"
      },
      "execution_count": 80,
      "outputs": []
    },
    {
      "cell_type": "code",
      "source": [
        ""
      ],
      "metadata": {
        "id": "8dBqFdk8Rg3Z"
      },
      "execution_count": 80,
      "outputs": []
    },
    {
      "cell_type": "code",
      "source": [
        ""
      ],
      "metadata": {
        "id": "09F15KIcQZBo"
      },
      "execution_count": 80,
      "outputs": []
    },
    {
      "cell_type": "code",
      "source": [
        ""
      ],
      "metadata": {
        "id": "BwCED1MvQSBf"
      },
      "execution_count": 80,
      "outputs": []
    },
    {
      "cell_type": "code",
      "source": [
        ""
      ],
      "metadata": {
        "id": "_G3BG-zJP2KK"
      },
      "execution_count": 80,
      "outputs": []
    },
    {
      "cell_type": "code",
      "source": [
        ""
      ],
      "metadata": {
        "id": "uTxOK9DeP1An"
      },
      "execution_count": 80,
      "outputs": []
    },
    {
      "cell_type": "code",
      "source": [
        ""
      ],
      "metadata": {
        "id": "NKH5rvJSPxIT"
      },
      "execution_count": 80,
      "outputs": []
    },
    {
      "cell_type": "code",
      "source": [
        ""
      ],
      "metadata": {
        "id": "585sHcPvPszK"
      },
      "execution_count": 80,
      "outputs": []
    },
    {
      "cell_type": "code",
      "source": [
        ""
      ],
      "metadata": {
        "id": "3lCnfLwlN1PQ"
      },
      "execution_count": 80,
      "outputs": []
    },
    {
      "cell_type": "code",
      "source": [
        ""
      ],
      "metadata": {
        "id": "Fqv37myoNnmo"
      },
      "execution_count": 80,
      "outputs": []
    },
    {
      "cell_type": "code",
      "source": [
        ""
      ],
      "metadata": {
        "id": "Wv61ROWDNkXB"
      },
      "execution_count": 80,
      "outputs": []
    },
    {
      "cell_type": "code",
      "source": [
        ""
      ],
      "metadata": {
        "id": "8DFYK6M63fOZ"
      },
      "execution_count": 80,
      "outputs": []
    },
    {
      "cell_type": "code",
      "source": [
        ""
      ],
      "metadata": {
        "id": "ENnWNBiT2Ipj"
      },
      "execution_count": 80,
      "outputs": []
    },
    {
      "cell_type": "code",
      "source": [
        ""
      ],
      "metadata": {
        "id": "TvblCeM-2Go2"
      },
      "execution_count": 80,
      "outputs": []
    },
    {
      "cell_type": "code",
      "source": [
        ""
      ],
      "metadata": {
        "id": "R00YGqlk2DcE"
      },
      "execution_count": 80,
      "outputs": []
    },
    {
      "cell_type": "code",
      "source": [
        ""
      ],
      "metadata": {
        "id": "FzDpNyOO1pdZ"
      },
      "execution_count": 80,
      "outputs": []
    },
    {
      "cell_type": "code",
      "source": [
        ""
      ],
      "metadata": {
        "id": "hRkwZ3hf02iH"
      },
      "execution_count": 80,
      "outputs": []
    },
    {
      "cell_type": "code",
      "source": [
        ""
      ],
      "metadata": {
        "id": "lXEaHJBQ0x_G"
      },
      "execution_count": 80,
      "outputs": []
    },
    {
      "cell_type": "code",
      "source": [
        ""
      ],
      "metadata": {
        "id": "NZl1vIV00p8n"
      },
      "execution_count": 80,
      "outputs": []
    },
    {
      "cell_type": "code",
      "source": [
        ""
      ],
      "metadata": {
        "id": "35TOY4kZzkp6"
      },
      "execution_count": 80,
      "outputs": []
    },
    {
      "cell_type": "code",
      "source": [
        ""
      ],
      "metadata": {
        "id": "YVmZLksizhLh"
      },
      "execution_count": 80,
      "outputs": []
    },
    {
      "cell_type": "code",
      "source": [
        ""
      ],
      "metadata": {
        "id": "zxe-C-CXzSKW"
      },
      "execution_count": 80,
      "outputs": []
    },
    {
      "cell_type": "code",
      "source": [
        ""
      ],
      "metadata": {
        "id": "VBS68wdQy7Nw"
      },
      "execution_count": 80,
      "outputs": []
    },
    {
      "cell_type": "code",
      "source": [
        ""
      ],
      "metadata": {
        "id": "1HD6o-Msy5ML"
      },
      "execution_count": 80,
      "outputs": []
    },
    {
      "cell_type": "code",
      "source": [
        ""
      ],
      "metadata": {
        "id": "r65tTDnhyGgB"
      },
      "execution_count": 80,
      "outputs": []
    },
    {
      "cell_type": "code",
      "source": [
        ""
      ],
      "metadata": {
        "id": "eda6bppdyD1c"
      },
      "execution_count": 80,
      "outputs": []
    },
    {
      "cell_type": "code",
      "source": [
        ""
      ],
      "metadata": {
        "id": "40BXUt1TpkYo"
      },
      "execution_count": 80,
      "outputs": []
    },
    {
      "cell_type": "code",
      "source": [
        ""
      ],
      "metadata": {
        "id": "KTuqVK7ape9M"
      },
      "execution_count": 80,
      "outputs": []
    },
    {
      "cell_type": "code",
      "source": [
        ""
      ],
      "metadata": {
        "id": "YC1D2tggou4x"
      },
      "execution_count": 80,
      "outputs": []
    },
    {
      "cell_type": "code",
      "source": [
        ""
      ],
      "metadata": {
        "id": "rXdbHl5UoqDH"
      },
      "execution_count": 80,
      "outputs": []
    },
    {
      "cell_type": "code",
      "source": [
        ""
      ],
      "metadata": {
        "id": "D60gLjmwojpk"
      },
      "execution_count": 80,
      "outputs": []
    },
    {
      "cell_type": "code",
      "source": [
        ""
      ],
      "metadata": {
        "id": "rTO7d_aVn0Sd"
      },
      "execution_count": 80,
      "outputs": []
    },
    {
      "cell_type": "code",
      "source": [
        ""
      ],
      "metadata": {
        "id": "pTEgufPmnv3A"
      },
      "execution_count": 80,
      "outputs": []
    },
    {
      "cell_type": "code",
      "source": [
        ""
      ],
      "metadata": {
        "id": "OkfMzrqtmbbu"
      },
      "execution_count": 80,
      "outputs": []
    },
    {
      "cell_type": "code",
      "source": [
        ""
      ],
      "metadata": {
        "id": "Q0_j1sZhlvwT"
      },
      "execution_count": 80,
      "outputs": []
    },
    {
      "cell_type": "code",
      "source": [
        ""
      ],
      "metadata": {
        "id": "s8N8P50sllwr"
      },
      "execution_count": 80,
      "outputs": []
    },
    {
      "cell_type": "code",
      "source": [
        ""
      ],
      "metadata": {
        "id": "ta2ESqN2lB16"
      },
      "execution_count": 80,
      "outputs": []
    }
  ]
}