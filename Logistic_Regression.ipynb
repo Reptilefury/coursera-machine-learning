{
  "cells": [
    {
      "cell_type": "markdown",
      "metadata": {
        "id": "view-in-github",
        "colab_type": "text"
      },
      "source": [
        "<a href=\"https://colab.research.google.com/github/Reptilefury/coursera-machine-learning/blob/main/Logistic_Regression.ipynb\" target=\"_parent\"><img src=\"https://colab.research.google.com/assets/colab-badge.svg\" alt=\"Open In Colab\"/></a>"
      ]
    },
    {
      "cell_type": "code",
      "execution_count": null,
      "metadata": {
        "colab": {
          "base_uri": "https://localhost:8080/"
        },
        "id": "CaDfQQzV48Bb",
        "outputId": "b58250ee-48ab-4068-c6c6-a49a3138346d"
      },
      "outputs": [
        {
          "output_type": "stream",
          "name": "stdout",
          "text": [
            "Requirement already satisfied: scikit-learn in /usr/local/lib/python3.7/dist-packages (1.0.2)\n",
            "Requirement already satisfied: scipy>=1.1.0 in /usr/local/lib/python3.7/dist-packages (from scikit-learn) (1.4.1)\n",
            "Requirement already satisfied: numpy>=1.14.6 in /usr/local/lib/python3.7/dist-packages (from scikit-learn) (1.21.5)\n",
            "Requirement already satisfied: joblib>=0.11 in /usr/local/lib/python3.7/dist-packages (from scikit-learn) (1.1.0)\n",
            "Requirement already satisfied: threadpoolctl>=2.0.0 in /usr/local/lib/python3.7/dist-packages (from scikit-learn) (3.1.0)\n"
          ]
        }
      ],
      "source": [
        "!pip install -U scikit-learn"
      ]
    },
    {
      "cell_type": "code",
      "execution_count": null,
      "metadata": {
        "id": "gcnlUanXNqcA"
      },
      "outputs": [],
      "source": [
        "from sklearn.datasets import fetch_california_housing"
      ]
    },
    {
      "cell_type": "code",
      "execution_count": null,
      "metadata": {
        "id": "DfArzOpKOHrc"
      },
      "outputs": [],
      "source": [
        "from sklearn.preprocessing import StandardScaler"
      ]
    },
    {
      "cell_type": "code",
      "execution_count": null,
      "metadata": {
        "id": "KJFIwKakOQPW"
      },
      "outputs": [],
      "source": [
        "from sklearn.model_selection import train_test_split"
      ]
    },
    {
      "cell_type": "code",
      "execution_count": null,
      "metadata": {
        "id": "yP93lf9hOo2K"
      },
      "outputs": [],
      "source": [
        "#We load the dataset and assign it a variable\n",
        "housing = fetch_california_housing()"
      ]
    },
    {
      "cell_type": "code",
      "execution_count": null,
      "metadata": {
        "id": "UrRAWSeFO3Ud"
      },
      "outputs": [],
      "source": [
        "#Split the dataset into training and testing\n",
        "x_train_full, x_test , y_train_full, y_test =  train_test_split(\n",
        "    housing.data, housing.target\n",
        ")"
      ]
    },
    {
      "cell_type": "code",
      "execution_count": null,
      "metadata": {
        "id": "EZqoCOsjPJIO"
      },
      "outputs": [],
      "source": [
        "#Split the training data further into training and validation set \n",
        "x_train, x_valid, y_train, y_valid = train_test_split(\n",
        "    x_train_full, y_train_full\n",
        ")"
      ]
    },
    {
      "cell_type": "code",
      "execution_count": null,
      "metadata": {
        "id": "iz-Ojf30PcVt"
      },
      "outputs": [],
      "source": [
        "import tensorflow as tf\n",
        "from tensorflow import keras\n",
        "#create the model using the sequential api \n",
        "model = tf.keras.models.Sequential([\n",
        "    #Since this is regression task our model will have only one output neuron and one dense layer containing 30 neurons\n",
        "    tf.keras.layers.Dense(30, activation='sigmoid', input_shape=x_train.shape[1:]),\n",
        "    tf.keras.layers.Dense(1)\n",
        "])\n",
        "#We used one hidden layer with fewer neurons to avoid overfitting"
      ]
    },
    {
      "cell_type": "code",
      "execution_count": null,
      "metadata": {
        "id": "e6Cg0PZGTwba"
      },
      "outputs": [],
      "source": [
        ""
      ]
    },
    {
      "cell_type": "code",
      "execution_count": null,
      "metadata": {
        "colab": {
          "base_uri": "https://localhost:8080/"
        },
        "id": "Vv2Bp7ycQWKH",
        "outputId": "ead79246-bf58-4cb7-d832-da43d8760457"
      },
      "outputs": [
        {
          "output_type": "stream",
          "name": "stdout",
          "text": [
            "Model: \"sequential\"\n",
            "_________________________________________________________________\n",
            " Layer (type)                Output Shape              Param #   \n",
            "=================================================================\n",
            " dense (Dense)               (None, 30)                270       \n",
            "                                                                 \n",
            " dense_1 (Dense)             (None, 1)                 31        \n",
            "                                                                 \n",
            "=================================================================\n",
            "Total params: 301\n",
            "Trainable params: 301\n",
            "Non-trainable params: 0\n",
            "_________________________________________________________________\n"
          ]
        }
      ],
      "source": [
        "model.summary()"
      ]
    },
    {
      "cell_type": "code",
      "execution_count": null,
      "metadata": {
        "id": "9B3OFndYQbZ1"
      },
      "outputs": [],
      "source": [
        "#Compile the model: ie we declare the hyperparameters\n",
        "model.compile(loss = \"mean_squared_error\", optimizer='sgd')"
      ]
    },
    {
      "cell_type": "code",
      "execution_count": null,
      "metadata": {
        "colab": {
          "base_uri": "https://localhost:8080/"
        },
        "id": "_6NtGymFQ80d",
        "outputId": "0445413a-3cb9-48c3-8e3d-e486066911e5"
      },
      "outputs": [
        {
          "output_type": "stream",
          "name": "stdout",
          "text": [
            "Epoch 1/20\n",
            "363/363 [==============================] - 1s 2ms/step - loss: 1.3838 - val_loss: 1.3586\n",
            "Epoch 2/20\n",
            "363/363 [==============================] - 1s 2ms/step - loss: 1.3346 - val_loss: 1.3959\n",
            "Epoch 3/20\n",
            "363/363 [==============================] - 1s 2ms/step - loss: 1.3347 - val_loss: 1.3796\n",
            "Epoch 4/20\n",
            "363/363 [==============================] - 1s 2ms/step - loss: 1.3359 - val_loss: 1.3687\n",
            "Epoch 5/20\n",
            "363/363 [==============================] - 1s 2ms/step - loss: 1.3322 - val_loss: 1.3665\n",
            "Epoch 6/20\n",
            "363/363 [==============================] - 1s 2ms/step - loss: 1.3337 - val_loss: 1.3886\n",
            "Epoch 7/20\n",
            "363/363 [==============================] - 1s 2ms/step - loss: 1.3342 - val_loss: 1.3760\n",
            "Epoch 8/20\n",
            "363/363 [==============================] - 1s 2ms/step - loss: 1.3316 - val_loss: 1.3632\n",
            "Epoch 9/20\n",
            "363/363 [==============================] - 1s 2ms/step - loss: 1.3316 - val_loss: 1.3637\n",
            "Epoch 10/20\n",
            "363/363 [==============================] - 1s 2ms/step - loss: 1.3333 - val_loss: 1.3734\n",
            "Epoch 11/20\n",
            "363/363 [==============================] - 1s 2ms/step - loss: 1.3330 - val_loss: 1.3713\n",
            "Epoch 12/20\n",
            "363/363 [==============================] - 1s 2ms/step - loss: 1.3323 - val_loss: 1.3876\n",
            "Epoch 13/20\n",
            "363/363 [==============================] - 1s 3ms/step - loss: 1.3311 - val_loss: 1.3772\n",
            "Epoch 14/20\n",
            "363/363 [==============================] - 1s 3ms/step - loss: 1.3338 - val_loss: 1.3643\n",
            "Epoch 15/20\n",
            "363/363 [==============================] - 1s 4ms/step - loss: 1.3322 - val_loss: 1.3851\n",
            "Epoch 16/20\n",
            "363/363 [==============================] - 1s 3ms/step - loss: 1.3342 - val_loss: 1.4022\n",
            "Epoch 17/20\n",
            "363/363 [==============================] - 1s 3ms/step - loss: 1.3291 - val_loss: 1.3630\n",
            "Epoch 18/20\n",
            "363/363 [==============================] - 1s 4ms/step - loss: 1.3285 - val_loss: 1.3912\n",
            "Epoch 19/20\n",
            "363/363 [==============================] - 1s 3ms/step - loss: 1.3321 - val_loss: 1.3706\n",
            "Epoch 20/20\n",
            "363/363 [==============================] - 1s 3ms/step - loss: 1.3341 - val_loss: 1.3612\n"
          ]
        },
        {
          "output_type": "execute_result",
          "data": {
            "text/plain": [
              "<keras.callbacks.History at 0x7fb5e9108a50>"
            ]
          },
          "metadata": {},
          "execution_count": 11
        }
      ],
      "source": [
        "#We train our model using the model.fit() method\n",
        "model.fit(x_train, y_train, validation_data=(x_valid, y_valid), epochs=20)"
      ]
    },
    {
      "cell_type": "code",
      "execution_count": null,
      "metadata": {
        "id": "ISGZ9-80RkzR"
      },
      "outputs": [],
      "source": [
        "test_data = x_test [:3]"
      ]
    },
    {
      "cell_type": "code",
      "execution_count": null,
      "metadata": {
        "id": "gbPJEVKpUNEQ"
      },
      "outputs": [],
      "source": [
        "model_predict = model.predict(test_data)"
      ]
    },
    {
      "cell_type": "code",
      "execution_count": null,
      "metadata": {
        "colab": {
          "base_uri": "https://localhost:8080/"
        },
        "id": "Mqc4LH8WUQuF",
        "outputId": "770cfc6e-4356-4bf5-c75c-46968e5c3d90"
      },
      "outputs": [
        {
          "output_type": "execute_result",
          "data": {
            "text/plain": [
              "array([[2.0816174],\n",
              "       [2.0816174],\n",
              "       [2.0816174]], dtype=float32)"
            ]
          },
          "metadata": {},
          "execution_count": 14
        }
      ],
      "source": [
        "model_predict"
      ]
    },
    {
      "cell_type": "code",
      "execution_count": null,
      "metadata": {
        "id": "qHmzNtLoUTZ6"
      },
      "outputs": [],
      "source": [
        "#A wide and deep neural network connects all or part of the input to the output layer\n",
        "input = tf.keras.Input(shape = x_train.shape[1:])"
      ]
    },
    {
      "cell_type": "code",
      "execution_count": null,
      "metadata": {
        "id": "PgoILI5eWMNK"
      },
      "outputs": [],
      "source": [
        "hidden1 = tf.keras.layers.Dense(30,activation='relu')(input)"
      ]
    },
    {
      "cell_type": "code",
      "execution_count": null,
      "metadata": {
        "id": "Ez_RtowOWmMi"
      },
      "outputs": [],
      "source": [
        "#We create another hidden layer of 30 neurons and pass in data from the input layer\n",
        "hidden2 = tf.keras.layers.Dense(30, activation='relu')(hidden1)"
      ]
    },
    {
      "cell_type": "code",
      "execution_count": null,
      "metadata": {
        "id": "-qeWkeB9W5w5"
      },
      "outputs": [],
      "source": [
        "#We then create a layer to concatenate the hidden layer and the input\n",
        "con = tf.keras.layers.concatenate([hidden2, input])\n",
        "#Using the concatenate method from keras we create a layer that takes in data from both the input layer and the hidden layers\n"
      ]
    },
    {
      "cell_type": "code",
      "execution_count": null,
      "metadata": {
        "id": "rLbgpQv7X4_5"
      },
      "outputs": [],
      "source": [
        "#We create an output layer of one neuron to make our prediction\n",
        "output = tf.keras.layers.Dense(1)(con)"
      ]
    },
    {
      "cell_type": "code",
      "execution_count": null,
      "metadata": {
        "id": "3ZeaY70vZejV"
      },
      "outputs": [],
      "source": [
        "#We the build a that takes in the input and the output\n",
        "model  = tf.keras.models.Model(inputs=[input],outputs=[output])"
      ]
    },
    {
      "cell_type": "code",
      "execution_count": null,
      "metadata": {
        "id": "uL0oRs7FZ9mn"
      },
      "outputs": [],
      "source": [
        "#Wide and deep neural network\n",
        "input = tf.keras.Input(shape=x_train.shape[1:])\n",
        "#First hidden layer\n",
        "hidden1 = tf.keras.layers.Dense(30, activation='tanh')(input)\n",
        "#Second hidden layer\n",
        "hidden2 = tf.keras.layers.Dense(30, activation='tanh')(hidden1)\n",
        "#We create a concatenate layer to take in data from the deep stack layers  and the input layer\n",
        "con= tf.keras.layers.concatenate([hidden2, input]) #Takes in positional arguments in a list\n",
        "#We create an output layer that has one neuron since we are only trying to make one prediction\n",
        "output = tf.keras.layers.Dense(1)(con)\n",
        "\n",
        "#We then create our model \n",
        "modelOne = tf.keras.models.Model(inputs=[input], outputs=[output])"
      ]
    },
    {
      "cell_type": "code",
      "execution_count": null,
      "metadata": {
        "id": "TfVO9dz9fWn-"
      },
      "outputs": [],
      "source": [
        ""
      ]
    },
    {
      "cell_type": "code",
      "execution_count": null,
      "metadata": {
        "id": "KIY_k22AcoSL"
      },
      "outputs": [],
      "source": [
        "#We compile our model before training i.e = specify the hyperparameters\n",
        "modelOne.compile( loss = \"mean_squared_error\", optimizer='sgd')"
      ]
    },
    {
      "cell_type": "code",
      "execution_count": null,
      "metadata": {
        "id": "snZ146EIegNH",
        "colab": {
          "base_uri": "https://localhost:8080/"
        },
        "outputId": "b88eb160-257d-44b0-ffbd-17da35563e36"
      },
      "outputs": [
        {
          "output_type": "stream",
          "name": "stdout",
          "text": [
            "Epoch 1/20\n",
            "363/363 [==============================] - 3s 5ms/step - loss: nan - val_loss: nan\n",
            "Epoch 2/20\n",
            "363/363 [==============================] - 1s 4ms/step - loss: nan - val_loss: nan\n",
            "Epoch 3/20\n",
            "363/363 [==============================] - 1s 3ms/step - loss: nan - val_loss: nan\n",
            "Epoch 4/20\n",
            "363/363 [==============================] - 1s 2ms/step - loss: nan - val_loss: nan\n",
            "Epoch 5/20\n",
            "363/363 [==============================] - 1s 2ms/step - loss: nan - val_loss: nan\n",
            "Epoch 6/20\n",
            "363/363 [==============================] - 1s 2ms/step - loss: nan - val_loss: nan\n",
            "Epoch 7/20\n",
            "363/363 [==============================] - 1s 2ms/step - loss: nan - val_loss: nan\n",
            "Epoch 8/20\n",
            "363/363 [==============================] - 1s 2ms/step - loss: nan - val_loss: nan\n",
            "Epoch 9/20\n",
            "363/363 [==============================] - 1s 2ms/step - loss: nan - val_loss: nan\n",
            "Epoch 10/20\n",
            "363/363 [==============================] - 1s 2ms/step - loss: nan - val_loss: nan\n",
            "Epoch 11/20\n",
            "363/363 [==============================] - 1s 2ms/step - loss: nan - val_loss: nan\n",
            "Epoch 12/20\n",
            "363/363 [==============================] - 1s 2ms/step - loss: nan - val_loss: nan\n",
            "Epoch 13/20\n",
            "363/363 [==============================] - 1s 2ms/step - loss: nan - val_loss: nan\n",
            "Epoch 14/20\n",
            "363/363 [==============================] - 1s 2ms/step - loss: nan - val_loss: nan\n",
            "Epoch 15/20\n",
            "363/363 [==============================] - 1s 2ms/step - loss: nan - val_loss: nan\n",
            "Epoch 16/20\n",
            "363/363 [==============================] - 1s 2ms/step - loss: nan - val_loss: nan\n",
            "Epoch 17/20\n",
            "363/363 [==============================] - 1s 2ms/step - loss: nan - val_loss: nan\n",
            "Epoch 18/20\n",
            "363/363 [==============================] - 1s 2ms/step - loss: nan - val_loss: nan\n",
            "Epoch 19/20\n",
            "363/363 [==============================] - 1s 2ms/step - loss: nan - val_loss: nan\n",
            "Epoch 20/20\n",
            "363/363 [==============================] - 1s 2ms/step - loss: nan - val_loss: nan\n"
          ]
        },
        {
          "output_type": "execute_result",
          "data": {
            "text/plain": [
              "<keras.callbacks.History at 0x7fb5e903c950>"
            ]
          },
          "metadata": {},
          "execution_count": 23
        }
      ],
      "source": [
        "#We train our model using the model.fit method\n",
        "modelOne.fit(x_train, y_train, epochs = 20 ,validation_data=(x_valid, y_valid))"
      ]
    },
    {
      "cell_type": "code",
      "execution_count": null,
      "metadata": {
        "id": "NyvoA5gvfJ34"
      },
      "outputs": [],
      "source": [
        "#We create another deep and wide model with 2 inputs one going to the deep layer and another one going to the output layer\n",
        "inputA = tf.keras.Input(shape=[5])"
      ]
    },
    {
      "cell_type": "code",
      "execution_count": null,
      "metadata": {
        "id": "_8av7KCnjQSK"
      },
      "outputs": [],
      "source": [
        ""
      ]
    },
    {
      "cell_type": "code",
      "execution_count": null,
      "metadata": {
        "id": "0N_Hl-yoe9OH"
      },
      "outputs": [],
      "source": [
        "#Second input\n",
        "inputB = tf.keras.Input(shape=[6])"
      ]
    },
    {
      "cell_type": "code",
      "execution_count": null,
      "metadata": {
        "id": "xjD-svtHgRi8"
      },
      "outputs": [],
      "source": [
        "hidden1 = tf.keras.layers.Dense(30, activation='relu')(inputB)"
      ]
    },
    {
      "cell_type": "code",
      "execution_count": null,
      "metadata": {
        "id": "tqZvZeTDg0qw"
      },
      "outputs": [],
      "source": [
        "hidden2 = tf.keras.layers.Dense(30, activation='relu')(hidden1)"
      ]
    },
    {
      "cell_type": "code",
      "execution_count": null,
      "metadata": {
        "id": "iGQ7qItie3kh"
      },
      "outputs": [],
      "source": [
        "con = tf.keras.layers.concatenate([hidden2, inputA])"
      ]
    },
    {
      "cell_type": "code",
      "execution_count": null,
      "metadata": {
        "id": "TWrgTlvFiP_P"
      },
      "outputs": [],
      "source": [
        "output = tf.keras.layers.Dense(1)(con)"
      ]
    },
    {
      "cell_type": "code",
      "execution_count": null,
      "metadata": {
        "id": "U5-CJwFKifQm"
      },
      "outputs": [],
      "source": [
        "model = tf.keras.models.Model(inputs=[inputA, inputB], outputs = [output])"
      ]
    },
    {
      "cell_type": "code",
      "execution_count": null,
      "metadata": {
        "id": "ZOieqAyYi--y"
      },
      "outputs": [],
      "source": [
        "model.compile(loss=\"mse\", optimizer='sgd')\n"
      ]
    },
    {
      "cell_type": "code",
      "execution_count": null,
      "metadata": {
        "id": "zz_J5XvLkppG"
      },
      "outputs": [],
      "source": [
        "#Split the data into more training datasets \n",
        "x_train_A, x_train_B = x_train[:, :5] , x_train[:, 2:]"
      ]
    },
    {
      "cell_type": "code",
      "execution_count": null,
      "metadata": {
        "id": "ypEultsPk-01"
      },
      "outputs": [],
      "source": [
        "x_test_A, x_test_B = x_test[:,:5],x_test[:,2:]"
      ]
    },
    {
      "cell_type": "code",
      "execution_count": null,
      "metadata": {
        "id": "l_gHlzNWlKhe"
      },
      "outputs": [],
      "source": [
        "x_valid_A, x_valid_B =  x_valid[:,:5],x_valid[:, 2:]"
      ]
    },
    {
      "cell_type": "code",
      "execution_count": null,
      "metadata": {
        "id": "ddL3NZjnlmBF"
      },
      "outputs": [],
      "source": [
        "x_test_new_A, x_test_new_B =x_test_A[:3], x_test_B[:3]"
      ]
    },
    {
      "cell_type": "code",
      "execution_count": null,
      "metadata": {
        "id": "bawQ3m88l9wV",
        "colab": {
          "base_uri": "https://localhost:8080/"
        },
        "outputId": "90e4b984-bc56-408a-9227-38fef7aa29fc"
      },
      "outputs": [
        {
          "output_type": "stream",
          "name": "stdout",
          "text": [
            "Epoch 1/20\n",
            "363/363 [==============================] - 1s 2ms/step - loss: nan - val_loss: nan\n",
            "Epoch 2/20\n",
            "363/363 [==============================] - 1s 2ms/step - loss: nan - val_loss: nan\n",
            "Epoch 3/20\n",
            "363/363 [==============================] - 2s 5ms/step - loss: nan - val_loss: nan\n",
            "Epoch 4/20\n",
            "363/363 [==============================] - 2s 6ms/step - loss: nan - val_loss: nan\n",
            "Epoch 5/20\n",
            "363/363 [==============================] - 2s 4ms/step - loss: nan - val_loss: nan\n",
            "Epoch 6/20\n",
            "363/363 [==============================] - 1s 4ms/step - loss: nan - val_loss: nan\n",
            "Epoch 7/20\n",
            "363/363 [==============================] - 1s 4ms/step - loss: nan - val_loss: nan\n",
            "Epoch 8/20\n",
            "363/363 [==============================] - 1s 3ms/step - loss: nan - val_loss: nan\n",
            "Epoch 9/20\n",
            "363/363 [==============================] - 1s 2ms/step - loss: nan - val_loss: nan\n",
            "Epoch 10/20\n",
            "363/363 [==============================] - 1s 2ms/step - loss: nan - val_loss: nan\n",
            "Epoch 11/20\n",
            "363/363 [==============================] - 1s 2ms/step - loss: nan - val_loss: nan\n",
            "Epoch 12/20\n",
            "363/363 [==============================] - 1s 2ms/step - loss: nan - val_loss: nan\n",
            "Epoch 13/20\n",
            "363/363 [==============================] - 1s 2ms/step - loss: nan - val_loss: nan\n",
            "Epoch 14/20\n",
            "363/363 [==============================] - 1s 2ms/step - loss: nan - val_loss: nan\n",
            "Epoch 15/20\n",
            "363/363 [==============================] - 1s 2ms/step - loss: nan - val_loss: nan\n",
            "Epoch 16/20\n",
            "363/363 [==============================] - 1s 2ms/step - loss: nan - val_loss: nan\n",
            "Epoch 17/20\n",
            "363/363 [==============================] - 1s 2ms/step - loss: nan - val_loss: nan\n",
            "Epoch 18/20\n",
            "363/363 [==============================] - 1s 2ms/step - loss: nan - val_loss: nan\n",
            "Epoch 19/20\n",
            "363/363 [==============================] - 1s 2ms/step - loss: nan - val_loss: nan\n",
            "Epoch 20/20\n",
            "363/363 [==============================] - 1s 2ms/step - loss: nan - val_loss: nan\n"
          ]
        },
        {
          "output_type": "execute_result",
          "data": {
            "text/plain": [
              "<keras.callbacks.History at 0x7fb5e8f20bd0>"
            ]
          },
          "metadata": {},
          "execution_count": 36
        }
      ],
      "source": [
        "model.fit((x_train_A,x_train_B),y_train,epochs=20,validation_data=((x_valid_A, x_valid_B),y_valid))"
      ]
    },
    {
      "cell_type": "code",
      "execution_count": null,
      "metadata": {
        "id": "d5iP3zIdv0FQ"
      },
      "outputs": [],
      "source": [
        ""
      ]
    },
    {
      "cell_type": "code",
      "execution_count": null,
      "metadata": {
        "id": "sPZrPJOZyucO"
      },
      "outputs": [],
      "source": [
        ""
      ]
    },
    {
      "cell_type": "markdown",
      "metadata": {
        "id": "SCNFxzldwxXC"
      },
      "source": [
        "Use cases where you might want multiple outputs are when you want to identify an object position in an image and then also classify the image."
      ]
    },
    {
      "cell_type": "code",
      "execution_count": null,
      "metadata": {
        "id": "b3Vknkh5we1R"
      },
      "outputs": [],
      "source": [
        "ouput = tf.keras.layers.Dense(1)(con)"
      ]
    },
    {
      "cell_type": "code",
      "execution_count": null,
      "metadata": {
        "id": "pCXb_5uJyhSO"
      },
      "outputs": [],
      "source": [
        "aux_ouput = tf.keras.layers.Dense(1)(hidden2)"
      ]
    },
    {
      "cell_type": "code",
      "execution_count": null,
      "metadata": {
        "id": "3XO7dgh7zGV7"
      },
      "outputs": [],
      "source": [
        "model = tf.keras.Model(inputs=[inputA,inputB],outputs=[output,aux_ouput]) #Thus model has two ouputs\n",
        "#There are many use cases of a two output model, for instance Identifying the location of an object in an image and then being able to classify the object \n",
        "#When compiling the model each output should get their own losses otherwise keras will compute one loss for both"
      ]
    },
    {
      "cell_type": "code",
      "execution_count": null,
      "metadata": {
        "id": "FpVLTUu0z62P"
      },
      "outputs": [],
      "source": [
        "#since we are  using two outputs in this model we should pass a loss function for each output , if we pass a single loss keras will use the same loss for both outputs\n",
        "#Keras computes both of these losses then add them up to get the final loss for training\n",
        "model.compile(loss =[\"mse\",\"mse\"], loss_weights=[0.9,0.1] ,optimizer=\"sgd\")\n"
      ]
    },
    {
      "cell_type": "code",
      "execution_count": null,
      "metadata": {
        "id": "Cn1s8T1U9aAK",
        "colab": {
          "base_uri": "https://localhost:8080/"
        },
        "outputId": "569f4ad5-8d8e-4193-e662-377b1eca33f6"
      },
      "outputs": [
        {
          "output_type": "stream",
          "name": "stdout",
          "text": [
            "Epoch 1/20\n",
            "363/363 [==============================] - 1s 2ms/step - loss: nan - dense_10_loss: nan - dense_12_loss: nan\n",
            "Epoch 2/20\n",
            "363/363 [==============================] - 1s 2ms/step - loss: nan - dense_10_loss: nan - dense_12_loss: nan\n",
            "Epoch 3/20\n",
            "363/363 [==============================] - 1s 2ms/step - loss: nan - dense_10_loss: nan - dense_12_loss: nan\n",
            "Epoch 4/20\n",
            "363/363 [==============================] - 1s 2ms/step - loss: nan - dense_10_loss: nan - dense_12_loss: nan\n",
            "Epoch 5/20\n",
            "363/363 [==============================] - 1s 2ms/step - loss: nan - dense_10_loss: nan - dense_12_loss: nan\n",
            "Epoch 6/20\n",
            "363/363 [==============================] - 1s 2ms/step - loss: nan - dense_10_loss: nan - dense_12_loss: nan\n",
            "Epoch 7/20\n",
            "363/363 [==============================] - 1s 2ms/step - loss: nan - dense_10_loss: nan - dense_12_loss: nan\n",
            "Epoch 8/20\n",
            "363/363 [==============================] - 1s 3ms/step - loss: nan - dense_10_loss: nan - dense_12_loss: nan\n",
            "Epoch 9/20\n",
            "363/363 [==============================] - 1s 3ms/step - loss: nan - dense_10_loss: nan - dense_12_loss: nan\n",
            "Epoch 10/20\n",
            "363/363 [==============================] - 1s 3ms/step - loss: nan - dense_10_loss: nan - dense_12_loss: nan\n",
            "Epoch 11/20\n",
            "363/363 [==============================] - 1s 3ms/step - loss: nan - dense_10_loss: nan - dense_12_loss: nan\n",
            "Epoch 12/20\n",
            "363/363 [==============================] - 1s 4ms/step - loss: nan - dense_10_loss: nan - dense_12_loss: nan\n",
            "Epoch 13/20\n",
            "363/363 [==============================] - 1s 3ms/step - loss: nan - dense_10_loss: nan - dense_12_loss: nan\n",
            "Epoch 14/20\n",
            "363/363 [==============================] - 1s 3ms/step - loss: nan - dense_10_loss: nan - dense_12_loss: nan\n",
            "Epoch 15/20\n",
            "363/363 [==============================] - 1s 3ms/step - loss: nan - dense_10_loss: nan - dense_12_loss: nan\n",
            "Epoch 16/20\n",
            "363/363 [==============================] - 1s 4ms/step - loss: nan - dense_10_loss: nan - dense_12_loss: nan\n",
            "Epoch 17/20\n",
            "363/363 [==============================] - 1s 3ms/step - loss: nan - dense_10_loss: nan - dense_12_loss: nan\n",
            "Epoch 18/20\n",
            "363/363 [==============================] - 1s 3ms/step - loss: nan - dense_10_loss: nan - dense_12_loss: nan\n",
            "Epoch 19/20\n",
            "363/363 [==============================] - 1s 3ms/step - loss: nan - dense_10_loss: nan - dense_12_loss: nan\n",
            "Epoch 20/20\n",
            "363/363 [==============================] - 1s 2ms/step - loss: nan - dense_10_loss: nan - dense_12_loss: nan\n"
          ]
        },
        {
          "output_type": "execute_result",
          "data": {
            "text/plain": [
              "<keras.callbacks.History at 0x7fb5e8ddbf50>"
            ]
          },
          "metadata": {},
          "execution_count": 41
        }
      ],
      "source": [
        "model.fit([x_train_A,x_train_B], [y_train,y_train], epochs = 20 )"
      ]
    },
    {
      "cell_type": "code",
      "execution_count": null,
      "metadata": {
        "id": "_rl43uHdAWM6",
        "colab": {
          "base_uri": "https://localhost:8080/"
        },
        "outputId": "a071fba9-3706-4e38-b218-8b9a01fb7724"
      },
      "outputs": [
        {
          "output_type": "stream",
          "name": "stdout",
          "text": [
            "162/162 [==============================] - 1s 2ms/step - loss: nan - dense_10_loss: nan - dense_12_loss: nan\n"
          ]
        },
        {
          "output_type": "execute_result",
          "data": {
            "text/plain": [
              "[nan, nan, nan]"
            ]
          },
          "metadata": {},
          "execution_count": 42
        }
      ],
      "source": [
        "#During evaluation of the model keras will output the total losses as well as the individual outputs\n",
        "model.evaluate([x_test_A, x_test_B],[y_test,y_test], verbose =1)"
      ]
    },
    {
      "cell_type": "code",
      "execution_count": null,
      "metadata": {
        "id": "G_pM6zqyBjeJ"
      },
      "outputs": [],
      "source": [
        "#Do a prediction  \n",
        "prediction = model.predict((x_test_new_A, x_test_new_B))"
      ]
    },
    {
      "cell_type": "code",
      "execution_count": null,
      "metadata": {
        "colab": {
          "base_uri": "https://localhost:8080/"
        },
        "id": "xxFUTjwVCQCe",
        "outputId": "79c2a91c-af55-49e8-c814-a84a9be713e2"
      },
      "outputs": [
        {
          "output_type": "execute_result",
          "data": {
            "text/plain": [
              "[array([[nan],\n",
              "        [nan],\n",
              "        [nan]], dtype=float32), array([[nan],\n",
              "        [nan],\n",
              "        [nan]], dtype=float32)]"
            ]
          },
          "metadata": {},
          "execution_count": 44
        }
      ],
      "source": [
        "prediction "
      ]
    },
    {
      "cell_type": "code",
      "execution_count": null,
      "metadata": {
        "id": "3R7VQzS4CWXM"
      },
      "outputs": [],
      "source": [
        "tf.keras.utils.to_categorical(model)"
      ]
    },
    {
      "cell_type": "code",
      "execution_count": null,
      "metadata": {
        "id": "Gp5-avZtDxEu"
      },
      "outputs": [],
      "source": [
        "#Subclassing API\n",
        "class WideAndDeepModel(keras.models.Model):\n",
        "  #we initialize this class\n",
        "  def __init__(self,units = 30 , activation='relu', **kwargs):\n",
        "    super.__init__(**kwargs)\n",
        "    self.hidden1 = tf.keras.layers.Dense(units,activation)\n",
        "    self.hidden2 = tf.keras.layers.Dense(units,activation)\n",
        "    self.main_output= tf.keras.layers.Dense(1)\n",
        "    self.aux_output= tf.keras.layers.Dense(1)\n",
        "    #Pick up from here\n",
        "\n",
        "    "
      ]
    },
    {
      "cell_type": "code",
      "execution_count": null,
      "metadata": {
        "id": "Z2ir7qnYHDM4"
      },
      "outputs": [],
      "source": [
        "class WideAndDeepModel(tf.keras.models.Model):\n",
        "  def __init__(self, units = 30 , activation=\"relu\", **kwargs):\n",
        "    super().__init__(**kwargs)\n",
        "    self.hidden1 = tf.keras.layers.Dense(units, activation =activation)\n",
        "    self.hidden2 = tf.keras.layers.Dense(units, activation = activation)\n",
        "    self.main_output = tf.keras.layers.Dense(1)\n",
        "    self.aux_output = tf.keras.layers.Dense(1)\n",
        "  \n",
        "\n",
        "  def call(self, inputs):\n",
        "    inputA, inputB = inputs\n",
        "    hidden1 = self.hidden1(inputB)\n",
        "    hidden2 = self.hidden2(hidden1)\n",
        "    con = tf.keras.layers.Concatenate([inputA,hidden2])\n",
        "    main_output = self.main_output(con)\n",
        "    aux_output = self.aux_output(hidden2)\n",
        "    return main_output, aux_output\n",
        "\n",
        "model = WideAndDeepModel()"
      ]
    },
    {
      "cell_type": "code",
      "execution_count": null,
      "metadata": {
        "id": "mh7bj-Wfqsyd"
      },
      "outputs": [],
      "source": [
        "#Recreating the wide and deep model using the subclassing API \n",
        "\n",
        "#We create a class called WideAndDeepModel which takes in a base class tf.keras.models\n",
        "class WideAndDeepModel(tf.keras.models.Model):\n",
        "  #We the initialise this class by declaring the attributes and defining them \n",
        "  def __init__(self,units=30, activations = \"relu\", **kwargs):\n",
        "    super().__init__()\n",
        "    self.hidden1 = tf.keras.layers.Dense(units, activation= activations)\n",
        "    self.hidden2 = tf.keras.layers.Dense(units, activation= activations)\n",
        "    self.main_output = tf.keras.layers.Dense(1)\n",
        "    self.main_output = tf.keras.layers.Dense(1)\n",
        "\n",
        "  def call(self, inputs):\n",
        "    inputA, inputB  = inputs\n",
        "    hidden1 = self.hidden1(inputB)\n",
        "    hidden2 = self.hidden2(hidden1)\n",
        "    con = tf.keras.layers.Concatenate([hidden2, inputA])\n",
        "    main_output = self.main_output(con)\n",
        "    aux_output = self.aux_output(hidden2)\n",
        "    return main_output, aux_ouput\n",
        "  \n",
        "model =WideAndDeepModel()"
      ]
    },
    {
      "cell_type": "code",
      "execution_count": null,
      "metadata": {
        "id": "dQTV4qfUtIxM"
      },
      "outputs": [],
      "source": [
        "#Recreating the Wide and Deep model using  the subclassing API\n",
        "#The wide and deep model is a type of neural network that could possibly have two outputs and its input is split into two one part of \n",
        "#part of the data passes through deep stack of layers while the other part is connected directly to the output layer\n",
        "#A wide and deep neural network is a type of neural network where part if the input layer(flattenned)is connected to the output layer while the other passes through the deep fully connected layers."
      ]
    },
    {
      "cell_type": "code",
      "execution_count": null,
      "metadata": {
        "id": "wvJkd_j5so4H"
      },
      "outputs": [],
      "source": [
        "#To create the wide and Deep neural network we have to create a subclass class that inherits from a base class\n",
        "import tensorflow as tf\n",
        "#Self is used to access data attributes from a class\n",
        "class WideAndDeepModel(tf.keras.models.Model):\n",
        "  def __init__(self, units= 30, activation=\"relu\", **kwargs):\n",
        "     super().__init__(**kwargs)\n",
        "     \"\"\"Here we have defined the constructor by specifying \n",
        "     the number of neurons in each layer together with the activation we'll use\"\"\"\n",
        "     #We then define the data attributes of each layer\n",
        "     self.hidden1 = tf.keras.layers.Dense(units, activation = activation)\n",
        "     self.hidden2 = tf.keras.layers.Dense(units, activation = activation)\n",
        "     self.main_output = tf.keras.layers.Dense(1)\n",
        "     self.aux_output = tf.keras.layers.Dense(1)\n",
        "  \n",
        "\n",
        "  def call(self, inputs):\n",
        "    inputA, inputB = inputs\n",
        "    hidden1 = self.hidden1(inputB)\n",
        "    hidden2 = self.hidden2(hidden1)\n",
        "    con = tf.keras.layers.Concatenate([hidden2,inputA])\n",
        "    main_output = self.main_output(con)\n",
        "    aux_output = self.aux_output(hidden2)\n",
        "    return main_output, aux_output\n",
        "\n",
        "model = WideAndDeepModel()"
      ]
    },
    {
      "cell_type": "code",
      "execution_count": null,
      "metadata": {
        "id": "EqgWS-jNc5G1"
      },
      "outputs": [],
      "source": [
        "#Recreating the wide and Deep model using the subclassing API\n",
        "#We start by creating the class\n",
        "class WideAndDeepModel(tf.keras.models.Model):\n",
        "  def __init__(self, units = 30 , activation = \"relu\", **kwargs):#Class constructor  which has the data attributes units, which represent number of neurons, and activations which we specified to relu\n",
        "    super().__init__(self,**kwargs) #super init method\n",
        "    self.hidden1 = tf.keras.layers.Dense(units, activation = activation)\n",
        "    self.hidden2 = tf.keras.layers.Dense(units, activation=activation)\n",
        "    self.main_output = tf.keras.layers.Dense(1)\n",
        "    self.aux_output = tf.keras.layers.Dense(1)\n",
        "  \n",
        "#We define a call method which initialises the attributes of the class(model)  \n",
        "  def call(self, inputs):\n",
        "    inputA, inputB = inputs\n",
        "    hidden1 = self.hidden1(inputB)\n",
        "    hidden2 = self.hidden2(hidden1)\n",
        "    con = tf.keras.layers.Concatenate([hidden2, inputA])#The concatenate method/layer always takes in 2 positional arguments inform of a list\n",
        "    main_output = self.main_output(con)\n",
        "    aux_output = self.aux_output(hidden2)\n",
        "    return aux_output, main_output\n",
        "\n",
        "model = WideAndDeepModel()"
      ]
    },
    {
      "cell_type": "markdown",
      "metadata": {
        "id": "9YUbOHCyhEfD"
      },
      "source": [
        "The cost of using the subclassing API is that keras cannot inspect the model so it is easy to make mistakes.When you call the model.summary() method you just get a list of layers with no further information about the model parameters and shapes of inputs."
      ]
    },
    {
      "cell_type": "markdown",
      "metadata": {
        "id": "4CyII4JFhzRV"
      },
      "source": [
        "Keras models can be used just like regular layers so we can stack them up to build complex architectures."
      ]
    },
    {
      "cell_type": "code",
      "execution_count": null,
      "metadata": {
        "id": "w6DJckozfUbL"
      },
      "outputs": [],
      "source": [
        "def my_model():\n",
        "  return WideAndDeepModel()"
      ]
    },
    {
      "cell_type": "code",
      "execution_count": null,
      "metadata": {
        "id": "VWIxDkfmiWfQ"
      },
      "outputs": [],
      "source": [
        "model = my_model()"
      ]
    },
    {
      "cell_type": "code",
      "execution_count": null,
      "metadata": {
        "id": "yxCmGO92lxdd"
      },
      "outputs": [],
      "source": [
        ""
      ]
    },
    {
      "cell_type": "markdown",
      "metadata": {
        "id": "F-lbClg_mAn3"
      },
      "source": [
        "To save a model we use the model.save() method however, for the subclassing api we have to put our model in a method i.e \n",
        "class MySubclassModel:\n",
        "     .......\n",
        "     ....\n",
        "\n",
        "  #Method to save our model\n",
        "  def get_model():\n",
        "     ......\n",
        "     return MySubclassModel()\n",
        "\n",
        "we then save this method in a variable called model\n",
        "#Like so\n",
        "model = get_model()\n",
        "We then call the model.save() method which we'll pass in the \n",
        "path to save our model and the format to save our model. Some formats do not allow you to save the parameters so you have to specify the parameters yourself."
      ]
    },
    {
      "cell_type": "code",
      "execution_count": null,
      "metadata": {
        "id": "vz_MScyAjk36"
      },
      "outputs": [],
      "source": [
        "#model.save(\"sample_data\", save_format=tf)\n",
        "\n",
        "\n",
        "model = tf.keras.models.Sequential([\n",
        "    tf.keras.layers.Flatten(input_shape=(28*28,1)),\n",
        "    tf.keras.layers.Dense(100, activation=\"relu\"),\n",
        "    tf.keras.layers.Dense(1)\n",
        "])"
      ]
    },
    {
      "cell_type": "code",
      "execution_count": null,
      "metadata": {
        "id": "o_QgbJn1v-ia"
      },
      "outputs": [],
      "source": [
        "model.compile(loss = \"mse\", optimizer=\"sgd\" )"
      ]
    },
    {
      "cell_type": "code",
      "execution_count": null,
      "metadata": {
        "id": "vL6yVq9iw9QF"
      },
      "outputs": [],
      "source": [
        ""
      ]
    },
    {
      "cell_type": "code",
      "execution_count": null,
      "metadata": {
        "id": "mz6e6F2YwXlf"
      },
      "outputs": [],
      "source": [
        "model.fit(x_train, y_train, epochs=20, validation_data=(x_valid, y_valid) )"
      ]
    },
    {
      "cell_type": "code",
      "execution_count": null,
      "metadata": {
        "id": "y2rrmzxIwtth"
      },
      "outputs": [],
      "source": [
        ""
      ]
    },
    {
      "cell_type": "code",
      "execution_count": null,
      "metadata": {
        "id": "yMMRFDpovtyi"
      },
      "outputs": [],
      "source": [
        "model.save(\"MyModel.h5\")"
      ]
    },
    {
      "cell_type": "code",
      "execution_count": null,
      "metadata": {
        "id": "MCZ452M8vydK"
      },
      "outputs": [],
      "source": [
        ""
      ]
    },
    {
      "cell_type": "code",
      "execution_count": null,
      "metadata": {
        "id": "jiBEthwHvYYk"
      },
      "outputs": [],
      "source": [
        ""
      ]
    },
    {
      "cell_type": "code",
      "execution_count": null,
      "metadata": {
        "id": "9tTOVvo1vUwT"
      },
      "outputs": [],
      "source": [
        ""
      ]
    },
    {
      "cell_type": "markdown",
      "metadata": {
        "id": "kukyxkAXqiqp"
      },
      "source": [
        "When the training lasts several hours, you should save the model during training and after training. Using callbacks we can tell the fit method to save the model during certain checkpoints.The fit method accepts callbacks that let you specify a list of objects that keras will call during training, before and after training and before and after processing the batch."
      ]
    },
    {
      "cell_type": "code",
      "execution_count": null,
      "metadata": {
        "id": "i3bgYmSEkDew"
      },
      "outputs": [],
      "source": [
        "checkPoint_cb = tf.keras.callbacks.ModelCheckpoint(\"MyModel.h5\", save_best_only=True)#The save best only when set to true it instructs the method to save the parameters that perfomed well during Training and\n",
        "#This way we do not have to worry about overfitting in our training set \n",
        "#When doing this we could restore the last model saved during training and this will be the best model that performed well on the validation set"
      ]
    },
    {
      "cell_type": "code",
      "execution_count": null,
      "metadata": {
        "id": "6CAH81gKv5ot"
      },
      "outputs": [],
      "source": [
        "history = model.fit(x_train,y_train, callbacks=[checkPoint_cb])"
      ]
    },
    {
      "cell_type": "code",
      "execution_count": null,
      "metadata": {
        "id": "FQiCQrEMxVR-"
      },
      "outputs": [],
      "source": [
        "#Rolling back to the best model and whether you will choose to continue training or not you roll back to the best model like this:\n",
        "model = tf.keras.models.load_model(\"MyModel.h5\")"
      ]
    },
    {
      "cell_type": "markdown",
      "metadata": {
        "id": "nkironge0onA"
      },
      "source": [
        "By implementing early stopping we are preventing the model from overfitting the training set. Apart from the save_best_only we could implement the early stopping method that stop training when the model does not show progress in the validation set performance. Interrupting training early also saves time and resources because the model is not showing any progress. We can set a large number of training cycles (epochs) since we the training will automatically stop when there is no progress. "
      ]
    },
    {
      "cell_type": "code",
      "execution_count": null,
      "metadata": {
        "id": "gjIUMyT20YFl"
      },
      "outputs": [],
      "source": [
        "model.predict(x_train[:3]) "
      ]
    },
    {
      "cell_type": "code",
      "execution_count": null,
      "metadata": {
        "colab": {
          "base_uri": "https://localhost:8080/",
          "height": 202
        },
        "id": "Uo51GxLx0bGT",
        "outputId": "05d73df4-f353-40fb-adc0-8b2c6ec25c49"
      },
      "outputs": [
        {
          "output_type": "error",
          "ename": "TypeError",
          "evalue": "ignored",
          "traceback": [
            "\u001b[0;31m---------------------------------------------------------------------------\u001b[0m",
            "\u001b[0;31mTypeError\u001b[0m                                 Traceback (most recent call last)",
            "\u001b[0;32m<ipython-input-65-621091d578da>\u001b[0m in \u001b[0;36m<module>\u001b[0;34m()\u001b[0m\n\u001b[1;32m      1\u001b[0m \u001b[0;31m#Custom callbacks\u001b[0m\u001b[0;34m\u001b[0m\u001b[0;34m\u001b[0m\u001b[0;34m\u001b[0m\u001b[0m\n\u001b[1;32m      2\u001b[0m \u001b[0;34m\u001b[0m\u001b[0m\n\u001b[0;32m----> 3\u001b[0;31m \u001b[0mearly_stopping_cb\u001b[0m \u001b[0;34m=\u001b[0m \u001b[0mtf\u001b[0m\u001b[0;34m.\u001b[0m\u001b[0mkeras\u001b[0m\u001b[0;34m.\u001b[0m\u001b[0mcallbacks\u001b[0m\u001b[0;34m.\u001b[0m\u001b[0mEarlyStopping\u001b[0m\u001b[0;34m(\u001b[0m\u001b[0mpatience\u001b[0m\u001b[0;34m=\u001b[0m\u001b[0;36m10\u001b[0m\u001b[0;34m,\u001b[0m \u001b[0mrestore_weights\u001b[0m\u001b[0;34m=\u001b[0m\u001b[0;32mTrue\u001b[0m\u001b[0;34m)\u001b[0m\u001b[0;34m\u001b[0m\u001b[0;34m\u001b[0m\u001b[0m\n\u001b[0m",
            "\u001b[0;31mTypeError\u001b[0m: __init__() got an unexpected keyword argument 'restore_weights'"
          ]
        }
      ],
      "source": [
        "#Custom callbacks\n",
        "\n",
        "early_stopping_cb = tf.keras.callbacks.EarlyStopping(patience=10, restore_weights=True)\n"
      ]
    },
    {
      "cell_type": "code",
      "source": [
        "history = model.fit(x_train, y_train, epochs=100, callbacks=[ checkpoint_cb,early_stopping_cb])"
      ],
      "metadata": {
        "id": "Ai9t2Q8i-XCl"
      },
      "execution_count": null,
      "outputs": []
    },
    {
      "cell_type": "code",
      "source": [
        "class PrintValTrainRatioCallback(keras.callback.Callback):\n",
        "  def on_epoch_end(self, epoch)"
      ],
      "metadata": {
        "id": "CR7mbCaa-_53"
      },
      "execution_count": null,
      "outputs": []
    },
    {
      "cell_type": "code",
      "source": [
        "#Recreatimng the subclassing API\n",
        "class WideAndDeepModel(tf.keras.models.Model):\n",
        "  def __init__(self,units=30, activations=\"relu\", **kwargs):\n",
        "    super().__init__(**kwargs)\n",
        "    self.hidden1 = tf.keras.layers.Dense(units, activation=activations),\n",
        "    self.hidden2 = tf.keras.layers.Dense(units, activation=activations),\n",
        "    self.main_output = tf.keras.layers.Dense(1),\n",
        "    self.aux_output = tf.keras.layers.Dense(1) \n",
        "  def step(self,inputs):\n",
        "    inputA, inputB = inputs,\n",
        "    hidden1 = self.hidden1(inputB)\n",
        "    hidden2 = self.hidden2(hidden1)\n",
        "    con = tf.keras.layers.Concatenate([hidden2, inputA])\n",
        "    main_output = self.main_output(con)\n",
        "    aux_output = self.aux_output(hidden2)\n",
        "\n"
      ],
      "metadata": {
        "id": "dZOv4AWV-4qS"
      },
      "execution_count": null,
      "outputs": []
    },
    {
      "cell_type": "code",
      "source": [
        "#Saving a subclassing API model\n",
        "#We save it in a function\n",
        "def get_model():\n",
        "  return WideAndDeepModel()"
      ],
      "metadata": {
        "id": "d3E7AmEkDtym"
      },
      "execution_count": null,
      "outputs": []
    },
    {
      "cell_type": "code",
      "source": [
        "#We the save it in a variable \n",
        "model = get_model()"
      ],
      "metadata": {
        "id": "hm6NTmxlD8i2"
      },
      "execution_count": null,
      "outputs": []
    },
    {
      "cell_type": "code",
      "source": [
        "#Use keras model.save() method\n",
        "model.save(\"WideAndDeepModel\",save_format=\"tf\")"
      ],
      "metadata": {
        "id": "HwsjlJO_ECgG"
      },
      "execution_count": null,
      "outputs": []
    },
    {
      "cell_type": "code",
      "source": [
        "class PrintValTrainRatioCallback(tf.keras.callbacks.Callback):\n",
        "  def on_epoch_end(self, epoch, logs):\n",
        "    "
      ],
      "metadata": {
        "id": "ZM8ro039EPYb"
      },
      "execution_count": null,
      "outputs": []
    },
    {
      "cell_type": "code",
      "source": [
        "#Recreating the wide and Deep model through the subclassing API\n",
        "import tensorflow as tf\n",
        "class WideAndDeepModel(tf.keras.models.Model):\n",
        "  def __init__(self,units=30, activations='relu',**kwargs):\n",
        "    super().__init__(**kwargs)\n",
        "    self.hidden1 = tf.keras.layers.Dense(units,activations=activations),\n",
        "    self.hidden2 = tf.keras.layers.Dense(units, activation=activations),\n",
        "    self.main_output = tf.keras.layers.Dense(1),\n",
        "    self.aux_output = tf.keras.layers.Dense(1)\n",
        "\n",
        "#We then define the call method\n",
        "  def call(self, inputs):\n",
        "    inputA, inputB = inputs,\n",
        "    hidden1 = self.hidden(inputA)\n",
        "    hidden2 = self.hidden(hidden1)\n",
        "    con = tf.keras.layers.Concatenate([hidden2, inputB])\n",
        "    main_output = self.main_output(con)\n",
        "    aux_output = self.aux_output(hidden2)\n",
        "    return main_output, aux_output\n",
        "\n",
        "model = WideAndDeepModel()"
      ],
      "metadata": {
        "id": "Y22yCx1vDCG0"
      },
      "execution_count": null,
      "outputs": []
    },
    {
      "cell_type": "code",
      "source": [
        "#Trained MNIST MODEL\n",
        "mnist = tf.keras.datasets.mnist.load_data()"
      ],
      "metadata": {
        "id": "8-gsfZGOVj8u"
      },
      "execution_count": null,
      "outputs": []
    },
    {
      "cell_type": "code",
      "source": [
        "#Split the dataset into training and testing \n",
        "(x_train,y_train), (x_test,y_test) = mnist"
      ],
      "metadata": {
        "id": "n4EuBVhyVyNu"
      },
      "execution_count": 35,
      "outputs": []
    },
    {
      "cell_type": "code",
      "source": [
        "#Visualise the data\n",
        "x_train[0].shape "
      ],
      "metadata": {
        "colab": {
          "base_uri": "https://localhost:8080/"
        },
        "id": "scxd-H7iWDwl",
        "outputId": "cad5cc07-bf5e-40a5-b95f-e647eabc5f9a"
      },
      "execution_count": 11,
      "outputs": [
        {
          "output_type": "execute_result",
          "data": {
            "text/plain": [
              "(28, 28)"
            ]
          },
          "metadata": {},
          "execution_count": 11
        }
      ]
    },
    {
      "cell_type": "code",
      "source": [
        "x_test.shape"
      ],
      "metadata": {
        "colab": {
          "base_uri": "https://localhost:8080/"
        },
        "id": "Q7VqMw40b9RL",
        "outputId": "d7a9ec39-ed73-4e72-fca3-defeae661723"
      },
      "execution_count": 36,
      "outputs": [
        {
          "output_type": "execute_result",
          "data": {
            "text/plain": [
              "(10000, 28, 28)"
            ]
          },
          "metadata": {},
          "execution_count": 36
        }
      ]
    },
    {
      "cell_type": "code",
      "source": [
        "import matplotlib.pyplot as plt\n",
        "\n",
        "\n",
        "plt.imshow(x_train[0])"
      ],
      "metadata": {
        "id": "XSAd97qRWKL4"
      },
      "execution_count": null,
      "outputs": []
    },
    {
      "cell_type": "code",
      "source": [
        "#This is the labeled data and it matches the training data as labeled so  we are good to go\n",
        "y_train[0]"
      ],
      "metadata": {
        "colab": {
          "base_uri": "https://localhost:8080/"
        },
        "id": "RwTYLNYIWYGo",
        "outputId": "043b0bcb-fac3-49c2-8e01-856868fc73a1"
      },
      "execution_count": 16,
      "outputs": [
        {
          "output_type": "execute_result",
          "data": {
            "text/plain": [
              "5"
            ]
          },
          "metadata": {},
          "execution_count": 16
        }
      ]
    },
    {
      "cell_type": "code",
      "source": [
        "#We turn the data into floating points and then mormalize the data \n",
        "x_train = x_train/255.0\n",
        "x_test = x_test/255.0 \n",
        "y_train = y_train/255.0"
      ],
      "metadata": {
        "id": "v8iMb6Y1Wcha"
      },
      "execution_count": 34,
      "outputs": []
    },
    {
      "cell_type": "code",
      "source": [
        "x_train.shape"
      ],
      "metadata": {
        "colab": {
          "base_uri": "https://localhost:8080/"
        },
        "id": "9IYfrQknYDMO",
        "outputId": "e7d9a8ea-7230-474b-fe2e-dee15e8ab8d5"
      },
      "execution_count": 23,
      "outputs": [
        {
          "output_type": "execute_result",
          "data": {
            "text/plain": [
              "(60000, 28, 28)"
            ]
          },
          "metadata": {},
          "execution_count": 23
        }
      ]
    },
    {
      "cell_type": "code",
      "source": [
        "y_train.shape"
      ],
      "metadata": {
        "colab": {
          "base_uri": "https://localhost:8080/"
        },
        "id": "OUx7azFpb0O5",
        "outputId": "e8741d97-7ad7-4025-89f7-272944b2bdb6"
      },
      "execution_count": 33,
      "outputs": [
        {
          "output_type": "execute_result",
          "data": {
            "text/plain": [
              "(60000,)"
            ]
          },
          "metadata": {},
          "execution_count": 33
        }
      ]
    },
    {
      "cell_type": "code",
      "source": [
        ""
      ],
      "metadata": {
        "id": "7M2UUymQb1lb"
      },
      "execution_count": null,
      "outputs": []
    },
    {
      "cell_type": "code",
      "source": [
        "#We then create our model \n",
        "model = tf.keras.models.Sequential([ \n",
        "    tf.keras.layers.Dense(300,activation=\"relu\"),\n",
        "    tf.keras.layers.Dense(200,activation=\"relu\"),\n",
        "    tf.keras.layers.Dropout(0.2),\n",
        "    tf.keras.layers.Dense(10)\n",
        "])"
      ],
      "metadata": {
        "id": "C6TuetE5YKAJ"
      },
      "execution_count": 41,
      "outputs": []
    },
    {
      "cell_type": "code",
      "source": [
        ""
      ],
      "metadata": {
        "id": "3LEFpf1Ycx7b"
      },
      "execution_count": null,
      "outputs": []
    },
    {
      "cell_type": "code",
      "source": [
        "model.predict(x_train[0])"
      ],
      "metadata": {
        "id": "JIyE4frFZGW8"
      },
      "execution_count": null,
      "outputs": []
    },
    {
      "cell_type": "code",
      "source": [
        "loss_fn = tf.keras.losses.SparseCategoricalCrossentropy(from_logits=True)\n"
      ],
      "metadata": {
        "id": "iREXokSyZsGK"
      },
      "execution_count": 37,
      "outputs": []
    },
    {
      "cell_type": "code",
      "source": [
        "model.compile(loss=loss_fn, optimizer='sgd', metrics=['accuracy'])"
      ],
      "metadata": {
        "id": "39HQkNwcadhk"
      },
      "execution_count": 38,
      "outputs": []
    },
    {
      "cell_type": "code",
      "source": [
        "model.fit(x_train, y_train,epochs=20)"
      ],
      "metadata": {
        "colab": {
          "base_uri": "https://localhost:8080/",
          "height": 784
        },
        "id": "Kdji59OUauqu",
        "outputId": "0ca56746-1e74-4527-aa65-2d57d82beb9f"
      },
      "execution_count": 40,
      "outputs": [
        {
          "output_type": "stream",
          "name": "stdout",
          "text": [
            "Epoch 1/20\n",
            "WARNING:tensorflow:Model was constructed with shape (None, 28) for input KerasTensor(type_spec=TensorSpec(shape=(None, 28), dtype=tf.float32, name='dense_3_input'), name='dense_3_input', description=\"created by layer 'dense_3_input'\"), but it was called on an input with incompatible shape (32, 28, 28).\n"
          ]
        },
        {
          "output_type": "error",
          "ename": "ValueError",
          "evalue": "ignored",
          "traceback": [
            "\u001b[0;31m---------------------------------------------------------------------------\u001b[0m",
            "\u001b[0;31mValueError\u001b[0m                                Traceback (most recent call last)",
            "\u001b[0;32m<ipython-input-40-2f7353781fb1>\u001b[0m in \u001b[0;36m<module>\u001b[0;34m()\u001b[0m\n\u001b[0;32m----> 1\u001b[0;31m \u001b[0mmodel\u001b[0m\u001b[0;34m.\u001b[0m\u001b[0mfit\u001b[0m\u001b[0;34m(\u001b[0m\u001b[0mx_train\u001b[0m\u001b[0;34m,\u001b[0m \u001b[0my_train\u001b[0m\u001b[0;34m,\u001b[0m\u001b[0mepochs\u001b[0m\u001b[0;34m=\u001b[0m\u001b[0;36m20\u001b[0m\u001b[0;34m)\u001b[0m\u001b[0;34m\u001b[0m\u001b[0;34m\u001b[0m\u001b[0m\n\u001b[0m",
            "\u001b[0;32m/usr/local/lib/python3.7/dist-packages/keras/utils/traceback_utils.py\u001b[0m in \u001b[0;36merror_handler\u001b[0;34m(*args, **kwargs)\u001b[0m\n\u001b[1;32m     65\u001b[0m     \u001b[0;32mexcept\u001b[0m \u001b[0mException\u001b[0m \u001b[0;32mas\u001b[0m \u001b[0me\u001b[0m\u001b[0;34m:\u001b[0m  \u001b[0;31m# pylint: disable=broad-except\u001b[0m\u001b[0;34m\u001b[0m\u001b[0;34m\u001b[0m\u001b[0m\n\u001b[1;32m     66\u001b[0m       \u001b[0mfiltered_tb\u001b[0m \u001b[0;34m=\u001b[0m \u001b[0m_process_traceback_frames\u001b[0m\u001b[0;34m(\u001b[0m\u001b[0me\u001b[0m\u001b[0;34m.\u001b[0m\u001b[0m__traceback__\u001b[0m\u001b[0;34m)\u001b[0m\u001b[0;34m\u001b[0m\u001b[0;34m\u001b[0m\u001b[0m\n\u001b[0;32m---> 67\u001b[0;31m       \u001b[0;32mraise\u001b[0m \u001b[0me\u001b[0m\u001b[0;34m.\u001b[0m\u001b[0mwith_traceback\u001b[0m\u001b[0;34m(\u001b[0m\u001b[0mfiltered_tb\u001b[0m\u001b[0;34m)\u001b[0m \u001b[0;32mfrom\u001b[0m \u001b[0;32mNone\u001b[0m\u001b[0;34m\u001b[0m\u001b[0;34m\u001b[0m\u001b[0m\n\u001b[0m\u001b[1;32m     68\u001b[0m     \u001b[0;32mfinally\u001b[0m\u001b[0;34m:\u001b[0m\u001b[0;34m\u001b[0m\u001b[0;34m\u001b[0m\u001b[0m\n\u001b[1;32m     69\u001b[0m       \u001b[0;32mdel\u001b[0m \u001b[0mfiltered_tb\u001b[0m\u001b[0;34m\u001b[0m\u001b[0;34m\u001b[0m\u001b[0m\n",
            "\u001b[0;32m/usr/local/lib/python3.7/dist-packages/tensorflow/python/framework/func_graph.py\u001b[0m in \u001b[0;36mautograph_handler\u001b[0;34m(*args, **kwargs)\u001b[0m\n\u001b[1;32m   1145\u001b[0m           \u001b[0;32mexcept\u001b[0m \u001b[0mException\u001b[0m \u001b[0;32mas\u001b[0m \u001b[0me\u001b[0m\u001b[0;34m:\u001b[0m  \u001b[0;31m# pylint:disable=broad-except\u001b[0m\u001b[0;34m\u001b[0m\u001b[0;34m\u001b[0m\u001b[0m\n\u001b[1;32m   1146\u001b[0m             \u001b[0;32mif\u001b[0m \u001b[0mhasattr\u001b[0m\u001b[0;34m(\u001b[0m\u001b[0me\u001b[0m\u001b[0;34m,\u001b[0m \u001b[0;34m\"ag_error_metadata\"\u001b[0m\u001b[0;34m)\u001b[0m\u001b[0;34m:\u001b[0m\u001b[0;34m\u001b[0m\u001b[0;34m\u001b[0m\u001b[0m\n\u001b[0;32m-> 1147\u001b[0;31m               \u001b[0;32mraise\u001b[0m \u001b[0me\u001b[0m\u001b[0;34m.\u001b[0m\u001b[0mag_error_metadata\u001b[0m\u001b[0;34m.\u001b[0m\u001b[0mto_exception\u001b[0m\u001b[0;34m(\u001b[0m\u001b[0me\u001b[0m\u001b[0;34m)\u001b[0m\u001b[0;34m\u001b[0m\u001b[0;34m\u001b[0m\u001b[0m\n\u001b[0m\u001b[1;32m   1148\u001b[0m             \u001b[0;32melse\u001b[0m\u001b[0;34m:\u001b[0m\u001b[0;34m\u001b[0m\u001b[0;34m\u001b[0m\u001b[0m\n\u001b[1;32m   1149\u001b[0m               \u001b[0;32mraise\u001b[0m\u001b[0;34m\u001b[0m\u001b[0;34m\u001b[0m\u001b[0m\n",
            "\u001b[0;31mValueError\u001b[0m: in user code:\n\n    File \"/usr/local/lib/python3.7/dist-packages/keras/engine/training.py\", line 1021, in train_function  *\n        return step_function(self, iterator)\n    File \"/usr/local/lib/python3.7/dist-packages/keras/engine/training.py\", line 1010, in step_function  **\n        outputs = model.distribute_strategy.run(run_step, args=(data,))\n    File \"/usr/local/lib/python3.7/dist-packages/keras/engine/training.py\", line 1000, in run_step  **\n        outputs = model.train_step(data)\n    File \"/usr/local/lib/python3.7/dist-packages/keras/engine/training.py\", line 860, in train_step\n        loss = self.compute_loss(x, y, y_pred, sample_weight)\n    File \"/usr/local/lib/python3.7/dist-packages/keras/engine/training.py\", line 919, in compute_loss\n        y, y_pred, sample_weight, regularization_losses=self.losses)\n    File \"/usr/local/lib/python3.7/dist-packages/keras/engine/compile_utils.py\", line 201, in __call__\n        loss_value = loss_obj(y_t, y_p, sample_weight=sw)\n    File \"/usr/local/lib/python3.7/dist-packages/keras/losses.py\", line 141, in __call__\n        losses = call_fn(y_true, y_pred)\n    File \"/usr/local/lib/python3.7/dist-packages/keras/losses.py\", line 245, in call  **\n        return ag_fn(y_true, y_pred, **self._fn_kwargs)\n    File \"/usr/local/lib/python3.7/dist-packages/keras/losses.py\", line 1863, in sparse_categorical_crossentropy\n        y_true, y_pred, from_logits=from_logits, axis=axis)\n    File \"/usr/local/lib/python3.7/dist-packages/keras/backend.py\", line 5203, in sparse_categorical_crossentropy\n        labels=target, logits=output)\n\n    ValueError: `labels.shape` must equal `logits.shape` except for the last dimension. Received: labels.shape=(32,) and logits.shape=(896, 10)\n"
          ]
        }
      ]
    },
    {
      "cell_type": "code",
      "source": [
        "mnist = tf.keras.datasets.mnist.load_data()"
      ],
      "metadata": {
        "id": "tiAvd1ducH4f"
      },
      "execution_count": 45,
      "outputs": []
    },
    {
      "cell_type": "code",
      "source": [
        "(x_train,y_train),(x_test,y_test) = mnist"
      ],
      "metadata": {
        "id": "y6JRdGbKdWoH"
      },
      "execution_count": 81,
      "outputs": []
    },
    {
      "cell_type": "code",
      "source": [
        ""
      ],
      "metadata": {
        "id": "S9ziUJH4h3_A"
      },
      "execution_count": null,
      "outputs": []
    },
    {
      "cell_type": "code",
      "source": [
        "#Data preprocessing \n",
        "x_train, y_train = x_train /255.0, y_train/255.0"
      ],
      "metadata": {
        "id": "6wufjWBvdfXC"
      },
      "execution_count": 82,
      "outputs": []
    },
    {
      "cell_type": "code",
      "source": [
        "#We create our model using the Sequential API\n",
        "model = tf.keras.models.Sequential([\n",
        "    tf.keras.layers.Flatten(input_shape=x_train[0].shape),\n",
        "    tf.keras.layers.Dense(200,activation='relu'),\n",
        "    tf.keras.layers.Dense(100,activation='relu'),\n",
        "    tf.keras.layers.Dropout(0.2),\n",
        "    tf.keras.layers.Dense(10)\n",
        "])"
      ],
      "metadata": {
        "id": "3JfAsSSBdnBT"
      },
      "execution_count": 83,
      "outputs": []
    },
    {
      "cell_type": "code",
      "source": [
        "predictions = model.predict(x_train[:1])"
      ],
      "metadata": {
        "id": "C70eNMLKeOA_"
      },
      "execution_count": 84,
      "outputs": []
    },
    {
      "cell_type": "code",
      "source": [
        "predictions"
      ],
      "metadata": {
        "colab": {
          "base_uri": "https://localhost:8080/"
        },
        "id": "BdGNzNlZeYhC",
        "outputId": "28e09e9b-ca84-4be6-8d6d-49010d474a34"
      },
      "execution_count": 85,
      "outputs": [
        {
          "output_type": "execute_result",
          "data": {
            "text/plain": [
              "array([[ 0.02741037,  0.251563  ,  0.39566767,  0.19540796,  0.43022215,\n",
              "        -0.25535533,  0.09678513,  0.16245309, -0.08292113, -0.21021605]],\n",
              "      dtype=float32)"
            ]
          },
          "metadata": {},
          "execution_count": 85
        }
      ]
    },
    {
      "cell_type": "code",
      "source": [
        ""
      ],
      "metadata": {
        "id": "sD5epD3qg59f"
      },
      "execution_count": null,
      "outputs": []
    },
    {
      "cell_type": "code",
      "source": [
        "tf.nn.softmax(predictions).numpy()"
      ],
      "metadata": {
        "colab": {
          "base_uri": "https://localhost:8080/"
        },
        "id": "R6Q0KyrygvN8",
        "outputId": "7b66eb70-0a09-45b0-8783-e40f6da251da"
      },
      "execution_count": 86,
      "outputs": [
        {
          "output_type": "execute_result",
          "data": {
            "text/plain": [
              "array([[0.09066521, 0.11344593, 0.13103062, 0.10725094, 0.13563745,\n",
              "        0.06833404, 0.0971784 , 0.10377409, 0.08119407, 0.07148926]],\n",
              "      dtype=float32)"
            ]
          },
          "metadata": {},
          "execution_count": 86
        }
      ]
    },
    {
      "cell_type": "code",
      "source": [
        ""
      ],
      "metadata": {
        "id": "eLa6I7sGg2Lv"
      },
      "execution_count": null,
      "outputs": []
    },
    {
      "cell_type": "code",
      "source": [
        ""
      ],
      "metadata": {
        "id": "GokzAHSbg0Wi"
      },
      "execution_count": null,
      "outputs": []
    },
    {
      "cell_type": "code",
      "source": [
        ""
      ],
      "metadata": {
        "id": "hhs00_zigynL"
      },
      "execution_count": null,
      "outputs": []
    },
    {
      "cell_type": "markdown",
      "source": [
        ""
      ],
      "metadata": {
        "id": "QVMmZLaIgvAY"
      }
    },
    {
      "cell_type": "code",
      "source": [
        "loss_fn = tf.keras.losses.SparseCategoricalCrossentropy(from_logits=True)"
      ],
      "metadata": {
        "id": "qqBcTIxceaGd"
      },
      "execution_count": 56,
      "outputs": []
    },
    {
      "cell_type": "code",
      "source": [
        "loss_fn(y_test[1], predictions).numpy()\n"
      ],
      "metadata": {
        "colab": {
          "base_uri": "https://localhost:8080/"
        },
        "id": "gPlWSa28fTIj",
        "outputId": "55e0e19d-76a4-4547-ae47-e8f3448eb66b"
      },
      "execution_count": 87,
      "outputs": [
        {
          "output_type": "execute_result",
          "data": {
            "text/plain": [
              "2.0323243"
            ]
          },
          "metadata": {},
          "execution_count": 87
        }
      ]
    },
    {
      "cell_type": "code",
      "source": [
        ""
      ],
      "metadata": {
        "id": "4fEbB0mfhHhd"
      },
      "execution_count": null,
      "outputs": []
    },
    {
      "cell_type": "code",
      "source": [
        "#We define the hyperparameters\n",
        "model.compile(loss=loss_fn,optimizer=\"adam\", metrics=['accuracy'])"
      ],
      "metadata": {
        "id": "nqWoXAJmfh-h"
      },
      "execution_count": 88,
      "outputs": []
    },
    {
      "cell_type": "code",
      "source": [
        ""
      ],
      "metadata": {
        "id": "HIHMF64jhNSQ"
      },
      "execution_count": null,
      "outputs": []
    },
    {
      "cell_type": "code",
      "source": [
        "#We train our model\n",
        "model.fit(x_train,y_train, epochs=20)"
      ],
      "metadata": {
        "colab": {
          "base_uri": "https://localhost:8080/"
        },
        "id": "rCQR618Cf-lX",
        "outputId": "416abb55-31cb-4a4c-e28b-0aea143fb256"
      },
      "execution_count": 90,
      "outputs": [
        {
          "output_type": "stream",
          "name": "stdout",
          "text": [
            "Epoch 1/20\n",
            "1875/1875 [==============================] - 11s 5ms/step - loss: 0.0046 - accuracy: 0.0987\n",
            "Epoch 2/20\n",
            "1875/1875 [==============================] - 8s 4ms/step - loss: 9.0327e-07 - accuracy: 0.0987\n",
            "Epoch 3/20\n",
            "1875/1875 [==============================] - 7s 4ms/step - loss: 1.0100e-07 - accuracy: 0.0987\n",
            "Epoch 4/20\n",
            "1875/1875 [==============================] - 7s 4ms/step - loss: 2.3587e-08 - accuracy: 0.0987\n",
            "Epoch 5/20\n",
            "1875/1875 [==============================] - 7s 4ms/step - loss: 7.0768e-09 - accuracy: 0.0987\n",
            "Epoch 6/20\n",
            "1875/1875 [==============================] - 7s 4ms/step - loss: 1.8934e-09 - accuracy: 0.0987\n",
            "Epoch 7/20\n",
            "1875/1875 [==============================] - 7s 4ms/step - loss: 1.8914e-09 - accuracy: 0.0987\n",
            "Epoch 8/20\n",
            "1875/1875 [==============================] - 7s 4ms/step - loss: 6.8943e-10 - accuracy: 0.0987\n",
            "Epoch 9/20\n",
            "1875/1875 [==============================] - 7s 4ms/step - loss: 3.0001e-10 - accuracy: 0.0987\n",
            "Epoch 10/20\n",
            "1875/1875 [==============================] - 7s 4ms/step - loss: 1.4504e-10 - accuracy: 0.0987\n",
            "Epoch 11/20\n",
            "1875/1875 [==============================] - 7s 4ms/step - loss: 1.2914e-10 - accuracy: 0.0987\n",
            "Epoch 12/20\n",
            "1875/1875 [==============================] - 7s 4ms/step - loss: 8.3446e-11 - accuracy: 0.0987\n",
            "Epoch 13/20\n",
            "1875/1875 [==============================] - 7s 4ms/step - loss: 1.4702e-10 - accuracy: 0.0987\n",
            "Epoch 14/20\n",
            "1875/1875 [==============================] - 7s 4ms/step - loss: 1.1325e-10 - accuracy: 0.0987\n",
            "Epoch 15/20\n",
            "1875/1875 [==============================] - 7s 4ms/step - loss: 1.7881e-11 - accuracy: 0.0987\n",
            "Epoch 16/20\n",
            "1875/1875 [==============================] - 7s 4ms/step - loss: 1.9868e-11 - accuracy: 0.0987\n",
            "Epoch 17/20\n",
            "1875/1875 [==============================] - 7s 4ms/step - loss: 1.3908e-11 - accuracy: 0.0987\n",
            "Epoch 18/20\n",
            "1875/1875 [==============================] - 7s 4ms/step - loss: 1.3908e-11 - accuracy: 0.0987\n",
            "Epoch 19/20\n",
            "1875/1875 [==============================] - 7s 4ms/step - loss: 4.7684e-11 - accuracy: 0.0987\n",
            "Epoch 20/20\n",
            "1875/1875 [==============================] - 7s 4ms/step - loss: 0.0000e+00 - accuracy: 0.0987\n"
          ]
        },
        {
          "output_type": "execute_result",
          "data": {
            "text/plain": [
              "<keras.callbacks.History at 0x7f5f47316410>"
            ]
          },
          "metadata": {},
          "execution_count": 90
        }
      ]
    },
    {
      "cell_type": "code",
      "source": [
        "model.save(\"MyModel.h5\")"
      ],
      "metadata": {
        "id": "ZzZFy0M4iCKz"
      },
      "execution_count": 91,
      "outputs": []
    },
    {
      "cell_type": "code",
      "source": [
        "#Loading the model\n",
        "model = tf.keras.models.load_model(\"MyModel.h5\")"
      ],
      "metadata": {
        "id": "HrkZdj_viqya"
      },
      "execution_count": 94,
      "outputs": []
    },
    {
      "cell_type": "code",
      "source": [
        "#The model.fit method accepts callback arguments that lets you specify a list of objects that keras will call during , before and after training\n",
        "#The checkpoint callback saves checkpoints of your model at the end of each interval during training\n",
        "checkPoint_cb = tf.keras.callbacks.ModelCheckpoint(\"MyModel.h5\")"
      ],
      "metadata": {
        "id": "KxKqyT06jHar"
      },
      "execution_count": 96,
      "outputs": []
    },
    {
      "cell_type": "code",
      "source": [
        "#We train and pass in the callback\n",
        "history = model.fit(x_train,y_train, callbacks=[checkPoint_cb], epochs=10)\n",
        "##REPEAT THE TRAINING AND SAVING THE MODEL THEN PRINT PAPERS AT THE CYBER"
      ],
      "metadata": {
        "colab": {
          "base_uri": "https://localhost:8080/"
        },
        "id": "LlTxxc9wldZw",
        "outputId": "b3d457ce-bb94-4c57-d401-5492e82da492"
      },
      "execution_count": 97,
      "outputs": [
        {
          "output_type": "stream",
          "name": "stdout",
          "text": [
            "1875/1875 [==============================] - 11s 6ms/step - loss: 1.5895e-11 - accuracy: 0.0987\n"
          ]
        }
      ]
    },
    {
      "cell_type": "code",
      "source": [
        ""
      ],
      "metadata": {
        "id": "-She1sp6lr4w"
      },
      "execution_count": null,
      "outputs": []
    },
    {
      "cell_type": "code",
      "source": [
        ""
      ],
      "metadata": {
        "id": "1VjY96BzlXuU"
      },
      "execution_count": null,
      "outputs": []
    },
    {
      "cell_type": "code",
      "source": [
        ""
      ],
      "metadata": {
        "id": "5hvrpvdFjFR_"
      },
      "execution_count": null,
      "outputs": []
    },
    {
      "cell_type": "code",
      "source": [
        ""
      ],
      "metadata": {
        "id": "UqZtyTAzjCR2"
      },
      "execution_count": null,
      "outputs": []
    },
    {
      "cell_type": "code",
      "source": [
        ""
      ],
      "metadata": {
        "id": "ezrGN1tfgkpH"
      },
      "execution_count": null,
      "outputs": []
    },
    {
      "cell_type": "code",
      "source": [
        ""
      ],
      "metadata": {
        "id": "PRoviPc_giC6"
      },
      "execution_count": null,
      "outputs": []
    },
    {
      "cell_type": "code",
      "source": [
        ""
      ],
      "metadata": {
        "id": "glzpa6eBgf76"
      },
      "execution_count": null,
      "outputs": []
    },
    {
      "cell_type": "code",
      "source": [
        ""
      ],
      "metadata": {
        "id": "1i1kDAVhgZoi"
      },
      "execution_count": null,
      "outputs": []
    },
    {
      "cell_type": "code",
      "source": [
        ""
      ],
      "metadata": {
        "id": "clnDgoQDgUgO"
      },
      "execution_count": null,
      "outputs": []
    },
    {
      "cell_type": "code",
      "source": [
        ""
      ],
      "metadata": {
        "id": "s4ehXMM-gIsA"
      },
      "execution_count": null,
      "outputs": []
    },
    {
      "cell_type": "code",
      "source": [
        ""
      ],
      "metadata": {
        "id": "DKf1t7bYf6rP"
      },
      "execution_count": null,
      "outputs": []
    },
    {
      "cell_type": "code",
      "source": [
        "model"
      ],
      "metadata": {
        "id": "M58QPmk7f11s"
      },
      "execution_count": null,
      "outputs": []
    },
    {
      "cell_type": "code",
      "source": [
        ""
      ],
      "metadata": {
        "id": "KGGLdMkgfdM4"
      },
      "execution_count": null,
      "outputs": []
    },
    {
      "cell_type": "code",
      "source": [
        ""
      ],
      "metadata": {
        "id": "xGSAfC8vfZJ5"
      },
      "execution_count": null,
      "outputs": []
    },
    {
      "cell_type": "code",
      "source": [
        ""
      ],
      "metadata": {
        "id": "5Msf_-MhfWb8"
      },
      "execution_count": null,
      "outputs": []
    },
    {
      "cell_type": "code",
      "source": [
        ""
      ],
      "metadata": {
        "id": "pFyZfrW_eycJ"
      },
      "execution_count": null,
      "outputs": []
    },
    {
      "cell_type": "code",
      "source": [
        ""
      ],
      "metadata": {
        "id": "OaiY62mFewb2"
      },
      "execution_count": null,
      "outputs": []
    },
    {
      "cell_type": "code",
      "source": [
        ""
      ],
      "metadata": {
        "id": "3xws5c-8bom4"
      },
      "execution_count": null,
      "outputs": []
    },
    {
      "cell_type": "code",
      "source": [
        ""
      ],
      "metadata": {
        "id": "lXpM-JRnbhUE"
      },
      "execution_count": null,
      "outputs": []
    },
    {
      "cell_type": "code",
      "source": [
        ""
      ],
      "metadata": {
        "id": "NS-tIOLsacQS"
      },
      "execution_count": null,
      "outputs": []
    },
    {
      "cell_type": "code",
      "source": [
        ""
      ],
      "metadata": {
        "id": "plCzuAWvXwLX"
      },
      "execution_count": null,
      "outputs": []
    },
    {
      "cell_type": "code",
      "source": [
        ""
      ],
      "metadata": {
        "id": "Js062_FdXvSS"
      },
      "execution_count": null,
      "outputs": []
    },
    {
      "cell_type": "code",
      "source": [
        ""
      ],
      "metadata": {
        "id": "F6OEK8OcXuGe"
      },
      "execution_count": null,
      "outputs": []
    },
    {
      "cell_type": "code",
      "source": [
        ""
      ],
      "metadata": {
        "id": "GD_CUYz5XAAe"
      },
      "execution_count": null,
      "outputs": []
    },
    {
      "cell_type": "code",
      "source": [
        ""
      ],
      "metadata": {
        "id": "vs5YQih2WzR-"
      },
      "execution_count": null,
      "outputs": []
    },
    {
      "cell_type": "code",
      "source": [
        ""
      ],
      "metadata": {
        "id": "wXbebcB2WUVL"
      },
      "execution_count": null,
      "outputs": []
    },
    {
      "cell_type": "code",
      "source": [
        ""
      ],
      "metadata": {
        "id": "4hFMceMHWSS9"
      },
      "execution_count": null,
      "outputs": []
    },
    {
      "cell_type": "code",
      "source": [
        ""
      ],
      "metadata": {
        "id": "4avty7gXWNJP"
      },
      "execution_count": null,
      "outputs": []
    },
    {
      "cell_type": "code",
      "source": [
        ""
      ],
      "metadata": {
        "id": "7wCEO-AvVN2F"
      },
      "execution_count": null,
      "outputs": []
    },
    {
      "cell_type": "code",
      "source": [
        ""
      ],
      "metadata": {
        "id": "rC4f0MXVVJ7_"
      },
      "execution_count": null,
      "outputs": []
    },
    {
      "cell_type": "code",
      "source": [
        ""
      ],
      "metadata": {
        "id": "PFci8WxkUCTL"
      },
      "execution_count": null,
      "outputs": []
    },
    {
      "cell_type": "code",
      "source": [
        ""
      ],
      "metadata": {
        "id": "4v04DDC9UBXV"
      },
      "execution_count": null,
      "outputs": []
    },
    {
      "cell_type": "code",
      "source": [
        ""
      ],
      "metadata": {
        "id": "o-dqgNetTuP2"
      },
      "execution_count": null,
      "outputs": []
    },
    {
      "cell_type": "code",
      "source": [
        ""
      ],
      "metadata": {
        "id": "2IfZbU18TrJu"
      },
      "execution_count": null,
      "outputs": []
    },
    {
      "cell_type": "code",
      "source": [
        ""
      ],
      "metadata": {
        "id": "UUcIOYI6Tkmp"
      },
      "execution_count": null,
      "outputs": []
    },
    {
      "cell_type": "code",
      "source": [
        ""
      ],
      "metadata": {
        "id": "hTIKyiuGBXmm"
      },
      "execution_count": null,
      "outputs": []
    },
    {
      "cell_type": "code",
      "source": [
        ""
      ],
      "metadata": {
        "id": "5rlElO_RBU-g"
      },
      "execution_count": null,
      "outputs": []
    },
    {
      "cell_type": "code",
      "execution_count": null,
      "metadata": {
        "id": "Unj_oNzXu3Nd"
      },
      "outputs": [],
      "source": [
        ""
      ]
    },
    {
      "cell_type": "code",
      "execution_count": null,
      "metadata": {
        "id": "cbv7uVk4unMv"
      },
      "outputs": [],
      "source": [
        ""
      ]
    },
    {
      "cell_type": "code",
      "execution_count": null,
      "metadata": {
        "id": "gr3er8Gbj_4G"
      },
      "outputs": [],
      "source": [
        ""
      ]
    },
    {
      "cell_type": "code",
      "execution_count": null,
      "metadata": {
        "id": "Yq2mpaINj-s_"
      },
      "outputs": [],
      "source": [
        ""
      ]
    },
    {
      "cell_type": "code",
      "execution_count": null,
      "metadata": {
        "id": "SWil1tpZj4cU"
      },
      "outputs": [],
      "source": [
        ""
      ]
    },
    {
      "cell_type": "code",
      "execution_count": null,
      "metadata": {
        "id": "3Oj2-C23fR0x"
      },
      "outputs": [],
      "source": [
        ""
      ]
    },
    {
      "cell_type": "code",
      "execution_count": null,
      "metadata": {
        "id": "cusVPU0jc0OG"
      },
      "outputs": [],
      "source": [
        ""
      ]
    },
    {
      "cell_type": "code",
      "execution_count": null,
      "metadata": {
        "id": "PsxqCQgXcw9U"
      },
      "outputs": [],
      "source": [
        ""
      ]
    },
    {
      "cell_type": "code",
      "execution_count": null,
      "metadata": {
        "id": "shuAlBcecstO"
      },
      "outputs": [],
      "source": [
        ""
      ]
    },
    {
      "cell_type": "code",
      "execution_count": null,
      "metadata": {
        "id": "spUAA6k9ce5u"
      },
      "outputs": [],
      "source": [
        ""
      ]
    },
    {
      "cell_type": "code",
      "execution_count": null,
      "metadata": {
        "id": "GpFAyhJ6cLH0"
      },
      "outputs": [],
      "source": [
        ""
      ]
    },
    {
      "cell_type": "code",
      "execution_count": null,
      "metadata": {
        "id": "b1kQ6fJKcHHo"
      },
      "outputs": [],
      "source": [
        ""
      ]
    },
    {
      "cell_type": "code",
      "execution_count": null,
      "metadata": {
        "id": "n6zMm-52sZad"
      },
      "outputs": [],
      "source": [
        ""
      ]
    },
    {
      "cell_type": "code",
      "execution_count": null,
      "metadata": {
        "id": "dp2GlhPqsBYG"
      },
      "outputs": [],
      "source": [
        ""
      ]
    },
    {
      "cell_type": "code",
      "execution_count": null,
      "metadata": {
        "id": "njjJ0Te1r7U2"
      },
      "outputs": [],
      "source": [
        ""
      ]
    },
    {
      "cell_type": "code",
      "execution_count": null,
      "metadata": {
        "id": "dO-EYI-Vrys-"
      },
      "outputs": [],
      "source": [
        ""
      ]
    },
    {
      "cell_type": "code",
      "execution_count": null,
      "metadata": {
        "id": "0nkX-feTrVyN"
      },
      "outputs": [],
      "source": [
        ""
      ]
    },
    {
      "cell_type": "code",
      "execution_count": null,
      "metadata": {
        "id": "bYFlr8Hjqn_o"
      },
      "outputs": [],
      "source": [
        ""
      ]
    },
    {
      "cell_type": "code",
      "execution_count": null,
      "metadata": {
        "id": "SDZdNDRbqiPE"
      },
      "outputs": [],
      "source": [
        ""
      ]
    },
    {
      "cell_type": "code",
      "execution_count": null,
      "metadata": {
        "id": "hSM01cnbqWaM"
      },
      "outputs": [],
      "source": [
        ""
      ]
    },
    {
      "cell_type": "code",
      "execution_count": null,
      "metadata": {
        "id": "KMT2P0L8pRas"
      },
      "outputs": [],
      "source": [
        ""
      ]
    },
    {
      "cell_type": "code",
      "execution_count": null,
      "metadata": {
        "id": "3oJWXR_hpDt1"
      },
      "outputs": [],
      "source": [
        ""
      ]
    },
    {
      "cell_type": "code",
      "execution_count": null,
      "metadata": {
        "id": "bEB7OfwHo_l3"
      },
      "outputs": [],
      "source": [
        ""
      ]
    },
    {
      "cell_type": "code",
      "execution_count": null,
      "metadata": {
        "id": "g12IcI8to9g8"
      },
      "outputs": [],
      "source": [
        ""
      ]
    },
    {
      "cell_type": "code",
      "execution_count": null,
      "metadata": {
        "id": "Z-Mf15Kdo8gU"
      },
      "outputs": [],
      "source": [
        ""
      ]
    },
    {
      "cell_type": "code",
      "execution_count": null,
      "metadata": {
        "id": "Z4Vco7yAohRW"
      },
      "outputs": [],
      "source": [
        ""
      ]
    },
    {
      "cell_type": "code",
      "execution_count": null,
      "metadata": {
        "id": "aU1eBpYBnOgf"
      },
      "outputs": [],
      "source": [
        ""
      ]
    },
    {
      "cell_type": "code",
      "execution_count": null,
      "metadata": {
        "id": "7CywZ5KInJyu"
      },
      "outputs": [],
      "source": [
        ""
      ]
    },
    {
      "cell_type": "code",
      "execution_count": null,
      "metadata": {
        "id": "SRdc5lY9nHbP"
      },
      "outputs": [],
      "source": [
        ""
      ]
    },
    {
      "cell_type": "code",
      "execution_count": null,
      "metadata": {
        "id": "lt9QrnmvnCOY"
      },
      "outputs": [],
      "source": [
        ""
      ]
    },
    {
      "cell_type": "code",
      "execution_count": null,
      "metadata": {
        "id": "OszxSw-3mjbD"
      },
      "outputs": [],
      "source": [
        ""
      ]
    },
    {
      "cell_type": "code",
      "execution_count": null,
      "metadata": {
        "id": "0IB342lalsAu"
      },
      "outputs": [],
      "source": [
        ""
      ]
    },
    {
      "cell_type": "code",
      "execution_count": null,
      "metadata": {
        "id": "ug6ohaYolqKN"
      },
      "outputs": [],
      "source": [
        ""
      ]
    },
    {
      "cell_type": "code",
      "execution_count": null,
      "metadata": {
        "id": "C9XMn5Ywljf_"
      },
      "outputs": [],
      "source": [
        ""
      ]
    },
    {
      "cell_type": "code",
      "execution_count": null,
      "metadata": {
        "id": "gLDLe9t6lYgR"
      },
      "outputs": [],
      "source": [
        ""
      ]
    },
    {
      "cell_type": "code",
      "execution_count": null,
      "metadata": {
        "id": "XZVvHYCJlU2P"
      },
      "outputs": [],
      "source": [
        ""
      ]
    },
    {
      "cell_type": "code",
      "execution_count": null,
      "metadata": {
        "id": "Fv-Yjqmrjrup"
      },
      "outputs": [],
      "source": [
        ""
      ]
    },
    {
      "cell_type": "code",
      "execution_count": null,
      "metadata": {
        "id": "Uc7g14sCjLZ3"
      },
      "outputs": [],
      "source": [
        ""
      ]
    },
    {
      "cell_type": "code",
      "execution_count": null,
      "metadata": {
        "id": "migcOUzviynN"
      },
      "outputs": [],
      "source": [
        ""
      ]
    },
    {
      "cell_type": "code",
      "execution_count": null,
      "metadata": {
        "id": "Qu5YHAU6iuYd"
      },
      "outputs": [],
      "source": [
        ""
      ]
    },
    {
      "cell_type": "code",
      "execution_count": null,
      "metadata": {
        "id": "Bv4d21OCin32"
      },
      "outputs": [],
      "source": [
        ""
      ]
    },
    {
      "cell_type": "code",
      "execution_count": null,
      "metadata": {
        "id": "spbfc55eiii5"
      },
      "outputs": [],
      "source": [
        ""
      ]
    },
    {
      "cell_type": "code",
      "execution_count": null,
      "metadata": {
        "id": "nRwf0kDQidZ7"
      },
      "outputs": [],
      "source": [
        ""
      ]
    },
    {
      "cell_type": "code",
      "execution_count": null,
      "metadata": {
        "id": "I2vl81CviUcT"
      },
      "outputs": [],
      "source": [
        ""
      ]
    },
    {
      "cell_type": "code",
      "execution_count": null,
      "metadata": {
        "id": "fIgy3Bbog3L-"
      },
      "outputs": [],
      "source": [
        ""
      ]
    },
    {
      "cell_type": "code",
      "execution_count": null,
      "metadata": {
        "id": "H52Lfo8Fgw8c"
      },
      "outputs": [],
      "source": [
        ""
      ]
    },
    {
      "cell_type": "code",
      "execution_count": null,
      "metadata": {
        "id": "I3BpqF1HgWA6"
      },
      "outputs": [],
      "source": [
        ""
      ]
    },
    {
      "cell_type": "code",
      "execution_count": null,
      "metadata": {
        "id": "hw79Fl4ygRM3"
      },
      "outputs": [],
      "source": [
        ""
      ]
    },
    {
      "cell_type": "code",
      "execution_count": null,
      "metadata": {
        "id": "ZvZudBKvgLY_"
      },
      "outputs": [],
      "source": [
        ""
      ]
    },
    {
      "cell_type": "code",
      "execution_count": null,
      "metadata": {
        "id": "a0scvOHwf1bG"
      },
      "outputs": [],
      "source": [
        ""
      ]
    },
    {
      "cell_type": "code",
      "execution_count": null,
      "metadata": {
        "id": "Fv8mAkfjHBxz"
      },
      "outputs": [],
      "source": [
        ""
      ]
    },
    {
      "cell_type": "code",
      "execution_count": null,
      "metadata": {
        "id": "RacvJrzoCVcB"
      },
      "outputs": [],
      "source": [
        ""
      ]
    },
    {
      "cell_type": "code",
      "execution_count": null,
      "metadata": {
        "id": "R6MK-dAh_F04"
      },
      "outputs": [],
      "source": [
        ""
      ]
    },
    {
      "cell_type": "code",
      "execution_count": null,
      "metadata": {
        "id": "ZCbqAYIG_CcS"
      },
      "outputs": [],
      "source": [
        ""
      ]
    },
    {
      "cell_type": "code",
      "execution_count": null,
      "metadata": {
        "id": "Hj79pJaZ-wW-"
      },
      "outputs": [],
      "source": [
        ""
      ]
    },
    {
      "cell_type": "code",
      "execution_count": null,
      "metadata": {
        "id": "kWrFK17b87G1"
      },
      "outputs": [],
      "source": [
        ""
      ]
    },
    {
      "cell_type": "code",
      "execution_count": null,
      "metadata": {
        "id": "a936LHKi84ns"
      },
      "outputs": [],
      "source": [
        ""
      ]
    },
    {
      "cell_type": "code",
      "execution_count": null,
      "metadata": {
        "id": "UQdVdKox8z_Y"
      },
      "outputs": [],
      "source": [
        ""
      ]
    },
    {
      "cell_type": "code",
      "execution_count": null,
      "metadata": {
        "id": "iSsFF-XazhJ3"
      },
      "outputs": [],
      "source": [
        ""
      ]
    },
    {
      "cell_type": "code",
      "execution_count": null,
      "metadata": {
        "id": "OwZCS0NDzBf0"
      },
      "outputs": [],
      "source": [
        ""
      ]
    },
    {
      "cell_type": "code",
      "execution_count": null,
      "metadata": {
        "id": "_dQ9SuyHwSIU"
      },
      "outputs": [],
      "source": [
        ""
      ]
    },
    {
      "cell_type": "code",
      "execution_count": null,
      "metadata": {
        "id": "jGnJyyjDwGX_"
      },
      "outputs": [],
      "source": [
        ""
      ]
    },
    {
      "cell_type": "code",
      "execution_count": null,
      "metadata": {
        "id": "GtG6Yd9gvpI3"
      },
      "outputs": [],
      "source": [
        ""
      ]
    },
    {
      "cell_type": "code",
      "execution_count": null,
      "metadata": {
        "id": "xEM-lIiuo6p4"
      },
      "outputs": [],
      "source": [
        ""
      ]
    },
    {
      "cell_type": "code",
      "execution_count": null,
      "metadata": {
        "id": "dE-GM6QFoySN"
      },
      "outputs": [],
      "source": [
        ""
      ]
    },
    {
      "cell_type": "code",
      "execution_count": null,
      "metadata": {
        "id": "WnvyW4FEosn3"
      },
      "outputs": [],
      "source": [
        ""
      ]
    },
    {
      "cell_type": "code",
      "execution_count": null,
      "metadata": {
        "id": "PTtmjYkloeqV"
      },
      "outputs": [],
      "source": [
        ""
      ]
    },
    {
      "cell_type": "code",
      "execution_count": null,
      "metadata": {
        "id": "Q_B0RZ2zn4tb"
      },
      "outputs": [],
      "source": [
        ""
      ]
    },
    {
      "cell_type": "code",
      "execution_count": null,
      "metadata": {
        "id": "nsN0ebMEnxQI"
      },
      "outputs": [],
      "source": [
        ""
      ]
    },
    {
      "cell_type": "code",
      "execution_count": null,
      "metadata": {
        "id": "SvLAigG-nmA9"
      },
      "outputs": [],
      "source": [
        ""
      ]
    },
    {
      "cell_type": "code",
      "execution_count": null,
      "metadata": {
        "id": "VS3Won7jnbXi"
      },
      "outputs": [],
      "source": [
        ""
      ]
    },
    {
      "cell_type": "code",
      "execution_count": null,
      "metadata": {
        "id": "HLhrfRhmnMyk"
      },
      "outputs": [],
      "source": [
        ""
      ]
    },
    {
      "cell_type": "code",
      "execution_count": null,
      "metadata": {
        "id": "kCZUCm0tnH0A"
      },
      "outputs": [],
      "source": [
        ""
      ]
    },
    {
      "cell_type": "code",
      "execution_count": null,
      "metadata": {
        "id": "kcNLZcoRmmWC"
      },
      "outputs": [],
      "source": [
        ""
      ]
    },
    {
      "cell_type": "code",
      "execution_count": null,
      "metadata": {
        "id": "V2qfPQg6lkbO"
      },
      "outputs": [],
      "source": [
        ""
      ]
    },
    {
      "cell_type": "code",
      "execution_count": null,
      "metadata": {
        "id": "vJQh0c1QlhKz"
      },
      "outputs": [],
      "source": [
        ""
      ]
    },
    {
      "cell_type": "code",
      "execution_count": null,
      "metadata": {
        "id": "UNHGqH_lezpq"
      },
      "outputs": [],
      "source": [
        ""
      ]
    },
    {
      "cell_type": "code",
      "execution_count": null,
      "metadata": {
        "id": "YnOkrDHRcmRY"
      },
      "outputs": [],
      "source": [
        ""
      ]
    },
    {
      "cell_type": "code",
      "execution_count": null,
      "metadata": {
        "id": "kNKeMhDvbWw7"
      },
      "outputs": [],
      "source": [
        ""
      ]
    },
    {
      "cell_type": "code",
      "execution_count": null,
      "metadata": {
        "id": "IGesRxEcau6Y"
      },
      "outputs": [],
      "source": [
        ""
      ]
    },
    {
      "cell_type": "code",
      "execution_count": null,
      "metadata": {
        "id": "76JsgWl3alIu"
      },
      "outputs": [],
      "source": [
        ""
      ]
    },
    {
      "cell_type": "code",
      "execution_count": null,
      "metadata": {
        "id": "SdVscIpmaMnr"
      },
      "outputs": [],
      "source": [
        ""
      ]
    },
    {
      "cell_type": "code",
      "execution_count": null,
      "metadata": {
        "id": "yNssRpn7aJ-5"
      },
      "outputs": [],
      "source": [
        ""
      ]
    },
    {
      "cell_type": "code",
      "execution_count": null,
      "metadata": {
        "id": "QZ2Zu9qJZ8NY"
      },
      "outputs": [],
      "source": [
        ""
      ]
    },
    {
      "cell_type": "code",
      "execution_count": null,
      "metadata": {
        "id": "xwzfrRlBZ59p"
      },
      "outputs": [],
      "source": [
        ""
      ]
    },
    {
      "cell_type": "code",
      "execution_count": null,
      "metadata": {
        "id": "Mtc4LRgiZUNV"
      },
      "outputs": [],
      "source": [
        ""
      ]
    },
    {
      "cell_type": "code",
      "execution_count": null,
      "metadata": {
        "id": "FDfIopU8ZMft"
      },
      "outputs": [],
      "source": [
        ""
      ]
    },
    {
      "cell_type": "code",
      "execution_count": null,
      "metadata": {
        "id": "bCiIPwpuXwMB"
      },
      "outputs": [],
      "source": [
        ""
      ]
    },
    {
      "cell_type": "code",
      "execution_count": null,
      "metadata": {
        "id": "nDmX8yc0XoNp"
      },
      "outputs": [],
      "source": [
        ""
      ]
    },
    {
      "cell_type": "code",
      "execution_count": null,
      "metadata": {
        "id": "gHLPA2BMXlDu"
      },
      "outputs": [],
      "source": [
        ""
      ]
    },
    {
      "cell_type": "code",
      "execution_count": null,
      "metadata": {
        "id": "jheXbZrwWwj5"
      },
      "outputs": [],
      "source": [
        ""
      ]
    },
    {
      "cell_type": "code",
      "execution_count": null,
      "metadata": {
        "id": "vgCJrhPcWlfa"
      },
      "outputs": [],
      "source": [
        ""
      ]
    },
    {
      "cell_type": "code",
      "execution_count": null,
      "metadata": {
        "id": "KACgbHzFWh8j"
      },
      "outputs": [],
      "source": [
        ""
      ]
    },
    {
      "cell_type": "code",
      "execution_count": null,
      "metadata": {
        "id": "xXKaPzLBRjRV"
      },
      "outputs": [],
      "source": [
        ""
      ]
    },
    {
      "cell_type": "code",
      "execution_count": null,
      "metadata": {
        "id": "8dBqFdk8Rg3Z"
      },
      "outputs": [],
      "source": [
        ""
      ]
    },
    {
      "cell_type": "code",
      "execution_count": null,
      "metadata": {
        "id": "09F15KIcQZBo"
      },
      "outputs": [],
      "source": [
        ""
      ]
    },
    {
      "cell_type": "code",
      "execution_count": null,
      "metadata": {
        "id": "BwCED1MvQSBf"
      },
      "outputs": [],
      "source": [
        ""
      ]
    },
    {
      "cell_type": "code",
      "execution_count": null,
      "metadata": {
        "id": "_G3BG-zJP2KK"
      },
      "outputs": [],
      "source": [
        ""
      ]
    },
    {
      "cell_type": "code",
      "execution_count": null,
      "metadata": {
        "id": "uTxOK9DeP1An"
      },
      "outputs": [],
      "source": [
        ""
      ]
    },
    {
      "cell_type": "code",
      "execution_count": null,
      "metadata": {
        "id": "NKH5rvJSPxIT"
      },
      "outputs": [],
      "source": [
        ""
      ]
    },
    {
      "cell_type": "code",
      "execution_count": null,
      "metadata": {
        "id": "585sHcPvPszK"
      },
      "outputs": [],
      "source": [
        ""
      ]
    },
    {
      "cell_type": "code",
      "execution_count": null,
      "metadata": {
        "id": "3lCnfLwlN1PQ"
      },
      "outputs": [],
      "source": [
        ""
      ]
    },
    {
      "cell_type": "code",
      "execution_count": null,
      "metadata": {
        "id": "Fqv37myoNnmo"
      },
      "outputs": [],
      "source": [
        ""
      ]
    },
    {
      "cell_type": "code",
      "execution_count": null,
      "metadata": {
        "id": "Wv61ROWDNkXB"
      },
      "outputs": [],
      "source": [
        ""
      ]
    },
    {
      "cell_type": "code",
      "execution_count": null,
      "metadata": {
        "id": "8DFYK6M63fOZ"
      },
      "outputs": [],
      "source": [
        ""
      ]
    },
    {
      "cell_type": "code",
      "execution_count": null,
      "metadata": {
        "id": "ENnWNBiT2Ipj"
      },
      "outputs": [],
      "source": [
        ""
      ]
    },
    {
      "cell_type": "code",
      "execution_count": null,
      "metadata": {
        "id": "TvblCeM-2Go2"
      },
      "outputs": [],
      "source": [
        ""
      ]
    },
    {
      "cell_type": "code",
      "execution_count": null,
      "metadata": {
        "id": "R00YGqlk2DcE"
      },
      "outputs": [],
      "source": [
        ""
      ]
    },
    {
      "cell_type": "code",
      "execution_count": null,
      "metadata": {
        "id": "FzDpNyOO1pdZ"
      },
      "outputs": [],
      "source": [
        ""
      ]
    },
    {
      "cell_type": "code",
      "execution_count": null,
      "metadata": {
        "id": "hRkwZ3hf02iH"
      },
      "outputs": [],
      "source": [
        ""
      ]
    },
    {
      "cell_type": "code",
      "execution_count": null,
      "metadata": {
        "id": "lXEaHJBQ0x_G"
      },
      "outputs": [],
      "source": [
        ""
      ]
    },
    {
      "cell_type": "code",
      "execution_count": null,
      "metadata": {
        "id": "NZl1vIV00p8n"
      },
      "outputs": [],
      "source": [
        ""
      ]
    },
    {
      "cell_type": "code",
      "execution_count": null,
      "metadata": {
        "id": "35TOY4kZzkp6"
      },
      "outputs": [],
      "source": [
        ""
      ]
    },
    {
      "cell_type": "code",
      "execution_count": null,
      "metadata": {
        "id": "YVmZLksizhLh"
      },
      "outputs": [],
      "source": [
        ""
      ]
    },
    {
      "cell_type": "code",
      "execution_count": null,
      "metadata": {
        "id": "zxe-C-CXzSKW"
      },
      "outputs": [],
      "source": [
        ""
      ]
    },
    {
      "cell_type": "code",
      "execution_count": null,
      "metadata": {
        "id": "VBS68wdQy7Nw"
      },
      "outputs": [],
      "source": [
        ""
      ]
    },
    {
      "cell_type": "code",
      "execution_count": null,
      "metadata": {
        "id": "1HD6o-Msy5ML"
      },
      "outputs": [],
      "source": [
        ""
      ]
    },
    {
      "cell_type": "code",
      "execution_count": null,
      "metadata": {
        "id": "r65tTDnhyGgB"
      },
      "outputs": [],
      "source": [
        ""
      ]
    },
    {
      "cell_type": "code",
      "execution_count": null,
      "metadata": {
        "id": "eda6bppdyD1c"
      },
      "outputs": [],
      "source": [
        ""
      ]
    },
    {
      "cell_type": "code",
      "execution_count": null,
      "metadata": {
        "id": "40BXUt1TpkYo"
      },
      "outputs": [],
      "source": [
        ""
      ]
    },
    {
      "cell_type": "code",
      "execution_count": null,
      "metadata": {
        "id": "KTuqVK7ape9M"
      },
      "outputs": [],
      "source": [
        ""
      ]
    },
    {
      "cell_type": "code",
      "execution_count": null,
      "metadata": {
        "id": "YC1D2tggou4x"
      },
      "outputs": [],
      "source": [
        ""
      ]
    },
    {
      "cell_type": "code",
      "execution_count": null,
      "metadata": {
        "id": "rXdbHl5UoqDH"
      },
      "outputs": [],
      "source": [
        ""
      ]
    },
    {
      "cell_type": "code",
      "execution_count": null,
      "metadata": {
        "id": "D60gLjmwojpk"
      },
      "outputs": [],
      "source": [
        ""
      ]
    },
    {
      "cell_type": "code",
      "execution_count": null,
      "metadata": {
        "id": "rTO7d_aVn0Sd"
      },
      "outputs": [],
      "source": [
        ""
      ]
    },
    {
      "cell_type": "code",
      "execution_count": null,
      "metadata": {
        "id": "pTEgufPmnv3A"
      },
      "outputs": [],
      "source": [
        ""
      ]
    },
    {
      "cell_type": "code",
      "execution_count": null,
      "metadata": {
        "id": "OkfMzrqtmbbu"
      },
      "outputs": [],
      "source": [
        ""
      ]
    },
    {
      "cell_type": "code",
      "execution_count": null,
      "metadata": {
        "id": "Q0_j1sZhlvwT"
      },
      "outputs": [],
      "source": [
        ""
      ]
    },
    {
      "cell_type": "code",
      "execution_count": null,
      "metadata": {
        "id": "s8N8P50sllwr"
      },
      "outputs": [],
      "source": [
        ""
      ]
    },
    {
      "cell_type": "code",
      "execution_count": null,
      "metadata": {
        "id": "ta2ESqN2lB16"
      },
      "outputs": [],
      "source": [
        ""
      ]
    }
  ],
  "metadata": {
    "colab": {
      "collapsed_sections": [],
      "name": "Logistic Regression.ipynb",
      "provenance": [],
      "authorship_tag": "ABX9TyMqMnabwKznGNoarOnX1waL",
      "include_colab_link": true
    },
    "kernelspec": {
      "display_name": "Python 3",
      "name": "python3"
    },
    "language_info": {
      "name": "python"
    }
  },
  "nbformat": 4,
  "nbformat_minor": 0
}