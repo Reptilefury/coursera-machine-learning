{
  "cells": [
    {
      "cell_type": "markdown",
      "metadata": {
        "id": "view-in-github",
        "colab_type": "text"
      },
      "source": [
        "<a href=\"https://colab.research.google.com/github/Reptilefury/coursera-machine-learning/blob/main/Loss_Functions.ipynb\" target=\"_parent\"><img src=\"https://colab.research.google.com/assets/colab-badge.svg\" alt=\"Open In Colab\"/></a>"
      ]
    },
    {
      "cell_type": "code",
      "execution_count": 100,
      "metadata": {
        "id": "VjAVPTEqyh1y"
      },
      "outputs": [],
      "source": [
        "!pip install -Uqq fastbook"
      ]
    },
    {
      "cell_type": "code",
      "execution_count": 101,
      "metadata": {
        "id": "82ZSAszky3tC"
      },
      "outputs": [],
      "source": [
        "import fastbook\n",
        "fastbook.setup_book()\n",
        "from fastbook import *\n"
      ]
    },
    {
      "cell_type": "code",
      "execution_count": 102,
      "metadata": {
        "id": "_DfXCO2szIO9"
      },
      "outputs": [],
      "source": [
        "from fastai.vision.all import *"
      ]
    },
    {
      "cell_type": "code",
      "execution_count": 103,
      "metadata": {
        "id": "9Tma9yJws1qS"
      },
      "outputs": [],
      "source": [
        "path = untar_data(URLs.MNIST_SAMPLE)\n",
        "\n",
        "\n",
        "\n",
        "\n",
        "\n",
        "\n",
        "\n",
        "\n"
      ]
    },
    {
      "cell_type": "code",
      "execution_count": 104,
      "metadata": {
        "colab": {
          "base_uri": "https://localhost:8080/"
        },
        "id": "Do2yEsmis79h",
        "outputId": "d80d328f-6d3f-4994-ddc8-b195a4b5adfe"
      },
      "outputs": [
        {
          "output_type": "execute_result",
          "data": {
            "text/plain": [
              "(#3) [Path('/root/.fastai/data/mnist_sample/valid'),Path('/root/.fastai/data/mnist_sample/train'),Path('/root/.fastai/data/mnist_sample/labels.csv')]"
            ]
          },
          "metadata": {},
          "execution_count": 104
        }
      ],
      "source": [
        "path.ls()"
      ]
    },
    {
      "cell_type": "code",
      "execution_count": 105,
      "metadata": {
        "id": "c6qZOPV0s-3u"
      },
      "outputs": [],
      "source": [
        "threes = (path/'train'/'3').ls().sorted()"
      ]
    },
    {
      "cell_type": "code",
      "execution_count": 106,
      "metadata": {
        "id": "U1H81ZS2tHoW"
      },
      "outputs": [],
      "source": [
        "Image_threes= Image.open(threes[0])"
      ]
    },
    {
      "cell_type": "code",
      "execution_count": 107,
      "metadata": {
        "colab": {
          "base_uri": "https://localhost:8080/",
          "height": 45
        },
        "id": "bx8zjRBjtUDW",
        "outputId": "0b04855f-443a-445e-96b1-2119053dc916"
      },
      "outputs": [
        {
          "output_type": "execute_result",
          "data": {
            "image/png": "[encoded data removed]",
            "text/plain": [
              "<PIL.PngImagePlugin.PngImageFile image mode=L size=28x28 at 0x7F8C6416F650>"
            ]
          },
          "metadata": {},
          "execution_count": 107
        }
      ],
      "source": [
        "Image_threes"
      ]
    },
    {
      "cell_type": "code",
      "execution_count": 108,
      "metadata": {
        "id": "F6cX-M_7tMRh"
      },
      "outputs": [],
      "source": [
        "sevens = (path/'train'/'7').ls()"
      ]
    },
    {
      "cell_type": "code",
      "execution_count": 109,
      "metadata": {
        "colab": {
          "base_uri": "https://localhost:8080/",
          "height": 45
        },
        "id": "mNHwzcejtmvN",
        "outputId": "8935144e-7bd6-4581-aa13-2b399d1c1565"
      },
      "outputs": [
        {
          "output_type": "execute_result",
          "data": {
            "image/png": "[encoded data removed]",
            "text/plain": [
              "<PIL.PngImagePlugin.PngImageFile image mode=L size=28x28 at 0x7F8C641F30D0>"
            ]
          },
          "metadata": {},
          "execution_count": 109
        }
      ],
      "source": [
        "Image_sevens = Image.open(sevens[0])\n",
        "Image_sevens"
      ]
    },
    {
      "cell_type": "code",
      "execution_count": null,
      "metadata": {
        "id": "SvxWRsAqubPa"
      },
      "outputs": [],
      "source": [
        "array(Image_sevens)[0:28, 0:28]"
      ]
    },
    {
      "cell_type": "code",
      "execution_count": 111,
      "metadata": {
        "colab": {
          "base_uri": "https://localhost:8080/"
        },
        "id": "sYxKmHu0u4eu",
        "outputId": "a79ea7a0-e7c7-434c-a50a-3cb0d0ee71c5"
      },
      "outputs": [
        {
          "output_type": "execute_result",
          "data": {
            "text/plain": [
              "tensor([[  0,   0,   0,   0,   0,   0,   0,   0,  18, 123, 174, 174, 174, 175, 100, 229, 253,  58,   0,   0,   0,   0,   0,   0,   0,   0,   0,   0],\n",
              "        [  0,   0,   0,   0,   0,   0,   0,   0,   0,   0,   0,   0,   0,   0,   0,  86, 253,  58,   0,   0,   0,   0,   0,   0,   0,   0,   0,   0]], dtype=torch.uint8)"
            ]
          },
          "metadata": {},
          "execution_count": 111
        }
      ],
      "source": [
        "tensor(Image_sevens)[4:10][4:10]"
      ]
    },
    {
      "cell_type": "code",
      "execution_count": 112,
      "metadata": {
        "id": "9VzSMIv7D5T9"
      },
      "outputs": [],
      "source": [
        "image_three_tensor = tensor(Image_threes)[4:15][4:22]"
      ]
    },
    {
      "cell_type": "code",
      "execution_count": 113,
      "metadata": {
        "id": "6ZJXTFXIwH-U",
        "colab": {
          "base_uri": "https://localhost:8080/"
        },
        "outputId": "6b204263-73c5-47b1-bec9-1a1d3e1fbefb"
      },
      "outputs": [
        {
          "output_type": "execute_result",
          "data": {
            "text/plain": [
              "tensor([[  0,   0,   0,   0,   0,   0,   0,   0,   0,   0,   0,   0, 207, 254, 210, 254, 254, 254,  34,   0,   0,   0,   0,   0,   0,   0,   0,   0],\n",
              "        [  0,   0,   0,   0,   0,   0,   0,   0,   0,   0,   0,   0,  84, 206, 254, 254, 254, 254,  41,   0,   0,   0,   0,   0,   0,   0,   0,   0],\n",
              "        [  0,   0,   0,   0,   0,   0,   0,   0,   0,   0,   0,   0,   0,  24, 209, 254, 254, 254, 171,   0,   0,   0,   0,   0,   0,   0,   0,   0],\n",
              "        [  0,   0,   0,   0,   0,   0,   0,   0,   0,   0,   0,   0,  91, 137, 253, 254, 254, 254, 112,   0,   0,   0,   0,   0,   0,   0,   0,   0],\n",
              "        [  0,   0,   0,   0,   0,   0,   0,   0,   0,   0,  40, 214, 250, 254, 254, 254, 254, 254,  34,   0,   0,   0,   0,   0,   0,   0,   0,   0],\n",
              "        [  0,   0,   0,   0,   0,   0,   0,   0,   0,   0,  81, 247, 254, 254, 254, 254, 254, 254, 146,   0,   0,   0,   0,   0,   0,   0,   0,   0],\n",
              "        [  0,   0,   0,   0,   0,   0,   0,   0,   0,   0,   0, 110, 246, 254, 254, 254, 254, 254, 171,   0,   0,   0,   0,   0,   0,   0,   0,   0]], dtype=torch.uint8)"
            ]
          },
          "metadata": {},
          "execution_count": 113
        }
      ],
      "source": [
        "image_three_tensor"
      ]
    },
    {
      "cell_type": "code",
      "execution_count": 114,
      "metadata": {
        "id": "380BOvWgwKz1"
      },
      "outputs": [],
      "source": [
        "df = pd.DataFrame(image_three_tensor)"
      ]
    },
    {
      "cell_type": "code",
      "execution_count": 115,
      "metadata": {
        "id": "Rns9K_u-wgXF",
        "colab": {
          "base_uri": "https://localhost:8080/",
          "height": 269
        },
        "outputId": "2cc030c5-c980-4bf2-dfb3-c951f134e4f8"
      },
      "outputs": [
        {
          "output_type": "execute_result",
          "data": {
            "text/html": [
              "<style type=\"text/css\">\n",
              "#T_c0822_row0_col0, #T_c0822_row0_col1, #T_c0822_row0_col2, #T_c0822_row0_col3, #T_c0822_row0_col4, #T_c0822_row0_col5, #T_c0822_row0_col6, #T_c0822_row0_col7, #T_c0822_row0_col8, #T_c0822_row0_col9, #T_c0822_row0_col10, #T_c0822_row0_col11, #T_c0822_row0_col15, #T_c0822_row0_col16, #T_c0822_row0_col17, #T_c0822_row0_col18, #T_c0822_row0_col19, #T_c0822_row0_col20, #T_c0822_row0_col21, #T_c0822_row0_col22, #T_c0822_row0_col23, #T_c0822_row0_col24, #T_c0822_row0_col25, #T_c0822_row0_col26, #T_c0822_row0_col27, #T_c0822_row1_col0, #T_c0822_row1_col1, #T_c0822_row1_col2, #T_c0822_row1_col3, #T_c0822_row1_col4, #T_c0822_row1_col5, #T_c0822_row1_col6, #T_c0822_row1_col7, #T_c0822_row1_col8, #T_c0822_row1_col9, #T_c0822_row1_col10, #T_c0822_row1_col11, #T_c0822_row1_col15, #T_c0822_row1_col16, #T_c0822_row1_col17, #T_c0822_row1_col19, #T_c0822_row1_col20, #T_c0822_row1_col21, #T_c0822_row1_col22, #T_c0822_row1_col23, #T_c0822_row1_col24, #T_c0822_row1_col25, #T_c0822_row1_col26, #T_c0822_row1_col27, #T_c0822_row2_col0, #T_c0822_row2_col1, #T_c0822_row2_col2, #T_c0822_row2_col3, #T_c0822_row2_col4, #T_c0822_row2_col5, #T_c0822_row2_col6, #T_c0822_row2_col7, #T_c0822_row2_col8, #T_c0822_row2_col9, #T_c0822_row2_col10, #T_c0822_row2_col11, #T_c0822_row2_col12, #T_c0822_row2_col13, #T_c0822_row2_col14, #T_c0822_row2_col15, #T_c0822_row2_col16, #T_c0822_row2_col17, #T_c0822_row2_col19, #T_c0822_row2_col20, #T_c0822_row2_col21, #T_c0822_row2_col22, #T_c0822_row2_col23, #T_c0822_row2_col24, #T_c0822_row2_col25, #T_c0822_row2_col26, #T_c0822_row2_col27, #T_c0822_row3_col0, #T_c0822_row3_col1, #T_c0822_row3_col2, #T_c0822_row3_col3, #T_c0822_row3_col4, #T_c0822_row3_col5, #T_c0822_row3_col6, #T_c0822_row3_col7, #T_c0822_row3_col8, #T_c0822_row3_col9, #T_c0822_row3_col10, #T_c0822_row3_col11, #T_c0822_row3_col15, #T_c0822_row3_col16, #T_c0822_row3_col17, #T_c0822_row3_col19, #T_c0822_row3_col20, #T_c0822_row3_col21, #T_c0822_row3_col22, #T_c0822_row3_col23, #T_c0822_row3_col24, #T_c0822_row3_col25, #T_c0822_row3_col26, #T_c0822_row3_col27, #T_c0822_row4_col0, #T_c0822_row4_col1, #T_c0822_row4_col2, #T_c0822_row4_col3, #T_c0822_row4_col4, #T_c0822_row4_col5, #T_c0822_row4_col6, #T_c0822_row4_col7, #T_c0822_row4_col8, #T_c0822_row4_col9, #T_c0822_row4_col15, #T_c0822_row4_col16, #T_c0822_row4_col17, #T_c0822_row4_col18, #T_c0822_row4_col19, #T_c0822_row4_col20, #T_c0822_row4_col21, #T_c0822_row4_col22, #T_c0822_row4_col23, #T_c0822_row4_col24, #T_c0822_row4_col25, #T_c0822_row4_col26, #T_c0822_row4_col27, #T_c0822_row5_col0, #T_c0822_row5_col1, #T_c0822_row5_col2, #T_c0822_row5_col3, #T_c0822_row5_col4, #T_c0822_row5_col5, #T_c0822_row5_col6, #T_c0822_row5_col7, #T_c0822_row5_col8, #T_c0822_row5_col9, #T_c0822_row5_col15, #T_c0822_row5_col16, #T_c0822_row5_col17, #T_c0822_row5_col19, #T_c0822_row5_col20, #T_c0822_row5_col21, #T_c0822_row5_col22, #T_c0822_row5_col23, #T_c0822_row5_col24, #T_c0822_row5_col25, #T_c0822_row5_col26, #T_c0822_row5_col27, #T_c0822_row6_col0, #T_c0822_row6_col1, #T_c0822_row6_col2, #T_c0822_row6_col3, #T_c0822_row6_col4, #T_c0822_row6_col5, #T_c0822_row6_col6, #T_c0822_row6_col7, #T_c0822_row6_col8, #T_c0822_row6_col9, #T_c0822_row6_col10, #T_c0822_row6_col15, #T_c0822_row6_col16, #T_c0822_row6_col17, #T_c0822_row6_col19, #T_c0822_row6_col20, #T_c0822_row6_col21, #T_c0822_row6_col22, #T_c0822_row6_col23, #T_c0822_row6_col24, #T_c0822_row6_col25, #T_c0822_row6_col26, #T_c0822_row6_col27 {\n",
              "  font - size: 6pt;\n",
              "  background-color: #ffffff;\n",
              "  color: #000000;\n",
              "}\n",
              "#T_c0822_row0_col12 {\n",
              "  font - size: 6pt;\n",
              "  background-color: #3a3a3a;\n",
              "  color: #f1f1f1;\n",
              "}\n",
              "#T_c0822_row0_col13, #T_c0822_row1_col14, #T_c0822_row2_col18, #T_c0822_row4_col13, #T_c0822_row4_col14, #T_c0822_row5_col10, #T_c0822_row5_col11, #T_c0822_row5_col12, #T_c0822_row5_col13, #T_c0822_row5_col14, #T_c0822_row6_col13, #T_c0822_row6_col14, #T_c0822_row6_col18 {\n",
              "  font - size: 6pt;\n",
              "  background-color: #000000;\n",
              "  color: #f1f1f1;\n",
              "}\n",
              "#T_c0822_row0_col14 {\n",
              "  font - size: 6pt;\n",
              "  background-color: #fdfdfd;\n",
              "  color: #000000;\n",
              "}\n",
              "#T_c0822_row1_col12 {\n",
              "  font - size: 6pt;\n",
              "  background-color: #c7c7c7;\n",
              "  color: #000000;\n",
              "}\n",
              "#T_c0822_row1_col13 {\n",
              "  font - size: 6pt;\n",
              "  background-color: #434343;\n",
              "  color: #f1f1f1;\n",
              "}\n",
              "#T_c0822_row1_col18 {\n",
              "  font - size: 6pt;\n",
              "  background-color: #f9f9f9;\n",
              "  color: #000000;\n",
              "}\n",
              "#T_c0822_row3_col12 {\n",
              "  font - size: 6pt;\n",
              "  background-color: #c1c1c1;\n",
              "  color: #000000;\n",
              "}\n",
              "#T_c0822_row3_col13 {\n",
              "  font - size: 6pt;\n",
              "  background-color: #999999;\n",
              "  color: #f1f1f1;\n",
              "}\n",
              "#T_c0822_row3_col14 {\n",
              "  font - size: 6pt;\n",
              "  background-color: #060606;\n",
              "  color: #f1f1f1;\n",
              "}\n",
              "#T_c0822_row3_col18 {\n",
              "  font - size: 6pt;\n",
              "  background-color: #838383;\n",
              "  color: #f1f1f1;\n",
              "}\n",
              "#T_c0822_row4_col10 {\n",
              "  font - size: 6pt;\n",
              "  background-color: #989898;\n",
              "  color: #f1f1f1;\n",
              "}\n",
              "#T_c0822_row4_col11 {\n",
              "  font - size: 6pt;\n",
              "  background-color: #282828;\n",
              "  color: #f1f1f1;\n",
              "}\n",
              "#T_c0822_row4_col12 {\n",
              "  font - size: 6pt;\n",
              "  background-color: #050505;\n",
              "  color: #f1f1f1;\n",
              "}\n",
              "#T_c0822_row5_col18 {\n",
              "  font - size: 6pt;\n",
              "  background-color: #393939;\n",
              "  color: #f1f1f1;\n",
              "}\n",
              "#T_c0822_row6_col11 {\n",
              "  font - size: 6pt;\n",
              "  background-color: #a7a7a7;\n",
              "  color: #f1f1f1;\n",
              "}\n",
              "#T_c0822_row6_col12 {\n",
              "  font - size: 6pt;\n",
              "  background-color: #090909;\n",
              "  color: #f1f1f1;\n",
              "}\n",
              "</style>\n",
              "<table id=\"T_c0822_\" class=\"dataframe\">\n",
              "  <thead>\n",
              "    <tr>\n",
              "      <th class=\"blank level0\" >&nbsp;</th>\n",
              "      <th class=\"col_heading level0 col0\" >0</th>\n",
              "      <th class=\"col_heading level0 col1\" >1</th>\n",
              "      <th class=\"col_heading level0 col2\" >2</th>\n",
              "      <th class=\"col_heading level0 col3\" >3</th>\n",
              "      <th class=\"col_heading level0 col4\" >4</th>\n",
              "      <th class=\"col_heading level0 col5\" >5</th>\n",
              "      <th class=\"col_heading level0 col6\" >6</th>\n",
              "      <th class=\"col_heading level0 col7\" >7</th>\n",
              "      <th class=\"col_heading level0 col8\" >8</th>\n",
              "      <th class=\"col_heading level0 col9\" >9</th>\n",
              "      <th class=\"col_heading level0 col10\" >10</th>\n",
              "      <th class=\"col_heading level0 col11\" >11</th>\n",
              "      <th class=\"col_heading level0 col12\" >12</th>\n",
              "      <th class=\"col_heading level0 col13\" >13</th>\n",
              "      <th class=\"col_heading level0 col14\" >14</th>\n",
              "      <th class=\"col_heading level0 col15\" >15</th>\n",
              "      <th class=\"col_heading level0 col16\" >16</th>\n",
              "      <th class=\"col_heading level0 col17\" >17</th>\n",
              "      <th class=\"col_heading level0 col18\" >18</th>\n",
              "      <th class=\"col_heading level0 col19\" >19</th>\n",
              "      <th class=\"col_heading level0 col20\" >20</th>\n",
              "      <th class=\"col_heading level0 col21\" >21</th>\n",
              "      <th class=\"col_heading level0 col22\" >22</th>\n",
              "      <th class=\"col_heading level0 col23\" >23</th>\n",
              "      <th class=\"col_heading level0 col24\" >24</th>\n",
              "      <th class=\"col_heading level0 col25\" >25</th>\n",
              "      <th class=\"col_heading level0 col26\" >26</th>\n",
              "      <th class=\"col_heading level0 col27\" >27</th>\n",
              "    </tr>\n",
              "  </thead>\n",
              "  <tbody>\n",
              "    <tr>\n",
              "      <th id=\"T_c0822_level0_row0\" class=\"row_heading level0 row0\" >0</th>\n",
              "      <td id=\"T_c0822_row0_col0\" class=\"data row0 col0\" >0</td>\n",
              "      <td id=\"T_c0822_row0_col1\" class=\"data row0 col1\" >0</td>\n",
              "      <td id=\"T_c0822_row0_col2\" class=\"data row0 col2\" >0</td>\n",
              "      <td id=\"T_c0822_row0_col3\" class=\"data row0 col3\" >0</td>\n",
              "      <td id=\"T_c0822_row0_col4\" class=\"data row0 col4\" >0</td>\n",
              "      <td id=\"T_c0822_row0_col5\" class=\"data row0 col5\" >0</td>\n",
              "      <td id=\"T_c0822_row0_col6\" class=\"data row0 col6\" >0</td>\n",
              "      <td id=\"T_c0822_row0_col7\" class=\"data row0 col7\" >0</td>\n",
              "      <td id=\"T_c0822_row0_col8\" class=\"data row0 col8\" >0</td>\n",
              "      <td id=\"T_c0822_row0_col9\" class=\"data row0 col9\" >0</td>\n",
              "      <td id=\"T_c0822_row0_col10\" class=\"data row0 col10\" >0</td>\n",
              "      <td id=\"T_c0822_row0_col11\" class=\"data row0 col11\" >0</td>\n",
              "      <td id=\"T_c0822_row0_col12\" class=\"data row0 col12\" >207</td>\n",
              "      <td id=\"T_c0822_row0_col13\" class=\"data row0 col13\" >254</td>\n",
              "      <td id=\"T_c0822_row0_col14\" class=\"data row0 col14\" >210</td>\n",
              "      <td id=\"T_c0822_row0_col15\" class=\"data row0 col15\" >254</td>\n",
              "      <td id=\"T_c0822_row0_col16\" class=\"data row0 col16\" >254</td>\n",
              "      <td id=\"T_c0822_row0_col17\" class=\"data row0 col17\" >254</td>\n",
              "      <td id=\"T_c0822_row0_col18\" class=\"data row0 col18\" >34</td>\n",
              "      <td id=\"T_c0822_row0_col19\" class=\"data row0 col19\" >0</td>\n",
              "      <td id=\"T_c0822_row0_col20\" class=\"data row0 col20\" >0</td>\n",
              "      <td id=\"T_c0822_row0_col21\" class=\"data row0 col21\" >0</td>\n",
              "      <td id=\"T_c0822_row0_col22\" class=\"data row0 col22\" >0</td>\n",
              "      <td id=\"T_c0822_row0_col23\" class=\"data row0 col23\" >0</td>\n",
              "      <td id=\"T_c0822_row0_col24\" class=\"data row0 col24\" >0</td>\n",
              "      <td id=\"T_c0822_row0_col25\" class=\"data row0 col25\" >0</td>\n",
              "      <td id=\"T_c0822_row0_col26\" class=\"data row0 col26\" >0</td>\n",
              "      <td id=\"T_c0822_row0_col27\" class=\"data row0 col27\" >0</td>\n",
              "    </tr>\n",
              "    <tr>\n",
              "      <th id=\"T_c0822_level0_row1\" class=\"row_heading level0 row1\" >1</th>\n",
              "      <td id=\"T_c0822_row1_col0\" class=\"data row1 col0\" >0</td>\n",
              "      <td id=\"T_c0822_row1_col1\" class=\"data row1 col1\" >0</td>\n",
              "      <td id=\"T_c0822_row1_col2\" class=\"data row1 col2\" >0</td>\n",
              "      <td id=\"T_c0822_row1_col3\" class=\"data row1 col3\" >0</td>\n",
              "      <td id=\"T_c0822_row1_col4\" class=\"data row1 col4\" >0</td>\n",
              "      <td id=\"T_c0822_row1_col5\" class=\"data row1 col5\" >0</td>\n",
              "      <td id=\"T_c0822_row1_col6\" class=\"data row1 col6\" >0</td>\n",
              "      <td id=\"T_c0822_row1_col7\" class=\"data row1 col7\" >0</td>\n",
              "      <td id=\"T_c0822_row1_col8\" class=\"data row1 col8\" >0</td>\n",
              "      <td id=\"T_c0822_row1_col9\" class=\"data row1 col9\" >0</td>\n",
              "      <td id=\"T_c0822_row1_col10\" class=\"data row1 col10\" >0</td>\n",
              "      <td id=\"T_c0822_row1_col11\" class=\"data row1 col11\" >0</td>\n",
              "      <td id=\"T_c0822_row1_col12\" class=\"data row1 col12\" >84</td>\n",
              "      <td id=\"T_c0822_row1_col13\" class=\"data row1 col13\" >206</td>\n",
              "      <td id=\"T_c0822_row1_col14\" class=\"data row1 col14\" >254</td>\n",
              "      <td id=\"T_c0822_row1_col15\" class=\"data row1 col15\" >254</td>\n",
              "      <td id=\"T_c0822_row1_col16\" class=\"data row1 col16\" >254</td>\n",
              "      <td id=\"T_c0822_row1_col17\" class=\"data row1 col17\" >254</td>\n",
              "      <td id=\"T_c0822_row1_col18\" class=\"data row1 col18\" >41</td>\n",
              "      <td id=\"T_c0822_row1_col19\" class=\"data row1 col19\" >0</td>\n",
              "      <td id=\"T_c0822_row1_col20\" class=\"data row1 col20\" >0</td>\n",
              "      <td id=\"T_c0822_row1_col21\" class=\"data row1 col21\" >0</td>\n",
              "      <td id=\"T_c0822_row1_col22\" class=\"data row1 col22\" >0</td>\n",
              "      <td id=\"T_c0822_row1_col23\" class=\"data row1 col23\" >0</td>\n",
              "      <td id=\"T_c0822_row1_col24\" class=\"data row1 col24\" >0</td>\n",
              "      <td id=\"T_c0822_row1_col25\" class=\"data row1 col25\" >0</td>\n",
              "      <td id=\"T_c0822_row1_col26\" class=\"data row1 col26\" >0</td>\n",
              "      <td id=\"T_c0822_row1_col27\" class=\"data row1 col27\" >0</td>\n",
              "    </tr>\n",
              "    <tr>\n",
              "      <th id=\"T_c0822_level0_row2\" class=\"row_heading level0 row2\" >2</th>\n",
              "      <td id=\"T_c0822_row2_col0\" class=\"data row2 col0\" >0</td>\n",
              "      <td id=\"T_c0822_row2_col1\" class=\"data row2 col1\" >0</td>\n",
              "      <td id=\"T_c0822_row2_col2\" class=\"data row2 col2\" >0</td>\n",
              "      <td id=\"T_c0822_row2_col3\" class=\"data row2 col3\" >0</td>\n",
              "      <td id=\"T_c0822_row2_col4\" class=\"data row2 col4\" >0</td>\n",
              "      <td id=\"T_c0822_row2_col5\" class=\"data row2 col5\" >0</td>\n",
              "      <td id=\"T_c0822_row2_col6\" class=\"data row2 col6\" >0</td>\n",
              "      <td id=\"T_c0822_row2_col7\" class=\"data row2 col7\" >0</td>\n",
              "      <td id=\"T_c0822_row2_col8\" class=\"data row2 col8\" >0</td>\n",
              "      <td id=\"T_c0822_row2_col9\" class=\"data row2 col9\" >0</td>\n",
              "      <td id=\"T_c0822_row2_col10\" class=\"data row2 col10\" >0</td>\n",
              "      <td id=\"T_c0822_row2_col11\" class=\"data row2 col11\" >0</td>\n",
              "      <td id=\"T_c0822_row2_col12\" class=\"data row2 col12\" >0</td>\n",
              "      <td id=\"T_c0822_row2_col13\" class=\"data row2 col13\" >24</td>\n",
              "      <td id=\"T_c0822_row2_col14\" class=\"data row2 col14\" >209</td>\n",
              "      <td id=\"T_c0822_row2_col15\" class=\"data row2 col15\" >254</td>\n",
              "      <td id=\"T_c0822_row2_col16\" class=\"data row2 col16\" >254</td>\n",
              "      <td id=\"T_c0822_row2_col17\" class=\"data row2 col17\" >254</td>\n",
              "      <td id=\"T_c0822_row2_col18\" class=\"data row2 col18\" >171</td>\n",
              "      <td id=\"T_c0822_row2_col19\" class=\"data row2 col19\" >0</td>\n",
              "      <td id=\"T_c0822_row2_col20\" class=\"data row2 col20\" >0</td>\n",
              "      <td id=\"T_c0822_row2_col21\" class=\"data row2 col21\" >0</td>\n",
              "      <td id=\"T_c0822_row2_col22\" class=\"data row2 col22\" >0</td>\n",
              "      <td id=\"T_c0822_row2_col23\" class=\"data row2 col23\" >0</td>\n",
              "      <td id=\"T_c0822_row2_col24\" class=\"data row2 col24\" >0</td>\n",
              "      <td id=\"T_c0822_row2_col25\" class=\"data row2 col25\" >0</td>\n",
              "      <td id=\"T_c0822_row2_col26\" class=\"data row2 col26\" >0</td>\n",
              "      <td id=\"T_c0822_row2_col27\" class=\"data row2 col27\" >0</td>\n",
              "    </tr>\n",
              "    <tr>\n",
              "      <th id=\"T_c0822_level0_row3\" class=\"row_heading level0 row3\" >3</th>\n",
              "      <td id=\"T_c0822_row3_col0\" class=\"data row3 col0\" >0</td>\n",
              "      <td id=\"T_c0822_row3_col1\" class=\"data row3 col1\" >0</td>\n",
              "      <td id=\"T_c0822_row3_col2\" class=\"data row3 col2\" >0</td>\n",
              "      <td id=\"T_c0822_row3_col3\" class=\"data row3 col3\" >0</td>\n",
              "      <td id=\"T_c0822_row3_col4\" class=\"data row3 col4\" >0</td>\n",
              "      <td id=\"T_c0822_row3_col5\" class=\"data row3 col5\" >0</td>\n",
              "      <td id=\"T_c0822_row3_col6\" class=\"data row3 col6\" >0</td>\n",
              "      <td id=\"T_c0822_row3_col7\" class=\"data row3 col7\" >0</td>\n",
              "      <td id=\"T_c0822_row3_col8\" class=\"data row3 col8\" >0</td>\n",
              "      <td id=\"T_c0822_row3_col9\" class=\"data row3 col9\" >0</td>\n",
              "      <td id=\"T_c0822_row3_col10\" class=\"data row3 col10\" >0</td>\n",
              "      <td id=\"T_c0822_row3_col11\" class=\"data row3 col11\" >0</td>\n",
              "      <td id=\"T_c0822_row3_col12\" class=\"data row3 col12\" >91</td>\n",
              "      <td id=\"T_c0822_row3_col13\" class=\"data row3 col13\" >137</td>\n",
              "      <td id=\"T_c0822_row3_col14\" class=\"data row3 col14\" >253</td>\n",
              "      <td id=\"T_c0822_row3_col15\" class=\"data row3 col15\" >254</td>\n",
              "      <td id=\"T_c0822_row3_col16\" class=\"data row3 col16\" >254</td>\n",
              "      <td id=\"T_c0822_row3_col17\" class=\"data row3 col17\" >254</td>\n",
              "      <td id=\"T_c0822_row3_col18\" class=\"data row3 col18\" >112</td>\n",
              "      <td id=\"T_c0822_row3_col19\" class=\"data row3 col19\" >0</td>\n",
              "      <td id=\"T_c0822_row3_col20\" class=\"data row3 col20\" >0</td>\n",
              "      <td id=\"T_c0822_row3_col21\" class=\"data row3 col21\" >0</td>\n",
              "      <td id=\"T_c0822_row3_col22\" class=\"data row3 col22\" >0</td>\n",
              "      <td id=\"T_c0822_row3_col23\" class=\"data row3 col23\" >0</td>\n",
              "      <td id=\"T_c0822_row3_col24\" class=\"data row3 col24\" >0</td>\n",
              "      <td id=\"T_c0822_row3_col25\" class=\"data row3 col25\" >0</td>\n",
              "      <td id=\"T_c0822_row3_col26\" class=\"data row3 col26\" >0</td>\n",
              "      <td id=\"T_c0822_row3_col27\" class=\"data row3 col27\" >0</td>\n",
              "    </tr>\n",
              "    <tr>\n",
              "      <th id=\"T_c0822_level0_row4\" class=\"row_heading level0 row4\" >4</th>\n",
              "      <td id=\"T_c0822_row4_col0\" class=\"data row4 col0\" >0</td>\n",
              "      <td id=\"T_c0822_row4_col1\" class=\"data row4 col1\" >0</td>\n",
              "      <td id=\"T_c0822_row4_col2\" class=\"data row4 col2\" >0</td>\n",
              "      <td id=\"T_c0822_row4_col3\" class=\"data row4 col3\" >0</td>\n",
              "      <td id=\"T_c0822_row4_col4\" class=\"data row4 col4\" >0</td>\n",
              "      <td id=\"T_c0822_row4_col5\" class=\"data row4 col5\" >0</td>\n",
              "      <td id=\"T_c0822_row4_col6\" class=\"data row4 col6\" >0</td>\n",
              "      <td id=\"T_c0822_row4_col7\" class=\"data row4 col7\" >0</td>\n",
              "      <td id=\"T_c0822_row4_col8\" class=\"data row4 col8\" >0</td>\n",
              "      <td id=\"T_c0822_row4_col9\" class=\"data row4 col9\" >0</td>\n",
              "      <td id=\"T_c0822_row4_col10\" class=\"data row4 col10\" >40</td>\n",
              "      <td id=\"T_c0822_row4_col11\" class=\"data row4 col11\" >214</td>\n",
              "      <td id=\"T_c0822_row4_col12\" class=\"data row4 col12\" >250</td>\n",
              "      <td id=\"T_c0822_row4_col13\" class=\"data row4 col13\" >254</td>\n",
              "      <td id=\"T_c0822_row4_col14\" class=\"data row4 col14\" >254</td>\n",
              "      <td id=\"T_c0822_row4_col15\" class=\"data row4 col15\" >254</td>\n",
              "      <td id=\"T_c0822_row4_col16\" class=\"data row4 col16\" >254</td>\n",
              "      <td id=\"T_c0822_row4_col17\" class=\"data row4 col17\" >254</td>\n",
              "      <td id=\"T_c0822_row4_col18\" class=\"data row4 col18\" >34</td>\n",
              "      <td id=\"T_c0822_row4_col19\" class=\"data row4 col19\" >0</td>\n",
              "      <td id=\"T_c0822_row4_col20\" class=\"data row4 col20\" >0</td>\n",
              "      <td id=\"T_c0822_row4_col21\" class=\"data row4 col21\" >0</td>\n",
              "      <td id=\"T_c0822_row4_col22\" class=\"data row4 col22\" >0</td>\n",
              "      <td id=\"T_c0822_row4_col23\" class=\"data row4 col23\" >0</td>\n",
              "      <td id=\"T_c0822_row4_col24\" class=\"data row4 col24\" >0</td>\n",
              "      <td id=\"T_c0822_row4_col25\" class=\"data row4 col25\" >0</td>\n",
              "      <td id=\"T_c0822_row4_col26\" class=\"data row4 col26\" >0</td>\n",
              "      <td id=\"T_c0822_row4_col27\" class=\"data row4 col27\" >0</td>\n",
              "    </tr>\n",
              "    <tr>\n",
              "      <th id=\"T_c0822_level0_row5\" class=\"row_heading level0 row5\" >5</th>\n",
              "      <td id=\"T_c0822_row5_col0\" class=\"data row5 col0\" >0</td>\n",
              "      <td id=\"T_c0822_row5_col1\" class=\"data row5 col1\" >0</td>\n",
              "      <td id=\"T_c0822_row5_col2\" class=\"data row5 col2\" >0</td>\n",
              "      <td id=\"T_c0822_row5_col3\" class=\"data row5 col3\" >0</td>\n",
              "      <td id=\"T_c0822_row5_col4\" class=\"data row5 col4\" >0</td>\n",
              "      <td id=\"T_c0822_row5_col5\" class=\"data row5 col5\" >0</td>\n",
              "      <td id=\"T_c0822_row5_col6\" class=\"data row5 col6\" >0</td>\n",
              "      <td id=\"T_c0822_row5_col7\" class=\"data row5 col7\" >0</td>\n",
              "      <td id=\"T_c0822_row5_col8\" class=\"data row5 col8\" >0</td>\n",
              "      <td id=\"T_c0822_row5_col9\" class=\"data row5 col9\" >0</td>\n",
              "      <td id=\"T_c0822_row5_col10\" class=\"data row5 col10\" >81</td>\n",
              "      <td id=\"T_c0822_row5_col11\" class=\"data row5 col11\" >247</td>\n",
              "      <td id=\"T_c0822_row5_col12\" class=\"data row5 col12\" >254</td>\n",
              "      <td id=\"T_c0822_row5_col13\" class=\"data row5 col13\" >254</td>\n",
              "      <td id=\"T_c0822_row5_col14\" class=\"data row5 col14\" >254</td>\n",
              "      <td id=\"T_c0822_row5_col15\" class=\"data row5 col15\" >254</td>\n",
              "      <td id=\"T_c0822_row5_col16\" class=\"data row5 col16\" >254</td>\n",
              "      <td id=\"T_c0822_row5_col17\" class=\"data row5 col17\" >254</td>\n",
              "      <td id=\"T_c0822_row5_col18\" class=\"data row5 col18\" >146</td>\n",
              "      <td id=\"T_c0822_row5_col19\" class=\"data row5 col19\" >0</td>\n",
              "      <td id=\"T_c0822_row5_col20\" class=\"data row5 col20\" >0</td>\n",
              "      <td id=\"T_c0822_row5_col21\" class=\"data row5 col21\" >0</td>\n",
              "      <td id=\"T_c0822_row5_col22\" class=\"data row5 col22\" >0</td>\n",
              "      <td id=\"T_c0822_row5_col23\" class=\"data row5 col23\" >0</td>\n",
              "      <td id=\"T_c0822_row5_col24\" class=\"data row5 col24\" >0</td>\n",
              "      <td id=\"T_c0822_row5_col25\" class=\"data row5 col25\" >0</td>\n",
              "      <td id=\"T_c0822_row5_col26\" class=\"data row5 col26\" >0</td>\n",
              "      <td id=\"T_c0822_row5_col27\" class=\"data row5 col27\" >0</td>\n",
              "    </tr>\n",
              "    <tr>\n",
              "      <th id=\"T_c0822_level0_row6\" class=\"row_heading level0 row6\" >6</th>\n",
              "      <td id=\"T_c0822_row6_col0\" class=\"data row6 col0\" >0</td>\n",
              "      <td id=\"T_c0822_row6_col1\" class=\"data row6 col1\" >0</td>\n",
              "      <td id=\"T_c0822_row6_col2\" class=\"data row6 col2\" >0</td>\n",
              "      <td id=\"T_c0822_row6_col3\" class=\"data row6 col3\" >0</td>\n",
              "      <td id=\"T_c0822_row6_col4\" class=\"data row6 col4\" >0</td>\n",
              "      <td id=\"T_c0822_row6_col5\" class=\"data row6 col5\" >0</td>\n",
              "      <td id=\"T_c0822_row6_col6\" class=\"data row6 col6\" >0</td>\n",
              "      <td id=\"T_c0822_row6_col7\" class=\"data row6 col7\" >0</td>\n",
              "      <td id=\"T_c0822_row6_col8\" class=\"data row6 col8\" >0</td>\n",
              "      <td id=\"T_c0822_row6_col9\" class=\"data row6 col9\" >0</td>\n",
              "      <td id=\"T_c0822_row6_col10\" class=\"data row6 col10\" >0</td>\n",
              "      <td id=\"T_c0822_row6_col11\" class=\"data row6 col11\" >110</td>\n",
              "      <td id=\"T_c0822_row6_col12\" class=\"data row6 col12\" >246</td>\n",
              "      <td id=\"T_c0822_row6_col13\" class=\"data row6 col13\" >254</td>\n",
              "      <td id=\"T_c0822_row6_col14\" class=\"data row6 col14\" >254</td>\n",
              "      <td id=\"T_c0822_row6_col15\" class=\"data row6 col15\" >254</td>\n",
              "      <td id=\"T_c0822_row6_col16\" class=\"data row6 col16\" >254</td>\n",
              "      <td id=\"T_c0822_row6_col17\" class=\"data row6 col17\" >254</td>\n",
              "      <td id=\"T_c0822_row6_col18\" class=\"data row6 col18\" >171</td>\n",
              "      <td id=\"T_c0822_row6_col19\" class=\"data row6 col19\" >0</td>\n",
              "      <td id=\"T_c0822_row6_col20\" class=\"data row6 col20\" >0</td>\n",
              "      <td id=\"T_c0822_row6_col21\" class=\"data row6 col21\" >0</td>\n",
              "      <td id=\"T_c0822_row6_col22\" class=\"data row6 col22\" >0</td>\n",
              "      <td id=\"T_c0822_row6_col23\" class=\"data row6 col23\" >0</td>\n",
              "      <td id=\"T_c0822_row6_col24\" class=\"data row6 col24\" >0</td>\n",
              "      <td id=\"T_c0822_row6_col25\" class=\"data row6 col25\" >0</td>\n",
              "      <td id=\"T_c0822_row6_col26\" class=\"data row6 col26\" >0</td>\n",
              "      <td id=\"T_c0822_row6_col27\" class=\"data row6 col27\" >0</td>\n",
              "    </tr>\n",
              "  </tbody>\n",
              "</table>\n"
            ],
            "text/plain": [
              "<pandas.io.formats.style.Styler at 0x7f8c6889c7d0>"
            ]
          },
          "metadata": {},
          "execution_count": 115
        }
      ],
      "source": [
        "df.style.set_properties(**{'font - size': '6pt'}).background_gradient('Greys')"
      ]
    },
    {
      "cell_type": "code",
      "execution_count": 116,
      "metadata": {
        "id": "HrYxlTdVyK58"
      },
      "outputs": [],
      "source": [
        "Image_sevens_tensor = tensor(Image_sevens)[4:15][4:22]"
      ]
    },
    {
      "cell_type": "code",
      "execution_count": 117,
      "metadata": {
        "id": "dk6AvVnIyqr6"
      },
      "outputs": [],
      "source": [
        "df = pd.DataFrame(Image_sevens_tensor)"
      ]
    },
    {
      "cell_type": "code",
      "execution_count": 118,
      "metadata": {
        "id": "BOV41KXLy0Bw",
        "colab": {
          "base_uri": "https://localhost:8080/",
          "height": 269
        },
        "outputId": "7a66ce65-6165-4616-f249-c8631dbf10b3"
      },
      "outputs": [
        {
          "output_type": "execute_result",
          "data": {
            "text/html": [
              "<style type=\"text/css\">\n",
              "#T_8cbd4_row0_col0, #T_8cbd4_row0_col1, #T_8cbd4_row0_col2, #T_8cbd4_row0_col3, #T_8cbd4_row0_col4, #T_8cbd4_row0_col5, #T_8cbd4_row0_col6, #T_8cbd4_row0_col7, #T_8cbd4_row0_col16, #T_8cbd4_row0_col17, #T_8cbd4_row0_col18, #T_8cbd4_row0_col19, #T_8cbd4_row0_col20, #T_8cbd4_row0_col21, #T_8cbd4_row0_col22, #T_8cbd4_row0_col23, #T_8cbd4_row0_col24, #T_8cbd4_row0_col25, #T_8cbd4_row0_col26, #T_8cbd4_row0_col27, #T_8cbd4_row1_col0, #T_8cbd4_row1_col1, #T_8cbd4_row1_col2, #T_8cbd4_row1_col3, #T_8cbd4_row1_col4, #T_8cbd4_row1_col5, #T_8cbd4_row1_col6, #T_8cbd4_row1_col7, #T_8cbd4_row1_col8, #T_8cbd4_row1_col9, #T_8cbd4_row1_col10, #T_8cbd4_row1_col11, #T_8cbd4_row1_col12, #T_8cbd4_row1_col13, #T_8cbd4_row1_col14, #T_8cbd4_row1_col16, #T_8cbd4_row1_col17, #T_8cbd4_row1_col18, #T_8cbd4_row1_col19, #T_8cbd4_row1_col20, #T_8cbd4_row1_col21, #T_8cbd4_row1_col22, #T_8cbd4_row1_col23, #T_8cbd4_row1_col24, #T_8cbd4_row1_col25, #T_8cbd4_row1_col26, #T_8cbd4_row1_col27, #T_8cbd4_row2_col0, #T_8cbd4_row2_col1, #T_8cbd4_row2_col2, #T_8cbd4_row2_col3, #T_8cbd4_row2_col4, #T_8cbd4_row2_col5, #T_8cbd4_row2_col6, #T_8cbd4_row2_col7, #T_8cbd4_row2_col8, #T_8cbd4_row2_col9, #T_8cbd4_row2_col10, #T_8cbd4_row2_col11, #T_8cbd4_row2_col12, #T_8cbd4_row2_col13, #T_8cbd4_row2_col14, #T_8cbd4_row2_col15, #T_8cbd4_row2_col16, #T_8cbd4_row2_col18, #T_8cbd4_row2_col19, #T_8cbd4_row2_col20, #T_8cbd4_row2_col21, #T_8cbd4_row2_col22, #T_8cbd4_row2_col23, #T_8cbd4_row2_col24, #T_8cbd4_row2_col25, #T_8cbd4_row2_col26, #T_8cbd4_row2_col27, #T_8cbd4_row3_col0, #T_8cbd4_row3_col1, #T_8cbd4_row3_col2, #T_8cbd4_row3_col3, #T_8cbd4_row3_col4, #T_8cbd4_row3_col5, #T_8cbd4_row3_col6, #T_8cbd4_row3_col7, #T_8cbd4_row3_col8, #T_8cbd4_row3_col9, #T_8cbd4_row3_col10, #T_8cbd4_row3_col11, #T_8cbd4_row3_col12, #T_8cbd4_row3_col13, #T_8cbd4_row3_col14, #T_8cbd4_row3_col18, #T_8cbd4_row3_col19, #T_8cbd4_row3_col20, #T_8cbd4_row3_col21, #T_8cbd4_row3_col22, #T_8cbd4_row3_col23, #T_8cbd4_row3_col24, #T_8cbd4_row3_col25, #T_8cbd4_row3_col26, #T_8cbd4_row3_col27, #T_8cbd4_row4_col0, #T_8cbd4_row4_col1, #T_8cbd4_row4_col2, #T_8cbd4_row4_col3, #T_8cbd4_row4_col4, #T_8cbd4_row4_col5, #T_8cbd4_row4_col6, #T_8cbd4_row4_col7, #T_8cbd4_row4_col8, #T_8cbd4_row4_col9, #T_8cbd4_row4_col10, #T_8cbd4_row4_col11, #T_8cbd4_row4_col12, #T_8cbd4_row4_col13, #T_8cbd4_row4_col14, #T_8cbd4_row4_col16, #T_8cbd4_row4_col18, #T_8cbd4_row4_col19, #T_8cbd4_row4_col20, #T_8cbd4_row4_col21, #T_8cbd4_row4_col22, #T_8cbd4_row4_col23, #T_8cbd4_row4_col24, #T_8cbd4_row4_col25, #T_8cbd4_row4_col26, #T_8cbd4_row4_col27, #T_8cbd4_row5_col0, #T_8cbd4_row5_col1, #T_8cbd4_row5_col2, #T_8cbd4_row5_col3, #T_8cbd4_row5_col4, #T_8cbd4_row5_col5, #T_8cbd4_row5_col6, #T_8cbd4_row5_col7, #T_8cbd4_row5_col8, #T_8cbd4_row5_col9, #T_8cbd4_row5_col10, #T_8cbd4_row5_col11, #T_8cbd4_row5_col12, #T_8cbd4_row5_col13, #T_8cbd4_row5_col16, #T_8cbd4_row5_col18, #T_8cbd4_row5_col19, #T_8cbd4_row5_col20, #T_8cbd4_row5_col21, #T_8cbd4_row5_col22, #T_8cbd4_row5_col23, #T_8cbd4_row5_col24, #T_8cbd4_row5_col25, #T_8cbd4_row5_col26, #T_8cbd4_row5_col27, #T_8cbd4_row6_col0, #T_8cbd4_row6_col1, #T_8cbd4_row6_col2, #T_8cbd4_row6_col3, #T_8cbd4_row6_col4, #T_8cbd4_row6_col5, #T_8cbd4_row6_col6, #T_8cbd4_row6_col7, #T_8cbd4_row6_col8, #T_8cbd4_row6_col9, #T_8cbd4_row6_col10, #T_8cbd4_row6_col11, #T_8cbd4_row6_col12, #T_8cbd4_row6_col13, #T_8cbd4_row6_col16, #T_8cbd4_row6_col17, #T_8cbd4_row6_col18, #T_8cbd4_row6_col19, #T_8cbd4_row6_col20, #T_8cbd4_row6_col21, #T_8cbd4_row6_col22, #T_8cbd4_row6_col23, #T_8cbd4_row6_col24, #T_8cbd4_row6_col25, #T_8cbd4_row6_col26, #T_8cbd4_row6_col27 {\n",
              "  font - size: 6pt;\n",
              "  background-color: #ffffff;\n",
              "  color: #000000;\n",
              "}\n",
              "#T_8cbd4_row0_col8, #T_8cbd4_row0_col9, #T_8cbd4_row0_col10, #T_8cbd4_row0_col11, #T_8cbd4_row0_col12, #T_8cbd4_row0_col13, #T_8cbd4_row0_col14, #T_8cbd4_row3_col16, #T_8cbd4_row3_col17, #T_8cbd4_row4_col17, #T_8cbd4_row6_col15 {\n",
              "  font - size: 6pt;\n",
              "  background-color: #000000;\n",
              "  color: #f1f1f1;\n",
              "}\n",
              "#T_8cbd4_row0_col15, #T_8cbd4_row5_col15 {\n",
              "  font - size: 6pt;\n",
              "  background-color: #292929;\n",
              "  color: #f1f1f1;\n",
              "}\n",
              "#T_8cbd4_row1_col15 {\n",
              "  font - size: 6pt;\n",
              "  background-color: #fafafa;\n",
              "  color: #000000;\n",
              "}\n",
              "#T_8cbd4_row2_col17 {\n",
              "  font - size: 6pt;\n",
              "  background-color: #b8b8b8;\n",
              "  color: #000000;\n",
              "}\n",
              "#T_8cbd4_row3_col15 {\n",
              "  font - size: 6pt;\n",
              "  background-color: #c5c5c5;\n",
              "  color: #000000;\n",
              "}\n",
              "#T_8cbd4_row4_col15 {\n",
              "  font - size: 6pt;\n",
              "  background-color: #878787;\n",
              "  color: #f1f1f1;\n",
              "}\n",
              "#T_8cbd4_row5_col14 {\n",
              "  font - size: 6pt;\n",
              "  background-color: #eeeeee;\n",
              "  color: #000000;\n",
              "}\n",
              "#T_8cbd4_row5_col17 {\n",
              "  font - size: 6pt;\n",
              "  background-color: #cccccc;\n",
              "  color: #000000;\n",
              "}\n",
              "#T_8cbd4_row6_col14 {\n",
              "  font - size: 6pt;\n",
              "  background-color: #e2e2e2;\n",
              "  color: #000000;\n",
              "}\n",
              "</style>\n",
              "<table id=\"T_8cbd4_\" class=\"dataframe\">\n",
              "  <thead>\n",
              "    <tr>\n",
              "      <th class=\"blank level0\" >&nbsp;</th>\n",
              "      <th class=\"col_heading level0 col0\" >0</th>\n",
              "      <th class=\"col_heading level0 col1\" >1</th>\n",
              "      <th class=\"col_heading level0 col2\" >2</th>\n",
              "      <th class=\"col_heading level0 col3\" >3</th>\n",
              "      <th class=\"col_heading level0 col4\" >4</th>\n",
              "      <th class=\"col_heading level0 col5\" >5</th>\n",
              "      <th class=\"col_heading level0 col6\" >6</th>\n",
              "      <th class=\"col_heading level0 col7\" >7</th>\n",
              "      <th class=\"col_heading level0 col8\" >8</th>\n",
              "      <th class=\"col_heading level0 col9\" >9</th>\n",
              "      <th class=\"col_heading level0 col10\" >10</th>\n",
              "      <th class=\"col_heading level0 col11\" >11</th>\n",
              "      <th class=\"col_heading level0 col12\" >12</th>\n",
              "      <th class=\"col_heading level0 col13\" >13</th>\n",
              "      <th class=\"col_heading level0 col14\" >14</th>\n",
              "      <th class=\"col_heading level0 col15\" >15</th>\n",
              "      <th class=\"col_heading level0 col16\" >16</th>\n",
              "      <th class=\"col_heading level0 col17\" >17</th>\n",
              "      <th class=\"col_heading level0 col18\" >18</th>\n",
              "      <th class=\"col_heading level0 col19\" >19</th>\n",
              "      <th class=\"col_heading level0 col20\" >20</th>\n",
              "      <th class=\"col_heading level0 col21\" >21</th>\n",
              "      <th class=\"col_heading level0 col22\" >22</th>\n",
              "      <th class=\"col_heading level0 col23\" >23</th>\n",
              "      <th class=\"col_heading level0 col24\" >24</th>\n",
              "      <th class=\"col_heading level0 col25\" >25</th>\n",
              "      <th class=\"col_heading level0 col26\" >26</th>\n",
              "      <th class=\"col_heading level0 col27\" >27</th>\n",
              "    </tr>\n",
              "  </thead>\n",
              "  <tbody>\n",
              "    <tr>\n",
              "      <th id=\"T_8cbd4_level0_row0\" class=\"row_heading level0 row0\" >0</th>\n",
              "      <td id=\"T_8cbd4_row0_col0\" class=\"data row0 col0\" >0</td>\n",
              "      <td id=\"T_8cbd4_row0_col1\" class=\"data row0 col1\" >0</td>\n",
              "      <td id=\"T_8cbd4_row0_col2\" class=\"data row0 col2\" >0</td>\n",
              "      <td id=\"T_8cbd4_row0_col3\" class=\"data row0 col3\" >0</td>\n",
              "      <td id=\"T_8cbd4_row0_col4\" class=\"data row0 col4\" >0</td>\n",
              "      <td id=\"T_8cbd4_row0_col5\" class=\"data row0 col5\" >0</td>\n",
              "      <td id=\"T_8cbd4_row0_col6\" class=\"data row0 col6\" >0</td>\n",
              "      <td id=\"T_8cbd4_row0_col7\" class=\"data row0 col7\" >0</td>\n",
              "      <td id=\"T_8cbd4_row0_col8\" class=\"data row0 col8\" >18</td>\n",
              "      <td id=\"T_8cbd4_row0_col9\" class=\"data row0 col9\" >123</td>\n",
              "      <td id=\"T_8cbd4_row0_col10\" class=\"data row0 col10\" >174</td>\n",
              "      <td id=\"T_8cbd4_row0_col11\" class=\"data row0 col11\" >174</td>\n",
              "      <td id=\"T_8cbd4_row0_col12\" class=\"data row0 col12\" >174</td>\n",
              "      <td id=\"T_8cbd4_row0_col13\" class=\"data row0 col13\" >175</td>\n",
              "      <td id=\"T_8cbd4_row0_col14\" class=\"data row0 col14\" >100</td>\n",
              "      <td id=\"T_8cbd4_row0_col15\" class=\"data row0 col15\" >229</td>\n",
              "      <td id=\"T_8cbd4_row0_col16\" class=\"data row0 col16\" >253</td>\n",
              "      <td id=\"T_8cbd4_row0_col17\" class=\"data row0 col17\" >58</td>\n",
              "      <td id=\"T_8cbd4_row0_col18\" class=\"data row0 col18\" >0</td>\n",
              "      <td id=\"T_8cbd4_row0_col19\" class=\"data row0 col19\" >0</td>\n",
              "      <td id=\"T_8cbd4_row0_col20\" class=\"data row0 col20\" >0</td>\n",
              "      <td id=\"T_8cbd4_row0_col21\" class=\"data row0 col21\" >0</td>\n",
              "      <td id=\"T_8cbd4_row0_col22\" class=\"data row0 col22\" >0</td>\n",
              "      <td id=\"T_8cbd4_row0_col23\" class=\"data row0 col23\" >0</td>\n",
              "      <td id=\"T_8cbd4_row0_col24\" class=\"data row0 col24\" >0</td>\n",
              "      <td id=\"T_8cbd4_row0_col25\" class=\"data row0 col25\" >0</td>\n",
              "      <td id=\"T_8cbd4_row0_col26\" class=\"data row0 col26\" >0</td>\n",
              "      <td id=\"T_8cbd4_row0_col27\" class=\"data row0 col27\" >0</td>\n",
              "    </tr>\n",
              "    <tr>\n",
              "      <th id=\"T_8cbd4_level0_row1\" class=\"row_heading level0 row1\" >1</th>\n",
              "      <td id=\"T_8cbd4_row1_col0\" class=\"data row1 col0\" >0</td>\n",
              "      <td id=\"T_8cbd4_row1_col1\" class=\"data row1 col1\" >0</td>\n",
              "      <td id=\"T_8cbd4_row1_col2\" class=\"data row1 col2\" >0</td>\n",
              "      <td id=\"T_8cbd4_row1_col3\" class=\"data row1 col3\" >0</td>\n",
              "      <td id=\"T_8cbd4_row1_col4\" class=\"data row1 col4\" >0</td>\n",
              "      <td id=\"T_8cbd4_row1_col5\" class=\"data row1 col5\" >0</td>\n",
              "      <td id=\"T_8cbd4_row1_col6\" class=\"data row1 col6\" >0</td>\n",
              "      <td id=\"T_8cbd4_row1_col7\" class=\"data row1 col7\" >0</td>\n",
              "      <td id=\"T_8cbd4_row1_col8\" class=\"data row1 col8\" >0</td>\n",
              "      <td id=\"T_8cbd4_row1_col9\" class=\"data row1 col9\" >0</td>\n",
              "      <td id=\"T_8cbd4_row1_col10\" class=\"data row1 col10\" >0</td>\n",
              "      <td id=\"T_8cbd4_row1_col11\" class=\"data row1 col11\" >0</td>\n",
              "      <td id=\"T_8cbd4_row1_col12\" class=\"data row1 col12\" >0</td>\n",
              "      <td id=\"T_8cbd4_row1_col13\" class=\"data row1 col13\" >0</td>\n",
              "      <td id=\"T_8cbd4_row1_col14\" class=\"data row1 col14\" >0</td>\n",
              "      <td id=\"T_8cbd4_row1_col15\" class=\"data row1 col15\" >86</td>\n",
              "      <td id=\"T_8cbd4_row1_col16\" class=\"data row1 col16\" >253</td>\n",
              "      <td id=\"T_8cbd4_row1_col17\" class=\"data row1 col17\" >58</td>\n",
              "      <td id=\"T_8cbd4_row1_col18\" class=\"data row1 col18\" >0</td>\n",
              "      <td id=\"T_8cbd4_row1_col19\" class=\"data row1 col19\" >0</td>\n",
              "      <td id=\"T_8cbd4_row1_col20\" class=\"data row1 col20\" >0</td>\n",
              "      <td id=\"T_8cbd4_row1_col21\" class=\"data row1 col21\" >0</td>\n",
              "      <td id=\"T_8cbd4_row1_col22\" class=\"data row1 col22\" >0</td>\n",
              "      <td id=\"T_8cbd4_row1_col23\" class=\"data row1 col23\" >0</td>\n",
              "      <td id=\"T_8cbd4_row1_col24\" class=\"data row1 col24\" >0</td>\n",
              "      <td id=\"T_8cbd4_row1_col25\" class=\"data row1 col25\" >0</td>\n",
              "      <td id=\"T_8cbd4_row1_col26\" class=\"data row1 col26\" >0</td>\n",
              "      <td id=\"T_8cbd4_row1_col27\" class=\"data row1 col27\" >0</td>\n",
              "    </tr>\n",
              "    <tr>\n",
              "      <th id=\"T_8cbd4_level0_row2\" class=\"row_heading level0 row2\" >2</th>\n",
              "      <td id=\"T_8cbd4_row2_col0\" class=\"data row2 col0\" >0</td>\n",
              "      <td id=\"T_8cbd4_row2_col1\" class=\"data row2 col1\" >0</td>\n",
              "      <td id=\"T_8cbd4_row2_col2\" class=\"data row2 col2\" >0</td>\n",
              "      <td id=\"T_8cbd4_row2_col3\" class=\"data row2 col3\" >0</td>\n",
              "      <td id=\"T_8cbd4_row2_col4\" class=\"data row2 col4\" >0</td>\n",
              "      <td id=\"T_8cbd4_row2_col5\" class=\"data row2 col5\" >0</td>\n",
              "      <td id=\"T_8cbd4_row2_col6\" class=\"data row2 col6\" >0</td>\n",
              "      <td id=\"T_8cbd4_row2_col7\" class=\"data row2 col7\" >0</td>\n",
              "      <td id=\"T_8cbd4_row2_col8\" class=\"data row2 col8\" >0</td>\n",
              "      <td id=\"T_8cbd4_row2_col9\" class=\"data row2 col9\" >0</td>\n",
              "      <td id=\"T_8cbd4_row2_col10\" class=\"data row2 col10\" >0</td>\n",
              "      <td id=\"T_8cbd4_row2_col11\" class=\"data row2 col11\" >0</td>\n",
              "      <td id=\"T_8cbd4_row2_col12\" class=\"data row2 col12\" >0</td>\n",
              "      <td id=\"T_8cbd4_row2_col13\" class=\"data row2 col13\" >0</td>\n",
              "      <td id=\"T_8cbd4_row2_col14\" class=\"data row2 col14\" >0</td>\n",
              "      <td id=\"T_8cbd4_row2_col15\" class=\"data row2 col15\" >79</td>\n",
              "      <td id=\"T_8cbd4_row2_col16\" class=\"data row2 col16\" >253</td>\n",
              "      <td id=\"T_8cbd4_row2_col17\" class=\"data row2 col17\" >96</td>\n",
              "      <td id=\"T_8cbd4_row2_col18\" class=\"data row2 col18\" >0</td>\n",
              "      <td id=\"T_8cbd4_row2_col19\" class=\"data row2 col19\" >0</td>\n",
              "      <td id=\"T_8cbd4_row2_col20\" class=\"data row2 col20\" >0</td>\n",
              "      <td id=\"T_8cbd4_row2_col21\" class=\"data row2 col21\" >0</td>\n",
              "      <td id=\"T_8cbd4_row2_col22\" class=\"data row2 col22\" >0</td>\n",
              "      <td id=\"T_8cbd4_row2_col23\" class=\"data row2 col23\" >0</td>\n",
              "      <td id=\"T_8cbd4_row2_col24\" class=\"data row2 col24\" >0</td>\n",
              "      <td id=\"T_8cbd4_row2_col25\" class=\"data row2 col25\" >0</td>\n",
              "      <td id=\"T_8cbd4_row2_col26\" class=\"data row2 col26\" >0</td>\n",
              "      <td id=\"T_8cbd4_row2_col27\" class=\"data row2 col27\" >0</td>\n",
              "    </tr>\n",
              "    <tr>\n",
              "      <th id=\"T_8cbd4_level0_row3\" class=\"row_heading level0 row3\" >3</th>\n",
              "      <td id=\"T_8cbd4_row3_col0\" class=\"data row3 col0\" >0</td>\n",
              "      <td id=\"T_8cbd4_row3_col1\" class=\"data row3 col1\" >0</td>\n",
              "      <td id=\"T_8cbd4_row3_col2\" class=\"data row3 col2\" >0</td>\n",
              "      <td id=\"T_8cbd4_row3_col3\" class=\"data row3 col3\" >0</td>\n",
              "      <td id=\"T_8cbd4_row3_col4\" class=\"data row3 col4\" >0</td>\n",
              "      <td id=\"T_8cbd4_row3_col5\" class=\"data row3 col5\" >0</td>\n",
              "      <td id=\"T_8cbd4_row3_col6\" class=\"data row3 col6\" >0</td>\n",
              "      <td id=\"T_8cbd4_row3_col7\" class=\"data row3 col7\" >0</td>\n",
              "      <td id=\"T_8cbd4_row3_col8\" class=\"data row3 col8\" >0</td>\n",
              "      <td id=\"T_8cbd4_row3_col9\" class=\"data row3 col9\" >0</td>\n",
              "      <td id=\"T_8cbd4_row3_col10\" class=\"data row3 col10\" >0</td>\n",
              "      <td id=\"T_8cbd4_row3_col11\" class=\"data row3 col11\" >0</td>\n",
              "      <td id=\"T_8cbd4_row3_col12\" class=\"data row3 col12\" >0</td>\n",
              "      <td id=\"T_8cbd4_row3_col13\" class=\"data row3 col13\" >0</td>\n",
              "      <td id=\"T_8cbd4_row3_col14\" class=\"data row3 col14\" >0</td>\n",
              "      <td id=\"T_8cbd4_row3_col15\" class=\"data row3 col15\" >138</td>\n",
              "      <td id=\"T_8cbd4_row3_col16\" class=\"data row3 col16\" >254</td>\n",
              "      <td id=\"T_8cbd4_row3_col17\" class=\"data row3 col17\" >155</td>\n",
              "      <td id=\"T_8cbd4_row3_col18\" class=\"data row3 col18\" >0</td>\n",
              "      <td id=\"T_8cbd4_row3_col19\" class=\"data row3 col19\" >0</td>\n",
              "      <td id=\"T_8cbd4_row3_col20\" class=\"data row3 col20\" >0</td>\n",
              "      <td id=\"T_8cbd4_row3_col21\" class=\"data row3 col21\" >0</td>\n",
              "      <td id=\"T_8cbd4_row3_col22\" class=\"data row3 col22\" >0</td>\n",
              "      <td id=\"T_8cbd4_row3_col23\" class=\"data row3 col23\" >0</td>\n",
              "      <td id=\"T_8cbd4_row3_col24\" class=\"data row3 col24\" >0</td>\n",
              "      <td id=\"T_8cbd4_row3_col25\" class=\"data row3 col25\" >0</td>\n",
              "      <td id=\"T_8cbd4_row3_col26\" class=\"data row3 col26\" >0</td>\n",
              "      <td id=\"T_8cbd4_row3_col27\" class=\"data row3 col27\" >0</td>\n",
              "    </tr>\n",
              "    <tr>\n",
              "      <th id=\"T_8cbd4_level0_row4\" class=\"row_heading level0 row4\" >4</th>\n",
              "      <td id=\"T_8cbd4_row4_col0\" class=\"data row4 col0\" >0</td>\n",
              "      <td id=\"T_8cbd4_row4_col1\" class=\"data row4 col1\" >0</td>\n",
              "      <td id=\"T_8cbd4_row4_col2\" class=\"data row4 col2\" >0</td>\n",
              "      <td id=\"T_8cbd4_row4_col3\" class=\"data row4 col3\" >0</td>\n",
              "      <td id=\"T_8cbd4_row4_col4\" class=\"data row4 col4\" >0</td>\n",
              "      <td id=\"T_8cbd4_row4_col5\" class=\"data row4 col5\" >0</td>\n",
              "      <td id=\"T_8cbd4_row4_col6\" class=\"data row4 col6\" >0</td>\n",
              "      <td id=\"T_8cbd4_row4_col7\" class=\"data row4 col7\" >0</td>\n",
              "      <td id=\"T_8cbd4_row4_col8\" class=\"data row4 col8\" >0</td>\n",
              "      <td id=\"T_8cbd4_row4_col9\" class=\"data row4 col9\" >0</td>\n",
              "      <td id=\"T_8cbd4_row4_col10\" class=\"data row4 col10\" >0</td>\n",
              "      <td id=\"T_8cbd4_row4_col11\" class=\"data row4 col11\" >0</td>\n",
              "      <td id=\"T_8cbd4_row4_col12\" class=\"data row4 col12\" >0</td>\n",
              "      <td id=\"T_8cbd4_row4_col13\" class=\"data row4 col13\" >0</td>\n",
              "      <td id=\"T_8cbd4_row4_col14\" class=\"data row4 col14\" >0</td>\n",
              "      <td id=\"T_8cbd4_row4_col15\" class=\"data row4 col15\" >175</td>\n",
              "      <td id=\"T_8cbd4_row4_col16\" class=\"data row4 col16\" >253</td>\n",
              "      <td id=\"T_8cbd4_row4_col17\" class=\"data row4 col17\" >155</td>\n",
              "      <td id=\"T_8cbd4_row4_col18\" class=\"data row4 col18\" >0</td>\n",
              "      <td id=\"T_8cbd4_row4_col19\" class=\"data row4 col19\" >0</td>\n",
              "      <td id=\"T_8cbd4_row4_col20\" class=\"data row4 col20\" >0</td>\n",
              "      <td id=\"T_8cbd4_row4_col21\" class=\"data row4 col21\" >0</td>\n",
              "      <td id=\"T_8cbd4_row4_col22\" class=\"data row4 col22\" >0</td>\n",
              "      <td id=\"T_8cbd4_row4_col23\" class=\"data row4 col23\" >0</td>\n",
              "      <td id=\"T_8cbd4_row4_col24\" class=\"data row4 col24\" >0</td>\n",
              "      <td id=\"T_8cbd4_row4_col25\" class=\"data row4 col25\" >0</td>\n",
              "      <td id=\"T_8cbd4_row4_col26\" class=\"data row4 col26\" >0</td>\n",
              "      <td id=\"T_8cbd4_row4_col27\" class=\"data row4 col27\" >0</td>\n",
              "    </tr>\n",
              "    <tr>\n",
              "      <th id=\"T_8cbd4_level0_row5\" class=\"row_heading level0 row5\" >5</th>\n",
              "      <td id=\"T_8cbd4_row5_col0\" class=\"data row5 col0\" >0</td>\n",
              "      <td id=\"T_8cbd4_row5_col1\" class=\"data row5 col1\" >0</td>\n",
              "      <td id=\"T_8cbd4_row5_col2\" class=\"data row5 col2\" >0</td>\n",
              "      <td id=\"T_8cbd4_row5_col3\" class=\"data row5 col3\" >0</td>\n",
              "      <td id=\"T_8cbd4_row5_col4\" class=\"data row5 col4\" >0</td>\n",
              "      <td id=\"T_8cbd4_row5_col5\" class=\"data row5 col5\" >0</td>\n",
              "      <td id=\"T_8cbd4_row5_col6\" class=\"data row5 col6\" >0</td>\n",
              "      <td id=\"T_8cbd4_row5_col7\" class=\"data row5 col7\" >0</td>\n",
              "      <td id=\"T_8cbd4_row5_col8\" class=\"data row5 col8\" >0</td>\n",
              "      <td id=\"T_8cbd4_row5_col9\" class=\"data row5 col9\" >0</td>\n",
              "      <td id=\"T_8cbd4_row5_col10\" class=\"data row5 col10\" >0</td>\n",
              "      <td id=\"T_8cbd4_row5_col11\" class=\"data row5 col11\" >0</td>\n",
              "      <td id=\"T_8cbd4_row5_col12\" class=\"data row5 col12\" >0</td>\n",
              "      <td id=\"T_8cbd4_row5_col13\" class=\"data row5 col13\" >0</td>\n",
              "      <td id=\"T_8cbd4_row5_col14\" class=\"data row5 col14\" >14</td>\n",
              "      <td id=\"T_8cbd4_row5_col15\" class=\"data row5 col15\" >229</td>\n",
              "      <td id=\"T_8cbd4_row5_col16\" class=\"data row5 col16\" >253</td>\n",
              "      <td id=\"T_8cbd4_row5_col17\" class=\"data row5 col17\" >88</td>\n",
              "      <td id=\"T_8cbd4_row5_col18\" class=\"data row5 col18\" >0</td>\n",
              "      <td id=\"T_8cbd4_row5_col19\" class=\"data row5 col19\" >0</td>\n",
              "      <td id=\"T_8cbd4_row5_col20\" class=\"data row5 col20\" >0</td>\n",
              "      <td id=\"T_8cbd4_row5_col21\" class=\"data row5 col21\" >0</td>\n",
              "      <td id=\"T_8cbd4_row5_col22\" class=\"data row5 col22\" >0</td>\n",
              "      <td id=\"T_8cbd4_row5_col23\" class=\"data row5 col23\" >0</td>\n",
              "      <td id=\"T_8cbd4_row5_col24\" class=\"data row5 col24\" >0</td>\n",
              "      <td id=\"T_8cbd4_row5_col25\" class=\"data row5 col25\" >0</td>\n",
              "      <td id=\"T_8cbd4_row5_col26\" class=\"data row5 col26\" >0</td>\n",
              "      <td id=\"T_8cbd4_row5_col27\" class=\"data row5 col27\" >0</td>\n",
              "    </tr>\n",
              "    <tr>\n",
              "      <th id=\"T_8cbd4_level0_row6\" class=\"row_heading level0 row6\" >6</th>\n",
              "      <td id=\"T_8cbd4_row6_col0\" class=\"data row6 col0\" >0</td>\n",
              "      <td id=\"T_8cbd4_row6_col1\" class=\"data row6 col1\" >0</td>\n",
              "      <td id=\"T_8cbd4_row6_col2\" class=\"data row6 col2\" >0</td>\n",
              "      <td id=\"T_8cbd4_row6_col3\" class=\"data row6 col3\" >0</td>\n",
              "      <td id=\"T_8cbd4_row6_col4\" class=\"data row6 col4\" >0</td>\n",
              "      <td id=\"T_8cbd4_row6_col5\" class=\"data row6 col5\" >0</td>\n",
              "      <td id=\"T_8cbd4_row6_col6\" class=\"data row6 col6\" >0</td>\n",
              "      <td id=\"T_8cbd4_row6_col7\" class=\"data row6 col7\" >0</td>\n",
              "      <td id=\"T_8cbd4_row6_col8\" class=\"data row6 col8\" >0</td>\n",
              "      <td id=\"T_8cbd4_row6_col9\" class=\"data row6 col9\" >0</td>\n",
              "      <td id=\"T_8cbd4_row6_col10\" class=\"data row6 col10\" >0</td>\n",
              "      <td id=\"T_8cbd4_row6_col11\" class=\"data row6 col11\" >0</td>\n",
              "      <td id=\"T_8cbd4_row6_col12\" class=\"data row6 col12\" >0</td>\n",
              "      <td id=\"T_8cbd4_row6_col13\" class=\"data row6 col13\" >0</td>\n",
              "      <td id=\"T_8cbd4_row6_col14\" class=\"data row6 col14\" >20</td>\n",
              "      <td id=\"T_8cbd4_row6_col15\" class=\"data row6 col15\" >253</td>\n",
              "      <td id=\"T_8cbd4_row6_col16\" class=\"data row6 col16\" >253</td>\n",
              "      <td id=\"T_8cbd4_row6_col17\" class=\"data row6 col17\" >58</td>\n",
              "      <td id=\"T_8cbd4_row6_col18\" class=\"data row6 col18\" >0</td>\n",
              "      <td id=\"T_8cbd4_row6_col19\" class=\"data row6 col19\" >0</td>\n",
              "      <td id=\"T_8cbd4_row6_col20\" class=\"data row6 col20\" >0</td>\n",
              "      <td id=\"T_8cbd4_row6_col21\" class=\"data row6 col21\" >0</td>\n",
              "      <td id=\"T_8cbd4_row6_col22\" class=\"data row6 col22\" >0</td>\n",
              "      <td id=\"T_8cbd4_row6_col23\" class=\"data row6 col23\" >0</td>\n",
              "      <td id=\"T_8cbd4_row6_col24\" class=\"data row6 col24\" >0</td>\n",
              "      <td id=\"T_8cbd4_row6_col25\" class=\"data row6 col25\" >0</td>\n",
              "      <td id=\"T_8cbd4_row6_col26\" class=\"data row6 col26\" >0</td>\n",
              "      <td id=\"T_8cbd4_row6_col27\" class=\"data row6 col27\" >0</td>\n",
              "    </tr>\n",
              "  </tbody>\n",
              "</table>\n"
            ],
            "text/plain": [
              "<pandas.io.formats.style.Styler at 0x7f8c684d8f50>"
            ]
          },
          "metadata": {},
          "execution_count": 118
        }
      ],
      "source": [
        "df.style.set_properties(**{'font - size': '6pt'}).background_gradient('Greys')"
      ]
    },
    {
      "cell_type": "code",
      "execution_count": 119,
      "metadata": {
        "id": "CFxTVVAxzZa1"
      },
      "outputs": [],
      "source": [
        "threes_tensor  = [tensor(Image.open(o)) for o in threes]"
      ]
    },
    {
      "cell_type": "code",
      "execution_count": null,
      "metadata": {
        "id": "W1q4a8330Ihi"
      },
      "outputs": [],
      "source": [
        "threes_tensor"
      ]
    },
    {
      "cell_type": "code",
      "execution_count": 121,
      "metadata": {
        "id": "Pqyo73dS0M-O"
      },
      "outputs": [],
      "source": [
        "sevens_tensor = [tensor(Image.open(o)) for o in sevens]"
      ]
    },
    {
      "cell_type": "code",
      "execution_count": null,
      "metadata": {
        "id": "SASsLLPP0-WV"
      },
      "outputs": [],
      "source": [
        "sevens_tensor[0]"
      ]
    },
    {
      "cell_type": "code",
      "execution_count": 123,
      "metadata": {
        "colab": {
          "base_uri": "https://localhost:8080/"
        },
        "id": "MlKmkBH31MSY",
        "outputId": "0d7747c3-7976-4f4e-ffd6-9346941fb787"
      },
      "outputs": [
        {
          "output_type": "stream",
          "name": "stdout",
          "text": [
            "Requirement already satisfied: torchvision in /usr/local/lib/python3.7/dist-packages (0.11.1+cu111)\n",
            "Requirement already satisfied: torch==1.10.0 in /usr/local/lib/python3.7/dist-packages (from torchvision) (1.10.0+cu111)\n",
            "Requirement already satisfied: numpy in /usr/local/lib/python3.7/dist-packages (from torchvision) (1.21.5)\n",
            "Requirement already satisfied: pillow!=8.3.0,>=5.3.0 in /usr/local/lib/python3.7/dist-packages (from torchvision) (7.1.2)\n",
            "Requirement already satisfied: typing-extensions in /usr/local/lib/python3.7/dist-packages (from torch==1.10.0->torchvision) (3.10.0.2)\n"
          ]
        }
      ],
      "source": [
        "!pip install torchvision"
      ]
    },
    {
      "cell_type": "code",
      "execution_count": 124,
      "metadata": {
        "id": "WR7SGYa72GQa"
      },
      "outputs": [],
      "source": [
        "import torch\n",
        "import torchvision"
      ]
    },
    {
      "cell_type": "code",
      "execution_count": 125,
      "metadata": {
        "id": "s12YSWbt2d0t"
      },
      "outputs": [],
      "source": [
        "sevens_stack = torch.stack(sevens_tensor).float() /255"
      ]
    },
    {
      "cell_type": "code",
      "execution_count": 126,
      "metadata": {
        "id": "Z54ERbaS3C4T"
      },
      "outputs": [],
      "source": [
        "threes_stack = torch.stack(threes_tensor).float() /255"
      ]
    },
    {
      "cell_type": "code",
      "execution_count": 149,
      "metadata": {
        "colab": {
          "base_uri": "https://localhost:8080/"
        },
        "id": "oRaIj0oK3J_I",
        "outputId": "166750da-dcab-4705-8595-79004a60e24e"
      },
      "outputs": [
        {
          "output_type": "execute_result",
          "data": {
            "text/plain": [
              "torch.Size([6265, 28, 28])"
            ]
          },
          "metadata": {},
          "execution_count": 149
        }
      ],
      "source": [
        "sevens_stack.shape\n",
        "\n",
        "\n"
      ]
    },
    {
      "cell_type": "code",
      "execution_count": 148,
      "metadata": {
        "colab": {
          "base_uri": "https://localhost:8080/"
        },
        "id": "4g59OQcW3rmy",
        "outputId": "e47020bb-2bbf-4b4f-a45a-7a7a0a6a65da"
      },
      "outputs": [
        {
          "output_type": "execute_result",
          "data": {
            "text/plain": [
              "3"
            ]
          },
          "metadata": {},
          "execution_count": 148
        }
      ],
      "source": [
        "len(sevens_stack.shape)"
      ]
    },
    {
      "cell_type": "code",
      "execution_count": 147,
      "metadata": {
        "id": "DxaYBmgg3zjO"
      },
      "outputs": [],
      "source": [
        "valid_3_tens = torch.stack([tensor(Image.open(o)) for o in(threes)])"
      ]
    },
    {
      "cell_type": "code",
      "execution_count": 130,
      "metadata": {
        "id": "rfBH9bC45AQ7"
      },
      "outputs": [],
      "source": [
        "valid_7_tens = torch.stack([tensor(Image.open(o)) for o in(sevens)])\n",
        " "
      ]
    },
    {
      "cell_type": "code",
      "execution_count": 146,
      "metadata": {
        "id": "FYq_x_7G5rFj"
      },
      "outputs": [],
      "source": [
        "valid_3_tens = valid_3_tens.float() / 255"
      ]
    },
    {
      "cell_type": "code",
      "execution_count": 150,
      "metadata": {
        "id": "ITe6vNYu53cT"
      },
      "outputs": [],
      "source": [
        "#Changing the shape of our tensor without altering the contents\n",
        "train_x = torch.cat([sevens_stack, threes_stack]).view(-1,28 * 28)"
      ]
    },
    {
      "cell_type": "code",
      "source": [
        "train_x.shape"
      ],
      "metadata": {
        "colab": {
          "base_uri": "https://localhost:8080/"
        },
        "id": "RCguERI03f85",
        "outputId": "1451f2f1-5d75-4979-c24b-6ab78bd966a1"
      },
      "execution_count": 151,
      "outputs": [
        {
          "output_type": "execute_result",
          "data": {
            "text/plain": [
              "torch.Size([12396, 784])"
            ]
          },
          "metadata": {},
          "execution_count": 151
        }
      ]
    },
    {
      "cell_type": "code",
      "source": [
        "#labeled training set \n",
        "train_y = tensor([1] * len(threes) + [0] * len(sevens)).unsqueeze(1)"
      ],
      "metadata": {
        "id": "sLcM2etXjeAi"
      },
      "execution_count": 134,
      "outputs": []
    },
    {
      "cell_type": "code",
      "source": [
        "train_y.shape"
      ],
      "metadata": {
        "colab": {
          "base_uri": "https://localhost:8080/"
        },
        "id": "SqQIrMpe3oZX",
        "outputId": "c0c3b087-d7c8-49d6-dc69-323038991b1f"
      },
      "execution_count": 152,
      "outputs": [
        {
          "output_type": "execute_result",
          "data": {
            "text/plain": [
              "torch.Size([12396, 1])"
            ]
          },
          "metadata": {},
          "execution_count": 152
        }
      ]
    },
    {
      "cell_type": "code",
      "source": [
        ""
      ],
      "metadata": {
        "id": "Pw86mbHi3pjX"
      },
      "execution_count": null,
      "outputs": []
    },
    {
      "cell_type": "code",
      "source": [
        "dset = list(zip(train_x, train_y))"
      ],
      "metadata": {
        "id": "bZNzN4lqkxB-"
      },
      "execution_count": 135,
      "outputs": []
    },
    {
      "cell_type": "code",
      "source": [
        "dset[0]"
      ],
      "metadata": {
        "id": "T4DLPhmzlZpv"
      },
      "execution_count": null,
      "outputs": []
    },
    {
      "cell_type": "code",
      "source": [
        "#Here we change the contents of our tensor without altering the contents\n",
        "valid_x  = torch.cat([valid_3_tens, valid_7_tens]).view(-1, 28 * 28)"
      ],
      "metadata": {
        "id": "2gafDS8slmEd"
      },
      "execution_count": 155,
      "outputs": []
    },
    {
      "cell_type": "code",
      "source": [
        "valid_y = tensor([1] * len(valid_3_tens)  +  [0] * len(valid_7_tens)) "
      ],
      "metadata": {
        "id": "k-E2QSQ8mZiH"
      },
      "execution_count": 156,
      "outputs": []
    },
    {
      "cell_type": "code",
      "source": [
        "valid_dset= list(zip(valid_x, valid_y))"
      ],
      "metadata": {
        "id": "autjeFg3neUV"
      },
      "execution_count": 157,
      "outputs": []
    },
    {
      "cell_type": "code",
      "source": [
        "#Here we create a function to randomly initialize the weights \n",
        "def init_params(size, std=1.0):\n",
        "  return (torch.randn(size)*std).requires_grad_() "
      ],
      "metadata": {
        "id": "KjUYYN_anu_X"
      },
      "execution_count": 158,
      "outputs": []
    },
    {
      "cell_type": "code",
      "source": [
        "weights = init_params((28 * 28,1))"
      ],
      "metadata": {
        "id": "RujoHXtsxUTt"
      },
      "execution_count": 162,
      "outputs": []
    },
    {
      "cell_type": "code",
      "source": [
        "bias = init_params(1)"
      ],
      "metadata": {
        "id": "Dcx_JoCBt7fF"
      },
      "execution_count": 163,
      "outputs": []
    },
    {
      "cell_type": "code",
      "source": [
        "#prediction for one image\n",
        "\n",
        "prediction = (train_x[0]*weights.T).sum() + bias"
      ],
      "metadata": {
        "id": "U2FJkuAbr5v9"
      },
      "execution_count": 164,
      "outputs": []
    },
    {
      "cell_type": "code",
      "source": [
        "prediction"
      ],
      "metadata": {
        "colab": {
          "base_uri": "https://localhost:8080/"
        },
        "id": "0msOQUlKxpIJ",
        "outputId": "315469da-cac0-44c9-aeb0-de8e3657e791"
      },
      "execution_count": 165,
      "outputs": [
        {
          "output_type": "execute_result",
          "data": {
            "text/plain": [
              "tensor([4.2878], grad_fn=<AddBackward0>)"
            ]
          },
          "metadata": {},
          "execution_count": 165
        }
      ]
    },
    {
      "cell_type": "code",
      "source": [
        "def linear1(xb): return xb@weights + bias"
      ],
      "metadata": {
        "id": "bt9LMS03rwPb"
      },
      "execution_count": 166,
      "outputs": []
    },
    {
      "cell_type": "code",
      "source": [
        "preds = linear1(train_x)"
      ],
      "metadata": {
        "id": "WV2sXqx82P21"
      },
      "execution_count": 167,
      "outputs": []
    },
    {
      "cell_type": "code",
      "source": [
        "preds"
      ],
      "metadata": {
        "colab": {
          "base_uri": "https://localhost:8080/"
        },
        "id": "q9Yxof_s2f5v",
        "outputId": "f38ab668-3358-41c0-e88f-a311a8050218"
      },
      "execution_count": 168,
      "outputs": [
        {
          "output_type": "execute_result",
          "data": {
            "text/plain": [
              "tensor([[ 4.2878],\n",
              "        [ 1.4911],\n",
              "        [-1.8253],\n",
              "        ...,\n",
              "        [10.1987],\n",
              "        [17.3062],\n",
              "        [11.0816]], grad_fn=<AddBackward0>)"
            ]
          },
          "metadata": {},
          "execution_count": 168
        }
      ]
    },
    {
      "cell_type": "code",
      "source": [
        "corrects = (preds>0.0) == train_y"
      ],
      "metadata": {
        "id": "pIIT38KX4MME"
      },
      "execution_count": 169,
      "outputs": []
    },
    {
      "cell_type": "code",
      "source": [
        "corrects"
      ],
      "metadata": {
        "colab": {
          "base_uri": "https://localhost:8080/"
        },
        "id": "XuABsAS45m1X",
        "outputId": "92875370-835a-4b08-83e7-7514fcf02ae4"
      },
      "execution_count": 170,
      "outputs": [
        {
          "output_type": "execute_result",
          "data": {
            "text/plain": [
              "tensor([[ True],\n",
              "        [ True],\n",
              "        [False],\n",
              "        ...,\n",
              "        [False],\n",
              "        [False],\n",
              "        [False]])"
            ]
          },
          "metadata": {},
          "execution_count": 170
        }
      ]
    },
    {
      "cell_type": "code",
      "source": [
        "corrects.float().mean().item()"
      ],
      "metadata": {
        "colab": {
          "base_uri": "https://localhost:8080/"
        },
        "id": "IngofD475ofE",
        "outputId": "d90476a3-2a01-4916-b36b-dfbc40355a2f"
      },
      "execution_count": 172,
      "outputs": [
        {
          "output_type": "execute_result",
          "data": {
            "text/plain": [
              "0.47652468085289"
            ]
          },
          "metadata": {},
          "execution_count": 172
        }
      ]
    },
    {
      "cell_type": "code",
      "source": [
        "weights[0] *= 1.0001"
      ],
      "metadata": {
        "id": "gbzPErb56OS0"
      },
      "execution_count": null,
      "outputs": []
    },
    {
      "cell_type": "code",
      "source": [
        "#Loss function calculates how fast our model is from the desired value or target value, it does this by taking the difference between the actual value minus the predicted value\n",
        "\n"
      ],
      "metadata": {
        "id": "EcIeJkZy7Zxw"
      },
      "execution_count": null,
      "outputs": []
    },
    {
      "cell_type": "code",
      "source": [
        "#The equation y = wx + b represents our prediction y is the predicted value w is the weights of our model which is a matrix and x is the input values  while b is a bias\n",
        "#When we slightly alter the weights w we expect the predicted value y to either rise or fall depending on the direction of the alteration\n"
      ],
      "metadata": {
        "id": "TBTgEw5L7WKx"
      },
      "execution_count": null,
      "outputs": []
    },
    {
      "cell_type": "code",
      "source": [
        "trgts = tensor([1,0,1])\n",
        "prctd = tensor([0.9, 0.4, 0.2]) "
      ],
      "metadata": {
        "id": "kMgdrCoT7RS8"
      },
      "execution_count": 178,
      "outputs": []
    },
    {
      "cell_type": "code",
      "source": [
        "#define a function called mnist_loss that takes in two parameters predictions and targets \n",
        "#then returns an expression that has a pytorch method torch.where, we pass in the target and equate it to 1 then get the \n",
        "#difference of the target and the predictions then calculate the mean\n",
        "def mnist_loss(predictions, targets):\n",
        "  return torch.where(targets==1, 1 - predictions, predictions).mean()\n",
        "\n"
      ],
      "metadata": {
        "id": "ilbMs8AqGhjJ"
      },
      "execution_count": 182,
      "outputs": []
    },
    {
      "cell_type": "code",
      "source": [
        "torch.where(trgts == 1, 1 - prctd, prctd)"
      ],
      "metadata": {
        "colab": {
          "base_uri": "https://localhost:8080/"
        },
        "id": "13VJO5ctHXko",
        "outputId": "6f653dd7-7a52-4267-bf45-97cc3382e8d3"
      },
      "execution_count": 183,
      "outputs": [
        {
          "output_type": "execute_result",
          "data": {
            "text/plain": [
              "tensor([0.1000, 0.4000, 0.8000])"
            ]
          },
          "metadata": {},
          "execution_count": 183
        }
      ]
    },
    {
      "cell_type": "code",
      "source": [
        "mnist_loss(prctd, trgts)"
      ],
      "metadata": {
        "colab": {
          "base_uri": "https://localhost:8080/"
        },
        "id": "MJ7h5HhWIwYq",
        "outputId": "978e0717-2240-4c93-f37e-98b49c858796"
      },
      "execution_count": 184,
      "outputs": [
        {
          "output_type": "execute_result",
          "data": {
            "text/plain": [
              "tensor(0.4333)"
            ]
          },
          "metadata": {},
          "execution_count": 184
        }
      ]
    },
    {
      "cell_type": "code",
      "source": [
        ""
      ],
      "metadata": {
        "id": "tHNf2lEaJS66"
      },
      "execution_count": null,
      "outputs": []
    },
    {
      "cell_type": "code",
      "source": [
        ""
      ],
      "metadata": {
        "id": "wMnWIQt4HG5l"
      },
      "execution_count": null,
      "outputs": []
    },
    {
      "cell_type": "code",
      "source": [
        ""
      ],
      "metadata": {
        "id": "RFhbIprsHBwu"
      },
      "execution_count": null,
      "outputs": []
    },
    {
      "cell_type": "code",
      "source": [
        ""
      ],
      "metadata": {
        "id": "45p_ZOksGeuo"
      },
      "execution_count": null,
      "outputs": []
    },
    {
      "cell_type": "code",
      "source": [
        "\n",
        "\n",
        "\n",
        "\n",
        "\n",
        "\n",
        "\n",
        "\n",
        "\n",
        "\n",
        "\n",
        "\n",
        "\n"
      ],
      "metadata": {
        "id": "oLh5a-Vn6Kzq"
      },
      "execution_count": null,
      "outputs": []
    }
  ],
  "metadata": {
    "colab": {
      "name": "Loss Functions.ipynb",
      "provenance": [],
      "collapsed_sections": [],
      "authorship_tag": "ABX9TyOonXBuXDiVfJ9mzRcWsJ5W",
      "include_colab_link": true
    },
    "kernelspec": {
      "display_name": "Python 3",
      "name": "python3"
    },
    "language_info": {
      "name": "python"
    }
  },
  "nbformat": 4,
  "nbformat_minor": 0
}