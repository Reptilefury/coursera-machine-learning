{
  "nbformat": 4,
  "nbformat_minor": 0,
  "metadata": {
    "colab": {
      "name": "Loss Functions.ipynb",
      "provenance": [],
      "authorship_tag": "ABX9TyM51srleLUcmJsVrnUEh3P6",
      "include_colab_link": true
    },
    "kernelspec": {
      "name": "python3",
      "display_name": "Python 3"
    },
    "language_info": {
      "name": "python"
    }
  },
  "cells": [
    {
      "cell_type": "markdown",
      "metadata": {
        "id": "view-in-github",
        "colab_type": "text"
      },
      "source": [
        "<a href=\"https://colab.research.google.com/github/Reptilefury/coursera-machine-learning/blob/main/Loss_Functions.ipynb\" target=\"_parent\"><img src=\"https://colab.research.google.com/assets/colab-badge.svg\" alt=\"Open In Colab\"/></a>"
      ]
    },
    {
      "cell_type": "code",
      "execution_count": 1,
      "metadata": {
        "colab": {
          "base_uri": "https://localhost:8080/"
        },
        "id": "VjAVPTEqyh1y",
        "outputId": "22ad8d09-002b-483d-b1e0-896e161c59f8"
      },
      "outputs": [
        {
          "output_type": "stream",
          "name": "stdout",
          "text": [
            "\u001b[K     |████████████████████████████████| 720 kB 8.4 MB/s \n",
            "\u001b[K     |████████████████████████████████| 46 kB 2.2 MB/s \n",
            "\u001b[K     |████████████████████████████████| 189 kB 40.6 MB/s \n",
            "\u001b[K     |████████████████████████████████| 1.2 MB 28.6 MB/s \n",
            "\u001b[K     |████████████████████████████████| 56 kB 2.3 MB/s \n",
            "\u001b[K     |████████████████████████████████| 51 kB 283 kB/s \n",
            "\u001b[?25h"
          ]
        }
      ],
      "source": [
        "!pip install -Uqq fastbook"
      ]
    },
    {
      "cell_type": "code",
      "source": [
        "import fastbook\n",
        "fastbook.setup_book()\n",
        "from fastbook import *\n"
      ],
      "metadata": {
        "colab": {
          "base_uri": "https://localhost:8080/"
        },
        "id": "82ZSAszky3tC",
        "outputId": "688fe93e-6a87-45f8-a100-055b6c35b408"
      },
      "execution_count": 2,
      "outputs": [
        {
          "output_type": "stream",
          "name": "stdout",
          "text": [
            "Mounted at /content/gdrive\n"
          ]
        }
      ]
    },
    {
      "cell_type": "code",
      "source": [
        "from fastai.vision.all import *"
      ],
      "metadata": {
        "id": "_DfXCO2szIO9"
      },
      "execution_count": 3,
      "outputs": []
    },
    {
      "cell_type": "code",
      "source": [
        "path = untar_data(URLs.MNIST_SAMPLE)"
      ],
      "metadata": {
        "id": "pRxlf2QK0Td3"
      },
      "execution_count": 15,
      "outputs": []
    },
    {
      "cell_type": "code",
      "source": [
        "path.ls()"
      ],
      "metadata": {
        "colab": {
          "base_uri": "https://localhost:8080/"
        },
        "id": "RgwWptuM0rWw",
        "outputId": "f5390d2f-49f1-49b0-9c1e-5ed696691a93"
      },
      "execution_count": 16,
      "outputs": [
        {
          "output_type": "execute_result",
          "data": {
            "text/plain": [
              "(#3) [Path('/root/.fastai/data/mnist_sample/labels.csv'),Path('/root/.fastai/data/mnist_sample/train'),Path('/root/.fastai/data/mnist_sample/valid')]"
            ]
          },
          "metadata": {},
          "execution_count": 16
        }
      ]
    },
    {
      "cell_type": "code",
      "source": [
        "(path/'train').ls()"
      ],
      "metadata": {
        "colab": {
          "base_uri": "https://localhost:8080/"
        },
        "id": "FqUeB0Ge0uKC",
        "outputId": "4ed24642-ba0c-4fa0-92df-bfa80fa34a75"
      },
      "execution_count": 17,
      "outputs": [
        {
          "output_type": "execute_result",
          "data": {
            "text/plain": [
              "(#2) [Path('/root/.fastai/data/mnist_sample/train/7'),Path('/root/.fastai/data/mnist_sample/train/3')]"
            ]
          },
          "metadata": {},
          "execution_count": 17
        }
      ]
    },
    {
      "cell_type": "code",
      "source": [
        "(path/'train'/'3').ls()"
      ],
      "metadata": {
        "colab": {
          "base_uri": "https://localhost:8080/"
        },
        "id": "_MQLnq4E0xLu",
        "outputId": "ac1ae1eb-fdd5-4f75-f8e6-94b846ee0fd1"
      },
      "execution_count": 18,
      "outputs": [
        {
          "output_type": "execute_result",
          "data": {
            "text/plain": [
              "(#6131) [Path('/root/.fastai/data/mnist_sample/train/3/18453.png'),Path('/root/.fastai/data/mnist_sample/train/3/2774.png'),Path('/root/.fastai/data/mnist_sample/train/3/13026.png'),Path('/root/.fastai/data/mnist_sample/train/3/50201.png'),Path('/root/.fastai/data/mnist_sample/train/3/45273.png'),Path('/root/.fastai/data/mnist_sample/train/3/2128.png'),Path('/root/.fastai/data/mnist_sample/train/3/50481.png'),Path('/root/.fastai/data/mnist_sample/train/3/50403.png'),Path('/root/.fastai/data/mnist_sample/train/3/28380.png'),Path('/root/.fastai/data/mnist_sample/train/3/28796.png')...]"
            ]
          },
          "metadata": {},
          "execution_count": 18
        }
      ]
    },
    {
      "cell_type": "code",
      "source": [
        "(path/'train'/'7').ls()"
      ],
      "metadata": {
        "colab": {
          "base_uri": "https://localhost:8080/"
        },
        "id": "OSvT9nMu1HzL",
        "outputId": "60612a88-b6c8-4674-dc42-840722cc04f4"
      },
      "execution_count": 19,
      "outputs": [
        {
          "output_type": "execute_result",
          "data": {
            "text/plain": [
              "(#6265) [Path('/root/.fastai/data/mnist_sample/train/7/53614.png'),Path('/root/.fastai/data/mnist_sample/train/7/21662.png'),Path('/root/.fastai/data/mnist_sample/train/7/39659.png'),Path('/root/.fastai/data/mnist_sample/train/7/45374.png'),Path('/root/.fastai/data/mnist_sample/train/7/26894.png'),Path('/root/.fastai/data/mnist_sample/train/7/21624.png'),Path('/root/.fastai/data/mnist_sample/train/7/6167.png'),Path('/root/.fastai/data/mnist_sample/train/7/8214.png'),Path('/root/.fastai/data/mnist_sample/train/7/24181.png'),Path('/root/.fastai/data/mnist_sample/train/7/53666.png')...]"
            ]
          },
          "metadata": {},
          "execution_count": 19
        }
      ]
    },
    {
      "cell_type": "code",
      "source": [
        "threes = (path/'train'/'3').ls().sorted()\n",
        "#This is how we assign images labeled 3 to a variable so that we can easily access it"
      ],
      "metadata": {
        "id": "bw4zbbF41N_9"
      },
      "execution_count": 24,
      "outputs": []
    },
    {
      "cell_type": "code",
      "source": [
        "sevens = (path/'train'/'7').ls().sorted()\n",
        "#This here assign the path to our 7 images to a variable that we will use to access"
      ],
      "metadata": {
        "id": "pEhHADZP1Ut8"
      },
      "execution_count": 26,
      "outputs": []
    },
    {
      "cell_type": "code",
      "source": [
        "image_three = threes[0]"
      ],
      "metadata": {
        "id": "FDulZMHv1n4u"
      },
      "execution_count": 28,
      "outputs": []
    },
    {
      "cell_type": "code",
      "source": [
        "image_three"
      ],
      "metadata": {
        "colab": {
          "base_uri": "https://localhost:8080/"
        },
        "id": "Dii0hlZs2pM-",
        "outputId": "17ba556e-e159-48f8-916d-a621ad7d51fd"
      },
      "execution_count": 29,
      "outputs": [
        {
          "output_type": "execute_result",
          "data": {
            "text/plain": [
              "Path('/root/.fastai/data/mnist_sample/train/3/10.png')"
            ]
          },
          "metadata": {},
          "execution_count": 29
        }
      ]
    },
    {
      "cell_type": "code",
      "source": [
        "Image.open(threes[0])"
      ],
      "metadata": {
        "colab": {
          "base_uri": "https://localhost:8080/",
          "height": 45
        },
        "id": "1cc2aKyH2rAn",
        "outputId": "ad4321cf-75f3-46b0-d5a8-9752c3714160"
      },
      "execution_count": 30,
      "outputs": [
        {
          "output_type": "execute_result",
          "data": {
            "image/png": "[encoded data removed]",
            "text/plain": [
              "<PIL.PngImagePlugin.PngImageFile image mode=L size=28x28 at 0x7FC19EC4C490>"
            ]
          },
          "metadata": {},
          "execution_count": 30
        }
      ]
    },
    {
      "cell_type": "code",
      "source": [
        "open_threes = Image.open(image_three)"
      ],
      "metadata": {
        "id": "YojHA-p722gr"
      },
      "execution_count": 32,
      "outputs": []
    },
    {
      "cell_type": "code",
      "source": [
        "open_threes"
      ],
      "metadata": {
        "colab": {
          "base_uri": "https://localhost:8080/",
          "height": 45
        },
        "id": "l5EBIUGd29-v",
        "outputId": "76b3ca96-ab71-496a-9d1c-a3990a94aa98"
      },
      "execution_count": 33,
      "outputs": [
        {
          "output_type": "execute_result",
          "data": {
            "image/png": "[encoded data removed]",
            "text/plain": [
              "<PIL.PngImagePlugin.PngImageFile image mode=L size=28x28 at 0x7FC19ECF6850>"
            ]
          },
          "metadata": {},
          "execution_count": 33
        }
      ]
    },
    {
      "cell_type": "code",
      "source": [
        "image_seven = Image.open(sevens[0])"
      ],
      "metadata": {
        "id": "q1LM5oAb3Pv1"
      },
      "execution_count": 34,
      "outputs": []
    },
    {
      "cell_type": "code",
      "source": [
        "image_seven"
      ],
      "metadata": {
        "colab": {
          "base_uri": "https://localhost:8080/",
          "height": 45
        },
        "id": "tOxWD5is3Yyj",
        "outputId": "c337659a-a264-4d08-aedf-c38e6c568720"
      },
      "execution_count": 35,
      "outputs": [
        {
          "output_type": "execute_result",
          "data": {
            "image/png": "[encoded data removed]",
            "text/plain": [
              "<PIL.PngImagePlugin.PngImageFile image mode=L size=28x28 at 0x7FC19ECED090>"
            ]
          },
          "metadata": {},
          "execution_count": 35
        }
      ]
    },
    {
      "cell_type": "code",
      "source": [
        "array(image_seven)[0:28,0:28]\n",
        "#Here we take the image of 7 we stored in the variable image_seven earlier and then pass it into an array and size it up to 28 by 28 rows and columns\n"
      ],
      "metadata": {
        "id": "A5whOdBd3a3d"
      },
      "execution_count": null,
      "outputs": []
    },
    {
      "cell_type": "code",
      "source": [
        "#Here we can also pass it into a tensor\n",
        "tensor(image_seven)[4:10][4:10]"
      ],
      "metadata": {
        "colab": {
          "base_uri": "https://localhost:8080/"
        },
        "id": "J8AXl27Q4QxV",
        "outputId": "d1b3328b-ba2f-45b9-e6ef-973e30b3e033"
      },
      "execution_count": 42,
      "outputs": [
        {
          "output_type": "execute_result",
          "data": {
            "text/plain": [
              "tensor([[  0,   0,   0,  21, 161, 250, 250, 252, 250, 250, 250, 252, 250, 250, 250, 252, 250, 250, 250, 252, 250, 100,   0,   0,   0,   0,   0,   0],\n",
              "        [  0,   0,   0,  51, 250, 250, 250, 252, 189, 190, 250, 252, 250, 250, 250, 252, 250, 250, 250, 252, 189,  40,   0,   0,   0,   0,   0,   0]], dtype=torch.uint8)"
            ]
          },
          "metadata": {},
          "execution_count": 42
        }
      ]
    },
    {
      "cell_type": "code",
      "source": [
        "image_three = Image.open(threes[0])"
      ],
      "metadata": {
        "id": "ra2zTkNW5At9"
      },
      "execution_count": 43,
      "outputs": []
    },
    {
      "cell_type": "code",
      "source": [
        "image_three"
      ],
      "metadata": {
        "colab": {
          "base_uri": "https://localhost:8080/",
          "height": 45
        },
        "id": "ty6dsD4E5b8w",
        "outputId": "9b8b1760-1ed0-4874-c128-e85d2c632488"
      },
      "execution_count": 44,
      "outputs": [
        {
          "output_type": "execute_result",
          "data": {
            "image/png": "[encoded data removed]",
            "text/plain": [
              "<PIL.PngImagePlugin.PngImageFile image mode=L size=28x28 at 0x7FC19ED4E590>"
            ]
          },
          "metadata": {},
          "execution_count": 44
        }
      ]
    },
    {
      "cell_type": "code",
      "source": [
        "#Here we turn our 3 image stored in image_three into a tensor\n",
        "image_three_tensor = tensor(Image.open(threes[0]))"
      ],
      "metadata": {
        "id": "eTW0Yklq5d06"
      },
      "execution_count": 48,
      "outputs": []
    },
    {
      "cell_type": "code",
      "source": [
        "#We then parse the tensor into a data frame \n",
        "df = pd.DataFrame(image_three_tensor[4:15,4:22])"
      ],
      "metadata": {
        "id": "FuQC2G8R5hzo"
      },
      "execution_count": 53,
      "outputs": []
    },
    {
      "cell_type": "code",
      "source": [
        "df.style.set_properties(**{'font - size':'6pt'}).background_gradient('Greys')"
      ],
      "metadata": {
        "colab": {
          "base_uri": "https://localhost:8080/",
          "height": 394
        },
        "id": "n0scWLNc7hfi",
        "outputId": "87928929-13c9-4617-ef89-09066c72a197"
      },
      "execution_count": 55,
      "outputs": [
        {
          "output_type": "execute_result",
          "data": {
            "text/html": [
              "<style type=\"text/css\">\n",
              "#T_4fbb4_row0_col0, #T_4fbb4_row0_col1, #T_4fbb4_row0_col2, #T_4fbb4_row0_col3, #T_4fbb4_row0_col4, #T_4fbb4_row0_col5, #T_4fbb4_row0_col6, #T_4fbb4_row0_col10, #T_4fbb4_row0_col11, #T_4fbb4_row0_col12, #T_4fbb4_row0_col13, #T_4fbb4_row0_col14, #T_4fbb4_row0_col15, #T_4fbb4_row0_col16, #T_4fbb4_row0_col17, #T_4fbb4_row1_col0, #T_4fbb4_row1_col1, #T_4fbb4_row1_col2, #T_4fbb4_row1_col3, #T_4fbb4_row1_col4, #T_4fbb4_row1_col5, #T_4fbb4_row1_col14, #T_4fbb4_row1_col15, #T_4fbb4_row1_col16, #T_4fbb4_row1_col17, #T_4fbb4_row2_col0, #T_4fbb4_row2_col1, #T_4fbb4_row2_col2, #T_4fbb4_row2_col3, #T_4fbb4_row2_col4, #T_4fbb4_row2_col5, #T_4fbb4_row2_col15, #T_4fbb4_row2_col16, #T_4fbb4_row2_col17, #T_4fbb4_row3_col0, #T_4fbb4_row3_col1, #T_4fbb4_row3_col2, #T_4fbb4_row3_col3, #T_4fbb4_row3_col4, #T_4fbb4_row3_col5, #T_4fbb4_row3_col6, #T_4fbb4_row3_col15, #T_4fbb4_row3_col16, #T_4fbb4_row3_col17, #T_4fbb4_row4_col0, #T_4fbb4_row4_col1, #T_4fbb4_row4_col2, #T_4fbb4_row4_col3, #T_4fbb4_row4_col4, #T_4fbb4_row4_col5, #T_4fbb4_row4_col6, #T_4fbb4_row4_col7, #T_4fbb4_row4_col15, #T_4fbb4_row4_col16, #T_4fbb4_row4_col17, #T_4fbb4_row5_col0, #T_4fbb4_row5_col1, #T_4fbb4_row5_col2, #T_4fbb4_row5_col3, #T_4fbb4_row5_col4, #T_4fbb4_row5_col5, #T_4fbb4_row5_col6, #T_4fbb4_row5_col7, #T_4fbb4_row5_col15, #T_4fbb4_row5_col16, #T_4fbb4_row5_col17, #T_4fbb4_row6_col0, #T_4fbb4_row6_col1, #T_4fbb4_row6_col2, #T_4fbb4_row6_col3, #T_4fbb4_row6_col4, #T_4fbb4_row6_col5, #T_4fbb4_row6_col6, #T_4fbb4_row6_col7, #T_4fbb4_row6_col8, #T_4fbb4_row6_col9, #T_4fbb4_row6_col15, #T_4fbb4_row6_col16, #T_4fbb4_row6_col17, #T_4fbb4_row7_col0, #T_4fbb4_row7_col1, #T_4fbb4_row7_col2, #T_4fbb4_row7_col3, #T_4fbb4_row7_col4, #T_4fbb4_row7_col5, #T_4fbb4_row7_col6, #T_4fbb4_row7_col7, #T_4fbb4_row7_col15, #T_4fbb4_row7_col16, #T_4fbb4_row7_col17, #T_4fbb4_row8_col0, #T_4fbb4_row8_col1, #T_4fbb4_row8_col2, #T_4fbb4_row8_col3, #T_4fbb4_row8_col4, #T_4fbb4_row8_col5, #T_4fbb4_row8_col15, #T_4fbb4_row8_col16, #T_4fbb4_row8_col17, #T_4fbb4_row9_col0, #T_4fbb4_row9_col1, #T_4fbb4_row9_col2, #T_4fbb4_row9_col3, #T_4fbb4_row9_col4, #T_4fbb4_row9_col5, #T_4fbb4_row9_col15, #T_4fbb4_row9_col16, #T_4fbb4_row9_col17, #T_4fbb4_row10_col0, #T_4fbb4_row10_col1, #T_4fbb4_row10_col2, #T_4fbb4_row10_col3, #T_4fbb4_row10_col4, #T_4fbb4_row10_col5, #T_4fbb4_row10_col6, #T_4fbb4_row10_col15, #T_4fbb4_row10_col16, #T_4fbb4_row10_col17 {\n",
              "  font - size: 6pt;\n",
              "  background-color: #ffffff;\n",
              "  color: #000000;\n",
              "}\n",
              "#T_4fbb4_row0_col7 {\n",
              "  font - size: 6pt;\n",
              "  background-color: #e8e8e8;\n",
              "  color: #000000;\n",
              "}\n",
              "#T_4fbb4_row0_col8 {\n",
              "  font - size: 6pt;\n",
              "  background-color: #a2a2a2;\n",
              "  color: #f1f1f1;\n",
              "}\n",
              "#T_4fbb4_row0_col9 {\n",
              "  font - size: 6pt;\n",
              "  background-color: #2e2e2e;\n",
              "  color: #f1f1f1;\n",
              "}\n",
              "#T_4fbb4_row1_col6, #T_4fbb4_row1_col8, #T_4fbb4_row1_col9, #T_4fbb4_row1_col10, #T_4fbb4_row1_col11, #T_4fbb4_row1_col12, #T_4fbb4_row2_col8, #T_4fbb4_row2_col9, #T_4fbb4_row2_col10, #T_4fbb4_row2_col11, #T_4fbb4_row2_col12, #T_4fbb4_row3_col9, #T_4fbb4_row3_col11, #T_4fbb4_row3_col12, #T_4fbb4_row3_col13, #T_4fbb4_row4_col9, #T_4fbb4_row4_col11, #T_4fbb4_row4_col12, #T_4fbb4_row4_col13, #T_4fbb4_row5_col10, #T_4fbb4_row5_col11, #T_4fbb4_row5_col12, #T_4fbb4_row5_col13, #T_4fbb4_row6_col11, #T_4fbb4_row6_col12, #T_4fbb4_row6_col13, #T_4fbb4_row6_col14, #T_4fbb4_row7_col11, #T_4fbb4_row7_col12, #T_4fbb4_row7_col13, #T_4fbb4_row8_col9, #T_4fbb4_row8_col10, #T_4fbb4_row8_col11, #T_4fbb4_row8_col12, #T_4fbb4_row8_col13, #T_4fbb4_row9_col7, #T_4fbb4_row9_col8, #T_4fbb4_row9_col9, #T_4fbb4_row9_col10, #T_4fbb4_row9_col11, #T_4fbb4_row9_col12, #T_4fbb4_row9_col13, #T_4fbb4_row10_col9, #T_4fbb4_row10_col10, #T_4fbb4_row10_col11, #T_4fbb4_row10_col12, #T_4fbb4_row10_col13, #T_4fbb4_row10_col14 {\n",
              "  font - size: 6pt;\n",
              "  background-color: #000000;\n",
              "  color: #f1f1f1;\n",
              "}\n",
              "#T_4fbb4_row1_col7 {\n",
              "  font - size: 6pt;\n",
              "  background-color: #060606;\n",
              "  color: #f1f1f1;\n",
              "}\n",
              "#T_4fbb4_row1_col13, #T_4fbb4_row5_col14 {\n",
              "  font - size: 6pt;\n",
              "  background-color: #dbdbdb;\n",
              "  color: #000000;\n",
              "}\n",
              "#T_4fbb4_row2_col6 {\n",
              "  font - size: 6pt;\n",
              "  background-color: #e7e7e7;\n",
              "  color: #000000;\n",
              "}\n",
              "#T_4fbb4_row2_col7 {\n",
              "  font - size: 6pt;\n",
              "  background-color: #111111;\n",
              "  color: #f1f1f1;\n",
              "}\n",
              "#T_4fbb4_row2_col13 {\n",
              "  font - size: 6pt;\n",
              "  background-color: #131313;\n",
              "  color: #f1f1f1;\n",
              "}\n",
              "#T_4fbb4_row2_col14 {\n",
              "  font - size: 6pt;\n",
              "  background-color: #b3b3b3;\n",
              "  color: #000000;\n",
              "}\n",
              "#T_4fbb4_row3_col7 {\n",
              "  font - size: 6pt;\n",
              "  background-color: #afafaf;\n",
              "  color: #000000;\n",
              "}\n",
              "#T_4fbb4_row3_col8 {\n",
              "  font - size: 6pt;\n",
              "  background-color: #0c0c0c;\n",
              "  color: #f1f1f1;\n",
              "}\n",
              "#T_4fbb4_row3_col10 {\n",
              "  font - size: 6pt;\n",
              "  background-color: #6a6a6a;\n",
              "  color: #f1f1f1;\n",
              "}\n",
              "#T_4fbb4_row3_col14 {\n",
              "  font - size: 6pt;\n",
              "  background-color: #363636;\n",
              "  color: #f1f1f1;\n",
              "}\n",
              "#T_4fbb4_row4_col8 {\n",
              "  font - size: 6pt;\n",
              "  background-color: #3a3a3a;\n",
              "  color: #f1f1f1;\n",
              "}\n",
              "#T_4fbb4_row4_col10 {\n",
              "  font - size: 6pt;\n",
              "  background-color: #959595;\n",
              "  color: #f1f1f1;\n",
              "}\n",
              "#T_4fbb4_row4_col14, #T_4fbb4_row8_col14 {\n",
              "  font - size: 6pt;\n",
              "  background-color: #e3e3e3;\n",
              "  color: #000000;\n",
              "}\n",
              "#T_4fbb4_row5_col8 {\n",
              "  font - size: 6pt;\n",
              "  background-color: #c7c7c7;\n",
              "  color: #000000;\n",
              "}\n",
              "#T_4fbb4_row5_col9 {\n",
              "  font - size: 6pt;\n",
              "  background-color: #434343;\n",
              "  color: #f1f1f1;\n",
              "}\n",
              "#T_4fbb4_row6_col10, #T_4fbb4_row7_col9 {\n",
              "  font - size: 6pt;\n",
              "  background-color: #999999;\n",
              "  color: #f1f1f1;\n",
              "}\n",
              "#T_4fbb4_row7_col8 {\n",
              "  font - size: 6pt;\n",
              "  background-color: #c1c1c1;\n",
              "  color: #000000;\n",
              "}\n",
              "#T_4fbb4_row7_col10 {\n",
              "  font - size: 6pt;\n",
              "  background-color: #020202;\n",
              "  color: #f1f1f1;\n",
              "}\n",
              "#T_4fbb4_row7_col14 {\n",
              "  font - size: 6pt;\n",
              "  background-color: #6b6b6b;\n",
              "  color: #f1f1f1;\n",
              "}\n",
              "#T_4fbb4_row8_col6 {\n",
              "  font - size: 6pt;\n",
              "  background-color: #b9b9b9;\n",
              "  color: #000000;\n",
              "}\n",
              "#T_4fbb4_row8_col7 {\n",
              "  font - size: 6pt;\n",
              "  background-color: #282828;\n",
              "  color: #f1f1f1;\n",
              "}\n",
              "#T_4fbb4_row8_col8 {\n",
              "  font - size: 6pt;\n",
              "  background-color: #050505;\n",
              "  color: #f1f1f1;\n",
              "}\n",
              "#T_4fbb4_row9_col6 {\n",
              "  font - size: 6pt;\n",
              "  background-color: #444444;\n",
              "  color: #f1f1f1;\n",
              "}\n",
              "#T_4fbb4_row9_col14 {\n",
              "  font - size: 6pt;\n",
              "  background-color: #2c2c2c;\n",
              "  color: #f1f1f1;\n",
              "}\n",
              "#T_4fbb4_row10_col7 {\n",
              "  font - size: 6pt;\n",
              "  background-color: #a7a7a7;\n",
              "  color: #f1f1f1;\n",
              "}\n",
              "#T_4fbb4_row10_col8 {\n",
              "  font - size: 6pt;\n",
              "  background-color: #090909;\n",
              "  color: #f1f1f1;\n",
              "}\n",
              "</style>\n",
              "<table id=\"T_4fbb4_\" class=\"dataframe\">\n",
              "  <thead>\n",
              "    <tr>\n",
              "      <th class=\"blank level0\" >&nbsp;</th>\n",
              "      <th class=\"col_heading level0 col0\" >0</th>\n",
              "      <th class=\"col_heading level0 col1\" >1</th>\n",
              "      <th class=\"col_heading level0 col2\" >2</th>\n",
              "      <th class=\"col_heading level0 col3\" >3</th>\n",
              "      <th class=\"col_heading level0 col4\" >4</th>\n",
              "      <th class=\"col_heading level0 col5\" >5</th>\n",
              "      <th class=\"col_heading level0 col6\" >6</th>\n",
              "      <th class=\"col_heading level0 col7\" >7</th>\n",
              "      <th class=\"col_heading level0 col8\" >8</th>\n",
              "      <th class=\"col_heading level0 col9\" >9</th>\n",
              "      <th class=\"col_heading level0 col10\" >10</th>\n",
              "      <th class=\"col_heading level0 col11\" >11</th>\n",
              "      <th class=\"col_heading level0 col12\" >12</th>\n",
              "      <th class=\"col_heading level0 col13\" >13</th>\n",
              "      <th class=\"col_heading level0 col14\" >14</th>\n",
              "      <th class=\"col_heading level0 col15\" >15</th>\n",
              "      <th class=\"col_heading level0 col16\" >16</th>\n",
              "      <th class=\"col_heading level0 col17\" >17</th>\n",
              "    </tr>\n",
              "  </thead>\n",
              "  <tbody>\n",
              "    <tr>\n",
              "      <th id=\"T_4fbb4_level0_row0\" class=\"row_heading level0 row0\" >0</th>\n",
              "      <td id=\"T_4fbb4_row0_col0\" class=\"data row0 col0\" >0</td>\n",
              "      <td id=\"T_4fbb4_row0_col1\" class=\"data row0 col1\" >0</td>\n",
              "      <td id=\"T_4fbb4_row0_col2\" class=\"data row0 col2\" >0</td>\n",
              "      <td id=\"T_4fbb4_row0_col3\" class=\"data row0 col3\" >0</td>\n",
              "      <td id=\"T_4fbb4_row0_col4\" class=\"data row0 col4\" >0</td>\n",
              "      <td id=\"T_4fbb4_row0_col5\" class=\"data row0 col5\" >0</td>\n",
              "      <td id=\"T_4fbb4_row0_col6\" class=\"data row0 col6\" >0</td>\n",
              "      <td id=\"T_4fbb4_row0_col7\" class=\"data row0 col7\" >42</td>\n",
              "      <td id=\"T_4fbb4_row0_col8\" class=\"data row0 col8\" >118</td>\n",
              "      <td id=\"T_4fbb4_row0_col9\" class=\"data row0 col9\" >219</td>\n",
              "      <td id=\"T_4fbb4_row0_col10\" class=\"data row0 col10\" >166</td>\n",
              "      <td id=\"T_4fbb4_row0_col11\" class=\"data row0 col11\" >118</td>\n",
              "      <td id=\"T_4fbb4_row0_col12\" class=\"data row0 col12\" >118</td>\n",
              "      <td id=\"T_4fbb4_row0_col13\" class=\"data row0 col13\" >6</td>\n",
              "      <td id=\"T_4fbb4_row0_col14\" class=\"data row0 col14\" >0</td>\n",
              "      <td id=\"T_4fbb4_row0_col15\" class=\"data row0 col15\" >0</td>\n",
              "      <td id=\"T_4fbb4_row0_col16\" class=\"data row0 col16\" >0</td>\n",
              "      <td id=\"T_4fbb4_row0_col17\" class=\"data row0 col17\" >0</td>\n",
              "    </tr>\n",
              "    <tr>\n",
              "      <th id=\"T_4fbb4_level0_row1\" class=\"row_heading level0 row1\" >1</th>\n",
              "      <td id=\"T_4fbb4_row1_col0\" class=\"data row1 col0\" >0</td>\n",
              "      <td id=\"T_4fbb4_row1_col1\" class=\"data row1 col1\" >0</td>\n",
              "      <td id=\"T_4fbb4_row1_col2\" class=\"data row1 col2\" >0</td>\n",
              "      <td id=\"T_4fbb4_row1_col3\" class=\"data row1 col3\" >0</td>\n",
              "      <td id=\"T_4fbb4_row1_col4\" class=\"data row1 col4\" >0</td>\n",
              "      <td id=\"T_4fbb4_row1_col5\" class=\"data row1 col5\" >0</td>\n",
              "      <td id=\"T_4fbb4_row1_col6\" class=\"data row1 col6\" >103</td>\n",
              "      <td id=\"T_4fbb4_row1_col7\" class=\"data row1 col7\" >242</td>\n",
              "      <td id=\"T_4fbb4_row1_col8\" class=\"data row1 col8\" >254</td>\n",
              "      <td id=\"T_4fbb4_row1_col9\" class=\"data row1 col9\" >254</td>\n",
              "      <td id=\"T_4fbb4_row1_col10\" class=\"data row1 col10\" >254</td>\n",
              "      <td id=\"T_4fbb4_row1_col11\" class=\"data row1 col11\" >254</td>\n",
              "      <td id=\"T_4fbb4_row1_col12\" class=\"data row1 col12\" >254</td>\n",
              "      <td id=\"T_4fbb4_row1_col13\" class=\"data row1 col13\" >66</td>\n",
              "      <td id=\"T_4fbb4_row1_col14\" class=\"data row1 col14\" >0</td>\n",
              "      <td id=\"T_4fbb4_row1_col15\" class=\"data row1 col15\" >0</td>\n",
              "      <td id=\"T_4fbb4_row1_col16\" class=\"data row1 col16\" >0</td>\n",
              "      <td id=\"T_4fbb4_row1_col17\" class=\"data row1 col17\" >0</td>\n",
              "    </tr>\n",
              "    <tr>\n",
              "      <th id=\"T_4fbb4_level0_row2\" class=\"row_heading level0 row2\" >2</th>\n",
              "      <td id=\"T_4fbb4_row2_col0\" class=\"data row2 col0\" >0</td>\n",
              "      <td id=\"T_4fbb4_row2_col1\" class=\"data row2 col1\" >0</td>\n",
              "      <td id=\"T_4fbb4_row2_col2\" class=\"data row2 col2\" >0</td>\n",
              "      <td id=\"T_4fbb4_row2_col3\" class=\"data row2 col3\" >0</td>\n",
              "      <td id=\"T_4fbb4_row2_col4\" class=\"data row2 col4\" >0</td>\n",
              "      <td id=\"T_4fbb4_row2_col5\" class=\"data row2 col5\" >0</td>\n",
              "      <td id=\"T_4fbb4_row2_col6\" class=\"data row2 col6\" >18</td>\n",
              "      <td id=\"T_4fbb4_row2_col7\" class=\"data row2 col7\" >232</td>\n",
              "      <td id=\"T_4fbb4_row2_col8\" class=\"data row2 col8\" >254</td>\n",
              "      <td id=\"T_4fbb4_row2_col9\" class=\"data row2 col9\" >254</td>\n",
              "      <td id=\"T_4fbb4_row2_col10\" class=\"data row2 col10\" >254</td>\n",
              "      <td id=\"T_4fbb4_row2_col11\" class=\"data row2 col11\" >254</td>\n",
              "      <td id=\"T_4fbb4_row2_col12\" class=\"data row2 col12\" >254</td>\n",
              "      <td id=\"T_4fbb4_row2_col13\" class=\"data row2 col13\" >238</td>\n",
              "      <td id=\"T_4fbb4_row2_col14\" class=\"data row2 col14\" >70</td>\n",
              "      <td id=\"T_4fbb4_row2_col15\" class=\"data row2 col15\" >0</td>\n",
              "      <td id=\"T_4fbb4_row2_col16\" class=\"data row2 col16\" >0</td>\n",
              "      <td id=\"T_4fbb4_row2_col17\" class=\"data row2 col17\" >0</td>\n",
              "    </tr>\n",
              "    <tr>\n",
              "      <th id=\"T_4fbb4_level0_row3\" class=\"row_heading level0 row3\" >3</th>\n",
              "      <td id=\"T_4fbb4_row3_col0\" class=\"data row3 col0\" >0</td>\n",
              "      <td id=\"T_4fbb4_row3_col1\" class=\"data row3 col1\" >0</td>\n",
              "      <td id=\"T_4fbb4_row3_col2\" class=\"data row3 col2\" >0</td>\n",
              "      <td id=\"T_4fbb4_row3_col3\" class=\"data row3 col3\" >0</td>\n",
              "      <td id=\"T_4fbb4_row3_col4\" class=\"data row3 col4\" >0</td>\n",
              "      <td id=\"T_4fbb4_row3_col5\" class=\"data row3 col5\" >0</td>\n",
              "      <td id=\"T_4fbb4_row3_col6\" class=\"data row3 col6\" >0</td>\n",
              "      <td id=\"T_4fbb4_row3_col7\" class=\"data row3 col7\" >104</td>\n",
              "      <td id=\"T_4fbb4_row3_col8\" class=\"data row3 col8\" >244</td>\n",
              "      <td id=\"T_4fbb4_row3_col9\" class=\"data row3 col9\" >254</td>\n",
              "      <td id=\"T_4fbb4_row3_col10\" class=\"data row3 col10\" >224</td>\n",
              "      <td id=\"T_4fbb4_row3_col11\" class=\"data row3 col11\" >254</td>\n",
              "      <td id=\"T_4fbb4_row3_col12\" class=\"data row3 col12\" >254</td>\n",
              "      <td id=\"T_4fbb4_row3_col13\" class=\"data row3 col13\" >254</td>\n",
              "      <td id=\"T_4fbb4_row3_col14\" class=\"data row3 col14\" >141</td>\n",
              "      <td id=\"T_4fbb4_row3_col15\" class=\"data row3 col15\" >0</td>\n",
              "      <td id=\"T_4fbb4_row3_col16\" class=\"data row3 col16\" >0</td>\n",
              "      <td id=\"T_4fbb4_row3_col17\" class=\"data row3 col17\" >0</td>\n",
              "    </tr>\n",
              "    <tr>\n",
              "      <th id=\"T_4fbb4_level0_row4\" class=\"row_heading level0 row4\" >4</th>\n",
              "      <td id=\"T_4fbb4_row4_col0\" class=\"data row4 col0\" >0</td>\n",
              "      <td id=\"T_4fbb4_row4_col1\" class=\"data row4 col1\" >0</td>\n",
              "      <td id=\"T_4fbb4_row4_col2\" class=\"data row4 col2\" >0</td>\n",
              "      <td id=\"T_4fbb4_row4_col3\" class=\"data row4 col3\" >0</td>\n",
              "      <td id=\"T_4fbb4_row4_col4\" class=\"data row4 col4\" >0</td>\n",
              "      <td id=\"T_4fbb4_row4_col5\" class=\"data row4 col5\" >0</td>\n",
              "      <td id=\"T_4fbb4_row4_col6\" class=\"data row4 col6\" >0</td>\n",
              "      <td id=\"T_4fbb4_row4_col7\" class=\"data row4 col7\" >0</td>\n",
              "      <td id=\"T_4fbb4_row4_col8\" class=\"data row4 col8\" >207</td>\n",
              "      <td id=\"T_4fbb4_row4_col9\" class=\"data row4 col9\" >254</td>\n",
              "      <td id=\"T_4fbb4_row4_col10\" class=\"data row4 col10\" >210</td>\n",
              "      <td id=\"T_4fbb4_row4_col11\" class=\"data row4 col11\" >254</td>\n",
              "      <td id=\"T_4fbb4_row4_col12\" class=\"data row4 col12\" >254</td>\n",
              "      <td id=\"T_4fbb4_row4_col13\" class=\"data row4 col13\" >254</td>\n",
              "      <td id=\"T_4fbb4_row4_col14\" class=\"data row4 col14\" >34</td>\n",
              "      <td id=\"T_4fbb4_row4_col15\" class=\"data row4 col15\" >0</td>\n",
              "      <td id=\"T_4fbb4_row4_col16\" class=\"data row4 col16\" >0</td>\n",
              "      <td id=\"T_4fbb4_row4_col17\" class=\"data row4 col17\" >0</td>\n",
              "    </tr>\n",
              "    <tr>\n",
              "      <th id=\"T_4fbb4_level0_row5\" class=\"row_heading level0 row5\" >5</th>\n",
              "      <td id=\"T_4fbb4_row5_col0\" class=\"data row5 col0\" >0</td>\n",
              "      <td id=\"T_4fbb4_row5_col1\" class=\"data row5 col1\" >0</td>\n",
              "      <td id=\"T_4fbb4_row5_col2\" class=\"data row5 col2\" >0</td>\n",
              "      <td id=\"T_4fbb4_row5_col3\" class=\"data row5 col3\" >0</td>\n",
              "      <td id=\"T_4fbb4_row5_col4\" class=\"data row5 col4\" >0</td>\n",
              "      <td id=\"T_4fbb4_row5_col5\" class=\"data row5 col5\" >0</td>\n",
              "      <td id=\"T_4fbb4_row5_col6\" class=\"data row5 col6\" >0</td>\n",
              "      <td id=\"T_4fbb4_row5_col7\" class=\"data row5 col7\" >0</td>\n",
              "      <td id=\"T_4fbb4_row5_col8\" class=\"data row5 col8\" >84</td>\n",
              "      <td id=\"T_4fbb4_row5_col9\" class=\"data row5 col9\" >206</td>\n",
              "      <td id=\"T_4fbb4_row5_col10\" class=\"data row5 col10\" >254</td>\n",
              "      <td id=\"T_4fbb4_row5_col11\" class=\"data row5 col11\" >254</td>\n",
              "      <td id=\"T_4fbb4_row5_col12\" class=\"data row5 col12\" >254</td>\n",
              "      <td id=\"T_4fbb4_row5_col13\" class=\"data row5 col13\" >254</td>\n",
              "      <td id=\"T_4fbb4_row5_col14\" class=\"data row5 col14\" >41</td>\n",
              "      <td id=\"T_4fbb4_row5_col15\" class=\"data row5 col15\" >0</td>\n",
              "      <td id=\"T_4fbb4_row5_col16\" class=\"data row5 col16\" >0</td>\n",
              "      <td id=\"T_4fbb4_row5_col17\" class=\"data row5 col17\" >0</td>\n",
              "    </tr>\n",
              "    <tr>\n",
              "      <th id=\"T_4fbb4_level0_row6\" class=\"row_heading level0 row6\" >6</th>\n",
              "      <td id=\"T_4fbb4_row6_col0\" class=\"data row6 col0\" >0</td>\n",
              "      <td id=\"T_4fbb4_row6_col1\" class=\"data row6 col1\" >0</td>\n",
              "      <td id=\"T_4fbb4_row6_col2\" class=\"data row6 col2\" >0</td>\n",
              "      <td id=\"T_4fbb4_row6_col3\" class=\"data row6 col3\" >0</td>\n",
              "      <td id=\"T_4fbb4_row6_col4\" class=\"data row6 col4\" >0</td>\n",
              "      <td id=\"T_4fbb4_row6_col5\" class=\"data row6 col5\" >0</td>\n",
              "      <td id=\"T_4fbb4_row6_col6\" class=\"data row6 col6\" >0</td>\n",
              "      <td id=\"T_4fbb4_row6_col7\" class=\"data row6 col7\" >0</td>\n",
              "      <td id=\"T_4fbb4_row6_col8\" class=\"data row6 col8\" >0</td>\n",
              "      <td id=\"T_4fbb4_row6_col9\" class=\"data row6 col9\" >24</td>\n",
              "      <td id=\"T_4fbb4_row6_col10\" class=\"data row6 col10\" >209</td>\n",
              "      <td id=\"T_4fbb4_row6_col11\" class=\"data row6 col11\" >254</td>\n",
              "      <td id=\"T_4fbb4_row6_col12\" class=\"data row6 col12\" >254</td>\n",
              "      <td id=\"T_4fbb4_row6_col13\" class=\"data row6 col13\" >254</td>\n",
              "      <td id=\"T_4fbb4_row6_col14\" class=\"data row6 col14\" >171</td>\n",
              "      <td id=\"T_4fbb4_row6_col15\" class=\"data row6 col15\" >0</td>\n",
              "      <td id=\"T_4fbb4_row6_col16\" class=\"data row6 col16\" >0</td>\n",
              "      <td id=\"T_4fbb4_row6_col17\" class=\"data row6 col17\" >0</td>\n",
              "    </tr>\n",
              "    <tr>\n",
              "      <th id=\"T_4fbb4_level0_row7\" class=\"row_heading level0 row7\" >7</th>\n",
              "      <td id=\"T_4fbb4_row7_col0\" class=\"data row7 col0\" >0</td>\n",
              "      <td id=\"T_4fbb4_row7_col1\" class=\"data row7 col1\" >0</td>\n",
              "      <td id=\"T_4fbb4_row7_col2\" class=\"data row7 col2\" >0</td>\n",
              "      <td id=\"T_4fbb4_row7_col3\" class=\"data row7 col3\" >0</td>\n",
              "      <td id=\"T_4fbb4_row7_col4\" class=\"data row7 col4\" >0</td>\n",
              "      <td id=\"T_4fbb4_row7_col5\" class=\"data row7 col5\" >0</td>\n",
              "      <td id=\"T_4fbb4_row7_col6\" class=\"data row7 col6\" >0</td>\n",
              "      <td id=\"T_4fbb4_row7_col7\" class=\"data row7 col7\" >0</td>\n",
              "      <td id=\"T_4fbb4_row7_col8\" class=\"data row7 col8\" >91</td>\n",
              "      <td id=\"T_4fbb4_row7_col9\" class=\"data row7 col9\" >137</td>\n",
              "      <td id=\"T_4fbb4_row7_col10\" class=\"data row7 col10\" >253</td>\n",
              "      <td id=\"T_4fbb4_row7_col11\" class=\"data row7 col11\" >254</td>\n",
              "      <td id=\"T_4fbb4_row7_col12\" class=\"data row7 col12\" >254</td>\n",
              "      <td id=\"T_4fbb4_row7_col13\" class=\"data row7 col13\" >254</td>\n",
              "      <td id=\"T_4fbb4_row7_col14\" class=\"data row7 col14\" >112</td>\n",
              "      <td id=\"T_4fbb4_row7_col15\" class=\"data row7 col15\" >0</td>\n",
              "      <td id=\"T_4fbb4_row7_col16\" class=\"data row7 col16\" >0</td>\n",
              "      <td id=\"T_4fbb4_row7_col17\" class=\"data row7 col17\" >0</td>\n",
              "    </tr>\n",
              "    <tr>\n",
              "      <th id=\"T_4fbb4_level0_row8\" class=\"row_heading level0 row8\" >8</th>\n",
              "      <td id=\"T_4fbb4_row8_col0\" class=\"data row8 col0\" >0</td>\n",
              "      <td id=\"T_4fbb4_row8_col1\" class=\"data row8 col1\" >0</td>\n",
              "      <td id=\"T_4fbb4_row8_col2\" class=\"data row8 col2\" >0</td>\n",
              "      <td id=\"T_4fbb4_row8_col3\" class=\"data row8 col3\" >0</td>\n",
              "      <td id=\"T_4fbb4_row8_col4\" class=\"data row8 col4\" >0</td>\n",
              "      <td id=\"T_4fbb4_row8_col5\" class=\"data row8 col5\" >0</td>\n",
              "      <td id=\"T_4fbb4_row8_col6\" class=\"data row8 col6\" >40</td>\n",
              "      <td id=\"T_4fbb4_row8_col7\" class=\"data row8 col7\" >214</td>\n",
              "      <td id=\"T_4fbb4_row8_col8\" class=\"data row8 col8\" >250</td>\n",
              "      <td id=\"T_4fbb4_row8_col9\" class=\"data row8 col9\" >254</td>\n",
              "      <td id=\"T_4fbb4_row8_col10\" class=\"data row8 col10\" >254</td>\n",
              "      <td id=\"T_4fbb4_row8_col11\" class=\"data row8 col11\" >254</td>\n",
              "      <td id=\"T_4fbb4_row8_col12\" class=\"data row8 col12\" >254</td>\n",
              "      <td id=\"T_4fbb4_row8_col13\" class=\"data row8 col13\" >254</td>\n",
              "      <td id=\"T_4fbb4_row8_col14\" class=\"data row8 col14\" >34</td>\n",
              "      <td id=\"T_4fbb4_row8_col15\" class=\"data row8 col15\" >0</td>\n",
              "      <td id=\"T_4fbb4_row8_col16\" class=\"data row8 col16\" >0</td>\n",
              "      <td id=\"T_4fbb4_row8_col17\" class=\"data row8 col17\" >0</td>\n",
              "    </tr>\n",
              "    <tr>\n",
              "      <th id=\"T_4fbb4_level0_row9\" class=\"row_heading level0 row9\" >9</th>\n",
              "      <td id=\"T_4fbb4_row9_col0\" class=\"data row9 col0\" >0</td>\n",
              "      <td id=\"T_4fbb4_row9_col1\" class=\"data row9 col1\" >0</td>\n",
              "      <td id=\"T_4fbb4_row9_col2\" class=\"data row9 col2\" >0</td>\n",
              "      <td id=\"T_4fbb4_row9_col3\" class=\"data row9 col3\" >0</td>\n",
              "      <td id=\"T_4fbb4_row9_col4\" class=\"data row9 col4\" >0</td>\n",
              "      <td id=\"T_4fbb4_row9_col5\" class=\"data row9 col5\" >0</td>\n",
              "      <td id=\"T_4fbb4_row9_col6\" class=\"data row9 col6\" >81</td>\n",
              "      <td id=\"T_4fbb4_row9_col7\" class=\"data row9 col7\" >247</td>\n",
              "      <td id=\"T_4fbb4_row9_col8\" class=\"data row9 col8\" >254</td>\n",
              "      <td id=\"T_4fbb4_row9_col9\" class=\"data row9 col9\" >254</td>\n",
              "      <td id=\"T_4fbb4_row9_col10\" class=\"data row9 col10\" >254</td>\n",
              "      <td id=\"T_4fbb4_row9_col11\" class=\"data row9 col11\" >254</td>\n",
              "      <td id=\"T_4fbb4_row9_col12\" class=\"data row9 col12\" >254</td>\n",
              "      <td id=\"T_4fbb4_row9_col13\" class=\"data row9 col13\" >254</td>\n",
              "      <td id=\"T_4fbb4_row9_col14\" class=\"data row9 col14\" >146</td>\n",
              "      <td id=\"T_4fbb4_row9_col15\" class=\"data row9 col15\" >0</td>\n",
              "      <td id=\"T_4fbb4_row9_col16\" class=\"data row9 col16\" >0</td>\n",
              "      <td id=\"T_4fbb4_row9_col17\" class=\"data row9 col17\" >0</td>\n",
              "    </tr>\n",
              "    <tr>\n",
              "      <th id=\"T_4fbb4_level0_row10\" class=\"row_heading level0 row10\" >10</th>\n",
              "      <td id=\"T_4fbb4_row10_col0\" class=\"data row10 col0\" >0</td>\n",
              "      <td id=\"T_4fbb4_row10_col1\" class=\"data row10 col1\" >0</td>\n",
              "      <td id=\"T_4fbb4_row10_col2\" class=\"data row10 col2\" >0</td>\n",
              "      <td id=\"T_4fbb4_row10_col3\" class=\"data row10 col3\" >0</td>\n",
              "      <td id=\"T_4fbb4_row10_col4\" class=\"data row10 col4\" >0</td>\n",
              "      <td id=\"T_4fbb4_row10_col5\" class=\"data row10 col5\" >0</td>\n",
              "      <td id=\"T_4fbb4_row10_col6\" class=\"data row10 col6\" >0</td>\n",
              "      <td id=\"T_4fbb4_row10_col7\" class=\"data row10 col7\" >110</td>\n",
              "      <td id=\"T_4fbb4_row10_col8\" class=\"data row10 col8\" >246</td>\n",
              "      <td id=\"T_4fbb4_row10_col9\" class=\"data row10 col9\" >254</td>\n",
              "      <td id=\"T_4fbb4_row10_col10\" class=\"data row10 col10\" >254</td>\n",
              "      <td id=\"T_4fbb4_row10_col11\" class=\"data row10 col11\" >254</td>\n",
              "      <td id=\"T_4fbb4_row10_col12\" class=\"data row10 col12\" >254</td>\n",
              "      <td id=\"T_4fbb4_row10_col13\" class=\"data row10 col13\" >254</td>\n",
              "      <td id=\"T_4fbb4_row10_col14\" class=\"data row10 col14\" >171</td>\n",
              "      <td id=\"T_4fbb4_row10_col15\" class=\"data row10 col15\" >0</td>\n",
              "      <td id=\"T_4fbb4_row10_col16\" class=\"data row10 col16\" >0</td>\n",
              "      <td id=\"T_4fbb4_row10_col17\" class=\"data row10 col17\" >0</td>\n",
              "    </tr>\n",
              "  </tbody>\n",
              "</table>\n"
            ],
            "text/plain": [
              "<pandas.io.formats.style.Styler at 0x7fc19e0c3250>"
            ]
          },
          "metadata": {},
          "execution_count": 55
        }
      ]
    },
    {
      "cell_type": "code",
      "source": [
        "#Here we turn image seven into a tensor \n",
        "image_seven_tensor = tensor(Image.open(sevens[0]))"
      ],
      "metadata": {
        "id": "jUECyxGW73MP"
      },
      "execution_count": 56,
      "outputs": []
    },
    {
      "cell_type": "code",
      "source": [
        "#Here we pass the image tensor seven into a data Frame \n",
        "df_seven = pd.DataFrame(image_seven_tensor[4:10,4:22])  \n"
      ],
      "metadata": {
        "id": "_gbbb4rU8Hto"
      },
      "execution_count": 58,
      "outputs": []
    },
    {
      "cell_type": "code",
      "source": [
        "#Here we attempt to color code the pixel values based on the intensity and range\n",
        "df_seven.style.set_properties(**{'font - size' : '6pt'}).background_gradient('Greys')"
      ],
      "metadata": {
        "colab": {
          "base_uri": "https://localhost:8080/",
          "height": 237
        },
        "id": "YwurIhHN8dIz",
        "outputId": "3539be44-917a-4b77-f94f-e6c1876bb9b5"
      },
      "execution_count": 62,
      "outputs": [
        {
          "output_type": "execute_result",
          "data": {
            "text/html": [
              "<style type=\"text/css\">\n",
              "#T_bc3bf_row0_col0, #T_bc3bf_row0_col1, #T_bc3bf_row0_col2, #T_bc3bf_row0_col3, #T_bc3bf_row0_col4, #T_bc3bf_row0_col5, #T_bc3bf_row0_col6, #T_bc3bf_row0_col7, #T_bc3bf_row0_col8, #T_bc3bf_row0_col9, #T_bc3bf_row0_col10, #T_bc3bf_row0_col11, #T_bc3bf_row0_col12, #T_bc3bf_row0_col13, #T_bc3bf_row0_col14, #T_bc3bf_row0_col15, #T_bc3bf_row0_col16, #T_bc3bf_row0_col17, #T_bc3bf_row1_col0, #T_bc3bf_row1_col1, #T_bc3bf_row1_col2, #T_bc3bf_row1_col3, #T_bc3bf_row1_col4, #T_bc3bf_row1_col5, #T_bc3bf_row1_col6, #T_bc3bf_row1_col7, #T_bc3bf_row1_col8, #T_bc3bf_row1_col9, #T_bc3bf_row1_col10, #T_bc3bf_row1_col11, #T_bc3bf_row1_col12, #T_bc3bf_row1_col13, #T_bc3bf_row1_col14, #T_bc3bf_row1_col15, #T_bc3bf_row1_col16, #T_bc3bf_row1_col17, #T_bc3bf_row2_col0, #T_bc3bf_row2_col1, #T_bc3bf_row2_col2, #T_bc3bf_row2_col3, #T_bc3bf_row2_col4, #T_bc3bf_row2_col5, #T_bc3bf_row2_col6, #T_bc3bf_row2_col7, #T_bc3bf_row2_col8, #T_bc3bf_row2_col9, #T_bc3bf_row2_col10, #T_bc3bf_row2_col11, #T_bc3bf_row2_col12, #T_bc3bf_row2_col13, #T_bc3bf_row2_col14, #T_bc3bf_row2_col15, #T_bc3bf_row2_col16, #T_bc3bf_row2_col17 {\n",
              "  font - size: 6pt;\n",
              "  background-color: #ffffff;\n",
              "  color: #000000;\n",
              "}\n",
              "#T_bc3bf_row3_col0 {\n",
              "  font - size: 6pt;\n",
              "  background-color: #f5f5f5;\n",
              "  color: #000000;\n",
              "}\n",
              "#T_bc3bf_row3_col1 {\n",
              "  font - size: 6pt;\n",
              "  background-color: #e1e1e1;\n",
              "  color: #000000;\n",
              "}\n",
              "#T_bc3bf_row3_col2 {\n",
              "  font - size: 6pt;\n",
              "  background-color: #2c2c2c;\n",
              "  color: #f1f1f1;\n",
              "}\n",
              "#T_bc3bf_row3_col3, #T_bc3bf_row3_col4, #T_bc3bf_row3_col5, #T_bc3bf_row3_col6, #T_bc3bf_row3_col7, #T_bc3bf_row3_col8, #T_bc3bf_row3_col9, #T_bc3bf_row3_col10, #T_bc3bf_row3_col11, #T_bc3bf_row3_col12, #T_bc3bf_row3_col13, #T_bc3bf_row3_col14, #T_bc3bf_row3_col15, #T_bc3bf_row3_col16, #T_bc3bf_row3_col17, #T_bc3bf_row4_col1, #T_bc3bf_row4_col2, #T_bc3bf_row4_col17, #T_bc3bf_row5_col0, #T_bc3bf_row5_col1, #T_bc3bf_row5_col2 {\n",
              "  font - size: 6pt;\n",
              "  background-color: #000000;\n",
              "  color: #f1f1f1;\n",
              "}\n",
              "#T_bc3bf_row4_col0 {\n",
              "  font - size: 6pt;\n",
              "  background-color: #6e6e6e;\n",
              "  color: #f1f1f1;\n",
              "}\n",
              "#T_bc3bf_row4_col3, #T_bc3bf_row4_col4, #T_bc3bf_row4_col5, #T_bc3bf_row4_col6, #T_bc3bf_row4_col7, #T_bc3bf_row4_col8, #T_bc3bf_row4_col9, #T_bc3bf_row4_col10, #T_bc3bf_row4_col11, #T_bc3bf_row4_col12, #T_bc3bf_row4_col13, #T_bc3bf_row4_col14, #T_bc3bf_row4_col16, #T_bc3bf_row5_col3, #T_bc3bf_row5_col6, #T_bc3bf_row5_col7, #T_bc3bf_row5_col8, #T_bc3bf_row5_col9, #T_bc3bf_row5_col10, #T_bc3bf_row5_col11, #T_bc3bf_row5_col12, #T_bc3bf_row5_col13, #T_bc3bf_row5_col14 {\n",
              "  font - size: 6pt;\n",
              "  background-color: #020202;\n",
              "  color: #f1f1f1;\n",
              "}\n",
              "#T_bc3bf_row4_col15, #T_bc3bf_row5_col15 {\n",
              "  font - size: 6pt;\n",
              "  background-color: #030303;\n",
              "  color: #f1f1f1;\n",
              "}\n",
              "#T_bc3bf_row5_col4, #T_bc3bf_row5_col16 {\n",
              "  font - size: 6pt;\n",
              "  background-color: #515151;\n",
              "  color: #f1f1f1;\n",
              "}\n",
              "#T_bc3bf_row5_col5 {\n",
              "  font - size: 6pt;\n",
              "  background-color: #505050;\n",
              "  color: #f1f1f1;\n",
              "}\n",
              "#T_bc3bf_row5_col17 {\n",
              "  font - size: 6pt;\n",
              "  background-color: #b5b5b5;\n",
              "  color: #000000;\n",
              "}\n",
              "</style>\n",
              "<table id=\"T_bc3bf_\" class=\"dataframe\">\n",
              "  <thead>\n",
              "    <tr>\n",
              "      <th class=\"blank level0\" >&nbsp;</th>\n",
              "      <th class=\"col_heading level0 col0\" >0</th>\n",
              "      <th class=\"col_heading level0 col1\" >1</th>\n",
              "      <th class=\"col_heading level0 col2\" >2</th>\n",
              "      <th class=\"col_heading level0 col3\" >3</th>\n",
              "      <th class=\"col_heading level0 col4\" >4</th>\n",
              "      <th class=\"col_heading level0 col5\" >5</th>\n",
              "      <th class=\"col_heading level0 col6\" >6</th>\n",
              "      <th class=\"col_heading level0 col7\" >7</th>\n",
              "      <th class=\"col_heading level0 col8\" >8</th>\n",
              "      <th class=\"col_heading level0 col9\" >9</th>\n",
              "      <th class=\"col_heading level0 col10\" >10</th>\n",
              "      <th class=\"col_heading level0 col11\" >11</th>\n",
              "      <th class=\"col_heading level0 col12\" >12</th>\n",
              "      <th class=\"col_heading level0 col13\" >13</th>\n",
              "      <th class=\"col_heading level0 col14\" >14</th>\n",
              "      <th class=\"col_heading level0 col15\" >15</th>\n",
              "      <th class=\"col_heading level0 col16\" >16</th>\n",
              "      <th class=\"col_heading level0 col17\" >17</th>\n",
              "    </tr>\n",
              "  </thead>\n",
              "  <tbody>\n",
              "    <tr>\n",
              "      <th id=\"T_bc3bf_level0_row0\" class=\"row_heading level0 row0\" >0</th>\n",
              "      <td id=\"T_bc3bf_row0_col0\" class=\"data row0 col0\" >0</td>\n",
              "      <td id=\"T_bc3bf_row0_col1\" class=\"data row0 col1\" >0</td>\n",
              "      <td id=\"T_bc3bf_row0_col2\" class=\"data row0 col2\" >0</td>\n",
              "      <td id=\"T_bc3bf_row0_col3\" class=\"data row0 col3\" >0</td>\n",
              "      <td id=\"T_bc3bf_row0_col4\" class=\"data row0 col4\" >0</td>\n",
              "      <td id=\"T_bc3bf_row0_col5\" class=\"data row0 col5\" >0</td>\n",
              "      <td id=\"T_bc3bf_row0_col6\" class=\"data row0 col6\" >0</td>\n",
              "      <td id=\"T_bc3bf_row0_col7\" class=\"data row0 col7\" >0</td>\n",
              "      <td id=\"T_bc3bf_row0_col8\" class=\"data row0 col8\" >0</td>\n",
              "      <td id=\"T_bc3bf_row0_col9\" class=\"data row0 col9\" >0</td>\n",
              "      <td id=\"T_bc3bf_row0_col10\" class=\"data row0 col10\" >0</td>\n",
              "      <td id=\"T_bc3bf_row0_col11\" class=\"data row0 col11\" >0</td>\n",
              "      <td id=\"T_bc3bf_row0_col12\" class=\"data row0 col12\" >0</td>\n",
              "      <td id=\"T_bc3bf_row0_col13\" class=\"data row0 col13\" >0</td>\n",
              "      <td id=\"T_bc3bf_row0_col14\" class=\"data row0 col14\" >0</td>\n",
              "      <td id=\"T_bc3bf_row0_col15\" class=\"data row0 col15\" >0</td>\n",
              "      <td id=\"T_bc3bf_row0_col16\" class=\"data row0 col16\" >0</td>\n",
              "      <td id=\"T_bc3bf_row0_col17\" class=\"data row0 col17\" >0</td>\n",
              "    </tr>\n",
              "    <tr>\n",
              "      <th id=\"T_bc3bf_level0_row1\" class=\"row_heading level0 row1\" >1</th>\n",
              "      <td id=\"T_bc3bf_row1_col0\" class=\"data row1 col0\" >0</td>\n",
              "      <td id=\"T_bc3bf_row1_col1\" class=\"data row1 col1\" >0</td>\n",
              "      <td id=\"T_bc3bf_row1_col2\" class=\"data row1 col2\" >0</td>\n",
              "      <td id=\"T_bc3bf_row1_col3\" class=\"data row1 col3\" >0</td>\n",
              "      <td id=\"T_bc3bf_row1_col4\" class=\"data row1 col4\" >0</td>\n",
              "      <td id=\"T_bc3bf_row1_col5\" class=\"data row1 col5\" >0</td>\n",
              "      <td id=\"T_bc3bf_row1_col6\" class=\"data row1 col6\" >0</td>\n",
              "      <td id=\"T_bc3bf_row1_col7\" class=\"data row1 col7\" >0</td>\n",
              "      <td id=\"T_bc3bf_row1_col8\" class=\"data row1 col8\" >0</td>\n",
              "      <td id=\"T_bc3bf_row1_col9\" class=\"data row1 col9\" >0</td>\n",
              "      <td id=\"T_bc3bf_row1_col10\" class=\"data row1 col10\" >0</td>\n",
              "      <td id=\"T_bc3bf_row1_col11\" class=\"data row1 col11\" >0</td>\n",
              "      <td id=\"T_bc3bf_row1_col12\" class=\"data row1 col12\" >0</td>\n",
              "      <td id=\"T_bc3bf_row1_col13\" class=\"data row1 col13\" >0</td>\n",
              "      <td id=\"T_bc3bf_row1_col14\" class=\"data row1 col14\" >0</td>\n",
              "      <td id=\"T_bc3bf_row1_col15\" class=\"data row1 col15\" >0</td>\n",
              "      <td id=\"T_bc3bf_row1_col16\" class=\"data row1 col16\" >0</td>\n",
              "      <td id=\"T_bc3bf_row1_col17\" class=\"data row1 col17\" >0</td>\n",
              "    </tr>\n",
              "    <tr>\n",
              "      <th id=\"T_bc3bf_level0_row2\" class=\"row_heading level0 row2\" >2</th>\n",
              "      <td id=\"T_bc3bf_row2_col0\" class=\"data row2 col0\" >0</td>\n",
              "      <td id=\"T_bc3bf_row2_col1\" class=\"data row2 col1\" >0</td>\n",
              "      <td id=\"T_bc3bf_row2_col2\" class=\"data row2 col2\" >0</td>\n",
              "      <td id=\"T_bc3bf_row2_col3\" class=\"data row2 col3\" >0</td>\n",
              "      <td id=\"T_bc3bf_row2_col4\" class=\"data row2 col4\" >0</td>\n",
              "      <td id=\"T_bc3bf_row2_col5\" class=\"data row2 col5\" >0</td>\n",
              "      <td id=\"T_bc3bf_row2_col6\" class=\"data row2 col6\" >0</td>\n",
              "      <td id=\"T_bc3bf_row2_col7\" class=\"data row2 col7\" >0</td>\n",
              "      <td id=\"T_bc3bf_row2_col8\" class=\"data row2 col8\" >0</td>\n",
              "      <td id=\"T_bc3bf_row2_col9\" class=\"data row2 col9\" >0</td>\n",
              "      <td id=\"T_bc3bf_row2_col10\" class=\"data row2 col10\" >0</td>\n",
              "      <td id=\"T_bc3bf_row2_col11\" class=\"data row2 col11\" >0</td>\n",
              "      <td id=\"T_bc3bf_row2_col12\" class=\"data row2 col12\" >0</td>\n",
              "      <td id=\"T_bc3bf_row2_col13\" class=\"data row2 col13\" >0</td>\n",
              "      <td id=\"T_bc3bf_row2_col14\" class=\"data row2 col14\" >0</td>\n",
              "      <td id=\"T_bc3bf_row2_col15\" class=\"data row2 col15\" >0</td>\n",
              "      <td id=\"T_bc3bf_row2_col16\" class=\"data row2 col16\" >0</td>\n",
              "      <td id=\"T_bc3bf_row2_col17\" class=\"data row2 col17\" >0</td>\n",
              "    </tr>\n",
              "    <tr>\n",
              "      <th id=\"T_bc3bf_level0_row3\" class=\"row_heading level0 row3\" >3</th>\n",
              "      <td id=\"T_bc3bf_row3_col0\" class=\"data row3 col0\" >21</td>\n",
              "      <td id=\"T_bc3bf_row3_col1\" class=\"data row3 col1\" >51</td>\n",
              "      <td id=\"T_bc3bf_row3_col2\" class=\"data row3 col2\" >213</td>\n",
              "      <td id=\"T_bc3bf_row3_col3\" class=\"data row3 col3\" >254</td>\n",
              "      <td id=\"T_bc3bf_row3_col4\" class=\"data row3 col4\" >252</td>\n",
              "      <td id=\"T_bc3bf_row3_col5\" class=\"data row3 col5\" >252</td>\n",
              "      <td id=\"T_bc3bf_row3_col6\" class=\"data row3 col6\" >252</td>\n",
              "      <td id=\"T_bc3bf_row3_col7\" class=\"data row3 col7\" >254</td>\n",
              "      <td id=\"T_bc3bf_row3_col8\" class=\"data row3 col8\" >252</td>\n",
              "      <td id=\"T_bc3bf_row3_col9\" class=\"data row3 col9\" >252</td>\n",
              "      <td id=\"T_bc3bf_row3_col10\" class=\"data row3 col10\" >252</td>\n",
              "      <td id=\"T_bc3bf_row3_col11\" class=\"data row3 col11\" >254</td>\n",
              "      <td id=\"T_bc3bf_row3_col12\" class=\"data row3 col12\" >252</td>\n",
              "      <td id=\"T_bc3bf_row3_col13\" class=\"data row3 col13\" >252</td>\n",
              "      <td id=\"T_bc3bf_row3_col14\" class=\"data row3 col14\" >252</td>\n",
              "      <td id=\"T_bc3bf_row3_col15\" class=\"data row3 col15\" >255</td>\n",
              "      <td id=\"T_bc3bf_row3_col16\" class=\"data row3 col16\" >252</td>\n",
              "      <td id=\"T_bc3bf_row3_col17\" class=\"data row3 col17\" >100</td>\n",
              "    </tr>\n",
              "    <tr>\n",
              "      <th id=\"T_bc3bf_level0_row4\" class=\"row_heading level0 row4\" >4</th>\n",
              "      <td id=\"T_bc3bf_row4_col0\" class=\"data row4 col0\" >161</td>\n",
              "      <td id=\"T_bc3bf_row4_col1\" class=\"data row4 col1\" >250</td>\n",
              "      <td id=\"T_bc3bf_row4_col2\" class=\"data row4 col2\" >250</td>\n",
              "      <td id=\"T_bc3bf_row4_col3\" class=\"data row4 col3\" >252</td>\n",
              "      <td id=\"T_bc3bf_row4_col4\" class=\"data row4 col4\" >250</td>\n",
              "      <td id=\"T_bc3bf_row4_col5\" class=\"data row4 col5\" >250</td>\n",
              "      <td id=\"T_bc3bf_row4_col6\" class=\"data row4 col6\" >250</td>\n",
              "      <td id=\"T_bc3bf_row4_col7\" class=\"data row4 col7\" >252</td>\n",
              "      <td id=\"T_bc3bf_row4_col8\" class=\"data row4 col8\" >250</td>\n",
              "      <td id=\"T_bc3bf_row4_col9\" class=\"data row4 col9\" >250</td>\n",
              "      <td id=\"T_bc3bf_row4_col10\" class=\"data row4 col10\" >250</td>\n",
              "      <td id=\"T_bc3bf_row4_col11\" class=\"data row4 col11\" >252</td>\n",
              "      <td id=\"T_bc3bf_row4_col12\" class=\"data row4 col12\" >250</td>\n",
              "      <td id=\"T_bc3bf_row4_col13\" class=\"data row4 col13\" >250</td>\n",
              "      <td id=\"T_bc3bf_row4_col14\" class=\"data row4 col14\" >250</td>\n",
              "      <td id=\"T_bc3bf_row4_col15\" class=\"data row4 col15\" >252</td>\n",
              "      <td id=\"T_bc3bf_row4_col16\" class=\"data row4 col16\" >250</td>\n",
              "      <td id=\"T_bc3bf_row4_col17\" class=\"data row4 col17\" >100</td>\n",
              "    </tr>\n",
              "    <tr>\n",
              "      <th id=\"T_bc3bf_level0_row5\" class=\"row_heading level0 row5\" >5</th>\n",
              "      <td id=\"T_bc3bf_row5_col0\" class=\"data row5 col0\" >250</td>\n",
              "      <td id=\"T_bc3bf_row5_col1\" class=\"data row5 col1\" >250</td>\n",
              "      <td id=\"T_bc3bf_row5_col2\" class=\"data row5 col2\" >250</td>\n",
              "      <td id=\"T_bc3bf_row5_col3\" class=\"data row5 col3\" >252</td>\n",
              "      <td id=\"T_bc3bf_row5_col4\" class=\"data row5 col4\" >189</td>\n",
              "      <td id=\"T_bc3bf_row5_col5\" class=\"data row5 col5\" >190</td>\n",
              "      <td id=\"T_bc3bf_row5_col6\" class=\"data row5 col6\" >250</td>\n",
              "      <td id=\"T_bc3bf_row5_col7\" class=\"data row5 col7\" >252</td>\n",
              "      <td id=\"T_bc3bf_row5_col8\" class=\"data row5 col8\" >250</td>\n",
              "      <td id=\"T_bc3bf_row5_col9\" class=\"data row5 col9\" >250</td>\n",
              "      <td id=\"T_bc3bf_row5_col10\" class=\"data row5 col10\" >250</td>\n",
              "      <td id=\"T_bc3bf_row5_col11\" class=\"data row5 col11\" >252</td>\n",
              "      <td id=\"T_bc3bf_row5_col12\" class=\"data row5 col12\" >250</td>\n",
              "      <td id=\"T_bc3bf_row5_col13\" class=\"data row5 col13\" >250</td>\n",
              "      <td id=\"T_bc3bf_row5_col14\" class=\"data row5 col14\" >250</td>\n",
              "      <td id=\"T_bc3bf_row5_col15\" class=\"data row5 col15\" >252</td>\n",
              "      <td id=\"T_bc3bf_row5_col16\" class=\"data row5 col16\" >189</td>\n",
              "      <td id=\"T_bc3bf_row5_col17\" class=\"data row5 col17\" >40</td>\n",
              "    </tr>\n",
              "  </tbody>\n",
              "</table>\n"
            ],
            "text/plain": [
              "<pandas.io.formats.style.Styler at 0x7fc19e076ad0>"
            ]
          },
          "metadata": {},
          "execution_count": 62
        }
      ]
    },
    {
      "cell_type": "code",
      "source": [
        "#Here we pass all the training images of 7 into a tensor \n",
        "sevens_tensor = [tensor(Image.open(o)) for o in sevens]"
      ],
      "metadata": {
        "id": "L8P5j9Lm95BS"
      },
      "execution_count": 68,
      "outputs": []
    },
    {
      "cell_type": "code",
      "source": [
        "#Here we do the same for threes\n",
        "threes_tensor = [tensor(Image.open(o))for o in sevens]"
      ],
      "metadata": {
        "id": "cSi-SqhJ-Ho3"
      },
      "execution_count": 69,
      "outputs": []
    },
    {
      "cell_type": "code",
      "source": [
        "sevens_tensor[0]"
      ],
      "metadata": {
        "colab": {
          "base_uri": "https://localhost:8080/"
        },
        "id": "3aQGFaSf-Sbr",
        "outputId": "308dfa27-e1b7-4344-b93f-c0f3c3d71a81"
      },
      "execution_count": 70,
      "outputs": [
        {
          "output_type": "execute_result",
          "data": {
            "text/plain": [
              "tensor([[  0,   0,   0,   0,   0,   0,   0,   0,   0,   0,   0,   0,   0,   0,   0,   0,   0,   0,   0,   0,   0,   0,   0,   0,   0,   0,   0,   0],\n",
              "        [  0,   0,   0,   0,   0,   0,   0,   0,   0,   0,   0,   0,   0,   0,   0,   0,   0,   0,   0,   0,   0,   0,   0,   0,   0,   0,   0,   0],\n",
              "        [  0,   0,   0,   0,   0,   0,   0,   0,   0,   0,   0,   0,   0,   0,   0,   0,   0,   0,   0,   0,   0,   0,   0,   0,   0,   0,   0,   0],\n",
              "        [  0,   0,   0,   0,   0,   0,   0,   0,   0,   0,   0,   0,   0,   0,   0,   0,   0,   0,   0,   0,   0,   0,   0,   0,   0,   0,   0,   0],\n",
              "        [  0,   0,   0,   0,   0,   0,   0,   0,   0,   0,   0,   0,   0,   0,   0,   0,   0,   0,   0,   0,   0,   0,   0,   0,   0,   0,   0,   0],\n",
              "        [  0,   0,   0,   0,   0,   0,   0,   0,   0,   0,   0,   0,   0,   0,   0,   0,   0,   0,   0,   0,   0,   0,   0,   0,   0,   0,   0,   0],\n",
              "        [  0,   0,   0,   0,   0,   0,   0,   0,   0,   0,   0,   0,   0,   0,   0,   0,   0,   0,   0,   0,   0,   0,   0,   0,   0,   0,   0,   0],\n",
              "        [  0,   0,   0,   0,  21,  51, 213, 254, 252, 252, 252, 254, 252, 252, 252, 254, 252, 252, 252, 255, 252, 100,   0,   0,   0,   0,   0,   0],\n",
              "        [  0,   0,   0,  21, 161, 250, 250, 252, 250, 250, 250, 252, 250, 250, 250, 252, 250, 250, 250, 252, 250, 100,   0,   0,   0,   0,   0,   0],\n",
              "        [  0,   0,   0,  51, 250, 250, 250, 252, 189, 190, 250, 252, 250, 250, 250, 252, 250, 250, 250, 252, 189,  40,   0,   0,   0,   0,   0,   0],\n",
              "        [  0,   0,   0,  10, 130, 250, 250,  49,  29,  30,  49,  49,  49,  49,  49,  49,  49, 170, 250, 252, 149,   0,   0,   0,   0,   0,   0,   0],\n",
              "        [  0,   0,   0,   0,   0,   0,   0,   0,   0,   0,   0,   0,   0,   0,   0,  11, 132, 252, 252, 244, 121,   0,   0,   0,   0,   0,   0,   0],\n",
              "        [  0,   0,   0,   0,   0,   0,   0,   0,   0,   0,   0,   0,   0,   0,   0,  51, 250, 250, 250, 202,   0,   0,   0,   0,   0,   0,   0,   0],\n",
              "        [  0,   0,   0,   0,   0,   0,   0,   0,   0,   0,   0,   0,   0,   0,   0, 172, 250, 250, 250,  80,   0,   0,   0,   0,   0,   0,   0,   0],\n",
              "        [  0,   0,   0,   0,   0,   0,   0,   0,   0,   0,   0,   0,   0,   0,   0, 252, 250, 250, 250,   0,   0,   0,   0,   0,   0,   0,   0,   0],\n",
              "        [  0,   0,   0,   0,   0,   0,   0,   0,   0,   0,   0,   0,   0,  31, 213, 254, 252, 252,  49,   0,   0,   0,   0,   0,   0,   0,   0,   0],\n",
              "        [  0,   0,   0,   0,   0,   0,   0,   0,   0,   0,   0,   0,   0, 151, 250, 252, 250, 250,  49,   0,   0,   0,   0,   0,   0,   0,   0,   0],\n",
              "        [  0,   0,   0,   0,   0,   0,   0,   0,   0,   0,   0,   0,   0, 151, 250, 252, 250, 159,  20,   0,   0,   0,   0,   0,   0,   0,   0,   0],\n",
              "        [  0,   0,   0,   0,   0,   0,   0,   0,   0,   0,   0,   0,   0, 151, 250, 252, 250, 100,   0,   0,   0,   0,   0,   0,   0,   0,   0,   0],\n",
              "        [  0,   0,   0,   0,   0,   0,   0,   0,   0,   0,   0,   0,   0, 152, 252, 254, 252, 100,   0,   0,   0,   0,   0,   0,   0,   0,   0,   0],\n",
              "        [  0,   0,   0,   0,   0,   0,   0,   0,   0,   0,   0,   0,   0, 151, 250, 252, 250, 100,   0,   0,   0,   0,   0,   0,   0,   0,   0,   0],\n",
              "        [  0,   0,   0,   0,   0,   0,   0,   0,   0,   0,   0,   0,   0, 151, 250, 252, 250, 100,   0,   0,   0,   0,   0,   0,   0,   0,   0,   0],\n",
              "        [  0,   0,   0,   0,   0,   0,   0,   0,   0,   0,   0,   0,   0, 151, 250, 252, 250, 221,  40,   0,   0,   0,   0,   0,   0,   0,   0,   0],\n",
              "        [  0,   0,   0,   0,   0,   0,   0,   0,   0,   0,   0,   0,   0, 153, 252, 255, 252, 252,  49,   0,   0,   0,   0,   0,   0,   0,   0,   0],\n",
              "        [  0,   0,   0,   0,   0,   0,   0,   0,   0,   0,   0,   0,   0, 151, 250, 252, 250, 250,  49,   0,   0,   0,   0,   0,   0,   0,   0,   0],\n",
              "        [  0,   0,   0,   0,   0,   0,   0,   0,   0,   0,   0,   0,   0,  60, 221, 252, 250, 159,  20,   0,   0,   0,   0,   0,   0,   0,   0,   0],\n",
              "        [  0,   0,   0,   0,   0,   0,   0,   0,   0,   0,   0,   0,   0,   0,  40, 212,  49,  20,   0,   0,   0,   0,   0,   0,   0,   0,   0,   0],\n",
              "        [  0,   0,   0,   0,   0,   0,   0,   0,   0,   0,   0,   0,   0,   0,   0,   0,   0,   0,   0,   0,   0,   0,   0,   0,   0,   0,   0,   0]], dtype=torch.uint8)"
            ]
          },
          "metadata": {},
          "execution_count": 70
        }
      ]
    },
    {
      "cell_type": "code",
      "source": [
        "!pip install torchvision"
      ],
      "metadata": {
        "colab": {
          "base_uri": "https://localhost:8080/"
        },
        "id": "QA5mSCub-a4s",
        "outputId": "969d4c94-57ac-4acf-f645-1db8e996daa9"
      },
      "execution_count": 72,
      "outputs": [
        {
          "output_type": "stream",
          "name": "stdout",
          "text": [
            "Requirement already satisfied: torchvision in /usr/local/lib/python3.7/dist-packages (0.11.1+cu111)\n",
            "Requirement already satisfied: pillow!=8.3.0,>=5.3.0 in /usr/local/lib/python3.7/dist-packages (from torchvision) (7.1.2)\n",
            "Requirement already satisfied: torch==1.10.0 in /usr/local/lib/python3.7/dist-packages (from torchvision) (1.10.0+cu111)\n",
            "Requirement already satisfied: numpy in /usr/local/lib/python3.7/dist-packages (from torchvision) (1.19.5)\n",
            "Requirement already satisfied: typing-extensions in /usr/local/lib/python3.7/dist-packages (from torch==1.10.0->torchvision) (3.10.0.2)\n"
          ]
        }
      ]
    },
    {
      "cell_type": "code",
      "source": [
        "import torch \n",
        "import torchvision"
      ],
      "metadata": {
        "id": "zZbcZHkk_HgD"
      },
      "execution_count": 73,
      "outputs": []
    },
    {
      "cell_type": "code",
      "source": [
        "sevens_stack = torch.stack(sevens_tensor).float()/255"
      ],
      "metadata": {
        "id": "zbifCYY0_V0e"
      },
      "execution_count": 77,
      "outputs": []
    },
    {
      "cell_type": "code",
      "source": [
        "three_stack= torch.stack(threes_tensor).float()/ 255"
      ],
      "metadata": {
        "id": "XkvYLeDw_eQM"
      },
      "execution_count": 75,
      "outputs": []
    },
    {
      "cell_type": "code",
      "source": [
        "train_x =  torch.cat([sevens_stack, three_stack]).view(-1, 28 * 28)"
      ],
      "metadata": {
        "id": "G2nePbSj_nB2"
      },
      "execution_count": 80,
      "outputs": []
    },
    {
      "cell_type": "code",
      "source": [
        "train_y = tensor([1] * len(threes) + [0] * len(sevens)).unsqueeze(1)"
      ],
      "metadata": {
        "id": "zdjdRdizAmqI"
      },
      "execution_count": 86,
      "outputs": []
    },
    {
      "cell_type": "code",
      "source": [
        "train_x.shape, train_y.shape"
      ],
      "metadata": {
        "colab": {
          "base_uri": "https://localhost:8080/"
        },
        "id": "KNoU0YkYCJHF",
        "outputId": "814ccebe-430e-4592-ce37-c6fa1df9e2c7"
      },
      "execution_count": 87,
      "outputs": [
        {
          "output_type": "execute_result",
          "data": {
            "text/plain": [
              "(torch.Size([12530, 784]), torch.Size([12396, 1]))"
            ]
          },
          "metadata": {},
          "execution_count": 87
        }
      ]
    },
    {
      "cell_type": "code",
      "source": [
        "#A dataset is required to return a tuple of x,y when indexed.\n",
        "\n",
        "dset = list(zip(train_x, train_y))"
      ],
      "metadata": {
        "id": "6O7EA98DCNbr"
      },
      "execution_count": 93,
      "outputs": []
    },
    {
      "cell_type": "code",
      "source": [
        "x,y = dset[0]"
      ],
      "metadata": {
        "id": "uY2qLrn6DzXH"
      },
      "execution_count": 95,
      "outputs": []
    },
    {
      "cell_type": "code",
      "source": [
        "x.shape"
      ],
      "metadata": {
        "colab": {
          "base_uri": "https://localhost:8080/"
        },
        "id": "sxziCQs9E4wv",
        "outputId": "5b0995d6-5237-4f84-fbe5-22f617d5a6f9"
      },
      "execution_count": 96,
      "outputs": [
        {
          "output_type": "execute_result",
          "data": {
            "text/plain": [
              "torch.Size([784])"
            ]
          },
          "metadata": {},
          "execution_count": 96
        }
      ]
    },
    {
      "cell_type": "code",
      "source": [
        "y"
      ],
      "metadata": {
        "colab": {
          "base_uri": "https://localhost:8080/"
        },
        "id": "SosxVsNbE58-",
        "outputId": "879b6f06-b9de-41e3-ca47-32266537d913"
      },
      "execution_count": 97,
      "outputs": [
        {
          "output_type": "execute_result",
          "data": {
            "text/plain": [
              "tensor([1])"
            ]
          },
          "metadata": {},
          "execution_count": 97
        }
      ]
    },
    {
      "cell_type": "code",
      "source": [
        "valid_3_tens = torch.stack([tensor(Image.open(o)) for o  in (threes)])\n",
        "valid_7_tens = torch.stack([tensor(Image.open(o)) for o in(sevens)])"
      ],
      "metadata": {
        "id": "KMccxAPGGkN0"
      },
      "execution_count": 106,
      "outputs": []
    },
    {
      "cell_type": "code",
      "source": [
        "valid_3_tens = valid_3_tens.float() /255"
      ],
      "metadata": {
        "id": "HWcvB4iJI1TZ"
      },
      "execution_count": 107,
      "outputs": []
    },
    {
      "cell_type": "code",
      "source": [
        "valid_7_tens = valid_7_tens.float() /255"
      ],
      "metadata": {
        "id": "QnkGsTJpI8Qz"
      },
      "execution_count": 108,
      "outputs": []
    },
    {
      "cell_type": "code",
      "source": [
        "valid_x =  torch.cat(valid_3_tens, valid_7_tens).view(-1,28 * 28)"
      ],
      "metadata": {
        "id": "kcxRYr9QJALq"
      },
      "execution_count": null,
      "outputs": []
    },
    {
      "cell_type": "code",
      "source": [
        ""
      ],
      "metadata": {
        "id": "Alz85AKIJJ9H"
      },
      "execution_count": null,
      "outputs": []
    },
    {
      "cell_type": "code",
      "source": [
        ""
      ],
      "metadata": {
        "id": "CTirGv_PIMUj"
      },
      "execution_count": null,
      "outputs": []
    },
    {
      "cell_type": "code",
      "source": [
        ""
      ],
      "metadata": {
        "id": "CLxyuPp1IKM8"
      },
      "execution_count": null,
      "outputs": []
    },
    {
      "cell_type": "code",
      "source": [
        ""
      ],
      "metadata": {
        "id": "m1cX-lIZHNXp"
      },
      "execution_count": 102,
      "outputs": []
    },
    {
      "cell_type": "code",
      "source": [
        "valid_x = torch.cat(valid_3_tens, valid_7_tens).view(-1, 28 * 28)"
      ],
      "metadata": {
        "id": "yOyhNDLwHWfF"
      },
      "execution_count": null,
      "outputs": []
    },
    {
      "cell_type": "code",
      "source": [
        ""
      ],
      "metadata": {
        "id": "T7bEIUoDHiCG"
      },
      "execution_count": null,
      "outputs": []
    },
    {
      "cell_type": "code",
      "source": [
        ""
      ],
      "metadata": {
        "id": "RaQkertIG1YS"
      },
      "execution_count": null,
      "outputs": []
    },
    {
      "cell_type": "code",
      "source": [
        ""
      ],
      "metadata": {
        "id": "jG1i8gWbGu-6"
      },
      "execution_count": null,
      "outputs": []
    },
    {
      "cell_type": "code",
      "source": [
        "valid_x = torch.cat([valid_3_tens, valid_7_tens]).view(-1,28*28)  "
      ],
      "metadata": {
        "id": "piNtUXlBE8p0"
      },
      "execution_count": null,
      "outputs": []
    },
    {
      "cell_type": "code",
      "source": [
        ""
      ],
      "metadata": {
        "id": "9VzSMIv7D5T9"
      },
      "execution_count": null,
      "outputs": []
    },
    {
      "cell_type": "code",
      "source": [
        ""
      ],
      "metadata": {
        "id": "zXmjpI_rDs9x"
      },
      "execution_count": null,
      "outputs": []
    },
    {
      "cell_type": "code",
      "source": [
        ""
      ],
      "metadata": {
        "id": "X8GHFMCABtLL"
      },
      "execution_count": null,
      "outputs": []
    },
    {
      "cell_type": "code",
      "source": [
        ""
      ],
      "metadata": {
        "id": "g-RglvNSBqzH"
      },
      "execution_count": null,
      "outputs": []
    },
    {
      "cell_type": "code",
      "source": [
        ""
      ],
      "metadata": {
        "id": "gRdJ17jTAi6U"
      },
      "execution_count": null,
      "outputs": []
    },
    {
      "cell_type": "code",
      "source": [
        ""
      ],
      "metadata": {
        "id": "R0qX8UriARNm"
      },
      "execution_count": null,
      "outputs": []
    },
    {
      "cell_type": "code",
      "source": [
        ""
      ],
      "metadata": {
        "id": "Ghhwfixm_Ecy"
      },
      "execution_count": null,
      "outputs": []
    },
    {
      "cell_type": "code",
      "source": [
        ""
      ],
      "metadata": {
        "id": "vnS80cSS9z-s"
      },
      "execution_count": null,
      "outputs": []
    },
    {
      "cell_type": "code",
      "source": [
        ""
      ],
      "metadata": {
        "id": "t5hhT6Tl9ww4"
      },
      "execution_count": null,
      "outputs": []
    },
    {
      "cell_type": "code",
      "source": [
        ""
      ],
      "metadata": {
        "id": "8tIPzkzj9p_4"
      },
      "execution_count": null,
      "outputs": []
    },
    {
      "cell_type": "code",
      "source": [
        ""
      ],
      "metadata": {
        "id": "6n2ACiNf9CZr"
      },
      "execution_count": null,
      "outputs": []
    },
    {
      "cell_type": "code",
      "source": [
        ""
      ],
      "metadata": {
        "id": "7ae80V0X871H"
      },
      "execution_count": null,
      "outputs": []
    },
    {
      "cell_type": "code",
      "source": [
        ""
      ],
      "metadata": {
        "id": "-QxqZ0bg8Z5T"
      },
      "execution_count": null,
      "outputs": []
    },
    {
      "cell_type": "code",
      "source": [
        ""
      ],
      "metadata": {
        "id": "lc-rUGW47wv7"
      },
      "execution_count": null,
      "outputs": []
    },
    {
      "cell_type": "code",
      "source": [
        ""
      ],
      "metadata": {
        "id": "q-VU5wVE7YRK"
      },
      "execution_count": null,
      "outputs": []
    },
    {
      "cell_type": "code",
      "source": [
        ""
      ],
      "metadata": {
        "id": "Dcc-3G6A7JYd"
      },
      "execution_count": null,
      "outputs": []
    },
    {
      "cell_type": "code",
      "source": [
        ""
      ],
      "metadata": {
        "id": "hbMAgaRj7EVA"
      },
      "execution_count": null,
      "outputs": []
    },
    {
      "cell_type": "code",
      "source": [
        ""
      ],
      "metadata": {
        "id": "1ryRJh2659Uk"
      },
      "execution_count": null,
      "outputs": []
    },
    {
      "cell_type": "code",
      "source": [
        ""
      ],
      "metadata": {
        "id": "Wu_j5YPE5sR4"
      },
      "execution_count": null,
      "outputs": []
    },
    {
      "cell_type": "code",
      "source": [
        ""
      ],
      "metadata": {
        "id": "02zZoD-m47ZA"
      },
      "execution_count": null,
      "outputs": []
    },
    {
      "cell_type": "code",
      "source": [
        ""
      ],
      "metadata": {
        "id": "bXoV4xuz43rP"
      },
      "execution_count": null,
      "outputs": []
    },
    {
      "cell_type": "code",
      "source": [
        ""
      ],
      "metadata": {
        "id": "0SXmDT6x4B7L"
      },
      "execution_count": null,
      "outputs": []
    },
    {
      "cell_type": "code",
      "source": [
        ""
      ],
      "metadata": {
        "id": "kTgAdR8a318l"
      },
      "execution_count": null,
      "outputs": []
    },
    {
      "cell_type": "code",
      "source": [
        ""
      ],
      "metadata": {
        "id": "INKpQr570NXJ"
      },
      "execution_count": null,
      "outputs": []
    },
    {
      "cell_type": "code",
      "source": [
        ""
      ],
      "metadata": {
        "id": "fIIXYCb30GtT"
      },
      "execution_count": null,
      "outputs": []
    },
    {
      "cell_type": "code",
      "source": [
        ""
      ],
      "metadata": {
        "id": "4s6Yh7muz8mE"
      },
      "execution_count": null,
      "outputs": []
    },
    {
      "cell_type": "code",
      "source": [
        ""
      ],
      "metadata": {
        "id": "-On2pLjzzfT_"
      },
      "execution_count": null,
      "outputs": []
    }
  ]
}