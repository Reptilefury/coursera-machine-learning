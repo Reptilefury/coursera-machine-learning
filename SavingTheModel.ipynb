{
  "cells": [
    {
      "cell_type": "markdown",
      "metadata": {
        "id": "view-in-github",
        "colab_type": "text"
      },
      "source": [
        "<a href=\"https://colab.research.google.com/github/Reptilefury/coursera-machine-learning/blob/main/SavingTheModel.ipynb\" target=\"_parent\"><img src=\"https://colab.research.google.com/assets/colab-badge.svg\" alt=\"Open In Colab\"/></a>"
      ]
    },
    {
      "cell_type": "code",
      "execution_count": 33,
      "metadata": {
        "id": "dfd5ExtJgqyf"
      },
      "outputs": [],
      "source": [
        "import tensorflow as tf\n",
        "from tensorflow import keras\n",
        "import matplotlib.pyplot as plt\n",
        "import os"
      ]
    },
    {
      "cell_type": "code",
      "source": [
        "print(\"Version:\", tf.__version__)"
      ],
      "metadata": {
        "colab": {
          "base_uri": "https://localhost:8080/"
        },
        "id": "qST0kbafN3UF",
        "outputId": "083e7f57-a8c6-45d6-a370-92e42cdb932f"
      },
      "execution_count": 2,
      "outputs": [
        {
          "output_type": "stream",
          "name": "stdout",
          "text": [
            "Version: 2.8.0\n"
          ]
        }
      ]
    },
    {
      "cell_type": "code",
      "source": [
        "#Load the dataset \n",
        "mnist = tf.keras.datasets.mnist.load_data()"
      ],
      "metadata": {
        "colab": {
          "base_uri": "https://localhost:8080/"
        },
        "id": "gZ9APfM6N7x1",
        "outputId": "f4815b28-23f4-4c80-e7b6-5f05e12f8b0e"
      },
      "execution_count": 3,
      "outputs": [
        {
          "output_type": "stream",
          "name": "stdout",
          "text": [
            "Downloading data from https://storage.googleapis.com/tensorflow/tf-keras-datasets/mnist.npz\n",
            "11493376/11490434 [==============================] - 0s 0us/step\n",
            "11501568/11490434 [==============================] - 0s 0us/step\n"
          ]
        }
      ]
    },
    {
      "cell_type": "code",
      "source": [
        "#We split the dataset into train test \n",
        "(train_images, train_labels), (test_images, test_labels) = mnist"
      ],
      "metadata": {
        "id": "81jk4LGdOD5V"
      },
      "execution_count": 4,
      "outputs": []
    },
    {
      "cell_type": "code",
      "source": [
        "#We then normalize our dataset before passing it into our computational graph \n",
        "train_images = train_images/255.0 \n",
        "test_images = test_images/255.0"
      ],
      "metadata": {
        "id": "U0G-67OvOU1I"
      },
      "execution_count": 5,
      "outputs": []
    },
    {
      "cell_type": "code",
      "source": [
        "class_names=['zero','one','two', 'three', 'four', 'five', 'six', 'seven', 'eight','nine'] #list of all the class names "
      ],
      "metadata": {
        "id": "EcYEQVNvPFT4"
      },
      "execution_count": 6,
      "outputs": []
    },
    {
      "cell_type": "code",
      "source": [
        "#We visulize our dataset to check whether they are labeled correctly before we begin training\n",
        "plt.figure(figsize=(10,10))\n",
        "#plt.axis('off')\n",
        "plt.imshow(train_images[0], cmap='gray')\n",
        "plt.xlabel(class_names[train_labels[0]])"
      ],
      "metadata": {
        "colab": {
          "base_uri": "https://localhost:8080/",
          "height": 623
        },
        "id": "L7kgNrG9Oi3q",
        "outputId": "5f30a67b-a6e5-4569-8653-82f42ef4aca6"
      },
      "execution_count": 7,
      "outputs": [
        {
          "output_type": "execute_result",
          "data": {
            "text/plain": [
              "Text(0.5, 0, 'five')"
            ]
          },
          "metadata": {},
          "execution_count": 7
        },
        {
          "output_type": "display_data",
          "data": {
            "text/plain": [
              "<Figure size 720x720 with 1 Axes>"
            ],
            "image/png": "[encoded data removed]"
          },
          "metadata": {
            "needs_background": "light"
          }
        }
      ]
    },
    {
      "cell_type": "code",
      "source": [
        "def createModel():\n",
        "  #Now that the data is labeled correctly we can now build the computational graph \n",
        "    model = tf.keras.models.Sequential([\n",
        "  tf.keras.layers.Flatten(input_shape=train_images[0].shape),\n",
        "   #First layer of our model it takes the input image and \n",
        "   #flattens it into a one dimensional array which is a vector\n",
        "   tf.keras.layers.BatchNormalization(), #Using batch Normalization to speed up training and  prevent vanishing and exploding gradients\n",
        "   tf.keras.layers.Dense(300,kernel_initializer=\"he_normal\"),\n",
        "   tf.keras.layers.Activation('elu'), #pass in an activation function in this case I'll use Exponential linear unit\n",
        "   tf.keras.layers.Dense(100,kernel_initializer=\"he_normal\"), #Use he_normal initialization to prevent vanishing and exploding gradients and also speed up training\n",
        "   tf.keras.layers.Activation('elu'),\n",
        "   tf.keras.layers.BatchNormalization(),\n",
        "   tf.keras.layers.Dense(10, activation=\"softmax\") \n",
        "])\n",
        "    #Compile the model\n",
        "    model.compile(loss=tf.keras.losses.SparseCategoricalCrossentropy(from_logits=True),metrics=['accuracy'])\n",
        "    return model\n"
      ],
      "metadata": {
        "id": "5v_j6tFmPl44"
      },
      "execution_count": 52,
      "outputs": []
    },
    {
      "cell_type": "code",
      "source": [
        "model = createModel()"
      ],
      "metadata": {
        "id": "jNKSoxt-VsF3"
      },
      "execution_count": 54,
      "outputs": []
    },
    {
      "cell_type": "code",
      "source": [
        "#Compiling the model we declare the hyperparameters before we train"
      ],
      "metadata": {
        "id": "Yr1_5LocURpr"
      },
      "execution_count": 13,
      "outputs": []
    },
    {
      "cell_type": "code",
      "execution_count": 55,
      "metadata": {
        "id": "gJa52omUNC4B"
      },
      "outputs": [],
      "source": [
        "#We create a checkpoint and a callback to save our model during training \n",
        "check_point = \"train_point.ckpt\"\n",
        "call_back = tf.keras.callbacks.ModelCheckpoint(check_point,verbose=1,save_best_only=True)"
      ]
    },
    {
      "cell_type": "code",
      "source": [
        "History = model.fit(train_images,train_labels, epochs=15,validation_data=[test_images, test_labels], callbacks=[call_back]) "
      ],
      "metadata": {
        "colab": {
          "base_uri": "https://localhost:8080/"
        },
        "id": "LtpefsTOTxe5",
        "outputId": "7aa13c52-e934-473e-e077-0d51644ff6c4"
      },
      "execution_count": 15,
      "outputs": [
        {
          "output_type": "stream",
          "name": "stdout",
          "text": [
            "Epoch 1/15\n"
          ]
        },
        {
          "output_type": "stream",
          "name": "stderr",
          "text": [
            "/usr/local/lib/python3.7/dist-packages/tensorflow/python/util/dispatch.py:1082: UserWarning: \"`sparse_categorical_crossentropy` received `from_logits=True`, but the `output` argument was produced by a sigmoid or softmax activation and thus does not represent logits. Was this intended?\"\n",
            "  return dispatch_target(*args, **kwargs)\n"
          ]
        },
        {
          "output_type": "stream",
          "name": "stdout",
          "text": [
            "1869/1875 [============================>.] - ETA: 0s - loss: 0.2168 - accuracy: 0.9342\n",
            "Epoch 1: val_loss improved from inf to 0.10820, saving model to train_point.ckpt\n",
            "INFO:tensorflow:Assets written to: train_point.ckpt/assets\n",
            "1875/1875 [==============================] - 16s 7ms/step - loss: 0.2164 - accuracy: 0.9343 - val_loss: 0.1082 - val_accuracy: 0.9683\n",
            "Epoch 2/15\n",
            "1872/1875 [============================>.] - ETA: 0s - loss: 0.1057 - accuracy: 0.9679\n",
            "Epoch 2: val_loss improved from 0.10820 to 0.08656, saving model to train_point.ckpt\n",
            "INFO:tensorflow:Assets written to: train_point.ckpt/assets\n",
            "1875/1875 [==============================] - 11s 6ms/step - loss: 0.1057 - accuracy: 0.9679 - val_loss: 0.0866 - val_accuracy: 0.9755\n",
            "Epoch 3/15\n",
            "1866/1875 [============================>.] - ETA: 0s - loss: 0.0777 - accuracy: 0.9757\n",
            "Epoch 3: val_loss improved from 0.08656 to 0.08210, saving model to train_point.ckpt\n",
            "INFO:tensorflow:Assets written to: train_point.ckpt/assets\n",
            "1875/1875 [==============================] - 11s 6ms/step - loss: 0.0777 - accuracy: 0.9758 - val_loss: 0.0821 - val_accuracy: 0.9779\n",
            "Epoch 4/15\n",
            "1870/1875 [============================>.] - ETA: 0s - loss: 0.0639 - accuracy: 0.9802\n",
            "Epoch 4: val_loss improved from 0.08210 to 0.07208, saving model to train_point.ckpt\n",
            "INFO:tensorflow:Assets written to: train_point.ckpt/assets\n",
            "1875/1875 [==============================] - 11s 6ms/step - loss: 0.0638 - accuracy: 0.9802 - val_loss: 0.0721 - val_accuracy: 0.9794\n",
            "Epoch 5/15\n",
            "1870/1875 [============================>.] - ETA: 0s - loss: 0.0509 - accuracy: 0.9839\n",
            "Epoch 5: val_loss did not improve from 0.07208\n",
            "1875/1875 [==============================] - 9s 5ms/step - loss: 0.0508 - accuracy: 0.9839 - val_loss: 0.0777 - val_accuracy: 0.9806\n",
            "Epoch 6/15\n",
            "1870/1875 [============================>.] - ETA: 0s - loss: 0.0441 - accuracy: 0.9863\n",
            "Epoch 6: val_loss did not improve from 0.07208\n",
            "1875/1875 [==============================] - 10s 5ms/step - loss: 0.0442 - accuracy: 0.9862 - val_loss: 0.0733 - val_accuracy: 0.9814\n",
            "Epoch 7/15\n",
            "1875/1875 [==============================] - ETA: 0s - loss: 0.0379 - accuracy: 0.9880\n",
            "Epoch 7: val_loss did not improve from 0.07208\n",
            "1875/1875 [==============================] - 9s 5ms/step - loss: 0.0379 - accuracy: 0.9880 - val_loss: 0.0891 - val_accuracy: 0.9781\n",
            "Epoch 8/15\n",
            "1864/1875 [============================>.] - ETA: 0s - loss: 0.0334 - accuracy: 0.9890\n",
            "Epoch 8: val_loss did not improve from 0.07208\n",
            "1875/1875 [==============================] - 10s 5ms/step - loss: 0.0333 - accuracy: 0.9890 - val_loss: 0.0834 - val_accuracy: 0.9805\n",
            "Epoch 9/15\n",
            "1864/1875 [============================>.] - ETA: 0s - loss: 0.0303 - accuracy: 0.9905\n",
            "Epoch 9: val_loss did not improve from 0.07208\n",
            "1875/1875 [==============================] - 10s 5ms/step - loss: 0.0303 - accuracy: 0.9905 - val_loss: 0.0851 - val_accuracy: 0.9792\n",
            "Epoch 10/15\n",
            "1865/1875 [============================>.] - ETA: 0s - loss: 0.0275 - accuracy: 0.9910\n",
            "Epoch 10: val_loss did not improve from 0.07208\n",
            "1875/1875 [==============================] - 9s 5ms/step - loss: 0.0275 - accuracy: 0.9910 - val_loss: 0.0826 - val_accuracy: 0.9799\n",
            "Epoch 11/15\n",
            "1870/1875 [============================>.] - ETA: 0s - loss: 0.0255 - accuracy: 0.9918\n",
            "Epoch 11: val_loss did not improve from 0.07208\n",
            "1875/1875 [==============================] - 9s 5ms/step - loss: 0.0255 - accuracy: 0.9918 - val_loss: 0.0887 - val_accuracy: 0.9805\n",
            "Epoch 12/15\n",
            "1865/1875 [============================>.] - ETA: 0s - loss: 0.0227 - accuracy: 0.9927\n",
            "Epoch 12: val_loss did not improve from 0.07208\n",
            "1875/1875 [==============================] - 9s 5ms/step - loss: 0.0228 - accuracy: 0.9926 - val_loss: 0.0970 - val_accuracy: 0.9800\n",
            "Epoch 13/15\n",
            "1875/1875 [==============================] - ETA: 0s - loss: 0.0219 - accuracy: 0.9931\n",
            "Epoch 13: val_loss did not improve from 0.07208\n",
            "1875/1875 [==============================] - 9s 5ms/step - loss: 0.0219 - accuracy: 0.9931 - val_loss: 0.0894 - val_accuracy: 0.9816\n",
            "Epoch 14/15\n",
            "1866/1875 [============================>.] - ETA: 0s - loss: 0.0201 - accuracy: 0.9937\n",
            "Epoch 14: val_loss did not improve from 0.07208\n",
            "1875/1875 [==============================] - 10s 5ms/step - loss: 0.0201 - accuracy: 0.9937 - val_loss: 0.0949 - val_accuracy: 0.9801\n",
            "Epoch 15/15\n",
            "1875/1875 [==============================] - ETA: 0s - loss: 0.0200 - accuracy: 0.9936\n",
            "Epoch 15: val_loss did not improve from 0.07208\n",
            "1875/1875 [==============================] - 10s 5ms/step - loss: 0.0200 - accuracy: 0.9936 - val_loss: 0.0899 - val_accuracy: 0.9813\n"
          ]
        }
      ]
    },
    {
      "cell_type": "code",
      "source": [
        "#We create another instance of the model \n",
        "modelOne = createModel()"
      ],
      "metadata": {
        "id": "3ZgKT654WvT-"
      },
      "execution_count": 56,
      "outputs": []
    },
    {
      "cell_type": "code",
      "source": [
        "#Lets evaluate the model to check its accuracy before training\n",
        "loss, accuracy = modelOne.evaluate(test_images,test_labels,verbose=2)"
      ],
      "metadata": {
        "colab": {
          "base_uri": "https://localhost:8080/"
        },
        "id": "ZPVFLovRXSz4",
        "outputId": "ea0a593a-ed22-4916-e5af-ebf362522e59"
      },
      "execution_count": 57,
      "outputs": [
        {
          "output_type": "stream",
          "name": "stderr",
          "text": [
            "/usr/local/lib/python3.7/dist-packages/tensorflow/python/util/dispatch.py:1082: UserWarning: \"`sparse_categorical_crossentropy` received `from_logits=True`, but the `output` argument was produced by a sigmoid or softmax activation and thus does not represent logits. Was this intended?\"\n",
            "  return dispatch_target(*args, **kwargs)\n"
          ]
        },
        {
          "output_type": "stream",
          "name": "stdout",
          "text": [
            "313/313 - 1s - loss: 2.4870 - accuracy: 0.1037 - 1s/epoch - 3ms/step\n"
          ]
        }
      ]
    },
    {
      "cell_type": "code",
      "source": [
        "loss"
      ],
      "metadata": {
        "colab": {
          "base_uri": "https://localhost:8080/"
        },
        "id": "BqtAYU1NXlEy",
        "outputId": "e53bb85f-3fc1-462a-b927-ab498bdeeb63"
      },
      "execution_count": 58,
      "outputs": [
        {
          "output_type": "execute_result",
          "data": {
            "text/plain": [
              "2.4870057106018066"
            ]
          },
          "metadata": {},
          "execution_count": 58
        }
      ]
    },
    {
      "cell_type": "code",
      "source": [
        "accuracy #Here the accuracy is about 14%"
      ],
      "metadata": {
        "colab": {
          "base_uri": "https://localhost:8080/"
        },
        "id": "qxfCte1VXnJx",
        "outputId": "4e28a6ce-9320-4704-d936-a582356005b6"
      },
      "execution_count": 59,
      "outputs": [
        {
          "output_type": "execute_result",
          "data": {
            "text/plain": [
              "0.10369999706745148"
            ]
          },
          "metadata": {},
          "execution_count": 59
        }
      ]
    },
    {
      "cell_type": "code",
      "source": [
        "#We now load the saved weights and test the accuracy\n",
        "modelOne.load_weights(check_point)"
      ],
      "metadata": {
        "colab": {
          "base_uri": "https://localhost:8080/"
        },
        "id": "1Sd06naaXu0J",
        "outputId": "9b280536-8576-4a50-dfda-045404803544"
      },
      "execution_count": 60,
      "outputs": [
        {
          "output_type": "execute_result",
          "data": {
            "text/plain": [
              "<tensorflow.python.training.tracking.util.CheckpointLoadStatus at 0x7f8824ca7d10>"
            ]
          },
          "metadata": {},
          "execution_count": 60
        }
      ]
    },
    {
      "cell_type": "code",
      "source": [
        "#We now check  the accuracy of our model \n",
        "loss, accuracy  = modelOne.evaluate(test_images,test_labels, verbose=2) #The accuracy has improved after loading the weights it is now 97%"
      ],
      "metadata": {
        "colab": {
          "base_uri": "https://localhost:8080/"
        },
        "id": "SsVCz3ljX-ZT",
        "outputId": "fd74184c-e4b9-42c4-cfeb-863f2bb36976"
      },
      "execution_count": 61,
      "outputs": [
        {
          "output_type": "stream",
          "name": "stdout",
          "text": [
            "313/313 - 1s - loss: 0.0721 - accuracy: 0.9794 - 796ms/epoch - 3ms/step\n"
          ]
        }
      ]
    },
    {
      "cell_type": "code",
      "source": [
        "batch_size = 32"
      ],
      "metadata": {
        "id": "ttvIduAnb7yl"
      },
      "execution_count": 62,
      "outputs": []
    },
    {
      "cell_type": "code",
      "source": [
        "#We create a checkpoint that saves the model using unique names after every five seconds \n",
        "check_point = \"train_2/cp-{epoch:04d}.ckpt\"\n",
        "callback_dir = tf.keras.callbacks.ModelCheckpoint(check_point, verbose=2, save_weights_only=True,save_freq=5 *batch_size)\n",
        "#This callback saves the model after every five seconds "
      ],
      "metadata": {
        "id": "-kXS3vpAbM-j"
      },
      "execution_count": 63,
      "outputs": []
    },
    {
      "cell_type": "code",
      "source": [
        "#We create another model instance \n",
        "modelFive = createModel()"
      ],
      "metadata": {
        "id": "Up36zRGJaOiY"
      },
      "execution_count": 64,
      "outputs": []
    },
    {
      "cell_type": "code",
      "source": [
        "modelFive.build()"
      ],
      "metadata": {
        "id": "ZiJvTCJEc7tN"
      },
      "execution_count": 65,
      "outputs": []
    },
    {
      "cell_type": "code",
      "source": [
        "#Save the model's weights using the checkpoint we created earlier\n",
        "modelFive.save_weights(check_point.format(epoch=0))"
      ],
      "metadata": {
        "id": "xZ7o_8AMdG1d"
      },
      "execution_count": 66,
      "outputs": []
    },
    {
      "cell_type": "code",
      "source": [
        "from gc import callbacks\n",
        "#We now train the model using the new callbacks \n",
        "historyFive = modelFive.fit(train_images, train_labels, epochs =20, batch_size=batch_size, validation_data=[test_images,test_labels],callbacks=[callback_dir], verbose =1)"
      ],
      "metadata": {
        "colab": {
          "base_uri": "https://localhost:8080/"
        },
        "id": "33RStAZ0d-Tj",
        "outputId": "42fd878a-b7b0-4073-c5e6-49cc6a375141"
      },
      "execution_count": 71,
      "outputs": [
        {
          "output_type": "stream",
          "name": "stdout",
          "text": [
            "Epoch 1/20\n",
            "\n",
            "Epoch 1: saving model to train_2/cp-0001.ckpt\n",
            "\n",
            "Epoch 1: saving model to train_2/cp-0001.ckpt\n",
            "\n",
            "Epoch 1: saving model to train_2/cp-0001.ckpt\n",
            "\n",
            "Epoch 1: saving model to train_2/cp-0001.ckpt\n",
            "\n",
            "Epoch 1: saving model to train_2/cp-0001.ckpt\n",
            "\n",
            "Epoch 1: saving model to train_2/cp-0001.ckpt\n",
            "\n",
            "Epoch 1: saving model to train_2/cp-0001.ckpt\n",
            "\n",
            "Epoch 1: saving model to train_2/cp-0001.ckpt\n",
            "\n",
            "Epoch 1: saving model to train_2/cp-0001.ckpt\n",
            "\n",
            "Epoch 1: saving model to train_2/cp-0001.ckpt\n",
            "\n",
            "Epoch 1: saving model to train_2/cp-0001.ckpt\n",
            "1875/1875 - 9s - loss: 0.0992 - accuracy: 0.9698 - val_loss: 0.0794 - val_accuracy: 0.9755 - 9s/epoch - 5ms/step\n",
            "Epoch 2/20\n",
            "\n",
            "Epoch 2: saving model to train_2/cp-0002.ckpt\n",
            "\n",
            "Epoch 2: saving model to train_2/cp-0002.ckpt\n",
            "\n",
            "Epoch 2: saving model to train_2/cp-0002.ckpt\n",
            "\n",
            "Epoch 2: saving model to train_2/cp-0002.ckpt\n",
            "\n",
            "Epoch 2: saving model to train_2/cp-0002.ckpt\n",
            "\n",
            "Epoch 2: saving model to train_2/cp-0002.ckpt\n",
            "\n",
            "Epoch 2: saving model to train_2/cp-0002.ckpt\n",
            "\n",
            "Epoch 2: saving model to train_2/cp-0002.ckpt\n",
            "\n",
            "Epoch 2: saving model to train_2/cp-0002.ckpt\n",
            "\n",
            "Epoch 2: saving model to train_2/cp-0002.ckpt\n",
            "\n",
            "Epoch 2: saving model to train_2/cp-0002.ckpt\n",
            "\n",
            "Epoch 2: saving model to train_2/cp-0002.ckpt\n",
            "1875/1875 - 9s - loss: 0.0756 - accuracy: 0.9765 - val_loss: 0.0825 - val_accuracy: 0.9754 - 9s/epoch - 5ms/step\n",
            "Epoch 3/20\n",
            "\n",
            "Epoch 3: saving model to train_2/cp-0003.ckpt\n",
            "\n",
            "Epoch 3: saving model to train_2/cp-0003.ckpt\n",
            "\n",
            "Epoch 3: saving model to train_2/cp-0003.ckpt\n",
            "\n",
            "Epoch 3: saving model to train_2/cp-0003.ckpt\n",
            "\n",
            "Epoch 3: saving model to train_2/cp-0003.ckpt\n",
            "\n",
            "Epoch 3: saving model to train_2/cp-0003.ckpt\n",
            "\n",
            "Epoch 3: saving model to train_2/cp-0003.ckpt\n",
            "\n",
            "Epoch 3: saving model to train_2/cp-0003.ckpt\n",
            "\n",
            "Epoch 3: saving model to train_2/cp-0003.ckpt\n",
            "\n",
            "Epoch 3: saving model to train_2/cp-0003.ckpt\n",
            "\n",
            "Epoch 3: saving model to train_2/cp-0003.ckpt\n",
            "\n",
            "Epoch 3: saving model to train_2/cp-0003.ckpt\n",
            "1875/1875 - 9s - loss: 0.0603 - accuracy: 0.9809 - val_loss: 0.0767 - val_accuracy: 0.9798 - 9s/epoch - 5ms/step\n",
            "Epoch 4/20\n",
            "\n",
            "Epoch 4: saving model to train_2/cp-0004.ckpt\n",
            "\n",
            "Epoch 4: saving model to train_2/cp-0004.ckpt\n",
            "\n",
            "Epoch 4: saving model to train_2/cp-0004.ckpt\n",
            "\n",
            "Epoch 4: saving model to train_2/cp-0004.ckpt\n",
            "\n",
            "Epoch 4: saving model to train_2/cp-0004.ckpt\n",
            "\n",
            "Epoch 4: saving model to train_2/cp-0004.ckpt\n",
            "\n",
            "Epoch 4: saving model to train_2/cp-0004.ckpt\n",
            "\n",
            "Epoch 4: saving model to train_2/cp-0004.ckpt\n",
            "\n",
            "Epoch 4: saving model to train_2/cp-0004.ckpt\n",
            "\n",
            "Epoch 4: saving model to train_2/cp-0004.ckpt\n",
            "\n",
            "Epoch 4: saving model to train_2/cp-0004.ckpt\n",
            "1875/1875 - 8s - loss: 0.0510 - accuracy: 0.9840 - val_loss: 0.0771 - val_accuracy: 0.9787 - 8s/epoch - 4ms/step\n",
            "Epoch 5/20\n",
            "\n",
            "Epoch 5: saving model to train_2/cp-0005.ckpt\n",
            "\n",
            "Epoch 5: saving model to train_2/cp-0005.ckpt\n",
            "\n",
            "Epoch 5: saving model to train_2/cp-0005.ckpt\n",
            "\n",
            "Epoch 5: saving model to train_2/cp-0005.ckpt\n",
            "\n",
            "Epoch 5: saving model to train_2/cp-0005.ckpt\n",
            "\n",
            "Epoch 5: saving model to train_2/cp-0005.ckpt\n",
            "\n",
            "Epoch 5: saving model to train_2/cp-0005.ckpt\n",
            "\n",
            "Epoch 5: saving model to train_2/cp-0005.ckpt\n",
            "\n",
            "Epoch 5: saving model to train_2/cp-0005.ckpt\n",
            "\n",
            "Epoch 5: saving model to train_2/cp-0005.ckpt\n",
            "\n",
            "Epoch 5: saving model to train_2/cp-0005.ckpt\n",
            "\n",
            "Epoch 5: saving model to train_2/cp-0005.ckpt\n",
            "1875/1875 - 8s - loss: 0.0439 - accuracy: 0.9864 - val_loss: 0.0786 - val_accuracy: 0.9795 - 8s/epoch - 4ms/step\n",
            "Epoch 6/20\n",
            "\n",
            "Epoch 6: saving model to train_2/cp-0006.ckpt\n",
            "\n",
            "Epoch 6: saving model to train_2/cp-0006.ckpt\n",
            "\n",
            "Epoch 6: saving model to train_2/cp-0006.ckpt\n",
            "\n",
            "Epoch 6: saving model to train_2/cp-0006.ckpt\n",
            "\n",
            "Epoch 6: saving model to train_2/cp-0006.ckpt\n",
            "\n",
            "Epoch 6: saving model to train_2/cp-0006.ckpt\n",
            "\n",
            "Epoch 6: saving model to train_2/cp-0006.ckpt\n",
            "\n",
            "Epoch 6: saving model to train_2/cp-0006.ckpt\n",
            "\n",
            "Epoch 6: saving model to train_2/cp-0006.ckpt\n",
            "\n",
            "Epoch 6: saving model to train_2/cp-0006.ckpt\n",
            "\n",
            "Epoch 6: saving model to train_2/cp-0006.ckpt\n",
            "\n",
            "Epoch 6: saving model to train_2/cp-0006.ckpt\n",
            "1875/1875 - 8s - loss: 0.0384 - accuracy: 0.9877 - val_loss: 0.0841 - val_accuracy: 0.9803 - 8s/epoch - 4ms/step\n",
            "Epoch 7/20\n",
            "\n",
            "Epoch 7: saving model to train_2/cp-0007.ckpt\n",
            "\n",
            "Epoch 7: saving model to train_2/cp-0007.ckpt\n",
            "\n",
            "Epoch 7: saving model to train_2/cp-0007.ckpt\n",
            "\n",
            "Epoch 7: saving model to train_2/cp-0007.ckpt\n",
            "\n",
            "Epoch 7: saving model to train_2/cp-0007.ckpt\n",
            "\n",
            "Epoch 7: saving model to train_2/cp-0007.ckpt\n",
            "\n",
            "Epoch 7: saving model to train_2/cp-0007.ckpt\n",
            "\n",
            "Epoch 7: saving model to train_2/cp-0007.ckpt\n",
            "\n",
            "Epoch 7: saving model to train_2/cp-0007.ckpt\n",
            "\n",
            "Epoch 7: saving model to train_2/cp-0007.ckpt\n",
            "\n",
            "Epoch 7: saving model to train_2/cp-0007.ckpt\n",
            "\n",
            "Epoch 7: saving model to train_2/cp-0007.ckpt\n",
            "1875/1875 - 8s - loss: 0.0316 - accuracy: 0.9898 - val_loss: 0.0790 - val_accuracy: 0.9804 - 8s/epoch - 4ms/step\n",
            "Epoch 8/20\n",
            "\n",
            "Epoch 8: saving model to train_2/cp-0008.ckpt\n",
            "\n",
            "Epoch 8: saving model to train_2/cp-0008.ckpt\n",
            "\n",
            "Epoch 8: saving model to train_2/cp-0008.ckpt\n",
            "\n",
            "Epoch 8: saving model to train_2/cp-0008.ckpt\n",
            "\n",
            "Epoch 8: saving model to train_2/cp-0008.ckpt\n",
            "\n",
            "Epoch 8: saving model to train_2/cp-0008.ckpt\n",
            "\n",
            "Epoch 8: saving model to train_2/cp-0008.ckpt\n",
            "\n",
            "Epoch 8: saving model to train_2/cp-0008.ckpt\n",
            "\n",
            "Epoch 8: saving model to train_2/cp-0008.ckpt\n",
            "\n",
            "Epoch 8: saving model to train_2/cp-0008.ckpt\n",
            "\n",
            "Epoch 8: saving model to train_2/cp-0008.ckpt\n",
            "1875/1875 - 8s - loss: 0.0315 - accuracy: 0.9899 - val_loss: 0.0851 - val_accuracy: 0.9807 - 8s/epoch - 4ms/step\n",
            "Epoch 9/20\n",
            "\n",
            "Epoch 9: saving model to train_2/cp-0009.ckpt\n",
            "\n",
            "Epoch 9: saving model to train_2/cp-0009.ckpt\n",
            "\n",
            "Epoch 9: saving model to train_2/cp-0009.ckpt\n",
            "\n",
            "Epoch 9: saving model to train_2/cp-0009.ckpt\n",
            "\n",
            "Epoch 9: saving model to train_2/cp-0009.ckpt\n",
            "\n",
            "Epoch 9: saving model to train_2/cp-0009.ckpt\n",
            "\n",
            "Epoch 9: saving model to train_2/cp-0009.ckpt\n",
            "\n",
            "Epoch 9: saving model to train_2/cp-0009.ckpt\n",
            "\n",
            "Epoch 9: saving model to train_2/cp-0009.ckpt\n",
            "\n",
            "Epoch 9: saving model to train_2/cp-0009.ckpt\n",
            "\n",
            "Epoch 9: saving model to train_2/cp-0009.ckpt\n",
            "\n",
            "Epoch 9: saving model to train_2/cp-0009.ckpt\n",
            "1875/1875 - 9s - loss: 0.0283 - accuracy: 0.9908 - val_loss: 0.0852 - val_accuracy: 0.9796 - 9s/epoch - 5ms/step\n",
            "Epoch 10/20\n",
            "\n",
            "Epoch 10: saving model to train_2/cp-0010.ckpt\n",
            "\n",
            "Epoch 10: saving model to train_2/cp-0010.ckpt\n",
            "\n",
            "Epoch 10: saving model to train_2/cp-0010.ckpt\n",
            "\n",
            "Epoch 10: saving model to train_2/cp-0010.ckpt\n",
            "\n",
            "Epoch 10: saving model to train_2/cp-0010.ckpt\n",
            "\n",
            "Epoch 10: saving model to train_2/cp-0010.ckpt\n",
            "\n",
            "Epoch 10: saving model to train_2/cp-0010.ckpt\n",
            "\n",
            "Epoch 10: saving model to train_2/cp-0010.ckpt\n",
            "\n",
            "Epoch 10: saving model to train_2/cp-0010.ckpt\n",
            "\n",
            "Epoch 10: saving model to train_2/cp-0010.ckpt\n",
            "\n",
            "Epoch 10: saving model to train_2/cp-0010.ckpt\n",
            "\n",
            "Epoch 10: saving model to train_2/cp-0010.ckpt\n",
            "1875/1875 - 8s - loss: 0.0264 - accuracy: 0.9915 - val_loss: 0.0858 - val_accuracy: 0.9808 - 8s/epoch - 4ms/step\n",
            "Epoch 11/20\n",
            "\n",
            "Epoch 11: saving model to train_2/cp-0011.ckpt\n",
            "\n",
            "Epoch 11: saving model to train_2/cp-0011.ckpt\n",
            "\n",
            "Epoch 11: saving model to train_2/cp-0011.ckpt\n",
            "\n",
            "Epoch 11: saving model to train_2/cp-0011.ckpt\n",
            "\n",
            "Epoch 11: saving model to train_2/cp-0011.ckpt\n",
            "\n",
            "Epoch 11: saving model to train_2/cp-0011.ckpt\n",
            "\n",
            "Epoch 11: saving model to train_2/cp-0011.ckpt\n",
            "\n",
            "Epoch 11: saving model to train_2/cp-0011.ckpt\n",
            "\n",
            "Epoch 11: saving model to train_2/cp-0011.ckpt\n",
            "\n",
            "Epoch 11: saving model to train_2/cp-0011.ckpt\n",
            "\n",
            "Epoch 11: saving model to train_2/cp-0011.ckpt\n",
            "1875/1875 - 8s - loss: 0.0214 - accuracy: 0.9928 - val_loss: 0.0946 - val_accuracy: 0.9794 - 8s/epoch - 4ms/step\n",
            "Epoch 12/20\n",
            "\n",
            "Epoch 12: saving model to train_2/cp-0012.ckpt\n",
            "\n",
            "Epoch 12: saving model to train_2/cp-0012.ckpt\n",
            "\n",
            "Epoch 12: saving model to train_2/cp-0012.ckpt\n",
            "\n",
            "Epoch 12: saving model to train_2/cp-0012.ckpt\n",
            "\n",
            "Epoch 12: saving model to train_2/cp-0012.ckpt\n",
            "\n",
            "Epoch 12: saving model to train_2/cp-0012.ckpt\n",
            "\n",
            "Epoch 12: saving model to train_2/cp-0012.ckpt\n",
            "\n",
            "Epoch 12: saving model to train_2/cp-0012.ckpt\n",
            "\n",
            "Epoch 12: saving model to train_2/cp-0012.ckpt\n",
            "\n",
            "Epoch 12: saving model to train_2/cp-0012.ckpt\n",
            "\n",
            "Epoch 12: saving model to train_2/cp-0012.ckpt\n",
            "\n",
            "Epoch 12: saving model to train_2/cp-0012.ckpt\n",
            "1875/1875 - 8s - loss: 0.0204 - accuracy: 0.9934 - val_loss: 0.0943 - val_accuracy: 0.9814 - 8s/epoch - 4ms/step\n",
            "Epoch 13/20\n",
            "\n",
            "Epoch 13: saving model to train_2/cp-0013.ckpt\n",
            "\n",
            "Epoch 13: saving model to train_2/cp-0013.ckpt\n",
            "\n",
            "Epoch 13: saving model to train_2/cp-0013.ckpt\n",
            "\n",
            "Epoch 13: saving model to train_2/cp-0013.ckpt\n",
            "\n",
            "Epoch 13: saving model to train_2/cp-0013.ckpt\n",
            "\n",
            "Epoch 13: saving model to train_2/cp-0013.ckpt\n",
            "\n",
            "Epoch 13: saving model to train_2/cp-0013.ckpt\n",
            "\n",
            "Epoch 13: saving model to train_2/cp-0013.ckpt\n",
            "\n",
            "Epoch 13: saving model to train_2/cp-0013.ckpt\n",
            "\n",
            "Epoch 13: saving model to train_2/cp-0013.ckpt\n",
            "\n",
            "Epoch 13: saving model to train_2/cp-0013.ckpt\n",
            "\n",
            "Epoch 13: saving model to train_2/cp-0013.ckpt\n",
            "1875/1875 - 9s - loss: 0.0199 - accuracy: 0.9935 - val_loss: 0.0943 - val_accuracy: 0.9808 - 9s/epoch - 5ms/step\n",
            "Epoch 14/20\n",
            "\n",
            "Epoch 14: saving model to train_2/cp-0014.ckpt\n",
            "\n",
            "Epoch 14: saving model to train_2/cp-0014.ckpt\n",
            "\n",
            "Epoch 14: saving model to train_2/cp-0014.ckpt\n",
            "\n",
            "Epoch 14: saving model to train_2/cp-0014.ckpt\n",
            "\n",
            "Epoch 14: saving model to train_2/cp-0014.ckpt\n",
            "\n",
            "Epoch 14: saving model to train_2/cp-0014.ckpt\n",
            "\n",
            "Epoch 14: saving model to train_2/cp-0014.ckpt\n",
            "\n",
            "Epoch 14: saving model to train_2/cp-0014.ckpt\n",
            "\n",
            "Epoch 14: saving model to train_2/cp-0014.ckpt\n",
            "\n",
            "Epoch 14: saving model to train_2/cp-0014.ckpt\n",
            "\n",
            "Epoch 14: saving model to train_2/cp-0014.ckpt\n",
            "\n",
            "Epoch 14: saving model to train_2/cp-0014.ckpt\n",
            "1875/1875 - 9s - loss: 0.0189 - accuracy: 0.9937 - val_loss: 0.1018 - val_accuracy: 0.9790 - 9s/epoch - 5ms/step\n",
            "Epoch 15/20\n",
            "\n",
            "Epoch 15: saving model to train_2/cp-0015.ckpt\n",
            "\n",
            "Epoch 15: saving model to train_2/cp-0015.ckpt\n",
            "\n",
            "Epoch 15: saving model to train_2/cp-0015.ckpt\n",
            "\n",
            "Epoch 15: saving model to train_2/cp-0015.ckpt\n",
            "\n",
            "Epoch 15: saving model to train_2/cp-0015.ckpt\n",
            "\n",
            "Epoch 15: saving model to train_2/cp-0015.ckpt\n",
            "\n",
            "Epoch 15: saving model to train_2/cp-0015.ckpt\n",
            "\n",
            "Epoch 15: saving model to train_2/cp-0015.ckpt\n",
            "\n",
            "Epoch 15: saving model to train_2/cp-0015.ckpt\n",
            "\n",
            "Epoch 15: saving model to train_2/cp-0015.ckpt\n",
            "\n",
            "Epoch 15: saving model to train_2/cp-0015.ckpt\n",
            "1875/1875 - 9s - loss: 0.0181 - accuracy: 0.9940 - val_loss: 0.0933 - val_accuracy: 0.9799 - 9s/epoch - 5ms/step\n",
            "Epoch 16/20\n",
            "\n",
            "Epoch 16: saving model to train_2/cp-0016.ckpt\n",
            "\n",
            "Epoch 16: saving model to train_2/cp-0016.ckpt\n",
            "\n",
            "Epoch 16: saving model to train_2/cp-0016.ckpt\n",
            "\n",
            "Epoch 16: saving model to train_2/cp-0016.ckpt\n",
            "\n",
            "Epoch 16: saving model to train_2/cp-0016.ckpt\n",
            "\n",
            "Epoch 16: saving model to train_2/cp-0016.ckpt\n",
            "\n",
            "Epoch 16: saving model to train_2/cp-0016.ckpt\n",
            "\n",
            "Epoch 16: saving model to train_2/cp-0016.ckpt\n",
            "\n",
            "Epoch 16: saving model to train_2/cp-0016.ckpt\n",
            "\n",
            "Epoch 16: saving model to train_2/cp-0016.ckpt\n",
            "\n",
            "Epoch 16: saving model to train_2/cp-0016.ckpt\n",
            "\n",
            "Epoch 16: saving model to train_2/cp-0016.ckpt\n",
            "1875/1875 - 8s - loss: 0.0151 - accuracy: 0.9950 - val_loss: 0.1003 - val_accuracy: 0.9815 - 8s/epoch - 5ms/step\n",
            "Epoch 17/20\n",
            "\n",
            "Epoch 17: saving model to train_2/cp-0017.ckpt\n",
            "\n",
            "Epoch 17: saving model to train_2/cp-0017.ckpt\n",
            "\n",
            "Epoch 17: saving model to train_2/cp-0017.ckpt\n",
            "\n",
            "Epoch 17: saving model to train_2/cp-0017.ckpt\n",
            "\n",
            "Epoch 17: saving model to train_2/cp-0017.ckpt\n",
            "\n",
            "Epoch 17: saving model to train_2/cp-0017.ckpt\n",
            "\n",
            "Epoch 17: saving model to train_2/cp-0017.ckpt\n",
            "\n",
            "Epoch 17: saving model to train_2/cp-0017.ckpt\n",
            "\n",
            "Epoch 17: saving model to train_2/cp-0017.ckpt\n",
            "\n",
            "Epoch 17: saving model to train_2/cp-0017.ckpt\n",
            "\n",
            "Epoch 17: saving model to train_2/cp-0017.ckpt\n",
            "\n",
            "Epoch 17: saving model to train_2/cp-0017.ckpt\n",
            "1875/1875 - 8s - loss: 0.0164 - accuracy: 0.9947 - val_loss: 0.1041 - val_accuracy: 0.9814 - 8s/epoch - 5ms/step\n",
            "Epoch 18/20\n",
            "\n",
            "Epoch 18: saving model to train_2/cp-0018.ckpt\n",
            "\n",
            "Epoch 18: saving model to train_2/cp-0018.ckpt\n",
            "\n",
            "Epoch 18: saving model to train_2/cp-0018.ckpt\n",
            "\n",
            "Epoch 18: saving model to train_2/cp-0018.ckpt\n",
            "\n",
            "Epoch 18: saving model to train_2/cp-0018.ckpt\n",
            "\n",
            "Epoch 18: saving model to train_2/cp-0018.ckpt\n",
            "\n",
            "Epoch 18: saving model to train_2/cp-0018.ckpt\n",
            "\n",
            "Epoch 18: saving model to train_2/cp-0018.ckpt\n",
            "\n",
            "Epoch 18: saving model to train_2/cp-0018.ckpt\n",
            "\n",
            "Epoch 18: saving model to train_2/cp-0018.ckpt\n",
            "\n",
            "Epoch 18: saving model to train_2/cp-0018.ckpt\n",
            "1875/1875 - 8s - loss: 0.0154 - accuracy: 0.9948 - val_loss: 0.1084 - val_accuracy: 0.9801 - 8s/epoch - 5ms/step\n",
            "Epoch 19/20\n",
            "\n",
            "Epoch 19: saving model to train_2/cp-0019.ckpt\n",
            "\n",
            "Epoch 19: saving model to train_2/cp-0019.ckpt\n",
            "\n",
            "Epoch 19: saving model to train_2/cp-0019.ckpt\n",
            "\n",
            "Epoch 19: saving model to train_2/cp-0019.ckpt\n",
            "\n",
            "Epoch 19: saving model to train_2/cp-0019.ckpt\n",
            "\n",
            "Epoch 19: saving model to train_2/cp-0019.ckpt\n",
            "\n",
            "Epoch 19: saving model to train_2/cp-0019.ckpt\n",
            "\n",
            "Epoch 19: saving model to train_2/cp-0019.ckpt\n",
            "\n",
            "Epoch 19: saving model to train_2/cp-0019.ckpt\n",
            "\n",
            "Epoch 19: saving model to train_2/cp-0019.ckpt\n",
            "\n",
            "Epoch 19: saving model to train_2/cp-0019.ckpt\n",
            "\n",
            "Epoch 19: saving model to train_2/cp-0019.ckpt\n",
            "1875/1875 - 9s - loss: 0.0135 - accuracy: 0.9956 - val_loss: 0.1205 - val_accuracy: 0.9790 - 9s/epoch - 5ms/step\n",
            "Epoch 20/20\n",
            "\n",
            "Epoch 20: saving model to train_2/cp-0020.ckpt\n",
            "\n",
            "Epoch 20: saving model to train_2/cp-0020.ckpt\n",
            "\n",
            "Epoch 20: saving model to train_2/cp-0020.ckpt\n",
            "\n",
            "Epoch 20: saving model to train_2/cp-0020.ckpt\n",
            "\n",
            "Epoch 20: saving model to train_2/cp-0020.ckpt\n",
            "\n",
            "Epoch 20: saving model to train_2/cp-0020.ckpt\n",
            "\n",
            "Epoch 20: saving model to train_2/cp-0020.ckpt\n",
            "\n",
            "Epoch 20: saving model to train_2/cp-0020.ckpt\n",
            "\n",
            "Epoch 20: saving model to train_2/cp-0020.ckpt\n",
            "\n",
            "Epoch 20: saving model to train_2/cp-0020.ckpt\n",
            "\n",
            "Epoch 20: saving model to train_2/cp-0020.ckpt\n",
            "\n",
            "Epoch 20: saving model to train_2/cp-0020.ckpt\n",
            "1875/1875 - 8s - loss: 0.0146 - accuracy: 0.9957 - val_loss: 0.1133 - val_accuracy: 0.9799 - 8s/epoch - 4ms/step\n"
          ]
        }
      ]
    },
    {
      "cell_type": "code",
      "source": [
        "os.listdir(check_point_dir) #Here we can list the directories of the saved models"
      ],
      "metadata": {
        "colab": {
          "base_uri": "https://localhost:8080/"
        },
        "id": "O2iyowVbe8xv",
        "outputId": "f86435ca-48fe-47a5-e0db-425923028be2"
      },
      "execution_count": 72,
      "outputs": [
        {
          "output_type": "execute_result",
          "data": {
            "text/plain": [
              "['cp-0000.ckpt.data-00000-of-00001',\n",
              " 'cp-0003.ckpt.index',\n",
              " 'cp-0020.ckpt.index',\n",
              " 'checkpoint',\n",
              " 'cp-0020.ckpt.data-00000-of-00001',\n",
              " 'cp-0002.ckpt.data-00000-of-00001',\n",
              " 'cp-0008.ckpt.index',\n",
              " 'cp-0017.ckpt.data-00000-of-00001',\n",
              " 'cp-0013.ckpt.index',\n",
              " 'cp-0009.ckpt.index',\n",
              " 'cp-0018.ckpt.index',\n",
              " 'cp-0015.ckpt.index',\n",
              " 'cp-0019.ckpt.index',\n",
              " 'cp-0007.ckpt.index',\n",
              " 'cp-0016.ckpt.data-00000-of-00001',\n",
              " 'cp-0005.ckpt.index',\n",
              " 'cp-0006.ckpt.data-00000-of-00001',\n",
              " 'cp-0003.ckpt.data-00000-of-00001',\n",
              " 'cp-0010.ckpt.index',\n",
              " 'cp-0019.ckpt.data-00000-of-00001',\n",
              " 'cp-0012.ckpt.index',\n",
              " 'cp-0015.ckpt.data-00000-of-00001',\n",
              " 'cp-0014.ckpt.data-00000-of-00001',\n",
              " 'cp-0016.ckpt.index',\n",
              " 'cp-0010.ckpt.data-00000-of-00001',\n",
              " 'cp-0004.ckpt.data-00000-of-00001',\n",
              " 'cp-0004.ckpt.index',\n",
              " 'cp-0017.ckpt.index',\n",
              " 'cp-0013.ckpt.data-00000-of-00001',\n",
              " 'cp-0011.ckpt.index',\n",
              " 'cp-0011.ckpt.data-00000-of-00001',\n",
              " 'cp-0002.ckpt.index',\n",
              " 'cp-0007.ckpt.data-00000-of-00001',\n",
              " 'cp-0001.ckpt.index',\n",
              " 'cp-0000.ckpt.index',\n",
              " 'cp-0009.ckpt.data-00000-of-00001',\n",
              " 'cp-0006.ckpt.index',\n",
              " 'cp-0008.ckpt.data-00000-of-00001',\n",
              " 'cp-0001.ckpt.data-00000-of-00001',\n",
              " 'cp-0018.ckpt.data-00000-of-00001',\n",
              " 'cp-0012.ckpt.data-00000-of-00001',\n",
              " 'cp-0014.ckpt.index',\n",
              " 'cp-0005.ckpt.data-00000-of-00001']"
            ]
          },
          "metadata": {},
          "execution_count": 72
        }
      ]
    },
    {
      "cell_type": "code",
      "source": [
        "#We can get the latest saved model through:\n",
        "latest = tf.train.latest_checkpoint(check_point_dir)"
      ],
      "metadata": {
        "id": "Rj-bqsCAfqM-"
      },
      "execution_count": 74,
      "outputs": []
    },
    {
      "cell_type": "code",
      "source": [
        "latest #This was the last saved model during training "
      ],
      "metadata": {
        "colab": {
          "base_uri": "https://localhost:8080/",
          "height": 37
        },
        "id": "pELgKioIgD5d",
        "outputId": "b7be8590-1195-40ec-c4f2-34ae896d177e"
      },
      "execution_count": 75,
      "outputs": [
        {
          "output_type": "execute_result",
          "data": {
            "text/plain": [
              "'train_2/cp-0020.ckpt'"
            ],
            "application/vnd.google.colaboratory.intrinsic+json": {
              "type": "string"
            }
          },
          "metadata": {},
          "execution_count": 75
        }
      ]
    },
    {
      "cell_type": "code",
      "source": [
        "#We can test these weights by creating a new instance of our model and loading the weights then test the accuracy\n",
        "modelNew = createModel()"
      ],
      "metadata": {
        "id": "gE_5--iYgE9S"
      },
      "execution_count": 77,
      "outputs": []
    },
    {
      "cell_type": "code",
      "source": [
        "loss,accuracy = modelNew.evaluate(test_images, test_labels,verbose=1)"
      ],
      "metadata": {
        "colab": {
          "base_uri": "https://localhost:8080/"
        },
        "id": "bru5d-vngZkK",
        "outputId": "376be10c-81de-4836-882d-0e6b59a69334"
      },
      "execution_count": 79,
      "outputs": [
        {
          "output_type": "stream",
          "name": "stdout",
          "text": [
            "313/313 [==============================] - 1s 4ms/step - loss: 2.5062 - accuracy: 0.0585\n"
          ]
        }
      ]
    },
    {
      "cell_type": "code",
      "source": [
        "accuracy * 100 #The before training accuracy of our model is: 5% "
      ],
      "metadata": {
        "colab": {
          "base_uri": "https://localhost:8080/"
        },
        "id": "j5y43onqgmWd",
        "outputId": "19825c58-1c31-45e7-d2c0-f057d5975a2b"
      },
      "execution_count": 81,
      "outputs": [
        {
          "output_type": "execute_result",
          "data": {
            "text/plain": [
              "5.849999934434891"
            ]
          },
          "metadata": {},
          "execution_count": 81
        }
      ]
    },
    {
      "cell_type": "code",
      "source": [
        "#After loading the saved weights accuracy:\n",
        "modelNew.load_weights(latest) #We pass in the path to our latest saved model"
      ],
      "metadata": {
        "colab": {
          "base_uri": "https://localhost:8080/"
        },
        "id": "XSqpLXlogppD",
        "outputId": "18a1ccd2-88fa-4bb0-b163-546ac91e8101"
      },
      "execution_count": 82,
      "outputs": [
        {
          "output_type": "execute_result",
          "data": {
            "text/plain": [
              "<tensorflow.python.training.tracking.util.CheckpointLoadStatus at 0x7f8826a84990>"
            ]
          },
          "metadata": {},
          "execution_count": 82
        }
      ]
    },
    {
      "cell_type": "code",
      "source": [
        "loss, accuracy = modelNew.evaluate(test_images, test_labels, verbose =1 )#Evaluate the model, verbose shows you the progress of our training "
      ],
      "metadata": {
        "colab": {
          "base_uri": "https://localhost:8080/"
        },
        "id": "5V51njKShCSD",
        "outputId": "94fdc51f-20fe-49c5-c514-9d34b2b4d82d"
      },
      "execution_count": 83,
      "outputs": [
        {
          "output_type": "stream",
          "name": "stdout",
          "text": [
            "313/313 [==============================] - 1s 3ms/step - loss: 0.1071 - accuracy: 0.9793\n"
          ]
        }
      ]
    },
    {
      "cell_type": "code",
      "source": [
        "accuracy * 100 #Here the accuracy has improved after assigning the weights of the model that was saved last during training to the new model"
      ],
      "metadata": {
        "colab": {
          "base_uri": "https://localhost:8080/"
        },
        "id": "qBcHfeEWhQ7m",
        "outputId": "c250ec39-5b07-4f03-e225-80a94c936d65"
      },
      "execution_count": 84,
      "outputs": [
        {
          "output_type": "execute_result",
          "data": {
            "text/plain": [
              "97.93000221252441"
            ]
          },
          "metadata": {},
          "execution_count": 84
        }
      ]
    },
    {
      "cell_type": "code",
      "source": [
        "#What are these files??"
      ],
      "metadata": {
        "id": "vwivpKmQhglj"
      },
      "execution_count": null,
      "outputs": []
    },
    {
      "cell_type": "code",
      "source": [
        ""
      ],
      "metadata": {
        "id": "XeTGEvjsgitK"
      },
      "execution_count": null,
      "outputs": []
    },
    {
      "cell_type": "code",
      "source": [
        ""
      ],
      "metadata": {
        "id": "rTeL4ONwgURK"
      },
      "execution_count": null,
      "outputs": []
    },
    {
      "cell_type": "code",
      "source": [
        ""
      ],
      "metadata": {
        "id": "c-HJMlHwezLO"
      },
      "execution_count": null,
      "outputs": []
    },
    {
      "cell_type": "code",
      "source": [
        ""
      ],
      "metadata": {
        "id": "xtxO7H4veoq2"
      },
      "execution_count": null,
      "outputs": []
    },
    {
      "cell_type": "code",
      "source": [
        ""
      ],
      "metadata": {
        "id": "HkClGzgWekmL"
      },
      "execution_count": null,
      "outputs": []
    },
    {
      "cell_type": "code",
      "source": [
        ""
      ],
      "metadata": {
        "id": "-yX_UZyHejUb"
      },
      "execution_count": null,
      "outputs": []
    },
    {
      "cell_type": "code",
      "source": [
        ""
      ],
      "metadata": {
        "id": "DxuocYbbcFqw"
      },
      "execution_count": null,
      "outputs": []
    },
    {
      "cell_type": "code",
      "source": [
        ""
      ],
      "metadata": {
        "id": "bq-yLCS7cpAk"
      },
      "execution_count": null,
      "outputs": []
    }
  ],
  "metadata": {
    "colab": {
      "collapsed_sections": [],
      "name": "SavingTheModel.ipynb",
      "provenance": [],
      "authorship_tag": "ABX9TyMsiT1rR7daw4gg1pFHdLGF",
      "include_colab_link": true
    },
    "kernelspec": {
      "display_name": "Python 3",
      "name": "python3"
    },
    "language_info": {
      "name": "python"
    },
    "accelerator": "GPU"
  },
  "nbformat": 4,
  "nbformat_minor": 0
}