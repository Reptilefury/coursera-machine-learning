{
  "nbformat": 4,
  "nbformat_minor": 0,
  "metadata": {
    "colab": {
      "name": "SavingTheModel.ipynb",
      "provenance": [],
      "collapsed_sections": [],
      "authorship_tag": "ABX9TyNZFpostCRJiuxtiOJIf4AI",
      "include_colab_link": true
    },
    "kernelspec": {
      "name": "python3",
      "display_name": "Python 3"
    },
    "language_info": {
      "name": "python"
    }
  },
  "cells": [
    {
      "cell_type": "markdown",
      "metadata": {
        "id": "view-in-github",
        "colab_type": "text"
      },
      "source": [
        "<a href=\"https://colab.research.google.com/github/Reptilefury/coursera-machine-learning/blob/main/SavingTheModel.ipynb\" target=\"_parent\"><img src=\"https://colab.research.google.com/assets/colab-badge.svg\" alt=\"Open In Colab\"/></a>"
      ]
    },
    {
      "cell_type": "code",
      "execution_count": 1,
      "metadata": {
        "id": "RQ5ul_GQRnWo"
      },
      "outputs": [],
      "source": [
        "import tensorflow as tf\n"
      ]
    },
    {
      "cell_type": "code",
      "source": [
        "from tensorflow import keras"
      ],
      "metadata": {
        "id": "GI3F1mqdSyBx"
      },
      "execution_count": 2,
      "outputs": []
    },
    {
      "cell_type": "code",
      "source": [
        "#We start by loading the dataset \n",
        "mnist = tf.keras.datasets.mnist.load_data()"
      ],
      "metadata": {
        "id": "8-XLA68CS1qp"
      },
      "execution_count": 3,
      "outputs": []
    },
    {
      "cell_type": "code",
      "source": [
        "#Split the dataset into training and testing\n",
        "(x_train,y_train),(x_test,y_test) = mnist"
      ],
      "metadata": {
        "id": "rnhBZFYBTIkW"
      },
      "execution_count": 4,
      "outputs": []
    },
    {
      "cell_type": "code",
      "source": [
        "#Normalize the data by turning it into floating point numbers in between 0 and 1\n",
        "x_train , y_train = x_train/255.0 , y_train/255.0\n",
        "x_test,y_test = x_test/255.0 , y_test/255.0"
      ],
      "metadata": {
        "id": "AgbXHKFxTfRR"
      },
      "execution_count": 5,
      "outputs": []
    },
    {
      "cell_type": "code",
      "source": [
        "#We create a sequential model \n",
        "model = tf.keras.models.Sequential([\n",
        "      tf.keras.layers.Flatten(input_shape=x_train[0].shape),\n",
        "      tf.keras.layers.Dense(300,activation=\"relu\"),\n",
        "      tf.keras.layers.Dense(100,activation=\"relu\"),\n",
        "      tf.keras.layers.Dropout(0.2),\n",
        "      tf.keras.layers.Dense(10)#10 neurons in the output layer because we have 10  classes to activate\n",
        "])"
      ],
      "metadata": {
        "id": "L-_ZL8B1UAiy"
      },
      "execution_count": 6,
      "outputs": []
    },
    {
      "cell_type": "code",
      "source": [
        "predictions = model.predict(x_train[:1])"
      ],
      "metadata": {
        "id": "3TOJ4C-3U5vb"
      },
      "execution_count": 7,
      "outputs": []
    },
    {
      "cell_type": "code",
      "source": [
        "#Softmax function \n",
        "tf.nn.softmax(predictions)\n"
      ],
      "metadata": {
        "colab": {
          "base_uri": "https://localhost:8080/"
        },
        "id": "QzbyyFyLVC-3",
        "outputId": "7c5fa72e-02e7-4f65-fc3f-39b1870a0eb5"
      },
      "execution_count": 8,
      "outputs": [
        {
          "output_type": "execute_result",
          "data": {
            "text/plain": [
              "<tf.Tensor: shape=(1, 10), dtype=float32, numpy=\n",
              "array([[0.0364995 , 0.16082592, 0.07058035, 0.07894336, 0.08369876,\n",
              "        0.14202495, 0.05524097, 0.08639129, 0.15432249, 0.13147241]],\n",
              "      dtype=float32)>"
            ]
          },
          "metadata": {},
          "execution_count": 8
        }
      ]
    },
    {
      "cell_type": "code",
      "source": [
        "#We create a loss function\n",
        "loss_fn = tf.keras.losses.SparseCategoricalCrossentropy(from_logits=True)"
      ],
      "metadata": {
        "id": "B6B3dsAfVMOZ"
      },
      "execution_count": 9,
      "outputs": []
    },
    {
      "cell_type": "code",
      "source": [
        "loss_fn(y_test[3], predictions).numpy()"
      ],
      "metadata": {
        "colab": {
          "base_uri": "https://localhost:8080/"
        },
        "id": "LhYwayzLVX2D",
        "outputId": "7187486c-6a3d-467c-a27e-fe4f7a54b8a3"
      },
      "execution_count": 10,
      "outputs": [
        {
          "output_type": "execute_result",
          "data": {
            "text/plain": [
              "3.3104568"
            ]
          },
          "metadata": {},
          "execution_count": 10
        }
      ]
    },
    {
      "cell_type": "code",
      "source": [
        "#We declare hyperparameters\n",
        "model.compile(loss = loss_fn, optimizer='sgd',metrics=['accuracy'])"
      ],
      "metadata": {
        "id": "l9J4nRuzVldX"
      },
      "execution_count": 11,
      "outputs": []
    },
    {
      "cell_type": "code",
      "source": [
        ""
      ],
      "metadata": {
        "id": "19RuDedgYOsQ"
      },
      "execution_count": 11,
      "outputs": []
    },
    {
      "cell_type": "code",
      "source": [
        "history = model.fit(x_train, y_train, epochs=5, callbacks=[])"
      ],
      "metadata": {
        "colab": {
          "base_uri": "https://localhost:8080/"
        },
        "id": "mian14jeVyA3",
        "outputId": "1942fed5-6b45-42cf-a0c3-4ad4f41f1595"
      },
      "execution_count": 12,
      "outputs": [
        {
          "output_type": "stream",
          "name": "stdout",
          "text": [
            "Epoch 1/5\n",
            "1875/1875 [==============================] - 8s 4ms/step - loss: 0.0174 - accuracy: 0.0985\n",
            "Epoch 2/5\n",
            "1875/1875 [==============================] - 7s 4ms/step - loss: 4.4480e-04 - accuracy: 0.0987\n",
            "Epoch 3/5\n",
            "1875/1875 [==============================] - 7s 4ms/step - loss: 2.6553e-04 - accuracy: 0.0987\n",
            "Epoch 4/5\n",
            "1875/1875 [==============================] - 7s 4ms/step - loss: 1.8246e-04 - accuracy: 0.0987\n",
            "Epoch 5/5\n",
            "1875/1875 [==============================] - 7s 4ms/step - loss: 1.3634e-04 - accuracy: 0.0987\n"
          ]
        }
      ]
    },
    {
      "cell_type": "code",
      "source": [
        "#Saving the model is as simple as \n",
        "model.save(\"MyModel.h5\")"
      ],
      "metadata": {
        "id": "sX3Y6WHIT-y1"
      },
      "execution_count": 13,
      "outputs": []
    },
    {
      "cell_type": "code",
      "source": [
        "#Loading a saved model\n",
        "model = tf.keras.models.load_model(\"MyModel.h5\")"
      ],
      "metadata": {
        "id": "VqISK-qeXnhx"
      },
      "execution_count": 14,
      "outputs": []
    },
    {
      "cell_type": "code",
      "source": [
        "#We should implement early Stopping or checkpoints to save our model best parameters just incase our model starts to overfit or when there is no progress in the validation loss\n",
        "checkpoint_cb = tf.keras.callbacks.ModelCheckpoint(\"MyModel.h5\", save_best_only=True)"
      ],
      "metadata": {
        "id": "6W1BrmCEYaAr"
      },
      "execution_count": 15,
      "outputs": []
    },
    {
      "cell_type": "code",
      "source": [
        "#The model.fit method has callback functions that we can pass a list of objects to call during , before and after training\n",
        "#In this case we call the callback and pass in the checkpoint method to prevent our model from overfitting\n",
        "#Another default callback called after every epoch is the validation and training loss to gauge our model perfomance after every training cycle or epoch\n",
        " \n",
        "model.fit(x_train, y_train, epochs = 5,  callbacks=[checkpoint_cb])"
      ],
      "metadata": {
        "colab": {
          "base_uri": "https://localhost:8080/"
        },
        "id": "uyzg6t7RY0KU",
        "outputId": "bccae9e1-cfbd-487e-930f-0a903d7b4a06"
      },
      "execution_count": 16,
      "outputs": [
        {
          "output_type": "stream",
          "name": "stdout",
          "text": [
            "Epoch 1/5\n",
            "1869/1875 [============================>.] - ETA: 0s - loss: 1.1304e-04 - accuracy: 0.0987WARNING:tensorflow:Can save best model only with val_loss available, skipping.\n",
            "1875/1875 [==============================] - 8s 4ms/step - loss: 1.1277e-04 - accuracy: 0.0987\n",
            "Epoch 2/5\n",
            "1869/1875 [============================>.] - ETA: 0s - loss: 9.3917e-05 - accuracy: 0.0987WARNING:tensorflow:Can save best model only with val_loss available, skipping.\n",
            "1875/1875 [==============================] - 7s 4ms/step - loss: 9.4030e-05 - accuracy: 0.0987\n",
            "Epoch 3/5\n",
            "1872/1875 [============================>.] - ETA: 0s - loss: 8.5959e-05 - accuracy: 0.0987WARNING:tensorflow:Can save best model only with val_loss available, skipping.\n",
            "1875/1875 [==============================] - 10s 6ms/step - loss: 8.5844e-05 - accuracy: 0.0987\n",
            "Epoch 4/5\n",
            "1871/1875 [============================>.] - ETA: 0s - loss: 6.5390e-05 - accuracy: 0.0986WARNING:tensorflow:Can save best model only with val_loss available, skipping.\n",
            "1875/1875 [==============================] - 14s 8ms/step - loss: 6.5430e-05 - accuracy: 0.0987\n",
            "Epoch 5/5\n",
            "1868/1875 [============================>.] - ETA: 0s - loss: 6.2710e-05 - accuracy: 0.0987WARNING:tensorflow:Can save best model only with val_loss available, skipping.\n",
            "1875/1875 [==============================] - 13s 7ms/step - loss: 6.4155e-05 - accuracy: 0.0987\n"
          ]
        },
        {
          "output_type": "execute_result",
          "data": {
            "text/plain": [
              "<keras.callbacks.History at 0x7fa5dd621c50>"
            ]
          },
          "metadata": {},
          "execution_count": 16
        }
      ]
    },
    {
      "cell_type": "code",
      "source": [
        "#Early stopping method will stop training when it measures no progress on the validation set\n",
        "#Then it will roll back to the best model parameters\n",
        "#The number of epochs can be set to a large value since the model will automatically stop training\n",
        "EarlyStopping = tf.keras.callbacks.EarlyStopping(patience=10,restore_best_weights=True)\n",
        "model.fit(x_train,y_train, epochs=100, callbacks=[checkpoint_cb,EarlyStopping])\n",
        "\n",
        "#EarlyStopping = tf.keras.callbacks.EarlyStopping(patience=10, restore_best_weights=True)"
      ],
      "metadata": {
        "id": "50tjU4-vZXKh"
      },
      "execution_count": null,
      "outputs": []
    },
    {
      "cell_type": "code",
      "source": [
        "#We could create custom callbacks, to display the ratio between the validation loss and training loss to detect overfitting \n",
        "\n",
        "class PrintValCallBack(tf.keras.callbacks.Callback):\n",
        "  def on_epoch_end(self,epoch,log):\n",
        "    print(\"\\nval:/train{:2f\".format(logs[\"val_logs\"]/logs[\"loss\"]))\n",
        "\n",
        "    #We could also call onTrain begin onTrain end onbatch begin on bacth end \n",
        "    #We could also use callbacks when Debugging\n",
        "\n",
        "    #Using callbacks"
      ],
      "metadata": {
        "id": "Ex6YIwM8dZ-B"
      },
      "execution_count": 18,
      "outputs": []
    },
    {
      "cell_type": "markdown",
      "source": [
        "Visualising using Tensorboard"
      ],
      "metadata": {
        "id": "kDSklHxNiUHO"
      }
    },
    {
      "cell_type": "code",
      "source": [
        "import os \n",
        "root_logdir=os.path.join(os.curdir,\"MyModel\") \n",
        "def get_run_logdir():\n",
        "  import time\n",
        "  run_id = time.strftime(\"run_%Y_%m_%d-%H_%M_%S\") \n",
        "  return os.path.join(root_logdir,run_id)"
      ],
      "metadata": {
        "id": "LrPGL-bIhC7q"
      },
      "execution_count": 32,
      "outputs": []
    },
    {
      "cell_type": "code",
      "source": [
        "run_logdir = get_run_logdir()"
      ],
      "metadata": {
        "id": "96YIkoWEmZ7k"
      },
      "execution_count": 33,
      "outputs": []
    },
    {
      "cell_type": "code",
      "source": [
        "tensorboard_cb = tf.keras.callbacks.TensorBoard(run_logdir)"
      ],
      "metadata": {
        "id": "Kj99upUup5Cy"
      },
      "execution_count": 34,
      "outputs": []
    },
    {
      "cell_type": "code",
      "source": [
        "history = model.fit(x_train, y_train, callbacks=[tensorboard_cb])"
      ],
      "metadata": {
        "colab": {
          "base_uri": "https://localhost:8080/"
        },
        "id": "4BDGdx3snDY6",
        "outputId": "cc72ae76-fd12-4ffb-ea4f-7ed541a82377"
      },
      "execution_count": 35,
      "outputs": [
        {
          "output_type": "stream",
          "name": "stdout",
          "text": [
            "1875/1875 [==============================] - 7s 4ms/step - loss: 2.4003e-05 - accuracy: 0.0987\n"
          ]
        }
      ]
    },
    {
      "cell_type": "code",
      "source": [
        "#Visualising using tensorboard\n",
        "import os\n",
        "root_rundir = os.path.join(os.curdir, \"MyModel\")\n",
        "def get_run_logdir():\n",
        "  import time\n",
        "  run_id = time.strftime(\"run_%Y_%m_%d-%H_%M_%S\")\n",
        "  return os.path.join(root_dir, run_id)"
      ],
      "metadata": {
        "id": "7qttuNbPrQs_"
      },
      "execution_count": 40,
      "outputs": []
    },
    {
      "cell_type": "code",
      "source": [
        "run_dir = get_run_logdir()"
      ],
      "metadata": {
        "id": "Cjsar52QuNRF"
      },
      "execution_count": 42,
      "outputs": []
    },
    {
      "cell_type": "code",
      "source": [
        "#Create a tensorboard callback\n",
        "tensorboard_cb = tf.keras.callbacks.TensorBoard(run_dir)\n"
      ],
      "metadata": {
        "id": "Pv5bSpG6uR5c"
      },
      "execution_count": 44,
      "outputs": []
    },
    {
      "cell_type": "code",
      "source": [
        "history = model.fit(x_train,y_train,epochs=5,callbacks=[tensorboard_cb])"
      ],
      "metadata": {
        "colab": {
          "base_uri": "https://localhost:8080/"
        },
        "id": "piQ8UfhMu-Lp",
        "outputId": "a6b3f465-a676-4146-ca4a-7ca5006c4369"
      },
      "execution_count": 46,
      "outputs": [
        {
          "output_type": "stream",
          "name": "stdout",
          "text": [
            "Epoch 1/5\n",
            "1875/1875 [==============================] - 8s 4ms/step - loss: 2.3467e-05 - accuracy: 0.0987\n",
            "Epoch 2/5\n",
            "1875/1875 [==============================] - 8s 4ms/step - loss: 2.0554e-05 - accuracy: 0.0987\n",
            "Epoch 3/5\n",
            "1875/1875 [==============================] - 8s 4ms/step - loss: 2.0148e-05 - accuracy: 0.0987\n",
            "Epoch 4/5\n",
            "1875/1875 [==============================] - 8s 4ms/step - loss: 2.0338e-05 - accuracy: 0.0987\n",
            "Epoch 5/5\n",
            "1875/1875 [==============================] - 8s 4ms/step - loss: 2.0106e-05 - accuracy: 0.0987\n"
          ]
        }
      ]
    },
    {
      "cell_type": "code",
      "source": [
        ""
      ],
      "metadata": {
        "id": "GSfr_tcFvNu6"
      },
      "execution_count": null,
      "outputs": []
    },
    {
      "cell_type": "code",
      "source": [
        ""
      ],
      "metadata": {
        "id": "Kxz0rPl8vHq1"
      },
      "execution_count": null,
      "outputs": []
    },
    {
      "cell_type": "code",
      "source": [
        ""
      ],
      "metadata": {
        "id": "o-D4-vgUuug4"
      },
      "execution_count": null,
      "outputs": []
    },
    {
      "cell_type": "code",
      "source": [
        ""
      ],
      "metadata": {
        "id": "p9P7ZcdwtNoe"
      },
      "execution_count": null,
      "outputs": []
    },
    {
      "cell_type": "code",
      "source": [
        ""
      ],
      "metadata": {
        "id": "gULP_pAcsVAF"
      },
      "execution_count": null,
      "outputs": []
    },
    {
      "cell_type": "code",
      "source": [
        ""
      ],
      "metadata": {
        "id": "5bOqub-6r1wj"
      },
      "execution_count": null,
      "outputs": []
    },
    {
      "cell_type": "code",
      "source": [
        ""
      ],
      "metadata": {
        "id": "6OZduUwXmZH_"
      },
      "execution_count": null,
      "outputs": []
    },
    {
      "cell_type": "code",
      "source": [
        ""
      ],
      "metadata": {
        "id": "BXoZYN3CmMiS"
      },
      "execution_count": null,
      "outputs": []
    },
    {
      "cell_type": "code",
      "source": [
        ""
      ],
      "metadata": {
        "id": "W33qOtzNmDu4"
      },
      "execution_count": null,
      "outputs": []
    },
    {
      "cell_type": "code",
      "source": [
        ""
      ],
      "metadata": {
        "id": "MpFvS2R5k6ot"
      },
      "execution_count": null,
      "outputs": []
    },
    {
      "cell_type": "code",
      "source": [
        ""
      ],
      "metadata": {
        "id": "wmL3s7tce1Nm"
      },
      "execution_count": null,
      "outputs": []
    }
  ]
}