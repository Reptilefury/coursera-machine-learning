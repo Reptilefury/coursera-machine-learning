{
  "nbformat": 4,
  "nbformat_minor": 0,
  "metadata": {
    "colab": {
      "name": "SavingTheModel.ipynb",
      "provenance": [],
      "collapsed_sections": [],
      "authorship_tag": "ABX9TyPPMJJmzCDg+eX0475NlBZv",
      "include_colab_link": true
    },
    "kernelspec": {
      "name": "python3",
      "display_name": "Python 3"
    },
    "language_info": {
      "name": "python"
    }
  },
  "cells": [
    {
      "cell_type": "markdown",
      "metadata": {
        "id": "view-in-github",
        "colab_type": "text"
      },
      "source": [
        "<a href=\"https://colab.research.google.com/github/Reptilefury/coursera-machine-learning/blob/main/SavingTheModel.ipynb\" target=\"_parent\"><img src=\"https://colab.research.google.com/assets/colab-badge.svg\" alt=\"Open In Colab\"/></a>"
      ]
    },
    {
      "cell_type": "code",
      "execution_count": 2,
      "metadata": {
        "id": "RQ5ul_GQRnWo"
      },
      "outputs": [],
      "source": [
        "import tensorflow as tf\n"
      ]
    },
    {
      "cell_type": "code",
      "source": [
        "from tensorflow import keras"
      ],
      "metadata": {
        "id": "GI3F1mqdSyBx"
      },
      "execution_count": 3,
      "outputs": []
    },
    {
      "cell_type": "code",
      "source": [
        "#We start by loading the dataset \n",
        "mnist = tf.keras.datasets.mnist.load_data()"
      ],
      "metadata": {
        "id": "8-XLA68CS1qp",
        "colab": {
          "base_uri": "https://localhost:8080/"
        },
        "outputId": "ef33d44e-a57b-45ac-9e8d-2d36e74e2608"
      },
      "execution_count": 4,
      "outputs": [
        {
          "output_type": "stream",
          "name": "stdout",
          "text": [
            "Downloading data from https://storage.googleapis.com/tensorflow/tf-keras-datasets/mnist.npz\n",
            "11493376/11490434 [==============================] - 0s 0us/step\n",
            "11501568/11490434 [==============================] - 0s 0us/step\n"
          ]
        }
      ]
    },
    {
      "cell_type": "code",
      "source": [
        "#Split the dataset into training and testing\n",
        "(x_train,y_train),(x_test,y_test) = mnist"
      ],
      "metadata": {
        "id": "rnhBZFYBTIkW"
      },
      "execution_count": 5,
      "outputs": []
    },
    {
      "cell_type": "code",
      "source": [
        "#Normalize the data by turning it into floating point numbers in between 0 and 1\n",
        "x_train , y_train = x_train/255.0 , y_train/255.0\n",
        "x_test,y_test = x_test/255.0 , y_test/255.0"
      ],
      "metadata": {
        "id": "AgbXHKFxTfRR"
      },
      "execution_count": 6,
      "outputs": []
    },
    {
      "cell_type": "code",
      "source": [
        "#We create a sequential model \n",
        "model = tf.keras.models.Sequential([\n",
        "      tf.keras.layers.Flatten(input_shape=x_train[0].shape),\n",
        "      tf.keras.layers.Dense(300,activation=\"relu\"),\n",
        "      tf.keras.layers.Dense(100,activation=\"relu\"),\n",
        "      tf.keras.layers.Dropout(0.2),\n",
        "      tf.keras.layers.Dense(10)#10 neurons in the output layer because we have 10  classes to activate\n",
        "])"
      ],
      "metadata": {
        "id": "L-_ZL8B1UAiy"
      },
      "execution_count": 7,
      "outputs": []
    },
    {
      "cell_type": "code",
      "source": [
        "predictions = model.predict(x_train[:1])"
      ],
      "metadata": {
        "id": "3TOJ4C-3U5vb"
      },
      "execution_count": 8,
      "outputs": []
    },
    {
      "cell_type": "code",
      "source": [
        "#Softmax function \n",
        "tf.nn.softmax(predictions)\n"
      ],
      "metadata": {
        "colab": {
          "base_uri": "https://localhost:8080/"
        },
        "id": "QzbyyFyLVC-3",
        "outputId": "7e88f032-2d59-4679-85eb-15cde9fe1dbe"
      },
      "execution_count": 9,
      "outputs": [
        {
          "output_type": "execute_result",
          "data": {
            "text/plain": [
              "<tf.Tensor: shape=(1, 10), dtype=float32, numpy=\n",
              "array([[0.12625219, 0.0678308 , 0.0933851 , 0.03655002, 0.11998049,\n",
              "        0.03614298, 0.03660029, 0.19252545, 0.14673345, 0.14399917]],\n",
              "      dtype=float32)>"
            ]
          },
          "metadata": {},
          "execution_count": 9
        }
      ]
    },
    {
      "cell_type": "code",
      "source": [
        "#We create a loss function\n",
        "loss_fn = tf.keras.losses.SparseCategoricalCrossentropy(from_logits=True)"
      ],
      "metadata": {
        "id": "B6B3dsAfVMOZ"
      },
      "execution_count": 10,
      "outputs": []
    },
    {
      "cell_type": "code",
      "source": [
        "loss_fn(y_test[3], predictions).numpy()"
      ],
      "metadata": {
        "colab": {
          "base_uri": "https://localhost:8080/"
        },
        "id": "LhYwayzLVX2D",
        "outputId": "2f38655f-4805-4d3e-cf4d-88984430b8e0"
      },
      "execution_count": 11,
      "outputs": [
        {
          "output_type": "execute_result",
          "data": {
            "text/plain": [
              "2.0694737"
            ]
          },
          "metadata": {},
          "execution_count": 11
        }
      ]
    },
    {
      "cell_type": "code",
      "source": [
        "#We declare hyperparameters\n",
        "model.compile(loss = loss_fn, optimizer='sgd',metrics=['accuracy'])"
      ],
      "metadata": {
        "id": "l9J4nRuzVldX"
      },
      "execution_count": 12,
      "outputs": []
    },
    {
      "cell_type": "code",
      "source": [
        "history = model.fit(x_train, y_train, epochs=5, callbacks=[])"
      ],
      "metadata": {
        "colab": {
          "base_uri": "https://localhost:8080/"
        },
        "id": "mian14jeVyA3",
        "outputId": "193c22ff-6d66-4d8b-8bf4-02cdf1f46dcd"
      },
      "execution_count": 13,
      "outputs": [
        {
          "output_type": "stream",
          "name": "stdout",
          "text": [
            "Epoch 1/5\n",
            "1875/1875 [==============================] - 9s 4ms/step - loss: 0.0117 - accuracy: 0.0986\n",
            "Epoch 2/5\n",
            "1875/1875 [==============================] - 8s 4ms/step - loss: 4.2846e-04 - accuracy: 0.0987\n",
            "Epoch 3/5\n",
            "1875/1875 [==============================] - 8s 4ms/step - loss: 2.4147e-04 - accuracy: 0.0987\n",
            "Epoch 4/5\n",
            "1875/1875 [==============================] - 8s 4ms/step - loss: 1.6686e-04 - accuracy: 0.0987\n",
            "Epoch 5/5\n",
            "1875/1875 [==============================] - 9s 5ms/step - loss: 1.2565e-04 - accuracy: 0.0987\n"
          ]
        }
      ]
    },
    {
      "cell_type": "code",
      "source": [
        "#Saving the model is as simple as \n",
        "model.save(\"MyModel.h5\")"
      ],
      "metadata": {
        "id": "sX3Y6WHIT-y1"
      },
      "execution_count": 14,
      "outputs": []
    },
    {
      "cell_type": "code",
      "source": [
        "#Loading a saved model\n",
        "model = tf.keras.models.load_model(\"MyModel.h5\")"
      ],
      "metadata": {
        "id": "VqISK-qeXnhx"
      },
      "execution_count": 15,
      "outputs": []
    },
    {
      "cell_type": "code",
      "source": [
        "#We should implement early Stopping or checkpoints to save our model best parameters just incase our model starts to overfit or when there is no progress in the validation loss\n",
        "checkpoint_cb = tf.keras.callbacks.ModelCheckpoint(\"MyModel.h5\", save_best_only=True)"
      ],
      "metadata": {
        "id": "6W1BrmCEYaAr"
      },
      "execution_count": 16,
      "outputs": []
    },
    {
      "cell_type": "code",
      "source": [
        "#The model.fit method has callback functions that we can pass a list of objects to call during , before and after training\n",
        "#In this case we call the callback and pass in the checkpoint method to prevent our model from overfitting\n",
        "#Another default callback called after every epoch is the validation and training loss to gauge our model perfomance after every training cycle or epoch\n",
        " \n",
        "model.fit(x_train, y_train, epochs = 5,  callbacks=[checkpoint_cb])"
      ],
      "metadata": {
        "colab": {
          "base_uri": "https://localhost:8080/"
        },
        "id": "uyzg6t7RY0KU",
        "outputId": "8217fa59-8a20-4932-ac5b-eb9e32e7ebc8"
      },
      "execution_count": 17,
      "outputs": [
        {
          "output_type": "stream",
          "name": "stdout",
          "text": [
            "Epoch 1/5\n",
            "1870/1875 [============================>.] - ETA: 0s - loss: 1.0003e-04 - accuracy: 0.0986WARNING:tensorflow:Can save best model only with val_loss available, skipping.\n",
            "1875/1875 [==============================] - 12s 6ms/step - loss: 9.9998e-05 - accuracy: 0.0987\n",
            "Epoch 2/5\n",
            "1875/1875 [==============================] - ETA: 0s - loss: 8.6002e-05 - accuracy: 0.0987WARNING:tensorflow:Can save best model only with val_loss available, skipping.\n",
            "1875/1875 [==============================] - 10s 5ms/step - loss: 8.6002e-05 - accuracy: 0.0987\n",
            "Epoch 3/5\n",
            "1871/1875 [============================>.] - ETA: 0s - loss: 7.2108e-05 - accuracy: 0.0987WARNING:tensorflow:Can save best model only with val_loss available, skipping.\n",
            "1875/1875 [==============================] - 8s 4ms/step - loss: 7.2079e-05 - accuracy: 0.0987\n",
            "Epoch 4/5\n",
            "1867/1875 [============================>.] - ETA: 0s - loss: 6.1993e-05 - accuracy: 0.0988WARNING:tensorflow:Can save best model only with val_loss available, skipping.\n",
            "1875/1875 [==============================] - 8s 4ms/step - loss: 6.2040e-05 - accuracy: 0.0987\n",
            "Epoch 5/5\n",
            "1872/1875 [============================>.] - ETA: 0s - loss: 5.7419e-05 - accuracy: 0.0987WARNING:tensorflow:Can save best model only with val_loss available, skipping.\n",
            "1875/1875 [==============================] - 8s 4ms/step - loss: 5.7350e-05 - accuracy: 0.0987\n"
          ]
        },
        {
          "output_type": "execute_result",
          "data": {
            "text/plain": [
              "<keras.callbacks.History at 0x7fe376f046d0>"
            ]
          },
          "metadata": {},
          "execution_count": 17
        }
      ]
    },
    {
      "cell_type": "code",
      "source": [
        "#Early stopping method will stop training when it measures no progress on the validation set\n",
        "#Then it will roll back to the best model parameters\n",
        "#The number of epochs can be set to a large value since the model will automatically stop training\n",
        "EarlyStopping = tf.keras.callbacks.EarlyStopping(patience=10,restore_best_weights=True)\n",
        "model.fit(x_train,y_train, epochs=100, callbacks=[checkpoint_cb,EarlyStopping])\n",
        "\n",
        "#EarlyStopping = tf.keras.callbacks.EarlyStopping(patience=10, restore_best_weights=True)"
      ],
      "metadata": {
        "id": "50tjU4-vZXKh"
      },
      "execution_count": null,
      "outputs": []
    },
    {
      "cell_type": "code",
      "source": [
        "#We could create custom callbacks, to display the ratio between the validation loss and training loss to detect overfitting \n",
        "\n",
        "class PrintValCallBack(tf.keras.callbacks.Callback):\n",
        "  def on_epoch_end(self,epoch,log):\n",
        "    print(\"\\nval:/train{:2f\".format(logs[\"val_logs\"]/logs[\"loss\"]))\n",
        "\n",
        "    #We could also call onTrain begin onTrain end onbatch begin on bacth end \n",
        "    #We could also use callbacks when Debugging\n",
        "\n",
        "    #Using callbacks"
      ],
      "metadata": {
        "id": "Ex6YIwM8dZ-B"
      },
      "execution_count": 19,
      "outputs": []
    },
    {
      "cell_type": "markdown",
      "source": [
        "Visualising using Tensorboard"
      ],
      "metadata": {
        "id": "kDSklHxNiUHO"
      }
    },
    {
      "cell_type": "code",
      "source": [
        "import os \n",
        "root_logdir=os.path.join(os.curdir,\"MyModel\") \n",
        "def get_run_logdir():\n",
        "  import time\n",
        "  run_id = time.strftime(\"run_%Y_%m_%d-%H_%M_%S\") \n",
        "  return os.path.join(root_logdir,run_id)"
      ],
      "metadata": {
        "id": "LrPGL-bIhC7q"
      },
      "execution_count": 20,
      "outputs": []
    },
    {
      "cell_type": "code",
      "source": [
        "run_logdir = get_run_logdir()"
      ],
      "metadata": {
        "id": "96YIkoWEmZ7k"
      },
      "execution_count": 21,
      "outputs": []
    },
    {
      "cell_type": "code",
      "source": [
        "tensorboard_cb = tf.keras.callbacks.TensorBoard(run_logdir)"
      ],
      "metadata": {
        "id": "Kj99upUup5Cy"
      },
      "execution_count": 22,
      "outputs": []
    },
    {
      "cell_type": "code",
      "source": [
        "history = model.fit(x_train, y_train, callbacks=[tensorboard_cb])"
      ],
      "metadata": {
        "colab": {
          "base_uri": "https://localhost:8080/"
        },
        "id": "4BDGdx3snDY6",
        "outputId": "b5f11eec-624c-4987-dc8b-d1a5bbe1c03d"
      },
      "execution_count": 23,
      "outputs": [
        {
          "output_type": "stream",
          "name": "stdout",
          "text": [
            "1875/1875 [==============================] - 8s 4ms/step - loss: 4.3057e-05 - accuracy: 0.0987\n"
          ]
        }
      ]
    },
    {
      "cell_type": "code",
      "source": [
        "#Visualising using tensorboard\n",
        "import os\n",
        "root_rundir = os.path.join(os.curdir, \"MyModel\")\n",
        "def get_run_logdir():\n",
        "  import time\n",
        "  run_id = time.strftime(\"run_%Y_%m_%d-%H_%M_%S\")\n",
        "  return os.path.join(root_dir, run_id)"
      ],
      "metadata": {
        "id": "7qttuNbPrQs_"
      },
      "execution_count": 24,
      "outputs": []
    },
    {
      "cell_type": "code",
      "source": [
        "run_dir = get_run_logdir()"
      ],
      "metadata": {
        "id": "Cjsar52QuNRF"
      },
      "execution_count": 25,
      "outputs": []
    },
    {
      "cell_type": "code",
      "source": [
        "#Create a tensorboard callback\n",
        "tensorboard_cb = tf.keras.callbacks.TensorBoard(run_dir)\n"
      ],
      "metadata": {
        "id": "Pv5bSpG6uR5c"
      },
      "execution_count": 26,
      "outputs": []
    },
    {
      "cell_type": "code",
      "source": [
        "history = model.fit(x_train,y_train,epochs=5,callbacks=[tensorboard_cb])"
      ],
      "metadata": {
        "colab": {
          "base_uri": "https://localhost:8080/"
        },
        "id": "piQ8UfhMu-Lp",
        "outputId": "b5677493-be3b-465b-90ad-11f3c246cdfb"
      },
      "execution_count": 27,
      "outputs": [
        {
          "output_type": "stream",
          "name": "stdout",
          "text": [
            "Epoch 1/5\n",
            "1875/1875 [==============================] - 10s 6ms/step - loss: 3.9566e-05 - accuracy: 0.0987\n",
            "Epoch 2/5\n",
            "1875/1875 [==============================] - 8s 4ms/step - loss: 4.0195e-05 - accuracy: 0.0987\n",
            "Epoch 3/5\n",
            "1875/1875 [==============================] - 8s 4ms/step - loss: 3.4617e-05 - accuracy: 0.0987\n",
            "Epoch 4/5\n",
            "1875/1875 [==============================] - 8s 4ms/step - loss: 3.3122e-05 - accuracy: 0.0987\n",
            "Epoch 5/5\n",
            "1875/1875 [==============================] - 8s 4ms/step - loss: 2.9891e-05 - accuracy: 0.0987\n"
          ]
        }
      ]
    },
    {
      "cell_type": "code",
      "source": [
        "#Fine tuning Hyperparameters"
      ],
      "metadata": {
        "id": "GSfr_tcFvNu6"
      },
      "execution_count": 28,
      "outputs": []
    },
    {
      "cell_type": "code",
      "source": [
        "#Visualisation using tensorBoard\n",
        "import os\n",
        "root_dir =os.path.join(os.curdir, \"MyLogs\")\n",
        "#Define a method to return the location of the logs\n",
        "def get_dir():\n",
        "  import time\n",
        "  run_id = time.strftime(\"run_%Y_%m_%d-%H_%M_%S\")\n",
        "  return os.path.join(root_dir, run_id)"
      ],
      "metadata": {
        "id": "Kxz0rPl8vHq1"
      },
      "execution_count": 32,
      "outputs": []
    },
    {
      "cell_type": "code",
      "source": [
        "#We save the method into a variable to access it later\n",
        "root = get_dir()"
      ],
      "metadata": {
        "id": "aKpng8aacbq3"
      },
      "execution_count": 33,
      "outputs": []
    },
    {
      "cell_type": "code",
      "source": [
        "tensorboard_cb = tf.keras.callbacks.TensorBoard(root)"
      ],
      "metadata": {
        "id": "ouUY0K76dI3-"
      },
      "execution_count": 34,
      "outputs": []
    },
    {
      "cell_type": "code",
      "source": [
        "#When we call the model.fit method we can now pass in the tensorboard_cb \n",
        "history = model.fit(x_train, y_train, epochs=5, callbacks=[checkpoint_cb, tensorboard_cb])"
      ],
      "metadata": {
        "colab": {
          "base_uri": "https://localhost:8080/"
        },
        "id": "_S-dp14NeDXg",
        "outputId": "9540d7c8-ce46-486e-93db-95d868441620"
      },
      "execution_count": 36,
      "outputs": [
        {
          "output_type": "stream",
          "name": "stdout",
          "text": [
            "Epoch 1/5\n",
            "1866/1875 [============================>.] - ETA: 0s - loss: 2.9811e-05 - accuracy: 0.0988WARNING:tensorflow:Can save best model only with val_loss available, skipping.\n",
            "1875/1875 [==============================] - 10s 6ms/step - loss: 2.9776e-05 - accuracy: 0.0987\n",
            "Epoch 2/5\n",
            "1868/1875 [============================>.] - ETA: 0s - loss: 2.6800e-05 - accuracy: 0.0987WARNING:tensorflow:Can save best model only with val_loss available, skipping.\n",
            "1875/1875 [==============================] - 9s 5ms/step - loss: 2.6807e-05 - accuracy: 0.0987\n",
            "Epoch 3/5\n",
            "1873/1875 [============================>.] - ETA: 0s - loss: 2.5359e-05 - accuracy: 0.0987WARNING:tensorflow:Can save best model only with val_loss available, skipping.\n",
            "1875/1875 [==============================] - 11s 6ms/step - loss: 2.5384e-05 - accuracy: 0.0987\n",
            "Epoch 4/5\n",
            "1870/1875 [============================>.] - ETA: 0s - loss: 2.3921e-05 - accuracy: 0.0987WARNING:tensorflow:Can save best model only with val_loss available, skipping.\n",
            "1875/1875 [==============================] - 12s 6ms/step - loss: 2.3869e-05 - accuracy: 0.0987\n",
            "Epoch 5/5\n",
            "1870/1875 [============================>.] - ETA: 0s - loss: 2.1985e-05 - accuracy: 0.0987WARNING:tensorflow:Can save best model only with val_loss available, skipping.\n",
            "1875/1875 [==============================] - 12s 6ms/step - loss: 2.2064e-05 - accuracy: 0.0987\n"
          ]
        }
      ]
    },
    {
      "cell_type": "code",
      "source": [
        "history = model.summary()"
      ],
      "metadata": {
        "id": "B5XqgxrYe1JD",
        "outputId": "7f5eb9f8-d667-47e7-d329-67b5208dd683",
        "colab": {
          "base_uri": "https://localhost:8080/"
        }
      },
      "execution_count": 39,
      "outputs": [
        {
          "output_type": "stream",
          "name": "stdout",
          "text": [
            "Model: \"sequential\"\n",
            "_________________________________________________________________\n",
            " Layer (type)                Output Shape              Param #   \n",
            "=================================================================\n",
            " flatten (Flatten)           (None, 784)               0         \n",
            "                                                                 \n",
            " dense (Dense)               (None, 300)               235500    \n",
            "                                                                 \n",
            " dense_1 (Dense)             (None, 100)               30100     \n",
            "                                                                 \n",
            " dropout (Dropout)           (None, 100)               0         \n",
            "                                                                 \n",
            " dense_2 (Dense)             (None, 10)                1010      \n",
            "                                                                 \n",
            "=================================================================\n",
            "Total params: 266,610\n",
            "Trainable params: 266,610\n",
            "Non-trainable params: 0\n",
            "_________________________________________________________________\n"
          ]
        }
      ]
    },
    {
      "cell_type": "code",
      "source": [
        "from tensorflow.keras.utils import plot_model\n",
        "\n",
        "plot_model(model, to_file=\"MyModel.png\")"
      ],
      "metadata": {
        "id": "s_1NxV4LgMDB"
      },
      "execution_count": null,
      "outputs": []
    },
    {
      "cell_type": "code",
      "source": [
        "#Cross validation \n",
        "def build_model(n_hidden=1, n_neurons=30,learning_rate=3e-3, input_shape=[8]):\n",
        "  model = tf.keras.Sequential()\n",
        "  options = {\"input_shape\":input_shape}\n",
        "  for layer in n_hidden:\n",
        "    model.add(tf.keras.layers.Dense(n_neurons,activation=\"relu\",**options))\n",
        "    options = {}\n",
        "    model.add(tf.keras.layers.Dense(1,**options))\n",
        "    optimizer = tf.keras.optimizers.SGD(learning_rate)\n",
        "    model.compile(loss=\"mse\", optimizer=optimizer)\n",
        "    return model"
      ],
      "metadata": {
        "id": "V-3TtmeJg6a0"
      },
      "execution_count": 52,
      "outputs": []
    },
    {
      "cell_type": "code",
      "source": [
        "#Univariate regression i.e one output neuron/output\n",
        "#Cross validation: We start by creating a sequential mode\n",
        "def build_model(n_hidden=1,n_neurons=30,learning_rate=3e-3,input_shape=[8]):\n",
        "  #create an instance of the class Sequential\n",
        "  model = tf.keras.Sequential()\n",
        "  #We define the the input shape in a dictionary\n",
        "  options = {\"input_shape\":input_shape}\n",
        "  for layer in n_hidden:\n",
        "    model.add(n_neurons, activations=\"relu\", **options)\n",
        "    options ={}\n",
        "    model.add(tf.keras.layers.Dense(1,**options))\n",
        "    optimizer = tf.keras.optimizers.SGD(learning_rate)\n",
        "    model.compile(loss='mse', optimizer=optimizer)\n",
        "    return model"
      ],
      "metadata": {
        "id": "eMXI3o2Vw_3L"
      },
      "execution_count": 55,
      "outputs": []
    },
    {
      "cell_type": "code",
      "source": [
        "keras_reg = tf.keras.wrappers.scikit_learn.KerasRegressor(build_model)"
      ],
      "metadata": {
        "id": "X7KtLYMU2Clw",
        "outputId": "62a1251e-e4bc-4427-8a0c-86fecba666fb",
        "colab": {
          "base_uri": "https://localhost:8080/"
        }
      },
      "execution_count": 56,
      "outputs": [
        {
          "output_type": "stream",
          "name": "stderr",
          "text": [
            "/usr/local/lib/python3.7/dist-packages/ipykernel_launcher.py:1: DeprecationWarning: KerasRegressor is deprecated, use Sci-Keras (https://github.com/adriangb/scikeras) instead. See https://www.adriangb.com/scikeras/stable/migration.html for help migrating.\n",
            "  \"\"\"Entry point for launching an IPython kernel.\n"
          ]
        }
      ]
    },
    {
      "cell_type": "code",
      "source": [
        ""
      ],
      "metadata": {
        "id": "BFGlZ_zL43OA"
      },
      "execution_count": null,
      "outputs": []
    },
    {
      "cell_type": "code",
      "source": [
        "#We use the fit() method to train, we use the score() method to evaluate it and the predict() method to predict \n",
        "keras_reg.fit(x_train, y_train, epochs=20,  callbacks=[tf.keras.callbacks.EarlyStopping(patience=10,)]) #Would pass in validation data\n",
        "m_test =  keras_reg.score(x_valid, y_valid)\n",
        "predictions = keras_reg.predict(x_new)"
      ],
      "metadata": {
        "id": "opb4sgjE2apf"
      },
      "execution_count": null,
      "outputs": []
    },
    {
      "cell_type": "code",
      "source": [
        "#REDO"
      ],
      "metadata": {
        "id": "GPjKP5AK0qkU"
      },
      "execution_count": null,
      "outputs": []
    },
    {
      "cell_type": "code",
      "source": [
        ""
      ],
      "metadata": {
        "id": "rY54FTzNzhe1"
      },
      "execution_count": null,
      "outputs": []
    },
    {
      "cell_type": "code",
      "source": [
        ""
      ],
      "metadata": {
        "id": "QPAaSE9Pw8to"
      },
      "execution_count": null,
      "outputs": []
    },
    {
      "cell_type": "code",
      "source": [
        ""
      ],
      "metadata": {
        "id": "8doKTskxwydE"
      },
      "execution_count": null,
      "outputs": []
    },
    {
      "cell_type": "code",
      "source": [
        ""
      ],
      "metadata": {
        "id": "AMSShnSzwff7"
      },
      "execution_count": null,
      "outputs": []
    },
    {
      "cell_type": "code",
      "source": [
        ""
      ],
      "metadata": {
        "id": "YK5H0JgGwWvc"
      },
      "execution_count": null,
      "outputs": []
    },
    {
      "cell_type": "code",
      "source": [
        ""
      ],
      "metadata": {
        "id": "4CTIxuBivmAJ"
      },
      "execution_count": null,
      "outputs": []
    },
    {
      "cell_type": "code",
      "source": [
        ""
      ],
      "metadata": {
        "id": "v_fo7peYujtl"
      },
      "execution_count": null,
      "outputs": []
    },
    {
      "cell_type": "code",
      "source": [
        ""
      ],
      "metadata": {
        "id": "Vq-fql91udq9"
      },
      "execution_count": null,
      "outputs": []
    },
    {
      "cell_type": "code",
      "source": [
        ""
      ],
      "metadata": {
        "id": "Nd2R85pYgQzm"
      },
      "execution_count": null,
      "outputs": []
    },
    {
      "cell_type": "code",
      "source": [
        ""
      ],
      "metadata": {
        "id": "AQ-5sL6ogHNr"
      },
      "execution_count": null,
      "outputs": []
    },
    {
      "cell_type": "code",
      "source": [
        ""
      ],
      "metadata": {
        "id": "o-D4-vgUuug4"
      },
      "execution_count": 29,
      "outputs": []
    },
    {
      "cell_type": "code",
      "source": [
        ""
      ],
      "metadata": {
        "id": "p9P7ZcdwtNoe"
      },
      "execution_count": 29,
      "outputs": []
    },
    {
      "cell_type": "code",
      "source": [
        ""
      ],
      "metadata": {
        "id": "gULP_pAcsVAF"
      },
      "execution_count": 29,
      "outputs": []
    },
    {
      "cell_type": "code",
      "source": [
        ""
      ],
      "metadata": {
        "id": "5bOqub-6r1wj"
      },
      "execution_count": 29,
      "outputs": []
    },
    {
      "cell_type": "code",
      "source": [
        ""
      ],
      "metadata": {
        "id": "6OZduUwXmZH_"
      },
      "execution_count": 29,
      "outputs": []
    },
    {
      "cell_type": "code",
      "source": [
        ""
      ],
      "metadata": {
        "id": "BXoZYN3CmMiS"
      },
      "execution_count": 29,
      "outputs": []
    },
    {
      "cell_type": "code",
      "source": [
        ""
      ],
      "metadata": {
        "id": "W33qOtzNmDu4"
      },
      "execution_count": 29,
      "outputs": []
    },
    {
      "cell_type": "code",
      "source": [
        ""
      ],
      "metadata": {
        "id": "MpFvS2R5k6ot"
      },
      "execution_count": 29,
      "outputs": []
    },
    {
      "cell_type": "code",
      "source": [
        ""
      ],
      "metadata": {
        "id": "wmL3s7tce1Nm"
      },
      "execution_count": 29,
      "outputs": []
    }
  ]
}