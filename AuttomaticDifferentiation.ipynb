{
  "cells": [
    {
      "cell_type": "markdown",
      "metadata": {
        "id": "view-in-github",
        "colab_type": "text"
      },
      "source": [
        "<a href=\"https://colab.research.google.com/github/Reptilefury/coursera-machine-learning/blob/main/AuttomaticDifferentiation.ipynb\" target=\"_parent\"><img src=\"https://colab.research.google.com/assets/colab-badge.svg\" alt=\"Open In Colab\"/></a>"
      ]
    },
    {
      "cell_type": "code",
      "execution_count": null,
      "metadata": {
        "id": "5phvWV2Ld8Xv"
      },
      "outputs": [],
      "source": [
        "import os\n",
        "import torch\n",
        "from torch import nn\n",
        "from torch.utils.data import  DataLoader\n",
        "from torchvision import  datasets, transforms\n",
        "from torchvision.transforms import ToTensor, Lambda\n",
        "from torch.utils.data import Dataset"
      ]
    },
    {
      "cell_type": "code",
      "execution_count": null,
      "metadata": {
        "id": "2ghv_okXekfH"
      },
      "outputs": [],
      "source": [
        "#We check for GPU availability\n",
        "device = 'cuda' if torch.cuda.is_available() else 'cpu'"
      ]
    },
    {
      "cell_type": "code",
      "execution_count": null,
      "metadata": {
        "id": "MRWwjVyke2iK"
      },
      "outputs": [],
      "source": [
        "train_data = datasets.FashionMNIST( \n",
        "    root = \"data\",\n",
        "    train = True,\n",
        "    download = True,\n",
        "    transform= ToTensor(),\n",
        "    target_transform=Lambda(lambda y: torch.zeros(10, dtype=torch.float).scatter_(0 , torch.tensor(y), value=1))\n",
        ")"
      ]
    },
    {
      "cell_type": "code",
      "execution_count": null,
      "metadata": {
        "id": "de3CZF4WfeJu"
      },
      "outputs": [],
      "source": [
        "test_data = datasets.FashionMNIST(\n",
        "    root = \"data\",\n",
        "    train = False,\n",
        "    download = True,\n",
        "    transform =ToTensor(),\n",
        "    target_transform = Lambda(lambda y: torch.zero(0,dtype=torch.float).scatter_(0, torch.tensor(y), value=1))\n",
        ")"
      ]
    },
    {
      "cell_type": "code",
      "execution_count": null,
      "metadata": {
        "id": "ZnFFoOhVf9K5"
      },
      "outputs": [],
      "source": [
        "#We define our neural network through subclassing the nn.Module class\n",
        "class NeuralNetwork(torch.nn.Module):\n",
        "  def __init__(self):\n",
        "    super(NeuralNetwork,self).__init__()\n",
        "    self.flatten = torch.nn.Flatten()\n",
        "    self.layer_relu_stack = torch.nn.Sequential(\n",
        "        #torch.nn.Linear(28 * 28,512),\n",
        "        torch.nn.Linear(28 * 28 , 512),\n",
        "        torch.nn.ReLU(),\n",
        "        torch.nn.Linear(512,512),\n",
        "        torch.nn.ReLU(),\n",
        "        torch.nn.Linear(512,10),\n",
        "        torch.nn.ReLU()\n",
        "        )\n",
        "  def forward(self,x):\n",
        "      x = self.flatten(x),\n",
        "      logits = self.layer_relu_stack(x)\n",
        "      return logits"
      ]
    },
    {
      "cell_type": "code",
      "execution_count": null,
      "metadata": {
        "id": "AJjAYkMlpY9G"
      },
      "outputs": [],
      "source": [
        "model = NeuralNetwork().to(device)"
      ]
    },
    {
      "cell_type": "code",
      "execution_count": null,
      "metadata": {
        "id": "US0c765dqC2U"
      },
      "outputs": [],
      "source": [
        "class NeuralNetwork5(torch.nn.Module):\n",
        "  def __init__(self):\n",
        "    super(NeuralNetwork5,self).__init__()\n",
        "    self.flatten = torch.nn.Flatten(),\n",
        "    self.seq = torch.nn.Sequential(\n",
        "        torch.nn.Linear(28 * 28 , 512),\n",
        "        torch.nn.ReLU(),\n",
        "        torch.nn.Linear(512,512),\n",
        "        torch.nn.ReLU(),\n",
        "        torch.nn.Linear(512,10),\n",
        "    )\n",
        "  def forward(self, x):\n",
        "      x = self.flatten(x)\n",
        "      logits  = self.seq(x)\n",
        "      return logits"
      ]
    },
    {
      "cell_type": "code",
      "execution_count": null,
      "metadata": {
        "id": "oBolZ_15zDRe"
      },
      "outputs": [],
      "source": [
        "#We create an instance of the model we pass it to the GPU\n",
        "model = NeuralNetwork5()"
      ]
    },
    {
      "cell_type": "code",
      "execution_count": null,
      "metadata": {
        "id": "zGYVRRR50BOt"
      },
      "outputs": [],
      "source": [
        "x = torch.rand(1, 28  * 28 ,device=device)\n",
        "logits = model(x)\n",
        "pred_prob = torch.softmax(dim=1)(logits)\n",
        "#y_pred = pred_prob.argmax()"
      ]
    },
    {
      "cell_type": "code",
      "execution_count": null,
      "metadata": {
        "id": "6tU5GSyNtyt1"
      },
      "outputs": [],
      "source": [
        "x = torch.ones(5)\n",
        "y = torch.zeros(3)\n",
        "w = torch.randn(5,3 , requires_grad=True)\n",
        "b = torch.randn(3, requires_grad=True)\n",
        "z = torch.matmul(x,w) + b\n",
        "loss = torch.nn.functional.binary_cross_entropy_with_logits(z,y)"
      ]
    },
    {
      "cell_type": "code",
      "execution_count": null,
      "metadata": {
        "id": "CkVOTELxIzbG"
      },
      "outputs": [],
      "source": [
        "x = torch.ones(5)\n",
        "y = torch.zeros(3)\n",
        "w = torch.randn(5,3, requires_grad=True)\n",
        "b = torch.randn(3,requires_grad=True)\n",
        "z = torch.matmul(x,w) + b \n",
        "loss = torch.nn.functional.binary_cross_entropy_with_logits(z,y)"
      ]
    },
    {
      "cell_type": "code",
      "execution_count": null,
      "metadata": {
        "id": "v733vkOtT4SD"
      },
      "outputs": [],
      "source": [
        "import os\n",
        "import torch\n",
        "from torch import nn\n",
        "from torch.utils.data import DataLoader\n",
        "from torchvision.transforms import ToTensor, Lambda\n",
        "from torchvision import datasets\n",
        "from torch.utils.data import Dataset"
      ]
    },
    {
      "cell_type": "code",
      "execution_count": null,
      "metadata": {
        "id": "QSg0yNXNbxjO"
      },
      "outputs": [],
      "source": [
        "device = 'cuda' if torch.cuda.is_available() else 'cpu'"
      ]
    },
    {
      "cell_type": "code",
      "execution_count": null,
      "metadata": {
        "id": "QmAWHfPOb4Rl"
      },
      "outputs": [],
      "source": [
        "#load the dataset \n",
        "training_data = datasets.FashionMNIST(\n",
        "    root = \"data\",\n",
        "    download = True, \n",
        "    train = True,\n",
        "    transform = ToTensor(),\n",
        "    target_transform = Lambda(lambda y:torch.zeros(10,dtype=torch.float).scatter_(0, torch.tensor(y), value=1))\n",
        ")"
      ]
    },
    {
      "cell_type": "code",
      "execution_count": null,
      "metadata": {
        "id": "5IZASbxid4sh"
      },
      "outputs": [],
      "source": [
        "test_data = datasets.FashionMNIST(\n",
        "    root = \"data\", \n",
        "    download = True, \n",
        "    train = True,\n",
        "    transform = ToTensor(),\n",
        "    target_transform = Lambda(lambda y:torch.zeros(0, dtype= torch.float).scatter_(0, torch.tensor(y), value =1))\n",
        ")"
      ]
    },
    {
      "cell_type": "code",
      "execution_count": null,
      "metadata": {
        "id": "YxAI07zRepP4"
      },
      "outputs": [],
      "source": [
        "#We now build the neural network\n",
        "class NeuralNetwork(torch.nn.Module):\n",
        "  def __init__(self):\n",
        "    super(NeuralNetwork, self).__init__()\n",
        "    self.flatten = torch.nn.Flatten()\n",
        "    self.linear_relu_stack = torch.nn.Sequential(\n",
        "        torch.nn.Linear(28 * 28, 512),\n",
        "        torch.nn.ReLU(),\n",
        "        torch.nn.Linear(512,512),\n",
        "        torch.nn.ReLU(),\n",
        "        torch.nn.Linear(512,10),\n",
        "    )\n",
        "  def forward(self,x):\n",
        "    x = self.flatten(x),\n",
        "    logits = self.linear_relu_stack(x)\n",
        "    return logits"
      ]
    },
    {
      "cell_type": "code",
      "execution_count": null,
      "metadata": {
        "id": "tTATNbRhepFy"
      },
      "outputs": [],
      "source": [
        "#We create an instance of the neural network and pass it to the GPU \n",
        "model = NeuralNetwork().to(device)"
      ]
    },
    {
      "cell_type": "code",
      "execution_count": null,
      "metadata": {
        "id": "87lo1mZOgLFq"
      },
      "outputs": [],
      "source": [
        "X = torch.rand(1, 28 * 28,device = device)\n",
        "logits = model(X)"
      ]
    },
    {
      "cell_type": "code",
      "execution_count": null,
      "metadata": {
        "id": "vC04E_l_h3cz"
      },
      "outputs": [],
      "source": [
        "class NeuralNetwork(nn.Module):\n",
        "    def __init__(self):\n",
        "        super(NeuralNetwork, self).__init__()\n",
        "        self.flatten = nn.Flatten()\n",
        "        self.linear_relu_stack = nn.Sequential(\n",
        "            nn.Linear(28*28, 512),\n",
        "            nn.ReLU(),\n",
        "            nn.Linear(512, 512),\n",
        "            nn.ReLU(),\n",
        "            nn.Linear(512, 10),\n",
        "        )\n",
        "\n",
        "    def forward(self, x):\n",
        "        x = self.flatten(x)\n",
        "        logits = self.linear_relu_stack(x)\n",
        "        return logits"
      ]
    },
    {
      "cell_type": "code",
      "execution_count": null,
      "metadata": {
        "id": "NZp4LGJTiQWW"
      },
      "outputs": [],
      "source": [
        "model = NeuralNetwork().to(device)"
      ]
    },
    {
      "cell_type": "code",
      "execution_count": null,
      "metadata": {
        "id": "JOJ4YLkQiWxl"
      },
      "outputs": [],
      "source": [
        "X= torch.rand(1,28 * 28 , device=device)\n",
        "logits = model(X)"
      ]
    },
    {
      "cell_type": "code",
      "execution_count": null,
      "metadata": {
        "id": "8oWlRf-sijr5"
      },
      "outputs": [],
      "source": [
        "class NeuralNetwork2(nn.Module):\n",
        "  def __init__(self):\n",
        "    super(NeuralNetwork2, self).__init__()\n",
        "    self.flatten = nn.Flatten()\n",
        "    self.seq = nn.Sequential(\n",
        "        nn.Linear(28 * 28 , 512),\n",
        "        nn.ReLU(),\n",
        "        nn.Linear(512, 512),\n",
        "        nn.ReLU(),\n",
        "        nn.Linear(512,10),)\n",
        "  def forward(self, x):\n",
        "    x = self.flatten(x)\n",
        "    logits = self.seq(x)\n",
        "    return logits\n",
        "    "
      ]
    },
    {
      "cell_type": "code",
      "execution_count": null,
      "metadata": {
        "id": "0uhDIBjXgLC1"
      },
      "outputs": [],
      "source": [
        "model = NeuralNetwork2().to(device)"
      ]
    },
    {
      "cell_type": "code",
      "execution_count": null,
      "metadata": {
        "id": "ED_JhKWqjmd9"
      },
      "outputs": [],
      "source": [
        "X = torch.rand(1,28 * 28 , device=device )\n",
        "logits = model(X)"
      ]
    },
    {
      "cell_type": "code",
      "execution_count": 7,
      "metadata": {
        "id": "_DoEq9XwkUxG"
      },
      "outputs": [],
      "source": [
        "#Automatic differentiation with Pytorch \n",
        "import torch \n",
        "from torch import nn\n",
        "from torch.utils.data import Dataset\n",
        "from torchvision import datasets\n",
        "from torchvision.transforms import ToTensor, Lambda\n",
        "import matplotlib.pyplot as plt"
      ]
    },
    {
      "cell_type": "code",
      "execution_count": null,
      "metadata": {
        "id": "vVjax77DjXXy"
      },
      "outputs": [],
      "source": [
        "training_data = datasets.FashionMNIST(\n",
        "    root = \"Data\",\n",
        "    download = True,\n",
        "    train = True, \n",
        "    transform = ToTensor(),\n",
        "    target_transform = Lambda( lambda y:torch.zeros(10,dtype=torch.float).scatter_(0,torch.tensor(y), value=1))\n",
        ")"
      ]
    },
    {
      "cell_type": "code",
      "source": [
        "test_data =  datasets.FashionMNIST(\n",
        "    root = \"data\",\n",
        "    train = False,\n",
        "    download = True,\n",
        "    transform = ToTensor(),\n",
        "    target_transform = Lambda(lambda y:torch.zeros(10,dtype=torch.float).scatter_(0, torch.tensor(y), value=1))\n",
        "    )"
      ],
      "metadata": {
        "id": "-b-iNkK5i-qb"
      },
      "execution_count": null,
      "outputs": []
    },
    {
      "cell_type": "code",
      "source": [
        "#Visualize the data to check whether the data is correctly labeled \n",
        "figure = plt.figure(figsize = (10,10))\n",
        "cols,rows = 3,3\n",
        "for i in range(1,cols * rows + 1):\n",
        "  simple_idx = torch.randint(len(training_data), size=(1,)).item()  \n",
        "  image, labels = training_data[simple_idx]\n",
        "  figure.add_subplot(rows, cols, i)\n",
        "  plt.imshow(image.squeeze(), cmap='gray')\n",
        "  plt.axis('off')"
      ],
      "metadata": {
        "colab": {
          "base_uri": "https://localhost:8080/",
          "height": 575
        },
        "id": "Vv6O7JCNjiV7",
        "outputId": "459ba710-1f47-445a-d4ae-5be63c52bab0"
      },
      "execution_count": 19,
      "outputs": [
        {
          "output_type": "display_data",
          "data": {
            "text/plain": [
              "<Figure size 720x720 with 9 Axes>"
            ],
            "image/png": "[encoded data removed]"
          },
          "metadata": {
            "needs_background": "light"
          }
        }
      ]
    },
    {
      "cell_type": "code",
      "source": [
        "#Build the computational graph \n",
        "class NeuralNetwork(nn.Module):\n",
        "  def __init__(self):\n",
        "    super(NeuralNetwork,self).__init__()\n",
        "    self.flatten = nn.Flatten()\n",
        "    self.layers_relu_stack = nn.Sequential(\n",
        "      nn.Linear(28 * 28,512),\n",
        "      nn.ReLU(),\n",
        "      nn.Linear(512,512),\n",
        "      nn.ReLU(),\n",
        "      nn.Linear(512,10)\n",
        "    )\n",
        "  def forward(self,x):\n",
        "    x = self.flatten(x)\n",
        "    logits = self.layers_relu_stack(x)\n",
        "    return logits"
      ],
      "metadata": {
        "id": "-h8eUbgikWYU"
      },
      "execution_count": 25,
      "outputs": []
    },
    {
      "cell_type": "code",
      "source": [
        "device = 'cuda' if torch.cuda.is_available() else 'cpu'\n",
        "#Create an instance of the model\n",
        "model = NeuralNetwork().to(device)"
      ],
      "metadata": {
        "id": "tdVQnnh9lfKz"
      },
      "execution_count": 27,
      "outputs": []
    },
    {
      "cell_type": "code",
      "source": [
        "#Inputs\n",
        "x = torch.randn(1,28,28, device = device)\n",
        "logits = model(x)\n",
        "pred_probab = torch.nn.Softmax(dim=1)(logits)\n",
        "y_pred = torch.argmax(pred_probab)\n",
        "y_pred2 = pred_probab.argmax(1)"
      ],
      "metadata": {
        "id": "fSzf47cIl4BI"
      },
      "execution_count": 34,
      "outputs": []
    },
    {
      "cell_type": "code",
      "source": [
        "#Automatic differentiation with Pytorch \n",
        "#Lets build a single layer neural network\n",
        "x = torch.zeros(5) #These are the inputs \n",
        "y = torch.ones(3) #Targets/Ground truth/labels\n",
        "w = torch.randn(5,3, requires_grad=True) #These are the weights of our model we allow automatic differentiation to be applied to them\n",
        "b = torch.randn(3, requires_grad=True) #This is the bias term we allow automatic differentiation/ Backpropagation of affect them\n",
        "z = torch.matmul(x,w) #Dot product of the weights  transpose of the inputs x\n",
        "loss = torch.nn.functional.binary_cross_entropy_with_logits(z,y)#Calculate the loss which is the distance between the predicted value and the desired value\n",
        "print(w.grad)"
      ],
      "metadata": {
        "colab": {
          "base_uri": "https://localhost:8080/"
        },
        "id": "1XnXUj44mlkK",
        "outputId": "fb8929c5-83ae-45ac-8dd0-bad87a3a4383"
      },
      "execution_count": 58,
      "outputs": [
        {
          "output_type": "stream",
          "name": "stdout",
          "text": [
            "None\n"
          ]
        }
      ]
    },
    {
      "cell_type": "code",
      "source": [
        "w.requires_grad"
      ],
      "metadata": {
        "colab": {
          "base_uri": "https://localhost:8080/"
        },
        "id": "MNGQQ1BlxTQn",
        "outputId": "e2857a6c-2c9a-4922-bfa9-91a2006fedfe"
      },
      "execution_count": 68,
      "outputs": [
        {
          "output_type": "execute_result",
          "data": {
            "text/plain": [
              "True"
            ]
          },
          "metadata": {},
          "execution_count": 68
        }
      ]
    },
    {
      "cell_type": "code",
      "source": [
        ""
      ],
      "metadata": {
        "id": "n1vVcMzvxVBD"
      },
      "execution_count": null,
      "outputs": []
    },
    {
      "cell_type": "code",
      "source": [
        "#We calculate the gradient of the loss fuction and use that gradient to update the values w and b: parameters weights and bias\n",
        "loss.backward()"
      ],
      "metadata": {
        "id": "XlMDVmajmDZQ"
      },
      "execution_count": 49,
      "outputs": []
    },
    {
      "cell_type": "code",
      "source": [
        "w_grad = print(w.grad) #gradient of the weights "
      ],
      "metadata": {
        "colab": {
          "base_uri": "https://localhost:8080/"
        },
        "id": "UxnebutAslwu",
        "outputId": "57761984-58b4-4438-b254-9debccc35f3c"
      },
      "execution_count": 50,
      "outputs": [
        {
          "output_type": "stream",
          "name": "stdout",
          "text": [
            "tensor([[-0., -0., -0.],\n",
            "        [-0., -0., -0.],\n",
            "        [-0., -0., -0.],\n",
            "        [-0., -0., -0.],\n",
            "        [-0., -0., -0.]])\n"
          ]
        }
      ]
    },
    {
      "cell_type": "code",
      "source": [
        "print(w.grad_fn)"
      ],
      "metadata": {
        "colab": {
          "base_uri": "https://localhost:8080/"
        },
        "id": "4TIqFaNGt_xL",
        "outputId": "89481b90-6220-4f47-8079-866efe8a8541"
      },
      "execution_count": 52,
      "outputs": [
        {
          "output_type": "stream",
          "name": "stdout",
          "text": [
            "None\n"
          ]
        }
      ]
    },
    {
      "cell_type": "code",
      "source": [
        "print(z.grad_fn)"
      ],
      "metadata": {
        "colab": {
          "base_uri": "https://localhost:8080/"
        },
        "id": "2lhIZSs_uDXz",
        "outputId": "488e625a-51d9-4dde-d341-97a483162f72"
      },
      "execution_count": 55,
      "outputs": [
        {
          "output_type": "stream",
          "name": "stdout",
          "text": [
            "<SqueezeBackward3 object at 0x7f3525ebef90>\n"
          ]
        }
      ]
    },
    {
      "cell_type": "code",
      "source": [
        "print(loss.grad_fn)"
      ],
      "metadata": {
        "colab": {
          "base_uri": "https://localhost:8080/"
        },
        "id": "R1R8jmY6uMtE",
        "outputId": "9635bbe3-ed3e-4088-c760-0771a5cf079b"
      },
      "execution_count": 56,
      "outputs": [
        {
          "output_type": "stream",
          "name": "stdout",
          "text": [
            "<BinaryCrossEntropyWithLogitsBackward0 object at 0x7f3525fc7310>\n"
          ]
        }
      ]
    },
    {
      "cell_type": "markdown",
      "source": [
        "In order to optmize the values of w and b (parameters). We need to calculate the derivative of the loss function with respect to the specific parameters w and b under a some fixed value of x and y. In order to do that we use the loss.backward method and get the gradient values of w and b"
      ],
      "metadata": {
        "id": "6xq7hkyoujvb"
      }
    },
    {
      "cell_type": "code",
      "source": [
        "loss.backward() #Calculate the derivative "
      ],
      "metadata": {
        "id": "KhdmgGbNjHMw"
      },
      "execution_count": 59,
      "outputs": []
    },
    {
      "cell_type": "code",
      "source": [
        "#Get the gradient values of w \n",
        "print(w.grad)"
      ],
      "metadata": {
        "colab": {
          "base_uri": "https://localhost:8080/"
        },
        "id": "9QcrgXi1vmXG",
        "outputId": "c45eb7d9-7c33-4bd4-b412-5a324be05010"
      },
      "execution_count": 62,
      "outputs": [
        {
          "output_type": "stream",
          "name": "stdout",
          "text": [
            "tensor([[-0., -0., -0.],\n",
            "        [-0., -0., -0.],\n",
            "        [-0., -0., -0.],\n",
            "        [-0., -0., -0.],\n",
            "        [-0., -0., -0.]])\n"
          ]
        }
      ]
    },
    {
      "cell_type": "code",
      "source": [
        "print(b.grad)\n",
        "print(b.requires_grad) "
      ],
      "metadata": {
        "colab": {
          "base_uri": "https://localhost:8080/"
        },
        "id": "uu58MaGyvzbN",
        "outputId": "47873f1d-1a81-4938-d769-ec02de643d31"
      },
      "execution_count": 67,
      "outputs": [
        {
          "output_type": "stream",
          "name": "stdout",
          "text": [
            "None\n",
            "True\n"
          ]
        }
      ]
    },
    {
      "cell_type": "markdown",
      "source": [
        "We can disable gradient tracking for several reason such as:\n",
        "When we only want to do forward computations through our network by applying our model to some input we can disable gradient tracking."
      ],
      "metadata": {
        "id": "g9F0wgTWwO3x"
      }
    },
    {
      "cell_type": "code",
      "source": [
        "#A good example of diabling gradient tracking would be to surround the code with torch.no_grad\n",
        "z = torch.matmul(x,w) + b\n",
        "print(z.requires_grad) "
      ],
      "metadata": {
        "colab": {
          "base_uri": "https://localhost:8080/"
        },
        "id": "kWNHvcVpv1gJ",
        "outputId": "265cf140-0a75-4ed7-9840-33416b548916"
      },
      "execution_count": 66,
      "outputs": [
        {
          "output_type": "stream",
          "name": "stdout",
          "text": [
            "True\n"
          ]
        }
      ]
    },
    {
      "cell_type": "code",
      "source": [
        "#Disable gradient tracking\n",
        "with torch.no_grad():\n",
        "  z = torch.matmul(x,w)"
      ],
      "metadata": {
        "id": "OCrnApasxNIR"
      },
      "execution_count": 71,
      "outputs": []
    },
    {
      "cell_type": "code",
      "source": [
        "print(z.requires_grad) #Here we have disabled gradient tracking and we could do this in situations where we want to only do forward computations"
      ],
      "metadata": {
        "colab": {
          "base_uri": "https://localhost:8080/"
        },
        "id": "v83bO2kLx2gi",
        "outputId": "e642e227-772b-4584-c362-6691f415cb76"
      },
      "execution_count": 73,
      "outputs": [
        {
          "output_type": "stream",
          "name": "stdout",
          "text": [
            "False\n"
          ]
        }
      ]
    },
    {
      "cell_type": "code",
      "source": [
        "#Another quick way to disable gradient tracking is to use the detach method \n",
        "z = torch.matmul(x,w) + b\n",
        "z_detach = z.detach()\n",
        "print(z_detach.requires_grad) #Here we have disabled gradient tracking"
      ],
      "metadata": {
        "colab": {
          "base_uri": "https://localhost:8080/"
        },
        "id": "ytD-1PLuyFky",
        "outputId": "cf6c5226-9653-4d8e-efdf-cb699f34172c"
      },
      "execution_count": 78,
      "outputs": [
        {
          "output_type": "stream",
          "name": "stdout",
          "text": [
            "False\n"
          ]
        }
      ]
    },
    {
      "cell_type": "markdown",
      "source": [
        "More on Computation Graphs"
      ],
      "metadata": {
        "id": "Eo0mFGkjzWJn"
      }
    }
  ],
  "metadata": {
    "colab": {
      "collapsed_sections": [],
      "name": "AuttomaticDifferentiation.ipynb",
      "provenance": [],
      "authorship_tag": "ABX9TyPqBiqsQ1K0L95lX9GaGYPy",
      "include_colab_link": true
    },
    "kernelspec": {
      "display_name": "Python 3",
      "name": "python3"
    },
    "language_info": {
      "name": "python"
    }
  },
  "nbformat": 4,
  "nbformat_minor": 0
}