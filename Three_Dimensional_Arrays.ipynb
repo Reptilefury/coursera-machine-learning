{
  "nbformat": 4,
  "nbformat_minor": 0,
  "metadata": {
    "colab": {
      "name": "Three-Dimensional Arrays.ipynb",
      "provenance": [],
      "collapsed_sections": [],
      "authorship_tag": "ABX9TyOO5vVY7gJZQydC5DBKSij+",
      "include_colab_link": true
    },
    "kernelspec": {
      "name": "python3",
      "display_name": "Python 3"
    },
    "language_info": {
      "name": "python"
    }
  },
  "cells": [
    {
      "cell_type": "markdown",
      "metadata": {
        "id": "view-in-github",
        "colab_type": "text"
      },
      "source": [
        "<a href=\"https://colab.research.google.com/github/Reptilefury/coursera-machine-learning/blob/main/Three_Dimensional_Arrays.ipynb\" target=\"_parent\"><img src=\"https://colab.research.google.com/assets/colab-badge.svg\" alt=\"Open In Colab\"/></a>"
      ]
    },
    {
      "cell_type": "code",
      "source": [
        "import numpy as np\n",
        "import matplotlib.pyplot as plt"
      ],
      "metadata": {
        "id": "uz31cy27Ckyn"
      },
      "execution_count": 2,
      "outputs": []
    },
    {
      "cell_type": "code",
      "source": [
        "#Set the gray as default colormap \n",
        "plt.rcParams['image.cmap'] = 'gray'\n",
        "\n",
        "#Display array values to 4 digits of precision\n",
        "np.set_printoptions(precision = 4,suppress=True)\n",
        "\n",
        "#First 2d array \n",
        "first_1d = np.arange(10,22) #Creates a 2d array  which is a vector\n",
        "second_2d = np.reshape(first_1d,(4,3)) #Creates a 2d array that has 4 rows and 3 columns"
      ],
      "metadata": {
        "id": "2KbBAcnYDDI5"
      },
      "execution_count": 8,
      "outputs": []
    },
    {
      "cell_type": "code",
      "source": [
        "#Lets visulaize the created 2d array \n",
        "second_2d"
      ],
      "metadata": {
        "colab": {
          "base_uri": "https://localhost:8080/"
        },
        "id": "HPV_bWx_GZ4O",
        "outputId": "e31b1391-0eb7-4c2d-82a8-aa8d6db3a187"
      },
      "execution_count": 9,
      "outputs": [
        {
          "output_type": "execute_result",
          "data": {
            "text/plain": [
              "array([[10, 11, 12],\n",
              "       [13, 14, 15],\n",
              "       [16, 17, 18],\n",
              "       [19, 20, 21]])"
            ]
          },
          "metadata": {},
          "execution_count": 9
        }
      ]
    },
    {
      "cell_type": "code",
      "source": [
        "#We can get rows from the 2D arrays \n",
        "second_2d[2,:] #Here we get the third row of the 2d array  with all the values in the column"
      ],
      "metadata": {
        "colab": {
          "base_uri": "https://localhost:8080/"
        },
        "id": "6_Cz1yEsGuwT",
        "outputId": "662e9e05-c8b6-4b25-d58a-84b236d41e9b"
      },
      "execution_count": 11,
      "outputs": [
        {
          "output_type": "execute_result",
          "data": {
            "text/plain": [
              "array([16, 17, 18])"
            ]
          },
          "metadata": {},
          "execution_count": 11
        }
      ]
    },
    {
      "cell_type": "code",
      "source": [
        "second_2d[:,2] #Here we get all the values in the third row of our 2d array"
      ],
      "metadata": {
        "colab": {
          "base_uri": "https://localhost:8080/"
        },
        "id": "-FYIza52HUZR",
        "outputId": "8a9e52ee-a84b-4d39-fb8a-bf309f79d090"
      },
      "execution_count": 14,
      "outputs": [
        {
          "output_type": "execute_result",
          "data": {
            "text/plain": [
              "array([12, 15, 18, 21])"
            ]
          },
          "metadata": {},
          "execution_count": 14
        }
      ]
    },
    {
      "cell_type": "code",
      "source": [
        "second_2d[1,:]"
      ],
      "metadata": {
        "colab": {
          "base_uri": "https://localhost:8080/"
        },
        "id": "A972TyThGuqW",
        "outputId": "55baada2-6230-4e9a-ba31-b1d6a51e1a54"
      },
      "execution_count": 15,
      "outputs": [
        {
          "output_type": "execute_result",
          "data": {
            "text/plain": [
              "array([13, 14, 15])"
            ]
          },
          "metadata": {},
          "execution_count": 15
        }
      ]
    },
    {
      "cell_type": "code",
      "source": [
        "#A 2D array, two dimensional array has two dimensions (rows,columns)\n",
        "second_2d.shape #Our 2d array  has 4 elements in the first dimension and 3 elements in the third dimension\n",
        "#The total number of elements in our array  are 4 * 3  which is 12 elements in total"
      ],
      "metadata": {
        "colab": {
          "base_uri": "https://localhost:8080/"
        },
        "id": "Wz3oWZQTH9E2",
        "outputId": "ca583168-9ef4-4d75-c3a7-aa3f87224f73"
      },
      "execution_count": 18,
      "outputs": [
        {
          "output_type": "execute_result",
          "data": {
            "text/plain": [
              "(4, 3)"
            ]
          },
          "metadata": {},
          "execution_count": 18
        }
      ]
    },
    {
      "cell_type": "code",
      "source": [
        "#To get the total number  of elements in an array  we can use the np.prod function \n",
        "np.prod(second_2d.shape) #This multiplies the first dimension by the second dimension\n",
        "#It is similar to:\n",
        "np.prod((4,3)) #Gives us 12 # same as 4 * 3"
      ],
      "metadata": {
        "colab": {
          "base_uri": "https://localhost:8080/"
        },
        "id": "cLeCqCDAImfh",
        "outputId": "3c5b78de-90d5-417e-dbd1-a11e49dd61f7"
      },
      "execution_count": 24,
      "outputs": [
        {
          "output_type": "execute_result",
          "data": {
            "text/plain": [
              "12"
            ]
          },
          "metadata": {},
          "execution_count": 24
        }
      ]
    },
    {
      "cell_type": "code",
      "source": [
        "first_1d = np.arange(10,22) #Create a one dimensional array(Vector)\n",
        "second_2d = np.reshape(first_1d,(4,3)) #Create a 2d array based on the 1d array we just created\n",
        "second_2d"
      ],
      "metadata": {
        "colab": {
          "base_uri": "https://localhost:8080/"
        },
        "id": "EKJk2y3AKn8w",
        "outputId": "04fa2775-5143-4712-8c05-1c912a26236a"
      },
      "execution_count": 35,
      "outputs": [
        {
          "output_type": "execute_result",
          "data": {
            "text/plain": [
              "array([[10, 11, 12],\n",
              "       [13, 14, 15],\n",
              "       [16, 17, 18],\n",
              "       [19, 20, 21]])"
            ]
          },
          "metadata": {},
          "execution_count": 35
        }
      ]
    },
    {
      "cell_type": "code",
      "source": [
        "#To create a 3D array we must first create an empty array of the right shape\n",
        "#Make a 3d array \n",
        "into_3d = np.zeros((4,3,2))\n",
        "into_3d.shape  "
      ],
      "metadata": {
        "colab": {
          "base_uri": "https://localhost:8080/"
        },
        "id": "357D_tlXMx59",
        "outputId": "00ddff7c-e380-43ca-9413-52c248c4aa19"
      },
      "execution_count": 40,
      "outputs": [
        {
          "output_type": "execute_result",
          "data": {
            "text/plain": [
              "(4, 3, 2)"
            ]
          },
          "metadata": {},
          "execution_count": 40
        }
      ]
    },
    {
      "cell_type": "markdown",
      "source": [
        "The 3d array above can be interpreted as 2 planes each with 4 rows and  3 columns. Planes are also known as channels."
      ],
      "metadata": {
        "id": "bkLwtMxbOyXc"
      }
    },
    {
      "cell_type": "code",
      "source": [
        "#Check the shape of the 3d array we just created\n",
        "into_3d.shape"
      ],
      "metadata": {
        "colab": {
          "base_uri": "https://localhost:8080/"
        },
        "id": "YxKc60OLN8LX",
        "outputId": "7aa4dbe5-b176-49a7-a11f-20adb7007601"
      },
      "execution_count": 42,
      "outputs": [
        {
          "output_type": "execute_result",
          "data": {
            "text/plain": [
              "(4, 3, 2)"
            ]
          },
          "metadata": {},
          "execution_count": 42
        }
      ]
    },
    {
      "cell_type": "code",
      "source": [
        "first_1d"
      ],
      "metadata": {
        "colab": {
          "base_uri": "https://localhost:8080/"
        },
        "id": "eRmtiMU9P-nI",
        "outputId": "efa0faea-1218-4b09-ab51-c2180670396e"
      },
      "execution_count": 43,
      "outputs": [
        {
          "output_type": "execute_result",
          "data": {
            "text/plain": [
              "array([10, 11, 12, 13, 14, 15, 16, 17, 18, 19, 20, 21])"
            ]
          },
          "metadata": {},
          "execution_count": 43
        }
      ]
    },
    {
      "cell_type": "code",
      "source": [
        "first_2d = np.reshape(first_1d,(4,3))\n",
        "first_2d\n",
        "#100, 112  \n",
        "\n",
        "#Create the second  2d array \n",
        "second_1d = np.arange(100,112)\n",
        "second_2d = np.reshape(second_1d,(4,3))\n",
        "second_2d "
      ],
      "metadata": {
        "colab": {
          "base_uri": "https://localhost:8080/"
        },
        "id": "CgAOj6PKP-kB",
        "outputId": "db9c1a7c-40d9-4ee8-9cc3-6035d00dae44"
      },
      "execution_count": 49,
      "outputs": [
        {
          "output_type": "execute_result",
          "data": {
            "text/plain": [
              "array([[100, 101, 102],\n",
              "       [103, 104, 105],\n",
              "       [106, 107, 108],\n",
              "       [109, 110, 111]])"
            ]
          },
          "metadata": {},
          "execution_count": 49
        }
      ]
    },
    {
      "cell_type": "markdown",
      "source": [
        "Currently the first 3D array only contains zeros  so we make the first 2d array be the first 4 by 3 plane of the 2d array"
      ],
      "metadata": {
        "id": "TIc1VY7uSXgW"
      }
    },
    {
      "cell_type": "code",
      "source": [
        "first_2d"
      ],
      "metadata": {
        "colab": {
          "base_uri": "https://localhost:8080/"
        },
        "id": "JM8IPwUuRJJ9",
        "outputId": "79f768fd-8a0c-4e60-8ebe-b327b3d11750"
      },
      "execution_count": 51,
      "outputs": [
        {
          "output_type": "execute_result",
          "data": {
            "text/plain": [
              "array([[10, 11, 12],\n",
              "       [13, 14, 15],\n",
              "       [16, 17, 18],\n",
              "       [19, 20, 21]])"
            ]
          },
          "metadata": {},
          "execution_count": 51
        }
      ]
    },
    {
      "cell_type": "code",
      "source": [
        "#Set all rows and all columns for plane 0 to be the first 2d array\n",
        "into_3d[:,:,0] =  first_2d"
      ],
      "metadata": {
        "id": "NAafcFd_S4wA"
      },
      "execution_count": 52,
      "outputs": []
    },
    {
      "cell_type": "code",
      "source": [
        "first_2d #We get all rows and columns of the of the first 2d array to be \n",
        "#The first 2d array is attached to the first plane of the of the 3d array(first channel)"
      ],
      "metadata": {
        "colab": {
          "base_uri": "https://localhost:8080/"
        },
        "id": "rFii6ag9UkW_",
        "outputId": "6da3c075-9d44-47b6-a85c-8b26b3363edb"
      },
      "execution_count": 54,
      "outputs": [
        {
          "output_type": "execute_result",
          "data": {
            "text/plain": [
              "array([[10, 11, 12],\n",
              "       [13, 14, 15],\n",
              "       [16, 17, 18],\n",
              "       [19, 20, 21]])"
            ]
          },
          "metadata": {},
          "execution_count": 54
        }
      ]
    },
    {
      "cell_type": "code",
      "source": [
        "#We can attach the second 2D array to the second plane of the  of our 3D array\n",
        "into_3d[:,:,1] = second_2d"
      ],
      "metadata": {
        "id": "-cqSExPEVprC"
      },
      "execution_count": 55,
      "outputs": []
    },
    {
      "cell_type": "code",
      "source": [
        "second_2d"
      ],
      "metadata": {
        "colab": {
          "base_uri": "https://localhost:8080/"
        },
        "id": "JMaFi5qNWLuD",
        "outputId": "20d8f9c9-9650-4156-e42c-7d495c6989a7"
      },
      "execution_count": 56,
      "outputs": [
        {
          "output_type": "execute_result",
          "data": {
            "text/plain": [
              "array([[100, 101, 102],\n",
              "       [103, 104, 105],\n",
              "       [106, 107, 108],\n",
              "       [109, 110, 111]])"
            ]
          },
          "metadata": {},
          "execution_count": 56
        }
      ]
    },
    {
      "cell_type": "code",
      "source": [
        "#Lets create another empty 3D array to the \n",
        "threeD = np.zeros((3,4,5))\n",
        "threeD #We this is an empty 3D array of 4 rows and 5 colums "
      ],
      "metadata": {
        "colab": {
          "base_uri": "https://localhost:8080/"
        },
        "id": "nw3tt87HWO5h",
        "outputId": "266db786-f1d8-4860-d19b-9d2efbb1df27"
      },
      "execution_count": 70,
      "outputs": [
        {
          "output_type": "execute_result",
          "data": {
            "text/plain": [
              "array([[[0., 0., 0., 0., 0.],\n",
              "        [0., 0., 0., 0., 0.],\n",
              "        [0., 0., 0., 0., 0.],\n",
              "        [0., 0., 0., 0., 0.]],\n",
              "\n",
              "       [[0., 0., 0., 0., 0.],\n",
              "        [0., 0., 0., 0., 0.],\n",
              "        [0., 0., 0., 0., 0.],\n",
              "        [0., 0., 0., 0., 0.]],\n",
              "\n",
              "       [[0., 0., 0., 0., 0.],\n",
              "        [0., 0., 0., 0., 0.],\n",
              "        [0., 0., 0., 0., 0.],\n",
              "        [0., 0., 0., 0., 0.]]])"
            ]
          },
          "metadata": {},
          "execution_count": 70
        }
      ]
    },
    {
      "cell_type": "code",
      "source": [
        "#Transpose the 3D array we just created\n",
        "threeD_transpose = threeD.T\n",
        "threeD_transpose\n",
        "#The array becomes a 5 dimensional array  of 4 rows and 3 columns in  each plane/channel"
      ],
      "metadata": {
        "colab": {
          "base_uri": "https://localhost:8080/"
        },
        "id": "5qZRTwPxXn0y",
        "outputId": "a4b54a1f-80cc-468c-f6a9-44ca48241812"
      },
      "execution_count": 76,
      "outputs": [
        {
          "output_type": "execute_result",
          "data": {
            "text/plain": [
              "array([[[0., 0., 0.],\n",
              "        [0., 0., 0.],\n",
              "        [0., 0., 0.],\n",
              "        [0., 0., 0.]],\n",
              "\n",
              "       [[0., 0., 0.],\n",
              "        [0., 0., 0.],\n",
              "        [0., 0., 0.],\n",
              "        [0., 0., 0.]],\n",
              "\n",
              "       [[0., 0., 0.],\n",
              "        [0., 0., 0.],\n",
              "        [0., 0., 0.],\n",
              "        [0., 0., 0.]],\n",
              "\n",
              "       [[0., 0., 0.],\n",
              "        [0., 0., 0.],\n",
              "        [0., 0., 0.],\n",
              "        [0., 0., 0.]],\n",
              "\n",
              "       [[0., 0., 0.],\n",
              "        [0., 0., 0.],\n",
              "        [0., 0., 0.],\n",
              "        [0., 0., 0.]]])"
            ]
          },
          "metadata": {},
          "execution_count": 76
        }
      ]
    },
    {
      "cell_type": "code",
      "source": [
        "threeD_transpose.shape"
      ],
      "metadata": {
        "colab": {
          "base_uri": "https://localhost:8080/"
        },
        "id": "UWYykA1sX6Zg",
        "outputId": "1b433e66-5fc3-450b-fa91-d266373b021b"
      },
      "execution_count": 74,
      "outputs": [
        {
          "output_type": "execute_result",
          "data": {
            "text/plain": [
              "(5, 4, 3)"
            ]
          },
          "metadata": {},
          "execution_count": 74
        }
      ]
    },
    {
      "cell_type": "code",
      "source": [
        "into_3d"
      ],
      "metadata": {
        "colab": {
          "base_uri": "https://localhost:8080/"
        },
        "id": "oqUIT7TPX9Ky",
        "outputId": "b8c92551-9a47-4d4c-d475-c119b3c90a7e"
      },
      "execution_count": 77,
      "outputs": [
        {
          "output_type": "execute_result",
          "data": {
            "text/plain": [
              "array([[[ 10., 100.],\n",
              "        [ 11., 101.],\n",
              "        [ 12., 102.]],\n",
              "\n",
              "       [[ 13., 103.],\n",
              "        [ 14., 104.],\n",
              "        [ 15., 105.]],\n",
              "\n",
              "       [[ 16., 106.],\n",
              "        [ 17., 107.],\n",
              "        [ 18., 108.]],\n",
              "\n",
              "       [[ 19., 109.],\n",
              "        [ 20., 110.],\n",
              "        [ 21., 111.]]])"
            ]
          },
          "metadata": {},
          "execution_count": 77
        }
      ]
    },
    {
      "cell_type": "code",
      "source": [
        "#Slicing a three Dimension array \n",
        "into_3d[0,:,:] #Here we get the first row , all columns and planes"
      ],
      "metadata": {
        "colab": {
          "base_uri": "https://localhost:8080/"
        },
        "id": "YIyXJrSOZgRB",
        "outputId": "4ae230d1-6feb-456f-806b-4b0eff750cb2"
      },
      "execution_count": 78,
      "outputs": [
        {
          "output_type": "execute_result",
          "data": {
            "text/plain": [
              "array([[ 10., 100.],\n",
              "       [ 11., 101.],\n",
              "       [ 12., 102.]])"
            ]
          },
          "metadata": {},
          "execution_count": 78
        }
      ]
    },
    {
      "cell_type": "code",
      "source": [
        "into_3d[:,:,0]#All rows and all columns of the first plane"
      ],
      "metadata": {
        "colab": {
          "base_uri": "https://localhost:8080/"
        },
        "id": "0Kz9fh6AZ-X1",
        "outputId": "49f31fa4-f6e2-4bd0-ba80-2fa3a2b88ffb"
      },
      "execution_count": 80,
      "outputs": [
        {
          "output_type": "execute_result",
          "data": {
            "text/plain": [
              "array([[10., 11., 12.],\n",
              "       [13., 14., 15.],\n",
              "       [16., 17., 18.],\n",
              "       [19., 20., 21.]])"
            ]
          },
          "metadata": {},
          "execution_count": 80
        }
      ]
    },
    {
      "cell_type": "code",
      "source": [
        "into_3d[1,:,:] #second rows, second column all planes"
      ],
      "metadata": {
        "id": "4JmiJi4eaIVU"
      },
      "execution_count": null,
      "outputs": []
    },
    {
      "cell_type": "code",
      "source": [
        "empty3d_array = np.zeros((3,4,5)) #We just created a 3d array of 4 rows and 5 columns"
      ],
      "metadata": {
        "id": "VAztRE1yaCtR"
      },
      "execution_count": 82,
      "outputs": []
    },
    {
      "cell_type": "code",
      "source": [
        "empty3d_array #The array is empty"
      ],
      "metadata": {
        "colab": {
          "base_uri": "https://localhost:8080/"
        },
        "id": "F9zPZe61ay8n",
        "outputId": "bd976308-7c8f-4774-d749-d28a64463fd8"
      },
      "execution_count": 84,
      "outputs": [
        {
          "output_type": "execute_result",
          "data": {
            "text/plain": [
              "array([[[0., 0., 0., 0., 0.],\n",
              "        [0., 0., 0., 0., 0.],\n",
              "        [0., 0., 0., 0., 0.],\n",
              "        [0., 0., 0., 0., 0.]],\n",
              "\n",
              "       [[0., 0., 0., 0., 0.],\n",
              "        [0., 0., 0., 0., 0.],\n",
              "        [0., 0., 0., 0., 0.],\n",
              "        [0., 0., 0., 0., 0.]],\n",
              "\n",
              "       [[0., 0., 0., 0., 0.],\n",
              "        [0., 0., 0., 0., 0.],\n",
              "        [0., 0., 0., 0., 0.],\n",
              "        [0., 0., 0., 0., 0.]]])"
            ]
          },
          "metadata": {},
          "execution_count": 84
        }
      ]
    },
    {
      "cell_type": "code",
      "source": [
        "#To create a 2d array we  create a 1d array  and reshape it to a 2d array \n",
        "first_array = np.arange(10,22)\n",
        "first_array #This is a 1d array (Vector)\n",
        "#We reshape the vector into 2d \n",
        "first_twoD = np.reshape(first_array,(3,4))\n",
        "first_twoD \n",
        "#To create a second two dimensional array we create a one dimensional array (a vector) \n",
        "second_array = np.arange(10,22)\n",
        "second_twoD = np.reshape(second_array,(3,4)) \n",
        "second_twoD"
      ],
      "metadata": {
        "colab": {
          "base_uri": "https://localhost:8080/"
        },
        "id": "oQVAYbWma6EQ",
        "outputId": "c4394bd9-ddfc-428d-d337-50c4c8ee8187"
      },
      "execution_count": 102,
      "outputs": [
        {
          "output_type": "execute_result",
          "data": {
            "text/plain": [
              "array([[10, 11, 12, 13],\n",
              "       [14, 15, 16, 17],\n",
              "       [18, 19, 20, 21]])"
            ]
          },
          "metadata": {},
          "execution_count": 102
        }
      ]
    },
    {
      "cell_type": "code",
      "source": [
        "#We now attach the 2d arrays we created into the planes of the empty array we created earlier\n",
        "empty3d_array[:,:,1]  = first_twoD #We broadcast/ attach the first 2D array to the first channel of the 3D array\n",
        "#We broadcast/attach the second 2D array to the second plane of our 3d array"
      ],
      "metadata": {
        "id": "7FTM8rIIXO2J"
      },
      "execution_count": 104,
      "outputs": []
    },
    {
      "cell_type": "code",
      "source": [
        "empty3d_array"
      ],
      "metadata": {
        "colab": {
          "base_uri": "https://localhost:8080/"
        },
        "id": "34oIoPyAgR_R",
        "outputId": "8669d465-33dc-4e18-9c60-a03b1a1e1afd"
      },
      "execution_count": 105,
      "outputs": [
        {
          "output_type": "execute_result",
          "data": {
            "text/plain": [
              "array([[[10., 10.,  0.,  0.,  0.],\n",
              "        [11., 11.,  0.,  0.,  0.],\n",
              "        [12., 12.,  0.,  0.,  0.],\n",
              "        [13., 13.,  0.,  0.,  0.]],\n",
              "\n",
              "       [[14., 14.,  0.,  0.,  0.],\n",
              "        [15., 15.,  0.,  0.,  0.],\n",
              "        [16., 16.,  0.,  0.,  0.],\n",
              "        [17., 17.,  0.,  0.,  0.]],\n",
              "\n",
              "       [[18., 18.,  0.,  0.,  0.],\n",
              "        [19., 19.,  0.,  0.,  0.],\n",
              "        [20., 20.,  0.,  0.,  0.],\n",
              "        [21., 21.,  0.,  0.,  0.]]])"
            ]
          },
          "metadata": {},
          "execution_count": 105
        }
      ]
    },
    {
      "cell_type": "code",
      "source": [
        "#We get the first row and columns of all planes \n",
        "empty3d_array[0,:,:]"
      ],
      "metadata": {
        "colab": {
          "base_uri": "https://localhost:8080/"
        },
        "id": "ZxroI1A9gUv1",
        "outputId": "e6a161ba-39b9-483b-9d98-b16cbf81f23c"
      },
      "execution_count": 110,
      "outputs": [
        {
          "output_type": "execute_result",
          "data": {
            "text/plain": [
              "array([[10., 10.,  0.,  0.,  0.],\n",
              "       [11., 11.,  0.,  0.,  0.],\n",
              "       [12., 12.,  0.,  0.,  0.],\n",
              "       [13., 13.,  0.,  0.,  0.]])"
            ]
          },
          "metadata": {},
          "execution_count": 110
        }
      ]
    },
    {
      "cell_type": "code",
      "source": [
        "#Second row all columns of all planes\n",
        "empty3d_array[1,:,:] #Second row all columns and all planes "
      ],
      "metadata": {
        "colab": {
          "base_uri": "https://localhost:8080/"
        },
        "id": "WsgmVvBGgw4f",
        "outputId": "04905f40-7d59-4d28-f65c-3f84b8511be2"
      },
      "execution_count": 112,
      "outputs": [
        {
          "output_type": "execute_result",
          "data": {
            "text/plain": [
              "array([[14., 14.,  0.,  0.,  0.],\n",
              "       [15., 15.,  0.,  0.,  0.],\n",
              "       [16., 16.,  0.,  0.,  0.],\n",
              "       [17., 17.,  0.,  0.,  0.]])"
            ]
          },
          "metadata": {},
          "execution_count": 112
        }
      ]
    },
    {
      "cell_type": "code",
      "source": [
        "#Third row all columns and all planes\n",
        "empty3d_array[2,:,:]"
      ],
      "metadata": {
        "colab": {
          "base_uri": "https://localhost:8080/"
        },
        "id": "UHhy_SljhN2b",
        "outputId": "eec2f5d0-013a-4cc7-e1a8-fdafd5c38fd9"
      },
      "execution_count": 113,
      "outputs": [
        {
          "output_type": "execute_result",
          "data": {
            "text/plain": [
              "array([[18., 18.,  0.,  0.,  0.],\n",
              "       [19., 19.,  0.,  0.,  0.],\n",
              "       [20., 20.,  0.,  0.,  0.],\n",
              "       [21., 21.,  0.,  0.,  0.]])"
            ]
          },
          "metadata": {},
          "execution_count": 113
        }
      ]
    },
    {
      "cell_type": "code",
      "source": [
        "#We create the first 2D array\n",
        "new_first = np.arange(10,22) #This is a vector that will be used to create a 2D array\n",
        "new_first_2d = np.reshape(new_first,(4,3))\n",
        "\n",
        "#Create a second array \n",
        "new_second_array = np.arange(10,22)\n",
        "new_second_2d = np.reshape(new_second_array,(4,3))\n",
        "\n",
        "#Create a 3D array\n",
        "threes_3d = np.zeros((4,3,5))\n",
        "\n",
        "#We broadcast/pass the elements of the 2D array  into the first plane of the  3D array\n",
        "threes_3d[:,:,0] = new_first_2d\n",
        "threes_3d\n",
        "#We broadcast/pass the elements of the second 2d array into the 2nd plane of the 3d array\n",
        "threes_3d[:,:,1] = new_first_2d\n",
        "threes_3d"
      ],
      "metadata": {
        "colab": {
          "base_uri": "https://localhost:8080/"
        },
        "id": "MGJTw2aRhNy-",
        "outputId": "2c846799-582f-485e-adad-c46407856fbc"
      },
      "execution_count": 129,
      "outputs": [
        {
          "output_type": "execute_result",
          "data": {
            "text/plain": [
              "array([[[10., 10.,  0.,  0.,  0.],\n",
              "        [11., 11.,  0.,  0.,  0.],\n",
              "        [12., 12.,  0.,  0.,  0.]],\n",
              "\n",
              "       [[13., 13.,  0.,  0.,  0.],\n",
              "        [14., 14.,  0.,  0.,  0.],\n",
              "        [15., 15.,  0.,  0.,  0.]],\n",
              "\n",
              "       [[16., 16.,  0.,  0.,  0.],\n",
              "        [17., 17.,  0.,  0.,  0.],\n",
              "        [18., 18.,  0.,  0.,  0.]],\n",
              "\n",
              "       [[19., 19.,  0.,  0.,  0.],\n",
              "        [20., 20.,  0.,  0.,  0.],\n",
              "        [21., 21.,  0.,  0.,  0.]]])"
            ]
          },
          "metadata": {},
          "execution_count": 129
        }
      ]
    }
  ]
}