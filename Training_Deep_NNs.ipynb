{
  "nbformat": 4,
  "nbformat_minor": 0,
  "metadata": {
    "colab": {
      "name": "Training Deep NNs.ipynb",
      "provenance": [],
      "collapsed_sections": [],
      "authorship_tag": "ABX9TyNaNcDjdgPzaxRyL7e/dHOZ",
      "include_colab_link": true
    },
    "kernelspec": {
      "name": "python3",
      "display_name": "Python 3"
    },
    "language_info": {
      "name": "python"
    }
  },
  "cells": [
    {
      "cell_type": "markdown",
      "metadata": {
        "id": "view-in-github",
        "colab_type": "text"
      },
      "source": [
        "<a href=\"https://colab.research.google.com/github/Reptilefury/coursera-machine-learning/blob/main/Training_Deep_NNs.ipynb\" target=\"_parent\"><img src=\"https://colab.research.google.com/assets/colab-badge.svg\" alt=\"Open In Colab\"/></a>"
      ]
    },
    {
      "cell_type": "code",
      "execution_count": 118,
      "metadata": {
        "id": "uSOF_1yqnari"
      },
      "outputs": [],
      "source": [
        "import matplotlib.pyplot as plt"
      ]
    },
    {
      "cell_type": "code",
      "source": [
        "import os"
      ],
      "metadata": {
        "id": "GOl58q-btExy"
      },
      "execution_count": 119,
      "outputs": []
    },
    {
      "cell_type": "code",
      "source": [
        "import re"
      ],
      "metadata": {
        "id": "pLbFutL3tJqY"
      },
      "execution_count": 120,
      "outputs": []
    },
    {
      "cell_type": "code",
      "source": [
        "import shutil"
      ],
      "metadata": {
        "id": "SVYjGOtbtK1k"
      },
      "execution_count": 121,
      "outputs": []
    },
    {
      "cell_type": "code",
      "source": [
        "import string"
      ],
      "metadata": {
        "id": "yC3K8J4ZtNoc"
      },
      "execution_count": 122,
      "outputs": []
    },
    {
      "cell_type": "code",
      "source": [
        "import tensorflow as tf\n"
      ],
      "metadata": {
        "id": "MzkH_kKStQMq"
      },
      "execution_count": 123,
      "outputs": []
    },
    {
      "cell_type": "code",
      "source": [
        "from tensorflow.keras import layers"
      ],
      "metadata": {
        "id": "oITOkBP5tU-H"
      },
      "execution_count": 124,
      "outputs": []
    },
    {
      "cell_type": "code",
      "source": [
        "from tensorflow.keras import losses"
      ],
      "metadata": {
        "id": "REi4dpDYtaLs"
      },
      "execution_count": 125,
      "outputs": []
    },
    {
      "cell_type": "code",
      "source": [
        "print(\"Version\", tf.__version__)"
      ],
      "metadata": {
        "colab": {
          "base_uri": "https://localhost:8080/"
        },
        "id": "4iFLoDR8tctI",
        "outputId": "64744739-d424-46fd-cf56-858e24593fc7"
      },
      "execution_count": 126,
      "outputs": [
        {
          "output_type": "stream",
          "name": "stdout",
          "text": [
            "Version 2.8.0\n"
          ]
        }
      ]
    },
    {
      "cell_type": "code",
      "source": [
        "fashionmnist = tf.keras.datasets.fashion_mnist"
      ],
      "metadata": {
        "id": "HGP-SgfzzFMb"
      },
      "execution_count": 127,
      "outputs": []
    },
    {
      "cell_type": "code",
      "source": [
        "(train_images, train_labels),(test_images, test_labels) = fashionmnist.load_data()"
      ],
      "metadata": {
        "colab": {
          "base_uri": "https://localhost:8080/"
        },
        "id": "SEgrQS0ckr0P",
        "outputId": "a7d4f027-dfa9-456a-de76-9e7ed2040810"
      },
      "execution_count": 128,
      "outputs": [
        {
          "output_type": "stream",
          "name": "stdout",
          "text": [
            "Downloading data from https://storage.googleapis.com/tensorflow/tf-keras-datasets/train-labels-idx1-ubyte.gz\n",
            "32768/29515 [=================================] - 0s 0us/step\n",
            "40960/29515 [=========================================] - 0s 0us/step\n",
            "Downloading data from https://storage.googleapis.com/tensorflow/tf-keras-datasets/train-images-idx3-ubyte.gz\n",
            "26427392/26421880 [==============================] - 0s 0us/step\n",
            "26435584/26421880 [==============================] - 0s 0us/step\n",
            "Downloading data from https://storage.googleapis.com/tensorflow/tf-keras-datasets/t10k-labels-idx1-ubyte.gz\n",
            "16384/5148 [===============================================================================================] - 0s 0us/step\n",
            "Downloading data from https://storage.googleapis.com/tensorflow/tf-keras-datasets/t10k-images-idx3-ubyte.gz\n",
            "4423680/4422102 [==============================] - 0s 0us/step\n",
            "4431872/4422102 [==============================] - 0s 0us/step\n"
          ]
        }
      ]
    },
    {
      "cell_type": "code",
      "source": [
        "tf.keras.layers.Dense(10 , activation=\"relu\", kernel_initializer=\"he_normal\")"
      ],
      "metadata": {
        "colab": {
          "base_uri": "https://localhost:8080/"
        },
        "id": "DOXxOfsek8AR",
        "outputId": "65919c4e-5dc9-4555-8e6c-b378f79462b1"
      },
      "execution_count": 129,
      "outputs": [
        {
          "output_type": "execute_result",
          "data": {
            "text/plain": [
              "<keras.layers.core.dense.Dense at 0x7fe8c0433290>"
            ]
          },
          "metadata": {},
          "execution_count": 129
        }
      ]
    },
    {
      "cell_type": "code",
      "source": [
        "he_avg_init = tf.keras.initializers.VarianceScaling(scale=2.,mode=\"fan_avg\",distribution=\"uniform\")\n",
        "tf.keras.layers.Dense(10, activation=\"sigmoid\",kernel_initializer= he_avg_init)"
      ],
      "metadata": {
        "colab": {
          "base_uri": "https://localhost:8080/"
        },
        "id": "gcyC84hEtQ6d",
        "outputId": "cdb5e03a-5c21-4ad1-b961-95766129592c"
      },
      "execution_count": 130,
      "outputs": [
        {
          "output_type": "execute_result",
          "data": {
            "text/plain": [
              "<keras.layers.core.dense.Dense at 0x7fe8c04432d0>"
            ]
          },
          "metadata": {},
          "execution_count": 130
        }
      ]
    },
    {
      "cell_type": "code",
      "source": [
        "leaky_relu = tf.keras.layers.LeakyReLU(alpha=0.2)\n",
        "tf.keras.layers.Dense(10, activation=leaky_relu, kernel_initializer=\"he_normal\")"
      ],
      "metadata": {
        "colab": {
          "base_uri": "https://localhost:8080/"
        },
        "id": "zmgJBZnrvKtT",
        "outputId": "6488400f-b967-4c98-e5ed-753525392a88"
      },
      "execution_count": 131,
      "outputs": [
        {
          "output_type": "execute_result",
          "data": {
            "text/plain": [
              "<keras.layers.core.dense.Dense at 0x7fe8c044b090>"
            ]
          },
          "metadata": {},
          "execution_count": 131
        }
      ]
    },
    {
      "cell_type": "code",
      "source": [
        "#To use the PRelu  parametric leaky relu \n",
        "plrelu = tf.keras.layers.PReLU()"
      ],
      "metadata": {
        "id": "RdAayjLb0B0T"
      },
      "execution_count": 132,
      "outputs": []
    },
    {
      "cell_type": "code",
      "source": [
        "#To use the self normalizing linear unit \n",
        "tf.keras.layers.Dense(10, activation=\"selu\", kernel_initializer=\"lecun_normal\")"
      ],
      "metadata": {
        "colab": {
          "base_uri": "https://localhost:8080/"
        },
        "id": "EHi6HHN2042M",
        "outputId": "d92e7515-ed0a-401c-87c9-ecc620ab7cd3"
      },
      "execution_count": 133,
      "outputs": [
        {
          "output_type": "execute_result",
          "data": {
            "text/plain": [
              "<keras.layers.core.dense.Dense at 0x7fe8c04404d0>"
            ]
          },
          "metadata": {},
          "execution_count": 133
        }
      ]
    },
    {
      "cell_type": "code",
      "source": [
        "model = tf.keras.models.Sequential([\n",
        "        tf.keras.layers.Flatten(input_shape=[28,28]),\n",
        "        tf.keras.layers.BatchNormalization(),\n",
        "        tf.keras.layers.Dense(300, activation=\"elu\", kernel_initializer=\"he_normal\"),\n",
        "        tf.keras.layers.BatchNormalization(),\n",
        "        tf.keras.layers.Dense(100, activation=\"elu\", kernel_initializer=\"he_normal\"),\n",
        "        tf.keras.layers.BatchNormalization(),\n",
        "        tf.keras.layers.Dense(10, activation=\"softmax\")\n",
        "])"
      ],
      "metadata": {
        "id": "By5nD8BB1SXV"
      },
      "execution_count": 134,
      "outputs": []
    },
    {
      "cell_type": "code",
      "source": [
        "model.summary()"
      ],
      "metadata": {
        "colab": {
          "base_uri": "https://localhost:8080/"
        },
        "id": "Xaw6bAlo9Y-b",
        "outputId": "41f6dbf4-efbb-47e8-983f-21d28795f225"
      },
      "execution_count": 135,
      "outputs": [
        {
          "output_type": "stream",
          "name": "stdout",
          "text": [
            "Model: \"sequential_21\"\n",
            "_________________________________________________________________\n",
            " Layer (type)                Output Shape              Param #   \n",
            "=================================================================\n",
            " flatten_15 (Flatten)        (None, 784)               0         \n",
            "                                                                 \n",
            " batch_normalization_37 (Bat  (None, 784)              3136      \n",
            " chNormalization)                                                \n",
            "                                                                 \n",
            " dense_23 (Dense)            (None, 300)               235500    \n",
            "                                                                 \n",
            " batch_normalization_38 (Bat  (None, 300)              1200      \n",
            " chNormalization)                                                \n",
            "                                                                 \n",
            " dense_24 (Dense)            (None, 100)               30100     \n",
            "                                                                 \n",
            " batch_normalization_39 (Bat  (None, 100)              400       \n",
            " chNormalization)                                                \n",
            "                                                                 \n",
            " dense_25 (Dense)            (None, 10)                1010      \n",
            "                                                                 \n",
            "=================================================================\n",
            "Total params: 271,346\n",
            "Trainable params: 268,978\n",
            "Non-trainable params: 2,368\n",
            "_________________________________________________________________\n"
          ]
        }
      ]
    },
    {
      "cell_type": "code",
      "source": [
        "[(var.name, var.trainable) for var in model.layers[1].variables]"
      ],
      "metadata": {
        "colab": {
          "base_uri": "https://localhost:8080/"
        },
        "id": "5DEFY7X_9tPt",
        "outputId": "faa57576-4a7e-4caf-9e30-32ceca444733"
      },
      "execution_count": 136,
      "outputs": [
        {
          "output_type": "execute_result",
          "data": {
            "text/plain": [
              "[('batch_normalization_37/gamma:0', True),\n",
              " ('batch_normalization_37/beta:0', True),\n",
              " ('batch_normalization_37/moving_mean:0', False),\n",
              " ('batch_normalization_37/moving_variance:0', False)]"
            ]
          },
          "metadata": {},
          "execution_count": 136
        }
      ]
    },
    {
      "cell_type": "code",
      "source": [
        "model.layers[1].updates"
      ],
      "metadata": {
        "colab": {
          "base_uri": "https://localhost:8080/"
        },
        "id": "kbq-kmil-YRT",
        "outputId": "016c2195-3742-479f-b994-66affa5ff50a"
      },
      "execution_count": 137,
      "outputs": [
        {
          "output_type": "stream",
          "name": "stderr",
          "text": [
            "/usr/local/lib/python3.7/dist-packages/ipykernel_launcher.py:1: UserWarning: `layer.updates` will be removed in a future version. This property should not be used in TensorFlow 2.0, as `updates` are applied automatically.\n",
            "  \"\"\"Entry point for launching an IPython kernel.\n"
          ]
        },
        {
          "output_type": "execute_result",
          "data": {
            "text/plain": [
              "[]"
            ]
          },
          "metadata": {},
          "execution_count": 137
        }
      ]
    },
    {
      "cell_type": "code",
      "source": [
        "model2 = tf.keras.models.Sequential([\n",
        "tf.keras.layers.Flatten(input_shape=(28,28)),\n",
        "tf.keras.layers.BatchNormalization(),#Batch normalization is used to prevent vanishing and exploding gradients\n",
        "tf.keras.layers.Dense(300, kernel_initializer=\"he_normal\"), #Weight initialization techniques are also used to prevent vanishing and exploding gradients\n",
        "tf.keras.layers.BatchNormalization(), \n",
        "tf.keras.layers.Activation(\"elu\"), #Different variants of activation functions are also used to prevent vanishing and exploding gradients\n",
        "tf.keras.layers.Dense(100, kernel_initializer=\"he_normal\"),\n",
        "tf.keras.layers.Activation(\"elu\"),\n",
        "tf.keras.layers.BatchNormalization(),\n",
        "tf.keras.layers.Dense(10, activation=\"softmax\")\n",
        "])"
      ],
      "metadata": {
        "id": "eeGMeYYb_Bbv"
      },
      "execution_count": null,
      "outputs": []
    },
    {
      "cell_type": "code",
      "source": [
        ""
      ],
      "metadata": {
        "id": "QoTH1HLhr4SJ"
      },
      "execution_count": null,
      "outputs": []
    },
    {
      "cell_type": "code",
      "source": [
        "#Saving the model \n",
        "\n",
        "#Imports\n",
        "!pip install pyyaml h5py\n",
        "import os\n",
        "import tensorflow as tf\n",
        "from tensorflow import keras"
      ],
      "metadata": {
        "id": "pjfnIPKwB0em"
      },
      "execution_count": null,
      "outputs": []
    },
    {
      "cell_type": "code",
      "source": [
        "#Load the model and split\n",
        "(train_images, train_labels), (test_images, test_labels) = tf.keras.datasets.mnist.load_data()"
      ],
      "metadata": {
        "id": "1ZHNJuidG_6j"
      },
      "execution_count": null,
      "outputs": []
    },
    {
      "cell_type": "code",
      "source": [
        "train_labels = train_labels[:1000]\n",
        "test_labels = test_labels[:1000]"
      ],
      "metadata": {
        "id": "Ghbcm1vbHa5Q"
      },
      "execution_count": null,
      "outputs": []
    },
    {
      "cell_type": "code",
      "source": [
        "train_images = train_images[:1000].reshape(-1, 28,28) #We take 1000 images from the training set and put them int a vector of 28 * 28 rows one colum\n",
        "train_images = train_images/255.0 #We turn our input features into floating points between 0 and 1 this is called normalization"
      ],
      "metadata": {
        "id": "ZbGuNoAiHhwW"
      },
      "execution_count": null,
      "outputs": []
    },
    {
      "cell_type": "code",
      "source": [
        "test_images = test_images[:1000].reshape(-1,28,28) /255.0"
      ],
      "metadata": {
        "id": "M0jhyDIRIM1X"
      },
      "execution_count": null,
      "outputs": []
    },
    {
      "cell_type": "code",
      "source": [
        "model = tf.keras.models.Sequential([\n",
        "  tf.keras.layers.Flatten(input_shape=(28,28)),\n",
        "  tf.keras.layers.BatchNormalization(), #Included batch norm before and after every hidden layer to prevent vanishing and exploding gradients \n",
        "  #Batch norm invloves zero centering and normalizing the inputs\n",
        "  tf.keras.layers.Dense(300, activation=\"elu\", kernel_initializer=\"he_normal\"),\n",
        "  tf.keras.layers.BatchNormalization(),\n",
        "  tf.keras.layers.Dense(100, activation=\"elu\",kernel_initializer=\"he_normal\"),\n",
        "  tf.keras.layers.BatchNormalization(),\n",
        "  tf.keras.layers.Dense(10, activation=\"softmax\")\n",
        "  ])"
      ],
      "metadata": {
        "id": "yiallImTIloE"
      },
      "execution_count": null,
      "outputs": []
    },
    {
      "cell_type": "code",
      "source": [
        "model.summary()"
      ],
      "metadata": {
        "id": "Kia55-RD6fLq"
      },
      "execution_count": null,
      "outputs": []
    },
    {
      "cell_type": "code",
      "source": [
        "[(var.name, var.trainable) for var in model.layers[1].variables]"
      ],
      "metadata": {
        "id": "vDrqzPNB7Vee"
      },
      "execution_count": null,
      "outputs": []
    },
    {
      "cell_type": "code",
      "source": [
        "#Using batch normalization just after the hidden layers\n",
        "model = tf.keras.models.Sequential([\n",
        "  tf.keras.layers.Flatten(input_shape=(28,28)),\n",
        "  tf.keras.layers.Dense(300,kernel_initializer=\"he_normal\"),\n",
        "  tf.keras.layers.BatchNormalization(),\n",
        "  tf.keras.layers.Activation(\"elu\"),\n",
        "  tf.keras.layers.Dense(100, kernel_initializer=\"he_normal\"),\n",
        "  tf.keras.layers.Activation(\"elu\"),\n",
        "  tf.keras.layers.BatchNormalization(),\n",
        "  tf.keras.layers.Dense(10,activation=\"softmax\")\n",
        "  ]) #This is how we use batch normalization after every hidden layer in our neural network"
      ],
      "metadata": {
        "id": "evz3viT9796-"
      },
      "execution_count": null,
      "outputs": []
    },
    {
      "cell_type": "code",
      "source": [
        ""
      ],
      "metadata": {
        "id": "OxKzvJ28rxFS"
      },
      "execution_count": null,
      "outputs": []
    },
    {
      "cell_type": "code",
      "source": [
        "#Implementing gradient clipping in tensorflow\n",
        "tf.keras.optimizers.SGD(clipvalue=1.0)#This will clip the value to be in between -1 and 1"
      ],
      "metadata": {
        "id": "JHTmEv5_--Pn"
      },
      "execution_count": null,
      "outputs": []
    },
    {
      "cell_type": "code",
      "source": [
        "model.save(\"myModel.h5\")"
      ],
      "metadata": {
        "id": "HRXhy9vyGnMK"
      },
      "execution_count": null,
      "outputs": []
    },
    {
      "cell_type": "code",
      "source": [
        "#Transfer learning with keras.\n",
        "#We load the model \n",
        "model_A = tf.keras.models.load_model(\"myModel.h5\")\n",
        "model_B_on_A = tf.keras.models.Sequential(model_A.layers[:-1])\n",
        "model_B_on_A.add(tf.keras.layers.Dense(1,activation=\"sigmoid\"))\n",
        "#These two models share the same layers and parameters so when you train the new model, the original model will be affected"
      ],
      "metadata": {
        "id": "ysh5Q3s0NCFq"
      },
      "execution_count": null,
      "outputs": []
    },
    {
      "cell_type": "code",
      "source": [
        "#We clone the model and copy its parameters\n",
        "model_A_clone = tf.keras.models.clone_model(model_A) #We clone the layers of the original model\n",
        "model_A_clone = model_A_clone.set_weights(model_A.get_weights()) #We copy the parameters of the first model and apply them to the clone of the  original model\n",
        "#By doing so the parameter of the original model won't be affected by gradient descent."
      ],
      "metadata": {
        "id": "vLZCstpMPCLF"
      },
      "execution_count": null,
      "outputs": []
    },
    {
      "cell_type": "code",
      "source": [
        "#We have to freeze the cloned model's higher level layers to prevent the model from making huge errors \n",
        "#We freeze the layers by setting the trainable parameters to false of a specific layer\n",
        "\n",
        "for layer in model_A.layers[:-1]:\n",
        "  layer.trainable = False"
      ],
      "metadata": {
        "id": "b_7ogMCiQu9X"
      },
      "execution_count": null,
      "outputs": []
    },
    {
      "cell_type": "code",
      "source": [
        "model = tf.keras.models.Sequential([\n",
        "tf.keras.layers.Flatten(input_shape=(28,28)),\n",
        "tf.keras.layers.BatchNormalization(),\n",
        "tf.keras.layers.Activation(\"elu\"),\n",
        "tf.keras.layers.Dense(100, kernel_initializer=\"he_normal\"),\n",
        "tf.keras.layers.Activation(\"elu\"),\n",
        "tf.keras.layers.BatchNormalization(),\n",
        "tf.keras.layers.Dense(10, activation=\"softmax\")\n",
        "])"
      ],
      "metadata": {
        "id": "WmtraqQlThVv"
      },
      "execution_count": null,
      "outputs": []
    },
    {
      "cell_type": "code",
      "source": [
        "model = model.save(\"MyModel.H5\")"
      ],
      "metadata": {
        "id": "AnqRG1s-aT9S"
      },
      "execution_count": null,
      "outputs": []
    },
    {
      "cell_type": "code",
      "source": [
        "#Load the model \n",
        "model_A = tf.keras.models.load_model(\"MyModel.H5\")"
      ],
      "metadata": {
        "id": "xe_43NvkcPff"
      },
      "execution_count": null,
      "outputs": []
    },
    {
      "cell_type": "code",
      "source": [
        "model_A_on_B = tf.keras.models.Sequential(model_A.layers[:-1]) #We remove the output layer and add our own "
      ],
      "metadata": {
        "id": "iDJLTRXwdCWI"
      },
      "execution_count": null,
      "outputs": []
    },
    {
      "cell_type": "code",
      "source": [
        "#Transfer learning with keras\n",
        "\n",
        "#Lets create a sequential model\n",
        "model = tf.keras.models.Sequential([\n",
        "tf.keras.layers.Flatten(input_shape=(28,28)),\n",
        "tf.keras.layers.BatchNormalization(),\n",
        "tf.keras.layers.Dense(300,kernel_initializer=\"he_normal\"),\n",
        "tf.keras.layers.Activation(\"elu\"),\n",
        "tf.keras.layers.Dense(100, kernel_initializer=\"he_normal\"),\n",
        "tf.keras.layers.Activation(\"elu\"),\n",
        "tf.keras.layers.BatchNormalization(),\n",
        "tf.keras.layers.Dense(10, activation=\"softmax\")\n",
        "])"
      ],
      "metadata": {
        "id": "IGl2FPOna14d"
      },
      "execution_count": null,
      "outputs": []
    },
    {
      "cell_type": "code",
      "source": [
        ""
      ],
      "metadata": {
        "id": "6OrcFB-Urrbh"
      },
      "execution_count": null,
      "outputs": []
    },
    {
      "cell_type": "code",
      "source": [
        "#Lets save the model \n",
        "model = model.save(\"MyModel.H5\")"
      ],
      "metadata": {
        "id": "aEpJxH0zfqUt"
      },
      "execution_count": null,
      "outputs": []
    },
    {
      "cell_type": "code",
      "source": [
        "#Lets load the model\n",
        "model_A = tf.keras.models.load_model(\"MyModel.H5\")"
      ],
      "metadata": {
        "id": "wAZZZv5rf4vH"
      },
      "execution_count": null,
      "outputs": []
    },
    {
      "cell_type": "code",
      "source": [
        "model_A_on_B = tf.keras.models.Sequential(model_A.layers[:-1]) #We remove the last layer of our model to suit the task  "
      ],
      "metadata": {
        "id": "C-dDjh4-h5ma"
      },
      "execution_count": null,
      "outputs": []
    },
    {
      "cell_type": "code",
      "source": [
        "#We add another layers based on the task we are trying to solve \n",
        "model_A_on_B.add(tf.keras.layers.Dense(1, activation=\"sigmoid\")) #We add a dense layer of 1 neuron and a sigmoid activation function to better suit our task \n"
      ],
      "metadata": {
        "id": "BGOCsxpdiycC"
      },
      "execution_count": null,
      "outputs": []
    },
    {
      "cell_type": "code",
      "source": [
        "#When we train the new model backpropagation will affect model_A  to avoid this we should clone the model \n",
        "model_A_clone = tf.keras.models.clone_model(model_A)\n",
        "model_A_clone.set_weights(model_A.get_weights())"
      ],
      "metadata": {
        "id": "M8SS9mbfjIuP"
      },
      "execution_count": null,
      "outputs": []
    },
    {
      "cell_type": "code",
      "source": [
        "for layer in model_A_clone.layers[:-1]: #We freeze the layers of our model \n",
        "  layer.trainable = False"
      ],
      "metadata": {
        "id": "X-EwhRI6lfEa"
      },
      "execution_count": null,
      "outputs": []
    },
    {
      "cell_type": "code",
      "source": [
        "#We compile the model after we freeze and unfreeze the layers\n",
        "model_A_clone.compile(loss=\"binary_crossentropy\", optimizer=\"SGD\", metrics=[\"accuracy\"])"
      ],
      "metadata": {
        "id": "F60zb79Ynexc"
      },
      "execution_count": null,
      "outputs": []
    },
    {
      "cell_type": "code",
      "source": [
        "#We load the saved model \n",
        "model_A = tf.keras.models.load_model(\"MyModel.H5\")"
      ],
      "metadata": {
        "id": "PoDj6gpbohR7"
      },
      "execution_count": null,
      "outputs": []
    },
    {
      "cell_type": "code",
      "source": [
        "#We remove the last layer(Output layer) of our model since we have a different task \n",
        "model_A_on_B = tf.keras.models.Sequential(model_A.layers[:-1])"
      ],
      "metadata": {
        "id": "Rw6JgG1NpNYa"
      },
      "execution_count": null,
      "outputs": []
    },
    {
      "cell_type": "code",
      "source": [
        "#We add our own output layer\n",
        "model_A_on_B.add(tf.keras.layers.Dense(1,activation=\"softmax\"))"
      ],
      "metadata": {
        "id": "RfVd7GnPTids"
      },
      "execution_count": null,
      "outputs": []
    },
    {
      "cell_type": "code",
      "source": [
        "#Cloning the model\n",
        "model_A_clone = tf.keras.models.clone_model(model_A)\n",
        "#We set the weights \n",
        "model_A_clone.set_weights(model_A.get_weights())"
      ],
      "metadata": {
        "id": "K42WxrP_qcLl"
      },
      "execution_count": null,
      "outputs": []
    },
    {
      "cell_type": "code",
      "source": [
        "#We can also freeze layers in our model\n",
        "for layer in model_A_clone.layers[:-1]:\n",
        "  layer.trainable =False"
      ],
      "metadata": {
        "id": "90Uo-XQYtLdd"
      },
      "execution_count": null,
      "outputs": []
    },
    {
      "cell_type": "code",
      "source": [
        "#After we freeze we compile our model \n",
        "model_A_clone.compile(loss=\"binary_crossentropy\", optimizer=\"sgd\", metrics=[\"Accuracy\"])"
      ],
      "metadata": {
        "id": "fhUOj3ggt6Sm"
      },
      "execution_count": null,
      "outputs": []
    },
    {
      "cell_type": "code",
      "source": [
        "mnist = tf.keras.datasets.mnist"
      ],
      "metadata": {
        "id": "LG9Av5BJuM0f"
      },
      "execution_count": null,
      "outputs": []
    },
    {
      "cell_type": "code",
      "source": [
        "fashionmnist = tf.keras.datasets.fashion_mnist"
      ],
      "metadata": {
        "id": "xkVYXpMAvd0_"
      },
      "execution_count": null,
      "outputs": []
    },
    {
      "cell_type": "code",
      "source": [
        "mnist"
      ],
      "metadata": {
        "id": "Btc3gWq8vtCE"
      },
      "execution_count": null,
      "outputs": []
    },
    {
      "cell_type": "code",
      "source": [
        "(x_train,y_train),(x_test,y_test) = mnist.load_data()"
      ],
      "metadata": {
        "id": "VVGW5MfrwLCm"
      },
      "execution_count": null,
      "outputs": []
    },
    {
      "cell_type": "code",
      "source": [
        "x_train.shape"
      ],
      "metadata": {
        "id": "TMPKCfbM1Gq2"
      },
      "execution_count": null,
      "outputs": []
    },
    {
      "cell_type": "code",
      "source": [
        "x_test.shape"
      ],
      "metadata": {
        "id": "-kD4rat21IPF"
      },
      "execution_count": null,
      "outputs": []
    },
    {
      "cell_type": "code",
      "source": [
        "x_train, x_test = x_train/255.0,x_test/255.0"
      ],
      "metadata": {
        "id": "OE7isDodwovI"
      },
      "execution_count": null,
      "outputs": []
    },
    {
      "cell_type": "code",
      "source": [
        "x_train[0].shape"
      ],
      "metadata": {
        "id": "yBMK3huCz5Qq"
      },
      "execution_count": null,
      "outputs": []
    },
    {
      "cell_type": "code",
      "source": [
        "y_train[0].shape"
      ],
      "metadata": {
        "id": "WvSEg_q4z83v"
      },
      "execution_count": null,
      "outputs": []
    },
    {
      "cell_type": "code",
      "source": [
        "x_train.shape"
      ],
      "metadata": {
        "id": "4KBevSQp0z07"
      },
      "execution_count": null,
      "outputs": []
    },
    {
      "cell_type": "code",
      "source": [
        "#Fashion Mnist\n",
        "(train_images_full, train_labels) ,(test_images_full, test_labels) = fashionmnist.load_data()\n"
      ],
      "metadata": {
        "id": "nMDJ2OhLwyUw"
      },
      "execution_count": null,
      "outputs": []
    },
    {
      "cell_type": "code",
      "source": [
        "\n",
        "train_images = train_images/255.0 \n",
        "test_images = test_images /255.0"
      ],
      "metadata": {
        "id": "Iangq-XQxCao"
      },
      "execution_count": null,
      "outputs": []
    },
    {
      "cell_type": "code",
      "source": [
        "cb =tf.keras.callbacks.EarlyStopping( patience=10, restore_best_weights=True)"
      ],
      "metadata": {
        "id": "coxg65IBzFoC"
      },
      "execution_count": null,
      "outputs": []
    },
    {
      "cell_type": "code",
      "source": [
        "model_A_clone.fit(x_train, y_train, epochs=4)\n",
        "#Fix error"
      ],
      "metadata": {
        "id": "qypjj4DYxaOp"
      },
      "execution_count": null,
      "outputs": []
    },
    {
      "cell_type": "markdown",
      "source": [
        "In transfer learning if the input features of your task don't have the same size like the one of the original model then you have to add a preprocessing step to resize the size of your images to be closer to the one of the original task. The output layer of the original model should always be replaced since they might not have the intented number of output as the original task. The upper hidden layers are less likely to be useful as the lower hidden layers since the task might differ significantly from the ones that were most useful."
      ],
      "metadata": {
        "id": "JIzo5V1rdghK"
      }
    },
    {
      "cell_type": "code",
      "source": [
        "model = tf.keras.models.Sequential([\n",
        "tf.keras.layers.Flatten(input_shape=[28,28]),\n",
        "tf.keras.layers.BatchNormalization(),\n",
        "tf.keras.layers.Dense(300,kernel_initializer=\"he_normal\"),\n",
        "tf.keras.layers.Activation(\"elu\"),\n",
        "tf.keras.layers.Dense(100, kernel_initializer=\"he_normal\"),\n",
        "tf.keras.layers.Activation(\"elu\"),\n",
        "tf.keras.layers.BatchNormalization(),\n",
        "tf.keras.layers.Dense(1,activation=\"softmax\")\n",
        "])"
      ],
      "metadata": {
        "id": "W_ZDTSNczb-Z"
      },
      "execution_count": null,
      "outputs": []
    },
    {
      "cell_type": "code",
      "source": [
        "model.compile(loss=\"binary_crossentropy\", optimizer=\"sgd\", metrics=[\"accuracy\"])"
      ],
      "metadata": {
        "id": "n2n0nRe5kiBc"
      },
      "execution_count": null,
      "outputs": []
    },
    {
      "cell_type": "code",
      "source": [
        "model.fit(x_train,y_train, epochs=20)"
      ],
      "metadata": {
        "id": "zSlZ9iZ3k3Qj"
      },
      "execution_count": null,
      "outputs": []
    },
    {
      "cell_type": "code",
      "source": [
        "#cb = tf.keras.callbacks.ModelCheckpoint(save) DO SAVING THE MODEL ONCE AGAIN "
      ],
      "metadata": {
        "id": "T6w-EMihlreS"
      },
      "execution_count": null,
      "outputs": []
    },
    {
      "cell_type": "code",
      "source": [
        "model.save(\"MyModel.H5\")"
      ],
      "metadata": {
        "id": "3RcOIBkelb0Y"
      },
      "execution_count": null,
      "outputs": []
    },
    {
      "cell_type": "code",
      "source": [
        "#We load the model \n",
        "model_A = tf.keras.models.load_model(\"MyModel.H5\")"
      ],
      "metadata": {
        "id": "H2aWLXdemnzA"
      },
      "execution_count": null,
      "outputs": []
    },
    {
      "cell_type": "code",
      "source": [
        "#We create a new model based on the layers of the loaded model \n",
        "model_A_reloaded = tf.keras.models.Sequential(model_A.layers[:-1]) #We also remove the last layer of this model since the  task is different from the original one which means the output layer should have different number of neurons\n",
        " "
      ],
      "metadata": {
        "id": "pGg8r8Lem58z"
      },
      "execution_count": null,
      "outputs": []
    },
    {
      "cell_type": "code",
      "source": [
        "#We add our own output layer\n",
        "model_A_reloaded.add(tf.keras.layers.Dense(1, activation=\"softmax\"))"
      ],
      "metadata": {
        "id": "iLLZCe5moCsx"
      },
      "execution_count": null,
      "outputs": []
    },
    {
      "cell_type": "code",
      "source": [
        "#Cloning the model \n",
        "model_A_clone = tf.keras.models.clone_model(model_A)\n",
        "#This clone comes without parameters so we set them \n",
        "model_A_clone.set_weights(model_A.get_weights())"
      ],
      "metadata": {
        "id": "3CuUpr90oTFo"
      },
      "execution_count": null,
      "outputs": []
    },
    {
      "cell_type": "code",
      "source": [
        "#We freeze the layers \n",
        "for layer in model_A_clone.layers[:-1]: #To freeze the layers we set every layers trainable attributes to false\n",
        "  layer.trainable = False "
      ],
      "metadata": {
        "id": "9j7cHBybpCWG"
      },
      "execution_count": null,
      "outputs": []
    },
    {
      "cell_type": "code",
      "source": [
        "model_A_clone.compile(loss=tf.keras.losses.BinaryCrossentropy(from_logits=True), optimizer=\"sgd\", metrics=[\"accuracy\"])"
      ],
      "metadata": {
        "id": "VnmLBFotqOSA"
      },
      "execution_count": null,
      "outputs": []
    },
    {
      "cell_type": "code",
      "source": [
        ""
      ],
      "metadata": {
        "id": "OUwRe1E_2bZW"
      },
      "execution_count": null,
      "outputs": []
    },
    {
      "cell_type": "code",
      "source": [
        "#We should compile the model after we freeze of unfreeze a particular layer\n",
        "\n"
      ],
      "metadata": {
        "id": "msboPW7Vqsgv"
      },
      "execution_count": null,
      "outputs": []
    },
    {
      "cell_type": "code",
      "source": [
        "model_A_clone.layers[:-1]\n"
      ],
      "metadata": {
        "id": "p77PNUejk1km"
      },
      "execution_count": null,
      "outputs": []
    },
    {
      "cell_type": "code",
      "source": [
        "model_A_clone.add(tf.keras.layers.Dense(10, activation=\"softmax\"))"
      ],
      "metadata": {
        "id": "ti594yx_lAxT"
      },
      "execution_count": null,
      "outputs": []
    },
    {
      "cell_type": "code",
      "source": [
        "model"
      ],
      "metadata": {
        "id": "4J9wE6_hluP1"
      },
      "execution_count": null,
      "outputs": []
    },
    {
      "cell_type": "code",
      "source": [
        "model_A_clone.layers[:-1]"
      ],
      "metadata": {
        "id": "sRDWJ5GPlkqJ"
      },
      "execution_count": null,
      "outputs": []
    },
    {
      "cell_type": "code",
      "source": [
        "model_A_clone.layers[:-1]"
      ],
      "metadata": {
        "id": "xxWgRjE1l2y7"
      },
      "execution_count": null,
      "outputs": []
    },
    {
      "cell_type": "code",
      "source": [
        "model_A_New = tf.keras.models.Sequential(model_A_clone.layers[:-1])"
      ],
      "metadata": {
        "id": "wsvQh4Hml6Pb"
      },
      "execution_count": null,
      "outputs": []
    },
    {
      "cell_type": "code",
      "source": [
        "model_A_New1 = tf.keras.models.Sequential(model_A_New.layers[:-1])"
      ],
      "metadata": {
        "id": "g5kgO_ypmO6k"
      },
      "execution_count": null,
      "outputs": []
    },
    {
      "cell_type": "code",
      "source": [
        "model_A_New1.summary()"
      ],
      "metadata": {
        "id": "rHXy8_P8mbIJ"
      },
      "execution_count": null,
      "outputs": []
    },
    {
      "cell_type": "code",
      "source": [
        "model_A_New1.set_weights(model_A.get_weights())"
      ],
      "metadata": {
        "id": "HjWJ9K4Imd-Z"
      },
      "execution_count": null,
      "outputs": []
    },
    {
      "cell_type": "code",
      "source": [
        "model_A_New1.summary()"
      ],
      "metadata": {
        "id": "LCiKvhl_mvB5"
      },
      "execution_count": null,
      "outputs": []
    },
    {
      "cell_type": "code",
      "source": [
        "model_A_New.compile(loss=\"binary_crossentropy\", optimizer=\"SGD\", metrics=['accuracy'])"
      ],
      "metadata": {
        "id": "BPKbxQyimyYW"
      },
      "execution_count": null,
      "outputs": []
    },
    {
      "cell_type": "code",
      "source": [
        "model_A_New.fit(x_train,y_train,epochs=10)"
      ],
      "metadata": {
        "id": "F6FQjX5GnEEu"
      },
      "execution_count": null,
      "outputs": []
    },
    {
      "cell_type": "code",
      "source": [
        "model_A_clone.fit(x_train, y_train, epochs=20)"
      ],
      "metadata": {
        "id": "UR_emLz1sHGz"
      },
      "execution_count": null,
      "outputs": []
    },
    {
      "cell_type": "code",
      "source": [
        "mnistOne= tf.keras.datasets.mnist.load_data()"
      ],
      "metadata": {
        "id": "cfFpnz73q4yD"
      },
      "execution_count": null,
      "outputs": []
    },
    {
      "cell_type": "code",
      "source": [
        "(x_train_full,x_test),(y_train_full, y_test) = mnistOne"
      ],
      "metadata": {
        "id": "I5AQ3bJJrOYh"
      },
      "execution_count": null,
      "outputs": []
    },
    {
      "cell_type": "code",
      "source": [
        "!pip install -U scikit-learn\n",
        "from sklearn.model_selection import train_test_split"
      ],
      "metadata": {
        "id": "Y0YWuTetrdoj"
      },
      "execution_count": null,
      "outputs": []
    },
    {
      "cell_type": "code",
      "source": [
        "mnistOne = tf.keras.datasets.mnist.load_data()"
      ],
      "metadata": {
        "id": "VHCQFdRAydvV"
      },
      "execution_count": null,
      "outputs": []
    },
    {
      "cell_type": "code",
      "source": [
        "(x_train_full, x_test),(y_train_full, y_test) = mnistOne"
      ],
      "metadata": {
        "id": "QhfgWCvWynUA"
      },
      "execution_count": null,
      "outputs": []
    },
    {
      "cell_type": "code",
      "source": [
        "x_train_full.shape"
      ],
      "metadata": {
        "id": "DJzKm_lvzu4q"
      },
      "execution_count": null,
      "outputs": []
    },
    {
      "cell_type": "code",
      "source": [
        "y_train_full.shape"
      ],
      "metadata": {
        "id": "OmQXZ5y6zwYQ"
      },
      "execution_count": null,
      "outputs": []
    },
    {
      "cell_type": "code",
      "source": [
        "x_train,x_valid = x_train_full[:5000], x_train_full[:5000]\n",
        "y_train,y_valid = y_train_full[:5000], y_train_full[:5000]"
      ],
      "metadata": {
        "id": "o89pFG1AzU2u"
      },
      "execution_count": null,
      "outputs": []
    },
    {
      "cell_type": "code",
      "source": [
        "x_train.shape, y_train.shape"
      ],
      "metadata": {
        "id": "Fj4dfFyx4t1e"
      },
      "execution_count": null,
      "outputs": []
    },
    {
      "cell_type": "code",
      "source": [
        "model_A_clone.compile(loss=tf.keras.losses.SparseCategoricalCrossentropy(from_logits=True), metrics=[\"accuracy\"])"
      ],
      "metadata": {
        "id": "3Rk__oqpzVLb"
      },
      "execution_count": null,
      "outputs": []
    },
    {
      "cell_type": "code",
      "source": [
        "model_A_clone.fit(x_train,y_train,epochs=5, validation_data=[x_valid, y_valid])"
      ],
      "metadata": {
        "id": "mDm7Th8S1CGV"
      },
      "execution_count": null,
      "outputs": []
    },
    {
      "cell_type": "code",
      "source": [
        "model_A_clone.summary()"
      ],
      "metadata": {
        "id": "pjPrrYE014th"
      },
      "execution_count": null,
      "outputs": []
    },
    {
      "cell_type": "code",
      "source": [
        "#Freezing layers during transfer learning \n",
        "for layer in model_A_clone.layers[:-1]:\n",
        "  layer.trainable = False"
      ],
      "metadata": {
        "id": "0kVtIC9G2BI5"
      },
      "execution_count": null,
      "outputs": []
    },
    {
      "cell_type": "code",
      "source": [
        "#Unfreezing layers during transfer learning\n",
        "for layer in model_A_clone.layers[:-1]:\n",
        "  layer.trainable = True"
      ],
      "metadata": {
        "id": "3DIEAbYosI_i"
      },
      "execution_count": null,
      "outputs": []
    },
    {
      "cell_type": "code",
      "source": [
        "optimizer = tf.keras.optimizers.SGD(1e-3)"
      ],
      "metadata": {
        "id": "djgqwQjDsUlr"
      },
      "execution_count": null,
      "outputs": []
    },
    {
      "cell_type": "markdown",
      "source": [
        "Ways of speeding up training of a deep neural network \n",
        "- Using a good weight initialization strategy.\n",
        "- Using a different variants of activation functions.\n",
        "- Using batch normalisation.\n",
        "- Using parts of a pretrained neural network or so called transfer learning.\n",
        "\n",
        "Another way of boosting the training of a deep neural network is using other optimizers than the regular or vanilla gradient descent algorithm.\n",
        "Other optimization strategies include: \n",
        "Momentum optimization, Nesterov Accelerated gradient, RMS prop ,AdaGrad, Adam and Nadam optimization.\n"
      ],
      "metadata": {
        "id": "XBa2kn9y_o27"
      }
    },
    {
      "cell_type": "code",
      "source": [
        "import tensorflow as tf\n",
        "optimizers = tf.keras.optimizers.SGD(lr=0.001, momentum=0.9)"
      ],
      "metadata": {
        "id": "DL8IzCr0tDAF"
      },
      "execution_count": null,
      "outputs": []
    },
    {
      "cell_type": "markdown",
      "source": [
        "Another faster optimization algorithm that is almost faster than vanilla momentum optmization is Nesterov Momentum optimization."
      ],
      "metadata": {
        "id": "m3uPPHGOL--e"
      }
    },
    {
      "cell_type": "code",
      "source": [
        "#Implementing the Nesterov Accelerated Gradient or Nesterov momentum optimization function \n",
        "optimizers = tf.keras.optimizers.SGD(lr=0.001, momentum=0.9, nesterov=True)"
      ],
      "metadata": {
        "id": "a5TrEI-wFFKf"
      },
      "execution_count": null,
      "outputs": []
    },
    {
      "cell_type": "code",
      "source": [
        "import os\n",
        "import tensorflow as tf\n",
        "from tensorflow import keras"
      ],
      "metadata": {
        "id": "42Jg20cjNzcI"
      },
      "execution_count": 188,
      "outputs": []
    },
    {
      "cell_type": "code",
      "source": [
        "print(\"Version: \", tf.__version__)"
      ],
      "metadata": {
        "colab": {
          "base_uri": "https://localhost:8080/"
        },
        "id": "sqglH2ZEYb0o",
        "outputId": "b75a0779-6f47-474a-c43c-3ccad6333c78"
      },
      "execution_count": 189,
      "outputs": [
        {
          "output_type": "stream",
          "name": "stdout",
          "text": [
            "Version:  2.8.0\n"
          ]
        }
      ]
    },
    {
      "cell_type": "code",
      "source": [
        "#We load  and split the data\n",
        "(train_images,train_labels), (test_images, test_labels) =tf.keras.datasets.mnist.load_data() "
      ],
      "metadata": {
        "id": "AUfueo-eYgnB"
      },
      "execution_count": 250,
      "outputs": []
    },
    {
      "cell_type": "code",
      "source": [
        "train_images.shape"
      ],
      "metadata": {
        "colab": {
          "base_uri": "https://localhost:8080/"
        },
        "id": "g4GR98UUmqA3",
        "outputId": "29f0436a-a48a-42d9-ea8b-eecc6a3f6cb3"
      },
      "execution_count": 251,
      "outputs": [
        {
          "output_type": "execute_result",
          "data": {
            "text/plain": [
              "(60000, 28, 28)"
            ]
          },
          "metadata": {},
          "execution_count": 251
        }
      ]
    },
    {
      "cell_type": "code",
      "source": [
        "train_images = train_images/255.0"
      ],
      "metadata": {
        "id": "VJNs7qHsm5TG"
      },
      "execution_count": 252,
      "outputs": []
    },
    {
      "cell_type": "code",
      "source": [
        "test_images = test_images/255.0"
      ],
      "metadata": {
        "id": "wHi4DBMxm-ya"
      },
      "execution_count": 253,
      "outputs": []
    },
    {
      "cell_type": "code",
      "source": [
        "train_images[0].shape"
      ],
      "metadata": {
        "colab": {
          "base_uri": "https://localhost:8080/"
        },
        "id": "0eGn7KsznDWI",
        "outputId": "b4e791e0-dcf5-4909-cf4b-b631dd41d034"
      },
      "execution_count": 254,
      "outputs": [
        {
          "output_type": "execute_result",
          "data": {
            "text/plain": [
              "(28, 28)"
            ]
          },
          "metadata": {},
          "execution_count": 254
        }
      ]
    },
    {
      "cell_type": "code",
      "source": [
        "#We create the sequential model \n",
        "#model = tf.keras.models.Sequential([\n",
        "#tf.keras.layers.Flatten(input_shape=(784,)),\n",
        "#tf.keras.layers.BatchNormalization(),\n",
        "#tf.keras.layers.Dense(300,kernel_initializer=\"he_normal\", name=\"Hidden1\"),\n",
        "#tf.keras.layers. Activation('elu'),\n",
        "#tf.keras.layers.Dense(100,kernel_initializer=\"he_normal\", name=\"Hidden2\"),\n",
        "#tf.keras.layers.Activation('elu'),\n",
        "#tf.keras.layers.BatchNormalization(),\n",
        "#tf.keras.layers.Dense(10,activation=\"softmax\", name=\"Output\")\n",
        "#])"
      ],
      "metadata": {
        "id": "s4ZefnnxZ2ph"
      },
      "execution_count": 240,
      "outputs": []
    },
    {
      "cell_type": "code",
      "source": [
        "model.build()"
      ],
      "metadata": {
        "id": "QRUus9TFsf1c"
      },
      "execution_count": 255,
      "outputs": []
    },
    {
      "cell_type": "code",
      "source": [
        "model.summary()"
      ],
      "metadata": {
        "id": "rJLMnb16ay21"
      },
      "execution_count": null,
      "outputs": []
    },
    {
      "cell_type": "code",
      "source": [
        "#Compile the model \n",
        "model.compile(loss=tf.keras.losses.SparseCategoricalCrossentropy(from_logits=True), optimizer=\"Adam\",metrics=[tf.keras.metrics.Accuracy()])"
      ],
      "metadata": {
        "id": "xVld9rg_a042"
      },
      "execution_count": 257,
      "outputs": []
    },
    {
      "cell_type": "code",
      "source": [
        "model.fit(train_images,train_labels, epochs=10)"
      ],
      "metadata": {
        "id": "EKXjHE1zt01H"
      },
      "execution_count": null,
      "outputs": []
    },
    {
      "cell_type": "code",
      "source": [
        ""
      ],
      "metadata": {
        "id": "lHrP6d4suXhS"
      },
      "execution_count": null,
      "outputs": []
    },
    {
      "cell_type": "code",
      "source": [
        ""
      ],
      "metadata": {
        "id": "ryjpAICIt5y3"
      },
      "execution_count": null,
      "outputs": []
    },
    {
      "cell_type": "code",
      "source": [
        "def createModel():\n",
        "  model = tf.keras.models.Sequential([\n",
        "   tf.keras.layers.Flatten(input_shape=train_images[0].shape, name=\"InputLayer\"),\n",
        "   tf.keras.layers.BatchNormalization(),\n",
        "   tf.keras.layers.Dense(300,kernel_initializer=\"he_normal\",name=\"HiddenLayer1\"),\n",
        "   tf.keras.layers.Activation('elu'),\n",
        "   tf.keras.layers.Dense(100,kernel_initializer=\"he_normal\", name=\"HiddenLayer2\"),\n",
        "   tf.keras.layers.Activation('elu'),\n",
        "   tf.keras.layers.BatchNormalization(),\n",
        "   tf.keras.layers.Dense(10, activation=\"softmax\", name=\"OutputLayer\")   \n",
        "  ])\n",
        "  model.compile(loss=tf.keras.losses.SparseCategoricalCrossentropy(from_logits=True), optimizer=\"SGD\", metrics=[tf.keras.metrics.Accuracy()])\n",
        "  return model"
      ],
      "metadata": {
        "id": "yUedplclhZYZ"
      },
      "execution_count": 268,
      "outputs": []
    },
    {
      "cell_type": "code",
      "source": [
        ""
      ],
      "metadata": {
        "id": "3FsJfsSlus2X"
      },
      "execution_count": null,
      "outputs": []
    },
    {
      "cell_type": "code",
      "source": [
        ""
      ],
      "metadata": {
        "id": "ueP8dcyQs7Pa"
      },
      "execution_count": null,
      "outputs": []
    },
    {
      "cell_type": "code",
      "source": [
        "model = createModel()"
      ],
      "metadata": {
        "id": "lgPJoShsjN9Y"
      },
      "execution_count": 269,
      "outputs": []
    },
    {
      "cell_type": "code",
      "source": [
        "tf.keras.utils.plot_model(model)"
      ],
      "metadata": {
        "id": "2kF9YJfxtOIw",
        "outputId": "d9d7cbe1-66ba-4122-b566-8043698216e3",
        "colab": {
          "base_uri": "https://localhost:8080/",
          "height": 856
        }
      },
      "execution_count": 270,
      "outputs": [
        {
          "output_type": "execute_result",
          "data": {
            "text/plain": [
              "<IPython.core.display.Image object>"
            ],
            "image/png": "[encoded data removed]"
          },
          "metadata": {},
          "execution_count": 270
        }
      ]
    },
    {
      "cell_type": "code",
      "source": [
        ""
      ],
      "metadata": {
        "id": "fKVq70kutSBN"
      },
      "execution_count": null,
      "outputs": []
    },
    {
      "cell_type": "code",
      "source": [
        "model.build()"
      ],
      "metadata": {
        "id": "uUY1wc7yjdb5"
      },
      "execution_count": 271,
      "outputs": []
    },
    {
      "cell_type": "code",
      "source": [
        "model.summary()"
      ],
      "metadata": {
        "colab": {
          "base_uri": "https://localhost:8080/"
        },
        "id": "cri64Zx2jpMX",
        "outputId": "82343ab6-bbb7-4d9d-ff95-aae7adedb388"
      },
      "execution_count": 272,
      "outputs": [
        {
          "output_type": "stream",
          "name": "stdout",
          "text": [
            "Model: \"sequential_44\"\n",
            "_________________________________________________________________\n",
            " Layer (type)                Output Shape              Param #   \n",
            "=================================================================\n",
            " InputLayer (Flatten)        (None, 784)               0         \n",
            "                                                                 \n",
            " batch_normalization_78 (Bat  (None, 784)              3136      \n",
            " chNormalization)                                                \n",
            "                                                                 \n",
            " HiddenLayer1 (Dense)        (None, 300)               235500    \n",
            "                                                                 \n",
            " activation_72 (Activation)  (None, 300)               0         \n",
            "                                                                 \n",
            " HiddenLayer2 (Dense)        (None, 100)               30100     \n",
            "                                                                 \n",
            " activation_73 (Activation)  (None, 100)               0         \n",
            "                                                                 \n",
            " batch_normalization_79 (Bat  (None, 100)              400       \n",
            " chNormalization)                                                \n",
            "                                                                 \n",
            " OutputLayer (Dense)         (None, 10)                1010      \n",
            "                                                                 \n",
            "=================================================================\n",
            "Total params: 270,146\n",
            "Trainable params: 268,378\n",
            "Non-trainable params: 1,768\n",
            "_________________________________________________________________\n"
          ]
        }
      ]
    },
    {
      "cell_type": "code",
      "source": [
        "#Lets create a callback checkpoint that saves the model's weights during training\n",
        "#Create the check point path\n",
        "cp_path = \"train_one/cp.ckpt\" #Check point path\n",
        "cp_dir = os.path.dirname(cp_path) #Check point directory \n",
        "\n"
      ],
      "metadata": {
        "id": "cwneogGYjyk3"
      },
      "execution_count": 273,
      "outputs": []
    },
    {
      "cell_type": "code",
      "source": [
        "#Lets create a callback that save the model's weights durin training\n",
        "cb = tf.keras.callbacks.ModelCheckpoint(cp_path,verbose=1, save_best_only=True)"
      ],
      "metadata": {
        "id": "TEy2S_kKaHP-"
      },
      "execution_count": 274,
      "outputs": []
    },
    {
      "cell_type": "code",
      "source": [
        "#Lets train the model with the callbacks assigned \n",
        "history = model.fit(train_images, train_labels,epochs =10 , validation_data=(test_images, test_labels), callbacks=[cb])"
      ],
      "metadata": {
        "id": "OX3qhhD9mEjD"
      },
      "execution_count": null,
      "outputs": []
    },
    {
      "cell_type": "code",
      "source": [
        "model = tf.keras.Sequential([\n",
        "        tf.keras.layers.Flatten(input_shape=train_images[0].shape),\n",
        "        tf.keras.layers.BatchNormalization(),\n",
        "        tf.keras.layers.Dense(300, kernel_initializer=\"he_normal\"),\n",
        "        tf.keras.layers.Activation('elu'),\n",
        "        tf.keras.layers.Dense(100, kernel_initializer=\"he_normal\"),\n",
        "        tf.keras.layers.Activation('elu'),\n",
        "        tf.keras.layers.BatchNormalization(),\n",
        "        tf.keras.layers.Dense(10, activation=\"softmax\")\n",
        "])"
      ],
      "metadata": {
        "id": "_Q15G5SUuzdp"
      },
      "execution_count": 292,
      "outputs": []
    },
    {
      "cell_type": "code",
      "source": [
        "model.compile(loss=tf.keras.losses.SparseCategoricalCrossentropy(from_logits=True),optimizer=\"Adam\",metrics=['accuracy'])"
      ],
      "metadata": {
        "id": "KvB-g6DWvSAE"
      },
      "execution_count": 293,
      "outputs": []
    },
    {
      "cell_type": "code",
      "source": [
        "model.fit(train_images, train_labels, epochs =20,validation_data=[test_images, test_labels], callbacks=[cb])"
      ],
      "metadata": {
        "id": "e_0EnddtvnqP",
        "outputId": "42ee880e-5f6e-423b-9a20-5cbcfcd50663",
        "colab": {
          "base_uri": "https://localhost:8080/"
        }
      },
      "execution_count": 296,
      "outputs": [
        {
          "output_type": "stream",
          "name": "stdout",
          "text": [
            "Epoch 1/20\n",
            "1873/1875 [============================>.] - ETA: 0s - loss: 0.0220 - accuracy: 0.9924\n",
            "Epoch 1: val_loss improved from inf to 0.09806, saving model to train_one/cp.ckpt\n",
            "INFO:tensorflow:Assets written to: train_one/cp.ckpt/assets\n",
            "1875/1875 [==============================] - 12s 6ms/step - loss: 0.0220 - accuracy: 0.9923 - val_loss: 0.0981 - val_accuracy: 0.9785\n",
            "Epoch 2/20\n",
            "1875/1875 [==============================] - ETA: 0s - loss: 0.0228 - accuracy: 0.9924\n",
            "Epoch 2: val_loss did not improve from 0.09806\n",
            "1875/1875 [==============================] - 10s 5ms/step - loss: 0.0228 - accuracy: 0.9924 - val_loss: 0.1026 - val_accuracy: 0.9781\n",
            "Epoch 3/20\n",
            "1872/1875 [============================>.] - ETA: 0s - loss: 0.0203 - accuracy: 0.9930\n",
            "Epoch 3: val_loss did not improve from 0.09806\n",
            "1875/1875 [==============================] - 10s 5ms/step - loss: 0.0203 - accuracy: 0.9930 - val_loss: 0.1119 - val_accuracy: 0.9782\n",
            "Epoch 4/20\n",
            "1867/1875 [============================>.] - ETA: 0s - loss: 0.0185 - accuracy: 0.9939\n",
            "Epoch 4: val_loss did not improve from 0.09806\n",
            "1875/1875 [==============================] - 10s 5ms/step - loss: 0.0184 - accuracy: 0.9939 - val_loss: 0.1093 - val_accuracy: 0.9773\n",
            "Epoch 5/20\n",
            "1875/1875 [==============================] - ETA: 0s - loss: 0.0172 - accuracy: 0.9944\n",
            "Epoch 5: val_loss did not improve from 0.09806\n",
            "1875/1875 [==============================] - 10s 6ms/step - loss: 0.0172 - accuracy: 0.9944 - val_loss: 0.1181 - val_accuracy: 0.9775\n",
            "Epoch 6/20\n",
            "1873/1875 [============================>.] - ETA: 0s - loss: 0.0149 - accuracy: 0.9948\n",
            "Epoch 6: val_loss did not improve from 0.09806\n",
            "1875/1875 [==============================] - 10s 5ms/step - loss: 0.0149 - accuracy: 0.9948 - val_loss: 0.1188 - val_accuracy: 0.9780\n",
            "Epoch 7/20\n",
            "1875/1875 [==============================] - ETA: 0s - loss: 0.0147 - accuracy: 0.9947\n",
            "Epoch 7: val_loss did not improve from 0.09806\n",
            "1875/1875 [==============================] - 11s 6ms/step - loss: 0.0147 - accuracy: 0.9947 - val_loss: 0.1204 - val_accuracy: 0.9791\n",
            "Epoch 8/20\n",
            "1874/1875 [============================>.] - ETA: 0s - loss: 0.0159 - accuracy: 0.9951\n",
            "Epoch 8: val_loss did not improve from 0.09806\n",
            "1875/1875 [==============================] - 10s 6ms/step - loss: 0.0159 - accuracy: 0.9951 - val_loss: 0.1182 - val_accuracy: 0.9783\n",
            "Epoch 9/20\n",
            "1874/1875 [============================>.] - ETA: 0s - loss: 0.0133 - accuracy: 0.9956\n",
            "Epoch 9: val_loss did not improve from 0.09806\n",
            "1875/1875 [==============================] - 10s 5ms/step - loss: 0.0133 - accuracy: 0.9956 - val_loss: 0.1249 - val_accuracy: 0.9783\n",
            "Epoch 10/20\n",
            "1869/1875 [============================>.] - ETA: 0s - loss: 0.0132 - accuracy: 0.9954\n",
            "Epoch 10: val_loss did not improve from 0.09806\n",
            "1875/1875 [==============================] - 10s 5ms/step - loss: 0.0132 - accuracy: 0.9955 - val_loss: 0.1198 - val_accuracy: 0.9795\n",
            "Epoch 11/20\n",
            "1873/1875 [============================>.] - ETA: 0s - loss: 0.0123 - accuracy: 0.9958\n",
            "Epoch 11: val_loss did not improve from 0.09806\n",
            "1875/1875 [==============================] - 10s 6ms/step - loss: 0.0123 - accuracy: 0.9958 - val_loss: 0.1183 - val_accuracy: 0.9789\n",
            "Epoch 12/20\n",
            "1871/1875 [============================>.] - ETA: 0s - loss: 0.0117 - accuracy: 0.9961\n",
            "Epoch 12: val_loss did not improve from 0.09806\n",
            "1875/1875 [==============================] - 10s 6ms/step - loss: 0.0117 - accuracy: 0.9962 - val_loss: 0.1055 - val_accuracy: 0.9795\n",
            "Epoch 13/20\n",
            "1874/1875 [============================>.] - ETA: 0s - loss: 0.0116 - accuracy: 0.9962\n",
            "Epoch 13: val_loss did not improve from 0.09806\n",
            "1875/1875 [==============================] - 10s 6ms/step - loss: 0.0116 - accuracy: 0.9962 - val_loss: 0.1125 - val_accuracy: 0.9795\n",
            "Epoch 14/20\n",
            "1874/1875 [============================>.] - ETA: 0s - loss: 0.0115 - accuracy: 0.9963\n",
            "Epoch 14: val_loss did not improve from 0.09806\n",
            "1875/1875 [==============================] - 11s 6ms/step - loss: 0.0115 - accuracy: 0.9963 - val_loss: 0.1208 - val_accuracy: 0.9778\n",
            "Epoch 15/20\n",
            "1870/1875 [============================>.] - ETA: 0s - loss: 0.0105 - accuracy: 0.9965\n",
            "Epoch 15: val_loss did not improve from 0.09806\n",
            "1875/1875 [==============================] - 11s 6ms/step - loss: 0.0104 - accuracy: 0.9965 - val_loss: 0.1209 - val_accuracy: 0.9791\n",
            "Epoch 16/20\n",
            "1870/1875 [============================>.] - ETA: 0s - loss: 0.0112 - accuracy: 0.9961\n",
            "Epoch 16: val_loss did not improve from 0.09806\n",
            "1875/1875 [==============================] - 10s 6ms/step - loss: 0.0112 - accuracy: 0.9961 - val_loss: 0.1173 - val_accuracy: 0.9815\n",
            "Epoch 17/20\n",
            "1868/1875 [============================>.] - ETA: 0s - loss: 0.0114 - accuracy: 0.9965\n",
            "Epoch 17: val_loss did not improve from 0.09806\n",
            "1875/1875 [==============================] - 11s 6ms/step - loss: 0.0113 - accuracy: 0.9965 - val_loss: 0.1220 - val_accuracy: 0.9787\n",
            "Epoch 18/20\n",
            "1872/1875 [============================>.] - ETA: 0s - loss: 0.0098 - accuracy: 0.9968\n",
            "Epoch 18: val_loss did not improve from 0.09806\n",
            "1875/1875 [==============================] - 10s 6ms/step - loss: 0.0098 - accuracy: 0.9968 - val_loss: 0.1376 - val_accuracy: 0.9792\n",
            "Epoch 19/20\n",
            "1873/1875 [============================>.] - ETA: 0s - loss: 0.0107 - accuracy: 0.9964\n",
            "Epoch 19: val_loss did not improve from 0.09806\n",
            "1875/1875 [==============================] - 11s 6ms/step - loss: 0.0108 - accuracy: 0.9964 - val_loss: 0.1217 - val_accuracy: 0.9792\n",
            "Epoch 20/20\n",
            "1875/1875 [==============================] - ETA: 0s - loss: 0.0096 - accuracy: 0.9971\n",
            "Epoch 20: val_loss did not improve from 0.09806\n",
            "1875/1875 [==============================] - 10s 6ms/step - loss: 0.0096 - accuracy: 0.9971 - val_loss: 0.1381 - val_accuracy: 0.9776\n"
          ]
        },
        {
          "output_type": "execute_result",
          "data": {
            "text/plain": [
              "<keras.callbacks.History at 0x7fe8bea407d0>"
            ]
          },
          "metadata": {},
          "execution_count": 296
        }
      ]
    },
    {
      "cell_type": "code",
      "source": [
        "os.listdir(cp_dir)"
      ],
      "metadata": {
        "id": "a4OhA9p0xnkk",
        "outputId": "8a4b6e41-3ca6-4c12-f5d5-03ff6fa4829e",
        "colab": {
          "base_uri": "https://localhost:8080/"
        }
      },
      "execution_count": 297,
      "outputs": [
        {
          "output_type": "execute_result",
          "data": {
            "text/plain": [
              "['cp.ckpt']"
            ]
          },
          "metadata": {},
          "execution_count": 297
        }
      ]
    },
    {
      "cell_type": "code",
      "source": [
        ""
      ],
      "metadata": {
        "id": "2RrttJgDyhL2"
      },
      "execution_count": null,
      "outputs": []
    },
    {
      "cell_type": "code",
      "source": [
        ""
      ],
      "metadata": {
        "id": "Rhge7kWuvz7q"
      },
      "execution_count": null,
      "outputs": []
    },
    {
      "cell_type": "code",
      "source": [
        ""
      ],
      "metadata": {
        "id": "GrikQMZCvwzQ"
      },
      "execution_count": null,
      "outputs": []
    },
    {
      "cell_type": "code",
      "source": [
        ""
      ],
      "metadata": {
        "id": "tPdeG_6hvYZL"
      },
      "execution_count": null,
      "outputs": []
    },
    {
      "cell_type": "code",
      "source": [
        ""
      ],
      "metadata": {
        "id": "9RePMixku_BS"
      },
      "execution_count": null,
      "outputs": []
    }
  ]
}