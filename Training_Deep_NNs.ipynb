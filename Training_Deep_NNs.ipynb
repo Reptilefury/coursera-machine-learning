{
  "cells": [
    {
      "cell_type": "markdown",
      "metadata": {
        "id": "view-in-github",
        "colab_type": "text"
      },
      "source": [
        "<a href=\"https://colab.research.google.com/github/Reptilefury/coursera-machine-learning/blob/main/Training_Deep_NNs.ipynb\" target=\"_parent\"><img src=\"https://colab.research.google.com/assets/colab-badge.svg\" alt=\"Open In Colab\"/></a>"
      ]
    },
    {
      "cell_type": "code",
      "execution_count": null,
      "metadata": {
        "id": "uSOF_1yqnari"
      },
      "outputs": [],
      "source": [
        "import matplotlib.pyplot as plt"
      ]
    },
    {
      "cell_type": "code",
      "execution_count": null,
      "metadata": {
        "id": "GOl58q-btExy"
      },
      "outputs": [],
      "source": [
        "import os"
      ]
    },
    {
      "cell_type": "code",
      "execution_count": null,
      "metadata": {
        "id": "pLbFutL3tJqY"
      },
      "outputs": [],
      "source": [
        "import re"
      ]
    },
    {
      "cell_type": "code",
      "execution_count": null,
      "metadata": {
        "id": "SVYjGOtbtK1k"
      },
      "outputs": [],
      "source": [
        "import shutil"
      ]
    },
    {
      "cell_type": "code",
      "execution_count": null,
      "metadata": {
        "id": "yC3K8J4ZtNoc"
      },
      "outputs": [],
      "source": [
        "import string"
      ]
    },
    {
      "cell_type": "code",
      "execution_count": null,
      "metadata": {
        "id": "MzkH_kKStQMq"
      },
      "outputs": [],
      "source": [
        "import tensorflow as tf\n"
      ]
    },
    {
      "cell_type": "code",
      "execution_count": null,
      "metadata": {
        "id": "oITOkBP5tU-H"
      },
      "outputs": [],
      "source": [
        "from tensorflow.keras import layers"
      ]
    },
    {
      "cell_type": "code",
      "execution_count": null,
      "metadata": {
        "id": "REi4dpDYtaLs"
      },
      "outputs": [],
      "source": [
        "from tensorflow.keras import losses"
      ]
    },
    {
      "cell_type": "code",
      "execution_count": null,
      "metadata": {
        "colab": {
          "base_uri": "https://localhost:8080/"
        },
        "id": "4iFLoDR8tctI",
        "outputId": "64744739-d424-46fd-cf56-858e24593fc7"
      },
      "outputs": [
        {
          "name": "stdout",
          "output_type": "stream",
          "text": [
            "Version 2.8.0\n"
          ]
        }
      ],
      "source": [
        "print(\"Version\", tf.__version__)"
      ]
    },
    {
      "cell_type": "code",
      "execution_count": null,
      "metadata": {
        "id": "HGP-SgfzzFMb"
      },
      "outputs": [],
      "source": [
        "fashionmnist = tf.keras.datasets.fashion_mnist"
      ]
    },
    {
      "cell_type": "code",
      "execution_count": null,
      "metadata": {
        "colab": {
          "base_uri": "https://localhost:8080/"
        },
        "id": "SEgrQS0ckr0P",
        "outputId": "a7d4f027-dfa9-456a-de76-9e7ed2040810"
      },
      "outputs": [
        {
          "name": "stdout",
          "output_type": "stream",
          "text": [
            "Downloading data from https://storage.googleapis.com/tensorflow/tf-keras-datasets/train-labels-idx1-ubyte.gz\n",
            "32768/29515 [=================================] - 0s 0us/step\n",
            "40960/29515 [=========================================] - 0s 0us/step\n",
            "Downloading data from https://storage.googleapis.com/tensorflow/tf-keras-datasets/train-images-idx3-ubyte.gz\n",
            "26427392/26421880 [==============================] - 0s 0us/step\n",
            "26435584/26421880 [==============================] - 0s 0us/step\n",
            "Downloading data from https://storage.googleapis.com/tensorflow/tf-keras-datasets/t10k-labels-idx1-ubyte.gz\n",
            "16384/5148 [===============================================================================================] - 0s 0us/step\n",
            "Downloading data from https://storage.googleapis.com/tensorflow/tf-keras-datasets/t10k-images-idx3-ubyte.gz\n",
            "4423680/4422102 [==============================] - 0s 0us/step\n",
            "4431872/4422102 [==============================] - 0s 0us/step\n"
          ]
        }
      ],
      "source": [
        "(train_images, train_labels),(test_images, test_labels) = fashionmnist.load_data()"
      ]
    },
    {
      "cell_type": "code",
      "execution_count": null,
      "metadata": {
        "colab": {
          "base_uri": "https://localhost:8080/"
        },
        "id": "DOXxOfsek8AR",
        "outputId": "65919c4e-5dc9-4555-8e6c-b378f79462b1"
      },
      "outputs": [
        {
          "data": {
            "text/plain": [
              "<keras.layers.core.dense.Dense at 0x7fe8c0433290>"
            ]
          },
          "execution_count": 129,
          "metadata": {},
          "output_type": "execute_result"
        }
      ],
      "source": [
        "tf.keras.layers.Dense(10 , activation=\"relu\", kernel_initializer=\"he_normal\")"
      ]
    },
    {
      "cell_type": "code",
      "execution_count": null,
      "metadata": {
        "colab": {
          "base_uri": "https://localhost:8080/"
        },
        "id": "gcyC84hEtQ6d",
        "outputId": "cdb5e03a-5c21-4ad1-b961-95766129592c"
      },
      "outputs": [
        {
          "data": {
            "text/plain": [
              "<keras.layers.core.dense.Dense at 0x7fe8c04432d0>"
            ]
          },
          "execution_count": 130,
          "metadata": {},
          "output_type": "execute_result"
        }
      ],
      "source": [
        "he_avg_init = tf.keras.initializers.VarianceScaling(scale=2.,mode=\"fan_avg\",distribution=\"uniform\")\n",
        "tf.keras.layers.Dense(10, activation=\"sigmoid\",kernel_initializer= he_avg_init)"
      ]
    },
    {
      "cell_type": "code",
      "execution_count": null,
      "metadata": {
        "colab": {
          "base_uri": "https://localhost:8080/"
        },
        "id": "zmgJBZnrvKtT",
        "outputId": "6488400f-b967-4c98-e5ed-753525392a88"
      },
      "outputs": [
        {
          "data": {
            "text/plain": [
              "<keras.layers.core.dense.Dense at 0x7fe8c044b090>"
            ]
          },
          "execution_count": 131,
          "metadata": {},
          "output_type": "execute_result"
        }
      ],
      "source": [
        "leaky_relu = tf.keras.layers.LeakyReLU(alpha=0.2)\n",
        "tf.keras.layers.Dense(10, activation=leaky_relu, kernel_initializer=\"he_normal\")"
      ]
    },
    {
      "cell_type": "code",
      "execution_count": null,
      "metadata": {
        "id": "RdAayjLb0B0T"
      },
      "outputs": [],
      "source": [
        "#To use the PRelu  parametric leaky relu \n",
        "plrelu = tf.keras.layers.PReLU()"
      ]
    },
    {
      "cell_type": "code",
      "execution_count": null,
      "metadata": {
        "colab": {
          "base_uri": "https://localhost:8080/"
        },
        "id": "EHi6HHN2042M",
        "outputId": "d92e7515-ed0a-401c-87c9-ecc620ab7cd3"
      },
      "outputs": [
        {
          "data": {
            "text/plain": [
              "<keras.layers.core.dense.Dense at 0x7fe8c04404d0>"
            ]
          },
          "execution_count": 133,
          "metadata": {},
          "output_type": "execute_result"
        }
      ],
      "source": [
        "#To use the self normalizing linear unit \n",
        "tf.keras.layers.Dense(10, activation=\"selu\", kernel_initializer=\"lecun_normal\")"
      ]
    },
    {
      "cell_type": "code",
      "execution_count": null,
      "metadata": {
        "id": "By5nD8BB1SXV"
      },
      "outputs": [],
      "source": [
        "model = tf.keras.models.Sequential([\n",
        "        tf.keras.layers.Flatten(input_shape=[28,28]),\n",
        "        tf.keras.layers.BatchNormalization(),\n",
        "        tf.keras.layers.Dense(300, activation=\"elu\", kernel_initializer=\"he_normal\"),\n",
        "        tf.keras.layers.BatchNormalization(),\n",
        "        tf.keras.layers.Dense(100, activation=\"elu\", kernel_initializer=\"he_normal\"),\n",
        "        tf.keras.layers.BatchNormalization(),\n",
        "        tf.keras.layers.Dense(10, activation=\"softmax\")\n",
        "])"
      ]
    },
    {
      "cell_type": "code",
      "execution_count": null,
      "metadata": {
        "colab": {
          "base_uri": "https://localhost:8080/"
        },
        "id": "Xaw6bAlo9Y-b",
        "outputId": "41f6dbf4-efbb-47e8-983f-21d28795f225"
      },
      "outputs": [
        {
          "name": "stdout",
          "output_type": "stream",
          "text": [
            "Model: \"sequential_21\"\n",
            "_________________________________________________________________\n",
            " Layer (type)                Output Shape              Param #   \n",
            "=================================================================\n",
            " flatten_15 (Flatten)        (None, 784)               0         \n",
            "                                                                 \n",
            " batch_normalization_37 (Bat  (None, 784)              3136      \n",
            " chNormalization)                                                \n",
            "                                                                 \n",
            " dense_23 (Dense)            (None, 300)               235500    \n",
            "                                                                 \n",
            " batch_normalization_38 (Bat  (None, 300)              1200      \n",
            " chNormalization)                                                \n",
            "                                                                 \n",
            " dense_24 (Dense)            (None, 100)               30100     \n",
            "                                                                 \n",
            " batch_normalization_39 (Bat  (None, 100)              400       \n",
            " chNormalization)                                                \n",
            "                                                                 \n",
            " dense_25 (Dense)            (None, 10)                1010      \n",
            "                                                                 \n",
            "=================================================================\n",
            "Total params: 271,346\n",
            "Trainable params: 268,978\n",
            "Non-trainable params: 2,368\n",
            "_________________________________________________________________\n"
          ]
        }
      ],
      "source": [
        "model.summary()"
      ]
    },
    {
      "cell_type": "code",
      "execution_count": null,
      "metadata": {
        "colab": {
          "base_uri": "https://localhost:8080/"
        },
        "id": "5DEFY7X_9tPt",
        "outputId": "faa57576-4a7e-4caf-9e30-32ceca444733"
      },
      "outputs": [
        {
          "data": {
            "text/plain": [
              "[('batch_normalization_37/gamma:0', True),\n",
              " ('batch_normalization_37/beta:0', True),\n",
              " ('batch_normalization_37/moving_mean:0', False),\n",
              " ('batch_normalization_37/moving_variance:0', False)]"
            ]
          },
          "execution_count": 136,
          "metadata": {},
          "output_type": "execute_result"
        }
      ],
      "source": [
        "[(var.name, var.trainable) for var in model.layers[1].variables]"
      ]
    },
    {
      "cell_type": "code",
      "execution_count": null,
      "metadata": {
        "colab": {
          "base_uri": "https://localhost:8080/"
        },
        "id": "kbq-kmil-YRT",
        "outputId": "016c2195-3742-479f-b994-66affa5ff50a"
      },
      "outputs": [
        {
          "name": "stderr",
          "output_type": "stream",
          "text": [
            "/usr/local/lib/python3.7/dist-packages/ipykernel_launcher.py:1: UserWarning: `layer.updates` will be removed in a future version. This property should not be used in TensorFlow 2.0, as `updates` are applied automatically.\n",
            "  \"\"\"Entry point for launching an IPython kernel.\n"
          ]
        },
        {
          "data": {
            "text/plain": [
              "[]"
            ]
          },
          "execution_count": 137,
          "metadata": {},
          "output_type": "execute_result"
        }
      ],
      "source": [
        "model.layers[1].updates"
      ]
    },
    {
      "cell_type": "code",
      "execution_count": null,
      "metadata": {
        "id": "eeGMeYYb_Bbv"
      },
      "outputs": [],
      "source": [
        "model2 = tf.keras.models.Sequential([\n",
        "tf.keras.layers.Flatten(input_shape=[28 ,28]),\n",
        "tf.keras.layers.BatchNormalization(),#Batch normalization is used to prevent vanishing and exploding gradients\n",
        "tf.keras.layers.Dense(300, kernel_initializer=\"he_normal\"), #Weight initialization techniques are also used to prevent vanishing and exploding gradients\n",
        "tf.keras.layers.BatchNormalization(), \n",
        "tf.keras.layers.Activation(\"elu\"), #Different variants of activation functions are also used to prevent vanishing and exploding gradients\n",
        "tf.keras.layers.Dense(100, kernel_initializer=\"he_normal\"),\n",
        "tf.keras.layers.Activation(\"elu\"),\n",
        "tf.keras.layers.BatchNormalization(),\n",
        "tf.keras.layers.Dense(10, activation=\"softmax\")\n",
        "])"
      ]
    },
    {
      "cell_type": "code",
      "execution_count": null,
      "metadata": {
        "colab": {
          "base_uri": "https://localhost:8080/"
        },
        "id": "pjfnIPKwB0em",
        "outputId": "150ac16f-837c-4494-c936-0260921b0d1f"
      },
      "outputs": [
        {
          "name": "stdout",
          "output_type": "stream",
          "text": [
            "Requirement already satisfied: pyyaml in /usr/local/lib/python3.7/dist-packages (3.13)\n",
            "Requirement already satisfied: h5py in /usr/local/lib/python3.7/dist-packages (3.1.0)\n",
            "Requirement already satisfied: cached-property in /usr/local/lib/python3.7/dist-packages (from h5py) (1.5.2)\n",
            "Requirement already satisfied: numpy>=1.14.5 in /usr/local/lib/python3.7/dist-packages (from h5py) (1.21.5)\n"
          ]
        }
      ],
      "source": [
        "#Saving the model \n",
        "\n",
        "#Imports\n",
        "!pip install pyyaml h5py\n",
        "import os\n",
        "import tensorflow as tf\n",
        "from tensorflow import keras"
      ]
    },
    {
      "cell_type": "code",
      "execution_count": null,
      "metadata": {
        "id": "1ZHNJuidG_6j"
      },
      "outputs": [],
      "source": [
        "#Load the model and split\n",
        "(train_images, train_labels), (test_images, test_labels) = tf.keras.datasets.mnist.load_data()"
      ]
    },
    {
      "cell_type": "code",
      "execution_count": null,
      "metadata": {
        "id": "Ghbcm1vbHa5Q"
      },
      "outputs": [],
      "source": [
        "train_labels = train_labels[:1000]\n",
        "test_labels = test_labels[:1000]"
      ]
    },
    {
      "cell_type": "code",
      "execution_count": null,
      "metadata": {
        "id": "ZbGuNoAiHhwW"
      },
      "outputs": [],
      "source": [
        "train_images = train_images[:1000].reshape(-1, 28,28) #We take 1000 images from the training set and put them int a vector of 28 * 28 rows one colum\n",
        "train_images = train_images/255.0 #We turn our input features into floating points between 0 and 1 this is called normalization"
      ]
    },
    {
      "cell_type": "code",
      "execution_count": null,
      "metadata": {
        "id": "M0jhyDIRIM1X"
      },
      "outputs": [],
      "source": [
        "test_images = test_images[:1000].reshape(-1,28,28) /255.0"
      ]
    },
    {
      "cell_type": "code",
      "execution_count": null,
      "metadata": {
        "id": "yiallImTIloE"
      },
      "outputs": [],
      "source": [
        "model = tf.keras.models.Sequential([\n",
        "  tf.keras.layers.Flatten(input_shape=[28,28]),\n",
        "  tf.keras.layers.BatchNormalization(), #Included batch norm before and after every hidden layer to prevent vanishing and exploding gradients \n",
        "  #Batch norm invloves zero centering and normalizing the inputs\n",
        "  tf.keras.layers.Dense(300, activation=\"elu\", kernel_initializer=\"he_normal\"),\n",
        "  tf.keras.layers.BatchNormalization(),\n",
        "  tf.keras.layers.Dense(100, activation=\"elu\",kernel_initializer=\"he_normal\"),\n",
        "  tf.keras.layers.BatchNormalization(),\n",
        "  tf.keras.layers.Dense(10, activation=\"softmax\")\n",
        "  ])"
      ]
    },
    {
      "cell_type": "code",
      "execution_count": null,
      "metadata": {
        "colab": {
          "base_uri": "https://localhost:8080/"
        },
        "id": "Kia55-RD6fLq",
        "outputId": "aa6eab9c-1c01-4fe7-ec15-d402293d027e"
      },
      "outputs": [
        {
          "name": "stdout",
          "output_type": "stream",
          "text": [
            "Model: \"sequential_23\"\n",
            "_________________________________________________________________\n",
            " Layer (type)                Output Shape              Param #   \n",
            "=================================================================\n",
            " flatten_17 (Flatten)        (None, 784)               0         \n",
            "                                                                 \n",
            " batch_normalization_43 (Bat  (None, 784)              3136      \n",
            " chNormalization)                                                \n",
            "                                                                 \n",
            " dense_29 (Dense)            (None, 300)               235500    \n",
            "                                                                 \n",
            " batch_normalization_44 (Bat  (None, 300)              1200      \n",
            " chNormalization)                                                \n",
            "                                                                 \n",
            " dense_30 (Dense)            (None, 100)               30100     \n",
            "                                                                 \n",
            " batch_normalization_45 (Bat  (None, 100)              400       \n",
            " chNormalization)                                                \n",
            "                                                                 \n",
            " dense_31 (Dense)            (None, 10)                1010      \n",
            "                                                                 \n",
            "=================================================================\n",
            "Total params: 271,346\n",
            "Trainable params: 268,978\n",
            "Non-trainable params: 2,368\n",
            "_________________________________________________________________\n"
          ]
        }
      ],
      "source": [
        "model.summary()"
      ]
    },
    {
      "cell_type": "code",
      "execution_count": null,
      "metadata": {
        "colab": {
          "base_uri": "https://localhost:8080/"
        },
        "id": "vDrqzPNB7Vee",
        "outputId": "c14bfb6b-49e9-42d0-dd2c-62934f45e0fb"
      },
      "outputs": [
        {
          "data": {
            "text/plain": [
              "[('batch_normalization_43/gamma:0', True),\n",
              " ('batch_normalization_43/beta:0', True),\n",
              " ('batch_normalization_43/moving_mean:0', False),\n",
              " ('batch_normalization_43/moving_variance:0', False)]"
            ]
          },
          "execution_count": 146,
          "metadata": {},
          "output_type": "execute_result"
        }
      ],
      "source": [
        "[(var.name, var.trainable) for var in model.layers[1].variables]"
      ]
    },
    {
      "cell_type": "code",
      "execution_count": null,
      "metadata": {
        "colab": {
          "background_save": true
        },
        "id": "evz3viT9796-"
      },
      "outputs": [],
      "source": [
        "#Using batch normalization just after the hidden layers\n",
        "model = tf.keras.models.Sequential([\n",
        "  tf.keras.layers.Flatten(input_shape=[28,28]),\n",
        "  tf.keras.layers.Dense(300,kernel_initializer=\"he_normal\"),\n",
        "  tf.keras.layers.BatchNormalization(),\n",
        "  tf.keras.layers.Activation(\"elu\"),\n",
        "  tf.keras.layers.Dense(100, kernel_initializer=\"he_normal\"),\n",
        "  tf.keras.layers.Activation(\"elu\"),\n",
        "  tf.keras.layers.BatchNormalization(),\n",
        "  tf.keras.layers.Dense(10,activation=\"softmax\")\n",
        "  ]) #This is how we use batch normalization after every hidden layer in our neural network"
      ]
    },
    {
      "cell_type": "code",
      "execution_count": null,
      "metadata": {
        "colab": {
          "base_uri": "https://localhost:8080/"
        },
        "id": "JHTmEv5_--Pn",
        "outputId": "9c21542f-9e75-4501-9e5a-53df00151827"
      },
      "outputs": [
        {
          "data": {
            "text/plain": [
              "<keras.optimizer_v2.gradient_descent.SGD at 0x7fe8bed1c5d0>"
            ]
          },
          "execution_count": 148,
          "metadata": {},
          "output_type": "execute_result"
        }
      ],
      "source": [
        "#Implementing gradient clipping in tensorflow\n",
        "tf.keras.optimizers.SGD(clipvalue=1.0)#This will clip the value to be in between -1 and 1"
      ]
    },
    {
      "cell_type": "code",
      "execution_count": null,
      "metadata": {
        "colab": {
          "base_uri": "https://localhost:8080/"
        },
        "id": "HRXhy9vyGnMK",
        "outputId": "c7ad87e3-3523-421b-82af-bd76f0fcd0df"
      },
      "outputs": [
        {
          "name": "stdout",
          "output_type": "stream",
          "text": [
            "WARNING:tensorflow:Compiled the loaded model, but the compiled metrics have yet to be built. `model.compile_metrics` will be empty until you train or evaluate the model.\n"
          ]
        }
      ],
      "source": [
        "model.save(\"myModel.h5\")"
      ]
    },
    {
      "cell_type": "code",
      "execution_count": null,
      "metadata": {
        "colab": {
          "base_uri": "https://localhost:8080/"
        },
        "id": "ysh5Q3s0NCFq",
        "outputId": "42beb8f8-e393-438f-d1bb-100bbf8f5ad0"
      },
      "outputs": [
        {
          "name": "stdout",
          "output_type": "stream",
          "text": [
            "WARNING:tensorflow:No training configuration found in the save file, so the model was *not* compiled. Compile it manually.\n"
          ]
        }
      ],
      "source": [
        "#Transfer learning with keras.\n",
        "#We load the model \n",
        "model_A = tf.keras.models.load_model(\"myModel.h5\")\n",
        "model_B_on_A = tf.keras.models.Sequential(model_A.layers[:-1])\n",
        "model_B_on_A.add(tf.keras.layers.Dense(1,activation=\"sigmoid\"))\n",
        "#These two models share the same layers and parameters so when you train the new model, the original model will be affected"
      ]
    },
    {
      "cell_type": "code",
      "execution_count": null,
      "metadata": {
        "id": "vLZCstpMPCLF"
      },
      "outputs": [],
      "source": [
        "#We clone the model and copy its parameters\n",
        "model_A_clone = tf.keras.models.clone_model(model_A) #We clone the layers of the original model\n",
        "model_A_clone = model_A_clone.set_weights(model_A.get_weights()) #We copy the parameters of the first model and apply them to the clone of the  original model\n",
        "#By doing so the parameter of the original model won't be affected by gradient descent."
      ]
    },
    {
      "cell_type": "code",
      "execution_count": null,
      "metadata": {
        "id": "b_7ogMCiQu9X"
      },
      "outputs": [],
      "source": [
        "#We have to freeze the cloned model's higher level layers to prevent the model from making huge errors \n",
        "#We freeze the layers by setting the trainable parameters to false of a specific layer\n",
        "\n",
        "for layer in model_A.layers[:-1]:\n",
        "  layer.trainable = False"
      ]
    },
    {
      "cell_type": "code",
      "execution_count": null,
      "metadata": {
        "id": "WmtraqQlThVv"
      },
      "outputs": [],
      "source": [
        "model = tf.keras.models.Sequential([\n",
        "tf.keras.layers.Flatten(input_shape=[28,28]),\n",
        "tf.keras.layers.BatchNormalization(),\n",
        "tf.keras.layers.Activation(\"elu\"),\n",
        "tf.keras.layers.Dense(100, kernel_initializer=\"he_normal\"),\n",
        "tf.keras.layers.Activation(\"elu\"),\n",
        "tf.keras.layers.BatchNormalization(),\n",
        "tf.keras.layers.Dense(10, activation=\"softmax\")\n",
        "])"
      ]
    },
    {
      "cell_type": "code",
      "execution_count": null,
      "metadata": {
        "colab": {
          "base_uri": "https://localhost:8080/"
        },
        "id": "AnqRG1s-aT9S",
        "outputId": "a2f0d95d-340a-45a2-b974-b0461634c0a6"
      },
      "outputs": [
        {
          "name": "stdout",
          "output_type": "stream",
          "text": [
            "WARNING:tensorflow:Compiled the loaded model, but the compiled metrics have yet to be built. `model.compile_metrics` will be empty until you train or evaluate the model.\n",
            "INFO:tensorflow:Assets written to: MyModel.H5/assets\n"
          ]
        }
      ],
      "source": [
        "model = model.save(\"MyModel.H5\")"
      ]
    },
    {
      "cell_type": "code",
      "execution_count": null,
      "metadata": {
        "colab": {
          "base_uri": "https://localhost:8080/"
        },
        "id": "xe_43NvkcPff",
        "outputId": "a6c3defa-be63-48cf-866b-af64b8b05316"
      },
      "outputs": [
        {
          "name": "stdout",
          "output_type": "stream",
          "text": [
            "WARNING:tensorflow:No training configuration found in save file, so the model was *not* compiled. Compile it manually.\n"
          ]
        }
      ],
      "source": [
        "#Load the model \n",
        "model_A = tf.keras.models.load_model(\"MyModel.H5\")"
      ]
    },
    {
      "cell_type": "code",
      "execution_count": null,
      "metadata": {
        "id": "iDJLTRXwdCWI"
      },
      "outputs": [],
      "source": [
        "model_A_on_B = tf.keras.models.Sequential(model_A.layers[:-1]) #We remove the output layer and add our own "
      ]
    },
    {
      "cell_type": "code",
      "execution_count": null,
      "metadata": {
        "id": "IGl2FPOna14d"
      },
      "outputs": [],
      "source": [
        "#Transfer learning with keras\n",
        "\n",
        "#Lets create a sequential model\n",
        "model = tf.keras.models.Sequential([\n",
        "tf.keras.layers.Flatten(input_shape=]),\n",
        "tf.keras.layers.BatchNormalization(),\n",
        "tf.keras.layers.Dense(300,kernel_initializer=\"he_normal\"),\n",
        "tf.keras.layers.Activation(\"elu\"),\n",
        "tf.keras.layers.Dense(100, kernel_initializer=\"he_normal\"),\n",
        "tf.keras.layers.Activation(\"elu\"),\n",
        "tf.keras.layers.BatchNormalization(),\n",
        "tf.keras.layers.Dense(10, activation=\"softmax\")\n",
        "])"
      ]
    },
    {
      "cell_type": "code",
      "execution_count": null,
      "metadata": {
        "colab": {
          "base_uri": "https://localhost:8080/"
        },
        "id": "aEpJxH0zfqUt",
        "outputId": "43f6e022-1861-4704-b2f7-8de599a0c7bd"
      },
      "outputs": [
        {
          "name": "stdout",
          "output_type": "stream",
          "text": [
            "WARNING:tensorflow:Compiled the loaded model, but the compiled metrics have yet to be built. `model.compile_metrics` will be empty until you train or evaluate the model.\n",
            "INFO:tensorflow:Assets written to: MyModel.H5/assets\n"
          ]
        }
      ],
      "source": [
        "#Lets save the model \n",
        "model = model.save(\"MyModel.H5\")"
      ]
    },
    {
      "cell_type": "code",
      "execution_count": null,
      "metadata": {
        "colab": {
          "base_uri": "https://localhost:8080/"
        },
        "id": "wAZZZv5rf4vH",
        "outputId": "f90f317d-c56a-4ab9-8be7-4c8b8d2aafd8"
      },
      "outputs": [
        {
          "name": "stdout",
          "output_type": "stream",
          "text": [
            "WARNING:tensorflow:No training configuration found in save file, so the model was *not* compiled. Compile it manually.\n"
          ]
        }
      ],
      "source": [
        "#Lets load the model\n",
        "model_A = tf.keras.models.load_model(\"MyModel.H5\")"
      ]
    },
    {
      "cell_type": "code",
      "execution_count": null,
      "metadata": {
        "id": "C-dDjh4-h5ma"
      },
      "outputs": [],
      "source": [
        "model_A_on_B = tf.keras.models.Sequential(model_A.layers[:-1]) #We remove the last layer of our model to suit the task  "
      ]
    },
    {
      "cell_type": "code",
      "execution_count": null,
      "metadata": {
        "id": "BGOCsxpdiycC"
      },
      "outputs": [],
      "source": [
        "#We add another layers based on the task we are trying to solve \n",
        "model_A_on_B.add(tf.keras.layers.Dense(1, activation=\"sigmoid\")) #We add a dense layer of 1 neuron and a sigmoid activation function to better suit our task \n"
      ]
    },
    {
      "cell_type": "code",
      "execution_count": null,
      "metadata": {
        "id": "M8SS9mbfjIuP"
      },
      "outputs": [],
      "source": [
        "#When we train the new model backpropagation will affect model_A  to avoid this we should clone the model \n",
        "model_A_clone = tf.keras.models.clone_model(model_A)\n",
        "model_A_clone.set_weights(model_A.get_weights())"
      ]
    },
    {
      "cell_type": "code",
      "execution_count": null,
      "metadata": {
        "id": "X-EwhRI6lfEa"
      },
      "outputs": [],
      "source": [
        "for layer in model_A_clone.layers[:-1]: #We freeze the layers of our model \n",
        "  layer.trainable = False"
      ]
    },
    {
      "cell_type": "code",
      "execution_count": null,
      "metadata": {
        "id": "F60zb79Ynexc"
      },
      "outputs": [],
      "source": [
        "#We compile the model after we freeze and unfreeze the layers\n",
        "model_A_clone.compile(loss=\"binary_crossentropy\", optimizer=\"SGD\", metrics=[\"accuracy\"])"
      ]
    },
    {
      "cell_type": "code",
      "execution_count": null,
      "metadata": {
        "colab": {
          "base_uri": "https://localhost:8080/"
        },
        "id": "PoDj6gpbohR7",
        "outputId": "c9323004-39e7-4e34-92ca-200c25935a3b"
      },
      "outputs": [
        {
          "name": "stdout",
          "output_type": "stream",
          "text": [
            "WARNING:tensorflow:No training configuration found in save file, so the model was *not* compiled. Compile it manually.\n"
          ]
        }
      ],
      "source": [
        "#We load the saved model \n",
        "model_A = tf.keras.models.load_model(\"MyModel.H5\")"
      ]
    },
    {
      "cell_type": "code",
      "execution_count": null,
      "metadata": {
        "id": "Rw6JgG1NpNYa"
      },
      "outputs": [],
      "source": [
        "#We remove the last layer(Output layer) of our model since we have a different task \n",
        "model_A_on_B = tf.keras.models.Sequential(model_A.layers[:-1])"
      ]
    },
    {
      "cell_type": "code",
      "execution_count": null,
      "metadata": {
        "id": "RfVd7GnPTids"
      },
      "outputs": [],
      "source": [
        "#We add our own output layer\n",
        "model_A_on_B.add(tf.keras.layers.Dense(1,activation=\"softmax\"))"
      ]
    },
    {
      "cell_type": "code",
      "execution_count": null,
      "metadata": {
        "id": "K42WxrP_qcLl"
      },
      "outputs": [],
      "source": [
        "#Cloning the model\n",
        "model_A_clone = tf.keras.models.clone_model(model_A)\n",
        "#We set the weights \n",
        "model_A_clone.set_weights(model_A.get_weights())"
      ]
    },
    {
      "cell_type": "code",
      "execution_count": null,
      "metadata": {
        "id": "90Uo-XQYtLdd"
      },
      "outputs": [],
      "source": [
        "#We can also freeze layers in our model\n",
        "for layer in model_A_clone.layers[:-1]:\n",
        "  layer.trainable =False"
      ]
    },
    {
      "cell_type": "code",
      "execution_count": null,
      "metadata": {
        "id": "fhUOj3ggt6Sm"
      },
      "outputs": [],
      "source": [
        "#After we freeze we compile our model \n",
        "model_A_clone.compile(loss=\"binary_crossentropy\", optimizer=\"sgd\", metrics=[\"Accuracy\"])"
      ]
    },
    {
      "cell_type": "code",
      "execution_count": null,
      "metadata": {
        "id": "LG9Av5BJuM0f"
      },
      "outputs": [],
      "source": [
        "mnist = tf.keras.datasets.mnist"
      ]
    },
    {
      "cell_type": "code",
      "execution_count": null,
      "metadata": {
        "id": "xkVYXpMAvd0_"
      },
      "outputs": [],
      "source": [
        "fashionmnist = tf.keras.datasets.fashion_mnist"
      ]
    },
    {
      "cell_type": "code",
      "execution_count": null,
      "metadata": {
        "colab": {
          "base_uri": "https://localhost:8080/"
        },
        "id": "Btc3gWq8vtCE",
        "outputId": "9b36b9e0-0f78-4de3-a810-fa10e1a0fcbe"
      },
      "outputs": [
        {
          "data": {
            "text/plain": [
              "<module 'keras.api._v2.keras.datasets.mnist' from '/usr/local/lib/python3.7/dist-packages/keras/api/_v2/keras/datasets/mnist/__init__.py'>"
            ]
          },
          "execution_count": 173,
          "metadata": {},
          "output_type": "execute_result"
        }
      ],
      "source": [
        "mnist"
      ]
    },
    {
      "cell_type": "code",
      "execution_count": null,
      "metadata": {
        "id": "VVGW5MfrwLCm"
      },
      "outputs": [],
      "source": [
        "(x_train,y_train),(x_test,y_test) = mnist.load_data()"
      ]
    },
    {
      "cell_type": "code",
      "execution_count": null,
      "metadata": {
        "colab": {
          "base_uri": "https://localhost:8080/"
        },
        "id": "TMPKCfbM1Gq2",
        "outputId": "ced49e7b-8f3a-44e6-cad4-3c78b556d72d"
      },
      "outputs": [
        {
          "data": {
            "text/plain": [
              "(60000, 28, 28)"
            ]
          },
          "execution_count": 175,
          "metadata": {},
          "output_type": "execute_result"
        }
      ],
      "source": [
        "x_train.shape"
      ]
    },
    {
      "cell_type": "code",
      "execution_count": null,
      "metadata": {
        "colab": {
          "base_uri": "https://localhost:8080/"
        },
        "id": "-kD4rat21IPF",
        "outputId": "05f7752b-d213-4216-d194-6d9070412449"
      },
      "outputs": [
        {
          "data": {
            "text/plain": [
              "(10000, 28, 28)"
            ]
          },
          "execution_count": 176,
          "metadata": {},
          "output_type": "execute_result"
        }
      ],
      "source": [
        "x_test.shape"
      ]
    },
    {
      "cell_type": "code",
      "execution_count": null,
      "metadata": {
        "id": "OE7isDodwovI"
      },
      "outputs": [],
      "source": [
        "x_train, x_test = x_train/255.0,x_test/255.0"
      ]
    },
    {
      "cell_type": "code",
      "execution_count": null,
      "metadata": {
        "colab": {
          "base_uri": "https://localhost:8080/"
        },
        "id": "yBMK3huCz5Qq",
        "outputId": "dd58dee3-d80d-492c-ef19-b3137a0609b6"
      },
      "outputs": [
        {
          "data": {
            "text/plain": [
              "(28, 28)"
            ]
          },
          "execution_count": 178,
          "metadata": {},
          "output_type": "execute_result"
        }
      ],
      "source": [
        "x_train[0].shape"
      ]
    },
    {
      "cell_type": "code",
      "execution_count": null,
      "metadata": {
        "colab": {
          "base_uri": "https://localhost:8080/"
        },
        "id": "WvSEg_q4z83v",
        "outputId": "375e9e4b-7558-4852-b528-2552ac082d7a"
      },
      "outputs": [
        {
          "data": {
            "text/plain": [
              "()"
            ]
          },
          "execution_count": 179,
          "metadata": {},
          "output_type": "execute_result"
        }
      ],
      "source": [
        "y_train[0].shape"
      ]
    },
    {
      "cell_type": "code",
      "execution_count": null,
      "metadata": {
        "colab": {
          "base_uri": "https://localhost:8080/"
        },
        "id": "4KBevSQp0z07",
        "outputId": "b48c2971-29f4-470a-ba75-4051371c1f91"
      },
      "outputs": [
        {
          "data": {
            "text/plain": [
              "(60000, 28, 28)"
            ]
          },
          "execution_count": 180,
          "metadata": {},
          "output_type": "execute_result"
        }
      ],
      "source": [
        "x_train.shape"
      ]
    },
    {
      "cell_type": "code",
      "execution_count": null,
      "metadata": {
        "id": "nMDJ2OhLwyUw"
      },
      "outputs": [],
      "source": [
        "#Fashion Mnist\n",
        "(train_images_full, train_labels) ,(test_images_full, test_labels) = fashionmnist.load_data()\n"
      ]
    },
    {
      "cell_type": "code",
      "execution_count": null,
      "metadata": {
        "id": "Iangq-XQxCao"
      },
      "outputs": [],
      "source": [
        "\n",
        "train_images = train_images/255.0 \n",
        "test_images = test_images /255.0"
      ]
    },
    {
      "cell_type": "code",
      "execution_count": null,
      "metadata": {
        "id": "coxg65IBzFoC"
      },
      "outputs": [],
      "source": [
        "cb =tf.keras.callbacks.EarlyStopping( patience=10, restore_best_weights=True)"
      ]
    },
    {
      "cell_type": "code",
      "execution_count": null,
      "metadata": {
        "colab": {
          "base_uri": "https://localhost:8080/",
          "height": 747
        },
        "id": "qypjj4DYxaOp",
        "outputId": "f56243d0-c84c-460c-a9a8-cb7aa3b28fd6"
      },
      "outputs": [
        {
          "name": "stdout",
          "output_type": "stream",
          "text": [
            "Epoch 1/4\n"
          ]
        },
        {
          "ename": "ValueError",
          "evalue": "ignored",
          "output_type": "error",
          "traceback": [
            "\u001b[0;31m---------------------------------------------------------------------------\u001b[0m",
            "\u001b[0;31mValueError\u001b[0m                                Traceback (most recent call last)",
            "\u001b[0;32m<ipython-input-184-d4e3e94e153b>\u001b[0m in \u001b[0;36m<module>\u001b[0;34m()\u001b[0m\n\u001b[0;32m----> 1\u001b[0;31m \u001b[0mmodel_A_clone\u001b[0m\u001b[0;34m.\u001b[0m\u001b[0mfit\u001b[0m\u001b[0;34m(\u001b[0m\u001b[0mx_train\u001b[0m\u001b[0;34m,\u001b[0m \u001b[0my_train\u001b[0m\u001b[0;34m,\u001b[0m \u001b[0mepochs\u001b[0m\u001b[0;34m=\u001b[0m\u001b[0;36m4\u001b[0m\u001b[0;34m)\u001b[0m\u001b[0;34m\u001b[0m\u001b[0;34m\u001b[0m\u001b[0m\n\u001b[0m\u001b[1;32m      2\u001b[0m \u001b[0;31m#Fix error\u001b[0m\u001b[0;34m\u001b[0m\u001b[0;34m\u001b[0m\u001b[0;34m\u001b[0m\u001b[0m\n",
            "\u001b[0;32m/usr/local/lib/python3.7/dist-packages/keras/utils/traceback_utils.py\u001b[0m in \u001b[0;36merror_handler\u001b[0;34m(*args, **kwargs)\u001b[0m\n\u001b[1;32m     65\u001b[0m     \u001b[0;32mexcept\u001b[0m \u001b[0mException\u001b[0m \u001b[0;32mas\u001b[0m \u001b[0me\u001b[0m\u001b[0;34m:\u001b[0m  \u001b[0;31m# pylint: disable=broad-except\u001b[0m\u001b[0;34m\u001b[0m\u001b[0;34m\u001b[0m\u001b[0m\n\u001b[1;32m     66\u001b[0m       \u001b[0mfiltered_tb\u001b[0m \u001b[0;34m=\u001b[0m \u001b[0m_process_traceback_frames\u001b[0m\u001b[0;34m(\u001b[0m\u001b[0me\u001b[0m\u001b[0;34m.\u001b[0m\u001b[0m__traceback__\u001b[0m\u001b[0;34m)\u001b[0m\u001b[0;34m\u001b[0m\u001b[0;34m\u001b[0m\u001b[0m\n\u001b[0;32m---> 67\u001b[0;31m       \u001b[0;32mraise\u001b[0m \u001b[0me\u001b[0m\u001b[0;34m.\u001b[0m\u001b[0mwith_traceback\u001b[0m\u001b[0;34m(\u001b[0m\u001b[0mfiltered_tb\u001b[0m\u001b[0;34m)\u001b[0m \u001b[0;32mfrom\u001b[0m \u001b[0;32mNone\u001b[0m\u001b[0;34m\u001b[0m\u001b[0;34m\u001b[0m\u001b[0m\n\u001b[0m\u001b[1;32m     68\u001b[0m     \u001b[0;32mfinally\u001b[0m\u001b[0;34m:\u001b[0m\u001b[0;34m\u001b[0m\u001b[0;34m\u001b[0m\u001b[0m\n\u001b[1;32m     69\u001b[0m       \u001b[0;32mdel\u001b[0m \u001b[0mfiltered_tb\u001b[0m\u001b[0;34m\u001b[0m\u001b[0;34m\u001b[0m\u001b[0m\n",
            "\u001b[0;32m/usr/local/lib/python3.7/dist-packages/tensorflow/python/framework/func_graph.py\u001b[0m in \u001b[0;36mautograph_handler\u001b[0;34m(*args, **kwargs)\u001b[0m\n\u001b[1;32m   1145\u001b[0m           \u001b[0;32mexcept\u001b[0m \u001b[0mException\u001b[0m \u001b[0;32mas\u001b[0m \u001b[0me\u001b[0m\u001b[0;34m:\u001b[0m  \u001b[0;31m# pylint:disable=broad-except\u001b[0m\u001b[0;34m\u001b[0m\u001b[0;34m\u001b[0m\u001b[0m\n\u001b[1;32m   1146\u001b[0m             \u001b[0;32mif\u001b[0m \u001b[0mhasattr\u001b[0m\u001b[0;34m(\u001b[0m\u001b[0me\u001b[0m\u001b[0;34m,\u001b[0m \u001b[0;34m\"ag_error_metadata\"\u001b[0m\u001b[0;34m)\u001b[0m\u001b[0;34m:\u001b[0m\u001b[0;34m\u001b[0m\u001b[0;34m\u001b[0m\u001b[0m\n\u001b[0;32m-> 1147\u001b[0;31m               \u001b[0;32mraise\u001b[0m \u001b[0me\u001b[0m\u001b[0;34m.\u001b[0m\u001b[0mag_error_metadata\u001b[0m\u001b[0;34m.\u001b[0m\u001b[0mto_exception\u001b[0m\u001b[0;34m(\u001b[0m\u001b[0me\u001b[0m\u001b[0;34m)\u001b[0m\u001b[0;34m\u001b[0m\u001b[0;34m\u001b[0m\u001b[0m\n\u001b[0m\u001b[1;32m   1148\u001b[0m             \u001b[0;32melse\u001b[0m\u001b[0;34m:\u001b[0m\u001b[0;34m\u001b[0m\u001b[0;34m\u001b[0m\u001b[0m\n\u001b[1;32m   1149\u001b[0m               \u001b[0;32mraise\u001b[0m\u001b[0;34m\u001b[0m\u001b[0;34m\u001b[0m\u001b[0m\n",
            "\u001b[0;31mValueError\u001b[0m: in user code:\n\n    File \"/usr/local/lib/python3.7/dist-packages/keras/engine/training.py\", line 1021, in train_function  *\n        return step_function(self, iterator)\n    File \"/usr/local/lib/python3.7/dist-packages/keras/engine/training.py\", line 1010, in step_function  **\n        outputs = model.distribute_strategy.run(run_step, args=(data,))\n    File \"/usr/local/lib/python3.7/dist-packages/keras/engine/training.py\", line 1000, in run_step  **\n        outputs = model.train_step(data)\n    File \"/usr/local/lib/python3.7/dist-packages/keras/engine/training.py\", line 860, in train_step\n        loss = self.compute_loss(x, y, y_pred, sample_weight)\n    File \"/usr/local/lib/python3.7/dist-packages/keras/engine/training.py\", line 919, in compute_loss\n        y, y_pred, sample_weight, regularization_losses=self.losses)\n    File \"/usr/local/lib/python3.7/dist-packages/keras/engine/compile_utils.py\", line 201, in __call__\n        loss_value = loss_obj(y_t, y_p, sample_weight=sw)\n    File \"/usr/local/lib/python3.7/dist-packages/keras/losses.py\", line 141, in __call__\n        losses = call_fn(y_true, y_pred)\n    File \"/usr/local/lib/python3.7/dist-packages/keras/losses.py\", line 245, in call  **\n        return ag_fn(y_true, y_pred, **self._fn_kwargs)\n    File \"/usr/local/lib/python3.7/dist-packages/keras/losses.py\", line 1932, in binary_crossentropy\n        backend.binary_crossentropy(y_true, y_pred, from_logits=from_logits),\n    File \"/usr/local/lib/python3.7/dist-packages/keras/backend.py\", line 5247, in binary_crossentropy\n        return tf.nn.sigmoid_cross_entropy_with_logits(labels=target, logits=output)\n\n    ValueError: `logits` and `labels` must have the same shape, received ((32, 10) vs (32, 1)).\n"
          ]
        }
      ],
      "source": [
        "model_A_clone.fit(x_train, y_train, epochs=4)\n",
        "#Fix error"
      ]
    },
    {
      "cell_type": "markdown",
      "metadata": {
        "id": "JIzo5V1rdghK"
      },
      "source": [
        "In transfer learning if the input features of your task don't have the same size like the one of the original model then you have to add a preprocessing step to resize the size of your images to be closer to the one of the original task. The output layer of the original model should always be replaced since they might not have the intented number of output as the original task. The upper hidden layers are less likely to be useful as the lower hidden layers since the task might differ significantly from the ones that were most useful."
      ]
    },
    {
      "cell_type": "code",
      "execution_count": null,
      "metadata": {
        "id": "W_ZDTSNczb-Z"
      },
      "outputs": [],
      "source": [
        "model = tf.keras.models.Sequential([\n",
        "tf.keras.layers.Flatten(input_shape=[28,28]),\n",
        "tf.keras.layers.BatchNormalization(),\n",
        "tf.keras.layers.Dense(300,kernel_initializer=\"he_normal\"),\n",
        "tf.keras.layers.Activation(\"elu\"),\n",
        "tf.keras.layers.Dense(100, kernel_initializer=\"he_normal\"),\n",
        "tf.keras.layers.Activation(\"elu\"),\n",
        "tf.keras.layers.BatchNormalization(),\n",
        "tf.keras.layers.Dense(1,activation=\"softmax\")\n",
        "])"
      ]
    },
    {
      "cell_type": "code",
      "execution_count": null,
      "metadata": {
        "id": "n2n0nRe5kiBc"
      },
      "outputs": [],
      "source": [
        "model.compile(loss=\"binary_crossentropy\", optimizer=\"sgd\", metrics=[\"accuracy\"])"
      ]
    },
    {
      "cell_type": "code",
      "execution_count": null,
      "metadata": {
        "id": "zSlZ9iZ3k3Qj"
      },
      "outputs": [],
      "source": [
        "model.fit(x_train,y_train, epochs=20)"
      ]
    },
    {
      "cell_type": "code",
      "execution_count": null,
      "metadata": {
        "id": "T6w-EMihlreS"
      },
      "outputs": [],
      "source": [
        "#cb = tf.keras.callbacks.ModelCheckpoint(save) DO SAVING THE MODEL ONCE AGAIN "
      ]
    },
    {
      "cell_type": "code",
      "execution_count": null,
      "metadata": {
        "id": "3RcOIBkelb0Y"
      },
      "outputs": [],
      "source": [
        "model.save(\"MyModel.H5\")"
      ]
    },
    {
      "cell_type": "code",
      "execution_count": null,
      "metadata": {
        "id": "H2aWLXdemnzA"
      },
      "outputs": [],
      "source": [
        "#We load the model \n",
        "model_A = tf.keras.models.load_model(\"MyModel.H5\")"
      ]
    },
    {
      "cell_type": "code",
      "execution_count": null,
      "metadata": {
        "id": "pGg8r8Lem58z"
      },
      "outputs": [],
      "source": [
        "#We create a new model based on the layers of the loaded model \n",
        "model_A_reloaded = tf.keras.models.Sequential(model_A.layers[:-1]) #We also remove the last layer of this model since the  task is different from the original one which means the output layer should have different number of neurons\n",
        " "
      ]
    },
    {
      "cell_type": "code",
      "execution_count": null,
      "metadata": {
        "id": "iLLZCe5moCsx"
      },
      "outputs": [],
      "source": [
        "#We add our own output layer\n",
        "model_A_reloaded.add(tf.keras.layers.Dense(1, activation=\"softmax\"))"
      ]
    },
    {
      "cell_type": "code",
      "execution_count": null,
      "metadata": {
        "id": "3CuUpr90oTFo"
      },
      "outputs": [],
      "source": [
        "#Cloning the model \n",
        "model_A_clone = tf.keras.models.clone_model(model_A)\n",
        "#This clone comes without parameters so we set them \n",
        "model_A_clone.set_weights(model_A.get_weights())"
      ]
    },
    {
      "cell_type": "code",
      "execution_count": null,
      "metadata": {
        "id": "9j7cHBybpCWG"
      },
      "outputs": [],
      "source": [
        "#We freeze the layers \n",
        "for layer in model_A_clone.layers[:-1]: #To freeze the layers we set every layers trainable attributes to false\n",
        "  layer.trainable = False "
      ]
    },
    {
      "cell_type": "code",
      "execution_count": null,
      "metadata": {
        "id": "VnmLBFotqOSA"
      },
      "outputs": [],
      "source": [
        "model_A_clone.compile(loss=tf.keras.losses.BinaryCrossentropy(from_logits=True), optimizer=\"sgd\", metrics=[\"accuracy\"])"
      ]
    },
    {
      "cell_type": "code",
      "execution_count": null,
      "metadata": {
        "id": "OUwRe1E_2bZW"
      },
      "outputs": [],
      "source": [
        ""
      ]
    },
    {
      "cell_type": "code",
      "execution_count": null,
      "metadata": {
        "id": "msboPW7Vqsgv"
      },
      "outputs": [],
      "source": [
        "#We should compile the model after we freeze of unfreeze a particular layer\n",
        "\n"
      ]
    },
    {
      "cell_type": "code",
      "execution_count": null,
      "metadata": {
        "id": "p77PNUejk1km"
      },
      "outputs": [],
      "source": [
        "model_A_clone.layers[:-1]\n"
      ]
    },
    {
      "cell_type": "code",
      "execution_count": null,
      "metadata": {
        "id": "ti594yx_lAxT"
      },
      "outputs": [],
      "source": [
        "model_A_clone.add(tf.keras.layers.Dense(10, activation=\"softmax\"))"
      ]
    },
    {
      "cell_type": "code",
      "execution_count": null,
      "metadata": {
        "id": "4J9wE6_hluP1"
      },
      "outputs": [],
      "source": [
        "model"
      ]
    },
    {
      "cell_type": "code",
      "execution_count": null,
      "metadata": {
        "id": "sRDWJ5GPlkqJ"
      },
      "outputs": [],
      "source": [
        "model_A_clone.layers[:-1]"
      ]
    },
    {
      "cell_type": "code",
      "execution_count": null,
      "metadata": {
        "id": "xxWgRjE1l2y7"
      },
      "outputs": [],
      "source": [
        "model_A_clone.layers[:-1]"
      ]
    },
    {
      "cell_type": "code",
      "execution_count": null,
      "metadata": {
        "id": "wsvQh4Hml6Pb"
      },
      "outputs": [],
      "source": [
        "model_A_New = tf.keras.models.Sequential(model_A_clone.layers[:-1])"
      ]
    },
    {
      "cell_type": "code",
      "execution_count": null,
      "metadata": {
        "id": "g5kgO_ypmO6k"
      },
      "outputs": [],
      "source": [
        "model_A_New1 = tf.keras.models.Sequential(model_A_New.layers[:-1])"
      ]
    },
    {
      "cell_type": "code",
      "execution_count": null,
      "metadata": {
        "id": "rHXy8_P8mbIJ"
      },
      "outputs": [],
      "source": [
        "model_A_New1.summary()"
      ]
    },
    {
      "cell_type": "code",
      "execution_count": null,
      "metadata": {
        "id": "HjWJ9K4Imd-Z"
      },
      "outputs": [],
      "source": [
        "model_A_New1.set_weights(model_A.get_weights())"
      ]
    },
    {
      "cell_type": "code",
      "execution_count": null,
      "metadata": {
        "id": "LCiKvhl_mvB5"
      },
      "outputs": [],
      "source": [
        "model_A_New1.summary()"
      ]
    },
    {
      "cell_type": "code",
      "execution_count": null,
      "metadata": {
        "id": "BPKbxQyimyYW"
      },
      "outputs": [],
      "source": [
        "model_A_New.compile(loss=\"binary_crossentropy\", optimizer=\"SGD\", metrics=['accuracy'])"
      ]
    },
    {
      "cell_type": "code",
      "execution_count": null,
      "metadata": {
        "id": "F6FQjX5GnEEu"
      },
      "outputs": [],
      "source": [
        "model_A_New.fit(x_train,y_train,epochs=10)"
      ]
    },
    {
      "cell_type": "code",
      "execution_count": null,
      "metadata": {
        "id": "UR_emLz1sHGz"
      },
      "outputs": [],
      "source": [
        "model_A_clone.fit(x_train, y_train, epochs=20)"
      ]
    },
    {
      "cell_type": "code",
      "execution_count": null,
      "metadata": {
        "id": "cfFpnz73q4yD"
      },
      "outputs": [],
      "source": [
        "mnistOne= tf.keras.datasets.mnist.load_data()"
      ]
    },
    {
      "cell_type": "code",
      "execution_count": null,
      "metadata": {
        "id": "I5AQ3bJJrOYh"
      },
      "outputs": [],
      "source": [
        "(x_train_full,x_test),(y_train_full, y_test) = mnistOne"
      ]
    },
    {
      "cell_type": "code",
      "execution_count": null,
      "metadata": {
        "id": "Y0YWuTetrdoj"
      },
      "outputs": [],
      "source": [
        "!pip install -U scikit-learn\n",
        "from sklearn.model_selection import train_test_split"
      ]
    },
    {
      "cell_type": "code",
      "execution_count": null,
      "metadata": {
        "id": "VHCQFdRAydvV"
      },
      "outputs": [],
      "source": [
        "mnistOne = tf.keras.datasets.mnist.load_data()"
      ]
    },
    {
      "cell_type": "code",
      "execution_count": null,
      "metadata": {
        "id": "QhfgWCvWynUA"
      },
      "outputs": [],
      "source": [
        "(x_train_full, x_test),(y_train_full, y_test) = mnistOne"
      ]
    },
    {
      "cell_type": "code",
      "execution_count": null,
      "metadata": {
        "id": "DJzKm_lvzu4q"
      },
      "outputs": [],
      "source": [
        "x_train_full.shape"
      ]
    },
    {
      "cell_type": "code",
      "execution_count": null,
      "metadata": {
        "id": "OmQXZ5y6zwYQ"
      },
      "outputs": [],
      "source": [
        "y_train_full.shape"
      ]
    },
    {
      "cell_type": "code",
      "execution_count": null,
      "metadata": {
        "id": "o89pFG1AzU2u"
      },
      "outputs": [],
      "source": [
        "x_train,x_valid = x_train_full[:5000], x_train_full[:5000]\n",
        "y_train,y_valid = y_train_full[:5000], y_train_full[:5000]"
      ]
    },
    {
      "cell_type": "code",
      "execution_count": null,
      "metadata": {
        "id": "Fj4dfFyx4t1e"
      },
      "outputs": [],
      "source": [
        "x_train.shape, y_train.shape"
      ]
    },
    {
      "cell_type": "code",
      "execution_count": null,
      "metadata": {
        "id": "3Rk__oqpzVLb"
      },
      "outputs": [],
      "source": [
        "model_A_clone.compile(loss=tf.keras.losses.SparseCategoricalCrossentropy(from_logits=True), metrics=[\"accuracy\"])"
      ]
    },
    {
      "cell_type": "code",
      "execution_count": null,
      "metadata": {
        "id": "mDm7Th8S1CGV"
      },
      "outputs": [],
      "source": [
        "model_A_clone.fit(x_train,y_train,epochs=5, validation_data=[x_valid, y_valid])"
      ]
    },
    {
      "cell_type": "code",
      "execution_count": null,
      "metadata": {
        "id": "pjPrrYE014th"
      },
      "outputs": [],
      "source": [
        "model_A_clone.summary()"
      ]
    },
    {
      "cell_type": "code",
      "execution_count": null,
      "metadata": {
        "id": "0kVtIC9G2BI5"
      },
      "outputs": [],
      "source": [
        "#Freezing layers during transfer learning \n",
        "for layer in model_A_clone.layers[:-1]:\n",
        "  layer.trainable = False"
      ]
    },
    {
      "cell_type": "code",
      "execution_count": null,
      "metadata": {
        "id": "3DIEAbYosI_i"
      },
      "outputs": [],
      "source": [
        "#Unfreezing layers during transfer learning\n",
        "for layer in model_A_clone.layers[:-1]:\n",
        "  layer.trainable = True"
      ]
    },
    {
      "cell_type": "code",
      "execution_count": null,
      "metadata": {
        "id": "djgqwQjDsUlr"
      },
      "outputs": [],
      "source": [
        "optimizer = tf.keras.optimizers.SGD(1e-3)"
      ]
    },
    {
      "cell_type": "markdown",
      "metadata": {
        "id": "XBa2kn9y_o27"
      },
      "source": [
        "Ways of speeding up training of a deep neural network \n",
        "- Using a good weight initialization strategy.\n",
        "- Using a different variants of activation functions.\n",
        "- Using batch normalisation.\n",
        "- Using parts of a pretrained neural network or so called transfer learning.\n",
        "\n",
        "Another way of boosting the training of a deep neural network is using other optimizers than the regular or vanilla gradient descent algorithm.\n",
        "Other optimization strategies include: \n",
        "Momentum optimization, Nesterov Accelerated gradient, RMS prop ,AdaGrad, Adam and Nadam optimization.\n"
      ]
    },
    {
      "cell_type": "code",
      "execution_count": null,
      "metadata": {
        "id": "DL8IzCr0tDAF"
      },
      "outputs": [],
      "source": [
        "import tensorflow as tf\n",
        "optimizers = tf.keras.optimizers.SGD(lr=0.001, momentum=0.9)"
      ]
    },
    {
      "cell_type": "markdown",
      "metadata": {
        "id": "m3uPPHGOL--e"
      },
      "source": [
        "Another faster optimization algorithm that is almost faster than vanilla momentum optmization is Nesterov Momentum optimization."
      ]
    },
    {
      "cell_type": "code",
      "execution_count": null,
      "metadata": {
        "id": "a5TrEI-wFFKf"
      },
      "outputs": [],
      "source": [
        "#Implementing the Nesterov Accelerated Gradient or Nesterov momentum optimization function \n",
        "optimizers = tf.keras.optimizers.SGD(lr=0.001, momentum=0.9, nesterov=True)"
      ]
    },
    {
      "cell_type": "code",
      "execution_count": 1,
      "metadata": {
        "id": "42Jg20cjNzcI"
      },
      "outputs": [],
      "source": [
        "import os\n",
        "import tensorflow as tf\n",
        "from tensorflow import keras"
      ]
    },
    {
      "cell_type": "code",
      "execution_count": 2,
      "metadata": {
        "id": "sqglH2ZEYb0o",
        "colab": {
          "base_uri": "https://localhost:8080/"
        },
        "outputId": "733453f7-cf65-488d-dbc0-7e733ed91c1b"
      },
      "outputs": [
        {
          "output_type": "stream",
          "name": "stdout",
          "text": [
            "Version:  2.8.0\n"
          ]
        }
      ],
      "source": [
        "print(\"Version: \", tf.__version__)"
      ]
    },
    {
      "cell_type": "code",
      "execution_count": 3,
      "metadata": {
        "id": "AUfueo-eYgnB",
        "colab": {
          "base_uri": "https://localhost:8080/"
        },
        "outputId": "0984f3ee-05c3-4fbf-b8c1-e605c0e2d985"
      },
      "outputs": [
        {
          "output_type": "stream",
          "name": "stdout",
          "text": [
            "Downloading data from https://storage.googleapis.com/tensorflow/tf-keras-datasets/mnist.npz\n",
            "11493376/11490434 [==============================] - 0s 0us/step\n",
            "11501568/11490434 [==============================] - 0s 0us/step\n"
          ]
        }
      ],
      "source": [
        "#We load  and split the data\n",
        "(train_images,train_labels), (test_images, test_labels) =tf.keras.datasets.mnist.load_data() "
      ]
    },
    {
      "cell_type": "code",
      "execution_count": 4,
      "metadata": {
        "id": "g4GR98UUmqA3",
        "colab": {
          "base_uri": "https://localhost:8080/"
        },
        "outputId": "c9c89302-383c-4c6d-ece1-c8ecc0d03012"
      },
      "outputs": [
        {
          "output_type": "execute_result",
          "data": {
            "text/plain": [
              "(60000, 28, 28)"
            ]
          },
          "metadata": {},
          "execution_count": 4
        }
      ],
      "source": [
        "train_images.shape"
      ]
    },
    {
      "cell_type": "code",
      "execution_count": 5,
      "metadata": {
        "id": "VJNs7qHsm5TG"
      },
      "outputs": [],
      "source": [
        "train_images = train_images/255.0"
      ]
    },
    {
      "cell_type": "code",
      "execution_count": 6,
      "metadata": {
        "id": "wHi4DBMxm-ya"
      },
      "outputs": [],
      "source": [
        "test_images = test_images/255.0"
      ]
    },
    {
      "cell_type": "code",
      "execution_count": 7,
      "metadata": {
        "id": "0eGn7KsznDWI",
        "colab": {
          "base_uri": "https://localhost:8080/"
        },
        "outputId": "722b9b6d-633c-48f0-bd39-cecff240a9af"
      },
      "outputs": [
        {
          "output_type": "execute_result",
          "data": {
            "text/plain": [
              "(28, 28)"
            ]
          },
          "metadata": {},
          "execution_count": 7
        }
      ],
      "source": [
        "train_images[0].shape"
      ]
    },
    {
      "cell_type": "code",
      "execution_count": 8,
      "metadata": {
        "id": "s4ZefnnxZ2ph"
      },
      "outputs": [],
      "source": [
        "#We create the sequential model \n",
        "model = tf.keras.models.Sequential([\n",
        "tf.keras.layers.Flatten(input_shape=(28,28)),\n",
        "tf.keras.layers.BatchNormalization(),\n",
        "tf.keras.layers.Dense(300,kernel_initializer=\"he_normal\", name=\"Hidden1\"),\n",
        "tf.keras.layers. Activation('elu'),\n",
        "tf.keras.layers.Dense(100,kernel_initializer=\"he_normal\", name=\"Hidden2\"),\n",
        "tf.keras.layers.Activation('elu'),\n",
        "tf.keras.layers.BatchNormalization(),\n",
        "tf.keras.layers.Dense(10,activation=\"softmax\", name=\"Output\")\n",
        "])"
      ]
    },
    {
      "cell_type": "code",
      "execution_count": 8,
      "metadata": {
        "id": "gnj8pQWongwT"
      },
      "outputs": [],
      "source": [
        ""
      ]
    },
    {
      "cell_type": "code",
      "execution_count": 9,
      "metadata": {
        "id": "rJLMnb16ay21",
        "colab": {
          "base_uri": "https://localhost:8080/"
        },
        "outputId": "fabe6a1a-4f50-4336-e8cb-9f6a6b060680"
      },
      "outputs": [
        {
          "output_type": "stream",
          "name": "stdout",
          "text": [
            "Model: \"sequential\"\n",
            "_________________________________________________________________\n",
            " Layer (type)                Output Shape              Param #   \n",
            "=================================================================\n",
            " flatten (Flatten)           (None, 784)               0         \n",
            "                                                                 \n",
            " batch_normalization (BatchN  (None, 784)              3136      \n",
            " ormalization)                                                   \n",
            "                                                                 \n",
            " Hidden1 (Dense)             (None, 300)               235500    \n",
            "                                                                 \n",
            " activation (Activation)     (None, 300)               0         \n",
            "                                                                 \n",
            " Hidden2 (Dense)             (None, 100)               30100     \n",
            "                                                                 \n",
            " activation_1 (Activation)   (None, 100)               0         \n",
            "                                                                 \n",
            " batch_normalization_1 (Batc  (None, 100)              400       \n",
            " hNormalization)                                                 \n",
            "                                                                 \n",
            " Output (Dense)              (None, 10)                1010      \n",
            "                                                                 \n",
            "=================================================================\n",
            "Total params: 270,146\n",
            "Trainable params: 268,378\n",
            "Non-trainable params: 1,768\n",
            "_________________________________________________________________\n"
          ]
        }
      ],
      "source": [
        "model.summary()"
      ]
    },
    {
      "cell_type": "code",
      "execution_count": 10,
      "metadata": {
        "id": "xVld9rg_a042"
      },
      "outputs": [],
      "source": [
        "#Compile the model \n",
        "model.compile(loss=tf.keras.losses.SparseCategoricalCrossentropy(from_logits=True), optimizer=\"Adam\",metrics=[tf.keras.metrics.Accuracy()])"
      ]
    },
    {
      "cell_type": "code",
      "execution_count": 11,
      "metadata": {
        "id": "yUedplclhZYZ"
      },
      "outputs": [],
      "source": [
        "def createModel():\n",
        "  model = tf.keras.models.Sequential([\n",
        "   tf.keras.layers.Flatten(input_shape=(28,28), name=\"InputLayer\"),\n",
        "   tf.keras.layers.BatchNormalization(),\n",
        "   tf.keras.layers.Dense(300,kernel_initializer=\"he_normal\",name=\"HiddenLayer1\"),\n",
        "   tf.keras.layers.Activation('elu'),\n",
        "   tf.keras.layers.Dense(100,kernel_initializer=\"he_normal\", name=\"HiddenLayer2\"),\n",
        "   tf.keras.layers.Activation('elu'),\n",
        "   tf.keras.layers.BatchNormalization(),\n",
        "   tf.keras.layers.Dense(10, activation=\"softmax\", name=\"OutputLayer\")   \n",
        "  ])\n",
        "  model.compile(loss=tf.keras.losses.SparseCategoricalCrossentropy(from_logits=True), optimizer=\"Adam\", metrics=[tf.keras.metrics.Accuracy()])\n",
        "  return model"
      ]
    },
    {
      "cell_type": "code",
      "execution_count": 11,
      "metadata": {
        "id": "ZwEuVATgoNVH"
      },
      "outputs": [],
      "source": [
        ""
      ]
    },
    {
      "cell_type": "code",
      "execution_count": 12,
      "metadata": {
        "id": "lgPJoShsjN9Y"
      },
      "outputs": [],
      "source": [
        "model = createModel()"
      ]
    },
    {
      "cell_type": "code",
      "execution_count": 13,
      "metadata": {
        "id": "uUY1wc7yjdb5"
      },
      "outputs": [],
      "source": [
        "model.build()"
      ]
    },
    {
      "cell_type": "code",
      "execution_count": 14,
      "metadata": {
        "id": "cri64Zx2jpMX",
        "colab": {
          "base_uri": "https://localhost:8080/"
        },
        "outputId": "d903dd1b-4953-4b50-861e-ce13e6342e2a"
      },
      "outputs": [
        {
          "output_type": "stream",
          "name": "stdout",
          "text": [
            "Model: \"sequential_1\"\n",
            "_________________________________________________________________\n",
            " Layer (type)                Output Shape              Param #   \n",
            "=================================================================\n",
            " InputLayer (Flatten)        (None, 784)               0         \n",
            "                                                                 \n",
            " batch_normalization_2 (Batc  (None, 784)              3136      \n",
            " hNormalization)                                                 \n",
            "                                                                 \n",
            " HiddenLayer1 (Dense)        (None, 300)               235500    \n",
            "                                                                 \n",
            " activation_2 (Activation)   (None, 300)               0         \n",
            "                                                                 \n",
            " HiddenLayer2 (Dense)        (None, 100)               30100     \n",
            "                                                                 \n",
            " activation_3 (Activation)   (None, 100)               0         \n",
            "                                                                 \n",
            " batch_normalization_3 (Batc  (None, 100)              400       \n",
            " hNormalization)                                                 \n",
            "                                                                 \n",
            " OutputLayer (Dense)         (None, 10)                1010      \n",
            "                                                                 \n",
            "=================================================================\n",
            "Total params: 270,146\n",
            "Trainable params: 268,378\n",
            "Non-trainable params: 1,768\n",
            "_________________________________________________________________\n"
          ]
        }
      ],
      "source": [
        "model.summary()"
      ]
    },
    {
      "cell_type": "code",
      "execution_count": 15,
      "metadata": {
        "id": "cwneogGYjyk3"
      },
      "outputs": [],
      "source": [
        "#Lets create a callback checkpoint that saves the model's weights during training\n",
        "#Create the check point path\n",
        "cp_path = \"train_one/cp.ckpt\" #Check point path\n",
        "cp_dir = os.path.dirname(cp_path) #Check point directory \n",
        "\n"
      ]
    },
    {
      "cell_type": "code",
      "execution_count": 16,
      "metadata": {
        "id": "TEy2S_kKaHP-"
      },
      "outputs": [],
      "source": [
        "#Lets create a callback that save the model's weights durin training\n",
        "cb = tf.keras.callbacks.ModelCheckpoint(cp_path,verbose=1, save_best_only=True)"
      ]
    },
    {
      "cell_type": "code",
      "execution_count": null,
      "metadata": {
        "id": "OX3qhhD9mEjD"
      },
      "outputs": [],
      "source": [
        "#Lets train the model with the callbacks assigned \n",
        "history = model.fit(train_images, train_labels,epochs =10 , validation_data=(test_images, test_labels), callbacks=[cb])"
      ]
    },
    {
      "cell_type": "code",
      "source": [
        "import os\n",
        "import tensorflow as tf\n",
        "from tensorflow import keras"
      ],
      "metadata": {
        "id": "lviIIP928xo8"
      },
      "execution_count": 21,
      "outputs": []
    },
    {
      "cell_type": "code",
      "source": [
        "#Check for the tensorflow version\n",
        "print(\"Version:\", tf.__version__)"
      ],
      "metadata": {
        "colab": {
          "base_uri": "https://localhost:8080/"
        },
        "id": "4jbFSx0188Sd",
        "outputId": "ef098dd9-eb66-487e-975b-1a56d50f559a"
      },
      "execution_count": 23,
      "outputs": [
        {
          "output_type": "stream",
          "name": "stdout",
          "text": [
            "Version: 2.8.0\n"
          ]
        }
      ]
    },
    {
      "cell_type": "code",
      "source": [
        "mnist = tf.keras.datasets.mnist.load_data()"
      ],
      "metadata": {
        "id": "indKg7SN8y27"
      },
      "execution_count": 24,
      "outputs": []
    },
    {
      "cell_type": "code",
      "source": [
        "(train_images,train_labels), (test_images,test_labels) = mnist"
      ],
      "metadata": {
        "id": "W2KE5cbI9nby"
      },
      "execution_count": 25,
      "outputs": []
    },
    {
      "cell_type": "code",
      "source": [
        "#We normalize the data to avoid decreasing training accuracy and reduce bias in data which might affect learning\n",
        "train_images= train_images/255.0 "
      ],
      "metadata": {
        "id": "WiZSnY3d-Efx"
      },
      "execution_count": 27,
      "outputs": []
    },
    {
      "cell_type": "code",
      "source": [
        "test_images= test_images/255.0"
      ],
      "metadata": {
        "id": "GE80R4gI-UJ4"
      },
      "execution_count": 28,
      "outputs": []
    },
    {
      "cell_type": "code",
      "source": [
        "#Create our model\n",
        "def createModel():\n",
        "  model = tf.keras.models.Sequential([\n",
        "     tf.keras.layers.Flatten(input_shape=train_images[0].shape),\n",
        "     tf.keras.layers.BatchNormalization(),\n",
        "     tf.keras.layers.Dense(300,kernel_initializer=\"he_normal\"),\n",
        "     tf.keras.layers.Activation('elu'),\n",
        "     tf.keras.layers.Dense(100,kernel_initializer=\"he_normal\"),\n",
        "     tf.keras.layers.Activation('elu'), \n",
        "     tf.keras.layers.BatchNormalization(),\n",
        "     tf.keras.layers.Dense(10,activation='softmax')\n",
        "  ])\n",
        "  #Specify the hyperparameters\n",
        "  model.compile(loss=tf.keras.losses.SparseCategoricalCrossentropy(from_logits=True),optimizer=\"Adam\", metrics=['Accuracy'])\n",
        "  return model"
      ],
      "metadata": {
        "id": "nyteadK_-XMu"
      },
      "execution_count": 46,
      "outputs": []
    },
    {
      "cell_type": "code",
      "source": [
        "model = createModel()"
      ],
      "metadata": {
        "id": "UDIPIGHaBEvK"
      },
      "execution_count": 47,
      "outputs": []
    },
    {
      "cell_type": "code",
      "source": [
        "#We create a check point and pass it to a callback\n",
        "cp = \"train_1/cp.ckpt\"\n",
        "cb = tf.keras.callbacks.ModelCheckpoint(cp, verbose=1, save_best_only=True)\n",
        "history = model.fit(train_images, train_labels,epochs=20,validation_data=[test_images, test_labels],callbacks=[cb])"
      ],
      "metadata": {
        "colab": {
          "base_uri": "https://localhost:8080/"
        },
        "id": "nzkoTh2yBG96",
        "outputId": "ebf8cfb7-2107-44a0-ce99-225b83eabd8d"
      },
      "execution_count": 51,
      "outputs": [
        {
          "output_type": "stream",
          "name": "stdout",
          "text": [
            "Epoch 1/20\n",
            "1874/1875 [============================>.] - ETA: 0s - loss: 0.0829 - Accuracy: 0.9737\n",
            "Epoch 1: val_loss improved from inf to 158.49770, saving model to train_1/cp.ckpt\n",
            "INFO:tensorflow:Assets written to: train_1/cp.ckpt/assets\n",
            "1875/1875 [==============================] - 16s 9ms/step - loss: 0.0828 - Accuracy: 0.9737 - val_loss: 158.4977 - val_Accuracy: 0.7491\n",
            "Epoch 2/20\n",
            "1873/1875 [============================>.] - ETA: 0s - loss: 0.0761 - Accuracy: 0.9757\n",
            "Epoch 2: val_loss did not improve from 158.49770\n",
            "1875/1875 [==============================] - 12s 7ms/step - loss: 0.0762 - Accuracy: 0.9756 - val_loss: 196.1310 - val_Accuracy: 0.7612\n",
            "Epoch 3/20\n",
            "1874/1875 [============================>.] - ETA: 0s - loss: 0.0702 - Accuracy: 0.9775\n",
            "Epoch 3: val_loss did not improve from 158.49770\n",
            "1875/1875 [==============================] - 13s 7ms/step - loss: 0.0701 - Accuracy: 0.9775 - val_loss: 180.8893 - val_Accuracy: 0.7724\n",
            "Epoch 4/20\n",
            "1869/1875 [============================>.] - ETA: 0s - loss: 0.0657 - Accuracy: 0.9789\n",
            "Epoch 4: val_loss did not improve from 158.49770\n",
            "1875/1875 [==============================] - 13s 7ms/step - loss: 0.0656 - Accuracy: 0.9789 - val_loss: 284.2511 - val_Accuracy: 0.7394\n",
            "Epoch 5/20\n",
            "1871/1875 [============================>.] - ETA: 0s - loss: 0.0604 - Accuracy: 0.9806\n",
            "Epoch 5: val_loss did not improve from 158.49770\n",
            "1875/1875 [==============================] - 13s 7ms/step - loss: 0.0604 - Accuracy: 0.9806 - val_loss: 240.3286 - val_Accuracy: 0.7601\n",
            "Epoch 6/20\n",
            "1870/1875 [============================>.] - ETA: 0s - loss: 0.0564 - Accuracy: 0.9812\n",
            "Epoch 6: val_loss did not improve from 158.49770\n",
            "1875/1875 [==============================] - 13s 7ms/step - loss: 0.0565 - Accuracy: 0.9812 - val_loss: 358.3583 - val_Accuracy: 0.7234\n",
            "Epoch 7/20\n",
            "1868/1875 [============================>.] - ETA: 0s - loss: 0.0542 - Accuracy: 0.9820\n",
            "Epoch 7: val_loss did not improve from 158.49770\n",
            "1875/1875 [==============================] - 14s 7ms/step - loss: 0.0543 - Accuracy: 0.9820 - val_loss: 406.8134 - val_Accuracy: 0.6811\n",
            "Epoch 8/20\n",
            "1873/1875 [============================>.] - ETA: 0s - loss: 0.0511 - Accuracy: 0.9835\n",
            "Epoch 8: val_loss did not improve from 158.49770\n",
            "1875/1875 [==============================] - 13s 7ms/step - loss: 0.0511 - Accuracy: 0.9836 - val_loss: 392.6512 - val_Accuracy: 0.6942\n",
            "Epoch 9/20\n",
            "1874/1875 [============================>.] - ETA: 0s - loss: 0.0501 - Accuracy: 0.9836\n",
            "Epoch 9: val_loss did not improve from 158.49770\n",
            "1875/1875 [==============================] - 15s 8ms/step - loss: 0.0500 - Accuracy: 0.9836 - val_loss: 437.6880 - val_Accuracy: 0.6889\n",
            "Epoch 10/20\n",
            "1868/1875 [============================>.] - ETA: 0s - loss: 0.0476 - Accuracy: 0.9848\n",
            "Epoch 10: val_loss did not improve from 158.49770\n",
            "1875/1875 [==============================] - 15s 8ms/step - loss: 0.0478 - Accuracy: 0.9847 - val_loss: 396.5275 - val_Accuracy: 0.7126\n",
            "Epoch 11/20\n",
            "1872/1875 [============================>.] - ETA: 0s - loss: 0.0442 - Accuracy: 0.9853\n",
            "Epoch 11: val_loss did not improve from 158.49770\n",
            "1875/1875 [==============================] - 13s 7ms/step - loss: 0.0442 - Accuracy: 0.9853 - val_loss: 411.9468 - val_Accuracy: 0.7182\n",
            "Epoch 12/20\n",
            "1872/1875 [============================>.] - ETA: 0s - loss: 0.0438 - Accuracy: 0.9849\n",
            "Epoch 12: val_loss did not improve from 158.49770\n",
            "1875/1875 [==============================] - 13s 7ms/step - loss: 0.0437 - Accuracy: 0.9849 - val_loss: 622.3065 - val_Accuracy: 0.5573\n",
            "Epoch 13/20\n",
            "1869/1875 [============================>.] - ETA: 0s - loss: 0.0415 - Accuracy: 0.9858\n",
            "Epoch 13: val_loss did not improve from 158.49770\n",
            "1875/1875 [==============================] - 13s 7ms/step - loss: 0.0415 - Accuracy: 0.9858 - val_loss: 611.8250 - val_Accuracy: 0.6610\n",
            "Epoch 14/20\n",
            "1868/1875 [============================>.] - ETA: 0s - loss: 0.0367 - Accuracy: 0.9881\n",
            "Epoch 14: val_loss did not improve from 158.49770\n",
            "1875/1875 [==============================] - 14s 7ms/step - loss: 0.0367 - Accuracy: 0.9880 - val_loss: 724.5630 - val_Accuracy: 0.6355\n",
            "Epoch 15/20\n",
            "1874/1875 [============================>.] - ETA: 0s - loss: 0.0378 - Accuracy: 0.9878\n",
            "Epoch 15: val_loss did not improve from 158.49770\n",
            "1875/1875 [==============================] - 15s 8ms/step - loss: 0.0378 - Accuracy: 0.9878 - val_loss: 732.2902 - val_Accuracy: 0.6201\n",
            "Epoch 16/20\n",
            "1875/1875 [==============================] - ETA: 0s - loss: 0.0350 - Accuracy: 0.9881\n",
            "Epoch 16: val_loss did not improve from 158.49770\n",
            "1875/1875 [==============================] - 14s 8ms/step - loss: 0.0350 - Accuracy: 0.9881 - val_loss: 712.7742 - val_Accuracy: 0.6609\n",
            "Epoch 17/20\n",
            "1872/1875 [============================>.] - ETA: 0s - loss: 0.0352 - Accuracy: 0.9882\n",
            "Epoch 17: val_loss did not improve from 158.49770\n",
            "1875/1875 [==============================] - 14s 7ms/step - loss: 0.0352 - Accuracy: 0.9882 - val_loss: 621.7221 - val_Accuracy: 0.6381\n",
            "Epoch 18/20\n",
            "1870/1875 [============================>.] - ETA: 0s - loss: 0.0329 - Accuracy: 0.9889\n",
            "Epoch 18: val_loss did not improve from 158.49770\n",
            "1875/1875 [==============================] - 15s 8ms/step - loss: 0.0329 - Accuracy: 0.9889 - val_loss: 816.2645 - val_Accuracy: 0.6167\n",
            "Epoch 19/20\n",
            "1875/1875 [==============================] - ETA: 0s - loss: 0.0339 - Accuracy: 0.9885\n",
            "Epoch 19: val_loss did not improve from 158.49770\n",
            "1875/1875 [==============================] - 14s 7ms/step - loss: 0.0339 - Accuracy: 0.9885 - val_loss: 785.1605 - val_Accuracy: 0.6238\n",
            "Epoch 20/20\n",
            "1870/1875 [============================>.] - ETA: 0s - loss: 0.0316 - Accuracy: 0.9892\n",
            "Epoch 20: val_loss did not improve from 158.49770\n",
            "1875/1875 [==============================] - 13s 7ms/step - loss: 0.0316 - Accuracy: 0.9892 - val_loss: 896.5847 - val_Accuracy: 0.6409\n"
          ]
        }
      ]
    },
    {
      "cell_type": "code",
      "source": [
        "#We clone the model"
      ],
      "metadata": {
        "id": "5ZocRAmuCr0r"
      },
      "execution_count": null,
      "outputs": []
    },
    {
      "cell_type": "code",
      "source": [
        ""
      ],
      "metadata": {
        "id": "Br7Gwam-B7NV"
      },
      "execution_count": null,
      "outputs": []
    },
    {
      "cell_type": "code",
      "source": [
        ""
      ],
      "metadata": {
        "id": "uA0IsywYBmpm"
      },
      "execution_count": null,
      "outputs": []
    },
    {
      "cell_type": "code",
      "source": [
        ""
      ],
      "metadata": {
        "id": "TdMjxbNzBjs5"
      },
      "execution_count": null,
      "outputs": []
    },
    {
      "cell_type": "code",
      "source": [
        ""
      ],
      "metadata": {
        "id": "9EL_q1W-BYoz"
      },
      "execution_count": null,
      "outputs": []
    },
    {
      "cell_type": "code",
      "source": [
        ""
      ],
      "metadata": {
        "id": "_UkaUJkEAx3A"
      },
      "execution_count": null,
      "outputs": []
    },
    {
      "cell_type": "code",
      "source": [
        ""
      ],
      "metadata": {
        "id": "ig15U916AsdG"
      },
      "execution_count": null,
      "outputs": []
    },
    {
      "cell_type": "code",
      "source": [
        ""
      ],
      "metadata": {
        "id": "20FNVHoJAHDS"
      },
      "execution_count": null,
      "outputs": []
    },
    {
      "cell_type": "code",
      "source": [
        ""
      ],
      "metadata": {
        "id": "IvFRx2Ru_1Xf"
      },
      "execution_count": null,
      "outputs": []
    },
    {
      "cell_type": "code",
      "source": [
        ""
      ],
      "metadata": {
        "id": "0BmmwJNA_C-y"
      },
      "execution_count": null,
      "outputs": []
    },
    {
      "cell_type": "code",
      "source": [
        ""
      ],
      "metadata": {
        "id": "UPipdsc0-_Dj"
      },
      "execution_count": null,
      "outputs": []
    },
    {
      "cell_type": "code",
      "source": [
        ""
      ],
      "metadata": {
        "id": "fPeImBf9-pNM"
      },
      "execution_count": null,
      "outputs": []
    },
    {
      "cell_type": "code",
      "source": [
        ""
      ],
      "metadata": {
        "id": "NQSyuokd-H9L"
      },
      "execution_count": null,
      "outputs": []
    },
    {
      "cell_type": "code",
      "source": [
        ""
      ],
      "metadata": {
        "id": "XnEumDAr9g6o"
      },
      "execution_count": null,
      "outputs": []
    }
  ],
  "metadata": {
    "colab": {
      "collapsed_sections": [],
      "name": "Training Deep NNs.ipynb",
      "provenance": [],
      "authorship_tag": "ABX9TyPGFIKTDhhI6nkBDxMUmbWw",
      "include_colab_link": true
    },
    "kernelspec": {
      "display_name": "Python 3",
      "name": "python3"
    },
    "language_info": {
      "name": "python"
    }
  },
  "nbformat": 4,
  "nbformat_minor": 0
}