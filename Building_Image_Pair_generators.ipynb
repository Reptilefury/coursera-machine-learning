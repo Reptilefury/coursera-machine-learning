{
  "nbformat": 4,
  "nbformat_minor": 0,
  "metadata": {
    "colab": {
      "name": "Building Image Pair generators.ipynb",
      "provenance": [],
      "authorship_tag": "ABX9TyN0cvwnBi0heEdfEJql4DtY",
      "include_colab_link": true
    },
    "kernelspec": {
      "name": "python3",
      "display_name": "Python 3"
    },
    "language_info": {
      "name": "python"
    }
  },
  "cells": [
    {
      "cell_type": "markdown",
      "metadata": {
        "id": "view-in-github",
        "colab_type": "text"
      },
      "source": [
        "<a href=\"https://colab.research.google.com/github/Reptilefury/coursera-machine-learning/blob/main/Building_Image_Pair_generators.ipynb\" target=\"_parent\"><img src=\"https://colab.research.google.com/assets/colab-badge.svg\" alt=\"Open In Colab\"/></a>"
      ]
    },
    {
      "cell_type": "markdown",
      "source": [
        "Implementing image pair generation for siamese neural networks"
      ],
      "metadata": {
        "id": "YqoOE-2DaS9T"
      }
    },
    {
      "cell_type": "code",
      "execution_count": null,
      "metadata": {
        "id": "z4VpU-08L5i9"
      },
      "outputs": [],
      "source": [
        "from tensorflow.keras.datasets import mnist\n",
        "from imutils import build_montages\n",
        "import numpy as np\n",
        "import cv2\n",
        "import matplotlib.pyplot as plt"
      ]
    },
    {
      "cell_type": "code",
      "source": [
        "def make_pairs(images,labels): #This method takes two classes images and labels the images \n",
        "  #Two empty lists to hold the images pairs (image,image) and labels to indicate if a pair is positive or negative \n",
        "  pair_images = []\n",
        "  pair_labels = []\n",
        "  #Calculate the total number of unque classes in our dataset\n",
        "  num_classes = len(np.unique(labels))\n",
        "  idx = [np.where(labels == i)[0] for i in range(0, num_classes)]\n",
        "  #We grab the image and label belonging to the current iteration\n",
        "  for idxA in range(len(images)):\n",
        "   current_image = images[idxA]\n",
        "   label = labels[idxA]  \n",
        "   #We randomly pick an image that belongs to the same class and label \n",
        "   idxB = np.random.choice(idx[label])\n",
        "   pos_image = images[idxB]\n",
        "   #Prepare the positive pair and update the images and labels \n",
        "   #lists respectively \n",
        "   pair_images.append([current_image,pos_image])\n",
        "   pair_labels.append([1])\n",
        "   #Grab the indices for each class labels *not* equal to\n",
        "   #the current label and randomly pick an image corresponding to the current label \n",
        "   negIdx = np.where(labels != label)[0]\n",
        "   negImage = images[np.random.choice(negIdx)]\n",
        "   #Prepare a negative pair of indices and update our lists\n",
        "   pair_images.append([current_image,negImage])\n",
        "   pair_labels.append([0])\n",
        "   #Return a two tuple of our images pairs and labels \n",
        "  return (np.array(pair_images),np.array(pair_labels))"
      ],
      "metadata": {
        "id": "4HtcvXGzakhX"
      },
      "execution_count": null,
      "outputs": []
    },
    {
      "cell_type": "code",
      "source": [
        "#Load the mnist dataset and scale the pixel values to the range of 0 and 1(normalize/standardize)\n",
        "(train_images, train_labels),(test_images,test_labels)  = mnist.load_data()"
      ],
      "metadata": {
        "id": "OOuRXOR9jhkS"
      },
      "execution_count": null,
      "outputs": []
    },
    {
      "cell_type": "code",
      "source": [
        "#train_images = train_images.astype('float32')/255.0"
      ],
      "metadata": {
        "id": "yK5UKEJomfRd"
      },
      "execution_count": null,
      "outputs": []
    },
    {
      "cell_type": "code",
      "source": [
        "(pair_train,label_train) = make_pairs(train_images,train_labels)"
      ],
      "metadata": {
        "id": "H-qyUKwVmvGF"
      },
      "execution_count": null,
      "outputs": []
    },
    {
      "cell_type": "code",
      "source": [
        "pair_train[0].shape #Get the first images in the first tuple  with is of size 2 ,28 * 28 this means 2 images of size 28 * 28 "
      ],
      "metadata": {
        "colab": {
          "base_uri": "https://localhost:8080/"
        },
        "id": "CBouEztrnQy5",
        "outputId": "7f88c2e7-a5ba-46a5-b8d0-916e3f87bd69"
      },
      "execution_count": null,
      "outputs": [
        {
          "output_type": "execute_result",
          "data": {
            "text/plain": [
              "(2, 28, 28)"
            ]
          },
          "metadata": {},
          "execution_count": 40
        }
      ]
    },
    {
      "cell_type": "code",
      "source": [
        "#Make the pairs for the test set\n",
        "(pairs_test,test_labels) = make_pairs(test_images,test_labels)"
      ],
      "metadata": {
        "id": "SG0DJmFsoVfd"
      },
      "execution_count": null,
      "outputs": []
    },
    {
      "cell_type": "code",
      "source": [
        "#Initialize the list that will be used when building our montage \n",
        "images = []"
      ],
      "metadata": {
        "id": "BIzCOcZQouhv"
      },
      "execution_count": null,
      "outputs": []
    },
    {
      "cell_type": "code",
      "source": [
        "#Loop all over the sample our training pairs\n",
        "for i in np.random.choice(np.arange(0, len(pair_train)), size =(49,)):\n",
        "  #Grab the current image pair and label\n",
        "  imageA = pair_train[i][0]\n",
        "  imageB = pair_train[i][1]\n",
        "  label = label_train[i]\n",
        "  #To make it easier to visualize the pair and their positive or negative annotations \n",
        "  #we are going to pad the pair along with four pixels  on the top, bottom and right borders respectively\n",
        "  output = np.zeros((36,60),dtype=\"uint8\")\n",
        "  pair = np.hstack([imageA,imageB])\n",
        "  output[4:32,0:56] = pair \n",
        "\n",
        "  #Set the next text label for the pair along with what color we are going \n",
        "  #to draw the pair in (green for a \"positive pair\" and \"red for a negative pair\")\n",
        "  \n",
        "  text =  \"neg\" if label[0] == 0 else \"pos\"\n",
        "  color = (0,0,255) if label[0] == 0 else (0 ,255 , 0) \n",
        "  #Create a 3 channel RGB image from grayscale pair\n",
        "  #resize it from 60 x 36 to 96 by 51 so we can better see it and then draw what type of image pair is\n",
        "  #on the image \n",
        "  vis = cv2.merge([output] * 3)\n",
        "  vis = cv2.resize(vis,(96,51), interpolation = cv2.INTER_LINEAR)\n",
        "\n",
        "  cv2.putText(vis,text,(2,12), cv2.FONT_HERSHEY_SIMPLEX, 0.75, color,2)\n",
        "  #Add the pair visualization to our list of output images\n",
        "  images.append(vis)\n",
        "  #Construct the montage for our image and put it to out screen \n",
        "  montage = build_montages(images,(96,51),(7,7))[0]\n",
        "  #Show the output of the montage \n",
        "  #cv2.imshow(\"Siamese Image Pairs\", montage)\n",
        "  plt.figure(figsize = (10,10))\n",
        "\n",
        "  plt.imshow(montage)\n",
        "  cv2.waitKey(0)"
      ],
      "metadata": {
        "id": "V6Pd3vU-o6tk"
      },
      "execution_count": null,
      "outputs": []
    },
    {
      "cell_type": "code",
      "source": [
        ""
      ],
      "metadata": {
        "id": "4GW45nUPxOe2"
      },
      "execution_count": null,
      "outputs": []
    },
    {
      "cell_type": "code",
      "source": [
        ""
      ],
      "metadata": {
        "id": "LurGr3XfxGVe"
      },
      "execution_count": null,
      "outputs": []
    },
    {
      "cell_type": "code",
      "source": [
        ""
      ],
      "metadata": {
        "id": "sqICjAqnw9ZD"
      },
      "execution_count": null,
      "outputs": []
    },
    {
      "cell_type": "code",
      "source": [
        ""
      ],
      "metadata": {
        "id": "0VoojlFBw68g"
      },
      "execution_count": null,
      "outputs": []
    },
    {
      "cell_type": "code",
      "source": [
        ""
      ],
      "metadata": {
        "id": "7ifc5cSmw4h3"
      },
      "execution_count": null,
      "outputs": []
    },
    {
      "cell_type": "code",
      "source": [
        ""
      ],
      "metadata": {
        "id": "1VD_UlHOwz9h"
      },
      "execution_count": null,
      "outputs": []
    },
    {
      "cell_type": "code",
      "source": [
        ""
      ],
      "metadata": {
        "id": "sZKQCdClwSub"
      },
      "execution_count": null,
      "outputs": []
    },
    {
      "cell_type": "code",
      "source": [
        ""
      ],
      "metadata": {
        "id": "Hy24y6g9v_zO"
      },
      "execution_count": null,
      "outputs": []
    },
    {
      "cell_type": "code",
      "source": [
        ""
      ],
      "metadata": {
        "id": "ozambK0MvW6e"
      },
      "execution_count": null,
      "outputs": []
    },
    {
      "cell_type": "code",
      "source": [
        ""
      ],
      "metadata": {
        "id": "AoePvwEuucrj"
      },
      "execution_count": null,
      "outputs": []
    },
    {
      "cell_type": "code",
      "source": [
        ""
      ],
      "metadata": {
        "id": "79fD0W3WuXEO"
      },
      "execution_count": null,
      "outputs": []
    },
    {
      "cell_type": "code",
      "source": [
        ""
      ],
      "metadata": {
        "id": "iJzhWP-ruMX0"
      },
      "execution_count": null,
      "outputs": []
    },
    {
      "cell_type": "code",
      "source": [
        ""
      ],
      "metadata": {
        "id": "751xuD4Jt5JI"
      },
      "execution_count": null,
      "outputs": []
    },
    {
      "cell_type": "code",
      "source": [
        ""
      ],
      "metadata": {
        "id": "iYE1uNbYtWtG"
      },
      "execution_count": null,
      "outputs": []
    },
    {
      "cell_type": "code",
      "source": [
        ""
      ],
      "metadata": {
        "id": "r1vF2Gr7tON9"
      },
      "execution_count": null,
      "outputs": []
    },
    {
      "cell_type": "code",
      "source": [
        ""
      ],
      "metadata": {
        "id": "lTbMrsJ5s9AW"
      },
      "execution_count": null,
      "outputs": []
    },
    {
      "cell_type": "code",
      "source": [
        ""
      ],
      "metadata": {
        "id": "7__7wvOJsPTF"
      },
      "execution_count": null,
      "outputs": []
    },
    {
      "cell_type": "code",
      "source": [
        ""
      ],
      "metadata": {
        "id": "VfatpoX1r_XJ"
      },
      "execution_count": null,
      "outputs": []
    },
    {
      "cell_type": "code",
      "source": [
        ""
      ],
      "metadata": {
        "id": "z-cuQJ-ur9Ol"
      },
      "execution_count": null,
      "outputs": []
    },
    {
      "cell_type": "code",
      "source": [
        ""
      ],
      "metadata": {
        "id": "Ux5kkuAhrSUA"
      },
      "execution_count": null,
      "outputs": []
    },
    {
      "cell_type": "code",
      "source": [
        ""
      ],
      "metadata": {
        "id": "QVMrwfmnrQl5"
      },
      "execution_count": null,
      "outputs": []
    },
    {
      "cell_type": "code",
      "source": [
        ""
      ],
      "metadata": {
        "id": "w3xfS2GCrNvm"
      },
      "execution_count": null,
      "outputs": []
    },
    {
      "cell_type": "code",
      "source": [
        ""
      ],
      "metadata": {
        "id": "sAMfqJZ8rHG7"
      },
      "execution_count": null,
      "outputs": []
    },
    {
      "cell_type": "code",
      "source": [
        ""
      ],
      "metadata": {
        "id": "oRJSqj5cq9zX"
      },
      "execution_count": null,
      "outputs": []
    },
    {
      "cell_type": "code",
      "source": [
        ""
      ],
      "metadata": {
        "id": "ZodG2mD0pu02"
      },
      "execution_count": null,
      "outputs": []
    },
    {
      "cell_type": "code",
      "source": [
        ""
      ],
      "metadata": {
        "id": "2x8Mva4bo4IA"
      },
      "execution_count": null,
      "outputs": []
    },
    {
      "cell_type": "code",
      "source": [
        ""
      ],
      "metadata": {
        "id": "BFgo5chjoJtS"
      },
      "execution_count": null,
      "outputs": []
    },
    {
      "cell_type": "code",
      "source": [
        ""
      ],
      "metadata": {
        "id": "fPx46kLBoIPj"
      },
      "execution_count": null,
      "outputs": []
    },
    {
      "cell_type": "code",
      "source": [
        ""
      ],
      "metadata": {
        "id": "1Y__JtCOnG0c"
      },
      "execution_count": null,
      "outputs": []
    },
    {
      "cell_type": "code",
      "source": [
        ""
      ],
      "metadata": {
        "id": "YFFCNl27mnyf"
      },
      "execution_count": null,
      "outputs": []
    },
    {
      "cell_type": "code",
      "source": [
        ""
      ],
      "metadata": {
        "id": "qkEql2xqmK1e"
      },
      "execution_count": null,
      "outputs": []
    },
    {
      "cell_type": "code",
      "source": [
        ""
      ],
      "metadata": {
        "id": "NOwwuGDzjhg_"
      },
      "execution_count": null,
      "outputs": []
    },
    {
      "cell_type": "markdown",
      "source": [
        "Given the index list we must start generating our positive and negative pairs. "
      ],
      "metadata": {
        "id": "WstaL3afhW2v"
      }
    }
  ]
}