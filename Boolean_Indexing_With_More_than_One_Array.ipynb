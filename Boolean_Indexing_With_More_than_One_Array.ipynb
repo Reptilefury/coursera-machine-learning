{
  "nbformat": 4,
  "nbformat_minor": 0,
  "metadata": {
    "colab": {
      "name": "Boolean Indexing With More than One Array.ipynb",
      "provenance": [],
      "authorship_tag": "ABX9TyPLUdtydFEXbF90REfmSkum",
      "include_colab_link": true
    },
    "kernelspec": {
      "name": "python3",
      "display_name": "Python 3"
    },
    "language_info": {
      "name": "python"
    }
  },
  "cells": [
    {
      "cell_type": "markdown",
      "metadata": {
        "id": "view-in-github",
        "colab_type": "text"
      },
      "source": [
        "<a href=\"https://colab.research.google.com/github/Reptilefury/coursera-machine-learning/blob/main/Boolean_Indexing_With_More_than_One_Array.ipynb\" target=\"_parent\"><img src=\"https://colab.research.google.com/assets/colab-badge.svg\" alt=\"Open In Colab\"/></a>"
      ]
    },
    {
      "cell_type": "code",
      "execution_count": 54,
      "metadata": {
        "id": "qdclcx4vlOJB"
      },
      "outputs": [],
      "source": [
        "import numpy as np\n",
        "import matplotlib.pyplot as plt"
      ]
    },
    {
      "cell_type": "code",
      "source": [
        "#We make a 3D array  of shape (4,3,2)\n",
        "plane0 = np.reshape(np.arange(12),(4,3))\n",
        "plane0.shape"
      ],
      "metadata": {
        "colab": {
          "base_uri": "https://localhost:8080/"
        },
        "id": "D38KITZvm7HQ",
        "outputId": "1f211086-5134-40a0-b8a6-dbd44b3e612b"
      },
      "execution_count": 55,
      "outputs": [
        {
          "output_type": "execute_result",
          "data": {
            "text/plain": [
              "(4, 3)"
            ]
          },
          "metadata": {},
          "execution_count": 55
        }
      ]
    },
    {
      "cell_type": "code",
      "source": [
        "#Create an array of numbers from 100 to 111 \n",
        "plane1 = np.reshape(np.arange(100,112),(4,3))\n",
        "plane1.shape"
      ],
      "metadata": {
        "colab": {
          "base_uri": "https://localhost:8080/"
        },
        "id": "ctXzNw-bndal",
        "outputId": "f38d1e52-d5b4-4280-c156-d80171869f0a"
      },
      "execution_count": 56,
      "outputs": [
        {
          "output_type": "execute_result",
          "data": {
            "text/plain": [
              "(4, 3)"
            ]
          },
          "metadata": {},
          "execution_count": 56
        }
      ]
    },
    {
      "cell_type": "code",
      "source": [
        "new_array = np.reshape(np.arange(20), (10,2))\n",
        "new_array.shape"
      ],
      "metadata": {
        "colab": {
          "base_uri": "https://localhost:8080/"
        },
        "id": "0NAYfWWAoCDL",
        "outputId": "da32f083-9666-4b18-f11f-259984c966d3"
      },
      "execution_count": 57,
      "outputs": [
        {
          "output_type": "execute_result",
          "data": {
            "text/plain": [
              "(10, 2)"
            ]
          },
          "metadata": {},
          "execution_count": 57
        }
      ]
    },
    {
      "cell_type": "code",
      "source": [
        "#Create a 3d array with 4 rows ,  3 columns and 2 planes \n",
        "array_3d = np.zeros((4,3,2)) #Create an empty 3D array"
      ],
      "metadata": {
        "id": "lEtVUUdro8xu"
      },
      "execution_count": 58,
      "outputs": []
    },
    {
      "cell_type": "code",
      "source": [
        "plane0 "
      ],
      "metadata": {
        "colab": {
          "base_uri": "https://localhost:8080/"
        },
        "id": "8ar21e7CpqQ4",
        "outputId": "7fb8e743-d570-4118-cd96-50a77150ac9c"
      },
      "execution_count": 59,
      "outputs": [
        {
          "output_type": "execute_result",
          "data": {
            "text/plain": [
              "array([[ 0,  1,  2],\n",
              "       [ 3,  4,  5],\n",
              "       [ 6,  7,  8],\n",
              "       [ 9, 10, 11]])"
            ]
          },
          "metadata": {},
          "execution_count": 59
        }
      ]
    },
    {
      "cell_type": "code",
      "source": [
        "array_3d[:,:,0] = plane0"
      ],
      "metadata": {
        "id": "7nzdzA2jq1ST"
      },
      "execution_count": 60,
      "outputs": []
    },
    {
      "cell_type": "code",
      "source": [
        "array_3d #We fill the first plane with the elements of plane0 "
      ],
      "metadata": {
        "colab": {
          "base_uri": "https://localhost:8080/"
        },
        "id": "OB775BuFq_6R",
        "outputId": "3341fe11-4e41-4fe5-f6b1-3684ffe4e05a"
      },
      "execution_count": 61,
      "outputs": [
        {
          "output_type": "execute_result",
          "data": {
            "text/plain": [
              "array([[[ 0.,  0.],\n",
              "        [ 1.,  0.],\n",
              "        [ 2.,  0.]],\n",
              "\n",
              "       [[ 3.,  0.],\n",
              "        [ 4.,  0.],\n",
              "        [ 5.,  0.]],\n",
              "\n",
              "       [[ 6.,  0.],\n",
              "        [ 7.,  0.],\n",
              "        [ 8.,  0.]],\n",
              "\n",
              "       [[ 9.,  0.],\n",
              "        [10.,  0.],\n",
              "        [11.,  0.]]])"
            ]
          },
          "metadata": {},
          "execution_count": 61
        }
      ]
    },
    {
      "cell_type": "code",
      "source": [
        "#We set the second plane to be equal to plane1 \n",
        "array_3d[:,:,1] = plane1\n",
        "array_3d"
      ],
      "metadata": {
        "colab": {
          "base_uri": "https://localhost:8080/"
        },
        "id": "Hm_cETxtrN67",
        "outputId": "edfafbd2-45cc-46df-8c15-36fb1591a466"
      },
      "execution_count": 62,
      "outputs": [
        {
          "output_type": "execute_result",
          "data": {
            "text/plain": [
              "array([[[  0., 100.],\n",
              "        [  1., 101.],\n",
              "        [  2., 102.]],\n",
              "\n",
              "       [[  3., 103.],\n",
              "        [  4., 104.],\n",
              "        [  5., 105.]],\n",
              "\n",
              "       [[  6., 106.],\n",
              "        [  7., 107.],\n",
              "        [  8., 108.]],\n",
              "\n",
              "       [[  9., 109.],\n",
              "        [ 10., 110.],\n",
              "        [ 11., 111.]]])"
            ]
          },
          "metadata": {},
          "execution_count": 62
        }
      ]
    },
    {
      "cell_type": "code",
      "source": [
        "bool_array = np.array([1,3,4,2])\n",
        "bool_array>2\n"
      ],
      "metadata": {
        "colab": {
          "base_uri": "https://localhost:8080/"
        },
        "id": "BxJNaeQHsFTf",
        "outputId": "695b1d6f-e970-4ca6-811a-b7b5f65b0b7a"
      },
      "execution_count": 63,
      "outputs": [
        {
          "output_type": "execute_result",
          "data": {
            "text/plain": [
              "array([False,  True,  True, False])"
            ]
          },
          "metadata": {},
          "execution_count": 63
        }
      ]
    },
    {
      "cell_type": "code",
      "source": [
        "#array_3d[bool_array]"
      ],
      "metadata": {
        "id": "SOfrLHv0tD0Y"
      },
      "execution_count": 64,
      "outputs": []
    },
    {
      "cell_type": "code",
      "source": [
        "array_3d = np.zeros((4,3,2))"
      ],
      "metadata": {
        "id": "05iSXK2jt2ex"
      },
      "execution_count": 65,
      "outputs": []
    },
    {
      "cell_type": "code",
      "source": [
        "array_3d[:,:,0] = plane0"
      ],
      "metadata": {
        "id": "GOQeu4ZLuZlC"
      },
      "execution_count": 66,
      "outputs": []
    },
    {
      "cell_type": "code",
      "source": [
        "array_3d[:,:,1] = plane1\n",
        "array_3d"
      ],
      "metadata": {
        "colab": {
          "base_uri": "https://localhost:8080/"
        },
        "id": "98MCavE4ueJ6",
        "outputId": "9ed36e61-5ad6-4e78-9206-7bc6b43dc58a"
      },
      "execution_count": 67,
      "outputs": [
        {
          "output_type": "execute_result",
          "data": {
            "text/plain": [
              "array([[[  0., 100.],\n",
              "        [  1., 101.],\n",
              "        [  2., 102.]],\n",
              "\n",
              "       [[  3., 103.],\n",
              "        [  4., 104.],\n",
              "        [  5., 105.]],\n",
              "\n",
              "       [[  6., 106.],\n",
              "        [  7., 107.],\n",
              "        [  8., 108.]],\n",
              "\n",
              "       [[  9., 109.],\n",
              "        [ 10., 110.],\n",
              "        [ 11., 111.]]])"
            ]
          },
          "metadata": {},
          "execution_count": 67
        }
      ]
    },
    {
      "cell_type": "code",
      "source": [
        "#array_3d[bool_array]\n",
        "bool_array"
      ],
      "metadata": {
        "colab": {
          "base_uri": "https://localhost:8080/"
        },
        "id": "cD2jsBEQujKp",
        "outputId": "3eb78927-43a8-47b2-8ffb-764129a45046"
      },
      "execution_count": 68,
      "outputs": [
        {
          "output_type": "execute_result",
          "data": {
            "text/plain": [
              "array([1, 3, 4, 2])"
            ]
          },
          "metadata": {},
          "execution_count": 68
        }
      ]
    },
    {
      "cell_type": "code",
      "source": [
        "bool_array = bool_array<2\n",
        "bool_array \n",
        "array_3d[bool_array]"
      ],
      "metadata": {
        "colab": {
          "base_uri": "https://localhost:8080/"
        },
        "id": "h8p7g3Upvdmx",
        "outputId": "7478427e-64c7-4afb-f5da-4bab8d7a13f4"
      },
      "execution_count": 69,
      "outputs": [
        {
          "output_type": "execute_result",
          "data": {
            "text/plain": [
              "array([[[  0., 100.],\n",
              "        [  1., 101.],\n",
              "        [  2., 102.]]])"
            ]
          },
          "metadata": {},
          "execution_count": 69
        }
      ]
    },
    {
      "cell_type": "code",
      "source": [
        "bool_2d = np.array([[False, True, False],\n",
        "                    [True, False, True],\n",
        "                    [True, False, False],\n",
        "                    [False, False, True],\n",
        "                   ])\n",
        "bool_2d"
      ],
      "metadata": {
        "colab": {
          "base_uri": "https://localhost:8080/"
        },
        "id": "GcBaMGWpvohn",
        "outputId": "fa53208e-9362-4f02-c6c1-32b5a8e69ee2"
      },
      "execution_count": 70,
      "outputs": [
        {
          "output_type": "execute_result",
          "data": {
            "text/plain": [
              "array([[False,  True, False],\n",
              "       [ True, False,  True],\n",
              "       [ True, False, False],\n",
              "       [False, False,  True]])"
            ]
          },
          "metadata": {},
          "execution_count": 70
        }
      ]
    },
    {
      "cell_type": "code",
      "source": [
        "array_3d[bool_2d].shape"
      ],
      "metadata": {
        "colab": {
          "base_uri": "https://localhost:8080/"
        },
        "id": "nvuZQTY8wlHK",
        "outputId": "4d69646d-c589-4375-859d-297016d4cc2c"
      },
      "execution_count": 72,
      "outputs": [
        {
          "output_type": "execute_result",
          "data": {
            "text/plain": [
              "(5, 2)"
            ]
          },
          "metadata": {},
          "execution_count": 72
        }
      ]
    },
    {
      "cell_type": "code",
      "source": [
        "bool_3d = np.zeros((4,3,2),dtype=bool)\n",
        "bool_3d"
      ],
      "metadata": {
        "colab": {
          "base_uri": "https://localhost:8080/"
        },
        "id": "p65zD6EbydWA",
        "outputId": "794147e4-2c96-4f40-f4ab-2b2143e96e16"
      },
      "execution_count": 74,
      "outputs": [
        {
          "output_type": "execute_result",
          "data": {
            "text/plain": [
              "array([[[False, False],\n",
              "        [False, False],\n",
              "        [False, False]],\n",
              "\n",
              "       [[False, False],\n",
              "        [False, False],\n",
              "        [False, False]],\n",
              "\n",
              "       [[False, False],\n",
              "        [False, False],\n",
              "        [False, False]],\n",
              "\n",
              "       [[False, False],\n",
              "        [False, False],\n",
              "        [False, False]]])"
            ]
          },
          "metadata": {},
          "execution_count": 74
        }
      ]
    },
    {
      "cell_type": "code",
      "source": [
        "#We fill in the first plane with the original 2D array \n",
        "bool_3d = bool_2d\n",
        "bool_3d.dtype "
      ],
      "metadata": {
        "colab": {
          "base_uri": "https://localhost:8080/"
        },
        "id": "KFTaQ5EXy8IA",
        "outputId": "3115f387-e12b-4e49-a155-b2b2b9853125"
      },
      "execution_count": 80,
      "outputs": [
        {
          "output_type": "execute_result",
          "data": {
            "text/plain": [
              "dtype('bool')"
            ]
          },
          "metadata": {},
          "execution_count": 80
        }
      ]
    },
    {
      "cell_type": "code",
      "source": [
        "#We use the bool_3d to index the array_3d\n",
        "array_3d[bool_3d]"
      ],
      "metadata": {
        "colab": {
          "base_uri": "https://localhost:8080/"
        },
        "id": "WvHYBxFpzfGE",
        "outputId": "7e19e62f-675e-4c65-eb80-d18857da8390"
      },
      "execution_count": 82,
      "outputs": [
        {
          "output_type": "execute_result",
          "data": {
            "text/plain": [
              "array([[  1., 101.],\n",
              "       [  3., 103.],\n",
              "       [  5., 105.],\n",
              "       [  6., 106.],\n",
              "       [ 11., 111.]])"
            ]
          },
          "metadata": {},
          "execution_count": 82
        }
      ]
    },
    {
      "cell_type": "code",
      "source": [
        "bool_1d_dim3 = np.array([False,True])\n",
        "\n",
        "array_3d[:,:, bool_1d_dim3]"
      ],
      "metadata": {
        "colab": {
          "base_uri": "https://localhost:8080/"
        },
        "id": "szdwWKeM0gcs",
        "outputId": "c6bbbddd-47bb-4523-ae4c-84e85ed270fa"
      },
      "execution_count": 84,
      "outputs": [
        {
          "output_type": "execute_result",
          "data": {
            "text/plain": [
              "array([[[100.],\n",
              "        [101.],\n",
              "        [102.]],\n",
              "\n",
              "       [[103.],\n",
              "        [104.],\n",
              "        [105.]],\n",
              "\n",
              "       [[106.],\n",
              "        [107.],\n",
              "        [108.]],\n",
              "\n",
              "       [[109.],\n",
              "        [110.],\n",
              "        [111.]]])"
            ]
          },
          "metadata": {},
          "execution_count": 84
        }
      ]
    },
    {
      "cell_type": "code",
      "source": [
        ""
      ],
      "metadata": {
        "id": "YiBcXtMszQ_7"
      },
      "execution_count": null,
      "outputs": []
    },
    {
      "cell_type": "code",
      "source": [
        ""
      ],
      "metadata": {
        "id": "o-k5-llCzPqU"
      },
      "execution_count": null,
      "outputs": []
    },
    {
      "cell_type": "code",
      "source": [
        ""
      ],
      "metadata": {
        "id": "wxnIYruMzFxz"
      },
      "execution_count": null,
      "outputs": []
    }
  ]
}