{
  "nbformat": 4,
  "nbformat_minor": 0,
  "metadata": {
    "colab": {
      "name": "Differentiantion.ipynb",
      "provenance": [],
      "collapsed_sections": [],
      "authorship_tag": "ABX9TyNlVM6ishntK7dBIEbHUikt",
      "include_colab_link": true
    },
    "kernelspec": {
      "name": "python3",
      "display_name": "Python 3"
    },
    "language_info": {
      "name": "python"
    }
  },
  "cells": [
    {
      "cell_type": "markdown",
      "metadata": {
        "id": "view-in-github",
        "colab_type": "text"
      },
      "source": [
        "<a href=\"https://colab.research.google.com/github/Reptilefury/coursera-machine-learning/blob/main/Differentiantion.ipynb\" target=\"_parent\"><img src=\"https://colab.research.google.com/assets/colab-badge.svg\" alt=\"Open In Colab\"/></a>"
      ]
    },
    {
      "cell_type": "code",
      "source": [
        "import os\n",
        "import torch\n",
        "from torch import nn\n",
        "from torch.utils.data import  DataLoader\n",
        "from torchvision import datasets\n",
        "from torchvision.transforms import ToTensor, Lambda\n",
        "import matplotlib.pyplot as plt "
      ],
      "metadata": {
        "id": "NhCadsElz3UP"
      },
      "execution_count": 10,
      "outputs": []
    },
    {
      "cell_type": "code",
      "source": [
        "device = 'cuda' if torch.cuda.is_available() else 'cpu'"
      ],
      "metadata": {
        "id": "jpTBY2M10sJ4"
      },
      "execution_count": 12,
      "outputs": []
    },
    {
      "cell_type": "code",
      "source": [
        "#Load the dataset\n",
        "train_data = datasets.FashionMNIST(\n",
        "    root = \"data\",\n",
        "    download = \"True\",\n",
        "    train = True,\n",
        "    transform = ToTensor(),\n",
        "    target_transform=Lambda(lambda y: torch.zeros(10,dtype=torch.float).scatter_(0,torch.tensor(y),value=1))\n",
        ")"
      ],
      "metadata": {
        "id": "Nfi3BiQL01pi"
      },
      "execution_count": 30,
      "outputs": []
    },
    {
      "cell_type": "code",
      "source": [
        "test_data = datasets.FashionMNIST(\n",
        "    root = \"data\",\n",
        "    download= True,\n",
        "    train = False,\n",
        "    transform = ToTensor(),\n",
        "    target_transform = Lambda(lambda y: torch.zeros(10,dtype=torch.float).scatter_(0, torch.tensor(y), value=1 ))\n",
        ")"
      ],
      "metadata": {
        "id": "1RmcFn0_1eF1"
      },
      "execution_count": 31,
      "outputs": []
    },
    {
      "cell_type": "code",
      "source": [
        "class_names = [\"T-Shirt\", \"Trouser\",\"Pullover\",\"Dress\", \"Coat\", \"Sandal\",\"Shirt\",\"Sneaker\",\"Bag\",\"Ankle Boot\",]"
      ],
      "metadata": {
        "id": "kdS7n3SQ465B"
      },
      "execution_count": 42,
      "outputs": []
    },
    {
      "cell_type": "code",
      "source": [
        "labels_map = {\n",
        "    0: \"T-Shirt\",\n",
        "    1: \"Trouser\",\n",
        "    2: \"Pullover\",\n",
        "    3: \"Dress\",\n",
        "    4: \"Coat\",\n",
        "    5: \"Sandal\",\n",
        "    6: \"Shirt\",\n",
        "    7: \"Sneaker\",\n",
        "    8: \"Bag\",\n",
        "    9: \"Ankle Boot\",\n",
        "}"
      ],
      "metadata": {
        "id": "Zi2T3Nqu5lSB"
      },
      "execution_count": 49,
      "outputs": []
    },
    {
      "cell_type": "code",
      "source": [
        "#Visualizing the dataset\n",
        "figure = plt.figure(figsize=(8,8))\n",
        "cols,rows = 3,3\n",
        "for i in range(1, cols * rows + 1):\n",
        "  sample_idx = torch.randint(len(train_data), size=(1,)).item()\n",
        "  images, labels = train_data[sample_idx]\n",
        "  figure.add_subplot(rows, cols, i)\n",
        "  plt.axis('off')\n",
        "  plt.imshow(image.squeeze(),cmap='gray')\n"
      ],
      "metadata": {
        "colab": {
          "base_uri": "https://localhost:8080/",
          "height": 466
        },
        "id": "iF_iNx3C15Tc",
        "outputId": "1cfc66e3-29e2-4067-c3ce-900f2724eb32"
      },
      "execution_count": 61,
      "outputs": [
        {
          "output_type": "display_data",
          "data": {
            "text/plain": [
              "<Figure size 576x576 with 9 Axes>"
            ],
            "image/png": "[encoded data removed]"
          },
          "metadata": {
            "needs_background": "light"
          }
        }
      ]
    },
    {
      "cell_type": "code",
      "source": [
        "#Build the network by defining a class which inherits/subclasses the torch.nn Module\n",
        "class NeuralNetwork(nn.Module):\n",
        "  def __init__(self):\n",
        "    super(NeuralNetwork,self).__init__()\n",
        "    self.flatten = nn.Flatten()\n",
        "    self.relu_layers_stack = nn.Sequential(\n",
        "        nn.Linear(28 * 28 , 512),\n",
        "        nn.ReLU(),\n",
        "        nn.Linear(512,512),\n",
        "        nn.ReLU(),\n",
        "        nn.Linear(512,10)\n",
        "    )\n",
        "  def forward(self,x):\n",
        "    x = self.flatten(x)\n",
        "    logits = self.relu_layers_stack(x)\n",
        "    return logits"
      ],
      "metadata": {
        "id": "sh-1Iefx6yiy"
      },
      "execution_count": 66,
      "outputs": []
    },
    {
      "cell_type": "code",
      "source": [
        "#we create an instance of our model and pass it to the GPU \n",
        "model = NeuralNetwork().to(device)"
      ],
      "metadata": {
        "id": "feXcdt2V8CK9"
      },
      "execution_count": 68,
      "outputs": []
    },
    {
      "cell_type": "code",
      "source": [
        "x = torch.rand(1, 28,28 , device= device) #We create a random tensor i.e tensor of random values \n",
        "logits = model(x)\n",
        "pred_prob = torch.softmax(logits,dim=1)\n",
        "y_prob = pred_prob.argmax(1) #maximumlikelihood "
      ],
      "metadata": {
        "id": "zgstVsff8mN2"
      },
      "execution_count": 73,
      "outputs": []
    },
    {
      "cell_type": "markdown",
      "source": [
        "**Backpropagation**\n",
        "When training neural networks the most frequently used algorithm is Backpropagation (gradient descent to be specific). This algorithm adjusts the model's parameters(weights) based of the gradient of the loss function with respect to the specific weight parameter. The loss function calculates the difference between the desired output or target value and the model's predicted output. The main goal of the backpropagation algorithm is to get the loss function value closer to zero as possible. The algorithm is called backpropagation because it traverses backwards through the network to adjust the weight parameters so as to minimise the loss function. This is the training or so called learning of our model. The process of forward and backward pass to reduces the loss closer to 0  is called backpropagation."
      ],
      "metadata": {
        "id": "lgO_8Ve8-Jxb"
      }
    },
    {
      "cell_type": "code",
      "source": [
        "#We create a tensor of rank 1  which has 5 elements and values of one \n",
        "x = torch.ones(5)\n",
        "y = torch.zeros(3)\n",
        "#We randomly initialize our weights(random values) with a rank 5 and 3 elements \n",
        "w = torch.randn(5,3,requires_grad=True)\n",
        "#Same goes for bias except that it has a rank of 5 with one value in each tensor this value will be applied to our linear function\n",
        "b = torch.randn(3,requires_grad=True) #Requires_grad tells pytorch  that gradient descent should be performed on this parameter\n",
        "z = torch.matmul(x,w) + b  #We do the matrix multiplication of our weights and the inputs then add a bias\n",
        "#We then define a loss function \n",
        "loss = torch.nn.functional.binary_cross_entropy_with_logits(z,y) #We define a loss function we pass in the predictions and the target"
      ],
      "metadata": {
        "id": "D7W5uLM87k0j"
      },
      "execution_count": 101,
      "outputs": []
    },
    {
      "cell_type": "markdown",
      "source": [
        "In the single layer network w and b are the model's parameters that we need to optimize thus we compute the gradient of the loss with respect to these parameters.Thus we use the requires_grad property. A function that we can apply to tensors to construct a computational graph is infact an object of class function.This object knows how to compute the function in the foward direction and also its derivative during the backpropagation step. A reference to backward propagation function is stored in grad_fn property of a tensor"
      ],
      "metadata": {
        "id": "OBInpF69KaG8"
      }
    },
    {
      "cell_type": "code",
      "source": [
        "z.grad_fn"
      ],
      "metadata": {
        "colab": {
          "base_uri": "https://localhost:8080/"
        },
        "id": "qe7IFIizKCtP",
        "outputId": "ad012d54-768e-484d-a222-c525e92cce43"
      },
      "execution_count": 102,
      "outputs": [
        {
          "output_type": "execute_result",
          "data": {
            "text/plain": [
              "<AddBackward0 at 0x7f58bc7a3a90>"
            ]
          },
          "metadata": {},
          "execution_count": 102
        }
      ]
    },
    {
      "cell_type": "code",
      "source": [
        "loss.grad_fn"
      ],
      "metadata": {
        "colab": {
          "base_uri": "https://localhost:8080/"
        },
        "id": "DUZ6OLkUNdYT",
        "outputId": "44959ae4-349b-44f5-d4b5-7a6a0e3e81af"
      },
      "execution_count": 103,
      "outputs": [
        {
          "output_type": "execute_result",
          "data": {
            "text/plain": [
              "<BinaryCrossEntropyWithLogitsBackward0 at 0x7f58bbba7850>"
            ]
          },
          "metadata": {},
          "execution_count": 103
        }
      ]
    },
    {
      "cell_type": "markdown",
      "source": [
        "In order to optimize the parameters in our neural network we need to calculate the derivative of the loss with respect to specific parameters i.e dloss/w and dloss/b"
      ],
      "metadata": {
        "id": "JruA4E6HN6XL"
      }
    },
    {
      "cell_type": "code",
      "source": [
        "#To compute the derivative we call the .backward() method on the loss \n",
        "loss.backward()"
      ],
      "metadata": {
        "id": "OEyTHatFNgAx"
      },
      "execution_count": 104,
      "outputs": []
    },
    {
      "cell_type": "code",
      "source": [
        "w.grad"
      ],
      "metadata": {
        "colab": {
          "base_uri": "https://localhost:8080/"
        },
        "id": "kqZ81sALOnva",
        "outputId": "f6a5c9af-9afc-4eb8-b792-1456e5a10e64"
      },
      "execution_count": 105,
      "outputs": [
        {
          "output_type": "execute_result",
          "data": {
            "text/plain": [
              "tensor([[0.2816, 0.0981, 0.0138],\n",
              "        [0.2816, 0.0981, 0.0138],\n",
              "        [0.2816, 0.0981, 0.0138],\n",
              "        [0.2816, 0.0981, 0.0138],\n",
              "        [0.2816, 0.0981, 0.0138]])"
            ]
          },
          "metadata": {},
          "execution_count": 105
        }
      ]
    },
    {
      "cell_type": "code",
      "source": [
        "b.grad"
      ],
      "metadata": {
        "colab": {
          "base_uri": "https://localhost:8080/"
        },
        "id": "ZVWBUg9-OpWO",
        "outputId": "ebb3d8c2-70f6-40cc-e0a0-57fdce01e09c"
      },
      "execution_count": 107,
      "outputs": [
        {
          "output_type": "execute_result",
          "data": {
            "text/plain": [
              "tensor([0.2816, 0.0981, 0.0138])"
            ]
          },
          "metadata": {},
          "execution_count": 107
        }
      ]
    },
    {
      "cell_type": "code",
      "source": [
        "#We can only call the grad method on tensors/leaf nodes that have their requires_grad property set to true \n",
        "#require_grad  means that the parameter is learnable \n",
        "#We can only calculate gradients using backward once on a given graph  this is because of performance reasons \n",
        "#If we need to do several backward calls on the same graph  we need to pass Retain_graph = True to the backward call "
      ],
      "metadata": {
        "id": "E8fZgi5uOtor"
      },
      "execution_count": null,
      "outputs": []
    },
    {
      "cell_type": "markdown",
      "source": [
        "By default all tensors with requires_grad = True are tracking the computational history and support gradient computation. However there some cases where we do not need to do this , this is the case where we have trained the model and we want to pass in some input data i.e this is when we do a forward pass or forward computations through the network. We can stop tracking computations by using torch.no_grad() method."
      ],
      "metadata": {
        "id": "LmYh0BkiQ7iS"
      }
    },
    {
      "cell_type": "code",
      "source": [
        "#Disabling Tracking method"
      ],
      "metadata": {
        "id": "jnAVKJHKOs5i"
      },
      "execution_count": null,
      "outputs": []
    },
    {
      "cell_type": "code",
      "source": [
        ""
      ],
      "metadata": {
        "id": "rGVVO9QZJ8dV"
      },
      "execution_count": null,
      "outputs": []
    },
    {
      "cell_type": "code",
      "source": [
        ""
      ],
      "metadata": {
        "id": "ZG9czIhkI9pJ"
      },
      "execution_count": null,
      "outputs": []
    },
    {
      "cell_type": "code",
      "source": [
        ""
      ],
      "metadata": {
        "id": "Fy_BU4Q9Ix3G"
      },
      "execution_count": null,
      "outputs": []
    },
    {
      "cell_type": "code",
      "source": [
        ""
      ],
      "metadata": {
        "id": "www06U36IsiC"
      },
      "execution_count": null,
      "outputs": []
    },
    {
      "cell_type": "code",
      "source": [
        "w"
      ],
      "metadata": {
        "colab": {
          "base_uri": "https://localhost:8080/"
        },
        "id": "d18rc0X4IFpP",
        "outputId": "b44c5764-da2d-4367-95d6-cbb17d511119"
      },
      "execution_count": 96,
      "outputs": [
        {
          "output_type": "execute_result",
          "data": {
            "text/plain": [
              "tensor([[-0.9916, -0.4031,  0.4560],\n",
              "        [ 0.0611, -0.5110,  0.0759],\n",
              "        [ 0.1547,  0.0412,  1.8814],\n",
              "        [-0.1432,  0.3496, -1.4306],\n",
              "        [ 0.1415, -0.8065, -0.7579]], requires_grad=True)"
            ]
          },
          "metadata": {},
          "execution_count": 96
        }
      ]
    },
    {
      "cell_type": "code",
      "source": [
        ""
      ],
      "metadata": {
        "id": "_hg5STfWIO4z"
      },
      "execution_count": null,
      "outputs": []
    },
    {
      "cell_type": "code",
      "source": [
        ""
      ],
      "metadata": {
        "id": "Sonne21GH_qM"
      },
      "execution_count": null,
      "outputs": []
    },
    {
      "cell_type": "code",
      "source": [
        ""
      ],
      "metadata": {
        "id": "FFj8DyD4HyKH"
      },
      "execution_count": null,
      "outputs": []
    },
    {
      "cell_type": "code",
      "source": [
        ""
      ],
      "metadata": {
        "id": "_nA9tnxmHtPM"
      },
      "execution_count": null,
      "outputs": []
    },
    {
      "cell_type": "code",
      "source": [
        ""
      ],
      "metadata": {
        "id": "r49JwKFWG0fO"
      },
      "execution_count": null,
      "outputs": []
    },
    {
      "cell_type": "code",
      "source": [
        "w"
      ],
      "metadata": {
        "colab": {
          "base_uri": "https://localhost:8080/"
        },
        "id": "CURmDW6jGfqI",
        "outputId": "eb276c07-064b-4773-8361-9b74badc622d"
      },
      "execution_count": 90,
      "outputs": [
        {
          "output_type": "execute_result",
          "data": {
            "text/plain": [
              "tensor([[ 1.4347,  0.3605,  0.7567],\n",
              "        [ 0.2371,  0.3152, -0.0499],\n",
              "        [-1.1595, -0.4131, -0.2094],\n",
              "        [-1.2397, -1.2785,  0.9118],\n",
              "        [ 1.5666, -0.4468, -1.2329]], requires_grad=True)"
            ]
          },
          "metadata": {},
          "execution_count": 90
        }
      ]
    },
    {
      "cell_type": "code",
      "source": [
        ""
      ],
      "metadata": {
        "id": "2IrFLvyIGvCx"
      },
      "execution_count": null,
      "outputs": []
    },
    {
      "cell_type": "code",
      "source": [
        ""
      ],
      "metadata": {
        "id": "yAWFo6JdGd74"
      },
      "execution_count": null,
      "outputs": []
    },
    {
      "cell_type": "code",
      "source": [
        ""
      ],
      "metadata": {
        "id": "WPdQgZ6KGa__"
      },
      "execution_count": null,
      "outputs": []
    },
    {
      "cell_type": "code",
      "source": [
        ""
      ],
      "metadata": {
        "id": "lXWwVZMKGI91"
      },
      "execution_count": null,
      "outputs": []
    },
    {
      "cell_type": "code",
      "source": [
        ""
      ],
      "metadata": {
        "id": "xY4B1LgaGB_7"
      },
      "execution_count": null,
      "outputs": []
    },
    {
      "cell_type": "code",
      "source": [
        ""
      ],
      "metadata": {
        "id": "Sj1zWBtUE4HS"
      },
      "execution_count": null,
      "outputs": []
    },
    {
      "cell_type": "code",
      "source": [
        ""
      ],
      "metadata": {
        "id": "7wZvIQJsEecU"
      },
      "execution_count": null,
      "outputs": []
    },
    {
      "cell_type": "code",
      "source": [
        ""
      ],
      "metadata": {
        "id": "iePu-BNUEG0j"
      },
      "execution_count": null,
      "outputs": []
    },
    {
      "cell_type": "code",
      "source": [
        ""
      ],
      "metadata": {
        "id": "THesCD_xCZjH"
      },
      "execution_count": null,
      "outputs": []
    },
    {
      "cell_type": "code",
      "source": [
        ""
      ],
      "metadata": {
        "id": "JGxrMxyVCCRK"
      },
      "execution_count": null,
      "outputs": []
    },
    {
      "cell_type": "code",
      "source": [
        ""
      ],
      "metadata": {
        "id": "9prbvj5BB2b1"
      },
      "execution_count": null,
      "outputs": []
    },
    {
      "cell_type": "code",
      "source": [
        ""
      ],
      "metadata": {
        "id": "Br717N-pBqCf"
      },
      "execution_count": null,
      "outputs": []
    },
    {
      "cell_type": "code",
      "source": [
        ""
      ],
      "metadata": {
        "id": "seU_I0Ma00Ms"
      },
      "execution_count": null,
      "outputs": []
    },
    {
      "cell_type": "code",
      "source": [
        ""
      ],
      "metadata": {
        "id": "RLWUxS1az61I"
      },
      "execution_count": null,
      "outputs": []
    }
  ]
}