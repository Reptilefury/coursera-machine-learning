{
  "nbformat": 4,
  "nbformat_minor": 0,
  "metadata": {
    "colab": {
      "name": "Automatic Differentiation With Pytorch.ipynb",
      "provenance": [],
      "collapsed_sections": [],
      "authorship_tag": "ABX9TyNe+6TGHEkHjQYXobt8bFvK",
      "include_colab_link": true
    },
    "kernelspec": {
      "name": "python3",
      "display_name": "Python 3"
    },
    "language_info": {
      "name": "python"
    }
  },
  "cells": [
    {
      "cell_type": "markdown",
      "metadata": {
        "id": "view-in-github",
        "colab_type": "text"
      },
      "source": [
        "<a href=\"https://colab.research.google.com/github/Reptilefury/coursera-machine-learning/blob/main/Automatic_Differentiation_With_Pytorch.ipynb\" target=\"_parent\"><img src=\"https://colab.research.google.com/assets/colab-badge.svg\" alt=\"Open In Colab\"/></a>"
      ]
    },
    {
      "cell_type": "code",
      "source": [
        "import torch\n",
        "from torch import nn\n",
        "from torchvision import datasets\n",
        "from torch.utils.data import Dataset\n",
        "from torchvision.transforms import Lambda, ToTensor\n",
        "import matplotlib.pyplot as plt"
      ],
      "metadata": {
        "id": "dodC0E0aHG00"
      },
      "execution_count": 11,
      "outputs": []
    },
    {
      "cell_type": "code",
      "source": [
        "device = 'cuda' if torch.cuda.is_available() else 'cpu'"
      ],
      "metadata": {
        "id": "mPRTJ9-XDCTP"
      },
      "execution_count": 12,
      "outputs": []
    },
    {
      "cell_type": "code",
      "source": [
        "#Load the training data \n",
        "train_dataset = datasets.FashionMNIST(\n",
        "    root =\"data\",\n",
        "    train= True,\n",
        "    download = True,\n",
        "    transform = ToTensor(),\n",
        "    target_transform=  Lambda(lambda y:torch.zeros(10,dtype=torch.float).scatter_(0, torch.tensor(y),value=1))\n",
        "    )"
      ],
      "metadata": {
        "id": "EIObObMLcjug"
      },
      "execution_count": null,
      "outputs": []
    },
    {
      "cell_type": "code",
      "source": [
        "#Load the testing data and set train attribute to false \n",
        "test_data =  datasets.FashionMNIST(\n",
        "    root = \"data\",\n",
        "    download = True,\n",
        "    train = False,\n",
        "    transform = ToTensor(),\n",
        "    target_transform= Lambda(lambda y:torch.zeros(10, dtype=torch.float).scatter_(0,torch.tensor(y),value=1))\n",
        "    )"
      ],
      "metadata": {
        "id": "i_5rZI4DdWxI"
      },
      "execution_count": 44,
      "outputs": []
    },
    {
      "cell_type": "code",
      "source": [
        "labels_map = {\n",
        "    0: \"T-Shirt\",\n",
        "    1: \"Trouser\",\n",
        "    2: \"Pullover\",\n",
        "    3: \"Dress\",\n",
        "    4: \"Coat\",\n",
        "    5: \"Sandal\",\n",
        "    6: \"Shirt\",\n",
        "    7: \"Sneaker\",\n",
        "    8: \"Bag\",\n",
        "    9: \"Ankle Boot\",\n",
        "}"
      ],
      "metadata": {
        "id": "t9Nn1fPtgH_k"
      },
      "execution_count": 26,
      "outputs": []
    },
    {
      "cell_type": "code",
      "source": [
        "#We visualise the data first before passing it to our computational graph \n",
        "figure = plt.figure(figsize = (10,10))\n",
        "cols,rows = 3,3\n",
        "for i in range(1,rows * cols + 1):\n",
        "    simple_idx =  torch.randint(len(train_dataset), size=(1,)).item()\n",
        "    images, labels = train_dataset[simple_idx]\n",
        "    figure.add_subplot(rows,cols, i)\n",
        "    plt.imshow(images.squeeze(), cmap ='gray')\n",
        "#    plt.title(labels_map[labels[i]])"
      ],
      "metadata": {
        "colab": {
          "base_uri": "https://localhost:8080/",
          "height": 593
        },
        "id": "0uXY7VfperM7",
        "outputId": "a552aeab-dabc-4f16-d33c-5ef5286b19aa"
      },
      "execution_count": 29,
      "outputs": [
        {
          "output_type": "display_data",
          "data": {
            "text/plain": [
              "<Figure size 720x720 with 9 Axes>"
            ],
            "image/png": "[encoded data removed]"
          },
          "metadata": {
            "needs_background": "light"
          }
        }
      ]
    },
    {
      "cell_type": "code",
      "source": [
        "#We now build our computational graph \n",
        "class NeuralNetwork(nn.Module):\n",
        "  def __init__(self):\n",
        "    super(NeuralNetwork,self).__init__()\n",
        "    self.flatten = nn.Flatten()\n",
        "    self.layers_relu_stack = nn.Sequential(\n",
        "        nn.Linear(28 * 28,512),\n",
        "        nn.ReLU(),\n",
        "        nn.Linear(512,512),\n",
        "        nn.ReLU(),\n",
        "        nn.Linear(512,10)\n",
        "    )\n",
        "  def forward(self,x):\n",
        "    x = self.flatten(x)\n",
        "    logits = self.layers_relu_stack(x)\n",
        "    return logits"
      ],
      "metadata": {
        "id": "pAVtSvaMgRLN"
      },
      "execution_count": 38,
      "outputs": []
    },
    {
      "cell_type": "code",
      "source": [
        "#Create an instance of the model and pass it to the GPU \n",
        "model = NeuralNetwork().to(device)"
      ],
      "metadata": {
        "id": "kQ0IRRdGhm3Q"
      },
      "execution_count": 39,
      "outputs": []
    },
    {
      "cell_type": "code",
      "source": [
        "#After passing our model to the GPU We can now pass data through the computation graph and check how well the model computes \n",
        "x = torch.randn(1,28,28, device = device) #Input data to our model \n",
        "#Make the prediction \n",
        "logits = model(x) #Model makes a prediction \n",
        "pred_prob = nn.Softmax(dim = 1)(logits) #Get the probality distribution of our model\n",
        "y_pred = pred_prob.argmax(1) #Get the index of the maximum argument from our probability distribution that class is our predicted class"
      ],
      "metadata": {
        "id": "BLUP_VP1h-3u"
      },
      "execution_count": 47,
      "outputs": []
    },
    {
      "cell_type": "markdown",
      "source": [
        "Automatic Differentiation with Pytorch:\n",
        "Let's build a single layer neural network and compute the loss\n"
      ],
      "metadata": {
        "id": "FfgjoWIDlGW0"
      }
    },
    {
      "cell_type": "code",
      "source": [
        "#Inputs : Learned features\n",
        "x = torch.ones(5)\n",
        "#Targets: Expected outputs which will be compared to the ground truth\n",
        "y = torch.zeros(3)\n",
        "#Weights: Connection between units of different layers from both previous/preceeding\n",
        "w = torch.randn(5,3, requires_grad=True)\n",
        "#The bias term : is used to delay the activation of a node: Shift the activation curve to the left or right \n",
        "b = torch.randn(3,requires_grad=True)\n",
        "#Linear function: Calculate the dot product I.e: The multiplication of the weights by the inputs x  and add a bias term to shift the activation \n",
        "z = torch.matmul(x,w) + b\n",
        "#Calculate the loss \n",
        "loss = torch.nn.functional.binary_cross_entropy_with_logits(z,y)"
      ],
      "metadata": {
        "id": "6E9G1BhDjWCl"
      },
      "execution_count": 60,
      "outputs": []
    }
  ]
}